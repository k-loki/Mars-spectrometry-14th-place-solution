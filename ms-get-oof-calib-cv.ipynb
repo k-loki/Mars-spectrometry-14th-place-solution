{
 "cells": [
  {
   "cell_type": "markdown",
   "id": "0769aca1",
   "metadata": {
    "papermill": {
     "duration": 0.057717,
     "end_time": "2022-04-07T18:38:23.407060",
     "exception": false,
     "start_time": "2022-04-07T18:38:23.349343",
     "status": "completed"
    },
    "tags": []
   },
   "source": [
    "#  import stuff"
   ]
  },
  {
   "cell_type": "code",
   "execution_count": 1,
   "id": "eb5d74d1",
   "metadata": {
    "execution": {
     "iopub.execute_input": "2022-04-07T18:38:23.527433Z",
     "iopub.status.busy": "2022-04-07T18:38:23.526029Z",
     "iopub.status.idle": "2022-04-07T18:38:32.853378Z",
     "shell.execute_reply": "2022-04-07T18:38:32.852051Z",
     "shell.execute_reply.started": "2022-04-06T15:50:59.792364Z"
    },
    "papermill": {
     "duration": 9.391214,
     "end_time": "2022-04-07T18:38:32.853619",
     "exception": false,
     "start_time": "2022-04-07T18:38:23.462405",
     "status": "completed"
    },
    "tags": []
   },
   "outputs": [
    {
     "data": {
      "text/html": [
       "<style type='text/css'>\n",
       ".datatable table.frame { margin-bottom: 0; }\n",
       ".datatable table.frame thead { border-bottom: none; }\n",
       ".datatable table.frame tr.coltypes td {  color: #FFFFFF;  line-height: 6px;  padding: 0 0.5em;}\n",
       ".datatable .bool    { background: #DDDD99; }\n",
       ".datatable .object  { background: #565656; }\n",
       ".datatable .int     { background: #5D9E5D; }\n",
       ".datatable .float   { background: #4040CC; }\n",
       ".datatable .str     { background: #CC4040; }\n",
       ".datatable .time    { background: #40CC40; }\n",
       ".datatable .row_index {  background: var(--jp-border-color3);  border-right: 1px solid var(--jp-border-color0);  color: var(--jp-ui-font-color3);  font-size: 9px;}\n",
       ".datatable .frame tbody td { text-align: left; }\n",
       ".datatable .frame tr.coltypes .row_index {  background: var(--jp-border-color0);}\n",
       ".datatable th:nth-child(2) { padding-left: 12px; }\n",
       ".datatable .hellipsis {  color: var(--jp-cell-editor-border-color);}\n",
       ".datatable .vellipsis {  background: var(--jp-layout-color0);  color: var(--jp-cell-editor-border-color);}\n",
       ".datatable .na {  color: var(--jp-cell-editor-border-color);  font-size: 80%;}\n",
       ".datatable .sp {  opacity: 0.25;}\n",
       ".datatable .footer { font-size: 9px; }\n",
       ".datatable .frame_dimensions {  background: var(--jp-border-color3);  border-top: 1px solid var(--jp-border-color0);  color: var(--jp-ui-font-color3);  display: inline-block;  opacity: 0.6;  padding: 1px 10px 1px 5px;}\n",
       "</style>\n"
      ],
      "text/plain": [
       "<IPython.core.display.HTML object>"
      ]
     },
     "metadata": {},
     "output_type": "display_data"
    }
   ],
   "source": [
    "import pandas as pd\n",
    "import numpy as np\n",
    "import matplotlib.pyplot as plt\n",
    "import seaborn as sns\n",
    "import itertools\n",
    "from pathlib import Path\n",
    "from pprint import pprint\n",
    "from tqdm import tqdm\n",
    "# import featuretools as ft\n",
    "from joblib import dump, load\n",
    "from imblearn.combine import SMOTETomek\n",
    "\n",
    "from sklearn.preprocessing import minmax_scale, StandardScaler\n",
    "from sklearn.linear_model import LogisticRegression\n",
    "from sklearn.metrics import make_scorer, log_loss\n",
    "from sklearn.model_selection import StratifiedKFold, cross_val_score, train_test_split\n",
    "from sklearn.preprocessing import LabelEncoder, MinMaxScaler, StandardScaler\n",
    "from sklearn.multioutput import MultiOutputClassifier\n",
    "from  sklearn.decomposition import PCA\n",
    "from sklearn.manifold import TSNE\n",
    "from sklearn.svm import SVC\n",
    "from sklearn.pipeline import make_pipeline,Pipeline\n",
    "from sklearn.discriminant_analysis import LinearDiscriminantAnalysis, QuadraticDiscriminantAnalysis\n",
    "from sklearn.calibration import CalibratedClassifierCV\n",
    "\n",
    "from lightgbm import LGBMClassifier\n",
    "from xgboost import XGBClassifier\n",
    "from catboost import CatBoostClassifier\n",
    "\n",
    "from tensorflow.keras import layers,models,metrics,callbacks,losses\n",
    "from tensorflow.keras.activations import relu,sigmoid,swish,tanh,selu\n",
    "from tensorflow.keras.optimizers import SGD,Adam,RMSprop,Adadelta,Nadam\n",
    "from tensorflow.keras.models import Model, Sequential,load_model\n",
    "import tensorflow as tf\n",
    "\n",
    "RANDOM_SEED = 777\n",
    "np.random.seed(RANDOM_SEED)\n",
    "import warnings\n",
    "warnings.filterwarnings(\n",
    "    action='ignore',\n",
    ")"
   ]
  },
  {
   "cell_type": "code",
   "execution_count": 2,
   "id": "50bf17df",
   "metadata": {
    "execution": {
     "iopub.execute_input": "2022-04-07T18:38:32.974833Z",
     "iopub.status.busy": "2022-04-07T18:38:32.974130Z",
     "iopub.status.idle": "2022-04-07T18:38:33.052842Z",
     "shell.execute_reply": "2022-04-07T18:38:33.052208Z",
     "shell.execute_reply.started": "2022-04-06T15:51:10.034356Z"
    },
    "papermill": {
     "duration": 0.142627,
     "end_time": "2022-04-07T18:38:33.053012",
     "exception": false,
     "start_time": "2022-04-07T18:38:32.910385",
     "status": "completed"
    },
    "tags": []
   },
   "outputs": [],
   "source": [
    "metadata = pd.read_csv('../input/is-this-crazy/metadata.csv')\n",
    "sup_metadata = pd.read_csv('../input/is-this-crazy/supplemental_metadata.csv')\n",
    "train_labels = pd.read_csv('../input/is-this-crazy/train_labels.csv', index_col=\"sample_id\")\n",
    "val_labels = pd.read_csv('../input/is-this-crazy/val_labels.csv',index_col='sample_id')\n",
    "# targets = pd.read_csv('targets.csv',index_col='sample_id')\n",
    "submission_format = pd.read_csv('../input/is-this-crazy/submission_format.csv')"
   ]
  },
  {
   "cell_type": "code",
   "execution_count": 3,
   "id": "8c8c4509",
   "metadata": {
    "execution": {
     "iopub.execute_input": "2022-04-07T18:38:33.170092Z",
     "iopub.status.busy": "2022-04-07T18:38:33.169436Z",
     "iopub.status.idle": "2022-04-07T18:38:33.174528Z",
     "shell.execute_reply": "2022-04-07T18:38:33.175169Z",
     "shell.execute_reply.started": "2022-04-06T15:51:11.333774Z"
    },
    "papermill": {
     "duration": 0.064535,
     "end_time": "2022-04-07T18:38:33.175344",
     "exception": false,
     "start_time": "2022-04-07T18:38:33.110809",
     "status": "completed"
    },
    "tags": []
   },
   "outputs": [],
   "source": [
    "targets = pd.concat([train_labels,val_labels],axis=0)"
   ]
  },
  {
   "cell_type": "markdown",
   "id": "2d34432b",
   "metadata": {
    "papermill": {
     "duration": 0.055697,
     "end_time": "2022-04-07T18:38:33.286774",
     "exception": false,
     "start_time": "2022-04-07T18:38:33.231077",
     "status": "completed"
    },
    "tags": []
   },
   "source": [
    "# Load data"
   ]
  },
  {
   "cell_type": "code",
   "execution_count": 4,
   "id": "05bd72f4",
   "metadata": {
    "execution": {
     "iopub.execute_input": "2022-04-07T18:38:33.402984Z",
     "iopub.status.busy": "2022-04-07T18:38:33.401875Z",
     "iopub.status.idle": "2022-04-07T18:38:34.959498Z",
     "shell.execute_reply": "2022-04-07T18:38:34.958932Z",
     "shell.execute_reply.started": "2022-04-06T15:51:13.274138Z"
    },
    "papermill": {
     "duration": 1.616951,
     "end_time": "2022-04-07T18:38:34.959669",
     "exception": false,
     "start_time": "2022-04-07T18:38:33.342718",
     "status": "completed"
    },
    "tags": []
   },
   "outputs": [
    {
     "name": "stdout",
     "output_type": "stream",
     "text": [
      "CPU times: user 1.1 s, sys: 117 ms, total: 1.21 s\n",
      "Wall time: 1.55 s\n"
     ]
    }
   ],
   "source": [
    "%%time\n",
    "test_100 = pd.read_csv('../input/ms-gen-train-test-data/test_100.csv',index_col=0,header=[0,1])\n",
    "train_100 = pd.read_csv('../input/ms-gen-train-test-data/train_100.csv',index_col=0,header=[0,1])\n",
    "val_100 = pd.read_csv('../input/ms-gen-train-test-data/val_100.csv',index_col=0,header=[0,1])\n",
    "\n",
    "val_100.index = metadata[metadata.split == 'val'].sample_id\n",
    "\n",
    "val_100.sort_index(inplace=True,axis=1)\n",
    "test_100.sort_index(inplace=True,axis=1)\n",
    "train_100.sort_index(inplace=True,axis=1)"
   ]
  },
  {
   "cell_type": "code",
   "execution_count": 5,
   "id": "d3e618c6",
   "metadata": {
    "execution": {
     "iopub.execute_input": "2022-04-07T18:38:35.083446Z",
     "iopub.status.busy": "2022-04-07T18:38:35.082756Z",
     "iopub.status.idle": "2022-04-07T18:40:17.597625Z",
     "shell.execute_reply": "2022-04-07T18:40:17.598146Z",
     "shell.execute_reply.started": "2022-04-06T15:51:22.254098Z"
    },
    "papermill": {
     "duration": 102.579331,
     "end_time": "2022-04-07T18:40:17.598327",
     "exception": false,
     "start_time": "2022-04-07T18:38:35.018996",
     "status": "completed"
    },
    "tags": []
   },
   "outputs": [
    {
     "name": "stdout",
     "output_type": "stream",
     "text": [
      "CPU times: user 1min 33s, sys: 2.98 s, total: 1min 36s\n",
      "Wall time: 1min 42s\n"
     ]
    }
   ],
   "source": [
    "%%time\n",
    "train_5 = pd.read_csv('../input/ms-gen-train-test-data/train_5.csv',index_col=0,header=[0,1])\n",
    "val_5 = pd.read_csv('../input/ms-gen-train-test-data/val_5.csv',index_col=0,header=[0,1])\n",
    "test_5 = pd.read_csv('../input/ms-gen-train-test-data/test_5.csv',index_col=0,header=[0,1])\n",
    "\n",
    "test_5.sort_index(inplace=True,axis=1)\n",
    "val_5.sort_index(inplace=True,axis=1)\n",
    "train_5.sort_index(inplace=True,axis=1)"
   ]
  },
  {
   "cell_type": "code",
   "execution_count": 6,
   "id": "7ab088a6",
   "metadata": {
    "execution": {
     "iopub.execute_input": "2022-04-07T18:40:17.719953Z",
     "iopub.status.busy": "2022-04-07T18:40:17.719251Z",
     "iopub.status.idle": "2022-04-07T18:45:23.208189Z",
     "shell.execute_reply": "2022-04-07T18:45:23.208825Z"
    },
    "papermill": {
     "duration": 305.554119,
     "end_time": "2022-04-07T18:45:23.209229",
     "exception": false,
     "start_time": "2022-04-07T18:40:17.655110",
     "status": "completed"
    },
    "tags": []
   },
   "outputs": [
    {
     "name": "stdout",
     "output_type": "stream",
     "text": [
      "CPU times: user 4min 49s, sys: 7.43 s, total: 4min 56s\n",
      "Wall time: 5min 5s\n"
     ]
    }
   ],
   "source": [
    "%%time\n",
    "train_3 = pd.read_csv('../input/ms-gen-train-test-data/train_3.csv',index_col=0,header=[0,1])\n",
    "val_3 = pd.read_csv('../input/ms-gen-train-test-data/val_3.csv',index_col=0,header=[0,1])\n",
    "test_3 = pd.read_csv('../input/ms-gen-train-test-data/test_3.csv',index_col=0,header=[0,1])\n",
    "\n",
    "test_3.sort_index(inplace=True,axis=1)\n",
    "val_3.sort_index(inplace=True,axis=1)\n",
    "train_3.sort_index(inplace=True,axis=1)"
   ]
  },
  {
   "cell_type": "code",
   "execution_count": 7,
   "id": "39d67af5",
   "metadata": {
    "execution": {
     "iopub.execute_input": "2022-04-07T18:45:23.330300Z",
     "iopub.status.busy": "2022-04-07T18:45:23.329451Z",
     "iopub.status.idle": "2022-04-07T18:45:26.528014Z",
     "shell.execute_reply": "2022-04-07T18:45:26.527290Z",
     "shell.execute_reply.started": "2022-04-06T15:53:01.628486Z"
    },
    "papermill": {
     "duration": 3.261254,
     "end_time": "2022-04-07T18:45:26.528169",
     "exception": false,
     "start_time": "2022-04-07T18:45:23.266915",
     "status": "completed"
    },
    "tags": []
   },
   "outputs": [
    {
     "name": "stdout",
     "output_type": "stream",
     "text": [
      "CPU times: user 2.56 s, sys: 51.1 ms, total: 2.61 s\n",
      "Wall time: 3.19 s\n"
     ]
    }
   ],
   "source": [
    "%%time\n",
    "train_50 = pd.read_csv('../input/ms-gen-train-test-data/train_50.csv',index_col=0,header=[0,1])\n",
    "test_50 = pd.read_csv('../input/ms-gen-train-test-data/test_50.csv',index_col=0,header=[0,1])\n",
    "val_50 = pd.read_csv('../input/ms-gen-train-test-data/val_50.csv',index_col=0,header=[0,1])\n",
    "\n",
    "test_50.sort_index(inplace=True,axis=1)\n",
    "train_50.sort_index(inplace=True,axis=1)\n",
    "val_50.sort_index(inplace=True,axis=1)"
   ]
  },
  {
   "cell_type": "code",
   "execution_count": 8,
   "id": "e083a40a",
   "metadata": {
    "execution": {
     "iopub.execute_input": "2022-04-07T18:45:26.648252Z",
     "iopub.status.busy": "2022-04-07T18:45:26.647562Z",
     "iopub.status.idle": "2022-04-07T18:45:27.341435Z",
     "shell.execute_reply": "2022-04-07T18:45:27.342095Z",
     "shell.execute_reply.started": "2022-04-06T15:53:05.389792Z"
    },
    "papermill": {
     "duration": 0.755988,
     "end_time": "2022-04-07T18:45:27.342272",
     "exception": false,
     "start_time": "2022-04-07T18:45:26.586284",
     "status": "completed"
    },
    "tags": []
   },
   "outputs": [
    {
     "data": {
      "text/plain": [
       "(766, 1000)"
      ]
     },
     "execution_count": 8,
     "metadata": {},
     "output_type": "execute_result"
    }
   ],
   "source": [
    "train_200 = pd.read_csv('../input/ms-gen-train-test-data/train_200.csv',index_col=0,header=[0,1])\n",
    "val_200 = pd.read_csv('../input/ms-gen-train-test-data/val_200.csv',index_col=0,header=[0,1])\n",
    "test_200 = pd.read_csv('../input/ms-gen-train-test-data/test_200.csv',index_col=0,header=[0,1])\n",
    "\n",
    "test_200.sort_index(inplace=True,axis=1)\n",
    "val_200.sort_index(inplace=True,axis=1)\n",
    "train_200.sort_index(inplace=True,axis=1)\n",
    "\n",
    "train_200.shape"
   ]
  },
  {
   "cell_type": "code",
   "execution_count": 9,
   "id": "81207996",
   "metadata": {
    "execution": {
     "iopub.execute_input": "2022-04-07T18:45:27.466445Z",
     "iopub.status.busy": "2022-04-07T18:45:27.465812Z",
     "iopub.status.idle": "2022-04-07T18:45:27.784238Z",
     "shell.execute_reply": "2022-04-07T18:45:27.784802Z",
     "shell.execute_reply.started": "2022-04-06T15:53:06.440779Z"
    },
    "papermill": {
     "duration": 0.384453,
     "end_time": "2022-04-07T18:45:27.785002",
     "exception": false,
     "start_time": "2022-04-07T18:45:27.400549",
     "status": "completed"
    },
    "tags": []
   },
   "outputs": [],
   "source": [
    "train_500 = pd.read_csv('../input/ms-gen-train-test-data/train_500.csv',index_col=0,header=[0,1])\n",
    "val_500 = pd.read_csv('../input/ms-gen-train-test-data/val_500.csv',index_col=0,header=[0,1])\n",
    "test_500 = pd.read_csv('../input/ms-gen-train-test-data/test_500.csv',index_col=0,header=[0,1])\n",
    "\n",
    "test_500.sort_index(inplace=True,axis=1)\n",
    "val_500.sort_index(inplace=True,axis=1)\n",
    "train_500.sort_index(inplace=True,axis=1)"
   ]
  },
  {
   "cell_type": "code",
   "execution_count": 10,
   "id": "60688e0f",
   "metadata": {
    "execution": {
     "iopub.execute_input": "2022-04-07T18:45:27.911831Z",
     "iopub.status.busy": "2022-04-07T18:45:27.910873Z",
     "iopub.status.idle": "2022-04-07T18:45:27.914359Z",
     "shell.execute_reply": "2022-04-07T18:45:27.914945Z",
     "shell.execute_reply.started": "2022-04-06T15:53:17.649976Z"
    },
    "papermill": {
     "duration": 0.069551,
     "end_time": "2022-04-07T18:45:27.915129",
     "exception": false,
     "start_time": "2022-04-07T18:45:27.845578",
     "status": "completed"
    },
    "tags": []
   },
   "outputs": [
    {
     "data": {
      "text/plain": [
       "((766, 400), (766, 1000), (766, 2100), (766, 4200), (766, 42000), (766, 70000))"
      ]
     },
     "execution_count": 10,
     "metadata": {},
     "output_type": "execute_result"
    }
   ],
   "source": [
    "train_500.shape, train_200.shape, train_100.shape, train_50.shape, train_5.shape, train_3.shape"
   ]
  },
  {
   "cell_type": "code",
   "execution_count": 11,
   "id": "ab7def80",
   "metadata": {
    "execution": {
     "iopub.execute_input": "2022-04-07T18:45:28.039746Z",
     "iopub.status.busy": "2022-04-07T18:45:28.038586Z",
     "iopub.status.idle": "2022-04-07T18:45:28.629101Z",
     "shell.execute_reply": "2022-04-07T18:45:28.628503Z",
     "shell.execute_reply.started": "2022-04-06T15:53:36.854877Z"
    },
    "papermill": {
     "duration": 0.655701,
     "end_time": "2022-04-07T18:45:28.629251",
     "exception": false,
     "start_time": "2022-04-07T18:45:27.973550",
     "status": "completed"
    },
    "tags": []
   },
   "outputs": [],
   "source": [
    "train_set_3 = pd.concat([train_3,val_3],axis=0)\n",
    "train_set_5 = pd.concat([train_5,val_5],axis=0)\n",
    "train_set_50 = pd.concat([train_50,val_50],axis=0)\n",
    "train_set_100 = pd.concat([train_100,val_100],axis=0)\n",
    "train_set_200 = pd.concat([train_200,val_200],axis=0)\n",
    "train_set_500 = pd.concat([train_500,val_500],axis=0)"
   ]
  },
  {
   "cell_type": "code",
   "execution_count": 12,
   "id": "4df0ece4",
   "metadata": {
    "execution": {
     "iopub.execute_input": "2022-04-07T18:45:28.752844Z",
     "iopub.status.busy": "2022-04-07T18:45:28.752125Z",
     "iopub.status.idle": "2022-04-07T18:45:29.233496Z",
     "shell.execute_reply": "2022-04-07T18:45:29.234056Z",
     "shell.execute_reply.started": "2022-04-06T15:53:38.379556Z"
    },
    "papermill": {
     "duration": 0.54496,
     "end_time": "2022-04-07T18:45:29.234235",
     "exception": false,
     "start_time": "2022-04-07T18:45:28.689275",
     "status": "completed"
    },
    "tags": []
   },
   "outputs": [],
   "source": [
    "test_set_3 = pd.concat([val_3,test_3],axis=0)\n",
    "test_set_5 = pd.concat([val_5,test_5],axis=0)\n",
    "test_set_50 = pd.concat([val_50,test_50],axis=0)\n",
    "test_set_100 = pd.concat([val_100,test_100],axis=0)\n",
    "test_set_200 = pd.concat([val_200,test_200],axis=0)\n",
    "test_set_500 = pd.concat([val_500,test_500],axis=0)"
   ]
  },
  {
   "cell_type": "markdown",
   "id": "8b446069",
   "metadata": {
    "papermill": {
     "duration": 0.05811,
     "end_time": "2022-04-07T18:45:29.350763",
     "exception": false,
     "start_time": "2022-04-07T18:45:29.292653",
     "status": "completed"
    },
    "tags": []
   },
   "source": [
    "# total abundance\n",
    "- this varies coz of min max scaling..."
   ]
  },
  {
   "cell_type": "code",
   "execution_count": 13,
   "id": "504a85bc",
   "metadata": {
    "execution": {
     "iopub.execute_input": "2022-04-07T18:45:29.474757Z",
     "iopub.status.busy": "2022-04-07T18:45:29.474084Z",
     "iopub.status.idle": "2022-04-07T18:45:29.476984Z",
     "shell.execute_reply": "2022-04-07T18:45:29.476483Z",
     "shell.execute_reply.started": "2022-04-06T15:53:51.048843Z"
    },
    "papermill": {
     "duration": 0.067882,
     "end_time": "2022-04-07T18:45:29.477127",
     "exception": false,
     "start_time": "2022-04-07T18:45:29.409245",
     "status": "completed"
    },
    "tags": []
   },
   "outputs": [],
   "source": [
    "def get_mz(mz,df):\n",
    "    ''' returns list of columns for given mz'''\n",
    "    cols_list = []\n",
    "    for col in df.columns:\n",
    "        if col[0] == str(mz):\n",
    "            cols_list.append(col)\n",
    "    return cols_list"
   ]
  },
  {
   "cell_type": "code",
   "execution_count": 14,
   "id": "7bef3c2f",
   "metadata": {
    "execution": {
     "iopub.execute_input": "2022-04-07T18:45:29.600711Z",
     "iopub.status.busy": "2022-04-07T18:45:29.597207Z",
     "iopub.status.idle": "2022-04-07T18:45:29.603460Z",
     "shell.execute_reply": "2022-04-07T18:45:29.602989Z",
     "shell.execute_reply.started": "2022-04-06T15:53:51.259351Z"
    },
    "papermill": {
     "duration": 0.067461,
     "end_time": "2022-04-07T18:45:29.603629",
     "exception": false,
     "start_time": "2022-04-07T18:45:29.536168",
     "status": "completed"
    },
    "tags": []
   },
   "outputs": [],
   "source": [
    "def get_total_abundance(df):\n",
    "    ''' returns total abundance for each sample'''\n",
    "    tot_abund_df = pd.DataFrame(index=df.index)\n",
    "    tot_abund_df['tot_abund'] = df.sum(axis=1)\n",
    "    for mz in tqdm(range(0,100)):\n",
    "        tot_abund_df[f\"tot_abund_{mz}\"] = df[get_mz(mz,df)].sum(axis=1)\n",
    "    return tot_abund_df"
   ]
  },
  {
   "cell_type": "code",
   "execution_count": 15,
   "id": "002292ea",
   "metadata": {
    "execution": {
     "iopub.execute_input": "2022-04-07T18:45:29.726423Z",
     "iopub.status.busy": "2022-04-07T18:45:29.725804Z",
     "iopub.status.idle": "2022-04-07T18:45:39.855208Z",
     "shell.execute_reply": "2022-04-07T18:45:39.855755Z",
     "shell.execute_reply.started": "2022-04-06T15:53:52.449019Z"
    },
    "papermill": {
     "duration": 10.194117,
     "end_time": "2022-04-07T18:45:39.855940",
     "exception": false,
     "start_time": "2022-04-07T18:45:29.661823",
     "status": "completed"
    },
    "tags": []
   },
   "outputs": [
    {
     "name": "stderr",
     "output_type": "stream",
     "text": [
      "100%|██████████| 100/100 [00:04<00:00, 22.47it/s]\n",
      "100%|██████████| 100/100 [00:00<00:00, 244.19it/s]\n",
      "100%|██████████| 100/100 [00:00<00:00, 165.70it/s]\n",
      "100%|██████████| 100/100 [00:03<00:00, 33.03it/s]\n",
      "100%|██████████| 100/100 [00:00<00:00, 205.36it/s]\n",
      "100%|██████████| 100/100 [00:00<00:00, 264.36it/s]\n"
     ]
    }
   ],
   "source": [
    "tot_abund_3 = get_total_abundance(train_set_3)\n",
    "tot_abund_200 = get_total_abundance(train_set_200)\n",
    "tot_abund_50 = get_total_abundance(train_set_50)\n",
    "tot_abund_5 = get_total_abundance(train_set_5)\n",
    "tot_abund_100 = get_total_abundance(train_set_100)\n",
    "tot_abund_500 = get_total_abundance(train_set_500)"
   ]
  },
  {
   "cell_type": "code",
   "execution_count": 16,
   "id": "81eea865",
   "metadata": {
    "execution": {
     "iopub.execute_input": "2022-04-07T18:45:40.102026Z",
     "iopub.status.busy": "2022-04-07T18:45:40.070790Z",
     "iopub.status.idle": "2022-04-07T18:45:49.733180Z",
     "shell.execute_reply": "2022-04-07T18:45:49.732521Z",
     "shell.execute_reply.started": "2022-04-06T15:53:57.423486Z"
    },
    "papermill": {
     "duration": 9.78458,
     "end_time": "2022-04-07T18:45:49.733331",
     "exception": false,
     "start_time": "2022-04-07T18:45:39.948751",
     "status": "completed"
    },
    "tags": []
   },
   "outputs": [
    {
     "name": "stderr",
     "output_type": "stream",
     "text": [
      "100%|██████████| 100/100 [00:02<00:00, 36.79it/s]\n",
      "100%|██████████| 100/100 [00:04<00:00, 22.56it/s]\n",
      "100%|██████████| 100/100 [00:00<00:00, 164.04it/s]\n",
      "100%|██████████| 100/100 [00:00<00:00, 207.43it/s]\n",
      "100%|██████████| 100/100 [00:00<00:00, 230.00it/s]\n",
      "100%|██████████| 100/100 [00:00<00:00, 267.36it/s]\n"
     ]
    }
   ],
   "source": [
    "tot_abund_5_test = get_total_abundance(test_set_5)\n",
    "tot_abund_3_test = get_total_abundance(test_set_3)\n",
    "tot_abund_50_test = get_total_abundance(test_set_50)\n",
    "tot_abund_100_test = get_total_abundance(test_set_100)\n",
    "tot_abund_200_test = get_total_abundance(test_set_200)\n",
    "tot_abund_500_test = get_total_abundance(test_set_500)"
   ]
  },
  {
   "cell_type": "code",
   "execution_count": 17,
   "id": "7ccb33ee",
   "metadata": {
    "execution": {
     "iopub.execute_input": "2022-04-07T18:45:49.993216Z",
     "iopub.status.busy": "2022-04-07T18:45:49.992474Z",
     "iopub.status.idle": "2022-04-07T18:45:49.994784Z",
     "shell.execute_reply": "2022-04-07T18:45:49.994176Z",
     "shell.execute_reply.started": "2022-04-06T15:54:02.254735Z"
    },
    "papermill": {
     "duration": 0.132866,
     "end_time": "2022-04-07T18:45:49.994935",
     "exception": false,
     "start_time": "2022-04-07T18:45:49.862069",
     "status": "completed"
    },
    "tags": []
   },
   "outputs": [],
   "source": [
    "# def get_tempbins(mz):\n",
    "#     col_list = []\n",
    "#     for col in train_df.columns:\n",
    "#         if col[0] == str(mz):\n",
    "#             col_list.append(col)\n",
    "#     return col_list"
   ]
  },
  {
   "cell_type": "code",
   "execution_count": 18,
   "id": "4f348931",
   "metadata": {
    "execution": {
     "iopub.execute_input": "2022-04-07T18:45:50.249241Z",
     "iopub.status.busy": "2022-04-07T18:45:50.248554Z",
     "iopub.status.idle": "2022-04-07T18:45:50.253348Z",
     "shell.execute_reply": "2022-04-07T18:45:50.253944Z",
     "shell.execute_reply.started": "2022-04-06T15:54:02.260748Z"
    },
    "papermill": {
     "duration": 0.133208,
     "end_time": "2022-04-07T18:45:50.254129",
     "exception": false,
     "start_time": "2022-04-07T18:45:50.120921",
     "status": "completed"
    },
    "tags": []
   },
   "outputs": [],
   "source": [
    "# drop if all values are zero\n",
    "def check_col(df):\n",
    "    col_with_zeros = []\n",
    "    for id,col in enumerate(tqdm(df.columns)):\n",
    "        if df[col].nunique() == 1:\n",
    "            col_with_zeros.append(id)\n",
    "    return col_with_zeros"
   ]
  },
  {
   "cell_type": "code",
   "execution_count": null,
   "id": "a0eeb570",
   "metadata": {
    "papermill": {
     "duration": 0.125133,
     "end_time": "2022-04-07T18:45:50.504841",
     "exception": false,
     "start_time": "2022-04-07T18:45:50.379708",
     "status": "completed"
    },
    "tags": []
   },
   "outputs": [],
   "source": []
  },
  {
   "cell_type": "markdown",
   "id": "63173730",
   "metadata": {
    "papermill": {
     "duration": 0.124649,
     "end_time": "2022-04-07T18:45:50.758936",
     "exception": false,
     "start_time": "2022-04-07T18:45:50.634287",
     "status": "completed"
    },
    "tags": []
   },
   "source": [
    "# get gradients"
   ]
  },
  {
   "cell_type": "code",
   "execution_count": 19,
   "id": "ed2211bc",
   "metadata": {
    "execution": {
     "iopub.execute_input": "2022-04-07T18:45:51.018415Z",
     "iopub.status.busy": "2022-04-07T18:45:51.017689Z",
     "iopub.status.idle": "2022-04-07T18:45:51.462177Z",
     "shell.execute_reply": "2022-04-07T18:45:51.461530Z",
     "shell.execute_reply.started": "2022-04-06T15:54:02.27468Z"
    },
    "papermill": {
     "duration": 0.574089,
     "end_time": "2022-04-07T18:45:51.462345",
     "exception": false,
     "start_time": "2022-04-07T18:45:50.888256",
     "status": "completed"
    },
    "tags": []
   },
   "outputs": [
    {
     "data": {
      "image/png": "[encoded data removed]",
      "text/plain": [
       "<Figure size 432x288 with 1 Axes>"
      ]
     },
     "metadata": {
      "needs_background": "light"
     },
     "output_type": "display_data"
    }
   ],
   "source": [
    "train_set_200.loc[:5,get_mz(0,train_set_200)].plot();"
   ]
  },
  {
   "cell_type": "code",
   "execution_count": 20,
   "id": "11630a80",
   "metadata": {
    "execution": {
     "iopub.execute_input": "2022-04-07T18:45:51.729482Z",
     "iopub.status.busy": "2022-04-07T18:45:51.728346Z",
     "iopub.status.idle": "2022-04-07T18:45:51.996640Z",
     "shell.execute_reply": "2022-04-07T18:45:51.997166Z",
     "shell.execute_reply.started": "2022-04-06T15:54:02.689424Z"
    },
    "papermill": {
     "duration": 0.405238,
     "end_time": "2022-04-07T18:45:51.997375",
     "exception": false,
     "start_time": "2022-04-07T18:45:51.592137",
     "status": "completed"
    },
    "tags": []
   },
   "outputs": [
    {
     "data": {
      "image/png": "[encoded data removed]",
      "text/plain": [
       "<Figure size 432x288 with 1 Axes>"
      ]
     },
     "metadata": {
      "needs_background": "light"
     },
     "output_type": "display_data"
    }
   ],
   "source": [
    "train_set_500.loc[:50,get_mz(0,train_set_500)].plot();"
   ]
  },
  {
   "cell_type": "code",
   "execution_count": 21,
   "id": "6637883c",
   "metadata": {
    "execution": {
     "iopub.execute_input": "2022-04-07T18:45:52.258720Z",
     "iopub.status.busy": "2022-04-07T18:45:52.258009Z",
     "iopub.status.idle": "2022-04-07T18:45:52.562583Z",
     "shell.execute_reply": "2022-04-07T18:45:52.563161Z",
     "shell.execute_reply.started": "2022-04-06T15:54:02.945954Z"
    },
    "papermill": {
     "duration": 0.435983,
     "end_time": "2022-04-07T18:45:52.563345",
     "exception": false,
     "start_time": "2022-04-07T18:45:52.127362",
     "status": "completed"
    },
    "tags": []
   },
   "outputs": [
    {
     "data": {
      "image/png": "[encoded data removed]",
      "text/plain": [
       "<Figure size 432x288 with 1 Axes>"
      ]
     },
     "metadata": {
      "needs_background": "light"
     },
     "output_type": "display_data"
    }
   ],
   "source": [
    "train_set_50.loc[:5,get_mz(0,train_set_50)].plot(legend=False);"
   ]
  },
  {
   "cell_type": "code",
   "execution_count": 22,
   "id": "d82040a5",
   "metadata": {
    "execution": {
     "iopub.execute_input": "2022-04-07T18:45:52.837343Z",
     "iopub.status.busy": "2022-04-07T18:45:52.836344Z",
     "iopub.status.idle": "2022-04-07T18:45:53.915886Z",
     "shell.execute_reply": "2022-04-07T18:45:53.916433Z",
     "shell.execute_reply.started": "2022-04-06T15:54:03.243829Z"
    },
    "papermill": {
     "duration": 1.220829,
     "end_time": "2022-04-07T18:45:53.916629",
     "exception": false,
     "start_time": "2022-04-07T18:45:52.695800",
     "status": "completed"
    },
    "tags": []
   },
   "outputs": [
    {
     "data": {
      "image/png": "[encoded data removed]",
      "text/plain": [
       "<Figure size 432x288 with 1 Axes>"
      ]
     },
     "metadata": {
      "needs_background": "light"
     },
     "output_type": "display_data"
    }
   ],
   "source": [
    "train_set_5.loc[:5,get_mz(0,train_set_5)].plot(legend=False);"
   ]
  },
  {
   "cell_type": "code",
   "execution_count": 23,
   "id": "c4603c03",
   "metadata": {
    "execution": {
     "iopub.execute_input": "2022-04-07T18:45:54.222554Z",
     "iopub.status.busy": "2022-04-07T18:45:54.218278Z",
     "iopub.status.idle": "2022-04-07T18:45:56.243894Z",
     "shell.execute_reply": "2022-04-07T18:45:56.243308Z"
    },
    "papermill": {
     "duration": 2.193517,
     "end_time": "2022-04-07T18:45:56.244051",
     "exception": false,
     "start_time": "2022-04-07T18:45:54.050534",
     "status": "completed"
    },
    "tags": []
   },
   "outputs": [
    {
     "data": {
      "image/png": "[encoded data removed]",
      "text/plain": [
       "<Figure size 432x288 with 1 Axes>"
      ]
     },
     "metadata": {
      "needs_background": "light"
     },
     "output_type": "display_data"
    }
   ],
   "source": [
    "train_set_3.loc[:5,get_mz(0,train_set_3)].plot(legend=False);"
   ]
  },
  {
   "cell_type": "code",
   "execution_count": 24,
   "id": "5e462bd3",
   "metadata": {
    "execution": {
     "iopub.execute_input": "2022-04-07T18:45:56.532323Z",
     "iopub.status.busy": "2022-04-07T18:45:56.531377Z",
     "iopub.status.idle": "2022-04-07T18:45:56.534430Z",
     "shell.execute_reply": "2022-04-07T18:45:56.533864Z",
     "shell.execute_reply.started": "2022-04-06T15:54:07.204252Z"
    },
    "papermill": {
     "duration": 0.150257,
     "end_time": "2022-04-07T18:45:56.534581",
     "exception": false,
     "start_time": "2022-04-07T18:45:56.384324",
     "status": "completed"
    },
    "tags": []
   },
   "outputs": [],
   "source": [
    "def get_grads(df,bin_size):\n",
    "    ''' returns gradients for each mz'''\n",
    "    grad_df = pd.DataFrame(index=df.index)\n",
    "    for mz in tqdm(range(0,100)):\n",
    "        df_mz = df.loc[:,get_mz(mz,df)]\n",
    "        # df_mz_col1 = df_mz.iloc[:,0].values\n",
    "        df_mz = df_mz.diff(axis=1)\n",
    "        # df_mz.iloc[:,0] = df_mz_col1\n",
    "        df_mz.dropna(axis='columns',inplace=True)\n",
    "        # df_mz = df_mz/bin_size\n",
    "        df_mz.columns = [col[0]+ '_' + col[1] + '_' + 'grad' for col in df_mz.columns]\n",
    "        grad_df = pd.concat([grad_df,df_mz],axis=1)\n",
    "\n",
    "    return  grad_df"
   ]
  },
  {
   "cell_type": "code",
   "execution_count": 25,
   "id": "6cd3dd73",
   "metadata": {
    "execution": {
     "iopub.execute_input": "2022-04-07T18:45:56.820194Z",
     "iopub.status.busy": "2022-04-07T18:45:56.819265Z",
     "iopub.status.idle": "2022-04-07T18:46:26.740643Z",
     "shell.execute_reply": "2022-04-07T18:46:26.740031Z",
     "shell.execute_reply.started": "2022-04-06T15:54:07.414142Z"
    },
    "papermill": {
     "duration": 30.06758,
     "end_time": "2022-04-07T18:46:26.740799",
     "exception": false,
     "start_time": "2022-04-07T18:45:56.673219",
     "status": "completed"
    },
    "tags": []
   },
   "outputs": [
    {
     "name": "stderr",
     "output_type": "stream",
     "text": [
      "100%|██████████| 100/100 [00:15<00:00,  6.60it/s]\n",
      "100%|██████████| 100/100 [00:01<00:00, 86.63it/s]\n",
      "100%|██████████| 100/100 [00:01<00:00, 52.38it/s]\n",
      "100%|██████████| 100/100 [00:09<00:00, 10.96it/s]\n",
      "100%|██████████| 100/100 [00:01<00:00, 95.92it/s]\n",
      "100%|██████████| 100/100 [00:01<00:00, 66.37it/s]"
     ]
    },
    {
     "name": "stdout",
     "output_type": "stream",
     "text": [
      "CPU times: user 29.7 s, sys: 471 ms, total: 30.1 s\n",
      "Wall time: 29.9 s\n"
     ]
    },
    {
     "name": "stderr",
     "output_type": "stream",
     "text": [
      "\n"
     ]
    }
   ],
   "source": [
    "%%time\n",
    "grad_3 = get_grads(train_set_3,3)\n",
    "grad_200 = get_grads(train_set_200,200)\n",
    "grad_50 = get_grads(train_set_50,50)\n",
    "grad_5 = get_grads(train_set_5,5)\n",
    "grad_500 = get_grads(train_set_500,500)\n",
    "grad_100 = get_grads(train_set_100,100)"
   ]
  },
  {
   "cell_type": "code",
   "execution_count": 26,
   "id": "efacf840",
   "metadata": {
    "execution": {
     "iopub.execute_input": "2022-04-07T18:46:27.183792Z",
     "iopub.status.busy": "2022-04-07T18:46:27.182778Z",
     "iopub.status.idle": "2022-04-07T18:46:51.502005Z",
     "shell.execute_reply": "2022-04-07T18:46:51.501357Z",
     "shell.execute_reply.started": "2022-04-06T15:54:20.313021Z"
    },
    "papermill": {
     "duration": 24.542239,
     "end_time": "2022-04-07T18:46:51.502163",
     "exception": false,
     "start_time": "2022-04-07T18:46:26.959924",
     "status": "completed"
    },
    "tags": []
   },
   "outputs": [
    {
     "name": "stderr",
     "output_type": "stream",
     "text": [
      "100%|██████████| 100/100 [00:11<00:00,  8.36it/s]\n",
      "100%|██████████| 100/100 [00:01<00:00, 91.56it/s]\n",
      "100%|██████████| 100/100 [00:01<00:00, 58.82it/s]\n",
      "100%|██████████| 100/100 [00:07<00:00, 13.70it/s]\n",
      "100%|██████████| 100/100 [00:00<00:00, 107.76it/s]\n",
      "100%|██████████| 100/100 [00:01<00:00, 76.48it/s]"
     ]
    },
    {
     "name": "stdout",
     "output_type": "stream",
     "text": [
      "CPU times: user 24 s, sys: 452 ms, total: 24.4 s\n",
      "Wall time: 24.3 s\n"
     ]
    },
    {
     "name": "stderr",
     "output_type": "stream",
     "text": [
      "\n"
     ]
    }
   ],
   "source": [
    "%%time\n",
    "grad_3_test = get_grads(test_set_3,3)\n",
    "grad_200_test = get_grads(test_set_200,200)\n",
    "grad_50_test = get_grads(test_set_50,50)\n",
    "grad_5_test = get_grads(test_set_5,5)\n",
    "grad_500_test = get_grads(test_set_500,500)\n",
    "grad_100_test = get_grads(test_set_100,100)"
   ]
  },
  {
   "cell_type": "markdown",
   "id": "0cfb0821",
   "metadata": {
    "papermill": {
     "duration": 0.281604,
     "end_time": "2022-04-07T18:46:52.069679",
     "exception": false,
     "start_time": "2022-04-07T18:46:51.788075",
     "status": "completed"
    },
    "tags": []
   },
   "source": [
    "# add metadata\n",
    "- mean,varience of all mzs\n",
    "- mean,varience of a tempbin "
   ]
  },
  {
   "cell_type": "code",
   "execution_count": 27,
   "id": "bf7d1972",
   "metadata": {
    "execution": {
     "iopub.execute_input": "2022-04-07T18:46:52.641484Z",
     "iopub.status.busy": "2022-04-07T18:46:52.640371Z",
     "iopub.status.idle": "2022-04-07T18:46:52.642831Z",
     "shell.execute_reply": "2022-04-07T18:46:52.643271Z",
     "shell.execute_reply.started": "2022-04-06T15:54:31.743357Z"
    },
    "papermill": {
     "duration": 0.290914,
     "end_time": "2022-04-07T18:46:52.643460",
     "exception": false,
     "start_time": "2022-04-07T18:46:52.352546",
     "status": "completed"
    },
    "tags": []
   },
   "outputs": [],
   "source": [
    "def get_mean_std(df):\n",
    "    ''' returns mean and std for each mz'''\n",
    "    mean_std_df = pd.DataFrame(index=df.index)\n",
    "    for mz in tqdm(range(0,100)):\n",
    "        df_mz = df.loc[:,get_mz(mz,df)]\n",
    "        df_mz[f'{mz}_mean'] = df_mz.mean(axis=1)\n",
    "        df_mz[f'{mz}_std'] = df_mz.std(axis=1)\n",
    "        mean_std_df = pd.concat([mean_std_df,df_mz],axis=1)\n",
    "    return mean_std_df"
   ]
  },
  {
   "cell_type": "code",
   "execution_count": 28,
   "id": "9a20e7a8",
   "metadata": {
    "execution": {
     "iopub.execute_input": "2022-04-07T18:46:53.220503Z",
     "iopub.status.busy": "2022-04-07T18:46:53.219652Z",
     "iopub.status.idle": "2022-04-07T18:47:23.642574Z",
     "shell.execute_reply": "2022-04-07T18:47:23.638736Z",
     "shell.execute_reply.started": "2022-04-06T15:54:31.751957Z"
    },
    "papermill": {
     "duration": 30.713492,
     "end_time": "2022-04-07T18:47:23.642772",
     "exception": false,
     "start_time": "2022-04-07T18:46:52.929280",
     "status": "completed"
    },
    "tags": []
   },
   "outputs": [
    {
     "name": "stderr",
     "output_type": "stream",
     "text": [
      "100%|██████████| 100/100 [00:15<00:00,  6.28it/s]\n",
      "100%|██████████| 100/100 [00:09<00:00, 10.80it/s]\n",
      "100%|██████████| 100/100 [00:01<00:00, 57.82it/s]\n",
      "100%|██████████| 100/100 [00:01<00:00, 74.35it/s]\n",
      "100%|██████████| 100/100 [00:01<00:00, 86.81it/s]\n",
      "100%|██████████| 100/100 [00:00<00:00, 105.47it/s]\n"
     ]
    }
   ],
   "source": [
    "mean_std_3 = get_mean_std(train_set_3)\n",
    "mean_std_5 = get_mean_std(train_set_5)\n",
    "mean_std_50 = get_mean_std(train_set_50)\n",
    "mean_std_100 = get_mean_std(train_set_100)\n",
    "mean_std_200 = get_mean_std(train_set_200)\n",
    "mean_std_500 = get_mean_std(train_set_500)"
   ]
  },
  {
   "cell_type": "code",
   "execution_count": 29,
   "id": "1b9e3370",
   "metadata": {
    "execution": {
     "iopub.execute_input": "2022-04-07T18:47:24.359459Z",
     "iopub.status.busy": "2022-04-07T18:47:24.358819Z",
     "iopub.status.idle": "2022-04-07T18:47:51.477469Z",
     "shell.execute_reply": "2022-04-07T18:47:51.477976Z",
     "shell.execute_reply.started": "2022-04-06T15:54:44.326741Z"
    },
    "papermill": {
     "duration": 27.477789,
     "end_time": "2022-04-07T18:47:51.478167",
     "exception": false,
     "start_time": "2022-04-07T18:47:24.000378",
     "status": "completed"
    },
    "tags": []
   },
   "outputs": [
    {
     "name": "stderr",
     "output_type": "stream",
     "text": [
      "100%|██████████| 100/100 [00:13<00:00,  7.26it/s]\n",
      "100%|██████████| 100/100 [00:08<00:00, 11.67it/s]\n",
      "100%|██████████| 100/100 [00:01<00:00, 61.79it/s]\n",
      "100%|██████████| 100/100 [00:01<00:00, 82.73it/s]\n",
      "100%|██████████| 100/100 [00:01<00:00, 98.19it/s]\n",
      "100%|██████████| 100/100 [00:00<00:00, 111.95it/s]\n"
     ]
    }
   ],
   "source": [
    "mean_std_3_test = get_mean_std(test_set_3)\n",
    "mean_std_5_test = get_mean_std(test_set_5)\n",
    "mean_std_50_test = get_mean_std(test_set_50)\n",
    "mean_std_100_test = get_mean_std(test_set_100)\n",
    "mean_std_200_test = get_mean_std(test_set_200)\n",
    "mean_std_500_test = get_mean_std(test_set_500)"
   ]
  },
  {
   "cell_type": "code",
   "execution_count": null,
   "id": "dd6d16f1",
   "metadata": {
    "papermill": {
     "duration": 0.428111,
     "end_time": "2022-04-07T18:47:52.334011",
     "exception": false,
     "start_time": "2022-04-07T18:47:51.905900",
     "status": "completed"
    },
    "tags": []
   },
   "outputs": [],
   "source": []
  },
  {
   "cell_type": "markdown",
   "id": "c27235bf",
   "metadata": {
    "papermill": {
     "duration": 0.427791,
     "end_time": "2022-04-07T18:47:53.188331",
     "exception": false,
     "start_time": "2022-04-07T18:47:52.760540",
     "status": "completed"
    },
    "tags": []
   },
   "source": [
    "**next up**\n",
    "- quantile transform, guassian rank transform , feature tools and nns"
   ]
  },
  {
   "cell_type": "code",
   "execution_count": null,
   "id": "344198fd",
   "metadata": {
    "papermill": {
     "duration": 0.427878,
     "end_time": "2022-04-07T18:47:54.042578",
     "exception": false,
     "start_time": "2022-04-07T18:47:53.614700",
     "status": "completed"
    },
    "tags": []
   },
   "outputs": [],
   "source": []
  },
  {
   "cell_type": "code",
   "execution_count": null,
   "id": "83c9f753",
   "metadata": {
    "papermill": {
     "duration": 0.459439,
     "end_time": "2022-04-07T18:47:54.928058",
     "exception": false,
     "start_time": "2022-04-07T18:47:54.468619",
     "status": "completed"
    },
    "tags": []
   },
   "outputs": [],
   "source": []
  },
  {
   "cell_type": "markdown",
   "id": "724e66d9",
   "metadata": {
    "papermill": {
     "duration": 0.428302,
     "end_time": "2022-04-07T18:47:55.782707",
     "exception": false,
     "start_time": "2022-04-07T18:47:55.354405",
     "status": "completed"
    },
    "tags": []
   },
   "source": [
    "# cv"
   ]
  },
  {
   "cell_type": "code",
   "execution_count": 30,
   "id": "51a1e4d8",
   "metadata": {
    "execution": {
     "iopub.execute_input": "2022-04-07T18:47:56.636325Z",
     "iopub.status.busy": "2022-04-07T18:47:56.635239Z",
     "iopub.status.idle": "2022-04-07T18:47:56.639998Z",
     "shell.execute_reply": "2022-04-07T18:47:56.640558Z",
     "shell.execute_reply.started": "2022-04-06T15:54:55.138219Z"
    },
    "papermill": {
     "duration": 0.431989,
     "end_time": "2022-04-07T18:47:56.640757",
     "exception": false,
     "start_time": "2022-04-07T18:47:56.208768",
     "status": "completed"
    },
    "tags": []
   },
   "outputs": [],
   "source": [
    "skf = StratifiedKFold(n_splits=5, shuffle=True, random_state=RANDOM_SEED)\n",
    "log_loss_scorer = make_scorer(log_loss, needs_proba=True)\n",
    "phy = 'phyllosilicate'"
   ]
  },
  {
   "cell_type": "code",
   "execution_count": 31,
   "id": "8a7fe519",
   "metadata": {
    "execution": {
     "iopub.execute_input": "2022-04-07T18:47:57.500181Z",
     "iopub.status.busy": "2022-04-07T18:47:57.497394Z",
     "iopub.status.idle": "2022-04-07T18:47:57.507379Z",
     "shell.execute_reply": "2022-04-07T18:47:57.506848Z",
     "shell.execute_reply.started": "2022-04-06T15:54:55.144859Z"
    },
    "papermill": {
     "duration": 0.438957,
     "end_time": "2022-04-07T18:47:57.507534",
     "exception": false,
     "start_time": "2022-04-07T18:47:57.068577",
     "status": "completed"
    },
    "tags": []
   },
   "outputs": [
    {
     "data": {
      "text/plain": [
       "LogisticRegression(C=1, penalty='l1', random_state=777, solver='liblinear')"
      ]
     },
     "execution_count": 31,
     "metadata": {},
     "output_type": "execute_result"
    }
   ],
   "source": [
    "logreg_clf = LogisticRegression(penalty='l1',C=1, solver='liblinear',random_state=RANDOM_SEED)\n",
    "logreg_clf"
   ]
  },
  {
   "cell_type": "code",
   "execution_count": 32,
   "id": "7803789a",
   "metadata": {
    "execution": {
     "iopub.execute_input": "2022-04-07T18:47:58.377444Z",
     "iopub.status.busy": "2022-04-07T18:47:58.376718Z",
     "iopub.status.idle": "2022-04-07T18:47:58.378486Z",
     "shell.execute_reply": "2022-04-07T18:47:58.379006Z",
     "shell.execute_reply.started": "2022-04-06T15:54:55.161852Z"
    },
    "papermill": {
     "duration": 0.444198,
     "end_time": "2022-04-07T18:47:58.379202",
     "exception": false,
     "start_time": "2022-04-07T18:47:57.935004",
     "status": "completed"
    },
    "tags": []
   },
   "outputs": [],
   "source": [
    "def get_imp_coefs(clf,df,target_col):\n",
    "    \"\"\"\n",
    "    Returns the df with imp cols based on logreg coefs...\n",
    "    \"\"\"\n",
    "    clf.fit(df,targets[target_col])\n",
    "    coefs = clf.coef_\n",
    "    coefs = pd.Series(coefs.ravel())\n",
    "    coefs = coefs.where(coefs != 0.0).dropna().sort_values(ascending=False).index\n",
    "    # imp_fts_5[target_col] = coefs\n",
    "    \n",
    "    cv_score = cross_val_score(clf,df,targets[target_col],cv=skf,scoring=log_loss_scorer)\n",
    "    print(cv_score,cv_score.mean())\n",
    "    # print(target_col)\n",
    "    # print(coefs)\n",
    "    # print(\"------------------------------------\")\n",
    "    \n",
    "    return df.iloc[:,coefs],coefs"
   ]
  },
  {
   "cell_type": "code",
   "execution_count": 33,
   "id": "f2b481a4",
   "metadata": {
    "execution": {
     "iopub.execute_input": "2022-04-07T18:47:59.373667Z",
     "iopub.status.busy": "2022-04-07T18:47:59.372948Z",
     "iopub.status.idle": "2022-04-07T18:47:59.374621Z",
     "shell.execute_reply": "2022-04-07T18:47:59.375120Z",
     "shell.execute_reply.started": "2022-04-06T15:55:05.214413Z"
    },
    "papermill": {
     "duration": 0.558485,
     "end_time": "2022-04-07T18:47:59.375294",
     "exception": false,
     "start_time": "2022-04-07T18:47:58.816809",
     "status": "completed"
    },
    "tags": []
   },
   "outputs": [],
   "source": [
    "# X_500 = pd.concat([train_set_500,grad_500,tot_abund_500,mean_std_500],axis=1)\n",
    "# X_200 = pd.concat([train_set_200,grad_200,tot_abund_200,mean_std_200],axis=1)\n",
    "# X_50 = pd.concat([train_set_50,grad_50,tot_abund_50,mean_std_50],axis=1)\n",
    "# X_5 = pd.concat([train_set_5,grad_5,tot_abund_5,mean_std_5],axis=1)\n",
    "# X_5.shape"
   ]
  },
  {
   "cell_type": "code",
   "execution_count": 34,
   "id": "c6734791",
   "metadata": {
    "execution": {
     "iopub.execute_input": "2022-04-07T18:48:00.254928Z",
     "iopub.status.busy": "2022-04-07T18:48:00.254185Z",
     "iopub.status.idle": "2022-04-07T18:48:00.261685Z",
     "shell.execute_reply": "2022-04-07T18:48:00.262348Z",
     "shell.execute_reply.started": "2022-04-06T16:04:56.296007Z"
    },
    "papermill": {
     "duration": 0.448388,
     "end_time": "2022-04-07T18:48:00.262531",
     "exception": false,
     "start_time": "2022-04-07T18:47:59.814143",
     "status": "completed"
    },
    "tags": []
   },
   "outputs": [],
   "source": [
    "def get_imp_coefs_for_tar(clf,df_set,tar):\n",
    "    imp_df_1 = dict()\n",
    "    imp_fts_1 = dict()\n",
    "    \n",
    "    imp_df_org,imp_fts_1['org_set'] = get_imp_coefs(clf,df_set[0],tar)\n",
    "    imp_df_tot_abund,imp_fts_1['tot_abund_set'] = get_imp_coefs(clf,df_set[1],tar)\n",
    "    imp_df_grad,imp_fts_1['grad_set'] = get_imp_coefs(clf,df_set[2],tar)\n",
    "    imp_df_mean_std,imp_fts_1['mean_std_set'] = get_imp_coefs(clf,df_set[3],tar)\n",
    "\n",
    "    imp_df_1 = pd.concat([imp_df_org,imp_df_tot_abund,imp_df_grad,imp_df_mean_std],axis=1)\n",
    "    print(imp_df_1.shape)\n",
    "\n",
    "    return imp_df_1,imp_fts_1"
   ]
  },
  {
   "cell_type": "code",
   "execution_count": 35,
   "id": "cf4eaa99",
   "metadata": {
    "execution": {
     "iopub.execute_input": "2022-04-07T18:48:01.160947Z",
     "iopub.status.busy": "2022-04-07T18:48:01.160254Z",
     "iopub.status.idle": "2022-04-07T18:48:01.164762Z",
     "shell.execute_reply": "2022-04-07T18:48:01.165310Z"
    },
    "papermill": {
     "duration": 0.449784,
     "end_time": "2022-04-07T18:48:01.165484",
     "exception": false,
     "start_time": "2022-04-07T18:48:00.715700",
     "status": "completed"
    },
    "tags": []
   },
   "outputs": [],
   "source": [
    "#  selecting fts each on additional datasets is best strategy\n",
    "\n",
    "# c=5 l1 penality\n",
    "# .25 from cb_clf on imp fts of x_500\n",
    "# on whole x_500 directly fit on cb_clf (no imp fts) 0.26...\n",
    "\n",
    "\n",
    "# .23 from cb_clf on individual imp fts of x_500 (73 fts)\n",
    "\n",
    "# x_50 (131 fts) C =1\n",
    "# (array([0.15715623, 0.19957427, 0.30083273, 0.2696438 , 0.18046425]),\n",
    "#  0.22153425492556167,\n",
    "#  0.054619214043050285)\n",
    "# c = 5\n",
    "# (array([0.16005222, 0.20716925, 0.30667596, 0.2675076 , 0.17654597]),\n",
    "#  0.22359020020625892,\n",
    "#  0.05541094180104098)\n",
    "\n",
    "# X_5 (321) c = 5\n",
    "# (array([0.2062453 , 0.23841005, 0.33270952, 0.28029341, 0.21285483]),\n",
    "#  0.2541026221564036,\n",
    "#  0.04712316089806101)\n",
    "\n",
    "\n"
   ]
  },
  {
   "cell_type": "markdown",
   "id": "dbb3f27c",
   "metadata": {
    "papermill": {
     "duration": 0.445261,
     "end_time": "2022-04-07T18:48:02.049590",
     "exception": false,
     "start_time": "2022-04-07T18:48:01.604329",
     "status": "completed"
    },
    "tags": []
   },
   "source": [
    "## get oof_train"
   ]
  },
  {
   "cell_type": "code",
   "execution_count": 36,
   "id": "e14d18da",
   "metadata": {
    "execution": {
     "iopub.execute_input": "2022-04-07T18:48:02.941823Z",
     "iopub.status.busy": "2022-04-07T18:48:02.941078Z",
     "iopub.status.idle": "2022-04-07T18:48:02.946452Z",
     "shell.execute_reply": "2022-04-07T18:48:02.947062Z",
     "shell.execute_reply.started": "2022-04-06T15:55:24.668927Z"
    },
    "papermill": {
     "duration": 0.456464,
     "end_time": "2022-04-07T18:48:02.947243",
     "exception": false,
     "start_time": "2022-04-07T18:48:02.490779",
     "status": "completed"
    },
    "tags": []
   },
   "outputs": [
    {
     "data": {
      "text/plain": [
       "777"
      ]
     },
     "execution_count": 36,
     "metadata": {},
     "output_type": "execute_result"
    }
   ],
   "source": [
    "NFOLDS = 5\n",
    "ntrain = 1059\n",
    "ntest = 804\n",
    "RANDOM_SEED"
   ]
  },
  {
   "cell_type": "code",
   "execution_count": 37,
   "id": "45e831c1",
   "metadata": {
    "execution": {
     "iopub.execute_input": "2022-04-07T18:48:03.827499Z",
     "iopub.status.busy": "2022-04-07T18:48:03.826789Z",
     "iopub.status.idle": "2022-04-07T18:48:03.832409Z",
     "shell.execute_reply": "2022-04-07T18:48:03.833026Z",
     "shell.execute_reply.started": "2022-04-06T15:55:25.188844Z"
    },
    "papermill": {
     "duration": 0.44559,
     "end_time": "2022-04-07T18:48:03.833246",
     "exception": false,
     "start_time": "2022-04-07T18:48:03.387656",
     "status": "completed"
    },
    "tags": []
   },
   "outputs": [],
   "source": [
    "df_set_3 = [train_set_3,tot_abund_3,grad_3,mean_std_3]\n",
    "df_set_5 = [train_set_5,tot_abund_5,grad_5,mean_std_5]\n",
    "df_set_50 = [train_set_50,tot_abund_50,grad_50,mean_std_50]\n",
    "df_set_100 = [train_set_100,tot_abund_100,grad_100,mean_std_100]\n",
    "df_set_200 = [train_set_200,tot_abund_200,grad_200,mean_std_200]\n",
    "df_set_500 = [train_set_500,tot_abund_500,grad_500,mean_std_500]"
   ]
  },
  {
   "cell_type": "code",
   "execution_count": 38,
   "id": "d756f499",
   "metadata": {
    "execution": {
     "iopub.execute_input": "2022-04-07T18:48:04.748324Z",
     "iopub.status.busy": "2022-04-07T18:48:04.747505Z",
     "iopub.status.idle": "2022-04-07T18:48:04.755683Z",
     "shell.execute_reply": "2022-04-07T18:48:04.756299Z",
     "shell.execute_reply.started": "2022-04-06T15:55:27.464056Z"
    },
    "papermill": {
     "duration": 0.479437,
     "end_time": "2022-04-07T18:48:04.756506",
     "exception": false,
     "start_time": "2022-04-07T18:48:04.277069",
     "status": "completed"
    },
    "tags": []
   },
   "outputs": [],
   "source": [
    "df_test_set_3 = [test_set_3,tot_abund_3_test,grad_3_test,mean_std_3_test]\n",
    "df_test_set_5 = [test_set_5,tot_abund_5_test,grad_5_test,mean_std_5_test]\n",
    "df_test_set_50 = [test_set_50,tot_abund_50_test,grad_50_test,mean_std_50_test]\n",
    "df_test_set_100 = [test_set_100,tot_abund_100_test,grad_100_test,mean_std_100_test]\n",
    "df_test_set_200 = [test_set_200,tot_abund_200_test,grad_200_test,mean_std_200_test]\n",
    "df_test_set_500 = [test_set_500,tot_abund_500_test,grad_500_test,mean_std_500_test]"
   ]
  },
  {
   "cell_type": "code",
   "execution_count": 39,
   "id": "467b78f9",
   "metadata": {
    "execution": {
     "iopub.execute_input": "2022-04-07T18:48:05.738309Z",
     "iopub.status.busy": "2022-04-07T18:48:05.737588Z",
     "iopub.status.idle": "2022-04-07T18:48:05.742029Z",
     "shell.execute_reply": "2022-04-07T18:48:05.742524Z",
     "shell.execute_reply.started": "2022-04-06T16:05:00.574344Z"
    },
    "papermill": {
     "duration": 0.496643,
     "end_time": "2022-04-07T18:48:05.742772",
     "exception": false,
     "start_time": "2022-04-07T18:48:05.246129",
     "status": "completed"
    },
    "tags": []
   },
   "outputs": [],
   "source": [
    "def get_oof(clf, x_train, y_train, x_test):\n",
    "    oof_train = np.zeros((ntrain,))\n",
    "    oof_test = np.zeros((ntest,))\n",
    "    oof_test_skf = np.empty((NFOLDS, ntest))\n",
    "    cv_loss = []\n",
    "\n",
    "    for i, (train_index, test_index) in enumerate(skf.split(x_train,y_train)):\n",
    "        x_tr = x_train.iloc[train_index]\n",
    "        y_tr = y_train.iloc[train_index]\n",
    "        x_te = x_train.iloc[test_index]\n",
    "        y_te = y_train.iloc[test_index]\n",
    "\n",
    "        clf.fit(x_tr.values, y_tr)\n",
    "\n",
    "        oof_train[test_index] = clf.predict_proba(x_te.values)[:,1]\n",
    "        fold_loss = log_loss(y_te, clf.predict_proba(x_te.values)[:,1])\n",
    "        cv_loss.append(fold_loss)\n",
    "        print(f\"logloss for fold {i}: {fold_loss}\")\n",
    "\n",
    "        oof_test_skf[i, :] = clf.predict_proba(x_test.values)[:,1]\n",
    "\n",
    "    print(\"CV ccv loss \",np.array(cv_loss).mean(),\"CV ccv std\", np.array(cv_loss).std())\n",
    "    \n",
    "    oof_test[:] = oof_test_skf.mean(axis=0)\n",
    "    return oof_train.reshape(-1, 1), oof_test.reshape(-1, 1), np.array(cv_loss).mean()"
   ]
  },
  {
   "cell_type": "code",
   "execution_count": 40,
   "id": "0a8c8b5f",
   "metadata": {
    "execution": {
     "iopub.execute_input": "2022-04-07T18:48:06.627362Z",
     "iopub.status.busy": "2022-04-07T18:48:06.626717Z",
     "iopub.status.idle": "2022-04-07T18:48:06.641465Z",
     "shell.execute_reply": "2022-04-07T18:48:06.642094Z",
     "shell.execute_reply.started": "2022-04-06T16:05:00.658964Z"
    },
    "papermill": {
     "duration": 0.453902,
     "end_time": "2022-04-07T18:48:06.642304",
     "exception": false,
     "start_time": "2022-04-07T18:48:06.188402",
     "status": "completed"
    },
    "tags": []
   },
   "outputs": [],
   "source": [
    "oof_train_df = pd.DataFrame(index=metadata[metadata.split != 'test'].sample_id, columns=targets.columns)\n",
    "oof_test_df = pd.DataFrame(index=metadata[metadata.split != 'train'].sample_id, columns=targets.columns)"
   ]
  },
  {
   "cell_type": "code",
   "execution_count": 41,
   "id": "47b01f22",
   "metadata": {
    "execution": {
     "iopub.execute_input": "2022-04-07T18:48:07.534311Z",
     "iopub.status.busy": "2022-04-07T18:48:07.533409Z",
     "iopub.status.idle": "2022-04-07T18:48:07.541917Z",
     "shell.execute_reply": "2022-04-07T18:48:07.542490Z",
     "shell.execute_reply.started": "2022-04-06T16:06:15.181721Z"
    },
    "papermill": {
     "duration": 0.455724,
     "end_time": "2022-04-07T18:48:07.542734",
     "exception": false,
     "start_time": "2022-04-07T18:48:07.087010",
     "status": "completed"
    },
    "tags": []
   },
   "outputs": [],
   "source": [
    "def cvon_df(df_train_set,df_test_set,freq):\n",
    "    imp_df  = dict()\n",
    "    imp_fts = dict()\n",
    "    \n",
    "    agg_loss = []\n",
    "    for target in targets.columns:\n",
    "        print('target:',target)\n",
    "        \n",
    "        # select the best features for each target\n",
    "        logreg_clf = LogisticRegression(penalty='l1',C=1, solver='liblinear',random_state=RANDOM_SEED)\n",
    "        print('logreg cv score:')\n",
    "\n",
    "        imp_df[target],imp_fts[target] = get_imp_coefs_for_tar(logreg_clf,df_train_set,target) # cv logreg\n",
    "\n",
    "        X = imp_df[target]    # x is selected fts for the given target.\n",
    "        X_test = pd.concat([\n",
    "            df_test_set[0].iloc[:,imp_fts[target]['org_set']],\n",
    "            df_test_set[1].iloc[:,imp_fts[target]['tot_abund_set']],\n",
    "            df_test_set[2].iloc[:,imp_fts[target]['grad_set']],\n",
    "            df_test_set[3].iloc[:,imp_fts[target]['mean_std_set']]\n",
    "        ],axis=1)\n",
    "\n",
    "        # save train and test sets \n",
    "        X.to_csv('X_'+freq+'_imp_v1_'+target+'.csv')\n",
    "        X_test.to_csv('X_test_'+freq+'_imp_v1_'+target+'.csv')\n",
    "        \n",
    "        print(\"Caliberated catboost CV:\")\n",
    "        cb_clf = CatBoostClassifier(random_seed=RANDOM_SEED,verbose=False,eval_metric='Logloss')\n",
    "        calb_clf = CalibratedClassifierCV(cb_clf,cv=skf,method='sigmoid')   # calibrating this way is calibrating on less data\n",
    "\n",
    "        oof_train, oof_test, loss = get_oof(calb_clf,X,targets[target],X_test)\n",
    "        agg_loss.append(loss)\n",
    "#         print(loss)\n",
    "\n",
    "        oof_train_df[target] = oof_train\n",
    "        oof_test_df[target] = oof_test\n",
    "        print('------------------------------------------------------------------------')\n",
    "    \n",
    "    dump(imp_df,'imp_df_'+ freq + '_v1.joblib')\n",
    "    dump(imp_df,'imp_fts_'+ freq + '_v1.joblib')\n",
    "    \n",
    "    print('AGG Loss:',agg_loss)\n",
    "    print(\"AGG Loss mean\",np.array(agg_loss).mean())\n",
    "    \n",
    "    return oof_train_df,oof_test_df"
   ]
  },
  {
   "cell_type": "code",
   "execution_count": 42,
   "id": "7b2cb1da",
   "metadata": {
    "execution": {
     "iopub.execute_input": "2022-04-07T18:48:08.427424Z",
     "iopub.status.busy": "2022-04-07T18:48:08.426763Z",
     "iopub.status.idle": "2022-04-07T18:48:08.430307Z",
     "shell.execute_reply": "2022-04-07T18:48:08.430928Z"
    },
    "papermill": {
     "duration": 0.447569,
     "end_time": "2022-04-07T18:48:08.431109",
     "exception": false,
     "start_time": "2022-04-07T18:48:07.983540",
     "status": "completed"
    },
    "tags": []
   },
   "outputs": [],
   "source": [
    "# oof_train_3, oof_test_3 = cvon_df(df_set_3,df_test_set_3,'3')"
   ]
  },
  {
   "cell_type": "code",
   "execution_count": 43,
   "id": "009ee3c6",
   "metadata": {
    "execution": {
     "iopub.execute_input": "2022-04-07T18:48:09.309128Z",
     "iopub.status.busy": "2022-04-07T18:48:09.308376Z",
     "iopub.status.idle": "2022-04-07T18:48:09.311727Z",
     "shell.execute_reply": "2022-04-07T18:48:09.311163Z"
    },
    "papermill": {
     "duration": 0.446694,
     "end_time": "2022-04-07T18:48:09.311886",
     "exception": false,
     "start_time": "2022-04-07T18:48:08.865192",
     "status": "completed"
    },
    "tags": []
   },
   "outputs": [],
   "source": [
    "# oof_train_3.to_csv('oof_train_3_v1.csv')\n",
    "# oof_test_3.to_csv('oof_test_3_v1.csv')"
   ]
  },
  {
   "cell_type": "code",
   "execution_count": 44,
   "id": "66bf281f",
   "metadata": {
    "execution": {
     "iopub.execute_input": "2022-04-07T18:48:10.222797Z",
     "iopub.status.busy": "2022-04-07T18:48:10.222028Z",
     "iopub.status.idle": "2022-04-07T19:26:54.501726Z",
     "shell.execute_reply": "2022-04-07T19:26:54.502268Z"
    },
    "papermill": {
     "duration": 2324.750425,
     "end_time": "2022-04-07T19:26:54.502481",
     "exception": false,
     "start_time": "2022-04-07T18:48:09.752056",
     "status": "completed"
    },
    "tags": []
   },
   "outputs": [
    {
     "name": "stdout",
     "output_type": "stream",
     "text": [
      "target: basalt\n",
      "logreg cv score:\n",
      "[0.29618601 0.34251172 0.33147642 0.3045623  0.30368469] 0.31568422627501647\n",
      "[0.29744037 0.34430501 0.31667005 0.31142916 0.31604542] 0.3171780015725899\n",
      "[0.30391862 0.33366086 0.33822246 0.30078298 0.29904712] 0.31512640635640254\n",
      "[0.29616164 0.34246994 0.33219393 0.30454738 0.30363236] 0.31580104914857976\n",
      "(1059, 74)\n",
      "Caliberated catboost CV:\n",
      "logloss for fold 0: 0.1358830946320037\n",
      "logloss for fold 1: 0.14939754737414068\n",
      "logloss for fold 2: 0.15679552664177998\n",
      "logloss for fold 3: 0.17641164294523326\n",
      "logloss for fold 4: 0.1711870593070472\n",
      "CV ccv loss  0.15793497418004096 CV ccv std 0.014679757747536229\n",
      "------------------------------------------------------------------------\n",
      "target: carbonate\n",
      "logreg cv score:\n",
      "[0.29346799 0.24537882 0.24149702 0.33570706 0.25428965] 0.2740681090345786\n",
      "[0.3120115  0.26306459 0.27503564 0.34983382 0.29931206] 0.299851523042478\n",
      "[0.28829173 0.23241007 0.25131178 0.31154878 0.25044888] 0.26680224657321505\n",
      "[0.27824139 0.22833238 0.22317038 0.31812348 0.23722489] 0.25701850420125016\n",
      "(1059, 81)\n",
      "Caliberated catboost CV:\n",
      "logloss for fold 0: 0.15524245415484939\n",
      "logloss for fold 1: 0.07466358847770015\n",
      "logloss for fold 2: 0.07682282710308329\n",
      "logloss for fold 3: 0.14408818955924496\n",
      "logloss for fold 4: 0.07879766733837118\n",
      "CV ccv loss  0.10592294532664978 CV ccv std 0.035913075043959714\n",
      "------------------------------------------------------------------------\n",
      "target: chloride\n",
      "logreg cv score:\n",
      "[0.32790486 0.26108448 0.28901421 0.25388521 0.332007  ] 0.29277915149790273\n",
      "[0.3383186  0.31096058 0.32036654 0.30039875 0.31239248] 0.316487389359151\n",
      "[0.3306376  0.26868631 0.29903706 0.26094747 0.34835547] 0.3015327802647978\n",
      "[0.32789891 0.26106562 0.28901972 0.25385538 0.33200993] 0.29276991079323256\n",
      "(1059, 73)\n",
      "Caliberated catboost CV:\n",
      "logloss for fold 0: 0.20357540370972074\n",
      "logloss for fold 1: 0.13349749750584983\n",
      "logloss for fold 2: 0.1806930347104376\n",
      "logloss for fold 3: 0.11618205612189036\n",
      "logloss for fold 4: 0.201426436941318\n",
      "CV ccv loss  0.1670748857978433 CV ccv std 0.03581980449567109\n",
      "------------------------------------------------------------------------\n",
      "target: iron_oxide\n",
      "logreg cv score:\n",
      "[0.36697975 0.42177068 0.43775229 0.4081568  0.38291864] 0.4035156330707735\n",
      "[0.47436915 0.49217155 0.5226787  0.51035066 0.52571041] 0.5050560910604643\n",
      "[0.3570388  0.41913029 0.42256884 0.4035552  0.36790162] 0.3940389505484023\n",
      "[0.36697854 0.42177754 0.43775123 0.40814973 0.38292778] 0.4035169635119054\n",
      "(1059, 74)\n",
      "Caliberated catboost CV:\n",
      "logloss for fold 0: 0.19842237351629924\n",
      "logloss for fold 1: 0.20800301569491791\n",
      "logloss for fold 2: 0.24765832815913963\n",
      "logloss for fold 3: 0.2141420025194537\n",
      "logloss for fold 4: 0.19500762503861735\n",
      "CV ccv loss  0.21264666898568557 CV ccv std 0.01877808440340594\n",
      "------------------------------------------------------------------------\n",
      "target: oxalate\n",
      "logreg cv score:\n",
      "[0.00984188 0.01327078 0.04604236 0.0258621  0.01698352] 0.022400127487326768\n",
      "[0.03069733 0.05427495 0.06385451 0.04062313 0.0419145 ] 0.0462728844890055\n",
      "[0.00850089 0.01168469 0.03650979 0.0261592  0.01293296] 0.019157507588507434\n",
      "[0.00984435 0.01326709 0.04604432 0.02586922 0.01701134] 0.0224072634223316\n",
      "(1059, 36)\n",
      "Caliberated catboost CV:\n",
      "logloss for fold 0: 0.01069442365250605\n",
      "logloss for fold 1: 0.012550668019230098\n",
      "logloss for fold 2: 0.019230600647567715\n",
      "logloss for fold 3: 0.02023896086814507\n",
      "logloss for fold 4: 0.01102300896534706\n",
      "CV ccv loss  0.014747532430559197 CV ccv std 0.0041323036184406975\n",
      "------------------------------------------------------------------------\n",
      "target: oxychlorine\n",
      "logreg cv score:\n",
      "[0.29223283 0.36762584 0.26074789 0.27288936 0.25765996] 0.2902311738531026\n",
      "[0.40150426 0.43452255 0.39911104 0.34843203 0.36007038] 0.3887280521420037\n",
      "[0.29885401 0.37330214 0.25905494 0.27805557 0.25262616] 0.2923785637415853\n",
      "[0.29223145 0.36762809 0.26076288 0.27289099 0.2576738 ] 0.2902374431694611\n",
      "(1059, 64)\n",
      "Caliberated catboost CV:\n",
      "logloss for fold 0: 0.16571009648373827\n",
      "logloss for fold 1: 0.19472570110561369\n",
      "logloss for fold 2: 0.11052049747114855\n",
      "logloss for fold 3: 0.18192739561484778\n",
      "logloss for fold 4: 0.11149487815172458\n",
      "CV ccv loss  0.1528757137654146 CV ccv std 0.03540192351225343\n",
      "------------------------------------------------------------------------\n",
      "target: phyllosilicate\n",
      "logreg cv score:\n",
      "[0.41060183 0.44999417 0.53982509 0.42846251 0.42077978] 0.4499326785584552\n",
      "[0.47799821 0.52840075 0.57539049 0.55072067 0.48576207] 0.523654438328584\n",
      "[0.43253261 0.45842482 0.54470879 0.43034695 0.42504537] 0.4582117071982325\n",
      "[0.41072349 0.44967956 0.53982238 0.42846487 0.4207783 ] 0.4498937179834068\n",
      "(1059, 71)\n",
      "Caliberated catboost CV:\n",
      "logloss for fold 0: 0.21717945156376917\n",
      "logloss for fold 1: 0.2393615287526272\n",
      "logloss for fold 2: 0.3230034539758006\n",
      "logloss for fold 3: 0.24110057801117601\n",
      "logloss for fold 4: 0.20654166500609966\n",
      "CV ccv loss  0.24543733546189453 CV ccv std 0.04094778825839997\n",
      "------------------------------------------------------------------------\n",
      "target: silicate\n",
      "logreg cv score:\n",
      "[0.34570543 0.35204092 0.32637611 0.34530693 0.34437207] 0.3427602920974856\n",
      "[0.36239786 0.35246824 0.34373231 0.35005483 0.3551161 ] 0.3527538683315579\n",
      "[0.35248618 0.35701319 0.33338603 0.35354716 0.34109883] 0.3475062782006725\n",
      "[0.3457168  0.35212159 0.32640817 0.34550653 0.34438725] 0.34282806964526924\n",
      "(1059, 68)\n",
      "Caliberated catboost CV:\n",
      "logloss for fold 0: 0.25196104909760286\n",
      "logloss for fold 1: 0.20162755042342784\n",
      "logloss for fold 2: 0.15283520741417375\n",
      "logloss for fold 3: 0.17992876354227202\n",
      "logloss for fold 4: 0.1791009070989211\n",
      "CV ccv loss  0.19309069551527952 CV ccv std 0.03325071842257057\n",
      "------------------------------------------------------------------------\n",
      "target: sulfate\n",
      "logreg cv score:\n",
      "[0.37581412 0.32789106 0.30231648 0.35106315 0.31550575] 0.3345181126282285\n",
      "[0.39187597 0.4082938  0.56332907 0.45507159 0.40986362] 0.44568680777142033\n",
      "[0.40704799 0.34943374 0.36049931 0.37404849 0.35870463] 0.36994683162147657\n",
      "[0.37580665 0.32788139 0.30232754 0.35107084 0.31550757] 0.334518799038306\n",
      "(1059, 75)\n",
      "Caliberated catboost CV:\n",
      "logloss for fold 0: 0.22384894462688168\n",
      "logloss for fold 1: 0.21582191305795556\n",
      "logloss for fold 2: 0.11431807736368695\n",
      "logloss for fold 3: 0.2054254514140197\n",
      "logloss for fold 4: 0.14102714834223817\n",
      "CV ccv loss  0.1800883069609564 CV ccv std 0.0440121622203988\n",
      "------------------------------------------------------------------------\n",
      "target: sulfide\n",
      "logreg cv score:\n",
      "[0.15153869 0.16740655 0.14186937 0.136492   0.14016926] 0.14749517389430455\n",
      "[0.18500622 0.16664159 0.16464513 0.15967224 0.15542162] 0.16627736034417134\n",
      "[0.14847687 0.16158962 0.14258704 0.13429706 0.12263312] 0.14191674133338597\n",
      "[0.15154069 0.16742103 0.14184064 0.1365184  0.1401715 ] 0.1474984507466049\n",
      "(1059, 54)\n",
      "Caliberated catboost CV:\n",
      "logloss for fold 0: 0.09511173461491146\n",
      "logloss for fold 1: 0.12298101069329703\n",
      "logloss for fold 2: 0.07811420690465849\n",
      "logloss for fold 3: 0.05441557787822379\n",
      "logloss for fold 4: 0.10098219183606406\n",
      "CV ccv loss  0.09032094438543097 CV ccv std 0.02298474965450829\n",
      "------------------------------------------------------------------------\n",
      "AGG Loss: [0.15793497418004096, 0.10592294532664978, 0.1670748857978433, 0.21264666898568557, 0.014747532430559197, 0.1528757137654146, 0.24543733546189453, 0.19309069551527952, 0.1800883069609564, 0.09032094438543097]\n",
      "AGG Loss mean 0.1520140002809755\n"
     ]
    }
   ],
   "source": [
    "oof_train_200, oof_test_200 = cvon_df(df_set_200,df_test_set_200,'200')"
   ]
  },
  {
   "cell_type": "code",
   "execution_count": 45,
   "id": "43cf3d86",
   "metadata": {
    "execution": {
     "iopub.execute_input": "2022-04-07T19:26:55.433410Z",
     "iopub.status.busy": "2022-04-07T19:26:55.432757Z",
     "iopub.status.idle": "2022-04-07T19:26:55.478357Z",
     "shell.execute_reply": "2022-04-07T19:26:55.477769Z"
    },
    "papermill": {
     "duration": 0.516394,
     "end_time": "2022-04-07T19:26:55.478518",
     "exception": false,
     "start_time": "2022-04-07T19:26:54.962124",
     "status": "completed"
    },
    "tags": []
   },
   "outputs": [],
   "source": [
    "oof_train_200.to_csv('oof_train_200_v1.csv')\n",
    "oof_test_200.to_csv('oof_test_200_v1.csv')"
   ]
  },
  {
   "cell_type": "code",
   "execution_count": 46,
   "id": "df78490b",
   "metadata": {
    "execution": {
     "iopub.execute_input": "2022-04-07T19:26:56.409544Z",
     "iopub.status.busy": "2022-04-07T19:26:56.408882Z",
     "iopub.status.idle": "2022-04-07T19:26:56.410940Z",
     "shell.execute_reply": "2022-04-07T19:26:56.411533Z"
    },
    "papermill": {
     "duration": 0.471838,
     "end_time": "2022-04-07T19:26:56.411735",
     "exception": false,
     "start_time": "2022-04-07T19:26:55.939897",
     "status": "completed"
    },
    "tags": []
   },
   "outputs": [],
   "source": [
    "# oof_train_5, oof_test_5 = cvon_df(df_set_5,df_test_set_5,'5')"
   ]
  },
  {
   "cell_type": "code",
   "execution_count": 47,
   "id": "676f2db8",
   "metadata": {
    "execution": {
     "iopub.execute_input": "2022-04-07T19:26:57.344814Z",
     "iopub.status.busy": "2022-04-07T19:26:57.344096Z",
     "iopub.status.idle": "2022-04-07T19:26:57.348265Z",
     "shell.execute_reply": "2022-04-07T19:26:57.347735Z"
    },
    "papermill": {
     "duration": 0.470863,
     "end_time": "2022-04-07T19:26:57.348408",
     "exception": false,
     "start_time": "2022-04-07T19:26:56.877545",
     "status": "completed"
    },
    "tags": []
   },
   "outputs": [],
   "source": [
    "# oof_train_5.to_csv('oof_train_5_v1.csv')\n",
    "# oof_test_5.to_csv('oof_test_5_v1.csv')"
   ]
  },
  {
   "cell_type": "code",
   "execution_count": 48,
   "id": "38f1459f",
   "metadata": {
    "execution": {
     "iopub.execute_input": "2022-04-07T19:26:58.308704Z",
     "iopub.status.busy": "2022-04-07T19:26:58.307993Z",
     "iopub.status.idle": "2022-04-07T19:26:58.310755Z",
     "shell.execute_reply": "2022-04-07T19:26:58.310116Z",
     "shell.execute_reply.started": "2022-04-06T16:06:16.119071Z"
    },
    "papermill": {
     "duration": 0.472099,
     "end_time": "2022-04-07T19:26:58.310916",
     "exception": false,
     "start_time": "2022-04-07T19:26:57.838817",
     "status": "completed"
    },
    "tags": []
   },
   "outputs": [],
   "source": [
    "# %%time\n",
    "# oof_train_500, oof_test_500 = cvon_df(df_set_500,df_test_set_500,'500')"
   ]
  },
  {
   "cell_type": "code",
   "execution_count": 49,
   "id": "7e1d67ed",
   "metadata": {
    "execution": {
     "iopub.execute_input": "2022-04-07T19:26:59.279128Z",
     "iopub.status.busy": "2022-04-07T19:26:59.278030Z",
     "iopub.status.idle": "2022-04-07T19:26:59.282460Z",
     "shell.execute_reply": "2022-04-07T19:26:59.281843Z",
     "shell.execute_reply.started": "2022-04-06T16:34:54.66965Z"
    },
    "papermill": {
     "duration": 0.496633,
     "end_time": "2022-04-07T19:26:59.282643",
     "exception": false,
     "start_time": "2022-04-07T19:26:58.786010",
     "status": "completed"
    },
    "tags": []
   },
   "outputs": [],
   "source": [
    "# oof_train_500.to_csv('oof_train_500_v1.csv')\n",
    "# oof_test_500.to_csv('oof_test_500_v1.csv')"
   ]
  },
  {
   "cell_type": "code",
   "execution_count": null,
   "id": "188ce005",
   "metadata": {
    "papermill": {
     "duration": 0.485631,
     "end_time": "2022-04-07T19:27:00.254971",
     "exception": false,
     "start_time": "2022-04-07T19:26:59.769340",
     "status": "completed"
    },
    "tags": []
   },
   "outputs": [],
   "source": []
  }
 ],
 "metadata": {
  "kernelspec": {
   "display_name": "Python 3",
   "language": "python",
   "name": "python3"
  },
  "language_info": {
   "codemirror_mode": {
    "name": "ipython",
    "version": 3
   },
   "file_extension": ".py",
   "mimetype": "text/x-python",
   "name": "python",
   "nbconvert_exporter": "python",
   "pygments_lexer": "ipython3",
   "version": "3.7.12"
  },
  "papermill": {
   "default_parameters": {},
   "duration": 2931.809487,
   "end_time": "2022-04-07T19:27:04.418647",
   "environment_variables": {},
   "exception": null,
   "input_path": "__notebook__.ipynb",
   "output_path": "__notebook__.ipynb",
   "parameters": {},
   "start_time": "2022-04-07T18:38:12.609160",
   "version": "2.3.3"
  }
 },
 "nbformat": 4,
 "nbformat_minor": 5
}
