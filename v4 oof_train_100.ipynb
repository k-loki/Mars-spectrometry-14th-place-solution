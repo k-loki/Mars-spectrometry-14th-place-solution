{
 "cells": [
  {
   "cell_type": "code",
   "execution_count": 3,
   "id": "b4d74717",
   "metadata": {
    "execution": {
     "iopub.execute_input": "2022-04-17T20:25:48.537315Z",
     "iopub.status.busy": "2022-04-17T20:25:48.536288Z",
     "iopub.status.idle": "2022-04-17T20:25:52.323281Z",
     "shell.execute_reply": "2022-04-17T20:25:52.322689Z",
     "shell.execute_reply.started": "2022-04-17T20:04:33.827434Z"
    },
    "papermill": {
     "duration": 3.821218,
     "end_time": "2022-04-17T20:25:52.323457",
     "exception": false,
     "start_time": "2022-04-17T20:25:48.502239",
     "status": "completed"
    },
    "tags": []
   },
   "outputs": [
    {
     "data": {
      "text/html": [
       "<style type='text/css'>\n",
       ".datatable table.frame { margin-bottom: 0; }\n",
       ".datatable table.frame thead { border-bottom: none; }\n",
       ".datatable table.frame tr.coltypes td {  color: #FFFFFF;  line-height: 6px;  padding: 0 0.5em;}\n",
       ".datatable .bool    { background: #DDDD99; }\n",
       ".datatable .object  { background: #565656; }\n",
       ".datatable .int     { background: #5D9E5D; }\n",
       ".datatable .float   { background: #4040CC; }\n",
       ".datatable .str     { background: #CC4040; }\n",
       ".datatable .time    { background: #40CC40; }\n",
       ".datatable .row_index {  background: var(--jp-border-color3);  border-right: 1px solid var(--jp-border-color0);  color: var(--jp-ui-font-color3);  font-size: 9px;}\n",
       ".datatable .frame tbody td { text-align: left; }\n",
       ".datatable .frame tr.coltypes .row_index {  background: var(--jp-border-color0);}\n",
       ".datatable th:nth-child(2) { padding-left: 12px; }\n",
       ".datatable .hellipsis {  color: var(--jp-cell-editor-border-color);}\n",
       ".datatable .vellipsis {  background: var(--jp-layout-color0);  color: var(--jp-cell-editor-border-color);}\n",
       ".datatable .na {  color: var(--jp-cell-editor-border-color);  font-size: 80%;}\n",
       ".datatable .sp {  opacity: 0.25;}\n",
       ".datatable .footer { font-size: 9px; }\n",
       ".datatable .frame_dimensions {  background: var(--jp-border-color3);  border-top: 1px solid var(--jp-border-color0);  color: var(--jp-ui-font-color3);  display: inline-block;  opacity: 0.6;  padding: 1px 10px 1px 5px;}\n",
       "</style>\n"
      ],
      "text/plain": [
       "<IPython.core.display.HTML object>"
      ]
     },
     "metadata": {},
     "output_type": "display_data"
    }
   ],
   "source": [
    "import pandas as pd\n",
    "import pandas_profiling\n",
    "import numpy as np\n",
    "import matplotlib.pyplot as plt\n",
    "%matplotlib inline\n",
    "import seaborn as sns\n",
    "from tqdm import tqdm\n",
    "\n",
    "from sklearn.preprocessing import QuantileTransformer, PowerTransformer\n",
    "from sklearn.metrics import make_scorer, log_loss\n",
    "from sklearn.model_selection import StratifiedKFold, cross_val_score\n",
    "from sklearn.ensemble import HistGradientBoostingClassifier\n",
    "from sklearn.linear_model import LogisticRegression\n",
    "from sklearn.calibration import CalibratedClassifierCV, calibration_curve\n",
    "\n",
    "from catboost import CatBoostClassifier\n",
    "from xgboost import XGBClassifier\n",
    "from lightgbm import LGBMClassifier\n",
    "\n",
    "RANDOM_SEED = 777\n",
    "np.random.seed(RANDOM_SEED)\n",
    "np.random.SeedSequence(RANDOM_SEED)\n",
    "import warnings\n",
    "warnings.filterwarnings('ignore')\n",
    "import os\n",
    "os.environ['PYTHONHASHSEED'] = str(RANDOM_SEED)"
   ]
  },
  {
   "cell_type": "code",
   "execution_count": 4,
   "id": "7d5fbb4f",
   "metadata": {
    "execution": {
     "iopub.execute_input": "2022-04-17T20:25:52.380569Z",
     "iopub.status.busy": "2022-04-17T20:25:52.379919Z",
     "iopub.status.idle": "2022-04-17T20:25:52.441628Z",
     "shell.execute_reply": "2022-04-17T20:25:52.442163Z",
     "shell.execute_reply.started": "2022-04-17T20:04:38.011624Z"
    },
    "papermill": {
     "duration": 0.091257,
     "end_time": "2022-04-17T20:25:52.442373",
     "exception": false,
     "start_time": "2022-04-17T20:25:52.351116",
     "status": "completed"
    },
    "tags": []
   },
   "outputs": [],
   "source": [
    "metadata = pd.read_csv('../input/is-this-crazy/metadata.csv')\n",
    "sup_metadata = pd.read_csv('../input/is-this-crazy/supplemental_metadata.csv')\n",
    "train_labels = pd.read_csv('../input/is-this-crazy/train_labels.csv', index_col=\"sample_id\")\n",
    "val_labels = pd.read_csv('../input/is-this-crazy/val_labels.csv',index_col='sample_id')\n",
    "# targets = pd.read_csv('targets.csv',index_col='sample_id')\n",
    "submission_format = pd.read_csv('../input/is-this-crazy/submission_format.csv')"
   ]
  },
  {
   "cell_type": "code",
   "execution_count": 5,
   "id": "39049531",
   "metadata": {
    "execution": {
     "iopub.execute_input": "2022-04-17T20:25:52.497703Z",
     "iopub.status.busy": "2022-04-17T20:25:52.497112Z",
     "iopub.status.idle": "2022-04-17T20:25:52.502526Z",
     "shell.execute_reply": "2022-04-17T20:25:52.503050Z",
     "shell.execute_reply.started": "2022-04-17T20:04:40.737290Z"
    },
    "papermill": {
     "duration": 0.034468,
     "end_time": "2022-04-17T20:25:52.503219",
     "exception": false,
     "start_time": "2022-04-17T20:25:52.468751",
     "status": "completed"
    },
    "tags": []
   },
   "outputs": [
    {
     "data": {
      "text/plain": [
       "(1059, 10)"
      ]
     },
     "execution_count": 5,
     "metadata": {},
     "output_type": "execute_result"
    }
   ],
   "source": [
    "targets = pd.concat([train_labels,val_labels],axis=0)\n",
    "targets.shape"
   ]
  },
  {
   "cell_type": "code",
   "execution_count": 6,
   "id": "17368e26",
   "metadata": {
    "execution": {
     "iopub.execute_input": "2022-04-17T20:25:52.562352Z",
     "iopub.status.busy": "2022-04-17T20:25:52.561640Z",
     "iopub.status.idle": "2022-04-17T20:25:52.568401Z",
     "shell.execute_reply": "2022-04-17T20:25:52.568897Z",
     "shell.execute_reply.started": "2022-04-17T20:18:55.508163Z"
    },
    "papermill": {
     "duration": 0.038771,
     "end_time": "2022-04-17T20:25:52.569081",
     "exception": false,
     "start_time": "2022-04-17T20:25:52.530310",
     "status": "completed"
    },
    "tags": []
   },
   "outputs": [],
   "source": [
    "sam_id = metadata[metadata.instrument_type == 'sam_testbed'].index"
   ]
  },
  {
   "cell_type": "code",
   "execution_count": 7,
   "id": "a81440c8",
   "metadata": {
    "execution": {
     "iopub.execute_input": "2022-04-17T20:25:52.627289Z",
     "iopub.status.busy": "2022-04-17T20:25:52.626677Z",
     "iopub.status.idle": "2022-04-17T20:25:52.629644Z",
     "shell.execute_reply": "2022-04-17T20:25:52.630145Z"
    },
    "papermill": {
     "duration": 0.03303,
     "end_time": "2022-04-17T20:25:52.630311",
     "exception": false,
     "start_time": "2022-04-17T20:25:52.597281",
     "status": "completed"
    },
    "tags": []
   },
   "outputs": [],
   "source": [
    "# only change the data sets here...\n",
    "train_path = '../input/train-rg-transformed/train_100.csv'\n",
    "test_path =  '../input/train-rg-transformed/test_100.csv'\n",
    "val_path = '../input/train-rg-transformed/val_100.csv'"
   ]
  },
  {
   "cell_type": "code",
   "execution_count": 8,
   "id": "7bcc0b14",
   "metadata": {
    "execution": {
     "iopub.execute_input": "2022-04-17T20:25:52.687742Z",
     "iopub.status.busy": "2022-04-17T20:25:52.687154Z",
     "iopub.status.idle": "2022-04-17T20:25:53.887360Z",
     "shell.execute_reply": "2022-04-17T20:25:53.887844Z",
     "shell.execute_reply.started": "2022-04-17T20:04:40.977339Z"
    },
    "papermill": {
     "duration": 1.23035,
     "end_time": "2022-04-17T20:25:53.888049",
     "exception": false,
     "start_time": "2022-04-17T20:25:52.657699",
     "status": "completed"
    },
    "tags": []
   },
   "outputs": [
    {
     "name": "stdout",
     "output_type": "stream",
     "text": [
      "CPU times: user 761 ms, sys: 93.1 ms, total: 854 ms\n",
      "Wall time: 1.19 s\n"
     ]
    }
   ],
   "source": [
    "%%time\n",
    "test_100 = pd.read_csv(test_path,index_col=0,header=[0,1])\n",
    "train_100 = pd.read_csv(train_path,index_col=0,header=[0,1])\n",
    "val_100 = pd.read_csv(val_path,index_col=0,header=[0,1])\n",
    "\n",
    "val_100.index = metadata[metadata.split == 'val'].sample_id\n",
    "\n",
    "val_100.sort_index(inplace=True,axis=1)\n",
    "test_100.sort_index(inplace=True,axis=1)\n",
    "train_100.sort_index(inplace=True,axis=1)"
   ]
  },
  {
   "cell_type": "code",
   "execution_count": 9,
   "id": "9dfb9d07",
   "metadata": {
    "execution": {
     "iopub.execute_input": "2022-04-17T20:25:53.945867Z",
     "iopub.status.busy": "2022-04-17T20:25:53.945300Z",
     "iopub.status.idle": "2022-04-17T20:25:53.947971Z",
     "shell.execute_reply": "2022-04-17T20:25:53.948403Z",
     "shell.execute_reply.started": "2022-04-17T20:04:45.292890Z"
    },
    "papermill": {
     "duration": 0.033545,
     "end_time": "2022-04-17T20:25:53.948563",
     "exception": false,
     "start_time": "2022-04-17T20:25:53.915018",
     "status": "completed"
    },
    "tags": []
   },
   "outputs": [],
   "source": [
    "# train_100.drop(columns=[('sample_id_encoded', 'Unnamed: 1601_level_1')],axis=1,inplace=True)"
   ]
  },
  {
   "cell_type": "code",
   "execution_count": 10,
   "id": "a833ab5b",
   "metadata": {
    "execution": {
     "iopub.execute_input": "2022-04-17T20:25:54.009556Z",
     "iopub.status.busy": "2022-04-17T20:25:54.008875Z",
     "iopub.status.idle": "2022-04-17T20:25:54.033625Z",
     "shell.execute_reply": "2022-04-17T20:25:54.032967Z",
     "shell.execute_reply.started": "2022-04-17T20:04:45.557946Z"
    },
    "papermill": {
     "duration": 0.057892,
     "end_time": "2022-04-17T20:25:54.033779",
     "exception": false,
     "start_time": "2022-04-17T20:25:53.975887",
     "status": "completed"
    },
    "tags": []
   },
   "outputs": [
    {
     "data": {
      "text/plain": [
       "((1059, 2100), (804, 2100))"
      ]
     },
     "execution_count": 10,
     "metadata": {},
     "output_type": "execute_result"
    }
   ],
   "source": [
    "train_set_100 = pd.concat([train_100,val_100],axis=0)\n",
    "test_set_100 = pd.concat([val_100,test_100],axis=0)\n",
    "train_set_100.shape, test_set_100.shape"
   ]
  },
  {
   "cell_type": "code",
   "execution_count": 11,
   "id": "786c1063",
   "metadata": {
    "execution": {
     "iopub.execute_input": "2022-04-17T20:25:54.094592Z",
     "iopub.status.busy": "2022-04-17T20:25:54.093995Z",
     "iopub.status.idle": "2022-04-17T20:25:54.096291Z",
     "shell.execute_reply": "2022-04-17T20:25:54.096843Z",
     "shell.execute_reply.started": "2022-04-17T20:05:02.932691Z"
    },
    "papermill": {
     "duration": 0.035143,
     "end_time": "2022-04-17T20:25:54.097025",
     "exception": false,
     "start_time": "2022-04-17T20:25:54.061882",
     "status": "completed"
    },
    "tags": []
   },
   "outputs": [],
   "source": [
    "skf = StratifiedKFold(n_splits=20,random_state=RANDOM_SEED,shuffle=True)\n",
    "log_loss_scorer = make_scorer(log_loss,needs_proba=True)"
   ]
  },
  {
   "cell_type": "code",
   "execution_count": 12,
   "id": "7ad2bc94",
   "metadata": {
    "execution": {
     "iopub.execute_input": "2022-04-17T20:25:54.154967Z",
     "iopub.status.busy": "2022-04-17T20:25:54.154383Z",
     "iopub.status.idle": "2022-04-17T20:25:54.161232Z",
     "shell.execute_reply": "2022-04-17T20:25:54.161755Z",
     "shell.execute_reply.started": "2022-04-17T20:05:03.332460Z"
    },
    "papermill": {
     "duration": 0.037602,
     "end_time": "2022-04-17T20:25:54.161924",
     "exception": false,
     "start_time": "2022-04-17T20:25:54.124322",
     "status": "completed"
    },
    "tags": []
   },
   "outputs": [
    {
     "data": {
      "text/plain": [
       "LogisticRegression(C=10, penalty='l1', random_state=777, solver='liblinear')"
      ]
     },
     "execution_count": 12,
     "metadata": {},
     "output_type": "execute_result"
    }
   ],
   "source": [
    "phy = 'phyllosilicate'\n",
    "bas = 'basalt'\n",
    "lr = LogisticRegression(solver='liblinear',C=10,random_state=RANDOM_SEED,penalty='l1')\n",
    "lr"
   ]
  },
  {
   "cell_type": "code",
   "execution_count": 13,
   "id": "2930fd85",
   "metadata": {
    "execution": {
     "iopub.execute_input": "2022-04-17T20:25:54.220005Z",
     "iopub.status.busy": "2022-04-17T20:25:54.219393Z",
     "iopub.status.idle": "2022-04-17T20:25:54.224570Z",
     "shell.execute_reply": "2022-04-17T20:25:54.225112Z",
     "shell.execute_reply.started": "2022-04-17T20:05:12.678976Z"
    },
    "papermill": {
     "duration": 0.035753,
     "end_time": "2022-04-17T20:25:54.225274",
     "exception": false,
     "start_time": "2022-04-17T20:25:54.189521",
     "status": "completed"
    },
    "tags": []
   },
   "outputs": [],
   "source": [
    "def get_coefs(X,y,c):\n",
    "    lr = LogisticRegression(solver='liblinear',C=c,random_state=RANDOM_SEED,penalty='l1')\n",
    "    print(cross_val_score(lr,X,y,cv=skf,scoring=log_loss_scorer).mean())\n",
    "    lr.fit(X,y)\n",
    "    # print(log_loss(y,lr.predict_proba(X)))\n",
    "    coefs =  lr.coef_\n",
    "    coefs_list  = []\n",
    "    for id,wt in enumerate(tqdm(coefs[0])):\n",
    "        if wt != 0:\n",
    "            coefs_list.append(id)\n",
    "    print(len(coefs_list))\n",
    "    return coefs_list"
   ]
  },
  {
   "cell_type": "code",
   "execution_count": 14,
   "id": "d1fc119f",
   "metadata": {
    "execution": {
     "iopub.execute_input": "2022-04-17T20:25:54.283060Z",
     "iopub.status.busy": "2022-04-17T20:25:54.282489Z",
     "iopub.status.idle": "2022-04-17T20:25:54.286692Z",
     "shell.execute_reply": "2022-04-17T20:25:54.287167Z",
     "shell.execute_reply.started": "2022-04-17T20:05:12.848008Z"
    },
    "papermill": {
     "duration": 0.034537,
     "end_time": "2022-04-17T20:25:54.287327",
     "exception": false,
     "start_time": "2022-04-17T20:25:54.252790",
     "status": "completed"
    },
    "tags": []
   },
   "outputs": [],
   "source": [
    "def get_mz(mz,df):\n",
    "    ''' returns list of columns for given mz'''\n",
    "    cols_list = []\n",
    "    for col in df.columns:\n",
    "        if col[0] == str(mz):\n",
    "            cols_list.append(col)\n",
    "    return cols_list"
   ]
  },
  {
   "cell_type": "code",
   "execution_count": 15,
   "id": "e707d498",
   "metadata": {
    "execution": {
     "iopub.execute_input": "2022-04-17T20:25:54.345635Z",
     "iopub.status.busy": "2022-04-17T20:25:54.344999Z",
     "iopub.status.idle": "2022-04-17T20:25:54.350413Z",
     "shell.execute_reply": "2022-04-17T20:25:54.349846Z",
     "shell.execute_reply.started": "2022-04-17T20:05:13.498441Z"
    },
    "papermill": {
     "duration": 0.035784,
     "end_time": "2022-04-17T20:25:54.350568",
     "exception": false,
     "start_time": "2022-04-17T20:25:54.314784",
     "status": "completed"
    },
    "tags": []
   },
   "outputs": [],
   "source": [
    "def get_total_abundance(df):\n",
    "    ''' returns total abundance for each sample'''\n",
    "    tot_abund_df = pd.DataFrame(index=df.index)\n",
    "    tot_abund_df['tot_abund'] = df.sum(axis=1)\n",
    "    for mz in tqdm(range(0,100)):\n",
    "        tot_abund_df[f\"tot_abund_{mz}\"] = df[get_mz(mz,df)].sum(axis=1)\n",
    "    print(tot_abund_df.shape)\n",
    "    return tot_abund_df"
   ]
  },
  {
   "cell_type": "code",
   "execution_count": 16,
   "id": "1b3a599d",
   "metadata": {
    "execution": {
     "iopub.execute_input": "2022-04-17T20:25:54.412976Z",
     "iopub.status.busy": "2022-04-17T20:25:54.412317Z",
     "iopub.status.idle": "2022-04-17T20:25:54.414056Z",
     "shell.execute_reply": "2022-04-17T20:25:54.414533Z",
     "shell.execute_reply.started": "2022-04-17T20:05:15.108258Z"
    },
    "papermill": {
     "duration": 0.03659,
     "end_time": "2022-04-17T20:25:54.414706",
     "exception": false,
     "start_time": "2022-04-17T20:25:54.378116",
     "status": "completed"
    },
    "tags": []
   },
   "outputs": [],
   "source": [
    "def get_grads(df,bin_size=5):\n",
    "    ''' returns gradients for each mz'''\n",
    "    grad_df = pd.DataFrame(index=df.index)\n",
    "    for mz in tqdm(range(0,100)):\n",
    "        df_mz = df.loc[:,get_mz(mz,df)]\n",
    "        # df_mz_col1 = df_mz.iloc[:,0].values\n",
    "        df_mz = df_mz.diff(axis=1)\n",
    "        # df_mz.iloc[:,0] = df_mz_col1\n",
    "        df_mz.dropna(axis='columns',inplace=True)\n",
    "        # df_mz = df_mz/bin_size\n",
    "        df_mz.columns = [col[0]+ '_' + col[1] + '_' + 'grad' for col in df_mz.columns]\n",
    "        grad_df = pd.concat([grad_df,df_mz],axis=1)\n",
    "    print(grad_df.shape)\n",
    "\n",
    "    return  grad_df"
   ]
  },
  {
   "cell_type": "code",
   "execution_count": 17,
   "id": "6e63094a",
   "metadata": {
    "execution": {
     "iopub.execute_input": "2022-04-17T20:25:54.472833Z",
     "iopub.status.busy": "2022-04-17T20:25:54.472269Z",
     "iopub.status.idle": "2022-04-17T20:25:54.476831Z",
     "shell.execute_reply": "2022-04-17T20:25:54.477312Z",
     "shell.execute_reply.started": "2022-04-17T20:05:15.907891Z"
    },
    "papermill": {
     "duration": 0.035336,
     "end_time": "2022-04-17T20:25:54.477484",
     "exception": false,
     "start_time": "2022-04-17T20:25:54.442148",
     "status": "completed"
    },
    "tags": []
   },
   "outputs": [],
   "source": [
    "def get_mean_std(df):\n",
    "    ''' returns mean and std for each mz'''\n",
    "    mean_std_df = pd.DataFrame(index=df.index)\n",
    "    for mz in tqdm(range(0,100)):\n",
    "        df_mz = df.loc[:,get_mz(mz,df)]\n",
    "        df_mz[f'{mz}_mean'] = df_mz.mean(axis=1)\n",
    "        df_mz[f'{mz}_std'] = df_mz.std(axis=1)\n",
    "        mean_std_df = pd.concat([mean_std_df,df_mz],axis=1)\n",
    "    print(mean_std_df.shape)\n",
    "    return mean_std_df"
   ]
  },
  {
   "cell_type": "code",
   "execution_count": 18,
   "id": "3bd2062a",
   "metadata": {
    "execution": {
     "iopub.execute_input": "2022-04-17T20:25:54.536963Z",
     "iopub.status.busy": "2022-04-17T20:25:54.536353Z",
     "iopub.status.idle": "2022-04-17T20:25:54.539164Z",
     "shell.execute_reply": "2022-04-17T20:25:54.539597Z",
     "shell.execute_reply.started": "2022-04-17T20:05:16.818380Z"
    },
    "papermill": {
     "duration": 0.034502,
     "end_time": "2022-04-17T20:25:54.539770",
     "exception": false,
     "start_time": "2022-04-17T20:25:54.505268",
     "status": "completed"
    },
    "tags": []
   },
   "outputs": [],
   "source": [
    "# def add_fts(df):\n",
    "#     tot_abund_df = get_total_abundance(df)\n",
    "#     grad_df = get_grads(df)\n",
    "#     mean_std_df = get_mean_std(df)\n",
    "#     new_df = pd.concat([tot_abund_df,grad_df,mean_std_df],axis=1)\n",
    "#     return new_df"
   ]
  },
  {
   "cell_type": "code",
   "execution_count": 19,
   "id": "46fff2ab",
   "metadata": {
    "execution": {
     "iopub.execute_input": "2022-04-17T20:25:54.602814Z",
     "iopub.status.busy": "2022-04-17T20:25:54.601823Z",
     "iopub.status.idle": "2022-04-17T20:25:54.605821Z",
     "shell.execute_reply": "2022-04-17T20:25:54.605350Z",
     "shell.execute_reply.started": "2022-04-17T20:05:19.717821Z"
    },
    "papermill": {
     "duration": 0.037602,
     "end_time": "2022-04-17T20:25:54.605981",
     "exception": false,
     "start_time": "2022-04-17T20:25:54.568379",
     "status": "completed"
    },
    "tags": []
   },
   "outputs": [
    {
     "data": {
      "text/plain": [
       "((1059, 2100), (804, 2100))"
      ]
     },
     "execution_count": 19,
     "metadata": {},
     "output_type": "execute_result"
    }
   ],
   "source": [
    "train_set_100.shape, test_set_100.shape"
   ]
  },
  {
   "cell_type": "code",
   "execution_count": 20,
   "id": "c9c39d49",
   "metadata": {
    "execution": {
     "iopub.execute_input": "2022-04-17T20:25:54.665351Z",
     "iopub.status.busy": "2022-04-17T20:25:54.664462Z",
     "iopub.status.idle": "2022-04-17T20:25:54.669611Z",
     "shell.execute_reply": "2022-04-17T20:25:54.670060Z",
     "shell.execute_reply.started": "2022-04-17T20:17:45.984539Z"
    },
    "papermill": {
     "duration": 0.036477,
     "end_time": "2022-04-17T20:25:54.670238",
     "exception": false,
     "start_time": "2022-04-17T20:25:54.633761",
     "status": "completed"
    },
    "tags": []
   },
   "outputs": [],
   "source": [
    "assert (train_set_100.columns == test_set_100.columns).all()"
   ]
  },
  {
   "cell_type": "code",
   "execution_count": 21,
   "id": "31519ce6",
   "metadata": {
    "execution": {
     "iopub.execute_input": "2022-04-17T20:25:54.731899Z",
     "iopub.status.busy": "2022-04-17T20:25:54.731008Z",
     "iopub.status.idle": "2022-04-17T20:25:57.316782Z",
     "shell.execute_reply": "2022-04-17T20:25:57.317227Z",
     "shell.execute_reply.started": "2022-04-17T20:17:54.088738Z"
    },
    "papermill": {
     "duration": 2.618859,
     "end_time": "2022-04-17T20:25:57.317403",
     "exception": false,
     "start_time": "2022-04-17T20:25:54.698544",
     "status": "completed"
    },
    "tags": []
   },
   "outputs": [
    {
     "name": "stderr",
     "output_type": "stream",
     "text": [
      "100%|██████████| 100/100 [00:00<00:00, 233.73it/s]\n"
     ]
    },
    {
     "name": "stdout",
     "output_type": "stream",
     "text": [
      "(1059, 101)\n"
     ]
    },
    {
     "name": "stderr",
     "output_type": "stream",
     "text": [
      "100%|██████████| 100/100 [00:01<00:00, 89.89it/s]\n"
     ]
    },
    {
     "name": "stdout",
     "output_type": "stream",
     "text": [
      "(1059, 2000)\n"
     ]
    },
    {
     "name": "stderr",
     "output_type": "stream",
     "text": [
      "100%|██████████| 100/100 [00:01<00:00, 98.26it/s]"
     ]
    },
    {
     "name": "stdout",
     "output_type": "stream",
     "text": [
      "(1059, 2300)\n"
     ]
    },
    {
     "name": "stderr",
     "output_type": "stream",
     "text": [
      "\n"
     ]
    }
   ],
   "source": [
    "t_100 = get_total_abundance(train_set_100)\n",
    "g_100 = get_grads(train_set_100)\n",
    "m_100 = get_mean_std(train_set_100)"
   ]
  },
  {
   "cell_type": "code",
   "execution_count": 22,
   "id": "09e0db15",
   "metadata": {
    "execution": {
     "iopub.execute_input": "2022-04-17T20:25:57.395901Z",
     "iopub.status.busy": "2022-04-17T20:25:57.395272Z",
     "iopub.status.idle": "2022-04-17T20:25:59.800523Z",
     "shell.execute_reply": "2022-04-17T20:25:59.799799Z",
     "shell.execute_reply.started": "2022-04-17T20:17:56.330876Z"
    },
    "papermill": {
     "duration": 2.446376,
     "end_time": "2022-04-17T20:25:59.800706",
     "exception": false,
     "start_time": "2022-04-17T20:25:57.354330",
     "status": "completed"
    },
    "tags": []
   },
   "outputs": [
    {
     "name": "stderr",
     "output_type": "stream",
     "text": [
      "100%|██████████| 100/100 [00:00<00:00, 246.57it/s]\n"
     ]
    },
    {
     "name": "stdout",
     "output_type": "stream",
     "text": [
      "(804, 101)\n"
     ]
    },
    {
     "name": "stderr",
     "output_type": "stream",
     "text": [
      "100%|██████████| 100/100 [00:01<00:00, 96.48it/s]\n"
     ]
    },
    {
     "name": "stdout",
     "output_type": "stream",
     "text": [
      "(804, 2000)\n"
     ]
    },
    {
     "name": "stderr",
     "output_type": "stream",
     "text": [
      "100%|██████████| 100/100 [00:00<00:00, 106.81it/s]"
     ]
    },
    {
     "name": "stdout",
     "output_type": "stream",
     "text": [
      "(804, 2300)\n"
     ]
    },
    {
     "name": "stderr",
     "output_type": "stream",
     "text": [
      "\n"
     ]
    }
   ],
   "source": [
    "t_100_test = get_total_abundance(test_set_100)\n",
    "g_100_test = get_grads(test_set_100)\n",
    "m_100_test = get_mean_std(test_set_100)\n"
   ]
  },
  {
   "cell_type": "code",
   "execution_count": 23,
   "id": "2725a5d0",
   "metadata": {
    "execution": {
     "iopub.execute_input": "2022-04-17T20:25:59.915173Z",
     "iopub.status.busy": "2022-04-17T20:25:59.914141Z",
     "iopub.status.idle": "2022-04-17T20:25:59.958309Z",
     "shell.execute_reply": "2022-04-17T20:25:59.957555Z",
     "shell.execute_reply.started": "2022-04-17T20:17:58.471549Z"
    },
    "papermill": {
     "duration": 0.106503,
     "end_time": "2022-04-17T20:25:59.958468",
     "exception": false,
     "start_time": "2022-04-17T20:25:59.851965",
     "status": "completed"
    },
    "tags": []
   },
   "outputs": [],
   "source": [
    "t_100_test.sort_index(inplace=True,axis=1)\n",
    "t_100.sort_index(inplace=True,axis=1)\n",
    "\n",
    "m_100_test.sort_index(inplace=True,axis=1)\n",
    "m_100.sort_index(inplace=True,axis=1)\n",
    "\n",
    "g_100_test.sort_index(inplace=True,axis=1)\n",
    "g_100.sort_index(inplace=True,axis=1)"
   ]
  },
  {
   "cell_type": "code",
   "execution_count": 24,
   "id": "47304b1e",
   "metadata": {
    "execution": {
     "iopub.execute_input": "2022-04-17T20:26:00.057196Z",
     "iopub.status.busy": "2022-04-17T20:26:00.056251Z",
     "iopub.status.idle": "2022-04-17T20:26:00.058872Z",
     "shell.execute_reply": "2022-04-17T20:26:00.058405Z",
     "shell.execute_reply.started": "2022-04-17T20:18:06.298361Z"
    },
    "papermill": {
     "duration": 0.054132,
     "end_time": "2022-04-17T20:26:00.059039",
     "exception": false,
     "start_time": "2022-04-17T20:26:00.004907",
     "status": "completed"
    },
    "tags": []
   },
   "outputs": [],
   "source": [
    "assert (t_100.columns == t_100_test.columns).all()\n",
    "assert (g_100.columns == g_100_test.columns).all()\n",
    "assert (m_100.columns == m_100_test.columns).all()"
   ]
  },
  {
   "cell_type": "code",
   "execution_count": 25,
   "id": "a448e444",
   "metadata": {
    "execution": {
     "iopub.execute_input": "2022-04-17T20:26:00.156048Z",
     "iopub.status.busy": "2022-04-17T20:26:00.155341Z",
     "iopub.status.idle": "2022-04-17T20:26:00.156814Z",
     "shell.execute_reply": "2022-04-17T20:26:00.157360Z",
     "shell.execute_reply.started": "2022-04-17T20:18:06.998448Z"
    },
    "papermill": {
     "duration": 0.051564,
     "end_time": "2022-04-17T20:26:00.157542",
     "exception": false,
     "start_time": "2022-04-17T20:26:00.105978",
     "status": "completed"
    },
    "tags": [],
    "vscode": {
     "languageId": "perl"
    }
   },
   "outputs": [],
   "source": [
    "ntrain = 1059\n",
    "ntest = 804\n",
    "NFOLDS = 20"
   ]
  },
  {
   "cell_type": "code",
   "execution_count": 26,
   "id": "d7d3aac7",
   "metadata": {
    "execution": {
     "iopub.execute_input": "2022-04-17T20:26:00.250269Z",
     "iopub.status.busy": "2022-04-17T20:26:00.249679Z",
     "iopub.status.idle": "2022-04-17T20:26:00.259554Z",
     "shell.execute_reply": "2022-04-17T20:26:00.259066Z",
     "shell.execute_reply.started": "2022-04-17T20:18:09.733556Z"
    },
    "papermill": {
     "duration": 0.057101,
     "end_time": "2022-04-17T20:26:00.259688",
     "exception": false,
     "start_time": "2022-04-17T20:26:00.202587",
     "status": "completed"
    },
    "tags": [],
    "vscode": {
     "languageId": "perl"
    }
   },
   "outputs": [],
   "source": [
    "oof_train_df = pd.DataFrame(index=metadata[metadata.split != 'test'].index, columns=['sample_id',*targets.columns])\n",
    "oof_test_df = pd.DataFrame(index=metadata[metadata.split != 'train'].index, columns=['sample_id',*targets.columns])"
   ]
  },
  {
   "cell_type": "code",
   "execution_count": 27,
   "id": "6d8553ed",
   "metadata": {
    "execution": {
     "iopub.execute_input": "2022-04-17T20:26:00.352990Z",
     "iopub.status.busy": "2022-04-17T20:26:00.352385Z",
     "iopub.status.idle": "2022-04-18T02:36:16.925234Z",
     "shell.execute_reply": "2022-04-18T02:36:16.921416Z"
    },
    "papermill": {
     "duration": 22216.62091,
     "end_time": "2022-04-18T02:36:16.925554",
     "exception": false,
     "start_time": "2022-04-17T20:26:00.304644",
     "status": "completed"
    },
    "tags": []
   },
   "outputs": [
    {
     "name": "stdout",
     "output_type": "stream",
     "text": [
      "TARGET  basalt\n",
      "0.3128921936953116\n"
     ]
    },
    {
     "name": "stderr",
     "output_type": "stream",
     "text": [
      "100%|██████████| 101/101 [00:00<00:00, 364565.15it/s]"
     ]
    },
    {
     "name": "stdout",
     "output_type": "stream",
     "text": [
      "11\n"
     ]
    },
    {
     "name": "stderr",
     "output_type": "stream",
     "text": [
      "\n"
     ]
    },
    {
     "name": "stdout",
     "output_type": "stream",
     "text": [
      "0.2848754673021992\n"
     ]
    },
    {
     "name": "stderr",
     "output_type": "stream",
     "text": [
      "100%|██████████| 2000/2000 [00:00<00:00, 942434.33it/s]\n"
     ]
    },
    {
     "name": "stdout",
     "output_type": "stream",
     "text": [
      "49\n",
      "0.252383600314522\n"
     ]
    },
    {
     "name": "stderr",
     "output_type": "stream",
     "text": [
      "100%|██████████| 2300/2300 [00:00<00:00, 1643984.19it/s]\n"
     ]
    },
    {
     "name": "stdout",
     "output_type": "stream",
     "text": [
      "63\n",
      "0.25391490644311165\n"
     ]
    },
    {
     "name": "stderr",
     "output_type": "stream",
     "text": [
      "100%|██████████| 2100/2100 [00:00<00:00, 1685103.96it/s]\n"
     ]
    },
    {
     "name": "stdout",
     "output_type": "stream",
     "text": [
      "60\n",
      "(1059, 60) (1059, 11) (1059, 49) (1059, 63)\n",
      "(1059, 183)\n",
      "(804, 60) (804, 11) (804, 49) (804, 63)\n",
      "(804, 183)\n"
     ]
    },
    {
     "name": "stderr",
     "output_type": "stream",
     "text": [
      "0it [00:00, ?it/s]"
     ]
    },
    {
     "name": "stdout",
     "output_type": "stream",
     "text": [
      "Learning rate set to 0.002361\n",
      "0:\tlearn: 0.6908451\ttotal: 85.4ms\tremaining: 7m 7s\n",
      "999:\tlearn: 0.1425132\ttotal: 21.1s\tremaining: 1m 24s\n",
      "1998:\tlearn: 0.0774779\ttotal: 42.1s\tremaining: 1m 3s\n",
      "2997:\tlearn: 0.0476892\ttotal: 1m 2s\tremaining: 41.9s\n",
      "3996:\tlearn: 0.0311525\ttotal: 1m 23s\tremaining: 21s\n",
      "4995:\tlearn: 0.0218391\ttotal: 1m 44s\tremaining: 83.8ms\n",
      "4999:\tlearn: 0.0218076\ttotal: 1m 44s\tremaining: 0us\n"
     ]
    },
    {
     "name": "stderr",
     "output_type": "stream",
     "text": [
      "1it [01:45, 105.57s/it]"
     ]
    },
    {
     "name": "stdout",
     "output_type": "stream",
     "text": [
      "fold Loss 0:  0.1468844570904592\n",
      "---------------------------------------------------------------------------\n",
      "Learning rate set to 0.002361\n",
      "0:\tlearn: 0.6906533\ttotal: 41.7ms\tremaining: 3m 28s\n",
      "999:\tlearn: 0.1434803\ttotal: 20.6s\tremaining: 1m 22s\n",
      "1998:\tlearn: 0.0789151\ttotal: 41.5s\tremaining: 1m 2s\n",
      "2997:\tlearn: 0.0487003\ttotal: 1m 2s\tremaining: 41.7s\n",
      "3996:\tlearn: 0.0317506\ttotal: 1m 22s\tremaining: 20.8s\n"
     ]
    },
    {
     "name": "stderr",
     "output_type": "stream",
     "text": [
      "2it [03:30, 105.11s/it]"
     ]
    },
    {
     "name": "stdout",
     "output_type": "stream",
     "text": [
      "4995:\tlearn: 0.0216851\ttotal: 1m 43s\tremaining: 83.2ms\n",
      "4999:\tlearn: 0.0216552\ttotal: 1m 44s\tremaining: 0us\n",
      "fold Loss 1:  0.1507427017760235\n",
      "---------------------------------------------------------------------------\n",
      "Learning rate set to 0.002361\n",
      "0:\tlearn: 0.6907667\ttotal: 30.3ms\tremaining: 2m 31s\n",
      "999:\tlearn: 0.1450846\ttotal: 20.8s\tremaining: 1m 23s\n",
      "1998:\tlearn: 0.0799997\ttotal: 41.9s\tremaining: 1m 2s\n",
      "2997:\tlearn: 0.0494732\ttotal: 1m 2s\tremaining: 42s\n",
      "3996:\tlearn: 0.0333142\ttotal: 1m 23s\tremaining: 21s\n"
     ]
    },
    {
     "name": "stderr",
     "output_type": "stream",
     "text": [
      "3it [05:15, 105.33s/it]"
     ]
    },
    {
     "name": "stdout",
     "output_type": "stream",
     "text": [
      "4995:\tlearn: 0.0233775\ttotal: 1m 44s\tremaining: 83.8ms\n",
      "4999:\tlearn: 0.0233360\ttotal: 1m 44s\tremaining: 0us\n",
      "fold Loss 2:  0.12819797606640232\n",
      "---------------------------------------------------------------------------\n",
      "Learning rate set to 0.002361\n",
      "0:\tlearn: 0.6906860\ttotal: 41.6ms\tremaining: 3m 28s\n",
      "999:\tlearn: 0.1447376\ttotal: 21.1s\tremaining: 1m 24s\n",
      "1998:\tlearn: 0.0797635\ttotal: 41.8s\tremaining: 1m 2s\n",
      "2997:\tlearn: 0.0494573\ttotal: 1m 2s\tremaining: 42s\n",
      "3996:\tlearn: 0.0331322\ttotal: 1m 23s\tremaining: 21.1s\n"
     ]
    },
    {
     "name": "stderr",
     "output_type": "stream",
     "text": [
      "4it [07:01, 105.40s/it]"
     ]
    },
    {
     "name": "stdout",
     "output_type": "stream",
     "text": [
      "4995:\tlearn: 0.0230555\ttotal: 1m 44s\tremaining: 83.8ms\n",
      "4999:\tlearn: 0.0230187\ttotal: 1m 44s\tremaining: 0us\n",
      "fold Loss 3:  0.06661011414705845\n",
      "---------------------------------------------------------------------------\n",
      "Learning rate set to 0.002361\n",
      "0:\tlearn: 0.6907710\ttotal: 30.7ms\tremaining: 2m 33s\n",
      "999:\tlearn: 0.1461878\ttotal: 21.1s\tremaining: 1m 24s\n",
      "1998:\tlearn: 0.0793943\ttotal: 43.6s\tremaining: 1m 5s\n",
      "2997:\tlearn: 0.0492548\ttotal: 1m 4s\tremaining: 43s\n",
      "3996:\tlearn: 0.0328073\ttotal: 1m 25s\tremaining: 21.4s\n",
      "4995:\tlearn: 0.0226772\ttotal: 1m 46s\tremaining: 85.2ms\n",
      "4999:\tlearn: 0.0226503\ttotal: 1m 46s\tremaining: 0us\n"
     ]
    },
    {
     "name": "stderr",
     "output_type": "stream",
     "text": [
      "5it [08:48, 106.08s/it]"
     ]
    },
    {
     "name": "stdout",
     "output_type": "stream",
     "text": [
      "fold Loss 4:  0.1005006519612614\n",
      "---------------------------------------------------------------------------\n",
      "Learning rate set to 0.002361\n",
      "0:\tlearn: 0.6907635\ttotal: 74.8ms\tremaining: 6m 13s\n",
      "999:\tlearn: 0.1408291\ttotal: 21.3s\tremaining: 1m 25s\n",
      "1998:\tlearn: 0.0765921\ttotal: 42.7s\tremaining: 1m 4s\n",
      "2997:\tlearn: 0.0479914\ttotal: 1m 3s\tremaining: 42.6s\n",
      "3996:\tlearn: 0.0320266\ttotal: 1m 25s\tremaining: 21.4s\n"
     ]
    },
    {
     "name": "stderr",
     "output_type": "stream",
     "text": [
      "6it [10:36, 106.49s/it]"
     ]
    },
    {
     "name": "stdout",
     "output_type": "stream",
     "text": [
      "4995:\tlearn: 0.0227171\ttotal: 1m 46s\tremaining: 85.2ms\n",
      "4999:\tlearn: 0.0226769\ttotal: 1m 46s\tremaining: 0us\n",
      "fold Loss 5:  0.1516884890854628\n",
      "---------------------------------------------------------------------------\n",
      "Learning rate set to 0.002361\n",
      "0:\tlearn: 0.6907076\ttotal: 32ms\tremaining: 2m 39s\n",
      "999:\tlearn: 0.1426022\ttotal: 21s\tremaining: 1m 23s\n",
      "1998:\tlearn: 0.0804905\ttotal: 42.4s\tremaining: 1m 3s\n",
      "2997:\tlearn: 0.0517886\ttotal: 1m 3s\tremaining: 42.6s\n",
      "3996:\tlearn: 0.0358555\ttotal: 1m 24s\tremaining: 21.3s\n"
     ]
    },
    {
     "name": "stderr",
     "output_type": "stream",
     "text": [
      "7it [12:23, 106.72s/it]"
     ]
    },
    {
     "name": "stdout",
     "output_type": "stream",
     "text": [
      "4995:\tlearn: 0.0258167\ttotal: 1m 46s\tremaining: 85.1ms\n",
      "4999:\tlearn: 0.0257891\ttotal: 1m 46s\tremaining: 0us\n",
      "fold Loss 6:  0.16262109049111098\n",
      "---------------------------------------------------------------------------\n",
      "Learning rate set to 0.002361\n",
      "0:\tlearn: 0.6908204\ttotal: 43.5ms\tremaining: 3m 37s\n",
      "999:\tlearn: 0.1454364\ttotal: 21.4s\tremaining: 1m 25s\n",
      "1998:\tlearn: 0.0799157\ttotal: 42.5s\tremaining: 1m 3s\n",
      "2997:\tlearn: 0.0499172\ttotal: 1m 3s\tremaining: 42.6s\n",
      "3996:\tlearn: 0.0330364\ttotal: 1m 25s\tremaining: 21.4s\n"
     ]
    },
    {
     "name": "stderr",
     "output_type": "stream",
     "text": [
      "8it [14:10, 106.81s/it]"
     ]
    },
    {
     "name": "stdout",
     "output_type": "stream",
     "text": [
      "4995:\tlearn: 0.0227393\ttotal: 1m 46s\tremaining: 85ms\n",
      "4999:\tlearn: 0.0227077\ttotal: 1m 46s\tremaining: 0us\n",
      "fold Loss 7:  0.08239492723697703\n",
      "---------------------------------------------------------------------------\n",
      "Learning rate set to 0.002361\n",
      "0:\tlearn: 0.6907793\ttotal: 32.1ms\tremaining: 2m 40s\n",
      "999:\tlearn: 0.1434744\ttotal: 21.5s\tremaining: 1m 26s\n",
      "1998:\tlearn: 0.0793719\ttotal: 43s\tremaining: 1m 4s\n",
      "2997:\tlearn: 0.0499602\ttotal: 1m 4s\tremaining: 42.8s\n",
      "3996:\tlearn: 0.0345269\ttotal: 1m 25s\tremaining: 21.5s\n"
     ]
    },
    {
     "name": "stderr",
     "output_type": "stream",
     "text": [
      "9it [15:57, 107.07s/it]"
     ]
    },
    {
     "name": "stdout",
     "output_type": "stream",
     "text": [
      "4995:\tlearn: 0.0244059\ttotal: 1m 46s\tremaining: 85.5ms\n",
      "4999:\tlearn: 0.0243784\ttotal: 1m 46s\tremaining: 0us\n",
      "fold Loss 8:  0.1582605318276484\n",
      "---------------------------------------------------------------------------\n",
      "Learning rate set to 0.002361\n",
      "0:\tlearn: 0.6904802\ttotal: 42.9ms\tremaining: 3m 34s\n",
      "999:\tlearn: 0.1445796\ttotal: 21.4s\tremaining: 1m 25s\n",
      "1998:\tlearn: 0.0785777\ttotal: 42.7s\tremaining: 1m 4s\n",
      "2997:\tlearn: 0.0475839\ttotal: 1m 3s\tremaining: 42.6s\n",
      "3996:\tlearn: 0.0313230\ttotal: 1m 25s\tremaining: 21.4s\n"
     ]
    },
    {
     "name": "stderr",
     "output_type": "stream",
     "text": [
      "10it [17:45, 107.22s/it]"
     ]
    },
    {
     "name": "stdout",
     "output_type": "stream",
     "text": [
      "4995:\tlearn: 0.0219501\ttotal: 1m 46s\tremaining: 85.4ms\n",
      "4999:\tlearn: 0.0219155\ttotal: 1m 46s\tremaining: 0us\n",
      "fold Loss 9:  0.15963317504373378\n",
      "---------------------------------------------------------------------------\n",
      "Learning rate set to 0.002361\n",
      "0:\tlearn: 0.6907475\ttotal: 32.2ms\tremaining: 2m 41s\n",
      "999:\tlearn: 0.1455432\ttotal: 21.1s\tremaining: 1m 24s\n",
      "1998:\tlearn: 0.0796785\ttotal: 42.6s\tremaining: 1m 3s\n",
      "2997:\tlearn: 0.0500034\ttotal: 1m 3s\tremaining: 42.7s\n",
      "3996:\tlearn: 0.0343706\ttotal: 1m 24s\tremaining: 21.3s\n"
     ]
    },
    {
     "name": "stderr",
     "output_type": "stream",
     "text": [
      "11it [19:32, 107.16s/it]"
     ]
    },
    {
     "name": "stdout",
     "output_type": "stream",
     "text": [
      "4995:\tlearn: 0.0246481\ttotal: 1m 46s\tremaining: 85ms\n",
      "4999:\tlearn: 0.0246209\ttotal: 1m 46s\tremaining: 0us\n",
      "fold Loss 10:  0.10802866137626617\n",
      "---------------------------------------------------------------------------\n",
      "Learning rate set to 0.002361\n",
      "0:\tlearn: 0.6907736\ttotal: 41.8ms\tremaining: 3m 29s\n",
      "999:\tlearn: 0.1445079\ttotal: 21.5s\tremaining: 1m 26s\n",
      "1998:\tlearn: 0.0802807\ttotal: 42.5s\tremaining: 1m 3s\n",
      "2997:\tlearn: 0.0504316\ttotal: 1m 3s\tremaining: 42.7s\n",
      "3996:\tlearn: 0.0337364\ttotal: 1m 25s\tremaining: 21.4s\n"
     ]
    },
    {
     "name": "stderr",
     "output_type": "stream",
     "text": [
      "12it [21:19, 107.07s/it]"
     ]
    },
    {
     "name": "stdout",
     "output_type": "stream",
     "text": [
      "4995:\tlearn: 0.0234784\ttotal: 1m 46s\tremaining: 84.9ms\n",
      "4999:\tlearn: 0.0234563\ttotal: 1m 46s\tremaining: 0us\n",
      "fold Loss 11:  0.09445880189752776\n",
      "---------------------------------------------------------------------------\n",
      "Learning rate set to 0.002361\n",
      "0:\tlearn: 0.6907339\ttotal: 31.9ms\tremaining: 2m 39s\n",
      "999:\tlearn: 0.1442749\ttotal: 21.3s\tremaining: 1m 25s\n",
      "1998:\tlearn: 0.0799358\ttotal: 42.2s\tremaining: 1m 3s\n",
      "2997:\tlearn: 0.0503539\ttotal: 1m 3s\tremaining: 42.3s\n",
      "3996:\tlearn: 0.0341059\ttotal: 1m 24s\tremaining: 21.2s\n"
     ]
    },
    {
     "name": "stderr",
     "output_type": "stream",
     "text": [
      "13it [23:05, 106.90s/it]"
     ]
    },
    {
     "name": "stdout",
     "output_type": "stream",
     "text": [
      "4995:\tlearn: 0.0242017\ttotal: 1m 45s\tremaining: 84.6ms\n",
      "4999:\tlearn: 0.0241641\ttotal: 1m 45s\tremaining: 0us\n",
      "fold Loss 12:  0.15321091306092527\n",
      "---------------------------------------------------------------------------\n",
      "Learning rate set to 0.002361\n",
      "0:\tlearn: 0.6909631\ttotal: 41.7ms\tremaining: 3m 28s\n",
      "999:\tlearn: 0.1478587\ttotal: 21.3s\tremaining: 1m 25s\n",
      "1998:\tlearn: 0.0810626\ttotal: 42.6s\tremaining: 1m 4s\n",
      "2997:\tlearn: 0.0504852\ttotal: 1m 3s\tremaining: 42.5s\n",
      "3996:\tlearn: 0.0339136\ttotal: 1m 24s\tremaining: 21.3s\n"
     ]
    },
    {
     "name": "stderr",
     "output_type": "stream",
     "text": [
      "14it [24:52, 106.97s/it]"
     ]
    },
    {
     "name": "stdout",
     "output_type": "stream",
     "text": [
      "4995:\tlearn: 0.0241327\ttotal: 1m 46s\tremaining: 85.1ms\n",
      "4999:\tlearn: 0.0241123\ttotal: 1m 46s\tremaining: 0us\n",
      "fold Loss 13:  0.03595770806720726\n",
      "---------------------------------------------------------------------------\n",
      "Learning rate set to 0.002361\n",
      "0:\tlearn: 0.6907325\ttotal: 32.7ms\tremaining: 2m 43s\n",
      "999:\tlearn: 0.1454510\ttotal: 21.2s\tremaining: 1m 24s\n",
      "1998:\tlearn: 0.0804074\ttotal: 42.5s\tremaining: 1m 3s\n",
      "2997:\tlearn: 0.0498392\ttotal: 1m 3s\tremaining: 42.7s\n",
      "3996:\tlearn: 0.0337606\ttotal: 1m 24s\tremaining: 21.3s\n"
     ]
    },
    {
     "name": "stderr",
     "output_type": "stream",
     "text": [
      "15it [26:40, 107.03s/it]"
     ]
    },
    {
     "name": "stdout",
     "output_type": "stream",
     "text": [
      "4995:\tlearn: 0.0239209\ttotal: 1m 46s\tremaining: 85.1ms\n",
      "4999:\tlearn: 0.0238870\ttotal: 1m 46s\tremaining: 0us\n",
      "fold Loss 14:  0.08887496724080092\n",
      "---------------------------------------------------------------------------\n",
      "Learning rate set to 0.002361\n",
      "0:\tlearn: 0.6907425\ttotal: 46.7ms\tremaining: 3m 53s\n",
      "999:\tlearn: 0.1410393\ttotal: 21.3s\tremaining: 1m 25s\n",
      "1998:\tlearn: 0.0751968\ttotal: 42.1s\tremaining: 1m 3s\n",
      "2997:\tlearn: 0.0462454\ttotal: 1m 3s\tremaining: 42.3s\n",
      "3996:\tlearn: 0.0308796\ttotal: 1m 24s\tremaining: 21.2s\n"
     ]
    },
    {
     "name": "stderr",
     "output_type": "stream",
     "text": [
      "16it [28:26, 106.78s/it]"
     ]
    },
    {
     "name": "stdout",
     "output_type": "stream",
     "text": [
      "4995:\tlearn: 0.0223531\ttotal: 1m 45s\tremaining: 84.3ms\n",
      "4999:\tlearn: 0.0223282\ttotal: 1m 45s\tremaining: 0us\n",
      "fold Loss 15:  0.2539028758612187\n",
      "---------------------------------------------------------------------------\n",
      "Learning rate set to 0.002361\n",
      "0:\tlearn: 0.6909307\ttotal: 32.3ms\tremaining: 2m 41s\n",
      "999:\tlearn: 0.1429181\ttotal: 21.3s\tremaining: 1m 25s\n",
      "1998:\tlearn: 0.0767595\ttotal: 42.4s\tremaining: 1m 3s\n",
      "2997:\tlearn: 0.0468410\ttotal: 1m 3s\tremaining: 42.6s\n",
      "3996:\tlearn: 0.0307810\ttotal: 1m 25s\tremaining: 21.4s\n"
     ]
    },
    {
     "name": "stderr",
     "output_type": "stream",
     "text": [
      "17it [30:13, 106.84s/it]"
     ]
    },
    {
     "name": "stdout",
     "output_type": "stream",
     "text": [
      "4995:\tlearn: 0.0206975\ttotal: 1m 46s\tremaining: 85ms\n",
      "4999:\tlearn: 0.0206632\ttotal: 1m 46s\tremaining: 0us\n",
      "fold Loss 16:  0.18797958373186363\n",
      "---------------------------------------------------------------------------\n",
      "Learning rate set to 0.002361\n",
      "0:\tlearn: 0.6908000\ttotal: 41.6ms\tremaining: 3m 28s\n",
      "999:\tlearn: 0.1424904\ttotal: 21.5s\tremaining: 1m 26s\n",
      "1998:\tlearn: 0.0770532\ttotal: 42.9s\tremaining: 1m 4s\n",
      "2997:\tlearn: 0.0481839\ttotal: 1m 3s\tremaining: 42.7s\n",
      "3996:\tlearn: 0.0323590\ttotal: 1m 25s\tremaining: 21.4s\n"
     ]
    },
    {
     "name": "stderr",
     "output_type": "stream",
     "text": [
      "18it [32:00, 106.97s/it]"
     ]
    },
    {
     "name": "stdout",
     "output_type": "stream",
     "text": [
      "4995:\tlearn: 0.0227872\ttotal: 1m 46s\tremaining: 85.2ms\n",
      "4999:\tlearn: 0.0227595\ttotal: 1m 46s\tremaining: 0us\n",
      "fold Loss 17:  0.19681802126610576\n",
      "---------------------------------------------------------------------------\n",
      "Learning rate set to 0.002361\n",
      "0:\tlearn: 0.6907588\ttotal: 32.2ms\tremaining: 2m 41s\n",
      "999:\tlearn: 0.1413300\ttotal: 21.1s\tremaining: 1m 24s\n",
      "1998:\tlearn: 0.0768646\ttotal: 42.5s\tremaining: 1m 3s\n",
      "2997:\tlearn: 0.0484445\ttotal: 1m 3s\tremaining: 42.5s\n",
      "3996:\tlearn: 0.0327492\ttotal: 1m 24s\tremaining: 21.2s\n"
     ]
    },
    {
     "name": "stderr",
     "output_type": "stream",
     "text": [
      "19it [33:47, 106.93s/it]"
     ]
    },
    {
     "name": "stdout",
     "output_type": "stream",
     "text": [
      "4995:\tlearn: 0.0231986\ttotal: 1m 45s\tremaining: 84.9ms\n",
      "4999:\tlearn: 0.0231700\ttotal: 1m 46s\tremaining: 0us\n",
      "fold Loss 18:  0.2558726034546594\n",
      "---------------------------------------------------------------------------\n",
      "Learning rate set to 0.002362\n",
      "0:\tlearn: 0.6907680\ttotal: 42ms\tremaining: 3m 29s\n",
      "999:\tlearn: 0.1453623\ttotal: 21.5s\tremaining: 1m 25s\n",
      "1998:\tlearn: 0.0800903\ttotal: 42.5s\tremaining: 1m 3s\n",
      "2997:\tlearn: 0.0494758\ttotal: 1m 3s\tremaining: 42.7s\n",
      "3996:\tlearn: 0.0335083\ttotal: 1m 24s\tremaining: 21.3s\n"
     ]
    },
    {
     "name": "stderr",
     "output_type": "stream",
     "text": [
      "20it [35:34, 106.73s/it]"
     ]
    },
    {
     "name": "stdout",
     "output_type": "stream",
     "text": [
      "4995:\tlearn: 0.0238306\ttotal: 1m 46s\tremaining: 85.1ms\n",
      "4999:\tlearn: 0.0238010\ttotal: 1m 46s\tremaining: 0us\n",
      "fold Loss 19:  0.11680232816640992\n",
      "---------------------------------------------------------------------------\n",
      "Training Loss: 0.02838883124054672\n"
     ]
    },
    {
     "name": "stderr",
     "output_type": "stream",
     "text": [
      "\n"
     ]
    },
    {
     "name": "stdout",
     "output_type": "stream",
     "text": [
      "Loss for basalt:\n",
      "0.13997202894245614 0.055277474218900995\n",
      "==================================================================================================\n",
      "TARGET  carbonate\n",
      "0.3067696687548912\n"
     ]
    },
    {
     "name": "stderr",
     "output_type": "stream",
     "text": [
      "100%|██████████| 101/101 [00:00<00:00, 403836.71it/s]"
     ]
    },
    {
     "name": "stdout",
     "output_type": "stream",
     "text": [
      "13\n"
     ]
    },
    {
     "name": "stderr",
     "output_type": "stream",
     "text": [
      "\n"
     ]
    },
    {
     "name": "stdout",
     "output_type": "stream",
     "text": [
      "0.23474481925049248\n"
     ]
    },
    {
     "name": "stderr",
     "output_type": "stream",
     "text": [
      "100%|██████████| 2000/2000 [00:00<00:00, 1678057.21it/s]\n"
     ]
    },
    {
     "name": "stdout",
     "output_type": "stream",
     "text": [
      "50\n",
      "0.18203920246996258\n"
     ]
    },
    {
     "name": "stderr",
     "output_type": "stream",
     "text": [
      "100%|██████████| 2300/2300 [00:00<00:00, 1516092.91it/s]\n"
     ]
    },
    {
     "name": "stdout",
     "output_type": "stream",
     "text": [
      "62\n",
      "0.22338952653661068\n"
     ]
    },
    {
     "name": "stderr",
     "output_type": "stream",
     "text": [
      "100%|██████████| 2100/2100 [00:00<00:00, 1572864.00it/s]\n"
     ]
    },
    {
     "name": "stdout",
     "output_type": "stream",
     "text": [
      "60\n",
      "(1059, 60) (1059, 13) (1059, 50) (1059, 62)\n",
      "(1059, 185)\n",
      "(804, 60) (804, 13) (804, 50) (804, 62)\n",
      "(804, 185)\n"
     ]
    },
    {
     "name": "stderr",
     "output_type": "stream",
     "text": [
      "0it [00:00, ?it/s]"
     ]
    },
    {
     "name": "stdout",
     "output_type": "stream",
     "text": [
      "Learning rate set to 0.002361\n",
      "0:\tlearn: 0.6905264\ttotal: 31.6ms\tremaining: 2m 37s\n",
      "999:\tlearn: 0.0978166\ttotal: 21.1s\tremaining: 1m 24s\n",
      "1998:\tlearn: 0.0532629\ttotal: 42.3s\tremaining: 1m 3s\n",
      "2997:\tlearn: 0.0323246\ttotal: 1m 3s\tremaining: 42.6s\n",
      "3996:\tlearn: 0.0216574\ttotal: 1m 24s\tremaining: 21.3s\n"
     ]
    },
    {
     "name": "stderr",
     "output_type": "stream",
     "text": [
      "1it [01:46, 106.81s/it]"
     ]
    },
    {
     "name": "stdout",
     "output_type": "stream",
     "text": [
      "4995:\tlearn: 0.0153442\ttotal: 1m 45s\tremaining: 84.8ms\n",
      "4999:\tlearn: 0.0153199\ttotal: 1m 46s\tremaining: 0us\n",
      "fold Loss 0:  0.0675845807068891\n",
      "---------------------------------------------------------------------------\n",
      "Learning rate set to 0.002361\n",
      "0:\tlearn: 0.6896369\ttotal: 32.2ms\tremaining: 2m 40s\n",
      "999:\tlearn: 0.0956207\ttotal: 21.2s\tremaining: 1m 24s\n",
      "1998:\tlearn: 0.0522009\ttotal: 42.1s\tremaining: 1m 3s\n",
      "2997:\tlearn: 0.0318280\ttotal: 1m 3s\tremaining: 42.2s\n",
      "3996:\tlearn: 0.0209925\ttotal: 1m 24s\tremaining: 21.3s\n"
     ]
    },
    {
     "name": "stderr",
     "output_type": "stream",
     "text": [
      "2it [03:33, 106.62s/it]"
     ]
    },
    {
     "name": "stdout",
     "output_type": "stream",
     "text": [
      "4995:\tlearn: 0.0145180\ttotal: 1m 45s\tremaining: 84.6ms\n",
      "4999:\tlearn: 0.0144941\ttotal: 1m 45s\tremaining: 0us\n",
      "fold Loss 1:  0.10862384920475716\n",
      "---------------------------------------------------------------------------\n",
      "Learning rate set to 0.002361\n",
      "0:\tlearn: 0.6909005\ttotal: 42.3ms\tremaining: 3m 31s\n",
      "999:\tlearn: 0.0938267\ttotal: 21.3s\tremaining: 1m 25s\n",
      "1998:\tlearn: 0.0509810\ttotal: 42.5s\tremaining: 1m 3s\n",
      "2997:\tlearn: 0.0309297\ttotal: 1m 3s\tremaining: 42.3s\n",
      "3996:\tlearn: 0.0209814\ttotal: 1m 24s\tremaining: 21.2s\n"
     ]
    },
    {
     "name": "stderr",
     "output_type": "stream",
     "text": [
      "3it [05:19, 106.51s/it]"
     ]
    },
    {
     "name": "stdout",
     "output_type": "stream",
     "text": [
      "4995:\tlearn: 0.0150765\ttotal: 1m 45s\tremaining: 84.5ms\n",
      "4999:\tlearn: 0.0150505\ttotal: 1m 45s\tremaining: 0us\n",
      "fold Loss 2:  0.2145030314818867\n",
      "---------------------------------------------------------------------------\n",
      "Learning rate set to 0.002361\n",
      "0:\tlearn: 0.6904781\ttotal: 31ms\tremaining: 2m 35s\n",
      "999:\tlearn: 0.0956931\ttotal: 20.9s\tremaining: 1m 23s\n",
      "1998:\tlearn: 0.0518552\ttotal: 42.1s\tremaining: 1m 3s\n",
      "2997:\tlearn: 0.0314164\ttotal: 1m 2s\tremaining: 42s\n",
      "3996:\tlearn: 0.0204738\ttotal: 1m 24s\tremaining: 21.1s\n"
     ]
    },
    {
     "name": "stderr",
     "output_type": "stream",
     "text": [
      "4it [07:05, 106.41s/it]"
     ]
    },
    {
     "name": "stdout",
     "output_type": "stream",
     "text": [
      "4995:\tlearn: 0.0141687\ttotal: 1m 45s\tremaining: 84.4ms\n",
      "4999:\tlearn: 0.0141457\ttotal: 1m 45s\tremaining: 0us\n",
      "fold Loss 3:  0.16394395253083194\n",
      "---------------------------------------------------------------------------\n",
      "Learning rate set to 0.002361\n",
      "0:\tlearn: 0.6908175\ttotal: 42.6ms\tremaining: 3m 33s\n",
      "999:\tlearn: 0.0969274\ttotal: 21.2s\tremaining: 1m 24s\n",
      "1998:\tlearn: 0.0536968\ttotal: 42.5s\tremaining: 1m 3s\n",
      "2997:\tlearn: 0.0330588\ttotal: 1m 3s\tremaining: 42.6s\n",
      "3996:\tlearn: 0.0219559\ttotal: 1m 24s\tremaining: 21.2s\n"
     ]
    },
    {
     "name": "stderr",
     "output_type": "stream",
     "text": [
      "5it [08:52, 106.52s/it]"
     ]
    },
    {
     "name": "stdout",
     "output_type": "stream",
     "text": [
      "4995:\tlearn: 0.0151984\ttotal: 1m 45s\tremaining: 84.8ms\n",
      "4999:\tlearn: 0.0151769\ttotal: 1m 45s\tremaining: 0us\n",
      "fold Loss 4:  0.08385094066427963\n",
      "---------------------------------------------------------------------------\n",
      "Learning rate set to 0.002361\n",
      "0:\tlearn: 0.6901437\ttotal: 32.3ms\tremaining: 2m 41s\n",
      "999:\tlearn: 0.0973095\ttotal: 21.2s\tremaining: 1m 24s\n",
      "1998:\tlearn: 0.0538828\ttotal: 42.1s\tremaining: 1m 3s\n",
      "2997:\tlearn: 0.0329227\ttotal: 1m 3s\tremaining: 42.3s\n",
      "3996:\tlearn: 0.0224328\ttotal: 1m 24s\tremaining: 21.2s\n"
     ]
    },
    {
     "name": "stderr",
     "output_type": "stream",
     "text": [
      "6it [10:38, 106.42s/it]"
     ]
    },
    {
     "name": "stdout",
     "output_type": "stream",
     "text": [
      "4995:\tlearn: 0.0159506\ttotal: 1m 45s\tremaining: 84.4ms\n",
      "4999:\tlearn: 0.0159360\ttotal: 1m 45s\tremaining: 0us\n",
      "fold Loss 5:  0.05335022039789024\n",
      "---------------------------------------------------------------------------\n",
      "Learning rate set to 0.002361\n",
      "0:\tlearn: 0.6906378\ttotal: 42.1ms\tremaining: 3m 30s\n",
      "999:\tlearn: 0.0998011\ttotal: 21.3s\tremaining: 1m 25s\n",
      "1998:\tlearn: 0.0542258\ttotal: 42.5s\tremaining: 1m 3s\n",
      "2997:\tlearn: 0.0329398\ttotal: 1m 3s\tremaining: 42.4s\n",
      "3996:\tlearn: 0.0215010\ttotal: 1m 24s\tremaining: 21.3s\n"
     ]
    },
    {
     "name": "stderr",
     "output_type": "stream",
     "text": [
      "7it [12:25, 106.44s/it]"
     ]
    },
    {
     "name": "stdout",
     "output_type": "stream",
     "text": [
      "4995:\tlearn: 0.0150459\ttotal: 1m 45s\tremaining: 84.6ms\n",
      "4999:\tlearn: 0.0150275\ttotal: 1m 45s\tremaining: 0us\n",
      "fold Loss 6:  0.02049617966117227\n",
      "---------------------------------------------------------------------------\n",
      "Learning rate set to 0.002361\n",
      "0:\tlearn: 0.6904236\ttotal: 32.5ms\tremaining: 2m 42s\n",
      "999:\tlearn: 0.1002254\ttotal: 21.2s\tremaining: 1m 24s\n",
      "1998:\tlearn: 0.0545919\ttotal: 42.7s\tremaining: 1m 4s\n",
      "2997:\tlearn: 0.0331079\ttotal: 1m 3s\tremaining: 42.4s\n",
      "3996:\tlearn: 0.0218869\ttotal: 1m 24s\tremaining: 21.3s\n"
     ]
    },
    {
     "name": "stderr",
     "output_type": "stream",
     "text": [
      "8it [14:12, 106.59s/it]"
     ]
    },
    {
     "name": "stdout",
     "output_type": "stream",
     "text": [
      "4995:\tlearn: 0.0155166\ttotal: 1m 46s\tremaining: 84.9ms\n",
      "4999:\tlearn: 0.0154873\ttotal: 1m 46s\tremaining: 0us\n",
      "fold Loss 7:  0.02615528782584183\n",
      "---------------------------------------------------------------------------\n",
      "Learning rate set to 0.002361\n",
      "0:\tlearn: 0.6907875\ttotal: 42.9ms\tremaining: 3m 34s\n",
      "999:\tlearn: 0.0984168\ttotal: 21s\tremaining: 1m 23s\n",
      "1998:\tlearn: 0.0529128\ttotal: 42.2s\tremaining: 1m 3s\n",
      "2997:\tlearn: 0.0322092\ttotal: 1m 3s\tremaining: 42.4s\n",
      "3996:\tlearn: 0.0213658\ttotal: 1m 24s\tremaining: 21.2s\n"
     ]
    },
    {
     "name": "stderr",
     "output_type": "stream",
     "text": [
      "9it [15:58, 106.53s/it]"
     ]
    },
    {
     "name": "stdout",
     "output_type": "stream",
     "text": [
      "4995:\tlearn: 0.0148188\ttotal: 1m 45s\tremaining: 84.5ms\n",
      "4999:\tlearn: 0.0148124\ttotal: 1m 45s\tremaining: 0us\n",
      "fold Loss 8:  0.03838557921192041\n",
      "---------------------------------------------------------------------------\n",
      "Learning rate set to 0.002361\n",
      "0:\tlearn: 0.6902610\ttotal: 34.1ms\tremaining: 2m 50s\n",
      "999:\tlearn: 0.0981197\ttotal: 21.3s\tremaining: 1m 25s\n",
      "1998:\tlearn: 0.0540606\ttotal: 42.1s\tremaining: 1m 3s\n",
      "2997:\tlearn: 0.0329874\ttotal: 1m 3s\tremaining: 42.3s\n",
      "3996:\tlearn: 0.0217257\ttotal: 1m 24s\tremaining: 21.2s\n"
     ]
    },
    {
     "name": "stderr",
     "output_type": "stream",
     "text": [
      "10it [17:44, 106.40s/it]"
     ]
    },
    {
     "name": "stdout",
     "output_type": "stream",
     "text": [
      "4995:\tlearn: 0.0152069\ttotal: 1m 45s\tremaining: 84.3ms\n",
      "4999:\tlearn: 0.0151824\ttotal: 1m 45s\tremaining: 0us\n",
      "fold Loss 9:  0.030588640362049137\n",
      "---------------------------------------------------------------------------\n",
      "Learning rate set to 0.002361\n",
      "0:\tlearn: 0.6904715\ttotal: 42.4ms\tremaining: 3m 32s\n",
      "999:\tlearn: 0.0967648\ttotal: 21.2s\tremaining: 1m 24s\n",
      "1998:\tlearn: 0.0526932\ttotal: 42.1s\tremaining: 1m 3s\n",
      "2997:\tlearn: 0.0328645\ttotal: 1m 3s\tremaining: 42.2s\n",
      "3996:\tlearn: 0.0225751\ttotal: 1m 24s\tremaining: 21.2s\n"
     ]
    },
    {
     "name": "stderr",
     "output_type": "stream",
     "text": [
      "11it [19:30, 106.31s/it]"
     ]
    },
    {
     "name": "stdout",
     "output_type": "stream",
     "text": [
      "4995:\tlearn: 0.0162132\ttotal: 1m 45s\tremaining: 84.3ms\n",
      "4999:\tlearn: 0.0161967\ttotal: 1m 45s\tremaining: 0us\n",
      "fold Loss 10:  0.04470008844136157\n",
      "---------------------------------------------------------------------------\n",
      "Learning rate set to 0.002361\n",
      "0:\tlearn: 0.6901066\ttotal: 32.5ms\tremaining: 2m 42s\n",
      "999:\tlearn: 0.0973343\ttotal: 21.2s\tremaining: 1m 24s\n",
      "1998:\tlearn: 0.0537044\ttotal: 42.5s\tremaining: 1m 3s\n",
      "2997:\tlearn: 0.0332084\ttotal: 1m 3s\tremaining: 42.2s\n",
      "3996:\tlearn: 0.0227810\ttotal: 1m 24s\tremaining: 21.2s\n"
     ]
    },
    {
     "name": "stderr",
     "output_type": "stream",
     "text": [
      "12it [21:17, 106.43s/it]"
     ]
    },
    {
     "name": "stdout",
     "output_type": "stream",
     "text": [
      "4995:\tlearn: 0.0161163\ttotal: 1m 45s\tremaining: 84.8ms\n",
      "4999:\tlearn: 0.0161073\ttotal: 1m 45s\tremaining: 0us\n",
      "fold Loss 11:  0.07038366913429016\n",
      "---------------------------------------------------------------------------\n",
      "Learning rate set to 0.002361\n",
      "0:\tlearn: 0.6903761\ttotal: 42.7ms\tremaining: 3m 33s\n",
      "999:\tlearn: 0.0925324\ttotal: 21s\tremaining: 1m 23s\n",
      "1998:\tlearn: 0.0508457\ttotal: 42.1s\tremaining: 1m 3s\n",
      "2997:\tlearn: 0.0306127\ttotal: 1m 3s\tremaining: 42.3s\n",
      "3996:\tlearn: 0.0205719\ttotal: 1m 25s\tremaining: 21.4s\n"
     ]
    },
    {
     "name": "stderr",
     "output_type": "stream",
     "text": [
      "13it [23:05, 106.78s/it]"
     ]
    },
    {
     "name": "stdout",
     "output_type": "stream",
     "text": [
      "4995:\tlearn: 0.0142500\ttotal: 1m 46s\tremaining: 85.5ms\n",
      "4999:\tlearn: 0.0142323\ttotal: 1m 46s\tremaining: 0us\n",
      "fold Loss 12:  0.1734016378522985\n",
      "---------------------------------------------------------------------------\n",
      "Learning rate set to 0.002361\n",
      "0:\tlearn: 0.6905467\ttotal: 32ms\tremaining: 2m 40s\n",
      "999:\tlearn: 0.0971326\ttotal: 21.2s\tremaining: 1m 24s\n",
      "1998:\tlearn: 0.0517113\ttotal: 42.3s\tremaining: 1m 3s\n",
      "2997:\tlearn: 0.0310466\ttotal: 1m 3s\tremaining: 42.4s\n",
      "3996:\tlearn: 0.0202578\ttotal: 1m 24s\tremaining: 21.2s\n"
     ]
    },
    {
     "name": "stderr",
     "output_type": "stream",
     "text": [
      "14it [24:51, 106.65s/it]"
     ]
    },
    {
     "name": "stdout",
     "output_type": "stream",
     "text": [
      "4995:\tlearn: 0.0141177\ttotal: 1m 45s\tremaining: 84.5ms\n",
      "4999:\tlearn: 0.0141052\ttotal: 1m 45s\tremaining: 0us\n",
      "fold Loss 13:  0.11745779400507039\n",
      "---------------------------------------------------------------------------\n",
      "Learning rate set to 0.002361\n",
      "0:\tlearn: 0.6902441\ttotal: 42.1ms\tremaining: 3m 30s\n",
      "999:\tlearn: 0.0943009\ttotal: 21.4s\tremaining: 1m 25s\n",
      "1998:\tlearn: 0.0452589\ttotal: 42.3s\tremaining: 1m 3s\n",
      "2997:\tlearn: 0.0256162\ttotal: 1m 3s\tremaining: 42.7s\n",
      "3996:\tlearn: 0.0160864\ttotal: 1m 25s\tremaining: 21.4s\n"
     ]
    },
    {
     "name": "stderr",
     "output_type": "stream",
     "text": [
      "15it [26:38, 106.80s/it]"
     ]
    },
    {
     "name": "stdout",
     "output_type": "stream",
     "text": [
      "4995:\tlearn: 0.0112795\ttotal: 1m 46s\tremaining: 85.1ms\n",
      "4999:\tlearn: 0.0112625\ttotal: 1m 46s\tremaining: 0us\n",
      "fold Loss 14:  0.13434665062515969\n",
      "---------------------------------------------------------------------------\n",
      "Learning rate set to 0.002361\n",
      "0:\tlearn: 0.6901568\ttotal: 32.8ms\tremaining: 2m 43s\n",
      "999:\tlearn: 0.0930205\ttotal: 21.4s\tremaining: 1m 25s\n",
      "1998:\tlearn: 0.0506300\ttotal: 42.7s\tremaining: 1m 4s\n",
      "2997:\tlearn: 0.0310192\ttotal: 1m 4s\tremaining: 42.8s\n",
      "3996:\tlearn: 0.0209321\ttotal: 1m 25s\tremaining: 21.4s\n"
     ]
    },
    {
     "name": "stderr",
     "output_type": "stream",
     "text": [
      "16it [28:26, 107.03s/it]"
     ]
    },
    {
     "name": "stdout",
     "output_type": "stream",
     "text": [
      "4995:\tlearn: 0.0148236\ttotal: 1m 46s\tremaining: 85.4ms\n",
      "4999:\tlearn: 0.0148043\ttotal: 1m 46s\tremaining: 0us\n",
      "fold Loss 15:  0.1731521651958671\n",
      "---------------------------------------------------------------------------\n",
      "Learning rate set to 0.002361\n",
      "0:\tlearn: 0.6900835\ttotal: 42.3ms\tremaining: 3m 31s\n",
      "999:\tlearn: 0.0979972\ttotal: 21.1s\tremaining: 1m 24s\n",
      "1998:\tlearn: 0.0536687\ttotal: 42.4s\tremaining: 1m 3s\n",
      "2997:\tlearn: 0.0320072\ttotal: 1m 4s\tremaining: 42.9s\n",
      "3996:\tlearn: 0.0208892\ttotal: 1m 25s\tremaining: 21.4s\n"
     ]
    },
    {
     "name": "stderr",
     "output_type": "stream",
     "text": [
      "17it [30:13, 107.20s/it]"
     ]
    },
    {
     "name": "stdout",
     "output_type": "stream",
     "text": [
      "4995:\tlearn: 0.0143357\ttotal: 1m 46s\tremaining: 85.5ms\n",
      "4999:\tlearn: 0.0143240\ttotal: 1m 46s\tremaining: 0us\n",
      "fold Loss 16:  0.028268910785328474\n",
      "---------------------------------------------------------------------------\n",
      "Learning rate set to 0.002361\n",
      "0:\tlearn: 0.6907104\ttotal: 33ms\tremaining: 2m 45s\n",
      "999:\tlearn: 0.0971570\ttotal: 21.3s\tremaining: 1m 25s\n",
      "1998:\tlearn: 0.0515499\ttotal: 42.8s\tremaining: 1m 4s\n",
      "2997:\tlearn: 0.0309896\ttotal: 1m 4s\tremaining: 42.8s\n",
      "3996:\tlearn: 0.0207137\ttotal: 1m 25s\tremaining: 21.4s\n"
     ]
    },
    {
     "name": "stderr",
     "output_type": "stream",
     "text": [
      "18it [32:01, 107.27s/it]"
     ]
    },
    {
     "name": "stdout",
     "output_type": "stream",
     "text": [
      "4995:\tlearn: 0.0147556\ttotal: 1m 46s\tremaining: 85.3ms\n",
      "4999:\tlearn: 0.0147366\ttotal: 1m 46s\tremaining: 0us\n",
      "fold Loss 17:  0.12613598242144927\n",
      "---------------------------------------------------------------------------\n",
      "Learning rate set to 0.002361\n",
      "0:\tlearn: 0.6905569\ttotal: 43.5ms\tremaining: 3m 37s\n",
      "999:\tlearn: 0.0988895\ttotal: 21.4s\tremaining: 1m 25s\n",
      "1998:\tlearn: 0.0533704\ttotal: 42.3s\tremaining: 1m 3s\n",
      "2997:\tlearn: 0.0319672\ttotal: 1m 3s\tremaining: 42.6s\n",
      "3996:\tlearn: 0.0214895\ttotal: 1m 25s\tremaining: 21.4s\n"
     ]
    },
    {
     "name": "stderr",
     "output_type": "stream",
     "text": [
      "19it [33:48, 107.21s/it]"
     ]
    },
    {
     "name": "stdout",
     "output_type": "stream",
     "text": [
      "4995:\tlearn: 0.0148685\ttotal: 1m 46s\tremaining: 85ms\n",
      "4999:\tlearn: 0.0148506\ttotal: 1m 46s\tremaining: 0us\n",
      "fold Loss 18:  0.0639467208895329\n",
      "---------------------------------------------------------------------------\n",
      "Learning rate set to 0.002362\n",
      "0:\tlearn: 0.6907974\ttotal: 32.5ms\tremaining: 2m 42s\n",
      "999:\tlearn: 0.0980648\ttotal: 21.5s\tremaining: 1m 25s\n",
      "1998:\tlearn: 0.0538872\ttotal: 42.9s\tremaining: 1m 4s\n",
      "2997:\tlearn: 0.0330204\ttotal: 1m 3s\tremaining: 42.6s\n",
      "3996:\tlearn: 0.0218875\ttotal: 1m 25s\tremaining: 21.4s\n"
     ]
    },
    {
     "name": "stderr",
     "output_type": "stream",
     "text": [
      "20it [35:35, 106.80s/it]"
     ]
    },
    {
     "name": "stdout",
     "output_type": "stream",
     "text": [
      "4995:\tlearn: 0.0154371\ttotal: 1m 46s\tremaining: 85.5ms\n",
      "4999:\tlearn: 0.0154280\ttotal: 1m 46s\tremaining: 0us\n",
      "fold Loss 19:  0.03858635981457193\n",
      "---------------------------------------------------------------------------\n",
      "Training Loss: 0.01657923680079517\n",
      "Loss for carbonate:\n",
      "0.08889311206062242 0.057332991298825665\n",
      "==================================================================================================\n",
      "TARGET  chloride\n"
     ]
    },
    {
     "name": "stderr",
     "output_type": "stream",
     "text": [
      "\n"
     ]
    },
    {
     "name": "stdout",
     "output_type": "stream",
     "text": [
      "0.30656733362458605\n"
     ]
    },
    {
     "name": "stderr",
     "output_type": "stream",
     "text": [
      "100%|██████████| 101/101 [00:00<00:00, 567861.53it/s]"
     ]
    },
    {
     "name": "stdout",
     "output_type": "stream",
     "text": [
      "15\n"
     ]
    },
    {
     "name": "stderr",
     "output_type": "stream",
     "text": [
      "\n"
     ]
    },
    {
     "name": "stdout",
     "output_type": "stream",
     "text": [
      "0.25476095824053474\n"
     ]
    },
    {
     "name": "stderr",
     "output_type": "stream",
     "text": [
      "100%|██████████| 2000/2000 [00:00<00:00, 1617236.94it/s]\n"
     ]
    },
    {
     "name": "stdout",
     "output_type": "stream",
     "text": [
      "50\n",
      "0.2723458655905771\n"
     ]
    },
    {
     "name": "stderr",
     "output_type": "stream",
     "text": [
      "100%|██████████| 2300/2300 [00:00<00:00, 1595319.86it/s]\n"
     ]
    },
    {
     "name": "stdout",
     "output_type": "stream",
     "text": [
      "65\n",
      "0.26743359863743643\n"
     ]
    },
    {
     "name": "stderr",
     "output_type": "stream",
     "text": [
      "100%|██████████| 2100/2100 [00:00<00:00, 1582187.61it/s]\n"
     ]
    },
    {
     "name": "stdout",
     "output_type": "stream",
     "text": [
      "61\n",
      "(1059, 61) (1059, 15) (1059, 50) (1059, 65)\n",
      "(1059, 191)\n",
      "(804, 61) (804, 15) (804, 50) (804, 65)\n",
      "(804, 191)\n"
     ]
    },
    {
     "name": "stderr",
     "output_type": "stream",
     "text": [
      "0it [00:00, ?it/s]"
     ]
    },
    {
     "name": "stdout",
     "output_type": "stream",
     "text": [
      "Learning rate set to 0.002361\n",
      "0:\tlearn: 0.6909429\ttotal: 32.4ms\tremaining: 2m 41s\n",
      "999:\tlearn: 0.1509910\ttotal: 22.5s\tremaining: 1m 29s\n",
      "1998:\tlearn: 0.0929300\ttotal: 44.9s\tremaining: 1m 7s\n",
      "2997:\tlearn: 0.0625262\ttotal: 1m 6s\tremaining: 44.7s\n",
      "3996:\tlearn: 0.0434020\ttotal: 1m 29s\tremaining: 22.4s\n"
     ]
    },
    {
     "name": "stderr",
     "output_type": "stream",
     "text": [
      "1it [01:52, 112.37s/it]"
     ]
    },
    {
     "name": "stdout",
     "output_type": "stream",
     "text": [
      "4995:\tlearn: 0.0318431\ttotal: 1m 51s\tremaining: 89.3ms\n",
      "4999:\tlearn: 0.0317833\ttotal: 1m 51s\tremaining: 0us\n",
      "fold Loss 0:  0.08152756922966281\n",
      "---------------------------------------------------------------------------\n",
      "Learning rate set to 0.002361\n",
      "0:\tlearn: 0.6908350\ttotal: 45.7ms\tremaining: 3m 48s\n",
      "999:\tlearn: 0.1364827\ttotal: 22.1s\tremaining: 1m 28s\n",
      "1998:\tlearn: 0.0757980\ttotal: 44.5s\tremaining: 1m 6s\n",
      "2997:\tlearn: 0.0485801\ttotal: 1m 6s\tremaining: 44.7s\n",
      "3996:\tlearn: 0.0317758\ttotal: 1m 28s\tremaining: 22.3s\n"
     ]
    },
    {
     "name": "stderr",
     "output_type": "stream",
     "text": [
      "2it [03:44, 112.35s/it]"
     ]
    },
    {
     "name": "stdout",
     "output_type": "stream",
     "text": [
      "4995:\tlearn: 0.0212598\ttotal: 1m 51s\tremaining: 89.3ms\n",
      "4999:\tlearn: 0.0212242\ttotal: 1m 51s\tremaining: 0us\n",
      "fold Loss 1:  0.4287619663421219\n",
      "---------------------------------------------------------------------------\n",
      "Learning rate set to 0.002361\n",
      "0:\tlearn: 0.6909578\ttotal: 33.7ms\tremaining: 2m 48s\n",
      "999:\tlearn: 0.1470625\ttotal: 22.5s\tremaining: 1m 29s\n",
      "1998:\tlearn: 0.0893885\ttotal: 44.4s\tremaining: 1m 6s\n",
      "2997:\tlearn: 0.0589537\ttotal: 1m 6s\tremaining: 44.7s\n",
      "3996:\tlearn: 0.0402607\ttotal: 1m 29s\tremaining: 22.4s\n"
     ]
    },
    {
     "name": "stderr",
     "output_type": "stream",
     "text": [
      "3it [05:36, 112.31s/it]"
     ]
    },
    {
     "name": "stdout",
     "output_type": "stream",
     "text": [
      "4995:\tlearn: 0.0286828\ttotal: 1m 51s\tremaining: 89.2ms\n",
      "4999:\tlearn: 0.0286482\ttotal: 1m 51s\tremaining: 0us\n",
      "fold Loss 2:  0.1714057129893155\n",
      "---------------------------------------------------------------------------\n",
      "Learning rate set to 0.002361\n",
      "0:\tlearn: 0.6909474\ttotal: 43.9ms\tremaining: 3m 39s\n",
      "999:\tlearn: 0.1484694\ttotal: 22.5s\tremaining: 1m 29s\n",
      "1998:\tlearn: 0.0902147\ttotal: 44.7s\tremaining: 1m 7s\n",
      "2997:\tlearn: 0.0605293\ttotal: 1m 6s\tremaining: 44.5s\n",
      "3996:\tlearn: 0.0405763\ttotal: 1m 29s\tremaining: 22.4s\n"
     ]
    },
    {
     "name": "stderr",
     "output_type": "stream",
     "text": [
      "4it [07:29, 112.34s/it]"
     ]
    },
    {
     "name": "stdout",
     "output_type": "stream",
     "text": [
      "4995:\tlearn: 0.0286480\ttotal: 1m 51s\tremaining: 89.3ms\n",
      "4999:\tlearn: 0.0286144\ttotal: 1m 51s\tremaining: 0us\n",
      "fold Loss 3:  0.10208740245401957\n",
      "---------------------------------------------------------------------------\n",
      "Learning rate set to 0.002361\n",
      "0:\tlearn: 0.6909811\ttotal: 34ms\tremaining: 2m 50s\n",
      "999:\tlearn: 0.1473361\ttotal: 22.2s\tremaining: 1m 28s\n",
      "1998:\tlearn: 0.0887458\ttotal: 44.6s\tremaining: 1m 6s\n",
      "2997:\tlearn: 0.0588873\ttotal: 1m 7s\tremaining: 44.8s\n",
      "3996:\tlearn: 0.0404087\ttotal: 1m 29s\tremaining: 22.4s\n"
     ]
    },
    {
     "name": "stderr",
     "output_type": "stream",
     "text": [
      "5it [09:21, 112.36s/it]"
     ]
    },
    {
     "name": "stdout",
     "output_type": "stream",
     "text": [
      "4995:\tlearn: 0.0293930\ttotal: 1m 51s\tremaining: 89.3ms\n",
      "4999:\tlearn: 0.0293613\ttotal: 1m 51s\tremaining: 0us\n",
      "fold Loss 4:  0.1585737615551849\n",
      "---------------------------------------------------------------------------\n",
      "Learning rate set to 0.002361\n",
      "0:\tlearn: 0.6909464\ttotal: 43.6ms\tremaining: 3m 38s\n",
      "999:\tlearn: 0.1468389\ttotal: 22.5s\tremaining: 1m 29s\n",
      "1998:\tlearn: 0.0900671\ttotal: 44.8s\tremaining: 1m 7s\n",
      "2997:\tlearn: 0.0598333\ttotal: 1m 6s\tremaining: 44.7s\n",
      "3996:\tlearn: 0.0412202\ttotal: 1m 29s\tremaining: 22.4s\n"
     ]
    },
    {
     "name": "stderr",
     "output_type": "stream",
     "text": [
      "6it [11:14, 112.39s/it]"
     ]
    },
    {
     "name": "stdout",
     "output_type": "stream",
     "text": [
      "4995:\tlearn: 0.0299407\ttotal: 1m 51s\tremaining: 89.3ms\n",
      "4999:\tlearn: 0.0299090\ttotal: 1m 51s\tremaining: 0us\n",
      "fold Loss 5:  0.13719342216011338\n",
      "---------------------------------------------------------------------------\n",
      "Learning rate set to 0.002361\n",
      "0:\tlearn: 0.6908974\ttotal: 33.4ms\tremaining: 2m 46s\n",
      "999:\tlearn: 0.1489221\ttotal: 22s\tremaining: 1m 28s\n",
      "1998:\tlearn: 0.0912104\ttotal: 44.5s\tremaining: 1m 6s\n",
      "2997:\tlearn: 0.0605739\ttotal: 1m 6s\tremaining: 44.6s\n",
      "3996:\tlearn: 0.0417331\ttotal: 1m 28s\tremaining: 22.3s\n",
      "4995:\tlearn: 0.0305744\ttotal: 1m 51s\tremaining: 89ms\n",
      "4999:\tlearn: 0.0305099\ttotal: 1m 51s\tremaining: 0us\n"
     ]
    },
    {
     "name": "stderr",
     "output_type": "stream",
     "text": [
      "7it [13:06, 112.29s/it]"
     ]
    },
    {
     "name": "stdout",
     "output_type": "stream",
     "text": [
      "fold Loss 6:  0.09658460844504234\n",
      "---------------------------------------------------------------------------\n",
      "Learning rate set to 0.002361\n",
      "0:\tlearn: 0.6909553\ttotal: 44ms\tremaining: 3m 39s\n",
      "999:\tlearn: 0.1495262\ttotal: 22.4s\tremaining: 1m 29s\n",
      "1998:\tlearn: 0.0907217\ttotal: 44.5s\tremaining: 1m 6s\n",
      "2997:\tlearn: 0.0604428\ttotal: 1m 6s\tremaining: 44.6s\n",
      "3996:\tlearn: 0.0417690\ttotal: 1m 29s\tremaining: 22.3s\n"
     ]
    },
    {
     "name": "stderr",
     "output_type": "stream",
     "text": [
      "8it [14:58, 112.17s/it]"
     ]
    },
    {
     "name": "stdout",
     "output_type": "stream",
     "text": [
      "4995:\tlearn: 0.0302025\ttotal: 1m 51s\tremaining: 88.9ms\n",
      "4999:\tlearn: 0.0301484\ttotal: 1m 51s\tremaining: 0us\n",
      "fold Loss 7:  0.10115084079513688\n",
      "---------------------------------------------------------------------------\n",
      "Learning rate set to 0.002361\n",
      "0:\tlearn: 0.6909364\ttotal: 34.1ms\tremaining: 2m 50s\n",
      "999:\tlearn: 0.1494096\ttotal: 22.7s\tremaining: 1m 30s\n",
      "1998:\tlearn: 0.0907748\ttotal: 45.1s\tremaining: 1m 7s\n",
      "2997:\tlearn: 0.0590506\ttotal: 1m 7s\tremaining: 44.9s\n",
      "3996:\tlearn: 0.0414256\ttotal: 1m 29s\tremaining: 22.5s\n"
     ]
    },
    {
     "name": "stderr",
     "output_type": "stream",
     "text": [
      "9it [16:51, 112.37s/it]"
     ]
    },
    {
     "name": "stdout",
     "output_type": "stream",
     "text": [
      "4995:\tlearn: 0.0302332\ttotal: 1m 51s\tremaining: 89.6ms\n",
      "4999:\tlearn: 0.0301851\ttotal: 1m 52s\tremaining: 0us\n",
      "fold Loss 8:  0.1353632403679145\n",
      "---------------------------------------------------------------------------\n",
      "Learning rate set to 0.002361\n",
      "0:\tlearn: 0.6908943\ttotal: 44ms\tremaining: 3m 39s\n",
      "999:\tlearn: 0.1439131\ttotal: 22.5s\tremaining: 1m 30s\n",
      "1998:\tlearn: 0.0863970\ttotal: 44.5s\tremaining: 1m 6s\n",
      "2997:\tlearn: 0.0570428\ttotal: 1m 6s\tremaining: 44.6s\n",
      "3996:\tlearn: 0.0385002\ttotal: 1m 29s\tremaining: 22.4s\n"
     ]
    },
    {
     "name": "stderr",
     "output_type": "stream",
     "text": [
      "10it [18:43, 112.30s/it]"
     ]
    },
    {
     "name": "stdout",
     "output_type": "stream",
     "text": [
      "4995:\tlearn: 0.0270822\ttotal: 1m 51s\tremaining: 89.1ms\n",
      "4999:\tlearn: 0.0270479\ttotal: 1m 51s\tremaining: 0us\n",
      "fold Loss 9:  0.21689130174924323\n",
      "---------------------------------------------------------------------------\n",
      "Learning rate set to 0.002361\n",
      "0:\tlearn: 0.6908460\ttotal: 33.7ms\tremaining: 2m 48s\n",
      "999:\tlearn: 0.1428735\ttotal: 22.5s\tremaining: 1m 30s\n",
      "1998:\tlearn: 0.0860664\ttotal: 45.1s\tremaining: 1m 7s\n",
      "2997:\tlearn: 0.0567417\ttotal: 1m 7s\tremaining: 44.8s\n",
      "3996:\tlearn: 0.0385071\ttotal: 1m 29s\tremaining: 22.5s\n"
     ]
    },
    {
     "name": "stderr",
     "output_type": "stream",
     "text": [
      "11it [20:36, 112.55s/it]"
     ]
    },
    {
     "name": "stdout",
     "output_type": "stream",
     "text": [
      "4995:\tlearn: 0.0266280\ttotal: 1m 52s\tremaining: 89.9ms\n",
      "4999:\tlearn: 0.0265811\ttotal: 1m 52s\tremaining: 0us\n",
      "fold Loss 10:  0.18569486419066264\n",
      "---------------------------------------------------------------------------\n",
      "Learning rate set to 0.002361\n",
      "0:\tlearn: 0.6909232\ttotal: 45.8ms\tremaining: 3m 49s\n",
      "999:\tlearn: 0.1469058\ttotal: 22.3s\tremaining: 1m 29s\n",
      "1998:\tlearn: 0.0900879\ttotal: 44.5s\tremaining: 1m 6s\n",
      "2997:\tlearn: 0.0598429\ttotal: 1m 7s\tremaining: 44.8s\n",
      "3996:\tlearn: 0.0409672\ttotal: 1m 29s\tremaining: 22.5s\n"
     ]
    },
    {
     "name": "stderr",
     "output_type": "stream",
     "text": [
      "12it [22:29, 112.63s/it]"
     ]
    },
    {
     "name": "stdout",
     "output_type": "stream",
     "text": [
      "4995:\tlearn: 0.0298885\ttotal: 1m 51s\tremaining: 89.6ms\n",
      "4999:\tlearn: 0.0298565\ttotal: 1m 52s\tremaining: 0us\n",
      "fold Loss 11:  0.12130109811223655\n",
      "---------------------------------------------------------------------------\n",
      "Learning rate set to 0.002361\n",
      "0:\tlearn: 0.6908765\ttotal: 33.9ms\tremaining: 2m 49s\n",
      "999:\tlearn: 0.1515708\ttotal: 22.5s\tremaining: 1m 30s\n",
      "1998:\tlearn: 0.0938810\ttotal: 45s\tremaining: 1m 7s\n",
      "2997:\tlearn: 0.0625844\ttotal: 1m 7s\tremaining: 45s\n",
      "3996:\tlearn: 0.0433812\ttotal: 1m 29s\tremaining: 22.6s\n"
     ]
    },
    {
     "name": "stderr",
     "output_type": "stream",
     "text": [
      "13it [24:22, 112.82s/it]"
     ]
    },
    {
     "name": "stdout",
     "output_type": "stream",
     "text": [
      "4995:\tlearn: 0.0314897\ttotal: 1m 52s\tremaining: 90ms\n",
      "4999:\tlearn: 0.0314589\ttotal: 1m 52s\tremaining: 0us\n",
      "fold Loss 12:  0.06474507411724031\n",
      "---------------------------------------------------------------------------\n",
      "Learning rate set to 0.002361\n",
      "0:\tlearn: 0.6908948\ttotal: 44.8ms\tremaining: 3m 44s\n",
      "999:\tlearn: 0.1480312\ttotal: 22.2s\tremaining: 1m 28s\n",
      "1998:\tlearn: 0.0906159\ttotal: 44.6s\tremaining: 1m 6s\n",
      "2997:\tlearn: 0.0602640\ttotal: 1m 7s\tremaining: 44.8s\n",
      "3996:\tlearn: 0.0418747\ttotal: 1m 29s\tremaining: 22.5s\n"
     ]
    },
    {
     "name": "stderr",
     "output_type": "stream",
     "text": [
      "14it [26:15, 112.80s/it]"
     ]
    },
    {
     "name": "stdout",
     "output_type": "stream",
     "text": [
      "4995:\tlearn: 0.0300661\ttotal: 1m 51s\tremaining: 89.6ms\n",
      "4999:\tlearn: 0.0300284\ttotal: 1m 51s\tremaining: 0us\n",
      "fold Loss 13:  0.12278227291408302\n",
      "---------------------------------------------------------------------------\n",
      "Learning rate set to 0.002361\n",
      "0:\tlearn: 0.6908998\ttotal: 34.1ms\tremaining: 2m 50s\n",
      "999:\tlearn: 0.1482221\ttotal: 22.5s\tremaining: 1m 30s\n",
      "1998:\tlearn: 0.0921896\ttotal: 45.1s\tremaining: 1m 7s\n",
      "2997:\tlearn: 0.0609537\ttotal: 1m 7s\tremaining: 44.9s\n",
      "3996:\tlearn: 0.0416648\ttotal: 1m 29s\tremaining: 22.5s\n",
      "4995:\tlearn: 0.0297834\ttotal: 1m 52s\tremaining: 89.8ms\n",
      "4999:\tlearn: 0.0297578\ttotal: 1m 52s\tremaining: 0us\n",
      "fold Loss 14:  0.1135455692937038\n"
     ]
    },
    {
     "name": "stderr",
     "output_type": "stream",
     "text": [
      "15it [28:08, 112.89s/it]"
     ]
    },
    {
     "name": "stdout",
     "output_type": "stream",
     "text": [
      "---------------------------------------------------------------------------\n",
      "Learning rate set to 0.002361\n",
      "0:\tlearn: 0.6908837\ttotal: 59.8ms\tremaining: 4m 58s\n",
      "999:\tlearn: 0.1514384\ttotal: 22.4s\tremaining: 1m 29s\n",
      "1998:\tlearn: 0.0918085\ttotal: 45s\tremaining: 1m 7s\n",
      "2997:\tlearn: 0.0612854\ttotal: 1m 7s\tremaining: 45.1s\n",
      "3996:\tlearn: 0.0421595\ttotal: 1m 29s\tremaining: 22.5s\n"
     ]
    },
    {
     "name": "stderr",
     "output_type": "stream",
     "text": [
      "16it [30:01, 112.95s/it]"
     ]
    },
    {
     "name": "stdout",
     "output_type": "stream",
     "text": [
      "4995:\tlearn: 0.0306585\ttotal: 1m 52s\tremaining: 89.9ms\n",
      "4999:\tlearn: 0.0306312\ttotal: 1m 52s\tremaining: 0us\n",
      "fold Loss 15:  0.07544139611700991\n",
      "---------------------------------------------------------------------------\n",
      "Learning rate set to 0.002361\n",
      "0:\tlearn: 0.6908844\ttotal: 33.8ms\tremaining: 2m 48s\n",
      "999:\tlearn: 0.1465430\ttotal: 22.7s\tremaining: 1m 30s\n",
      "1998:\tlearn: 0.0890150\ttotal: 45.3s\tremaining: 1m 8s\n",
      "2997:\tlearn: 0.0593229\ttotal: 1m 7s\tremaining: 45s\n",
      "3996:\tlearn: 0.0402078\ttotal: 1m 29s\tremaining: 22.6s\n"
     ]
    },
    {
     "name": "stderr",
     "output_type": "stream",
     "text": [
      "17it [31:54, 113.15s/it]"
     ]
    },
    {
     "name": "stdout",
     "output_type": "stream",
     "text": [
      "4995:\tlearn: 0.0288178\ttotal: 1m 52s\tremaining: 90.3ms\n",
      "4999:\tlearn: 0.0287920\ttotal: 1m 52s\tremaining: 0us\n",
      "fold Loss 16:  0.08665144805722066\n",
      "---------------------------------------------------------------------------\n",
      "Learning rate set to 0.002361\n",
      "0:\tlearn: 0.6908962\ttotal: 43.7ms\tremaining: 3m 38s\n",
      "999:\tlearn: 0.1413548\ttotal: 22.3s\tremaining: 1m 29s\n",
      "1998:\tlearn: 0.0842439\ttotal: 44.7s\tremaining: 1m 7s\n",
      "2997:\tlearn: 0.0548801\ttotal: 1m 7s\tremaining: 44.9s\n",
      "3996:\tlearn: 0.0367004\ttotal: 1m 29s\tremaining: 22.4s\n"
     ]
    },
    {
     "name": "stderr",
     "output_type": "stream",
     "text": [
      "18it [33:47, 113.07s/it]"
     ]
    },
    {
     "name": "stdout",
     "output_type": "stream",
     "text": [
      "4995:\tlearn: 0.0256714\ttotal: 1m 52s\tremaining: 89.7ms\n",
      "4999:\tlearn: 0.0256335\ttotal: 1m 52s\tremaining: 0us\n",
      "fold Loss 17:  0.3152161400533022\n",
      "---------------------------------------------------------------------------\n",
      "Learning rate set to 0.002361\n",
      "0:\tlearn: 0.6909269\ttotal: 35.2ms\tremaining: 2m 55s\n",
      "999:\tlearn: 0.1465408\ttotal: 22.5s\tremaining: 1m 29s\n",
      "1998:\tlearn: 0.0902400\ttotal: 44.7s\tremaining: 1m 7s\n",
      "2997:\tlearn: 0.0607355\ttotal: 1m 7s\tremaining: 44.9s\n",
      "3996:\tlearn: 0.0426038\ttotal: 1m 29s\tremaining: 22.5s\n"
     ]
    },
    {
     "name": "stderr",
     "output_type": "stream",
     "text": [
      "19it [35:40, 113.08s/it]"
     ]
    },
    {
     "name": "stdout",
     "output_type": "stream",
     "text": [
      "4995:\tlearn: 0.0313774\ttotal: 1m 52s\tremaining: 89.9ms\n",
      "4999:\tlearn: 0.0313426\ttotal: 1m 52s\tremaining: 0us\n",
      "fold Loss 18:  0.18745896585003774\n",
      "---------------------------------------------------------------------------\n",
      "Learning rate set to 0.002362\n",
      "0:\tlearn: 0.6909212\ttotal: 44.3ms\tremaining: 3m 41s\n",
      "999:\tlearn: 0.1497244\ttotal: 22.4s\tremaining: 1m 29s\n",
      "1998:\tlearn: 0.0922535\ttotal: 44.8s\tremaining: 1m 7s\n",
      "2997:\tlearn: 0.0618697\ttotal: 1m 7s\tremaining: 44.9s\n",
      "3996:\tlearn: 0.0426452\ttotal: 1m 29s\tremaining: 22.4s\n"
     ]
    },
    {
     "name": "stderr",
     "output_type": "stream",
     "text": [
      "20it [37:33, 112.69s/it]"
     ]
    },
    {
     "name": "stdout",
     "output_type": "stream",
     "text": [
      "4995:\tlearn: 0.0299790\ttotal: 1m 52s\tremaining: 89.7ms\n",
      "4999:\tlearn: 0.0299263\ttotal: 1m 52s\tremaining: 0us\n",
      "fold Loss 19:  0.05019839941785849\n",
      "---------------------------------------------------------------------------\n"
     ]
    },
    {
     "name": "stderr",
     "output_type": "stream",
     "text": [
      "\n"
     ]
    },
    {
     "name": "stdout",
     "output_type": "stream",
     "text": [
      "Training Loss: 0.030944256085340065\n",
      "Loss for chloride:\n",
      "0.14762875271055548 0.08799759371763521\n",
      "==================================================================================================\n",
      "TARGET  iron_oxide\n",
      "0.49824686407827407\n"
     ]
    },
    {
     "name": "stderr",
     "output_type": "stream",
     "text": [
      "100%|██████████| 101/101 [00:00<00:00, 585116.99it/s]"
     ]
    },
    {
     "name": "stdout",
     "output_type": "stream",
     "text": [
      "16\n"
     ]
    },
    {
     "name": "stderr",
     "output_type": "stream",
     "text": [
      "\n"
     ]
    },
    {
     "name": "stdout",
     "output_type": "stream",
     "text": [
      "0.3761541469552722\n"
     ]
    },
    {
     "name": "stderr",
     "output_type": "stream",
     "text": [
      "100%|██████████| 2000/2000 [00:00<00:00, 1631390.12it/s]\n"
     ]
    },
    {
     "name": "stdout",
     "output_type": "stream",
     "text": [
      "58\n",
      "0.3753001883580339\n"
     ]
    },
    {
     "name": "stderr",
     "output_type": "stream",
     "text": [
      "100%|██████████| 2300/2300 [00:00<00:00, 1619422.39it/s]\n"
     ]
    },
    {
     "name": "stdout",
     "output_type": "stream",
     "text": [
      "80\n",
      "0.3798962925712466\n"
     ]
    },
    {
     "name": "stderr",
     "output_type": "stream",
     "text": [
      "100%|██████████| 2100/2100 [00:00<00:00, 1671037.45it/s]\n"
     ]
    },
    {
     "name": "stdout",
     "output_type": "stream",
     "text": [
      "76\n",
      "(1059, 76) (1059, 16) (1059, 58) (1059, 80)\n",
      "(1059, 230)\n",
      "(804, 76) (804, 16) (804, 58) (804, 80)\n",
      "(804, 230)\n"
     ]
    },
    {
     "name": "stderr",
     "output_type": "stream",
     "text": [
      "0it [00:00, ?it/s]"
     ]
    },
    {
     "name": "stdout",
     "output_type": "stream",
     "text": [
      "Learning rate set to 0.002361\n",
      "0:\tlearn: 0.6910833\ttotal: 38.9ms\tremaining: 3m 14s\n",
      "999:\tlearn: 0.2128848\ttotal: 27.1s\tremaining: 1m 48s\n",
      "1998:\tlearn: 0.1328115\ttotal: 54.7s\tremaining: 1m 22s\n",
      "2997:\tlearn: 0.0930701\ttotal: 1m 22s\tremaining: 54.9s\n",
      "3996:\tlearn: 0.0646158\ttotal: 1m 49s\tremaining: 27.5s\n",
      "4995:\tlearn: 0.0451773\ttotal: 2m 17s\tremaining: 110ms\n",
      "4999:\tlearn: 0.0451019\ttotal: 2m 17s\tremaining: 0us\n"
     ]
    },
    {
     "name": "stderr",
     "output_type": "stream",
     "text": [
      "1it [02:18, 138.06s/it]"
     ]
    },
    {
     "name": "stdout",
     "output_type": "stream",
     "text": [
      "fold Loss 0:  0.22005574581294374\n",
      "---------------------------------------------------------------------------\n",
      "Learning rate set to 0.002361\n",
      "0:\tlearn: 0.6910850\ttotal: 53.7ms\tremaining: 4m 28s\n",
      "999:\tlearn: 0.2196405\ttotal: 27.5s\tremaining: 1m 50s\n",
      "1998:\tlearn: 0.1394023\ttotal: 54.8s\tremaining: 1m 22s\n",
      "2997:\tlearn: 0.0996095\ttotal: 1m 22s\tremaining: 54.9s\n",
      "3996:\tlearn: 0.0705205\ttotal: 1m 49s\tremaining: 27.5s\n",
      "4995:\tlearn: 0.0497905\ttotal: 2m 17s\tremaining: 110ms\n",
      "4999:\tlearn: 0.0497020\ttotal: 2m 17s\tremaining: 0us\n"
     ]
    },
    {
     "name": "stderr",
     "output_type": "stream",
     "text": [
      "2it [04:36, 138.08s/it]"
     ]
    },
    {
     "name": "stdout",
     "output_type": "stream",
     "text": [
      "fold Loss 1:  0.10036199428054769\n",
      "---------------------------------------------------------------------------\n",
      "Learning rate set to 0.002361\n",
      "0:\tlearn: 0.6910467\ttotal: 41.5ms\tremaining: 3m 27s\n",
      "999:\tlearn: 0.2087793\ttotal: 27.5s\tremaining: 1m 49s\n",
      "1998:\tlearn: 0.1304833\ttotal: 54.9s\tremaining: 1m 22s\n",
      "2997:\tlearn: 0.0922893\ttotal: 1m 22s\tremaining: 54.8s\n",
      "3996:\tlearn: 0.0635074\ttotal: 1m 49s\tremaining: 27.5s\n",
      "4995:\tlearn: 0.0439863\ttotal: 2m 16s\tremaining: 110ms\n",
      "4999:\tlearn: 0.0439563\ttotal: 2m 17s\tremaining: 0us\n"
     ]
    },
    {
     "name": "stderr",
     "output_type": "stream",
     "text": [
      "3it [06:54, 137.98s/it]"
     ]
    },
    {
     "name": "stdout",
     "output_type": "stream",
     "text": [
      "fold Loss 2:  0.24815788338647313\n",
      "---------------------------------------------------------------------------\n",
      "Learning rate set to 0.002361\n",
      "0:\tlearn: 0.6912460\ttotal: 54.3ms\tremaining: 4m 31s\n",
      "999:\tlearn: 0.2137278\ttotal: 27.5s\tremaining: 1m 50s\n",
      "1998:\tlearn: 0.1326746\ttotal: 54.9s\tremaining: 1m 22s\n",
      "2997:\tlearn: 0.0906150\ttotal: 1m 22s\tremaining: 55.2s\n",
      "3996:\tlearn: 0.0625812\ttotal: 1m 50s\tremaining: 27.7s\n",
      "4995:\tlearn: 0.0438603\ttotal: 2m 17s\tremaining: 110ms\n",
      "4999:\tlearn: 0.0437946\ttotal: 2m 17s\tremaining: 0us\n"
     ]
    },
    {
     "name": "stderr",
     "output_type": "stream",
     "text": [
      "4it [09:12, 138.21s/it]"
     ]
    },
    {
     "name": "stdout",
     "output_type": "stream",
     "text": [
      "fold Loss 3:  0.2265407305485553\n",
      "---------------------------------------------------------------------------\n",
      "Learning rate set to 0.002361\n",
      "0:\tlearn: 0.6913207\ttotal: 42.7ms\tremaining: 3m 33s\n",
      "999:\tlearn: 0.2162580\ttotal: 27.6s\tremaining: 1m 50s\n",
      "1998:\tlearn: 0.1369312\ttotal: 55.1s\tremaining: 1m 22s\n",
      "2997:\tlearn: 0.0962763\ttotal: 1m 22s\tremaining: 55.1s\n",
      "3996:\tlearn: 0.0673111\ttotal: 1m 50s\tremaining: 27.6s\n",
      "4995:\tlearn: 0.0474134\ttotal: 2m 17s\tremaining: 110ms\n",
      "4999:\tlearn: 0.0473081\ttotal: 2m 17s\tremaining: 0us\n"
     ]
    },
    {
     "name": "stderr",
     "output_type": "stream",
     "text": [
      "5it [11:31, 138.33s/it]"
     ]
    },
    {
     "name": "stdout",
     "output_type": "stream",
     "text": [
      "fold Loss 4:  0.16293627422252616\n",
      "---------------------------------------------------------------------------\n",
      "Learning rate set to 0.002361\n",
      "0:\tlearn: 0.6911207\ttotal: 54.5ms\tremaining: 4m 32s\n",
      "999:\tlearn: 0.2120824\ttotal: 27.3s\tremaining: 1m 49s\n",
      "1998:\tlearn: 0.1344472\ttotal: 55s\tremaining: 1m 22s\n",
      "2997:\tlearn: 0.0950860\ttotal: 1m 22s\tremaining: 55.1s\n",
      "3996:\tlearn: 0.0676078\ttotal: 1m 50s\tremaining: 27.6s\n",
      "4995:\tlearn: 0.0469158\ttotal: 2m 17s\tremaining: 110ms\n",
      "4999:\tlearn: 0.0468675\ttotal: 2m 17s\tremaining: 0us\n"
     ]
    },
    {
     "name": "stderr",
     "output_type": "stream",
     "text": [
      "6it [13:49, 138.46s/it]"
     ]
    },
    {
     "name": "stdout",
     "output_type": "stream",
     "text": [
      "fold Loss 5:  0.21771251963972862\n",
      "---------------------------------------------------------------------------\n",
      "Learning rate set to 0.002361\n",
      "0:\tlearn: 0.6910853\ttotal: 41.5ms\tremaining: 3m 27s\n",
      "999:\tlearn: 0.2119693\ttotal: 27.8s\tremaining: 1m 51s\n",
      "1998:\tlearn: 0.1349100\ttotal: 55s\tremaining: 1m 22s\n",
      "2997:\tlearn: 0.0960102\ttotal: 1m 22s\tremaining: 55.2s\n",
      "3996:\tlearn: 0.0689971\ttotal: 1m 50s\tremaining: 27.6s\n",
      "4995:\tlearn: 0.0494032\ttotal: 2m 17s\tremaining: 110ms\n",
      "4999:\tlearn: 0.0493364\ttotal: 2m 17s\tremaining: 0us\n"
     ]
    },
    {
     "name": "stderr",
     "output_type": "stream",
     "text": [
      "7it [16:08, 138.56s/it]"
     ]
    },
    {
     "name": "stdout",
     "output_type": "stream",
     "text": [
      "fold Loss 6:  0.15307120351889533\n",
      "---------------------------------------------------------------------------\n",
      "Learning rate set to 0.002361\n",
      "0:\tlearn: 0.6910333\ttotal: 53.7ms\tremaining: 4m 28s\n",
      "999:\tlearn: 0.2142498\ttotal: 27.8s\tremaining: 1m 51s\n",
      "1998:\tlearn: 0.1357182\ttotal: 55.3s\tremaining: 1m 23s\n",
      "2997:\tlearn: 0.0966763\ttotal: 1m 22s\tremaining: 55.3s\n",
      "3996:\tlearn: 0.0682921\ttotal: 1m 50s\tremaining: 27.7s\n",
      "4995:\tlearn: 0.0468324\ttotal: 2m 17s\tremaining: 110ms\n",
      "4999:\tlearn: 0.0467606\ttotal: 2m 18s\tremaining: 0us\n"
     ]
    },
    {
     "name": "stderr",
     "output_type": "stream",
     "text": [
      "8it [18:27, 138.67s/it]"
     ]
    },
    {
     "name": "stdout",
     "output_type": "stream",
     "text": [
      "fold Loss 7:  0.14446916543408087\n",
      "---------------------------------------------------------------------------\n",
      "Learning rate set to 0.002361\n",
      "0:\tlearn: 0.6910502\ttotal: 42.4ms\tremaining: 3m 31s\n",
      "999:\tlearn: 0.2110492\ttotal: 27.6s\tremaining: 1m 50s\n",
      "1998:\tlearn: 0.1332401\ttotal: 55.3s\tremaining: 1m 22s\n",
      "2997:\tlearn: 0.0938826\ttotal: 1m 22s\tremaining: 55.3s\n",
      "3996:\tlearn: 0.0654647\ttotal: 1m 50s\tremaining: 27.7s\n",
      "4995:\tlearn: 0.0454833\ttotal: 2m 17s\tremaining: 110ms\n",
      "4999:\tlearn: 0.0454541\ttotal: 2m 17s\tremaining: 0us\n"
     ]
    },
    {
     "name": "stderr",
     "output_type": "stream",
     "text": [
      "9it [20:46, 138.62s/it]"
     ]
    },
    {
     "name": "stdout",
     "output_type": "stream",
     "text": [
      "fold Loss 8:  0.20077281990789783\n",
      "---------------------------------------------------------------------------\n",
      "Learning rate set to 0.002361\n",
      "0:\tlearn: 0.6911400\ttotal: 56.2ms\tremaining: 4m 41s\n",
      "999:\tlearn: 0.2134972\ttotal: 27.7s\tremaining: 1m 50s\n",
      "1998:\tlearn: 0.1346136\ttotal: 55.2s\tremaining: 1m 22s\n",
      "2997:\tlearn: 0.0948877\ttotal: 1m 22s\tremaining: 55.4s\n",
      "3996:\tlearn: 0.0670148\ttotal: 1m 50s\tremaining: 27.8s\n",
      "4995:\tlearn: 0.0480320\ttotal: 2m 19s\tremaining: 112ms\n",
      "4999:\tlearn: 0.0479950\ttotal: 2m 19s\tremaining: 0us\n"
     ]
    },
    {
     "name": "stderr",
     "output_type": "stream",
     "text": [
      "10it [23:06, 139.24s/it]"
     ]
    },
    {
     "name": "stdout",
     "output_type": "stream",
     "text": [
      "fold Loss 9:  0.16623429183491667\n",
      "---------------------------------------------------------------------------\n",
      "Learning rate set to 0.002361\n",
      "0:\tlearn: 0.6910399\ttotal: 42.3ms\tremaining: 3m 31s\n",
      "999:\tlearn: 0.2083433\ttotal: 27.4s\tremaining: 1m 49s\n",
      "1998:\tlearn: 0.1293260\ttotal: 55.1s\tremaining: 1m 22s\n",
      "2997:\tlearn: 0.0904074\ttotal: 1m 22s\tremaining: 55.2s\n",
      "3996:\tlearn: 0.0623320\ttotal: 1m 50s\tremaining: 27.7s\n",
      "4995:\tlearn: 0.0433525\ttotal: 2m 18s\tremaining: 111ms\n",
      "4999:\tlearn: 0.0433028\ttotal: 2m 18s\tremaining: 0us\n"
     ]
    },
    {
     "name": "stderr",
     "output_type": "stream",
     "text": [
      "11it [25:25, 139.17s/it]"
     ]
    },
    {
     "name": "stdout",
     "output_type": "stream",
     "text": [
      "fold Loss 10:  0.27666699254923016\n",
      "---------------------------------------------------------------------------\n",
      "Learning rate set to 0.002361\n",
      "0:\tlearn: 0.6910884\ttotal: 54.2ms\tremaining: 4m 30s\n",
      "999:\tlearn: 0.2090777\ttotal: 27.7s\tremaining: 1m 50s\n",
      "1998:\tlearn: 0.1319604\ttotal: 55.2s\tremaining: 1m 22s\n",
      "2997:\tlearn: 0.0917690\ttotal: 1m 22s\tremaining: 55s\n",
      "3996:\tlearn: 0.0617499\ttotal: 1m 49s\tremaining: 27.6s\n",
      "4995:\tlearn: 0.0410348\ttotal: 2m 17s\tremaining: 110ms\n",
      "4999:\tlearn: 0.0409567\ttotal: 2m 18s\tremaining: 0us\n"
     ]
    },
    {
     "name": "stderr",
     "output_type": "stream",
     "text": [
      "12it [27:44, 139.08s/it]"
     ]
    },
    {
     "name": "stdout",
     "output_type": "stream",
     "text": [
      "fold Loss 11:  0.25758214829189435\n",
      "---------------------------------------------------------------------------\n",
      "Learning rate set to 0.002361\n",
      "0:\tlearn: 0.6910701\ttotal: 42.1ms\tremaining: 3m 30s\n",
      "999:\tlearn: 0.2107848\ttotal: 27.6s\tremaining: 1m 50s\n",
      "1998:\tlearn: 0.1340399\ttotal: 55.2s\tremaining: 1m 22s\n",
      "2997:\tlearn: 0.0952479\ttotal: 1m 22s\tremaining: 55.3s\n",
      "3996:\tlearn: 0.0662644\ttotal: 1m 50s\tremaining: 27.6s\n",
      "4995:\tlearn: 0.0447330\ttotal: 2m 18s\tremaining: 111ms\n",
      "4999:\tlearn: 0.0446962\ttotal: 2m 18s\tremaining: 0us\n"
     ]
    },
    {
     "name": "stderr",
     "output_type": "stream",
     "text": [
      "13it [30:03, 139.18s/it]"
     ]
    },
    {
     "name": "stdout",
     "output_type": "stream",
     "text": [
      "fold Loss 12:  0.21284802922601387\n",
      "---------------------------------------------------------------------------\n",
      "Learning rate set to 0.002361\n",
      "0:\tlearn: 0.6910781\ttotal: 54.8ms\tremaining: 4m 34s\n",
      "999:\tlearn: 0.2152131\ttotal: 27.7s\tremaining: 1m 50s\n",
      "1998:\tlearn: 0.1349575\ttotal: 55.5s\tremaining: 1m 23s\n",
      "2997:\tlearn: 0.0944480\ttotal: 1m 23s\tremaining: 55.5s\n",
      "3996:\tlearn: 0.0666786\ttotal: 1m 50s\tremaining: 27.8s\n",
      "4995:\tlearn: 0.0462699\ttotal: 2m 17s\tremaining: 110ms\n",
      "4999:\tlearn: 0.0462461\ttotal: 2m 18s\tremaining: 0us\n"
     ]
    },
    {
     "name": "stderr",
     "output_type": "stream",
     "text": [
      "14it [32:22, 139.09s/it]"
     ]
    },
    {
     "name": "stdout",
     "output_type": "stream",
     "text": [
      "fold Loss 13:  0.14233378724271148\n",
      "---------------------------------------------------------------------------\n",
      "Learning rate set to 0.002361\n",
      "0:\tlearn: 0.6908758\ttotal: 59.4ms\tremaining: 4m 56s\n",
      "999:\tlearn: 0.2091205\ttotal: 27.6s\tremaining: 1m 50s\n",
      "1998:\tlearn: 0.1330086\ttotal: 55.3s\tremaining: 1m 23s\n",
      "2997:\tlearn: 0.0941925\ttotal: 1m 22s\tremaining: 55.3s\n",
      "3996:\tlearn: 0.0667170\ttotal: 1m 50s\tremaining: 27.8s\n",
      "4995:\tlearn: 0.0470431\ttotal: 2m 18s\tremaining: 111ms\n",
      "4999:\tlearn: 0.0469929\ttotal: 2m 18s\tremaining: 0us\n"
     ]
    },
    {
     "name": "stderr",
     "output_type": "stream",
     "text": [
      "15it [34:42, 139.14s/it]"
     ]
    },
    {
     "name": "stdout",
     "output_type": "stream",
     "text": [
      "fold Loss 14:  0.288297932183007\n",
      "---------------------------------------------------------------------------\n",
      "Learning rate set to 0.002361\n",
      "0:\tlearn: 0.6910660\ttotal: 54.8ms\tremaining: 4m 34s\n",
      "999:\tlearn: 0.2122232\ttotal: 27.7s\tremaining: 1m 50s\n",
      "1998:\tlearn: 0.1351326\ttotal: 54.9s\tremaining: 1m 22s\n",
      "2997:\tlearn: 0.0957595\ttotal: 1m 22s\tremaining: 55.3s\n",
      "3996:\tlearn: 0.0676558\ttotal: 1m 50s\tremaining: 27.7s\n",
      "4995:\tlearn: 0.0463882\ttotal: 2m 18s\tremaining: 111ms\n",
      "4999:\tlearn: 0.0463300\ttotal: 2m 18s\tremaining: 0us\n"
     ]
    },
    {
     "name": "stderr",
     "output_type": "stream",
     "text": [
      "16it [37:01, 139.16s/it]"
     ]
    },
    {
     "name": "stdout",
     "output_type": "stream",
     "text": [
      "fold Loss 15:  0.15755981499308783\n",
      "---------------------------------------------------------------------------\n",
      "Learning rate set to 0.002361\n",
      "0:\tlearn: 0.6912748\ttotal: 41.9ms\tremaining: 3m 29s\n",
      "999:\tlearn: 0.2118195\ttotal: 27.8s\tremaining: 1m 51s\n",
      "1998:\tlearn: 0.1342991\ttotal: 55.7s\tremaining: 1m 23s\n",
      "2997:\tlearn: 0.0953893\ttotal: 1m 23s\tremaining: 55.6s\n",
      "3996:\tlearn: 0.0678491\ttotal: 1m 50s\tremaining: 27.8s\n",
      "4995:\tlearn: 0.0476104\ttotal: 2m 18s\tremaining: 111ms\n",
      "4999:\tlearn: 0.0475272\ttotal: 2m 18s\tremaining: 0us\n"
     ]
    },
    {
     "name": "stderr",
     "output_type": "stream",
     "text": [
      "17it [39:20, 139.30s/it]"
     ]
    },
    {
     "name": "stdout",
     "output_type": "stream",
     "text": [
      "fold Loss 16:  0.2029190166686032\n",
      "---------------------------------------------------------------------------\n",
      "Learning rate set to 0.002361\n",
      "0:\tlearn: 0.6910562\ttotal: 53.3ms\tremaining: 4m 26s\n",
      "999:\tlearn: 0.2134617\ttotal: 27.8s\tremaining: 1m 51s\n",
      "1998:\tlearn: 0.1346187\ttotal: 55.6s\tremaining: 1m 23s\n",
      "2997:\tlearn: 0.0943994\ttotal: 1m 23s\tremaining: 55.7s\n",
      "3996:\tlearn: 0.0661856\ttotal: 1m 51s\tremaining: 27.9s\n",
      "4995:\tlearn: 0.0463368\ttotal: 2m 18s\tremaining: 111ms\n",
      "4999:\tlearn: 0.0462800\ttotal: 2m 18s\tremaining: 0us\n"
     ]
    },
    {
     "name": "stderr",
     "output_type": "stream",
     "text": [
      "18it [41:40, 139.33s/it]"
     ]
    },
    {
     "name": "stdout",
     "output_type": "stream",
     "text": [
      "fold Loss 17:  0.17065313606726487\n",
      "---------------------------------------------------------------------------\n",
      "Learning rate set to 0.002361\n",
      "0:\tlearn: 0.6910407\ttotal: 43.5ms\tremaining: 3m 37s\n",
      "999:\tlearn: 0.2103433\ttotal: 28.1s\tremaining: 1m 52s\n",
      "1998:\tlearn: 0.1335632\ttotal: 55.8s\tremaining: 1m 23s\n",
      "2997:\tlearn: 0.0938260\ttotal: 1m 23s\tremaining: 55.7s\n",
      "3996:\tlearn: 0.0652670\ttotal: 1m 51s\tremaining: 27.9s\n",
      "4995:\tlearn: 0.0457666\ttotal: 2m 19s\tremaining: 111ms\n",
      "4999:\tlearn: 0.0457269\ttotal: 2m 19s\tremaining: 0us\n"
     ]
    },
    {
     "name": "stderr",
     "output_type": "stream",
     "text": [
      "19it [44:00, 139.51s/it]"
     ]
    },
    {
     "name": "stdout",
     "output_type": "stream",
     "text": [
      "fold Loss 18:  0.18562946157942137\n",
      "---------------------------------------------------------------------------\n",
      "Learning rate set to 0.002362\n",
      "0:\tlearn: 0.6909616\ttotal: 55.4ms\tremaining: 4m 37s\n",
      "999:\tlearn: 0.2114036\ttotal: 27.9s\tremaining: 1m 51s\n",
      "1998:\tlearn: 0.1335414\ttotal: 55.4s\tremaining: 1m 23s\n",
      "2997:\tlearn: 0.0944614\ttotal: 1m 23s\tremaining: 55.6s\n",
      "3996:\tlearn: 0.0664183\ttotal: 1m 50s\tremaining: 27.8s\n",
      "4995:\tlearn: 0.0454264\ttotal: 2m 18s\tremaining: 111ms\n",
      "4999:\tlearn: 0.0453712\ttotal: 2m 19s\tremaining: 0us\n"
     ]
    },
    {
     "name": "stderr",
     "output_type": "stream",
     "text": [
      "20it [46:20, 139.01s/it]"
     ]
    },
    {
     "name": "stdout",
     "output_type": "stream",
     "text": [
      "fold Loss 19:  0.12515861129428635\n",
      "---------------------------------------------------------------------------\n",
      "Training Loss: 0.04932033097495458\n",
      "Loss for iron_oxide:\n",
      "0.19299807793410428 0.04972241570706061\n",
      "==================================================================================================\n",
      "TARGET  oxalate\n"
     ]
    },
    {
     "name": "stderr",
     "output_type": "stream",
     "text": [
      "\n"
     ]
    },
    {
     "name": "stdout",
     "output_type": "stream",
     "text": [
      "0.03776743038924819\n"
     ]
    },
    {
     "name": "stderr",
     "output_type": "stream",
     "text": [
      "100%|██████████| 101/101 [00:00<00:00, 394804.01it/s]"
     ]
    },
    {
     "name": "stdout",
     "output_type": "stream",
     "text": [
      "6\n"
     ]
    },
    {
     "name": "stderr",
     "output_type": "stream",
     "text": [
      "\n"
     ]
    },
    {
     "name": "stdout",
     "output_type": "stream",
     "text": [
      "0.012994604421974332\n"
     ]
    },
    {
     "name": "stderr",
     "output_type": "stream",
     "text": [
      "100%|██████████| 2000/2000 [00:00<00:00, 1544010.31it/s]"
     ]
    },
    {
     "name": "stdout",
     "output_type": "stream",
     "text": [
      "13\n"
     ]
    },
    {
     "name": "stderr",
     "output_type": "stream",
     "text": [
      "\n"
     ]
    },
    {
     "name": "stdout",
     "output_type": "stream",
     "text": [
      "0.004515877673576137\n"
     ]
    },
    {
     "name": "stderr",
     "output_type": "stream",
     "text": [
      "100%|██████████| 2300/2300 [00:00<00:00, 1540792.08it/s]\n"
     ]
    },
    {
     "name": "stdout",
     "output_type": "stream",
     "text": [
      "14\n",
      "0.0044021616082246424\n"
     ]
    },
    {
     "name": "stderr",
     "output_type": "stream",
     "text": [
      "100%|██████████| 2100/2100 [00:00<00:00, 1593349.93it/s]"
     ]
    },
    {
     "name": "stdout",
     "output_type": "stream",
     "text": [
      "13\n",
      "(1059, 13) (1059, 6) (1059, 13) (1059, 14)\n"
     ]
    },
    {
     "name": "stderr",
     "output_type": "stream",
     "text": [
      "\n"
     ]
    },
    {
     "name": "stdout",
     "output_type": "stream",
     "text": [
      "(1059, 46)\n",
      "(804, 13) (804, 6) (804, 13) (804, 14)\n",
      "(804, 46)\n"
     ]
    },
    {
     "name": "stderr",
     "output_type": "stream",
     "text": [
      "0it [00:00, ?it/s]"
     ]
    },
    {
     "name": "stdout",
     "output_type": "stream",
     "text": [
      "Learning rate set to 0.002361\n",
      "0:\tlearn: 0.6868472\ttotal: 10.2ms\tremaining: 51.1s\n",
      "999:\tlearn: 0.0054688\ttotal: 6.77s\tremaining: 27.1s\n",
      "1998:\tlearn: 0.0016231\ttotal: 13.1s\tremaining: 19.7s\n",
      "2997:\tlearn: 0.0008451\ttotal: 19.6s\tremaining: 13.1s\n",
      "3996:\tlearn: 0.0005726\ttotal: 26s\tremaining: 6.53s\n"
     ]
    },
    {
     "name": "stderr",
     "output_type": "stream",
     "text": [
      "1it [00:33, 33.42s/it]"
     ]
    },
    {
     "name": "stdout",
     "output_type": "stream",
     "text": [
      "4995:\tlearn: 0.0004409\ttotal: 32.6s\tremaining: 26.1ms\n",
      "4999:\tlearn: 0.0004405\ttotal: 32.7s\tremaining: 0us\n",
      "fold Loss 0:  0.00023548949931513792\n",
      "---------------------------------------------------------------------------\n",
      "Learning rate set to 0.002361\n",
      "0:\tlearn: 0.6868578\ttotal: 6.72ms\tremaining: 33.6s\n",
      "999:\tlearn: 0.0054762\ttotal: 6.7s\tremaining: 26.8s\n",
      "1998:\tlearn: 0.0016289\ttotal: 13.1s\tremaining: 19.6s\n",
      "2997:\tlearn: 0.0008594\ttotal: 19.4s\tremaining: 13s\n",
      "3996:\tlearn: 0.0005584\ttotal: 25.8s\tremaining: 6.47s\n"
     ]
    },
    {
     "name": "stderr",
     "output_type": "stream",
     "text": [
      "2it [01:06, 33.19s/it]"
     ]
    },
    {
     "name": "stdout",
     "output_type": "stream",
     "text": [
      "4995:\tlearn: 0.0004266\ttotal: 32.2s\tremaining: 25.8ms\n",
      "4999:\tlearn: 0.0004262\ttotal: 32.3s\tremaining: 0us\n",
      "fold Loss 1:  0.0006279585828194578\n",
      "---------------------------------------------------------------------------\n",
      "Learning rate set to 0.002361\n",
      "0:\tlearn: 0.6874880\ttotal: 8.3ms\tremaining: 41.5s\n",
      "999:\tlearn: 0.0053474\ttotal: 6.7s\tremaining: 26.8s\n",
      "1998:\tlearn: 0.0016021\ttotal: 13s\tremaining: 19.5s\n",
      "2997:\tlearn: 0.0008845\ttotal: 19.5s\tremaining: 13s\n",
      "3996:\tlearn: 0.0006094\ttotal: 25.9s\tremaining: 6.5s\n"
     ]
    },
    {
     "name": "stderr",
     "output_type": "stream",
     "text": [
      "3it [01:39, 33.13s/it]"
     ]
    },
    {
     "name": "stdout",
     "output_type": "stream",
     "text": [
      "4995:\tlearn: 0.0004558\ttotal: 32.3s\tremaining: 25.9ms\n",
      "4999:\tlearn: 0.0004554\ttotal: 32.3s\tremaining: 0us\n",
      "fold Loss 2:  0.0006347552851194332\n",
      "---------------------------------------------------------------------------\n",
      "Learning rate set to 0.002361\n",
      "0:\tlearn: 0.6868469\ttotal: 8.51ms\tremaining: 42.5s\n",
      "999:\tlearn: 0.0054414\ttotal: 6.69s\tremaining: 26.8s\n",
      "1998:\tlearn: 0.0016304\ttotal: 13.2s\tremaining: 19.7s\n",
      "2997:\tlearn: 0.0009032\ttotal: 19.6s\tremaining: 13.1s\n",
      "3996:\tlearn: 0.0006246\ttotal: 26.1s\tremaining: 6.54s\n"
     ]
    },
    {
     "name": "stderr",
     "output_type": "stream",
     "text": [
      "4it [02:12, 33.22s/it]"
     ]
    },
    {
     "name": "stdout",
     "output_type": "stream",
     "text": [
      "4995:\tlearn: 0.0004898\ttotal: 32.6s\tremaining: 26.1ms\n",
      "4999:\tlearn: 0.0004894\ttotal: 32.6s\tremaining: 0us\n",
      "fold Loss 3:  0.00038915118140540986\n",
      "---------------------------------------------------------------------------\n",
      "Learning rate set to 0.002361\n",
      "0:\tlearn: 0.6868428\ttotal: 7.34ms\tremaining: 36.7s\n",
      "999:\tlearn: 0.0054021\ttotal: 6.72s\tremaining: 26.9s\n",
      "1998:\tlearn: 0.0016106\ttotal: 13.1s\tremaining: 19.7s\n",
      "2997:\tlearn: 0.0008845\ttotal: 19.6s\tremaining: 13.1s\n",
      "3996:\tlearn: 0.0006128\ttotal: 26s\tremaining: 6.53s\n"
     ]
    },
    {
     "name": "stderr",
     "output_type": "stream",
     "text": [
      "5it [02:46, 33.24s/it]"
     ]
    },
    {
     "name": "stdout",
     "output_type": "stream",
     "text": [
      "4995:\tlearn: 0.0004783\ttotal: 32.5s\tremaining: 26ms\n",
      "4999:\tlearn: 0.0004780\ttotal: 32.5s\tremaining: 0us\n",
      "fold Loss 4:  0.0004317419691999571\n",
      "---------------------------------------------------------------------------\n",
      "Learning rate set to 0.002361\n",
      "0:\tlearn: 0.6868642\ttotal: 6.9ms\tremaining: 34.5s\n",
      "999:\tlearn: 0.0053749\ttotal: 6.92s\tremaining: 27.7s\n",
      "1998:\tlearn: 0.0016205\ttotal: 13.4s\tremaining: 20.1s\n",
      "2997:\tlearn: 0.0008995\ttotal: 19.8s\tremaining: 13.3s\n",
      "3996:\tlearn: 0.0006009\ttotal: 26.3s\tremaining: 6.59s\n"
     ]
    },
    {
     "name": "stderr",
     "output_type": "stream",
     "text": [
      "6it [03:19, 33.34s/it]"
     ]
    },
    {
     "name": "stdout",
     "output_type": "stream",
     "text": [
      "4995:\tlearn: 0.0004453\ttotal: 32.8s\tremaining: 26.2ms\n",
      "4999:\tlearn: 0.0004448\ttotal: 32.8s\tremaining: 0us\n",
      "fold Loss 5:  0.0016436485558755946\n",
      "---------------------------------------------------------------------------\n",
      "Learning rate set to 0.002361\n",
      "0:\tlearn: 0.6866819\ttotal: 6.61ms\tremaining: 33s\n",
      "999:\tlearn: 0.0054661\ttotal: 6.86s\tremaining: 27.4s\n",
      "1998:\tlearn: 0.0016443\ttotal: 13.6s\tremaining: 20.5s\n",
      "2997:\tlearn: 0.0008963\ttotal: 20s\tremaining: 13.4s\n",
      "3996:\tlearn: 0.0006220\ttotal: 26.5s\tremaining: 6.65s\n"
     ]
    },
    {
     "name": "stderr",
     "output_type": "stream",
     "text": [
      "7it [03:53, 33.50s/it]"
     ]
    },
    {
     "name": "stdout",
     "output_type": "stream",
     "text": [
      "4995:\tlearn: 0.0004859\ttotal: 33s\tremaining: 26.5ms\n",
      "4999:\tlearn: 0.0004856\ttotal: 33.1s\tremaining: 0us\n",
      "fold Loss 6:  0.0006356264013076521\n",
      "---------------------------------------------------------------------------\n",
      "Learning rate set to 0.002361\n",
      "0:\tlearn: 0.6874690\ttotal: 6.87ms\tremaining: 34.3s\n",
      "999:\tlearn: 0.0054561\ttotal: 6.72s\tremaining: 26.9s\n",
      "1998:\tlearn: 0.0016189\ttotal: 13.1s\tremaining: 19.7s\n",
      "2997:\tlearn: 0.0008581\ttotal: 19.6s\tremaining: 13.1s\n",
      "3996:\tlearn: 0.0005667\ttotal: 26s\tremaining: 6.53s\n"
     ]
    },
    {
     "name": "stderr",
     "output_type": "stream",
     "text": [
      "8it [04:26, 33.45s/it]"
     ]
    },
    {
     "name": "stdout",
     "output_type": "stream",
     "text": [
      "4995:\tlearn: 0.0004301\ttotal: 32.6s\tremaining: 26.1ms\n",
      "4999:\tlearn: 0.0004297\ttotal: 32.6s\tremaining: 0us\n",
      "fold Loss 7:  0.0002570565481039425\n",
      "---------------------------------------------------------------------------\n",
      "Learning rate set to 0.002361\n",
      "0:\tlearn: 0.6868411\ttotal: 6.72ms\tremaining: 33.6s\n",
      "999:\tlearn: 0.0054447\ttotal: 6.73s\tremaining: 26.9s\n",
      "1998:\tlearn: 0.0016181\ttotal: 13.1s\tremaining: 19.7s\n",
      "2997:\tlearn: 0.0008902\ttotal: 19.5s\tremaining: 13s\n",
      "3996:\tlearn: 0.0006158\ttotal: 25.9s\tremaining: 6.51s\n"
     ]
    },
    {
     "name": "stderr",
     "output_type": "stream",
     "text": [
      "9it [05:00, 33.38s/it]"
     ]
    },
    {
     "name": "stdout",
     "output_type": "stream",
     "text": [
      "4995:\tlearn: 0.0004777\ttotal: 32.4s\tremaining: 26ms\n",
      "4999:\tlearn: 0.0004771\ttotal: 32.5s\tremaining: 0us\n",
      "fold Loss 8:  0.0011091977121886112\n",
      "---------------------------------------------------------------------------\n",
      "Learning rate set to 0.002361\n",
      "0:\tlearn: 0.6868333\ttotal: 6.63ms\tremaining: 33.1s\n",
      "999:\tlearn: 0.0052540\ttotal: 6.76s\tremaining: 27.1s\n",
      "1998:\tlearn: 0.0015654\ttotal: 13.2s\tremaining: 19.9s\n",
      "2997:\tlearn: 0.0008311\ttotal: 19.7s\tremaining: 13.1s\n",
      "3996:\tlearn: 0.0005403\ttotal: 26.1s\tremaining: 6.56s\n"
     ]
    },
    {
     "name": "stderr",
     "output_type": "stream",
     "text": [
      "10it [05:33, 33.42s/it]"
     ]
    },
    {
     "name": "stdout",
     "output_type": "stream",
     "text": [
      "4995:\tlearn: 0.0004114\ttotal: 32.7s\tremaining: 26.2ms\n",
      "4999:\tlearn: 0.0004110\ttotal: 32.8s\tremaining: 0us\n",
      "fold Loss 9:  0.0036779036769011442\n",
      "---------------------------------------------------------------------------\n",
      "Learning rate set to 0.002361\n",
      "0:\tlearn: 0.6868453\ttotal: 6.94ms\tremaining: 34.7s\n",
      "999:\tlearn: 0.0055044\ttotal: 6.83s\tremaining: 27.3s\n",
      "1998:\tlearn: 0.0016380\ttotal: 13.3s\tremaining: 20s\n",
      "2997:\tlearn: 0.0008854\ttotal: 19.8s\tremaining: 13.2s\n",
      "3996:\tlearn: 0.0006138\ttotal: 26.3s\tremaining: 6.61s\n"
     ]
    },
    {
     "name": "stderr",
     "output_type": "stream",
     "text": [
      "11it [06:07, 33.54s/it]"
     ]
    },
    {
     "name": "stdout",
     "output_type": "stream",
     "text": [
      "4995:\tlearn: 0.0004815\ttotal: 33s\tremaining: 26.4ms\n",
      "4999:\tlearn: 0.0004811\ttotal: 33s\tremaining: 0us\n",
      "fold Loss 10:  0.009505645540149633\n",
      "---------------------------------------------------------------------------\n",
      "Learning rate set to 0.002361\n",
      "0:\tlearn: 0.6868396\ttotal: 8.5ms\tremaining: 42.5s\n",
      "999:\tlearn: 0.0054785\ttotal: 6.84s\tremaining: 27.3s\n",
      "1998:\tlearn: 0.0016311\ttotal: 13.3s\tremaining: 20s\n",
      "2997:\tlearn: 0.0008981\ttotal: 19.7s\tremaining: 13.2s\n",
      "3996:\tlearn: 0.0006141\ttotal: 26.3s\tremaining: 6.59s\n"
     ]
    },
    {
     "name": "stderr",
     "output_type": "stream",
     "text": [
      "12it [06:41, 33.61s/it]"
     ]
    },
    {
     "name": "stdout",
     "output_type": "stream",
     "text": [
      "4995:\tlearn: 0.0004788\ttotal: 33s\tremaining: 26.4ms\n",
      "4999:\tlearn: 0.0004782\ttotal: 33s\tremaining: 0us\n",
      "fold Loss 11:  0.0014774005981650052\n",
      "---------------------------------------------------------------------------\n",
      "Learning rate set to 0.002361\n",
      "0:\tlearn: 0.6867003\ttotal: 8.03ms\tremaining: 40.1s\n",
      "999:\tlearn: 0.0054420\ttotal: 6.49s\tremaining: 25.9s\n",
      "1998:\tlearn: 0.0016390\ttotal: 12.9s\tremaining: 19.3s\n",
      "2997:\tlearn: 0.0008978\ttotal: 19.3s\tremaining: 12.9s\n",
      "3996:\tlearn: 0.0006211\ttotal: 25.7s\tremaining: 6.45s\n"
     ]
    },
    {
     "name": "stderr",
     "output_type": "stream",
     "text": [
      "13it [07:14, 33.48s/it]"
     ]
    },
    {
     "name": "stdout",
     "output_type": "stream",
     "text": [
      "4995:\tlearn: 0.0004858\ttotal: 32.4s\tremaining: 26ms\n",
      "4999:\tlearn: 0.0004853\ttotal: 32.4s\tremaining: 0us\n",
      "fold Loss 12:  0.0005854736606751779\n",
      "---------------------------------------------------------------------------\n",
      "Learning rate set to 0.002361\n",
      "0:\tlearn: 0.6868522\ttotal: 8.79ms\tremaining: 43.9s\n",
      "999:\tlearn: 0.0054242\ttotal: 6.37s\tremaining: 25.5s\n",
      "1998:\tlearn: 0.0016130\ttotal: 12.8s\tremaining: 19.3s\n",
      "2997:\tlearn: 0.0008778\ttotal: 19.3s\tremaining: 12.9s\n",
      "3996:\tlearn: 0.0005982\ttotal: 25.7s\tremaining: 6.44s\n"
     ]
    },
    {
     "name": "stderr",
     "output_type": "stream",
     "text": [
      "14it [07:47, 33.41s/it]"
     ]
    },
    {
     "name": "stdout",
     "output_type": "stream",
     "text": [
      "4995:\tlearn: 0.0004593\ttotal: 32.5s\tremaining: 26ms\n",
      "4999:\tlearn: 0.0004587\ttotal: 32.5s\tremaining: 0us\n",
      "fold Loss 13:  0.0012106213550255693\n",
      "---------------------------------------------------------------------------\n",
      "Learning rate set to 0.002361\n",
      "0:\tlearn: 0.6868440\ttotal: 6.6ms\tremaining: 33s\n",
      "999:\tlearn: 0.0055135\ttotal: 6.33s\tremaining: 25.3s\n",
      "1998:\tlearn: 0.0016878\ttotal: 12.8s\tremaining: 19.2s\n",
      "2997:\tlearn: 0.0009718\ttotal: 19.2s\tremaining: 12.8s\n",
      "3996:\tlearn: 0.0006402\ttotal: 25.7s\tremaining: 6.44s\n"
     ]
    },
    {
     "name": "stderr",
     "output_type": "stream",
     "text": [
      "15it [08:20, 33.36s/it]"
     ]
    },
    {
     "name": "stdout",
     "output_type": "stream",
     "text": [
      "4995:\tlearn: 0.0004683\ttotal: 32.5s\tremaining: 26ms\n",
      "4999:\tlearn: 0.0004676\ttotal: 32.5s\tremaining: 0us\n",
      "fold Loss 14:  0.008496389300073674\n",
      "---------------------------------------------------------------------------\n",
      "Learning rate set to 0.002361\n",
      "0:\tlearn: 0.6868504\ttotal: 6.98ms\tremaining: 34.9s\n",
      "999:\tlearn: 0.0053198\ttotal: 6.43s\tremaining: 25.7s\n",
      "1998:\tlearn: 0.0015967\ttotal: 12.8s\tremaining: 19.2s\n",
      "2997:\tlearn: 0.0008814\ttotal: 19.2s\tremaining: 12.8s\n",
      "3996:\tlearn: 0.0005936\ttotal: 25.6s\tremaining: 6.43s\n"
     ]
    },
    {
     "name": "stderr",
     "output_type": "stream",
     "text": [
      "16it [08:54, 33.33s/it]"
     ]
    },
    {
     "name": "stdout",
     "output_type": "stream",
     "text": [
      "4995:\tlearn: 0.0004539\ttotal: 32.5s\tremaining: 26ms\n",
      "4999:\tlearn: 0.0004535\ttotal: 32.5s\tremaining: 0us\n",
      "fold Loss 15:  0.009299262955458522\n",
      "---------------------------------------------------------------------------\n",
      "Learning rate set to 0.002361\n",
      "0:\tlearn: 0.6874350\ttotal: 7.01ms\tremaining: 35s\n",
      "999:\tlearn: 0.0055779\ttotal: 6.52s\tremaining: 26.1s\n",
      "1998:\tlearn: 0.0016498\ttotal: 12.9s\tremaining: 19.4s\n",
      "2997:\tlearn: 0.0008621\ttotal: 19.3s\tremaining: 12.9s\n",
      "3996:\tlearn: 0.0005668\ttotal: 25.8s\tremaining: 6.47s\n"
     ]
    },
    {
     "name": "stderr",
     "output_type": "stream",
     "text": [
      "17it [09:27, 33.35s/it]"
     ]
    },
    {
     "name": "stdout",
     "output_type": "stream",
     "text": [
      "4995:\tlearn: 0.0004373\ttotal: 32.6s\tremaining: 26.1ms\n",
      "4999:\tlearn: 0.0004369\ttotal: 32.6s\tremaining: 0us\n",
      "fold Loss 16:  0.001834848817530135\n",
      "---------------------------------------------------------------------------\n",
      "Learning rate set to 0.002361\n",
      "0:\tlearn: 0.6868395\ttotal: 6.77ms\tremaining: 33.8s\n",
      "999:\tlearn: 0.0054925\ttotal: 6.46s\tremaining: 25.8s\n",
      "1998:\tlearn: 0.0016274\ttotal: 12.9s\tremaining: 19.3s\n",
      "2997:\tlearn: 0.0008735\ttotal: 19.3s\tremaining: 12.9s\n",
      "3996:\tlearn: 0.0005944\ttotal: 25.8s\tremaining: 6.47s\n"
     ]
    },
    {
     "name": "stderr",
     "output_type": "stream",
     "text": [
      "18it [10:00, 33.37s/it]"
     ]
    },
    {
     "name": "stdout",
     "output_type": "stream",
     "text": [
      "4995:\tlearn: 0.0004375\ttotal: 32.6s\tremaining: 26.1ms\n",
      "4999:\tlearn: 0.0004369\ttotal: 32.7s\tremaining: 0us\n",
      "fold Loss 17:  0.0009375192181394473\n",
      "---------------------------------------------------------------------------\n",
      "Learning rate set to 0.002361\n",
      "0:\tlearn: 0.6867865\ttotal: 6.95ms\tremaining: 34.8s\n",
      "999:\tlearn: 0.0054041\ttotal: 6.41s\tremaining: 25.6s\n",
      "1998:\tlearn: 0.0016130\ttotal: 12.8s\tremaining: 19.2s\n",
      "2997:\tlearn: 0.0008588\ttotal: 19.2s\tremaining: 12.8s\n",
      "3996:\tlearn: 0.0005655\ttotal: 25.6s\tremaining: 6.42s\n"
     ]
    },
    {
     "name": "stderr",
     "output_type": "stream",
     "text": [
      "19it [10:34, 33.29s/it]"
     ]
    },
    {
     "name": "stdout",
     "output_type": "stream",
     "text": [
      "4995:\tlearn: 0.0004337\ttotal: 32.3s\tremaining: 25.9ms\n",
      "4999:\tlearn: 0.0004334\ttotal: 32.4s\tremaining: 0us\n",
      "fold Loss 18:  0.00045981188242023787\n",
      "---------------------------------------------------------------------------\n",
      "Learning rate set to 0.002362\n",
      "0:\tlearn: 0.6868255\ttotal: 6.91ms\tremaining: 34.5s\n",
      "999:\tlearn: 0.0054584\ttotal: 6.39s\tremaining: 25.6s\n",
      "1998:\tlearn: 0.0016163\ttotal: 12.8s\tremaining: 19.2s\n",
      "2997:\tlearn: 0.0008813\ttotal: 19.1s\tremaining: 12.8s\n",
      "3996:\tlearn: 0.0006070\ttotal: 25.5s\tremaining: 6.41s\n"
     ]
    },
    {
     "name": "stderr",
     "output_type": "stream",
     "text": [
      "20it [11:07, 33.36s/it]"
     ]
    },
    {
     "name": "stdout",
     "output_type": "stream",
     "text": [
      "4995:\tlearn: 0.0004739\ttotal: 32.4s\tremaining: 25.9ms\n",
      "4999:\tlearn: 0.0004736\ttotal: 32.4s\tremaining: 0us\n",
      "fold Loss 19:  0.0006704600802596622\n",
      "---------------------------------------------------------------------------\n",
      "Training Loss: 0.0004851148820788316\n",
      "Loss for oxalate:\n",
      "0.0022059981410066706 0.002997589297211556\n",
      "==================================================================================================\n",
      "TARGET  oxychlorine\n"
     ]
    },
    {
     "name": "stderr",
     "output_type": "stream",
     "text": [
      "\n"
     ]
    },
    {
     "name": "stdout",
     "output_type": "stream",
     "text": [
      "0.39377129932979577\n"
     ]
    },
    {
     "name": "stderr",
     "output_type": "stream",
     "text": [
      "100%|██████████| 101/101 [00:00<00:00, 458965.01it/s]"
     ]
    },
    {
     "name": "stdout",
     "output_type": "stream",
     "text": [
      "11\n"
     ]
    },
    {
     "name": "stderr",
     "output_type": "stream",
     "text": [
      "\n"
     ]
    },
    {
     "name": "stdout",
     "output_type": "stream",
     "text": [
      "0.278915698283962\n"
     ]
    },
    {
     "name": "stderr",
     "output_type": "stream",
     "text": [
      "100%|██████████| 2000/2000 [00:00<00:00, 1501182.53it/s]\n"
     ]
    },
    {
     "name": "stdout",
     "output_type": "stream",
     "text": [
      "55\n",
      "0.25104427962795073\n"
     ]
    },
    {
     "name": "stderr",
     "output_type": "stream",
     "text": [
      "100%|██████████| 2300/2300 [00:00<00:00, 1608084.55it/s]\n"
     ]
    },
    {
     "name": "stdout",
     "output_type": "stream",
     "text": [
      "69\n",
      "0.2541731028927556\n"
     ]
    },
    {
     "name": "stderr",
     "output_type": "stream",
     "text": [
      "100%|██████████| 2100/2100 [00:00<00:00, 1589611.69it/s]\n"
     ]
    },
    {
     "name": "stdout",
     "output_type": "stream",
     "text": [
      "68\n",
      "(1059, 68) (1059, 11) (1059, 55) (1059, 69)\n",
      "(1059, 203)\n",
      "(804, 68) (804, 11) (804, 55) (804, 69)\n",
      "(804, 203)\n"
     ]
    },
    {
     "name": "stderr",
     "output_type": "stream",
     "text": [
      "0it [00:00, ?it/s]"
     ]
    },
    {
     "name": "stdout",
     "output_type": "stream",
     "text": [
      "Learning rate set to 0.002361\n",
      "0:\tlearn: 0.6907990\ttotal: 57.3ms\tremaining: 4m 46s\n",
      "999:\tlearn: 0.1332661\ttotal: 24.3s\tremaining: 1m 37s\n",
      "1998:\tlearn: 0.0763948\ttotal: 48.8s\tremaining: 1m 13s\n",
      "2997:\tlearn: 0.0506116\ttotal: 1m 13s\tremaining: 48.9s\n",
      "3996:\tlearn: 0.0355578\ttotal: 1m 37s\tremaining: 24.4s\n",
      "4995:\tlearn: 0.0259972\ttotal: 2m 1s\tremaining: 97.4ms\n",
      "4999:\tlearn: 0.0259617\ttotal: 2m 1s\tremaining: 0us\n",
      "fold Loss 0:  0.0758932598748024\n"
     ]
    },
    {
     "name": "stderr",
     "output_type": "stream",
     "text": [
      "1it [02:02, 122.60s/it]"
     ]
    },
    {
     "name": "stdout",
     "output_type": "stream",
     "text": [
      "---------------------------------------------------------------------------\n",
      "Learning rate set to 0.002361\n",
      "0:\tlearn: 0.6906162\ttotal: 48.1ms\tremaining: 4m\n",
      "999:\tlearn: 0.1295476\ttotal: 24.6s\tremaining: 1m 38s\n",
      "1998:\tlearn: 0.0750087\ttotal: 48.5s\tremaining: 1m 12s\n",
      "2997:\tlearn: 0.0499617\ttotal: 1m 13s\tremaining: 48.8s\n",
      "3996:\tlearn: 0.0350955\ttotal: 1m 37s\tremaining: 24.4s\n",
      "4995:\tlearn: 0.0254339\ttotal: 2m 1s\tremaining: 97.5ms\n",
      "4999:\tlearn: 0.0254110\ttotal: 2m 1s\tremaining: 0us\n",
      "fold Loss 1:  0.13546650042379882\n"
     ]
    },
    {
     "name": "stderr",
     "output_type": "stream",
     "text": [
      "2it [04:05, 122.67s/it]"
     ]
    },
    {
     "name": "stdout",
     "output_type": "stream",
     "text": [
      "---------------------------------------------------------------------------\n",
      "Learning rate set to 0.002361\n",
      "0:\tlearn: 0.6906336\ttotal: 37.7ms\tremaining: 3m 8s\n",
      "999:\tlearn: 0.1223909\ttotal: 23.9s\tremaining: 1m 35s\n",
      "1998:\tlearn: 0.0670480\ttotal: 48.2s\tremaining: 1m 12s\n",
      "2997:\tlearn: 0.0431440\ttotal: 1m 12s\tremaining: 48.5s\n",
      "3996:\tlearn: 0.0281771\ttotal: 1m 36s\tremaining: 24.3s\n",
      "4995:\tlearn: 0.0197267\ttotal: 2m\tremaining: 96.9ms\n",
      "4999:\tlearn: 0.0197099\ttotal: 2m 1s\tremaining: 0us\n"
     ]
    },
    {
     "name": "stderr",
     "output_type": "stream",
     "text": [
      "3it [06:07, 122.33s/it]"
     ]
    },
    {
     "name": "stdout",
     "output_type": "stream",
     "text": [
      "fold Loss 2:  0.25443907408214733\n",
      "---------------------------------------------------------------------------\n",
      "Learning rate set to 0.002361\n",
      "0:\tlearn: 0.6907830\ttotal: 71.1ms\tremaining: 5m 55s\n",
      "999:\tlearn: 0.1260494\ttotal: 24.3s\tremaining: 1m 37s\n",
      "1998:\tlearn: 0.0709589\ttotal: 48.6s\tremaining: 1m 12s\n",
      "2997:\tlearn: 0.0463660\ttotal: 1m 13s\tremaining: 48.8s\n",
      "3996:\tlearn: 0.0315690\ttotal: 1m 37s\tremaining: 24.4s\n",
      "4995:\tlearn: 0.0216612\ttotal: 2m 1s\tremaining: 97.3ms\n",
      "4999:\tlearn: 0.0216235\ttotal: 2m 1s\tremaining: 0us\n",
      "fold Loss 3:  0.19030132358187188\n"
     ]
    },
    {
     "name": "stderr",
     "output_type": "stream",
     "text": [
      "4it [08:09, 122.37s/it]"
     ]
    },
    {
     "name": "stdout",
     "output_type": "stream",
     "text": [
      "---------------------------------------------------------------------------\n",
      "Learning rate set to 0.002361\n",
      "0:\tlearn: 0.6905469\ttotal: 36.8ms\tremaining: 3m 4s\n",
      "999:\tlearn: 0.1325249\ttotal: 24.3s\tremaining: 1m 37s\n",
      "1998:\tlearn: 0.0759545\ttotal: 48.9s\tremaining: 1m 13s\n",
      "2997:\tlearn: 0.0505113\ttotal: 1m 12s\tremaining: 48.6s\n",
      "3996:\tlearn: 0.0349075\ttotal: 1m 37s\tremaining: 24.4s\n"
     ]
    },
    {
     "name": "stderr",
     "output_type": "stream",
     "text": [
      "5it [10:12, 122.40s/it]"
     ]
    },
    {
     "name": "stdout",
     "output_type": "stream",
     "text": [
      "4995:\tlearn: 0.0246488\ttotal: 2m 1s\tremaining: 97.3ms\n",
      "4999:\tlearn: 0.0246085\ttotal: 2m 1s\tremaining: 0us\n",
      "fold Loss 4:  0.07496760156325505\n",
      "---------------------------------------------------------------------------\n",
      "Learning rate set to 0.002361\n",
      "0:\tlearn: 0.6905635\ttotal: 49.2ms\tremaining: 4m 5s\n",
      "999:\tlearn: 0.1220958\ttotal: 24.6s\tremaining: 1m 38s\n",
      "1998:\tlearn: 0.0667965\ttotal: 48.6s\tremaining: 1m 12s\n",
      "2997:\tlearn: 0.0414675\ttotal: 1m 13s\tremaining: 48.9s\n",
      "3996:\tlearn: 0.0276927\ttotal: 1m 37s\tremaining: 24.5s\n",
      "4995:\tlearn: 0.0198052\ttotal: 2m 2s\tremaining: 97.8ms\n",
      "4999:\tlearn: 0.0197736\ttotal: 2m 2s\tremaining: 0us\n",
      "fold Loss 5:  0.3830692538230884\n"
     ]
    },
    {
     "name": "stderr",
     "output_type": "stream",
     "text": [
      "6it [12:15, 122.64s/it]"
     ]
    },
    {
     "name": "stdout",
     "output_type": "stream",
     "text": [
      "---------------------------------------------------------------------------\n",
      "Learning rate set to 0.002361\n",
      "0:\tlearn: 0.6905765\ttotal: 37.3ms\tremaining: 3m 6s\n",
      "999:\tlearn: 0.1261172\ttotal: 24s\tremaining: 1m 35s\n",
      "1998:\tlearn: 0.0715703\ttotal: 48.4s\tremaining: 1m 12s\n",
      "2997:\tlearn: 0.0473298\ttotal: 1m 12s\tremaining: 48.6s\n",
      "3996:\tlearn: 0.0322826\ttotal: 1m 37s\tremaining: 24.4s\n",
      "4995:\tlearn: 0.0229242\ttotal: 2m 1s\tremaining: 96.9ms\n",
      "4999:\tlearn: 0.0229073\ttotal: 2m 1s\tremaining: 0us\n",
      "fold Loss 6:  0.19492541043346742\n"
     ]
    },
    {
     "name": "stderr",
     "output_type": "stream",
     "text": [
      "7it [14:17, 122.41s/it]"
     ]
    },
    {
     "name": "stdout",
     "output_type": "stream",
     "text": [
      "---------------------------------------------------------------------------\n",
      "Learning rate set to 0.002361\n",
      "0:\tlearn: 0.6909669\ttotal: 49.4ms\tremaining: 4m 6s\n",
      "999:\tlearn: 0.1306815\ttotal: 24.4s\tremaining: 1m 37s\n",
      "1998:\tlearn: 0.0735679\ttotal: 48.6s\tremaining: 1m 13s\n",
      "2997:\tlearn: 0.0486294\ttotal: 1m 13s\tremaining: 48.9s\n",
      "3996:\tlearn: 0.0338899\ttotal: 1m 37s\tremaining: 24.3s\n",
      "4995:\tlearn: 0.0242967\ttotal: 2m 1s\tremaining: 97.2ms\n",
      "4999:\tlearn: 0.0242814\ttotal: 2m 1s\tremaining: 0us\n",
      "fold Loss 7:  0.1480075616369001\n"
     ]
    },
    {
     "name": "stderr",
     "output_type": "stream",
     "text": [
      "8it [16:19, 122.37s/it]"
     ]
    },
    {
     "name": "stdout",
     "output_type": "stream",
     "text": [
      "---------------------------------------------------------------------------\n",
      "Learning rate set to 0.002361\n",
      "0:\tlearn: 0.6903369\ttotal: 37.2ms\tremaining: 3m 5s\n",
      "999:\tlearn: 0.1314221\ttotal: 24.4s\tremaining: 1m 37s\n",
      "1998:\tlearn: 0.0748690\ttotal: 48.9s\tremaining: 1m 13s\n",
      "2997:\tlearn: 0.0496940\ttotal: 1m 12s\tremaining: 48.7s\n",
      "3996:\tlearn: 0.0334219\ttotal: 1m 37s\tremaining: 24.5s\n"
     ]
    },
    {
     "name": "stderr",
     "output_type": "stream",
     "text": [
      "9it [18:22, 122.46s/it]"
     ]
    },
    {
     "name": "stdout",
     "output_type": "stream",
     "text": [
      "4995:\tlearn: 0.0227454\ttotal: 2m 1s\tremaining: 97.5ms\n",
      "4999:\tlearn: 0.0227168\ttotal: 2m 1s\tremaining: 0us\n",
      "fold Loss 8:  0.08813436572855485\n",
      "---------------------------------------------------------------------------\n",
      "Learning rate set to 0.002361\n",
      "0:\tlearn: 0.6906968\ttotal: 48.4ms\tremaining: 4m 2s\n",
      "999:\tlearn: 0.1293397\ttotal: 24.4s\tremaining: 1m 37s\n",
      "1998:\tlearn: 0.0733014\ttotal: 48.5s\tremaining: 1m 12s\n",
      "2997:\tlearn: 0.0484249\ttotal: 1m 12s\tremaining: 48.7s\n",
      "3996:\tlearn: 0.0329530\ttotal: 1m 37s\tremaining: 24.4s\n",
      "4995:\tlearn: 0.0225340\ttotal: 2m 1s\tremaining: 97.5ms\n",
      "4999:\tlearn: 0.0224953\ttotal: 2m 1s\tremaining: 0us\n"
     ]
    },
    {
     "name": "stderr",
     "output_type": "stream",
     "text": [
      "10it [20:24, 122.54s/it]"
     ]
    },
    {
     "name": "stdout",
     "output_type": "stream",
     "text": [
      "fold Loss 9:  0.13685932107729373\n",
      "---------------------------------------------------------------------------\n",
      "Learning rate set to 0.002361\n",
      "0:\tlearn: 0.6906527\ttotal: 38.6ms\tremaining: 3m 12s\n",
      "999:\tlearn: 0.1343215\ttotal: 24.1s\tremaining: 1m 36s\n",
      "1998:\tlearn: 0.0763398\ttotal: 48.7s\tremaining: 1m 13s\n",
      "2997:\tlearn: 0.0507044\ttotal: 1m 12s\tremaining: 48.7s\n",
      "3996:\tlearn: 0.0345269\ttotal: 1m 37s\tremaining: 24.4s\n",
      "4995:\tlearn: 0.0240129\ttotal: 2m 1s\tremaining: 97.1ms\n",
      "4999:\tlearn: 0.0239738\ttotal: 2m 1s\tremaining: 0us\n",
      "fold Loss 10:  0.026307339200988093\n"
     ]
    },
    {
     "name": "stderr",
     "output_type": "stream",
     "text": [
      "11it [22:27, 122.45s/it]"
     ]
    },
    {
     "name": "stdout",
     "output_type": "stream",
     "text": [
      "---------------------------------------------------------------------------\n",
      "Learning rate set to 0.002361\n",
      "0:\tlearn: 0.6906835\ttotal: 49.5ms\tremaining: 4m 7s\n",
      "999:\tlearn: 0.1325681\ttotal: 24.4s\tremaining: 1m 37s\n",
      "1998:\tlearn: 0.0757778\ttotal: 48.8s\tremaining: 1m 13s\n",
      "2997:\tlearn: 0.0498157\ttotal: 1m 13s\tremaining: 48.8s\n",
      "3996:\tlearn: 0.0340577\ttotal: 1m 37s\tremaining: 24.6s\n"
     ]
    },
    {
     "name": "stderr",
     "output_type": "stream",
     "text": [
      "12it [24:31, 123.00s/it]"
     ]
    },
    {
     "name": "stdout",
     "output_type": "stream",
     "text": [
      "4995:\tlearn: 0.0233163\ttotal: 2m 3s\tremaining: 98.8ms\n",
      "4999:\tlearn: 0.0232892\ttotal: 2m 3s\tremaining: 0us\n",
      "fold Loss 11:  0.07559456351430091\n",
      "---------------------------------------------------------------------------\n",
      "Learning rate set to 0.002361\n",
      "0:\tlearn: 0.6908974\ttotal: 60ms\tremaining: 4m 59s\n",
      "999:\tlearn: 0.1336950\ttotal: 24.6s\tremaining: 1m 38s\n",
      "1998:\tlearn: 0.0767307\ttotal: 48.7s\tremaining: 1m 13s\n",
      "2997:\tlearn: 0.0511545\ttotal: 1m 13s\tremaining: 48.8s\n",
      "3996:\tlearn: 0.0349576\ttotal: 1m 37s\tremaining: 24.5s\n"
     ]
    },
    {
     "name": "stderr",
     "output_type": "stream",
     "text": [
      "13it [26:34, 122.99s/it]"
     ]
    },
    {
     "name": "stdout",
     "output_type": "stream",
     "text": [
      "4995:\tlearn: 0.0247614\ttotal: 2m 2s\tremaining: 97.7ms\n",
      "4999:\tlearn: 0.0247117\ttotal: 2m 2s\tremaining: 0us\n",
      "fold Loss 12:  0.066771165919272\n",
      "---------------------------------------------------------------------------\n",
      "Learning rate set to 0.002361\n",
      "0:\tlearn: 0.6907478\ttotal: 53.5ms\tremaining: 4m 27s\n",
      "999:\tlearn: 0.1280536\ttotal: 24.4s\tremaining: 1m 37s\n",
      "1998:\tlearn: 0.0725487\ttotal: 48.4s\tremaining: 1m 12s\n",
      "2997:\tlearn: 0.0471445\ttotal: 1m 12s\tremaining: 48.7s\n",
      "3996:\tlearn: 0.0318431\ttotal: 1m 37s\tremaining: 24.4s\n",
      "4995:\tlearn: 0.0221681\ttotal: 2m 2s\tremaining: 97.9ms\n",
      "4999:\tlearn: 0.0221407\ttotal: 2m 2s\tremaining: 0us\n"
     ]
    },
    {
     "name": "stderr",
     "output_type": "stream",
     "text": [
      "14it [28:37, 123.06s/it]"
     ]
    },
    {
     "name": "stdout",
     "output_type": "stream",
     "text": [
      "fold Loss 13:  0.17290796042036113\n",
      "---------------------------------------------------------------------------\n",
      "Learning rate set to 0.002361\n",
      "0:\tlearn: 0.6906841\ttotal: 36.7ms\tremaining: 3m 3s\n",
      "999:\tlearn: 0.1240072\ttotal: 24.2s\tremaining: 1m 36s\n",
      "1998:\tlearn: 0.0721264\ttotal: 48.7s\tremaining: 1m 13s\n",
      "2997:\tlearn: 0.0472063\ttotal: 1m 13s\tremaining: 48.9s\n",
      "3996:\tlearn: 0.0322082\ttotal: 1m 37s\tremaining: 24.5s\n"
     ]
    },
    {
     "name": "stderr",
     "output_type": "stream",
     "text": [
      "15it [30:40, 122.97s/it]"
     ]
    },
    {
     "name": "stdout",
     "output_type": "stream",
     "text": [
      "4995:\tlearn: 0.0228269\ttotal: 2m 1s\tremaining: 97.6ms\n",
      "4999:\tlearn: 0.0228035\ttotal: 2m 1s\tremaining: 0us\n",
      "fold Loss 14:  0.21430625265717218\n",
      "---------------------------------------------------------------------------\n",
      "Learning rate set to 0.002361\n",
      "0:\tlearn: 0.6905081\ttotal: 51.4ms\tremaining: 4m 16s\n",
      "999:\tlearn: 0.1270575\ttotal: 24.7s\tremaining: 1m 38s\n",
      "1998:\tlearn: 0.0714387\ttotal: 49.2s\tremaining: 1m 13s\n",
      "2997:\tlearn: 0.0470237\ttotal: 1m 13s\tremaining: 49.1s\n",
      "3996:\tlearn: 0.0320033\ttotal: 1m 38s\tremaining: 24.6s\n",
      "4995:\tlearn: 0.0225694\ttotal: 2m 2s\tremaining: 98.5ms\n",
      "4999:\tlearn: 0.0225414\ttotal: 2m 3s\tremaining: 0us\n",
      "fold Loss 15:  0.24275506596424026\n"
     ]
    },
    {
     "name": "stderr",
     "output_type": "stream",
     "text": [
      "16it [32:44, 123.25s/it]"
     ]
    },
    {
     "name": "stdout",
     "output_type": "stream",
     "text": [
      "---------------------------------------------------------------------------\n",
      "Learning rate set to 0.002361\n",
      "0:\tlearn: 0.6907425\ttotal: 38.2ms\tremaining: 3m 11s\n",
      "999:\tlearn: 0.1331201\ttotal: 24.5s\tremaining: 1m 37s\n",
      "1998:\tlearn: 0.0762133\ttotal: 48.7s\tremaining: 1m 13s\n",
      "2997:\tlearn: 0.0504943\ttotal: 1m 13s\tremaining: 48.8s\n",
      "3996:\tlearn: 0.0345952\ttotal: 1m 37s\tremaining: 24.4s\n",
      "4995:\tlearn: 0.0246583\ttotal: 2m 1s\tremaining: 97.4ms\n",
      "4999:\tlearn: 0.0246178\ttotal: 2m 1s\tremaining: 0us\n",
      "fold Loss 16:  0.06852789291666109\n"
     ]
    },
    {
     "name": "stderr",
     "output_type": "stream",
     "text": [
      "17it [34:46, 123.06s/it]"
     ]
    },
    {
     "name": "stdout",
     "output_type": "stream",
     "text": [
      "---------------------------------------------------------------------------\n",
      "Learning rate set to 0.002361\n",
      "0:\tlearn: 0.6909107\ttotal: 47.3ms\tremaining: 3m 56s\n",
      "999:\tlearn: 0.1288676\ttotal: 24.2s\tremaining: 1m 36s\n",
      "1998:\tlearn: 0.0729490\ttotal: 48.5s\tremaining: 1m 12s\n",
      "2997:\tlearn: 0.0483822\ttotal: 1m 12s\tremaining: 48.7s\n",
      "3996:\tlearn: 0.0333093\ttotal: 1m 37s\tremaining: 24.4s\n"
     ]
    },
    {
     "name": "stderr",
     "output_type": "stream",
     "text": [
      "18it [36:49, 122.82s/it]"
     ]
    },
    {
     "name": "stdout",
     "output_type": "stream",
     "text": [
      "4995:\tlearn: 0.0237324\ttotal: 2m 1s\tremaining: 97.2ms\n",
      "4999:\tlearn: 0.0237011\ttotal: 2m 1s\tremaining: 0us\n",
      "fold Loss 17:  0.20025415618267128\n",
      "---------------------------------------------------------------------------\n",
      "Learning rate set to 0.002361\n",
      "0:\tlearn: 0.6905964\ttotal: 37.1ms\tremaining: 3m 5s\n",
      "999:\tlearn: 0.1352305\ttotal: 24.5s\tremaining: 1m 37s\n",
      "1998:\tlearn: 0.0769264\ttotal: 48.9s\tremaining: 1m 13s\n",
      "2997:\tlearn: 0.0509114\ttotal: 1m 13s\tremaining: 49s\n",
      "3996:\tlearn: 0.0350244\ttotal: 1m 37s\tremaining: 24.4s\n",
      "4995:\tlearn: 0.0240860\ttotal: 2m 1s\tremaining: 97.6ms\n",
      "4999:\tlearn: 0.0240468\ttotal: 2m 2s\tremaining: 0us\n",
      "fold Loss 18:  0.020007176442074476\n"
     ]
    },
    {
     "name": "stderr",
     "output_type": "stream",
     "text": [
      "19it [38:51, 122.84s/it]"
     ]
    },
    {
     "name": "stdout",
     "output_type": "stream",
     "text": [
      "---------------------------------------------------------------------------\n",
      "Learning rate set to 0.002362\n",
      "0:\tlearn: 0.6906302\ttotal: 47.8ms\tremaining: 3m 58s\n",
      "999:\tlearn: 0.1327781\ttotal: 24.5s\tremaining: 1m 38s\n",
      "1998:\tlearn: 0.0766310\ttotal: 49s\tremaining: 1m 13s\n",
      "2997:\tlearn: 0.0513072\ttotal: 1m 13s\tremaining: 48.8s\n",
      "3996:\tlearn: 0.0353813\ttotal: 1m 37s\tremaining: 24.5s\n",
      "4995:\tlearn: 0.0250249\ttotal: 2m 2s\tremaining: 97.7ms\n",
      "4999:\tlearn: 0.0249893\ttotal: 2m 2s\tremaining: 0us\n",
      "fold Loss 19:  0.056839268363670335\n"
     ]
    },
    {
     "name": "stderr",
     "output_type": "stream",
     "text": [
      "20it [40:54, 122.74s/it]"
     ]
    },
    {
     "name": "stdout",
     "output_type": "stream",
     "text": [
      "---------------------------------------------------------------------------\n",
      "Training Loss: 0.026573591712011853\n",
      "Loss for oxychlorine:\n",
      "0.14131672569032958 0.08901322694944311\n",
      "==================================================================================================\n",
      "TARGET  phyllosilicate\n"
     ]
    },
    {
     "name": "stderr",
     "output_type": "stream",
     "text": [
      "\n"
     ]
    },
    {
     "name": "stdout",
     "output_type": "stream",
     "text": [
      "0.5322669071449684\n"
     ]
    },
    {
     "name": "stderr",
     "output_type": "stream",
     "text": [
      "100%|██████████| 101/101 [00:00<00:00, 493160.31it/s]"
     ]
    },
    {
     "name": "stdout",
     "output_type": "stream",
     "text": [
      "10\n"
     ]
    },
    {
     "name": "stderr",
     "output_type": "stream",
     "text": [
      "\n"
     ]
    },
    {
     "name": "stdout",
     "output_type": "stream",
     "text": [
      "0.43237717983412416\n"
     ]
    },
    {
     "name": "stderr",
     "output_type": "stream",
     "text": [
      "100%|██████████| 2000/2000 [00:00<00:00, 1558351.85it/s]\n"
     ]
    },
    {
     "name": "stdout",
     "output_type": "stream",
     "text": [
      "67\n",
      "0.4226120465289157\n"
     ]
    },
    {
     "name": "stderr",
     "output_type": "stream",
     "text": [
      "100%|██████████| 2300/2300 [00:00<00:00, 1535641.39it/s]\n"
     ]
    },
    {
     "name": "stdout",
     "output_type": "stream",
     "text": [
      "79\n",
      "0.43061012863392206\n"
     ]
    },
    {
     "name": "stderr",
     "output_type": "stream",
     "text": [
      "100%|██████████| 2100/2100 [00:00<00:00, 1593349.93it/s]\n"
     ]
    },
    {
     "name": "stdout",
     "output_type": "stream",
     "text": [
      "84\n",
      "(1059, 84) (1059, 10) (1059, 67) (1059, 79)\n",
      "(1059, 240)\n",
      "(804, 84) (804, 10) (804, 67) (804, 79)\n",
      "(804, 240)\n"
     ]
    },
    {
     "name": "stderr",
     "output_type": "stream",
     "text": [
      "0it [00:00, ?it/s]"
     ]
    },
    {
     "name": "stdout",
     "output_type": "stream",
     "text": [
      "Learning rate set to 0.002361\n",
      "0:\tlearn: 0.6911733\ttotal: 42.2ms\tremaining: 3m 30s\n",
      "999:\tlearn: 0.2171938\ttotal: 28.6s\tremaining: 1m 54s\n",
      "1998:\tlearn: 0.1358059\ttotal: 57.1s\tremaining: 1m 25s\n",
      "2997:\tlearn: 0.0912680\ttotal: 1m 25s\tremaining: 57.2s\n",
      "3996:\tlearn: 0.0619001\ttotal: 1m 54s\tremaining: 28.7s\n",
      "4995:\tlearn: 0.0431004\ttotal: 2m 23s\tremaining: 115ms\n",
      "4999:\tlearn: 0.0430297\ttotal: 2m 23s\tremaining: 0us\n"
     ]
    },
    {
     "name": "stderr",
     "output_type": "stream",
     "text": [
      "1it [02:24, 144.11s/it]"
     ]
    },
    {
     "name": "stdout",
     "output_type": "stream",
     "text": [
      "fold Loss 0:  0.14412965184646961\n",
      "---------------------------------------------------------------------------\n",
      "Learning rate set to 0.002361\n",
      "0:\tlearn: 0.6913614\ttotal: 55.9ms\tremaining: 4m 39s\n",
      "999:\tlearn: 0.2183237\ttotal: 28.9s\tremaining: 1m 55s\n",
      "1998:\tlearn: 0.1354946\ttotal: 57.5s\tremaining: 1m 26s\n",
      "2997:\tlearn: 0.0904559\ttotal: 1m 26s\tremaining: 57.6s\n",
      "3996:\tlearn: 0.0612306\ttotal: 1m 54s\tremaining: 28.7s\n",
      "4995:\tlearn: 0.0419009\ttotal: 2m 23s\tremaining: 115ms\n",
      "4999:\tlearn: 0.0418461\ttotal: 2m 23s\tremaining: 0us\n"
     ]
    },
    {
     "name": "stderr",
     "output_type": "stream",
     "text": [
      "2it [04:48, 144.36s/it]"
     ]
    },
    {
     "name": "stdout",
     "output_type": "stream",
     "text": [
      "fold Loss 1:  0.16551352054475688\n",
      "---------------------------------------------------------------------------\n",
      "Learning rate set to 0.002361\n",
      "0:\tlearn: 0.6915350\ttotal: 43.3ms\tremaining: 3m 36s\n",
      "999:\tlearn: 0.2210143\ttotal: 28.7s\tremaining: 1m 54s\n",
      "1998:\tlearn: 0.1371921\ttotal: 57.7s\tremaining: 1m 26s\n",
      "2997:\tlearn: 0.0917080\ttotal: 1m 26s\tremaining: 57.6s\n",
      "3996:\tlearn: 0.0615525\ttotal: 1m 55s\tremaining: 28.9s\n",
      "4995:\tlearn: 0.0413314\ttotal: 2m 24s\tremaining: 115ms\n",
      "4999:\tlearn: 0.0412654\ttotal: 2m 24s\tremaining: 0us\n"
     ]
    },
    {
     "name": "stderr",
     "output_type": "stream",
     "text": [
      "3it [07:13, 144.66s/it]"
     ]
    },
    {
     "name": "stdout",
     "output_type": "stream",
     "text": [
      "fold Loss 2:  0.10879151499104571\n",
      "---------------------------------------------------------------------------\n",
      "Learning rate set to 0.002361\n",
      "0:\tlearn: 0.6914013\ttotal: 61.2ms\tremaining: 5m 5s\n",
      "999:\tlearn: 0.2167350\ttotal: 29.3s\tremaining: 1m 57s\n",
      "1998:\tlearn: 0.1357593\ttotal: 57.9s\tremaining: 1m 26s\n",
      "2997:\tlearn: 0.0909691\ttotal: 1m 26s\tremaining: 57.6s\n",
      "3996:\tlearn: 0.0620804\ttotal: 1m 55s\tremaining: 28.9s\n",
      "4995:\tlearn: 0.0429880\ttotal: 2m 23s\tremaining: 115ms\n",
      "4999:\tlearn: 0.0429504\ttotal: 2m 24s\tremaining: 0us\n"
     ]
    },
    {
     "name": "stderr",
     "output_type": "stream",
     "text": [
      "4it [09:38, 144.77s/it]"
     ]
    },
    {
     "name": "stdout",
     "output_type": "stream",
     "text": [
      "fold Loss 3:  0.16786603536869282\n",
      "---------------------------------------------------------------------------\n",
      "Learning rate set to 0.002361\n",
      "0:\tlearn: 0.6914001\ttotal: 43.3ms\tremaining: 3m 36s\n",
      "999:\tlearn: 0.2150959\ttotal: 28.7s\tremaining: 1m 54s\n",
      "1998:\tlearn: 0.1333299\ttotal: 57.6s\tremaining: 1m 26s\n",
      "2997:\tlearn: 0.0891181\ttotal: 1m 26s\tremaining: 57.6s\n",
      "3996:\tlearn: 0.0596360\ttotal: 1m 55s\tremaining: 28.9s\n",
      "4995:\tlearn: 0.0406126\ttotal: 2m 24s\tremaining: 115ms\n",
      "4999:\tlearn: 0.0405632\ttotal: 2m 24s\tremaining: 0us\n"
     ]
    },
    {
     "name": "stderr",
     "output_type": "stream",
     "text": [
      "5it [12:03, 144.83s/it]"
     ]
    },
    {
     "name": "stdout",
     "output_type": "stream",
     "text": [
      "fold Loss 4:  0.20948884379709098\n",
      "---------------------------------------------------------------------------\n",
      "Learning rate set to 0.002361\n",
      "0:\tlearn: 0.6915772\ttotal: 59.9ms\tremaining: 4m 59s\n",
      "999:\tlearn: 0.2189164\ttotal: 28.7s\tremaining: 1m 54s\n",
      "1998:\tlearn: 0.1364489\ttotal: 57.4s\tremaining: 1m 26s\n",
      "2997:\tlearn: 0.0913223\ttotal: 1m 26s\tremaining: 57.6s\n",
      "3996:\tlearn: 0.0624039\ttotal: 1m 55s\tremaining: 28.9s\n",
      "4995:\tlearn: 0.0431243\ttotal: 2m 24s\tremaining: 115ms\n",
      "4999:\tlearn: 0.0430469\ttotal: 2m 24s\tremaining: 0us\n"
     ]
    },
    {
     "name": "stderr",
     "output_type": "stream",
     "text": [
      "6it [14:28, 144.92s/it]"
     ]
    },
    {
     "name": "stdout",
     "output_type": "stream",
     "text": [
      "fold Loss 5:  0.15684198036144026\n",
      "---------------------------------------------------------------------------\n",
      "Learning rate set to 0.002361\n",
      "0:\tlearn: 0.6912628\ttotal: 43.3ms\tremaining: 3m 36s\n",
      "999:\tlearn: 0.2135146\ttotal: 28.8s\tremaining: 1m 55s\n",
      "1998:\tlearn: 0.1321987\ttotal: 57.5s\tremaining: 1m 26s\n",
      "2997:\tlearn: 0.0875578\ttotal: 1m 26s\tremaining: 57.6s\n",
      "3996:\tlearn: 0.0587477\ttotal: 1m 54s\tremaining: 28.8s\n",
      "4995:\tlearn: 0.0401617\ttotal: 2m 23s\tremaining: 115ms\n",
      "4999:\tlearn: 0.0401198\ttotal: 2m 23s\tremaining: 0us\n"
     ]
    },
    {
     "name": "stderr",
     "output_type": "stream",
     "text": [
      "7it [16:52, 144.71s/it]"
     ]
    },
    {
     "name": "stdout",
     "output_type": "stream",
     "text": [
      "fold Loss 6:  0.2538637548138856\n",
      "---------------------------------------------------------------------------\n",
      "Learning rate set to 0.002361\n",
      "0:\tlearn: 0.6914138\ttotal: 57ms\tremaining: 4m 44s\n",
      "999:\tlearn: 0.2180982\ttotal: 29s\tremaining: 1m 55s\n",
      "1998:\tlearn: 0.1366499\ttotal: 57.8s\tremaining: 1m 26s\n",
      "2997:\tlearn: 0.0932357\ttotal: 1m 26s\tremaining: 57.8s\n",
      "3996:\tlearn: 0.0644377\ttotal: 1m 55s\tremaining: 28.9s\n",
      "4995:\tlearn: 0.0446414\ttotal: 2m 23s\tremaining: 115ms\n",
      "4999:\tlearn: 0.0445936\ttotal: 2m 24s\tremaining: 0us\n"
     ]
    },
    {
     "name": "stderr",
     "output_type": "stream",
     "text": [
      "8it [19:17, 144.78s/it]"
     ]
    },
    {
     "name": "stdout",
     "output_type": "stream",
     "text": [
      "fold Loss 7:  0.13902986661282413\n",
      "---------------------------------------------------------------------------\n",
      "Learning rate set to 0.002361\n",
      "0:\tlearn: 0.6915138\ttotal: 44.4ms\tremaining: 3m 42s\n",
      "999:\tlearn: 0.2172670\ttotal: 28.9s\tremaining: 1m 55s\n",
      "1998:\tlearn: 0.1348494\ttotal: 57.4s\tremaining: 1m 26s\n",
      "2997:\tlearn: 0.0903253\ttotal: 1m 26s\tremaining: 57.5s\n",
      "3996:\tlearn: 0.0612322\ttotal: 1m 55s\tremaining: 28.9s\n",
      "4995:\tlearn: 0.0419860\ttotal: 2m 24s\tremaining: 115ms\n",
      "4999:\tlearn: 0.0419226\ttotal: 2m 24s\tremaining: 0us\n"
     ]
    },
    {
     "name": "stderr",
     "output_type": "stream",
     "text": [
      "9it [21:42, 144.83s/it]"
     ]
    },
    {
     "name": "stdout",
     "output_type": "stream",
     "text": [
      "fold Loss 8:  0.2201506871647773\n",
      "---------------------------------------------------------------------------\n",
      "Learning rate set to 0.002361\n",
      "0:\tlearn: 0.6915951\ttotal: 59.3ms\tremaining: 4m 56s\n",
      "999:\tlearn: 0.2170887\ttotal: 28.9s\tremaining: 1m 55s\n",
      "1998:\tlearn: 0.1354912\ttotal: 57.6s\tremaining: 1m 26s\n",
      "2997:\tlearn: 0.0906467\ttotal: 1m 26s\tremaining: 57.6s\n",
      "3996:\tlearn: 0.0615265\ttotal: 1m 55s\tremaining: 28.9s\n",
      "4995:\tlearn: 0.0419088\ttotal: 2m 23s\tremaining: 115ms\n",
      "4999:\tlearn: 0.0418509\ttotal: 2m 23s\tremaining: 0us\n"
     ]
    },
    {
     "name": "stderr",
     "output_type": "stream",
     "text": [
      "10it [24:07, 144.75s/it]"
     ]
    },
    {
     "name": "stdout",
     "output_type": "stream",
     "text": [
      "fold Loss 9:  0.14157735451010595\n",
      "---------------------------------------------------------------------------\n",
      "Learning rate set to 0.002361\n",
      "0:\tlearn: 0.6912025\ttotal: 44.4ms\tremaining: 3m 41s\n",
      "999:\tlearn: 0.2121011\ttotal: 28.8s\tremaining: 1m 55s\n",
      "1998:\tlearn: 0.1325337\ttotal: 57.9s\tremaining: 1m 26s\n",
      "2997:\tlearn: 0.0895905\ttotal: 1m 26s\tremaining: 57.8s\n",
      "3996:\tlearn: 0.0613799\ttotal: 1m 55s\tremaining: 28.9s\n",
      "4995:\tlearn: 0.0423074\ttotal: 2m 24s\tremaining: 115ms\n",
      "4999:\tlearn: 0.0422486\ttotal: 2m 24s\tremaining: 0us\n"
     ]
    },
    {
     "name": "stderr",
     "output_type": "stream",
     "text": [
      "11it [26:32, 144.84s/it]"
     ]
    },
    {
     "name": "stdout",
     "output_type": "stream",
     "text": [
      "fold Loss 10:  0.2706282577545086\n",
      "---------------------------------------------------------------------------\n",
      "Learning rate set to 0.002361\n",
      "0:\tlearn: 0.6916035\ttotal: 56.1ms\tremaining: 4m 40s\n",
      "999:\tlearn: 0.2085806\ttotal: 28.8s\tremaining: 1m 55s\n",
      "1998:\tlearn: 0.1272412\ttotal: 57.6s\tremaining: 1m 26s\n",
      "2997:\tlearn: 0.0826083\ttotal: 1m 26s\tremaining: 57.9s\n",
      "3996:\tlearn: 0.0531807\ttotal: 1m 55s\tremaining: 28.9s\n",
      "4995:\tlearn: 0.0358129\ttotal: 2m 23s\tremaining: 115ms\n",
      "4999:\tlearn: 0.0357504\ttotal: 2m 24s\tremaining: 0us\n"
     ]
    },
    {
     "name": "stderr",
     "output_type": "stream",
     "text": [
      "12it [28:57, 144.85s/it]"
     ]
    },
    {
     "name": "stdout",
     "output_type": "stream",
     "text": [
      "fold Loss 11:  0.37609560964837807\n",
      "---------------------------------------------------------------------------\n",
      "Learning rate set to 0.002361\n",
      "0:\tlearn: 0.6913396\ttotal: 43.3ms\tremaining: 3m 36s\n",
      "999:\tlearn: 0.2126715\ttotal: 28.7s\tremaining: 1m 54s\n",
      "1998:\tlearn: 0.1329149\ttotal: 57.7s\tremaining: 1m 26s\n",
      "2997:\tlearn: 0.0890229\ttotal: 1m 26s\tremaining: 57.7s\n",
      "3996:\tlearn: 0.0597458\ttotal: 1m 55s\tremaining: 28.9s\n",
      "4995:\tlearn: 0.0410090\ttotal: 2m 23s\tremaining: 115ms\n",
      "4999:\tlearn: 0.0409421\ttotal: 2m 23s\tremaining: 0us\n"
     ]
    },
    {
     "name": "stderr",
     "output_type": "stream",
     "text": [
      "13it [31:21, 144.80s/it]"
     ]
    },
    {
     "name": "stdout",
     "output_type": "stream",
     "text": [
      "fold Loss 12:  0.2806412516945955\n",
      "---------------------------------------------------------------------------\n",
      "Learning rate set to 0.002361\n",
      "0:\tlearn: 0.6915820\ttotal: 56.6ms\tremaining: 4m 42s\n",
      "999:\tlearn: 0.2133446\ttotal: 29s\tremaining: 1m 55s\n",
      "1998:\tlearn: 0.1327173\ttotal: 57.3s\tremaining: 1m 25s\n",
      "2997:\tlearn: 0.0885035\ttotal: 1m 26s\tremaining: 57.6s\n",
      "3996:\tlearn: 0.0589945\ttotal: 1m 54s\tremaining: 28.9s\n",
      "4995:\tlearn: 0.0403374\ttotal: 2m 23s\tremaining: 115ms\n",
      "4999:\tlearn: 0.0402656\ttotal: 2m 23s\tremaining: 0us\n"
     ]
    },
    {
     "name": "stderr",
     "output_type": "stream",
     "text": [
      "14it [33:46, 144.74s/it]"
     ]
    },
    {
     "name": "stdout",
     "output_type": "stream",
     "text": [
      "fold Loss 13:  0.27015592829302437\n",
      "---------------------------------------------------------------------------\n",
      "Learning rate set to 0.002361\n",
      "0:\tlearn: 0.6914727\ttotal: 42.6ms\tremaining: 3m 32s\n",
      "999:\tlearn: 0.2204479\ttotal: 28.9s\tremaining: 1m 55s\n",
      "1998:\tlearn: 0.1372730\ttotal: 57.8s\tremaining: 1m 26s\n",
      "2997:\tlearn: 0.0919771\ttotal: 1m 26s\tremaining: 57.7s\n",
      "3996:\tlearn: 0.0613706\ttotal: 1m 55s\tremaining: 28.9s\n",
      "4995:\tlearn: 0.0417744\ttotal: 2m 24s\tremaining: 115ms\n",
      "4999:\tlearn: 0.0417203\ttotal: 2m 24s\tremaining: 0us\n"
     ]
    },
    {
     "name": "stderr",
     "output_type": "stream",
     "text": [
      "15it [36:11, 144.86s/it]"
     ]
    },
    {
     "name": "stdout",
     "output_type": "stream",
     "text": [
      "fold Loss 14:  0.13301920981729423\n",
      "---------------------------------------------------------------------------\n",
      "Learning rate set to 0.002361\n",
      "0:\tlearn: 0.6916134\ttotal: 57ms\tremaining: 4m 44s\n",
      "999:\tlearn: 0.2191288\ttotal: 28.8s\tremaining: 1m 55s\n",
      "1998:\tlearn: 0.1361519\ttotal: 57s\tremaining: 1m 25s\n",
      "2997:\tlearn: 0.0909168\ttotal: 1m 25s\tremaining: 57.2s\n",
      "3996:\tlearn: 0.0604692\ttotal: 1m 54s\tremaining: 28.7s\n",
      "4995:\tlearn: 0.0409299\ttotal: 2m 23s\tremaining: 115ms\n",
      "4999:\tlearn: 0.0408618\ttotal: 2m 23s\tremaining: 0us\n"
     ]
    },
    {
     "name": "stderr",
     "output_type": "stream",
     "text": [
      "16it [38:35, 144.65s/it]"
     ]
    },
    {
     "name": "stdout",
     "output_type": "stream",
     "text": [
      "fold Loss 15:  0.14054548666959996\n",
      "---------------------------------------------------------------------------\n",
      "Learning rate set to 0.002361\n",
      "0:\tlearn: 0.6914629\ttotal: 43.4ms\tremaining: 3m 36s\n",
      "999:\tlearn: 0.2151968\ttotal: 28.7s\tremaining: 1m 54s\n",
      "1998:\tlearn: 0.1336171\ttotal: 57.6s\tremaining: 1m 26s\n",
      "2997:\tlearn: 0.0891345\ttotal: 1m 26s\tremaining: 57.6s\n",
      "3996:\tlearn: 0.0596255\ttotal: 1m 55s\tremaining: 28.9s\n",
      "4995:\tlearn: 0.0400096\ttotal: 2m 24s\tremaining: 115ms\n",
      "4999:\tlearn: 0.0399517\ttotal: 2m 24s\tremaining: 0us\n"
     ]
    },
    {
     "name": "stderr",
     "output_type": "stream",
     "text": [
      "17it [41:00, 144.78s/it]"
     ]
    },
    {
     "name": "stdout",
     "output_type": "stream",
     "text": [
      "fold Loss 16:  0.229361565601319\n",
      "---------------------------------------------------------------------------\n",
      "Learning rate set to 0.002361\n",
      "0:\tlearn: 0.6913656\ttotal: 56.4ms\tremaining: 4m 42s\n",
      "999:\tlearn: 0.2115218\ttotal: 28.5s\tremaining: 1m 54s\n",
      "1998:\tlearn: 0.1307502\ttotal: 57.2s\tremaining: 1m 25s\n",
      "2997:\tlearn: 0.0872458\ttotal: 1m 26s\tremaining: 57.5s\n",
      "3996:\tlearn: 0.0578927\ttotal: 1m 54s\tremaining: 28.9s\n",
      "4995:\tlearn: 0.0395244\ttotal: 2m 23s\tremaining: 115ms\n",
      "4999:\tlearn: 0.0394822\ttotal: 2m 24s\tremaining: 0us\n"
     ]
    },
    {
     "name": "stderr",
     "output_type": "stream",
     "text": [
      "18it [43:25, 144.80s/it]"
     ]
    },
    {
     "name": "stdout",
     "output_type": "stream",
     "text": [
      "fold Loss 17:  0.3079216085130191\n",
      "---------------------------------------------------------------------------\n",
      "Learning rate set to 0.002361\n",
      "0:\tlearn: 0.6913631\ttotal: 43.2ms\tremaining: 3m 35s\n",
      "999:\tlearn: 0.2188505\ttotal: 28.9s\tremaining: 1m 55s\n",
      "1998:\tlearn: 0.1353452\ttotal: 57.7s\tremaining: 1m 26s\n",
      "2997:\tlearn: 0.0896122\ttotal: 1m 26s\tremaining: 57.8s\n",
      "3996:\tlearn: 0.0605675\ttotal: 1m 55s\tremaining: 28.9s\n",
      "4995:\tlearn: 0.0409846\ttotal: 2m 23s\tremaining: 115ms\n",
      "4999:\tlearn: 0.0409339\ttotal: 2m 23s\tremaining: 0us\n"
     ]
    },
    {
     "name": "stderr",
     "output_type": "stream",
     "text": [
      "19it [45:50, 144.81s/it]"
     ]
    },
    {
     "name": "stdout",
     "output_type": "stream",
     "text": [
      "fold Loss 18:  0.18116232980688968\n",
      "---------------------------------------------------------------------------\n",
      "Learning rate set to 0.002362\n",
      "0:\tlearn: 0.6912511\ttotal: 56ms\tremaining: 4m 39s\n",
      "999:\tlearn: 0.2201611\ttotal: 29s\tremaining: 1m 55s\n",
      "1998:\tlearn: 0.1373090\ttotal: 57.6s\tremaining: 1m 26s\n",
      "2997:\tlearn: 0.0920033\ttotal: 1m 26s\tremaining: 57.7s\n",
      "3996:\tlearn: 0.0621571\ttotal: 1m 55s\tremaining: 28.9s\n",
      "4995:\tlearn: 0.0423345\ttotal: 2m 24s\tremaining: 115ms\n",
      "4999:\tlearn: 0.0422927\ttotal: 2m 24s\tremaining: 0us\n"
     ]
    },
    {
     "name": "stderr",
     "output_type": "stream",
     "text": [
      "20it [48:15, 144.79s/it]"
     ]
    },
    {
     "name": "stdout",
     "output_type": "stream",
     "text": [
      "fold Loss 19:  0.08339967050840537\n",
      "---------------------------------------------------------------------------\n",
      "Training Loss: 0.04433938440882284\n",
      "Loss for phyllosilicate:\n",
      "0.19900920641590616 0.07346330521989364\n",
      "==================================================================================================\n",
      "TARGET  silicate\n"
     ]
    },
    {
     "name": "stderr",
     "output_type": "stream",
     "text": [
      "\n"
     ]
    },
    {
     "name": "stdout",
     "output_type": "stream",
     "text": [
      "0.3459507339810355\n"
     ]
    },
    {
     "name": "stderr",
     "output_type": "stream",
     "text": [
      "100%|██████████| 101/101 [00:00<00:00, 513484.49it/s]\n"
     ]
    },
    {
     "name": "stdout",
     "output_type": "stream",
     "text": [
      "13\n",
      "0.3077895406774708\n"
     ]
    },
    {
     "name": "stderr",
     "output_type": "stream",
     "text": [
      "100%|██████████| 2000/2000 [00:00<00:00, 1401605.35it/s]\n"
     ]
    },
    {
     "name": "stdout",
     "output_type": "stream",
     "text": [
      "64\n",
      "0.3213417904202363\n"
     ]
    },
    {
     "name": "stderr",
     "output_type": "stream",
     "text": [
      "100%|██████████| 2300/2300 [00:00<00:00, 1630369.98it/s]\n"
     ]
    },
    {
     "name": "stdout",
     "output_type": "stream",
     "text": [
      "75\n",
      "0.31788588317202154\n"
     ]
    },
    {
     "name": "stderr",
     "output_type": "stream",
     "text": [
      "100%|██████████| 2100/2100 [00:00<00:00, 1559496.88it/s]\n"
     ]
    },
    {
     "name": "stdout",
     "output_type": "stream",
     "text": [
      "75\n",
      "(1059, 75) (1059, 13) (1059, 64) (1059, 75)\n",
      "(1059, 227)\n",
      "(804, 75) (804, 13) (804, 64) (804, 75)\n",
      "(804, 227)\n"
     ]
    },
    {
     "name": "stderr",
     "output_type": "stream",
     "text": [
      "0it [00:00, ?it/s]"
     ]
    },
    {
     "name": "stdout",
     "output_type": "stream",
     "text": [
      "Learning rate set to 0.002361\n",
      "0:\tlearn: 0.6906515\ttotal: 38.6ms\tremaining: 3m 12s\n",
      "999:\tlearn: 0.1688887\ttotal: 26.1s\tremaining: 1m 44s\n",
      "1998:\tlearn: 0.1034232\ttotal: 52.5s\tremaining: 1m 18s\n",
      "2997:\tlearn: 0.0693793\ttotal: 1m 19s\tremaining: 52.9s\n",
      "3996:\tlearn: 0.0485389\ttotal: 1m 45s\tremaining: 26.6s\n",
      "4995:\tlearn: 0.0336970\ttotal: 2m 12s\tremaining: 106ms\n",
      "4999:\tlearn: 0.0336494\ttotal: 2m 12s\tremaining: 0us\n"
     ]
    },
    {
     "name": "stderr",
     "output_type": "stream",
     "text": [
      "1it [02:13, 133.47s/it]"
     ]
    },
    {
     "name": "stdout",
     "output_type": "stream",
     "text": [
      "fold Loss 0:  0.14765208039740915\n",
      "---------------------------------------------------------------------------\n",
      "Learning rate set to 0.002361\n",
      "0:\tlearn: 0.6906166\ttotal: 50.7ms\tremaining: 4m 13s\n",
      "999:\tlearn: 0.1696864\ttotal: 26.2s\tremaining: 1m 44s\n",
      "1998:\tlearn: 0.1035301\ttotal: 52.7s\tremaining: 1m 19s\n",
      "2997:\tlearn: 0.0692898\ttotal: 1m 19s\tremaining: 53s\n",
      "3996:\tlearn: 0.0496479\ttotal: 1m 45s\tremaining: 26.6s\n",
      "4995:\tlearn: 0.0343077\ttotal: 2m 12s\tremaining: 106ms\n",
      "4999:\tlearn: 0.0342249\ttotal: 2m 12s\tremaining: 0us\n"
     ]
    },
    {
     "name": "stderr",
     "output_type": "stream",
     "text": [
      "2it [04:27, 133.53s/it]"
     ]
    },
    {
     "name": "stdout",
     "output_type": "stream",
     "text": [
      "fold Loss 1:  0.20366062281672903\n",
      "---------------------------------------------------------------------------\n",
      "Learning rate set to 0.002361\n",
      "0:\tlearn: 0.6904914\ttotal: 42.2ms\tremaining: 3m 30s\n",
      "999:\tlearn: 0.1663462\ttotal: 26.2s\tremaining: 1m 44s\n",
      "1998:\tlearn: 0.1016829\ttotal: 52.8s\tremaining: 1m 19s\n",
      "2997:\tlearn: 0.0675687\ttotal: 1m 19s\tremaining: 52.9s\n",
      "3996:\tlearn: 0.0463760\ttotal: 1m 45s\tremaining: 26.6s\n",
      "4995:\tlearn: 0.0330615\ttotal: 2m 12s\tremaining: 106ms\n",
      "4999:\tlearn: 0.0330330\ttotal: 2m 12s\tremaining: 0us\n"
     ]
    },
    {
     "name": "stderr",
     "output_type": "stream",
     "text": [
      "3it [06:40, 133.49s/it]"
     ]
    },
    {
     "name": "stdout",
     "output_type": "stream",
     "text": [
      "fold Loss 2:  0.25921277058942016\n",
      "---------------------------------------------------------------------------\n",
      "Learning rate set to 0.002361\n",
      "0:\tlearn: 0.6905340\ttotal: 55.3ms\tremaining: 4m 36s\n",
      "999:\tlearn: 0.1670064\ttotal: 26.5s\tremaining: 1m 46s\n",
      "1998:\tlearn: 0.1048478\ttotal: 52.5s\tremaining: 1m 18s\n",
      "2997:\tlearn: 0.0718166\ttotal: 1m 18s\tremaining: 52.7s\n",
      "3996:\tlearn: 0.0509595\ttotal: 1m 45s\tremaining: 26.4s\n",
      "4995:\tlearn: 0.0369223\ttotal: 2m 11s\tremaining: 106ms\n",
      "4999:\tlearn: 0.0368723\ttotal: 2m 12s\tremaining: 0us\n"
     ]
    },
    {
     "name": "stderr",
     "output_type": "stream",
     "text": [
      "4it [08:53, 133.24s/it]"
     ]
    },
    {
     "name": "stdout",
     "output_type": "stream",
     "text": [
      "fold Loss 3:  0.2523118160736312\n",
      "---------------------------------------------------------------------------\n",
      "Learning rate set to 0.002361\n",
      "0:\tlearn: 0.6902731\ttotal: 41.9ms\tremaining: 3m 29s\n",
      "999:\tlearn: 0.1686144\ttotal: 26.7s\tremaining: 1m 46s\n",
      "1998:\tlearn: 0.1049474\ttotal: 53s\tremaining: 1m 19s\n",
      "2997:\tlearn: 0.0704860\ttotal: 1m 19s\tremaining: 53.2s\n",
      "3996:\tlearn: 0.0491001\ttotal: 1m 46s\tremaining: 26.7s\n",
      "4995:\tlearn: 0.0350159\ttotal: 2m 12s\tremaining: 106ms\n",
      "4999:\tlearn: 0.0349797\ttotal: 2m 13s\tremaining: 0us\n"
     ]
    },
    {
     "name": "stderr",
     "output_type": "stream",
     "text": [
      "5it [11:07, 133.48s/it]"
     ]
    },
    {
     "name": "stdout",
     "output_type": "stream",
     "text": [
      "fold Loss 4:  0.15071661119796315\n",
      "---------------------------------------------------------------------------\n",
      "Learning rate set to 0.002361\n",
      "0:\tlearn: 0.6908330\ttotal: 51.7ms\tremaining: 4m 18s\n",
      "999:\tlearn: 0.1680557\ttotal: 26.8s\tremaining: 1m 47s\n",
      "1998:\tlearn: 0.1042652\ttotal: 52.8s\tremaining: 1m 19s\n",
      "2997:\tlearn: 0.0720849\ttotal: 1m 19s\tremaining: 53.1s\n",
      "3996:\tlearn: 0.0519023\ttotal: 1m 46s\tremaining: 26.6s\n",
      "4995:\tlearn: 0.0375319\ttotal: 2m 12s\tremaining: 106ms\n",
      "4999:\tlearn: 0.0374874\ttotal: 2m 12s\tremaining: 0us\n"
     ]
    },
    {
     "name": "stderr",
     "output_type": "stream",
     "text": [
      "6it [13:20, 133.48s/it]"
     ]
    },
    {
     "name": "stdout",
     "output_type": "stream",
     "text": [
      "fold Loss 5:  0.2539923071767743\n",
      "---------------------------------------------------------------------------\n",
      "Learning rate set to 0.002361\n",
      "0:\tlearn: 0.6904509\ttotal: 40.5ms\tremaining: 3m 22s\n",
      "999:\tlearn: 0.1669841\ttotal: 26.6s\tremaining: 1m 46s\n",
      "1998:\tlearn: 0.1038695\ttotal: 53.2s\tremaining: 1m 19s\n",
      "2997:\tlearn: 0.0700347\ttotal: 1m 19s\tremaining: 53.1s\n",
      "3996:\tlearn: 0.0497355\ttotal: 1m 47s\tremaining: 27.1s\n",
      "4995:\tlearn: 0.0354596\ttotal: 2m 14s\tremaining: 108ms\n",
      "4999:\tlearn: 0.0354253\ttotal: 2m 14s\tremaining: 0us\n"
     ]
    },
    {
     "name": "stderr",
     "output_type": "stream",
     "text": [
      "7it [15:35, 134.04s/it]"
     ]
    },
    {
     "name": "stdout",
     "output_type": "stream",
     "text": [
      "fold Loss 6:  0.16304422999496523\n",
      "---------------------------------------------------------------------------\n",
      "Learning rate set to 0.002361\n",
      "0:\tlearn: 0.6909585\ttotal: 53.6ms\tremaining: 4m 27s\n",
      "999:\tlearn: 0.1695132\ttotal: 26.8s\tremaining: 1m 47s\n",
      "1998:\tlearn: 0.1036677\ttotal: 53.5s\tremaining: 1m 20s\n",
      "2997:\tlearn: 0.0687716\ttotal: 1m 20s\tremaining: 53.6s\n",
      "3996:\tlearn: 0.0481116\ttotal: 1m 47s\tremaining: 26.9s\n",
      "4995:\tlearn: 0.0338414\ttotal: 2m 13s\tremaining: 107ms\n",
      "4999:\tlearn: 0.0337890\ttotal: 2m 14s\tremaining: 0us\n"
     ]
    },
    {
     "name": "stderr",
     "output_type": "stream",
     "text": [
      "8it [17:50, 134.32s/it]"
     ]
    },
    {
     "name": "stdout",
     "output_type": "stream",
     "text": [
      "fold Loss 7:  0.16586266814672823\n",
      "---------------------------------------------------------------------------\n",
      "Learning rate set to 0.002361\n",
      "0:\tlearn: 0.6905831\ttotal: 41.4ms\tremaining: 3m 26s\n",
      "999:\tlearn: 0.1742214\ttotal: 26.7s\tremaining: 1m 46s\n",
      "1998:\tlearn: 0.1078422\ttotal: 53.5s\tremaining: 1m 20s\n",
      "2997:\tlearn: 0.0726104\ttotal: 1m 19s\tremaining: 53.4s\n",
      "3996:\tlearn: 0.0510310\ttotal: 1m 46s\tremaining: 26.7s\n",
      "4995:\tlearn: 0.0359491\ttotal: 2m 13s\tremaining: 107ms\n",
      "4999:\tlearn: 0.0359097\ttotal: 2m 13s\tremaining: 0us\n"
     ]
    },
    {
     "name": "stderr",
     "output_type": "stream",
     "text": [
      "9it [20:04, 134.24s/it]"
     ]
    },
    {
     "name": "stdout",
     "output_type": "stream",
     "text": [
      "fold Loss 8:  0.08433011117436268\n",
      "---------------------------------------------------------------------------\n",
      "Learning rate set to 0.002361\n",
      "0:\tlearn: 0.6905323\ttotal: 56.3ms\tremaining: 4m 41s\n",
      "999:\tlearn: 0.1713567\ttotal: 27.1s\tremaining: 1m 48s\n",
      "1998:\tlearn: 0.1048564\ttotal: 54s\tremaining: 1m 21s\n",
      "2997:\tlearn: 0.0700460\ttotal: 1m 20s\tremaining: 54.1s\n",
      "3996:\tlearn: 0.0489817\ttotal: 1m 47s\tremaining: 26.9s\n",
      "4995:\tlearn: 0.0344603\ttotal: 2m 13s\tremaining: 107ms\n",
      "4999:\tlearn: 0.0344204\ttotal: 2m 13s\tremaining: 0us\n"
     ]
    },
    {
     "name": "stderr",
     "output_type": "stream",
     "text": [
      "10it [22:19, 134.43s/it]"
     ]
    },
    {
     "name": "stdout",
     "output_type": "stream",
     "text": [
      "fold Loss 9:  0.15545034926966222\n",
      "---------------------------------------------------------------------------\n",
      "Learning rate set to 0.002361\n",
      "0:\tlearn: 0.6907591\ttotal: 41.2ms\tremaining: 3m 25s\n",
      "999:\tlearn: 0.1724998\ttotal: 27s\tremaining: 1m 47s\n",
      "1998:\tlearn: 0.1075125\ttotal: 54s\tremaining: 1m 21s\n",
      "2997:\tlearn: 0.0723480\ttotal: 1m 20s\tremaining: 53.9s\n",
      "3996:\tlearn: 0.0515270\ttotal: 1m 47s\tremaining: 26.9s\n",
      "4995:\tlearn: 0.0373410\ttotal: 2m 13s\tremaining: 107ms\n",
      "4999:\tlearn: 0.0373157\ttotal: 2m 13s\tremaining: 0us\n"
     ]
    },
    {
     "name": "stderr",
     "output_type": "stream",
     "text": [
      "11it [24:34, 134.46s/it]"
     ]
    },
    {
     "name": "stdout",
     "output_type": "stream",
     "text": [
      "fold Loss 10:  0.11052465434078125\n",
      "---------------------------------------------------------------------------\n",
      "Learning rate set to 0.002361\n",
      "0:\tlearn: 0.6906732\ttotal: 53.1ms\tremaining: 4m 25s\n",
      "999:\tlearn: 0.1647216\ttotal: 26.6s\tremaining: 1m 46s\n",
      "1998:\tlearn: 0.1029510\ttotal: 53.1s\tremaining: 1m 19s\n",
      "2997:\tlearn: 0.0705558\ttotal: 1m 19s\tremaining: 53.2s\n",
      "3996:\tlearn: 0.0495550\ttotal: 1m 45s\tremaining: 26.6s\n",
      "4995:\tlearn: 0.0355588\ttotal: 2m 12s\tremaining: 106ms\n",
      "4999:\tlearn: 0.0354988\ttotal: 2m 12s\tremaining: 0us\n"
     ]
    },
    {
     "name": "stderr",
     "output_type": "stream",
     "text": [
      "12it [26:47, 134.23s/it]"
     ]
    },
    {
     "name": "stdout",
     "output_type": "stream",
     "text": [
      "fold Loss 11:  0.1841025815085919\n",
      "---------------------------------------------------------------------------\n",
      "Learning rate set to 0.002361\n",
      "0:\tlearn: 0.6903113\ttotal: 91.7ms\tremaining: 7m 38s\n",
      "999:\tlearn: 0.1703196\ttotal: 27.2s\tremaining: 1m 48s\n",
      "1998:\tlearn: 0.1045877\ttotal: 53.7s\tremaining: 1m 20s\n",
      "2997:\tlearn: 0.0700721\ttotal: 1m 19s\tremaining: 53.4s\n",
      "3996:\tlearn: 0.0488603\ttotal: 1m 46s\tremaining: 26.7s\n",
      "4995:\tlearn: 0.0349167\ttotal: 2m 12s\tremaining: 106ms\n",
      "4999:\tlearn: 0.0348688\ttotal: 2m 12s\tremaining: 0us\n"
     ]
    },
    {
     "name": "stderr",
     "output_type": "stream",
     "text": [
      "13it [29:01, 134.01s/it]"
     ]
    },
    {
     "name": "stdout",
     "output_type": "stream",
     "text": [
      "fold Loss 12:  0.11706411911963659\n",
      "---------------------------------------------------------------------------\n",
      "Learning rate set to 0.002361\n",
      "0:\tlearn: 0.6908240\ttotal: 82.5ms\tremaining: 6m 52s\n",
      "999:\tlearn: 0.1663410\ttotal: 26.8s\tremaining: 1m 47s\n",
      "1998:\tlearn: 0.1008027\ttotal: 53.5s\tremaining: 1m 20s\n",
      "2997:\tlearn: 0.0672246\ttotal: 1m 20s\tremaining: 53.6s\n",
      "3996:\tlearn: 0.0462654\ttotal: 1m 46s\tremaining: 26.8s\n",
      "4995:\tlearn: 0.0329601\ttotal: 2m 13s\tremaining: 107ms\n",
      "4999:\tlearn: 0.0328952\ttotal: 2m 13s\tremaining: 0us\n"
     ]
    },
    {
     "name": "stderr",
     "output_type": "stream",
     "text": [
      "14it [31:16, 134.26s/it]"
     ]
    },
    {
     "name": "stdout",
     "output_type": "stream",
     "text": [
      "fold Loss 13:  0.24696982474827608\n",
      "---------------------------------------------------------------------------\n",
      "Learning rate set to 0.002361\n",
      "0:\tlearn: 0.6906087\ttotal: 54ms\tremaining: 4m 29s\n",
      "999:\tlearn: 0.1690667\ttotal: 26.5s\tremaining: 1m 45s\n",
      "1998:\tlearn: 0.1047475\ttotal: 53.3s\tremaining: 1m 20s\n",
      "2997:\tlearn: 0.0701940\ttotal: 1m 19s\tremaining: 53.2s\n",
      "3996:\tlearn: 0.0485752\ttotal: 1m 46s\tremaining: 26.7s\n",
      "4995:\tlearn: 0.0344055\ttotal: 2m 12s\tremaining: 106ms\n",
      "4999:\tlearn: 0.0343659\ttotal: 2m 12s\tremaining: 0us\n"
     ]
    },
    {
     "name": "stderr",
     "output_type": "stream",
     "text": [
      "15it [33:30, 134.13s/it]"
     ]
    },
    {
     "name": "stdout",
     "output_type": "stream",
     "text": [
      "fold Loss 14:  0.10600133195549218\n",
      "---------------------------------------------------------------------------\n",
      "Learning rate set to 0.002361\n",
      "0:\tlearn: 0.6906680\ttotal: 55ms\tremaining: 4m 34s\n",
      "999:\tlearn: 0.1717553\ttotal: 26.3s\tremaining: 1m 45s\n",
      "1998:\tlearn: 0.1052698\ttotal: 52.8s\tremaining: 1m 19s\n",
      "2997:\tlearn: 0.0698860\ttotal: 1m 19s\tremaining: 53s\n",
      "3996:\tlearn: 0.0483534\ttotal: 1m 45s\tremaining: 26.6s\n",
      "4995:\tlearn: 0.0344412\ttotal: 2m 12s\tremaining: 106ms\n",
      "4999:\tlearn: 0.0343825\ttotal: 2m 12s\tremaining: 0us\n"
     ]
    },
    {
     "name": "stderr",
     "output_type": "stream",
     "text": [
      "16it [35:43, 133.96s/it]"
     ]
    },
    {
     "name": "stdout",
     "output_type": "stream",
     "text": [
      "fold Loss 15:  0.1158748981591369\n",
      "---------------------------------------------------------------------------\n",
      "Learning rate set to 0.002361\n",
      "0:\tlearn: 0.6906724\ttotal: 40.1ms\tremaining: 3m 20s\n",
      "999:\tlearn: 0.1727995\ttotal: 26.3s\tremaining: 1m 45s\n",
      "1998:\tlearn: 0.1074748\ttotal: 52.8s\tremaining: 1m 19s\n",
      "2997:\tlearn: 0.0719753\ttotal: 1m 19s\tremaining: 53.1s\n",
      "3996:\tlearn: 0.0498384\ttotal: 1m 46s\tremaining: 26.7s\n",
      "4995:\tlearn: 0.0347615\ttotal: 2m 12s\tremaining: 106ms\n",
      "4999:\tlearn: 0.0346910\ttotal: 2m 12s\tremaining: 0us\n"
     ]
    },
    {
     "name": "stderr",
     "output_type": "stream",
     "text": [
      "17it [37:57, 133.87s/it]"
     ]
    },
    {
     "name": "stdout",
     "output_type": "stream",
     "text": [
      "fold Loss 16:  0.07479064369418549\n",
      "---------------------------------------------------------------------------\n",
      "Learning rate set to 0.002361\n",
      "0:\tlearn: 0.6905838\ttotal: 53.7ms\tremaining: 4m 28s\n",
      "999:\tlearn: 0.1697902\ttotal: 26.4s\tremaining: 1m 45s\n",
      "1998:\tlearn: 0.1021302\ttotal: 52.8s\tremaining: 1m 19s\n",
      "2997:\tlearn: 0.0685131\ttotal: 1m 19s\tremaining: 53.1s\n",
      "3996:\tlearn: 0.0479868\ttotal: 1m 46s\tremaining: 26.6s\n",
      "4995:\tlearn: 0.0329844\ttotal: 2m 12s\tremaining: 106ms\n",
      "4999:\tlearn: 0.0329332\ttotal: 2m 12s\tremaining: 0us\n"
     ]
    },
    {
     "name": "stderr",
     "output_type": "stream",
     "text": [
      "18it [40:10, 133.77s/it]"
     ]
    },
    {
     "name": "stdout",
     "output_type": "stream",
     "text": [
      "fold Loss 17:  0.19567043193340905\n",
      "---------------------------------------------------------------------------\n",
      "Learning rate set to 0.002361\n",
      "0:\tlearn: 0.6903563\ttotal: 41.3ms\tremaining: 3m 26s\n",
      "999:\tlearn: 0.1690078\ttotal: 26.4s\tremaining: 1m 45s\n",
      "1998:\tlearn: 0.1052892\ttotal: 52.9s\tremaining: 1m 19s\n",
      "2997:\tlearn: 0.0705147\ttotal: 1m 19s\tremaining: 53s\n",
      "3996:\tlearn: 0.0489670\ttotal: 1m 46s\tremaining: 26.6s\n",
      "4995:\tlearn: 0.0340415\ttotal: 2m 12s\tremaining: 106ms\n",
      "4999:\tlearn: 0.0339930\ttotal: 2m 12s\tremaining: 0us\n"
     ]
    },
    {
     "name": "stderr",
     "output_type": "stream",
     "text": [
      "19it [42:24, 133.62s/it]"
     ]
    },
    {
     "name": "stdout",
     "output_type": "stream",
     "text": [
      "fold Loss 18:  0.10428304604493595\n",
      "---------------------------------------------------------------------------\n",
      "Learning rate set to 0.002362\n",
      "0:\tlearn: 0.6907180\ttotal: 54.1ms\tremaining: 4m 30s\n",
      "999:\tlearn: 0.1667332\ttotal: 26.6s\tremaining: 1m 46s\n",
      "1998:\tlearn: 0.1011125\ttotal: 52.8s\tremaining: 1m 19s\n",
      "2997:\tlearn: 0.0655154\ttotal: 1m 19s\tremaining: 52.9s\n",
      "3996:\tlearn: 0.0450709\ttotal: 1m 45s\tremaining: 26.5s\n",
      "4995:\tlearn: 0.0314722\ttotal: 2m 12s\tremaining: 106ms\n",
      "4999:\tlearn: 0.0314226\ttotal: 2m 12s\tremaining: 0us\n"
     ]
    },
    {
     "name": "stderr",
     "output_type": "stream",
     "text": [
      "20it [44:37, 133.87s/it]"
     ]
    },
    {
     "name": "stdout",
     "output_type": "stream",
     "text": [
      "fold Loss 19:  0.27514232210127504\n",
      "---------------------------------------------------------------------------\n",
      "Training Loss: 0.0434149567031411\n",
      "Loss for silicate:\n",
      "0.1683328710221683 0.06161965960590304\n",
      "==================================================================================================\n",
      "TARGET  sulfate\n"
     ]
    },
    {
     "name": "stderr",
     "output_type": "stream",
     "text": [
      "\n"
     ]
    },
    {
     "name": "stdout",
     "output_type": "stream",
     "text": [
      "0.4523637954329599\n"
     ]
    },
    {
     "name": "stderr",
     "output_type": "stream",
     "text": [
      "100%|██████████| 101/101 [00:00<00:00, 344690.56it/s]"
     ]
    },
    {
     "name": "stdout",
     "output_type": "stream",
     "text": [
      "10\n"
     ]
    },
    {
     "name": "stderr",
     "output_type": "stream",
     "text": [
      "\n"
     ]
    },
    {
     "name": "stdout",
     "output_type": "stream",
     "text": [
      "0.34721295202919705\n"
     ]
    },
    {
     "name": "stderr",
     "output_type": "stream",
     "text": [
      "100%|██████████| 2000/2000 [00:00<00:00, 1637121.00it/s]\n"
     ]
    },
    {
     "name": "stdout",
     "output_type": "stream",
     "text": [
      "56\n",
      "0.3167791836277615\n"
     ]
    },
    {
     "name": "stderr",
     "output_type": "stream",
     "text": [
      "100%|██████████| 2300/2300 [00:00<00:00, 1583795.63it/s]\n"
     ]
    },
    {
     "name": "stdout",
     "output_type": "stream",
     "text": [
      "64\n",
      "0.3232910357421296\n"
     ]
    },
    {
     "name": "stderr",
     "output_type": "stream",
     "text": [
      "100%|██████████| 2100/2100 [00:00<00:00, 1598555.06it/s]\n"
     ]
    },
    {
     "name": "stdout",
     "output_type": "stream",
     "text": [
      "61\n",
      "(1059, 61) (1059, 10) (1059, 56) (1059, 64)\n",
      "(1059, 191)\n",
      "(804, 61) (804, 10) (804, 56) (804, 64)\n",
      "(804, 191)\n"
     ]
    },
    {
     "name": "stderr",
     "output_type": "stream",
     "text": [
      "0it [00:00, ?it/s]"
     ]
    },
    {
     "name": "stdout",
     "output_type": "stream",
     "text": [
      "Learning rate set to 0.002361\n",
      "0:\tlearn: 0.6906931\ttotal: 34.1ms\tremaining: 2m 50s\n",
      "999:\tlearn: 0.1475804\ttotal: 23s\tremaining: 1m 32s\n",
      "1998:\tlearn: 0.0858820\ttotal: 46.2s\tremaining: 1m 9s\n",
      "2997:\tlearn: 0.0566688\ttotal: 1m 9s\tremaining: 46.5s\n",
      "3996:\tlearn: 0.0374486\ttotal: 1m 33s\tremaining: 23.4s\n",
      "4995:\tlearn: 0.0249068\ttotal: 1m 55s\tremaining: 92.8ms\n",
      "4999:\tlearn: 0.0248692\ttotal: 1m 56s\tremaining: 0us\n",
      "fold Loss 0:  0.15575886806597883\n"
     ]
    },
    {
     "name": "stderr",
     "output_type": "stream",
     "text": [
      "1it [01:56, 116.91s/it]"
     ]
    },
    {
     "name": "stdout",
     "output_type": "stream",
     "text": [
      "---------------------------------------------------------------------------\n",
      "Learning rate set to 0.002361\n",
      "0:\tlearn: 0.6908207\ttotal: 47.1ms\tremaining: 3m 55s\n",
      "999:\tlearn: 0.1493705\ttotal: 23.5s\tremaining: 1m 34s\n",
      "1998:\tlearn: 0.0863511\ttotal: 46.6s\tremaining: 1m 9s\n",
      "2997:\tlearn: 0.0571466\ttotal: 1m 9s\tremaining: 46.5s\n",
      "3996:\tlearn: 0.0386119\ttotal: 1m 32s\tremaining: 23.2s\n",
      "4995:\tlearn: 0.0256396\ttotal: 1m 55s\tremaining: 92.7ms\n",
      "4999:\tlearn: 0.0255927\ttotal: 1m 55s\tremaining: 0us\n",
      "fold Loss 1:  0.1122353608284093\n"
     ]
    },
    {
     "name": "stderr",
     "output_type": "stream",
     "text": [
      "2it [03:53, 116.82s/it]"
     ]
    },
    {
     "name": "stdout",
     "output_type": "stream",
     "text": [
      "---------------------------------------------------------------------------\n",
      "Learning rate set to 0.002361\n",
      "0:\tlearn: 0.6908162\ttotal: 35.5ms\tremaining: 2m 57s\n",
      "999:\tlearn: 0.1481359\ttotal: 23.2s\tremaining: 1m 32s\n",
      "1998:\tlearn: 0.0851661\ttotal: 45.9s\tremaining: 1m 8s\n",
      "2997:\tlearn: 0.0554288\ttotal: 1m 8s\tremaining: 45.9s\n",
      "3996:\tlearn: 0.0365812\ttotal: 1m 32s\tremaining: 23.1s\n",
      "4995:\tlearn: 0.0241419\ttotal: 1m 54s\tremaining: 91.8ms\n",
      "4999:\tlearn: 0.0241165\ttotal: 1m 54s\tremaining: 0us\n"
     ]
    },
    {
     "name": "stderr",
     "output_type": "stream",
     "text": [
      "3it [05:49, 116.25s/it]"
     ]
    },
    {
     "name": "stdout",
     "output_type": "stream",
     "text": [
      "fold Loss 2:  0.21933497650285125\n",
      "---------------------------------------------------------------------------\n",
      "Learning rate set to 0.002361\n",
      "0:\tlearn: 0.6906760\ttotal: 46.8ms\tremaining: 3m 54s\n",
      "999:\tlearn: 0.1420280\ttotal: 23.5s\tremaining: 1m 33s\n",
      "1998:\tlearn: 0.0786609\ttotal: 46.4s\tremaining: 1m 9s\n",
      "2997:\tlearn: 0.0501914\ttotal: 1m 9s\tremaining: 46.3s\n",
      "3996:\tlearn: 0.0338867\ttotal: 1m 31s\tremaining: 23s\n",
      "4995:\tlearn: 0.0238841\ttotal: 1m 54s\tremaining: 91.7ms\n",
      "4999:\tlearn: 0.0238517\ttotal: 1m 54s\tremaining: 0us\n",
      "fold Loss 3:  0.3938816627933568\n"
     ]
    },
    {
     "name": "stderr",
     "output_type": "stream",
     "text": [
      "4it [07:44, 115.93s/it]"
     ]
    },
    {
     "name": "stdout",
     "output_type": "stream",
     "text": [
      "---------------------------------------------------------------------------\n",
      "Learning rate set to 0.002361\n",
      "0:\tlearn: 0.6904822\ttotal: 35.6ms\tremaining: 2m 57s\n",
      "999:\tlearn: 0.1471593\ttotal: 23.1s\tremaining: 1m 32s\n",
      "1998:\tlearn: 0.0849988\ttotal: 45.7s\tremaining: 1m 8s\n",
      "2997:\tlearn: 0.0552459\ttotal: 1m 8s\tremaining: 45.8s\n",
      "3996:\tlearn: 0.0364162\ttotal: 1m 31s\tremaining: 23.1s\n",
      "4995:\tlearn: 0.0242613\ttotal: 1m 54s\tremaining: 91.7ms\n",
      "4999:\tlearn: 0.0242197\ttotal: 1m 54s\tremaining: 0us\n",
      "fold Loss 4:  0.23335869306852974\n"
     ]
    },
    {
     "name": "stderr",
     "output_type": "stream",
     "text": [
      "5it [09:40, 115.74s/it]"
     ]
    },
    {
     "name": "stdout",
     "output_type": "stream",
     "text": [
      "---------------------------------------------------------------------------\n",
      "Learning rate set to 0.002361\n",
      "0:\tlearn: 0.6906732\ttotal: 47.6ms\tremaining: 3m 58s\n",
      "999:\tlearn: 0.1482950\ttotal: 23.3s\tremaining: 1m 33s\n",
      "1998:\tlearn: 0.0846029\ttotal: 46.3s\tremaining: 1m 9s\n",
      "2997:\tlearn: 0.0555076\ttotal: 1m 9s\tremaining: 46.6s\n",
      "3996:\tlearn: 0.0366474\ttotal: 1m 32s\tremaining: 23.2s\n",
      "4995:\tlearn: 0.0241737\ttotal: 1m 55s\tremaining: 92.9ms\n",
      "4999:\tlearn: 0.0241373\ttotal: 1m 56s\tremaining: 0us\n"
     ]
    },
    {
     "name": "stderr",
     "output_type": "stream",
     "text": [
      "6it [11:37, 116.15s/it]"
     ]
    },
    {
     "name": "stdout",
     "output_type": "stream",
     "text": [
      "fold Loss 5:  0.17462410104895856\n",
      "---------------------------------------------------------------------------\n",
      "Learning rate set to 0.002361\n",
      "0:\tlearn: 0.6907019\ttotal: 36.6ms\tremaining: 3m 3s\n",
      "999:\tlearn: 0.1471537\ttotal: 23.1s\tremaining: 1m 32s\n",
      "1998:\tlearn: 0.0848371\ttotal: 45.8s\tremaining: 1m 8s\n",
      "2997:\tlearn: 0.0549200\ttotal: 1m 8s\tremaining: 46s\n",
      "3996:\tlearn: 0.0364617\ttotal: 1m 31s\tremaining: 23.1s\n",
      "4995:\tlearn: 0.0246411\ttotal: 1m 55s\tremaining: 92.2ms\n",
      "4999:\tlearn: 0.0245920\ttotal: 1m 55s\tremaining: 0us\n",
      "fold Loss 6:  0.21754513309790613\n"
     ]
    },
    {
     "name": "stderr",
     "output_type": "stream",
     "text": [
      "7it [13:33, 116.13s/it]"
     ]
    },
    {
     "name": "stdout",
     "output_type": "stream",
     "text": [
      "---------------------------------------------------------------------------\n",
      "Learning rate set to 0.002361\n",
      "0:\tlearn: 0.6907167\ttotal: 46.2ms\tremaining: 3m 50s\n",
      "999:\tlearn: 0.1507013\ttotal: 22.9s\tremaining: 1m 31s\n",
      "1998:\tlearn: 0.0871920\ttotal: 45.9s\tremaining: 1m 8s\n",
      "2997:\tlearn: 0.0561801\ttotal: 1m 8s\tremaining: 46s\n",
      "3996:\tlearn: 0.0371425\ttotal: 1m 31s\tremaining: 22.9s\n",
      "4995:\tlearn: 0.0251888\ttotal: 1m 54s\tremaining: 91.7ms\n",
      "4999:\tlearn: 0.0251484\ttotal: 1m 54s\tremaining: 0us\n",
      "fold Loss 7:  0.08841286306064139\n"
     ]
    },
    {
     "name": "stderr",
     "output_type": "stream",
     "text": [
      "8it [15:28, 115.92s/it]"
     ]
    },
    {
     "name": "stdout",
     "output_type": "stream",
     "text": [
      "---------------------------------------------------------------------------\n",
      "Learning rate set to 0.002361\n",
      "0:\tlearn: 0.6907472\ttotal: 36.2ms\tremaining: 3m\n",
      "999:\tlearn: 0.1487864\ttotal: 23.1s\tremaining: 1m 32s\n",
      "1998:\tlearn: 0.0857650\ttotal: 46.3s\tremaining: 1m 9s\n",
      "2997:\tlearn: 0.0563607\ttotal: 1m 9s\tremaining: 46.1s\n",
      "3996:\tlearn: 0.0379899\ttotal: 1m 31s\tremaining: 23.1s\n"
     ]
    },
    {
     "name": "stderr",
     "output_type": "stream",
     "text": [
      "9it [17:24, 115.83s/it]"
     ]
    },
    {
     "name": "stdout",
     "output_type": "stream",
     "text": [
      "4995:\tlearn: 0.0262943\ttotal: 1m 54s\tremaining: 91.8ms\n",
      "4999:\tlearn: 0.0262806\ttotal: 1m 54s\tremaining: 0us\n",
      "fold Loss 8:  0.11652691955050937\n",
      "---------------------------------------------------------------------------\n",
      "Learning rate set to 0.002361\n",
      "0:\tlearn: 0.6907674\ttotal: 44.9ms\tremaining: 3m 44s\n",
      "999:\tlearn: 0.1510142\ttotal: 22.8s\tremaining: 1m 31s\n",
      "1998:\tlearn: 0.0869491\ttotal: 45.8s\tremaining: 1m 8s\n",
      "2997:\tlearn: 0.0564282\ttotal: 1m 8s\tremaining: 46s\n",
      "3996:\tlearn: 0.0366833\ttotal: 1m 32s\tremaining: 23.1s\n"
     ]
    },
    {
     "name": "stderr",
     "output_type": "stream",
     "text": [
      "10it [19:19, 115.81s/it]"
     ]
    },
    {
     "name": "stdout",
     "output_type": "stream",
     "text": [
      "4995:\tlearn: 0.0242986\ttotal: 1m 54s\tremaining: 91.9ms\n",
      "4999:\tlearn: 0.0242477\ttotal: 1m 54s\tremaining: 0us\n",
      "fold Loss 9:  0.08789124925661128\n",
      "---------------------------------------------------------------------------\n",
      "Learning rate set to 0.002361\n",
      "0:\tlearn: 0.6908885\ttotal: 35.6ms\tremaining: 2m 57s\n",
      "999:\tlearn: 0.1519774\ttotal: 23s\tremaining: 1m 31s\n",
      "1998:\tlearn: 0.0870032\ttotal: 46.1s\tremaining: 1m 9s\n",
      "2997:\tlearn: 0.0569213\ttotal: 1m 8s\tremaining: 45.8s\n",
      "3996:\tlearn: 0.0377238\ttotal: 1m 31s\tremaining: 23s\n"
     ]
    },
    {
     "name": "stderr",
     "output_type": "stream",
     "text": [
      "11it [21:15, 115.68s/it]"
     ]
    },
    {
     "name": "stdout",
     "output_type": "stream",
     "text": [
      "4995:\tlearn: 0.0263048\ttotal: 1m 54s\tremaining: 91.7ms\n",
      "4999:\tlearn: 0.0262894\ttotal: 1m 54s\tremaining: 0us\n",
      "fold Loss 10:  0.0905172280216717\n",
      "---------------------------------------------------------------------------\n",
      "Learning rate set to 0.002361\n",
      "0:\tlearn: 0.6908410\ttotal: 45.7ms\tremaining: 3m 48s\n",
      "999:\tlearn: 0.1462587\ttotal: 23.3s\tremaining: 1m 33s\n",
      "1998:\tlearn: 0.0848046\ttotal: 45.9s\tremaining: 1m 8s\n",
      "2997:\tlearn: 0.0555294\ttotal: 1m 8s\tremaining: 46s\n",
      "3996:\tlearn: 0.0367680\ttotal: 1m 31s\tremaining: 23s\n",
      "4995:\tlearn: 0.0244079\ttotal: 1m 54s\tremaining: 91.6ms\n",
      "4999:\tlearn: 0.0243715\ttotal: 1m 54s\tremaining: 0us\n",
      "fold Loss 11:  0.17166683122007237\n",
      "---------------------------------------------------------------------------"
     ]
    },
    {
     "name": "stderr",
     "output_type": "stream",
     "text": [
      "12it [23:10, 115.58s/it]"
     ]
    },
    {
     "name": "stdout",
     "output_type": "stream",
     "text": [
      "\n",
      "Learning rate set to 0.002361\n",
      "0:\tlearn: 0.6908347\ttotal: 35ms\tremaining: 2m 55s\n",
      "999:\tlearn: 0.1529630\ttotal: 24.3s\tremaining: 1m 37s\n",
      "1998:\tlearn: 0.0888134\ttotal: 47.3s\tremaining: 1m 11s\n",
      "2997:\tlearn: 0.0582574\ttotal: 1m 10s\tremaining: 46.9s\n",
      "3996:\tlearn: 0.0391503\ttotal: 1m 33s\tremaining: 23.3s\n"
     ]
    },
    {
     "name": "stderr",
     "output_type": "stream",
     "text": [
      "13it [25:07, 115.95s/it]"
     ]
    },
    {
     "name": "stdout",
     "output_type": "stream",
     "text": [
      "4995:\tlearn: 0.0261528\ttotal: 1m 55s\tremaining: 92.8ms\n",
      "4999:\tlearn: 0.0261115\ttotal: 1m 55s\tremaining: 0us\n",
      "fold Loss 12:  0.05509429808677751\n",
      "---------------------------------------------------------------------------\n",
      "Learning rate set to 0.002361\n",
      "0:\tlearn: 0.6907304\ttotal: 45.3ms\tremaining: 3m 46s\n",
      "999:\tlearn: 0.1408336\ttotal: 23.1s\tremaining: 1m 32s\n",
      "1998:\tlearn: 0.0763035\ttotal: 45.6s\tremaining: 1m 8s\n",
      "2997:\tlearn: 0.0474266\ttotal: 1m 8s\tremaining: 46s\n",
      "3996:\tlearn: 0.0300715\ttotal: 1m 31s\tremaining: 23.1s\n",
      "4995:\tlearn: 0.0199729\ttotal: 1m 54s\tremaining: 91.8ms\n",
      "4999:\tlearn: 0.0199392\ttotal: 1m 54s\tremaining: 0us\n"
     ]
    },
    {
     "name": "stderr",
     "output_type": "stream",
     "text": [
      "14it [27:03, 115.83s/it]"
     ]
    },
    {
     "name": "stdout",
     "output_type": "stream",
     "text": [
      "fold Loss 13:  0.3571888700720187\n",
      "---------------------------------------------------------------------------\n",
      "Learning rate set to 0.002361\n",
      "0:\tlearn: 0.6906950\ttotal: 52.1ms\tremaining: 4m 20s\n",
      "999:\tlearn: 0.1473499\ttotal: 22.9s\tremaining: 1m 31s\n",
      "1998:\tlearn: 0.0854516\ttotal: 46s\tremaining: 1m 9s\n",
      "2997:\tlearn: 0.0562654\ttotal: 1m 8s\tremaining: 46.1s\n",
      "3996:\tlearn: 0.0377326\ttotal: 1m 31s\tremaining: 23s\n",
      "4995:\tlearn: 0.0254045\ttotal: 1m 54s\tremaining: 91.6ms\n",
      "4999:\tlearn: 0.0253602\ttotal: 1m 54s\tremaining: 0us\n",
      "fold Loss 14:  0.09822179422812956\n"
     ]
    },
    {
     "name": "stderr",
     "output_type": "stream",
     "text": [
      "15it [28:58, 115.69s/it]"
     ]
    },
    {
     "name": "stdout",
     "output_type": "stream",
     "text": [
      "---------------------------------------------------------------------------\n",
      "Learning rate set to 0.002361\n",
      "0:\tlearn: 0.6907450\ttotal: 44.8ms\tremaining: 3m 44s\n",
      "999:\tlearn: 0.1469408\ttotal: 23.1s\tremaining: 1m 32s\n",
      "1998:\tlearn: 0.0837957\ttotal: 45.7s\tremaining: 1m 8s\n",
      "2997:\tlearn: 0.0545956\ttotal: 1m 8s\tremaining: 46s\n",
      "3996:\tlearn: 0.0361635\ttotal: 1m 31s\tremaining: 23.1s\n"
     ]
    },
    {
     "name": "stderr",
     "output_type": "stream",
     "text": [
      "16it [30:54, 115.67s/it]"
     ]
    },
    {
     "name": "stdout",
     "output_type": "stream",
     "text": [
      "4995:\tlearn: 0.0236277\ttotal: 1m 54s\tremaining: 91.8ms\n",
      "4999:\tlearn: 0.0236028\ttotal: 1m 54s\tremaining: 0us\n",
      "fold Loss 15:  0.15590713868873063\n",
      "---------------------------------------------------------------------------\n",
      "Learning rate set to 0.002361\n",
      "0:\tlearn: 0.6908567\ttotal: 49.3ms\tremaining: 4m 6s\n",
      "999:\tlearn: 0.1485691\ttotal: 23s\tremaining: 1m 31s\n",
      "1998:\tlearn: 0.0860262\ttotal: 46.1s\tremaining: 1m 9s\n",
      "2997:\tlearn: 0.0558192\ttotal: 1m 9s\tremaining: 46.1s\n",
      "3996:\tlearn: 0.0365318\ttotal: 1m 31s\tremaining: 23s\n"
     ]
    },
    {
     "name": "stderr",
     "output_type": "stream",
     "text": [
      "17it [32:49, 115.68s/it]"
     ]
    },
    {
     "name": "stdout",
     "output_type": "stream",
     "text": [
      "4995:\tlearn: 0.0240342\ttotal: 1m 54s\tremaining: 91.9ms\n",
      "4999:\tlearn: 0.0239986\ttotal: 1m 54s\tremaining: 0us\n",
      "fold Loss 16:  0.10344295322759342\n",
      "---------------------------------------------------------------------------\n",
      "Learning rate set to 0.002361\n",
      "0:\tlearn: 0.6908574\ttotal: 47.1ms\tremaining: 3m 55s\n",
      "999:\tlearn: 0.1454136\ttotal: 23.3s\tremaining: 1m 33s\n",
      "1998:\tlearn: 0.0843822\ttotal: 45.9s\tremaining: 1m 8s\n",
      "2997:\tlearn: 0.0548289\ttotal: 1m 9s\tremaining: 46.3s\n",
      "3996:\tlearn: 0.0364640\ttotal: 1m 32s\tremaining: 23.1s\n",
      "4995:\tlearn: 0.0245374\ttotal: 1m 55s\tremaining: 92.1ms\n",
      "4999:\tlearn: 0.0245012\ttotal: 1m 55s\tremaining: 0us\n"
     ]
    },
    {
     "name": "stderr",
     "output_type": "stream",
     "text": [
      "18it [34:45, 115.77s/it]"
     ]
    },
    {
     "name": "stdout",
     "output_type": "stream",
     "text": [
      "fold Loss 17:  0.18747080192603924\n",
      "---------------------------------------------------------------------------\n",
      "Learning rate set to 0.002361\n",
      "0:\tlearn: 0.6908210\ttotal: 44.3ms\tremaining: 3m 41s\n",
      "999:\tlearn: 0.1466751\ttotal: 22.8s\tremaining: 1m 31s\n",
      "1998:\tlearn: 0.0852966\ttotal: 46.1s\tremaining: 1m 9s\n",
      "2997:\tlearn: 0.0563701\ttotal: 1m 9s\tremaining: 46.3s\n",
      "3996:\tlearn: 0.0380586\ttotal: 1m 32s\tremaining: 23.1s\n"
     ]
    },
    {
     "name": "stderr",
     "output_type": "stream",
     "text": [
      "19it [36:41, 115.88s/it]"
     ]
    },
    {
     "name": "stdout",
     "output_type": "stream",
     "text": [
      "4995:\tlearn: 0.0259588\ttotal: 1m 55s\tremaining: 92.2ms\n",
      "4999:\tlearn: 0.0259290\ttotal: 1m 55s\tremaining: 0us\n",
      "fold Loss 18:  0.12991226906128034\n",
      "---------------------------------------------------------------------------\n",
      "Learning rate set to 0.002362\n",
      "0:\tlearn: 0.6907334\ttotal: 46.1ms\tremaining: 3m 50s\n",
      "999:\tlearn: 0.1513944\ttotal: 23.7s\tremaining: 1m 34s\n",
      "1998:\tlearn: 0.0865106\ttotal: 46.4s\tremaining: 1m 9s\n",
      "2997:\tlearn: 0.0564588\ttotal: 1m 9s\tremaining: 46.5s\n",
      "3996:\tlearn: 0.0376190\ttotal: 1m 32s\tremaining: 23.3s\n",
      "4995:\tlearn: 0.0255613\ttotal: 1m 55s\tremaining: 92.9ms\n",
      "4999:\tlearn: 0.0255228\ttotal: 1m 56s\tremaining: 0us\n",
      "fold Loss 19:  0.10277831095771857\n"
     ]
    },
    {
     "name": "stderr",
     "output_type": "stream",
     "text": [
      "20it [38:38, 115.94s/it]"
     ]
    },
    {
     "name": "stdout",
     "output_type": "stream",
     "text": [
      "---------------------------------------------------------------------------\n",
      "Training Loss: 0.02933552578077507\n",
      "Loss for sulfate:\n",
      "0.16258851613818923 0.08611813918096806\n",
      "==================================================================================================\n",
      "TARGET  sulfide\n"
     ]
    },
    {
     "name": "stderr",
     "output_type": "stream",
     "text": [
      "\n"
     ]
    },
    {
     "name": "stdout",
     "output_type": "stream",
     "text": [
      "0.16340890120262103\n"
     ]
    },
    {
     "name": "stderr",
     "output_type": "stream",
     "text": [
      "100%|██████████| 101/101 [00:00<00:00, 332515.47it/s]"
     ]
    },
    {
     "name": "stdout",
     "output_type": "stream",
     "text": [
      "6\n"
     ]
    },
    {
     "name": "stderr",
     "output_type": "stream",
     "text": [
      "\n"
     ]
    },
    {
     "name": "stdout",
     "output_type": "stream",
     "text": [
      "0.10233282915927033\n"
     ]
    },
    {
     "name": "stderr",
     "output_type": "stream",
     "text": [
      "100%|██████████| 2000/2000 [00:00<00:00, 1599658.28it/s]\n"
     ]
    },
    {
     "name": "stdout",
     "output_type": "stream",
     "text": [
      "33\n",
      "0.1230278541865428\n"
     ]
    },
    {
     "name": "stderr",
     "output_type": "stream",
     "text": [
      "100%|██████████| 2300/2300 [00:00<00:00, 1630369.98it/s]\n"
     ]
    },
    {
     "name": "stdout",
     "output_type": "stream",
     "text": [
      "48\n",
      "0.12349074234232074\n"
     ]
    },
    {
     "name": "stderr",
     "output_type": "stream",
     "text": [
      "100%|██████████| 2100/2100 [00:00<00:00, 1638400.00it/s]\n"
     ]
    },
    {
     "name": "stdout",
     "output_type": "stream",
     "text": [
      "46\n",
      "(1059, 46) (1059, 6) (1059, 33) (1059, 48)\n",
      "(1059, 133)\n",
      "(804, 46) (804, 6) (804, 33) (804, 48)\n",
      "(804, 133)\n"
     ]
    },
    {
     "name": "stderr",
     "output_type": "stream",
     "text": [
      "0it [00:00, ?it/s]"
     ]
    },
    {
     "name": "stdout",
     "output_type": "stream",
     "text": [
      "Learning rate set to 0.002361\n",
      "0:\tlearn: 0.6885262\ttotal: 24ms\tremaining: 2m\n",
      "999:\tlearn: 0.0374499\ttotal: 16.8s\tremaining: 1m 7s\n",
      "1998:\tlearn: 0.0162237\ttotal: 33s\tremaining: 49.6s\n",
      "2997:\tlearn: 0.0092069\ttotal: 49.7s\tremaining: 33.2s\n",
      "3996:\tlearn: 0.0057167\ttotal: 1m 6s\tremaining: 16.6s\n"
     ]
    },
    {
     "name": "stderr",
     "output_type": "stream",
     "text": [
      "1it [01:23, 83.69s/it]"
     ]
    },
    {
     "name": "stdout",
     "output_type": "stream",
     "text": [
      "4995:\tlearn: 0.0040028\ttotal: 1m 22s\tremaining: 66.3ms\n",
      "4999:\tlearn: 0.0039986\ttotal: 1m 22s\tremaining: 0us\n",
      "fold Loss 0:  0.04796653713818694\n",
      "---------------------------------------------------------------------------\n",
      "Learning rate set to 0.002361\n",
      "0:\tlearn: 0.6890898\ttotal: 25.8ms\tremaining: 2m 9s\n",
      "999:\tlearn: 0.0379252\ttotal: 16.3s\tremaining: 1m 5s\n",
      "1998:\tlearn: 0.0168862\ttotal: 33.1s\tremaining: 49.6s\n",
      "2997:\tlearn: 0.0098705\ttotal: 49.4s\tremaining: 33s\n",
      "3996:\tlearn: 0.0066282\ttotal: 1m 6s\tremaining: 16.6s\n"
     ]
    },
    {
     "name": "stderr",
     "output_type": "stream",
     "text": [
      "2it [02:46, 83.43s/it]"
     ]
    },
    {
     "name": "stdout",
     "output_type": "stream",
     "text": [
      "4995:\tlearn: 0.0048980\ttotal: 1m 22s\tremaining: 65.9ms\n",
      "4999:\tlearn: 0.0048941\ttotal: 1m 22s\tremaining: 0us\n",
      "fold Loss 1:  0.0034916816023531517\n",
      "---------------------------------------------------------------------------\n",
      "Learning rate set to 0.002361\n",
      "0:\tlearn: 0.6890343\ttotal: 32.8ms\tremaining: 2m 43s\n",
      "999:\tlearn: 0.0367747\ttotal: 16.8s\tremaining: 1m 7s\n",
      "1998:\tlearn: 0.0157493\ttotal: 33.3s\tremaining: 50s\n",
      "2997:\tlearn: 0.0090876\ttotal: 50.1s\tremaining: 33.4s\n",
      "3996:\tlearn: 0.0059617\ttotal: 1m 6s\tremaining: 16.6s\n"
     ]
    },
    {
     "name": "stderr",
     "output_type": "stream",
     "text": [
      "3it [04:10, 83.65s/it]"
     ]
    },
    {
     "name": "stdout",
     "output_type": "stream",
     "text": [
      "4995:\tlearn: 0.0042661\ttotal: 1m 23s\tremaining: 66.5ms\n",
      "4999:\tlearn: 0.0042624\ttotal: 1m 23s\tremaining: 0us\n",
      "fold Loss 2:  0.07345174721314293\n",
      "---------------------------------------------------------------------------\n",
      "Learning rate set to 0.002361\n",
      "0:\tlearn: 0.6890793\ttotal: 28.6ms\tremaining: 2m 22s\n",
      "999:\tlearn: 0.0348677\ttotal: 16.4s\tremaining: 1m 5s\n",
      "1998:\tlearn: 0.0151314\ttotal: 33.3s\tremaining: 49.9s\n",
      "2997:\tlearn: 0.0088315\ttotal: 49.6s\tremaining: 33.1s\n",
      "3996:\tlearn: 0.0056761\ttotal: 1m 6s\tremaining: 16.6s\n"
     ]
    },
    {
     "name": "stderr",
     "output_type": "stream",
     "text": [
      "4it [05:34, 83.60s/it]"
     ]
    },
    {
     "name": "stdout",
     "output_type": "stream",
     "text": [
      "4995:\tlearn: 0.0039899\ttotal: 1m 22s\tremaining: 66.2ms\n",
      "4999:\tlearn: 0.0039867\ttotal: 1m 22s\tremaining: 0us\n",
      "fold Loss 3:  0.09895820063596845\n",
      "---------------------------------------------------------------------------\n",
      "Learning rate set to 0.002361\n",
      "0:\tlearn: 0.6890029\ttotal: 33.1ms\tremaining: 2m 45s\n",
      "999:\tlearn: 0.0377567\ttotal: 16.8s\tremaining: 1m 7s\n",
      "1998:\tlearn: 0.0160836\ttotal: 33.2s\tremaining: 49.8s\n",
      "2997:\tlearn: 0.0094254\ttotal: 50s\tremaining: 33.4s\n",
      "3996:\tlearn: 0.0061379\ttotal: 1m 6s\tremaining: 16.7s\n"
     ]
    },
    {
     "name": "stderr",
     "output_type": "stream",
     "text": [
      "5it [06:58, 83.89s/it]"
     ]
    },
    {
     "name": "stdout",
     "output_type": "stream",
     "text": [
      "4995:\tlearn: 0.0043657\ttotal: 1m 23s\tremaining: 66.9ms\n",
      "4999:\tlearn: 0.0043625\ttotal: 1m 23s\tremaining: 0us\n",
      "fold Loss 4:  0.028040403824976676\n",
      "---------------------------------------------------------------------------\n",
      "Learning rate set to 0.002361\n",
      "0:\tlearn: 0.6889847\ttotal: 26ms\tremaining: 2m 10s\n",
      "999:\tlearn: 0.0378658\ttotal: 16.7s\tremaining: 1m 6s\n",
      "1998:\tlearn: 0.0160766\ttotal: 33.7s\tremaining: 50.6s\n",
      "2997:\tlearn: 0.0092561\ttotal: 50.1s\tremaining: 33.5s\n",
      "3996:\tlearn: 0.0058815\ttotal: 1m 7s\tremaining: 16.8s\n",
      "4995:\tlearn: 0.0041125\ttotal: 1m 23s\tremaining: 67.2ms\n",
      "4999:\tlearn: 0.0041045\ttotal: 1m 23s\tremaining: 0us\n",
      "fold Loss 5:  0.03900614820146643\n"
     ]
    },
    {
     "name": "stderr",
     "output_type": "stream",
     "text": [
      "6it [08:23, 84.21s/it]"
     ]
    },
    {
     "name": "stdout",
     "output_type": "stream",
     "text": [
      "---------------------------------------------------------------------------\n",
      "Learning rate set to 0.002361\n",
      "0:\tlearn: 0.6886234\ttotal: 32.8ms\tremaining: 2m 44s\n",
      "999:\tlearn: 0.0335579\ttotal: 16.9s\tremaining: 1m 7s\n",
      "1998:\tlearn: 0.0143501\ttotal: 33.4s\tremaining: 50.1s\n",
      "2997:\tlearn: 0.0081254\ttotal: 50.3s\tremaining: 33.6s\n",
      "3996:\tlearn: 0.0053987\ttotal: 1m 6s\tremaining: 16.7s\n"
     ]
    },
    {
     "name": "stderr",
     "output_type": "stream",
     "text": [
      "7it [09:48, 84.32s/it]"
     ]
    },
    {
     "name": "stdout",
     "output_type": "stream",
     "text": [
      "4995:\tlearn: 0.0039434\ttotal: 1m 23s\tremaining: 67ms\n",
      "4999:\tlearn: 0.0039384\ttotal: 1m 23s\tremaining: 0us\n",
      "fold Loss 6:  0.13914388578721487\n",
      "---------------------------------------------------------------------------\n",
      "Learning rate set to 0.002361\n",
      "0:\tlearn: 0.6890096\ttotal: 24.8ms\tremaining: 2m 3s\n",
      "999:\tlearn: 0.0376294\ttotal: 16.4s\tremaining: 1m 5s\n",
      "1998:\tlearn: 0.0167327\ttotal: 33.2s\tremaining: 49.9s\n",
      "2997:\tlearn: 0.0096077\ttotal: 49.5s\tremaining: 33.1s\n",
      "3996:\tlearn: 0.0061372\ttotal: 1m 6s\tremaining: 16.6s\n"
     ]
    },
    {
     "name": "stderr",
     "output_type": "stream",
     "text": [
      "8it [11:12, 84.35s/it]"
     ]
    },
    {
     "name": "stdout",
     "output_type": "stream",
     "text": [
      "4995:\tlearn: 0.0043779\ttotal: 1m 23s\tremaining: 66.9ms\n",
      "4999:\tlearn: 0.0043715\ttotal: 1m 23s\tremaining: 0us\n",
      "fold Loss 7:  0.07377559468615519\n",
      "---------------------------------------------------------------------------\n",
      "Learning rate set to 0.002361\n",
      "0:\tlearn: 0.6888681\ttotal: 34.3ms\tremaining: 2m 51s\n",
      "999:\tlearn: 0.0371679\ttotal: 16.5s\tremaining: 1m 6s\n",
      "1998:\tlearn: 0.0163693\ttotal: 33.1s\tremaining: 49.7s\n",
      "2997:\tlearn: 0.0096357\ttotal: 49.6s\tremaining: 33.1s\n",
      "3996:\tlearn: 0.0063622\ttotal: 1m 6s\tremaining: 16.6s\n"
     ]
    },
    {
     "name": "stderr",
     "output_type": "stream",
     "text": [
      "9it [12:36, 84.07s/it]"
     ]
    },
    {
     "name": "stdout",
     "output_type": "stream",
     "text": [
      "4995:\tlearn: 0.0045623\ttotal: 1m 22s\tremaining: 66.1ms\n",
      "4999:\tlearn: 0.0045573\ttotal: 1m 22s\tremaining: 0us\n",
      "fold Loss 8:  0.007996342052257497\n",
      "---------------------------------------------------------------------------\n",
      "Learning rate set to 0.002361\n",
      "0:\tlearn: 0.6890035\ttotal: 24.9ms\tremaining: 2m 4s\n",
      "999:\tlearn: 0.0356882\ttotal: 16.6s\tremaining: 1m 6s\n",
      "1998:\tlearn: 0.0151125\ttotal: 33s\tremaining: 49.6s\n",
      "2997:\tlearn: 0.0087356\ttotal: 49.7s\tremaining: 33.2s\n",
      "3996:\tlearn: 0.0055728\ttotal: 1m 6s\tremaining: 16.6s\n"
     ]
    },
    {
     "name": "stderr",
     "output_type": "stream",
     "text": [
      "10it [13:59, 83.95s/it]"
     ]
    },
    {
     "name": "stdout",
     "output_type": "stream",
     "text": [
      "4995:\tlearn: 0.0039725\ttotal: 1m 22s\tremaining: 66.3ms\n",
      "4999:\tlearn: 0.0039689\ttotal: 1m 22s\tremaining: 0us\n",
      "fold Loss 9:  0.11618917135725552\n",
      "---------------------------------------------------------------------------\n",
      "Learning rate set to 0.002361\n",
      "0:\tlearn: 0.6887794\ttotal: 33.9ms\tremaining: 2m 49s\n",
      "999:\tlearn: 0.0370863\ttotal: 16.5s\tremaining: 1m 5s\n",
      "1998:\tlearn: 0.0162499\ttotal: 33s\tremaining: 49.5s\n",
      "2997:\tlearn: 0.0093490\ttotal: 49.5s\tremaining: 33.1s\n",
      "3996:\tlearn: 0.0061225\ttotal: 1m 6s\tremaining: 16.6s\n"
     ]
    },
    {
     "name": "stderr",
     "output_type": "stream",
     "text": [
      "11it [15:23, 83.86s/it]"
     ]
    },
    {
     "name": "stdout",
     "output_type": "stream",
     "text": [
      "4995:\tlearn: 0.0044361\ttotal: 1m 22s\tremaining: 66.3ms\n",
      "4999:\tlearn: 0.0044306\ttotal: 1m 22s\tremaining: 0us\n",
      "fold Loss 10:  0.023444108103179467\n",
      "---------------------------------------------------------------------------\n",
      "Learning rate set to 0.002361\n",
      "0:\tlearn: 0.6890124\ttotal: 25.2ms\tremaining: 2m 5s\n",
      "999:\tlearn: 0.0346996\ttotal: 16.6s\tremaining: 1m 6s\n",
      "1998:\tlearn: 0.0146877\ttotal: 33s\tremaining: 49.6s\n",
      "2997:\tlearn: 0.0083898\ttotal: 49.5s\tremaining: 33.1s\n",
      "3996:\tlearn: 0.0053725\ttotal: 1m 5s\tremaining: 16.5s\n"
     ]
    },
    {
     "name": "stderr",
     "output_type": "stream",
     "text": [
      "12it [16:46, 83.70s/it]"
     ]
    },
    {
     "name": "stdout",
     "output_type": "stream",
     "text": [
      "4995:\tlearn: 0.0037582\ttotal: 1m 22s\tremaining: 66ms\n",
      "4999:\tlearn: 0.0037530\ttotal: 1m 22s\tremaining: 0us\n",
      "fold Loss 11:  0.09204090899529543\n",
      "---------------------------------------------------------------------------\n",
      "Learning rate set to 0.002361\n",
      "0:\tlearn: 0.6888319\ttotal: 32.2ms\tremaining: 2m 40s\n",
      "999:\tlearn: 0.0358200\ttotal: 16.8s\tremaining: 1m 7s\n",
      "1998:\tlearn: 0.0160880\ttotal: 33.3s\tremaining: 49.9s\n",
      "2997:\tlearn: 0.0093718\ttotal: 49.7s\tremaining: 33.2s\n",
      "3996:\tlearn: 0.0060540\ttotal: 1m 6s\tremaining: 16.6s\n"
     ]
    },
    {
     "name": "stderr",
     "output_type": "stream",
     "text": [
      "13it [18:10, 83.72s/it]"
     ]
    },
    {
     "name": "stdout",
     "output_type": "stream",
     "text": [
      "4995:\tlearn: 0.0044443\ttotal: 1m 22s\tremaining: 66.4ms\n",
      "4999:\tlearn: 0.0044381\ttotal: 1m 22s\tremaining: 0us\n",
      "fold Loss 12:  0.09376576493377822\n",
      "---------------------------------------------------------------------------\n",
      "Learning rate set to 0.002361\n",
      "0:\tlearn: 0.6887999\ttotal: 26.8ms\tremaining: 2m 13s\n",
      "999:\tlearn: 0.0386379\ttotal: 16.6s\tremaining: 1m 6s\n",
      "1998:\tlearn: 0.0167610\ttotal: 33s\tremaining: 49.6s\n",
      "2997:\tlearn: 0.0098503\ttotal: 49.5s\tremaining: 33.1s\n",
      "3996:\tlearn: 0.0065910\ttotal: 1m 6s\tremaining: 16.6s\n"
     ]
    },
    {
     "name": "stderr",
     "output_type": "stream",
     "text": [
      "14it [19:34, 83.66s/it]"
     ]
    },
    {
     "name": "stdout",
     "output_type": "stream",
     "text": [
      "4995:\tlearn: 0.0047236\ttotal: 1m 22s\tremaining: 66.2ms\n",
      "4999:\tlearn: 0.0047168\ttotal: 1m 22s\tremaining: 0us\n",
      "fold Loss 13:  0.009340440359715967\n",
      "---------------------------------------------------------------------------\n",
      "Learning rate set to 0.002361\n",
      "0:\tlearn: 0.6890414\ttotal: 31.9ms\tremaining: 2m 39s\n",
      "999:\tlearn: 0.0376239\ttotal: 16.4s\tremaining: 1m 5s\n",
      "1998:\tlearn: 0.0161681\ttotal: 32.9s\tremaining: 49.4s\n",
      "2997:\tlearn: 0.0094149\ttotal: 49.3s\tremaining: 33s\n",
      "3996:\tlearn: 0.0062001\ttotal: 1m 5s\tremaining: 16.5s\n"
     ]
    },
    {
     "name": "stderr",
     "output_type": "stream",
     "text": [
      "15it [20:57, 83.63s/it]"
     ]
    },
    {
     "name": "stdout",
     "output_type": "stream",
     "text": [
      "4995:\tlearn: 0.0043269\ttotal: 1m 22s\tremaining: 66.2ms\n",
      "4999:\tlearn: 0.0043224\ttotal: 1m 22s\tremaining: 0us\n",
      "fold Loss 14:  0.007357775953831863\n",
      "---------------------------------------------------------------------------\n",
      "Learning rate set to 0.002361\n",
      "0:\tlearn: 0.6890347\ttotal: 25.2ms\tremaining: 2m 6s\n",
      "999:\tlearn: 0.0359960\ttotal: 16.6s\tremaining: 1m 6s\n",
      "1998:\tlearn: 0.0153839\ttotal: 32.9s\tremaining: 49.4s\n",
      "2997:\tlearn: 0.0089291\ttotal: 49.5s\tremaining: 33s\n",
      "3996:\tlearn: 0.0058716\ttotal: 1m 7s\tremaining: 17s\n"
     ]
    },
    {
     "name": "stderr",
     "output_type": "stream",
     "text": [
      "16it [22:22, 84.08s/it]"
     ]
    },
    {
     "name": "stdout",
     "output_type": "stream",
     "text": [
      "4995:\tlearn: 0.0043009\ttotal: 1m 24s\tremaining: 67.5ms\n",
      "4999:\tlearn: 0.0042947\ttotal: 1m 24s\tremaining: 0us\n",
      "fold Loss 15:  0.021526973945097092\n",
      "---------------------------------------------------------------------------\n",
      "Learning rate set to 0.002361\n",
      "0:\tlearn: 0.6890581\ttotal: 32.5ms\tremaining: 2m 42s\n",
      "999:\tlearn: 0.0347452\ttotal: 16.4s\tremaining: 1m 5s\n",
      "1998:\tlearn: 0.0150310\ttotal: 33s\tremaining: 49.5s\n",
      "2997:\tlearn: 0.0085875\ttotal: 49.3s\tremaining: 32.9s\n",
      "3996:\tlearn: 0.0055144\ttotal: 1m 5s\tremaining: 16.5s\n"
     ]
    },
    {
     "name": "stderr",
     "output_type": "stream",
     "text": [
      "17it [23:45, 83.84s/it]"
     ]
    },
    {
     "name": "stdout",
     "output_type": "stream",
     "text": [
      "4995:\tlearn: 0.0041268\ttotal: 1m 22s\tremaining: 66ms\n",
      "4999:\tlearn: 0.0041241\ttotal: 1m 22s\tremaining: 0us\n",
      "fold Loss 16:  0.20359122878482214\n",
      "---------------------------------------------------------------------------\n",
      "Learning rate set to 0.002361\n",
      "0:\tlearn: 0.6888718\ttotal: 26.1ms\tremaining: 2m 10s\n",
      "999:\tlearn: 0.0364287\ttotal: 16.6s\tremaining: 1m 6s\n",
      "1998:\tlearn: 0.0158221\ttotal: 33s\tremaining: 49.6s\n",
      "2997:\tlearn: 0.0091449\ttotal: 49.7s\tremaining: 33.2s\n",
      "3996:\tlearn: 0.0059117\ttotal: 1m 6s\tremaining: 16.6s\n"
     ]
    },
    {
     "name": "stderr",
     "output_type": "stream",
     "text": [
      "18it [25:09, 83.85s/it]"
     ]
    },
    {
     "name": "stdout",
     "output_type": "stream",
     "text": [
      "4995:\tlearn: 0.0042793\ttotal: 1m 22s\tremaining: 66.4ms\n",
      "4999:\tlearn: 0.0042739\ttotal: 1m 23s\tremaining: 0us\n",
      "fold Loss 17:  0.07139540598163553\n",
      "---------------------------------------------------------------------------\n",
      "Learning rate set to 0.002361\n",
      "0:\tlearn: 0.6889169\ttotal: 33.4ms\tremaining: 2m 47s\n",
      "999:\tlearn: 0.0372268\ttotal: 16.4s\tremaining: 1m 5s\n",
      "1998:\tlearn: 0.0158054\ttotal: 32.9s\tremaining: 49.5s\n",
      "2997:\tlearn: 0.0090364\ttotal: 49.4s\tremaining: 33s\n",
      "3996:\tlearn: 0.0058802\ttotal: 1m 5s\tremaining: 16.5s\n"
     ]
    },
    {
     "name": "stderr",
     "output_type": "stream",
     "text": [
      "19it [26:33, 83.71s/it]"
     ]
    },
    {
     "name": "stdout",
     "output_type": "stream",
     "text": [
      "4995:\tlearn: 0.0040398\ttotal: 1m 22s\tremaining: 66ms\n",
      "4999:\tlearn: 0.0040338\ttotal: 1m 22s\tremaining: 0us\n",
      "fold Loss 18:  0.07812498862400304\n",
      "---------------------------------------------------------------------------\n",
      "Learning rate set to 0.002362\n",
      "0:\tlearn: 0.6890776\ttotal: 31.9ms\tremaining: 2m 39s\n",
      "999:\tlearn: 0.0338776\ttotal: 16.3s\tremaining: 1m 5s\n",
      "1998:\tlearn: 0.0144181\ttotal: 32.9s\tremaining: 49.4s\n",
      "2997:\tlearn: 0.0081091\ttotal: 49.1s\tremaining: 32.8s\n",
      "3996:\tlearn: 0.0051736\ttotal: 1m 5s\tremaining: 16.5s\n"
     ]
    },
    {
     "name": "stderr",
     "output_type": "stream",
     "text": [
      "20it [27:56, 83.80s/it]"
     ]
    },
    {
     "name": "stdout",
     "output_type": "stream",
     "text": [
      "4995:\tlearn: 0.0037196\ttotal: 1m 21s\tremaining: 65.6ms\n",
      "4999:\tlearn: 0.0037159\ttotal: 1m 21s\tremaining: 0us\n",
      "fold Loss 19:  0.12489629640208214\n",
      "---------------------------------------------------------------------------\n",
      "Training Loss: 0.009670831880744185\n",
      "Loss for sulfide:\n",
      "0.06767518022912092 0.051596990815316324\n",
      "==================================================================================================\n",
      "AGG Loss: [0.13997203 0.08889311 0.14762875 0.19299808 0.002206   0.14131673\n",
      " 0.19900921 0.16833287 0.16258852 0.06767518]\n",
      "AGG Loss mean: 0.13106204692844592\n"
     ]
    },
    {
     "name": "stderr",
     "output_type": "stream",
     "text": [
      "\n"
     ]
    }
   ],
   "source": [
    "agg_loss = []\n",
    "for target in targets.columns:\n",
    "    print('TARGET ',target)\n",
    "    imp_fts = {}\n",
    "    \n",
    "    #  get all imp coefs for the target\n",
    "    t_100_coefs = get_coefs(t_100,targets[target],1)\n",
    "    g_100_coefs = get_coefs(g_100,targets[target],5)\n",
    "    m_100_coefs = get_coefs(m_100,targets[target],10)\n",
    "    o_100_coefs = get_coefs(train_set_100,targets[target],10)\n",
    "    \n",
    "    imp_fts['o_100_coefs'] = o_100_coefs\n",
    "    imp_fts['t_100_coefs'] = t_100_coefs\n",
    "    imp_fts['g_100_coefs'] = g_100_coefs\n",
    "    imp_fts['m_100_coefs'] = m_100_coefs\n",
    "\n",
    "    # get all imp_dfs and concat them\n",
    "    train_imp_ = train_set_100.iloc[:,o_100_coefs]\n",
    "    t_100_imp_ = t_100.iloc[:,t_100_coefs]\n",
    "    g_100_imp_ = g_100.iloc[:,g_100_coefs]\n",
    "    m_100_imp_ = m_100.iloc[:,m_100_coefs]\n",
    "\n",
    "    print(train_imp_.shape,t_100_imp_.shape,g_100_imp_.shape,m_100_imp_.shape)\n",
    "    X = pd.concat([train_imp_,t_100_imp_,g_100_imp_,m_100_imp_],axis=1)\n",
    "    print(X.shape)\n",
    "\n",
    "    # same goes for test set\n",
    "    test_imp_ = test_set_100.iloc[:,o_100_coefs]\n",
    "    t_100_imp_test = t_100_test.iloc[:,t_100_coefs]\n",
    "    g_100_imp_test = g_100_test.iloc[:,g_100_coefs]\n",
    "    m_100_imp_test = m_100_test.iloc[:,m_100_coefs]\n",
    "\n",
    "    print(test_imp_.shape,t_100_imp_test.shape,g_100_imp_test.shape,m_100_imp_test.shape)\n",
    "    \n",
    "    X_test = pd.concat([test_imp_, t_100_imp_test, g_100_imp_test, m_100_imp_test],axis=1)\n",
    "    print(X_test.shape)\n",
    "    \n",
    "    #  add feature\n",
    "    X['is_sam'] = 0\n",
    "    X.loc[sam_id[:12],'is_sam'] = 1\n",
    "    X_test['is_sam'] = 0\n",
    "    X_test.loc[sam_id[12:],'is_sam'] = 1\n",
    "    \n",
    "    \n",
    "    assert (X.columns == X_test.columns).all()\n",
    "\n",
    "    oof_train = np.zeros((ntrain,))\n",
    "    oof_test = np.zeros((ntest,))\n",
    "    oof_test_skf = np.empty((NFOLDS, ntest))\n",
    "    \n",
    "    Y = targets[target]\n",
    "\n",
    "    cb_clf = CatBoostClassifier(verbose=999,random_seed=RANDOM_SEED,n_estimators=5000)\n",
    "    cv_loss = []\n",
    "    for fold, (train_id, test_id) in enumerate(tqdm(skf.split(X,Y))):\n",
    "\n",
    "        X_train, Y_train = X.iloc[train_id,], Y.iloc[train_id,]\n",
    "        X_val, Y_val = X.iloc[test_id,], Y.iloc[test_id,]\n",
    "        #  ohh man unwanted semi colon in iloc throws an error...\n",
    "        \n",
    "        # train model  and pred on oof folds\n",
    "        cb_clf.fit(X_train.values,Y_train)\n",
    "        y_preds = cb_clf.predict_proba(X_val.values)[:,1]\n",
    "        fold_loss = log_loss(Y_val,y_preds)\n",
    "        print(f'fold Loss {fold}: ',fold_loss)\n",
    "        cv_loss.append(fold_loss)\n",
    "\n",
    "        oof_train[test_id] = y_preds\n",
    "        oof_test_skf[fold,:] = cb_clf.predict_proba(X_test.values)[:,1]\n",
    "        \n",
    "        print(\"---------------------------------------------------------------------------\")\n",
    "        \n",
    "    print('Training Loss:', log_loss(Y,cb_clf.predict_proba(X.values)[:,1]))\n",
    "    \n",
    "    oof_test[:] = oof_test_skf.mean(axis=0)\n",
    "    oof_test_df[target] = oof_test\n",
    "    oof_train_df[target] = oof_train\n",
    "\n",
    "    print(f'Loss for {target}:')\n",
    "    print(np.array(cv_loss).mean(),np.array(cv_loss).std())\n",
    "    agg_loss.append(np.array(cv_loss).mean())\n",
    "    print(\"==================================================================================================\")\n",
    "\n",
    "print('AGG Loss:',np.array(agg_loss))\n",
    "print('AGG Loss mean:',np.array(agg_loss).mean())"
   ]
  },
  {
   "cell_type": "code",
   "execution_count": 28,
   "id": "62164abe",
   "metadata": {
    "execution": {
     "iopub.execute_input": "2022-04-18T02:36:17.900417Z",
     "iopub.status.busy": "2022-04-18T02:36:17.899593Z",
     "iopub.status.idle": "2022-04-18T02:36:17.910967Z",
     "shell.execute_reply": "2022-04-18T02:36:17.911403Z",
     "shell.execute_reply.started": "2022-04-10T12:42:32.882106Z"
    },
    "papermill": {
     "duration": 0.504126,
     "end_time": "2022-04-18T02:36:17.911614",
     "exception": false,
     "start_time": "2022-04-18T02:36:17.407488",
     "status": "completed"
    },
    "tags": []
   },
   "outputs": [
    {
     "name": "stdout",
     "output_type": "stream",
     "text": [
      "0.13106204692844592\n"
     ]
    }
   ],
   "source": [
    "print(np.array(agg_loss).mean())"
   ]
  },
  {
   "cell_type": "code",
   "execution_count": 29,
   "id": "56292c4e",
   "metadata": {
    "execution": {
     "iopub.execute_input": "2022-04-18T02:36:18.891580Z",
     "iopub.status.busy": "2022-04-18T02:36:18.890462Z",
     "iopub.status.idle": "2022-04-18T02:36:18.892834Z",
     "shell.execute_reply": "2022-04-18T02:36:18.893386Z",
     "shell.execute_reply.started": "2022-04-10T12:53:38.204095Z"
    },
    "papermill": {
     "duration": 0.495681,
     "end_time": "2022-04-18T02:36:18.893565",
     "exception": false,
     "start_time": "2022-04-18T02:36:18.397884",
     "status": "completed"
    },
    "tags": []
   },
   "outputs": [],
   "source": [
    "test_preds = oof_test_df.iloc[:293]\n",
    "train_preds = oof_train_df.iloc[766:]"
   ]
  },
  {
   "cell_type": "code",
   "execution_count": 30,
   "id": "0b8b31ad",
   "metadata": {
    "execution": {
     "iopub.execute_input": "2022-04-18T02:36:19.881764Z",
     "iopub.status.busy": "2022-04-18T02:36:19.867220Z",
     "iopub.status.idle": "2022-04-18T02:36:19.937884Z",
     "shell.execute_reply": "2022-04-18T02:36:19.937389Z",
     "shell.execute_reply.started": "2022-04-10T12:53:39.859435Z"
    },
    "papermill": {
     "duration": 0.560266,
     "end_time": "2022-04-18T02:36:19.938059",
     "exception": false,
     "start_time": "2022-04-18T02:36:19.377793",
     "status": "completed"
    },
    "tags": []
   },
   "outputs": [
    {
     "data": {
      "text/html": [
       "<div>\n",
       "<style scoped>\n",
       "    .dataframe tbody tr th:only-of-type {\n",
       "        vertical-align: middle;\n",
       "    }\n",
       "\n",
       "    .dataframe tbody tr th {\n",
       "        vertical-align: top;\n",
       "    }\n",
       "\n",
       "    .dataframe thead th {\n",
       "        text-align: right;\n",
       "    }\n",
       "</style>\n",
       "<table border=\"1\" class=\"dataframe\">\n",
       "  <thead>\n",
       "    <tr style=\"text-align: right;\">\n",
       "      <th></th>\n",
       "      <th>sample_id</th>\n",
       "      <th>basalt</th>\n",
       "      <th>carbonate</th>\n",
       "      <th>chloride</th>\n",
       "      <th>iron_oxide</th>\n",
       "      <th>oxalate</th>\n",
       "      <th>oxychlorine</th>\n",
       "      <th>phyllosilicate</th>\n",
       "      <th>silicate</th>\n",
       "      <th>sulfate</th>\n",
       "      <th>sulfide</th>\n",
       "    </tr>\n",
       "  </thead>\n",
       "  <tbody>\n",
       "    <tr>\n",
       "      <th>766</th>\n",
       "      <td>NaN</td>\n",
       "      <td>0.003193</td>\n",
       "      <td>0.002897</td>\n",
       "      <td>0.015550</td>\n",
       "      <td>0.009789</td>\n",
       "      <td>0.000182</td>\n",
       "      <td>0.005150</td>\n",
       "      <td>0.006472</td>\n",
       "      <td>0.108185</td>\n",
       "      <td>0.004846</td>\n",
       "      <td>0.000816</td>\n",
       "    </tr>\n",
       "    <tr>\n",
       "      <th>767</th>\n",
       "      <td>NaN</td>\n",
       "      <td>0.029573</td>\n",
       "      <td>0.008853</td>\n",
       "      <td>0.002287</td>\n",
       "      <td>0.013788</td>\n",
       "      <td>0.000033</td>\n",
       "      <td>0.005546</td>\n",
       "      <td>0.008074</td>\n",
       "      <td>0.098694</td>\n",
       "      <td>0.015351</td>\n",
       "      <td>0.000516</td>\n",
       "    </tr>\n",
       "    <tr>\n",
       "      <th>768</th>\n",
       "      <td>NaN</td>\n",
       "      <td>0.892622</td>\n",
       "      <td>0.071202</td>\n",
       "      <td>0.001893</td>\n",
       "      <td>0.060718</td>\n",
       "      <td>0.000182</td>\n",
       "      <td>0.006241</td>\n",
       "      <td>0.817725</td>\n",
       "      <td>0.837792</td>\n",
       "      <td>0.034112</td>\n",
       "      <td>0.000738</td>\n",
       "    </tr>\n",
       "    <tr>\n",
       "      <th>769</th>\n",
       "      <td>NaN</td>\n",
       "      <td>0.009336</td>\n",
       "      <td>0.004420</td>\n",
       "      <td>0.047564</td>\n",
       "      <td>0.017432</td>\n",
       "      <td>0.000031</td>\n",
       "      <td>0.971519</td>\n",
       "      <td>0.054724</td>\n",
       "      <td>0.005527</td>\n",
       "      <td>0.964931</td>\n",
       "      <td>0.000534</td>\n",
       "    </tr>\n",
       "    <tr>\n",
       "      <th>770</th>\n",
       "      <td>NaN</td>\n",
       "      <td>0.008925</td>\n",
       "      <td>0.006457</td>\n",
       "      <td>0.017386</td>\n",
       "      <td>0.687841</td>\n",
       "      <td>0.000049</td>\n",
       "      <td>0.987220</td>\n",
       "      <td>0.980517</td>\n",
       "      <td>0.004215</td>\n",
       "      <td>0.006898</td>\n",
       "      <td>0.000481</td>\n",
       "    </tr>\n",
       "    <tr>\n",
       "      <th>...</th>\n",
       "      <td>...</td>\n",
       "      <td>...</td>\n",
       "      <td>...</td>\n",
       "      <td>...</td>\n",
       "      <td>...</td>\n",
       "      <td>...</td>\n",
       "      <td>...</td>\n",
       "      <td>...</td>\n",
       "      <td>...</td>\n",
       "      <td>...</td>\n",
       "      <td>...</td>\n",
       "    </tr>\n",
       "    <tr>\n",
       "      <th>1054</th>\n",
       "      <td>NaN</td>\n",
       "      <td>0.008558</td>\n",
       "      <td>0.003480</td>\n",
       "      <td>0.025862</td>\n",
       "      <td>0.024180</td>\n",
       "      <td>0.000095</td>\n",
       "      <td>0.007059</td>\n",
       "      <td>0.008887</td>\n",
       "      <td>0.055664</td>\n",
       "      <td>0.007074</td>\n",
       "      <td>0.000418</td>\n",
       "    </tr>\n",
       "    <tr>\n",
       "      <th>1055</th>\n",
       "      <td>NaN</td>\n",
       "      <td>0.007671</td>\n",
       "      <td>0.005273</td>\n",
       "      <td>0.009388</td>\n",
       "      <td>0.025789</td>\n",
       "      <td>0.000545</td>\n",
       "      <td>0.029473</td>\n",
       "      <td>0.011934</td>\n",
       "      <td>0.913986</td>\n",
       "      <td>0.003221</td>\n",
       "      <td>0.000547</td>\n",
       "    </tr>\n",
       "    <tr>\n",
       "      <th>1056</th>\n",
       "      <td>NaN</td>\n",
       "      <td>0.003112</td>\n",
       "      <td>0.007354</td>\n",
       "      <td>0.002361</td>\n",
       "      <td>0.013902</td>\n",
       "      <td>0.998160</td>\n",
       "      <td>0.003085</td>\n",
       "      <td>0.006031</td>\n",
       "      <td>0.003393</td>\n",
       "      <td>0.003685</td>\n",
       "      <td>0.000734</td>\n",
       "    </tr>\n",
       "    <tr>\n",
       "      <th>1057</th>\n",
       "      <td>NaN</td>\n",
       "      <td>0.004442</td>\n",
       "      <td>0.915269</td>\n",
       "      <td>0.014756</td>\n",
       "      <td>0.052298</td>\n",
       "      <td>0.000207</td>\n",
       "      <td>0.005183</td>\n",
       "      <td>0.044790</td>\n",
       "      <td>0.008478</td>\n",
       "      <td>0.004019</td>\n",
       "      <td>0.001178</td>\n",
       "    </tr>\n",
       "    <tr>\n",
       "      <th>1058</th>\n",
       "      <td>NaN</td>\n",
       "      <td>0.010937</td>\n",
       "      <td>0.002549</td>\n",
       "      <td>0.008231</td>\n",
       "      <td>0.011463</td>\n",
       "      <td>0.000035</td>\n",
       "      <td>0.004443</td>\n",
       "      <td>0.970786</td>\n",
       "      <td>0.008628</td>\n",
       "      <td>0.004348</td>\n",
       "      <td>0.000432</td>\n",
       "    </tr>\n",
       "  </tbody>\n",
       "</table>\n",
       "<p>293 rows × 11 columns</p>\n",
       "</div>"
      ],
      "text/plain": [
       "     sample_id    basalt  carbonate  chloride  iron_oxide   oxalate  \\\n",
       "766        NaN  0.003193   0.002897  0.015550    0.009789  0.000182   \n",
       "767        NaN  0.029573   0.008853  0.002287    0.013788  0.000033   \n",
       "768        NaN  0.892622   0.071202  0.001893    0.060718  0.000182   \n",
       "769        NaN  0.009336   0.004420  0.047564    0.017432  0.000031   \n",
       "770        NaN  0.008925   0.006457  0.017386    0.687841  0.000049   \n",
       "...        ...       ...        ...       ...         ...       ...   \n",
       "1054       NaN  0.008558   0.003480  0.025862    0.024180  0.000095   \n",
       "1055       NaN  0.007671   0.005273  0.009388    0.025789  0.000545   \n",
       "1056       NaN  0.003112   0.007354  0.002361    0.013902  0.998160   \n",
       "1057       NaN  0.004442   0.915269  0.014756    0.052298  0.000207   \n",
       "1058       NaN  0.010937   0.002549  0.008231    0.011463  0.000035   \n",
       "\n",
       "      oxychlorine  phyllosilicate  silicate   sulfate   sulfide  \n",
       "766      0.005150        0.006472  0.108185  0.004846  0.000816  \n",
       "767      0.005546        0.008074  0.098694  0.015351  0.000516  \n",
       "768      0.006241        0.817725  0.837792  0.034112  0.000738  \n",
       "769      0.971519        0.054724  0.005527  0.964931  0.000534  \n",
       "770      0.987220        0.980517  0.004215  0.006898  0.000481  \n",
       "...           ...             ...       ...       ...       ...  \n",
       "1054     0.007059        0.008887  0.055664  0.007074  0.000418  \n",
       "1055     0.029473        0.011934  0.913986  0.003221  0.000547  \n",
       "1056     0.003085        0.006031  0.003393  0.003685  0.000734  \n",
       "1057     0.005183        0.044790  0.008478  0.004019  0.001178  \n",
       "1058     0.004443        0.970786  0.008628  0.004348  0.000432  \n",
       "\n",
       "[293 rows x 11 columns]"
      ]
     },
     "metadata": {},
     "output_type": "display_data"
    },
    {
     "data": {
      "text/html": [
       "<div>\n",
       "<style scoped>\n",
       "    .dataframe tbody tr th:only-of-type {\n",
       "        vertical-align: middle;\n",
       "    }\n",
       "\n",
       "    .dataframe tbody tr th {\n",
       "        vertical-align: top;\n",
       "    }\n",
       "\n",
       "    .dataframe thead th {\n",
       "        text-align: right;\n",
       "    }\n",
       "</style>\n",
       "<table border=\"1\" class=\"dataframe\">\n",
       "  <thead>\n",
       "    <tr style=\"text-align: right;\">\n",
       "      <th></th>\n",
       "      <th>sample_id</th>\n",
       "      <th>basalt</th>\n",
       "      <th>carbonate</th>\n",
       "      <th>chloride</th>\n",
       "      <th>iron_oxide</th>\n",
       "      <th>oxalate</th>\n",
       "      <th>oxychlorine</th>\n",
       "      <th>phyllosilicate</th>\n",
       "      <th>silicate</th>\n",
       "      <th>sulfate</th>\n",
       "      <th>sulfide</th>\n",
       "    </tr>\n",
       "  </thead>\n",
       "  <tbody>\n",
       "    <tr>\n",
       "      <th>766</th>\n",
       "      <td>NaN</td>\n",
       "      <td>0.003473</td>\n",
       "      <td>0.004000</td>\n",
       "      <td>0.025439</td>\n",
       "      <td>0.012077</td>\n",
       "      <td>0.000179</td>\n",
       "      <td>0.007853</td>\n",
       "      <td>0.006896</td>\n",
       "      <td>0.463736</td>\n",
       "      <td>0.005134</td>\n",
       "      <td>0.000926</td>\n",
       "    </tr>\n",
       "    <tr>\n",
       "      <th>767</th>\n",
       "      <td>NaN</td>\n",
       "      <td>0.059301</td>\n",
       "      <td>0.004705</td>\n",
       "      <td>0.002265</td>\n",
       "      <td>0.016897</td>\n",
       "      <td>0.000042</td>\n",
       "      <td>0.007185</td>\n",
       "      <td>0.013929</td>\n",
       "      <td>0.361482</td>\n",
       "      <td>0.018881</td>\n",
       "      <td>0.000445</td>\n",
       "    </tr>\n",
       "    <tr>\n",
       "      <th>768</th>\n",
       "      <td>NaN</td>\n",
       "      <td>0.588891</td>\n",
       "      <td>0.327919</td>\n",
       "      <td>0.001957</td>\n",
       "      <td>0.113194</td>\n",
       "      <td>0.000220</td>\n",
       "      <td>0.007503</td>\n",
       "      <td>0.422215</td>\n",
       "      <td>0.363081</td>\n",
       "      <td>0.139374</td>\n",
       "      <td>0.000604</td>\n",
       "    </tr>\n",
       "    <tr>\n",
       "      <th>769</th>\n",
       "      <td>NaN</td>\n",
       "      <td>0.015294</td>\n",
       "      <td>0.004956</td>\n",
       "      <td>0.116428</td>\n",
       "      <td>0.017748</td>\n",
       "      <td>0.000034</td>\n",
       "      <td>0.951300</td>\n",
       "      <td>0.123334</td>\n",
       "      <td>0.006232</td>\n",
       "      <td>0.928230</td>\n",
       "      <td>0.000568</td>\n",
       "    </tr>\n",
       "    <tr>\n",
       "      <th>770</th>\n",
       "      <td>NaN</td>\n",
       "      <td>0.008392</td>\n",
       "      <td>0.006979</td>\n",
       "      <td>0.017508</td>\n",
       "      <td>0.152700</td>\n",
       "      <td>0.000035</td>\n",
       "      <td>0.984999</td>\n",
       "      <td>0.974805</td>\n",
       "      <td>0.004703</td>\n",
       "      <td>0.007369</td>\n",
       "      <td>0.000422</td>\n",
       "    </tr>\n",
       "    <tr>\n",
       "      <th>...</th>\n",
       "      <td>...</td>\n",
       "      <td>...</td>\n",
       "      <td>...</td>\n",
       "      <td>...</td>\n",
       "      <td>...</td>\n",
       "      <td>...</td>\n",
       "      <td>...</td>\n",
       "      <td>...</td>\n",
       "      <td>...</td>\n",
       "      <td>...</td>\n",
       "      <td>...</td>\n",
       "    </tr>\n",
       "    <tr>\n",
       "      <th>1054</th>\n",
       "      <td>NaN</td>\n",
       "      <td>0.011520</td>\n",
       "      <td>0.002610</td>\n",
       "      <td>0.015766</td>\n",
       "      <td>0.035431</td>\n",
       "      <td>0.000112</td>\n",
       "      <td>0.008709</td>\n",
       "      <td>0.010923</td>\n",
       "      <td>0.102361</td>\n",
       "      <td>0.010324</td>\n",
       "      <td>0.000366</td>\n",
       "    </tr>\n",
       "    <tr>\n",
       "      <th>1055</th>\n",
       "      <td>NaN</td>\n",
       "      <td>0.011608</td>\n",
       "      <td>0.006984</td>\n",
       "      <td>0.009631</td>\n",
       "      <td>0.037024</td>\n",
       "      <td>0.000838</td>\n",
       "      <td>0.079130</td>\n",
       "      <td>0.016259</td>\n",
       "      <td>0.673542</td>\n",
       "      <td>0.003031</td>\n",
       "      <td>0.000525</td>\n",
       "    </tr>\n",
       "    <tr>\n",
       "      <th>1056</th>\n",
       "      <td>NaN</td>\n",
       "      <td>0.003509</td>\n",
       "      <td>0.010011</td>\n",
       "      <td>0.002625</td>\n",
       "      <td>0.014719</td>\n",
       "      <td>0.998253</td>\n",
       "      <td>0.003012</td>\n",
       "      <td>0.006678</td>\n",
       "      <td>0.003497</td>\n",
       "      <td>0.003968</td>\n",
       "      <td>0.000822</td>\n",
       "    </tr>\n",
       "    <tr>\n",
       "      <th>1057</th>\n",
       "      <td>NaN</td>\n",
       "      <td>0.005368</td>\n",
       "      <td>0.822387</td>\n",
       "      <td>0.016003</td>\n",
       "      <td>0.093122</td>\n",
       "      <td>0.000219</td>\n",
       "      <td>0.008821</td>\n",
       "      <td>0.083688</td>\n",
       "      <td>0.011233</td>\n",
       "      <td>0.004660</td>\n",
       "      <td>0.001082</td>\n",
       "    </tr>\n",
       "    <tr>\n",
       "      <th>1058</th>\n",
       "      <td>NaN</td>\n",
       "      <td>0.010822</td>\n",
       "      <td>0.003028</td>\n",
       "      <td>0.009068</td>\n",
       "      <td>0.011827</td>\n",
       "      <td>0.000038</td>\n",
       "      <td>0.003776</td>\n",
       "      <td>0.958207</td>\n",
       "      <td>0.009760</td>\n",
       "      <td>0.004880</td>\n",
       "      <td>0.000527</td>\n",
       "    </tr>\n",
       "  </tbody>\n",
       "</table>\n",
       "<p>293 rows × 11 columns</p>\n",
       "</div>"
      ],
      "text/plain": [
       "     sample_id    basalt  carbonate  chloride  iron_oxide   oxalate  \\\n",
       "766        NaN  0.003473   0.004000  0.025439    0.012077  0.000179   \n",
       "767        NaN  0.059301   0.004705  0.002265    0.016897  0.000042   \n",
       "768        NaN  0.588891   0.327919  0.001957    0.113194  0.000220   \n",
       "769        NaN  0.015294   0.004956  0.116428    0.017748  0.000034   \n",
       "770        NaN  0.008392   0.006979  0.017508    0.152700  0.000035   \n",
       "...        ...       ...        ...       ...         ...       ...   \n",
       "1054       NaN  0.011520   0.002610  0.015766    0.035431  0.000112   \n",
       "1055       NaN  0.011608   0.006984  0.009631    0.037024  0.000838   \n",
       "1056       NaN  0.003509   0.010011  0.002625    0.014719  0.998253   \n",
       "1057       NaN  0.005368   0.822387  0.016003    0.093122  0.000219   \n",
       "1058       NaN  0.010822   0.003028  0.009068    0.011827  0.000038   \n",
       "\n",
       "      oxychlorine  phyllosilicate  silicate   sulfate   sulfide  \n",
       "766      0.007853        0.006896  0.463736  0.005134  0.000926  \n",
       "767      0.007185        0.013929  0.361482  0.018881  0.000445  \n",
       "768      0.007503        0.422215  0.363081  0.139374  0.000604  \n",
       "769      0.951300        0.123334  0.006232  0.928230  0.000568  \n",
       "770      0.984999        0.974805  0.004703  0.007369  0.000422  \n",
       "...           ...             ...       ...       ...       ...  \n",
       "1054     0.008709        0.010923  0.102361  0.010324  0.000366  \n",
       "1055     0.079130        0.016259  0.673542  0.003031  0.000525  \n",
       "1056     0.003012        0.006678  0.003497  0.003968  0.000822  \n",
       "1057     0.008821        0.083688  0.011233  0.004660  0.001082  \n",
       "1058     0.003776        0.958207  0.009760  0.004880  0.000527  \n",
       "\n",
       "[293 rows x 11 columns]"
      ]
     },
     "metadata": {},
     "output_type": "display_data"
    }
   ],
   "source": [
    "display(test_preds)\n",
    "display(train_preds)"
   ]
  },
  {
   "cell_type": "code",
   "execution_count": 31,
   "id": "93597898",
   "metadata": {
    "execution": {
     "iopub.execute_input": "2022-04-18T02:36:20.954832Z",
     "iopub.status.busy": "2022-04-18T02:36:20.953180Z",
     "iopub.status.idle": "2022-04-18T02:36:20.973727Z",
     "shell.execute_reply": "2022-04-18T02:36:20.974335Z",
     "shell.execute_reply.started": "2022-04-10T12:54:19.41027Z"
    },
    "papermill": {
     "duration": 0.548073,
     "end_time": "2022-04-18T02:36:20.974505",
     "exception": false,
     "start_time": "2022-04-18T02:36:20.426432",
     "status": "completed"
    },
    "tags": []
   },
   "outputs": [
    {
     "name": "stdout",
     "output_type": "stream",
     "text": [
      "basalt 0.15317916301918374\n",
      "carbonate 0.08374686244113039\n",
      "chloride 0.16148070021994967\n",
      "iron_oxide 0.24111868049482257\n",
      "oxalate 0.002181321715375706\n",
      "oxychlorine 0.1271588770337765\n",
      "phyllosilicate 0.1859834055784658\n",
      "silicate 0.15026868116632283\n",
      "sulfate 0.18690946930410945\n",
      "sulfide 0.06566847426709663\n",
      "0.1357695635240233\n"
     ]
    }
   ],
   "source": [
    "agg_loss_train = []\n",
    "for tar in targets.columns:\n",
    "    loss = log_loss(val_labels[tar],train_preds[tar])\n",
    "    print(tar, loss)\n",
    "    agg_loss_train.append(loss)\n",
    "print(np.array(agg_loss_train).mean())"
   ]
  },
  {
   "cell_type": "code",
   "execution_count": 32,
   "id": "4bcfdfca",
   "metadata": {
    "execution": {
     "iopub.execute_input": "2022-04-18T02:36:21.959560Z",
     "iopub.status.busy": "2022-04-18T02:36:21.958473Z",
     "iopub.status.idle": "2022-04-18T02:36:21.976835Z",
     "shell.execute_reply": "2022-04-18T02:36:21.977376Z",
     "shell.execute_reply.started": "2022-04-10T12:55:27.164665Z"
    },
    "papermill": {
     "duration": 0.516547,
     "end_time": "2022-04-18T02:36:21.977548",
     "exception": false,
     "start_time": "2022-04-18T02:36:21.461001",
     "status": "completed"
    },
    "tags": []
   },
   "outputs": [
    {
     "name": "stdout",
     "output_type": "stream",
     "text": [
      "basalt 0.02627257098589483\n",
      "carbonate 0.01671332358895014\n",
      "chloride 0.034156005902406215\n",
      "iron_oxide 0.05420557137860039\n",
      "oxalate 0.0005078751690478948\n",
      "oxychlorine 0.02429283531136425\n",
      "phyllosilicate 0.04571855431198485\n",
      "silicate 0.03667478149997074\n",
      "sulfate 0.02855380279459252\n",
      "sulfide 0.005526227323935548\n",
      "0.02726215482667474\n"
     ]
    }
   ],
   "source": [
    "agg_loss_test = []\n",
    "for tar in targets.columns:\n",
    "    loss = log_loss(val_labels[tar],test_preds[tar])\n",
    "    print(tar, loss)\n",
    "    agg_loss_test.append(loss)\n",
    "print(np.array(agg_loss_test).mean())"
   ]
  },
  {
   "cell_type": "code",
   "execution_count": 33,
   "id": "3c0f0fca",
   "metadata": {
    "execution": {
     "iopub.execute_input": "2022-04-18T02:36:22.956853Z",
     "iopub.status.busy": "2022-04-18T02:36:22.955849Z",
     "iopub.status.idle": "2022-04-18T02:36:22.966870Z",
     "shell.execute_reply": "2022-04-18T02:36:22.967413Z",
     "shell.execute_reply.started": "2022-04-10T12:55:36.984829Z"
    },
    "papermill": {
     "duration": 0.502885,
     "end_time": "2022-04-18T02:36:22.967603",
     "exception": false,
     "start_time": "2022-04-18T02:36:22.464718",
     "status": "completed"
    },
    "tags": []
   },
   "outputs": [],
   "source": [
    "oof_test_df.sample_id = metadata[metadata.split != 'train'].sample_id\n",
    "oof_train_df.sample_id = metadata[metadata.split != 'test'].sample_id"
   ]
  },
  {
   "cell_type": "code",
   "execution_count": 34,
   "id": "62c94dd7",
   "metadata": {
    "execution": {
     "iopub.execute_input": "2022-04-18T02:36:23.947599Z",
     "iopub.status.busy": "2022-04-18T02:36:23.946885Z",
     "iopub.status.idle": "2022-04-18T02:36:23.991194Z",
     "shell.execute_reply": "2022-04-18T02:36:23.991680Z",
     "shell.execute_reply.started": "2022-04-10T12:55:53.300665Z"
    },
    "papermill": {
     "duration": 0.537643,
     "end_time": "2022-04-18T02:36:23.991867",
     "exception": false,
     "start_time": "2022-04-18T02:36:23.454224",
     "status": "completed"
    },
    "tags": []
   },
   "outputs": [],
   "source": [
    "oof_train_df.to_csv('oof_train_100_20fold_5kest.csv', index=False)\n",
    "oof_test_df.to_csv('oof_test_100_20fold_5kest.csv', index=False)"
   ]
  },
  {
   "cell_type": "code",
   "execution_count": null,
   "id": "02d88bdd",
   "metadata": {
    "papermill": {
     "duration": 0.489261,
     "end_time": "2022-04-18T02:36:24.969524",
     "exception": false,
     "start_time": "2022-04-18T02:36:24.480263",
     "status": "completed"
    },
    "tags": []
   },
   "outputs": [],
   "source": []
  }
 ],
 "metadata": {
  "kernelspec": {
   "display_name": "Python 3",
   "language": "python",
   "name": "python3"
  },
  "language_info": {
   "codemirror_mode": {
    "name": "ipython",
    "version": 3
   },
   "file_extension": ".py",
   "mimetype": "text/x-python",
   "name": "python",
   "nbconvert_exporter": "python",
   "pygments_lexer": "ipython3",
   "version": "3.7.12"
  },
  "papermill": {
   "default_parameters": {},
   "duration": 22247.892242,
   "end_time": "2022-04-18T02:36:27.303370",
   "environment_variables": {},
   "exception": null,
   "input_path": "__notebook__.ipynb",
   "output_path": "__notebook__.ipynb",
   "parameters": {},
   "start_time": "2022-04-17T20:25:39.411128",
   "version": "2.3.3"
  }
 },
 "nbformat": 4,
 "nbformat_minor": 5
}
