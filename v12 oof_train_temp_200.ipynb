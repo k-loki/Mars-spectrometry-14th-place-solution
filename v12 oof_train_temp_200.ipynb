{
 "cells": [
  {
   "cell_type": "code",
   "execution_count": 3,
   "id": "4ad5b154",
   "metadata": {
    "execution": {
     "iopub.execute_input": "2022-04-18T03:32:02.886838Z",
     "iopub.status.busy": "2022-04-18T03:32:02.886155Z",
     "iopub.status.idle": "2022-04-18T03:32:06.966065Z",
     "shell.execute_reply": "2022-04-18T03:32:06.965499Z",
     "shell.execute_reply.started": "2022-04-17T20:04:33.827434Z"
    },
    "papermill": {
     "duration": 4.119709,
     "end_time": "2022-04-18T03:32:06.966225",
     "exception": false,
     "start_time": "2022-04-18T03:32:02.846516",
     "status": "completed"
    },
    "tags": []
   },
   "outputs": [
    {
     "data": {
      "text/html": [
       "<style type='text/css'>\n",
       ".datatable table.frame { margin-bottom: 0; }\n",
       ".datatable table.frame thead { border-bottom: none; }\n",
       ".datatable table.frame tr.coltypes td {  color: #FFFFFF;  line-height: 6px;  padding: 0 0.5em;}\n",
       ".datatable .bool    { background: #DDDD99; }\n",
       ".datatable .object  { background: #565656; }\n",
       ".datatable .int     { background: #5D9E5D; }\n",
       ".datatable .float   { background: #4040CC; }\n",
       ".datatable .str     { background: #CC4040; }\n",
       ".datatable .time    { background: #40CC40; }\n",
       ".datatable .row_index {  background: var(--jp-border-color3);  border-right: 1px solid var(--jp-border-color0);  color: var(--jp-ui-font-color3);  font-size: 9px;}\n",
       ".datatable .frame tbody td { text-align: left; }\n",
       ".datatable .frame tr.coltypes .row_index {  background: var(--jp-border-color0);}\n",
       ".datatable th:nth-child(2) { padding-left: 12px; }\n",
       ".datatable .hellipsis {  color: var(--jp-cell-editor-border-color);}\n",
       ".datatable .vellipsis {  background: var(--jp-layout-color0);  color: var(--jp-cell-editor-border-color);}\n",
       ".datatable .na {  color: var(--jp-cell-editor-border-color);  font-size: 80%;}\n",
       ".datatable .sp {  opacity: 0.25;}\n",
       ".datatable .footer { font-size: 9px; }\n",
       ".datatable .frame_dimensions {  background: var(--jp-border-color3);  border-top: 1px solid var(--jp-border-color0);  color: var(--jp-ui-font-color3);  display: inline-block;  opacity: 0.6;  padding: 1px 10px 1px 5px;}\n",
       "</style>\n"
      ],
      "text/plain": [
       "<IPython.core.display.HTML object>"
      ]
     },
     "metadata": {},
     "output_type": "display_data"
    }
   ],
   "source": [
    "import pandas as pd\n",
    "import pandas_profiling\n",
    "import numpy as np\n",
    "import matplotlib.pyplot as plt\n",
    "%matplotlib inline\n",
    "import seaborn as sns\n",
    "from tqdm import tqdm\n",
    "\n",
    "from sklearn.preprocessing import QuantileTransformer, PowerTransformer\n",
    "from sklearn.metrics import make_scorer, log_loss\n",
    "from sklearn.model_selection import StratifiedKFold, cross_val_score\n",
    "from sklearn.ensemble import HistGradientBoostingClassifier\n",
    "from sklearn.linear_model import LogisticRegression\n",
    "from sklearn.calibration import CalibratedClassifierCV, calibration_curve\n",
    "\n",
    "from catboost import CatBoostClassifier\n",
    "from xgboost import XGBClassifier\n",
    "from lightgbm import LGBMClassifier\n",
    "\n",
    "RANDOM_SEED = 777\n",
    "np.random.seed(RANDOM_SEED)\n",
    "np.random.SeedSequence(RANDOM_SEED)\n",
    "import warnings\n",
    "warnings.filterwarnings('ignore')\n",
    "import os\n",
    "os.environ['PYTHONHASHSEED'] = str(RANDOM_SEED)"
   ]
  },
  {
   "cell_type": "code",
   "execution_count": 4,
   "id": "e0b0278a",
   "metadata": {
    "execution": {
     "iopub.execute_input": "2022-04-18T03:32:07.045874Z",
     "iopub.status.busy": "2022-04-18T03:32:07.045179Z",
     "iopub.status.idle": "2022-04-18T03:32:07.104773Z",
     "shell.execute_reply": "2022-04-18T03:32:07.104160Z",
     "shell.execute_reply.started": "2022-04-17T20:04:38.011624Z"
    },
    "papermill": {
     "duration": 0.101919,
     "end_time": "2022-04-18T03:32:07.104930",
     "exception": false,
     "start_time": "2022-04-18T03:32:07.003011",
     "status": "completed"
    },
    "tags": []
   },
   "outputs": [],
   "source": [
    "metadata = pd.read_csv('../input/is-this-crazy/metadata.csv')\n",
    "sup_metadata = pd.read_csv('../input/is-this-crazy/supplemental_metadata.csv')\n",
    "train_labels = pd.read_csv('../input/is-this-crazy/train_labels.csv', index_col=\"sample_id\")\n",
    "val_labels = pd.read_csv('../input/is-this-crazy/val_labels.csv',index_col='sample_id')\n",
    "# targets = pd.read_csv('targets.csv',index_col='sample_id')\n",
    "submission_format = pd.read_csv('../input/is-this-crazy/submission_format.csv')"
   ]
  },
  {
   "cell_type": "code",
   "execution_count": 5,
   "id": "d785a012",
   "metadata": {
    "execution": {
     "iopub.execute_input": "2022-04-18T03:32:07.183839Z",
     "iopub.status.busy": "2022-04-18T03:32:07.183158Z",
     "iopub.status.idle": "2022-04-18T03:32:07.190941Z",
     "shell.execute_reply": "2022-04-18T03:32:07.190295Z",
     "shell.execute_reply.started": "2022-04-17T20:04:40.73729Z"
    },
    "papermill": {
     "duration": 0.048178,
     "end_time": "2022-04-18T03:32:07.191086",
     "exception": false,
     "start_time": "2022-04-18T03:32:07.142908",
     "status": "completed"
    },
    "tags": []
   },
   "outputs": [
    {
     "data": {
      "text/plain": [
       "(1059, 10)"
      ]
     },
     "execution_count": 5,
     "metadata": {},
     "output_type": "execute_result"
    }
   ],
   "source": [
    "targets = pd.concat([train_labels,val_labels],axis=0)\n",
    "targets.shape"
   ]
  },
  {
   "cell_type": "code",
   "execution_count": 6,
   "id": "6ffbc0f3",
   "metadata": {
    "execution": {
     "iopub.execute_input": "2022-04-18T03:32:07.272641Z",
     "iopub.status.busy": "2022-04-18T03:32:07.272007Z",
     "iopub.status.idle": "2022-04-18T03:32:07.277351Z",
     "shell.execute_reply": "2022-04-18T03:32:07.276850Z",
     "shell.execute_reply.started": "2022-04-17T20:18:55.508163Z"
    },
    "papermill": {
     "duration": 0.047935,
     "end_time": "2022-04-18T03:32:07.277512",
     "exception": false,
     "start_time": "2022-04-18T03:32:07.229577",
     "status": "completed"
    },
    "tags": []
   },
   "outputs": [],
   "source": [
    "sam_id = metadata[metadata.instrument_type == 'sam_testbed'].index"
   ]
  },
  {
   "cell_type": "code",
   "execution_count": 7,
   "id": "990be0bc",
   "metadata": {
    "execution": {
     "iopub.execute_input": "2022-04-18T03:32:07.355541Z",
     "iopub.status.busy": "2022-04-18T03:32:07.354858Z",
     "iopub.status.idle": "2022-04-18T03:32:07.357535Z",
     "shell.execute_reply": "2022-04-18T03:32:07.357024Z"
    },
    "papermill": {
     "duration": 0.043576,
     "end_time": "2022-04-18T03:32:07.357680",
     "exception": false,
     "start_time": "2022-04-18T03:32:07.314104",
     "status": "completed"
    },
    "tags": []
   },
   "outputs": [],
   "source": [
    "# only change the data sets here...\n",
    "train_path = '../input/ms-gen-train-test-data/train_temp_200.csv'\n",
    "test_path =  '../input/ms-gen-train-test-data/test_temp_200.csv'\n",
    "val_path = '../input/ms-gen-train-test-data/val_temp_200.csv'"
   ]
  },
  {
   "cell_type": "code",
   "execution_count": 8,
   "id": "74496450",
   "metadata": {
    "execution": {
     "iopub.execute_input": "2022-04-18T03:32:07.436664Z",
     "iopub.status.busy": "2022-04-18T03:32:07.435692Z",
     "iopub.status.idle": "2022-04-18T03:32:07.437569Z",
     "shell.execute_reply": "2022-04-18T03:32:07.438229Z"
    },
    "papermill": {
     "duration": 0.043954,
     "end_time": "2022-04-18T03:32:07.438448",
     "exception": false,
     "start_time": "2022-04-18T03:32:07.394494",
     "status": "completed"
    },
    "tags": []
   },
   "outputs": [],
   "source": [
    "oof_train_path = 'oof_train_temp_200.csv'\n",
    "oof_test_path = 'oof_test_temp_200.csv'"
   ]
  },
  {
   "cell_type": "code",
   "execution_count": 9,
   "id": "4129e167",
   "metadata": {
    "execution": {
     "iopub.execute_input": "2022-04-18T03:32:07.520200Z",
     "iopub.status.busy": "2022-04-18T03:32:07.519519Z",
     "iopub.status.idle": "2022-04-18T03:32:08.417366Z",
     "shell.execute_reply": "2022-04-18T03:32:08.416292Z",
     "shell.execute_reply.started": "2022-04-17T20:04:40.977339Z"
    },
    "papermill": {
     "duration": 0.942104,
     "end_time": "2022-04-18T03:32:08.417662",
     "exception": false,
     "start_time": "2022-04-18T03:32:07.475558",
     "status": "completed"
    },
    "tags": []
   },
   "outputs": [
    {
     "name": "stdout",
     "output_type": "stream",
     "text": [
      "CPU times: user 539 ms, sys: 84.1 ms, total: 624 ms\n",
      "Wall time: 893 ms\n"
     ]
    }
   ],
   "source": [
    "%%time\n",
    "test_100 = pd.read_csv(test_path,index_col=0,header=[0,1])\n",
    "train_100 = pd.read_csv(train_path,index_col=0,header=[0,1])\n",
    "val_100 = pd.read_csv(val_path,index_col=0,header=[0,1])\n",
    "\n",
    "val_100.index = metadata[metadata.split == 'val'].sample_id\n",
    "\n",
    "val_100.sort_index(inplace=True,axis=1)\n",
    "test_100.sort_index(inplace=True,axis=1)\n",
    "train_100.sort_index(inplace=True,axis=1)"
   ]
  },
  {
   "cell_type": "code",
   "execution_count": 10,
   "id": "3dcfbe2b",
   "metadata": {
    "execution": {
     "iopub.execute_input": "2022-04-18T03:32:08.498640Z",
     "iopub.status.busy": "2022-04-18T03:32:08.497828Z",
     "iopub.status.idle": "2022-04-18T03:32:08.501014Z",
     "shell.execute_reply": "2022-04-18T03:32:08.501556Z",
     "shell.execute_reply.started": "2022-04-17T20:04:45.29289Z"
    },
    "papermill": {
     "duration": 0.044693,
     "end_time": "2022-04-18T03:32:08.501731",
     "exception": false,
     "start_time": "2022-04-18T03:32:08.457038",
     "status": "completed"
    },
    "tags": []
   },
   "outputs": [],
   "source": [
    "# train_100.drop(columns=[('sample_id_encoded', 'Unnamed: 1601_level_1')],axis=1,inplace=True)"
   ]
  },
  {
   "cell_type": "code",
   "execution_count": 11,
   "id": "3ab0c5ff",
   "metadata": {
    "execution": {
     "iopub.execute_input": "2022-04-18T03:32:08.581945Z",
     "iopub.status.busy": "2022-04-18T03:32:08.581231Z",
     "iopub.status.idle": "2022-04-18T03:32:08.597466Z",
     "shell.execute_reply": "2022-04-18T03:32:08.596795Z",
     "shell.execute_reply.started": "2022-04-17T20:04:45.557946Z"
    },
    "papermill": {
     "duration": 0.058691,
     "end_time": "2022-04-18T03:32:08.597623",
     "exception": false,
     "start_time": "2022-04-18T03:32:08.538932",
     "status": "completed"
    },
    "tags": []
   },
   "outputs": [
    {
     "data": {
      "text/plain": [
       "((1059, 1000), (804, 1000))"
      ]
     },
     "execution_count": 11,
     "metadata": {},
     "output_type": "execute_result"
    }
   ],
   "source": [
    "train_set_100 = pd.concat([train_100,val_100],axis=0)\n",
    "test_set_100 = pd.concat([val_100,test_100],axis=0)\n",
    "train_set_100.shape, test_set_100.shape"
   ]
  },
  {
   "cell_type": "code",
   "execution_count": 12,
   "id": "d46c737e",
   "metadata": {
    "execution": {
     "iopub.execute_input": "2022-04-18T03:32:08.679118Z",
     "iopub.status.busy": "2022-04-18T03:32:08.678451Z",
     "iopub.status.idle": "2022-04-18T03:32:08.682129Z",
     "shell.execute_reply": "2022-04-18T03:32:08.682695Z",
     "shell.execute_reply.started": "2022-04-17T20:05:02.932691Z"
    },
    "papermill": {
     "duration": 0.047106,
     "end_time": "2022-04-18T03:32:08.682886",
     "exception": false,
     "start_time": "2022-04-18T03:32:08.635780",
     "status": "completed"
    },
    "tags": []
   },
   "outputs": [],
   "source": [
    "skf = StratifiedKFold(n_splits=20,random_state=RANDOM_SEED,shuffle=True)\n",
    "log_loss_scorer = make_scorer(log_loss,needs_proba=True)"
   ]
  },
  {
   "cell_type": "code",
   "execution_count": 13,
   "id": "922f5b35",
   "metadata": {
    "execution": {
     "iopub.execute_input": "2022-04-18T03:32:08.761964Z",
     "iopub.status.busy": "2022-04-18T03:32:08.761280Z",
     "iopub.status.idle": "2022-04-18T03:32:08.768562Z",
     "shell.execute_reply": "2022-04-18T03:32:08.769172Z",
     "shell.execute_reply.started": "2022-04-17T20:05:03.33246Z"
    },
    "papermill": {
     "duration": 0.048518,
     "end_time": "2022-04-18T03:32:08.769360",
     "exception": false,
     "start_time": "2022-04-18T03:32:08.720842",
     "status": "completed"
    },
    "tags": []
   },
   "outputs": [
    {
     "data": {
      "text/plain": [
       "LogisticRegression(C=10, penalty='l1', random_state=777, solver='liblinear')"
      ]
     },
     "execution_count": 13,
     "metadata": {},
     "output_type": "execute_result"
    }
   ],
   "source": [
    "phy = 'phyllosilicate'\n",
    "bas = 'basalt'\n",
    "lr = LogisticRegression(solver='liblinear',C=10,random_state=RANDOM_SEED,penalty='l1')\n",
    "lr"
   ]
  },
  {
   "cell_type": "code",
   "execution_count": 14,
   "id": "8f4e0364",
   "metadata": {
    "execution": {
     "iopub.execute_input": "2022-04-18T03:32:08.850330Z",
     "iopub.status.busy": "2022-04-18T03:32:08.849654Z",
     "iopub.status.idle": "2022-04-18T03:32:08.856105Z",
     "shell.execute_reply": "2022-04-18T03:32:08.856662Z",
     "shell.execute_reply.started": "2022-04-17T20:05:12.678976Z"
    },
    "papermill": {
     "duration": 0.048163,
     "end_time": "2022-04-18T03:32:08.856920",
     "exception": false,
     "start_time": "2022-04-18T03:32:08.808757",
     "status": "completed"
    },
    "tags": []
   },
   "outputs": [],
   "source": [
    "def get_coefs(X,y,c):\n",
    "    lr = LogisticRegression(solver='liblinear',C=c,random_state=RANDOM_SEED,penalty='l1')\n",
    "    print(cross_val_score(lr,X,y,cv=skf,scoring=log_loss_scorer).mean())\n",
    "    lr.fit(X,y)\n",
    "    # print(log_loss(y,lr.predict_proba(X)))\n",
    "    coefs =  lr.coef_\n",
    "    coefs_list  = []\n",
    "    for id,wt in enumerate(tqdm(coefs[0])):\n",
    "        if wt != 0:\n",
    "            coefs_list.append(id)\n",
    "    print(len(coefs_list))\n",
    "    return coefs_list"
   ]
  },
  {
   "cell_type": "code",
   "execution_count": 15,
   "id": "cb73276d",
   "metadata": {
    "execution": {
     "iopub.execute_input": "2022-04-18T03:32:08.937583Z",
     "iopub.status.busy": "2022-04-18T03:32:08.936827Z",
     "iopub.status.idle": "2022-04-18T03:32:08.941548Z",
     "shell.execute_reply": "2022-04-18T03:32:08.942075Z",
     "shell.execute_reply.started": "2022-04-17T20:05:12.848008Z"
    },
    "papermill": {
     "duration": 0.046436,
     "end_time": "2022-04-18T03:32:08.942249",
     "exception": false,
     "start_time": "2022-04-18T03:32:08.895813",
     "status": "completed"
    },
    "tags": []
   },
   "outputs": [],
   "source": [
    "def get_mz(mz,df):\n",
    "    ''' returns list of columns for given mz'''\n",
    "    cols_list = []\n",
    "    for col in df.columns:\n",
    "        if col[0] == str(mz):\n",
    "            cols_list.append(col)\n",
    "    return cols_list"
   ]
  },
  {
   "cell_type": "code",
   "execution_count": 16,
   "id": "fadb2b73",
   "metadata": {
    "execution": {
     "iopub.execute_input": "2022-04-18T03:32:09.024298Z",
     "iopub.status.busy": "2022-04-18T03:32:09.023653Z",
     "iopub.status.idle": "2022-04-18T03:32:09.029201Z",
     "shell.execute_reply": "2022-04-18T03:32:09.029805Z",
     "shell.execute_reply.started": "2022-04-17T20:05:13.498441Z"
    },
    "papermill": {
     "duration": 0.047961,
     "end_time": "2022-04-18T03:32:09.029999",
     "exception": false,
     "start_time": "2022-04-18T03:32:08.982038",
     "status": "completed"
    },
    "tags": []
   },
   "outputs": [],
   "source": [
    "def get_total_abundance(df):\n",
    "    ''' returns total abundance for each sample'''\n",
    "    tot_abund_df = pd.DataFrame(index=df.index)\n",
    "    tot_abund_df['tot_abund'] = df.sum(axis=1)\n",
    "    for mz in tqdm(range(0,100)):\n",
    "        tot_abund_df[f\"tot_abund_{mz}\"] = df[get_mz(mz,df)].sum(axis=1)\n",
    "    print(tot_abund_df.shape)\n",
    "    return tot_abund_df"
   ]
  },
  {
   "cell_type": "code",
   "execution_count": 17,
   "id": "e45d9dd0",
   "metadata": {
    "execution": {
     "iopub.execute_input": "2022-04-18T03:32:09.110457Z",
     "iopub.status.busy": "2022-04-18T03:32:09.109715Z",
     "iopub.status.idle": "2022-04-18T03:32:09.116652Z",
     "shell.execute_reply": "2022-04-18T03:32:09.117120Z",
     "shell.execute_reply.started": "2022-04-17T20:05:15.108258Z"
    },
    "papermill": {
     "duration": 0.048496,
     "end_time": "2022-04-18T03:32:09.117298",
     "exception": false,
     "start_time": "2022-04-18T03:32:09.068802",
     "status": "completed"
    },
    "tags": []
   },
   "outputs": [],
   "source": [
    "def get_grads(df,bin_size=5):\n",
    "    ''' returns gradients for each mz'''\n",
    "    grad_df = pd.DataFrame(index=df.index)\n",
    "    for mz in tqdm(range(0,100)):\n",
    "        df_mz = df.loc[:,get_mz(mz,df)]\n",
    "        # df_mz_col1 = df_mz.iloc[:,0].values\n",
    "        df_mz = df_mz.diff(axis=1)\n",
    "        # df_mz.iloc[:,0] = df_mz_col1\n",
    "        df_mz.dropna(axis='columns',inplace=True)\n",
    "        # df_mz = df_mz/bin_size\n",
    "        df_mz.columns = [col[0]+ '_' + col[1] + '_' + 'grad' for col in df_mz.columns]\n",
    "        grad_df = pd.concat([grad_df,df_mz],axis=1)\n",
    "    print(grad_df.shape)\n",
    "\n",
    "    return  grad_df"
   ]
  },
  {
   "cell_type": "code",
   "execution_count": 18,
   "id": "8ae0954a",
   "metadata": {
    "execution": {
     "iopub.execute_input": "2022-04-18T03:32:09.198629Z",
     "iopub.status.busy": "2022-04-18T03:32:09.197922Z",
     "iopub.status.idle": "2022-04-18T03:32:09.203638Z",
     "shell.execute_reply": "2022-04-18T03:32:09.204159Z",
     "shell.execute_reply.started": "2022-04-17T20:05:15.907891Z"
    },
    "papermill": {
     "duration": 0.048759,
     "end_time": "2022-04-18T03:32:09.204342",
     "exception": false,
     "start_time": "2022-04-18T03:32:09.155583",
     "status": "completed"
    },
    "tags": []
   },
   "outputs": [],
   "source": [
    "def get_mean_std(df):\n",
    "    ''' returns mean and std for each mz'''\n",
    "    mean_std_df = pd.DataFrame(index=df.index)\n",
    "    for mz in tqdm(range(0,100)):\n",
    "        df_mz = df.loc[:,get_mz(mz,df)]\n",
    "        df_mz[f'{mz}_mean'] = df_mz.mean(axis=1)\n",
    "        df_mz[f'{mz}_std'] = df_mz.std(axis=1)\n",
    "        mean_std_df = pd.concat([mean_std_df,df_mz],axis=1)\n",
    "    print(mean_std_df.shape)\n",
    "    return mean_std_df"
   ]
  },
  {
   "cell_type": "code",
   "execution_count": 19,
   "id": "ededfe0f",
   "metadata": {
    "execution": {
     "iopub.execute_input": "2022-04-18T03:32:09.285240Z",
     "iopub.status.busy": "2022-04-18T03:32:09.284537Z",
     "iopub.status.idle": "2022-04-18T03:32:09.287584Z",
     "shell.execute_reply": "2022-04-18T03:32:09.288068Z",
     "shell.execute_reply.started": "2022-04-17T20:05:16.81838Z"
    },
    "papermill": {
     "duration": 0.044472,
     "end_time": "2022-04-18T03:32:09.288235",
     "exception": false,
     "start_time": "2022-04-18T03:32:09.243763",
     "status": "completed"
    },
    "tags": []
   },
   "outputs": [],
   "source": [
    "# def add_fts(df):\n",
    "#     tot_abund_df = get_total_abundance(df)\n",
    "#     grad_df = get_grads(df)\n",
    "#     mean_std_df = get_mean_std(df)\n",
    "#     new_df = pd.concat([tot_abund_df,grad_df,mean_std_df],axis=1)\n",
    "#     return new_df"
   ]
  },
  {
   "cell_type": "code",
   "execution_count": 20,
   "id": "3cf3b433",
   "metadata": {
    "execution": {
     "iopub.execute_input": "2022-04-18T03:32:09.367600Z",
     "iopub.status.busy": "2022-04-18T03:32:09.366905Z",
     "iopub.status.idle": "2022-04-18T03:32:09.371925Z",
     "shell.execute_reply": "2022-04-18T03:32:09.372471Z",
     "shell.execute_reply.started": "2022-04-17T20:05:19.717821Z"
    },
    "papermill": {
     "duration": 0.046429,
     "end_time": "2022-04-18T03:32:09.372643",
     "exception": false,
     "start_time": "2022-04-18T03:32:09.326214",
     "status": "completed"
    },
    "tags": []
   },
   "outputs": [
    {
     "data": {
      "text/plain": [
       "((1059, 1000), (804, 1000))"
      ]
     },
     "execution_count": 20,
     "metadata": {},
     "output_type": "execute_result"
    }
   ],
   "source": [
    "train_set_100.shape, test_set_100.shape"
   ]
  },
  {
   "cell_type": "code",
   "execution_count": 21,
   "id": "5b3da78f",
   "metadata": {
    "execution": {
     "iopub.execute_input": "2022-04-18T03:32:09.453727Z",
     "iopub.status.busy": "2022-04-18T03:32:09.453048Z",
     "iopub.status.idle": "2022-04-18T03:32:09.457342Z",
     "shell.execute_reply": "2022-04-18T03:32:09.457876Z",
     "shell.execute_reply.started": "2022-04-17T20:17:45.984539Z"
    },
    "papermill": {
     "duration": 0.046721,
     "end_time": "2022-04-18T03:32:09.458090",
     "exception": false,
     "start_time": "2022-04-18T03:32:09.411369",
     "status": "completed"
    },
    "tags": []
   },
   "outputs": [],
   "source": [
    "assert (train_set_100.columns == test_set_100.columns).all()"
   ]
  },
  {
   "cell_type": "code",
   "execution_count": 22,
   "id": "3049a648",
   "metadata": {
    "execution": {
     "iopub.execute_input": "2022-04-18T03:32:09.539523Z",
     "iopub.status.busy": "2022-04-18T03:32:09.538838Z",
     "iopub.status.idle": "2022-04-18T03:32:12.062071Z",
     "shell.execute_reply": "2022-04-18T03:32:12.062618Z",
     "shell.execute_reply.started": "2022-04-17T20:17:54.088738Z"
    },
    "papermill": {
     "duration": 2.565548,
     "end_time": "2022-04-18T03:32:12.062800",
     "exception": false,
     "start_time": "2022-04-18T03:32:09.497252",
     "status": "completed"
    },
    "tags": []
   },
   "outputs": [
    {
     "name": "stderr",
     "output_type": "stream",
     "text": [
      "100%|██████████| 100/100 [00:00<00:00, 233.26it/s]\n"
     ]
    },
    {
     "name": "stdout",
     "output_type": "stream",
     "text": [
      "(1059, 101)\n"
     ]
    },
    {
     "name": "stderr",
     "output_type": "stream",
     "text": [
      "100%|██████████| 100/100 [00:01<00:00, 92.41it/s]\n"
     ]
    },
    {
     "name": "stdout",
     "output_type": "stream",
     "text": [
      "(1059, 900)\n"
     ]
    },
    {
     "name": "stderr",
     "output_type": "stream",
     "text": [
      "100%|██████████| 100/100 [00:00<00:00, 101.56it/s]"
     ]
    },
    {
     "name": "stdout",
     "output_type": "stream",
     "text": [
      "(1059, 1200)\n"
     ]
    },
    {
     "name": "stderr",
     "output_type": "stream",
     "text": [
      "\n"
     ]
    }
   ],
   "source": [
    "t_100 = get_total_abundance(train_set_100)\n",
    "g_100 = get_grads(train_set_100)\n",
    "m_100 = get_mean_std(train_set_100)"
   ]
  },
  {
   "cell_type": "code",
   "execution_count": 23,
   "id": "1397318b",
   "metadata": {
    "execution": {
     "iopub.execute_input": "2022-04-18T03:32:12.174850Z",
     "iopub.status.busy": "2022-04-18T03:32:12.173677Z",
     "iopub.status.idle": "2022-04-18T03:32:14.547463Z",
     "shell.execute_reply": "2022-04-18T03:32:14.546908Z",
     "shell.execute_reply.started": "2022-04-17T20:17:56.330876Z"
    },
    "papermill": {
     "duration": 2.433497,
     "end_time": "2022-04-18T03:32:14.547610",
     "exception": false,
     "start_time": "2022-04-18T03:32:12.114113",
     "status": "completed"
    },
    "tags": []
   },
   "outputs": [
    {
     "name": "stderr",
     "output_type": "stream",
     "text": [
      "100%|██████████| 100/100 [00:00<00:00, 240.05it/s]\n"
     ]
    },
    {
     "name": "stdout",
     "output_type": "stream",
     "text": [
      "(804, 101)\n"
     ]
    },
    {
     "name": "stderr",
     "output_type": "stream",
     "text": [
      "100%|██████████| 100/100 [00:01<00:00, 99.55it/s]\n"
     ]
    },
    {
     "name": "stdout",
     "output_type": "stream",
     "text": [
      "(804, 900)\n"
     ]
    },
    {
     "name": "stderr",
     "output_type": "stream",
     "text": [
      "100%|██████████| 100/100 [00:00<00:00, 107.10it/s]"
     ]
    },
    {
     "name": "stdout",
     "output_type": "stream",
     "text": [
      "(804, 1200)\n"
     ]
    },
    {
     "name": "stderr",
     "output_type": "stream",
     "text": [
      "\n"
     ]
    }
   ],
   "source": [
    "t_100_test = get_total_abundance(test_set_100)\n",
    "g_100_test = get_grads(test_set_100)\n",
    "m_100_test = get_mean_std(test_set_100)\n"
   ]
  },
  {
   "cell_type": "code",
   "execution_count": 24,
   "id": "e875c11d",
   "metadata": {
    "execution": {
     "iopub.execute_input": "2022-04-18T03:32:14.680575Z",
     "iopub.status.busy": "2022-04-18T03:32:14.679860Z",
     "iopub.status.idle": "2022-04-18T03:32:14.730691Z",
     "shell.execute_reply": "2022-04-18T03:32:14.730071Z",
     "shell.execute_reply.started": "2022-04-17T20:17:58.471549Z"
    },
    "papermill": {
     "duration": 0.119039,
     "end_time": "2022-04-18T03:32:14.730839",
     "exception": false,
     "start_time": "2022-04-18T03:32:14.611800",
     "status": "completed"
    },
    "tags": []
   },
   "outputs": [],
   "source": [
    "t_100_test.sort_index(inplace=True,axis=1)\n",
    "t_100.sort_index(inplace=True,axis=1)\n",
    "\n",
    "m_100_test.sort_index(inplace=True,axis=1)\n",
    "m_100.sort_index(inplace=True,axis=1)\n",
    "\n",
    "g_100_test.sort_index(inplace=True,axis=1)\n",
    "g_100.sort_index(inplace=True,axis=1)"
   ]
  },
  {
   "cell_type": "code",
   "execution_count": 25,
   "id": "7714a939",
   "metadata": {
    "execution": {
     "iopub.execute_input": "2022-04-18T03:32:14.864279Z",
     "iopub.status.busy": "2022-04-18T03:32:14.863535Z",
     "iopub.status.idle": "2022-04-18T03:32:14.866679Z",
     "shell.execute_reply": "2022-04-18T03:32:14.866100Z",
     "shell.execute_reply.started": "2022-04-17T20:18:06.298361Z"
    },
    "papermill": {
     "duration": 0.073122,
     "end_time": "2022-04-18T03:32:14.866838",
     "exception": false,
     "start_time": "2022-04-18T03:32:14.793716",
     "status": "completed"
    },
    "tags": []
   },
   "outputs": [],
   "source": [
    "assert (t_100.columns == t_100_test.columns).all()\n",
    "assert (g_100.columns == g_100_test.columns).all()\n",
    "assert (m_100.columns == m_100_test.columns).all()"
   ]
  },
  {
   "cell_type": "code",
   "execution_count": 26,
   "id": "0c65d65f",
   "metadata": {
    "execution": {
     "iopub.execute_input": "2022-04-18T03:32:14.996611Z",
     "iopub.status.busy": "2022-04-18T03:32:14.995878Z",
     "iopub.status.idle": "2022-04-18T03:32:14.998406Z",
     "shell.execute_reply": "2022-04-18T03:32:14.997900Z",
     "shell.execute_reply.started": "2022-04-17T20:18:06.998448Z"
    },
    "papermill": {
     "duration": 0.068448,
     "end_time": "2022-04-18T03:32:14.998557",
     "exception": false,
     "start_time": "2022-04-18T03:32:14.930109",
     "status": "completed"
    },
    "tags": [],
    "vscode": {
     "languageId": "perl"
    }
   },
   "outputs": [],
   "source": [
    "ntrain = 1059\n",
    "ntest = 804\n",
    "NFOLDS = 20"
   ]
  },
  {
   "cell_type": "code",
   "execution_count": 27,
   "id": "e4c83ed6",
   "metadata": {
    "execution": {
     "iopub.execute_input": "2022-04-18T03:32:15.131704Z",
     "iopub.status.busy": "2022-04-18T03:32:15.130680Z",
     "iopub.status.idle": "2022-04-18T03:32:15.138829Z",
     "shell.execute_reply": "2022-04-18T03:32:15.139290Z",
     "shell.execute_reply.started": "2022-04-17T20:18:09.733556Z"
    },
    "papermill": {
     "duration": 0.077503,
     "end_time": "2022-04-18T03:32:15.139517",
     "exception": false,
     "start_time": "2022-04-18T03:32:15.062014",
     "status": "completed"
    },
    "tags": [],
    "vscode": {
     "languageId": "perl"
    }
   },
   "outputs": [],
   "source": [
    "oof_train_df = pd.DataFrame(index=metadata[metadata.split != 'test'].index, columns=['sample_id',*targets.columns])\n",
    "oof_test_df = pd.DataFrame(index=metadata[metadata.split != 'train'].index, columns=['sample_id',*targets.columns])"
   ]
  },
  {
   "cell_type": "code",
   "execution_count": 28,
   "id": "3e0c3eb7",
   "metadata": {
    "execution": {
     "iopub.execute_input": "2022-04-18T03:32:15.287287Z",
     "iopub.status.busy": "2022-04-18T03:32:15.286517Z",
     "iopub.status.idle": "2022-04-18T09:46:55.085884Z",
     "shell.execute_reply": "2022-04-18T09:46:55.082620Z"
    },
    "papermill": {
     "duration": 22479.885084,
     "end_time": "2022-04-18T09:46:55.086142",
     "exception": false,
     "start_time": "2022-04-18T03:32:15.201058",
     "status": "completed"
    },
    "tags": []
   },
   "outputs": [
    {
     "name": "stdout",
     "output_type": "stream",
     "text": [
      "TARGET  basalt\n",
      "0.2968182236100406\n"
     ]
    },
    {
     "name": "stderr",
     "output_type": "stream",
     "text": [
      "100%|██████████| 101/101 [00:00<00:00, 426610.98it/s]"
     ]
    },
    {
     "name": "stdout",
     "output_type": "stream",
     "text": [
      "22\n"
     ]
    },
    {
     "name": "stderr",
     "output_type": "stream",
     "text": [
      "\n"
     ]
    },
    {
     "name": "stdout",
     "output_type": "stream",
     "text": [
      "0.2983079227821478\n"
     ]
    },
    {
     "name": "stderr",
     "output_type": "stream",
     "text": [
      "100%|██████████| 900/900 [00:00<00:00, 638186.58it/s]"
     ]
    },
    {
     "name": "stdout",
     "output_type": "stream",
     "text": [
      "42\n"
     ]
    },
    {
     "name": "stderr",
     "output_type": "stream",
     "text": [
      "\n"
     ]
    },
    {
     "name": "stdout",
     "output_type": "stream",
     "text": [
      "0.2631311244083596\n"
     ]
    },
    {
     "name": "stderr",
     "output_type": "stream",
     "text": [
      "100%|██████████| 1200/1200 [00:00<00:00, 685437.12it/s]\n"
     ]
    },
    {
     "name": "stdout",
     "output_type": "stream",
     "text": [
      "59\n",
      "0.26593557851841965\n"
     ]
    },
    {
     "name": "stderr",
     "output_type": "stream",
     "text": [
      "100%|██████████| 1000/1000 [00:00<00:00, 673243.02it/s]\n"
     ]
    },
    {
     "name": "stdout",
     "output_type": "stream",
     "text": [
      "55\n",
      "(1059, 55) (1059, 22) (1059, 42) (1059, 59)\n",
      "(1059, 178)\n",
      "(804, 55) (804, 22) (804, 42) (804, 59)\n",
      "(804, 178)\n"
     ]
    },
    {
     "name": "stderr",
     "output_type": "stream",
     "text": [
      "0it [00:00, ?it/s]"
     ]
    },
    {
     "name": "stdout",
     "output_type": "stream",
     "text": [
      "Learning rate set to 0.002361\n",
      "0:\tlearn: 0.6903597\ttotal: 89.3ms\tremaining: 7m 26s\n",
      "999:\tlearn: 0.1317995\ttotal: 22.4s\tremaining: 1m 29s\n",
      "1998:\tlearn: 0.0717941\ttotal: 44.5s\tremaining: 1m 6s\n",
      "2997:\tlearn: 0.0447697\ttotal: 1m 7s\tremaining: 44.8s\n",
      "3996:\tlearn: 0.0292264\ttotal: 1m 29s\tremaining: 22.5s\n",
      "4995:\tlearn: 0.0194664\ttotal: 1m 51s\tremaining: 89.4ms\n",
      "4999:\tlearn: 0.0194366\ttotal: 1m 51s\tremaining: 0us\n"
     ]
    },
    {
     "name": "stderr",
     "output_type": "stream",
     "text": [
      "1it [01:52, 112.55s/it]"
     ]
    },
    {
     "name": "stdout",
     "output_type": "stream",
     "text": [
      "fold Loss 0:  0.11190992260526067\n",
      "---------------------------------------------------------------------------\n",
      "Learning rate set to 0.002361\n",
      "0:\tlearn: 0.6903843\ttotal: 44.5ms\tremaining: 3m 42s\n",
      "999:\tlearn: 0.1302482\ttotal: 22.5s\tremaining: 1m 30s\n",
      "1998:\tlearn: 0.0696890\ttotal: 45s\tremaining: 1m 7s\n",
      "2997:\tlearn: 0.0431111\ttotal: 1m 7s\tremaining: 44.8s\n",
      "3996:\tlearn: 0.0272684\ttotal: 1m 29s\tremaining: 22.4s\n"
     ]
    },
    {
     "name": "stderr",
     "output_type": "stream",
     "text": [
      "2it [03:45, 112.70s/it]"
     ]
    },
    {
     "name": "stdout",
     "output_type": "stream",
     "text": [
      "4995:\tlearn: 0.0182038\ttotal: 1m 51s\tremaining: 89.6ms\n",
      "4999:\tlearn: 0.0181763\ttotal: 1m 51s\tremaining: 0us\n",
      "fold Loss 1:  0.16430935191936294\n",
      "---------------------------------------------------------------------------\n",
      "Learning rate set to 0.002361\n",
      "0:\tlearn: 0.6905421\ttotal: 35.3ms\tremaining: 2m 56s\n",
      "999:\tlearn: 0.1348142\ttotal: 22.2s\tremaining: 1m 28s\n",
      "1998:\tlearn: 0.0743987\ttotal: 45.1s\tremaining: 1m 7s\n",
      "2997:\tlearn: 0.0465111\ttotal: 1m 9s\tremaining: 46.1s\n",
      "3996:\tlearn: 0.0303829\ttotal: 1m 31s\tremaining: 23s\n"
     ]
    },
    {
     "name": "stderr",
     "output_type": "stream",
     "text": [
      "3it [05:40, 113.67s/it]"
     ]
    },
    {
     "name": "stdout",
     "output_type": "stream",
     "text": [
      "4995:\tlearn: 0.0205613\ttotal: 1m 53s\tremaining: 91.2ms\n",
      "4999:\tlearn: 0.0205321\ttotal: 1m 54s\tremaining: 0us\n",
      "fold Loss 2:  0.12185956276097475\n",
      "---------------------------------------------------------------------------\n",
      "Learning rate set to 0.002361\n",
      "0:\tlearn: 0.6904105\ttotal: 69.7ms\tremaining: 5m 48s\n",
      "999:\tlearn: 0.1333546\ttotal: 23.1s\tremaining: 1m 32s\n",
      "1998:\tlearn: 0.0721407\ttotal: 46.2s\tremaining: 1m 9s\n",
      "2997:\tlearn: 0.0451871\ttotal: 1m 9s\tremaining: 46.1s\n",
      "3996:\tlearn: 0.0294101\ttotal: 1m 32s\tremaining: 23.1s\n"
     ]
    },
    {
     "name": "stderr",
     "output_type": "stream",
     "text": [
      "4it [07:36, 114.71s/it]"
     ]
    },
    {
     "name": "stdout",
     "output_type": "stream",
     "text": [
      "4995:\tlearn: 0.0195187\ttotal: 1m 55s\tremaining: 92.4ms\n",
      "4999:\tlearn: 0.0194901\ttotal: 1m 55s\tremaining: 0us\n",
      "fold Loss 3:  0.06860169743616948\n",
      "---------------------------------------------------------------------------\n",
      "Learning rate set to 0.002361\n",
      "0:\tlearn: 0.6906656\ttotal: 36.5ms\tremaining: 3m 2s\n",
      "999:\tlearn: 0.1335217\ttotal: 22.9s\tremaining: 1m 31s\n",
      "1998:\tlearn: 0.0716358\ttotal: 46.4s\tremaining: 1m 9s\n",
      "2997:\tlearn: 0.0444571\ttotal: 1m 9s\tremaining: 46.6s\n",
      "3996:\tlearn: 0.0288870\ttotal: 1m 32s\tremaining: 23.3s\n"
     ]
    },
    {
     "name": "stderr",
     "output_type": "stream",
     "text": [
      "5it [09:32, 115.33s/it]"
     ]
    },
    {
     "name": "stdout",
     "output_type": "stream",
     "text": [
      "4995:\tlearn: 0.0197758\ttotal: 1m 55s\tremaining: 92.5ms\n",
      "4999:\tlearn: 0.0197584\ttotal: 1m 55s\tremaining: 0us\n",
      "fold Loss 4:  0.06121672030140315\n",
      "---------------------------------------------------------------------------\n",
      "Learning rate set to 0.002361\n",
      "0:\tlearn: 0.6903440\ttotal: 46ms\tremaining: 3m 50s\n",
      "999:\tlearn: 0.1323663\ttotal: 23s\tremaining: 1m 31s\n",
      "1998:\tlearn: 0.0717955\ttotal: 45.9s\tremaining: 1m 8s\n",
      "2997:\tlearn: 0.0450008\ttotal: 1m 8s\tremaining: 45.6s\n",
      "3996:\tlearn: 0.0294279\ttotal: 1m 31s\tremaining: 22.9s\n"
     ]
    },
    {
     "name": "stderr",
     "output_type": "stream",
     "text": [
      "6it [11:27, 115.17s/it]"
     ]
    },
    {
     "name": "stdout",
     "output_type": "stream",
     "text": [
      "4995:\tlearn: 0.0202956\ttotal: 1m 53s\tremaining: 91.2ms\n",
      "4999:\tlearn: 0.0202723\ttotal: 1m 54s\tremaining: 0us\n",
      "fold Loss 5:  0.12053879373563499\n",
      "---------------------------------------------------------------------------\n",
      "Learning rate set to 0.002361\n",
      "0:\tlearn: 0.6906697\ttotal: 35.4ms\tremaining: 2m 57s\n",
      "999:\tlearn: 0.1300352\ttotal: 22.4s\tremaining: 1m 29s\n",
      "1998:\tlearn: 0.0701603\ttotal: 45.2s\tremaining: 1m 7s\n",
      "2997:\tlearn: 0.0440006\ttotal: 1m 7s\tremaining: 45.4s\n",
      "3996:\tlearn: 0.0290314\ttotal: 1m 30s\tremaining: 22.8s\n"
     ]
    },
    {
     "name": "stderr",
     "output_type": "stream",
     "text": [
      "7it [13:21, 114.84s/it]"
     ]
    },
    {
     "name": "stdout",
     "output_type": "stream",
     "text": [
      "4995:\tlearn: 0.0204206\ttotal: 1m 53s\tremaining: 90.7ms\n",
      "4999:\tlearn: 0.0204002\ttotal: 1m 53s\tremaining: 0us\n",
      "fold Loss 6:  0.17130761204324252\n",
      "---------------------------------------------------------------------------\n",
      "Learning rate set to 0.002361\n",
      "0:\tlearn: 0.6903042\ttotal: 46.7ms\tremaining: 3m 53s\n",
      "999:\tlearn: 0.1334732\ttotal: 23s\tremaining: 1m 31s\n",
      "1998:\tlearn: 0.0716653\ttotal: 45.7s\tremaining: 1m 8s\n",
      "2997:\tlearn: 0.0444688\ttotal: 1m 8s\tremaining: 45.6s\n",
      "3996:\tlearn: 0.0283858\ttotal: 1m 32s\tremaining: 23.2s\n",
      "4995:\tlearn: 0.0190950\ttotal: 1m 55s\tremaining: 92.4ms\n",
      "4999:\tlearn: 0.0190714\ttotal: 1m 55s\tremaining: 0us\n"
     ]
    },
    {
     "name": "stderr",
     "output_type": "stream",
     "text": [
      "8it [15:18, 115.31s/it]"
     ]
    },
    {
     "name": "stdout",
     "output_type": "stream",
     "text": [
      "fold Loss 7:  0.09088802708783496\n",
      "---------------------------------------------------------------------------\n",
      "Learning rate set to 0.002361\n",
      "0:\tlearn: 0.6904223\ttotal: 36.9ms\tremaining: 3m 4s\n",
      "999:\tlearn: 0.1306411\ttotal: 22.8s\tremaining: 1m 31s\n",
      "1998:\tlearn: 0.0709989\ttotal: 45.8s\tremaining: 1m 8s\n",
      "2997:\tlearn: 0.0439962\ttotal: 1m 8s\tremaining: 45.9s\n",
      "3996:\tlearn: 0.0283448\ttotal: 1m 31s\tremaining: 23.1s\n"
     ]
    },
    {
     "name": "stderr",
     "output_type": "stream",
     "text": [
      "9it [17:13, 115.40s/it]"
     ]
    },
    {
     "name": "stdout",
     "output_type": "stream",
     "text": [
      "4995:\tlearn: 0.0193302\ttotal: 1m 54s\tremaining: 91.8ms\n",
      "4999:\tlearn: 0.0193056\ttotal: 1m 54s\tremaining: 0us\n",
      "fold Loss 8:  0.1545087692256616\n",
      "---------------------------------------------------------------------------\n",
      "Learning rate set to 0.002361\n",
      "0:\tlearn: 0.6906724\ttotal: 47.3ms\tremaining: 3m 56s\n",
      "999:\tlearn: 0.1329754\ttotal: 23.4s\tremaining: 1m 33s\n",
      "1998:\tlearn: 0.0718074\ttotal: 46.5s\tremaining: 1m 9s\n",
      "2997:\tlearn: 0.0446420\ttotal: 1m 9s\tremaining: 46.4s\n",
      "3996:\tlearn: 0.0284209\ttotal: 1m 32s\tremaining: 23.1s\n",
      "4995:\tlearn: 0.0188798\ttotal: 1m 55s\tremaining: 92.2ms\n",
      "4999:\tlearn: 0.0188500\ttotal: 1m 55s\tremaining: 0us\n",
      "fold Loss 9:  0.13315749461904852\n"
     ]
    },
    {
     "name": "stderr",
     "output_type": "stream",
     "text": [
      "10it [19:09, 115.60s/it]"
     ]
    },
    {
     "name": "stdout",
     "output_type": "stream",
     "text": [
      "---------------------------------------------------------------------------\n",
      "Learning rate set to 0.002361\n",
      "0:\tlearn: 0.6902896\ttotal: 36.6ms\tremaining: 3m 2s\n",
      "999:\tlearn: 0.1327786\ttotal: 23.2s\tremaining: 1m 32s\n",
      "1998:\tlearn: 0.0719528\ttotal: 46.3s\tremaining: 1m 9s\n",
      "2997:\tlearn: 0.0448836\ttotal: 1m 9s\tremaining: 46.4s\n",
      "3996:\tlearn: 0.0289365\ttotal: 1m 32s\tremaining: 23.2s\n",
      "4995:\tlearn: 0.0194046\ttotal: 1m 55s\tremaining: 92.4ms\n",
      "4999:\tlearn: 0.0193821\ttotal: 1m 55s\tremaining: 0us\n"
     ]
    },
    {
     "name": "stderr",
     "output_type": "stream",
     "text": [
      "11it [21:06, 115.82s/it]"
     ]
    },
    {
     "name": "stdout",
     "output_type": "stream",
     "text": [
      "fold Loss 10:  0.13376208233174552\n",
      "---------------------------------------------------------------------------\n",
      "Learning rate set to 0.002361\n",
      "0:\tlearn: 0.6907012\ttotal: 72.4ms\tremaining: 6m 2s\n",
      "999:\tlearn: 0.1338973\ttotal: 23.1s\tremaining: 1m 32s\n",
      "1998:\tlearn: 0.0726501\ttotal: 46.1s\tremaining: 1m 9s\n",
      "2997:\tlearn: 0.0450706\ttotal: 1m 9s\tremaining: 46.1s\n",
      "3996:\tlearn: 0.0290350\ttotal: 1m 31s\tremaining: 23s\n",
      "4995:\tlearn: 0.0193609\ttotal: 1m 54s\tremaining: 91.9ms\n",
      "4999:\tlearn: 0.0193408\ttotal: 1m 54s\tremaining: 0us\n",
      "fold Loss 11:  0.06256977191371971\n"
     ]
    },
    {
     "name": "stderr",
     "output_type": "stream",
     "text": [
      "12it [23:01, 115.81s/it]"
     ]
    },
    {
     "name": "stdout",
     "output_type": "stream",
     "text": [
      "---------------------------------------------------------------------------\n",
      "Learning rate set to 0.002361\n",
      "0:\tlearn: 0.6905838\ttotal: 36ms\tremaining: 3m\n",
      "999:\tlearn: 0.1309588\ttotal: 23s\tremaining: 1m 32s\n",
      "1998:\tlearn: 0.0702902\ttotal: 45.7s\tremaining: 1m 8s\n",
      "2997:\tlearn: 0.0434012\ttotal: 1m 8s\tremaining: 45.8s\n",
      "3996:\tlearn: 0.0277580\ttotal: 1m 31s\tremaining: 23s\n"
     ]
    },
    {
     "name": "stderr",
     "output_type": "stream",
     "text": [
      "13it [24:57, 115.60s/it]"
     ]
    },
    {
     "name": "stdout",
     "output_type": "stream",
     "text": [
      "4995:\tlearn: 0.0183546\ttotal: 1m 54s\tremaining: 91.4ms\n",
      "4999:\tlearn: 0.0183324\ttotal: 1m 54s\tremaining: 0us\n",
      "fold Loss 12:  0.16332343943442415\n",
      "---------------------------------------------------------------------------\n",
      "Learning rate set to 0.002361\n",
      "0:\tlearn: 0.6906014\ttotal: 53.3ms\tremaining: 4m 26s\n",
      "999:\tlearn: 0.1357860\ttotal: 23.1s\tremaining: 1m 32s\n",
      "1998:\tlearn: 0.0738027\ttotal: 46.1s\tremaining: 1m 9s\n",
      "2997:\tlearn: 0.0459100\ttotal: 1m 9s\tremaining: 46.1s\n",
      "3996:\tlearn: 0.0298622\ttotal: 1m 31s\tremaining: 23s\n"
     ]
    },
    {
     "name": "stderr",
     "output_type": "stream",
     "text": [
      "14it [26:52, 115.59s/it]"
     ]
    },
    {
     "name": "stdout",
     "output_type": "stream",
     "text": [
      "4995:\tlearn: 0.0204019\ttotal: 1m 54s\tremaining: 91.8ms\n",
      "4999:\tlearn: 0.0203861\ttotal: 1m 54s\tremaining: 0us\n",
      "fold Loss 13:  0.028279664305828105\n",
      "---------------------------------------------------------------------------\n",
      "Learning rate set to 0.002361\n",
      "0:\tlearn: 0.6904244\ttotal: 36.8ms\tremaining: 3m 3s\n",
      "999:\tlearn: 0.1336485\ttotal: 23s\tremaining: 1m 32s\n",
      "1998:\tlearn: 0.0729305\ttotal: 46.1s\tremaining: 1m 9s\n",
      "2997:\tlearn: 0.0456458\ttotal: 1m 9s\tremaining: 46.4s\n",
      "3996:\tlearn: 0.0299791\ttotal: 1m 32s\tremaining: 23.3s\n",
      "4995:\tlearn: 0.0209739\ttotal: 1m 56s\tremaining: 92.9ms\n",
      "4999:\tlearn: 0.0209495\ttotal: 1m 56s\tremaining: 0us\n"
     ]
    },
    {
     "name": "stderr",
     "output_type": "stream",
     "text": [
      "15it [28:49, 116.03s/it]"
     ]
    },
    {
     "name": "stdout",
     "output_type": "stream",
     "text": [
      "fold Loss 14:  0.0701601134514169\n",
      "---------------------------------------------------------------------------\n",
      "Learning rate set to 0.002361\n",
      "0:\tlearn: 0.6905220\ttotal: 49.2ms\tremaining: 4m 5s\n",
      "999:\tlearn: 0.1285557\ttotal: 22.9s\tremaining: 1m 31s\n",
      "1998:\tlearn: 0.0688240\ttotal: 46.3s\tremaining: 1m 9s\n",
      "2997:\tlearn: 0.0431353\ttotal: 1m 9s\tremaining: 46.5s\n",
      "3996:\tlearn: 0.0277496\ttotal: 1m 32s\tremaining: 23.2s\n",
      "4995:\tlearn: 0.0189234\ttotal: 1m 55s\tremaining: 92.7ms\n",
      "4999:\tlearn: 0.0188988\ttotal: 1m 55s\tremaining: 0us\n",
      "fold Loss 15:  0.2689825515971312\n"
     ]
    },
    {
     "name": "stderr",
     "output_type": "stream",
     "text": [
      "16it [30:46, 116.24s/it]"
     ]
    },
    {
     "name": "stdout",
     "output_type": "stream",
     "text": [
      "---------------------------------------------------------------------------\n",
      "Learning rate set to 0.002361\n",
      "0:\tlearn: 0.6904488\ttotal: 36.6ms\tremaining: 3m 3s\n",
      "999:\tlearn: 0.1300598\ttotal: 23.7s\tremaining: 1m 34s\n",
      "1998:\tlearn: 0.0676194\ttotal: 47s\tremaining: 1m 10s\n",
      "2997:\tlearn: 0.0407445\ttotal: 1m 10s\tremaining: 46.9s\n",
      "3996:\tlearn: 0.0256646\ttotal: 1m 33s\tremaining: 23.5s\n",
      "4995:\tlearn: 0.0171589\ttotal: 1m 56s\tremaining: 93.6ms\n",
      "4999:\tlearn: 0.0171299\ttotal: 1m 57s\tremaining: 0us\n",
      "fold Loss 16:  0.2185763951155755\n"
     ]
    },
    {
     "name": "stderr",
     "output_type": "stream",
     "text": [
      "17it [32:44, 116.75s/it]"
     ]
    },
    {
     "name": "stdout",
     "output_type": "stream",
     "text": [
      "---------------------------------------------------------------------------\n",
      "Learning rate set to 0.002361\n",
      "0:\tlearn: 0.6906330\ttotal: 46.8ms\tremaining: 3m 53s\n",
      "999:\tlearn: 0.1315108\ttotal: 23s\tremaining: 1m 31s\n",
      "1998:\tlearn: 0.0711692\ttotal: 46.4s\tremaining: 1m 9s\n",
      "2997:\tlearn: 0.0448649\ttotal: 1m 9s\tremaining: 46.7s\n",
      "3996:\tlearn: 0.0290899\ttotal: 1m 32s\tremaining: 23.3s\n",
      "4995:\tlearn: 0.0194365\ttotal: 1m 56s\tremaining: 93ms\n",
      "4999:\tlearn: 0.0194083\ttotal: 1m 56s\tremaining: 0us\n",
      "fold Loss 17:  0.167435139818699\n"
     ]
    },
    {
     "name": "stderr",
     "output_type": "stream",
     "text": [
      "18it [34:41, 116.87s/it]"
     ]
    },
    {
     "name": "stdout",
     "output_type": "stream",
     "text": [
      "---------------------------------------------------------------------------\n",
      "Learning rate set to 0.002361\n",
      "0:\tlearn: 0.6906678\ttotal: 36.3ms\tremaining: 3m 1s\n",
      "999:\tlearn: 0.1291839\ttotal: 23.2s\tremaining: 1m 32s\n",
      "1998:\tlearn: 0.0690661\ttotal: 46.6s\tremaining: 1m 9s\n",
      "2997:\tlearn: 0.0427109\ttotal: 1m 9s\tremaining: 46.4s\n",
      "3996:\tlearn: 0.0280951\ttotal: 1m 32s\tremaining: 23.3s\n",
      "4995:\tlearn: 0.0187412\ttotal: 1m 56s\tremaining: 93.2ms\n",
      "4999:\tlearn: 0.0187117\ttotal: 1m 56s\tremaining: 0us\n",
      "fold Loss 18:  0.22124037698229365\n"
     ]
    },
    {
     "name": "stderr",
     "output_type": "stream",
     "text": [
      "19it [36:38, 117.01s/it]"
     ]
    },
    {
     "name": "stdout",
     "output_type": "stream",
     "text": [
      "---------------------------------------------------------------------------\n",
      "Learning rate set to 0.002362\n",
      "0:\tlearn: 0.6907158\ttotal: 48ms\tremaining: 3m 59s\n",
      "999:\tlearn: 0.1331415\ttotal: 23s\tremaining: 1m 31s\n",
      "1998:\tlearn: 0.0715460\ttotal: 46.2s\tremaining: 1m 9s\n",
      "2997:\tlearn: 0.0444065\ttotal: 1m 9s\tremaining: 46.3s\n",
      "3996:\tlearn: 0.0285518\ttotal: 1m 32s\tremaining: 23.2s\n",
      "4995:\tlearn: 0.0191114\ttotal: 1m 55s\tremaining: 92.1ms\n",
      "4999:\tlearn: 0.0190861\ttotal: 1m 55s\tremaining: 0us\n",
      "fold Loss 19:  0.107521582381679\n",
      "---------------------------------------------------------------------------"
     ]
    },
    {
     "name": "stderr",
     "output_type": "stream",
     "text": [
      "20it [38:34, 115.75s/it]"
     ]
    },
    {
     "name": "stdout",
     "output_type": "stream",
     "text": [
      "\n",
      "Training Loss: 0.023445642520271988\n",
      "Loss for basalt:\n",
      "0.13200745345335532 0.05954823851546944\n",
      "==================================================================================================\n",
      "TARGET  carbonate\n"
     ]
    },
    {
     "name": "stderr",
     "output_type": "stream",
     "text": [
      "\n"
     ]
    },
    {
     "name": "stdout",
     "output_type": "stream",
     "text": [
      "0.29373013156703426\n"
     ]
    },
    {
     "name": "stderr",
     "output_type": "stream",
     "text": [
      "100%|██████████| 101/101 [00:00<00:00, 425326.01it/s]\n"
     ]
    },
    {
     "name": "stdout",
     "output_type": "stream",
     "text": [
      "22\n",
      "0.2542243006811106\n"
     ]
    },
    {
     "name": "stderr",
     "output_type": "stream",
     "text": [
      "100%|██████████| 900/900 [00:00<00:00, 699309.67it/s]"
     ]
    },
    {
     "name": "stdout",
     "output_type": "stream",
     "text": [
      "41\n"
     ]
    },
    {
     "name": "stderr",
     "output_type": "stream",
     "text": [
      "\n"
     ]
    },
    {
     "name": "stdout",
     "output_type": "stream",
     "text": [
      "0.22674786289568508\n"
     ]
    },
    {
     "name": "stderr",
     "output_type": "stream",
     "text": [
      "100%|██████████| 1200/1200 [00:00<00:00, 745654.04it/s]\n"
     ]
    },
    {
     "name": "stdout",
     "output_type": "stream",
     "text": [
      "57\n",
      "0.2576218653643217\n"
     ]
    },
    {
     "name": "stderr",
     "output_type": "stream",
     "text": [
      "100%|██████████| 1000/1000 [00:00<00:00, 761908.08it/s]\n"
     ]
    },
    {
     "name": "stdout",
     "output_type": "stream",
     "text": [
      "62\n",
      "(1059, 62) (1059, 22) (1059, 41) (1059, 57)\n",
      "(1059, 182)\n",
      "(804, 62) (804, 22) (804, 41) (804, 57)\n",
      "(804, 182)\n"
     ]
    },
    {
     "name": "stderr",
     "output_type": "stream",
     "text": [
      "0it [00:00, ?it/s]"
     ]
    },
    {
     "name": "stdout",
     "output_type": "stream",
     "text": [
      "Learning rate set to 0.002361\n",
      "0:\tlearn: 0.6902396\ttotal: 42.5ms\tremaining: 3m 32s\n",
      "999:\tlearn: 0.0946611\ttotal: 23.8s\tremaining: 1m 35s\n",
      "1998:\tlearn: 0.0455267\ttotal: 47.1s\tremaining: 1m 10s\n",
      "2997:\tlearn: 0.0268901\ttotal: 1m 10s\tremaining: 47.2s\n",
      "3996:\tlearn: 0.0172797\ttotal: 1m 34s\tremaining: 23.7s\n",
      "4995:\tlearn: 0.0114372\ttotal: 1m 58s\tremaining: 94.6ms\n",
      "4999:\tlearn: 0.0114199\ttotal: 1m 58s\tremaining: 0us\n",
      "fold Loss 0:  0.041376754285715286\n"
     ]
    },
    {
     "name": "stderr",
     "output_type": "stream",
     "text": [
      "1it [01:59, 119.08s/it]"
     ]
    },
    {
     "name": "stdout",
     "output_type": "stream",
     "text": [
      "---------------------------------------------------------------------------\n",
      "Learning rate set to 0.002361\n",
      "0:\tlearn: 0.6902299\ttotal: 48.7ms\tremaining: 4m 3s\n",
      "999:\tlearn: 0.0923089\ttotal: 23.4s\tremaining: 1m 33s\n",
      "1998:\tlearn: 0.0445945\ttotal: 46.9s\tremaining: 1m 10s\n",
      "2997:\tlearn: 0.0267024\ttotal: 1m 10s\tremaining: 47s\n",
      "3996:\tlearn: 0.0175718\ttotal: 1m 33s\tremaining: 23.5s\n",
      "4995:\tlearn: 0.0124459\ttotal: 1m 56s\tremaining: 93.6ms\n",
      "4999:\tlearn: 0.0124308\ttotal: 1m 56s\tremaining: 0us\n",
      "fold Loss 1:  0.13443298004070062\n"
     ]
    },
    {
     "name": "stderr",
     "output_type": "stream",
     "text": [
      "2it [03:56, 118.34s/it]"
     ]
    },
    {
     "name": "stdout",
     "output_type": "stream",
     "text": [
      "---------------------------------------------------------------------------\n",
      "Learning rate set to 0.002361\n",
      "0:\tlearn: 0.6903658\ttotal: 37.2ms\tremaining: 3m 5s\n",
      "999:\tlearn: 0.0924251\ttotal: 23.5s\tremaining: 1m 33s\n",
      "1998:\tlearn: 0.0428391\ttotal: 47s\tremaining: 1m 10s\n",
      "2997:\tlearn: 0.0249094\ttotal: 1m 10s\tremaining: 46.8s\n",
      "3996:\tlearn: 0.0164501\ttotal: 1m 33s\tremaining: 23.5s\n"
     ]
    },
    {
     "name": "stderr",
     "output_type": "stream",
     "text": [
      "3it [05:54, 118.17s/it]"
     ]
    },
    {
     "name": "stdout",
     "output_type": "stream",
     "text": [
      "4995:\tlearn: 0.0119608\ttotal: 1m 57s\tremaining: 93.7ms\n",
      "4999:\tlearn: 0.0119466\ttotal: 1m 57s\tremaining: 0us\n",
      "fold Loss 2:  0.14637178307217735\n",
      "---------------------------------------------------------------------------\n",
      "Learning rate set to 0.002361\n",
      "0:\tlearn: 0.6902102\ttotal: 46.5ms\tremaining: 3m 52s\n",
      "999:\tlearn: 0.0940003\ttotal: 23.6s\tremaining: 1m 34s\n",
      "1998:\tlearn: 0.0448239\ttotal: 46.7s\tremaining: 1m 10s\n",
      "2997:\tlearn: 0.0262264\ttotal: 1m 10s\tremaining: 46.9s\n",
      "3996:\tlearn: 0.0165670\ttotal: 1m 33s\tremaining: 23.5s\n"
     ]
    },
    {
     "name": "stderr",
     "output_type": "stream",
     "text": [
      "4it [07:52, 118.03s/it]"
     ]
    },
    {
     "name": "stdout",
     "output_type": "stream",
     "text": [
      "4995:\tlearn: 0.0113258\ttotal: 1m 56s\tremaining: 93.6ms\n",
      "4999:\tlearn: 0.0113094\ttotal: 1m 56s\tremaining: 0us\n",
      "fold Loss 3:  0.15301535510294553\n",
      "---------------------------------------------------------------------------\n",
      "Learning rate set to 0.002361\n",
      "0:\tlearn: 0.6899524\ttotal: 36.9ms\tremaining: 3m 4s\n",
      "999:\tlearn: 0.0921506\ttotal: 23.5s\tremaining: 1m 34s\n",
      "1998:\tlearn: 0.0451783\ttotal: 47s\tremaining: 1m 10s\n",
      "2997:\tlearn: 0.0267041\ttotal: 1m 10s\tremaining: 47.3s\n",
      "3996:\tlearn: 0.0176070\ttotal: 1m 33s\tremaining: 23.6s\n",
      "4995:\tlearn: 0.0122080\ttotal: 1m 57s\tremaining: 94.3ms\n",
      "4999:\tlearn: 0.0121850\ttotal: 1m 57s\tremaining: 0us\n",
      "fold Loss 4:  0.05940527294783218\n"
     ]
    },
    {
     "name": "stderr",
     "output_type": "stream",
     "text": [
      "5it [09:51, 118.30s/it]"
     ]
    },
    {
     "name": "stdout",
     "output_type": "stream",
     "text": [
      "---------------------------------------------------------------------------\n",
      "Learning rate set to 0.002361\n",
      "0:\tlearn: 0.6900021\ttotal: 47.9ms\tremaining: 3m 59s\n",
      "999:\tlearn: 0.0935977\ttotal: 23.9s\tremaining: 1m 35s\n",
      "1998:\tlearn: 0.0451851\ttotal: 47.9s\tremaining: 1m 11s\n",
      "2997:\tlearn: 0.0267213\ttotal: 1m 11s\tremaining: 47.7s\n",
      "3996:\tlearn: 0.0174369\ttotal: 1m 35s\tremaining: 23.9s\n",
      "4995:\tlearn: 0.0118168\ttotal: 1m 59s\tremaining: 95.4ms\n",
      "4999:\tlearn: 0.0118035\ttotal: 1m 59s\tremaining: 0us\n",
      "fold Loss 5:  0.06174210903027933\n"
     ]
    },
    {
     "name": "stderr",
     "output_type": "stream",
     "text": [
      "6it [11:51, 118.91s/it]"
     ]
    },
    {
     "name": "stdout",
     "output_type": "stream",
     "text": [
      "---------------------------------------------------------------------------\n",
      "Learning rate set to 0.002361\n",
      "0:\tlearn: 0.6903050\ttotal: 37.3ms\tremaining: 3m 6s\n",
      "999:\tlearn: 0.0970263\ttotal: 23.9s\tremaining: 1m 35s\n",
      "1998:\tlearn: 0.0456313\ttotal: 47.4s\tremaining: 1m 11s\n",
      "2997:\tlearn: 0.0261593\ttotal: 1m 11s\tremaining: 47.6s\n",
      "3996:\tlearn: 0.0167631\ttotal: 1m 35s\tremaining: 23.9s\n",
      "4995:\tlearn: 0.0118598\ttotal: 1m 58s\tremaining: 95.3ms\n",
      "4999:\tlearn: 0.0118462\ttotal: 1m 59s\tremaining: 0us\n"
     ]
    },
    {
     "name": "stderr",
     "output_type": "stream",
     "text": [
      "7it [13:51, 119.27s/it]"
     ]
    },
    {
     "name": "stdout",
     "output_type": "stream",
     "text": [
      "fold Loss 6:  0.021356140221586415\n",
      "---------------------------------------------------------------------------\n",
      "Learning rate set to 0.002361\n",
      "0:\tlearn: 0.6901974\ttotal: 52.8ms\tremaining: 4m 23s\n",
      "999:\tlearn: 0.0960995\ttotal: 23.5s\tremaining: 1m 34s\n",
      "1998:\tlearn: 0.0458520\ttotal: 47.2s\tremaining: 1m 10s\n",
      "2997:\tlearn: 0.0270105\ttotal: 1m 10s\tremaining: 47.3s\n",
      "3996:\tlearn: 0.0173159\ttotal: 1m 33s\tremaining: 23.6s\n"
     ]
    },
    {
     "name": "stderr",
     "output_type": "stream",
     "text": [
      "8it [15:50, 119.13s/it]"
     ]
    },
    {
     "name": "stdout",
     "output_type": "stream",
     "text": [
      "4995:\tlearn: 0.0113943\ttotal: 1m 57s\tremaining: 94.4ms\n",
      "4999:\tlearn: 0.0113762\ttotal: 1m 57s\tremaining: 0us\n",
      "fold Loss 7:  0.034022757513065584\n",
      "---------------------------------------------------------------------------\n",
      "Learning rate set to 0.002361\n",
      "0:\tlearn: 0.6903729\ttotal: 36.6ms\tremaining: 3m 3s\n",
      "999:\tlearn: 0.0953625\ttotal: 23.9s\tremaining: 1m 35s\n",
      "1998:\tlearn: 0.0443757\ttotal: 47.4s\tremaining: 1m 11s\n",
      "2997:\tlearn: 0.0257216\ttotal: 1m 10s\tremaining: 47.2s\n",
      "3996:\tlearn: 0.0163163\ttotal: 1m 34s\tremaining: 23.7s\n"
     ]
    },
    {
     "name": "stderr",
     "output_type": "stream",
     "text": [
      "9it [17:49, 118.98s/it]"
     ]
    },
    {
     "name": "stdout",
     "output_type": "stream",
     "text": [
      "4995:\tlearn: 0.0112699\ttotal: 1m 57s\tremaining: 94.2ms\n",
      "4999:\tlearn: 0.0112641\ttotal: 1m 57s\tremaining: 0us\n",
      "fold Loss 8:  0.048091664504781195\n",
      "---------------------------------------------------------------------------\n",
      "Learning rate set to 0.002361\n",
      "0:\tlearn: 0.6900814\ttotal: 47ms\tremaining: 3m 54s\n",
      "999:\tlearn: 0.0940945\ttotal: 23.7s\tremaining: 1m 34s\n",
      "1998:\tlearn: 0.0453015\ttotal: 47s\tremaining: 1m 10s\n",
      "2997:\tlearn: 0.0264476\ttotal: 1m 10s\tremaining: 47.1s\n",
      "3996:\tlearn: 0.0171225\ttotal: 1m 34s\tremaining: 23.6s\n",
      "4995:\tlearn: 0.0121225\ttotal: 1m 57s\tremaining: 93.7ms\n",
      "4999:\tlearn: 0.0121084\ttotal: 1m 57s\tremaining: 0us\n"
     ]
    },
    {
     "name": "stderr",
     "output_type": "stream",
     "text": [
      "10it [19:47, 118.69s/it]"
     ]
    },
    {
     "name": "stdout",
     "output_type": "stream",
     "text": [
      "fold Loss 9:  0.042149886331488536\n",
      "---------------------------------------------------------------------------\n",
      "Learning rate set to 0.002361\n",
      "0:\tlearn: 0.6904803\ttotal: 45.8ms\tremaining: 3m 49s\n",
      "999:\tlearn: 0.0932500\ttotal: 23.3s\tremaining: 1m 33s\n",
      "1998:\tlearn: 0.0442958\ttotal: 46.8s\tremaining: 1m 10s\n",
      "2997:\tlearn: 0.0261913\ttotal: 1m 10s\tremaining: 46.9s\n",
      "3996:\tlearn: 0.0168947\ttotal: 1m 33s\tremaining: 23.5s\n",
      "4995:\tlearn: 0.0118476\ttotal: 1m 57s\tremaining: 93.8ms\n",
      "4999:\tlearn: 0.0118355\ttotal: 1m 57s\tremaining: 0us\n",
      "fold Loss 10:  0.06208238842578087\n"
     ]
    },
    {
     "name": "stderr",
     "output_type": "stream",
     "text": [
      "11it [21:45, 118.51s/it]"
     ]
    },
    {
     "name": "stdout",
     "output_type": "stream",
     "text": [
      "---------------------------------------------------------------------------\n",
      "Learning rate set to 0.002361\n",
      "0:\tlearn: 0.6899218\ttotal: 47.7ms\tremaining: 3m 58s\n",
      "999:\tlearn: 0.0946338\ttotal: 23.5s\tremaining: 1m 33s\n",
      "1998:\tlearn: 0.0447871\ttotal: 46.9s\tremaining: 1m 10s\n",
      "2997:\tlearn: 0.0260694\ttotal: 1m 10s\tremaining: 46.8s\n",
      "3996:\tlearn: 0.0167671\ttotal: 1m 33s\tremaining: 23.5s\n",
      "4995:\tlearn: 0.0117230\ttotal: 1m 57s\tremaining: 93.7ms\n",
      "4999:\tlearn: 0.0117110\ttotal: 1m 57s\tremaining: 0us\n",
      "fold Loss 11:  0.0479550526243868\n"
     ]
    },
    {
     "name": "stderr",
     "output_type": "stream",
     "text": [
      "12it [23:43, 118.35s/it]"
     ]
    },
    {
     "name": "stdout",
     "output_type": "stream",
     "text": [
      "---------------------------------------------------------------------------\n",
      "Learning rate set to 0.002361\n",
      "0:\tlearn: 0.6899139\ttotal: 37.8ms\tremaining: 3m 8s\n",
      "999:\tlearn: 0.0908660\ttotal: 23.7s\tremaining: 1m 34s\n",
      "1998:\tlearn: 0.0433278\ttotal: 46.8s\tremaining: 1m 10s\n",
      "2997:\tlearn: 0.0252141\ttotal: 1m 10s\tremaining: 46.8s\n",
      "3996:\tlearn: 0.0160708\ttotal: 1m 33s\tremaining: 23.5s\n"
     ]
    },
    {
     "name": "stderr",
     "output_type": "stream",
     "text": [
      "13it [25:40, 118.11s/it]"
     ]
    },
    {
     "name": "stdout",
     "output_type": "stream",
     "text": [
      "4995:\tlearn: 0.0113422\ttotal: 1m 56s\tremaining: 93.4ms\n",
      "4999:\tlearn: 0.0113309\ttotal: 1m 56s\tremaining: 0us\n",
      "fold Loss 12:  0.14912475766306668\n",
      "---------------------------------------------------------------------------\n",
      "Learning rate set to 0.002361\n",
      "0:\tlearn: 0.6903113\ttotal: 47.9ms\tremaining: 3m 59s\n",
      "999:\tlearn: 0.0933951\ttotal: 23.6s\tremaining: 1m 34s\n",
      "1998:\tlearn: 0.0443464\ttotal: 47s\tremaining: 1m 10s\n",
      "2997:\tlearn: 0.0253701\ttotal: 1m 10s\tremaining: 47.1s\n",
      "3996:\tlearn: 0.0161139\ttotal: 1m 33s\tremaining: 23.5s\n",
      "4995:\tlearn: 0.0114498\ttotal: 1m 57s\tremaining: 93.9ms\n",
      "4999:\tlearn: 0.0114346\ttotal: 1m 57s\tremaining: 0us\n",
      "fold Loss 13:  0.10747690331344359\n"
     ]
    },
    {
     "name": "stderr",
     "output_type": "stream",
     "text": [
      "14it [27:38, 118.14s/it]"
     ]
    },
    {
     "name": "stdout",
     "output_type": "stream",
     "text": [
      "---------------------------------------------------------------------------\n",
      "Learning rate set to 0.002361\n",
      "0:\tlearn: 0.6903006\ttotal: 37.6ms\tremaining: 3m 8s\n",
      "999:\tlearn: 0.0926806\ttotal: 23.6s\tremaining: 1m 34s\n",
      "1998:\tlearn: 0.0429832\ttotal: 47.1s\tremaining: 1m 10s\n",
      "2997:\tlearn: 0.0240999\ttotal: 1m 10s\tremaining: 47s\n",
      "3996:\tlearn: 0.0146825\ttotal: 1m 34s\tremaining: 23.7s\n",
      "4995:\tlearn: 0.0098012\ttotal: 1m 57s\tremaining: 94.3ms\n",
      "4999:\tlearn: 0.0097865\ttotal: 1m 57s\tremaining: 0us\n",
      "fold Loss 14:  0.150429697467173\n"
     ]
    },
    {
     "name": "stderr",
     "output_type": "stream",
     "text": [
      "15it [29:37, 118.31s/it]"
     ]
    },
    {
     "name": "stdout",
     "output_type": "stream",
     "text": [
      "---------------------------------------------------------------------------\n",
      "Learning rate set to 0.002361\n",
      "0:\tlearn: 0.6902310\ttotal: 53.8ms\tremaining: 4m 29s\n",
      "999:\tlearn: 0.0903668\ttotal: 23.2s\tremaining: 1m 32s\n",
      "1998:\tlearn: 0.0426734\ttotal: 46.6s\tremaining: 1m 9s\n",
      "2997:\tlearn: 0.0245510\ttotal: 1m 10s\tremaining: 46.8s\n",
      "3996:\tlearn: 0.0155243\ttotal: 1m 33s\tremaining: 23.5s\n"
     ]
    },
    {
     "name": "stderr",
     "output_type": "stream",
     "text": [
      "16it [31:35, 118.12s/it]"
     ]
    },
    {
     "name": "stdout",
     "output_type": "stream",
     "text": [
      "4995:\tlearn: 0.0108328\ttotal: 1m 56s\tremaining: 93.5ms\n",
      "4999:\tlearn: 0.0108128\ttotal: 1m 56s\tremaining: 0us\n",
      "fold Loss 15:  0.193415921868583\n",
      "---------------------------------------------------------------------------\n",
      "Learning rate set to 0.002361\n",
      "0:\tlearn: 0.6902880\ttotal: 37.1ms\tremaining: 3m 5s\n",
      "999:\tlearn: 0.0927807\ttotal: 23.6s\tremaining: 1m 34s\n",
      "1998:\tlearn: 0.0447699\ttotal: 47.2s\tremaining: 1m 10s\n",
      "2997:\tlearn: 0.0261458\ttotal: 1m 10s\tremaining: 47.1s\n",
      "3996:\tlearn: 0.0170238\ttotal: 1m 33s\tremaining: 23.6s\n",
      "4995:\tlearn: 0.0117753\ttotal: 1m 57s\tremaining: 94ms\n",
      "4999:\tlearn: 0.0117610\ttotal: 1m 57s\tremaining: 0us\n",
      "fold Loss 16:  0.03785043651959792\n"
     ]
    },
    {
     "name": "stderr",
     "output_type": "stream",
     "text": [
      "17it [33:33, 118.18s/it]"
     ]
    },
    {
     "name": "stdout",
     "output_type": "stream",
     "text": [
      "---------------------------------------------------------------------------\n",
      "Learning rate set to 0.002361\n",
      "0:\tlearn: 0.6902870\ttotal: 54.7ms\tremaining: 4m 33s\n",
      "999:\tlearn: 0.0932139\ttotal: 23.7s\tremaining: 1m 34s\n",
      "1998:\tlearn: 0.0441961\ttotal: 46.9s\tremaining: 1m 10s\n",
      "2997:\tlearn: 0.0256474\ttotal: 1m 10s\tremaining: 47.1s\n",
      "3996:\tlearn: 0.0159267\ttotal: 1m 33s\tremaining: 23.6s\n",
      "4995:\tlearn: 0.0109967\ttotal: 1m 57s\tremaining: 93.8ms\n",
      "4999:\tlearn: 0.0109807\ttotal: 1m 57s\tremaining: 0us\n"
     ]
    },
    {
     "name": "stderr",
     "output_type": "stream",
     "text": [
      "18it [35:31, 118.17s/it]"
     ]
    },
    {
     "name": "stdout",
     "output_type": "stream",
     "text": [
      "fold Loss 17:  0.10897481968267686\n",
      "---------------------------------------------------------------------------\n",
      "Learning rate set to 0.002361\n",
      "0:\tlearn: 0.6895922\ttotal: 48.5ms\tremaining: 4m 2s\n",
      "999:\tlearn: 0.0942601\ttotal: 23.5s\tremaining: 1m 33s\n",
      "1998:\tlearn: 0.0444462\ttotal: 47.1s\tremaining: 1m 10s\n",
      "2997:\tlearn: 0.0258382\ttotal: 1m 10s\tremaining: 47.3s\n",
      "3996:\tlearn: 0.0166883\ttotal: 1m 34s\tremaining: 23.6s\n"
     ]
    },
    {
     "name": "stderr",
     "output_type": "stream",
     "text": [
      "19it [37:30, 118.36s/it]"
     ]
    },
    {
     "name": "stdout",
     "output_type": "stream",
     "text": [
      "4995:\tlearn: 0.0116217\ttotal: 1m 57s\tremaining: 94.4ms\n",
      "4999:\tlearn: 0.0116056\ttotal: 1m 57s\tremaining: 0us\n",
      "fold Loss 18:  0.09364742914715049\n",
      "---------------------------------------------------------------------------\n",
      "Learning rate set to 0.002362\n",
      "0:\tlearn: 0.6901397\ttotal: 53.3ms\tremaining: 4m 26s\n",
      "999:\tlearn: 0.0946506\ttotal: 23.6s\tremaining: 1m 34s\n",
      "1998:\tlearn: 0.0450990\ttotal: 47.2s\tremaining: 1m 10s\n",
      "2997:\tlearn: 0.0271363\ttotal: 1m 10s\tremaining: 47.1s\n",
      "3996:\tlearn: 0.0173371\ttotal: 1m 33s\tremaining: 23.6s\n",
      "4995:\tlearn: 0.0117794\ttotal: 1m 57s\tremaining: 94.1ms\n",
      "4999:\tlearn: 0.0117644\ttotal: 1m 57s\tremaining: 0us\n",
      "fold Loss 19:  0.04193573730630989\n"
     ]
    },
    {
     "name": "stderr",
     "output_type": "stream",
     "text": [
      "20it [39:29, 118.45s/it]"
     ]
    },
    {
     "name": "stdout",
     "output_type": "stream",
     "text": [
      "---------------------------------------------------------------------------\n",
      "Training Loss: 0.01325743280875459\n",
      "Loss for carbonate:\n",
      "0.08674289235343705 0.050497037198297096\n",
      "==================================================================================================\n",
      "TARGET  chloride\n"
     ]
    },
    {
     "name": "stderr",
     "output_type": "stream",
     "text": [
      "\n"
     ]
    },
    {
     "name": "stdout",
     "output_type": "stream",
     "text": [
      "0.2919195980347829\n"
     ]
    },
    {
     "name": "stderr",
     "output_type": "stream",
     "text": [
      "100%|██████████| 101/101 [00:00<00:00, 381643.88it/s]"
     ]
    },
    {
     "name": "stdout",
     "output_type": "stream",
     "text": [
      "16\n"
     ]
    },
    {
     "name": "stderr",
     "output_type": "stream",
     "text": [
      "\n"
     ]
    },
    {
     "name": "stdout",
     "output_type": "stream",
     "text": [
      "0.2662406134989993\n"
     ]
    },
    {
     "name": "stderr",
     "output_type": "stream",
     "text": [
      "100%|██████████| 900/900 [00:00<00:00, 692510.29it/s]"
     ]
    },
    {
     "name": "stdout",
     "output_type": "stream",
     "text": [
      "44\n"
     ]
    },
    {
     "name": "stderr",
     "output_type": "stream",
     "text": [
      "\n"
     ]
    },
    {
     "name": "stdout",
     "output_type": "stream",
     "text": [
      "0.2546076770798629\n"
     ]
    },
    {
     "name": "stderr",
     "output_type": "stream",
     "text": [
      "100%|██████████| 1200/1200 [00:00<00:00, 614400.00it/s]\n"
     ]
    },
    {
     "name": "stdout",
     "output_type": "stream",
     "text": [
      "53\n",
      "0.25198118388140867\n"
     ]
    },
    {
     "name": "stderr",
     "output_type": "stream",
     "text": [
      "100%|██████████| 1000/1000 [00:00<00:00, 477221.98it/s]\n"
     ]
    },
    {
     "name": "stdout",
     "output_type": "stream",
     "text": [
      "50\n",
      "(1059, 50) (1059, 16) (1059, 44) (1059, 53)\n",
      "(1059, 163)\n",
      "(804, 50) (804, 16) (804, 44) (804, 53)\n",
      "(804, 163)\n"
     ]
    },
    {
     "name": "stderr",
     "output_type": "stream",
     "text": [
      "0it [00:00, ?it/s]"
     ]
    },
    {
     "name": "stdout",
     "output_type": "stream",
     "text": [
      "Learning rate set to 0.002361\n",
      "0:\tlearn: 0.6907374\ttotal: 34.6ms\tremaining: 2m 53s\n",
      "999:\tlearn: 0.1423990\ttotal: 21.4s\tremaining: 1m 25s\n",
      "1998:\tlearn: 0.0821917\ttotal: 42.8s\tremaining: 1m 4s\n",
      "2997:\tlearn: 0.0540539\ttotal: 1m 3s\tremaining: 42.6s\n",
      "3996:\tlearn: 0.0360516\ttotal: 1m 25s\tremaining: 21.4s\n"
     ]
    },
    {
     "name": "stderr",
     "output_type": "stream",
     "text": [
      "1it [01:46, 106.89s/it]"
     ]
    },
    {
     "name": "stdout",
     "output_type": "stream",
     "text": [
      "4995:\tlearn: 0.0249214\ttotal: 1m 45s\tremaining: 84.8ms\n",
      "4999:\tlearn: 0.0248869\ttotal: 1m 46s\tremaining: 0us\n",
      "fold Loss 0:  0.06897370478082944\n",
      "---------------------------------------------------------------------------\n",
      "Learning rate set to 0.002361\n",
      "0:\tlearn: 0.6905834\ttotal: 43.4ms\tremaining: 3m 36s\n",
      "999:\tlearn: 0.1282212\ttotal: 21.3s\tremaining: 1m 25s\n",
      "1998:\tlearn: 0.0713050\ttotal: 42.5s\tremaining: 1m 3s\n",
      "2997:\tlearn: 0.0451791\ttotal: 1m 3s\tremaining: 42.4s\n",
      "3996:\tlearn: 0.0295492\ttotal: 1m 24s\tremaining: 21.3s\n"
     ]
    },
    {
     "name": "stderr",
     "output_type": "stream",
     "text": [
      "2it [03:33, 107.01s/it]"
     ]
    },
    {
     "name": "stdout",
     "output_type": "stream",
     "text": [
      "4995:\tlearn: 0.0207295\ttotal: 1m 46s\tremaining: 85ms\n",
      "4999:\tlearn: 0.0207064\ttotal: 1m 46s\tremaining: 0us\n",
      "fold Loss 1:  0.44910243005369876\n",
      "---------------------------------------------------------------------------\n",
      "Learning rate set to 0.002361\n",
      "0:\tlearn: 0.6906760\ttotal: 33.4ms\tremaining: 2m 46s\n",
      "999:\tlearn: 0.1382817\ttotal: 21s\tremaining: 1m 24s\n",
      "1998:\tlearn: 0.0780503\ttotal: 42.7s\tremaining: 1m 4s\n",
      "2997:\tlearn: 0.0506017\ttotal: 1m 4s\tremaining: 42.7s\n",
      "3996:\tlearn: 0.0331264\ttotal: 1m 25s\tremaining: 21.4s\n"
     ]
    },
    {
     "name": "stderr",
     "output_type": "stream",
     "text": [
      "3it [05:21, 107.37s/it]"
     ]
    },
    {
     "name": "stdout",
     "output_type": "stream",
     "text": [
      "4995:\tlearn: 0.0225397\ttotal: 1m 46s\tremaining: 85.6ms\n",
      "4999:\tlearn: 0.0224969\ttotal: 1m 46s\tremaining: 0us\n",
      "fold Loss 2:  0.2026917530423578\n",
      "---------------------------------------------------------------------------\n",
      "Learning rate set to 0.002361\n",
      "0:\tlearn: 0.6907650\ttotal: 44.3ms\tremaining: 3m 41s\n",
      "999:\tlearn: 0.1406878\ttotal: 21.5s\tremaining: 1m 25s\n",
      "1998:\tlearn: 0.0801521\ttotal: 42.5s\tremaining: 1m 3s\n",
      "2997:\tlearn: 0.0522210\ttotal: 1m 3s\tremaining: 42.7s\n",
      "3996:\tlearn: 0.0350388\ttotal: 1m 25s\tremaining: 21.4s\n"
     ]
    },
    {
     "name": "stderr",
     "output_type": "stream",
     "text": [
      "4it [07:09, 107.32s/it]"
     ]
    },
    {
     "name": "stdout",
     "output_type": "stream",
     "text": [
      "4995:\tlearn: 0.0240231\ttotal: 1m 46s\tremaining: 85.1ms\n",
      "4999:\tlearn: 0.0239870\ttotal: 1m 46s\tremaining: 0us\n",
      "fold Loss 3:  0.11957876195633158\n",
      "---------------------------------------------------------------------------\n",
      "Learning rate set to 0.002361\n",
      "0:\tlearn: 0.6907511\ttotal: 35.1ms\tremaining: 2m 55s\n",
      "999:\tlearn: 0.1396970\ttotal: 21.7s\tremaining: 1m 26s\n",
      "1998:\tlearn: 0.0791287\ttotal: 43.1s\tremaining: 1m 4s\n",
      "2997:\tlearn: 0.0517962\ttotal: 1m 4s\tremaining: 42.9s\n",
      "3996:\tlearn: 0.0346132\ttotal: 1m 25s\tremaining: 21.5s\n",
      "4995:\tlearn: 0.0242254\ttotal: 1m 47s\tremaining: 86.1ms\n",
      "4999:\tlearn: 0.0241872\ttotal: 1m 47s\tremaining: 0us\n",
      "fold Loss 4:  0.14543917119420688\n"
     ]
    },
    {
     "name": "stderr",
     "output_type": "stream",
     "text": [
      "5it [08:57, 107.74s/it]"
     ]
    },
    {
     "name": "stdout",
     "output_type": "stream",
     "text": [
      "---------------------------------------------------------------------------\n",
      "Learning rate set to 0.002361\n",
      "0:\tlearn: 0.6907706\ttotal: 46.5ms\tremaining: 3m 52s\n",
      "999:\tlearn: 0.1393999\ttotal: 21.9s\tremaining: 1m 27s\n",
      "1998:\tlearn: 0.0800086\ttotal: 43.8s\tremaining: 1m 5s\n",
      "2997:\tlearn: 0.0523542\ttotal: 1m 5s\tremaining: 43.8s\n",
      "3996:\tlearn: 0.0348303\ttotal: 1m 27s\tremaining: 21.8s\n",
      "4995:\tlearn: 0.0242733\ttotal: 1m 48s\tremaining: 87.1ms\n",
      "4999:\tlearn: 0.0242394\ttotal: 1m 48s\tremaining: 0us\n",
      "fold Loss 5:  0.16407025495160293\n"
     ]
    },
    {
     "name": "stderr",
     "output_type": "stream",
     "text": [
      "6it [10:47, 108.42s/it]"
     ]
    },
    {
     "name": "stdout",
     "output_type": "stream",
     "text": [
      "---------------------------------------------------------------------------\n",
      "Learning rate set to 0.002361\n",
      "0:\tlearn: 0.6907363\ttotal: 36.2ms\tremaining: 3m\n",
      "999:\tlearn: 0.1416564\ttotal: 22.1s\tremaining: 1m 28s\n",
      "1998:\tlearn: 0.0816031\ttotal: 43.6s\tremaining: 1m 5s\n",
      "2997:\tlearn: 0.0531600\ttotal: 1m 5s\tremaining: 43.6s\n",
      "3996:\tlearn: 0.0349933\ttotal: 1m 27s\tremaining: 22.1s\n",
      "4995:\tlearn: 0.0240253\ttotal: 1m 49s\tremaining: 87.3ms\n",
      "4999:\tlearn: 0.0239969\ttotal: 1m 49s\tremaining: 0us\n"
     ]
    },
    {
     "name": "stderr",
     "output_type": "stream",
     "text": [
      "7it [12:37, 108.96s/it]"
     ]
    },
    {
     "name": "stdout",
     "output_type": "stream",
     "text": [
      "fold Loss 6:  0.07561677620709886\n",
      "---------------------------------------------------------------------------\n",
      "Learning rate set to 0.002361\n",
      "0:\tlearn: 0.6907292\ttotal: 44.5ms\tremaining: 3m 42s\n",
      "999:\tlearn: 0.1420884\ttotal: 21.7s\tremaining: 1m 26s\n",
      "1998:\tlearn: 0.0806270\ttotal: 43.3s\tremaining: 1m 4s\n",
      "2997:\tlearn: 0.0523981\ttotal: 1m 4s\tremaining: 43.1s\n",
      "3996:\tlearn: 0.0351876\ttotal: 1m 25s\tremaining: 21.6s\n"
     ]
    },
    {
     "name": "stderr",
     "output_type": "stream",
     "text": [
      "8it [14:25, 108.82s/it]"
     ]
    },
    {
     "name": "stdout",
     "output_type": "stream",
     "text": [
      "4995:\tlearn: 0.0242121\ttotal: 1m 47s\tremaining: 86.1ms\n",
      "4999:\tlearn: 0.0241939\ttotal: 1m 47s\tremaining: 0us\n",
      "fold Loss 7:  0.11273670616597238\n",
      "---------------------------------------------------------------------------\n",
      "Learning rate set to 0.002361\n",
      "0:\tlearn: 0.6908077\ttotal: 34.1ms\tremaining: 2m 50s\n",
      "999:\tlearn: 0.1415513\ttotal: 21s\tremaining: 1m 24s\n",
      "1998:\tlearn: 0.0806637\ttotal: 42.6s\tremaining: 1m 3s\n",
      "2997:\tlearn: 0.0525648\ttotal: 1m 4s\tremaining: 43s\n",
      "3996:\tlearn: 0.0355564\ttotal: 1m 25s\tremaining: 21.6s\n"
     ]
    },
    {
     "name": "stderr",
     "output_type": "stream",
     "text": [
      "9it [16:14, 108.75s/it]"
     ]
    },
    {
     "name": "stdout",
     "output_type": "stream",
     "text": [
      "4995:\tlearn: 0.0250198\ttotal: 1m 47s\tremaining: 86.2ms\n",
      "4999:\tlearn: 0.0249768\ttotal: 1m 47s\tremaining: 0us\n",
      "fold Loss 8:  0.12477704411445809\n",
      "---------------------------------------------------------------------------\n",
      "Learning rate set to 0.002361\n",
      "0:\tlearn: 0.6907108\ttotal: 45.5ms\tremaining: 3m 47s\n",
      "999:\tlearn: 0.1352307\ttotal: 21.9s\tremaining: 1m 27s\n",
      "1998:\tlearn: 0.0759681\ttotal: 43.1s\tremaining: 1m 4s\n",
      "2997:\tlearn: 0.0494345\ttotal: 1m 4s\tremaining: 43.1s\n",
      "3996:\tlearn: 0.0328930\ttotal: 1m 25s\tremaining: 21.6s\n",
      "4995:\tlearn: 0.0228643\ttotal: 1m 47s\tremaining: 85.8ms\n",
      "4999:\tlearn: 0.0228319\ttotal: 1m 47s\tremaining: 0us\n",
      "fold Loss 9:  0.20211667020464585\n"
     ]
    },
    {
     "name": "stderr",
     "output_type": "stream",
     "text": [
      "10it [18:02, 108.57s/it]"
     ]
    },
    {
     "name": "stdout",
     "output_type": "stream",
     "text": [
      "---------------------------------------------------------------------------\n",
      "Learning rate set to 0.002361\n",
      "0:\tlearn: 0.6907420\ttotal: 34.7ms\tremaining: 2m 53s\n",
      "999:\tlearn: 0.1378402\ttotal: 21.5s\tremaining: 1m 25s\n",
      "1998:\tlearn: 0.0790116\ttotal: 42.6s\tremaining: 1m 3s\n",
      "2997:\tlearn: 0.0517478\ttotal: 1m 4s\tremaining: 42.8s\n",
      "3996:\tlearn: 0.0341667\ttotal: 1m 25s\tremaining: 21.5s\n"
     ]
    },
    {
     "name": "stderr",
     "output_type": "stream",
     "text": [
      "11it [19:50, 108.32s/it]"
     ]
    },
    {
     "name": "stdout",
     "output_type": "stream",
     "text": [
      "4995:\tlearn: 0.0236128\ttotal: 1m 46s\tremaining: 85.5ms\n",
      "4999:\tlearn: 0.0235753\ttotal: 1m 46s\tremaining: 0us\n",
      "fold Loss 10:  0.20587984848244711\n",
      "---------------------------------------------------------------------------\n",
      "Learning rate set to 0.002361\n",
      "0:\tlearn: 0.6907269\ttotal: 44.8ms\tremaining: 3m 43s\n",
      "999:\tlearn: 0.1423954\ttotal: 21.5s\tremaining: 1m 26s\n",
      "1998:\tlearn: 0.0821531\ttotal: 42.9s\tremaining: 1m 4s\n",
      "2997:\tlearn: 0.0536798\ttotal: 1m 4s\tremaining: 43s\n",
      "3996:\tlearn: 0.0360738\ttotal: 1m 25s\tremaining: 21.5s\n"
     ]
    },
    {
     "name": "stderr",
     "output_type": "stream",
     "text": [
      "12it [21:38, 108.28s/it]"
     ]
    },
    {
     "name": "stdout",
     "output_type": "stream",
     "text": [
      "4995:\tlearn: 0.0252734\ttotal: 1m 47s\tremaining: 85.9ms\n",
      "4999:\tlearn: 0.0252483\ttotal: 1m 47s\tremaining: 0us\n",
      "fold Loss 11:  0.0993203106809433\n",
      "---------------------------------------------------------------------------\n",
      "Learning rate set to 0.002361\n",
      "0:\tlearn: 0.6907421\ttotal: 35.1ms\tremaining: 2m 55s\n",
      "999:\tlearn: 0.1438719\ttotal: 21.2s\tremaining: 1m 24s\n",
      "1998:\tlearn: 0.0823255\ttotal: 42.9s\tremaining: 1m 4s\n",
      "2997:\tlearn: 0.0539585\ttotal: 1m 4s\tremaining: 43s\n",
      "3996:\tlearn: 0.0361936\ttotal: 1m 25s\tremaining: 21.4s\n"
     ]
    },
    {
     "name": "stderr",
     "output_type": "stream",
     "text": [
      "13it [23:26, 108.17s/it]"
     ]
    },
    {
     "name": "stdout",
     "output_type": "stream",
     "text": [
      "4995:\tlearn: 0.0251246\ttotal: 1m 46s\tremaining: 85.6ms\n",
      "4999:\tlearn: 0.0250932\ttotal: 1m 47s\tremaining: 0us\n",
      "fold Loss 12:  0.05506675854190164\n",
      "---------------------------------------------------------------------------\n",
      "Learning rate set to 0.002361\n",
      "0:\tlearn: 0.6907386\ttotal: 44.9ms\tremaining: 3m 44s\n",
      "999:\tlearn: 0.1405582\ttotal: 21.4s\tremaining: 1m 25s\n",
      "1998:\tlearn: 0.0812682\ttotal: 42.5s\tremaining: 1m 3s\n",
      "2997:\tlearn: 0.0529991\ttotal: 1m 3s\tremaining: 42.6s\n",
      "3996:\tlearn: 0.0356060\ttotal: 1m 25s\tremaining: 21.4s\n"
     ]
    },
    {
     "name": "stderr",
     "output_type": "stream",
     "text": [
      "14it [25:13, 107.82s/it]"
     ]
    },
    {
     "name": "stdout",
     "output_type": "stream",
     "text": [
      "4995:\tlearn: 0.0250632\ttotal: 1m 46s\tremaining: 84.9ms\n",
      "4999:\tlearn: 0.0250362\ttotal: 1m 46s\tremaining: 0us\n",
      "fold Loss 13:  0.0791023243925705\n",
      "---------------------------------------------------------------------------\n",
      "Learning rate set to 0.002361\n",
      "0:\tlearn: 0.6907085\ttotal: 34.6ms\tremaining: 2m 53s\n",
      "999:\tlearn: 0.1417086\ttotal: 21.4s\tremaining: 1m 25s\n",
      "1998:\tlearn: 0.0827374\ttotal: 42.8s\tremaining: 1m 4s\n",
      "2997:\tlearn: 0.0544652\ttotal: 1m 3s\tremaining: 42.6s\n",
      "3996:\tlearn: 0.0358915\ttotal: 1m 25s\tremaining: 21.3s\n",
      "4995:\tlearn: 0.0246018\ttotal: 1m 46s\tremaining: 84.9ms\n",
      "4999:\tlearn: 0.0245739\ttotal: 1m 46s\tremaining: 0us\n"
     ]
    },
    {
     "name": "stderr",
     "output_type": "stream",
     "text": [
      "15it [27:00, 107.58s/it]"
     ]
    },
    {
     "name": "stdout",
     "output_type": "stream",
     "text": [
      "fold Loss 14:  0.13615922432689306\n",
      "---------------------------------------------------------------------------\n",
      "Learning rate set to 0.002361\n",
      "0:\tlearn: 0.6907279\ttotal: 64.6ms\tremaining: 5m 22s\n",
      "999:\tlearn: 0.1424720\ttotal: 21.4s\tremaining: 1m 25s\n",
      "1998:\tlearn: 0.0809260\ttotal: 42.6s\tremaining: 1m 3s\n",
      "2997:\tlearn: 0.0527232\ttotal: 1m 3s\tremaining: 42.4s\n",
      "3996:\tlearn: 0.0352750\ttotal: 1m 24s\tremaining: 21.3s\n"
     ]
    },
    {
     "name": "stderr",
     "output_type": "stream",
     "text": [
      "16it [28:47, 107.42s/it]"
     ]
    },
    {
     "name": "stdout",
     "output_type": "stream",
     "text": [
      "4995:\tlearn: 0.0243847\ttotal: 1m 46s\tremaining: 85ms\n",
      "4999:\tlearn: 0.0243424\ttotal: 1m 46s\tremaining: 0us\n",
      "fold Loss 15:  0.09895948674850386\n",
      "---------------------------------------------------------------------------\n",
      "Learning rate set to 0.002361\n",
      "0:\tlearn: 0.6907618\ttotal: 34.5ms\tremaining: 2m 52s\n",
      "999:\tlearn: 0.1414577\ttotal: 21s\tremaining: 1m 23s\n",
      "1998:\tlearn: 0.0815393\ttotal: 42.4s\tremaining: 1m 3s\n",
      "2997:\tlearn: 0.0531803\ttotal: 1m 3s\tremaining: 42.6s\n",
      "3996:\tlearn: 0.0357578\ttotal: 1m 24s\tremaining: 21.3s\n"
     ]
    },
    {
     "name": "stderr",
     "output_type": "stream",
     "text": [
      "17it [30:34, 107.34s/it]"
     ]
    },
    {
     "name": "stdout",
     "output_type": "stream",
     "text": [
      "4995:\tlearn: 0.0248141\ttotal: 1m 46s\tremaining: 85.1ms\n",
      "4999:\tlearn: 0.0247829\ttotal: 1m 46s\tremaining: 0us\n",
      "fold Loss 16:  0.10097865089416246\n",
      "---------------------------------------------------------------------------\n",
      "Learning rate set to 0.002361\n",
      "0:\tlearn: 0.6906700\ttotal: 46.6ms\tremaining: 3m 52s\n",
      "999:\tlearn: 0.1340670\ttotal: 21.5s\tremaining: 1m 25s\n",
      "1998:\tlearn: 0.0738374\ttotal: 42.4s\tremaining: 1m 3s\n",
      "2997:\tlearn: 0.0473303\ttotal: 1m 3s\tremaining: 42.6s\n",
      "3996:\tlearn: 0.0310712\ttotal: 1m 24s\tremaining: 21.3s\n"
     ]
    },
    {
     "name": "stderr",
     "output_type": "stream",
     "text": [
      "18it [32:21, 107.26s/it]"
     ]
    },
    {
     "name": "stdout",
     "output_type": "stream",
     "text": [
      "4995:\tlearn: 0.0214507\ttotal: 1m 46s\tremaining: 85ms\n",
      "4999:\tlearn: 0.0214168\ttotal: 1m 46s\tremaining: 0us\n",
      "fold Loss 17:  0.26710847016937045\n",
      "---------------------------------------------------------------------------\n",
      "Learning rate set to 0.002361\n",
      "0:\tlearn: 0.6906875\ttotal: 36.8ms\tremaining: 3m 3s\n",
      "999:\tlearn: 0.1404866\ttotal: 21.5s\tremaining: 1m 26s\n",
      "1998:\tlearn: 0.0809933\ttotal: 43s\tremaining: 1m 4s\n",
      "2997:\tlearn: 0.0536881\ttotal: 1m 3s\tremaining: 42.6s\n",
      "3996:\tlearn: 0.0363566\ttotal: 1m 25s\tremaining: 21.4s\n",
      "4995:\tlearn: 0.0256365\ttotal: 1m 46s\tremaining: 84.9ms\n",
      "4999:\tlearn: 0.0256048\ttotal: 1m 46s\tremaining: 0us\n",
      "fold Loss 18:  0.1635528690870734\n"
     ]
    },
    {
     "name": "stderr",
     "output_type": "stream",
     "text": [
      "19it [34:08, 107.19s/it]"
     ]
    },
    {
     "name": "stdout",
     "output_type": "stream",
     "text": [
      "---------------------------------------------------------------------------\n",
      "Learning rate set to 0.002362\n",
      "0:\tlearn: 0.6907475\ttotal: 43ms\tremaining: 3m 35s\n",
      "999:\tlearn: 0.1428228\ttotal: 21.6s\tremaining: 1m 26s\n",
      "1998:\tlearn: 0.0830158\ttotal: 43s\tremaining: 1m 4s\n",
      "2997:\tlearn: 0.0545200\ttotal: 1m 4s\tremaining: 42.8s\n",
      "3996:\tlearn: 0.0367254\ttotal: 1m 25s\tremaining: 21.4s\n"
     ]
    },
    {
     "name": "stderr",
     "output_type": "stream",
     "text": [
      "20it [35:56, 107.84s/it]"
     ]
    },
    {
     "name": "stdout",
     "output_type": "stream",
     "text": [
      "4995:\tlearn: 0.0256965\ttotal: 1m 47s\tremaining: 85.7ms\n",
      "4999:\tlearn: 0.0256650\ttotal: 1m 47s\tremaining: 0us\n",
      "fold Loss 19:  0.06637814742268423\n",
      "---------------------------------------------------------------------------\n"
     ]
    },
    {
     "name": "stderr",
     "output_type": "stream",
     "text": [
      "\n"
     ]
    },
    {
     "name": "stdout",
     "output_type": "stream",
     "text": [
      "Training Loss: 0.02768451795539454\n",
      "Loss for chloride:\n",
      "0.14688046817088762 0.08827445083086471\n",
      "==================================================================================================\n",
      "TARGET  iron_oxide\n",
      "0.45974112689884095\n"
     ]
    },
    {
     "name": "stderr",
     "output_type": "stream",
     "text": [
      "100%|██████████| 101/101 [00:00<00:00, 337012.49it/s]\n"
     ]
    },
    {
     "name": "stdout",
     "output_type": "stream",
     "text": [
      "23\n",
      "0.3959718001217771\n"
     ]
    },
    {
     "name": "stderr",
     "output_type": "stream",
     "text": [
      "100%|██████████| 900/900 [00:00<00:00, 721497.25it/s]\n"
     ]
    },
    {
     "name": "stdout",
     "output_type": "stream",
     "text": [
      "50\n",
      "0.37851837368715097\n"
     ]
    },
    {
     "name": "stderr",
     "output_type": "stream",
     "text": [
      "100%|██████████| 1200/1200 [00:00<00:00, 772787.47it/s]\n"
     ]
    },
    {
     "name": "stdout",
     "output_type": "stream",
     "text": [
      "73\n",
      "0.39375201823362804\n"
     ]
    },
    {
     "name": "stderr",
     "output_type": "stream",
     "text": [
      "100%|██████████| 1000/1000 [00:00<00:00, 758326.52it/s]\n"
     ]
    },
    {
     "name": "stdout",
     "output_type": "stream",
     "text": [
      "75\n",
      "(1059, 75) (1059, 23) (1059, 50) (1059, 73)\n",
      "(1059, 221)\n",
      "(804, 75) (804, 23) (804, 50) (804, 73)\n",
      "(804, 221)\n"
     ]
    },
    {
     "name": "stderr",
     "output_type": "stream",
     "text": [
      "0it [00:00, ?it/s]"
     ]
    },
    {
     "name": "stdout",
     "output_type": "stream",
     "text": [
      "Learning rate set to 0.002361\n",
      "0:\tlearn: 0.6913840\ttotal: 42.1ms\tremaining: 3m 30s\n",
      "999:\tlearn: 0.2183414\ttotal: 28.5s\tremaining: 1m 54s\n",
      "1998:\tlearn: 0.1325377\ttotal: 56.9s\tremaining: 1m 25s\n",
      "2997:\tlearn: 0.0897710\ttotal: 1m 25s\tremaining: 56.9s\n",
      "3996:\tlearn: 0.0602244\ttotal: 1m 53s\tremaining: 28.5s\n",
      "4995:\tlearn: 0.0419261\ttotal: 2m 22s\tremaining: 114ms\n",
      "4999:\tlearn: 0.0418850\ttotal: 2m 22s\tremaining: 0us\n"
     ]
    },
    {
     "name": "stderr",
     "output_type": "stream",
     "text": [
      "1it [02:22, 142.97s/it]"
     ]
    },
    {
     "name": "stdout",
     "output_type": "stream",
     "text": [
      "fold Loss 0:  0.2858224432953975\n",
      "---------------------------------------------------------------------------\n",
      "Learning rate set to 0.002361\n",
      "0:\tlearn: 0.6915006\ttotal: 57.6ms\tremaining: 4m 47s\n",
      "999:\tlearn: 0.2242082\ttotal: 28.5s\tremaining: 1m 53s\n",
      "1998:\tlearn: 0.1382082\ttotal: 56.8s\tremaining: 1m 25s\n",
      "2997:\tlearn: 0.0951430\ttotal: 1m 24s\tremaining: 56.7s\n",
      "3996:\tlearn: 0.0664793\ttotal: 1m 53s\tremaining: 28.5s\n",
      "4995:\tlearn: 0.0466979\ttotal: 2m 21s\tremaining: 114ms\n",
      "4999:\tlearn: 0.0466132\ttotal: 2m 21s\tremaining: 0us\n"
     ]
    },
    {
     "name": "stderr",
     "output_type": "stream",
     "text": [
      "2it [04:45, 142.89s/it]"
     ]
    },
    {
     "name": "stdout",
     "output_type": "stream",
     "text": [
      "fold Loss 1:  0.12837668851806122\n",
      "---------------------------------------------------------------------------\n",
      "Learning rate set to 0.002361\n",
      "0:\tlearn: 0.6913333\ttotal: 47.7ms\tremaining: 3m 58s\n",
      "999:\tlearn: 0.2186250\ttotal: 28.3s\tremaining: 1m 53s\n",
      "1998:\tlearn: 0.1340731\ttotal: 56.7s\tremaining: 1m 25s\n",
      "2997:\tlearn: 0.0912517\ttotal: 1m 25s\tremaining: 56.9s\n",
      "3996:\tlearn: 0.0629742\ttotal: 1m 53s\tremaining: 28.5s\n",
      "4995:\tlearn: 0.0445300\ttotal: 2m 21s\tremaining: 113ms\n",
      "4999:\tlearn: 0.0444883\ttotal: 2m 21s\tremaining: 0us\n"
     ]
    },
    {
     "name": "stderr",
     "output_type": "stream",
     "text": [
      "3it [07:08, 142.77s/it]"
     ]
    },
    {
     "name": "stdout",
     "output_type": "stream",
     "text": [
      "fold Loss 2:  0.21418749811560597\n",
      "---------------------------------------------------------------------------\n",
      "Learning rate set to 0.002361\n",
      "0:\tlearn: 0.6914020\ttotal: 57.7ms\tremaining: 4m 48s\n",
      "999:\tlearn: 0.2204099\ttotal: 28.3s\tremaining: 1m 53s\n",
      "1998:\tlearn: 0.1344111\ttotal: 56.6s\tremaining: 1m 24s\n",
      "2997:\tlearn: 0.0928098\ttotal: 1m 25s\tremaining: 57s\n",
      "3996:\tlearn: 0.0636956\ttotal: 1m 53s\tremaining: 28.6s\n",
      "4995:\tlearn: 0.0443851\ttotal: 2m 22s\tremaining: 114ms\n",
      "4999:\tlearn: 0.0443142\ttotal: 2m 22s\tremaining: 0us\n"
     ]
    },
    {
     "name": "stderr",
     "output_type": "stream",
     "text": [
      "4it [09:31, 143.07s/it]"
     ]
    },
    {
     "name": "stdout",
     "output_type": "stream",
     "text": [
      "fold Loss 3:  0.2102383169895689\n",
      "---------------------------------------------------------------------------\n",
      "Learning rate set to 0.002361\n",
      "0:\tlearn: 0.6913154\ttotal: 51ms\tremaining: 4m 15s\n",
      "999:\tlearn: 0.2220835\ttotal: 28.8s\tremaining: 1m 55s\n",
      "1998:\tlearn: 0.1367653\ttotal: 57.5s\tremaining: 1m 26s\n",
      "2997:\tlearn: 0.0937418\ttotal: 1m 25s\tremaining: 57.1s\n",
      "3996:\tlearn: 0.0649387\ttotal: 1m 54s\tremaining: 28.7s\n",
      "4995:\tlearn: 0.0456615\ttotal: 2m 22s\tremaining: 114ms\n",
      "4999:\tlearn: 0.0455943\ttotal: 2m 22s\tremaining: 0us\n"
     ]
    },
    {
     "name": "stderr",
     "output_type": "stream",
     "text": [
      "5it [11:55, 143.28s/it]"
     ]
    },
    {
     "name": "stdout",
     "output_type": "stream",
     "text": [
      "fold Loss 4:  0.12056775890632591\n",
      "---------------------------------------------------------------------------\n",
      "Learning rate set to 0.002361\n",
      "0:\tlearn: 0.6913459\ttotal: 57ms\tremaining: 4m 44s\n",
      "999:\tlearn: 0.2210185\ttotal: 28.9s\tremaining: 1m 55s\n",
      "1998:\tlearn: 0.1356638\ttotal: 57.5s\tremaining: 1m 26s\n",
      "2997:\tlearn: 0.0917479\ttotal: 1m 25s\tremaining: 57.4s\n",
      "3996:\tlearn: 0.0633030\ttotal: 1m 54s\tremaining: 28.7s\n",
      "4995:\tlearn: 0.0448112\ttotal: 2m 22s\tremaining: 114ms\n",
      "4999:\tlearn: 0.0447640\ttotal: 2m 22s\tremaining: 0us\n"
     ]
    },
    {
     "name": "stderr",
     "output_type": "stream",
     "text": [
      "6it [14:19, 143.32s/it]"
     ]
    },
    {
     "name": "stdout",
     "output_type": "stream",
     "text": [
      "fold Loss 5:  0.22851769912707742\n",
      "---------------------------------------------------------------------------\n",
      "Learning rate set to 0.002361\n",
      "0:\tlearn: 0.6915077\ttotal: 44.8ms\tremaining: 3m 43s\n",
      "999:\tlearn: 0.2213016\ttotal: 28.4s\tremaining: 1m 53s\n",
      "1998:\tlearn: 0.1356346\ttotal: 56.8s\tremaining: 1m 25s\n",
      "2997:\tlearn: 0.0929454\ttotal: 1m 24s\tremaining: 56.7s\n",
      "3996:\tlearn: 0.0643493\ttotal: 1m 53s\tremaining: 28.5s\n",
      "4995:\tlearn: 0.0460029\ttotal: 2m 21s\tremaining: 113ms\n",
      "4999:\tlearn: 0.0459494\ttotal: 2m 21s\tremaining: 0us\n"
     ]
    },
    {
     "name": "stderr",
     "output_type": "stream",
     "text": [
      "7it [16:41, 143.11s/it]"
     ]
    },
    {
     "name": "stdout",
     "output_type": "stream",
     "text": [
      "fold Loss 6:  0.14043999338443677\n",
      "---------------------------------------------------------------------------\n",
      "Learning rate set to 0.002361\n",
      "0:\tlearn: 0.6913080\ttotal: 57.5ms\tremaining: 4m 47s\n",
      "999:\tlearn: 0.2208387\ttotal: 28.5s\tremaining: 1m 53s\n",
      "1998:\tlearn: 0.1355089\ttotal: 56.9s\tremaining: 1m 25s\n",
      "2997:\tlearn: 0.0926711\ttotal: 1m 25s\tremaining: 56.8s\n",
      "3996:\tlearn: 0.0651262\ttotal: 1m 53s\tremaining: 28.4s\n",
      "4995:\tlearn: 0.0471456\ttotal: 2m 21s\tremaining: 114ms\n",
      "4999:\tlearn: 0.0470872\ttotal: 2m 21s\tremaining: 0us\n"
     ]
    },
    {
     "name": "stderr",
     "output_type": "stream",
     "text": [
      "8it [19:04, 142.99s/it]"
     ]
    },
    {
     "name": "stdout",
     "output_type": "stream",
     "text": [
      "fold Loss 7:  0.15838888567073656\n",
      "---------------------------------------------------------------------------\n",
      "Learning rate set to 0.002361\n",
      "0:\tlearn: 0.6913760\ttotal: 49.3ms\tremaining: 4m 6s\n",
      "999:\tlearn: 0.2213749\ttotal: 28.4s\tremaining: 1m 53s\n",
      "1998:\tlearn: 0.1358030\ttotal: 57.1s\tremaining: 1m 25s\n",
      "2997:\tlearn: 0.0924658\ttotal: 1m 25s\tremaining: 57.1s\n",
      "3996:\tlearn: 0.0644793\ttotal: 1m 54s\tremaining: 28.6s\n",
      "4995:\tlearn: 0.0469731\ttotal: 2m 22s\tremaining: 114ms\n",
      "4999:\tlearn: 0.0469357\ttotal: 2m 22s\tremaining: 0us\n"
     ]
    },
    {
     "name": "stderr",
     "output_type": "stream",
     "text": [
      "9it [21:27, 143.08s/it]"
     ]
    },
    {
     "name": "stdout",
     "output_type": "stream",
     "text": [
      "fold Loss 8:  0.14389256528288064\n",
      "---------------------------------------------------------------------------\n",
      "Learning rate set to 0.002361\n",
      "0:\tlearn: 0.6915760\ttotal: 58.6ms\tremaining: 4m 53s\n",
      "999:\tlearn: 0.2233277\ttotal: 28.9s\tremaining: 1m 55s\n",
      "1998:\tlearn: 0.1372196\ttotal: 58s\tremaining: 1m 27s\n",
      "2997:\tlearn: 0.0946569\ttotal: 1m 26s\tremaining: 57.8s\n",
      "3996:\tlearn: 0.0656337\ttotal: 1m 54s\tremaining: 28.9s\n",
      "4995:\tlearn: 0.0460137\ttotal: 2m 23s\tremaining: 115ms\n",
      "4999:\tlearn: 0.0459439\ttotal: 2m 24s\tremaining: 0us\n"
     ]
    },
    {
     "name": "stderr",
     "output_type": "stream",
     "text": [
      "10it [23:52, 143.65s/it]"
     ]
    },
    {
     "name": "stdout",
     "output_type": "stream",
     "text": [
      "fold Loss 9:  0.1214886164295815\n",
      "---------------------------------------------------------------------------\n",
      "Learning rate set to 0.002361\n",
      "0:\tlearn: 0.6914159\ttotal: 60.3ms\tremaining: 5m 1s\n",
      "999:\tlearn: 0.2176382\ttotal: 28.7s\tremaining: 1m 54s\n",
      "1998:\tlearn: 0.1320568\ttotal: 57.6s\tremaining: 1m 26s\n",
      "2997:\tlearn: 0.0882537\ttotal: 1m 25s\tremaining: 57.3s\n",
      "3996:\tlearn: 0.0600589\ttotal: 1m 54s\tremaining: 28.8s\n",
      "4995:\tlearn: 0.0426720\ttotal: 2m 23s\tremaining: 115ms\n",
      "4999:\tlearn: 0.0426079\ttotal: 2m 23s\tremaining: 0us\n"
     ]
    },
    {
     "name": "stderr",
     "output_type": "stream",
     "text": [
      "11it [26:17, 143.90s/it]"
     ]
    },
    {
     "name": "stdout",
     "output_type": "stream",
     "text": [
      "fold Loss 10:  0.23547211861187634\n",
      "---------------------------------------------------------------------------\n",
      "Learning rate set to 0.002361\n",
      "0:\tlearn: 0.6914599\ttotal: 56ms\tremaining: 4m 40s\n",
      "999:\tlearn: 0.2170442\ttotal: 28.8s\tremaining: 1m 55s\n",
      "1998:\tlearn: 0.1329777\ttotal: 57.8s\tremaining: 1m 26s\n",
      "2997:\tlearn: 0.0895897\ttotal: 1m 26s\tremaining: 57.8s\n",
      "3996:\tlearn: 0.0612951\ttotal: 1m 55s\tremaining: 28.9s\n",
      "4995:\tlearn: 0.0432907\ttotal: 2m 24s\tremaining: 115ms\n",
      "4999:\tlearn: 0.0432525\ttotal: 2m 24s\tremaining: 0us\n"
     ]
    },
    {
     "name": "stderr",
     "output_type": "stream",
     "text": [
      "12it [28:42, 144.25s/it]"
     ]
    },
    {
     "name": "stdout",
     "output_type": "stream",
     "text": [
      "fold Loss 11:  0.24683210413629644\n",
      "---------------------------------------------------------------------------\n",
      "Learning rate set to 0.002361\n",
      "0:\tlearn: 0.6912453\ttotal: 44.7ms\tremaining: 3m 43s\n",
      "999:\tlearn: 0.2173147\ttotal: 28.8s\tremaining: 1m 55s\n",
      "1998:\tlearn: 0.1307275\ttotal: 57.9s\tremaining: 1m 26s\n",
      "2997:\tlearn: 0.0885084\ttotal: 1m 26s\tremaining: 57.7s\n",
      "3996:\tlearn: 0.0606964\ttotal: 1m 55s\tremaining: 28.9s\n",
      "4995:\tlearn: 0.0430872\ttotal: 2m 23s\tremaining: 115ms\n",
      "4999:\tlearn: 0.0430019\ttotal: 2m 23s\tremaining: 0us\n"
     ]
    },
    {
     "name": "stderr",
     "output_type": "stream",
     "text": [
      "13it [31:06, 144.35s/it]"
     ]
    },
    {
     "name": "stdout",
     "output_type": "stream",
     "text": [
      "fold Loss 12:  0.24580660404296495\n",
      "---------------------------------------------------------------------------\n",
      "Learning rate set to 0.002361\n",
      "0:\tlearn: 0.6914112\ttotal: 56.4ms\tremaining: 4m 41s\n",
      "999:\tlearn: 0.2241609\ttotal: 28.7s\tremaining: 1m 54s\n",
      "1998:\tlearn: 0.1384556\ttotal: 57.1s\tremaining: 1m 25s\n",
      "2997:\tlearn: 0.0948221\ttotal: 1m 26s\tremaining: 57.9s\n",
      "3996:\tlearn: 0.0662101\ttotal: 1m 55s\tremaining: 29s\n",
      "4995:\tlearn: 0.0480923\ttotal: 2m 24s\tremaining: 116ms\n",
      "4999:\tlearn: 0.0480314\ttotal: 2m 24s\tremaining: 0us\n"
     ]
    },
    {
     "name": "stderr",
     "output_type": "stream",
     "text": [
      "14it [33:32, 144.80s/it]"
     ]
    },
    {
     "name": "stdout",
     "output_type": "stream",
     "text": [
      "fold Loss 13:  0.14994895389202983\n",
      "---------------------------------------------------------------------------\n",
      "Learning rate set to 0.002361\n",
      "0:\tlearn: 0.6913161\ttotal: 131ms\tremaining: 10m 56s\n",
      "999:\tlearn: 0.2152466\ttotal: 30.8s\tremaining: 2m 3s\n",
      "1998:\tlearn: 0.1310208\ttotal: 59.8s\tremaining: 1m 29s\n",
      "2997:\tlearn: 0.0889350\ttotal: 1m 28s\tremaining: 59.3s\n",
      "3996:\tlearn: 0.0609195\ttotal: 1m 57s\tremaining: 29.6s\n",
      "4995:\tlearn: 0.0425405\ttotal: 2m 26s\tremaining: 117ms\n",
      "4999:\tlearn: 0.0424817\ttotal: 2m 26s\tremaining: 0us\n"
     ]
    },
    {
     "name": "stderr",
     "output_type": "stream",
     "text": [
      "15it [36:00, 145.62s/it]"
     ]
    },
    {
     "name": "stdout",
     "output_type": "stream",
     "text": [
      "fold Loss 14:  0.29186171360503554\n",
      "---------------------------------------------------------------------------\n",
      "Learning rate set to 0.002361\n",
      "0:\tlearn: 0.6915053\ttotal: 91.7ms\tremaining: 7m 38s\n",
      "999:\tlearn: 0.2194673\ttotal: 29s\tremaining: 1m 55s\n",
      "1998:\tlearn: 0.1344957\ttotal: 58s\tremaining: 1m 27s\n",
      "2997:\tlearn: 0.0912681\ttotal: 1m 27s\tremaining: 58.2s\n",
      "3996:\tlearn: 0.0628850\ttotal: 1m 55s\tremaining: 29s\n",
      "4995:\tlearn: 0.0445394\ttotal: 2m 24s\tremaining: 116ms\n",
      "4999:\tlearn: 0.0444944\ttotal: 2m 24s\tremaining: 0us\n"
     ]
    },
    {
     "name": "stderr",
     "output_type": "stream",
     "text": [
      "16it [38:25, 145.55s/it]"
     ]
    },
    {
     "name": "stdout",
     "output_type": "stream",
     "text": [
      "fold Loss 15:  0.16890355498277576\n",
      "---------------------------------------------------------------------------\n",
      "Learning rate set to 0.002361\n",
      "0:\tlearn: 0.6914596\ttotal: 46.1ms\tremaining: 3m 50s\n",
      "999:\tlearn: 0.2211559\ttotal: 28.7s\tremaining: 1m 54s\n",
      "1998:\tlearn: 0.1355052\ttotal: 57.4s\tremaining: 1m 26s\n",
      "2997:\tlearn: 0.0920075\ttotal: 1m 26s\tremaining: 57.5s\n",
      "3996:\tlearn: 0.0633373\ttotal: 1m 54s\tremaining: 28.8s\n",
      "4995:\tlearn: 0.0435063\ttotal: 2m 24s\tremaining: 116ms\n",
      "4999:\tlearn: 0.0434372\ttotal: 2m 24s\tremaining: 0us\n"
     ]
    },
    {
     "name": "stderr",
     "output_type": "stream",
     "text": [
      "17it [40:50, 145.49s/it]"
     ]
    },
    {
     "name": "stdout",
     "output_type": "stream",
     "text": [
      "fold Loss 16:  0.19292837049475958\n",
      "---------------------------------------------------------------------------\n",
      "Learning rate set to 0.002361\n",
      "0:\tlearn: 0.6914570\ttotal: 56.5ms\tremaining: 4m 42s\n",
      "999:\tlearn: 0.2211903\ttotal: 30.1s\tremaining: 2m\n",
      "1998:\tlearn: 0.1345124\ttotal: 59.7s\tremaining: 1m 29s\n",
      "2997:\tlearn: 0.0909271\ttotal: 1m 28s\tremaining: 58.9s\n",
      "3996:\tlearn: 0.0623220\ttotal: 1m 56s\tremaining: 29.3s\n",
      "4995:\tlearn: 0.0437222\ttotal: 2m 25s\tremaining: 117ms\n",
      "4999:\tlearn: 0.0436632\ttotal: 2m 25s\tremaining: 0us\n"
     ]
    },
    {
     "name": "stderr",
     "output_type": "stream",
     "text": [
      "18it [43:17, 145.81s/it]"
     ]
    },
    {
     "name": "stdout",
     "output_type": "stream",
     "text": [
      "fold Loss 17:  0.17001889103629284\n",
      "---------------------------------------------------------------------------\n",
      "Learning rate set to 0.002361\n",
      "0:\tlearn: 0.6914770\ttotal: 57.8ms\tremaining: 4m 48s\n",
      "999:\tlearn: 0.2191935\ttotal: 29.2s\tremaining: 1m 56s\n",
      "1998:\tlearn: 0.1350631\ttotal: 59.2s\tremaining: 1m 28s\n",
      "2997:\tlearn: 0.0931409\ttotal: 1m 28s\tremaining: 58.9s\n",
      "3996:\tlearn: 0.0644921\ttotal: 1m 57s\tremaining: 29.4s\n",
      "4995:\tlearn: 0.0452710\ttotal: 2m 25s\tremaining: 117ms\n",
      "4999:\tlearn: 0.0452388\ttotal: 2m 26s\tremaining: 0us\n"
     ]
    },
    {
     "name": "stderr",
     "output_type": "stream",
     "text": [
      "19it [45:44, 146.15s/it]"
     ]
    },
    {
     "name": "stdout",
     "output_type": "stream",
     "text": [
      "fold Loss 18:  0.16496756189569614\n",
      "---------------------------------------------------------------------------\n",
      "Learning rate set to 0.002362\n",
      "0:\tlearn: 0.6913413\ttotal: 47.8ms\tremaining: 3m 59s\n",
      "999:\tlearn: 0.2176951\ttotal: 29.6s\tremaining: 1m 58s\n",
      "1998:\tlearn: 0.1348291\ttotal: 58s\tremaining: 1m 27s\n",
      "2997:\tlearn: 0.0921359\ttotal: 1m 26s\tremaining: 57.7s\n",
      "3996:\tlearn: 0.0642912\ttotal: 1m 54s\tremaining: 28.8s\n",
      "4995:\tlearn: 0.0459174\ttotal: 2m 23s\tremaining: 115ms\n",
      "4999:\tlearn: 0.0458364\ttotal: 2m 23s\tremaining: 0us\n"
     ]
    },
    {
     "name": "stderr",
     "output_type": "stream",
     "text": [
      "20it [48:08, 144.43s/it]"
     ]
    },
    {
     "name": "stdout",
     "output_type": "stream",
     "text": [
      "fold Loss 19:  0.19492683166949196\n",
      "---------------------------------------------------------------------------\n",
      "Training Loss: 0.053188748550641166\n",
      "Loss for iron_oxide:\n",
      "0.1906793585043446 0.05120548250673352\n",
      "==================================================================================================\n",
      "TARGET  oxalate\n"
     ]
    },
    {
     "name": "stderr",
     "output_type": "stream",
     "text": [
      "\n"
     ]
    },
    {
     "name": "stdout",
     "output_type": "stream",
     "text": [
      "0.017377738541231848\n"
     ]
    },
    {
     "name": "stderr",
     "output_type": "stream",
     "text": [
      "100%|██████████| 101/101 [00:00<00:00, 328901.17it/s]"
     ]
    },
    {
     "name": "stdout",
     "output_type": "stream",
     "text": [
      "8\n"
     ]
    },
    {
     "name": "stderr",
     "output_type": "stream",
     "text": [
      "\n"
     ]
    },
    {
     "name": "stdout",
     "output_type": "stream",
     "text": [
      "0.018351659151464726\n"
     ]
    },
    {
     "name": "stderr",
     "output_type": "stream",
     "text": [
      "100%|██████████| 900/900 [00:00<00:00, 754974.72it/s]"
     ]
    },
    {
     "name": "stdout",
     "output_type": "stream",
     "text": [
      "11\n"
     ]
    },
    {
     "name": "stderr",
     "output_type": "stream",
     "text": [
      "\n"
     ]
    },
    {
     "name": "stdout",
     "output_type": "stream",
     "text": [
      "0.012450117546180854\n"
     ]
    },
    {
     "name": "stderr",
     "output_type": "stream",
     "text": [
      "100%|██████████| 1200/1200 [00:00<00:00, 751555.14it/s]\n"
     ]
    },
    {
     "name": "stdout",
     "output_type": "stream",
     "text": [
      "12\n",
      "0.014965356913760938\n"
     ]
    },
    {
     "name": "stderr",
     "output_type": "stream",
     "text": [
      "100%|██████████| 1000/1000 [00:00<00:00, 702916.71it/s]\n"
     ]
    },
    {
     "name": "stdout",
     "output_type": "stream",
     "text": [
      "16\n",
      "(1059, 16) (1059, 8) (1059, 11) (1059, 12)\n",
      "(1059, 47)\n",
      "(804, 16) (804, 8) (804, 11) (804, 12)\n",
      "(804, 47)\n"
     ]
    },
    {
     "name": "stderr",
     "output_type": "stream",
     "text": [
      "0it [00:00, ?it/s]"
     ]
    },
    {
     "name": "stdout",
     "output_type": "stream",
     "text": [
      "Learning rate set to 0.002361\n",
      "0:\tlearn: 0.6877878\ttotal: 9.72ms\tremaining: 48.6s\n",
      "999:\tlearn: 0.0054598\ttotal: 7.09s\tremaining: 28.4s\n",
      "1998:\tlearn: 0.0016700\ttotal: 13.7s\tremaining: 20.6s\n",
      "2997:\tlearn: 0.0009392\ttotal: 20.4s\tremaining: 13.6s\n",
      "3996:\tlearn: 0.0006464\ttotal: 27.2s\tremaining: 6.83s\n"
     ]
    },
    {
     "name": "stderr",
     "output_type": "stream",
     "text": [
      "1it [00:34, 34.78s/it]"
     ]
    },
    {
     "name": "stdout",
     "output_type": "stream",
     "text": [
      "4995:\tlearn: 0.0004926\ttotal: 33.9s\tremaining: 27.2ms\n",
      "4999:\tlearn: 0.0004921\ttotal: 34s\tremaining: 0us\n",
      "fold Loss 0:  0.0021327020287585864\n",
      "---------------------------------------------------------------------------\n",
      "Learning rate set to 0.002361\n",
      "0:\tlearn: 0.6877904\ttotal: 10.6ms\tremaining: 53.1s\n",
      "999:\tlearn: 0.0055141\ttotal: 7.08s\tremaining: 28.3s\n",
      "1998:\tlearn: 0.0016917\ttotal: 13.8s\tremaining: 20.7s\n",
      "2997:\tlearn: 0.0009502\ttotal: 20.4s\tremaining: 13.6s\n",
      "3996:\tlearn: 0.0006482\ttotal: 27.2s\tremaining: 6.82s\n"
     ]
    },
    {
     "name": "stderr",
     "output_type": "stream",
     "text": [
      "2it [01:09, 34.84s/it]"
     ]
    },
    {
     "name": "stdout",
     "output_type": "stream",
     "text": [
      "4995:\tlearn: 0.0004907\ttotal: 34s\tremaining: 27.3ms\n",
      "4999:\tlearn: 0.0004904\ttotal: 34.1s\tremaining: 0us\n",
      "fold Loss 1:  0.0003373812124962806\n",
      "---------------------------------------------------------------------------\n",
      "Learning rate set to 0.002361\n",
      "0:\tlearn: 0.6878042\ttotal: 10.4ms\tremaining: 51.8s\n",
      "999:\tlearn: 0.0054140\ttotal: 6.81s\tremaining: 27.3s\n",
      "1998:\tlearn: 0.0016525\ttotal: 13.5s\tremaining: 20.3s\n",
      "2997:\tlearn: 0.0009260\ttotal: 20.1s\tremaining: 13.4s\n",
      "3996:\tlearn: 0.0006310\ttotal: 26.8s\tremaining: 6.74s\n"
     ]
    },
    {
     "name": "stderr",
     "output_type": "stream",
     "text": [
      "3it [01:44, 34.76s/it]"
     ]
    },
    {
     "name": "stdout",
     "output_type": "stream",
     "text": [
      "4995:\tlearn: 0.0004780\ttotal: 33.9s\tremaining: 27.1ms\n",
      "4999:\tlearn: 0.0004775\ttotal: 33.9s\tremaining: 0us\n",
      "fold Loss 2:  0.0011276349999482938\n",
      "---------------------------------------------------------------------------\n",
      "Learning rate set to 0.002361\n",
      "0:\tlearn: 0.6877683\ttotal: 6.8ms\tremaining: 34s\n",
      "999:\tlearn: 0.0054902\ttotal: 6.58s\tremaining: 26.3s\n",
      "1998:\tlearn: 0.0016775\ttotal: 13.2s\tremaining: 19.8s\n",
      "2997:\tlearn: 0.0009441\ttotal: 19.7s\tremaining: 13.2s\n",
      "3996:\tlearn: 0.0006419\ttotal: 26.5s\tremaining: 6.64s\n"
     ]
    },
    {
     "name": "stderr",
     "output_type": "stream",
     "text": [
      "4it [02:18, 34.59s/it]"
     ]
    },
    {
     "name": "stdout",
     "output_type": "stream",
     "text": [
      "4995:\tlearn: 0.0004849\ttotal: 33.6s\tremaining: 26.9ms\n",
      "4999:\tlearn: 0.0004844\ttotal: 33.6s\tremaining: 0us\n",
      "fold Loss 3:  0.00029300192942828567\n",
      "---------------------------------------------------------------------------\n",
      "Learning rate set to 0.002361\n",
      "0:\tlearn: 0.6877988\ttotal: 7.6ms\tremaining: 38s\n",
      "999:\tlearn: 0.0055172\ttotal: 6.69s\tremaining: 26.8s\n",
      "1998:\tlearn: 0.0016886\ttotal: 13.3s\tremaining: 20s\n",
      "2997:\tlearn: 0.0009514\ttotal: 20s\tremaining: 13.3s\n",
      "3996:\tlearn: 0.0006547\ttotal: 26.7s\tremaining: 6.69s\n"
     ]
    },
    {
     "name": "stderr",
     "output_type": "stream",
     "text": [
      "5it [02:53, 34.53s/it]"
     ]
    },
    {
     "name": "stdout",
     "output_type": "stream",
     "text": [
      "4995:\tlearn: 0.0005078\ttotal: 33.6s\tremaining: 26.9ms\n",
      "4999:\tlearn: 0.0005073\ttotal: 33.7s\tremaining: 0us\n",
      "fold Loss 4:  0.0004945647885360998\n",
      "---------------------------------------------------------------------------\n",
      "Learning rate set to 0.002361\n",
      "0:\tlearn: 0.6877598\ttotal: 7.11ms\tremaining: 35.5s\n",
      "999:\tlearn: 0.0054660\ttotal: 6.63s\tremaining: 26.5s\n",
      "1998:\tlearn: 0.0016767\ttotal: 13.2s\tremaining: 19.8s\n",
      "2997:\tlearn: 0.0009437\ttotal: 19.8s\tremaining: 13.2s\n",
      "3996:\tlearn: 0.0006508\ttotal: 26.5s\tremaining: 6.64s\n"
     ]
    },
    {
     "name": "stderr",
     "output_type": "stream",
     "text": [
      "6it [03:27, 34.43s/it]"
     ]
    },
    {
     "name": "stdout",
     "output_type": "stream",
     "text": [
      "4995:\tlearn: 0.0004896\ttotal: 33.5s\tremaining: 26.8ms\n",
      "4999:\tlearn: 0.0004891\ttotal: 33.5s\tremaining: 0us\n",
      "fold Loss 5:  0.0006064225591944468\n",
      "---------------------------------------------------------------------------\n",
      "Learning rate set to 0.002361\n",
      "0:\tlearn: 0.6878070\ttotal: 6.89ms\tremaining: 34.4s\n",
      "999:\tlearn: 0.0053267\ttotal: 6.63s\tremaining: 26.5s\n",
      "1998:\tlearn: 0.0015990\ttotal: 13.2s\tremaining: 19.8s\n",
      "2997:\tlearn: 0.0009006\ttotal: 19.8s\tremaining: 13.2s\n",
      "3996:\tlearn: 0.0006077\ttotal: 26.5s\tremaining: 6.65s\n"
     ]
    },
    {
     "name": "stderr",
     "output_type": "stream",
     "text": [
      "7it [04:01, 34.37s/it]"
     ]
    },
    {
     "name": "stdout",
     "output_type": "stream",
     "text": [
      "4995:\tlearn: 0.0004569\ttotal: 33.5s\tremaining: 26.8ms\n",
      "4999:\tlearn: 0.0004565\ttotal: 33.5s\tremaining: 0us\n",
      "fold Loss 6:  0.0015291778747619912\n",
      "---------------------------------------------------------------------------\n",
      "Learning rate set to 0.002361\n",
      "0:\tlearn: 0.6877984\ttotal: 6.82ms\tremaining: 34.1s\n",
      "999:\tlearn: 0.0055115\ttotal: 6.66s\tremaining: 26.6s\n",
      "1998:\tlearn: 0.0016864\ttotal: 13.2s\tremaining: 19.8s\n",
      "2997:\tlearn: 0.0009468\ttotal: 19.8s\tremaining: 13.2s\n",
      "3996:\tlearn: 0.0006486\ttotal: 26.9s\tremaining: 6.75s\n"
     ]
    },
    {
     "name": "stderr",
     "output_type": "stream",
     "text": [
      "8it [04:35, 34.34s/it]"
     ]
    },
    {
     "name": "stdout",
     "output_type": "stream",
     "text": [
      "4995:\tlearn: 0.0004944\ttotal: 33.5s\tremaining: 26.8ms\n",
      "4999:\tlearn: 0.0004940\ttotal: 33.5s\tremaining: 0us\n",
      "fold Loss 7:  0.00020878252015842625\n",
      "---------------------------------------------------------------------------\n",
      "Learning rate set to 0.002361\n",
      "0:\tlearn: 0.6873340\ttotal: 6.85ms\tremaining: 34.3s\n",
      "999:\tlearn: 0.0051680\ttotal: 6.64s\tremaining: 26.6s\n",
      "1998:\tlearn: 0.0015190\ttotal: 13.2s\tremaining: 19.8s\n",
      "2997:\tlearn: 0.0008379\ttotal: 19.8s\tremaining: 13.2s\n",
      "3996:\tlearn: 0.0005805\ttotal: 26.9s\tremaining: 6.75s\n"
     ]
    },
    {
     "name": "stderr",
     "output_type": "stream",
     "text": [
      "9it [05:10, 34.34s/it]"
     ]
    },
    {
     "name": "stdout",
     "output_type": "stream",
     "text": [
      "4995:\tlearn: 0.0004437\ttotal: 33.5s\tremaining: 26.9ms\n",
      "4999:\tlearn: 0.0004432\ttotal: 33.6s\tremaining: 0us\n",
      "fold Loss 8:  0.08526426825877993\n",
      "---------------------------------------------------------------------------\n",
      "Learning rate set to 0.002361\n",
      "0:\tlearn: 0.6876983\ttotal: 7.04ms\tremaining: 35.2s\n",
      "999:\tlearn: 0.0052695\ttotal: 6.85s\tremaining: 27.4s\n",
      "1998:\tlearn: 0.0016226\ttotal: 13.5s\tremaining: 20.2s\n",
      "2997:\tlearn: 0.0008967\ttotal: 20.1s\tremaining: 13.4s\n",
      "3996:\tlearn: 0.0006050\ttotal: 27.1s\tremaining: 6.79s\n"
     ]
    },
    {
     "name": "stderr",
     "output_type": "stream",
     "text": [
      "10it [05:44, 34.35s/it]"
     ]
    },
    {
     "name": "stdout",
     "output_type": "stream",
     "text": [
      "4995:\tlearn: 0.0004531\ttotal: 33.6s\tremaining: 26.9ms\n",
      "4999:\tlearn: 0.0004527\ttotal: 33.6s\tremaining: 0us\n",
      "fold Loss 9:  0.049161431949882844\n",
      "---------------------------------------------------------------------------\n",
      "Learning rate set to 0.002361\n",
      "0:\tlearn: 0.6878082\ttotal: 7.06ms\tremaining: 35.3s\n",
      "999:\tlearn: 0.0053977\ttotal: 6.61s\tremaining: 26.4s\n",
      "1998:\tlearn: 0.0016798\ttotal: 13.2s\tremaining: 19.9s\n",
      "2997:\tlearn: 0.0009335\ttotal: 19.8s\tremaining: 13.2s\n",
      "3996:\tlearn: 0.0006286\ttotal: 27s\tremaining: 6.78s\n"
     ]
    },
    {
     "name": "stderr",
     "output_type": "stream",
     "text": [
      "11it [06:19, 34.39s/it]"
     ]
    },
    {
     "name": "stdout",
     "output_type": "stream",
     "text": [
      "4995:\tlearn: 0.0004768\ttotal: 33.7s\tremaining: 27ms\n",
      "4999:\tlearn: 0.0004764\ttotal: 33.7s\tremaining: 0us\n",
      "fold Loss 10:  0.005874000787465564\n",
      "---------------------------------------------------------------------------\n",
      "Learning rate set to 0.002361\n",
      "0:\tlearn: 0.6877919\ttotal: 6.91ms\tremaining: 34.6s\n",
      "999:\tlearn: 0.0054001\ttotal: 6.61s\tremaining: 26.4s\n",
      "1998:\tlearn: 0.0016069\ttotal: 13.2s\tremaining: 19.9s\n",
      "2997:\tlearn: 0.0009054\ttotal: 19.9s\tremaining: 13.3s\n",
      "3996:\tlearn: 0.0006242\ttotal: 26.9s\tremaining: 6.74s\n"
     ]
    },
    {
     "name": "stderr",
     "output_type": "stream",
     "text": [
      "12it [06:53, 34.38s/it]"
     ]
    },
    {
     "name": "stdout",
     "output_type": "stream",
     "text": [
      "4995:\tlearn: 0.0004693\ttotal: 33.6s\tremaining: 26.9ms\n",
      "4999:\tlearn: 0.0004688\ttotal: 33.6s\tremaining: 0us\n",
      "fold Loss 11:  0.00228639399367114\n",
      "---------------------------------------------------------------------------\n",
      "Learning rate set to 0.002361\n",
      "0:\tlearn: 0.6877728\ttotal: 7.16ms\tremaining: 35.8s\n",
      "999:\tlearn: 0.0052936\ttotal: 6.57s\tremaining: 26.3s\n",
      "1998:\tlearn: 0.0015822\ttotal: 13.2s\tremaining: 19.8s\n",
      "2997:\tlearn: 0.0008880\ttotal: 20.1s\tremaining: 13.4s\n",
      "3996:\tlearn: 0.0006063\ttotal: 26.7s\tremaining: 6.71s\n"
     ]
    },
    {
     "name": "stderr",
     "output_type": "stream",
     "text": [
      "13it [07:27, 34.30s/it]"
     ]
    },
    {
     "name": "stdout",
     "output_type": "stream",
     "text": [
      "4995:\tlearn: 0.0004596\ttotal: 33.3s\tremaining: 26.7ms\n",
      "4999:\tlearn: 0.0004591\ttotal: 33.4s\tremaining: 0us\n",
      "fold Loss 12:  0.0008309704450932808\n",
      "---------------------------------------------------------------------------\n",
      "Learning rate set to 0.002361\n",
      "0:\tlearn: 0.6877529\ttotal: 7.72ms\tremaining: 38.6s\n",
      "999:\tlearn: 0.0054901\ttotal: 6.65s\tremaining: 26.6s\n",
      "1998:\tlearn: 0.0016805\ttotal: 13.3s\tremaining: 19.9s\n",
      "2997:\tlearn: 0.0009471\ttotal: 20.2s\tremaining: 13.5s\n",
      "3996:\tlearn: 0.0006413\ttotal: 26.9s\tremaining: 6.75s\n"
     ]
    },
    {
     "name": "stderr",
     "output_type": "stream",
     "text": [
      "14it [08:01, 34.32s/it]"
     ]
    },
    {
     "name": "stdout",
     "output_type": "stream",
     "text": [
      "4995:\tlearn: 0.0004747\ttotal: 33.6s\tremaining: 26.9ms\n",
      "4999:\tlearn: 0.0004742\ttotal: 33.6s\tremaining: 0us\n",
      "fold Loss 13:  0.0003981626439535399\n",
      "---------------------------------------------------------------------------\n",
      "Learning rate set to 0.002361\n",
      "0:\tlearn: 0.6878195\ttotal: 6.99ms\tremaining: 34.9s\n",
      "999:\tlearn: 0.0054604\ttotal: 6.61s\tremaining: 26.4s\n",
      "1998:\tlearn: 0.0016660\ttotal: 13.1s\tremaining: 19.7s\n",
      "2997:\tlearn: 0.0009297\ttotal: 20.1s\tremaining: 13.4s\n",
      "3996:\tlearn: 0.0006415\ttotal: 26.9s\tremaining: 6.74s\n"
     ]
    },
    {
     "name": "stderr",
     "output_type": "stream",
     "text": [
      "15it [08:36, 34.32s/it]"
     ]
    },
    {
     "name": "stdout",
     "output_type": "stream",
     "text": [
      "4995:\tlearn: 0.0004957\ttotal: 33.5s\tremaining: 26.9ms\n",
      "4999:\tlearn: 0.0004953\ttotal: 33.6s\tremaining: 0us\n",
      "fold Loss 14:  0.0004436122858886618\n",
      "---------------------------------------------------------------------------\n",
      "Learning rate set to 0.002361\n",
      "0:\tlearn: 0.6877551\ttotal: 6.99ms\tremaining: 35s\n",
      "999:\tlearn: 0.0053046\ttotal: 6.76s\tremaining: 27s\n",
      "1998:\tlearn: 0.0016105\ttotal: 13.4s\tremaining: 20.1s\n",
      "2997:\tlearn: 0.0009131\ttotal: 20.3s\tremaining: 13.5s\n",
      "3996:\tlearn: 0.0006444\ttotal: 27s\tremaining: 6.78s\n"
     ]
    },
    {
     "name": "stderr",
     "output_type": "stream",
     "text": [
      "16it [09:10, 34.35s/it]"
     ]
    },
    {
     "name": "stdout",
     "output_type": "stream",
     "text": [
      "4995:\tlearn: 0.0005045\ttotal: 33.7s\tremaining: 26.9ms\n",
      "4999:\tlearn: 0.0005040\ttotal: 33.7s\tremaining: 0us\n",
      "fold Loss 15:  0.005104821752858731\n",
      "---------------------------------------------------------------------------\n",
      "Learning rate set to 0.002361\n",
      "0:\tlearn: 0.6877689\ttotal: 7.15ms\tremaining: 35.7s\n",
      "999:\tlearn: 0.0054394\ttotal: 6.68s\tremaining: 26.7s\n",
      "1998:\tlearn: 0.0016598\ttotal: 13.4s\tremaining: 20.1s\n",
      "2997:\tlearn: 0.0009250\ttotal: 20.2s\tremaining: 13.5s\n",
      "3996:\tlearn: 0.0006444\ttotal: 26.9s\tremaining: 6.75s\n"
     ]
    },
    {
     "name": "stderr",
     "output_type": "stream",
     "text": [
      "17it [09:44, 34.34s/it]"
     ]
    },
    {
     "name": "stdout",
     "output_type": "stream",
     "text": [
      "4995:\tlearn: 0.0005049\ttotal: 33.5s\tremaining: 26.8ms\n",
      "4999:\tlearn: 0.0005045\ttotal: 33.5s\tremaining: 0us\n",
      "fold Loss 16:  0.03159211628515653\n",
      "---------------------------------------------------------------------------\n",
      "Learning rate set to 0.002361\n",
      "0:\tlearn: 0.6877468\ttotal: 6.83ms\tremaining: 34.1s\n",
      "999:\tlearn: 0.0055057\ttotal: 6.63s\tremaining: 26.5s\n",
      "1998:\tlearn: 0.0016337\ttotal: 13.6s\tremaining: 20.3s\n",
      "2997:\tlearn: 0.0009074\ttotal: 20.1s\tremaining: 13.4s\n",
      "3996:\tlearn: 0.0006218\ttotal: 26.8s\tremaining: 6.72s\n"
     ]
    },
    {
     "name": "stderr",
     "output_type": "stream",
     "text": [
      "18it [10:19, 34.26s/it]"
     ]
    },
    {
     "name": "stdout",
     "output_type": "stream",
     "text": [
      "4995:\tlearn: 0.0004737\ttotal: 33.3s\tremaining: 26.7ms\n",
      "4999:\tlearn: 0.0004733\ttotal: 33.3s\tremaining: 0us\n",
      "fold Loss 17:  0.0012898656617013366\n",
      "---------------------------------------------------------------------------\n",
      "Learning rate set to 0.002361\n",
      "0:\tlearn: 0.6878045\ttotal: 6.79ms\tremaining: 34s\n",
      "999:\tlearn: 0.0054570\ttotal: 6.62s\tremaining: 26.5s\n",
      "1998:\tlearn: 0.0016714\ttotal: 13.6s\tremaining: 20.4s\n",
      "2997:\tlearn: 0.0009301\ttotal: 20.2s\tremaining: 13.5s\n",
      "3996:\tlearn: 0.0006257\ttotal: 26.9s\tremaining: 6.75s\n"
     ]
    },
    {
     "name": "stderr",
     "output_type": "stream",
     "text": [
      "19it [10:53, 34.26s/it]"
     ]
    },
    {
     "name": "stdout",
     "output_type": "stream",
     "text": [
      "4995:\tlearn: 0.0004765\ttotal: 33.5s\tremaining: 26.8ms\n",
      "4999:\tlearn: 0.0004761\ttotal: 33.5s\tremaining: 0us\n",
      "fold Loss 18:  0.00720670758356088\n",
      "---------------------------------------------------------------------------\n",
      "Learning rate set to 0.002362\n",
      "0:\tlearn: 0.6877641\ttotal: 6.66ms\tremaining: 33.3s\n",
      "999:\tlearn: 0.0055204\ttotal: 6.56s\tremaining: 26.3s\n",
      "1998:\tlearn: 0.0016875\ttotal: 13.5s\tremaining: 20.3s\n",
      "2997:\tlearn: 0.0009425\ttotal: 20.1s\tremaining: 13.4s\n",
      "3996:\tlearn: 0.0006452\ttotal: 26.9s\tremaining: 6.76s\n"
     ]
    },
    {
     "name": "stderr",
     "output_type": "stream",
     "text": [
      "20it [11:27, 34.39s/it]"
     ]
    },
    {
     "name": "stdout",
     "output_type": "stream",
     "text": [
      "4995:\tlearn: 0.0004975\ttotal: 33.7s\tremaining: 27ms\n",
      "4999:\tlearn: 0.0004971\ttotal: 33.7s\tremaining: 0us\n",
      "fold Loss 19:  0.0005821071274972368\n",
      "---------------------------------------------------------------------------\n",
      "Training Loss: 0.0005032188036956361\n",
      "Loss for oxalate:\n",
      "0.009838206334439603 0.021069987305300155\n",
      "==================================================================================================\n",
      "TARGET  oxychlorine\n"
     ]
    },
    {
     "name": "stderr",
     "output_type": "stream",
     "text": [
      "\n"
     ]
    },
    {
     "name": "stdout",
     "output_type": "stream",
     "text": [
      "0.37302148024889337\n"
     ]
    },
    {
     "name": "stderr",
     "output_type": "stream",
     "text": [
      "100%|██████████| 101/101 [00:00<00:00, 389360.94it/s]\n"
     ]
    },
    {
     "name": "stdout",
     "output_type": "stream",
     "text": [
      "19\n",
      "0.2795394339602927\n"
     ]
    },
    {
     "name": "stderr",
     "output_type": "stream",
     "text": [
      "100%|██████████| 900/900 [00:00<00:00, 653544.60it/s]\n"
     ]
    },
    {
     "name": "stdout",
     "output_type": "stream",
     "text": [
      "46\n",
      "0.23310839696688207\n"
     ]
    },
    {
     "name": "stderr",
     "output_type": "stream",
     "text": [
      "100%|██████████| 1200/1200 [00:00<00:00, 743012.22it/s]\n"
     ]
    },
    {
     "name": "stdout",
     "output_type": "stream",
     "text": [
      "65\n",
      "0.257747791990199\n"
     ]
    },
    {
     "name": "stderr",
     "output_type": "stream",
     "text": [
      "100%|██████████| 1000/1000 [00:00<00:00, 705636.61it/s]\n"
     ]
    },
    {
     "name": "stdout",
     "output_type": "stream",
     "text": [
      "60\n",
      "(1059, 60) (1059, 19) (1059, 46) (1059, 65)\n",
      "(1059, 190)\n",
      "(804, 60) (804, 19) (804, 46) (804, 65)\n",
      "(804, 190)\n"
     ]
    },
    {
     "name": "stderr",
     "output_type": "stream",
     "text": [
      "0it [00:00, ?it/s]"
     ]
    },
    {
     "name": "stdout",
     "output_type": "stream",
     "text": [
      "Learning rate set to 0.002361\n",
      "0:\tlearn: 0.6906503\ttotal: 43.2ms\tremaining: 3m 36s\n",
      "999:\tlearn: 0.1238109\ttotal: 24.5s\tremaining: 1m 37s\n",
      "1998:\tlearn: 0.0706759\ttotal: 49.1s\tremaining: 1m 13s\n",
      "2997:\tlearn: 0.0473843\ttotal: 1m 13s\tremaining: 49.2s\n",
      "3996:\tlearn: 0.0321714\ttotal: 1m 38s\tremaining: 24.6s\n",
      "4995:\tlearn: 0.0227638\ttotal: 2m 2s\tremaining: 98.1ms\n",
      "4999:\tlearn: 0.0227205\ttotal: 2m 2s\tremaining: 0us\n",
      "fold Loss 0:  0.07720644920493347\n"
     ]
    },
    {
     "name": "stderr",
     "output_type": "stream",
     "text": [
      "1it [02:03, 123.46s/it]"
     ]
    },
    {
     "name": "stdout",
     "output_type": "stream",
     "text": [
      "---------------------------------------------------------------------------\n",
      "Learning rate set to 0.002361\n",
      "0:\tlearn: 0.6903527\ttotal: 51ms\tremaining: 4m 14s\n",
      "999:\tlearn: 0.1231278\ttotal: 24.8s\tremaining: 1m 39s\n",
      "1998:\tlearn: 0.0714267\ttotal: 49.2s\tremaining: 1m 13s\n",
      "2997:\tlearn: 0.0479495\ttotal: 1m 13s\tremaining: 49s\n",
      "3996:\tlearn: 0.0324711\ttotal: 1m 37s\tremaining: 24.5s\n",
      "4995:\tlearn: 0.0231120\ttotal: 2m 2s\tremaining: 97.7ms\n",
      "4999:\tlearn: 0.0230752\ttotal: 2m 2s\tremaining: 0us\n"
     ]
    },
    {
     "name": "stderr",
     "output_type": "stream",
     "text": [
      "2it [04:06, 123.20s/it]"
     ]
    },
    {
     "name": "stdout",
     "output_type": "stream",
     "text": [
      "fold Loss 1:  0.11072253704768843\n",
      "---------------------------------------------------------------------------\n",
      "Learning rate set to 0.002361\n",
      "0:\tlearn: 0.6902607\ttotal: 38.6ms\tremaining: 3m 13s\n",
      "999:\tlearn: 0.1150564\ttotal: 24.4s\tremaining: 1m 37s\n",
      "1998:\tlearn: 0.0640614\ttotal: 48.6s\tremaining: 1m 12s\n",
      "2997:\tlearn: 0.0410736\ttotal: 1m 12s\tremaining: 48.7s\n",
      "3996:\tlearn: 0.0279575\ttotal: 1m 37s\tremaining: 24.4s\n",
      "4995:\tlearn: 0.0197839\ttotal: 2m 1s\tremaining: 97.5ms\n",
      "4999:\tlearn: 0.0197388\ttotal: 2m 1s\tremaining: 0us\n",
      "fold Loss 2:  0.2838196337864739\n"
     ]
    },
    {
     "name": "stderr",
     "output_type": "stream",
     "text": [
      "3it [06:09, 122.97s/it]"
     ]
    },
    {
     "name": "stdout",
     "output_type": "stream",
     "text": [
      "---------------------------------------------------------------------------\n",
      "Learning rate set to 0.002361\n",
      "0:\tlearn: 0.6908504\ttotal: 50.6ms\tremaining: 4m 12s\n",
      "999:\tlearn: 0.1178708\ttotal: 24.2s\tremaining: 1m 36s\n",
      "1998:\tlearn: 0.0676693\ttotal: 48.5s\tremaining: 1m 12s\n",
      "2997:\tlearn: 0.0449171\ttotal: 1m 13s\tremaining: 48.8s\n",
      "3996:\tlearn: 0.0301242\ttotal: 1m 37s\tremaining: 24.5s\n",
      "4995:\tlearn: 0.0206874\ttotal: 2m 1s\tremaining: 97.3ms\n",
      "4999:\tlearn: 0.0206641\ttotal: 2m 1s\tremaining: 0us\n",
      "fold Loss 3:  0.1942022253869589\n"
     ]
    },
    {
     "name": "stderr",
     "output_type": "stream",
     "text": [
      "4it [08:11, 122.76s/it]"
     ]
    },
    {
     "name": "stdout",
     "output_type": "stream",
     "text": [
      "---------------------------------------------------------------------------\n",
      "Learning rate set to 0.002361\n",
      "0:\tlearn: 0.6902631\ttotal: 38.9ms\tremaining: 3m 14s\n",
      "999:\tlearn: 0.1237106\ttotal: 24.5s\tremaining: 1m 38s\n",
      "1998:\tlearn: 0.0711467\ttotal: 49.3s\tremaining: 1m 13s\n",
      "2997:\tlearn: 0.0474980\ttotal: 1m 14s\tremaining: 49.4s\n",
      "3996:\tlearn: 0.0322464\ttotal: 1m 38s\tremaining: 24.7s\n",
      "4995:\tlearn: 0.0231466\ttotal: 2m 3s\tremaining: 98.6ms\n",
      "4999:\tlearn: 0.0231238\ttotal: 2m 3s\tremaining: 0us\n",
      "fold Loss 4:  0.05666085044713272\n"
     ]
    },
    {
     "name": "stderr",
     "output_type": "stream",
     "text": [
      "5it [10:15, 123.23s/it]"
     ]
    },
    {
     "name": "stdout",
     "output_type": "stream",
     "text": [
      "---------------------------------------------------------------------------\n",
      "Learning rate set to 0.002361\n",
      "0:\tlearn: 0.6901718\ttotal: 50ms\tremaining: 4m 9s\n",
      "999:\tlearn: 0.1126936\ttotal: 24.9s\tremaining: 1m 39s\n",
      "1998:\tlearn: 0.0609411\ttotal: 49.5s\tremaining: 1m 14s\n",
      "2997:\tlearn: 0.0383981\ttotal: 1m 14s\tremaining: 49.4s\n",
      "3996:\tlearn: 0.0251379\ttotal: 1m 38s\tremaining: 24.8s\n",
      "4995:\tlearn: 0.0173831\ttotal: 2m 3s\tremaining: 99ms\n",
      "4999:\tlearn: 0.0173624\ttotal: 2m 3s\tremaining: 0us\n"
     ]
    },
    {
     "name": "stderr",
     "output_type": "stream",
     "text": [
      "6it [12:20, 123.72s/it]"
     ]
    },
    {
     "name": "stdout",
     "output_type": "stream",
     "text": [
      "fold Loss 5:  0.38882748700987485\n",
      "---------------------------------------------------------------------------\n",
      "Learning rate set to 0.002361\n",
      "0:\tlearn: 0.6906426\ttotal: 39.9ms\tremaining: 3m 19s\n",
      "999:\tlearn: 0.1200840\ttotal: 24.7s\tremaining: 1m 38s\n",
      "1998:\tlearn: 0.0691067\ttotal: 49.5s\tremaining: 1m 14s\n",
      "2997:\tlearn: 0.0457242\ttotal: 1m 13s\tremaining: 49.2s\n",
      "3996:\tlearn: 0.0306132\ttotal: 1m 38s\tremaining: 24.7s\n",
      "4995:\tlearn: 0.0209768\ttotal: 2m 3s\tremaining: 98.5ms\n",
      "4999:\tlearn: 0.0209315\ttotal: 2m 3s\tremaining: 0us\n"
     ]
    },
    {
     "name": "stderr",
     "output_type": "stream",
     "text": [
      "7it [14:24, 123.82s/it]"
     ]
    },
    {
     "name": "stdout",
     "output_type": "stream",
     "text": [
      "fold Loss 6:  0.1790475640125698\n",
      "---------------------------------------------------------------------------\n",
      "Learning rate set to 0.002361\n",
      "0:\tlearn: 0.6905313\ttotal: 50.6ms\tremaining: 4m 13s\n",
      "999:\tlearn: 0.1205440\ttotal: 24.9s\tremaining: 1m 39s\n",
      "1998:\tlearn: 0.0694084\ttotal: 49.3s\tremaining: 1m 13s\n",
      "2997:\tlearn: 0.0455396\ttotal: 1m 14s\tremaining: 49.5s\n",
      "3996:\tlearn: 0.0306872\ttotal: 1m 38s\tremaining: 24.7s\n",
      "4995:\tlearn: 0.0219690\ttotal: 2m 3s\tremaining: 98.8ms\n",
      "4999:\tlearn: 0.0219639\ttotal: 2m 3s\tremaining: 0us\n"
     ]
    },
    {
     "name": "stderr",
     "output_type": "stream",
     "text": [
      "8it [16:28, 123.98s/it]"
     ]
    },
    {
     "name": "stdout",
     "output_type": "stream",
     "text": [
      "fold Loss 7:  0.13725596071200954\n",
      "---------------------------------------------------------------------------\n",
      "Learning rate set to 0.002361\n",
      "0:\tlearn: 0.6903517\ttotal: 39ms\tremaining: 3m 15s\n",
      "999:\tlearn: 0.1232442\ttotal: 24.1s\tremaining: 1m 36s\n",
      "1998:\tlearn: 0.0709076\ttotal: 48.8s\tremaining: 1m 13s\n",
      "2997:\tlearn: 0.0476408\ttotal: 1m 13s\tremaining: 49s\n",
      "3996:\tlearn: 0.0321940\ttotal: 1m 37s\tremaining: 24.6s\n",
      "4995:\tlearn: 0.0224021\ttotal: 2m 2s\tremaining: 97.9ms\n",
      "4999:\tlearn: 0.0223662\ttotal: 2m 2s\tremaining: 0us\n",
      "fold Loss 8:  0.08544481811559672\n"
     ]
    },
    {
     "name": "stderr",
     "output_type": "stream",
     "text": [
      "9it [18:31, 123.74s/it]"
     ]
    },
    {
     "name": "stdout",
     "output_type": "stream",
     "text": [
      "---------------------------------------------------------------------------\n",
      "Learning rate set to 0.002361\n",
      "0:\tlearn: 0.6900666\ttotal: 52ms\tremaining: 4m 19s\n",
      "999:\tlearn: 0.1198015\ttotal: 24.7s\tremaining: 1m 38s\n",
      "1998:\tlearn: 0.0692282\ttotal: 49.2s\tremaining: 1m 13s\n",
      "2997:\tlearn: 0.0465396\ttotal: 1m 14s\tremaining: 49.4s\n",
      "3996:\tlearn: 0.0318822\ttotal: 1m 38s\tremaining: 24.7s\n",
      "4995:\tlearn: 0.0225387\ttotal: 2m 3s\tremaining: 98.6ms\n",
      "4999:\tlearn: 0.0224947\ttotal: 2m 3s\tremaining: 0us\n"
     ]
    },
    {
     "name": "stderr",
     "output_type": "stream",
     "text": [
      "10it [20:35, 123.84s/it]"
     ]
    },
    {
     "name": "stdout",
     "output_type": "stream",
     "text": [
      "fold Loss 9:  0.10103908674429549\n",
      "---------------------------------------------------------------------------\n",
      "Learning rate set to 0.002361\n",
      "0:\tlearn: 0.6906050\ttotal: 39.3ms\tremaining: 3m 16s\n",
      "999:\tlearn: 0.1244947\ttotal: 25s\tremaining: 1m 39s\n",
      "1998:\tlearn: 0.0719779\ttotal: 50.1s\tremaining: 1m 15s\n",
      "2997:\tlearn: 0.0478990\ttotal: 1m 14s\tremaining: 49.7s\n",
      "3996:\tlearn: 0.0323241\ttotal: 1m 39s\tremaining: 25s\n",
      "4995:\tlearn: 0.0225408\ttotal: 2m 4s\tremaining: 99.4ms\n",
      "4999:\tlearn: 0.0225038\ttotal: 2m 4s\tremaining: 0us\n",
      "fold Loss 10: "
     ]
    },
    {
     "name": "stderr",
     "output_type": "stream",
     "text": [
      "11it [22:41, 124.24s/it]"
     ]
    },
    {
     "name": "stdout",
     "output_type": "stream",
     "text": [
      " 0.03903986533095835\n",
      "---------------------------------------------------------------------------\n",
      "Learning rate set to 0.002361\n",
      "0:\tlearn: 0.6907375\ttotal: 50.2ms\tremaining: 4m 10s\n",
      "999:\tlearn: 0.1230372\ttotal: 25s\tremaining: 1m 39s\n",
      "1998:\tlearn: 0.0703233\ttotal: 49.4s\tremaining: 1m 14s\n",
      "2997:\tlearn: 0.0473428\ttotal: 1m 14s\tremaining: 49.6s\n",
      "3996:\tlearn: 0.0319596\ttotal: 1m 39s\tremaining: 24.9s\n",
      "4995:\tlearn: 0.0227604\ttotal: 2m 4s\tremaining: 99.4ms\n",
      "4999:\tlearn: 0.0227454\ttotal: 2m 4s\tremaining: 0us\n"
     ]
    },
    {
     "name": "stderr",
     "output_type": "stream",
     "text": [
      "12it [24:46, 124.50s/it]"
     ]
    },
    {
     "name": "stdout",
     "output_type": "stream",
     "text": [
      "fold Loss 11:  0.06882355918315944\n",
      "---------------------------------------------------------------------------\n",
      "Learning rate set to 0.002361\n",
      "0:\tlearn: 0.6909764\ttotal: 39.3ms\tremaining: 3m 16s\n",
      "999:\tlearn: 0.1231571\ttotal: 24.4s\tremaining: 1m 37s\n",
      "1998:\tlearn: 0.0710606\ttotal: 49.5s\tremaining: 1m 14s\n",
      "2997:\tlearn: 0.0472746\ttotal: 1m 14s\tremaining: 49.5s\n",
      "3996:\tlearn: 0.0322796\ttotal: 1m 39s\tremaining: 24.9s\n",
      "4995:\tlearn: 0.0232033\ttotal: 2m 3s\tremaining: 98.8ms\n",
      "4999:\tlearn: 0.0231629\ttotal: 2m 3s\tremaining: 0us\n",
      "fold Loss 12: "
     ]
    },
    {
     "name": "stderr",
     "output_type": "stream",
     "text": [
      "13it [26:50, 124.46s/it]"
     ]
    },
    {
     "name": "stdout",
     "output_type": "stream",
     "text": [
      " 0.050590375022975406\n",
      "---------------------------------------------------------------------------\n",
      "Learning rate set to 0.002361\n",
      "0:\tlearn: 0.6910452\ttotal: 51.5ms\tremaining: 4m 17s\n",
      "999:\tlearn: 0.1208380\ttotal: 25s\tremaining: 1m 39s\n",
      "1998:\tlearn: 0.0687752\ttotal: 49.5s\tremaining: 1m 14s\n",
      "2997:\tlearn: 0.0456323\ttotal: 1m 13s\tremaining: 49.3s\n",
      "3996:\tlearn: 0.0309909\ttotal: 1m 38s\tremaining: 24.6s\n",
      "4995:\tlearn: 0.0214684\ttotal: 2m 2s\tremaining: 98.1ms\n",
      "4999:\tlearn: 0.0214476\ttotal: 2m 2s\tremaining: 0us\n",
      "fold Loss 13:  0.18148188128814902\n"
     ]
    },
    {
     "name": "stderr",
     "output_type": "stream",
     "text": [
      "14it [28:54, 124.16s/it]"
     ]
    },
    {
     "name": "stdout",
     "output_type": "stream",
     "text": [
      "---------------------------------------------------------------------------\n",
      "Learning rate set to 0.002361\n",
      "0:\tlearn: 0.6901467\ttotal: 38.9ms\tremaining: 3m 14s\n",
      "999:\tlearn: 0.1176949\ttotal: 24.7s\tremaining: 1m 38s\n",
      "1998:\tlearn: 0.0689031\ttotal: 49.2s\tremaining: 1m 13s\n",
      "2997:\tlearn: 0.0466199\ttotal: 1m 13s\tremaining: 48.9s\n",
      "3996:\tlearn: 0.0315850\ttotal: 1m 37s\tremaining: 24.6s\n",
      "4995:\tlearn: 0.0219848\ttotal: 2m 2s\tremaining: 97.8ms\n",
      "4999:\tlearn: 0.0219687\ttotal: 2m 2s\tremaining: 0us\n",
      "fold Loss 14:  0.17362670635502037\n"
     ]
    },
    {
     "name": "stderr",
     "output_type": "stream",
     "text": [
      "15it [30:57, 123.83s/it]"
     ]
    },
    {
     "name": "stdout",
     "output_type": "stream",
     "text": [
      "---------------------------------------------------------------------------\n",
      "Learning rate set to 0.002361\n",
      "0:\tlearn: 0.6901424\ttotal: 49.3ms\tremaining: 4m 6s\n",
      "999:\tlearn: 0.1185046\ttotal: 24.4s\tremaining: 1m 37s\n",
      "1998:\tlearn: 0.0675461\ttotal: 48.4s\tremaining: 1m 12s\n",
      "2997:\tlearn: 0.0445554\ttotal: 1m 13s\tremaining: 48.8s\n",
      "3996:\tlearn: 0.0303157\ttotal: 1m 37s\tremaining: 24.6s\n",
      "4995:\tlearn: 0.0210828\ttotal: 2m 2s\tremaining: 98.4ms\n",
      "4999:\tlearn: 0.0210577\ttotal: 2m 2s\tremaining: 0us\n"
     ]
    },
    {
     "name": "stderr",
     "output_type": "stream",
     "text": [
      "16it [33:00, 123.82s/it]"
     ]
    },
    {
     "name": "stdout",
     "output_type": "stream",
     "text": [
      "fold Loss 15:  0.19701285040729527\n",
      "---------------------------------------------------------------------------\n",
      "Learning rate set to 0.002361\n",
      "0:\tlearn: 0.6904057\ttotal: 40.3ms\tremaining: 3m 21s\n",
      "999:\tlearn: 0.1244252\ttotal: 24.5s\tremaining: 1m 38s\n",
      "1998:\tlearn: 0.0714607\ttotal: 49.6s\tremaining: 1m 14s\n",
      "2997:\tlearn: 0.0473725\ttotal: 1m 14s\tremaining: 49.8s\n",
      "3996:\tlearn: 0.0326391\ttotal: 1m 39s\tremaining: 25s\n",
      "4995:\tlearn: 0.0233162\ttotal: 2m 4s\tremaining: 99.3ms\n",
      "4999:\tlearn: 0.0232961\ttotal: 2m 4s\tremaining: 0us\n"
     ]
    },
    {
     "name": "stderr",
     "output_type": "stream",
     "text": [
      "17it [35:05, 124.17s/it]"
     ]
    },
    {
     "name": "stdout",
     "output_type": "stream",
     "text": [
      "fold Loss 16:  0.04076022008572597\n",
      "---------------------------------------------------------------------------\n",
      "Learning rate set to 0.002361\n",
      "0:\tlearn: 0.6904262\ttotal: 50.3ms\tremaining: 4m 11s\n",
      "999:\tlearn: 0.1208276\ttotal: 25s\tremaining: 1m 39s\n",
      "1998:\tlearn: 0.0693627\ttotal: 49.9s\tremaining: 1m 14s\n",
      "2997:\tlearn: 0.0457668\ttotal: 1m 14s\tremaining: 50s\n",
      "3996:\tlearn: 0.0308822\ttotal: 1m 39s\tremaining: 24.9s\n",
      "4995:\tlearn: 0.0215737\ttotal: 2m 4s\tremaining: 99.3ms\n",
      "4999:\tlearn: 0.0215373\ttotal: 2m 4s\tremaining: 0us\n",
      "fold Loss 17:  0.21146207165731246\n"
     ]
    },
    {
     "name": "stderr",
     "output_type": "stream",
     "text": [
      "18it [37:10, 124.43s/it]"
     ]
    },
    {
     "name": "stdout",
     "output_type": "stream",
     "text": [
      "---------------------------------------------------------------------------\n",
      "Learning rate set to 0.002361\n",
      "0:\tlearn: 0.6909940\ttotal: 40.5ms\tremaining: 3m 22s\n",
      "999:\tlearn: 0.1253703\ttotal: 24.8s\tremaining: 1m 39s\n",
      "1998:\tlearn: 0.0725261\ttotal: 49.9s\tremaining: 1m 14s\n",
      "2997:\tlearn: 0.0485981\ttotal: 1m 14s\tremaining: 49.5s\n",
      "3996:\tlearn: 0.0329620\ttotal: 1m 39s\tremaining: 24.9s\n",
      "4995:\tlearn: 0.0234960\ttotal: 2m 4s\tremaining: 99.6ms\n",
      "4999:\tlearn: 0.0234562\ttotal: 2m 4s\tremaining: 0us\n"
     ]
    },
    {
     "name": "stderr",
     "output_type": "stream",
     "text": [
      "19it [39:16, 124.71s/it]"
     ]
    },
    {
     "name": "stdout",
     "output_type": "stream",
     "text": [
      "fold Loss 18:  0.019458763429638457\n",
      "---------------------------------------------------------------------------\n",
      "Learning rate set to 0.002362\n",
      "0:\tlearn: 0.6902392\ttotal: 51.8ms\tremaining: 4m 18s\n",
      "999:\tlearn: 0.1242644\ttotal: 25.3s\tremaining: 1m 41s\n",
      "1998:\tlearn: 0.0715060\ttotal: 50.4s\tremaining: 1m 15s\n",
      "2997:\tlearn: 0.0477469\ttotal: 1m 15s\tremaining: 50.3s\n",
      "3996:\tlearn: 0.0324982\ttotal: 1m 40s\tremaining: 25.1s\n",
      "4995:\tlearn: 0.0231296\ttotal: 2m 5s\tremaining: 100ms\n",
      "4999:\tlearn: 0.0230895\ttotal: 2m 5s\tremaining: 0us\n"
     ]
    },
    {
     "name": "stderr",
     "output_type": "stream",
     "text": [
      "20it [41:22, 124.12s/it]"
     ]
    },
    {
     "name": "stdout",
     "output_type": "stream",
     "text": [
      "fold Loss 19:  0.055271437677473785\n",
      "---------------------------------------------------------------------------\n",
      "Training Loss: 0.024687593565818858\n",
      "Loss for oxychlorine:\n",
      "0.13258771714526213 0.09171419936677896\n",
      "==================================================================================================\n",
      "TARGET  phyllosilicate\n"
     ]
    },
    {
     "name": "stderr",
     "output_type": "stream",
     "text": [
      "\n"
     ]
    },
    {
     "name": "stdout",
     "output_type": "stream",
     "text": [
      "0.5291517009621989\n"
     ]
    },
    {
     "name": "stderr",
     "output_type": "stream",
     "text": [
      "100%|██████████| 101/101 [00:00<00:00, 319716.76it/s]"
     ]
    },
    {
     "name": "stdout",
     "output_type": "stream",
     "text": [
      "23\n"
     ]
    },
    {
     "name": "stderr",
     "output_type": "stream",
     "text": [
      "\n"
     ]
    },
    {
     "name": "stdout",
     "output_type": "stream",
     "text": [
      "0.40564089551997035\n"
     ]
    },
    {
     "name": "stderr",
     "output_type": "stream",
     "text": [
      "100%|██████████| 900/900 [00:00<00:00, 723155.86it/s]\n"
     ]
    },
    {
     "name": "stdout",
     "output_type": "stream",
     "text": [
      "45\n",
      "0.3814831315312137\n"
     ]
    },
    {
     "name": "stderr",
     "output_type": "stream",
     "text": [
      "100%|██████████| 1200/1200 [00:00<00:00, 735735.24it/s]\n"
     ]
    },
    {
     "name": "stdout",
     "output_type": "stream",
     "text": [
      "73\n",
      "0.3851478401727067\n"
     ]
    },
    {
     "name": "stderr",
     "output_type": "stream",
     "text": [
      "100%|██████████| 1000/1000 [00:00<00:00, 702563.48it/s]\n"
     ]
    },
    {
     "name": "stdout",
     "output_type": "stream",
     "text": [
      "71\n",
      "(1059, 71) (1059, 23) (1059, 45) (1059, 73)\n",
      "(1059, 212)\n",
      "(804, 71) (804, 23) (804, 45) (804, 73)\n",
      "(804, 212)\n"
     ]
    },
    {
     "name": "stderr",
     "output_type": "stream",
     "text": [
      "0it [00:00, ?it/s]"
     ]
    },
    {
     "name": "stdout",
     "output_type": "stream",
     "text": [
      "Learning rate set to 0.002361\n",
      "0:\tlearn: 0.6915095\ttotal: 40.8ms\tremaining: 3m 24s\n",
      "999:\tlearn: 0.2112438\ttotal: 27.5s\tremaining: 1m 50s\n",
      "1998:\tlearn: 0.1339781\ttotal: 54.8s\tremaining: 1m 22s\n",
      "2997:\tlearn: 0.0930564\ttotal: 1m 21s\tremaining: 54.7s\n",
      "3996:\tlearn: 0.0646642\ttotal: 1m 49s\tremaining: 27.4s\n",
      "4995:\tlearn: 0.0439400\ttotal: 2m 16s\tremaining: 109ms\n",
      "4999:\tlearn: 0.0438970\ttotal: 2m 16s\tremaining: 0us\n"
     ]
    },
    {
     "name": "stderr",
     "output_type": "stream",
     "text": [
      "1it [02:17, 137.32s/it]"
     ]
    },
    {
     "name": "stdout",
     "output_type": "stream",
     "text": [
      "fold Loss 0:  0.11017591127155968\n",
      "---------------------------------------------------------------------------\n",
      "Learning rate set to 0.002361\n",
      "0:\tlearn: 0.6913935\ttotal: 54.6ms\tremaining: 4m 32s\n",
      "999:\tlearn: 0.2077434\ttotal: 27s\tremaining: 1m 47s\n",
      "1998:\tlearn: 0.1307060\ttotal: 54.1s\tremaining: 1m 21s\n",
      "2997:\tlearn: 0.0890616\ttotal: 1m 21s\tremaining: 54.4s\n",
      "3996:\tlearn: 0.0615509\ttotal: 1m 48s\tremaining: 27.3s\n",
      "4995:\tlearn: 0.0415689\ttotal: 2m 16s\tremaining: 109ms\n",
      "4999:\tlearn: 0.0415144\ttotal: 2m 16s\tremaining: 0us\n"
     ]
    },
    {
     "name": "stderr",
     "output_type": "stream",
     "text": [
      "2it [04:34, 137.18s/it]"
     ]
    },
    {
     "name": "stdout",
     "output_type": "stream",
     "text": [
      "fold Loss 1:  0.19684377365910097\n",
      "---------------------------------------------------------------------------\n",
      "Learning rate set to 0.002361\n",
      "0:\tlearn: 0.6914512\ttotal: 41.8ms\tremaining: 3m 28s\n",
      "999:\tlearn: 0.2123409\ttotal: 27.9s\tremaining: 1m 51s\n",
      "1998:\tlearn: 0.1332956\ttotal: 55s\tremaining: 1m 22s\n",
      "2997:\tlearn: 0.0918891\ttotal: 1m 22s\tremaining: 55s\n",
      "3996:\tlearn: 0.0638881\ttotal: 1m 49s\tremaining: 27.5s\n",
      "4995:\tlearn: 0.0428613\ttotal: 2m 16s\tremaining: 109ms\n",
      "4999:\tlearn: 0.0427755\ttotal: 2m 16s\tremaining: 0us\n"
     ]
    },
    {
     "name": "stderr",
     "output_type": "stream",
     "text": [
      "3it [06:52, 137.45s/it]"
     ]
    },
    {
     "name": "stdout",
     "output_type": "stream",
     "text": [
      "fold Loss 2:  0.13078112735296987\n",
      "---------------------------------------------------------------------------\n",
      "Learning rate set to 0.002361\n",
      "0:\tlearn: 0.6913835\ttotal: 53.2ms\tremaining: 4m 25s\n",
      "999:\tlearn: 0.2068695\ttotal: 27.2s\tremaining: 1m 48s\n",
      "1998:\tlearn: 0.1311320\ttotal: 54.3s\tremaining: 1m 21s\n",
      "2997:\tlearn: 0.0892073\ttotal: 1m 21s\tremaining: 54.2s\n",
      "3996:\tlearn: 0.0618257\ttotal: 1m 48s\tremaining: 27.2s\n",
      "4995:\tlearn: 0.0416495\ttotal: 2m 15s\tremaining: 109ms\n",
      "4999:\tlearn: 0.0415982\ttotal: 2m 15s\tremaining: 0us\n"
     ]
    },
    {
     "name": "stderr",
     "output_type": "stream",
     "text": [
      "4it [09:08, 137.12s/it]"
     ]
    },
    {
     "name": "stdout",
     "output_type": "stream",
     "text": [
      "fold Loss 3:  0.22552264142859174\n",
      "---------------------------------------------------------------------------\n",
      "Learning rate set to 0.002361\n",
      "0:\tlearn: 0.6914614\ttotal: 41.4ms\tremaining: 3m 26s\n",
      "999:\tlearn: 0.2074790\ttotal: 27.2s\tremaining: 1m 48s\n",
      "1998:\tlearn: 0.1311027\ttotal: 54.4s\tremaining: 1m 21s\n",
      "2997:\tlearn: 0.0907430\ttotal: 1m 21s\tremaining: 54.4s\n",
      "3996:\tlearn: 0.0622718\ttotal: 1m 48s\tremaining: 27.2s\n",
      "4995:\tlearn: 0.0427595\ttotal: 2m 15s\tremaining: 108ms\n",
      "4999:\tlearn: 0.0427250\ttotal: 2m 15s\tremaining: 0us\n"
     ]
    },
    {
     "name": "stderr",
     "output_type": "stream",
     "text": [
      "5it [11:25, 136.83s/it]"
     ]
    },
    {
     "name": "stdout",
     "output_type": "stream",
     "text": [
      "fold Loss 4:  0.23459124375630191\n",
      "---------------------------------------------------------------------------\n",
      "Learning rate set to 0.002361\n",
      "0:\tlearn: 0.6913650\ttotal: 54ms\tremaining: 4m 30s\n",
      "999:\tlearn: 0.2127668\ttotal: 27.4s\tremaining: 1m 49s\n",
      "1998:\tlearn: 0.1331885\ttotal: 54.6s\tremaining: 1m 21s\n",
      "2997:\tlearn: 0.0914220\ttotal: 1m 22s\tremaining: 55.1s\n",
      "3996:\tlearn: 0.0632196\ttotal: 1m 49s\tremaining: 27.5s\n",
      "4995:\tlearn: 0.0424984\ttotal: 2m 17s\tremaining: 110ms\n",
      "4999:\tlearn: 0.0424436\ttotal: 2m 17s\tremaining: 0us\n"
     ]
    },
    {
     "name": "stderr",
     "output_type": "stream",
     "text": [
      "6it [13:43, 137.29s/it]"
     ]
    },
    {
     "name": "stdout",
     "output_type": "stream",
     "text": [
      "fold Loss 5:  0.11568479081336228\n",
      "---------------------------------------------------------------------------\n",
      "Learning rate set to 0.002361\n",
      "0:\tlearn: 0.6913696\ttotal: 44.4ms\tremaining: 3m 41s\n",
      "999:\tlearn: 0.2053234\ttotal: 27.7s\tremaining: 1m 50s\n",
      "1998:\tlearn: 0.1286908\ttotal: 55.3s\tremaining: 1m 23s\n",
      "2997:\tlearn: 0.0879207\ttotal: 1m 22s\tremaining: 55.3s\n",
      "3996:\tlearn: 0.0600942\ttotal: 1m 50s\tremaining: 27.7s\n",
      "4995:\tlearn: 0.0411273\ttotal: 2m 17s\tremaining: 110ms\n",
      "4999:\tlearn: 0.0410624\ttotal: 2m 17s\tremaining: 0us\n"
     ]
    },
    {
     "name": "stderr",
     "output_type": "stream",
     "text": [
      "7it [16:02, 137.79s/it]"
     ]
    },
    {
     "name": "stdout",
     "output_type": "stream",
     "text": [
      "fold Loss 6:  0.2325022188943847\n",
      "---------------------------------------------------------------------------\n",
      "Learning rate set to 0.002361\n",
      "0:\tlearn: 0.6913120\ttotal: 54.8ms\tremaining: 4m 33s\n",
      "999:\tlearn: 0.2070023\ttotal: 27.6s\tremaining: 1m 50s\n",
      "1998:\tlearn: 0.1300337\ttotal: 55.2s\tremaining: 1m 22s\n",
      "2997:\tlearn: 0.0900795\ttotal: 1m 22s\tremaining: 55.2s\n",
      "3996:\tlearn: 0.0619523\ttotal: 1m 49s\tremaining: 27.5s\n",
      "4995:\tlearn: 0.0423738\ttotal: 2m 18s\tremaining: 111ms\n",
      "4999:\tlearn: 0.0423034\ttotal: 2m 19s\tremaining: 0us\n"
     ]
    },
    {
     "name": "stderr",
     "output_type": "stream",
     "text": [
      "8it [18:22, 138.48s/it]"
     ]
    },
    {
     "name": "stdout",
     "output_type": "stream",
     "text": [
      "fold Loss 7:  0.18181310570354736\n",
      "---------------------------------------------------------------------------\n",
      "Learning rate set to 0.002361\n",
      "0:\tlearn: 0.6911802\ttotal: 92.7ms\tremaining: 7m 43s\n",
      "999:\tlearn: 0.2094672\ttotal: 27.6s\tremaining: 1m 50s\n",
      "1998:\tlearn: 0.1318876\ttotal: 54.8s\tremaining: 1m 22s\n",
      "2997:\tlearn: 0.0912468\ttotal: 1m 22s\tremaining: 54.8s\n",
      "3996:\tlearn: 0.0620094\ttotal: 1m 49s\tremaining: 27.5s\n",
      "4995:\tlearn: 0.0429573\ttotal: 2m 17s\tremaining: 110ms\n",
      "4999:\tlearn: 0.0429003\ttotal: 2m 17s\tremaining: 0us\n"
     ]
    },
    {
     "name": "stderr",
     "output_type": "stream",
     "text": [
      "9it [20:40, 138.40s/it]"
     ]
    },
    {
     "name": "stdout",
     "output_type": "stream",
     "text": [
      "fold Loss 8:  0.2176967072750135\n",
      "---------------------------------------------------------------------------\n",
      "Learning rate set to 0.002361\n",
      "0:\tlearn: 0.6913964\ttotal: 57.5ms\tremaining: 4m 47s\n",
      "999:\tlearn: 0.2099782\ttotal: 27.7s\tremaining: 1m 50s\n",
      "1998:\tlearn: 0.1326516\ttotal: 55s\tremaining: 1m 22s\n",
      "2997:\tlearn: 0.0918752\ttotal: 1m 22s\tremaining: 54.9s\n",
      "3996:\tlearn: 0.0638860\ttotal: 1m 49s\tremaining: 27.5s\n",
      "4995:\tlearn: 0.0441083\ttotal: 2m 17s\tremaining: 110ms\n",
      "4999:\tlearn: 0.0440505\ttotal: 2m 17s\tremaining: 0us\n"
     ]
    },
    {
     "name": "stderr",
     "output_type": "stream",
     "text": [
      "10it [22:58, 138.31s/it]"
     ]
    },
    {
     "name": "stdout",
     "output_type": "stream",
     "text": [
      "fold Loss 9:  0.1430894490866348\n",
      "---------------------------------------------------------------------------\n",
      "Learning rate set to 0.002361\n",
      "0:\tlearn: 0.6914075\ttotal: 41.9ms\tremaining: 3m 29s\n",
      "999:\tlearn: 0.2071556\ttotal: 27.2s\tremaining: 1m 48s\n",
      "1998:\tlearn: 0.1315549\ttotal: 54.7s\tremaining: 1m 22s\n",
      "2997:\tlearn: 0.0903521\ttotal: 1m 21s\tremaining: 54.8s\n",
      "3996:\tlearn: 0.0630436\ttotal: 1m 49s\tremaining: 27.4s\n",
      "4995:\tlearn: 0.0426605\ttotal: 2m 16s\tremaining: 109ms\n",
      "4999:\tlearn: 0.0425930\ttotal: 2m 16s\tremaining: 0us\n"
     ]
    },
    {
     "name": "stderr",
     "output_type": "stream",
     "text": [
      "11it [25:16, 138.12s/it]"
     ]
    },
    {
     "name": "stdout",
     "output_type": "stream",
     "text": [
      "fold Loss 10:  0.24363532488051207\n",
      "---------------------------------------------------------------------------\n",
      "Learning rate set to 0.002361\n",
      "0:\tlearn: 0.6910690\ttotal: 59.7ms\tremaining: 4m 58s\n",
      "999:\tlearn: 0.2027290\ttotal: 27.3s\tremaining: 1m 49s\n",
      "1998:\tlearn: 0.1259701\ttotal: 54.3s\tremaining: 1m 21s\n",
      "2997:\tlearn: 0.0854134\ttotal: 1m 21s\tremaining: 54.5s\n",
      "3996:\tlearn: 0.0575261\ttotal: 1m 48s\tremaining: 27.3s\n",
      "4995:\tlearn: 0.0389665\ttotal: 2m 16s\tremaining: 109ms\n",
      "4999:\tlearn: 0.0388643\ttotal: 2m 16s\tremaining: 0us\n"
     ]
    },
    {
     "name": "stderr",
     "output_type": "stream",
     "text": [
      "12it [27:33, 137.95s/it]"
     ]
    },
    {
     "name": "stdout",
     "output_type": "stream",
     "text": [
      "fold Loss 11:  0.3446058742905458\n",
      "---------------------------------------------------------------------------\n",
      "Learning rate set to 0.002361\n",
      "0:\tlearn: 0.6913143\ttotal: 55.4ms\tremaining: 4m 36s\n",
      "999:\tlearn: 0.2030737\ttotal: 27.1s\tremaining: 1m 48s\n",
      "1998:\tlearn: 0.1257294\ttotal: 54.5s\tremaining: 1m 21s\n",
      "2997:\tlearn: 0.0855756\ttotal: 1m 21s\tremaining: 54.5s\n",
      "3996:\tlearn: 0.0584416\ttotal: 1m 49s\tremaining: 27.4s\n",
      "4995:\tlearn: 0.0394183\ttotal: 2m 16s\tremaining: 109ms\n",
      "4999:\tlearn: 0.0393457\ttotal: 2m 16s\tremaining: 0us\n"
     ]
    },
    {
     "name": "stderr",
     "output_type": "stream",
     "text": [
      "13it [29:50, 137.77s/it]"
     ]
    },
    {
     "name": "stdout",
     "output_type": "stream",
     "text": [
      "fold Loss 12:  0.2977741745338119\n",
      "---------------------------------------------------------------------------\n",
      "Learning rate set to 0.002361\n",
      "0:\tlearn: 0.6914591\ttotal: 54.8ms\tremaining: 4m 33s\n",
      "999:\tlearn: 0.2041553\ttotal: 27.7s\tremaining: 1m 50s\n",
      "1998:\tlearn: 0.1289287\ttotal: 54.4s\tremaining: 1m 21s\n",
      "2997:\tlearn: 0.0890543\ttotal: 1m 21s\tremaining: 54.6s\n",
      "3996:\tlearn: 0.0611942\ttotal: 1m 48s\tremaining: 27.3s\n",
      "4995:\tlearn: 0.0413266\ttotal: 2m 16s\tremaining: 109ms\n",
      "4999:\tlearn: 0.0412657\ttotal: 2m 16s\tremaining: 0us\n"
     ]
    },
    {
     "name": "stderr",
     "output_type": "stream",
     "text": [
      "14it [32:08, 137.62s/it]"
     ]
    },
    {
     "name": "stdout",
     "output_type": "stream",
     "text": [
      "fold Loss 13:  0.2743978810750341\n",
      "---------------------------------------------------------------------------\n",
      "Learning rate set to 0.002361\n",
      "0:\tlearn: 0.6913896\ttotal: 42.9ms\tremaining: 3m 34s\n",
      "999:\tlearn: 0.2132045\ttotal: 27.2s\tremaining: 1m 48s\n",
      "1998:\tlearn: 0.1347721\ttotal: 54s\tremaining: 1m 21s\n",
      "2997:\tlearn: 0.0934387\ttotal: 1m 21s\tremaining: 54.2s\n",
      "3996:\tlearn: 0.0648588\ttotal: 1m 48s\tremaining: 27.2s\n",
      "4995:\tlearn: 0.0435097\ttotal: 2m 15s\tremaining: 108ms\n",
      "4999:\tlearn: 0.0434413\ttotal: 2m 15s\tremaining: 0us\n"
     ]
    },
    {
     "name": "stderr",
     "output_type": "stream",
     "text": [
      "15it [34:24, 137.24s/it]"
     ]
    },
    {
     "name": "stdout",
     "output_type": "stream",
     "text": [
      "fold Loss 14:  0.10034189820471336\n",
      "---------------------------------------------------------------------------\n",
      "Learning rate set to 0.002361\n",
      "0:\tlearn: 0.6913459\ttotal: 54.2ms\tremaining: 4m 30s\n",
      "999:\tlearn: 0.2107265\ttotal: 27.3s\tremaining: 1m 49s\n",
      "1998:\tlearn: 0.1335502\ttotal: 54.3s\tremaining: 1m 21s\n",
      "2997:\tlearn: 0.0922271\ttotal: 1m 21s\tremaining: 54.3s\n",
      "3996:\tlearn: 0.0633368\ttotal: 1m 48s\tremaining: 27.2s\n",
      "4995:\tlearn: 0.0435953\ttotal: 2m 16s\tremaining: 109ms\n",
      "4999:\tlearn: 0.0435477\ttotal: 2m 16s\tremaining: 0us\n"
     ]
    },
    {
     "name": "stderr",
     "output_type": "stream",
     "text": [
      "16it [36:41, 137.23s/it]"
     ]
    },
    {
     "name": "stdout",
     "output_type": "stream",
     "text": [
      "fold Loss 15:  0.1925482345587077\n",
      "---------------------------------------------------------------------------\n",
      "Learning rate set to 0.002361\n",
      "0:\tlearn: 0.6909999\ttotal: 42.3ms\tremaining: 3m 31s\n",
      "999:\tlearn: 0.2066635\ttotal: 27.2s\tremaining: 1m 48s\n",
      "1998:\tlearn: 0.1302974\ttotal: 54.5s\tremaining: 1m 21s\n",
      "2997:\tlearn: 0.0902282\ttotal: 1m 21s\tremaining: 54.5s\n",
      "3996:\tlearn: 0.0615628\ttotal: 1m 48s\tremaining: 27.3s\n",
      "4995:\tlearn: 0.0423601\ttotal: 2m 16s\tremaining: 109ms\n",
      "4999:\tlearn: 0.0422987\ttotal: 2m 16s\tremaining: 0us\n"
     ]
    },
    {
     "name": "stderr",
     "output_type": "stream",
     "text": [
      "17it [38:58, 137.20s/it]"
     ]
    },
    {
     "name": "stdout",
     "output_type": "stream",
     "text": [
      "fold Loss 16:  0.2255686679914825\n",
      "---------------------------------------------------------------------------\n",
      "Learning rate set to 0.002361\n",
      "0:\tlearn: 0.6914182\ttotal: 55.5ms\tremaining: 4m 37s\n",
      "999:\tlearn: 0.2072109\ttotal: 27.9s\tremaining: 1m 51s\n",
      "1998:\tlearn: 0.1310352\ttotal: 55.2s\tremaining: 1m 22s\n",
      "2997:\tlearn: 0.0901061\ttotal: 1m 22s\tremaining: 55.2s\n",
      "3996:\tlearn: 0.0619868\ttotal: 1m 49s\tremaining: 27.5s\n",
      "4995:\tlearn: 0.0419239\ttotal: 2m 16s\tremaining: 109ms\n",
      "4999:\tlearn: 0.0418742\ttotal: 2m 16s\tremaining: 0us\n"
     ]
    },
    {
     "name": "stderr",
     "output_type": "stream",
     "text": [
      "18it [41:16, 137.32s/it]"
     ]
    },
    {
     "name": "stdout",
     "output_type": "stream",
     "text": [
      "fold Loss 17:  0.2109038990747736\n",
      "---------------------------------------------------------------------------\n",
      "Learning rate set to 0.002361\n",
      "0:\tlearn: 0.6913359\ttotal: 42.6ms\tremaining: 3m 32s\n",
      "999:\tlearn: 0.2111644\ttotal: 27.4s\tremaining: 1m 49s\n",
      "1998:\tlearn: 0.1333682\ttotal: 54.8s\tremaining: 1m 22s\n",
      "2997:\tlearn: 0.0921611\ttotal: 1m 21s\tremaining: 54.8s\n",
      "3996:\tlearn: 0.0644221\ttotal: 1m 49s\tremaining: 27.4s\n",
      "4995:\tlearn: 0.0438912\ttotal: 2m 16s\tremaining: 109ms\n",
      "4999:\tlearn: 0.0438532\ttotal: 2m 16s\tremaining: 0us\n"
     ]
    },
    {
     "name": "stderr",
     "output_type": "stream",
     "text": [
      "19it [43:33, 137.31s/it]"
     ]
    },
    {
     "name": "stdout",
     "output_type": "stream",
     "text": [
      "fold Loss 18:  0.16818673737827247\n",
      "---------------------------------------------------------------------------\n",
      "Learning rate set to 0.002362\n",
      "0:\tlearn: 0.6913764\ttotal: 53.3ms\tremaining: 4m 26s\n",
      "999:\tlearn: 0.2114563\ttotal: 27.4s\tremaining: 1m 49s\n",
      "1998:\tlearn: 0.1324775\ttotal: 54.4s\tremaining: 1m 21s\n",
      "2997:\tlearn: 0.0897059\ttotal: 1m 22s\tremaining: 54.8s\n",
      "3996:\tlearn: 0.0608165\ttotal: 1m 49s\tremaining: 27.4s\n",
      "4995:\tlearn: 0.0416045\ttotal: 2m 16s\tremaining: 109ms\n",
      "4999:\tlearn: 0.0415661\ttotal: 2m 16s\tremaining: 0us\n"
     ]
    },
    {
     "name": "stderr",
     "output_type": "stream",
     "text": [
      "20it [45:51, 137.57s/it]"
     ]
    },
    {
     "name": "stdout",
     "output_type": "stream",
     "text": [
      "fold Loss 19:  0.0824569598058788\n",
      "---------------------------------------------------------------------------\n",
      "Training Loss: 0.04360052766727407\n",
      "Loss for phyllosilicate:\n",
      "0.19645603105176 0.06708675144220834\n",
      "==================================================================================================\n",
      "TARGET  silicate\n"
     ]
    },
    {
     "name": "stderr",
     "output_type": "stream",
     "text": [
      "\n"
     ]
    },
    {
     "name": "stdout",
     "output_type": "stream",
     "text": [
      "0.33997226111440493\n"
     ]
    },
    {
     "name": "stderr",
     "output_type": "stream",
     "text": [
      "100%|██████████| 101/101 [00:00<00:00, 406159.83it/s]\n"
     ]
    },
    {
     "name": "stdout",
     "output_type": "stream",
     "text": [
      "24\n",
      "0.3459942679747826\n"
     ]
    },
    {
     "name": "stderr",
     "output_type": "stream",
     "text": [
      "100%|██████████| 900/900 [00:00<00:00, 488467.08it/s]"
     ]
    },
    {
     "name": "stdout",
     "output_type": "stream",
     "text": [
      "43\n"
     ]
    },
    {
     "name": "stderr",
     "output_type": "stream",
     "text": [
      "\n"
     ]
    },
    {
     "name": "stdout",
     "output_type": "stream",
     "text": [
      "0.3382261779619905\n"
     ]
    },
    {
     "name": "stderr",
     "output_type": "stream",
     "text": [
      "100%|██████████| 1200/1200 [00:00<00:00, 768304.81it/s]\n"
     ]
    },
    {
     "name": "stdout",
     "output_type": "stream",
     "text": [
      "68\n",
      "0.3313267394160171\n"
     ]
    },
    {
     "name": "stderr",
     "output_type": "stream",
     "text": [
      "100%|██████████| 1000/1000 [00:00<00:00, 736747.58it/s]\n"
     ]
    },
    {
     "name": "stdout",
     "output_type": "stream",
     "text": [
      "62\n",
      "(1059, 62) (1059, 24) (1059, 43) (1059, 68)\n",
      "(1059, 197)\n",
      "(804, 62) (804, 24) (804, 43) (804, 68)\n",
      "(804, 197)\n"
     ]
    },
    {
     "name": "stderr",
     "output_type": "stream",
     "text": [
      "0it [00:00, ?it/s]"
     ]
    },
    {
     "name": "stdout",
     "output_type": "stream",
     "text": [
      "Learning rate set to 0.002361\n",
      "0:\tlearn: 0.6907124\ttotal: 39ms\tremaining: 3m 15s\n",
      "999:\tlearn: 0.1633399\ttotal: 25.6s\tremaining: 1m 42s\n",
      "1998:\tlearn: 0.0974747\ttotal: 51.4s\tremaining: 1m 17s\n",
      "2997:\tlearn: 0.0630713\ttotal: 1m 16s\tremaining: 51.4s\n",
      "3996:\tlearn: 0.0421583\ttotal: 1m 43s\tremaining: 25.9s\n",
      "4995:\tlearn: 0.0288867\ttotal: 2m 8s\tremaining: 103ms\n",
      "4999:\tlearn: 0.0288408\ttotal: 2m 8s\tremaining: 0us\n"
     ]
    },
    {
     "name": "stderr",
     "output_type": "stream",
     "text": [
      "1it [02:09, 129.59s/it]"
     ]
    },
    {
     "name": "stdout",
     "output_type": "stream",
     "text": [
      "fold Loss 0:  0.16790823128390128\n",
      "---------------------------------------------------------------------------\n",
      "Learning rate set to 0.002361\n",
      "0:\tlearn: 0.6906525\ttotal: 53.1ms\tremaining: 4m 25s\n",
      "999:\tlearn: 0.1627710\ttotal: 26s\tremaining: 1m 44s\n",
      "1998:\tlearn: 0.0959483\ttotal: 51.4s\tremaining: 1m 17s\n",
      "2997:\tlearn: 0.0611599\ttotal: 1m 17s\tremaining: 51.6s\n",
      "3996:\tlearn: 0.0406534\ttotal: 1m 43s\tremaining: 25.9s\n",
      "4995:\tlearn: 0.0274065\ttotal: 2m 9s\tremaining: 104ms\n",
      "4999:\tlearn: 0.0273565\ttotal: 2m 9s\tremaining: 0us\n"
     ]
    },
    {
     "name": "stderr",
     "output_type": "stream",
     "text": [
      "2it [04:20, 130.19s/it]"
     ]
    },
    {
     "name": "stdout",
     "output_type": "stream",
     "text": [
      "fold Loss 1:  0.23040893620796687\n",
      "---------------------------------------------------------------------------\n",
      "Learning rate set to 0.002361\n",
      "0:\tlearn: 0.6906202\ttotal: 41.4ms\tremaining: 3m 27s\n",
      "999:\tlearn: 0.1592802\ttotal: 26.3s\tremaining: 1m 45s\n",
      "1998:\tlearn: 0.0933019\ttotal: 52.7s\tremaining: 1m 19s\n",
      "2997:\tlearn: 0.0598871\ttotal: 1m 18s\tremaining: 52.7s\n",
      "3996:\tlearn: 0.0401567\ttotal: 1m 45s\tremaining: 26.6s\n",
      "4995:\tlearn: 0.0284352\ttotal: 2m 12s\tremaining: 106ms\n",
      "4999:\tlearn: 0.0283961\ttotal: 2m 12s\tremaining: 0us\n"
     ]
    },
    {
     "name": "stderr",
     "output_type": "stream",
     "text": [
      "3it [06:33, 131.54s/it]"
     ]
    },
    {
     "name": "stdout",
     "output_type": "stream",
     "text": [
      "fold Loss 2:  0.29977384472670937\n",
      "---------------------------------------------------------------------------\n",
      "Learning rate set to 0.002361\n",
      "0:\tlearn: 0.6907850\ttotal: 54.1ms\tremaining: 4m 30s\n",
      "999:\tlearn: 0.1608109\ttotal: 26.6s\tremaining: 1m 46s\n",
      "1998:\tlearn: 0.0953821\ttotal: 52.3s\tremaining: 1m 18s\n",
      "2997:\tlearn: 0.0620287\ttotal: 1m 18s\tremaining: 52.2s\n",
      "3996:\tlearn: 0.0423961\ttotal: 1m 44s\tremaining: 26.1s\n",
      "4995:\tlearn: 0.0300734\ttotal: 2m 10s\tremaining: 104ms\n",
      "4999:\tlearn: 0.0300344\ttotal: 2m 10s\tremaining: 0us\n"
     ]
    },
    {
     "name": "stderr",
     "output_type": "stream",
     "text": [
      "4it [08:44, 131.32s/it]"
     ]
    },
    {
     "name": "stdout",
     "output_type": "stream",
     "text": [
      "fold Loss 3:  0.22076486646999838\n",
      "---------------------------------------------------------------------------\n",
      "Learning rate set to 0.002361\n",
      "0:\tlearn: 0.6907140\ttotal: 40ms\tremaining: 3m 20s\n",
      "999:\tlearn: 0.1654567\ttotal: 25.4s\tremaining: 1m 41s\n",
      "1998:\tlearn: 0.0980173\ttotal: 51.5s\tremaining: 1m 17s\n",
      "2997:\tlearn: 0.0633419\ttotal: 1m 17s\tremaining: 51.6s\n",
      "3996:\tlearn: 0.0429164\ttotal: 1m 43s\tremaining: 25.9s\n",
      "4995:\tlearn: 0.0304032\ttotal: 2m 8s\tremaining: 103ms\n",
      "4999:\tlearn: 0.0303672\ttotal: 2m 8s\tremaining: 0us\n"
     ]
    },
    {
     "name": "stderr",
     "output_type": "stream",
     "text": [
      "5it [10:54, 130.77s/it]"
     ]
    },
    {
     "name": "stdout",
     "output_type": "stream",
     "text": [
      "fold Loss 4:  0.14773946513762834\n",
      "---------------------------------------------------------------------------\n",
      "Learning rate set to 0.002361\n",
      "0:\tlearn: 0.6908019\ttotal: 55.2ms\tremaining: 4m 36s\n",
      "999:\tlearn: 0.1613033\ttotal: 25.7s\tremaining: 1m 42s\n",
      "1998:\tlearn: 0.0955499\ttotal: 51.8s\tremaining: 1m 17s\n",
      "2997:\tlearn: 0.0615100\ttotal: 1m 17s\tremaining: 52s\n",
      "3996:\tlearn: 0.0413290\ttotal: 1m 43s\tremaining: 26.1s\n",
      "4995:\tlearn: 0.0287656\ttotal: 2m 9s\tremaining: 104ms\n",
      "4999:\tlearn: 0.0287261\ttotal: 2m 10s\tremaining: 0us\n"
     ]
    },
    {
     "name": "stderr",
     "output_type": "stream",
     "text": [
      "6it [13:05, 130.82s/it]"
     ]
    },
    {
     "name": "stdout",
     "output_type": "stream",
     "text": [
      "fold Loss 5:  0.21923090176277266\n",
      "---------------------------------------------------------------------------\n",
      "Learning rate set to 0.002361\n",
      "0:\tlearn: 0.6906284\ttotal: 42.2ms\tremaining: 3m 31s\n",
      "999:\tlearn: 0.1603984\ttotal: 25.4s\tremaining: 1m 41s\n",
      "1998:\tlearn: 0.0959762\ttotal: 51.4s\tremaining: 1m 17s\n",
      "2997:\tlearn: 0.0623827\ttotal: 1m 17s\tremaining: 51.6s\n",
      "3996:\tlearn: 0.0422352\ttotal: 1m 43s\tremaining: 25.9s\n",
      "4995:\tlearn: 0.0299062\ttotal: 2m 8s\tremaining: 103ms\n",
      "4999:\tlearn: 0.0298812\ttotal: 2m 9s\tremaining: 0us\n"
     ]
    },
    {
     "name": "stderr",
     "output_type": "stream",
     "text": [
      "7it [15:15, 130.55s/it]"
     ]
    },
    {
     "name": "stdout",
     "output_type": "stream",
     "text": [
      "fold Loss 6:  0.16076729597442002\n",
      "---------------------------------------------------------------------------\n",
      "Learning rate set to 0.002361\n",
      "0:\tlearn: 0.6904057\ttotal: 52.4ms\tremaining: 4m 21s\n",
      "999:\tlearn: 0.1643747\ttotal: 25.5s\tremaining: 1m 41s\n",
      "1998:\tlearn: 0.0966212\ttotal: 51.1s\tremaining: 1m 16s\n",
      "2997:\tlearn: 0.0617552\ttotal: 1m 17s\tremaining: 51.5s\n",
      "3996:\tlearn: 0.0416330\ttotal: 1m 43s\tremaining: 25.8s\n",
      "4995:\tlearn: 0.0287415\ttotal: 2m 8s\tremaining: 103ms\n",
      "4999:\tlearn: 0.0287035\ttotal: 2m 8s\tremaining: 0us\n"
     ]
    },
    {
     "name": "stderr",
     "output_type": "stream",
     "text": [
      "8it [17:24, 130.24s/it]"
     ]
    },
    {
     "name": "stdout",
     "output_type": "stream",
     "text": [
      "fold Loss 7:  0.17447408923057978\n",
      "---------------------------------------------------------------------------\n",
      "Learning rate set to 0.002361\n",
      "0:\tlearn: 0.6908130\ttotal: 39.7ms\tremaining: 3m 18s\n",
      "999:\tlearn: 0.1674056\ttotal: 25.7s\tremaining: 1m 42s\n",
      "1998:\tlearn: 0.0973990\ttotal: 51.5s\tremaining: 1m 17s\n",
      "2997:\tlearn: 0.0616560\ttotal: 1m 16s\tremaining: 51.3s\n",
      "3996:\tlearn: 0.0411763\ttotal: 1m 42s\tremaining: 25.6s\n",
      "4995:\tlearn: 0.0285104\ttotal: 2m 7s\tremaining: 102ms\n",
      "4999:\tlearn: 0.0284682\ttotal: 2m 7s\tremaining: 0us\n"
     ]
    },
    {
     "name": "stderr",
     "output_type": "stream",
     "text": [
      "9it [19:33, 129.69s/it]"
     ]
    },
    {
     "name": "stdout",
     "output_type": "stream",
     "text": [
      "fold Loss 8:  0.11310935621978509\n",
      "---------------------------------------------------------------------------\n",
      "Learning rate set to 0.002361\n",
      "0:\tlearn: 0.6904204\ttotal: 51.4ms\tremaining: 4m 16s\n",
      "999:\tlearn: 0.1647027\ttotal: 25.6s\tremaining: 1m 42s\n",
      "1998:\tlearn: 0.0976298\ttotal: 50.9s\tremaining: 1m 16s\n",
      "2997:\tlearn: 0.0626782\ttotal: 1m 16s\tremaining: 50.9s\n",
      "3996:\tlearn: 0.0418385\ttotal: 1m 41s\tremaining: 25.6s\n",
      "4995:\tlearn: 0.0291906\ttotal: 2m 7s\tremaining: 102ms\n",
      "4999:\tlearn: 0.0291369\ttotal: 2m 7s\tremaining: 0us\n"
     ]
    },
    {
     "name": "stderr",
     "output_type": "stream",
     "text": [
      "10it [21:41, 129.37s/it]"
     ]
    },
    {
     "name": "stdout",
     "output_type": "stream",
     "text": [
      "fold Loss 9:  0.15101986537697487\n",
      "---------------------------------------------------------------------------\n",
      "Learning rate set to 0.002361\n",
      "0:\tlearn: 0.6903441\ttotal: 39.5ms\tremaining: 3m 17s\n",
      "999:\tlearn: 0.1653322\ttotal: 25.4s\tremaining: 1m 41s\n",
      "1998:\tlearn: 0.0978797\ttotal: 50.6s\tremaining: 1m 16s\n",
      "2997:\tlearn: 0.0631868\ttotal: 1m 16s\tremaining: 51s\n",
      "3996:\tlearn: 0.0425546\ttotal: 1m 42s\tremaining: 25.7s\n",
      "4995:\tlearn: 0.0297279\ttotal: 2m 8s\tremaining: 103ms\n",
      "4999:\tlearn: 0.0296896\ttotal: 2m 8s\tremaining: 0us\n"
     ]
    },
    {
     "name": "stderr",
     "output_type": "stream",
     "text": [
      "11it [23:50, 129.27s/it]"
     ]
    },
    {
     "name": "stdout",
     "output_type": "stream",
     "text": [
      "fold Loss 10:  0.12706219290171972\n",
      "---------------------------------------------------------------------------\n",
      "Learning rate set to 0.002361\n",
      "0:\tlearn: 0.6905999\ttotal: 54.9ms\tremaining: 4m 34s\n",
      "999:\tlearn: 0.1614673\ttotal: 26.4s\tremaining: 1m 45s\n",
      "1998:\tlearn: 0.0943701\ttotal: 52.1s\tremaining: 1m 18s\n",
      "2997:\tlearn: 0.0607120\ttotal: 1m 18s\tremaining: 52.4s\n",
      "3996:\tlearn: 0.0405138\ttotal: 1m 44s\tremaining: 26.1s\n",
      "4995:\tlearn: 0.0274263\ttotal: 2m 10s\tremaining: 105ms\n",
      "4999:\tlearn: 0.0273913\ttotal: 2m 10s\tremaining: 0us\n"
     ]
    },
    {
     "name": "stderr",
     "output_type": "stream",
     "text": [
      "12it [26:02, 129.96s/it]"
     ]
    },
    {
     "name": "stdout",
     "output_type": "stream",
     "text": [
      "fold Loss 11:  0.19181683879835174\n",
      "---------------------------------------------------------------------------\n",
      "Learning rate set to 0.002361\n",
      "0:\tlearn: 0.6907397\ttotal: 40.2ms\tremaining: 3m 20s\n",
      "999:\tlearn: 0.1649590\ttotal: 26s\tremaining: 1m 43s\n",
      "1998:\tlearn: 0.0976221\ttotal: 51.8s\tremaining: 1m 17s\n",
      "2997:\tlearn: 0.0624849\ttotal: 1m 17s\tremaining: 52s\n",
      "3996:\tlearn: 0.0418954\ttotal: 1m 44s\tremaining: 26.1s\n",
      "4995:\tlearn: 0.0292372\ttotal: 2m 10s\tremaining: 104ms\n",
      "4999:\tlearn: 0.0291995\ttotal: 2m 10s\tremaining: 0us\n"
     ]
    },
    {
     "name": "stderr",
     "output_type": "stream",
     "text": [
      "13it [28:13, 130.28s/it]"
     ]
    },
    {
     "name": "stdout",
     "output_type": "stream",
     "text": [
      "fold Loss 12:  0.10328746177293247\n",
      "---------------------------------------------------------------------------\n",
      "Learning rate set to 0.002361\n",
      "0:\tlearn: 0.6904578\ttotal: 51.5ms\tremaining: 4m 17s\n",
      "999:\tlearn: 0.1620827\ttotal: 26.4s\tremaining: 1m 45s\n",
      "1998:\tlearn: 0.0950378\ttotal: 52s\tremaining: 1m 18s\n",
      "2997:\tlearn: 0.0605566\ttotal: 1m 18s\tremaining: 52.3s\n",
      "3996:\tlearn: 0.0390373\ttotal: 1m 44s\tremaining: 26.2s\n",
      "4995:\tlearn: 0.0266514\ttotal: 2m 10s\tremaining: 105ms\n",
      "4999:\tlearn: 0.0266212\ttotal: 2m 10s\tremaining: 0us\n"
     ]
    },
    {
     "name": "stderr",
     "output_type": "stream",
     "text": [
      "14it [30:25, 130.74s/it]"
     ]
    },
    {
     "name": "stdout",
     "output_type": "stream",
     "text": [
      "fold Loss 13:  0.22245859439718535\n",
      "---------------------------------------------------------------------------\n",
      "Learning rate set to 0.002361\n",
      "0:\tlearn: 0.6904985\ttotal: 39.8ms\tremaining: 3m 18s\n",
      "999:\tlearn: 0.1632266\ttotal: 25.8s\tremaining: 1m 43s\n",
      "1998:\tlearn: 0.0972851\ttotal: 52.1s\tremaining: 1m 18s\n",
      "2997:\tlearn: 0.0626164\ttotal: 1m 18s\tremaining: 52.2s\n",
      "3996:\tlearn: 0.0412231\ttotal: 1m 44s\tremaining: 26.2s\n",
      "4995:\tlearn: 0.0288016\ttotal: 2m 10s\tremaining: 104ms\n",
      "4999:\tlearn: 0.0287635\ttotal: 2m 10s\tremaining: 0us\n"
     ]
    },
    {
     "name": "stderr",
     "output_type": "stream",
     "text": [
      "15it [32:36, 130.93s/it]"
     ]
    },
    {
     "name": "stdout",
     "output_type": "stream",
     "text": [
      "fold Loss 14:  0.1541148392084693\n",
      "---------------------------------------------------------------------------\n",
      "Learning rate set to 0.002361\n",
      "0:\tlearn: 0.6906295\ttotal: 56.6ms\tremaining: 4m 43s\n",
      "999:\tlearn: 0.1660737\ttotal: 25.9s\tremaining: 1m 43s\n",
      "1998:\tlearn: 0.0985923\ttotal: 51.7s\tremaining: 1m 17s\n",
      "2997:\tlearn: 0.0629423\ttotal: 1m 17s\tremaining: 51.8s\n",
      "3996:\tlearn: 0.0418791\ttotal: 1m 42s\tremaining: 25.8s\n",
      "4995:\tlearn: 0.0292830\ttotal: 2m 8s\tremaining: 103ms\n",
      "4999:\tlearn: 0.0292497\ttotal: 2m 8s\tremaining: 0us\n"
     ]
    },
    {
     "name": "stderr",
     "output_type": "stream",
     "text": [
      "16it [34:45, 130.47s/it]"
     ]
    },
    {
     "name": "stdout",
     "output_type": "stream",
     "text": [
      "fold Loss 15:  0.10639959936689478\n",
      "---------------------------------------------------------------------------\n",
      "Learning rate set to 0.002361\n",
      "0:\tlearn: 0.6908951\ttotal: 40.1ms\tremaining: 3m 20s\n",
      "999:\tlearn: 0.1642199\ttotal: 25.1s\tremaining: 1m 40s\n",
      "1998:\tlearn: 0.0974378\ttotal: 50.8s\tremaining: 1m 16s\n",
      "2997:\tlearn: 0.0625073\ttotal: 1m 16s\tremaining: 51s\n",
      "3996:\tlearn: 0.0421035\ttotal: 1m 42s\tremaining: 25.6s\n",
      "4995:\tlearn: 0.0298201\ttotal: 2m 7s\tremaining: 102ms\n",
      "4999:\tlearn: 0.0297753\ttotal: 2m 7s\tremaining: 0us\n"
     ]
    },
    {
     "name": "stderr",
     "output_type": "stream",
     "text": [
      "17it [36:54, 129.81s/it]"
     ]
    },
    {
     "name": "stdout",
     "output_type": "stream",
     "text": [
      "fold Loss 16:  0.08530013997446596\n",
      "---------------------------------------------------------------------------\n",
      "Learning rate set to 0.002361\n",
      "0:\tlearn: 0.6906949\ttotal: 78.6ms\tremaining: 6m 32s\n",
      "999:\tlearn: 0.1655604\ttotal: 25.9s\tremaining: 1m 43s\n",
      "1998:\tlearn: 0.0980065\ttotal: 51.5s\tremaining: 1m 17s\n",
      "2997:\tlearn: 0.0624149\ttotal: 1m 17s\tremaining: 51.8s\n",
      "3996:\tlearn: 0.0415992\ttotal: 1m 43s\tremaining: 25.9s\n",
      "4995:\tlearn: 0.0287513\ttotal: 2m 8s\tremaining: 103ms\n",
      "4999:\tlearn: 0.0287080\ttotal: 2m 8s\tremaining: 0us\n"
     ]
    },
    {
     "name": "stderr",
     "output_type": "stream",
     "text": [
      "18it [39:03, 129.71s/it]"
     ]
    },
    {
     "name": "stdout",
     "output_type": "stream",
     "text": [
      "fold Loss 17:  0.18786123208180122\n",
      "---------------------------------------------------------------------------\n",
      "Learning rate set to 0.002361\n",
      "0:\tlearn: 0.6906752\ttotal: 39.6ms\tremaining: 3m 18s\n",
      "999:\tlearn: 0.1637760\ttotal: 25.6s\tremaining: 1m 42s\n",
      "1998:\tlearn: 0.0978371\ttotal: 51.4s\tremaining: 1m 17s\n",
      "2997:\tlearn: 0.0629178\ttotal: 1m 17s\tremaining: 51.5s\n",
      "3996:\tlearn: 0.0414596\ttotal: 1m 42s\tremaining: 25.8s\n",
      "4995:\tlearn: 0.0291617\ttotal: 2m 8s\tremaining: 103ms\n",
      "4999:\tlearn: 0.0291240\ttotal: 2m 8s\tremaining: 0us\n"
     ]
    },
    {
     "name": "stderr",
     "output_type": "stream",
     "text": [
      "19it [41:12, 129.50s/it]"
     ]
    },
    {
     "name": "stdout",
     "output_type": "stream",
     "text": [
      "fold Loss 18:  0.10715144888548254\n",
      "---------------------------------------------------------------------------\n",
      "Learning rate set to 0.002362\n",
      "0:\tlearn: 0.6905235\ttotal: 55.3ms\tremaining: 4m 36s\n",
      "999:\tlearn: 0.1597101\ttotal: 25.7s\tremaining: 1m 42s\n",
      "1998:\tlearn: 0.0924862\ttotal: 51.3s\tremaining: 1m 17s\n",
      "2997:\tlearn: 0.0587836\ttotal: 1m 17s\tremaining: 51.5s\n",
      "3996:\tlearn: 0.0399330\ttotal: 1m 42s\tremaining: 25.6s\n",
      "4995:\tlearn: 0.0285782\ttotal: 2m 8s\tremaining: 102ms\n",
      "4999:\tlearn: 0.0285460\ttotal: 2m 8s\tremaining: 0us\n"
     ]
    },
    {
     "name": "stderr",
     "output_type": "stream",
     "text": [
      "20it [43:21, 130.08s/it]"
     ]
    },
    {
     "name": "stdout",
     "output_type": "stream",
     "text": [
      "fold Loss 19:  0.27116104220355336\n",
      "---------------------------------------------------------------------------\n",
      "Training Loss: 0.040482411009382616\n",
      "Loss for silicate:\n",
      "0.17209051209907966 0.05705340901396657\n",
      "==================================================================================================\n",
      "TARGET  sulfate\n"
     ]
    },
    {
     "name": "stderr",
     "output_type": "stream",
     "text": [
      "\n"
     ]
    },
    {
     "name": "stdout",
     "output_type": "stream",
     "text": [
      "0.4286183147572058\n"
     ]
    },
    {
     "name": "stderr",
     "output_type": "stream",
     "text": [
      "100%|██████████| 101/101 [00:00<00:00, 277059.98it/s]\n"
     ]
    },
    {
     "name": "stdout",
     "output_type": "stream",
     "text": [
      "23\n",
      "0.3255656006208553\n"
     ]
    },
    {
     "name": "stderr",
     "output_type": "stream",
     "text": [
      "100%|██████████| 900/900 [00:00<00:00, 723155.86it/s]"
     ]
    },
    {
     "name": "stdout",
     "output_type": "stream",
     "text": [
      "43\n"
     ]
    },
    {
     "name": "stderr",
     "output_type": "stream",
     "text": [
      "\n"
     ]
    },
    {
     "name": "stdout",
     "output_type": "stream",
     "text": [
      "0.2967507521927599\n"
     ]
    },
    {
     "name": "stderr",
     "output_type": "stream",
     "text": [
      "100%|██████████| 1200/1200 [00:00<00:00, 782884.55it/s]\n"
     ]
    },
    {
     "name": "stdout",
     "output_type": "stream",
     "text": [
      "49\n",
      "0.31515314872685274\n"
     ]
    },
    {
     "name": "stderr",
     "output_type": "stream",
     "text": [
      "100%|██████████| 1000/1000 [00:00<00:00, 751802.12it/s]\n"
     ]
    },
    {
     "name": "stdout",
     "output_type": "stream",
     "text": [
      "49\n",
      "(1059, 49) (1059, 23) (1059, 43) (1059, 49)\n",
      "(1059, 164)\n",
      "(804, 49) (804, 23) (804, 43) (804, 49)\n",
      "(804, 164)\n"
     ]
    },
    {
     "name": "stderr",
     "output_type": "stream",
     "text": [
      "0it [00:00, ?it/s]"
     ]
    },
    {
     "name": "stdout",
     "output_type": "stream",
     "text": [
      "Learning rate set to 0.002361\n",
      "0:\tlearn: 0.6903865\ttotal: 32.2ms\tremaining: 2m 40s\n",
      "999:\tlearn: 0.1411263\ttotal: 21.7s\tremaining: 1m 26s\n",
      "1998:\tlearn: 0.0803641\ttotal: 43s\tremaining: 1m 4s\n",
      "2997:\tlearn: 0.0521974\ttotal: 1m 4s\tremaining: 43.2s\n",
      "3996:\tlearn: 0.0359715\ttotal: 1m 26s\tremaining: 21.7s\n"
     ]
    },
    {
     "name": "stderr",
     "output_type": "stream",
     "text": [
      "1it [01:48, 108.45s/it]"
     ]
    },
    {
     "name": "stdout",
     "output_type": "stream",
     "text": [
      "4995:\tlearn: 0.0258935\ttotal: 1m 47s\tremaining: 86.1ms\n",
      "4999:\tlearn: 0.0258616\ttotal: 1m 47s\tremaining: 0us\n",
      "fold Loss 0:  0.14663278138068406\n",
      "---------------------------------------------------------------------------\n",
      "Learning rate set to 0.002361\n",
      "0:\tlearn: 0.6904745\ttotal: 43.6ms\tremaining: 3m 37s\n",
      "999:\tlearn: 0.1432588\ttotal: 21.7s\tremaining: 1m 26s\n",
      "1998:\tlearn: 0.0825303\ttotal: 43.1s\tremaining: 1m 4s\n",
      "2997:\tlearn: 0.0550258\ttotal: 1m 4s\tremaining: 43s\n",
      "3996:\tlearn: 0.0378177\ttotal: 1m 25s\tremaining: 21.5s\n"
     ]
    },
    {
     "name": "stderr",
     "output_type": "stream",
     "text": [
      "2it [03:36, 108.20s/it]"
     ]
    },
    {
     "name": "stdout",
     "output_type": "stream",
     "text": [
      "4995:\tlearn: 0.0267534\ttotal: 1m 47s\tremaining: 85.7ms\n",
      "4999:\tlearn: 0.0267232\ttotal: 1m 47s\tremaining: 0us\n",
      "fold Loss 1:  0.08438280563761144\n",
      "---------------------------------------------------------------------------\n",
      "Learning rate set to 0.002361\n",
      "0:\tlearn: 0.6903230\ttotal: 35ms\tremaining: 2m 55s\n",
      "999:\tlearn: 0.1420025\ttotal: 21s\tremaining: 1m 23s\n",
      "1998:\tlearn: 0.0813127\ttotal: 42.6s\tremaining: 1m 3s\n",
      "2997:\tlearn: 0.0528194\ttotal: 1m 4s\tremaining: 42.8s\n",
      "3996:\tlearn: 0.0366748\ttotal: 1m 25s\tremaining: 21.4s\n"
     ]
    },
    {
     "name": "stderr",
     "output_type": "stream",
     "text": [
      "3it [05:24, 107.98s/it]"
     ]
    },
    {
     "name": "stdout",
     "output_type": "stream",
     "text": [
      "4995:\tlearn: 0.0256563\ttotal: 1m 46s\tremaining: 85.5ms\n",
      "4999:\tlearn: 0.0256228\ttotal: 1m 46s\tremaining: 0us\n",
      "fold Loss 2:  0.21945411361216507\n",
      "---------------------------------------------------------------------------\n",
      "Learning rate set to 0.002361\n",
      "0:\tlearn: 0.6902839\ttotal: 43.9ms\tremaining: 3m 39s\n",
      "999:\tlearn: 0.1346084\ttotal: 21.2s\tremaining: 1m 24s\n",
      "1998:\tlearn: 0.0752796\ttotal: 42.5s\tremaining: 1m 3s\n",
      "2997:\tlearn: 0.0478299\ttotal: 1m 4s\tremaining: 42.8s\n",
      "3996:\tlearn: 0.0316606\ttotal: 1m 25s\tremaining: 21.3s\n"
     ]
    },
    {
     "name": "stderr",
     "output_type": "stream",
     "text": [
      "4it [07:11, 107.88s/it]"
     ]
    },
    {
     "name": "stdout",
     "output_type": "stream",
     "text": [
      "4995:\tlearn: 0.0214346\ttotal: 1m 46s\tremaining: 85.5ms\n",
      "4999:\tlearn: 0.0214126\ttotal: 1m 46s\tremaining: 0us\n",
      "fold Loss 3:  0.3931625818858326\n",
      "---------------------------------------------------------------------------\n",
      "Learning rate set to 0.002361\n",
      "0:\tlearn: 0.6903604\ttotal: 34ms\tremaining: 2m 49s\n",
      "999:\tlearn: 0.1395655\ttotal: 21.4s\tremaining: 1m 25s\n",
      "1998:\tlearn: 0.0791629\ttotal: 42.6s\tremaining: 1m 3s\n",
      "2997:\tlearn: 0.0515726\ttotal: 1m 4s\tremaining: 42.8s\n",
      "3996:\tlearn: 0.0350350\ttotal: 1m 25s\tremaining: 21.5s\n"
     ]
    },
    {
     "name": "stderr",
     "output_type": "stream",
     "text": [
      "5it [08:59, 107.81s/it]"
     ]
    },
    {
     "name": "stdout",
     "output_type": "stream",
     "text": [
      "4995:\tlearn: 0.0244186\ttotal: 1m 46s\tremaining: 85.5ms\n",
      "4999:\tlearn: 0.0243782\ttotal: 1m 46s\tremaining: 0us\n",
      "fold Loss 4:  0.26141781670079134\n",
      "---------------------------------------------------------------------------\n",
      "Learning rate set to 0.002361\n",
      "0:\tlearn: 0.6903260\ttotal: 43.1ms\tremaining: 3m 35s\n",
      "999:\tlearn: 0.1412903\ttotal: 21.5s\tremaining: 1m 26s\n",
      "1998:\tlearn: 0.0795856\ttotal: 43s\tremaining: 1m 4s\n",
      "2997:\tlearn: 0.0516109\ttotal: 1m 4s\tremaining: 42.8s\n",
      "3996:\tlearn: 0.0350387\ttotal: 1m 25s\tremaining: 21.5s\n"
     ]
    },
    {
     "name": "stderr",
     "output_type": "stream",
     "text": [
      "6it [10:47, 107.85s/it]"
     ]
    },
    {
     "name": "stdout",
     "output_type": "stream",
     "text": [
      "4995:\tlearn: 0.0245634\ttotal: 1m 46s\tremaining: 85.7ms\n",
      "4999:\tlearn: 0.0245482\ttotal: 1m 47s\tremaining: 0us\n",
      "fold Loss 5:  0.18065860169269576\n",
      "---------------------------------------------------------------------------\n",
      "Learning rate set to 0.002361\n",
      "0:\tlearn: 0.6901878\ttotal: 33.6ms\tremaining: 2m 47s\n",
      "999:\tlearn: 0.1379408\ttotal: 21s\tremaining: 1m 24s\n",
      "1998:\tlearn: 0.0781360\ttotal: 42.7s\tremaining: 1m 4s\n",
      "2997:\tlearn: 0.0506488\ttotal: 1m 4s\tremaining: 42.9s\n",
      "3996:\tlearn: 0.0347086\ttotal: 1m 25s\tremaining: 21.5s\n"
     ]
    },
    {
     "name": "stderr",
     "output_type": "stream",
     "text": [
      "7it [12:35, 107.91s/it]"
     ]
    },
    {
     "name": "stdout",
     "output_type": "stream",
     "text": [
      "4995:\tlearn: 0.0242063\ttotal: 1m 47s\tremaining: 85.8ms\n",
      "4999:\tlearn: 0.0241751\ttotal: 1m 47s\tremaining: 0us\n",
      "fold Loss 6:  0.24269941032679843\n",
      "---------------------------------------------------------------------------\n",
      "Learning rate set to 0.002361\n",
      "0:\tlearn: 0.6903934\ttotal: 43.7ms\tremaining: 3m 38s\n",
      "999:\tlearn: 0.1450526\ttotal: 21.7s\tremaining: 1m 26s\n",
      "1998:\tlearn: 0.0830962\ttotal: 42.8s\tremaining: 1m 4s\n",
      "2997:\tlearn: 0.0542557\ttotal: 1m 4s\tremaining: 43.3s\n",
      "3996:\tlearn: 0.0377712\ttotal: 1m 26s\tremaining: 21.6s\n"
     ]
    },
    {
     "name": "stderr",
     "output_type": "stream",
     "text": [
      "8it [14:24, 108.09s/it]"
     ]
    },
    {
     "name": "stdout",
     "output_type": "stream",
     "text": [
      "4995:\tlearn: 0.0263934\ttotal: 1m 47s\tremaining: 86.1ms\n",
      "4999:\tlearn: 0.0263530\ttotal: 1m 47s\tremaining: 0us\n",
      "fold Loss 7:  0.06554988728472477\n",
      "---------------------------------------------------------------------------\n",
      "Learning rate set to 0.002361\n",
      "0:\tlearn: 0.6903470\ttotal: 34.6ms\tremaining: 2m 52s\n",
      "999:\tlearn: 0.1411855\ttotal: 21.6s\tremaining: 1m 26s\n",
      "1998:\tlearn: 0.0805945\ttotal: 43.3s\tremaining: 1m 4s\n",
      "2997:\tlearn: 0.0524725\ttotal: 1m 4s\tremaining: 43.1s\n",
      "3996:\tlearn: 0.0357264\ttotal: 1m 26s\tremaining: 21.7s\n",
      "4995:\tlearn: 0.0247615\ttotal: 1m 47s\tremaining: 86.4ms\n",
      "4999:\tlearn: 0.0247324\ttotal: 1m 47s\tremaining: 0us\n"
     ]
    },
    {
     "name": "stderr",
     "output_type": "stream",
     "text": [
      "9it [16:12, 108.32s/it]"
     ]
    },
    {
     "name": "stdout",
     "output_type": "stream",
     "text": [
      "fold Loss 8:  0.11945296509190924\n",
      "---------------------------------------------------------------------------\n",
      "Learning rate set to 0.002361\n",
      "0:\tlearn: 0.6904017\ttotal: 44.9ms\tremaining: 3m 44s\n",
      "999:\tlearn: 0.1434481\ttotal: 21.6s\tremaining: 1m 26s\n",
      "1998:\tlearn: 0.0823978\ttotal: 43s\tremaining: 1m 4s\n",
      "2997:\tlearn: 0.0540250\ttotal: 1m 4s\tremaining: 43.1s\n",
      "3996:\tlearn: 0.0380005\ttotal: 1m 25s\tremaining: 21.5s\n"
     ]
    },
    {
     "name": "stderr",
     "output_type": "stream",
     "text": [
      "10it [18:01, 108.28s/it]"
     ]
    },
    {
     "name": "stdout",
     "output_type": "stream",
     "text": [
      "4995:\tlearn: 0.0269955\ttotal: 1m 47s\tremaining: 85.9ms\n",
      "4999:\tlearn: 0.0269633\ttotal: 1m 47s\tremaining: 0us\n",
      "fold Loss 9:  0.07495697374867054\n",
      "---------------------------------------------------------------------------\n",
      "Learning rate set to 0.002361\n",
      "0:\tlearn: 0.6907427\ttotal: 33.9ms\tremaining: 2m 49s\n",
      "999:\tlearn: 0.1442558\ttotal: 21.1s\tremaining: 1m 24s\n",
      "1998:\tlearn: 0.0815596\ttotal: 43s\tremaining: 1m 4s\n",
      "2997:\tlearn: 0.0526978\ttotal: 1m 4s\tremaining: 43s\n",
      "3996:\tlearn: 0.0360699\ttotal: 1m 25s\tremaining: 21.5s\n"
     ]
    },
    {
     "name": "stderr",
     "output_type": "stream",
     "text": [
      "11it [19:48, 108.17s/it]"
     ]
    },
    {
     "name": "stdout",
     "output_type": "stream",
     "text": [
      "4995:\tlearn: 0.0246454\ttotal: 1m 46s\tremaining: 85.7ms\n",
      "4999:\tlearn: 0.0246109\ttotal: 1m 47s\tremaining: 0us\n",
      "fold Loss 10:  0.10248999519808946\n",
      "---------------------------------------------------------------------------\n",
      "Learning rate set to 0.002361\n",
      "0:\tlearn: 0.6906544\ttotal: 44ms\tremaining: 3m 39s\n",
      "999:\tlearn: 0.1424566\ttotal: 21.7s\tremaining: 1m 26s\n",
      "1998:\tlearn: 0.0811367\ttotal: 43.2s\tremaining: 1m 4s\n",
      "2997:\tlearn: 0.0535008\ttotal: 1m 5s\tremaining: 43.6s\n",
      "3996:\tlearn: 0.0372082\ttotal: 1m 27s\tremaining: 21.9s\n"
     ]
    },
    {
     "name": "stderr",
     "output_type": "stream",
     "text": [
      "12it [21:38, 108.63s/it]"
     ]
    },
    {
     "name": "stdout",
     "output_type": "stream",
     "text": [
      "4995:\tlearn: 0.0263431\ttotal: 1m 48s\tremaining: 87ms\n",
      "4999:\tlearn: 0.0263124\ttotal: 1m 48s\tremaining: 0us\n",
      "fold Loss 11:  0.1433957492616722\n",
      "---------------------------------------------------------------------------\n",
      "Learning rate set to 0.002361\n",
      "0:\tlearn: 0.6903683\ttotal: 34.8ms\tremaining: 2m 53s\n",
      "999:\tlearn: 0.1462199\ttotal: 21.9s\tremaining: 1m 27s\n",
      "1998:\tlearn: 0.0840255\ttotal: 44.2s\tremaining: 1m 6s\n",
      "2997:\tlearn: 0.0551943\ttotal: 1m 6s\tremaining: 44.1s\n",
      "3996:\tlearn: 0.0380165\ttotal: 1m 28s\tremaining: 22.1s\n",
      "4995:\tlearn: 0.0270326\ttotal: 1m 50s\tremaining: 88.2ms\n",
      "4999:\tlearn: 0.0270123\ttotal: 1m 50s\tremaining: 0us\n",
      "fold Loss 12:  0.04830391089175072\n"
     ]
    },
    {
     "name": "stderr",
     "output_type": "stream",
     "text": [
      "13it [23:29, 109.37s/it]"
     ]
    },
    {
     "name": "stdout",
     "output_type": "stream",
     "text": [
      "---------------------------------------------------------------------------\n",
      "Learning rate set to 0.002361\n",
      "0:\tlearn: 0.6900780\ttotal: 44.8ms\tremaining: 3m 44s\n",
      "999:\tlearn: 0.1361452\ttotal: 22s\tremaining: 1m 27s\n",
      "1998:\tlearn: 0.0754885\ttotal: 43.8s\tremaining: 1m 5s\n",
      "2997:\tlearn: 0.0478460\ttotal: 1m 6s\tremaining: 44.2s\n",
      "3996:\tlearn: 0.0315597\ttotal: 1m 27s\tremaining: 22s\n"
     ]
    },
    {
     "name": "stderr",
     "output_type": "stream",
     "text": [
      "14it [25:20, 109.76s/it]"
     ]
    },
    {
     "name": "stdout",
     "output_type": "stream",
     "text": [
      "4995:\tlearn: 0.0220848\ttotal: 1m 49s\tremaining: 87.8ms\n",
      "4999:\tlearn: 0.0220582\ttotal: 1m 49s\tremaining: 0us\n",
      "fold Loss 13:  0.36937310907278265\n",
      "---------------------------------------------------------------------------\n",
      "Learning rate set to 0.002361\n",
      "0:\tlearn: 0.6903338\ttotal: 34.7ms\tremaining: 2m 53s\n",
      "999:\tlearn: 0.1410129\ttotal: 21.8s\tremaining: 1m 27s\n",
      "1998:\tlearn: 0.0805838\ttotal: 43.2s\tremaining: 1m 4s\n",
      "2997:\tlearn: 0.0529980\ttotal: 1m 4s\tremaining: 43.2s\n",
      "3996:\tlearn: 0.0365595\ttotal: 1m 26s\tremaining: 21.7s\n"
     ]
    },
    {
     "name": "stderr",
     "output_type": "stream",
     "text": [
      "15it [27:09, 109.47s/it]"
     ]
    },
    {
     "name": "stdout",
     "output_type": "stream",
     "text": [
      "4995:\tlearn: 0.0253904\ttotal: 1m 47s\tremaining: 86.4ms\n",
      "4999:\tlearn: 0.0253426\ttotal: 1m 47s\tremaining: 0us\n",
      "fold Loss 14:  0.1839432623385072\n",
      "---------------------------------------------------------------------------\n",
      "Learning rate set to 0.002361\n",
      "0:\tlearn: 0.6902110\ttotal: 43.5ms\tremaining: 3m 37s\n",
      "999:\tlearn: 0.1396595\ttotal: 22.2s\tremaining: 1m 28s\n",
      "1998:\tlearn: 0.0791194\ttotal: 44.3s\tremaining: 1m 6s\n",
      "2997:\tlearn: 0.0514768\ttotal: 1m 5s\tremaining: 44s\n",
      "3996:\tlearn: 0.0354256\ttotal: 1m 27s\tremaining: 22s\n"
     ]
    },
    {
     "name": "stderr",
     "output_type": "stream",
     "text": [
      "16it [28:59, 109.79s/it]"
     ]
    },
    {
     "name": "stdout",
     "output_type": "stream",
     "text": [
      "4995:\tlearn: 0.0248082\ttotal: 1m 49s\tremaining: 87.7ms\n",
      "4999:\tlearn: 0.0247700\ttotal: 1m 49s\tremaining: 0us\n",
      "fold Loss 15:  0.1645461829599578\n",
      "---------------------------------------------------------------------------\n",
      "Learning rate set to 0.002361\n",
      "0:\tlearn: 0.6904900\ttotal: 32.9ms\tremaining: 2m 44s\n",
      "999:\tlearn: 0.1438167\ttotal: 21.3s\tremaining: 1m 25s\n",
      "1998:\tlearn: 0.0820385\ttotal: 43.5s\tremaining: 1m 5s\n",
      "2997:\tlearn: 0.0541830\ttotal: 1m 5s\tremaining: 43.6s\n",
      "3996:\tlearn: 0.0375451\ttotal: 1m 26s\tremaining: 21.8s\n"
     ]
    },
    {
     "name": "stderr",
     "output_type": "stream",
     "text": [
      "17it [30:49, 109.70s/it]"
     ]
    },
    {
     "name": "stdout",
     "output_type": "stream",
     "text": [
      "4995:\tlearn: 0.0262924\ttotal: 1m 48s\tremaining: 86.9ms\n",
      "4999:\tlearn: 0.0262595\ttotal: 1m 48s\tremaining: 0us\n",
      "fold Loss 16:  0.11142680668150473\n",
      "---------------------------------------------------------------------------\n",
      "Learning rate set to 0.002361\n",
      "0:\tlearn: 0.6902873\ttotal: 44.2ms\tremaining: 3m 40s\n",
      "999:\tlearn: 0.1410578\ttotal: 21.7s\tremaining: 1m 26s\n",
      "1998:\tlearn: 0.0810617\ttotal: 43.1s\tremaining: 1m 4s\n",
      "2997:\tlearn: 0.0531215\ttotal: 1m 4s\tremaining: 43.3s\n",
      "3996:\tlearn: 0.0364177\ttotal: 1m 26s\tremaining: 21.6s\n"
     ]
    },
    {
     "name": "stderr",
     "output_type": "stream",
     "text": [
      "18it [32:37, 109.37s/it]"
     ]
    },
    {
     "name": "stdout",
     "output_type": "stream",
     "text": [
      "4995:\tlearn: 0.0253881\ttotal: 1m 47s\tremaining: 86.2ms\n",
      "4999:\tlearn: 0.0253491\ttotal: 1m 47s\tremaining: 0us\n",
      "fold Loss 17:  0.161272226318434\n",
      "---------------------------------------------------------------------------\n",
      "Learning rate set to 0.002361\n",
      "0:\tlearn: 0.6906860\ttotal: 34.3ms\tremaining: 2m 51s\n",
      "999:\tlearn: 0.1412550\ttotal: 21.5s\tremaining: 1m 26s\n",
      "1998:\tlearn: 0.0810570\ttotal: 42.9s\tremaining: 1m 4s\n",
      "2997:\tlearn: 0.0532875\ttotal: 1m 4s\tremaining: 42.9s\n",
      "3996:\tlearn: 0.0367814\ttotal: 1m 25s\tremaining: 21.5s\n"
     ]
    },
    {
     "name": "stderr",
     "output_type": "stream",
     "text": [
      "19it [34:25, 108.88s/it]"
     ]
    },
    {
     "name": "stdout",
     "output_type": "stream",
     "text": [
      "4995:\tlearn: 0.0255575\ttotal: 1m 46s\tremaining: 85.5ms\n",
      "4999:\tlearn: 0.0255292\ttotal: 1m 46s\tremaining: 0us\n",
      "fold Loss 18:  0.14939002908467874\n",
      "---------------------------------------------------------------------------\n",
      "Learning rate set to 0.002362\n",
      "0:\tlearn: 0.6903193\ttotal: 43.4ms\tremaining: 3m 37s\n",
      "999:\tlearn: 0.1451358\ttotal: 21.7s\tremaining: 1m 26s\n",
      "1998:\tlearn: 0.0827851\ttotal: 43.3s\tremaining: 1m 5s\n",
      "2997:\tlearn: 0.0536843\ttotal: 1m 4s\tremaining: 43.2s\n",
      "3996:\tlearn: 0.0366785\ttotal: 1m 26s\tremaining: 21.7s\n"
     ]
    },
    {
     "name": "stderr",
     "output_type": "stream",
     "text": [
      "20it [36:15, 108.76s/it]"
     ]
    },
    {
     "name": "stdout",
     "output_type": "stream",
     "text": [
      "4995:\tlearn: 0.0256970\ttotal: 1m 48s\tremaining: 86.9ms\n",
      "4999:\tlearn: 0.0256665\ttotal: 1m 48s\tremaining: 0us\n",
      "fold Loss 19:  0.10773130615007775\n",
      "---------------------------------------------------------------------------\n"
     ]
    },
    {
     "name": "stderr",
     "output_type": "stream",
     "text": [
      "\n"
     ]
    },
    {
     "name": "stdout",
     "output_type": "stream",
     "text": [
      "Training Loss: 0.029716712285017932\n",
      "Loss for sulfate:\n",
      "0.16651202576596696 0.09055179905558451\n",
      "==================================================================================================\n",
      "TARGET  sulfide\n",
      "0.14596228600042166\n"
     ]
    },
    {
     "name": "stderr",
     "output_type": "stream",
     "text": [
      "100%|██████████| 101/101 [00:00<00:00, 436726.50it/s]"
     ]
    },
    {
     "name": "stdout",
     "output_type": "stream",
     "text": [
      "15\n"
     ]
    },
    {
     "name": "stderr",
     "output_type": "stream",
     "text": [
      "\n"
     ]
    },
    {
     "name": "stdout",
     "output_type": "stream",
     "text": [
      "0.11436437784407358\n"
     ]
    },
    {
     "name": "stderr",
     "output_type": "stream",
     "text": [
      "100%|██████████| 900/900 [00:00<00:00, 722740.49it/s]"
     ]
    },
    {
     "name": "stdout",
     "output_type": "stream",
     "text": [
      "34\n"
     ]
    },
    {
     "name": "stderr",
     "output_type": "stream",
     "text": [
      "\n"
     ]
    },
    {
     "name": "stdout",
     "output_type": "stream",
     "text": [
      "0.13725713986864807\n"
     ]
    },
    {
     "name": "stderr",
     "output_type": "stream",
     "text": [
      "100%|██████████| 1200/1200 [00:00<00:00, 752679.05it/s]\n"
     ]
    },
    {
     "name": "stdout",
     "output_type": "stream",
     "text": [
      "46\n",
      "0.13792075139738236\n"
     ]
    },
    {
     "name": "stderr",
     "output_type": "stream",
     "text": [
      "100%|██████████| 1000/1000 [00:00<00:00, 748715.46it/s]\n"
     ]
    },
    {
     "name": "stdout",
     "output_type": "stream",
     "text": [
      "42\n",
      "(1059, 42) (1059, 15) (1059, 34) (1059, 46)\n",
      "(1059, 137)\n",
      "(804, 42) (804, 15) (804, 34) (804, 46)\n",
      "(804, 137)\n"
     ]
    },
    {
     "name": "stderr",
     "output_type": "stream",
     "text": [
      "0it [00:00, ?it/s]"
     ]
    },
    {
     "name": "stdout",
     "output_type": "stream",
     "text": [
      "Learning rate set to 0.002361\n",
      "0:\tlearn: 0.6886099\ttotal: 26.8ms\tremaining: 2m 13s\n",
      "999:\tlearn: 0.0364920\ttotal: 18.1s\tremaining: 1m 12s\n",
      "1998:\tlearn: 0.0144624\ttotal: 35.9s\tremaining: 53.9s\n",
      "2997:\tlearn: 0.0079392\ttotal: 54.3s\tremaining: 36.2s\n",
      "3996:\tlearn: 0.0049422\ttotal: 1m 12s\tremaining: 18.1s\n"
     ]
    },
    {
     "name": "stderr",
     "output_type": "stream",
     "text": [
      "1it [01:31, 91.21s/it]"
     ]
    },
    {
     "name": "stdout",
     "output_type": "stream",
     "text": [
      "4995:\tlearn: 0.0032591\ttotal: 1m 30s\tremaining: 72.3ms\n",
      "4999:\tlearn: 0.0032539\ttotal: 1m 30s\tremaining: 0us\n",
      "fold Loss 0:  0.04122851923128874\n",
      "---------------------------------------------------------------------------\n",
      "Learning rate set to 0.002361\n",
      "0:\tlearn: 0.6886835\ttotal: 28.7ms\tremaining: 2m 23s\n",
      "999:\tlearn: 0.0358067\ttotal: 18s\tremaining: 1m 11s\n",
      "1998:\tlearn: 0.0141036\ttotal: 37.7s\tremaining: 56.6s\n",
      "2997:\tlearn: 0.0078829\ttotal: 55.7s\tremaining: 37.2s\n",
      "3996:\tlearn: 0.0051929\ttotal: 1m 13s\tremaining: 18.5s\n"
     ]
    },
    {
     "name": "stderr",
     "output_type": "stream",
     "text": [
      "2it [03:03, 92.07s/it]"
     ]
    },
    {
     "name": "stdout",
     "output_type": "stream",
     "text": [
      "4995:\tlearn: 0.0037423\ttotal: 1m 31s\tremaining: 73.5ms\n",
      "4999:\tlearn: 0.0037367\ttotal: 1m 31s\tremaining: 0us\n",
      "fold Loss 1:  0.008191677603368091\n",
      "---------------------------------------------------------------------------\n",
      "Learning rate set to 0.002361\n",
      "0:\tlearn: 0.6887757\ttotal: 36.5ms\tremaining: 3m 2s\n",
      "999:\tlearn: 0.0355985\ttotal: 17.9s\tremaining: 1m 11s\n",
      "1998:\tlearn: 0.0138472\ttotal: 35.9s\tremaining: 53.9s\n",
      "2997:\tlearn: 0.0076028\ttotal: 54.1s\tremaining: 36.1s\n",
      "3996:\tlearn: 0.0046811\ttotal: 1m 11s\tremaining: 18s\n"
     ]
    },
    {
     "name": "stderr",
     "output_type": "stream",
     "text": [
      "3it [04:34, 91.57s/it]"
     ]
    },
    {
     "name": "stdout",
     "output_type": "stream",
     "text": [
      "4995:\tlearn: 0.0033017\ttotal: 1m 30s\tremaining: 72.1ms\n",
      "4999:\tlearn: 0.0032972\ttotal: 1m 30s\tremaining: 0us\n",
      "fold Loss 2:  0.08637285820362448\n",
      "---------------------------------------------------------------------------\n",
      "Learning rate set to 0.002361\n",
      "0:\tlearn: 0.6888837\ttotal: 26.6ms\tremaining: 2m 13s\n",
      "999:\tlearn: 0.0347300\ttotal: 17.6s\tremaining: 1m 10s\n",
      "1998:\tlearn: 0.0148709\ttotal: 36.1s\tremaining: 54.1s\n",
      "2997:\tlearn: 0.0081980\ttotal: 53.6s\tremaining: 35.8s\n",
      "3996:\tlearn: 0.0048317\ttotal: 1m 12s\tremaining: 18.1s\n"
     ]
    },
    {
     "name": "stderr",
     "output_type": "stream",
     "text": [
      "4it [06:05, 91.20s/it]"
     ]
    },
    {
     "name": "stdout",
     "output_type": "stream",
     "text": [
      "4995:\tlearn: 0.0029567\ttotal: 1m 29s\tremaining: 71.8ms\n",
      "4999:\tlearn: 0.0029518\ttotal: 1m 29s\tremaining: 0us\n",
      "fold Loss 3:  0.17424740873397448\n",
      "---------------------------------------------------------------------------\n",
      "Learning rate set to 0.002361\n",
      "0:\tlearn: 0.6888101\ttotal: 36.1ms\tremaining: 3m\n",
      "999:\tlearn: 0.0369823\ttotal: 18.2s\tremaining: 1m 12s\n",
      "1998:\tlearn: 0.0146671\ttotal: 36.2s\tremaining: 54.3s\n",
      "2997:\tlearn: 0.0081211\ttotal: 54s\tremaining: 36.1s\n",
      "3996:\tlearn: 0.0050761\ttotal: 1m 11s\tremaining: 18.1s\n"
     ]
    },
    {
     "name": "stderr",
     "output_type": "stream",
     "text": [
      "5it [07:36, 91.08s/it]"
     ]
    },
    {
     "name": "stdout",
     "output_type": "stream",
     "text": [
      "4995:\tlearn: 0.0035227\ttotal: 1m 29s\tremaining: 72ms\n",
      "4999:\tlearn: 0.0035187\ttotal: 1m 30s\tremaining: 0us\n",
      "fold Loss 4:  0.026905457113223247\n",
      "---------------------------------------------------------------------------\n",
      "Learning rate set to 0.002361\n",
      "0:\tlearn: 0.6889142\ttotal: 28.6ms\tremaining: 2m 23s\n",
      "999:\tlearn: 0.0357106\ttotal: 18s\tremaining: 1m 12s\n",
      "1998:\tlearn: 0.0139445\ttotal: 36.1s\tremaining: 54.3s\n",
      "2997:\tlearn: 0.0077623\ttotal: 54s\tremaining: 36.1s\n",
      "3996:\tlearn: 0.0047361\ttotal: 1m 11s\tremaining: 18s\n"
     ]
    },
    {
     "name": "stderr",
     "output_type": "stream",
     "text": [
      "6it [09:06, 90.93s/it]"
     ]
    },
    {
     "name": "stdout",
     "output_type": "stream",
     "text": [
      "4995:\tlearn: 0.0031094\ttotal: 1m 29s\tremaining: 71.8ms\n",
      "4999:\tlearn: 0.0031056\ttotal: 1m 29s\tremaining: 0us\n",
      "fold Loss 5:  0.034608184755580314\n",
      "---------------------------------------------------------------------------\n",
      "Learning rate set to 0.002361\n",
      "0:\tlearn: 0.6889865\ttotal: 37.1ms\tremaining: 3m 5s\n",
      "999:\tlearn: 0.0339185\ttotal: 17.9s\tremaining: 1m 11s\n",
      "1998:\tlearn: 0.0132209\ttotal: 36.4s\tremaining: 54.6s\n",
      "2997:\tlearn: 0.0072456\ttotal: 54.2s\tremaining: 36.2s\n",
      "3996:\tlearn: 0.0044339\ttotal: 1m 12s\tremaining: 18.2s\n"
     ]
    },
    {
     "name": "stderr",
     "output_type": "stream",
     "text": [
      "7it [10:38, 91.05s/it]"
     ]
    },
    {
     "name": "stdout",
     "output_type": "stream",
     "text": [
      "4995:\tlearn: 0.0030137\ttotal: 1m 30s\tremaining: 72.4ms\n",
      "4999:\tlearn: 0.0030105\ttotal: 1m 30s\tremaining: 0us\n",
      "fold Loss 6:  0.12068659266042256\n",
      "---------------------------------------------------------------------------\n",
      "Learning rate set to 0.002361\n",
      "0:\tlearn: 0.6890140\ttotal: 27.5ms\tremaining: 2m 17s\n",
      "999:\tlearn: 0.0364398\ttotal: 18.4s\tremaining: 1m 13s\n",
      "1998:\tlearn: 0.0143350\ttotal: 36.9s\tremaining: 55.5s\n",
      "2997:\tlearn: 0.0079123\ttotal: 54.5s\tremaining: 36.4s\n",
      "3996:\tlearn: 0.0048742\ttotal: 1m 12s\tremaining: 18.2s\n"
     ]
    },
    {
     "name": "stderr",
     "output_type": "stream",
     "text": [
      "8it [12:09, 91.14s/it]"
     ]
    },
    {
     "name": "stdout",
     "output_type": "stream",
     "text": [
      "4995:\tlearn: 0.0034347\ttotal: 1m 30s\tremaining: 72.4ms\n",
      "4999:\tlearn: 0.0034313\ttotal: 1m 30s\tremaining: 0us\n",
      "fold Loss 7:  0.0749975138290553\n",
      "---------------------------------------------------------------------------\n",
      "Learning rate set to 0.002361\n",
      "0:\tlearn: 0.6889854\ttotal: 32.2ms\tremaining: 2m 41s\n",
      "999:\tlearn: 0.0361380\ttotal: 18.3s\tremaining: 1m 13s\n",
      "1998:\tlearn: 0.0141765\ttotal: 36s\tremaining: 54s\n",
      "2997:\tlearn: 0.0079350\ttotal: 54.3s\tremaining: 36.2s\n",
      "3996:\tlearn: 0.0049640\ttotal: 1m 11s\tremaining: 18s\n"
     ]
    },
    {
     "name": "stderr",
     "output_type": "stream",
     "text": [
      "9it [13:40, 91.11s/it]"
     ]
    },
    {
     "name": "stdout",
     "output_type": "stream",
     "text": [
      "4995:\tlearn: 0.0034257\ttotal: 1m 30s\tremaining: 72.2ms\n",
      "4999:\tlearn: 0.0034207\ttotal: 1m 30s\tremaining: 0us\n",
      "fold Loss 8:  0.006028048964531332\n",
      "---------------------------------------------------------------------------\n",
      "Learning rate set to 0.002361\n",
      "0:\tlearn: 0.6886885\ttotal: 28.6ms\tremaining: 2m 22s\n",
      "999:\tlearn: 0.0321491\ttotal: 17.6s\tremaining: 1m 10s\n",
      "1998:\tlearn: 0.0119620\ttotal: 35.7s\tremaining: 53.6s\n",
      "2997:\tlearn: 0.0064939\ttotal: 53.3s\tremaining: 35.6s\n",
      "3996:\tlearn: 0.0039257\ttotal: 1m 11s\tremaining: 17.9s\n",
      "4995:\tlearn: 0.0026019\ttotal: 1m 29s\tremaining: 71.4ms\n",
      "4999:\tlearn: 0.0025989\ttotal: 1m 29s\tremaining: 0us\n",
      "fold Loss 9:  0.16343948801534786\n"
     ]
    },
    {
     "name": "stderr",
     "output_type": "stream",
     "text": [
      "10it [15:10, 90.82s/it]"
     ]
    },
    {
     "name": "stdout",
     "output_type": "stream",
     "text": [
      "---------------------------------------------------------------------------\n",
      "Learning rate set to 0.002361\n",
      "0:\tlearn: 0.6886894\ttotal: 56ms\tremaining: 4m 39s\n",
      "999:\tlearn: 0.0356058\ttotal: 17.9s\tremaining: 1m 11s\n",
      "1998:\tlearn: 0.0138979\ttotal: 35.9s\tremaining: 53.9s\n",
      "2997:\tlearn: 0.0076462\ttotal: 53.9s\tremaining: 36s\n",
      "3996:\tlearn: 0.0047494\ttotal: 1m 11s\tremaining: 18.1s\n"
     ]
    },
    {
     "name": "stderr",
     "output_type": "stream",
     "text": [
      "11it [16:41, 90.82s/it]"
     ]
    },
    {
     "name": "stdout",
     "output_type": "stream",
     "text": [
      "4995:\tlearn: 0.0032710\ttotal: 1m 29s\tremaining: 72ms\n",
      "4999:\tlearn: 0.0032677\ttotal: 1m 29s\tremaining: 0us\n",
      "fold Loss 10:  0.018793016557385113\n",
      "---------------------------------------------------------------------------\n",
      "Learning rate set to 0.002361\n",
      "0:\tlearn: 0.6885765\ttotal: 34.6ms\tremaining: 2m 52s\n",
      "999:\tlearn: 0.0338330\ttotal: 18s\tremaining: 1m 12s\n",
      "1998:\tlearn: 0.0130184\ttotal: 36s\tremaining: 54s\n",
      "2997:\tlearn: 0.0070769\ttotal: 53.9s\tremaining: 36s\n",
      "3996:\tlearn: 0.0044018\ttotal: 1m 11s\tremaining: 18s\n"
     ]
    },
    {
     "name": "stderr",
     "output_type": "stream",
     "text": [
      "12it [18:12, 90.91s/it]"
     ]
    },
    {
     "name": "stdout",
     "output_type": "stream",
     "text": [
      "4995:\tlearn: 0.0031000\ttotal: 1m 30s\tremaining: 72.2ms\n",
      "4999:\tlearn: 0.0030969\ttotal: 1m 30s\tremaining: 0us\n",
      "fold Loss 11:  0.08607341288941274\n",
      "---------------------------------------------------------------------------\n",
      "Learning rate set to 0.002361\n",
      "0:\tlearn: 0.6887204\ttotal: 37ms\tremaining: 3m 4s\n",
      "999:\tlearn: 0.0351065\ttotal: 18.2s\tremaining: 1m 12s\n",
      "1998:\tlearn: 0.0157834\ttotal: 35.8s\tremaining: 53.7s\n",
      "2997:\tlearn: 0.0087764\ttotal: 54.1s\tremaining: 36.1s\n",
      "3996:\tlearn: 0.0053308\ttotal: 1m 11s\tremaining: 18s\n"
     ]
    },
    {
     "name": "stderr",
     "output_type": "stream",
     "text": [
      "13it [19:43, 90.94s/it]"
     ]
    },
    {
     "name": "stdout",
     "output_type": "stream",
     "text": [
      "4995:\tlearn: 0.0036263\ttotal: 1m 30s\tremaining: 72.1ms\n",
      "4999:\tlearn: 0.0036226\ttotal: 1m 30s\tremaining: 0us\n",
      "fold Loss 12:  0.018176459928981675\n",
      "---------------------------------------------------------------------------\n",
      "Learning rate set to 0.002361\n",
      "0:\tlearn: 0.6889208\ttotal: 28.1ms\tremaining: 2m 20s\n",
      "999:\tlearn: 0.0360361\ttotal: 18s\tremaining: 1m 11s\n",
      "1998:\tlearn: 0.0138226\ttotal: 36.5s\tremaining: 54.8s\n",
      "2997:\tlearn: 0.0076064\ttotal: 54.2s\tremaining: 36.2s\n",
      "3996:\tlearn: 0.0047125\ttotal: 1m 12s\tremaining: 18.3s\n"
     ]
    },
    {
     "name": "stderr",
     "output_type": "stream",
     "text": [
      "14it [21:15, 91.32s/it]"
     ]
    },
    {
     "name": "stdout",
     "output_type": "stream",
     "text": [
      "4995:\tlearn: 0.0032274\ttotal: 1m 31s\tremaining: 73.1ms\n",
      "4999:\tlearn: 0.0032235\ttotal: 1m 31s\tremaining: 0us\n",
      "fold Loss 13:  0.008559087200176296\n",
      "---------------------------------------------------------------------------\n",
      "Learning rate set to 0.002361\n",
      "0:\tlearn: 0.6886407\ttotal: 38.2ms\tremaining: 3m 10s\n",
      "999:\tlearn: 0.0356659\ttotal: 18.5s\tremaining: 1m 13s\n",
      "1998:\tlearn: 0.0140639\ttotal: 36.6s\tremaining: 55s\n",
      "2997:\tlearn: 0.0078356\ttotal: 54.7s\tremaining: 36.5s\n",
      "3996:\tlearn: 0.0049982\ttotal: 1m 12s\tremaining: 18.3s\n"
     ]
    },
    {
     "name": "stderr",
     "output_type": "stream",
     "text": [
      "15it [22:47, 91.53s/it]"
     ]
    },
    {
     "name": "stdout",
     "output_type": "stream",
     "text": [
      "4995:\tlearn: 0.0035122\ttotal: 1m 31s\tremaining: 72.9ms\n",
      "4999:\tlearn: 0.0035066\ttotal: 1m 31s\tremaining: 0us\n",
      "fold Loss 14:  0.005028250470755453\n",
      "---------------------------------------------------------------------------\n",
      "Learning rate set to 0.002361\n",
      "0:\tlearn: 0.6887358\ttotal: 29.5ms\tremaining: 2m 27s\n",
      "999:\tlearn: 0.0366321\ttotal: 18.1s\tremaining: 1m 12s\n",
      "1998:\tlearn: 0.0144734\ttotal: 36.2s\tremaining: 54.4s\n",
      "2997:\tlearn: 0.0081317\ttotal: 54.3s\tremaining: 36.2s\n",
      "3996:\tlearn: 0.0050124\ttotal: 1m 12s\tremaining: 18.2s\n"
     ]
    },
    {
     "name": "stderr",
     "output_type": "stream",
     "text": [
      "16it [24:19, 91.40s/it]"
     ]
    },
    {
     "name": "stdout",
     "output_type": "stream",
     "text": [
      "4995:\tlearn: 0.0033789\ttotal: 1m 30s\tremaining: 72.2ms\n",
      "4999:\tlearn: 0.0033724\ttotal: 1m 30s\tremaining: 0us\n",
      "fold Loss 15:  0.0205795318918221\n",
      "---------------------------------------------------------------------------\n",
      "Learning rate set to 0.002361\n",
      "0:\tlearn: 0.6889419\ttotal: 36.1ms\tremaining: 3m\n",
      "999:\tlearn: 0.0338258\ttotal: 18.3s\tremaining: 1m 13s\n",
      "1998:\tlearn: 0.0130729\ttotal: 35.9s\tremaining: 53.8s\n",
      "2997:\tlearn: 0.0070388\ttotal: 54s\tremaining: 36.1s\n",
      "3996:\tlearn: 0.0042524\ttotal: 1m 11s\tremaining: 18s\n"
     ]
    },
    {
     "name": "stderr",
     "output_type": "stream",
     "text": [
      "17it [25:50, 91.33s/it]"
     ]
    },
    {
     "name": "stdout",
     "output_type": "stream",
     "text": [
      "4995:\tlearn: 0.0029960\ttotal: 1m 30s\tremaining: 72.3ms\n",
      "4999:\tlearn: 0.0029922\ttotal: 1m 30s\tremaining: 0us\n",
      "fold Loss 16:  0.16429161338581863\n",
      "---------------------------------------------------------------------------\n",
      "Learning rate set to 0.002361\n",
      "0:\tlearn: 0.6889039\ttotal: 30.7ms\tremaining: 2m 33s\n",
      "999:\tlearn: 0.0344326\ttotal: 17.7s\tremaining: 1m 10s\n",
      "1998:\tlearn: 0.0136029\ttotal: 35.9s\tremaining: 53.8s\n",
      "2997:\tlearn: 0.0075852\ttotal: 53.4s\tremaining: 35.7s\n",
      "3996:\tlearn: 0.0047074\ttotal: 1m 11s\tremaining: 18s\n"
     ]
    },
    {
     "name": "stderr",
     "output_type": "stream",
     "text": [
      "18it [27:20, 90.96s/it]"
     ]
    },
    {
     "name": "stdout",
     "output_type": "stream",
     "text": [
      "4995:\tlearn: 0.0031453\ttotal: 1m 29s\tremaining: 71.4ms\n",
      "4999:\tlearn: 0.0031420\ttotal: 1m 29s\tremaining: 0us\n",
      "fold Loss 17:  0.08365596815208529\n",
      "---------------------------------------------------------------------------\n",
      "Learning rate set to 0.002361\n",
      "0:\tlearn: 0.6889719\ttotal: 35.3ms\tremaining: 2m 56s\n",
      "999:\tlearn: 0.0354525\ttotal: 18.2s\tremaining: 1m 12s\n",
      "1998:\tlearn: 0.0139289\ttotal: 36s\tremaining: 54.1s\n",
      "2997:\tlearn: 0.0076476\ttotal: 54.4s\tremaining: 36.3s\n",
      "3996:\tlearn: 0.0047599\ttotal: 1m 12s\tremaining: 18.2s\n"
     ]
    },
    {
     "name": "stderr",
     "output_type": "stream",
     "text": [
      "19it [28:51, 91.11s/it]"
     ]
    },
    {
     "name": "stdout",
     "output_type": "stream",
     "text": [
      "4995:\tlearn: 0.0032575\ttotal: 1m 30s\tremaining: 72.5ms\n",
      "4999:\tlearn: 0.0032544\ttotal: 1m 30s\tremaining: 0us\n",
      "fold Loss 18:  0.06639209140374909\n",
      "---------------------------------------------------------------------------\n",
      "Learning rate set to 0.002362\n",
      "0:\tlearn: 0.6890196\ttotal: 28.2ms\tremaining: 2m 20s\n",
      "999:\tlearn: 0.0338097\ttotal: 18.1s\tremaining: 1m 12s\n",
      "1998:\tlearn: 0.0133584\ttotal: 36.1s\tremaining: 54.1s\n",
      "2997:\tlearn: 0.0074051\ttotal: 54.3s\tremaining: 36.2s\n",
      "3996:\tlearn: 0.0044456\ttotal: 1m 12s\tremaining: 18.2s\n"
     ]
    },
    {
     "name": "stderr",
     "output_type": "stream",
     "text": [
      "20it [30:23, 91.17s/it]"
     ]
    },
    {
     "name": "stdout",
     "output_type": "stream",
     "text": [
      "4995:\tlearn: 0.0031235\ttotal: 1m 30s\tremaining: 72.5ms\n",
      "4999:\tlearn: 0.0031192\ttotal: 1m 30s\tremaining: 0us\n",
      "fold Loss 19:  0.10877240098128994\n",
      "---------------------------------------------------------------------------\n",
      "Training Loss: 0.00831134472287677\n",
      "Loss for sulfide:\n",
      "0.06585137909859463 0.05502963226134115\n",
      "==================================================================================================\n",
      "AGG Loss: [0.13200745 0.08674289 0.14688047 0.19067936 0.00983821 0.13258772\n",
      " 0.19645603 0.17209051 0.16651203 0.06585138]\n",
      "AGG Loss mean: 0.12996460439771276\n"
     ]
    },
    {
     "name": "stderr",
     "output_type": "stream",
     "text": [
      "\n"
     ]
    }
   ],
   "source": [
    "agg_loss = []\n",
    "for target in targets.columns:\n",
    "    print('TARGET ',target)\n",
    "    imp_fts = {}\n",
    "    \n",
    "    #  get all imp coefs for the target\n",
    "    t_100_coefs = get_coefs(t_100,targets[target],5)\n",
    "    g_100_coefs = get_coefs(g_100,targets[target],5)\n",
    "    m_100_coefs = get_coefs(m_100,targets[target],10)\n",
    "    o_100_coefs = get_coefs(train_set_100,targets[target],10)\n",
    "    \n",
    "    imp_fts['o_100_coefs'] = o_100_coefs\n",
    "    imp_fts['t_100_coefs'] = t_100_coefs\n",
    "    imp_fts['g_100_coefs'] = g_100_coefs\n",
    "    imp_fts['m_100_coefs'] = m_100_coefs\n",
    "\n",
    "    # get all imp_dfs and concat them\n",
    "    train_imp_ = train_set_100.iloc[:,o_100_coefs]\n",
    "    t_100_imp_ = t_100.iloc[:,t_100_coefs]\n",
    "    g_100_imp_ = g_100.iloc[:,g_100_coefs]\n",
    "    m_100_imp_ = m_100.iloc[:,m_100_coefs]\n",
    "\n",
    "    print(train_imp_.shape,t_100_imp_.shape,g_100_imp_.shape,m_100_imp_.shape)\n",
    "    X = pd.concat([train_imp_,t_100_imp_,g_100_imp_,m_100_imp_],axis=1)\n",
    "    print(X.shape)\n",
    "\n",
    "    # same goes for test set\n",
    "    test_imp_ = test_set_100.iloc[:,o_100_coefs]\n",
    "    t_100_imp_test = t_100_test.iloc[:,t_100_coefs]\n",
    "    g_100_imp_test = g_100_test.iloc[:,g_100_coefs]\n",
    "    m_100_imp_test = m_100_test.iloc[:,m_100_coefs]\n",
    "\n",
    "    print(test_imp_.shape,t_100_imp_test.shape,g_100_imp_test.shape,m_100_imp_test.shape)\n",
    "    \n",
    "    X_test = pd.concat([test_imp_, t_100_imp_test, g_100_imp_test, m_100_imp_test],axis=1)\n",
    "    print(X_test.shape)\n",
    "    \n",
    "    #  add feature\n",
    "    X['is_sam'] = 0\n",
    "    X.loc[sam_id[:12],'is_sam'] = 1\n",
    "    X_test['is_sam'] = 0\n",
    "    X_test.loc[sam_id[12:],'is_sam'] = 1\n",
    "    \n",
    "    \n",
    "    assert (X.columns == X_test.columns).all()\n",
    "\n",
    "    oof_train = np.zeros((ntrain,))\n",
    "    oof_test = np.zeros((ntest,))\n",
    "    oof_test_skf = np.empty((NFOLDS, ntest))\n",
    "    \n",
    "    Y = targets[target]\n",
    "\n",
    "    cb_clf = CatBoostClassifier(verbose=999,random_seed=RANDOM_SEED,n_estimators=5000)\n",
    "    cv_loss = []\n",
    "    for fold, (train_id, test_id) in enumerate(tqdm(skf.split(X,Y))):\n",
    "\n",
    "        X_train, Y_train = X.iloc[train_id,], Y.iloc[train_id,]\n",
    "        X_val, Y_val = X.iloc[test_id,], Y.iloc[test_id,]\n",
    "        #  ohh man unwanted semi colon in iloc throws an error...\n",
    "        \n",
    "        # train model  and pred on oof folds\n",
    "        cb_clf.fit(X_train.values,Y_train)\n",
    "        y_preds = cb_clf.predict_proba(X_val.values)[:,1]\n",
    "        fold_loss = log_loss(Y_val,y_preds)\n",
    "        print(f'fold Loss {fold}: ',fold_loss)\n",
    "        cv_loss.append(fold_loss)\n",
    "\n",
    "        oof_train[test_id] = y_preds\n",
    "        oof_test_skf[fold,:] = cb_clf.predict_proba(X_test.values)[:,1]\n",
    "        \n",
    "        print(\"---------------------------------------------------------------------------\")\n",
    "        \n",
    "    print('Training Loss:', log_loss(Y,cb_clf.predict_proba(X.values)[:,1]))\n",
    "    \n",
    "    oof_test[:] = oof_test_skf.mean(axis=0)\n",
    "    oof_test_df[target] = oof_test\n",
    "    oof_train_df[target] = oof_train\n",
    "\n",
    "    print(f'Loss for {target}:')\n",
    "    print(np.array(cv_loss).mean(),np.array(cv_loss).std())\n",
    "    agg_loss.append(np.array(cv_loss).mean())\n",
    "    print(\"==================================================================================================\")\n",
    "\n",
    "print('AGG Loss:',np.array(agg_loss))\n",
    "print('AGG Loss mean:',np.array(agg_loss).mean())"
   ]
  },
  {
   "cell_type": "code",
   "execution_count": 29,
   "id": "0e472c2b",
   "metadata": {
    "execution": {
     "iopub.execute_input": "2022-04-18T09:46:56.478326Z",
     "iopub.status.busy": "2022-04-18T09:46:56.472630Z",
     "iopub.status.idle": "2022-04-18T09:46:56.481995Z",
     "shell.execute_reply": "2022-04-18T09:46:56.482491Z",
     "shell.execute_reply.started": "2022-04-10T12:42:32.882106Z"
    },
    "papermill": {
     "duration": 0.701795,
     "end_time": "2022-04-18T09:46:56.482706",
     "exception": false,
     "start_time": "2022-04-18T09:46:55.780911",
     "status": "completed"
    },
    "tags": []
   },
   "outputs": [
    {
     "name": "stdout",
     "output_type": "stream",
     "text": [
      "0.12996460439771276\n"
     ]
    }
   ],
   "source": [
    "print(np.array(agg_loss).mean())"
   ]
  },
  {
   "cell_type": "code",
   "execution_count": 30,
   "id": "0b72c020",
   "metadata": {
    "execution": {
     "iopub.execute_input": "2022-04-18T09:46:58.010969Z",
     "iopub.status.busy": "2022-04-18T09:46:58.010036Z",
     "iopub.status.idle": "2022-04-18T09:46:58.012628Z",
     "shell.execute_reply": "2022-04-18T09:46:58.011886Z",
     "shell.execute_reply.started": "2022-04-10T12:53:38.204095Z"
    },
    "papermill": {
     "duration": 0.711229,
     "end_time": "2022-04-18T09:46:58.012810",
     "exception": false,
     "start_time": "2022-04-18T09:46:57.301581",
     "status": "completed"
    },
    "tags": []
   },
   "outputs": [],
   "source": [
    "test_preds = oof_test_df.iloc[:293]\n",
    "train_preds = oof_train_df.iloc[766:]"
   ]
  },
  {
   "cell_type": "code",
   "execution_count": 31,
   "id": "34771516",
   "metadata": {
    "execution": {
     "iopub.execute_input": "2022-04-18T09:46:59.398117Z",
     "iopub.status.busy": "2022-04-18T09:46:59.396840Z",
     "iopub.status.idle": "2022-04-18T09:46:59.462667Z",
     "shell.execute_reply": "2022-04-18T09:46:59.462037Z",
     "shell.execute_reply.started": "2022-04-10T12:53:39.859435Z"
    },
    "papermill": {
     "duration": 0.773201,
     "end_time": "2022-04-18T09:46:59.462850",
     "exception": false,
     "start_time": "2022-04-18T09:46:58.689649",
     "status": "completed"
    },
    "tags": []
   },
   "outputs": [
    {
     "data": {
      "text/html": [
       "<div>\n",
       "<style scoped>\n",
       "    .dataframe tbody tr th:only-of-type {\n",
       "        vertical-align: middle;\n",
       "    }\n",
       "\n",
       "    .dataframe tbody tr th {\n",
       "        vertical-align: top;\n",
       "    }\n",
       "\n",
       "    .dataframe thead th {\n",
       "        text-align: right;\n",
       "    }\n",
       "</style>\n",
       "<table border=\"1\" class=\"dataframe\">\n",
       "  <thead>\n",
       "    <tr style=\"text-align: right;\">\n",
       "      <th></th>\n",
       "      <th>sample_id</th>\n",
       "      <th>basalt</th>\n",
       "      <th>carbonate</th>\n",
       "      <th>chloride</th>\n",
       "      <th>iron_oxide</th>\n",
       "      <th>oxalate</th>\n",
       "      <th>oxychlorine</th>\n",
       "      <th>phyllosilicate</th>\n",
       "      <th>silicate</th>\n",
       "      <th>sulfate</th>\n",
       "      <th>sulfide</th>\n",
       "    </tr>\n",
       "  </thead>\n",
       "  <tbody>\n",
       "    <tr>\n",
       "      <th>766</th>\n",
       "      <td>NaN</td>\n",
       "      <td>0.002304</td>\n",
       "      <td>0.001244</td>\n",
       "      <td>0.017878</td>\n",
       "      <td>0.009066</td>\n",
       "      <td>0.000119</td>\n",
       "      <td>0.005200</td>\n",
       "      <td>0.006248</td>\n",
       "      <td>0.069620</td>\n",
       "      <td>0.003726</td>\n",
       "      <td>0.000603</td>\n",
       "    </tr>\n",
       "    <tr>\n",
       "      <th>767</th>\n",
       "      <td>NaN</td>\n",
       "      <td>0.024833</td>\n",
       "      <td>0.005837</td>\n",
       "      <td>0.002922</td>\n",
       "      <td>0.011116</td>\n",
       "      <td>0.000051</td>\n",
       "      <td>0.005315</td>\n",
       "      <td>0.008344</td>\n",
       "      <td>0.107110</td>\n",
       "      <td>0.017575</td>\n",
       "      <td>0.000807</td>\n",
       "    </tr>\n",
       "    <tr>\n",
       "      <th>768</th>\n",
       "      <td>NaN</td>\n",
       "      <td>0.824128</td>\n",
       "      <td>0.072721</td>\n",
       "      <td>0.001528</td>\n",
       "      <td>0.056458</td>\n",
       "      <td>0.000546</td>\n",
       "      <td>0.009065</td>\n",
       "      <td>0.863309</td>\n",
       "      <td>0.867325</td>\n",
       "      <td>0.043452</td>\n",
       "      <td>0.000929</td>\n",
       "    </tr>\n",
       "    <tr>\n",
       "      <th>769</th>\n",
       "      <td>NaN</td>\n",
       "      <td>0.009914</td>\n",
       "      <td>0.004090</td>\n",
       "      <td>0.040709</td>\n",
       "      <td>0.018084</td>\n",
       "      <td>0.000046</td>\n",
       "      <td>0.963984</td>\n",
       "      <td>0.019731</td>\n",
       "      <td>0.004481</td>\n",
       "      <td>0.946220</td>\n",
       "      <td>0.000744</td>\n",
       "    </tr>\n",
       "    <tr>\n",
       "      <th>770</th>\n",
       "      <td>NaN</td>\n",
       "      <td>0.004268</td>\n",
       "      <td>0.002670</td>\n",
       "      <td>0.008930</td>\n",
       "      <td>0.806692</td>\n",
       "      <td>0.000062</td>\n",
       "      <td>0.990266</td>\n",
       "      <td>0.944705</td>\n",
       "      <td>0.003653</td>\n",
       "      <td>0.007387</td>\n",
       "      <td>0.000197</td>\n",
       "    </tr>\n",
       "    <tr>\n",
       "      <th>...</th>\n",
       "      <td>...</td>\n",
       "      <td>...</td>\n",
       "      <td>...</td>\n",
       "      <td>...</td>\n",
       "      <td>...</td>\n",
       "      <td>...</td>\n",
       "      <td>...</td>\n",
       "      <td>...</td>\n",
       "      <td>...</td>\n",
       "      <td>...</td>\n",
       "      <td>...</td>\n",
       "    </tr>\n",
       "    <tr>\n",
       "      <th>1054</th>\n",
       "      <td>NaN</td>\n",
       "      <td>0.004305</td>\n",
       "      <td>0.001442</td>\n",
       "      <td>0.034767</td>\n",
       "      <td>0.012648</td>\n",
       "      <td>0.000084</td>\n",
       "      <td>0.004353</td>\n",
       "      <td>0.006034</td>\n",
       "      <td>0.028033</td>\n",
       "      <td>0.006299</td>\n",
       "      <td>0.000281</td>\n",
       "    </tr>\n",
       "    <tr>\n",
       "      <th>1055</th>\n",
       "      <td>NaN</td>\n",
       "      <td>0.008403</td>\n",
       "      <td>0.004920</td>\n",
       "      <td>0.006829</td>\n",
       "      <td>0.036553</td>\n",
       "      <td>0.000707</td>\n",
       "      <td>0.042862</td>\n",
       "      <td>0.007590</td>\n",
       "      <td>0.848290</td>\n",
       "      <td>0.002577</td>\n",
       "      <td>0.000549</td>\n",
       "    </tr>\n",
       "    <tr>\n",
       "      <th>1056</th>\n",
       "      <td>NaN</td>\n",
       "      <td>0.004083</td>\n",
       "      <td>0.007802</td>\n",
       "      <td>0.001318</td>\n",
       "      <td>0.013079</td>\n",
       "      <td>0.998677</td>\n",
       "      <td>0.002993</td>\n",
       "      <td>0.005814</td>\n",
       "      <td>0.003015</td>\n",
       "      <td>0.002937</td>\n",
       "      <td>0.000366</td>\n",
       "    </tr>\n",
       "    <tr>\n",
       "      <th>1057</th>\n",
       "      <td>NaN</td>\n",
       "      <td>0.005260</td>\n",
       "      <td>0.929231</td>\n",
       "      <td>0.008808</td>\n",
       "      <td>0.029624</td>\n",
       "      <td>0.000643</td>\n",
       "      <td>0.005740</td>\n",
       "      <td>0.036662</td>\n",
       "      <td>0.009146</td>\n",
       "      <td>0.004461</td>\n",
       "      <td>0.000956</td>\n",
       "    </tr>\n",
       "    <tr>\n",
       "      <th>1058</th>\n",
       "      <td>NaN</td>\n",
       "      <td>0.004391</td>\n",
       "      <td>0.003021</td>\n",
       "      <td>0.007075</td>\n",
       "      <td>0.008856</td>\n",
       "      <td>0.000044</td>\n",
       "      <td>0.003116</td>\n",
       "      <td>0.974728</td>\n",
       "      <td>0.006974</td>\n",
       "      <td>0.002617</td>\n",
       "      <td>0.000711</td>\n",
       "    </tr>\n",
       "  </tbody>\n",
       "</table>\n",
       "<p>293 rows × 11 columns</p>\n",
       "</div>"
      ],
      "text/plain": [
       "     sample_id    basalt  carbonate  chloride  iron_oxide   oxalate  \\\n",
       "766        NaN  0.002304   0.001244  0.017878    0.009066  0.000119   \n",
       "767        NaN  0.024833   0.005837  0.002922    0.011116  0.000051   \n",
       "768        NaN  0.824128   0.072721  0.001528    0.056458  0.000546   \n",
       "769        NaN  0.009914   0.004090  0.040709    0.018084  0.000046   \n",
       "770        NaN  0.004268   0.002670  0.008930    0.806692  0.000062   \n",
       "...        ...       ...        ...       ...         ...       ...   \n",
       "1054       NaN  0.004305   0.001442  0.034767    0.012648  0.000084   \n",
       "1055       NaN  0.008403   0.004920  0.006829    0.036553  0.000707   \n",
       "1056       NaN  0.004083   0.007802  0.001318    0.013079  0.998677   \n",
       "1057       NaN  0.005260   0.929231  0.008808    0.029624  0.000643   \n",
       "1058       NaN  0.004391   0.003021  0.007075    0.008856  0.000044   \n",
       "\n",
       "      oxychlorine  phyllosilicate  silicate   sulfate   sulfide  \n",
       "766      0.005200        0.006248  0.069620  0.003726  0.000603  \n",
       "767      0.005315        0.008344  0.107110  0.017575  0.000807  \n",
       "768      0.009065        0.863309  0.867325  0.043452  0.000929  \n",
       "769      0.963984        0.019731  0.004481  0.946220  0.000744  \n",
       "770      0.990266        0.944705  0.003653  0.007387  0.000197  \n",
       "...           ...             ...       ...       ...       ...  \n",
       "1054     0.004353        0.006034  0.028033  0.006299  0.000281  \n",
       "1055     0.042862        0.007590  0.848290  0.002577  0.000549  \n",
       "1056     0.002993        0.005814  0.003015  0.002937  0.000366  \n",
       "1057     0.005740        0.036662  0.009146  0.004461  0.000956  \n",
       "1058     0.003116        0.974728  0.006974  0.002617  0.000711  \n",
       "\n",
       "[293 rows x 11 columns]"
      ]
     },
     "metadata": {},
     "output_type": "display_data"
    },
    {
     "data": {
      "text/html": [
       "<div>\n",
       "<style scoped>\n",
       "    .dataframe tbody tr th:only-of-type {\n",
       "        vertical-align: middle;\n",
       "    }\n",
       "\n",
       "    .dataframe tbody tr th {\n",
       "        vertical-align: top;\n",
       "    }\n",
       "\n",
       "    .dataframe thead th {\n",
       "        text-align: right;\n",
       "    }\n",
       "</style>\n",
       "<table border=\"1\" class=\"dataframe\">\n",
       "  <thead>\n",
       "    <tr style=\"text-align: right;\">\n",
       "      <th></th>\n",
       "      <th>sample_id</th>\n",
       "      <th>basalt</th>\n",
       "      <th>carbonate</th>\n",
       "      <th>chloride</th>\n",
       "      <th>iron_oxide</th>\n",
       "      <th>oxalate</th>\n",
       "      <th>oxychlorine</th>\n",
       "      <th>phyllosilicate</th>\n",
       "      <th>silicate</th>\n",
       "      <th>sulfate</th>\n",
       "      <th>sulfide</th>\n",
       "    </tr>\n",
       "  </thead>\n",
       "  <tbody>\n",
       "    <tr>\n",
       "      <th>766</th>\n",
       "      <td>NaN</td>\n",
       "      <td>0.002534</td>\n",
       "      <td>0.001378</td>\n",
       "      <td>0.029344</td>\n",
       "      <td>0.011450</td>\n",
       "      <td>0.000106</td>\n",
       "      <td>0.005783</td>\n",
       "      <td>0.007538</td>\n",
       "      <td>0.282085</td>\n",
       "      <td>0.003611</td>\n",
       "      <td>0.000761</td>\n",
       "    </tr>\n",
       "    <tr>\n",
       "      <th>767</th>\n",
       "      <td>NaN</td>\n",
       "      <td>0.043733</td>\n",
       "      <td>0.002228</td>\n",
       "      <td>0.003144</td>\n",
       "      <td>0.015892</td>\n",
       "      <td>0.000051</td>\n",
       "      <td>0.005746</td>\n",
       "      <td>0.013382</td>\n",
       "      <td>0.659950</td>\n",
       "      <td>0.023246</td>\n",
       "      <td>0.000830</td>\n",
       "    </tr>\n",
       "    <tr>\n",
       "      <th>768</th>\n",
       "      <td>NaN</td>\n",
       "      <td>0.232021</td>\n",
       "      <td>0.513448</td>\n",
       "      <td>0.002042</td>\n",
       "      <td>0.114108</td>\n",
       "      <td>0.000454</td>\n",
       "      <td>0.008556</td>\n",
       "      <td>0.595695</td>\n",
       "      <td>0.527308</td>\n",
       "      <td>0.179847</td>\n",
       "      <td>0.000745</td>\n",
       "    </tr>\n",
       "    <tr>\n",
       "      <th>769</th>\n",
       "      <td>NaN</td>\n",
       "      <td>0.019129</td>\n",
       "      <td>0.004954</td>\n",
       "      <td>0.092810</td>\n",
       "      <td>0.026938</td>\n",
       "      <td>0.000053</td>\n",
       "      <td>0.929979</td>\n",
       "      <td>0.025062</td>\n",
       "      <td>0.005891</td>\n",
       "      <td>0.839138</td>\n",
       "      <td>0.000722</td>\n",
       "    </tr>\n",
       "    <tr>\n",
       "      <th>770</th>\n",
       "      <td>NaN</td>\n",
       "      <td>0.003224</td>\n",
       "      <td>0.003263</td>\n",
       "      <td>0.011432</td>\n",
       "      <td>0.315233</td>\n",
       "      <td>0.000064</td>\n",
       "      <td>0.989705</td>\n",
       "      <td>0.898091</td>\n",
       "      <td>0.004493</td>\n",
       "      <td>0.009680</td>\n",
       "      <td>0.000208</td>\n",
       "    </tr>\n",
       "    <tr>\n",
       "      <th>...</th>\n",
       "      <td>...</td>\n",
       "      <td>...</td>\n",
       "      <td>...</td>\n",
       "      <td>...</td>\n",
       "      <td>...</td>\n",
       "      <td>...</td>\n",
       "      <td>...</td>\n",
       "      <td>...</td>\n",
       "      <td>...</td>\n",
       "      <td>...</td>\n",
       "      <td>...</td>\n",
       "    </tr>\n",
       "    <tr>\n",
       "      <th>1054</th>\n",
       "      <td>NaN</td>\n",
       "      <td>0.006688</td>\n",
       "      <td>0.001489</td>\n",
       "      <td>0.039393</td>\n",
       "      <td>0.017425</td>\n",
       "      <td>0.000111</td>\n",
       "      <td>0.004877</td>\n",
       "      <td>0.007823</td>\n",
       "      <td>0.074827</td>\n",
       "      <td>0.007771</td>\n",
       "      <td>0.000199</td>\n",
       "    </tr>\n",
       "    <tr>\n",
       "      <th>1055</th>\n",
       "      <td>NaN</td>\n",
       "      <td>0.012000</td>\n",
       "      <td>0.006462</td>\n",
       "      <td>0.007690</td>\n",
       "      <td>0.079234</td>\n",
       "      <td>0.000654</td>\n",
       "      <td>0.130243</td>\n",
       "      <td>0.007728</td>\n",
       "      <td>0.269195</td>\n",
       "      <td>0.002543</td>\n",
       "      <td>0.000627</td>\n",
       "    </tr>\n",
       "    <tr>\n",
       "      <th>1056</th>\n",
       "      <td>NaN</td>\n",
       "      <td>0.003742</td>\n",
       "      <td>0.010521</td>\n",
       "      <td>0.001332</td>\n",
       "      <td>0.014964</td>\n",
       "      <td>0.998562</td>\n",
       "      <td>0.003045</td>\n",
       "      <td>0.007501</td>\n",
       "      <td>0.003521</td>\n",
       "      <td>0.003248</td>\n",
       "      <td>0.000384</td>\n",
       "    </tr>\n",
       "    <tr>\n",
       "      <th>1057</th>\n",
       "      <td>NaN</td>\n",
       "      <td>0.010419</td>\n",
       "      <td>0.813453</td>\n",
       "      <td>0.013334</td>\n",
       "      <td>0.038222</td>\n",
       "      <td>0.000228</td>\n",
       "      <td>0.010152</td>\n",
       "      <td>0.063361</td>\n",
       "      <td>0.009599</td>\n",
       "      <td>0.005775</td>\n",
       "      <td>0.000769</td>\n",
       "    </tr>\n",
       "    <tr>\n",
       "      <th>1058</th>\n",
       "      <td>NaN</td>\n",
       "      <td>0.006871</td>\n",
       "      <td>0.004118</td>\n",
       "      <td>0.007162</td>\n",
       "      <td>0.011483</td>\n",
       "      <td>0.000037</td>\n",
       "      <td>0.002747</td>\n",
       "      <td>0.977287</td>\n",
       "      <td>0.006222</td>\n",
       "      <td>0.002958</td>\n",
       "      <td>0.000637</td>\n",
       "    </tr>\n",
       "  </tbody>\n",
       "</table>\n",
       "<p>293 rows × 11 columns</p>\n",
       "</div>"
      ],
      "text/plain": [
       "     sample_id    basalt  carbonate  chloride  iron_oxide   oxalate  \\\n",
       "766        NaN  0.002534   0.001378  0.029344    0.011450  0.000106   \n",
       "767        NaN  0.043733   0.002228  0.003144    0.015892  0.000051   \n",
       "768        NaN  0.232021   0.513448  0.002042    0.114108  0.000454   \n",
       "769        NaN  0.019129   0.004954  0.092810    0.026938  0.000053   \n",
       "770        NaN  0.003224   0.003263  0.011432    0.315233  0.000064   \n",
       "...        ...       ...        ...       ...         ...       ...   \n",
       "1054       NaN  0.006688   0.001489  0.039393    0.017425  0.000111   \n",
       "1055       NaN  0.012000   0.006462  0.007690    0.079234  0.000654   \n",
       "1056       NaN  0.003742   0.010521  0.001332    0.014964  0.998562   \n",
       "1057       NaN  0.010419   0.813453  0.013334    0.038222  0.000228   \n",
       "1058       NaN  0.006871   0.004118  0.007162    0.011483  0.000037   \n",
       "\n",
       "      oxychlorine  phyllosilicate  silicate   sulfate   sulfide  \n",
       "766      0.005783        0.007538  0.282085  0.003611  0.000761  \n",
       "767      0.005746        0.013382  0.659950  0.023246  0.000830  \n",
       "768      0.008556        0.595695  0.527308  0.179847  0.000745  \n",
       "769      0.929979        0.025062  0.005891  0.839138  0.000722  \n",
       "770      0.989705        0.898091  0.004493  0.009680  0.000208  \n",
       "...           ...             ...       ...       ...       ...  \n",
       "1054     0.004877        0.007823  0.074827  0.007771  0.000199  \n",
       "1055     0.130243        0.007728  0.269195  0.002543  0.000627  \n",
       "1056     0.003045        0.007501  0.003521  0.003248  0.000384  \n",
       "1057     0.010152        0.063361  0.009599  0.005775  0.000769  \n",
       "1058     0.002747        0.977287  0.006222  0.002958  0.000637  \n",
       "\n",
       "[293 rows x 11 columns]"
      ]
     },
     "metadata": {},
     "output_type": "display_data"
    }
   ],
   "source": [
    "display(test_preds)\n",
    "display(train_preds)"
   ]
  },
  {
   "cell_type": "code",
   "execution_count": 32,
   "id": "fff97148",
   "metadata": {
    "execution": {
     "iopub.execute_input": "2022-04-18T09:47:00.830664Z",
     "iopub.status.busy": "2022-04-18T09:47:00.829496Z",
     "iopub.status.idle": "2022-04-18T09:47:00.849592Z",
     "shell.execute_reply": "2022-04-18T09:47:00.848884Z",
     "shell.execute_reply.started": "2022-04-10T12:54:19.41027Z"
    },
    "papermill": {
     "duration": 0.714355,
     "end_time": "2022-04-18T09:47:00.849766",
     "exception": false,
     "start_time": "2022-04-18T09:47:00.135411",
     "status": "completed"
    },
    "tags": []
   },
   "outputs": [
    {
     "name": "stdout",
     "output_type": "stream",
     "text": [
      "basalt 0.1402455406987601\n",
      "carbonate 0.08295032961081271\n",
      "chloride 0.16515437520611542\n",
      "iron_oxide 0.23095890769728036\n",
      "oxalate 0.0023015624229882395\n",
      "oxychlorine 0.14718917356319441\n",
      "phyllosilicate 0.1759032369287015\n",
      "silicate 0.14968317398064931\n",
      "sulfate 0.19034961542507395\n",
      "sulfide 0.06232238250556354\n",
      "0.13470582980391393\n"
     ]
    }
   ],
   "source": [
    "agg_loss_train = []\n",
    "for tar in targets.columns:\n",
    "    loss = log_loss(val_labels[tar],train_preds[tar])\n",
    "    print(tar, loss)\n",
    "    agg_loss_train.append(loss)\n",
    "print(np.array(agg_loss_train).mean())"
   ]
  },
  {
   "cell_type": "code",
   "execution_count": 33,
   "id": "7fd242ae",
   "metadata": {
    "execution": {
     "iopub.execute_input": "2022-04-18T09:47:02.259992Z",
     "iopub.status.busy": "2022-04-18T09:47:02.258564Z",
     "iopub.status.idle": "2022-04-18T09:47:02.284482Z",
     "shell.execute_reply": "2022-04-18T09:47:02.283368Z",
     "shell.execute_reply.started": "2022-04-10T12:55:27.164665Z"
    },
    "papermill": {
     "duration": 0.738661,
     "end_time": "2022-04-18T09:47:02.284715",
     "exception": false,
     "start_time": "2022-04-18T09:47:01.546054",
     "status": "completed"
    },
    "tags": []
   },
   "outputs": [
    {
     "name": "stdout",
     "output_type": "stream",
     "text": [
      "basalt 0.022449940121216937\n",
      "carbonate 0.014067263256509267\n",
      "chloride 0.029188302727019156\n",
      "iron_oxide 0.05373334915612052\n",
      "oxalate 0.0005452257422163027\n",
      "oxychlorine 0.026236428911909967\n",
      "phyllosilicate 0.04574923853000603\n",
      "silicate 0.031061487849986594\n",
      "sulfate 0.029855270532075165\n",
      "sulfide 0.0045413245699367\n",
      "0.025742783139699667\n"
     ]
    }
   ],
   "source": [
    "agg_loss_test = []\n",
    "for tar in targets.columns:\n",
    "    loss = log_loss(val_labels[tar],test_preds[tar])\n",
    "    print(tar, loss)\n",
    "    agg_loss_test.append(loss)\n",
    "print(np.array(agg_loss_test).mean())"
   ]
  },
  {
   "cell_type": "code",
   "execution_count": 34,
   "id": "7a13ce95",
   "metadata": {
    "execution": {
     "iopub.execute_input": "2022-04-18T09:47:03.635834Z",
     "iopub.status.busy": "2022-04-18T09:47:03.631984Z",
     "iopub.status.idle": "2022-04-18T09:47:03.642337Z",
     "shell.execute_reply": "2022-04-18T09:47:03.642862Z",
     "shell.execute_reply.started": "2022-04-10T12:55:36.984829Z"
    },
    "papermill": {
     "duration": 0.675879,
     "end_time": "2022-04-18T09:47:03.643072",
     "exception": false,
     "start_time": "2022-04-18T09:47:02.967193",
     "status": "completed"
    },
    "tags": []
   },
   "outputs": [],
   "source": [
    "oof_test_df.sample_id = metadata[metadata.split != 'train'].sample_id\n",
    "oof_train_df.sample_id = metadata[metadata.split != 'test'].sample_id"
   ]
  },
  {
   "cell_type": "code",
   "execution_count": 35,
   "id": "3ab87460",
   "metadata": {
    "execution": {
     "iopub.execute_input": "2022-04-18T09:47:05.034562Z",
     "iopub.status.busy": "2022-04-18T09:47:05.033320Z",
     "iopub.status.idle": "2022-04-18T09:47:05.100486Z",
     "shell.execute_reply": "2022-04-18T09:47:05.099797Z",
     "shell.execute_reply.started": "2022-04-10T12:55:53.300665Z"
    },
    "papermill": {
     "duration": 0.771041,
     "end_time": "2022-04-18T09:47:05.100677",
     "exception": false,
     "start_time": "2022-04-18T09:47:04.329636",
     "status": "completed"
    },
    "tags": []
   },
   "outputs": [],
   "source": [
    "oof_train_df.to_csv(oof_train_path, index=False)\n",
    "oof_test_df.to_csv(oof_test_path, index=False)"
   ]
  },
  {
   "cell_type": "code",
   "execution_count": null,
   "id": "4de16cd1",
   "metadata": {
    "papermill": {
     "duration": 0.67977,
     "end_time": "2022-04-18T09:47:06.450740",
     "exception": false,
     "start_time": "2022-04-18T09:47:05.770970",
     "status": "completed"
    },
    "tags": []
   },
   "outputs": [],
   "source": []
  }
 ],
 "metadata": {
  "kernelspec": {
   "display_name": "Python 3",
   "language": "python",
   "name": "python3"
  },
  "language_info": {
   "codemirror_mode": {
    "name": "ipython",
    "version": 3
   },
   "file_extension": ".py",
   "mimetype": "text/x-python",
   "name": "python",
   "nbconvert_exporter": "python",
   "pygments_lexer": "ipython3",
   "version": "3.7.12"
  },
  "papermill": {
   "default_parameters": {},
   "duration": 22517.425391,
   "end_time": "2022-04-18T09:47:09.908888",
   "environment_variables": {},
   "exception": null,
   "input_path": "__notebook__.ipynb",
   "output_path": "__notebook__.ipynb",
   "parameters": {},
   "start_time": "2022-04-18T03:31:52.483497",
   "version": "2.3.3"
  }
 },
 "nbformat": 4,
 "nbformat_minor": 5
}
