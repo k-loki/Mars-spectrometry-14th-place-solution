{
 "cells": [
  {
   "cell_type": "code",
   "execution_count": 3,
   "id": "fdeef9d2",
   "metadata": {
    "execution": {
     "iopub.execute_input": "2022-04-18T12:33:02.068145Z",
     "iopub.status.busy": "2022-04-18T12:33:02.067201Z",
     "iopub.status.idle": "2022-04-18T12:33:05.323331Z",
     "shell.execute_reply": "2022-04-18T12:33:05.322794Z",
     "shell.execute_reply.started": "2022-04-17T20:04:33.827434Z"
    },
    "papermill": {
     "duration": 3.290245,
     "end_time": "2022-04-18T12:33:05.323472",
     "exception": false,
     "start_time": "2022-04-18T12:33:02.033227",
     "status": "completed"
    },
    "tags": []
   },
   "outputs": [
    {
     "data": {
      "text/html": [
       "<style type='text/css'>\n",
       ".datatable table.frame { margin-bottom: 0; }\n",
       ".datatable table.frame thead { border-bottom: none; }\n",
       ".datatable table.frame tr.coltypes td {  color: #FFFFFF;  line-height: 6px;  padding: 0 0.5em;}\n",
       ".datatable .bool    { background: #DDDD99; }\n",
       ".datatable .object  { background: #565656; }\n",
       ".datatable .int     { background: #5D9E5D; }\n",
       ".datatable .float   { background: #4040CC; }\n",
       ".datatable .str     { background: #CC4040; }\n",
       ".datatable .time    { background: #40CC40; }\n",
       ".datatable .row_index {  background: var(--jp-border-color3);  border-right: 1px solid var(--jp-border-color0);  color: var(--jp-ui-font-color3);  font-size: 9px;}\n",
       ".datatable .frame tbody td { text-align: left; }\n",
       ".datatable .frame tr.coltypes .row_index {  background: var(--jp-border-color0);}\n",
       ".datatable th:nth-child(2) { padding-left: 12px; }\n",
       ".datatable .hellipsis {  color: var(--jp-cell-editor-border-color);}\n",
       ".datatable .vellipsis {  background: var(--jp-layout-color0);  color: var(--jp-cell-editor-border-color);}\n",
       ".datatable .na {  color: var(--jp-cell-editor-border-color);  font-size: 80%;}\n",
       ".datatable .sp {  opacity: 0.25;}\n",
       ".datatable .footer { font-size: 9px; }\n",
       ".datatable .frame_dimensions {  background: var(--jp-border-color3);  border-top: 1px solid var(--jp-border-color0);  color: var(--jp-ui-font-color3);  display: inline-block;  opacity: 0.6;  padding: 1px 10px 1px 5px;}\n",
       "</style>\n"
      ],
      "text/plain": [
       "<IPython.core.display.HTML object>"
      ]
     },
     "metadata": {},
     "output_type": "display_data"
    }
   ],
   "source": [
    "import pandas as pd\n",
    "import pandas_profiling\n",
    "import numpy as np\n",
    "import matplotlib.pyplot as plt\n",
    "%matplotlib inline\n",
    "import seaborn as sns\n",
    "from tqdm import tqdm\n",
    "\n",
    "from sklearn.preprocessing import QuantileTransformer, PowerTransformer\n",
    "from sklearn.metrics import make_scorer, log_loss\n",
    "from sklearn.model_selection import StratifiedKFold, cross_val_score\n",
    "from sklearn.ensemble import HistGradientBoostingClassifier\n",
    "from sklearn.linear_model import LogisticRegression\n",
    "from sklearn.calibration import CalibratedClassifierCV, calibration_curve\n",
    "\n",
    "from catboost import CatBoostClassifier\n",
    "from xgboost import XGBClassifier\n",
    "from lightgbm import LGBMClassifier\n",
    "\n",
    "RANDOM_SEED = 777\n",
    "np.random.seed(RANDOM_SEED)\n",
    "np.random.SeedSequence(RANDOM_SEED)\n",
    "import warnings\n",
    "warnings.filterwarnings('ignore')\n",
    "import os\n",
    "os.environ['PYTHONHASHSEED'] = str(RANDOM_SEED)"
   ]
  },
  {
   "cell_type": "code",
   "execution_count": 4,
   "id": "227a0f55",
   "metadata": {
    "execution": {
     "iopub.execute_input": "2022-04-18T12:33:05.394730Z",
     "iopub.status.busy": "2022-04-18T12:33:05.394115Z",
     "iopub.status.idle": "2022-04-18T12:33:05.509359Z",
     "shell.execute_reply": "2022-04-18T12:33:05.509859Z",
     "shell.execute_reply.started": "2022-04-17T20:04:38.011624Z"
    },
    "papermill": {
     "duration": 0.153349,
     "end_time": "2022-04-18T12:33:05.510029",
     "exception": false,
     "start_time": "2022-04-18T12:33:05.356680",
     "status": "completed"
    },
    "tags": []
   },
   "outputs": [],
   "source": [
    "metadata = pd.read_csv('../input/is-this-crazy/metadata.csv')\n",
    "sup_metadata = pd.read_csv('../input/is-this-crazy/supplemental_metadata.csv')\n",
    "train_labels = pd.read_csv('../input/is-this-crazy/train_labels.csv', index_col=\"sample_id\")\n",
    "val_labels = pd.read_csv('../input/is-this-crazy/val_labels.csv',index_col='sample_id')\n",
    "# targets = pd.read_csv('targets.csv',index_col='sample_id')\n",
    "submission_format = pd.read_csv('../input/is-this-crazy/submission_format.csv')"
   ]
  },
  {
   "cell_type": "code",
   "execution_count": 5,
   "id": "d04811c5",
   "metadata": {
    "execution": {
     "iopub.execute_input": "2022-04-18T12:33:05.577093Z",
     "iopub.status.busy": "2022-04-18T12:33:05.576522Z",
     "iopub.status.idle": "2022-04-18T12:33:05.581394Z",
     "shell.execute_reply": "2022-04-18T12:33:05.581909Z",
     "shell.execute_reply.started": "2022-04-17T20:04:40.73729Z"
    },
    "papermill": {
     "duration": 0.039243,
     "end_time": "2022-04-18T12:33:05.582051",
     "exception": false,
     "start_time": "2022-04-18T12:33:05.542808",
     "status": "completed"
    },
    "tags": []
   },
   "outputs": [
    {
     "data": {
      "text/plain": [
       "(1059, 10)"
      ]
     },
     "execution_count": 5,
     "metadata": {},
     "output_type": "execute_result"
    }
   ],
   "source": [
    "targets = pd.concat([train_labels,val_labels],axis=0)\n",
    "targets.shape"
   ]
  },
  {
   "cell_type": "code",
   "execution_count": 6,
   "id": "1ce54cf0",
   "metadata": {
    "execution": {
     "iopub.execute_input": "2022-04-18T12:33:05.649980Z",
     "iopub.status.busy": "2022-04-18T12:33:05.649431Z",
     "iopub.status.idle": "2022-04-18T12:33:05.656229Z",
     "shell.execute_reply": "2022-04-18T12:33:05.656693Z",
     "shell.execute_reply.started": "2022-04-17T20:18:55.508163Z"
    },
    "papermill": {
     "duration": 0.041012,
     "end_time": "2022-04-18T12:33:05.656816",
     "exception": false,
     "start_time": "2022-04-18T12:33:05.615804",
     "status": "completed"
    },
    "tags": []
   },
   "outputs": [],
   "source": [
    "sam_id = metadata[metadata.instrument_type == 'sam_testbed'].index"
   ]
  },
  {
   "cell_type": "code",
   "execution_count": 7,
   "id": "ec9467a6",
   "metadata": {
    "execution": {
     "iopub.execute_input": "2022-04-18T12:33:05.724842Z",
     "iopub.status.busy": "2022-04-18T12:33:05.724244Z",
     "iopub.status.idle": "2022-04-18T12:33:05.727371Z",
     "shell.execute_reply": "2022-04-18T12:33:05.727892Z"
    },
    "papermill": {
     "duration": 0.038759,
     "end_time": "2022-04-18T12:33:05.728049",
     "exception": false,
     "start_time": "2022-04-18T12:33:05.689290",
     "status": "completed"
    },
    "tags": []
   },
   "outputs": [],
   "source": [
    "# only change the data sets here...\n",
    "train_path = \"../input/ms-gen-train-test-data/train_temp_500.csv\"\n",
    "test_path =  '../input/ms-gen-train-test-data/test_temp_500.csv'\n",
    "val_path = '../input/ms-gen-train-test-data/val_temp_500.csv'"
   ]
  },
  {
   "cell_type": "code",
   "execution_count": 8,
   "id": "0c2a1990",
   "metadata": {
    "execution": {
     "iopub.execute_input": "2022-04-18T12:33:05.796395Z",
     "iopub.status.busy": "2022-04-18T12:33:05.795809Z",
     "iopub.status.idle": "2022-04-18T12:33:05.798905Z",
     "shell.execute_reply": "2022-04-18T12:33:05.799477Z"
    },
    "papermill": {
     "duration": 0.038826,
     "end_time": "2022-04-18T12:33:05.799611",
     "exception": false,
     "start_time": "2022-04-18T12:33:05.760785",
     "status": "completed"
    },
    "tags": []
   },
   "outputs": [],
   "source": [
    "oof_train_path = 'oof_train_temp_500.csv'\n",
    "oof_test_path = 'oof_test_temp_500.csv'"
   ]
  },
  {
   "cell_type": "code",
   "execution_count": 9,
   "id": "219cb862",
   "metadata": {
    "execution": {
     "iopub.execute_input": "2022-04-18T12:33:05.870455Z",
     "iopub.status.busy": "2022-04-18T12:33:05.869892Z",
     "iopub.status.idle": "2022-04-18T12:33:06.490335Z",
     "shell.execute_reply": "2022-04-18T12:33:06.489440Z",
     "shell.execute_reply.started": "2022-04-17T20:04:40.977339Z"
    },
    "papermill": {
     "duration": 0.656181,
     "end_time": "2022-04-18T12:33:06.490567",
     "exception": false,
     "start_time": "2022-04-18T12:33:05.834386",
     "status": "completed"
    },
    "tags": []
   },
   "outputs": [
    {
     "name": "stdout",
     "output_type": "stream",
     "text": [
      "CPU times: user 190 ms, sys: 38.7 ms, total: 229 ms\n",
      "Wall time: 612 ms\n"
     ]
    }
   ],
   "source": [
    "%%time\n",
    "test_100 = pd.read_csv(test_path,index_col=0,header=[0,1])\n",
    "train_100 = pd.read_csv(train_path,index_col=0,header=[0,1])\n",
    "val_100 = pd.read_csv(val_path,index_col=0,header=[0,1])\n",
    "\n",
    "val_100.index = metadata[metadata.split == 'val'].sample_id\n",
    "\n",
    "val_100.sort_index(inplace=True,axis=1)\n",
    "test_100.sort_index(inplace=True,axis=1)\n",
    "train_100.sort_index(inplace=True,axis=1)"
   ]
  },
  {
   "cell_type": "code",
   "execution_count": 10,
   "id": "64b71461",
   "metadata": {
    "execution": {
     "iopub.execute_input": "2022-04-18T12:33:06.562248Z",
     "iopub.status.busy": "2022-04-18T12:33:06.561724Z",
     "iopub.status.idle": "2022-04-18T12:33:06.564704Z",
     "shell.execute_reply": "2022-04-18T12:33:06.565262Z",
     "shell.execute_reply.started": "2022-04-17T20:04:45.29289Z"
    },
    "papermill": {
     "duration": 0.039101,
     "end_time": "2022-04-18T12:33:06.565429",
     "exception": false,
     "start_time": "2022-04-18T12:33:06.526328",
     "status": "completed"
    },
    "tags": []
   },
   "outputs": [],
   "source": [
    "# train_100.drop(columns=[('sample_id_encoded', 'Unnamed: 1601_level_1')],axis=1,inplace=True)"
   ]
  },
  {
   "cell_type": "code",
   "execution_count": 11,
   "id": "38d86616",
   "metadata": {
    "execution": {
     "iopub.execute_input": "2022-04-18T12:33:06.634916Z",
     "iopub.status.busy": "2022-04-18T12:33:06.634407Z",
     "iopub.status.idle": "2022-04-18T12:33:06.643909Z",
     "shell.execute_reply": "2022-04-18T12:33:06.644464Z",
     "shell.execute_reply.started": "2022-04-17T20:04:45.557946Z"
    },
    "papermill": {
     "duration": 0.045278,
     "end_time": "2022-04-18T12:33:06.644595",
     "exception": false,
     "start_time": "2022-04-18T12:33:06.599317",
     "status": "completed"
    },
    "tags": []
   },
   "outputs": [
    {
     "data": {
      "text/plain": [
       "((1059, 400), (804, 400))"
      ]
     },
     "execution_count": 11,
     "metadata": {},
     "output_type": "execute_result"
    }
   ],
   "source": [
    "train_set_100 = pd.concat([train_100,val_100],axis=0)\n",
    "test_set_100 = pd.concat([val_100,test_100],axis=0)\n",
    "train_set_100.shape, test_set_100.shape"
   ]
  },
  {
   "cell_type": "code",
   "execution_count": 12,
   "id": "7a7319f8",
   "metadata": {
    "execution": {
     "iopub.execute_input": "2022-04-18T12:33:06.712986Z",
     "iopub.status.busy": "2022-04-18T12:33:06.712489Z",
     "iopub.status.idle": "2022-04-18T12:33:06.715594Z",
     "shell.execute_reply": "2022-04-18T12:33:06.716194Z",
     "shell.execute_reply.started": "2022-04-17T20:05:02.932691Z"
    },
    "papermill": {
     "duration": 0.038714,
     "end_time": "2022-04-18T12:33:06.716359",
     "exception": false,
     "start_time": "2022-04-18T12:33:06.677645",
     "status": "completed"
    },
    "tags": []
   },
   "outputs": [],
   "source": [
    "skf = StratifiedKFold(n_splits=20,random_state=RANDOM_SEED,shuffle=True)\n",
    "log_loss_scorer = make_scorer(log_loss,needs_proba=True)"
   ]
  },
  {
   "cell_type": "code",
   "execution_count": 13,
   "id": "c21066eb",
   "metadata": {
    "execution": {
     "iopub.execute_input": "2022-04-18T12:33:06.784751Z",
     "iopub.status.busy": "2022-04-18T12:33:06.784218Z",
     "iopub.status.idle": "2022-04-18T12:33:06.790946Z",
     "shell.execute_reply": "2022-04-18T12:33:06.791475Z",
     "shell.execute_reply.started": "2022-04-17T20:05:03.33246Z"
    },
    "papermill": {
     "duration": 0.042389,
     "end_time": "2022-04-18T12:33:06.791599",
     "exception": false,
     "start_time": "2022-04-18T12:33:06.749210",
     "status": "completed"
    },
    "tags": []
   },
   "outputs": [
    {
     "data": {
      "text/plain": [
       "LogisticRegression(C=10, penalty='l1', random_state=777, solver='liblinear')"
      ]
     },
     "execution_count": 13,
     "metadata": {},
     "output_type": "execute_result"
    }
   ],
   "source": [
    "phy = 'phyllosilicate'\n",
    "bas = 'basalt'\n",
    "lr = LogisticRegression(solver='liblinear',C=10,random_state=RANDOM_SEED,penalty='l1')\n",
    "lr"
   ]
  },
  {
   "cell_type": "code",
   "execution_count": 14,
   "id": "62949459",
   "metadata": {
    "execution": {
     "iopub.execute_input": "2022-04-18T12:33:06.862210Z",
     "iopub.status.busy": "2022-04-18T12:33:06.861705Z",
     "iopub.status.idle": "2022-04-18T12:33:06.867234Z",
     "shell.execute_reply": "2022-04-18T12:33:06.867666Z",
     "shell.execute_reply.started": "2022-04-17T20:05:12.678976Z"
    },
    "papermill": {
     "duration": 0.041429,
     "end_time": "2022-04-18T12:33:06.867787",
     "exception": false,
     "start_time": "2022-04-18T12:33:06.826358",
     "status": "completed"
    },
    "tags": []
   },
   "outputs": [],
   "source": [
    "def get_coefs(X,y,c):\n",
    "    lr = LogisticRegression(solver='liblinear',C=c,random_state=RANDOM_SEED,penalty='l1')\n",
    "    print(cross_val_score(lr,X,y,cv=skf,scoring=log_loss_scorer).mean())\n",
    "    lr.fit(X,y)\n",
    "    # print(log_loss(y,lr.predict_proba(X)))\n",
    "    coefs =  lr.coef_\n",
    "    coefs_list  = []\n",
    "    for id,wt in enumerate(tqdm(coefs[0])):\n",
    "        if wt != 0:\n",
    "            coefs_list.append(id)\n",
    "    print(len(coefs_list))\n",
    "    return coefs_list"
   ]
  },
  {
   "cell_type": "code",
   "execution_count": 15,
   "id": "913d8a37",
   "metadata": {
    "execution": {
     "iopub.execute_input": "2022-04-18T12:33:06.939327Z",
     "iopub.status.busy": "2022-04-18T12:33:06.938813Z",
     "iopub.status.idle": "2022-04-18T12:33:06.940645Z",
     "shell.execute_reply": "2022-04-18T12:33:06.941063Z",
     "shell.execute_reply.started": "2022-04-17T20:05:12.848008Z"
    },
    "papermill": {
     "duration": 0.040234,
     "end_time": "2022-04-18T12:33:06.941181",
     "exception": false,
     "start_time": "2022-04-18T12:33:06.900947",
     "status": "completed"
    },
    "tags": []
   },
   "outputs": [],
   "source": [
    "def get_mz(mz,df):\n",
    "    ''' returns list of columns for given mz'''\n",
    "    cols_list = []\n",
    "    for col in df.columns:\n",
    "        if col[0] == str(mz):\n",
    "            cols_list.append(col)\n",
    "    return cols_list"
   ]
  },
  {
   "cell_type": "code",
   "execution_count": 16,
   "id": "8a402a85",
   "metadata": {
    "execution": {
     "iopub.execute_input": "2022-04-18T12:33:07.010365Z",
     "iopub.status.busy": "2022-04-18T12:33:07.009819Z",
     "iopub.status.idle": "2022-04-18T12:33:07.014475Z",
     "shell.execute_reply": "2022-04-18T12:33:07.015024Z",
     "shell.execute_reply.started": "2022-04-17T20:05:13.498441Z"
    },
    "papermill": {
     "duration": 0.040982,
     "end_time": "2022-04-18T12:33:07.015154",
     "exception": false,
     "start_time": "2022-04-18T12:33:06.974172",
     "status": "completed"
    },
    "tags": []
   },
   "outputs": [],
   "source": [
    "def get_total_abundance(df):\n",
    "    ''' returns total abundance for each sample'''\n",
    "    tot_abund_df = pd.DataFrame(index=df.index)\n",
    "    tot_abund_df['tot_abund'] = df.sum(axis=1)\n",
    "    for mz in tqdm(range(0,100)):\n",
    "        tot_abund_df[f\"tot_abund_{mz}\"] = df[get_mz(mz,df)].sum(axis=1)\n",
    "    print(tot_abund_df.shape)\n",
    "    return tot_abund_df"
   ]
  },
  {
   "cell_type": "code",
   "execution_count": 17,
   "id": "c0ae8201",
   "metadata": {
    "execution": {
     "iopub.execute_input": "2022-04-18T12:33:07.087967Z",
     "iopub.status.busy": "2022-04-18T12:33:07.087439Z",
     "iopub.status.idle": "2022-04-18T12:33:07.093903Z",
     "shell.execute_reply": "2022-04-18T12:33:07.093440Z",
     "shell.execute_reply.started": "2022-04-17T20:05:15.108258Z"
    },
    "papermill": {
     "duration": 0.045249,
     "end_time": "2022-04-18T12:33:07.094021",
     "exception": false,
     "start_time": "2022-04-18T12:33:07.048772",
     "status": "completed"
    },
    "tags": []
   },
   "outputs": [],
   "source": [
    "def get_grads(df,bin_size=5):\n",
    "    ''' returns gradients for each mz'''\n",
    "    grad_df = pd.DataFrame(index=df.index)\n",
    "    for mz in tqdm(range(0,100)):\n",
    "        df_mz = df.loc[:,get_mz(mz,df)]\n",
    "        # df_mz_col1 = df_mz.iloc[:,0].values\n",
    "        df_mz = df_mz.diff(axis=1)\n",
    "        # df_mz.iloc[:,0] = df_mz_col1\n",
    "        df_mz.dropna(axis='columns',inplace=True)\n",
    "        # df_mz = df_mz/bin_size\n",
    "        df_mz.columns = [col[0]+ '_' + col[1] + '_' + 'grad' for col in df_mz.columns]\n",
    "        grad_df = pd.concat([grad_df,df_mz],axis=1)\n",
    "    print(grad_df.shape)\n",
    "\n",
    "    return  grad_df"
   ]
  },
  {
   "cell_type": "code",
   "execution_count": 18,
   "id": "817af4cd",
   "metadata": {
    "execution": {
     "iopub.execute_input": "2022-04-18T12:33:07.166698Z",
     "iopub.status.busy": "2022-04-18T12:33:07.165834Z",
     "iopub.status.idle": "2022-04-18T12:33:07.171357Z",
     "shell.execute_reply": "2022-04-18T12:33:07.171776Z",
     "shell.execute_reply.started": "2022-04-17T20:05:15.907891Z"
    },
    "papermill": {
     "duration": 0.042673,
     "end_time": "2022-04-18T12:33:07.171910",
     "exception": false,
     "start_time": "2022-04-18T12:33:07.129237",
     "status": "completed"
    },
    "tags": []
   },
   "outputs": [],
   "source": [
    "def get_mean_std(df):\n",
    "    ''' returns mean and std for each mz'''\n",
    "    mean_std_df = pd.DataFrame(index=df.index)\n",
    "    for mz in tqdm(range(0,100)):\n",
    "        df_mz = df.loc[:,get_mz(mz,df)]\n",
    "        df_mz[f'{mz}_mean'] = df_mz.mean(axis=1)\n",
    "        df_mz[f'{mz}_std'] = df_mz.std(axis=1)\n",
    "        mean_std_df = pd.concat([mean_std_df,df_mz],axis=1)\n",
    "    print(mean_std_df.shape)\n",
    "    return mean_std_df"
   ]
  },
  {
   "cell_type": "code",
   "execution_count": 19,
   "id": "79e01f31",
   "metadata": {
    "execution": {
     "iopub.execute_input": "2022-04-18T12:33:07.242457Z",
     "iopub.status.busy": "2022-04-18T12:33:07.241616Z",
     "iopub.status.idle": "2022-04-18T12:33:07.244397Z",
     "shell.execute_reply": "2022-04-18T12:33:07.244786Z",
     "shell.execute_reply.started": "2022-04-17T20:05:16.81838Z"
    },
    "papermill": {
     "duration": 0.038948,
     "end_time": "2022-04-18T12:33:07.244904",
     "exception": false,
     "start_time": "2022-04-18T12:33:07.205956",
     "status": "completed"
    },
    "tags": []
   },
   "outputs": [],
   "source": [
    "# def add_fts(df):\n",
    "#     tot_abund_df = get_total_abundance(df)\n",
    "#     grad_df = get_grads(df)\n",
    "#     mean_std_df = get_mean_std(df)\n",
    "#     new_df = pd.concat([tot_abund_df,grad_df,mean_std_df],axis=1)\n",
    "#     return new_df"
   ]
  },
  {
   "cell_type": "code",
   "execution_count": 20,
   "id": "3e8aa906",
   "metadata": {
    "execution": {
     "iopub.execute_input": "2022-04-18T12:33:07.315849Z",
     "iopub.status.busy": "2022-04-18T12:33:07.315256Z",
     "iopub.status.idle": "2022-04-18T12:33:07.317540Z",
     "shell.execute_reply": "2022-04-18T12:33:07.317988Z",
     "shell.execute_reply.started": "2022-04-17T20:05:19.717821Z"
    },
    "papermill": {
     "duration": 0.040749,
     "end_time": "2022-04-18T12:33:07.318127",
     "exception": false,
     "start_time": "2022-04-18T12:33:07.277378",
     "status": "completed"
    },
    "tags": []
   },
   "outputs": [
    {
     "data": {
      "text/plain": [
       "((1059, 400), (804, 400))"
      ]
     },
     "execution_count": 20,
     "metadata": {},
     "output_type": "execute_result"
    }
   ],
   "source": [
    "train_set_100.shape, test_set_100.shape"
   ]
  },
  {
   "cell_type": "code",
   "execution_count": 21,
   "id": "eb41e5a8",
   "metadata": {
    "execution": {
     "iopub.execute_input": "2022-04-18T12:33:07.394388Z",
     "iopub.status.busy": "2022-04-18T12:33:07.393800Z",
     "iopub.status.idle": "2022-04-18T12:33:07.397288Z",
     "shell.execute_reply": "2022-04-18T12:33:07.397708Z",
     "shell.execute_reply.started": "2022-04-17T20:17:45.984539Z"
    },
    "papermill": {
     "duration": 0.039469,
     "end_time": "2022-04-18T12:33:07.397835",
     "exception": false,
     "start_time": "2022-04-18T12:33:07.358366",
     "status": "completed"
    },
    "tags": []
   },
   "outputs": [],
   "source": [
    "assert (train_set_100.columns == test_set_100.columns).all()"
   ]
  },
  {
   "cell_type": "code",
   "execution_count": 22,
   "id": "128f7d39",
   "metadata": {
    "execution": {
     "iopub.execute_input": "2022-04-18T12:33:07.466762Z",
     "iopub.status.busy": "2022-04-18T12:33:07.466170Z",
     "iopub.status.idle": "2022-04-18T12:33:09.207717Z",
     "shell.execute_reply": "2022-04-18T12:33:09.208172Z",
     "shell.execute_reply.started": "2022-04-17T20:17:54.088738Z"
    },
    "papermill": {
     "duration": 1.77752,
     "end_time": "2022-04-18T12:33:09.208388",
     "exception": false,
     "start_time": "2022-04-18T12:33:07.430868",
     "status": "completed"
    },
    "tags": []
   },
   "outputs": [
    {
     "name": "stderr",
     "output_type": "stream",
     "text": [
      "100%|██████████| 100/100 [00:00<00:00, 313.74it/s]\n"
     ]
    },
    {
     "name": "stdout",
     "output_type": "stream",
     "text": [
      "(1059, 101)\n"
     ]
    },
    {
     "name": "stderr",
     "output_type": "stream",
     "text": [
      "100%|██████████| 100/100 [00:00<00:00, 135.29it/s]\n"
     ]
    },
    {
     "name": "stdout",
     "output_type": "stream",
     "text": [
      "(1059, 300)\n"
     ]
    },
    {
     "name": "stderr",
     "output_type": "stream",
     "text": [
      "100%|██████████| 100/100 [00:00<00:00, 150.69it/s]"
     ]
    },
    {
     "name": "stdout",
     "output_type": "stream",
     "text": [
      "(1059, 600)\n"
     ]
    },
    {
     "name": "stderr",
     "output_type": "stream",
     "text": [
      "\n"
     ]
    }
   ],
   "source": [
    "t_100 = get_total_abundance(train_set_100)\n",
    "g_100 = get_grads(train_set_100)\n",
    "m_100 = get_mean_std(train_set_100)"
   ]
  },
  {
   "cell_type": "code",
   "execution_count": 23,
   "id": "9785bec8",
   "metadata": {
    "execution": {
     "iopub.execute_input": "2022-04-18T12:33:09.303059Z",
     "iopub.status.busy": "2022-04-18T12:33:09.302394Z",
     "iopub.status.idle": "2022-04-18T12:33:11.071380Z",
     "shell.execute_reply": "2022-04-18T12:33:11.071892Z",
     "shell.execute_reply.started": "2022-04-17T20:17:56.330876Z"
    },
    "papermill": {
     "duration": 1.819306,
     "end_time": "2022-04-18T12:33:11.072064",
     "exception": false,
     "start_time": "2022-04-18T12:33:09.252758",
     "status": "completed"
    },
    "tags": []
   },
   "outputs": [
    {
     "name": "stderr",
     "output_type": "stream",
     "text": [
      "100%|██████████| 100/100 [00:00<00:00, 309.37it/s]\n"
     ]
    },
    {
     "name": "stdout",
     "output_type": "stream",
     "text": [
      "(804, 101)\n"
     ]
    },
    {
     "name": "stderr",
     "output_type": "stream",
     "text": [
      "100%|██████████| 100/100 [00:00<00:00, 128.76it/s]\n"
     ]
    },
    {
     "name": "stdout",
     "output_type": "stream",
     "text": [
      "(804, 300)\n"
     ]
    },
    {
     "name": "stderr",
     "output_type": "stream",
     "text": [
      "100%|██████████| 100/100 [00:00<00:00, 153.06it/s]"
     ]
    },
    {
     "name": "stdout",
     "output_type": "stream",
     "text": [
      "(804, 600)\n"
     ]
    },
    {
     "name": "stderr",
     "output_type": "stream",
     "text": [
      "\n"
     ]
    }
   ],
   "source": [
    "t_100_test = get_total_abundance(test_set_100)\n",
    "g_100_test = get_grads(test_set_100)\n",
    "m_100_test = get_mean_std(test_set_100)\n"
   ]
  },
  {
   "cell_type": "code",
   "execution_count": 24,
   "id": "f5bf6c0e",
   "metadata": {
    "execution": {
     "iopub.execute_input": "2022-04-18T12:33:11.177994Z",
     "iopub.status.busy": "2022-04-18T12:33:11.177459Z",
     "iopub.status.idle": "2022-04-18T12:33:11.214508Z",
     "shell.execute_reply": "2022-04-18T12:33:11.214996Z",
     "shell.execute_reply.started": "2022-04-17T20:17:58.471549Z"
    },
    "papermill": {
     "duration": 0.091889,
     "end_time": "2022-04-18T12:33:11.215151",
     "exception": false,
     "start_time": "2022-04-18T12:33:11.123262",
     "status": "completed"
    },
    "tags": []
   },
   "outputs": [],
   "source": [
    "t_100_test.sort_index(inplace=True,axis=1)\n",
    "t_100.sort_index(inplace=True,axis=1)\n",
    "\n",
    "m_100_test.sort_index(inplace=True,axis=1)\n",
    "m_100.sort_index(inplace=True,axis=1)\n",
    "\n",
    "g_100_test.sort_index(inplace=True,axis=1)\n",
    "g_100.sort_index(inplace=True,axis=1)"
   ]
  },
  {
   "cell_type": "code",
   "execution_count": 25,
   "id": "644fce14",
   "metadata": {
    "execution": {
     "iopub.execute_input": "2022-04-18T12:33:11.325160Z",
     "iopub.status.busy": "2022-04-18T12:33:11.324617Z",
     "iopub.status.idle": "2022-04-18T12:33:11.328988Z",
     "shell.execute_reply": "2022-04-18T12:33:11.329432Z",
     "shell.execute_reply.started": "2022-04-17T20:18:06.298361Z"
    },
    "papermill": {
     "duration": 0.060479,
     "end_time": "2022-04-18T12:33:11.329568",
     "exception": false,
     "start_time": "2022-04-18T12:33:11.269089",
     "status": "completed"
    },
    "tags": []
   },
   "outputs": [],
   "source": [
    "assert (t_100.columns == t_100_test.columns).all()\n",
    "assert (g_100.columns == g_100_test.columns).all()\n",
    "assert (m_100.columns == m_100_test.columns).all()"
   ]
  },
  {
   "cell_type": "code",
   "execution_count": 26,
   "id": "ccfe2cdc",
   "metadata": {
    "execution": {
     "iopub.execute_input": "2022-04-18T12:33:11.444445Z",
     "iopub.status.busy": "2022-04-18T12:33:11.443845Z",
     "iopub.status.idle": "2022-04-18T12:33:11.446850Z",
     "shell.execute_reply": "2022-04-18T12:33:11.447327Z",
     "shell.execute_reply.started": "2022-04-17T20:18:06.998448Z"
    },
    "papermill": {
     "duration": 0.066626,
     "end_time": "2022-04-18T12:33:11.447499",
     "exception": false,
     "start_time": "2022-04-18T12:33:11.380873",
     "status": "completed"
    },
    "tags": [],
    "vscode": {
     "languageId": "perl"
    }
   },
   "outputs": [],
   "source": [
    "ntrain = 1059\n",
    "ntest = 804\n",
    "NFOLDS = 20"
   ]
  },
  {
   "cell_type": "code",
   "execution_count": 27,
   "id": "e42f7a50",
   "metadata": {
    "execution": {
     "iopub.execute_input": "2022-04-18T12:33:11.556309Z",
     "iopub.status.busy": "2022-04-18T12:33:11.555652Z",
     "iopub.status.idle": "2022-04-18T12:33:11.564663Z",
     "shell.execute_reply": "2022-04-18T12:33:11.565126Z",
     "shell.execute_reply.started": "2022-04-17T20:18:09.733556Z"
    },
    "papermill": {
     "duration": 0.064227,
     "end_time": "2022-04-18T12:33:11.565283",
     "exception": false,
     "start_time": "2022-04-18T12:33:11.501056",
     "status": "completed"
    },
    "tags": [],
    "vscode": {
     "languageId": "perl"
    }
   },
   "outputs": [],
   "source": [
    "oof_train_df = pd.DataFrame(index=metadata[metadata.split != 'test'].index, columns=['sample_id',*targets.columns])\n",
    "oof_test_df = pd.DataFrame(index=metadata[metadata.split != 'train'].index, columns=['sample_id',*targets.columns])"
   ]
  },
  {
   "cell_type": "code",
   "execution_count": 28,
   "id": "accacd02",
   "metadata": {
    "execution": {
     "iopub.execute_input": "2022-04-18T12:33:11.673068Z",
     "iopub.status.busy": "2022-04-18T12:33:11.672178Z",
     "iopub.status.idle": "2022-04-18T15:39:50.261632Z",
     "shell.execute_reply": "2022-04-18T15:39:50.261118Z"
    },
    "papermill": {
     "duration": 11198.645398,
     "end_time": "2022-04-18T15:39:50.261761",
     "exception": false,
     "start_time": "2022-04-18T12:33:11.616363",
     "status": "completed"
    },
    "tags": []
   },
   "outputs": [
    {
     "name": "stdout",
     "output_type": "stream",
     "text": [
      "TARGET  basalt\n",
      "0.31760258901095595\n"
     ]
    },
    {
     "name": "stderr",
     "output_type": "stream",
     "text": [
      "100%|██████████| 101/101 [00:00<00:00, 497212.09it/s]"
     ]
    },
    {
     "name": "stdout",
     "output_type": "stream",
     "text": [
      "9\n"
     ]
    },
    {
     "name": "stderr",
     "output_type": "stream",
     "text": [
      "\n"
     ]
    },
    {
     "name": "stdout",
     "output_type": "stream",
     "text": [
      "0.33313037445516736\n"
     ]
    },
    {
     "name": "stderr",
     "output_type": "stream",
     "text": [
      "100%|██████████| 300/300 [00:00<00:00, 353949.70it/s]"
     ]
    },
    {
     "name": "stdout",
     "output_type": "stream",
     "text": [
      "27\n"
     ]
    },
    {
     "name": "stderr",
     "output_type": "stream",
     "text": [
      "\n"
     ]
    },
    {
     "name": "stdout",
     "output_type": "stream",
     "text": [
      "0.2588621857594198\n"
     ]
    },
    {
     "name": "stderr",
     "output_type": "stream",
     "text": [
      "100%|██████████| 600/600 [00:00<00:00, 756184.62it/s]\n"
     ]
    },
    {
     "name": "stdout",
     "output_type": "stream",
     "text": [
      "35\n",
      "0.2713158845286541\n"
     ]
    },
    {
     "name": "stderr",
     "output_type": "stream",
     "text": [
      "100%|██████████| 400/400 [00:00<00:00, 439309.14it/s]\n"
     ]
    },
    {
     "name": "stdout",
     "output_type": "stream",
     "text": [
      "34\n",
      "(1059, 34) (1059, 9) (1059, 27) (1059, 35)\n",
      "(1059, 105)\n",
      "(804, 34) (804, 9) (804, 27) (804, 35)\n",
      "(804, 105)\n"
     ]
    },
    {
     "name": "stderr",
     "output_type": "stream",
     "text": [
      "0it [00:00, ?it/s]"
     ]
    },
    {
     "name": "stdout",
     "output_type": "stream",
     "text": [
      "Learning rate set to 0.002361\n",
      "0:\tlearn: 0.6902603\ttotal: 70.9ms\tremaining: 5m 54s\n",
      "999:\tlearn: 0.1413453\ttotal: 12s\tremaining: 47.9s\n",
      "1998:\tlearn: 0.0788871\ttotal: 23.7s\tremaining: 35.6s\n",
      "2997:\tlearn: 0.0490704\ttotal: 35.3s\tremaining: 23.6s\n",
      "3996:\tlearn: 0.0318146\ttotal: 47.2s\tremaining: 11.8s\n"
     ]
    },
    {
     "name": "stderr",
     "output_type": "stream",
     "text": [
      "1it [00:59, 59.45s/it]"
     ]
    },
    {
     "name": "stdout",
     "output_type": "stream",
     "text": [
      "4995:\tlearn: 0.0220106\ttotal: 58.8s\tremaining: 47.1ms\n",
      "4999:\tlearn: 0.0219804\ttotal: 58.9s\tremaining: 0us\n",
      "fold Loss 0:  0.20715887274649117\n",
      "---------------------------------------------------------------------------\n",
      "Learning rate set to 0.002361\n",
      "0:\tlearn: 0.6902866\ttotal: 22.7ms\tremaining: 1m 53s\n",
      "999:\tlearn: 0.1424288\ttotal: 11.7s\tremaining: 46.8s\n",
      "1998:\tlearn: 0.0795319\ttotal: 23.7s\tremaining: 35.6s\n",
      "2997:\tlearn: 0.0497159\ttotal: 35.2s\tremaining: 23.5s\n",
      "3996:\tlearn: 0.0323837\ttotal: 46.7s\tremaining: 11.7s\n"
     ]
    },
    {
     "name": "stderr",
     "output_type": "stream",
     "text": [
      "2it [01:58, 59.12s/it]"
     ]
    },
    {
     "name": "stdout",
     "output_type": "stream",
     "text": [
      "4995:\tlearn: 0.0222046\ttotal: 58.3s\tremaining: 46.7ms\n",
      "4999:\tlearn: 0.0221768\ttotal: 58.3s\tremaining: 0us\n",
      "fold Loss 1:  0.1796144114428024\n",
      "---------------------------------------------------------------------------\n",
      "Learning rate set to 0.002361\n",
      "0:\tlearn: 0.6902586\ttotal: 17.3ms\tremaining: 1m 26s\n",
      "999:\tlearn: 0.1454809\ttotal: 11.6s\tremaining: 46.5s\n",
      "1998:\tlearn: 0.0818317\ttotal: 23.1s\tremaining: 34.7s\n",
      "2997:\tlearn: 0.0512578\ttotal: 34.8s\tremaining: 23.3s\n",
      "3996:\tlearn: 0.0336485\ttotal: 46.3s\tremaining: 11.6s\n"
     ]
    },
    {
     "name": "stderr",
     "output_type": "stream",
     "text": [
      "3it [02:56, 58.62s/it]"
     ]
    },
    {
     "name": "stdout",
     "output_type": "stream",
     "text": [
      "4995:\tlearn: 0.0229277\ttotal: 57.5s\tremaining: 46ms\n",
      "4999:\tlearn: 0.0229016\ttotal: 57.5s\tremaining: 0us\n",
      "fold Loss 2:  0.10607171374792058\n",
      "---------------------------------------------------------------------------\n",
      "Learning rate set to 0.002361\n",
      "0:\tlearn: 0.6902177\ttotal: 16.7ms\tremaining: 1m 23s\n",
      "999:\tlearn: 0.1465295\ttotal: 11.3s\tremaining: 45s\n",
      "1998:\tlearn: 0.0832155\ttotal: 22.1s\tremaining: 33.3s\n",
      "2997:\tlearn: 0.0521661\ttotal: 33s\tremaining: 22s\n",
      "3996:\tlearn: 0.0344226\ttotal: 44.1s\tremaining: 11.1s\n"
     ]
    },
    {
     "name": "stderr",
     "output_type": "stream",
     "text": [
      "4it [03:51, 57.39s/it]"
     ]
    },
    {
     "name": "stdout",
     "output_type": "stream",
     "text": [
      "4995:\tlearn: 0.0238364\ttotal: 55s\tremaining: 44ms\n",
      "4999:\tlearn: 0.0237950\ttotal: 55s\tremaining: 0us\n",
      "fold Loss 3:  0.050493475656125365\n",
      "---------------------------------------------------------------------------\n",
      "Learning rate set to 0.002361\n",
      "0:\tlearn: 0.6902678\ttotal: 20.8ms\tremaining: 1m 43s\n",
      "999:\tlearn: 0.1453031\ttotal: 10.9s\tremaining: 43.4s\n",
      "1998:\tlearn: 0.0814174\ttotal: 22.1s\tremaining: 33.2s\n",
      "2997:\tlearn: 0.0510670\ttotal: 33s\tremaining: 22s\n",
      "3996:\tlearn: 0.0335884\ttotal: 44s\tremaining: 11s\n"
     ]
    },
    {
     "name": "stderr",
     "output_type": "stream",
     "text": [
      "5it [04:47, 56.68s/it]"
     ]
    },
    {
     "name": "stdout",
     "output_type": "stream",
     "text": [
      "4995:\tlearn: 0.0230702\ttotal: 54.9s\tremaining: 44ms\n",
      "4999:\tlearn: 0.0230432\ttotal: 54.9s\tremaining: 0us\n",
      "fold Loss 4:  0.09723020861628574\n",
      "---------------------------------------------------------------------------\n",
      "Learning rate set to 0.002361\n",
      "0:\tlearn: 0.6901024\ttotal: 16.6ms\tremaining: 1m 22s\n",
      "999:\tlearn: 0.1429529\ttotal: 10.8s\tremaining: 43.3s\n",
      "1998:\tlearn: 0.0810899\ttotal: 21.8s\tremaining: 32.7s\n",
      "2997:\tlearn: 0.0511598\ttotal: 32.8s\tremaining: 21.9s\n",
      "3996:\tlearn: 0.0341611\ttotal: 43.7s\tremaining: 11s\n"
     ]
    },
    {
     "name": "stderr",
     "output_type": "stream",
     "text": [
      "6it [05:43, 56.35s/it]"
     ]
    },
    {
     "name": "stdout",
     "output_type": "stream",
     "text": [
      "4995:\tlearn: 0.0238385\ttotal: 55.2s\tremaining: 44.2ms\n",
      "4999:\tlearn: 0.0238110\ttotal: 55.2s\tremaining: 0us\n",
      "fold Loss 5:  0.1244499819529888\n",
      "---------------------------------------------------------------------------\n",
      "Learning rate set to 0.002361\n",
      "0:\tlearn: 0.6901100\ttotal: 16.9ms\tremaining: 1m 24s\n",
      "999:\tlearn: 0.1411258\ttotal: 10.8s\tremaining: 43.2s\n",
      "1998:\tlearn: 0.0796518\ttotal: 21.6s\tremaining: 32.5s\n",
      "2997:\tlearn: 0.0501392\ttotal: 32.7s\tremaining: 21.8s\n",
      "3996:\tlearn: 0.0332143\ttotal: 43.6s\tremaining: 10.9s\n"
     ]
    },
    {
     "name": "stderr",
     "output_type": "stream",
     "text": [
      "7it [06:37, 55.85s/it]"
     ]
    },
    {
     "name": "stdout",
     "output_type": "stream",
     "text": [
      "4995:\tlearn: 0.0232173\ttotal: 54.3s\tremaining: 43.5ms\n",
      "4999:\tlearn: 0.0231922\ttotal: 54.4s\tremaining: 0us\n",
      "fold Loss 6:  0.1752763783529285\n",
      "---------------------------------------------------------------------------\n",
      "Learning rate set to 0.002361\n",
      "0:\tlearn: 0.6903903\ttotal: 21.9ms\tremaining: 1m 49s\n",
      "999:\tlearn: 0.1453699\ttotal: 11.2s\tremaining: 44.6s\n",
      "1998:\tlearn: 0.0818074\ttotal: 22s\tremaining: 33.1s\n",
      "2997:\tlearn: 0.0511979\ttotal: 32.8s\tremaining: 21.9s\n",
      "3996:\tlearn: 0.0334005\ttotal: 43.9s\tremaining: 11s\n"
     ]
    },
    {
     "name": "stderr",
     "output_type": "stream",
     "text": [
      "8it [07:33, 55.67s/it]"
     ]
    },
    {
     "name": "stdout",
     "output_type": "stream",
     "text": [
      "4995:\tlearn: 0.0226872\ttotal: 54.7s\tremaining: 43.8ms\n",
      "4999:\tlearn: 0.0226601\ttotal: 54.8s\tremaining: 0us\n",
      "fold Loss 7:  0.09814590872881407\n",
      "---------------------------------------------------------------------------\n",
      "Learning rate set to 0.002361\n",
      "0:\tlearn: 0.6902477\ttotal: 17.5ms\tremaining: 1m 27s\n",
      "999:\tlearn: 0.1415673\ttotal: 10.9s\tremaining: 43.8s\n",
      "1998:\tlearn: 0.0797418\ttotal: 22s\tremaining: 33s\n",
      "2997:\tlearn: 0.0495519\ttotal: 32.8s\tremaining: 21.9s\n",
      "3996:\tlearn: 0.0328125\ttotal: 43.6s\tremaining: 10.9s\n"
     ]
    },
    {
     "name": "stderr",
     "output_type": "stream",
     "text": [
      "9it [08:28, 55.57s/it]"
     ]
    },
    {
     "name": "stdout",
     "output_type": "stream",
     "text": [
      "4995:\tlearn: 0.0230620\ttotal: 54.8s\tremaining: 43.9ms\n",
      "4999:\tlearn: 0.0230370\ttotal: 54.9s\tremaining: 0us\n",
      "fold Loss 8:  0.17944845745257834\n",
      "---------------------------------------------------------------------------\n",
      "Learning rate set to 0.002361\n",
      "0:\tlearn: 0.6902117\ttotal: 18.3ms\tremaining: 1m 31s\n",
      "999:\tlearn: 0.1430661\ttotal: 10.7s\tremaining: 43s\n",
      "1998:\tlearn: 0.0797843\ttotal: 21.5s\tremaining: 32.3s\n",
      "2997:\tlearn: 0.0498288\ttotal: 32.6s\tremaining: 21.7s\n",
      "3996:\tlearn: 0.0329463\ttotal: 43.3s\tremaining: 10.9s\n"
     ]
    },
    {
     "name": "stderr",
     "output_type": "stream",
     "text": [
      "10it [09:23, 55.28s/it]"
     ]
    },
    {
     "name": "stdout",
     "output_type": "stream",
     "text": [
      "4995:\tlearn: 0.0228217\ttotal: 54.1s\tremaining: 43.3ms\n",
      "4999:\tlearn: 0.0227973\ttotal: 54.2s\tremaining: 0us\n",
      "fold Loss 9:  0.15434248677275914\n",
      "---------------------------------------------------------------------------\n",
      "Learning rate set to 0.002361\n",
      "0:\tlearn: 0.6902826\ttotal: 21ms\tremaining: 1m 44s\n",
      "999:\tlearn: 0.1436537\ttotal: 11.1s\tremaining: 44.4s\n",
      "1998:\tlearn: 0.0809739\ttotal: 22s\tremaining: 33s\n",
      "2997:\tlearn: 0.0511675\ttotal: 32.7s\tremaining: 21.8s\n",
      "3996:\tlearn: 0.0334930\ttotal: 43.7s\tremaining: 11s\n"
     ]
    },
    {
     "name": "stderr",
     "output_type": "stream",
     "text": [
      "11it [10:18, 55.25s/it]"
     ]
    },
    {
     "name": "stdout",
     "output_type": "stream",
     "text": [
      "4995:\tlearn: 0.0231298\ttotal: 54.6s\tremaining: 43.7ms\n",
      "4999:\tlearn: 0.0231065\ttotal: 54.7s\tremaining: 0us\n",
      "fold Loss 10:  0.13139636584868494\n",
      "---------------------------------------------------------------------------\n",
      "Learning rate set to 0.002361\n",
      "0:\tlearn: 0.6902177\ttotal: 16.6ms\tremaining: 1m 23s\n",
      "999:\tlearn: 0.1445632\ttotal: 10.9s\tremaining: 43.6s\n",
      "1998:\tlearn: 0.0818661\ttotal: 22.1s\tremaining: 33.2s\n",
      "2997:\tlearn: 0.0515430\ttotal: 32.9s\tremaining: 22s\n",
      "3996:\tlearn: 0.0348377\ttotal: 43.9s\tremaining: 11s\n"
     ]
    },
    {
     "name": "stderr",
     "output_type": "stream",
     "text": [
      "12it [11:13, 55.33s/it]"
     ]
    },
    {
     "name": "stdout",
     "output_type": "stream",
     "text": [
      "4995:\tlearn: 0.0250859\ttotal: 55s\tremaining: 44ms\n",
      "4999:\tlearn: 0.0250615\ttotal: 55s\tremaining: 0us\n",
      "fold Loss 11:  0.10527813953841317\n",
      "---------------------------------------------------------------------------\n",
      "Learning rate set to 0.002361\n",
      "0:\tlearn: 0.6901710\ttotal: 17.2ms\tremaining: 1m 26s\n",
      "999:\tlearn: 0.1402313\ttotal: 10.9s\tremaining: 43.6s\n",
      "1998:\tlearn: 0.0787397\ttotal: 21.7s\tremaining: 32.6s\n",
      "2997:\tlearn: 0.0495973\ttotal: 32.8s\tremaining: 21.9s\n",
      "3996:\tlearn: 0.0331420\ttotal: 43.5s\tremaining: 10.9s\n"
     ]
    },
    {
     "name": "stderr",
     "output_type": "stream",
     "text": [
      "13it [12:08, 55.17s/it]"
     ]
    },
    {
     "name": "stdout",
     "output_type": "stream",
     "text": [
      "4995:\tlearn: 0.0233219\ttotal: 54.3s\tremaining: 43.5ms\n",
      "4999:\tlearn: 0.0232908\ttotal: 54.3s\tremaining: 0us\n",
      "fold Loss 12:  0.17804006478416523\n",
      "---------------------------------------------------------------------------\n",
      "Learning rate set to 0.002361\n",
      "0:\tlearn: 0.6902810\ttotal: 23ms\tremaining: 1m 54s\n",
      "999:\tlearn: 0.1476578\ttotal: 11.1s\tremaining: 44.3s\n",
      "1998:\tlearn: 0.0831742\ttotal: 21.9s\tremaining: 32.8s\n",
      "2997:\tlearn: 0.0519374\ttotal: 32.6s\tremaining: 21.8s\n",
      "3996:\tlearn: 0.0340503\ttotal: 43.6s\tremaining: 10.9s\n"
     ]
    },
    {
     "name": "stderr",
     "output_type": "stream",
     "text": [
      "14it [13:03, 55.07s/it]"
     ]
    },
    {
     "name": "stdout",
     "output_type": "stream",
     "text": [
      "4995:\tlearn: 0.0233818\ttotal: 54.3s\tremaining: 43.5ms\n",
      "4999:\tlearn: 0.0233458\ttotal: 54.3s\tremaining: 0us\n",
      "fold Loss 13:  0.04389885554309063\n",
      "---------------------------------------------------------------------------\n",
      "Learning rate set to 0.002361\n",
      "0:\tlearn: 0.6902068\ttotal: 16.2ms\tremaining: 1m 20s\n",
      "999:\tlearn: 0.1456445\ttotal: 10.7s\tremaining: 42.7s\n",
      "1998:\tlearn: 0.0820880\ttotal: 21.7s\tremaining: 32.6s\n",
      "2997:\tlearn: 0.0519515\ttotal: 32.4s\tremaining: 21.7s\n",
      "3996:\tlearn: 0.0339126\ttotal: 43.2s\tremaining: 10.8s\n"
     ]
    },
    {
     "name": "stderr",
     "output_type": "stream",
     "text": [
      "15it [13:58, 54.98s/it]"
     ]
    },
    {
     "name": "stdout",
     "output_type": "stream",
     "text": [
      "4995:\tlearn: 0.0237452\ttotal: 54.3s\tremaining: 43.4ms\n",
      "4999:\tlearn: 0.0237187\ttotal: 54.3s\tremaining: 0us\n",
      "fold Loss 14:  0.048180843883085966\n",
      "---------------------------------------------------------------------------\n",
      "Learning rate set to 0.002361\n",
      "0:\tlearn: 0.6903065\ttotal: 16.5ms\tremaining: 1m 22s\n",
      "999:\tlearn: 0.1395732\ttotal: 10.7s\tremaining: 43s\n",
      "1998:\tlearn: 0.0765583\ttotal: 21.5s\tremaining: 32.3s\n",
      "2997:\tlearn: 0.0472138\ttotal: 32.5s\tremaining: 21.7s\n",
      "3996:\tlearn: 0.0305866\ttotal: 43.1s\tremaining: 10.8s\n"
     ]
    },
    {
     "name": "stderr",
     "output_type": "stream",
     "text": [
      "16it [14:52, 54.79s/it]"
     ]
    },
    {
     "name": "stdout",
     "output_type": "stream",
     "text": [
      "4995:\tlearn: 0.0215006\ttotal: 53.8s\tremaining: 43.1ms\n",
      "4999:\tlearn: 0.0214750\ttotal: 53.9s\tremaining: 0us\n",
      "fold Loss 15:  0.24663775918894582\n",
      "---------------------------------------------------------------------------\n",
      "Learning rate set to 0.002361\n",
      "0:\tlearn: 0.6901790\ttotal: 20.8ms\tremaining: 1m 43s\n",
      "999:\tlearn: 0.1426395\ttotal: 10.9s\tremaining: 43.6s\n",
      "1998:\tlearn: 0.0811891\ttotal: 21.7s\tremaining: 32.6s\n",
      "2997:\tlearn: 0.0507155\ttotal: 32.4s\tremaining: 21.6s\n",
      "3996:\tlearn: 0.0336015\ttotal: 43.3s\tremaining: 10.9s\n"
     ]
    },
    {
     "name": "stderr",
     "output_type": "stream",
     "text": [
      "17it [15:47, 54.80s/it]"
     ]
    },
    {
     "name": "stdout",
     "output_type": "stream",
     "text": [
      "4995:\tlearn: 0.0232282\ttotal: 54.3s\tremaining: 43.5ms\n",
      "4999:\tlearn: 0.0232034\ttotal: 54.3s\tremaining: 0us\n",
      "fold Loss 16:  0.15642892369425318\n",
      "---------------------------------------------------------------------------\n",
      "Learning rate set to 0.002361\n",
      "0:\tlearn: 0.6902490\ttotal: 15.7ms\tremaining: 1m 18s\n",
      "999:\tlearn: 0.1408971\ttotal: 10.7s\tremaining: 42.8s\n",
      "1998:\tlearn: 0.0784831\ttotal: 21.5s\tremaining: 32.3s\n",
      "2997:\tlearn: 0.0487938\ttotal: 32.5s\tremaining: 21.7s\n",
      "3996:\tlearn: 0.0316960\ttotal: 43.5s\tremaining: 10.9s\n"
     ]
    },
    {
     "name": "stderr",
     "output_type": "stream",
     "text": [
      "18it [16:42, 54.89s/it]"
     ]
    },
    {
     "name": "stdout",
     "output_type": "stream",
     "text": [
      "4995:\tlearn: 0.0216694\ttotal: 54.6s\tremaining: 43.7ms\n",
      "4999:\tlearn: 0.0216393\ttotal: 54.6s\tremaining: 0us\n",
      "fold Loss 17:  0.19418230930099017\n",
      "---------------------------------------------------------------------------\n",
      "Learning rate set to 0.002361\n",
      "0:\tlearn: 0.6901079\ttotal: 17.1ms\tremaining: 1m 25s\n",
      "999:\tlearn: 0.1411170\ttotal: 10.8s\tremaining: 43.2s\n",
      "1998:\tlearn: 0.0783790\ttotal: 21.6s\tremaining: 32.4s\n",
      "2997:\tlearn: 0.0504086\ttotal: 32.7s\tremaining: 21.8s\n",
      "3996:\tlearn: 0.0334891\ttotal: 43.6s\tremaining: 10.9s\n"
     ]
    },
    {
     "name": "stderr",
     "output_type": "stream",
     "text": [
      "19it [17:37, 54.91s/it]"
     ]
    },
    {
     "name": "stdout",
     "output_type": "stream",
     "text": [
      "4995:\tlearn: 0.0229411\ttotal: 54.4s\tremaining: 43.6ms\n",
      "4999:\tlearn: 0.0229076\ttotal: 54.5s\tremaining: 0us\n",
      "fold Loss 18:  0.2505586143057657\n",
      "---------------------------------------------------------------------------\n",
      "Learning rate set to 0.002362\n",
      "0:\tlearn: 0.6902395\ttotal: 21.9ms\tremaining: 1m 49s\n",
      "999:\tlearn: 0.1449974\ttotal: 11.2s\tremaining: 44.6s\n",
      "1998:\tlearn: 0.0802745\ttotal: 22s\tremaining: 33s\n",
      "2997:\tlearn: 0.0498108\ttotal: 32.7s\tremaining: 21.8s\n",
      "3996:\tlearn: 0.0322815\ttotal: 43.9s\tremaining: 11s\n"
     ]
    },
    {
     "name": "stderr",
     "output_type": "stream",
     "text": [
      "20it [18:32, 55.63s/it]"
     ]
    },
    {
     "name": "stdout",
     "output_type": "stream",
     "text": [
      "4995:\tlearn: 0.0217543\ttotal: 54.6s\tremaining: 43.7ms\n",
      "4999:\tlearn: 0.0217125\ttotal: 54.6s\tremaining: 0us\n",
      "fold Loss 19:  0.14796443357023215\n",
      "---------------------------------------------------------------------------\n",
      "Training Loss: 0.02793113619206785\n",
      "Loss for basalt:\n",
      "0.14373991025636607 0.05875725686194453\n",
      "==================================================================================================\n",
      "TARGET  carbonate\n"
     ]
    },
    {
     "name": "stderr",
     "output_type": "stream",
     "text": [
      "\n"
     ]
    },
    {
     "name": "stdout",
     "output_type": "stream",
     "text": [
      "0.31723272917026435\n"
     ]
    },
    {
     "name": "stderr",
     "output_type": "stream",
     "text": [
      "100%|██████████| 101/101 [00:00<00:00, 360225.09it/s]"
     ]
    },
    {
     "name": "stdout",
     "output_type": "stream",
     "text": [
      "11\n"
     ]
    },
    {
     "name": "stderr",
     "output_type": "stream",
     "text": [
      "\n"
     ]
    },
    {
     "name": "stdout",
     "output_type": "stream",
     "text": [
      "0.2729780379853989\n"
     ]
    },
    {
     "name": "stderr",
     "output_type": "stream",
     "text": [
      "100%|██████████| 300/300 [00:00<00:00, 399204.06it/s]"
     ]
    },
    {
     "name": "stdout",
     "output_type": "stream",
     "text": [
      "22\n"
     ]
    },
    {
     "name": "stderr",
     "output_type": "stream",
     "text": [
      "\n"
     ]
    },
    {
     "name": "stdout",
     "output_type": "stream",
     "text": [
      "0.25137891774333193\n"
     ]
    },
    {
     "name": "stderr",
     "output_type": "stream",
     "text": [
      "100%|██████████| 600/600 [00:00<00:00, 811015.92it/s]"
     ]
    },
    {
     "name": "stdout",
     "output_type": "stream",
     "text": [
      "45\n"
     ]
    },
    {
     "name": "stderr",
     "output_type": "stream",
     "text": [
      "\n"
     ]
    },
    {
     "name": "stdout",
     "output_type": "stream",
     "text": [
      "0.26789532615779854\n"
     ]
    },
    {
     "name": "stderr",
     "output_type": "stream",
     "text": [
      "100%|██████████| 400/400 [00:00<00:00, 413231.92it/s]\n"
     ]
    },
    {
     "name": "stdout",
     "output_type": "stream",
     "text": [
      "39\n",
      "(1059, 39) (1059, 11) (1059, 22) (1059, 45)\n",
      "(1059, 117)\n",
      "(804, 39) (804, 11) (804, 22) (804, 45)\n",
      "(804, 117)\n"
     ]
    },
    {
     "name": "stderr",
     "output_type": "stream",
     "text": [
      "0it [00:00, ?it/s]"
     ]
    },
    {
     "name": "stdout",
     "output_type": "stream",
     "text": [
      "Learning rate set to 0.002361\n",
      "0:\tlearn: 0.6894403\ttotal: 18.2ms\tremaining: 1m 31s\n",
      "999:\tlearn: 0.0933009\ttotal: 11.9s\tremaining: 47.5s\n",
      "1998:\tlearn: 0.0454343\ttotal: 24.2s\tremaining: 36.3s\n",
      "2997:\tlearn: 0.0272371\ttotal: 36.2s\tremaining: 24.2s\n",
      "3996:\tlearn: 0.0180374\ttotal: 48.4s\tremaining: 12.1s\n"
     ]
    },
    {
     "name": "stderr",
     "output_type": "stream",
     "text": [
      "1it [01:00, 60.89s/it]"
     ]
    },
    {
     "name": "stdout",
     "output_type": "stream",
     "text": [
      "4995:\tlearn: 0.0127992\ttotal: 1m\tremaining: 48.3ms\n",
      "4999:\tlearn: 0.0127869\ttotal: 1m\tremaining: 0us\n",
      "fold Loss 0:  0.04646860818772592\n",
      "---------------------------------------------------------------------------\n",
      "Learning rate set to 0.002361\n",
      "0:\tlearn: 0.6899945\ttotal: 17.8ms\tremaining: 1m 29s\n",
      "999:\tlearn: 0.0905308\ttotal: 11.9s\tremaining: 47.5s\n",
      "1998:\tlearn: 0.0440024\ttotal: 24.1s\tremaining: 36.1s\n",
      "2997:\tlearn: 0.0264201\ttotal: 36.1s\tremaining: 24.1s\n",
      "3996:\tlearn: 0.0174464\ttotal: 48.1s\tremaining: 12.1s\n"
     ]
    },
    {
     "name": "stderr",
     "output_type": "stream",
     "text": [
      "2it [02:01, 60.90s/it]"
     ]
    },
    {
     "name": "stdout",
     "output_type": "stream",
     "text": [
      "4995:\tlearn: 0.0122026\ttotal: 1m\tremaining: 48.3ms\n",
      "4999:\tlearn: 0.0121871\ttotal: 1m\tremaining: 0us\n",
      "fold Loss 1:  0.1430839874504599\n",
      "---------------------------------------------------------------------------\n",
      "Learning rate set to 0.002361\n",
      "0:\tlearn: 0.6898942\ttotal: 23.1ms\tremaining: 1m 55s\n",
      "999:\tlearn: 0.0908522\ttotal: 12.1s\tremaining: 48.2s\n",
      "1998:\tlearn: 0.0435357\ttotal: 24s\tremaining: 36s\n",
      "2997:\tlearn: 0.0256199\ttotal: 36.2s\tremaining: 24.2s\n",
      "3996:\tlearn: 0.0168355\ttotal: 48.2s\tremaining: 12.1s\n"
     ]
    },
    {
     "name": "stderr",
     "output_type": "stream",
     "text": [
      "3it [03:02, 60.88s/it]"
     ]
    },
    {
     "name": "stdout",
     "output_type": "stream",
     "text": [
      "4995:\tlearn: 0.0120712\ttotal: 1m\tremaining: 48.3ms\n",
      "4999:\tlearn: 0.0120618\ttotal: 1m\tremaining: 0us\n",
      "fold Loss 2:  0.13117338834287584\n",
      "---------------------------------------------------------------------------\n",
      "Learning rate set to 0.002361\n",
      "0:\tlearn: 0.6901752\ttotal: 18.6ms\tremaining: 1m 32s\n",
      "999:\tlearn: 0.0895840\ttotal: 12s\tremaining: 48.1s\n",
      "1998:\tlearn: 0.0423234\ttotal: 23.9s\tremaining: 35.9s\n",
      "2997:\tlearn: 0.0247843\ttotal: 36s\tremaining: 24.1s\n",
      "3996:\tlearn: 0.0155381\ttotal: 48s\tremaining: 12s\n"
     ]
    },
    {
     "name": "stderr",
     "output_type": "stream",
     "text": [
      "4it [04:03, 60.68s/it]"
     ]
    },
    {
     "name": "stdout",
     "output_type": "stream",
     "text": [
      "4995:\tlearn: 0.0104570\ttotal: 59.8s\tremaining: 47.9ms\n",
      "4999:\tlearn: 0.0104450\ttotal: 59.9s\tremaining: 0us\n",
      "fold Loss 3:  0.21935506290223547\n",
      "---------------------------------------------------------------------------\n",
      "Learning rate set to 0.002361\n",
      "0:\tlearn: 0.6901339\ttotal: 19.2ms\tremaining: 1m 35s\n",
      "999:\tlearn: 0.0913560\ttotal: 12.1s\tremaining: 48.2s\n",
      "1998:\tlearn: 0.0455377\ttotal: 24s\tremaining: 36s\n",
      "2997:\tlearn: 0.0277621\ttotal: 36.4s\tremaining: 24.3s\n",
      "3996:\tlearn: 0.0184073\ttotal: 48.4s\tremaining: 12.2s\n"
     ]
    },
    {
     "name": "stderr",
     "output_type": "stream",
     "text": [
      "5it [05:03, 60.77s/it]"
     ]
    },
    {
     "name": "stdout",
     "output_type": "stream",
     "text": [
      "4995:\tlearn: 0.0126386\ttotal: 1m\tremaining: 48.3ms\n",
      "4999:\tlearn: 0.0126171\ttotal: 1m\tremaining: 0us\n",
      "fold Loss 4:  0.09821787789833251\n",
      "---------------------------------------------------------------------------\n",
      "Learning rate set to 0.002361\n",
      "0:\tlearn: 0.6902158\ttotal: 21.6ms\tremaining: 1m 47s\n",
      "999:\tlearn: 0.0933580\ttotal: 12.2s\tremaining: 48.9s\n",
      "1998:\tlearn: 0.0453366\ttotal: 24.2s\tremaining: 36.3s\n",
      "2997:\tlearn: 0.0276018\ttotal: 36.2s\tremaining: 24.1s\n",
      "3996:\tlearn: 0.0179328\ttotal: 48.5s\tremaining: 12.2s\n"
     ]
    },
    {
     "name": "stderr",
     "output_type": "stream",
     "text": [
      "6it [06:05, 60.88s/it]"
     ]
    },
    {
     "name": "stdout",
     "output_type": "stream",
     "text": [
      "4995:\tlearn: 0.0119471\ttotal: 1m\tremaining: 48.5ms\n",
      "4999:\tlearn: 0.0119313\ttotal: 1m\tremaining: 0us\n",
      "fold Loss 5:  0.024893388355171624\n",
      "---------------------------------------------------------------------------\n",
      "Learning rate set to 0.002361\n",
      "0:\tlearn: 0.6900695\ttotal: 17.9ms\tremaining: 1m 29s\n",
      "999:\tlearn: 0.0946380\ttotal: 12.1s\tremaining: 48.4s\n",
      "1998:\tlearn: 0.0461718\ttotal: 24s\tremaining: 36s\n",
      "2997:\tlearn: 0.0273877\ttotal: 35.9s\tremaining: 24s\n",
      "3996:\tlearn: 0.0175156\ttotal: 47.8s\tremaining: 12s\n"
     ]
    },
    {
     "name": "stderr",
     "output_type": "stream",
     "text": [
      "7it [07:05, 60.83s/it]"
     ]
    },
    {
     "name": "stdout",
     "output_type": "stream",
     "text": [
      "4995:\tlearn: 0.0117779\ttotal: 1m\tremaining: 48.2ms\n",
      "4999:\tlearn: 0.0117605\ttotal: 1m\tremaining: 0us\n",
      "fold Loss 6:  0.013131496492328695\n",
      "---------------------------------------------------------------------------\n",
      "Learning rate set to 0.002361\n",
      "0:\tlearn: 0.6901267\ttotal: 19.6ms\tremaining: 1m 37s\n",
      "999:\tlearn: 0.0943812\ttotal: 12.1s\tremaining: 48.3s\n",
      "1998:\tlearn: 0.0460926\ttotal: 24.2s\tremaining: 36.3s\n",
      "2997:\tlearn: 0.0276456\ttotal: 36.5s\tremaining: 24.4s\n",
      "3996:\tlearn: 0.0176159\ttotal: 48.4s\tremaining: 12.2s\n"
     ]
    },
    {
     "name": "stderr",
     "output_type": "stream",
     "text": [
      "8it [08:06, 60.85s/it]"
     ]
    },
    {
     "name": "stdout",
     "output_type": "stream",
     "text": [
      "4995:\tlearn: 0.0117558\ttotal: 1m\tremaining: 48.3ms\n",
      "4999:\tlearn: 0.0117407\ttotal: 1m\tremaining: 0us\n",
      "fold Loss 7:  0.05753392161624864\n",
      "---------------------------------------------------------------------------\n",
      "Learning rate set to 0.002361\n",
      "0:\tlearn: 0.6902047\ttotal: 24.7ms\tremaining: 2m 3s\n",
      "999:\tlearn: 0.0939886\ttotal: 12.2s\tremaining: 48.9s\n",
      "1998:\tlearn: 0.0450926\ttotal: 24.1s\tremaining: 36.2s\n",
      "2997:\tlearn: 0.0269540\ttotal: 36.1s\tremaining: 24.1s\n",
      "3996:\tlearn: 0.0175188\ttotal: 48.3s\tremaining: 12.1s\n"
     ]
    },
    {
     "name": "stderr",
     "output_type": "stream",
     "text": [
      "9it [09:07, 60.82s/it]"
     ]
    },
    {
     "name": "stdout",
     "output_type": "stream",
     "text": [
      "4995:\tlearn: 0.0125180\ttotal: 1m\tremaining: 48.2ms\n",
      "4999:\tlearn: 0.0125093\ttotal: 1m\tremaining: 0us\n",
      "fold Loss 8:  0.0381612266301926\n",
      "---------------------------------------------------------------------------\n",
      "Learning rate set to 0.002361\n",
      "0:\tlearn: 0.6900303\ttotal: 17.6ms\tremaining: 1m 27s\n",
      "999:\tlearn: 0.0946169\ttotal: 12.3s\tremaining: 49.2s\n",
      "1998:\tlearn: 0.0460145\ttotal: 24.2s\tremaining: 36.3s\n",
      "2997:\tlearn: 0.0277448\ttotal: 36.2s\tremaining: 24.2s\n",
      "3996:\tlearn: 0.0181131\ttotal: 48.4s\tremaining: 12.1s\n"
     ]
    },
    {
     "name": "stderr",
     "output_type": "stream",
     "text": [
      "10it [10:08, 60.84s/it]"
     ]
    },
    {
     "name": "stdout",
     "output_type": "stream",
     "text": [
      "4995:\tlearn: 0.0127739\ttotal: 1m\tremaining: 48.3ms\n",
      "4999:\tlearn: 0.0127568\ttotal: 1m\tremaining: 0us\n",
      "fold Loss 9:  0.03284246363766437\n",
      "---------------------------------------------------------------------------\n",
      "Learning rate set to 0.002361\n",
      "0:\tlearn: 0.6902091\ttotal: 18.6ms\tremaining: 1m 33s\n",
      "999:\tlearn: 0.0930404\ttotal: 11.9s\tremaining: 47.5s\n",
      "1998:\tlearn: 0.0446202\ttotal: 24s\tremaining: 36s\n",
      "2997:\tlearn: 0.0278218\ttotal: 35.9s\tremaining: 24s\n",
      "3996:\tlearn: 0.0181514\ttotal: 47.8s\tremaining: 12s\n"
     ]
    },
    {
     "name": "stderr",
     "output_type": "stream",
     "text": [
      "11it [11:08, 60.79s/it]"
     ]
    },
    {
     "name": "stdout",
     "output_type": "stream",
     "text": [
      "4995:\tlearn: 0.0127301\ttotal: 1m\tremaining: 48.2ms\n",
      "4999:\tlearn: 0.0127131\ttotal: 1m\tremaining: 0us\n",
      "fold Loss 10:  0.048661804435273216\n",
      "---------------------------------------------------------------------------\n",
      "Learning rate set to 0.002361\n",
      "0:\tlearn: 0.6901701\ttotal: 23.5ms\tremaining: 1m 57s\n",
      "999:\tlearn: 0.0943677\ttotal: 11.9s\tremaining: 47.7s\n",
      "1998:\tlearn: 0.0470009\ttotal: 24.1s\tremaining: 36.2s\n",
      "2997:\tlearn: 0.0288446\ttotal: 36s\tremaining: 24s\n",
      "3996:\tlearn: 0.0190681\ttotal: 47.9s\tremaining: 12s\n"
     ]
    },
    {
     "name": "stderr",
     "output_type": "stream",
     "text": [
      "12it [12:09, 60.81s/it]"
     ]
    },
    {
     "name": "stdout",
     "output_type": "stream",
     "text": [
      "4995:\tlearn: 0.0131930\ttotal: 1m\tremaining: 48.3ms\n",
      "4999:\tlearn: 0.0131808\ttotal: 1m\tremaining: 0us\n",
      "fold Loss 11:  0.040641729728815065\n",
      "---------------------------------------------------------------------------\n",
      "Learning rate set to 0.002361\n",
      "0:\tlearn: 0.6899985\ttotal: 18.6ms\tremaining: 1m 32s\n",
      "999:\tlearn: 0.0907049\ttotal: 11.9s\tremaining: 47.6s\n",
      "1998:\tlearn: 0.0442964\ttotal: 24s\tremaining: 36s\n",
      "2997:\tlearn: 0.0267479\ttotal: 36.4s\tremaining: 24.3s\n",
      "3996:\tlearn: 0.0178544\ttotal: 48.3s\tremaining: 12.1s\n"
     ]
    },
    {
     "name": "stderr",
     "output_type": "stream",
     "text": [
      "13it [13:10, 60.83s/it]"
     ]
    },
    {
     "name": "stdout",
     "output_type": "stream",
     "text": [
      "4995:\tlearn: 0.0125122\ttotal: 1m\tremaining: 48.3ms\n",
      "4999:\tlearn: 0.0125003\ttotal: 1m\tremaining: 0us\n",
      "fold Loss 12:  0.12914651403069174\n",
      "---------------------------------------------------------------------------\n",
      "Learning rate set to 0.002361\n",
      "0:\tlearn: 0.6901998\ttotal: 18.8ms\tremaining: 1m 34s\n",
      "999:\tlearn: 0.0920025\ttotal: 13.6s\tremaining: 54.4s\n",
      "1998:\tlearn: 0.0432756\ttotal: 27.3s\tremaining: 41s\n",
      "2997:\tlearn: 0.0254147\ttotal: 41.7s\tremaining: 27.9s\n",
      "3996:\tlearn: 0.0161482\ttotal: 55.2s\tremaining: 13.9s\n"
     ]
    },
    {
     "name": "stderr",
     "output_type": "stream",
     "text": [
      "14it [14:21, 63.81s/it]"
     ]
    },
    {
     "name": "stdout",
     "output_type": "stream",
     "text": [
      "4995:\tlearn: 0.0107904\ttotal: 1m 9s\tremaining: 56ms\n",
      "4999:\tlearn: 0.0107793\ttotal: 1m 10s\tremaining: 0us\n",
      "fold Loss 13:  0.156717067516451\n",
      "---------------------------------------------------------------------------\n",
      "Learning rate set to 0.002361\n",
      "0:\tlearn: 0.6897548\ttotal: 26.9ms\tremaining: 2m 14s\n",
      "999:\tlearn: 0.0895152\ttotal: 14.3s\tremaining: 57.1s\n",
      "1998:\tlearn: 0.0419829\ttotal: 28.4s\tremaining: 42.7s\n",
      "2997:\tlearn: 0.0241926\ttotal: 43.1s\tremaining: 28.8s\n",
      "3996:\tlearn: 0.0157988\ttotal: 57.2s\tremaining: 14.4s\n"
     ]
    },
    {
     "name": "stderr",
     "output_type": "stream",
     "text": [
      "15it [15:34, 66.49s/it]"
     ]
    },
    {
     "name": "stdout",
     "output_type": "stream",
     "text": [
      "4995:\tlearn: 0.0111611\ttotal: 1m 11s\tremaining: 57.6ms\n",
      "4999:\tlearn: 0.0111474\ttotal: 1m 12s\tremaining: 0us\n",
      "fold Loss 14:  0.15384814811709205\n",
      "---------------------------------------------------------------------------\n",
      "Learning rate set to 0.002361\n",
      "0:\tlearn: 0.6901347\ttotal: 20.4ms\tremaining: 1m 42s\n",
      "999:\tlearn: 0.0900429\ttotal: 14.3s\tremaining: 57.2s\n",
      "1998:\tlearn: 0.0429196\ttotal: 29s\tremaining: 43.5s\n",
      "2997:\tlearn: 0.0259322\ttotal: 43.4s\tremaining: 29s\n",
      "3996:\tlearn: 0.0172984\ttotal: 57.2s\tremaining: 14.3s\n"
     ]
    },
    {
     "name": "stderr",
     "output_type": "stream",
     "text": [
      "16it [16:45, 68.00s/it]"
     ]
    },
    {
     "name": "stdout",
     "output_type": "stream",
     "text": [
      "4995:\tlearn: 0.0120500\ttotal: 1m 10s\tremaining: 56.7ms\n",
      "4999:\tlearn: 0.0120266\ttotal: 1m 10s\tremaining: 0us\n",
      "fold Loss 15:  0.14450452749748025\n",
      "---------------------------------------------------------------------------\n",
      "Learning rate set to 0.002361\n",
      "0:\tlearn: 0.6902042\ttotal: 19.8ms\tremaining: 1m 38s\n",
      "999:\tlearn: 0.0933752\ttotal: 13.2s\tremaining: 52.9s\n",
      "1998:\tlearn: 0.0455394\ttotal: 26.8s\tremaining: 40.2s\n",
      "2997:\tlearn: 0.0274553\ttotal: 39.9s\tremaining: 26.7s\n",
      "3996:\tlearn: 0.0176952\ttotal: 53.1s\tremaining: 13.3s\n"
     ]
    },
    {
     "name": "stderr",
     "output_type": "stream",
     "text": [
      "17it [17:52, 67.72s/it]"
     ]
    },
    {
     "name": "stdout",
     "output_type": "stream",
     "text": [
      "4995:\tlearn: 0.0117150\ttotal: 1m 6s\tremaining: 53.2ms\n",
      "4999:\tlearn: 0.0116985\ttotal: 1m 6s\tremaining: 0us\n",
      "fold Loss 16:  0.06581635304018957\n",
      "---------------------------------------------------------------------------\n",
      "Learning rate set to 0.002361\n",
      "0:\tlearn: 0.6902195\ttotal: 25.3ms\tremaining: 2m 6s\n",
      "999:\tlearn: 0.0924420\ttotal: 13.3s\tremaining: 53s\n",
      "1998:\tlearn: 0.0444501\ttotal: 26.9s\tremaining: 40.4s\n",
      "2997:\tlearn: 0.0264313\ttotal: 40.1s\tremaining: 26.8s\n",
      "3996:\tlearn: 0.0170238\ttotal: 53.8s\tremaining: 13.5s\n"
     ]
    },
    {
     "name": "stderr",
     "output_type": "stream",
     "text": [
      "18it [19:00, 67.71s/it]"
     ]
    },
    {
     "name": "stdout",
     "output_type": "stream",
     "text": [
      "4995:\tlearn: 0.0115766\ttotal: 1m 7s\tremaining: 53.7ms\n",
      "4999:\tlearn: 0.0115635\ttotal: 1m 7s\tremaining: 0us\n",
      "fold Loss 17:  0.08822722620393779\n",
      "---------------------------------------------------------------------------\n",
      "Learning rate set to 0.002361\n",
      "0:\tlearn: 0.6901297\ttotal: 21.1ms\tremaining: 1m 45s\n",
      "999:\tlearn: 0.0930320\ttotal: 13.2s\tremaining: 52.9s\n",
      "1998:\tlearn: 0.0441350\ttotal: 26.8s\tremaining: 40.3s\n",
      "2997:\tlearn: 0.0258055\ttotal: 40s\tremaining: 26.7s\n",
      "3996:\tlearn: 0.0162033\ttotal: 53.6s\tremaining: 13.4s\n"
     ]
    },
    {
     "name": "stderr",
     "output_type": "stream",
     "text": [
      "19it [20:07, 67.68s/it]"
     ]
    },
    {
     "name": "stdout",
     "output_type": "stream",
     "text": [
      "4995:\tlearn: 0.0108821\ttotal: 1m 6s\tremaining: 53.6ms\n",
      "4999:\tlearn: 0.0108640\ttotal: 1m 7s\tremaining: 0us\n",
      "fold Loss 18:  0.1056264032219663\n",
      "---------------------------------------------------------------------------\n",
      "Learning rate set to 0.002362\n",
      "0:\tlearn: 0.6901885\ttotal: 19.7ms\tremaining: 1m 38s\n",
      "999:\tlearn: 0.0936179\ttotal: 13.5s\tremaining: 53.9s\n",
      "1998:\tlearn: 0.0449417\ttotal: 26.9s\tremaining: 40.4s\n",
      "2997:\tlearn: 0.0269618\ttotal: 40.3s\tremaining: 26.9s\n",
      "3996:\tlearn: 0.0171094\ttotal: 53.9s\tremaining: 13.5s\n"
     ]
    },
    {
     "name": "stderr",
     "output_type": "stream",
     "text": [
      "20it [21:16, 63.80s/it]"
     ]
    },
    {
     "name": "stdout",
     "output_type": "stream",
     "text": [
      "4995:\tlearn: 0.0114322\ttotal: 1m 7s\tremaining: 54ms\n",
      "4999:\tlearn: 0.0114195\ttotal: 1m 7s\tremaining: 0us\n",
      "fold Loss 19:  0.02877048745536988\n",
      "---------------------------------------------------------------------------\n",
      "Training Loss: 0.012282905887491438\n",
      "Loss for carbonate:\n",
      "0.08834108413802512 0.055707518554598844\n",
      "==================================================================================================\n",
      "TARGET  chloride\n"
     ]
    },
    {
     "name": "stderr",
     "output_type": "stream",
     "text": [
      "\n"
     ]
    },
    {
     "name": "stdout",
     "output_type": "stream",
     "text": [
      "0.31612239506020196\n"
     ]
    },
    {
     "name": "stderr",
     "output_type": "stream",
     "text": [
      "100%|██████████| 101/101 [00:00<00:00, 354201.26it/s]"
     ]
    },
    {
     "name": "stdout",
     "output_type": "stream",
     "text": [
      "9\n"
     ]
    },
    {
     "name": "stderr",
     "output_type": "stream",
     "text": [
      "\n"
     ]
    },
    {
     "name": "stdout",
     "output_type": "stream",
     "text": [
      "0.30138100694263775\n"
     ]
    },
    {
     "name": "stderr",
     "output_type": "stream",
     "text": [
      "100%|██████████| 300/300 [00:00<00:00, 431364.83it/s]"
     ]
    },
    {
     "name": "stdout",
     "output_type": "stream",
     "text": [
      "21\n"
     ]
    },
    {
     "name": "stderr",
     "output_type": "stream",
     "text": [
      "\n"
     ]
    },
    {
     "name": "stdout",
     "output_type": "stream",
     "text": [
      "0.2935762205605933\n"
     ]
    },
    {
     "name": "stderr",
     "output_type": "stream",
     "text": [
      "100%|██████████| 600/600 [00:00<00:00, 744991.83it/s]\n"
     ]
    },
    {
     "name": "stdout",
     "output_type": "stream",
     "text": [
      "38\n",
      "0.2888445878143046\n"
     ]
    },
    {
     "name": "stderr",
     "output_type": "stream",
     "text": [
      "100%|██████████| 400/400 [00:00<00:00, 728810.43it/s]\n"
     ]
    },
    {
     "name": "stdout",
     "output_type": "stream",
     "text": [
      "34\n",
      "(1059, 34) (1059, 9) (1059, 21) (1059, 38)\n",
      "(1059, 102)\n",
      "(804, 34) (804, 9) (804, 21) (804, 38)\n",
      "(804, 102)\n"
     ]
    },
    {
     "name": "stderr",
     "output_type": "stream",
     "text": [
      "0it [00:00, ?it/s]"
     ]
    },
    {
     "name": "stdout",
     "output_type": "stream",
     "text": [
      "Learning rate set to 0.002361\n",
      "0:\tlearn: 0.6902604\ttotal: 18.3ms\tremaining: 1m 31s\n",
      "999:\tlearn: 0.1542056\ttotal: 12s\tremaining: 47.9s\n",
      "1998:\tlearn: 0.0915719\ttotal: 23.4s\tremaining: 35.1s\n",
      "2997:\tlearn: 0.0610445\ttotal: 35.4s\tremaining: 23.6s\n",
      "3996:\tlearn: 0.0421243\ttotal: 46.8s\tremaining: 11.7s\n"
     ]
    },
    {
     "name": "stderr",
     "output_type": "stream",
     "text": [
      "1it [00:58, 58.63s/it]"
     ]
    },
    {
     "name": "stdout",
     "output_type": "stream",
     "text": [
      "4995:\tlearn: 0.0300046\ttotal: 58s\tremaining: 46.5ms\n",
      "4999:\tlearn: 0.0299604\ttotal: 58.1s\tremaining: 0us\n",
      "fold Loss 0:  0.07592147848427222\n",
      "---------------------------------------------------------------------------\n",
      "Learning rate set to 0.002361\n",
      "0:\tlearn: 0.6901393\ttotal: 22.4ms\tremaining: 1m 51s\n",
      "999:\tlearn: 0.1409395\ttotal: 11.7s\tremaining: 47s\n",
      "1998:\tlearn: 0.0799492\ttotal: 23.3s\tremaining: 35s\n",
      "2997:\tlearn: 0.0522203\ttotal: 34.4s\tremaining: 23s\n",
      "3996:\tlearn: 0.0356808\ttotal: 46.1s\tremaining: 11.6s\n"
     ]
    },
    {
     "name": "stderr",
     "output_type": "stream",
     "text": [
      "2it [01:56, 58.09s/it]"
     ]
    },
    {
     "name": "stdout",
     "output_type": "stream",
     "text": [
      "4995:\tlearn: 0.0256945\ttotal: 57.1s\tremaining: 45.7ms\n",
      "4999:\tlearn: 0.0256636\ttotal: 57.2s\tremaining: 0us\n",
      "fold Loss 1:  0.43261029496414083\n",
      "---------------------------------------------------------------------------\n",
      "Learning rate set to 0.002361\n",
      "0:\tlearn: 0.6907587\ttotal: 17.6ms\tremaining: 1m 27s\n",
      "999:\tlearn: 0.1462599\ttotal: 11.2s\tremaining: 44.8s\n",
      "1998:\tlearn: 0.0863300\ttotal: 22.9s\tremaining: 34.4s\n",
      "2997:\tlearn: 0.0567689\ttotal: 34s\tremaining: 22.7s\n",
      "3996:\tlearn: 0.0389173\ttotal: 45.3s\tremaining: 11.4s\n"
     ]
    },
    {
     "name": "stderr",
     "output_type": "stream",
     "text": [
      "3it [02:53, 57.84s/it]"
     ]
    },
    {
     "name": "stdout",
     "output_type": "stream",
     "text": [
      "4995:\tlearn: 0.0279961\ttotal: 57s\tremaining: 45.6ms\n",
      "4999:\tlearn: 0.0279573\ttotal: 57s\tremaining: 0us\n",
      "fold Loss 2:  0.2278659234252984\n",
      "---------------------------------------------------------------------------\n",
      "Learning rate set to 0.002361\n",
      "0:\tlearn: 0.6903224\ttotal: 17.2ms\tremaining: 1m 26s\n",
      "999:\tlearn: 0.1514790\ttotal: 11.1s\tremaining: 44.6s\n",
      "1998:\tlearn: 0.0913867\ttotal: 22.5s\tremaining: 33.7s\n",
      "2997:\tlearn: 0.0611432\ttotal: 34.1s\tremaining: 22.8s\n",
      "3996:\tlearn: 0.0415604\ttotal: 45.3s\tremaining: 11.4s\n"
     ]
    },
    {
     "name": "stderr",
     "output_type": "stream",
     "text": [
      "4it [03:51, 57.61s/it]"
     ]
    },
    {
     "name": "stdout",
     "output_type": "stream",
     "text": [
      "4995:\tlearn: 0.0293910\ttotal: 56.7s\tremaining: 45.4ms\n",
      "4999:\tlearn: 0.0293549\ttotal: 56.7s\tremaining: 0us\n",
      "fold Loss 3:  0.11225712050132741\n",
      "---------------------------------------------------------------------------\n",
      "Learning rate set to 0.002361\n",
      "0:\tlearn: 0.6903172\ttotal: 20ms\tremaining: 1m 39s\n",
      "999:\tlearn: 0.1522264\ttotal: 11.5s\tremaining: 46s\n",
      "1998:\tlearn: 0.0897470\ttotal: 22.8s\tremaining: 34.2s\n",
      "2997:\tlearn: 0.0597244\ttotal: 34.1s\tremaining: 22.8s\n",
      "3996:\tlearn: 0.0407612\ttotal: 45.6s\tremaining: 11.4s\n"
     ]
    },
    {
     "name": "stderr",
     "output_type": "stream",
     "text": [
      "5it [04:48, 57.55s/it]"
     ]
    },
    {
     "name": "stdout",
     "output_type": "stream",
     "text": [
      "4995:\tlearn: 0.0290731\ttotal: 56.8s\tremaining: 45.5ms\n",
      "4999:\tlearn: 0.0290419\ttotal: 56.9s\tremaining: 0us\n",
      "fold Loss 4:  0.1630053273383855\n",
      "---------------------------------------------------------------------------\n",
      "Learning rate set to 0.002361\n",
      "0:\tlearn: 0.6902761\ttotal: 16.7ms\tremaining: 1m 23s\n",
      "999:\tlearn: 0.1509026\ttotal: 11.3s\tremaining: 45.3s\n",
      "1998:\tlearn: 0.0894724\ttotal: 23.1s\tremaining: 34.7s\n",
      "2997:\tlearn: 0.0590721\ttotal: 34.4s\tremaining: 23s\n",
      "3996:\tlearn: 0.0404281\ttotal: 45.9s\tremaining: 11.5s\n"
     ]
    },
    {
     "name": "stderr",
     "output_type": "stream",
     "text": [
      "6it [05:46, 57.58s/it]"
     ]
    },
    {
     "name": "stdout",
     "output_type": "stream",
     "text": [
      "4995:\tlearn: 0.0287852\ttotal: 57.1s\tremaining: 45.7ms\n",
      "4999:\tlearn: 0.0287379\ttotal: 57.1s\tremaining: 0us\n",
      "fold Loss 5:  0.1523796819367612\n",
      "---------------------------------------------------------------------------\n",
      "Learning rate set to 0.002361\n",
      "0:\tlearn: 0.6902234\ttotal: 16.8ms\tremaining: 1m 24s\n",
      "999:\tlearn: 0.1507253\ttotal: 11.2s\tremaining: 44.7s\n",
      "1998:\tlearn: 0.0907624\ttotal: 22.6s\tremaining: 34s\n",
      "2997:\tlearn: 0.0605806\ttotal: 33.8s\tremaining: 22.6s\n",
      "3996:\tlearn: 0.0415812\ttotal: 45s\tremaining: 11.3s\n"
     ]
    },
    {
     "name": "stderr",
     "output_type": "stream",
     "text": [
      "7it [06:43, 57.43s/it]"
     ]
    },
    {
     "name": "stdout",
     "output_type": "stream",
     "text": [
      "4995:\tlearn: 0.0298130\ttotal: 56.5s\tremaining: 45.3ms\n",
      "4999:\tlearn: 0.0297779\ttotal: 56.6s\tremaining: 0us\n",
      "fold Loss 6:  0.11598918151403052\n",
      "---------------------------------------------------------------------------\n",
      "Learning rate set to 0.002361\n",
      "0:\tlearn: 0.6903209\ttotal: 21.3ms\tremaining: 1m 46s\n",
      "999:\tlearn: 0.1535655\ttotal: 11.2s\tremaining: 44.8s\n",
      "1998:\tlearn: 0.0913702\ttotal: 22.3s\tremaining: 33.5s\n",
      "2997:\tlearn: 0.0606132\ttotal: 34.7s\tremaining: 23.2s\n",
      "3996:\tlearn: 0.0414340\ttotal: 46.7s\tremaining: 11.7s\n"
     ]
    },
    {
     "name": "stderr",
     "output_type": "stream",
     "text": [
      "8it [07:42, 57.96s/it]"
     ]
    },
    {
     "name": "stdout",
     "output_type": "stream",
     "text": [
      "4995:\tlearn: 0.0294983\ttotal: 58.5s\tremaining: 46.8ms\n",
      "4999:\tlearn: 0.0294638\ttotal: 58.5s\tremaining: 0us\n",
      "fold Loss 7:  0.0962495702142116\n",
      "---------------------------------------------------------------------------\n",
      "Learning rate set to 0.002361\n",
      "0:\tlearn: 0.6901740\ttotal: 18.6ms\tremaining: 1m 33s\n",
      "999:\tlearn: 0.1504180\ttotal: 12.4s\tremaining: 49.6s\n",
      "1998:\tlearn: 0.0879365\ttotal: 24.2s\tremaining: 36.4s\n",
      "2997:\tlearn: 0.0581895\ttotal: 36.8s\tremaining: 24.6s\n",
      "3996:\tlearn: 0.0403505\ttotal: 49.1s\tremaining: 12.3s\n"
     ]
    },
    {
     "name": "stderr",
     "output_type": "stream",
     "text": [
      "9it [08:44, 59.34s/it]"
     ]
    },
    {
     "name": "stdout",
     "output_type": "stream",
     "text": [
      "4995:\tlearn: 0.0288682\ttotal: 1m 1s\tremaining: 49.4ms\n",
      "4999:\tlearn: 0.0288366\ttotal: 1m 1s\tremaining: 0us\n",
      "fold Loss 8:  0.16604697394610643\n",
      "---------------------------------------------------------------------------\n",
      "Learning rate set to 0.002361\n",
      "0:\tlearn: 0.6902478\ttotal: 18.5ms\tremaining: 1m 32s\n",
      "999:\tlearn: 0.1489100\ttotal: 13s\tremaining: 52.1s\n",
      "1998:\tlearn: 0.0886221\ttotal: 25.6s\tremaining: 38.4s\n",
      "2997:\tlearn: 0.0584970\ttotal: 37.9s\tremaining: 25.3s\n",
      "3996:\tlearn: 0.0401443\ttotal: 50.5s\tremaining: 12.7s\n"
     ]
    },
    {
     "name": "stderr",
     "output_type": "stream",
     "text": [
      "10it [09:48, 60.67s/it]"
     ]
    },
    {
     "name": "stdout",
     "output_type": "stream",
     "text": [
      "4995:\tlearn: 0.0277726\ttotal: 1m 2s\tremaining: 50.4ms\n",
      "4999:\tlearn: 0.0277317\ttotal: 1m 2s\tremaining: 0us\n",
      "fold Loss 9:  0.20262701851958048\n",
      "---------------------------------------------------------------------------\n",
      "Learning rate set to 0.002361\n",
      "0:\tlearn: 0.6902471\ttotal: 23ms\tremaining: 1m 54s\n",
      "999:\tlearn: 0.1481258\ttotal: 12.7s\tremaining: 50.9s\n",
      "1998:\tlearn: 0.0886242\ttotal: 24.7s\tremaining: 37.1s\n",
      "2997:\tlearn: 0.0587939\ttotal: 36.3s\tremaining: 24.2s\n",
      "3996:\tlearn: 0.0409371\ttotal: 48.4s\tremaining: 12.2s\n"
     ]
    },
    {
     "name": "stderr",
     "output_type": "stream",
     "text": [
      "11it [10:48, 60.56s/it]"
     ]
    },
    {
     "name": "stdout",
     "output_type": "stream",
     "text": [
      "4995:\tlearn: 0.0296148\ttotal: 59.7s\tremaining: 47.8ms\n",
      "4999:\tlearn: 0.0295584\ttotal: 59.7s\tremaining: 0us\n",
      "fold Loss 10:  0.23306056031772407\n",
      "---------------------------------------------------------------------------\n",
      "Learning rate set to 0.002361\n",
      "0:\tlearn: 0.6902858\ttotal: 18.6ms\tremaining: 1m 33s\n",
      "999:\tlearn: 0.1520069\ttotal: 11.3s\tremaining: 45.2s\n",
      "1998:\tlearn: 0.0907627\ttotal: 23.1s\tremaining: 34.7s\n",
      "2997:\tlearn: 0.0605413\ttotal: 35.2s\tremaining: 23.5s\n",
      "3996:\tlearn: 0.0430443\ttotal: 47.4s\tremaining: 11.9s\n"
     ]
    },
    {
     "name": "stderr",
     "output_type": "stream",
     "text": [
      "12it [11:48, 60.23s/it]"
     ]
    },
    {
     "name": "stdout",
     "output_type": "stream",
     "text": [
      "4995:\tlearn: 0.0313135\ttotal: 58.9s\tremaining: 47.1ms\n",
      "4999:\tlearn: 0.0312860\ttotal: 58.9s\tremaining: 0us\n",
      "fold Loss 11:  0.0882053388388907\n",
      "---------------------------------------------------------------------------\n",
      "Learning rate set to 0.002361\n",
      "0:\tlearn: 0.6903125\ttotal: 17.5ms\tremaining: 1m 27s\n",
      "999:\tlearn: 0.1536088\ttotal: 11.4s\tremaining: 45.4s\n",
      "1998:\tlearn: 0.0915811\ttotal: 22.9s\tremaining: 34.4s\n",
      "2997:\tlearn: 0.0614386\ttotal: 34.3s\tremaining: 22.9s\n",
      "3996:\tlearn: 0.0423703\ttotal: 45.6s\tremaining: 11.5s\n"
     ]
    },
    {
     "name": "stderr",
     "output_type": "stream",
     "text": [
      "13it [12:46, 59.50s/it]"
     ]
    },
    {
     "name": "stdout",
     "output_type": "stream",
     "text": [
      "4995:\tlearn: 0.0302800\ttotal: 57.2s\tremaining: 45.8ms\n",
      "4999:\tlearn: 0.0302586\ttotal: 57.3s\tremaining: 0us\n",
      "fold Loss 12:  0.05874997781009949\n",
      "---------------------------------------------------------------------------\n",
      "Learning rate set to 0.002361\n",
      "0:\tlearn: 0.6902729\ttotal: 22.6ms\tremaining: 1m 52s\n",
      "999:\tlearn: 0.1523472\ttotal: 11.5s\tremaining: 46.1s\n",
      "1998:\tlearn: 0.0906272\ttotal: 23s\tremaining: 34.5s\n",
      "2997:\tlearn: 0.0605920\ttotal: 34.6s\tremaining: 23.1s\n",
      "3996:\tlearn: 0.0419261\ttotal: 46.1s\tremaining: 11.6s\n"
     ]
    },
    {
     "name": "stderr",
     "output_type": "stream",
     "text": [
      "14it [13:44, 59.07s/it]"
     ]
    },
    {
     "name": "stdout",
     "output_type": "stream",
     "text": [
      "4995:\tlearn: 0.0302486\ttotal: 57.5s\tremaining: 46ms\n",
      "4999:\tlearn: 0.0301966\ttotal: 57.5s\tremaining: 0us\n",
      "fold Loss 13:  0.14009277528445177\n",
      "---------------------------------------------------------------------------\n",
      "Learning rate set to 0.002361\n",
      "0:\tlearn: 0.6902764\ttotal: 17.9ms\tremaining: 1m 29s\n",
      "999:\tlearn: 0.1529431\ttotal: 11.7s\tremaining: 46.9s\n",
      "1998:\tlearn: 0.0915593\ttotal: 23.1s\tremaining: 34.7s\n",
      "2997:\tlearn: 0.0609012\ttotal: 34.4s\tremaining: 22.9s\n",
      "3996:\tlearn: 0.0420773\ttotal: 45.5s\tremaining: 11.4s\n"
     ]
    },
    {
     "name": "stderr",
     "output_type": "stream",
     "text": [
      "15it [14:41, 58.44s/it]"
     ]
    },
    {
     "name": "stdout",
     "output_type": "stream",
     "text": [
      "4995:\tlearn: 0.0303398\ttotal: 56.4s\tremaining: 45.2ms\n",
      "4999:\tlearn: 0.0303055\ttotal: 56.5s\tremaining: 0us\n",
      "fold Loss 14:  0.10966362631129742\n",
      "---------------------------------------------------------------------------\n",
      "Learning rate set to 0.002361\n",
      "0:\tlearn: 0.6903359\ttotal: 16.9ms\tremaining: 1m 24s\n",
      "999:\tlearn: 0.1532041\ttotal: 11.3s\tremaining: 45.1s\n",
      "1998:\tlearn: 0.0900421\ttotal: 22.4s\tremaining: 33.6s\n",
      "2997:\tlearn: 0.0594456\ttotal: 33.5s\tremaining: 22.4s\n",
      "3996:\tlearn: 0.0407280\ttotal: 45s\tremaining: 11.3s\n"
     ]
    },
    {
     "name": "stderr",
     "output_type": "stream",
     "text": [
      "16it [15:38, 57.99s/it]"
     ]
    },
    {
     "name": "stdout",
     "output_type": "stream",
     "text": [
      "4995:\tlearn: 0.0285590\ttotal: 56.4s\tremaining: 45.1ms\n",
      "4999:\tlearn: 0.0285142\ttotal: 56.4s\tremaining: 0us\n",
      "fold Loss 15:  0.16874989751725575\n",
      "---------------------------------------------------------------------------\n",
      "Learning rate set to 0.002361\n",
      "0:\tlearn: 0.6902850\ttotal: 22.8ms\tremaining: 1m 53s\n",
      "999:\tlearn: 0.1513240\ttotal: 11.1s\tremaining: 44.6s\n",
      "1998:\tlearn: 0.0905822\ttotal: 22.7s\tremaining: 34.1s\n",
      "2997:\tlearn: 0.0601666\ttotal: 33.9s\tremaining: 22.7s\n",
      "3996:\tlearn: 0.0409958\ttotal: 45.2s\tremaining: 11.3s\n"
     ]
    },
    {
     "name": "stderr",
     "output_type": "stream",
     "text": [
      "17it [16:35, 57.78s/it]"
     ]
    },
    {
     "name": "stdout",
     "output_type": "stream",
     "text": [
      "4995:\tlearn: 0.0288807\ttotal: 56.7s\tremaining: 45.4ms\n",
      "4999:\tlearn: 0.0288237\ttotal: 56.7s\tremaining: 0us\n",
      "fold Loss 16:  0.10172362704912909\n",
      "---------------------------------------------------------------------------\n",
      "Learning rate set to 0.002361\n",
      "0:\tlearn: 0.6902860\ttotal: 16.8ms\tremaining: 1m 24s\n",
      "999:\tlearn: 0.1427953\ttotal: 11.2s\tremaining: 44.8s\n",
      "1998:\tlearn: 0.0825242\ttotal: 22.7s\tremaining: 34.1s\n",
      "2997:\tlearn: 0.0542190\ttotal: 34.3s\tremaining: 22.9s\n",
      "3996:\tlearn: 0.0372845\ttotal: 45.4s\tremaining: 11.4s\n"
     ]
    },
    {
     "name": "stderr",
     "output_type": "stream",
     "text": [
      "18it [17:32, 57.62s/it]"
     ]
    },
    {
     "name": "stdout",
     "output_type": "stream",
     "text": [
      "4995:\tlearn: 0.0264088\ttotal: 56.7s\tremaining: 45.4ms\n",
      "4999:\tlearn: 0.0263796\ttotal: 56.7s\tremaining: 0us\n",
      "fold Loss 17:  0.3906380965859092\n",
      "---------------------------------------------------------------------------\n",
      "Learning rate set to 0.002361\n",
      "0:\tlearn: 0.6902255\ttotal: 17.3ms\tremaining: 1m 26s\n",
      "999:\tlearn: 0.1520333\ttotal: 11.7s\tremaining: 46.7s\n",
      "1998:\tlearn: 0.0899238\ttotal: 23.2s\tremaining: 34.9s\n",
      "2997:\tlearn: 0.0604538\ttotal: 34.5s\tremaining: 23.1s\n",
      "3996:\tlearn: 0.0419910\ttotal: 46.2s\tremaining: 11.6s\n"
     ]
    },
    {
     "name": "stderr",
     "output_type": "stream",
     "text": [
      "19it [18:30, 57.69s/it]"
     ]
    },
    {
     "name": "stdout",
     "output_type": "stream",
     "text": [
      "4995:\tlearn: 0.0302412\ttotal: 57.3s\tremaining: 45.9ms\n",
      "4999:\tlearn: 0.0302099\ttotal: 57.3s\tremaining: 0us\n",
      "fold Loss 18:  0.14755652536742012\n",
      "---------------------------------------------------------------------------\n",
      "Learning rate set to 0.002362\n",
      "0:\tlearn: 0.6903012\ttotal: 21.2ms\tremaining: 1m 45s\n",
      "999:\tlearn: 0.1535897\ttotal: 11.3s\tremaining: 45s\n",
      "1998:\tlearn: 0.0924488\ttotal: 22.8s\tremaining: 34.2s\n",
      "2997:\tlearn: 0.0621992\ttotal: 33.8s\tremaining: 22.6s\n",
      "3996:\tlearn: 0.0433626\ttotal: 45.3s\tremaining: 11.4s\n"
     ]
    },
    {
     "name": "stderr",
     "output_type": "stream",
     "text": [
      "20it [19:27, 58.37s/it]"
     ]
    },
    {
     "name": "stdout",
     "output_type": "stream",
     "text": [
      "4995:\tlearn: 0.0316413\ttotal: 56.4s\tremaining: 45.2ms\n",
      "4999:\tlearn: 0.0315980\ttotal: 56.5s\tremaining: 0us\n",
      "fold Loss 19:  0.0728559340533642\n",
      "---------------------------------------------------------------------------\n",
      "Training Loss: 0.03364671641873571\n",
      "Loss for chloride:\n",
      "0.1628124464989828 0.09594890024692249\n",
      "==================================================================================================\n",
      "TARGET  iron_oxide\n"
     ]
    },
    {
     "name": "stderr",
     "output_type": "stream",
     "text": [
      "\n"
     ]
    },
    {
     "name": "stdout",
     "output_type": "stream",
     "text": [
      "0.5056897688679854\n"
     ]
    },
    {
     "name": "stderr",
     "output_type": "stream",
     "text": [
      "100%|██████████| 101/101 [00:00<00:00, 442659.04it/s]"
     ]
    },
    {
     "name": "stdout",
     "output_type": "stream",
     "text": [
      "11\n"
     ]
    },
    {
     "name": "stderr",
     "output_type": "stream",
     "text": [
      "\n"
     ]
    },
    {
     "name": "stdout",
     "output_type": "stream",
     "text": [
      "0.405862318216225\n"
     ]
    },
    {
     "name": "stderr",
     "output_type": "stream",
     "text": [
      "100%|██████████| 300/300 [00:00<00:00, 369216.90it/s]"
     ]
    },
    {
     "name": "stdout",
     "output_type": "stream",
     "text": [
      "28\n"
     ]
    },
    {
     "name": "stderr",
     "output_type": "stream",
     "text": [
      "\n"
     ]
    },
    {
     "name": "stdout",
     "output_type": "stream",
     "text": [
      "0.4019022543448588\n"
     ]
    },
    {
     "name": "stderr",
     "output_type": "stream",
     "text": [
      "100%|██████████| 600/600 [00:00<00:00, 866591.74it/s]\n"
     ]
    },
    {
     "name": "stdout",
     "output_type": "stream",
     "text": [
      "52\n",
      "0.4055702105766835\n"
     ]
    },
    {
     "name": "stderr",
     "output_type": "stream",
     "text": [
      "100%|██████████| 400/400 [00:00<00:00, 818400.78it/s]\n"
     ]
    },
    {
     "name": "stdout",
     "output_type": "stream",
     "text": [
      "44\n",
      "(1059, 44) (1059, 11) (1059, 28) (1059, 52)\n",
      "(1059, 135)\n",
      "(804, 44) (804, 11) (804, 28) (804, 52)\n",
      "(804, 135)\n"
     ]
    },
    {
     "name": "stderr",
     "output_type": "stream",
     "text": [
      "0it [00:00, ?it/s]"
     ]
    },
    {
     "name": "stdout",
     "output_type": "stream",
     "text": [
      "Learning rate set to 0.002361\n",
      "0:\tlearn: 0.6913448\ttotal: 30.4ms\tremaining: 2m 31s\n",
      "999:\tlearn: 0.2156983\ttotal: 14.7s\tremaining: 58.9s\n",
      "1998:\tlearn: 0.1363042\ttotal: 29.4s\tremaining: 44.1s\n",
      "2997:\tlearn: 0.0919505\ttotal: 44.5s\tremaining: 29.7s\n",
      "3996:\tlearn: 0.0621160\ttotal: 59.4s\tremaining: 14.9s\n"
     ]
    },
    {
     "name": "stderr",
     "output_type": "stream",
     "text": [
      "1it [01:14, 74.96s/it]"
     ]
    },
    {
     "name": "stdout",
     "output_type": "stream",
     "text": [
      "4995:\tlearn: 0.0428994\ttotal: 1m 14s\tremaining: 59.5ms\n",
      "4999:\tlearn: 0.0428242\ttotal: 1m 14s\tremaining: 0us\n",
      "fold Loss 0:  0.3055039663354241\n",
      "---------------------------------------------------------------------------\n",
      "Learning rate set to 0.002361\n",
      "0:\tlearn: 0.6913423\ttotal: 23.1ms\tremaining: 1m 55s\n",
      "999:\tlearn: 0.2200007\ttotal: 15.1s\tremaining: 1m\n",
      "1998:\tlearn: 0.1404028\ttotal: 30.1s\tremaining: 45.2s\n",
      "2997:\tlearn: 0.0957021\ttotal: 44.9s\tremaining: 30s\n",
      "3996:\tlearn: 0.0664374\ttotal: 59.8s\tremaining: 15s\n"
     ]
    },
    {
     "name": "stderr",
     "output_type": "stream",
     "text": [
      "2it [02:31, 76.15s/it]"
     ]
    },
    {
     "name": "stdout",
     "output_type": "stream",
     "text": [
      "4995:\tlearn: 0.0471779\ttotal: 1m 16s\tremaining: 61.1ms\n",
      "4999:\tlearn: 0.0471239\ttotal: 1m 16s\tremaining: 0us\n",
      "fold Loss 1:  0.10761182949986914\n",
      "---------------------------------------------------------------------------\n",
      "Learning rate set to 0.002361\n",
      "0:\tlearn: 0.6912777\ttotal: 31.6ms\tremaining: 2m 37s\n",
      "999:\tlearn: 0.2147754\ttotal: 16.7s\tremaining: 1m 6s\n",
      "1998:\tlearn: 0.1362754\ttotal: 33.2s\tremaining: 49.9s\n",
      "2997:\tlearn: 0.0926548\ttotal: 49.4s\tremaining: 33s\n",
      "3996:\tlearn: 0.0628767\ttotal: 1m 6s\tremaining: 16.6s\n"
     ]
    },
    {
     "name": "stderr",
     "output_type": "stream",
     "text": [
      "3it [03:55, 79.63s/it]"
     ]
    },
    {
     "name": "stdout",
     "output_type": "stream",
     "text": [
      "4995:\tlearn: 0.0434145\ttotal: 1m 22s\tremaining: 66.4ms\n",
      "4999:\tlearn: 0.0433601\ttotal: 1m 23s\tremaining: 0us\n",
      "fold Loss 2:  0.22883809082636672\n",
      "---------------------------------------------------------------------------\n",
      "Learning rate set to 0.002361\n",
      "0:\tlearn: 0.6915820\ttotal: 33.1ms\tremaining: 2m 45s\n",
      "999:\tlearn: 0.2185720\ttotal: 17.1s\tremaining: 1m 8s\n",
      "1998:\tlearn: 0.1368928\ttotal: 33.7s\tremaining: 50.7s\n",
      "2997:\tlearn: 0.0915785\ttotal: 50.8s\tremaining: 33.9s\n",
      "3996:\tlearn: 0.0619550\ttotal: 1m 7s\tremaining: 16.9s\n"
     ]
    },
    {
     "name": "stderr",
     "output_type": "stream",
     "text": [
      "4it [05:20, 81.84s/it]"
     ]
    },
    {
     "name": "stdout",
     "output_type": "stream",
     "text": [
      "4995:\tlearn: 0.0418857\ttotal: 1m 24s\tremaining: 67.6ms\n",
      "4999:\tlearn: 0.0418359\ttotal: 1m 24s\tremaining: 0us\n",
      "fold Loss 3:  0.2425488583449994\n",
      "---------------------------------------------------------------------------\n",
      "Learning rate set to 0.002361\n",
      "0:\tlearn: 0.6912869\ttotal: 25.7ms\tremaining: 2m 8s\n",
      "999:\tlearn: 0.2181938\ttotal: 16.7s\tremaining: 1m 6s\n",
      "1998:\tlearn: 0.1389029\ttotal: 33.5s\tremaining: 50.4s\n",
      "2997:\tlearn: 0.0948542\ttotal: 48.7s\tremaining: 32.5s\n",
      "3996:\tlearn: 0.0648565\ttotal: 1m 3s\tremaining: 16s\n"
     ]
    },
    {
     "name": "stderr",
     "output_type": "stream",
     "text": [
      "5it [06:40, 81.06s/it]"
     ]
    },
    {
     "name": "stdout",
     "output_type": "stream",
     "text": [
      "4995:\tlearn: 0.0455598\ttotal: 1m 18s\tremaining: 63.2ms\n",
      "4999:\tlearn: 0.0455167\ttotal: 1m 19s\tremaining: 0us\n",
      "fold Loss 4:  0.13757761806298743\n",
      "---------------------------------------------------------------------------\n",
      "Learning rate set to 0.002361\n",
      "0:\tlearn: 0.6912550\ttotal: 27.9ms\tremaining: 2m 19s\n",
      "999:\tlearn: 0.2187506\ttotal: 15.3s\tremaining: 1m 1s\n",
      "1998:\tlearn: 0.1387781\ttotal: 30.6s\tremaining: 45.9s\n",
      "2997:\tlearn: 0.0942704\ttotal: 45.3s\tremaining: 30.3s\n",
      "3996:\tlearn: 0.0644303\ttotal: 1m\tremaining: 15.2s\n"
     ]
    },
    {
     "name": "stderr",
     "output_type": "stream",
     "text": [
      "6it [07:56, 79.34s/it]"
     ]
    },
    {
     "name": "stdout",
     "output_type": "stream",
     "text": [
      "4995:\tlearn: 0.0438768\ttotal: 1m 15s\tremaining: 60.3ms\n",
      "4999:\tlearn: 0.0438209\ttotal: 1m 15s\tremaining: 0us\n",
      "fold Loss 5:  0.1933713581802199\n",
      "---------------------------------------------------------------------------\n",
      "Learning rate set to 0.002361\n",
      "0:\tlearn: 0.6914419\ttotal: 27.8ms\tremaining: 2m 18s\n",
      "999:\tlearn: 0.2178839\ttotal: 14.8s\tremaining: 59.3s\n",
      "1998:\tlearn: 0.1389651\ttotal: 30s\tremaining: 45.1s\n",
      "2997:\tlearn: 0.0950926\ttotal: 45.1s\tremaining: 30.1s\n",
      "3996:\tlearn: 0.0649028\ttotal: 1m\tremaining: 15.1s\n"
     ]
    },
    {
     "name": "stderr",
     "output_type": "stream",
     "text": [
      "7it [09:12, 78.15s/it]"
     ]
    },
    {
     "name": "stdout",
     "output_type": "stream",
     "text": [
      "4995:\tlearn: 0.0451851\ttotal: 1m 15s\tremaining: 60.1ms\n",
      "4999:\tlearn: 0.0451248\ttotal: 1m 15s\tremaining: 0us\n",
      "fold Loss 6:  0.13259086550332452\n",
      "---------------------------------------------------------------------------\n",
      "Learning rate set to 0.002361\n",
      "0:\tlearn: 0.6913471\ttotal: 21.8ms\tremaining: 1m 49s\n",
      "999:\tlearn: 0.2159994\ttotal: 14.7s\tremaining: 58.7s\n",
      "1998:\tlearn: 0.1377211\ttotal: 29.3s\tremaining: 44s\n",
      "2997:\tlearn: 0.0950391\ttotal: 43.7s\tremaining: 29.2s\n",
      "3996:\tlearn: 0.0650090\ttotal: 58.5s\tremaining: 14.7s\n"
     ]
    },
    {
     "name": "stderr",
     "output_type": "stream",
     "text": [
      "8it [10:25, 76.67s/it]"
     ]
    },
    {
     "name": "stdout",
     "output_type": "stream",
     "text": [
      "4995:\tlearn: 0.0449761\ttotal: 1m 12s\tremaining: 58.3ms\n",
      "4999:\tlearn: 0.0449114\ttotal: 1m 12s\tremaining: 0us\n",
      "fold Loss 7:  0.17056246576059908\n",
      "---------------------------------------------------------------------------\n",
      "Learning rate set to 0.002361\n",
      "0:\tlearn: 0.6914337\ttotal: 34.7ms\tremaining: 2m 53s\n",
      "999:\tlearn: 0.2187687\ttotal: 14.8s\tremaining: 59.3s\n",
      "1998:\tlearn: 0.1384300\ttotal: 29.1s\tremaining: 43.6s\n",
      "2997:\tlearn: 0.0935455\ttotal: 44s\tremaining: 29.4s\n",
      "3996:\tlearn: 0.0641535\ttotal: 58.7s\tremaining: 14.7s\n"
     ]
    },
    {
     "name": "stderr",
     "output_type": "stream",
     "text": [
      "9it [11:40, 76.04s/it]"
     ]
    },
    {
     "name": "stdout",
     "output_type": "stream",
     "text": [
      "4995:\tlearn: 0.0448590\ttotal: 1m 13s\tremaining: 59.2ms\n",
      "4999:\tlearn: 0.0447846\ttotal: 1m 14s\tremaining: 0us\n",
      "fold Loss 8:  0.13527005990539825\n",
      "---------------------------------------------------------------------------\n",
      "Learning rate set to 0.002361\n",
      "0:\tlearn: 0.6913361\ttotal: 30.2ms\tremaining: 2m 30s\n",
      "999:\tlearn: 0.2173987\ttotal: 14.7s\tremaining: 59s\n",
      "1998:\tlearn: 0.1379258\ttotal: 29.4s\tremaining: 44.1s\n",
      "2997:\tlearn: 0.0935848\ttotal: 44.1s\tremaining: 29.5s\n",
      "3996:\tlearn: 0.0633543\ttotal: 58.2s\tremaining: 14.6s\n"
     ]
    },
    {
     "name": "stderr",
     "output_type": "stream",
     "text": [
      "10it [12:53, 75.20s/it]"
     ]
    },
    {
     "name": "stdout",
     "output_type": "stream",
     "text": [
      "4995:\tlearn: 0.0435491\ttotal: 1m 12s\tremaining: 58.2ms\n",
      "4999:\tlearn: 0.0434889\ttotal: 1m 12s\tremaining: 0us\n",
      "fold Loss 9:  0.15025484723860127\n",
      "---------------------------------------------------------------------------\n",
      "Learning rate set to 0.002361\n",
      "0:\tlearn: 0.6913098\ttotal: 21.2ms\tremaining: 1m 45s\n",
      "999:\tlearn: 0.2161561\ttotal: 13.9s\tremaining: 55.7s\n",
      "1998:\tlearn: 0.1349183\ttotal: 28s\tremaining: 42.1s\n",
      "2997:\tlearn: 0.0900255\ttotal: 42.3s\tremaining: 28.2s\n",
      "3996:\tlearn: 0.0607096\ttotal: 56.1s\tremaining: 14.1s\n"
     ]
    },
    {
     "name": "stderr",
     "output_type": "stream",
     "text": [
      "11it [14:04, 73.89s/it]"
     ]
    },
    {
     "name": "stdout",
     "output_type": "stream",
     "text": [
      "4995:\tlearn: 0.0426784\ttotal: 1m 10s\tremaining: 56.3ms\n",
      "4999:\tlearn: 0.0426154\ttotal: 1m 10s\tremaining: 0us\n",
      "fold Loss 10:  0.24570191953983653\n",
      "---------------------------------------------------------------------------\n",
      "Learning rate set to 0.002361\n",
      "0:\tlearn: 0.6914241\ttotal: 21.5ms\tremaining: 1m 47s\n",
      "999:\tlearn: 0.2155878\ttotal: 13.7s\tremaining: 54.9s\n",
      "1998:\tlearn: 0.1343573\ttotal: 27.8s\tremaining: 41.7s\n",
      "2997:\tlearn: 0.0902176\ttotal: 41.6s\tremaining: 27.8s\n",
      "3996:\tlearn: 0.0603037\ttotal: 55.6s\tremaining: 13.9s\n"
     ]
    },
    {
     "name": "stderr",
     "output_type": "stream",
     "text": [
      "12it [15:14, 72.79s/it]"
     ]
    },
    {
     "name": "stdout",
     "output_type": "stream",
     "text": [
      "4995:\tlearn: 0.0411763\ttotal: 1m 9s\tremaining: 55.8ms\n",
      "4999:\tlearn: 0.0411136\ttotal: 1m 9s\tremaining: 0us\n",
      "fold Loss 11:  0.2619888269542533\n",
      "---------------------------------------------------------------------------\n",
      "Learning rate set to 0.002361\n",
      "0:\tlearn: 0.6911563\ttotal: 27.1ms\tremaining: 2m 15s\n",
      "999:\tlearn: 0.2167483\ttotal: 13.7s\tremaining: 55s\n",
      "1998:\tlearn: 0.1367541\ttotal: 27.8s\tremaining: 41.7s\n",
      "2997:\tlearn: 0.0934856\ttotal: 41.8s\tremaining: 27.9s\n",
      "3996:\tlearn: 0.0634843\ttotal: 55.7s\tremaining: 14s\n"
     ]
    },
    {
     "name": "stderr",
     "output_type": "stream",
     "text": [
      "13it [16:25, 72.04s/it]"
     ]
    },
    {
     "name": "stdout",
     "output_type": "stream",
     "text": [
      "4995:\tlearn: 0.0440561\ttotal: 1m 9s\tremaining: 55.8ms\n",
      "4999:\tlearn: 0.0439944\ttotal: 1m 9s\tremaining: 0us\n",
      "fold Loss 12:  0.21632734362384895\n",
      "---------------------------------------------------------------------------\n",
      "Learning rate set to 0.002361\n",
      "0:\tlearn: 0.6913319\ttotal: 21.7ms\tremaining: 1m 48s\n",
      "999:\tlearn: 0.2218275\ttotal: 13.9s\tremaining: 55.7s\n",
      "1998:\tlearn: 0.1408014\ttotal: 28s\tremaining: 42s\n",
      "2997:\tlearn: 0.0949295\ttotal: 41.6s\tremaining: 27.8s\n",
      "3996:\tlearn: 0.0645041\ttotal: 56.9s\tremaining: 14.3s\n"
     ]
    },
    {
     "name": "stderr",
     "output_type": "stream",
     "text": [
      "14it [17:39, 72.57s/it]"
     ]
    },
    {
     "name": "stdout",
     "output_type": "stream",
     "text": [
      "4995:\tlearn: 0.0442644\ttotal: 1m 13s\tremaining: 58.6ms\n",
      "4999:\tlearn: 0.0441898\ttotal: 1m 13s\tremaining: 0us\n",
      "fold Loss 13:  0.10788049109346164\n",
      "---------------------------------------------------------------------------\n",
      "Learning rate set to 0.002361\n",
      "0:\tlearn: 0.6914836\ttotal: 25.2ms\tremaining: 2m 6s\n",
      "999:\tlearn: 0.2137798\ttotal: 16.1s\tremaining: 1m 4s\n",
      "1998:\tlearn: 0.1343015\ttotal: 32.5s\tremaining: 48.8s\n",
      "2997:\tlearn: 0.0904849\ttotal: 48.6s\tremaining: 32.5s\n",
      "3996:\tlearn: 0.0617833\ttotal: 1m 5s\tremaining: 16.4s\n"
     ]
    },
    {
     "name": "stderr",
     "output_type": "stream",
     "text": [
      "15it [19:00, 75.24s/it]"
     ]
    },
    {
     "name": "stdout",
     "output_type": "stream",
     "text": [
      "4995:\tlearn: 0.0427488\ttotal: 1m 20s\tremaining: 64.6ms\n",
      "4999:\tlearn: 0.0426876\ttotal: 1m 20s\tremaining: 0us\n",
      "fold Loss 14:  0.28894271229179486\n",
      "---------------------------------------------------------------------------\n",
      "Learning rate set to 0.002361\n",
      "0:\tlearn: 0.6914165\ttotal: 30.1ms\tremaining: 2m 30s\n",
      "999:\tlearn: 0.2187777\ttotal: 16.3s\tremaining: 1m 5s\n",
      "1998:\tlearn: 0.1388536\ttotal: 32.2s\tremaining: 48.3s\n",
      "2997:\tlearn: 0.0949646\ttotal: 49.3s\tremaining: 32.9s\n",
      "3996:\tlearn: 0.0639773\ttotal: 1m 5s\tremaining: 16.5s\n"
     ]
    },
    {
     "name": "stderr",
     "output_type": "stream",
     "text": [
      "16it [20:23, 77.71s/it]"
     ]
    },
    {
     "name": "stdout",
     "output_type": "stream",
     "text": [
      "4995:\tlearn: 0.0433699\ttotal: 1m 22s\tremaining: 66.2ms\n",
      "4999:\tlearn: 0.0433142\ttotal: 1m 22s\tremaining: 0us\n",
      "fold Loss 15:  0.18239456486354366\n",
      "---------------------------------------------------------------------------\n",
      "Learning rate set to 0.002361\n",
      "0:\tlearn: 0.6915867\ttotal: 25ms\tremaining: 2m 5s\n",
      "999:\tlearn: 0.2171646\ttotal: 15.3s\tremaining: 1m 1s\n",
      "1998:\tlearn: 0.1369663\ttotal: 30.7s\tremaining: 46s\n",
      "2997:\tlearn: 0.0924296\ttotal: 45.8s\tremaining: 30.6s\n",
      "3996:\tlearn: 0.0625603\ttotal: 1m 1s\tremaining: 15.5s\n"
     ]
    },
    {
     "name": "stderr",
     "output_type": "stream",
     "text": [
      "17it [21:41, 77.72s/it]"
     ]
    },
    {
     "name": "stdout",
     "output_type": "stream",
     "text": [
      "4995:\tlearn: 0.0413749\ttotal: 1m 17s\tremaining: 61.7ms\n",
      "4999:\tlearn: 0.0413038\ttotal: 1m 17s\tremaining: 0us\n",
      "fold Loss 16:  0.2151225464136918\n",
      "---------------------------------------------------------------------------\n",
      "Learning rate set to 0.002361\n",
      "0:\tlearn: 0.6915639\ttotal: 30.5ms\tremaining: 2m 32s\n",
      "999:\tlearn: 0.2167796\ttotal: 15.4s\tremaining: 1m 1s\n",
      "1998:\tlearn: 0.1364038\ttotal: 31s\tremaining: 46.5s\n",
      "2997:\tlearn: 0.0921586\ttotal: 46.4s\tremaining: 31s\n",
      "3996:\tlearn: 0.0624747\ttotal: 1m 2s\tremaining: 15.6s\n"
     ]
    },
    {
     "name": "stderr",
     "output_type": "stream",
     "text": [
      "18it [22:59, 77.87s/it]"
     ]
    },
    {
     "name": "stdout",
     "output_type": "stream",
     "text": [
      "4995:\tlearn: 0.0436690\ttotal: 1m 17s\tremaining: 62.1ms\n",
      "4999:\tlearn: 0.0436249\ttotal: 1m 17s\tremaining: 0us\n",
      "fold Loss 17:  0.19866977260038082\n",
      "---------------------------------------------------------------------------\n",
      "Learning rate set to 0.002361\n",
      "0:\tlearn: 0.6913034\ttotal: 23.7ms\tremaining: 1m 58s\n",
      "999:\tlearn: 0.2138831\ttotal: 15.9s\tremaining: 1m 3s\n",
      "1998:\tlearn: 0.1352307\ttotal: 31.1s\tremaining: 46.7s\n",
      "2997:\tlearn: 0.0913859\ttotal: 46s\tremaining: 30.7s\n",
      "3996:\tlearn: 0.0624242\ttotal: 1m\tremaining: 15.2s\n"
     ]
    },
    {
     "name": "stderr",
     "output_type": "stream",
     "text": [
      "19it [24:15, 77.15s/it]"
     ]
    },
    {
     "name": "stdout",
     "output_type": "stream",
     "text": [
      "4995:\tlearn: 0.0440656\ttotal: 1m 14s\tremaining: 59.9ms\n",
      "4999:\tlearn: 0.0440190\ttotal: 1m 14s\tremaining: 0us\n",
      "fold Loss 18:  0.2318682652933673\n",
      "---------------------------------------------------------------------------\n",
      "Learning rate set to 0.002362\n",
      "0:\tlearn: 0.6913582\ttotal: 21.1ms\tremaining: 1m 45s\n",
      "999:\tlearn: 0.2180773\ttotal: 14.5s\tremaining: 58.1s\n",
      "1998:\tlearn: 0.1369303\ttotal: 29.2s\tremaining: 43.8s\n",
      "2997:\tlearn: 0.0916799\ttotal: 44.4s\tremaining: 29.6s\n",
      "3996:\tlearn: 0.0611168\ttotal: 59.2s\tremaining: 14.9s\n"
     ]
    },
    {
     "name": "stderr",
     "output_type": "stream",
     "text": [
      "20it [25:30, 76.52s/it]"
     ]
    },
    {
     "name": "stdout",
     "output_type": "stream",
     "text": [
      "4995:\tlearn: 0.0410385\ttotal: 1m 14s\tremaining: 59.5ms\n",
      "4999:\tlearn: 0.0409699\ttotal: 1m 14s\tremaining: 0us\n",
      "fold Loss 19:  0.1834763937416123\n",
      "---------------------------------------------------------------------------\n",
      "Training Loss: 0.04799618819145387\n",
      "Loss for iron_oxide:\n",
      "0.19682513980367905 0.05592244867791547\n",
      "==================================================================================================\n",
      "TARGET  oxalate\n"
     ]
    },
    {
     "name": "stderr",
     "output_type": "stream",
     "text": [
      "\n"
     ]
    },
    {
     "name": "stdout",
     "output_type": "stream",
     "text": [
      "0.04854793031494635\n"
     ]
    },
    {
     "name": "stderr",
     "output_type": "stream",
     "text": [
      "100%|██████████| 101/101 [00:00<00:00, 456000.76it/s]"
     ]
    },
    {
     "name": "stdout",
     "output_type": "stream",
     "text": [
      "6\n"
     ]
    },
    {
     "name": "stderr",
     "output_type": "stream",
     "text": [
      "\n"
     ]
    },
    {
     "name": "stdout",
     "output_type": "stream",
     "text": [
      "0.024287769656470552\n"
     ]
    },
    {
     "name": "stderr",
     "output_type": "stream",
     "text": [
      "100%|██████████| 300/300 [00:00<00:00, 434793.09it/s]"
     ]
    },
    {
     "name": "stdout",
     "output_type": "stream",
     "text": [
      "11\n"
     ]
    },
    {
     "name": "stderr",
     "output_type": "stream",
     "text": [
      "\n"
     ]
    },
    {
     "name": "stdout",
     "output_type": "stream",
     "text": [
      "0.01860502847277756\n"
     ]
    },
    {
     "name": "stderr",
     "output_type": "stream",
     "text": [
      "100%|██████████| 600/600 [00:00<00:00, 345826.91it/s]"
     ]
    },
    {
     "name": "stdout",
     "output_type": "stream",
     "text": [
      "10\n"
     ]
    },
    {
     "name": "stderr",
     "output_type": "stream",
     "text": [
      "\n"
     ]
    },
    {
     "name": "stdout",
     "output_type": "stream",
     "text": [
      "0.020772995789459937\n"
     ]
    },
    {
     "name": "stderr",
     "output_type": "stream",
     "text": [
      "100%|██████████| 400/400 [00:00<00:00, 326786.44it/s]\n"
     ]
    },
    {
     "name": "stdout",
     "output_type": "stream",
     "text": [
      "11\n",
      "(1059, 11) (1059, 6) (1059, 11) (1059, 10)\n",
      "(1059, 38)\n",
      "(804, 11) (804, 6) (804, 11) (804, 10)\n",
      "(804, 38)\n"
     ]
    },
    {
     "name": "stderr",
     "output_type": "stream",
     "text": [
      "0it [00:00, ?it/s]"
     ]
    },
    {
     "name": "stdout",
     "output_type": "stream",
     "text": [
      "Learning rate set to 0.002361\n",
      "0:\tlearn: 0.6875283\ttotal: 16.2ms\tremaining: 1m 21s\n",
      "999:\tlearn: 0.0066545\ttotal: 4.39s\tremaining: 17.6s\n",
      "1998:\tlearn: 0.0020200\ttotal: 8.68s\tremaining: 13s\n",
      "2997:\tlearn: 0.0011558\ttotal: 12.9s\tremaining: 8.63s\n",
      "3996:\tlearn: 0.0008333\ttotal: 17.2s\tremaining: 4.31s\n"
     ]
    },
    {
     "name": "stderr",
     "output_type": "stream",
     "text": [
      "1it [00:22, 22.14s/it]"
     ]
    },
    {
     "name": "stdout",
     "output_type": "stream",
     "text": [
      "4995:\tlearn: 0.0006338\ttotal: 21.7s\tremaining: 17.4ms\n",
      "4999:\tlearn: 0.0006332\ttotal: 21.7s\tremaining: 0us\n",
      "fold Loss 0:  0.000380378433597548\n",
      "---------------------------------------------------------------------------\n",
      "Learning rate set to 0.002361\n",
      "0:\tlearn: 0.6872846\ttotal: 5.31ms\tremaining: 26.6s\n",
      "999:\tlearn: 0.0065500\ttotal: 4.33s\tremaining: 17.3s\n",
      "1998:\tlearn: 0.0020003\ttotal: 8.7s\tremaining: 13.1s\n",
      "2997:\tlearn: 0.0011103\ttotal: 13s\tremaining: 8.7s\n",
      "3996:\tlearn: 0.0007814\ttotal: 17.3s\tremaining: 4.35s\n"
     ]
    },
    {
     "name": "stderr",
     "output_type": "stream",
     "text": [
      "2it [00:44, 22.12s/it]"
     ]
    },
    {
     "name": "stdout",
     "output_type": "stream",
     "text": [
      "4995:\tlearn: 0.0006180\ttotal: 21.7s\tremaining: 17.4ms\n",
      "4999:\tlearn: 0.0006174\ttotal: 21.7s\tremaining: 0us\n",
      "fold Loss 1:  0.003995973851319536\n",
      "---------------------------------------------------------------------------\n",
      "Learning rate set to 0.002361\n",
      "0:\tlearn: 0.6871358\ttotal: 4.73ms\tremaining: 23.7s\n",
      "999:\tlearn: 0.0065449\ttotal: 4.35s\tremaining: 17.4s\n",
      "1998:\tlearn: 0.0019782\ttotal: 8.63s\tremaining: 13s\n",
      "2997:\tlearn: 0.0011179\ttotal: 13.2s\tremaining: 8.82s\n",
      "3996:\tlearn: 0.0007759\ttotal: 17.7s\tremaining: 4.44s\n"
     ]
    },
    {
     "name": "stderr",
     "output_type": "stream",
     "text": [
      "3it [01:06, 22.32s/it]"
     ]
    },
    {
     "name": "stdout",
     "output_type": "stream",
     "text": [
      "4995:\tlearn: 0.0005922\ttotal: 22.1s\tremaining: 17.7ms\n",
      "4999:\tlearn: 0.0005916\ttotal: 22.2s\tremaining: 0us\n",
      "fold Loss 2:  0.0031614908989331084\n",
      "---------------------------------------------------------------------------\n",
      "Learning rate set to 0.002361\n",
      "0:\tlearn: 0.6872937\ttotal: 4.66ms\tremaining: 23.3s\n",
      "999:\tlearn: 0.0068147\ttotal: 4.31s\tremaining: 17.2s\n",
      "1998:\tlearn: 0.0020582\ttotal: 8.57s\tremaining: 12.9s\n",
      "2997:\tlearn: 0.0011443\ttotal: 12.9s\tremaining: 8.6s\n",
      "3996:\tlearn: 0.0007860\ttotal: 17.2s\tremaining: 4.31s\n"
     ]
    },
    {
     "name": "stderr",
     "output_type": "stream",
     "text": [
      "4it [01:28, 22.21s/it]"
     ]
    },
    {
     "name": "stdout",
     "output_type": "stream",
     "text": [
      "4995:\tlearn: 0.0005911\ttotal: 21.6s\tremaining: 17.3ms\n",
      "4999:\tlearn: 0.0005905\ttotal: 21.7s\tremaining: 0us\n",
      "fold Loss 3:  0.0002046737433690712\n",
      "---------------------------------------------------------------------------\n",
      "Learning rate set to 0.002361\n",
      "0:\tlearn: 0.6872818\ttotal: 10ms\tremaining: 50.2s\n",
      "999:\tlearn: 0.0066823\ttotal: 4.52s\tremaining: 18.1s\n",
      "1998:\tlearn: 0.0020535\ttotal: 8.77s\tremaining: 13.2s\n",
      "2997:\tlearn: 0.0011472\ttotal: 13.1s\tremaining: 8.72s\n",
      "3996:\tlearn: 0.0007949\ttotal: 17.4s\tremaining: 4.38s\n"
     ]
    },
    {
     "name": "stderr",
     "output_type": "stream",
     "text": [
      "5it [01:50, 22.19s/it]"
     ]
    },
    {
     "name": "stdout",
     "output_type": "stream",
     "text": [
      "4995:\tlearn: 0.0006222\ttotal: 21.7s\tremaining: 17.4ms\n",
      "4999:\tlearn: 0.0006216\ttotal: 21.8s\tremaining: 0us\n",
      "fold Loss 4:  0.0014180846030792218\n",
      "---------------------------------------------------------------------------\n",
      "Learning rate set to 0.002361\n",
      "0:\tlearn: 0.6871098\ttotal: 5.04ms\tremaining: 25.2s\n",
      "999:\tlearn: 0.0064635\ttotal: 4.3s\tremaining: 17.2s\n",
      "1998:\tlearn: 0.0020015\ttotal: 8.57s\tremaining: 12.9s\n",
      "2997:\tlearn: 0.0011244\ttotal: 13.3s\tremaining: 8.87s\n",
      "3996:\tlearn: 0.0007743\ttotal: 17.6s\tremaining: 4.41s\n"
     ]
    },
    {
     "name": "stderr",
     "output_type": "stream",
     "text": [
      "6it [02:13, 22.20s/it]"
     ]
    },
    {
     "name": "stdout",
     "output_type": "stream",
     "text": [
      "4995:\tlearn: 0.0006022\ttotal: 21.8s\tremaining: 17.5ms\n",
      "4999:\tlearn: 0.0006018\ttotal: 21.8s\tremaining: 0us\n",
      "fold Loss 5:  0.00353387030482667\n",
      "---------------------------------------------------------------------------\n",
      "Learning rate set to 0.002361\n",
      "0:\tlearn: 0.6871217\ttotal: 4.68ms\tremaining: 23.4s\n",
      "999:\tlearn: 0.0063888\ttotal: 4.31s\tremaining: 17.3s\n",
      "1998:\tlearn: 0.0019322\ttotal: 8.64s\tremaining: 13s\n",
      "2997:\tlearn: 0.0011154\ttotal: 13s\tremaining: 8.68s\n",
      "3996:\tlearn: 0.0007984\ttotal: 17.3s\tremaining: 4.33s\n"
     ]
    },
    {
     "name": "stderr",
     "output_type": "stream",
     "text": [
      "7it [02:35, 22.15s/it]"
     ]
    },
    {
     "name": "stdout",
     "output_type": "stream",
     "text": [
      "4995:\tlearn: 0.0006203\ttotal: 21.6s\tremaining: 17.3ms\n",
      "4999:\tlearn: 0.0006196\ttotal: 21.7s\tremaining: 0us\n",
      "fold Loss 6:  0.00654252930729846\n",
      "---------------------------------------------------------------------------\n",
      "Learning rate set to 0.002361\n",
      "0:\tlearn: 0.6872871\ttotal: 6.61ms\tremaining: 33.1s\n",
      "999:\tlearn: 0.0067869\ttotal: 4.38s\tremaining: 17.5s\n",
      "1998:\tlearn: 0.0020555\ttotal: 8.92s\tremaining: 13.4s\n",
      "2997:\tlearn: 0.0011450\ttotal: 13.3s\tremaining: 8.85s\n",
      "3996:\tlearn: 0.0008214\ttotal: 17.6s\tremaining: 4.41s\n"
     ]
    },
    {
     "name": "stderr",
     "output_type": "stream",
     "text": [
      "8it [02:57, 22.19s/it]"
     ]
    },
    {
     "name": "stdout",
     "output_type": "stream",
     "text": [
      "4995:\tlearn: 0.0006467\ttotal: 21.8s\tremaining: 17.5ms\n",
      "4999:\tlearn: 0.0006462\ttotal: 21.9s\tremaining: 0us\n",
      "fold Loss 7:  0.00033344737205940163\n",
      "---------------------------------------------------------------------------\n",
      "Learning rate set to 0.002361\n",
      "0:\tlearn: 0.6872246\ttotal: 5.03ms\tremaining: 25.1s\n",
      "999:\tlearn: 0.0065421\ttotal: 4.28s\tremaining: 17.1s\n",
      "1998:\tlearn: 0.0020261\ttotal: 8.66s\tremaining: 13s\n",
      "2997:\tlearn: 0.0011248\ttotal: 12.9s\tremaining: 8.63s\n",
      "3996:\tlearn: 0.0007767\ttotal: 17.2s\tremaining: 4.3s\n"
     ]
    },
    {
     "name": "stderr",
     "output_type": "stream",
     "text": [
      "9it [03:19, 22.16s/it]"
     ]
    },
    {
     "name": "stdout",
     "output_type": "stream",
     "text": [
      "4995:\tlearn: 0.0005991\ttotal: 21.7s\tremaining: 17.4ms\n",
      "4999:\tlearn: 0.0005985\ttotal: 21.7s\tremaining: 0us\n",
      "fold Loss 8:  0.009600752664899966\n",
      "---------------------------------------------------------------------------\n",
      "Learning rate set to 0.002361\n",
      "0:\tlearn: 0.6875155\ttotal: 5ms\tremaining: 25s\n",
      "999:\tlearn: 0.0062235\ttotal: 4.28s\tremaining: 17.1s\n",
      "1998:\tlearn: 0.0018822\ttotal: 8.49s\tremaining: 12.8s\n",
      "2997:\tlearn: 0.0010511\ttotal: 12.8s\tremaining: 8.53s\n",
      "3996:\tlearn: 0.0007349\ttotal: 17.1s\tremaining: 4.28s\n"
     ]
    },
    {
     "name": "stderr",
     "output_type": "stream",
     "text": [
      "10it [03:41, 22.00s/it]"
     ]
    },
    {
     "name": "stdout",
     "output_type": "stream",
     "text": [
      "4995:\tlearn: 0.0005722\ttotal: 21.3s\tremaining: 17ms\n",
      "4999:\tlearn: 0.0005717\ttotal: 21.3s\tremaining: 0us\n",
      "fold Loss 9:  0.04008615633611722\n",
      "---------------------------------------------------------------------------\n",
      "Learning rate set to 0.002361\n",
      "0:\tlearn: 0.6869377\ttotal: 5.18ms\tremaining: 25.9s\n",
      "999:\tlearn: 0.0062248\ttotal: 4.3s\tremaining: 17.2s\n",
      "1998:\tlearn: 0.0019330\ttotal: 8.46s\tremaining: 12.7s\n",
      "2997:\tlearn: 0.0010760\ttotal: 12.9s\tremaining: 8.64s\n",
      "3996:\tlearn: 0.0006953\ttotal: 17.2s\tremaining: 4.3s\n"
     ]
    },
    {
     "name": "stderr",
     "output_type": "stream",
     "text": [
      "11it [04:03, 21.94s/it]"
     ]
    },
    {
     "name": "stdout",
     "output_type": "stream",
     "text": [
      "4995:\tlearn: 0.0005029\ttotal: 21.4s\tremaining: 17.1ms\n",
      "4999:\tlearn: 0.0005024\ttotal: 21.4s\tremaining: 0us\n",
      "fold Loss 10:  0.06398238772550462\n",
      "---------------------------------------------------------------------------\n",
      "Learning rate set to 0.002361\n",
      "0:\tlearn: 0.6871353\ttotal: 5.36ms\tremaining: 26.8s\n",
      "999:\tlearn: 0.0065737\ttotal: 4.35s\tremaining: 17.4s\n",
      "1998:\tlearn: 0.0020292\ttotal: 8.62s\tremaining: 12.9s\n",
      "2997:\tlearn: 0.0011528\ttotal: 12.9s\tremaining: 8.59s\n",
      "3996:\tlearn: 0.0008044\ttotal: 17.1s\tremaining: 4.29s\n"
     ]
    },
    {
     "name": "stderr",
     "output_type": "stream",
     "text": [
      "12it [04:25, 21.95s/it]"
     ]
    },
    {
     "name": "stdout",
     "output_type": "stream",
     "text": [
      "4995:\tlearn: 0.0006071\ttotal: 21.6s\tremaining: 17.3ms\n",
      "4999:\tlearn: 0.0006065\ttotal: 21.6s\tremaining: 0us\n",
      "fold Loss 11:  0.0014149569749323829\n",
      "---------------------------------------------------------------------------\n",
      "Learning rate set to 0.002361\n",
      "0:\tlearn: 0.6872898\ttotal: 4.72ms\tremaining: 23.6s\n",
      "999:\tlearn: 0.0064701\ttotal: 4.24s\tremaining: 17s\n",
      "1998:\tlearn: 0.0019561\ttotal: 8.43s\tremaining: 12.7s\n",
      "2997:\tlearn: 0.0010800\ttotal: 12.6s\tremaining: 8.43s\n",
      "3996:\tlearn: 0.0007159\ttotal: 16.8s\tremaining: 4.21s\n"
     ]
    },
    {
     "name": "stderr",
     "output_type": "stream",
     "text": [
      "13it [04:46, 21.80s/it]"
     ]
    },
    {
     "name": "stdout",
     "output_type": "stream",
     "text": [
      "4995:\tlearn: 0.0005442\ttotal: 21.1s\tremaining: 16.9ms\n",
      "4999:\tlearn: 0.0005436\ttotal: 21.1s\tremaining: 0us\n",
      "fold Loss 12:  0.006461825708999773\n",
      "---------------------------------------------------------------------------\n",
      "Learning rate set to 0.002361\n",
      "0:\tlearn: 0.6871336\ttotal: 4.86ms\tremaining: 24.3s\n",
      "999:\tlearn: 0.0066320\ttotal: 4.27s\tremaining: 17.1s\n",
      "1998:\tlearn: 0.0020267\ttotal: 8.45s\tremaining: 12.7s\n",
      "2997:\tlearn: 0.0011477\ttotal: 12.9s\tremaining: 8.62s\n",
      "3996:\tlearn: 0.0007955\ttotal: 17.2s\tremaining: 4.31s\n"
     ]
    },
    {
     "name": "stderr",
     "output_type": "stream",
     "text": [
      "14it [05:08, 21.81s/it]"
     ]
    },
    {
     "name": "stdout",
     "output_type": "stream",
     "text": [
      "4995:\tlearn: 0.0006246\ttotal: 21.4s\tremaining: 17.2ms\n",
      "4999:\tlearn: 0.0006241\ttotal: 21.5s\tremaining: 0us\n",
      "fold Loss 13:  0.0009967669349292782\n",
      "---------------------------------------------------------------------------\n",
      "Learning rate set to 0.002361\n",
      "0:\tlearn: 0.6873056\ttotal: 5.01ms\tremaining: 25.1s\n",
      "999:\tlearn: 0.0066207\ttotal: 4.24s\tremaining: 17s\n",
      "1998:\tlearn: 0.0020110\ttotal: 8.52s\tremaining: 12.8s\n",
      "2997:\tlearn: 0.0011443\ttotal: 12.9s\tremaining: 8.62s\n",
      "3996:\tlearn: 0.0008313\ttotal: 17.1s\tremaining: 4.3s\n"
     ]
    },
    {
     "name": "stderr",
     "output_type": "stream",
     "text": [
      "15it [05:30, 21.85s/it]"
     ]
    },
    {
     "name": "stdout",
     "output_type": "stream",
     "text": [
      "4995:\tlearn: 0.0006487\ttotal: 21.5s\tremaining: 17.2ms\n",
      "4999:\tlearn: 0.0006479\ttotal: 21.5s\tremaining: 0us\n",
      "fold Loss 14:  0.0006013029716517594\n",
      "---------------------------------------------------------------------------\n",
      "Learning rate set to 0.002361\n",
      "0:\tlearn: 0.6871429\ttotal: 6.03ms\tremaining: 30.1s\n",
      "999:\tlearn: 0.0066569\ttotal: 4.26s\tremaining: 17s\n",
      "1998:\tlearn: 0.0020003\ttotal: 8.44s\tremaining: 12.7s\n",
      "2997:\tlearn: 0.0011121\ttotal: 12.7s\tremaining: 8.47s\n",
      "3996:\tlearn: 0.0007314\ttotal: 17s\tremaining: 4.28s\n"
     ]
    },
    {
     "name": "stderr",
     "output_type": "stream",
     "text": [
      "16it [05:51, 21.78s/it]"
     ]
    },
    {
     "name": "stdout",
     "output_type": "stream",
     "text": [
      "4995:\tlearn: 0.0005533\ttotal: 21.2s\tremaining: 17ms\n",
      "4999:\tlearn: 0.0005527\ttotal: 21.2s\tremaining: 0us\n",
      "fold Loss 15:  0.004572973478297422\n",
      "---------------------------------------------------------------------------\n",
      "Learning rate set to 0.002361\n",
      "0:\tlearn: 0.6871326\ttotal: 4.78ms\tremaining: 23.9s\n",
      "999:\tlearn: 0.0063861\ttotal: 4.28s\tremaining: 17.1s\n",
      "1998:\tlearn: 0.0019455\ttotal: 8.51s\tremaining: 12.8s\n",
      "2997:\tlearn: 0.0011103\ttotal: 13s\tremaining: 8.7s\n",
      "3996:\tlearn: 0.0007655\ttotal: 17.2s\tremaining: 4.33s\n"
     ]
    },
    {
     "name": "stderr",
     "output_type": "stream",
     "text": [
      "17it [06:13, 21.79s/it]"
     ]
    },
    {
     "name": "stdout",
     "output_type": "stream",
     "text": [
      "4995:\tlearn: 0.0005730\ttotal: 21.4s\tremaining: 17.1ms\n",
      "4999:\tlearn: 0.0005724\ttotal: 21.4s\tremaining: 0us\n",
      "fold Loss 16:  0.0805590505003138\n",
      "---------------------------------------------------------------------------\n",
      "Learning rate set to 0.002361\n",
      "0:\tlearn: 0.6871583\ttotal: 4.91ms\tremaining: 24.5s\n",
      "999:\tlearn: 0.0067343\ttotal: 4.3s\tremaining: 17.2s\n",
      "1998:\tlearn: 0.0020366\ttotal: 8.47s\tremaining: 12.7s\n",
      "2997:\tlearn: 0.0011373\ttotal: 12.7s\tremaining: 8.49s\n",
      "3996:\tlearn: 0.0007777\ttotal: 16.9s\tremaining: 4.25s\n"
     ]
    },
    {
     "name": "stderr",
     "output_type": "stream",
     "text": [
      "18it [06:35, 21.79s/it]"
     ]
    },
    {
     "name": "stdout",
     "output_type": "stream",
     "text": [
      "4995:\tlearn: 0.0005724\ttotal: 21.4s\tremaining: 17.1ms\n",
      "4999:\tlearn: 0.0005717\ttotal: 21.4s\tremaining: 0us\n",
      "fold Loss 17:  0.0004558576626545292\n",
      "---------------------------------------------------------------------------\n",
      "Learning rate set to 0.002361\n",
      "0:\tlearn: 0.6871251\ttotal: 5.07ms\tremaining: 25.3s\n",
      "999:\tlearn: 0.0066870\ttotal: 4.29s\tremaining: 17.2s\n",
      "1998:\tlearn: 0.0020203\ttotal: 8.56s\tremaining: 12.9s\n",
      "2997:\tlearn: 0.0011422\ttotal: 12.9s\tremaining: 8.62s\n",
      "3996:\tlearn: 0.0008035\ttotal: 17.1s\tremaining: 4.29s\n"
     ]
    },
    {
     "name": "stderr",
     "output_type": "stream",
     "text": [
      "19it [06:57, 21.76s/it]"
     ]
    },
    {
     "name": "stdout",
     "output_type": "stream",
     "text": [
      "4995:\tlearn: 0.0006278\ttotal: 21.3s\tremaining: 17ms\n",
      "4999:\tlearn: 0.0006273\ttotal: 21.3s\tremaining: 0us\n",
      "fold Loss 18:  0.004724294840197749\n",
      "---------------------------------------------------------------------------\n",
      "Learning rate set to 0.002362\n",
      "0:\tlearn: 0.6872975\ttotal: 4.68ms\tremaining: 23.4s\n",
      "999:\tlearn: 0.0064361\ttotal: 4.24s\tremaining: 16.9s\n",
      "1998:\tlearn: 0.0019747\ttotal: 8.52s\tremaining: 12.8s\n",
      "2997:\tlearn: 0.0011026\ttotal: 13s\tremaining: 8.66s\n",
      "3996:\tlearn: 0.0007450\ttotal: 17.3s\tremaining: 4.33s\n"
     ]
    },
    {
     "name": "stderr",
     "output_type": "stream",
     "text": [
      "20it [07:19, 21.95s/it]"
     ]
    },
    {
     "name": "stdout",
     "output_type": "stream",
     "text": [
      "4995:\tlearn: 0.0005798\ttotal: 21.5s\tremaining: 17.2ms\n",
      "4999:\tlearn: 0.0005792\ttotal: 21.5s\tremaining: 0us\n",
      "fold Loss 19:  0.005376013172762779\n",
      "---------------------------------------------------------------------------\n",
      "Training Loss: 0.0008170274855727413\n",
      "Loss for oxalate:\n",
      "0.011920139374287212 0.021956552269616323\n",
      "==================================================================================================\n",
      "TARGET  oxychlorine\n"
     ]
    },
    {
     "name": "stderr",
     "output_type": "stream",
     "text": [
      "\n"
     ]
    },
    {
     "name": "stdout",
     "output_type": "stream",
     "text": [
      "0.3787883628818424\n"
     ]
    },
    {
     "name": "stderr",
     "output_type": "stream",
     "text": [
      "100%|██████████| 101/101 [00:00<00:00, 406940.16it/s]"
     ]
    },
    {
     "name": "stdout",
     "output_type": "stream",
     "text": [
      "9\n"
     ]
    },
    {
     "name": "stderr",
     "output_type": "stream",
     "text": [
      "\n"
     ]
    },
    {
     "name": "stdout",
     "output_type": "stream",
     "text": [
      "0.315580027703224\n"
     ]
    },
    {
     "name": "stderr",
     "output_type": "stream",
     "text": [
      "100%|██████████| 300/300 [00:00<00:00, 586069.49it/s]"
     ]
    },
    {
     "name": "stdout",
     "output_type": "stream",
     "text": [
      "21\n"
     ]
    },
    {
     "name": "stderr",
     "output_type": "stream",
     "text": [
      "\n"
     ]
    },
    {
     "name": "stdout",
     "output_type": "stream",
     "text": [
      "0.26310863891941094\n"
     ]
    },
    {
     "name": "stderr",
     "output_type": "stream",
     "text": [
      "100%|██████████| 600/600 [00:00<00:00, 864210.99it/s]"
     ]
    },
    {
     "name": "stdout",
     "output_type": "stream",
     "text": [
      "38\n"
     ]
    },
    {
     "name": "stderr",
     "output_type": "stream",
     "text": [
      "\n"
     ]
    },
    {
     "name": "stdout",
     "output_type": "stream",
     "text": [
      "0.2823519101464816\n"
     ]
    },
    {
     "name": "stderr",
     "output_type": "stream",
     "text": [
      "100%|██████████| 400/400 [00:00<00:00, 573972.49it/s]\n"
     ]
    },
    {
     "name": "stdout",
     "output_type": "stream",
     "text": [
      "37\n",
      "(1059, 37) (1059, 9) (1059, 21) (1059, 38)\n",
      "(1059, 105)\n",
      "(804, 37) (804, 9) (804, 21) (804, 38)\n",
      "(804, 105)\n"
     ]
    },
    {
     "name": "stderr",
     "output_type": "stream",
     "text": [
      "0it [00:00, ?it/s]"
     ]
    },
    {
     "name": "stdout",
     "output_type": "stream",
     "text": [
      "Learning rate set to 0.002361\n",
      "0:\tlearn: 0.6903368\ttotal: 16.4ms\tremaining: 1m 22s\n",
      "999:\tlearn: 0.1381377\ttotal: 11s\tremaining: 44.2s\n",
      "1998:\tlearn: 0.0791960\ttotal: 21.9s\tremaining: 33s\n",
      "2997:\tlearn: 0.0517344\ttotal: 33s\tremaining: 22.1s\n",
      "3996:\tlearn: 0.0358584\ttotal: 44.2s\tremaining: 11.1s\n"
     ]
    },
    {
     "name": "stderr",
     "output_type": "stream",
     "text": [
      "1it [00:55, 55.54s/it]"
     ]
    },
    {
     "name": "stdout",
     "output_type": "stream",
     "text": [
      "4995:\tlearn: 0.0254664\ttotal: 55s\tremaining: 44.1ms\n",
      "4999:\tlearn: 0.0254307\ttotal: 55.1s\tremaining: 0us\n",
      "fold Loss 0:  0.08366553546228143\n",
      "---------------------------------------------------------------------------\n",
      "Learning rate set to 0.002361\n",
      "0:\tlearn: 0.6902674\ttotal: 21.1ms\tremaining: 1m 45s\n",
      "999:\tlearn: 0.1365954\ttotal: 10.9s\tremaining: 43.7s\n",
      "1998:\tlearn: 0.0779950\ttotal: 22s\tremaining: 33.1s\n",
      "2997:\tlearn: 0.0511079\ttotal: 32.8s\tremaining: 21.9s\n",
      "3996:\tlearn: 0.0355347\ttotal: 43.7s\tremaining: 11s\n"
     ]
    },
    {
     "name": "stderr",
     "output_type": "stream",
     "text": [
      "2it [01:50, 55.46s/it]"
     ]
    },
    {
     "name": "stdout",
     "output_type": "stream",
     "text": [
      "4995:\tlearn: 0.0252884\ttotal: 54.9s\tremaining: 43.9ms\n",
      "4999:\tlearn: 0.0252471\ttotal: 54.9s\tremaining: 0us\n",
      "fold Loss 1:  0.15594964721961554\n",
      "---------------------------------------------------------------------------\n",
      "Learning rate set to 0.002361\n",
      "0:\tlearn: 0.6902260\ttotal: 17.3ms\tremaining: 1m 26s\n",
      "999:\tlearn: 0.1307577\ttotal: 10.9s\tremaining: 43.4s\n",
      "1998:\tlearn: 0.0723736\ttotal: 21.7s\tremaining: 32.6s\n",
      "2997:\tlearn: 0.0461479\ttotal: 32.9s\tremaining: 21.9s\n",
      "3996:\tlearn: 0.0302658\ttotal: 43.6s\tremaining: 10.9s\n"
     ]
    },
    {
     "name": "stderr",
     "output_type": "stream",
     "text": [
      "3it [02:45, 55.24s/it]"
     ]
    },
    {
     "name": "stdout",
     "output_type": "stream",
     "text": [
      "4995:\tlearn: 0.0209415\ttotal: 54.5s\tremaining: 43.6ms\n",
      "4999:\tlearn: 0.0209168\ttotal: 54.5s\tremaining: 0us\n",
      "fold Loss 2:  0.28676029656471796\n",
      "---------------------------------------------------------------------------\n",
      "Learning rate set to 0.002361\n",
      "0:\tlearn: 0.6903179\ttotal: 16.3ms\tremaining: 1m 21s\n",
      "999:\tlearn: 0.1327724\ttotal: 11.3s\tremaining: 45.2s\n",
      "1998:\tlearn: 0.0744141\ttotal: 22.1s\tremaining: 33.2s\n",
      "2997:\tlearn: 0.0478725\ttotal: 33.3s\tremaining: 22.2s\n",
      "3996:\tlearn: 0.0337140\ttotal: 44.5s\tremaining: 11.2s\n"
     ]
    },
    {
     "name": "stderr",
     "output_type": "stream",
     "text": [
      "4it [03:41, 55.53s/it]"
     ]
    },
    {
     "name": "stdout",
     "output_type": "stream",
     "text": [
      "4995:\tlearn: 0.0238752\ttotal: 55.4s\tremaining: 44.4ms\n",
      "4999:\tlearn: 0.0238470\ttotal: 55.5s\tremaining: 0us\n",
      "fold Loss 3:  0.16840311032791455\n",
      "---------------------------------------------------------------------------\n",
      "Learning rate set to 0.002361\n",
      "0:\tlearn: 0.6906939\ttotal: 21.7ms\tremaining: 1m 48s\n",
      "999:\tlearn: 0.1371487\ttotal: 10.9s\tremaining: 43.6s\n",
      "1998:\tlearn: 0.0789949\ttotal: 22.1s\tremaining: 33.2s\n",
      "2997:\tlearn: 0.0515583\ttotal: 32.9s\tremaining: 22s\n",
      "3996:\tlearn: 0.0350804\ttotal: 43.9s\tremaining: 11s\n"
     ]
    },
    {
     "name": "stderr",
     "output_type": "stream",
     "text": [
      "5it [04:37, 55.57s/it]"
     ]
    },
    {
     "name": "stdout",
     "output_type": "stream",
     "text": [
      "4995:\tlearn: 0.0246298\ttotal: 55.1s\tremaining: 44.1ms\n",
      "4999:\tlearn: 0.0246097\ttotal: 55.2s\tremaining: 0us\n",
      "fold Loss 4:  0.10930231590534531\n",
      "---------------------------------------------------------------------------\n",
      "Learning rate set to 0.002361\n",
      "0:\tlearn: 0.6901604\ttotal: 16.7ms\tremaining: 1m 23s\n",
      "999:\tlearn: 0.1285252\ttotal: 10.9s\tremaining: 43.7s\n",
      "1998:\tlearn: 0.0731694\ttotal: 21.8s\tremaining: 32.7s\n",
      "2997:\tlearn: 0.0474645\ttotal: 32.8s\tremaining: 21.9s\n",
      "3996:\tlearn: 0.0316493\ttotal: 43.6s\tremaining: 10.9s\n"
     ]
    },
    {
     "name": "stderr",
     "output_type": "stream",
     "text": [
      "6it [05:32, 55.38s/it]"
     ]
    },
    {
     "name": "stdout",
     "output_type": "stream",
     "text": [
      "4995:\tlearn: 0.0208129\ttotal: 54.5s\tremaining: 43.6ms\n",
      "4999:\tlearn: 0.0207887\ttotal: 54.6s\tremaining: 0us\n",
      "fold Loss 5:  0.4261106835638668\n",
      "---------------------------------------------------------------------------\n",
      "Learning rate set to 0.002361\n",
      "0:\tlearn: 0.6906922\ttotal: 17.4ms\tremaining: 1m 26s\n",
      "999:\tlearn: 0.1345473\ttotal: 11.3s\tremaining: 45s\n",
      "1998:\tlearn: 0.0773110\ttotal: 22s\tremaining: 33.1s\n",
      "2997:\tlearn: 0.0502130\ttotal: 33s\tremaining: 22s\n",
      "3996:\tlearn: 0.0353414\ttotal: 44.1s\tremaining: 11.1s\n"
     ]
    },
    {
     "name": "stderr",
     "output_type": "stream",
     "text": [
      "7it [06:28, 55.41s/it]"
     ]
    },
    {
     "name": "stdout",
     "output_type": "stream",
     "text": [
      "4995:\tlearn: 0.0251816\ttotal: 54.9s\tremaining: 44ms\n",
      "4999:\tlearn: 0.0251560\ttotal: 55s\tremaining: 0us\n",
      "fold Loss 6:  0.20632315733888776\n",
      "---------------------------------------------------------------------------\n",
      "Learning rate set to 0.002361\n",
      "0:\tlearn: 0.6907312\ttotal: 20.8ms\tremaining: 1m 43s\n",
      "999:\tlearn: 0.1335687\ttotal: 10.9s\tremaining: 43.8s\n",
      "1998:\tlearn: 0.0764698\ttotal: 22s\tremaining: 33.1s\n",
      "2997:\tlearn: 0.0495046\ttotal: 32.8s\tremaining: 21.9s\n",
      "3996:\tlearn: 0.0334750\ttotal: 43.7s\tremaining: 11s\n"
     ]
    },
    {
     "name": "stderr",
     "output_type": "stream",
     "text": [
      "8it [07:23, 55.41s/it]"
     ]
    },
    {
     "name": "stdout",
     "output_type": "stream",
     "text": [
      "4995:\tlearn: 0.0238223\ttotal: 54.9s\tremaining: 44ms\n",
      "4999:\tlearn: 0.0237873\ttotal: 55s\tremaining: 0us\n",
      "fold Loss 7:  0.20205956710977577\n",
      "---------------------------------------------------------------------------\n",
      "Learning rate set to 0.002361\n",
      "0:\tlearn: 0.6903177\ttotal: 18.6ms\tremaining: 1m 33s\n",
      "999:\tlearn: 0.1389637\ttotal: 10.8s\tremaining: 43.2s\n",
      "1998:\tlearn: 0.0795209\ttotal: 21.8s\tremaining: 32.7s\n",
      "2997:\tlearn: 0.0516760\ttotal: 33.1s\tremaining: 22.1s\n",
      "3996:\tlearn: 0.0350439\ttotal: 43.9s\tremaining: 11s\n"
     ]
    },
    {
     "name": "stderr",
     "output_type": "stream",
     "text": [
      "9it [08:18, 55.42s/it]"
     ]
    },
    {
     "name": "stdout",
     "output_type": "stream",
     "text": [
      "4995:\tlearn: 0.0247773\ttotal: 54.9s\tremaining: 44ms\n",
      "4999:\tlearn: 0.0247551\ttotal: 55s\tremaining: 0us\n",
      "fold Loss 8:  0.05656092869875741\n",
      "---------------------------------------------------------------------------\n",
      "Learning rate set to 0.002361\n",
      "0:\tlearn: 0.6902451\ttotal: 16.2ms\tremaining: 1m 20s\n",
      "999:\tlearn: 0.1357790\ttotal: 11.2s\tremaining: 44.7s\n",
      "1998:\tlearn: 0.0767920\ttotal: 22.1s\tremaining: 33.1s\n",
      "2997:\tlearn: 0.0503682\ttotal: 33s\tremaining: 22s\n",
      "3996:\tlearn: 0.0345274\ttotal: 43.9s\tremaining: 11s\n"
     ]
    },
    {
     "name": "stderr",
     "output_type": "stream",
     "text": [
      "10it [09:14, 55.35s/it]"
     ]
    },
    {
     "name": "stdout",
     "output_type": "stream",
     "text": [
      "4995:\tlearn: 0.0243878\ttotal: 54.7s\tremaining: 43.8ms\n",
      "4999:\tlearn: 0.0243560\ttotal: 54.7s\tremaining: 0us\n",
      "fold Loss 9:  0.12301991578356139\n",
      "---------------------------------------------------------------------------\n",
      "Learning rate set to 0.002361\n",
      "0:\tlearn: 0.6903305\ttotal: 21.2ms\tremaining: 1m 45s\n",
      "999:\tlearn: 0.1396578\ttotal: 10.9s\tremaining: 43.4s\n",
      "1998:\tlearn: 0.0800915\ttotal: 22s\tremaining: 33s\n",
      "2997:\tlearn: 0.0525070\ttotal: 32.7s\tremaining: 21.9s\n",
      "3996:\tlearn: 0.0359156\ttotal: 43.6s\tremaining: 10.9s\n"
     ]
    },
    {
     "name": "stderr",
     "output_type": "stream",
     "text": [
      "11it [10:09, 55.35s/it]"
     ]
    },
    {
     "name": "stdout",
     "output_type": "stream",
     "text": [
      "4995:\tlearn: 0.0250065\ttotal: 54.8s\tremaining: 43.9ms\n",
      "4999:\tlearn: 0.0249649\ttotal: 54.9s\tremaining: 0us\n",
      "fold Loss 10:  0.05995808435271174\n",
      "---------------------------------------------------------------------------\n",
      "Learning rate set to 0.002361\n",
      "0:\tlearn: 0.6903593\ttotal: 16.9ms\tremaining: 1m 24s\n",
      "999:\tlearn: 0.1372118\ttotal: 10.8s\tremaining: 43.1s\n",
      "1998:\tlearn: 0.0790238\ttotal: 21.7s\tremaining: 32.6s\n",
      "2997:\tlearn: 0.0515678\ttotal: 32.8s\tremaining: 21.9s\n",
      "3996:\tlearn: 0.0351075\ttotal: 43.8s\tremaining: 11s\n"
     ]
    },
    {
     "name": "stderr",
     "output_type": "stream",
     "text": [
      "12it [11:04, 55.30s/it]"
     ]
    },
    {
     "name": "stdout",
     "output_type": "stream",
     "text": [
      "4995:\tlearn: 0.0249680\ttotal: 54.7s\tremaining: 43.8ms\n",
      "4999:\tlearn: 0.0249207\ttotal: 54.7s\tremaining: 0us\n",
      "fold Loss 11:  0.07874314088920448\n",
      "---------------------------------------------------------------------------\n",
      "Learning rate set to 0.002361\n",
      "0:\tlearn: 0.6903579\ttotal: 16.2ms\tremaining: 1m 21s\n",
      "999:\tlearn: 0.1379084\ttotal: 11.1s\tremaining: 44.5s\n",
      "1998:\tlearn: 0.0788604\ttotal: 22.1s\tremaining: 33.1s\n",
      "2997:\tlearn: 0.0516701\ttotal: 33.1s\tremaining: 22.1s\n",
      "3996:\tlearn: 0.0351140\ttotal: 44.2s\tremaining: 11.1s\n"
     ]
    },
    {
     "name": "stderr",
     "output_type": "stream",
     "text": [
      "13it [12:00, 55.34s/it]"
     ]
    },
    {
     "name": "stdout",
     "output_type": "stream",
     "text": [
      "4995:\tlearn: 0.0252229\ttotal: 54.9s\tremaining: 44ms\n",
      "4999:\tlearn: 0.0251766\ttotal: 55s\tremaining: 0us\n",
      "fold Loss 12:  0.09574529183411916\n",
      "---------------------------------------------------------------------------\n",
      "Learning rate set to 0.002361\n",
      "0:\tlearn: 0.6902741\ttotal: 21ms\tremaining: 1m 44s\n",
      "999:\tlearn: 0.1359691\ttotal: 10.8s\tremaining: 43.4s\n",
      "1998:\tlearn: 0.0776225\ttotal: 21.8s\tremaining: 32.8s\n",
      "2997:\tlearn: 0.0505268\ttotal: 32.6s\tremaining: 21.8s\n",
      "3996:\tlearn: 0.0344495\ttotal: 43.6s\tremaining: 10.9s\n"
     ]
    },
    {
     "name": "stderr",
     "output_type": "stream",
     "text": [
      "14it [12:55, 55.34s/it]"
     ]
    },
    {
     "name": "stdout",
     "output_type": "stream",
     "text": [
      "4995:\tlearn: 0.0240778\ttotal: 54.8s\tremaining: 43.9ms\n",
      "4999:\tlearn: 0.0240437\ttotal: 54.9s\tremaining: 0us\n",
      "fold Loss 13:  0.15344036887355952\n",
      "---------------------------------------------------------------------------\n",
      "Learning rate set to 0.002361\n",
      "0:\tlearn: 0.6907631\ttotal: 16.1ms\tremaining: 1m 20s\n",
      "999:\tlearn: 0.1309213\ttotal: 10.7s\tremaining: 42.8s\n",
      "1998:\tlearn: 0.0737539\ttotal: 21.6s\tremaining: 32.4s\n",
      "2997:\tlearn: 0.0478113\ttotal: 32.6s\tremaining: 21.8s\n",
      "3996:\tlearn: 0.0329680\ttotal: 43.5s\tremaining: 10.9s\n"
     ]
    },
    {
     "name": "stderr",
     "output_type": "stream",
     "text": [
      "15it [13:50, 55.22s/it]"
     ]
    },
    {
     "name": "stdout",
     "output_type": "stream",
     "text": [
      "4995:\tlearn: 0.0235991\ttotal: 54.4s\tremaining: 43.6ms\n",
      "4999:\tlearn: 0.0235703\ttotal: 54.5s\tremaining: 0us\n",
      "fold Loss 14:  0.22061548704899966\n",
      "---------------------------------------------------------------------------\n",
      "Learning rate set to 0.002361\n",
      "0:\tlearn: 0.6903023\ttotal: 17ms\tremaining: 1m 25s\n",
      "999:\tlearn: 0.1323866\ttotal: 11s\tremaining: 44.2s\n",
      "1998:\tlearn: 0.0739220\ttotal: 21.8s\tremaining: 32.8s\n",
      "2997:\tlearn: 0.0476306\ttotal: 32.7s\tremaining: 21.8s\n",
      "3996:\tlearn: 0.0326330\ttotal: 43.7s\tremaining: 11s\n"
     ]
    },
    {
     "name": "stderr",
     "output_type": "stream",
     "text": [
      "16it [14:45, 55.15s/it]"
     ]
    },
    {
     "name": "stdout",
     "output_type": "stream",
     "text": [
      "4995:\tlearn: 0.0221041\ttotal: 54.5s\tremaining: 43.6ms\n",
      "4999:\tlearn: 0.0220717\ttotal: 54.5s\tremaining: 0us\n",
      "fold Loss 15:  0.25714044969060257\n",
      "---------------------------------------------------------------------------\n",
      "Learning rate set to 0.002361\n",
      "0:\tlearn: 0.6903747\ttotal: 23.5ms\tremaining: 1m 57s\n",
      "999:\tlearn: 0.1395485\ttotal: 10.9s\tremaining: 43.5s\n",
      "1998:\tlearn: 0.0797691\ttotal: 22s\tremaining: 33s\n",
      "2997:\tlearn: 0.0516872\ttotal: 32.8s\tremaining: 21.9s\n",
      "3996:\tlearn: 0.0362305\ttotal: 43.7s\tremaining: 11s\n"
     ]
    },
    {
     "name": "stderr",
     "output_type": "stream",
     "text": [
      "17it [15:40, 55.27s/it]"
     ]
    },
    {
     "name": "stdout",
     "output_type": "stream",
     "text": [
      "4995:\tlearn: 0.0261446\ttotal: 55s\tremaining: 44.1ms\n",
      "4999:\tlearn: 0.0261100\ttotal: 55.1s\tremaining: 0us\n",
      "fold Loss 16:  0.07909276396373884\n",
      "---------------------------------------------------------------------------\n",
      "Learning rate set to 0.002361\n",
      "0:\tlearn: 0.6903395\ttotal: 16.4ms\tremaining: 1m 22s\n",
      "999:\tlearn: 0.1367799\ttotal: 10.7s\tremaining: 43s\n",
      "1998:\tlearn: 0.0777968\ttotal: 21.7s\tremaining: 32.6s\n",
      "2997:\tlearn: 0.0501460\ttotal: 32.8s\tremaining: 21.9s\n",
      "3996:\tlearn: 0.0335841\ttotal: 43.6s\tremaining: 10.9s\n"
     ]
    },
    {
     "name": "stderr",
     "output_type": "stream",
     "text": [
      "18it [16:35, 55.20s/it]"
     ]
    },
    {
     "name": "stdout",
     "output_type": "stream",
     "text": [
      "4995:\tlearn: 0.0234959\ttotal: 54.5s\tremaining: 43.7ms\n",
      "4999:\tlearn: 0.0234740\ttotal: 54.6s\tremaining: 0us\n",
      "fold Loss 17:  0.2215082366015784\n",
      "---------------------------------------------------------------------------\n",
      "Learning rate set to 0.002361\n",
      "0:\tlearn: 0.6904854\ttotal: 16.5ms\tremaining: 1m 22s\n",
      "999:\tlearn: 0.1395913\ttotal: 11.1s\tremaining: 44.6s\n",
      "1998:\tlearn: 0.0806067\ttotal: 22s\tremaining: 33s\n",
      "2997:\tlearn: 0.0527382\ttotal: 32.8s\tremaining: 21.9s\n",
      "3996:\tlearn: 0.0365474\ttotal: 43.9s\tremaining: 11s\n"
     ]
    },
    {
     "name": "stderr",
     "output_type": "stream",
     "text": [
      "19it [17:31, 55.20s/it]"
     ]
    },
    {
     "name": "stdout",
     "output_type": "stream",
     "text": [
      "4995:\tlearn: 0.0265279\ttotal: 54.7s\tremaining: 43.8ms\n",
      "4999:\tlearn: 0.0265058\ttotal: 54.8s\tremaining: 0us\n",
      "fold Loss 18:  0.038842664772109625\n",
      "---------------------------------------------------------------------------\n",
      "Learning rate set to 0.002362\n",
      "0:\tlearn: 0.6903160\ttotal: 21.1ms\tremaining: 1m 45s\n",
      "999:\tlearn: 0.1380188\ttotal: 11s\tremaining: 43.8s\n",
      "1998:\tlearn: 0.0795415\ttotal: 22.3s\tremaining: 33.4s\n",
      "2997:\tlearn: 0.0520577\ttotal: 33.1s\tremaining: 22.1s\n",
      "3996:\tlearn: 0.0355623\ttotal: 44s\tremaining: 11s\n"
     ]
    },
    {
     "name": "stderr",
     "output_type": "stream",
     "text": [
      "20it [18:26, 55.33s/it]"
     ]
    },
    {
     "name": "stdout",
     "output_type": "stream",
     "text": [
      "4995:\tlearn: 0.0250670\ttotal: 55.1s\tremaining: 44.1ms\n",
      "4999:\tlearn: 0.0250304\ttotal: 55.1s\tremaining: 0us\n",
      "fold Loss 19:  0.07629897988446352\n",
      "---------------------------------------------------------------------------\n",
      "Training Loss: 0.02756611058253115\n",
      "Loss for oxychlorine:\n",
      "0.15497703129429055 0.09400855415303515\n",
      "==================================================================================================\n",
      "TARGET  phyllosilicate\n"
     ]
    },
    {
     "name": "stderr",
     "output_type": "stream",
     "text": [
      "\n"
     ]
    },
    {
     "name": "stdout",
     "output_type": "stream",
     "text": [
      "0.5361063554400676\n"
     ]
    },
    {
     "name": "stderr",
     "output_type": "stream",
     "text": [
      "100%|██████████| 101/101 [00:00<00:00, 514732.33it/s]"
     ]
    },
    {
     "name": "stdout",
     "output_type": "stream",
     "text": [
      "9\n"
     ]
    },
    {
     "name": "stderr",
     "output_type": "stream",
     "text": [
      "\n"
     ]
    },
    {
     "name": "stdout",
     "output_type": "stream",
     "text": [
      "0.4986007144774128\n"
     ]
    },
    {
     "name": "stderr",
     "output_type": "stream",
     "text": [
      "100%|██████████| 300/300 [00:00<00:00, 543538.32it/s]"
     ]
    },
    {
     "name": "stdout",
     "output_type": "stream",
     "text": [
      "28\n"
     ]
    },
    {
     "name": "stderr",
     "output_type": "stream",
     "text": [
      "\n"
     ]
    },
    {
     "name": "stdout",
     "output_type": "stream",
     "text": [
      "0.4359412431512638\n"
     ]
    },
    {
     "name": "stderr",
     "output_type": "stream",
     "text": [
      "100%|██████████| 600/600 [00:00<00:00, 726705.86it/s]\n"
     ]
    },
    {
     "name": "stdout",
     "output_type": "stream",
     "text": [
      "47\n",
      "0.4345681251580026\n"
     ]
    },
    {
     "name": "stderr",
     "output_type": "stream",
     "text": [
      "100%|██████████| 400/400 [00:00<00:00, 755390.18it/s]\n"
     ]
    },
    {
     "name": "stdout",
     "output_type": "stream",
     "text": [
      "44\n",
      "(1059, 44) (1059, 9) (1059, 28) (1059, 47)\n",
      "(1059, 128)\n",
      "(804, 44) (804, 9) (804, 28) (804, 47)\n",
      "(804, 128)\n"
     ]
    },
    {
     "name": "stderr",
     "output_type": "stream",
     "text": [
      "0it [00:00, ?it/s]"
     ]
    },
    {
     "name": "stdout",
     "output_type": "stream",
     "text": [
      "Learning rate set to 0.002361\n",
      "0:\tlearn: 0.6914954\ttotal: 27.3ms\tremaining: 2m 16s\n",
      "999:\tlearn: 0.2508917\ttotal: 13s\tremaining: 52s\n",
      "1998:\tlearn: 0.1613488\ttotal: 26.3s\tremaining: 39.4s\n",
      "2997:\tlearn: 0.1104162\ttotal: 39.1s\tremaining: 26.1s\n",
      "3996:\tlearn: 0.0752127\ttotal: 52.5s\tremaining: 13.2s\n"
     ]
    },
    {
     "name": "stderr",
     "output_type": "stream",
     "text": [
      "1it [01:05, 65.99s/it]"
     ]
    },
    {
     "name": "stdout",
     "output_type": "stream",
     "text": [
      "4995:\tlearn: 0.0514901\ttotal: 1m 5s\tremaining: 52.4ms\n",
      "4999:\tlearn: 0.0514315\ttotal: 1m 5s\tremaining: 0us\n",
      "fold Loss 0:  0.1577748978658276\n",
      "---------------------------------------------------------------------------\n",
      "Learning rate set to 0.002361\n",
      "0:\tlearn: 0.6916575\ttotal: 19.7ms\tremaining: 1m 38s\n",
      "999:\tlearn: 0.2490991\ttotal: 12.9s\tremaining: 51.6s\n",
      "1998:\tlearn: 0.1584355\ttotal: 26.2s\tremaining: 39.3s\n",
      "2997:\tlearn: 0.1079132\ttotal: 39s\tremaining: 26s\n",
      "3996:\tlearn: 0.0727317\ttotal: 52.3s\tremaining: 13.1s\n"
     ]
    },
    {
     "name": "stderr",
     "output_type": "stream",
     "text": [
      "2it [02:11, 65.98s/it]"
     ]
    },
    {
     "name": "stdout",
     "output_type": "stream",
     "text": [
      "4995:\tlearn: 0.0489778\ttotal: 1m 5s\tremaining: 52.3ms\n",
      "4999:\tlearn: 0.0489058\ttotal: 1m 5s\tremaining: 0us\n",
      "fold Loss 1:  0.22063076804043338\n",
      "---------------------------------------------------------------------------\n",
      "Learning rate set to 0.002361\n",
      "0:\tlearn: 0.6916983\ttotal: 19.6ms\tremaining: 1m 38s\n",
      "999:\tlearn: 0.2535693\ttotal: 13s\tremaining: 51.9s\n",
      "1998:\tlearn: 0.1627180\ttotal: 26.1s\tremaining: 39.2s\n",
      "2997:\tlearn: 0.1111376\ttotal: 39s\tremaining: 26.1s\n",
      "3996:\tlearn: 0.0765054\ttotal: 52.2s\tremaining: 13.1s\n"
     ]
    },
    {
     "name": "stderr",
     "output_type": "stream",
     "text": [
      "3it [03:17, 65.82s/it]"
     ]
    },
    {
     "name": "stdout",
     "output_type": "stream",
     "text": [
      "4995:\tlearn: 0.0525304\ttotal: 1m 5s\tremaining: 52.1ms\n",
      "4999:\tlearn: 0.0524658\ttotal: 1m 5s\tremaining: 0us\n",
      "fold Loss 2:  0.15218192610372724\n",
      "---------------------------------------------------------------------------\n",
      "Learning rate set to 0.002361\n",
      "0:\tlearn: 0.6918024\ttotal: 29.5ms\tremaining: 2m 27s\n",
      "999:\tlearn: 0.2503405\ttotal: 13s\tremaining: 52.1s\n",
      "1998:\tlearn: 0.1604689\ttotal: 26.2s\tremaining: 39.3s\n",
      "2997:\tlearn: 0.1105955\ttotal: 39s\tremaining: 26.1s\n",
      "3996:\tlearn: 0.0770646\ttotal: 52.4s\tremaining: 13.1s\n"
     ]
    },
    {
     "name": "stderr",
     "output_type": "stream",
     "text": [
      "4it [04:23, 65.84s/it]"
     ]
    },
    {
     "name": "stdout",
     "output_type": "stream",
     "text": [
      "4995:\tlearn: 0.0533856\ttotal: 1m 5s\tremaining: 52.3ms\n",
      "4999:\tlearn: 0.0533328\ttotal: 1m 5s\tremaining: 0us\n",
      "fold Loss 3:  0.20818889218838116\n",
      "---------------------------------------------------------------------------\n",
      "Learning rate set to 0.002361\n",
      "0:\tlearn: 0.6918149\ttotal: 19.9ms\tremaining: 1m 39s\n",
      "999:\tlearn: 0.2482516\ttotal: 13s\tremaining: 52.1s\n",
      "1998:\tlearn: 0.1571568\ttotal: 26.2s\tremaining: 39.3s\n",
      "2997:\tlearn: 0.1065532\ttotal: 39.2s\tremaining: 26.2s\n",
      "3996:\tlearn: 0.0722631\ttotal: 52.4s\tremaining: 13.2s\n"
     ]
    },
    {
     "name": "stderr",
     "output_type": "stream",
     "text": [
      "5it [05:29, 65.93s/it]"
     ]
    },
    {
     "name": "stdout",
     "output_type": "stream",
     "text": [
      "4995:\tlearn: 0.0487343\ttotal: 1m 5s\tremaining: 52.5ms\n",
      "4999:\tlearn: 0.0486609\ttotal: 1m 5s\tremaining: 0us\n",
      "fold Loss 4:  0.23242167722472537\n",
      "---------------------------------------------------------------------------\n",
      "Learning rate set to 0.002361\n",
      "0:\tlearn: 0.6914091\ttotal: 19.4ms\tremaining: 1m 37s\n",
      "999:\tlearn: 0.2544342\ttotal: 13.3s\tremaining: 53s\n",
      "1998:\tlearn: 0.1636087\ttotal: 26.2s\tremaining: 39.3s\n",
      "2997:\tlearn: 0.1120963\ttotal: 39.3s\tremaining: 26.2s\n",
      "3996:\tlearn: 0.0769881\ttotal: 52.8s\tremaining: 13.3s\n"
     ]
    },
    {
     "name": "stderr",
     "output_type": "stream",
     "text": [
      "6it [06:35, 66.10s/it]"
     ]
    },
    {
     "name": "stdout",
     "output_type": "stream",
     "text": [
      "4995:\tlearn: 0.0524741\ttotal: 1m 5s\tremaining: 52.7ms\n",
      "4999:\tlearn: 0.0524106\ttotal: 1m 5s\tremaining: 0us\n",
      "fold Loss 5:  0.14316633161378442\n",
      "---------------------------------------------------------------------------\n",
      "Learning rate set to 0.002361\n",
      "0:\tlearn: 0.6918136\ttotal: 25.5ms\tremaining: 2m 7s\n",
      "999:\tlearn: 0.2457797\ttotal: 13.4s\tremaining: 53.6s\n",
      "1998:\tlearn: 0.1557976\ttotal: 26.4s\tremaining: 39.6s\n",
      "2997:\tlearn: 0.1060683\ttotal: 39.3s\tremaining: 26.2s\n",
      "3996:\tlearn: 0.0725997\ttotal: 52.7s\tremaining: 13.2s\n"
     ]
    },
    {
     "name": "stderr",
     "output_type": "stream",
     "text": [
      "7it [07:42, 66.19s/it]"
     ]
    },
    {
     "name": "stdout",
     "output_type": "stream",
     "text": [
      "4995:\tlearn: 0.0497152\ttotal: 1m 5s\tremaining: 52.7ms\n",
      "4999:\tlearn: 0.0496257\ttotal: 1m 5s\tremaining: 0us\n",
      "fold Loss 6:  0.29041012815561185\n",
      "---------------------------------------------------------------------------\n",
      "Learning rate set to 0.002361\n",
      "0:\tlearn: 0.6914232\ttotal: 19.7ms\tremaining: 1m 38s\n",
      "999:\tlearn: 0.2512139\ttotal: 13s\tremaining: 52.1s\n",
      "1998:\tlearn: 0.1601154\ttotal: 26.4s\tremaining: 39.6s\n",
      "2997:\tlearn: 0.1099523\ttotal: 39.2s\tremaining: 26.2s\n",
      "3996:\tlearn: 0.0750689\ttotal: 52.1s\tremaining: 13.1s\n"
     ]
    },
    {
     "name": "stderr",
     "output_type": "stream",
     "text": [
      "8it [08:48, 66.13s/it]"
     ]
    },
    {
     "name": "stdout",
     "output_type": "stream",
     "text": [
      "4995:\tlearn: 0.0515143\ttotal: 1m 5s\tremaining: 52.4ms\n",
      "4999:\tlearn: 0.0514383\ttotal: 1m 5s\tremaining: 0us\n",
      "fold Loss 7:  0.19760513501022575\n",
      "---------------------------------------------------------------------------\n",
      "Learning rate set to 0.002361\n",
      "0:\tlearn: 0.6915035\ttotal: 19.1ms\tremaining: 1m 35s\n",
      "999:\tlearn: 0.2493505\ttotal: 13.1s\tremaining: 52.5s\n",
      "1998:\tlearn: 0.1583056\ttotal: 26.2s\tremaining: 39.3s\n",
      "2997:\tlearn: 0.1078304\ttotal: 39.4s\tremaining: 26.3s\n",
      "3996:\tlearn: 0.0727072\ttotal: 52.4s\tremaining: 13.1s\n"
     ]
    },
    {
     "name": "stderr",
     "output_type": "stream",
     "text": [
      "9it [09:54, 66.20s/it]"
     ]
    },
    {
     "name": "stdout",
     "output_type": "stream",
     "text": [
      "4995:\tlearn: 0.0490761\ttotal: 1m 5s\tremaining: 52.7ms\n",
      "4999:\tlearn: 0.0490029\ttotal: 1m 5s\tremaining: 0us\n",
      "fold Loss 8:  0.22302882555657866\n",
      "---------------------------------------------------------------------------\n",
      "Learning rate set to 0.002361\n",
      "0:\tlearn: 0.6917247\ttotal: 27ms\tremaining: 2m 14s\n",
      "999:\tlearn: 0.2481486\ttotal: 13.2s\tremaining: 52.8s\n",
      "1998:\tlearn: 0.1583465\ttotal: 26.1s\tremaining: 39.2s\n",
      "2997:\tlearn: 0.1088207\ttotal: 39.2s\tremaining: 26.2s\n",
      "3996:\tlearn: 0.0738939\ttotal: 52.3s\tremaining: 13.1s\n"
     ]
    },
    {
     "name": "stderr",
     "output_type": "stream",
     "text": [
      "10it [11:00, 66.16s/it]"
     ]
    },
    {
     "name": "stdout",
     "output_type": "stream",
     "text": [
      "4995:\tlearn: 0.0497399\ttotal: 1m 5s\tremaining: 52.4ms\n",
      "4999:\tlearn: 0.0496721\ttotal: 1m 5s\tremaining: 0us\n",
      "fold Loss 9:  0.17641964359632684\n",
      "---------------------------------------------------------------------------\n",
      "Learning rate set to 0.002361\n",
      "0:\tlearn: 0.6916449\ttotal: 19ms\tremaining: 1m 34s\n",
      "999:\tlearn: 0.2447450\ttotal: 12.9s\tremaining: 51.8s\n",
      "1998:\tlearn: 0.1560009\ttotal: 26s\tremaining: 39s\n",
      "2997:\tlearn: 0.1072317\ttotal: 39.2s\tremaining: 26.1s\n",
      "3996:\tlearn: 0.0740108\ttotal: 52.2s\tremaining: 13.1s\n"
     ]
    },
    {
     "name": "stderr",
     "output_type": "stream",
     "text": [
      "11it [12:06, 66.14s/it]"
     ]
    },
    {
     "name": "stdout",
     "output_type": "stream",
     "text": [
      "4995:\tlearn: 0.0504267\ttotal: 1m 5s\tremaining: 52.5ms\n",
      "4999:\tlearn: 0.0503632\ttotal: 1m 5s\tremaining: 0us\n",
      "fold Loss 10:  0.36928311384711493\n",
      "---------------------------------------------------------------------------\n",
      "Learning rate set to 0.002361\n",
      "0:\tlearn: 0.6915050\ttotal: 19.6ms\tremaining: 1m 37s\n",
      "999:\tlearn: 0.2450187\ttotal: 12.9s\tremaining: 51.7s\n",
      "1998:\tlearn: 0.1544194\ttotal: 25.8s\tremaining: 38.7s\n",
      "2997:\tlearn: 0.1045360\ttotal: 39.2s\tremaining: 26.2s\n",
      "3996:\tlearn: 0.0704301\ttotal: 52.5s\tremaining: 13.2s\n"
     ]
    },
    {
     "name": "stderr",
     "output_type": "stream",
     "text": [
      "12it [13:12, 66.12s/it]"
     ]
    },
    {
     "name": "stdout",
     "output_type": "stream",
     "text": [
      "4995:\tlearn: 0.0475487\ttotal: 1m 5s\tremaining: 52.4ms\n",
      "4999:\tlearn: 0.0474941\ttotal: 1m 5s\tremaining: 0us\n",
      "fold Loss 11:  0.34724950504836233\n",
      "---------------------------------------------------------------------------\n",
      "Learning rate set to 0.002361\n",
      "0:\tlearn: 0.6916063\ttotal: 26.2ms\tremaining: 2m 11s\n",
      "999:\tlearn: 0.2483046\ttotal: 13.5s\tremaining: 53.9s\n",
      "1998:\tlearn: 0.1564365\ttotal: 26.4s\tremaining: 39.6s\n",
      "2997:\tlearn: 0.1071482\ttotal: 39.3s\tremaining: 26.3s\n",
      "3996:\tlearn: 0.0735845\ttotal: 52.8s\tremaining: 13.2s\n"
     ]
    },
    {
     "name": "stderr",
     "output_type": "stream",
     "text": [
      "13it [14:19, 66.23s/it]"
     ]
    },
    {
     "name": "stdout",
     "output_type": "stream",
     "text": [
      "4995:\tlearn: 0.0505419\ttotal: 1m 5s\tremaining: 52.8ms\n",
      "4999:\tlearn: 0.0504810\ttotal: 1m 5s\tremaining: 0us\n",
      "fold Loss 12:  0.3014685420320145\n",
      "---------------------------------------------------------------------------\n",
      "Learning rate set to 0.002361\n",
      "0:\tlearn: 0.6916939\ttotal: 20.6ms\tremaining: 1m 42s\n",
      "999:\tlearn: 0.2479803\ttotal: 13.3s\tremaining: 53.4s\n",
      "1998:\tlearn: 0.1580356\ttotal: 26.4s\tremaining: 39.7s\n",
      "2997:\tlearn: 0.1085391\ttotal: 39.4s\tremaining: 26.3s\n",
      "3996:\tlearn: 0.0747694\ttotal: 52.6s\tremaining: 13.2s\n"
     ]
    },
    {
     "name": "stderr",
     "output_type": "stream",
     "text": [
      "14it [15:25, 66.21s/it]"
     ]
    },
    {
     "name": "stdout",
     "output_type": "stream",
     "text": [
      "4995:\tlearn: 0.0512877\ttotal: 1m 5s\tremaining: 52.5ms\n",
      "4999:\tlearn: 0.0512430\ttotal: 1m 5s\tremaining: 0us\n",
      "fold Loss 13:  0.2511834810131863\n",
      "---------------------------------------------------------------------------\n",
      "Learning rate set to 0.002361\n",
      "0:\tlearn: 0.6917004\ttotal: 19.3ms\tremaining: 1m 36s\n",
      "999:\tlearn: 0.2535474\ttotal: 13.5s\tremaining: 53.8s\n",
      "1998:\tlearn: 0.1624650\ttotal: 26.5s\tremaining: 39.7s\n",
      "2997:\tlearn: 0.1116343\ttotal: 39.5s\tremaining: 26.4s\n",
      "3996:\tlearn: 0.0754876\ttotal: 52.7s\tremaining: 13.2s\n"
     ]
    },
    {
     "name": "stderr",
     "output_type": "stream",
     "text": [
      "15it [16:31, 66.18s/it]"
     ]
    },
    {
     "name": "stdout",
     "output_type": "stream",
     "text": [
      "4995:\tlearn: 0.0514291\ttotal: 1m 5s\tremaining: 52.5ms\n",
      "4999:\tlearn: 0.0513333\ttotal: 1m 5s\tremaining: 0us\n",
      "fold Loss 14:  0.12541907090006318\n",
      "---------------------------------------------------------------------------\n",
      "Learning rate set to 0.002361\n",
      "0:\tlearn: 0.6916679\ttotal: 27ms\tremaining: 2m 15s\n",
      "999:\tlearn: 0.2522145\ttotal: 13.1s\tremaining: 52.2s\n",
      "1998:\tlearn: 0.1612710\ttotal: 26.3s\tremaining: 39.5s\n",
      "2997:\tlearn: 0.1103980\ttotal: 39.4s\tremaining: 26.3s\n",
      "3996:\tlearn: 0.0751280\ttotal: 52.7s\tremaining: 13.2s\n"
     ]
    },
    {
     "name": "stderr",
     "output_type": "stream",
     "text": [
      "16it [17:37, 66.19s/it]"
     ]
    },
    {
     "name": "stdout",
     "output_type": "stream",
     "text": [
      "4995:\tlearn: 0.0514134\ttotal: 1m 5s\tremaining: 52.5ms\n",
      "4999:\tlearn: 0.0513355\ttotal: 1m 5s\tremaining: 0us\n",
      "fold Loss 15:  0.1441238139617935\n",
      "---------------------------------------------------------------------------\n",
      "Learning rate set to 0.002361\n",
      "0:\tlearn: 0.6917002\ttotal: 19.7ms\tremaining: 1m 38s\n",
      "999:\tlearn: 0.2493988\ttotal: 13s\tremaining: 52s\n",
      "1998:\tlearn: 0.1591062\ttotal: 26.6s\tremaining: 39.9s\n",
      "2997:\tlearn: 0.1083646\ttotal: 39.6s\tremaining: 26.4s\n",
      "3996:\tlearn: 0.0733531\ttotal: 52.9s\tremaining: 13.3s\n"
     ]
    },
    {
     "name": "stderr",
     "output_type": "stream",
     "text": [
      "17it [18:44, 66.28s/it]"
     ]
    },
    {
     "name": "stdout",
     "output_type": "stream",
     "text": [
      "4995:\tlearn: 0.0488844\ttotal: 1m 5s\tremaining: 52.8ms\n",
      "4999:\tlearn: 0.0488197\ttotal: 1m 5s\tremaining: 0us\n",
      "fold Loss 16:  0.21233504485016394\n",
      "---------------------------------------------------------------------------\n",
      "Learning rate set to 0.002361\n",
      "0:\tlearn: 0.6917604\ttotal: 19.6ms\tremaining: 1m 37s\n",
      "999:\tlearn: 0.2457093\ttotal: 13s\tremaining: 51.8s\n",
      "1998:\tlearn: 0.1546791\ttotal: 26.2s\tremaining: 39.4s\n",
      "2997:\tlearn: 0.1046308\ttotal: 39.4s\tremaining: 26.3s\n",
      "3996:\tlearn: 0.0706093\ttotal: 52.5s\tremaining: 13.2s\n"
     ]
    },
    {
     "name": "stderr",
     "output_type": "stream",
     "text": [
      "18it [19:50, 66.19s/it]"
     ]
    },
    {
     "name": "stdout",
     "output_type": "stream",
     "text": [
      "4995:\tlearn: 0.0479317\ttotal: 1m 5s\tremaining: 52.3ms\n",
      "4999:\tlearn: 0.0478588\ttotal: 1m 5s\tremaining: 0us\n",
      "fold Loss 17:  0.2741024978319051\n",
      "---------------------------------------------------------------------------\n",
      "Learning rate set to 0.002361\n",
      "0:\tlearn: 0.6914969\ttotal: 25.1ms\tremaining: 2m 5s\n",
      "999:\tlearn: 0.2516537\ttotal: 13.2s\tremaining: 53s\n",
      "1998:\tlearn: 0.1592952\ttotal: 26.3s\tremaining: 39.5s\n",
      "2997:\tlearn: 0.1094618\ttotal: 39.2s\tremaining: 26.2s\n",
      "3996:\tlearn: 0.0743719\ttotal: 52.4s\tremaining: 13.2s\n"
     ]
    },
    {
     "name": "stderr",
     "output_type": "stream",
     "text": [
      "19it [20:56, 66.10s/it]"
     ]
    },
    {
     "name": "stdout",
     "output_type": "stream",
     "text": [
      "4995:\tlearn: 0.0504491\ttotal: 1m 5s\tremaining: 52.3ms\n",
      "4999:\tlearn: 0.0503814\ttotal: 1m 5s\tremaining: 0us\n",
      "fold Loss 18:  0.2254132658437365\n",
      "---------------------------------------------------------------------------\n",
      "Learning rate set to 0.002362\n",
      "0:\tlearn: 0.6916386\ttotal: 19.9ms\tremaining: 1m 39s\n",
      "999:\tlearn: 0.2530850\ttotal: 13.1s\tremaining: 52.3s\n",
      "1998:\tlearn: 0.1619162\ttotal: 26.3s\tremaining: 39.5s\n",
      "2997:\tlearn: 0.1117839\ttotal: 39.2s\tremaining: 26.2s\n",
      "3996:\tlearn: 0.0772587\ttotal: 52.3s\tremaining: 13.1s\n"
     ]
    },
    {
     "name": "stderr",
     "output_type": "stream",
     "text": [
      "20it [22:02, 66.11s/it]"
     ]
    },
    {
     "name": "stdout",
     "output_type": "stream",
     "text": [
      "4995:\tlearn: 0.0525101\ttotal: 1m 5s\tremaining: 52.3ms\n",
      "4999:\tlearn: 0.0524138\ttotal: 1m 5s\tremaining: 0us\n",
      "fold Loss 19:  0.1104559953886597\n",
      "---------------------------------------------------------------------------\n",
      "Training Loss: 0.05529599059524235\n",
      "Loss for phyllosilicate:\n",
      "0.21814312780363113 0.06991875019304108\n",
      "==================================================================================================\n",
      "TARGET  silicate\n"
     ]
    },
    {
     "name": "stderr",
     "output_type": "stream",
     "text": [
      "\n"
     ]
    },
    {
     "name": "stdout",
     "output_type": "stream",
     "text": [
      "0.3534976464333809\n"
     ]
    },
    {
     "name": "stderr",
     "output_type": "stream",
     "text": [
      "100%|██████████| 101/101 [00:00<00:00, 562582.61it/s]"
     ]
    },
    {
     "name": "stdout",
     "output_type": "stream",
     "text": [
      "9\n"
     ]
    },
    {
     "name": "stderr",
     "output_type": "stream",
     "text": [
      "\n"
     ]
    },
    {
     "name": "stdout",
     "output_type": "stream",
     "text": [
      "0.3713549963728804\n"
     ]
    },
    {
     "name": "stderr",
     "output_type": "stream",
     "text": [
      "100%|██████████| 300/300 [00:00<00:00, 606405.40it/s]"
     ]
    },
    {
     "name": "stdout",
     "output_type": "stream",
     "text": [
      "24\n"
     ]
    },
    {
     "name": "stderr",
     "output_type": "stream",
     "text": [
      "\n"
     ]
    },
    {
     "name": "stdout",
     "output_type": "stream",
     "text": [
      "0.3166059948021824\n"
     ]
    },
    {
     "name": "stderr",
     "output_type": "stream",
     "text": [
      "100%|██████████| 600/600 [00:00<00:00, 630248.53it/s]"
     ]
    },
    {
     "name": "stdout",
     "output_type": "stream",
     "text": [
      "46\n"
     ]
    },
    {
     "name": "stderr",
     "output_type": "stream",
     "text": [
      "\n"
     ]
    },
    {
     "name": "stdout",
     "output_type": "stream",
     "text": [
      "0.3258701365333991\n"
     ]
    },
    {
     "name": "stderr",
     "output_type": "stream",
     "text": [
      "100%|██████████| 400/400 [00:00<00:00, 785450.19it/s]\n"
     ]
    },
    {
     "name": "stdout",
     "output_type": "stream",
     "text": [
      "43\n",
      "(1059, 43) (1059, 9) (1059, 24) (1059, 46)\n",
      "(1059, 122)\n",
      "(804, 43) (804, 9) (804, 24) (804, 46)\n",
      "(804, 122)\n"
     ]
    },
    {
     "name": "stderr",
     "output_type": "stream",
     "text": [
      "0it [00:00, ?it/s]"
     ]
    },
    {
     "name": "stdout",
     "output_type": "stream",
     "text": [
      "Learning rate set to 0.002361\n",
      "0:\tlearn: 0.6906344\ttotal: 18.4ms\tremaining: 1m 31s\n",
      "999:\tlearn: 0.1673216\ttotal: 12.6s\tremaining: 50.3s\n",
      "1998:\tlearn: 0.1012107\ttotal: 25.1s\tremaining: 37.6s\n",
      "2997:\tlearn: 0.0693734\ttotal: 37.7s\tremaining: 25.1s\n",
      "3996:\tlearn: 0.0503253\ttotal: 49.9s\tremaining: 12.5s\n"
     ]
    },
    {
     "name": "stderr",
     "output_type": "stream",
     "text": [
      "1it [01:02, 62.95s/it]"
     ]
    },
    {
     "name": "stdout",
     "output_type": "stream",
     "text": [
      "4995:\tlearn: 0.0368420\ttotal: 1m 2s\tremaining: 50ms\n",
      "4999:\tlearn: 0.0367623\ttotal: 1m 2s\tremaining: 0us\n",
      "fold Loss 0:  0.19577806389113916\n",
      "---------------------------------------------------------------------------\n",
      "Learning rate set to 0.002361\n",
      "0:\tlearn: 0.6906040\ttotal: 18.9ms\tremaining: 1m 34s\n",
      "999:\tlearn: 0.1680928\ttotal: 12.7s\tremaining: 50.6s\n",
      "1998:\tlearn: 0.1033220\ttotal: 24.9s\tremaining: 37.5s\n",
      "2997:\tlearn: 0.0692090\ttotal: 37.4s\tremaining: 25s\n",
      "3996:\tlearn: 0.0499528\ttotal: 50.1s\tremaining: 12.6s\n"
     ]
    },
    {
     "name": "stderr",
     "output_type": "stream",
     "text": [
      "2it [02:06, 63.05s/it]"
     ]
    },
    {
     "name": "stdout",
     "output_type": "stream",
     "text": [
      "4995:\tlearn: 0.0355723\ttotal: 1m 2s\tremaining: 50.1ms\n",
      "4999:\tlearn: 0.0355310\ttotal: 1m 2s\tremaining: 0us\n",
      "fold Loss 1:  0.18964086522343596\n",
      "---------------------------------------------------------------------------\n",
      "Learning rate set to 0.002361\n",
      "0:\tlearn: 0.6905155\ttotal: 24.7ms\tremaining: 2m 3s\n",
      "999:\tlearn: 0.1642981\ttotal: 12.7s\tremaining: 50.9s\n",
      "1998:\tlearn: 0.1013815\ttotal: 25.1s\tremaining: 37.7s\n",
      "2997:\tlearn: 0.0682317\ttotal: 37.5s\tremaining: 25s\n",
      "3996:\tlearn: 0.0488843\ttotal: 50.3s\tremaining: 12.6s\n"
     ]
    },
    {
     "name": "stderr",
     "output_type": "stream",
     "text": [
      "3it [03:09, 63.10s/it]"
     ]
    },
    {
     "name": "stdout",
     "output_type": "stream",
     "text": [
      "4995:\tlearn: 0.0350155\ttotal: 1m 2s\tremaining: 50.1ms\n",
      "4999:\tlearn: 0.0349728\ttotal: 1m 2s\tremaining: 0us\n",
      "fold Loss 2:  0.2709175840745797\n",
      "---------------------------------------------------------------------------\n",
      "Learning rate set to 0.002361\n",
      "0:\tlearn: 0.6906742\ttotal: 19.2ms\tremaining: 1m 36s\n",
      "999:\tlearn: 0.1668294\ttotal: 12.5s\tremaining: 49.9s\n",
      "1998:\tlearn: 0.1044367\ttotal: 24.9s\tremaining: 37.4s\n",
      "2997:\tlearn: 0.0718104\ttotal: 37.2s\tremaining: 24.8s\n",
      "3996:\tlearn: 0.0525225\ttotal: 49.9s\tremaining: 12.5s\n"
     ]
    },
    {
     "name": "stderr",
     "output_type": "stream",
     "text": [
      "4it [04:12, 63.07s/it]"
     ]
    },
    {
     "name": "stdout",
     "output_type": "stream",
     "text": [
      "4995:\tlearn: 0.0375597\ttotal: 1m 2s\tremaining: 50ms\n",
      "4999:\tlearn: 0.0374838\ttotal: 1m 2s\tremaining: 0us\n",
      "fold Loss 3:  0.19796702179718098\n",
      "---------------------------------------------------------------------------\n",
      "Learning rate set to 0.002361\n",
      "0:\tlearn: 0.6907546\ttotal: 19.3ms\tremaining: 1m 36s\n",
      "999:\tlearn: 0.1688618\ttotal: 12.4s\tremaining: 49.5s\n",
      "1998:\tlearn: 0.1038578\ttotal: 24.9s\tremaining: 37.4s\n",
      "2997:\tlearn: 0.0699272\ttotal: 37.3s\tremaining: 24.9s\n",
      "3996:\tlearn: 0.0497170\ttotal: 50s\tremaining: 12.6s\n"
     ]
    },
    {
     "name": "stderr",
     "output_type": "stream",
     "text": [
      "5it [05:14, 62.94s/it]"
     ]
    },
    {
     "name": "stdout",
     "output_type": "stream",
     "text": [
      "4995:\tlearn: 0.0348120\ttotal: 1m 2s\tremaining: 49.8ms\n",
      "4999:\tlearn: 0.0347706\ttotal: 1m 2s\tremaining: 0us\n",
      "fold Loss 4:  0.18171657096263688\n",
      "---------------------------------------------------------------------------\n",
      "Learning rate set to 0.002361\n",
      "0:\tlearn: 0.6906653\ttotal: 24.1ms\tremaining: 2m\n",
      "999:\tlearn: 0.1664073\ttotal: 12.4s\tremaining: 49.8s\n",
      "1998:\tlearn: 0.1035213\ttotal: 25s\tremaining: 37.6s\n",
      "2997:\tlearn: 0.0696858\ttotal: 37.5s\tremaining: 25s\n",
      "3996:\tlearn: 0.0496820\ttotal: 50s\tremaining: 12.5s\n"
     ]
    },
    {
     "name": "stderr",
     "output_type": "stream",
     "text": [
      "6it [06:18, 63.04s/it]"
     ]
    },
    {
     "name": "stdout",
     "output_type": "stream",
     "text": [
      "4995:\tlearn: 0.0353929\ttotal: 1m 2s\tremaining: 50.2ms\n",
      "4999:\tlearn: 0.0353338\ttotal: 1m 2s\tremaining: 0us\n",
      "fold Loss 5:  0.2868014069470914\n",
      "---------------------------------------------------------------------------\n",
      "Learning rate set to 0.002361\n",
      "0:\tlearn: 0.6905221\ttotal: 19ms\tremaining: 1m 35s\n",
      "999:\tlearn: 0.1667299\ttotal: 12.3s\tremaining: 49.3s\n",
      "1998:\tlearn: 0.1032594\ttotal: 25s\tremaining: 37.5s\n",
      "2997:\tlearn: 0.0702028\ttotal: 37.5s\tremaining: 25s\n",
      "3996:\tlearn: 0.0500823\ttotal: 50.1s\tremaining: 12.6s\n"
     ]
    },
    {
     "name": "stderr",
     "output_type": "stream",
     "text": [
      "7it [07:21, 63.14s/it]"
     ]
    },
    {
     "name": "stdout",
     "output_type": "stream",
     "text": [
      "4995:\tlearn: 0.0358949\ttotal: 1m 2s\tremaining: 50.3ms\n",
      "4999:\tlearn: 0.0358353\ttotal: 1m 2s\tremaining: 0us\n",
      "fold Loss 6:  0.18949443313389708\n",
      "---------------------------------------------------------------------------\n",
      "Learning rate set to 0.002361\n",
      "0:\tlearn: 0.6907897\ttotal: 20ms\tremaining: 1m 39s\n",
      "999:\tlearn: 0.1696707\ttotal: 12.4s\tremaining: 49.6s\n",
      "1998:\tlearn: 0.1049602\ttotal: 24.8s\tremaining: 37.2s\n",
      "2997:\tlearn: 0.0705680\ttotal: 37.5s\tremaining: 25.1s\n",
      "3996:\tlearn: 0.0506707\ttotal: 49.8s\tremaining: 12.5s\n"
     ]
    },
    {
     "name": "stderr",
     "output_type": "stream",
     "text": [
      "8it [08:24, 63.10s/it]"
     ]
    },
    {
     "name": "stdout",
     "output_type": "stream",
     "text": [
      "4995:\tlearn: 0.0367131\ttotal: 1m 2s\tremaining: 50ms\n",
      "4999:\tlearn: 0.0366769\ttotal: 1m 2s\tremaining: 0us\n",
      "fold Loss 7:  0.1523402084811115\n",
      "---------------------------------------------------------------------------\n",
      "Learning rate set to 0.002361\n",
      "0:\tlearn: 0.6905803\ttotal: 24.1ms\tremaining: 2m\n",
      "999:\tlearn: 0.1725597\ttotal: 12.5s\tremaining: 49.9s\n",
      "1998:\tlearn: 0.1066932\ttotal: 24.8s\tremaining: 37.3s\n",
      "2997:\tlearn: 0.0713784\ttotal: 37.5s\tremaining: 25s\n",
      "3996:\tlearn: 0.0516508\ttotal: 49.9s\tremaining: 12.5s\n"
     ]
    },
    {
     "name": "stderr",
     "output_type": "stream",
     "text": [
      "9it [09:27, 63.01s/it]"
     ]
    },
    {
     "name": "stdout",
     "output_type": "stream",
     "text": [
      "4995:\tlearn: 0.0374630\ttotal: 1m 2s\tremaining: 49.8ms\n",
      "4999:\tlearn: 0.0374085\ttotal: 1m 2s\tremaining: 0us\n",
      "fold Loss 8:  0.0807573469344769\n",
      "---------------------------------------------------------------------------\n",
      "Learning rate set to 0.002361\n",
      "0:\tlearn: 0.6905137\ttotal: 19.1ms\tremaining: 1m 35s\n",
      "999:\tlearn: 0.1695216\ttotal: 12.6s\tremaining: 50.5s\n",
      "1998:\tlearn: 0.1042876\ttotal: 25.3s\tremaining: 38s\n",
      "2997:\tlearn: 0.0698406\ttotal: 37.9s\tremaining: 25.3s\n",
      "3996:\tlearn: 0.0497741\ttotal: 50.2s\tremaining: 12.6s\n"
     ]
    },
    {
     "name": "stderr",
     "output_type": "stream",
     "text": [
      "10it [10:30, 63.05s/it]"
     ]
    },
    {
     "name": "stdout",
     "output_type": "stream",
     "text": [
      "4995:\tlearn: 0.0350033\ttotal: 1m 2s\tremaining: 50.1ms\n",
      "4999:\tlearn: 0.0349804\ttotal: 1m 2s\tremaining: 0us\n",
      "fold Loss 9:  0.17211516680032588\n",
      "---------------------------------------------------------------------------\n",
      "Learning rate set to 0.002361\n",
      "0:\tlearn: 0.6908241\ttotal: 19ms\tremaining: 1m 35s\n",
      "999:\tlearn: 0.1706132\ttotal: 12.5s\tremaining: 50.1s\n",
      "1998:\tlearn: 0.1042606\ttotal: 24.9s\tremaining: 37.3s\n",
      "2997:\tlearn: 0.0731948\ttotal: 37.4s\tremaining: 25s\n",
      "3996:\tlearn: 0.0546331\ttotal: 50s\tremaining: 12.6s\n"
     ]
    },
    {
     "name": "stderr",
     "output_type": "stream",
     "text": [
      "11it [11:33, 63.00s/it]"
     ]
    },
    {
     "name": "stdout",
     "output_type": "stream",
     "text": [
      "4995:\tlearn: 0.0397034\ttotal: 1m 2s\tremaining: 49.9ms\n",
      "4999:\tlearn: 0.0396590\ttotal: 1m 2s\tremaining: 0us\n",
      "fold Loss 10:  0.10939795093473598\n",
      "---------------------------------------------------------------------------\n",
      "Learning rate set to 0.002361\n",
      "0:\tlearn: 0.6907464\ttotal: 24.5ms\tremaining: 2m 2s\n",
      "999:\tlearn: 0.1650090\ttotal: 12.7s\tremaining: 50.8s\n",
      "1998:\tlearn: 0.1004855\ttotal: 25s\tremaining: 37.5s\n",
      "2997:\tlearn: 0.0664198\ttotal: 37.5s\tremaining: 25s\n",
      "3996:\tlearn: 0.0456046\ttotal: 50.2s\tremaining: 12.6s\n"
     ]
    },
    {
     "name": "stderr",
     "output_type": "stream",
     "text": [
      "12it [12:36, 63.04s/it]"
     ]
    },
    {
     "name": "stdout",
     "output_type": "stream",
     "text": [
      "4995:\tlearn: 0.0318107\ttotal: 1m 2s\tremaining: 50.1ms\n",
      "4999:\tlearn: 0.0317604\ttotal: 1m 2s\tremaining: 0us\n",
      "fold Loss 11:  0.23663414164152485\n",
      "---------------------------------------------------------------------------\n",
      "Learning rate set to 0.002361\n",
      "0:\tlearn: 0.6910542\ttotal: 19ms\tremaining: 1m 35s\n",
      "999:\tlearn: 0.1717442\ttotal: 12.5s\tremaining: 50.1s\n",
      "1998:\tlearn: 0.1068401\ttotal: 25.4s\tremaining: 38.1s\n",
      "2997:\tlearn: 0.0720267\ttotal: 37.7s\tremaining: 25.2s\n",
      "3996:\tlearn: 0.0516856\ttotal: 50.3s\tremaining: 12.6s\n"
     ]
    },
    {
     "name": "stderr",
     "output_type": "stream",
     "text": [
      "13it [13:39, 63.12s/it]"
     ]
    },
    {
     "name": "stdout",
     "output_type": "stream",
     "text": [
      "4995:\tlearn: 0.0364873\ttotal: 1m 2s\tremaining: 50.2ms\n",
      "4999:\tlearn: 0.0364610\ttotal: 1m 2s\tremaining: 0us\n",
      "fold Loss 12:  0.12404133702136645\n",
      "---------------------------------------------------------------------------\n",
      "Learning rate set to 0.002361\n",
      "0:\tlearn: 0.6903770\ttotal: 18.8ms\tremaining: 1m 34s\n",
      "999:\tlearn: 0.1664257\ttotal: 12.6s\tremaining: 50.5s\n",
      "1998:\tlearn: 0.1021448\ttotal: 25.2s\tremaining: 37.9s\n",
      "2997:\tlearn: 0.0687292\ttotal: 37.7s\tremaining: 25.2s\n",
      "3996:\tlearn: 0.0493382\ttotal: 50.4s\tremaining: 12.6s\n"
     ]
    },
    {
     "name": "stderr",
     "output_type": "stream",
     "text": [
      "14it [14:43, 63.16s/it]"
     ]
    },
    {
     "name": "stdout",
     "output_type": "stream",
     "text": [
      "4995:\tlearn: 0.0358104\ttotal: 1m 2s\tremaining: 50.2ms\n",
      "4999:\tlearn: 0.0357663\ttotal: 1m 2s\tremaining: 0us\n",
      "fold Loss 13:  0.175203932004284\n",
      "---------------------------------------------------------------------------\n",
      "Learning rate set to 0.002361\n",
      "0:\tlearn: 0.6908472\ttotal: 23.9ms\tremaining: 1m 59s\n",
      "999:\tlearn: 0.1688278\ttotal: 12.7s\tremaining: 51s\n",
      "1998:\tlearn: 0.1053895\ttotal: 25.4s\tremaining: 38.1s\n",
      "2997:\tlearn: 0.0710746\ttotal: 37.8s\tremaining: 25.2s\n",
      "3996:\tlearn: 0.0510839\ttotal: 50.3s\tremaining: 12.6s\n"
     ]
    },
    {
     "name": "stderr",
     "output_type": "stream",
     "text": [
      "15it [15:46, 63.23s/it]"
     ]
    },
    {
     "name": "stdout",
     "output_type": "stream",
     "text": [
      "4995:\tlearn: 0.0363382\ttotal: 1m 2s\tremaining: 50.3ms\n",
      "4999:\tlearn: 0.0362813\ttotal: 1m 2s\tremaining: 0us\n",
      "fold Loss 14:  0.13539836374209885\n",
      "---------------------------------------------------------------------------\n",
      "Learning rate set to 0.002361\n",
      "0:\tlearn: 0.6906686\ttotal: 19.8ms\tremaining: 1m 39s\n",
      "999:\tlearn: 0.1713684\ttotal: 12.3s\tremaining: 49.2s\n",
      "1998:\tlearn: 0.1063409\ttotal: 25s\tremaining: 37.5s\n",
      "2997:\tlearn: 0.0710557\ttotal: 37.3s\tremaining: 24.9s\n",
      "3996:\tlearn: 0.0510886\ttotal: 50.1s\tremaining: 12.6s\n"
     ]
    },
    {
     "name": "stderr",
     "output_type": "stream",
     "text": [
      "16it [16:50, 63.42s/it]"
     ]
    },
    {
     "name": "stdout",
     "output_type": "stream",
     "text": [
      "4995:\tlearn: 0.0362961\ttotal: 1m 3s\tremaining: 50.7ms\n",
      "4999:\tlearn: 0.0362611\ttotal: 1m 3s\tremaining: 0us\n",
      "fold Loss 15:  0.11735452513770703\n",
      "---------------------------------------------------------------------------\n",
      "Learning rate set to 0.002361\n",
      "0:\tlearn: 0.6906115\ttotal: 19.8ms\tremaining: 1m 39s\n",
      "999:\tlearn: 0.1719508\ttotal: 12.5s\tremaining: 49.8s\n",
      "1998:\tlearn: 0.1071853\ttotal: 25.2s\tremaining: 37.8s\n",
      "2997:\tlearn: 0.0725775\ttotal: 37.7s\tremaining: 25.2s\n",
      "3996:\tlearn: 0.0511596\ttotal: 50.2s\tremaining: 12.6s\n"
     ]
    },
    {
     "name": "stderr",
     "output_type": "stream",
     "text": [
      "17it [17:53, 63.46s/it]"
     ]
    },
    {
     "name": "stdout",
     "output_type": "stream",
     "text": [
      "4995:\tlearn: 0.0356853\ttotal: 1m 3s\tremaining: 50.5ms\n",
      "4999:\tlearn: 0.0356316\ttotal: 1m 3s\tremaining: 0us\n",
      "fold Loss 16:  0.08302053612544696\n",
      "---------------------------------------------------------------------------\n",
      "Learning rate set to 0.002361\n",
      "0:\tlearn: 0.6910196\ttotal: 25.2ms\tremaining: 2m 5s\n",
      "999:\tlearn: 0.1681925\ttotal: 12.5s\tremaining: 50s\n",
      "1998:\tlearn: 0.1032098\ttotal: 24.8s\tremaining: 37.3s\n",
      "2997:\tlearn: 0.0684747\ttotal: 37.4s\tremaining: 25s\n",
      "3996:\tlearn: 0.0484417\ttotal: 49.8s\tremaining: 12.5s\n"
     ]
    },
    {
     "name": "stderr",
     "output_type": "stream",
     "text": [
      "18it [18:56, 63.33s/it]"
     ]
    },
    {
     "name": "stdout",
     "output_type": "stream",
     "text": [
      "4995:\tlearn: 0.0342517\ttotal: 1m 2s\tremaining: 50ms\n",
      "4999:\tlearn: 0.0342080\ttotal: 1m 2s\tremaining: 0us\n",
      "fold Loss 17:  0.19879371544846872\n",
      "---------------------------------------------------------------------------\n",
      "Learning rate set to 0.002361\n",
      "0:\tlearn: 0.6905461\ttotal: 18.9ms\tremaining: 1m 34s\n",
      "999:\tlearn: 0.1701483\ttotal: 12.2s\tremaining: 48.8s\n",
      "1998:\tlearn: 0.1059134\ttotal: 24.7s\tremaining: 37s\n",
      "2997:\tlearn: 0.0709618\ttotal: 37.1s\tremaining: 24.8s\n",
      "3996:\tlearn: 0.0509786\ttotal: 49.4s\tremaining: 12.4s\n"
     ]
    },
    {
     "name": "stderr",
     "output_type": "stream",
     "text": [
      "19it [19:59, 63.07s/it]"
     ]
    },
    {
     "name": "stdout",
     "output_type": "stream",
     "text": [
      "4995:\tlearn: 0.0365063\ttotal: 1m 1s\tremaining: 49.6ms\n",
      "4999:\tlearn: 0.0364515\ttotal: 1m 1s\tremaining: 0us\n",
      "fold Loss 18:  0.09230454801323783\n",
      "---------------------------------------------------------------------------\n",
      "Learning rate set to 0.002362\n",
      "0:\tlearn: 0.6905028\ttotal: 19.8ms\tremaining: 1m 38s\n",
      "999:\tlearn: 0.1652123\ttotal: 12.5s\tremaining: 49.9s\n",
      "1998:\tlearn: 0.1007030\ttotal: 24.7s\tremaining: 37.1s\n",
      "2997:\tlearn: 0.0673903\ttotal: 37.4s\tremaining: 25s\n",
      "3996:\tlearn: 0.0463087\ttotal: 49.7s\tremaining: 12.5s\n"
     ]
    },
    {
     "name": "stderr",
     "output_type": "stream",
     "text": [
      "20it [21:01, 63.10s/it]"
     ]
    },
    {
     "name": "stdout",
     "output_type": "stream",
     "text": [
      "4995:\tlearn: 0.0329690\ttotal: 1m 1s\tremaining: 49.6ms\n",
      "4999:\tlearn: 0.0329273\ttotal: 1m 2s\tremaining: 0us\n",
      "fold Loss 19:  0.2597751698896784\n",
      "---------------------------------------------------------------------------\n",
      "Training Loss: 0.044091316763643716\n",
      "Loss for silicate:\n",
      "0.17247264441022123 0.05960136927120847\n",
      "==================================================================================================\n",
      "TARGET  sulfate\n"
     ]
    },
    {
     "name": "stderr",
     "output_type": "stream",
     "text": [
      "\n"
     ]
    },
    {
     "name": "stdout",
     "output_type": "stream",
     "text": [
      "0.4502191143871136\n"
     ]
    },
    {
     "name": "stderr",
     "output_type": "stream",
     "text": [
      "100%|██████████| 101/101 [00:00<00:00, 470694.12it/s]"
     ]
    },
    {
     "name": "stdout",
     "output_type": "stream",
     "text": [
      "10\n"
     ]
    },
    {
     "name": "stderr",
     "output_type": "stream",
     "text": [
      "\n"
     ]
    },
    {
     "name": "stdout",
     "output_type": "stream",
     "text": [
      "0.33343585591047037\n"
     ]
    },
    {
     "name": "stderr",
     "output_type": "stream",
     "text": [
      "100%|██████████| 300/300 [00:00<00:00, 782033.06it/s]\n"
     ]
    },
    {
     "name": "stdout",
     "output_type": "stream",
     "text": [
      "24\n",
      "0.33305441447409295\n"
     ]
    },
    {
     "name": "stderr",
     "output_type": "stream",
     "text": [
      "100%|██████████| 600/600 [00:00<00:00, 851635.33it/s]\n"
     ]
    },
    {
     "name": "stdout",
     "output_type": "stream",
     "text": [
      "36\n",
      "0.3326525443896419\n"
     ]
    },
    {
     "name": "stderr",
     "output_type": "stream",
     "text": [
      "100%|██████████| 400/400 [00:00<00:00, 778886.54it/s]\n"
     ]
    },
    {
     "name": "stdout",
     "output_type": "stream",
     "text": [
      "30\n",
      "(1059, 30) (1059, 10) (1059, 24) (1059, 36)\n",
      "(1059, 100)\n",
      "(804, 30) (804, 10) (804, 24) (804, 36)\n",
      "(804, 100)\n"
     ]
    },
    {
     "name": "stderr",
     "output_type": "stream",
     "text": [
      "0it [00:00, ?it/s]"
     ]
    },
    {
     "name": "stdout",
     "output_type": "stream",
     "text": [
      "Learning rate set to 0.002361\n",
      "0:\tlearn: 0.6903192\ttotal: 15.8ms\tremaining: 1m 19s\n",
      "999:\tlearn: 0.1409001\ttotal: 10.2s\tremaining: 40.7s\n",
      "1998:\tlearn: 0.0832183\ttotal: 21s\tremaining: 31.5s\n",
      "2997:\tlearn: 0.0547310\ttotal: 31.2s\tremaining: 20.8s\n",
      "3996:\tlearn: 0.0376103\ttotal: 41.4s\tremaining: 10.4s\n"
     ]
    },
    {
     "name": "stderr",
     "output_type": "stream",
     "text": [
      "1it [00:52, 52.49s/it]"
     ]
    },
    {
     "name": "stdout",
     "output_type": "stream",
     "text": [
      "4995:\tlearn: 0.0262329\ttotal: 52s\tremaining: 41.6ms\n",
      "4999:\tlearn: 0.0261914\ttotal: 52s\tremaining: 0us\n",
      "fold Loss 0:  0.15797973571693513\n",
      "---------------------------------------------------------------------------\n",
      "Learning rate set to 0.002361\n",
      "0:\tlearn: 0.6901446\ttotal: 15.7ms\tremaining: 1m 18s\n",
      "999:\tlearn: 0.1419873\ttotal: 10.1s\tremaining: 40.5s\n",
      "1998:\tlearn: 0.0838055\ttotal: 20.3s\tremaining: 30.5s\n",
      "2997:\tlearn: 0.0559967\ttotal: 30.9s\tremaining: 20.6s\n",
      "3996:\tlearn: 0.0388051\ttotal: 41.1s\tremaining: 10.3s\n"
     ]
    },
    {
     "name": "stderr",
     "output_type": "stream",
     "text": [
      "2it [01:44, 52.11s/it]"
     ]
    },
    {
     "name": "stdout",
     "output_type": "stream",
     "text": [
      "4995:\tlearn: 0.0275428\ttotal: 51.4s\tremaining: 41.1ms\n",
      "4999:\tlearn: 0.0275243\ttotal: 51.4s\tremaining: 0us\n",
      "fold Loss 1:  0.1307688160509236\n",
      "---------------------------------------------------------------------------\n",
      "Learning rate set to 0.002361\n",
      "0:\tlearn: 0.6907150\ttotal: 20.5ms\tremaining: 1m 42s\n",
      "999:\tlearn: 0.1432681\ttotal: 10.6s\tremaining: 42.3s\n",
      "1998:\tlearn: 0.0850841\ttotal: 20.7s\tremaining: 31s\n",
      "2997:\tlearn: 0.0560477\ttotal: 30.8s\tremaining: 20.6s\n",
      "3996:\tlearn: 0.0381826\ttotal: 41.4s\tremaining: 10.4s\n"
     ]
    },
    {
     "name": "stderr",
     "output_type": "stream",
     "text": [
      "3it [02:36, 52.09s/it]"
     ]
    },
    {
     "name": "stdout",
     "output_type": "stream",
     "text": [
      "4995:\tlearn: 0.0267849\ttotal: 51.5s\tremaining: 41.3ms\n",
      "4999:\tlearn: 0.0267378\ttotal: 51.6s\tremaining: 0us\n",
      "fold Loss 2:  0.20441949889862485\n",
      "---------------------------------------------------------------------------\n",
      "Learning rate set to 0.002361\n",
      "0:\tlearn: 0.6901635\ttotal: 15.4ms\tremaining: 1m 17s\n",
      "999:\tlearn: 0.1310682\ttotal: 10.2s\tremaining: 40.6s\n",
      "1998:\tlearn: 0.0738165\ttotal: 20.5s\tremaining: 30.8s\n",
      "2997:\tlearn: 0.0474097\ttotal: 30.8s\tremaining: 20.6s\n",
      "3996:\tlearn: 0.0319421\ttotal: 41.1s\tremaining: 10.3s\n"
     ]
    },
    {
     "name": "stderr",
     "output_type": "stream",
     "text": [
      "4it [03:28, 51.99s/it]"
     ]
    },
    {
     "name": "stdout",
     "output_type": "stream",
     "text": [
      "4995:\tlearn: 0.0225498\ttotal: 51.4s\tremaining: 41.1ms\n",
      "4999:\tlearn: 0.0225230\ttotal: 51.4s\tremaining: 0us\n",
      "fold Loss 3:  0.535544697434967\n",
      "---------------------------------------------------------------------------\n",
      "Learning rate set to 0.002361\n",
      "0:\tlearn: 0.6903254\ttotal: 15.7ms\tremaining: 1m 18s\n",
      "999:\tlearn: 0.1419622\ttotal: 10.4s\tremaining: 41.5s\n",
      "1998:\tlearn: 0.0836329\ttotal: 20.5s\tremaining: 30.8s\n",
      "2997:\tlearn: 0.0551984\ttotal: 30.7s\tremaining: 20.5s\n",
      "3996:\tlearn: 0.0391465\ttotal: 41.1s\tremaining: 10.3s\n"
     ]
    },
    {
     "name": "stderr",
     "output_type": "stream",
     "text": [
      "5it [04:20, 51.91s/it]"
     ]
    },
    {
     "name": "stdout",
     "output_type": "stream",
     "text": [
      "4995:\tlearn: 0.0282204\ttotal: 51.3s\tremaining: 41ms\n",
      "4999:\tlearn: 0.0281853\ttotal: 51.3s\tremaining: 0us\n",
      "fold Loss 4:  0.19951278871678657\n",
      "---------------------------------------------------------------------------\n",
      "Learning rate set to 0.002361\n",
      "0:\tlearn: 0.6902733\ttotal: 20.5ms\tremaining: 1m 42s\n",
      "999:\tlearn: 0.1416740\ttotal: 10.4s\tremaining: 41.5s\n",
      "1998:\tlearn: 0.0829265\ttotal: 20.7s\tremaining: 31.1s\n",
      "2997:\tlearn: 0.0541372\ttotal: 30.9s\tremaining: 20.6s\n",
      "3996:\tlearn: 0.0374331\ttotal: 41.1s\tremaining: 10.3s\n"
     ]
    },
    {
     "name": "stderr",
     "output_type": "stream",
     "text": [
      "6it [05:12, 52.00s/it]"
     ]
    },
    {
     "name": "stdout",
     "output_type": "stream",
     "text": [
      "4995:\tlearn: 0.0267364\ttotal: 51.7s\tremaining: 41.4ms\n",
      "4999:\tlearn: 0.0267136\ttotal: 51.7s\tremaining: 0us\n",
      "fold Loss 5:  0.18690176279096346\n",
      "---------------------------------------------------------------------------\n",
      "Learning rate set to 0.002361\n",
      "0:\tlearn: 0.6903203\ttotal: 15.8ms\tremaining: 1m 19s\n",
      "999:\tlearn: 0.1383620\ttotal: 10.2s\tremaining: 40.9s\n",
      "1998:\tlearn: 0.0805631\ttotal: 20.8s\tremaining: 31.2s\n",
      "2997:\tlearn: 0.0525351\ttotal: 31.1s\tremaining: 20.8s\n",
      "3996:\tlearn: 0.0358954\ttotal: 41.3s\tremaining: 10.4s\n"
     ]
    },
    {
     "name": "stderr",
     "output_type": "stream",
     "text": [
      "7it [06:04, 52.03s/it]"
     ]
    },
    {
     "name": "stdout",
     "output_type": "stream",
     "text": [
      "4995:\tlearn: 0.0252595\ttotal: 51.6s\tremaining: 41.3ms\n",
      "4999:\tlearn: 0.0252336\ttotal: 51.6s\tremaining: 0us\n",
      "fold Loss 6:  0.27347801175953934\n",
      "---------------------------------------------------------------------------\n",
      "Learning rate set to 0.002361\n",
      "0:\tlearn: 0.6902304\ttotal: 15.3ms\tremaining: 1m 16s\n",
      "999:\tlearn: 0.1445583\ttotal: 10.4s\tremaining: 41.6s\n",
      "1998:\tlearn: 0.0861800\ttotal: 20.6s\tremaining: 30.9s\n",
      "2997:\tlearn: 0.0569892\ttotal: 30.8s\tremaining: 20.6s\n",
      "3996:\tlearn: 0.0394971\ttotal: 40.9s\tremaining: 10.3s\n"
     ]
    },
    {
     "name": "stderr",
     "output_type": "stream",
     "text": [
      "8it [06:56, 51.97s/it]"
     ]
    },
    {
     "name": "stdout",
     "output_type": "stream",
     "text": [
      "4995:\tlearn: 0.0280767\ttotal: 51.3s\tremaining: 41.1ms\n",
      "4999:\tlearn: 0.0280372\ttotal: 51.4s\tremaining: 0us\n",
      "fold Loss 7:  0.09143807841865997\n",
      "---------------------------------------------------------------------------\n",
      "Learning rate set to 0.002361\n",
      "0:\tlearn: 0.6903554\ttotal: 19.8ms\tremaining: 1m 39s\n",
      "999:\tlearn: 0.1423021\ttotal: 10.3s\tremaining: 41.2s\n",
      "1998:\tlearn: 0.0828584\ttotal: 20.5s\tremaining: 30.8s\n",
      "2997:\tlearn: 0.0542107\ttotal: 30.8s\tremaining: 20.6s\n",
      "3996:\tlearn: 0.0371328\ttotal: 41.1s\tremaining: 10.3s\n"
     ]
    },
    {
     "name": "stderr",
     "output_type": "stream",
     "text": [
      "9it [07:47, 51.87s/it]"
     ]
    },
    {
     "name": "stdout",
     "output_type": "stream",
     "text": [
      "4995:\tlearn: 0.0259650\ttotal: 51.1s\tremaining: 41ms\n",
      "4999:\tlearn: 0.0259200\ttotal: 51.2s\tremaining: 0us\n",
      "fold Loss 8:  0.14954778058046725\n",
      "---------------------------------------------------------------------------\n",
      "Learning rate set to 0.002361\n",
      "0:\tlearn: 0.6901196\ttotal: 15.2ms\tremaining: 1m 15s\n",
      "999:\tlearn: 0.1431720\ttotal: 10.1s\tremaining: 40.5s\n",
      "1998:\tlearn: 0.0867394\ttotal: 20.6s\tremaining: 31s\n",
      "2997:\tlearn: 0.0576450\ttotal: 30.8s\tremaining: 20.6s\n",
      "3996:\tlearn: 0.0395280\ttotal: 40.9s\tremaining: 10.3s\n"
     ]
    },
    {
     "name": "stderr",
     "output_type": "stream",
     "text": [
      "10it [08:39, 51.90s/it]"
     ]
    },
    {
     "name": "stdout",
     "output_type": "stream",
     "text": [
      "4995:\tlearn: 0.0274693\ttotal: 51.5s\tremaining: 41.2ms\n",
      "4999:\tlearn: 0.0274309\ttotal: 51.5s\tremaining: 0us\n",
      "fold Loss 9:  0.09115759338353949\n",
      "---------------------------------------------------------------------------\n",
      "Learning rate set to 0.002361\n",
      "0:\tlearn: 0.6907126\ttotal: 15.6ms\tremaining: 1m 18s\n",
      "999:\tlearn: 0.1450893\ttotal: 10.1s\tremaining: 40.6s\n",
      "1998:\tlearn: 0.0860692\ttotal: 20.2s\tremaining: 30.3s\n",
      "2997:\tlearn: 0.0561082\ttotal: 30.8s\tremaining: 20.6s\n",
      "3996:\tlearn: 0.0387558\ttotal: 40.9s\tremaining: 10.3s\n"
     ]
    },
    {
     "name": "stderr",
     "output_type": "stream",
     "text": [
      "11it [09:31, 51.76s/it]"
     ]
    },
    {
     "name": "stdout",
     "output_type": "stream",
     "text": [
      "4995:\tlearn: 0.0277506\ttotal: 51s\tremaining: 40.8ms\n",
      "4999:\tlearn: 0.0277177\ttotal: 51s\tremaining: 0us\n",
      "fold Loss 10:  0.1095475117495194\n",
      "---------------------------------------------------------------------------\n",
      "Learning rate set to 0.002361\n",
      "0:\tlearn: 0.6904754\ttotal: 19.8ms\tremaining: 1m 38s\n",
      "999:\tlearn: 0.1418427\ttotal: 10.6s\tremaining: 42.3s\n",
      "1998:\tlearn: 0.0842902\ttotal: 20.8s\tremaining: 31.2s\n",
      "2997:\tlearn: 0.0561600\ttotal: 30.9s\tremaining: 20.6s\n",
      "3996:\tlearn: 0.0391321\ttotal: 41.4s\tremaining: 10.4s\n"
     ]
    },
    {
     "name": "stderr",
     "output_type": "stream",
     "text": [
      "12it [10:23, 51.85s/it]"
     ]
    },
    {
     "name": "stdout",
     "output_type": "stream",
     "text": [
      "4995:\tlearn: 0.0277822\ttotal: 51.5s\tremaining: 41.3ms\n",
      "4999:\tlearn: 0.0277378\ttotal: 51.6s\tremaining: 0us\n",
      "fold Loss 11:  0.11456743431467062\n",
      "---------------------------------------------------------------------------\n",
      "Learning rate set to 0.002361\n",
      "0:\tlearn: 0.6902042\ttotal: 15.3ms\tremaining: 1m 16s\n",
      "999:\tlearn: 0.1454494\ttotal: 10.3s\tremaining: 41.3s\n",
      "1998:\tlearn: 0.0860378\ttotal: 20.7s\tremaining: 31.1s\n",
      "2997:\tlearn: 0.0569670\ttotal: 31s\tremaining: 20.7s\n",
      "3996:\tlearn: 0.0392590\ttotal: 41.1s\tremaining: 10.3s\n"
     ]
    },
    {
     "name": "stderr",
     "output_type": "stream",
     "text": [
      "13it [11:15, 51.89s/it]"
     ]
    },
    {
     "name": "stdout",
     "output_type": "stream",
     "text": [
      "4995:\tlearn: 0.0277924\ttotal: 51.5s\tremaining: 41.2ms\n",
      "4999:\tlearn: 0.0277616\ttotal: 51.5s\tremaining: 0us\n",
      "fold Loss 12:  0.050231926825543075\n",
      "---------------------------------------------------------------------------\n",
      "Learning rate set to 0.002361\n",
      "0:\tlearn: 0.6901853\ttotal: 15.3ms\tremaining: 1m 16s\n",
      "999:\tlearn: 0.1353587\ttotal: 10.3s\tremaining: 41.4s\n",
      "1998:\tlearn: 0.0780613\ttotal: 20.4s\tremaining: 30.6s\n",
      "2997:\tlearn: 0.0503326\ttotal: 30.6s\tremaining: 20.4s\n",
      "3996:\tlearn: 0.0337664\ttotal: 40.9s\tremaining: 10.3s\n"
     ]
    },
    {
     "name": "stderr",
     "output_type": "stream",
     "text": [
      "14it [12:06, 51.76s/it]"
     ]
    },
    {
     "name": "stdout",
     "output_type": "stream",
     "text": [
      "4995:\tlearn: 0.0234973\ttotal: 51s\tremaining: 40.8ms\n",
      "4999:\tlearn: 0.0234654\ttotal: 51s\tremaining: 0us\n",
      "fold Loss 13:  0.35553881514549385\n",
      "---------------------------------------------------------------------------\n",
      "Learning rate set to 0.002361\n",
      "0:\tlearn: 0.6905990\ttotal: 19.5ms\tremaining: 1m 37s\n",
      "999:\tlearn: 0.1416807\ttotal: 10.4s\tremaining: 41.4s\n",
      "1998:\tlearn: 0.0846398\ttotal: 20.7s\tremaining: 31s\n",
      "2997:\tlearn: 0.0560085\ttotal: 31.1s\tremaining: 20.8s\n",
      "3996:\tlearn: 0.0388417\ttotal: 41.5s\tremaining: 10.4s\n"
     ]
    },
    {
     "name": "stderr",
     "output_type": "stream",
     "text": [
      "15it [12:58, 51.89s/it]"
     ]
    },
    {
     "name": "stdout",
     "output_type": "stream",
     "text": [
      "4995:\tlearn: 0.0271669\ttotal: 51.7s\tremaining: 41.4ms\n",
      "4999:\tlearn: 0.0271310\ttotal: 51.7s\tremaining: 0us\n",
      "fold Loss 14:  0.1633477082040475\n",
      "---------------------------------------------------------------------------\n",
      "Learning rate set to 0.002361\n",
      "0:\tlearn: 0.6903627\ttotal: 16.2ms\tremaining: 1m 20s\n",
      "999:\tlearn: 0.1403424\ttotal: 10.7s\tremaining: 43s\n",
      "1998:\tlearn: 0.0813568\ttotal: 21.3s\tremaining: 32s\n",
      "2997:\tlearn: 0.0531571\ttotal: 31.8s\tremaining: 21.2s\n",
      "3996:\tlearn: 0.0368567\ttotal: 42.6s\tremaining: 10.7s\n"
     ]
    },
    {
     "name": "stderr",
     "output_type": "stream",
     "text": [
      "16it [13:52, 52.56s/it]"
     ]
    },
    {
     "name": "stdout",
     "output_type": "stream",
     "text": [
      "4995:\tlearn: 0.0260218\ttotal: 53.6s\tremaining: 42.9ms\n",
      "4999:\tlearn: 0.0259778\ttotal: 53.6s\tremaining: 0us\n",
      "fold Loss 15:  0.18085524422906082\n",
      "---------------------------------------------------------------------------\n",
      "Learning rate set to 0.002361\n",
      "0:\tlearn: 0.6904810\ttotal: 15.9ms\tremaining: 1m 19s\n",
      "999:\tlearn: 0.1440450\ttotal: 10.6s\tremaining: 42.4s\n",
      "1998:\tlearn: 0.0857278\ttotal: 21.5s\tremaining: 32.2s\n",
      "2997:\tlearn: 0.0568081\ttotal: 32.1s\tremaining: 21.4s\n",
      "3996:\tlearn: 0.0391405\ttotal: 42.7s\tremaining: 10.7s\n"
     ]
    },
    {
     "name": "stderr",
     "output_type": "stream",
     "text": [
      "17it [14:47, 53.01s/it]"
     ]
    },
    {
     "name": "stdout",
     "output_type": "stream",
     "text": [
      "4995:\tlearn: 0.0278313\ttotal: 53.5s\tremaining: 42.8ms\n",
      "4999:\tlearn: 0.0278111\ttotal: 53.5s\tremaining: 0us\n",
      "fold Loss 16:  0.11942561087125952\n",
      "---------------------------------------------------------------------------\n",
      "Learning rate set to 0.002361\n",
      "0:\tlearn: 0.6904633\ttotal: 22ms\tremaining: 1m 49s\n",
      "999:\tlearn: 0.1407861\ttotal: 10.7s\tremaining: 42.7s\n",
      "1998:\tlearn: 0.0836393\ttotal: 21.2s\tremaining: 31.8s\n",
      "2997:\tlearn: 0.0550615\ttotal: 32.2s\tremaining: 21.5s\n",
      "3996:\tlearn: 0.0378006\ttotal: 43.2s\tremaining: 10.8s\n"
     ]
    },
    {
     "name": "stderr",
     "output_type": "stream",
     "text": [
      "18it [15:41, 53.46s/it]"
     ]
    },
    {
     "name": "stdout",
     "output_type": "stream",
     "text": [
      "4995:\tlearn: 0.0263927\ttotal: 53.9s\tremaining: 43.2ms\n",
      "4999:\tlearn: 0.0263773\ttotal: 54s\tremaining: 0us\n",
      "fold Loss 17:  0.18891624019301606\n",
      "---------------------------------------------------------------------------\n",
      "Learning rate set to 0.002361\n",
      "0:\tlearn: 0.6905532\ttotal: 16.8ms\tremaining: 1m 24s\n",
      "999:\tlearn: 0.1418507\ttotal: 11s\tremaining: 44.1s\n",
      "1998:\tlearn: 0.0842527\ttotal: 21.8s\tremaining: 32.7s\n",
      "2997:\tlearn: 0.0547665\ttotal: 32s\tremaining: 21.3s\n",
      "3996:\tlearn: 0.0365398\ttotal: 42.6s\tremaining: 10.7s\n"
     ]
    },
    {
     "name": "stderr",
     "output_type": "stream",
     "text": [
      "19it [16:35, 53.51s/it]"
     ]
    },
    {
     "name": "stdout",
     "output_type": "stream",
     "text": [
      "4995:\tlearn: 0.0256957\ttotal: 53.1s\tremaining: 42.5ms\n",
      "4999:\tlearn: 0.0256588\ttotal: 53.1s\tremaining: 0us\n",
      "fold Loss 18:  0.1293991844888149\n",
      "---------------------------------------------------------------------------\n",
      "Learning rate set to 0.002362\n",
      "0:\tlearn: 0.6903609\ttotal: 16ms\tremaining: 1m 19s\n",
      "999:\tlearn: 0.1436363\ttotal: 10.2s\tremaining: 40.7s\n",
      "1998:\tlearn: 0.0842911\ttotal: 20.5s\tremaining: 30.7s\n",
      "2997:\tlearn: 0.0557575\ttotal: 31.1s\tremaining: 20.8s\n",
      "3996:\tlearn: 0.0381085\ttotal: 41.3s\tremaining: 10.4s\n"
     ]
    },
    {
     "name": "stderr",
     "output_type": "stream",
     "text": [
      "20it [17:27, 52.35s/it]"
     ]
    },
    {
     "name": "stdout",
     "output_type": "stream",
     "text": [
      "4995:\tlearn: 0.0258355\ttotal: 51.4s\tremaining: 41.1ms\n",
      "4999:\tlearn: 0.0257999\ttotal: 51.4s\tremaining: 0us\n",
      "fold Loss 19:  0.0973712165909319\n",
      "---------------------------------------------------------------------------\n",
      "Training Loss: 0.029334076442953237\n",
      "Loss for sulfate:\n",
      "0.1764974828181882 0.10625793766645979\n",
      "==================================================================================================\n",
      "TARGET  sulfide\n"
     ]
    },
    {
     "name": "stderr",
     "output_type": "stream",
     "text": [
      "\n"
     ]
    },
    {
     "name": "stdout",
     "output_type": "stream",
     "text": [
      "0.14637608855945966\n"
     ]
    },
    {
     "name": "stderr",
     "output_type": "stream",
     "text": [
      "100%|██████████| 101/101 [00:00<00:00, 538962.73it/s]"
     ]
    },
    {
     "name": "stdout",
     "output_type": "stream",
     "text": [
      "7\n"
     ]
    },
    {
     "name": "stderr",
     "output_type": "stream",
     "text": [
      "\n"
     ]
    },
    {
     "name": "stdout",
     "output_type": "stream",
     "text": [
      "0.12817321524487868\n"
     ]
    },
    {
     "name": "stderr",
     "output_type": "stream",
     "text": [
      "100%|██████████| 300/300 [00:00<00:00, 544008.30it/s]"
     ]
    },
    {
     "name": "stdout",
     "output_type": "stream",
     "text": [
      "19\n"
     ]
    },
    {
     "name": "stderr",
     "output_type": "stream",
     "text": [
      "\n"
     ]
    },
    {
     "name": "stdout",
     "output_type": "stream",
     "text": [
      "0.12996691214495343\n"
     ]
    },
    {
     "name": "stderr",
     "output_type": "stream",
     "text": [
      "100%|██████████| 600/600 [00:00<00:00, 513274.00it/s]"
     ]
    },
    {
     "name": "stdout",
     "output_type": "stream",
     "text": [
      "28\n"
     ]
    },
    {
     "name": "stderr",
     "output_type": "stream",
     "text": [
      "\n"
     ]
    },
    {
     "name": "stdout",
     "output_type": "stream",
     "text": [
      "0.12511253186809673\n"
     ]
    },
    {
     "name": "stderr",
     "output_type": "stream",
     "text": [
      "100%|██████████| 400/400 [00:00<00:00, 385417.32it/s]\n"
     ]
    },
    {
     "name": "stdout",
     "output_type": "stream",
     "text": [
      "25\n",
      "(1059, 25) (1059, 7) (1059, 19) (1059, 28)\n",
      "(1059, 79)\n",
      "(804, 25) (804, 7) (804, 19) (804, 28)\n",
      "(804, 79)\n"
     ]
    },
    {
     "name": "stderr",
     "output_type": "stream",
     "text": [
      "0it [00:00, ?it/s]"
     ]
    },
    {
     "name": "stdout",
     "output_type": "stream",
     "text": [
      "Learning rate set to 0.002361\n",
      "0:\tlearn: 0.6894775\ttotal: 12.6ms\tremaining: 1m 2s\n",
      "999:\tlearn: 0.0408904\ttotal: 8.11s\tremaining: 32.4s\n",
      "1998:\tlearn: 0.0172192\ttotal: 16.1s\tremaining: 24.2s\n",
      "2997:\tlearn: 0.0097219\ttotal: 24.3s\tremaining: 16.2s\n",
      "3996:\tlearn: 0.0059451\ttotal: 32.8s\tremaining: 8.22s\n"
     ]
    },
    {
     "name": "stderr",
     "output_type": "stream",
     "text": [
      "1it [00:41, 41.26s/it]"
     ]
    },
    {
     "name": "stdout",
     "output_type": "stream",
     "text": [
      "4995:\tlearn: 0.0042165\ttotal: 40.8s\tremaining: 32.7ms\n",
      "4999:\tlearn: 0.0042117\ttotal: 40.8s\tremaining: 0us\n",
      "fold Loss 0:  0.06811011083591739\n",
      "---------------------------------------------------------------------------\n",
      "Learning rate set to 0.002361\n",
      "0:\tlearn: 0.6895050\ttotal: 12.6ms\tremaining: 1m 2s\n",
      "999:\tlearn: 0.0424451\ttotal: 7.96s\tremaining: 31.9s\n",
      "1998:\tlearn: 0.0179463\ttotal: 16s\tremaining: 24s\n",
      "2997:\tlearn: 0.0101073\ttotal: 24.5s\tremaining: 16.4s\n",
      "3996:\tlearn: 0.0063970\ttotal: 32.5s\tremaining: 8.15s\n"
     ]
    },
    {
     "name": "stderr",
     "output_type": "stream",
     "text": [
      "2it [01:22, 41.04s/it]"
     ]
    },
    {
     "name": "stdout",
     "output_type": "stream",
     "text": [
      "4995:\tlearn: 0.0045580\ttotal: 40.4s\tremaining: 32.4ms\n",
      "4999:\tlearn: 0.0045524\ttotal: 40.5s\tremaining: 0us\n",
      "fold Loss 1:  0.0028719470332476335\n",
      "---------------------------------------------------------------------------\n",
      "Learning rate set to 0.002361\n",
      "0:\tlearn: 0.6894939\ttotal: 13ms\tremaining: 1m 4s\n",
      "999:\tlearn: 0.0400225\ttotal: 8.2s\tremaining: 32.8s\n",
      "1998:\tlearn: 0.0166791\ttotal: 16.7s\tremaining: 25.1s\n",
      "2997:\tlearn: 0.0093168\ttotal: 24.9s\tremaining: 16.6s\n",
      "3996:\tlearn: 0.0057788\ttotal: 32.9s\tremaining: 8.26s\n"
     ]
    },
    {
     "name": "stderr",
     "output_type": "stream",
     "text": [
      "3it [02:03, 41.17s/it]"
     ]
    },
    {
     "name": "stdout",
     "output_type": "stream",
     "text": [
      "4995:\tlearn: 0.0040576\ttotal: 40.9s\tremaining: 32.7ms\n",
      "4999:\tlearn: 0.0040541\ttotal: 40.9s\tremaining: 0us\n",
      "fold Loss 2:  0.11152713439056837\n",
      "---------------------------------------------------------------------------\n",
      "Learning rate set to 0.002361\n",
      "0:\tlearn: 0.6894186\ttotal: 16.1ms\tremaining: 1m 20s\n",
      "999:\tlearn: 0.0399402\ttotal: 8.49s\tremaining: 34s\n",
      "1998:\tlearn: 0.0170409\ttotal: 16.6s\tremaining: 24.9s\n",
      "2997:\tlearn: 0.0097148\ttotal: 24.5s\tremaining: 16.4s\n",
      "3996:\tlearn: 0.0061167\ttotal: 32.5s\tremaining: 8.16s\n"
     ]
    },
    {
     "name": "stderr",
     "output_type": "stream",
     "text": [
      "4it [02:44, 41.28s/it]"
     ]
    },
    {
     "name": "stdout",
     "output_type": "stream",
     "text": [
      "4995:\tlearn: 0.0043259\ttotal: 41s\tremaining: 32.8ms\n",
      "4999:\tlearn: 0.0043217\ttotal: 41s\tremaining: 0us\n",
      "fold Loss 3:  0.1708785701141948\n",
      "---------------------------------------------------------------------------\n",
      "Learning rate set to 0.002361\n",
      "0:\tlearn: 0.6889593\ttotal: 13ms\tremaining: 1m 4s\n",
      "999:\tlearn: 0.0415994\ttotal: 8.12s\tremaining: 32.5s\n",
      "1998:\tlearn: 0.0179695\ttotal: 16.3s\tremaining: 24.4s\n",
      "2997:\tlearn: 0.0104997\ttotal: 24.4s\tremaining: 16.3s\n",
      "3996:\tlearn: 0.0069524\ttotal: 33s\tremaining: 8.28s\n"
     ]
    },
    {
     "name": "stderr",
     "output_type": "stream",
     "text": [
      "5it [03:26, 41.40s/it]"
     ]
    },
    {
     "name": "stdout",
     "output_type": "stream",
     "text": [
      "4995:\tlearn: 0.0052829\ttotal: 41.2s\tremaining: 33ms\n",
      "4999:\tlearn: 0.0052800\ttotal: 41.2s\tremaining: 0us\n",
      "fold Loss 4:  0.0552824623400693\n",
      "---------------------------------------------------------------------------\n",
      "Learning rate set to 0.002361\n",
      "0:\tlearn: 0.6894882\ttotal: 13.4ms\tremaining: 1m 7s\n",
      "999:\tlearn: 0.0403663\ttotal: 8.02s\tremaining: 32.1s\n",
      "1998:\tlearn: 0.0168054\ttotal: 16.1s\tremaining: 24.2s\n",
      "2997:\tlearn: 0.0094430\ttotal: 24.6s\tremaining: 16.4s\n",
      "3996:\tlearn: 0.0062257\ttotal: 32.7s\tremaining: 8.21s\n"
     ]
    },
    {
     "name": "stderr",
     "output_type": "stream",
     "text": [
      "6it [04:07, 41.31s/it]"
     ]
    },
    {
     "name": "stdout",
     "output_type": "stream",
     "text": [
      "4995:\tlearn: 0.0044806\ttotal: 40.7s\tremaining: 32.6ms\n",
      "4999:\tlearn: 0.0044765\ttotal: 40.7s\tremaining: 0us\n",
      "fold Loss 5:  0.08965538853257106\n",
      "---------------------------------------------------------------------------\n",
      "Learning rate set to 0.002361\n",
      "0:\tlearn: 0.6894259\ttotal: 12.5ms\tremaining: 1m 2s\n",
      "999:\tlearn: 0.0395283\ttotal: 8.02s\tremaining: 32.1s\n",
      "1998:\tlearn: 0.0161512\ttotal: 16.7s\tremaining: 25.1s\n",
      "2997:\tlearn: 0.0090720\ttotal: 24.8s\tremaining: 16.5s\n",
      "3996:\tlearn: 0.0056451\ttotal: 32.7s\tremaining: 8.21s\n"
     ]
    },
    {
     "name": "stderr",
     "output_type": "stream",
     "text": [
      "7it [04:48, 41.25s/it]"
     ]
    },
    {
     "name": "stdout",
     "output_type": "stream",
     "text": [
      "4995:\tlearn: 0.0039350\ttotal: 40.7s\tremaining: 32.6ms\n",
      "4999:\tlearn: 0.0039313\ttotal: 40.7s\tremaining: 0us\n",
      "fold Loss 6:  0.13926332298145105\n",
      "---------------------------------------------------------------------------\n",
      "Learning rate set to 0.002361\n",
      "0:\tlearn: 0.6894966\ttotal: 16.1ms\tremaining: 1m 20s\n",
      "999:\tlearn: 0.0409394\ttotal: 8.51s\tremaining: 34s\n",
      "1998:\tlearn: 0.0173843\ttotal: 16.6s\tremaining: 24.9s\n",
      "2997:\tlearn: 0.0097857\ttotal: 24.6s\tremaining: 16.4s\n",
      "3996:\tlearn: 0.0063106\ttotal: 32.7s\tremaining: 8.21s\n"
     ]
    },
    {
     "name": "stderr",
     "output_type": "stream",
     "text": [
      "8it [05:30, 41.43s/it]"
     ]
    },
    {
     "name": "stdout",
     "output_type": "stream",
     "text": [
      "4995:\tlearn: 0.0045159\ttotal: 41.4s\tremaining: 33.1ms\n",
      "4999:\tlearn: 0.0045114\ttotal: 41.4s\tremaining: 0us\n",
      "fold Loss 7:  0.11751451547363041\n",
      "---------------------------------------------------------------------------\n",
      "Learning rate set to 0.002361\n",
      "0:\tlearn: 0.6894848\ttotal: 13.5ms\tremaining: 1m 7s\n",
      "999:\tlearn: 0.0417885\ttotal: 8.12s\tremaining: 32.5s\n",
      "1998:\tlearn: 0.0176376\ttotal: 16.2s\tremaining: 24.4s\n",
      "2997:\tlearn: 0.0099036\ttotal: 24.3s\tremaining: 16.2s\n",
      "3996:\tlearn: 0.0062855\ttotal: 32.8s\tremaining: 8.23s\n"
     ]
    },
    {
     "name": "stderr",
     "output_type": "stream",
     "text": [
      "9it [06:11, 41.40s/it]"
     ]
    },
    {
     "name": "stdout",
     "output_type": "stream",
     "text": [
      "4995:\tlearn: 0.0045579\ttotal: 40.9s\tremaining: 32.7ms\n",
      "4999:\tlearn: 0.0045529\ttotal: 40.9s\tremaining: 0us\n",
      "fold Loss 8:  0.006936202258728723\n",
      "---------------------------------------------------------------------------\n",
      "Learning rate set to 0.002361\n",
      "0:\tlearn: 0.6894870\ttotal: 12.6ms\tremaining: 1m 3s\n",
      "999:\tlearn: 0.0385203\ttotal: 8.03s\tremaining: 32.1s\n",
      "1998:\tlearn: 0.0157085\ttotal: 16s\tremaining: 24s\n",
      "2997:\tlearn: 0.0087889\ttotal: 24.5s\tremaining: 16.3s\n",
      "3996:\tlearn: 0.0057538\ttotal: 32.5s\tremaining: 8.16s\n"
     ]
    },
    {
     "name": "stderr",
     "output_type": "stream",
     "text": [
      "10it [06:52, 41.28s/it]"
     ]
    },
    {
     "name": "stdout",
     "output_type": "stream",
     "text": [
      "4995:\tlearn: 0.0042875\ttotal: 40.6s\tremaining: 32.5ms\n",
      "4999:\tlearn: 0.0042843\ttotal: 40.6s\tremaining: 0us\n",
      "fold Loss 9:  0.1472337135228784\n",
      "---------------------------------------------------------------------------\n",
      "Learning rate set to 0.002361\n",
      "0:\tlearn: 0.6894749\ttotal: 14.4ms\tremaining: 1m 12s\n",
      "999:\tlearn: 0.0409767\ttotal: 8s\tremaining: 32s\n",
      "1998:\tlearn: 0.0170957\ttotal: 16.6s\tremaining: 24.9s\n",
      "2997:\tlearn: 0.0096843\ttotal: 24.7s\tremaining: 16.5s\n",
      "3996:\tlearn: 0.0061153\ttotal: 32.7s\tremaining: 8.2s\n"
     ]
    },
    {
     "name": "stderr",
     "output_type": "stream",
     "text": [
      "11it [07:34, 41.22s/it]"
     ]
    },
    {
     "name": "stdout",
     "output_type": "stream",
     "text": [
      "4995:\tlearn: 0.0044381\ttotal: 40.6s\tremaining: 32.5ms\n",
      "4999:\tlearn: 0.0044351\ttotal: 40.7s\tremaining: 0us\n",
      "fold Loss 10:  0.03703570301396085\n",
      "---------------------------------------------------------------------------\n",
      "Learning rate set to 0.002361\n",
      "0:\tlearn: 0.6894247\ttotal: 16ms\tremaining: 1m 19s\n",
      "999:\tlearn: 0.0392009\ttotal: 8.51s\tremaining: 34s\n",
      "1998:\tlearn: 0.0162933\ttotal: 16.6s\tremaining: 24.9s\n",
      "2997:\tlearn: 0.0090575\ttotal: 24.8s\tremaining: 16.6s\n",
      "3996:\tlearn: 0.0059998\ttotal: 32.8s\tremaining: 8.24s\n"
     ]
    },
    {
     "name": "stderr",
     "output_type": "stream",
     "text": [
      "12it [08:15, 41.44s/it]"
     ]
    },
    {
     "name": "stdout",
     "output_type": "stream",
     "text": [
      "4995:\tlearn: 0.0042091\ttotal: 41.5s\tremaining: 33.2ms\n",
      "4999:\tlearn: 0.0042033\ttotal: 41.5s\tremaining: 0us\n",
      "fold Loss 11:  0.12124591699574734\n",
      "---------------------------------------------------------------------------\n",
      "Learning rate set to 0.002361\n",
      "0:\tlearn: 0.6894140\ttotal: 13.4ms\tremaining: 1m 7s\n",
      "999:\tlearn: 0.0410432\ttotal: 8.11s\tremaining: 32.4s\n",
      "1998:\tlearn: 0.0182362\ttotal: 16.3s\tremaining: 24.4s\n",
      "2997:\tlearn: 0.0105794\ttotal: 24.7s\tremaining: 16.5s\n",
      "3996:\tlearn: 0.0068816\ttotal: 33.2s\tremaining: 8.32s\n"
     ]
    },
    {
     "name": "stderr",
     "output_type": "stream",
     "text": [
      "13it [08:57, 41.50s/it]"
     ]
    },
    {
     "name": "stdout",
     "output_type": "stream",
     "text": [
      "4995:\tlearn: 0.0047789\ttotal: 41.2s\tremaining: 33ms\n",
      "4999:\tlearn: 0.0047712\ttotal: 41.2s\tremaining: 0us\n",
      "fold Loss 12:  0.012263930534494616\n",
      "---------------------------------------------------------------------------\n",
      "Learning rate set to 0.002361\n",
      "0:\tlearn: 0.6894582\ttotal: 12.3ms\tremaining: 1m 1s\n",
      "999:\tlearn: 0.0423399\ttotal: 8.09s\tremaining: 32.4s\n",
      "1998:\tlearn: 0.0178075\ttotal: 16.4s\tremaining: 24.6s\n",
      "2997:\tlearn: 0.0101288\ttotal: 24.7s\tremaining: 16.5s\n",
      "3996:\tlearn: 0.0066517\ttotal: 32.7s\tremaining: 8.22s\n"
     ]
    },
    {
     "name": "stderr",
     "output_type": "stream",
     "text": [
      "14it [09:38, 41.44s/it]"
     ]
    },
    {
     "name": "stdout",
     "output_type": "stream",
     "text": [
      "4995:\tlearn: 0.0050116\ttotal: 40.9s\tremaining: 32.7ms\n",
      "4999:\tlearn: 0.0050067\ttotal: 40.9s\tremaining: 0us\n",
      "fold Loss 13:  0.01104690356250164\n",
      "---------------------------------------------------------------------------\n",
      "Learning rate set to 0.002361\n",
      "0:\tlearn: 0.6888698\ttotal: 13ms\tremaining: 1m 5s\n",
      "999:\tlearn: 0.0410424\ttotal: 8.4s\tremaining: 33.6s\n",
      "1998:\tlearn: 0.0174285\ttotal: 16.9s\tremaining: 25.4s\n",
      "2997:\tlearn: 0.0098848\ttotal: 25s\tremaining: 16.7s\n",
      "3996:\tlearn: 0.0062615\ttotal: 33.1s\tremaining: 8.3s\n"
     ]
    },
    {
     "name": "stderr",
     "output_type": "stream",
     "text": [
      "15it [10:20, 41.46s/it]"
     ]
    },
    {
     "name": "stdout",
     "output_type": "stream",
     "text": [
      "4995:\tlearn: 0.0045803\ttotal: 41s\tremaining: 32.9ms\n",
      "4999:\tlearn: 0.0045749\ttotal: 41.1s\tremaining: 0us\n",
      "fold Loss 14:  0.006017497013401658\n",
      "---------------------------------------------------------------------------\n",
      "Learning rate set to 0.002361\n",
      "0:\tlearn: 0.6894128\ttotal: 15.7ms\tremaining: 1m 18s\n",
      "999:\tlearn: 0.0405192\ttotal: 8.51s\tremaining: 34.1s\n",
      "1998:\tlearn: 0.0169427\ttotal: 16.5s\tremaining: 24.8s\n",
      "2997:\tlearn: 0.0096513\ttotal: 24.6s\tremaining: 16.4s\n",
      "3996:\tlearn: 0.0062316\ttotal: 32.5s\tremaining: 8.16s\n"
     ]
    },
    {
     "name": "stderr",
     "output_type": "stream",
     "text": [
      "16it [11:01, 41.39s/it]"
     ]
    },
    {
     "name": "stdout",
     "output_type": "stream",
     "text": [
      "4995:\tlearn: 0.0045271\ttotal: 40.8s\tremaining: 32.6ms\n",
      "4999:\tlearn: 0.0045213\ttotal: 40.8s\tremaining: 0us\n",
      "fold Loss 15:  0.011361199241481894\n",
      "---------------------------------------------------------------------------\n",
      "Learning rate set to 0.002361\n",
      "0:\tlearn: 0.6894729\ttotal: 12.5ms\tremaining: 1m 2s\n",
      "999:\tlearn: 0.0418533\ttotal: 8.41s\tremaining: 33.7s\n",
      "1998:\tlearn: 0.0176842\ttotal: 16.5s\tremaining: 24.7s\n",
      "2997:\tlearn: 0.0099941\ttotal: 24.5s\tremaining: 16.3s\n",
      "3996:\tlearn: 0.0064911\ttotal: 32.7s\tremaining: 8.2s\n"
     ]
    },
    {
     "name": "stderr",
     "output_type": "stream",
     "text": [
      "17it [11:42, 41.31s/it]"
     ]
    },
    {
     "name": "stdout",
     "output_type": "stream",
     "text": [
      "4995:\tlearn: 0.0044828\ttotal: 40.7s\tremaining: 32.6ms\n",
      "4999:\tlearn: 0.0044783\ttotal: 40.7s\tremaining: 0us\n",
      "fold Loss 16:  0.06655245486286789\n",
      "---------------------------------------------------------------------------\n",
      "Learning rate set to 0.002361\n",
      "0:\tlearn: 0.6894679\ttotal: 12.3ms\tremaining: 1m 1s\n",
      "999:\tlearn: 0.0409374\ttotal: 8.04s\tremaining: 32.2s\n",
      "1998:\tlearn: 0.0174290\ttotal: 16.4s\tremaining: 24.6s\n",
      "2997:\tlearn: 0.0100319\ttotal: 24.6s\tremaining: 16.4s\n",
      "3996:\tlearn: 0.0067431\ttotal: 32.9s\tremaining: 8.25s\n"
     ]
    },
    {
     "name": "stderr",
     "output_type": "stream",
     "text": [
      "18it [12:24, 41.37s/it]"
     ]
    },
    {
     "name": "stdout",
     "output_type": "stream",
     "text": [
      "4995:\tlearn: 0.0051382\ttotal: 41s\tremaining: 32.9ms\n",
      "4999:\tlearn: 0.0051314\ttotal: 41.1s\tremaining: 0us\n",
      "fold Loss 17:  0.0875018835664118\n",
      "---------------------------------------------------------------------------\n",
      "Learning rate set to 0.002361\n",
      "0:\tlearn: 0.6894356\ttotal: 12.3ms\tremaining: 1m 1s\n",
      "999:\tlearn: 0.0412264\ttotal: 8.39s\tremaining: 33.6s\n",
      "1998:\tlearn: 0.0170323\ttotal: 16.7s\tremaining: 25.1s\n",
      "2997:\tlearn: 0.0094540\ttotal: 24.8s\tremaining: 16.5s\n",
      "3996:\tlearn: 0.0058817\ttotal: 33s\tremaining: 8.27s\n"
     ]
    },
    {
     "name": "stderr",
     "output_type": "stream",
     "text": [
      "19it [13:06, 41.51s/it]"
     ]
    },
    {
     "name": "stdout",
     "output_type": "stream",
     "text": [
      "4995:\tlearn: 0.0042083\ttotal: 41.4s\tremaining: 33.1ms\n",
      "4999:\tlearn: 0.0042043\ttotal: 41.4s\tremaining: 0us\n",
      "fold Loss 18:  0.06190592367671603\n",
      "---------------------------------------------------------------------------\n",
      "Learning rate set to 0.002362\n",
      "0:\tlearn: 0.6894617\ttotal: 16.2ms\tremaining: 1m 21s\n",
      "999:\tlearn: 0.0396769\ttotal: 8.22s\tremaining: 32.9s\n",
      "1998:\tlearn: 0.0166049\ttotal: 16.2s\tremaining: 24.4s\n",
      "2997:\tlearn: 0.0094405\ttotal: 24.4s\tremaining: 16.3s\n",
      "3996:\tlearn: 0.0063288\ttotal: 32.5s\tremaining: 8.15s\n"
     ]
    },
    {
     "name": "stderr",
     "output_type": "stream",
     "text": [
      "20it [13:47, 41.38s/it]"
     ]
    },
    {
     "name": "stdout",
     "output_type": "stream",
     "text": [
      "4995:\tlearn: 0.0046748\ttotal: 41s\tremaining: 32.8ms\n",
      "4999:\tlearn: 0.0046708\ttotal: 41s\tremaining: 0us\n",
      "fold Loss 19:  0.090283136278654\n",
      "---------------------------------------------------------------------------\n",
      "Training Loss: 0.008880635416544571\n",
      "Loss for sulfide:\n",
      "0.07072439581147476 0.05140496493168944\n",
      "==================================================================================================\n",
      "AGG Loss: [0.14373991 0.08834108 0.16281245 0.19682514 0.01192014 0.15497703\n",
      " 0.21814313 0.17247264 0.17649748 0.0707244 ]\n",
      "AGG Loss mean: 0.13964534022091463\n"
     ]
    },
    {
     "name": "stderr",
     "output_type": "stream",
     "text": [
      "\n"
     ]
    }
   ],
   "source": [
    "agg_loss = []\n",
    "for target in targets.columns:\n",
    "    print('TARGET ',target)\n",
    "    imp_fts = {}\n",
    "    \n",
    "    #  get all imp coefs for the target\n",
    "    t_100_coefs = get_coefs(t_100,targets[target],1)\n",
    "    g_100_coefs = get_coefs(g_100,targets[target],5)\n",
    "    m_100_coefs = get_coefs(m_100,targets[target],10)\n",
    "    o_100_coefs = get_coefs(train_set_100,targets[target],10)\n",
    "    \n",
    "    imp_fts['o_100_coefs'] = o_100_coefs\n",
    "    imp_fts['t_100_coefs'] = t_100_coefs\n",
    "    imp_fts['g_100_coefs'] = g_100_coefs\n",
    "    imp_fts['m_100_coefs'] = m_100_coefs\n",
    "\n",
    "    # get all imp_dfs and concat them\n",
    "    train_imp_ = train_set_100.iloc[:,o_100_coefs]\n",
    "    t_100_imp_ = t_100.iloc[:,t_100_coefs]\n",
    "    g_100_imp_ = g_100.iloc[:,g_100_coefs]\n",
    "    m_100_imp_ = m_100.iloc[:,m_100_coefs]\n",
    "\n",
    "    print(train_imp_.shape,t_100_imp_.shape,g_100_imp_.shape,m_100_imp_.shape)\n",
    "    X = pd.concat([train_imp_,t_100_imp_,g_100_imp_,m_100_imp_],axis=1)\n",
    "    print(X.shape)\n",
    "\n",
    "    # same goes for test set\n",
    "    test_imp_ = test_set_100.iloc[:,o_100_coefs]\n",
    "    t_100_imp_test = t_100_test.iloc[:,t_100_coefs]\n",
    "    g_100_imp_test = g_100_test.iloc[:,g_100_coefs]\n",
    "    m_100_imp_test = m_100_test.iloc[:,m_100_coefs]\n",
    "\n",
    "    print(test_imp_.shape,t_100_imp_test.shape,g_100_imp_test.shape,m_100_imp_test.shape)\n",
    "    \n",
    "    X_test = pd.concat([test_imp_, t_100_imp_test, g_100_imp_test, m_100_imp_test],axis=1)\n",
    "    print(X_test.shape)\n",
    "    \n",
    "    #  add feature\n",
    "    X['is_sam'] = 0\n",
    "    X.loc[sam_id[:12],'is_sam'] = 1\n",
    "    X_test['is_sam'] = 0\n",
    "    X_test.loc[sam_id[12:],'is_sam'] = 1\n",
    "    \n",
    "    \n",
    "    assert (X.columns == X_test.columns).all()\n",
    "\n",
    "    oof_train = np.zeros((ntrain,))\n",
    "    oof_test = np.zeros((ntest,))\n",
    "    oof_test_skf = np.empty((NFOLDS, ntest))\n",
    "    \n",
    "    Y = targets[target]\n",
    "\n",
    "    cb_clf = CatBoostClassifier(verbose=999,random_seed=RANDOM_SEED,n_estimators=5000)\n",
    "    cv_loss = []\n",
    "    for fold, (train_id, test_id) in enumerate(tqdm(skf.split(X,Y))):\n",
    "\n",
    "        X_train, Y_train = X.iloc[train_id,], Y.iloc[train_id,]\n",
    "        X_val, Y_val = X.iloc[test_id,], Y.iloc[test_id,]\n",
    "        #  ohh man unwanted semi colon in iloc throws an error...\n",
    "        \n",
    "        # train model  and pred on oof folds\n",
    "        cb_clf.fit(X_train.values,Y_train)\n",
    "        y_preds = cb_clf.predict_proba(X_val.values)[:,1]\n",
    "        fold_loss = log_loss(Y_val,y_preds)\n",
    "        print(f'fold Loss {fold}: ',fold_loss)\n",
    "        cv_loss.append(fold_loss)\n",
    "\n",
    "        oof_train[test_id] = y_preds\n",
    "        oof_test_skf[fold,:] = cb_clf.predict_proba(X_test.values)[:,1]\n",
    "        \n",
    "        print(\"---------------------------------------------------------------------------\")\n",
    "        \n",
    "    print('Training Loss:', log_loss(Y,cb_clf.predict_proba(X.values)[:,1]))\n",
    "    \n",
    "    oof_test[:] = oof_test_skf.mean(axis=0)\n",
    "    oof_test_df[target] = oof_test\n",
    "    oof_train_df[target] = oof_train\n",
    "\n",
    "    print(f'Loss for {target}:')\n",
    "    print(np.array(cv_loss).mean(),np.array(cv_loss).std())\n",
    "    agg_loss.append(np.array(cv_loss).mean())\n",
    "    print(\"==================================================================================================\")\n",
    "\n",
    "print('AGG Loss:',np.array(agg_loss))\n",
    "print('AGG Loss mean:',np.array(agg_loss).mean())"
   ]
  },
  {
   "cell_type": "code",
   "execution_count": 29,
   "id": "0292e01c",
   "metadata": {
    "execution": {
     "iopub.execute_input": "2022-04-18T15:39:51.248061Z",
     "iopub.status.busy": "2022-04-18T15:39:51.246323Z",
     "iopub.status.idle": "2022-04-18T15:39:51.251110Z",
     "shell.execute_reply": "2022-04-18T15:39:51.251504Z",
     "shell.execute_reply.started": "2022-04-10T12:42:32.882106Z"
    },
    "papermill": {
     "duration": 0.498772,
     "end_time": "2022-04-18T15:39:51.251639",
     "exception": false,
     "start_time": "2022-04-18T15:39:50.752867",
     "status": "completed"
    },
    "tags": []
   },
   "outputs": [
    {
     "name": "stdout",
     "output_type": "stream",
     "text": [
      "0.13964534022091463\n"
     ]
    }
   ],
   "source": [
    "print(np.array(agg_loss).mean())"
   ]
  },
  {
   "cell_type": "code",
   "execution_count": 30,
   "id": "bec7530c",
   "metadata": {
    "execution": {
     "iopub.execute_input": "2022-04-18T15:39:52.240214Z",
     "iopub.status.busy": "2022-04-18T15:39:52.239624Z",
     "iopub.status.idle": "2022-04-18T15:39:52.242111Z",
     "shell.execute_reply": "2022-04-18T15:39:52.241640Z",
     "shell.execute_reply.started": "2022-04-10T12:53:38.204095Z"
    },
    "papermill": {
     "duration": 0.498605,
     "end_time": "2022-04-18T15:39:52.242221",
     "exception": false,
     "start_time": "2022-04-18T15:39:51.743616",
     "status": "completed"
    },
    "tags": []
   },
   "outputs": [],
   "source": [
    "test_preds = oof_test_df.iloc[:293]\n",
    "train_preds = oof_train_df.iloc[766:]"
   ]
  },
  {
   "cell_type": "code",
   "execution_count": 31,
   "id": "bd977f44",
   "metadata": {
    "execution": {
     "iopub.execute_input": "2022-04-18T15:39:53.227727Z",
     "iopub.status.busy": "2022-04-18T15:39:53.227190Z",
     "iopub.status.idle": "2022-04-18T15:39:53.261459Z",
     "shell.execute_reply": "2022-04-18T15:39:53.260975Z",
     "shell.execute_reply.started": "2022-04-10T12:53:39.859435Z"
    },
    "papermill": {
     "duration": 0.527322,
     "end_time": "2022-04-18T15:39:53.261583",
     "exception": false,
     "start_time": "2022-04-18T15:39:52.734261",
     "status": "completed"
    },
    "tags": []
   },
   "outputs": [
    {
     "data": {
      "text/html": [
       "<div>\n",
       "<style scoped>\n",
       "    .dataframe tbody tr th:only-of-type {\n",
       "        vertical-align: middle;\n",
       "    }\n",
       "\n",
       "    .dataframe tbody tr th {\n",
       "        vertical-align: top;\n",
       "    }\n",
       "\n",
       "    .dataframe thead th {\n",
       "        text-align: right;\n",
       "    }\n",
       "</style>\n",
       "<table border=\"1\" class=\"dataframe\">\n",
       "  <thead>\n",
       "    <tr style=\"text-align: right;\">\n",
       "      <th></th>\n",
       "      <th>sample_id</th>\n",
       "      <th>basalt</th>\n",
       "      <th>carbonate</th>\n",
       "      <th>chloride</th>\n",
       "      <th>iron_oxide</th>\n",
       "      <th>oxalate</th>\n",
       "      <th>oxychlorine</th>\n",
       "      <th>phyllosilicate</th>\n",
       "      <th>silicate</th>\n",
       "      <th>sulfate</th>\n",
       "      <th>sulfide</th>\n",
       "    </tr>\n",
       "  </thead>\n",
       "  <tbody>\n",
       "    <tr>\n",
       "      <th>766</th>\n",
       "      <td>NaN</td>\n",
       "      <td>0.003695</td>\n",
       "      <td>0.005422</td>\n",
       "      <td>0.008613</td>\n",
       "      <td>0.010144</td>\n",
       "      <td>0.000143</td>\n",
       "      <td>0.002188</td>\n",
       "      <td>0.013145</td>\n",
       "      <td>0.070672</td>\n",
       "      <td>0.008085</td>\n",
       "      <td>0.001035</td>\n",
       "    </tr>\n",
       "    <tr>\n",
       "      <th>767</th>\n",
       "      <td>NaN</td>\n",
       "      <td>0.032877</td>\n",
       "      <td>0.012275</td>\n",
       "      <td>0.001434</td>\n",
       "      <td>0.011949</td>\n",
       "      <td>0.000065</td>\n",
       "      <td>0.011461</td>\n",
       "      <td>0.021934</td>\n",
       "      <td>0.108794</td>\n",
       "      <td>0.015674</td>\n",
       "      <td>0.000803</td>\n",
       "    </tr>\n",
       "    <tr>\n",
       "      <th>768</th>\n",
       "      <td>NaN</td>\n",
       "      <td>0.836214</td>\n",
       "      <td>0.118500</td>\n",
       "      <td>0.001040</td>\n",
       "      <td>0.122598</td>\n",
       "      <td>0.000347</td>\n",
       "      <td>0.007584</td>\n",
       "      <td>0.765117</td>\n",
       "      <td>0.875549</td>\n",
       "      <td>0.078402</td>\n",
       "      <td>0.001345</td>\n",
       "    </tr>\n",
       "    <tr>\n",
       "      <th>769</th>\n",
       "      <td>NaN</td>\n",
       "      <td>0.009142</td>\n",
       "      <td>0.002678</td>\n",
       "      <td>0.047641</td>\n",
       "      <td>0.021531</td>\n",
       "      <td>0.000043</td>\n",
       "      <td>0.957916</td>\n",
       "      <td>0.024457</td>\n",
       "      <td>0.002406</td>\n",
       "      <td>0.887243</td>\n",
       "      <td>0.000438</td>\n",
       "    </tr>\n",
       "    <tr>\n",
       "      <th>770</th>\n",
       "      <td>NaN</td>\n",
       "      <td>0.002767</td>\n",
       "      <td>0.001679</td>\n",
       "      <td>0.014297</td>\n",
       "      <td>0.742778</td>\n",
       "      <td>0.000076</td>\n",
       "      <td>0.980744</td>\n",
       "      <td>0.975038</td>\n",
       "      <td>0.002381</td>\n",
       "      <td>0.003591</td>\n",
       "      <td>0.000137</td>\n",
       "    </tr>\n",
       "    <tr>\n",
       "      <th>...</th>\n",
       "      <td>...</td>\n",
       "      <td>...</td>\n",
       "      <td>...</td>\n",
       "      <td>...</td>\n",
       "      <td>...</td>\n",
       "      <td>...</td>\n",
       "      <td>...</td>\n",
       "      <td>...</td>\n",
       "      <td>...</td>\n",
       "      <td>...</td>\n",
       "      <td>...</td>\n",
       "    </tr>\n",
       "    <tr>\n",
       "      <th>1054</th>\n",
       "      <td>NaN</td>\n",
       "      <td>0.009490</td>\n",
       "      <td>0.002476</td>\n",
       "      <td>0.028519</td>\n",
       "      <td>0.005091</td>\n",
       "      <td>0.000079</td>\n",
       "      <td>0.004755</td>\n",
       "      <td>0.015281</td>\n",
       "      <td>0.067024</td>\n",
       "      <td>0.004724</td>\n",
       "      <td>0.000761</td>\n",
       "    </tr>\n",
       "    <tr>\n",
       "      <th>1055</th>\n",
       "      <td>NaN</td>\n",
       "      <td>0.009151</td>\n",
       "      <td>0.003652</td>\n",
       "      <td>0.002810</td>\n",
       "      <td>0.013612</td>\n",
       "      <td>0.002921</td>\n",
       "      <td>0.011045</td>\n",
       "      <td>0.015190</td>\n",
       "      <td>0.855772</td>\n",
       "      <td>0.003136</td>\n",
       "      <td>0.001561</td>\n",
       "    </tr>\n",
       "    <tr>\n",
       "      <th>1056</th>\n",
       "      <td>NaN</td>\n",
       "      <td>0.002547</td>\n",
       "      <td>0.008735</td>\n",
       "      <td>0.001046</td>\n",
       "      <td>0.010205</td>\n",
       "      <td>0.998697</td>\n",
       "      <td>0.002259</td>\n",
       "      <td>0.012129</td>\n",
       "      <td>0.003216</td>\n",
       "      <td>0.002684</td>\n",
       "      <td>0.000393</td>\n",
       "    </tr>\n",
       "    <tr>\n",
       "      <th>1057</th>\n",
       "      <td>NaN</td>\n",
       "      <td>0.002462</td>\n",
       "      <td>0.944072</td>\n",
       "      <td>0.017124</td>\n",
       "      <td>0.032702</td>\n",
       "      <td>0.000331</td>\n",
       "      <td>0.009359</td>\n",
       "      <td>0.046439</td>\n",
       "      <td>0.004991</td>\n",
       "      <td>0.002456</td>\n",
       "      <td>0.000534</td>\n",
       "    </tr>\n",
       "    <tr>\n",
       "      <th>1058</th>\n",
       "      <td>NaN</td>\n",
       "      <td>0.009472</td>\n",
       "      <td>0.002127</td>\n",
       "      <td>0.003365</td>\n",
       "      <td>0.003633</td>\n",
       "      <td>0.000057</td>\n",
       "      <td>0.001962</td>\n",
       "      <td>0.969698</td>\n",
       "      <td>0.009847</td>\n",
       "      <td>0.002573</td>\n",
       "      <td>0.000530</td>\n",
       "    </tr>\n",
       "  </tbody>\n",
       "</table>\n",
       "<p>293 rows × 11 columns</p>\n",
       "</div>"
      ],
      "text/plain": [
       "     sample_id    basalt  carbonate  chloride  iron_oxide   oxalate  \\\n",
       "766        NaN  0.003695   0.005422  0.008613    0.010144  0.000143   \n",
       "767        NaN  0.032877   0.012275  0.001434    0.011949  0.000065   \n",
       "768        NaN  0.836214   0.118500  0.001040    0.122598  0.000347   \n",
       "769        NaN  0.009142   0.002678  0.047641    0.021531  0.000043   \n",
       "770        NaN  0.002767   0.001679  0.014297    0.742778  0.000076   \n",
       "...        ...       ...        ...       ...         ...       ...   \n",
       "1054       NaN  0.009490   0.002476  0.028519    0.005091  0.000079   \n",
       "1055       NaN  0.009151   0.003652  0.002810    0.013612  0.002921   \n",
       "1056       NaN  0.002547   0.008735  0.001046    0.010205  0.998697   \n",
       "1057       NaN  0.002462   0.944072  0.017124    0.032702  0.000331   \n",
       "1058       NaN  0.009472   0.002127  0.003365    0.003633  0.000057   \n",
       "\n",
       "      oxychlorine  phyllosilicate  silicate   sulfate   sulfide  \n",
       "766      0.002188        0.013145  0.070672  0.008085  0.001035  \n",
       "767      0.011461        0.021934  0.108794  0.015674  0.000803  \n",
       "768      0.007584        0.765117  0.875549  0.078402  0.001345  \n",
       "769      0.957916        0.024457  0.002406  0.887243  0.000438  \n",
       "770      0.980744        0.975038  0.002381  0.003591  0.000137  \n",
       "...           ...             ...       ...       ...       ...  \n",
       "1054     0.004755        0.015281  0.067024  0.004724  0.000761  \n",
       "1055     0.011045        0.015190  0.855772  0.003136  0.001561  \n",
       "1056     0.002259        0.012129  0.003216  0.002684  0.000393  \n",
       "1057     0.009359        0.046439  0.004991  0.002456  0.000534  \n",
       "1058     0.001962        0.969698  0.009847  0.002573  0.000530  \n",
       "\n",
       "[293 rows x 11 columns]"
      ]
     },
     "metadata": {},
     "output_type": "display_data"
    },
    {
     "data": {
      "text/html": [
       "<div>\n",
       "<style scoped>\n",
       "    .dataframe tbody tr th:only-of-type {\n",
       "        vertical-align: middle;\n",
       "    }\n",
       "\n",
       "    .dataframe tbody tr th {\n",
       "        vertical-align: top;\n",
       "    }\n",
       "\n",
       "    .dataframe thead th {\n",
       "        text-align: right;\n",
       "    }\n",
       "</style>\n",
       "<table border=\"1\" class=\"dataframe\">\n",
       "  <thead>\n",
       "    <tr style=\"text-align: right;\">\n",
       "      <th></th>\n",
       "      <th>sample_id</th>\n",
       "      <th>basalt</th>\n",
       "      <th>carbonate</th>\n",
       "      <th>chloride</th>\n",
       "      <th>iron_oxide</th>\n",
       "      <th>oxalate</th>\n",
       "      <th>oxychlorine</th>\n",
       "      <th>phyllosilicate</th>\n",
       "      <th>silicate</th>\n",
       "      <th>sulfate</th>\n",
       "      <th>sulfide</th>\n",
       "    </tr>\n",
       "  </thead>\n",
       "  <tbody>\n",
       "    <tr>\n",
       "      <th>766</th>\n",
       "      <td>NaN</td>\n",
       "      <td>0.004734</td>\n",
       "      <td>0.007877</td>\n",
       "      <td>0.011153</td>\n",
       "      <td>0.012424</td>\n",
       "      <td>0.000142</td>\n",
       "      <td>0.001978</td>\n",
       "      <td>0.016653</td>\n",
       "      <td>0.308473</td>\n",
       "      <td>0.008295</td>\n",
       "      <td>0.000838</td>\n",
       "    </tr>\n",
       "    <tr>\n",
       "      <th>767</th>\n",
       "      <td>NaN</td>\n",
       "      <td>0.053188</td>\n",
       "      <td>0.003731</td>\n",
       "      <td>0.001896</td>\n",
       "      <td>0.016599</td>\n",
       "      <td>0.000078</td>\n",
       "      <td>0.015483</td>\n",
       "      <td>0.037116</td>\n",
       "      <td>0.333673</td>\n",
       "      <td>0.021924</td>\n",
       "      <td>0.000577</td>\n",
       "    </tr>\n",
       "    <tr>\n",
       "      <th>768</th>\n",
       "      <td>NaN</td>\n",
       "      <td>0.395181</td>\n",
       "      <td>0.943676</td>\n",
       "      <td>0.001051</td>\n",
       "      <td>0.332658</td>\n",
       "      <td>0.000270</td>\n",
       "      <td>0.006950</td>\n",
       "      <td>0.322605</td>\n",
       "      <td>0.654329</td>\n",
       "      <td>0.313214</td>\n",
       "      <td>0.001412</td>\n",
       "    </tr>\n",
       "    <tr>\n",
       "      <th>769</th>\n",
       "      <td>NaN</td>\n",
       "      <td>0.019812</td>\n",
       "      <td>0.003369</td>\n",
       "      <td>0.175116</td>\n",
       "      <td>0.040647</td>\n",
       "      <td>0.000037</td>\n",
       "      <td>0.877976</td>\n",
       "      <td>0.029915</td>\n",
       "      <td>0.002030</td>\n",
       "      <td>0.450599</td>\n",
       "      <td>0.000392</td>\n",
       "    </tr>\n",
       "    <tr>\n",
       "      <th>770</th>\n",
       "      <td>NaN</td>\n",
       "      <td>0.002090</td>\n",
       "      <td>0.001867</td>\n",
       "      <td>0.016085</td>\n",
       "      <td>0.226213</td>\n",
       "      <td>0.000070</td>\n",
       "      <td>0.979685</td>\n",
       "      <td>0.967146</td>\n",
       "      <td>0.002144</td>\n",
       "      <td>0.004221</td>\n",
       "      <td>0.000100</td>\n",
       "    </tr>\n",
       "    <tr>\n",
       "      <th>...</th>\n",
       "      <td>...</td>\n",
       "      <td>...</td>\n",
       "      <td>...</td>\n",
       "      <td>...</td>\n",
       "      <td>...</td>\n",
       "      <td>...</td>\n",
       "      <td>...</td>\n",
       "      <td>...</td>\n",
       "      <td>...</td>\n",
       "      <td>...</td>\n",
       "      <td>...</td>\n",
       "    </tr>\n",
       "    <tr>\n",
       "      <th>1054</th>\n",
       "      <td>NaN</td>\n",
       "      <td>0.011826</td>\n",
       "      <td>0.003213</td>\n",
       "      <td>0.013582</td>\n",
       "      <td>0.005770</td>\n",
       "      <td>0.000072</td>\n",
       "      <td>0.005123</td>\n",
       "      <td>0.019616</td>\n",
       "      <td>0.152837</td>\n",
       "      <td>0.006672</td>\n",
       "      <td>0.000836</td>\n",
       "    </tr>\n",
       "    <tr>\n",
       "      <th>1055</th>\n",
       "      <td>NaN</td>\n",
       "      <td>0.010990</td>\n",
       "      <td>0.004168</td>\n",
       "      <td>0.003202</td>\n",
       "      <td>0.016475</td>\n",
       "      <td>0.004743</td>\n",
       "      <td>0.013901</td>\n",
       "      <td>0.018696</td>\n",
       "      <td>0.341544</td>\n",
       "      <td>0.003407</td>\n",
       "      <td>0.001389</td>\n",
       "    </tr>\n",
       "    <tr>\n",
       "      <th>1056</th>\n",
       "      <td>NaN</td>\n",
       "      <td>0.002861</td>\n",
       "      <td>0.013068</td>\n",
       "      <td>0.001119</td>\n",
       "      <td>0.011407</td>\n",
       "      <td>0.998236</td>\n",
       "      <td>0.002552</td>\n",
       "      <td>0.015114</td>\n",
       "      <td>0.003869</td>\n",
       "      <td>0.003427</td>\n",
       "      <td>0.000464</td>\n",
       "    </tr>\n",
       "    <tr>\n",
       "      <th>1057</th>\n",
       "      <td>NaN</td>\n",
       "      <td>0.004220</td>\n",
       "      <td>0.878433</td>\n",
       "      <td>0.025152</td>\n",
       "      <td>0.044000</td>\n",
       "      <td>0.000248</td>\n",
       "      <td>0.015184</td>\n",
       "      <td>0.078572</td>\n",
       "      <td>0.004713</td>\n",
       "      <td>0.003116</td>\n",
       "      <td>0.000529</td>\n",
       "    </tr>\n",
       "    <tr>\n",
       "      <th>1058</th>\n",
       "      <td>NaN</td>\n",
       "      <td>0.013992</td>\n",
       "      <td>0.002247</td>\n",
       "      <td>0.003987</td>\n",
       "      <td>0.003943</td>\n",
       "      <td>0.000057</td>\n",
       "      <td>0.001930</td>\n",
       "      <td>0.967832</td>\n",
       "      <td>0.008786</td>\n",
       "      <td>0.003972</td>\n",
       "      <td>0.000483</td>\n",
       "    </tr>\n",
       "  </tbody>\n",
       "</table>\n",
       "<p>293 rows × 11 columns</p>\n",
       "</div>"
      ],
      "text/plain": [
       "     sample_id    basalt  carbonate  chloride  iron_oxide   oxalate  \\\n",
       "766        NaN  0.004734   0.007877  0.011153    0.012424  0.000142   \n",
       "767        NaN  0.053188   0.003731  0.001896    0.016599  0.000078   \n",
       "768        NaN  0.395181   0.943676  0.001051    0.332658  0.000270   \n",
       "769        NaN  0.019812   0.003369  0.175116    0.040647  0.000037   \n",
       "770        NaN  0.002090   0.001867  0.016085    0.226213  0.000070   \n",
       "...        ...       ...        ...       ...         ...       ...   \n",
       "1054       NaN  0.011826   0.003213  0.013582    0.005770  0.000072   \n",
       "1055       NaN  0.010990   0.004168  0.003202    0.016475  0.004743   \n",
       "1056       NaN  0.002861   0.013068  0.001119    0.011407  0.998236   \n",
       "1057       NaN  0.004220   0.878433  0.025152    0.044000  0.000248   \n",
       "1058       NaN  0.013992   0.002247  0.003987    0.003943  0.000057   \n",
       "\n",
       "      oxychlorine  phyllosilicate  silicate   sulfate   sulfide  \n",
       "766      0.001978        0.016653  0.308473  0.008295  0.000838  \n",
       "767      0.015483        0.037116  0.333673  0.021924  0.000577  \n",
       "768      0.006950        0.322605  0.654329  0.313214  0.001412  \n",
       "769      0.877976        0.029915  0.002030  0.450599  0.000392  \n",
       "770      0.979685        0.967146  0.002144  0.004221  0.000100  \n",
       "...           ...             ...       ...       ...       ...  \n",
       "1054     0.005123        0.019616  0.152837  0.006672  0.000836  \n",
       "1055     0.013901        0.018696  0.341544  0.003407  0.001389  \n",
       "1056     0.002552        0.015114  0.003869  0.003427  0.000464  \n",
       "1057     0.015184        0.078572  0.004713  0.003116  0.000529  \n",
       "1058     0.001930        0.967832  0.008786  0.003972  0.000483  \n",
       "\n",
       "[293 rows x 11 columns]"
      ]
     },
     "metadata": {},
     "output_type": "display_data"
    }
   ],
   "source": [
    "display(test_preds)\n",
    "display(train_preds)"
   ]
  },
  {
   "cell_type": "code",
   "execution_count": 32,
   "id": "b330b3ae",
   "metadata": {
    "execution": {
     "iopub.execute_input": "2022-04-18T15:39:54.264994Z",
     "iopub.status.busy": "2022-04-18T15:39:54.264416Z",
     "iopub.status.idle": "2022-04-18T15:39:54.281678Z",
     "shell.execute_reply": "2022-04-18T15:39:54.281102Z",
     "shell.execute_reply.started": "2022-04-10T12:54:19.41027Z"
    },
    "papermill": {
     "duration": 0.510032,
     "end_time": "2022-04-18T15:39:54.281830",
     "exception": false,
     "start_time": "2022-04-18T15:39:53.771798",
     "status": "completed"
    },
    "tags": []
   },
   "outputs": [
    {
     "name": "stdout",
     "output_type": "stream",
     "text": [
      "basalt 0.1449698086850105\n",
      "carbonate 0.09419039074169877\n",
      "chloride 0.20126053320729925\n",
      "iron_oxide 0.23934461102748875\n",
      "oxalate 0.004095817905780798\n",
      "oxychlorine 0.15823184075424335\n",
      "phyllosilicate 0.22105009173340506\n",
      "silicate 0.1607681896958841\n",
      "sulfate 0.18553146869722542\n",
      "sulfide 0.057331889723221584\n",
      "0.14667746421712574\n"
     ]
    }
   ],
   "source": [
    "agg_loss_train = []\n",
    "for tar in targets.columns:\n",
    "    loss = log_loss(val_labels[tar],train_preds[tar])\n",
    "    print(tar, loss)\n",
    "    agg_loss_train.append(loss)\n",
    "print(np.array(agg_loss_train).mean())"
   ]
  },
  {
   "cell_type": "code",
   "execution_count": 33,
   "id": "8037b924",
   "metadata": {
    "execution": {
     "iopub.execute_input": "2022-04-18T15:39:55.274666Z",
     "iopub.status.busy": "2022-04-18T15:39:55.271130Z",
     "iopub.status.idle": "2022-04-18T15:39:55.289411Z",
     "shell.execute_reply": "2022-04-18T15:39:55.289836Z",
     "shell.execute_reply.started": "2022-04-10T12:55:27.164665Z"
    },
    "papermill": {
     "duration": 0.51345,
     "end_time": "2022-04-18T15:39:55.289973",
     "exception": false,
     "start_time": "2022-04-18T15:39:54.776523",
     "status": "completed"
    },
    "tags": []
   },
   "outputs": [
    {
     "name": "stdout",
     "output_type": "stream",
     "text": [
      "basalt 0.0248366137402643\n",
      "carbonate 0.014295268356633492\n",
      "chloride 0.03520467980169883\n",
      "iron_oxide 0.05102750174348541\n",
      "oxalate 0.0007399845772972207\n",
      "oxychlorine 0.02741390861445691\n",
      "phyllosilicate 0.057540429012452377\n",
      "silicate 0.038926759970120746\n",
      "sulfate 0.03125136433686359\n",
      "sulfide 0.005341886475453164\n",
      "0.028657839662872598\n"
     ]
    }
   ],
   "source": [
    "agg_loss_test = []\n",
    "for tar in targets.columns:\n",
    "    loss = log_loss(val_labels[tar],test_preds[tar])\n",
    "    print(tar, loss)\n",
    "    agg_loss_test.append(loss)\n",
    "print(np.array(agg_loss_test).mean())"
   ]
  },
  {
   "cell_type": "code",
   "execution_count": 34,
   "id": "8a6e223f",
   "metadata": {
    "execution": {
     "iopub.execute_input": "2022-04-18T15:39:56.303045Z",
     "iopub.status.busy": "2022-04-18T15:39:56.302242Z",
     "iopub.status.idle": "2022-04-18T15:39:56.307888Z",
     "shell.execute_reply": "2022-04-18T15:39:56.308303Z",
     "shell.execute_reply.started": "2022-04-10T12:55:36.984829Z"
    },
    "papermill": {
     "duration": 0.519538,
     "end_time": "2022-04-18T15:39:56.308435",
     "exception": false,
     "start_time": "2022-04-18T15:39:55.788897",
     "status": "completed"
    },
    "tags": []
   },
   "outputs": [],
   "source": [
    "oof_test_df.sample_id = metadata[metadata.split != 'train'].sample_id\n",
    "oof_train_df.sample_id = metadata[metadata.split != 'test'].sample_id"
   ]
  },
  {
   "cell_type": "code",
   "execution_count": 35,
   "id": "c5a04818",
   "metadata": {
    "execution": {
     "iopub.execute_input": "2022-04-18T15:39:57.350446Z",
     "iopub.status.busy": "2022-04-18T15:39:57.349645Z",
     "iopub.status.idle": "2022-04-18T15:39:57.393458Z",
     "shell.execute_reply": "2022-04-18T15:39:57.392949Z",
     "shell.execute_reply.started": "2022-04-10T12:55:53.300665Z"
    },
    "papermill": {
     "duration": 0.589602,
     "end_time": "2022-04-18T15:39:57.393580",
     "exception": false,
     "start_time": "2022-04-18T15:39:56.803978",
     "status": "completed"
    },
    "tags": []
   },
   "outputs": [],
   "source": [
    "oof_train_df.to_csv(oof_train_path, index=False)\n",
    "oof_test_df.to_csv(oof_test_path, index=False)"
   ]
  },
  {
   "cell_type": "code",
   "execution_count": null,
   "id": "6a6792c7",
   "metadata": {
    "papermill": {
     "duration": 0.490354,
     "end_time": "2022-04-18T15:39:58.371869",
     "exception": false,
     "start_time": "2022-04-18T15:39:57.881515",
     "status": "completed"
    },
    "tags": []
   },
   "outputs": [],
   "source": []
  }
 ],
 "metadata": {
  "kernelspec": {
   "display_name": "Python 3",
   "language": "python",
   "name": "python3"
  },
  "language_info": {
   "codemirror_mode": {
    "name": "ipython",
    "version": 3
   },
   "file_extension": ".py",
   "mimetype": "text/x-python",
   "name": "python",
   "nbconvert_exporter": "python",
   "pygments_lexer": "ipython3",
   "version": "3.7.12"
  },
  "papermill": {
   "default_parameters": {},
   "duration": 11226.267283,
   "end_time": "2022-04-18T15:39:59.687240",
   "environment_variables": {},
   "exception": null,
   "input_path": "__notebook__.ipynb",
   "output_path": "__notebook__.ipynb",
   "parameters": {},
   "start_time": "2022-04-18T12:32:53.419957",
   "version": "2.3.3"
  }
 },
 "nbformat": 4,
 "nbformat_minor": 5
}
