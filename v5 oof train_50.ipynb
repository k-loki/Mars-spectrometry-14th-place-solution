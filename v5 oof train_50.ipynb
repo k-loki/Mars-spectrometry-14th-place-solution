{
 "cells": [
  {
   "cell_type": "code",
   "execution_count": 3,
   "id": "8c1c79a8",
   "metadata": {
    "execution": {
     "iopub.execute_input": "2022-04-17T20:29:04.604391Z",
     "iopub.status.busy": "2022-04-17T20:29:04.603680Z",
     "iopub.status.idle": "2022-04-17T20:29:08.646196Z",
     "shell.execute_reply": "2022-04-17T20:29:08.645478Z",
     "shell.execute_reply.started": "2022-04-17T20:04:33.827434Z"
    },
    "papermill": {
     "duration": 4.082937,
     "end_time": "2022-04-17T20:29:08.646349",
     "exception": false,
     "start_time": "2022-04-17T20:29:04.563412",
     "status": "completed"
    },
    "tags": []
   },
   "outputs": [
    {
     "data": {
      "text/html": [
       "<style type='text/css'>\n",
       ".datatable table.frame { margin-bottom: 0; }\n",
       ".datatable table.frame thead { border-bottom: none; }\n",
       ".datatable table.frame tr.coltypes td {  color: #FFFFFF;  line-height: 6px;  padding: 0 0.5em;}\n",
       ".datatable .bool    { background: #DDDD99; }\n",
       ".datatable .object  { background: #565656; }\n",
       ".datatable .int     { background: #5D9E5D; }\n",
       ".datatable .float   { background: #4040CC; }\n",
       ".datatable .str     { background: #CC4040; }\n",
       ".datatable .time    { background: #40CC40; }\n",
       ".datatable .row_index {  background: var(--jp-border-color3);  border-right: 1px solid var(--jp-border-color0);  color: var(--jp-ui-font-color3);  font-size: 9px;}\n",
       ".datatable .frame tbody td { text-align: left; }\n",
       ".datatable .frame tr.coltypes .row_index {  background: var(--jp-border-color0);}\n",
       ".datatable th:nth-child(2) { padding-left: 12px; }\n",
       ".datatable .hellipsis {  color: var(--jp-cell-editor-border-color);}\n",
       ".datatable .vellipsis {  background: var(--jp-layout-color0);  color: var(--jp-cell-editor-border-color);}\n",
       ".datatable .na {  color: var(--jp-cell-editor-border-color);  font-size: 80%;}\n",
       ".datatable .sp {  opacity: 0.25;}\n",
       ".datatable .footer { font-size: 9px; }\n",
       ".datatable .frame_dimensions {  background: var(--jp-border-color3);  border-top: 1px solid var(--jp-border-color0);  color: var(--jp-ui-font-color3);  display: inline-block;  opacity: 0.6;  padding: 1px 10px 1px 5px;}\n",
       "</style>\n"
      ],
      "text/plain": [
       "<IPython.core.display.HTML object>"
      ]
     },
     "metadata": {},
     "output_type": "display_data"
    }
   ],
   "source": [
    "import pandas as pd\n",
    "import pandas_profiling\n",
    "import numpy as np\n",
    "import matplotlib.pyplot as plt\n",
    "%matplotlib inline\n",
    "import seaborn as sns\n",
    "from tqdm import tqdm\n",
    "\n",
    "from sklearn.preprocessing import QuantileTransformer, PowerTransformer\n",
    "from sklearn.metrics import make_scorer, log_loss\n",
    "from sklearn.model_selection import StratifiedKFold, cross_val_score\n",
    "from sklearn.ensemble import HistGradientBoostingClassifier\n",
    "from sklearn.linear_model import LogisticRegression\n",
    "from sklearn.calibration import CalibratedClassifierCV, calibration_curve\n",
    "\n",
    "from catboost import CatBoostClassifier\n",
    "from xgboost import XGBClassifier\n",
    "from lightgbm import LGBMClassifier\n",
    "\n",
    "RANDOM_SEED = 777\n",
    "np.random.seed(RANDOM_SEED)\n",
    "np.random.SeedSequence(RANDOM_SEED)\n",
    "import warnings\n",
    "warnings.filterwarnings('ignore')\n",
    "import os\n",
    "os.environ['PYTHONHASHSEED'] = str(RANDOM_SEED)"
   ]
  },
  {
   "cell_type": "code",
   "execution_count": 4,
   "id": "fec2af7a",
   "metadata": {
    "execution": {
     "iopub.execute_input": "2022-04-17T20:29:08.729357Z",
     "iopub.status.busy": "2022-04-17T20:29:08.728563Z",
     "iopub.status.idle": "2022-04-17T20:29:08.790570Z",
     "shell.execute_reply": "2022-04-17T20:29:08.791146Z",
     "shell.execute_reply.started": "2022-04-17T20:04:38.011624Z"
    },
    "papermill": {
     "duration": 0.107688,
     "end_time": "2022-04-17T20:29:08.791328",
     "exception": false,
     "start_time": "2022-04-17T20:29:08.683640",
     "status": "completed"
    },
    "tags": []
   },
   "outputs": [],
   "source": [
    "metadata = pd.read_csv('../input/is-this-crazy/metadata.csv')\n",
    "sup_metadata = pd.read_csv('../input/is-this-crazy/supplemental_metadata.csv')\n",
    "train_labels = pd.read_csv('../input/is-this-crazy/train_labels.csv', index_col=\"sample_id\")\n",
    "val_labels = pd.read_csv('../input/is-this-crazy/val_labels.csv',index_col='sample_id')\n",
    "# targets = pd.read_csv('targets.csv',index_col='sample_id')\n",
    "submission_format = pd.read_csv('../input/is-this-crazy/submission_format.csv')"
   ]
  },
  {
   "cell_type": "code",
   "execution_count": 5,
   "id": "f631531b",
   "metadata": {
    "execution": {
     "iopub.execute_input": "2022-04-17T20:29:08.872809Z",
     "iopub.status.busy": "2022-04-17T20:29:08.871924Z",
     "iopub.status.idle": "2022-04-17T20:29:08.876659Z",
     "shell.execute_reply": "2022-04-17T20:29:08.875928Z",
     "shell.execute_reply.started": "2022-04-17T20:04:40.737290Z"
    },
    "papermill": {
     "duration": 0.048599,
     "end_time": "2022-04-17T20:29:08.876811",
     "exception": false,
     "start_time": "2022-04-17T20:29:08.828212",
     "status": "completed"
    },
    "tags": []
   },
   "outputs": [
    {
     "data": {
      "text/plain": [
       "(1059, 10)"
      ]
     },
     "execution_count": 5,
     "metadata": {},
     "output_type": "execute_result"
    }
   ],
   "source": [
    "targets = pd.concat([train_labels,val_labels],axis=0)\n",
    "targets.shape"
   ]
  },
  {
   "cell_type": "code",
   "execution_count": 6,
   "id": "be0587b4",
   "metadata": {
    "execution": {
     "iopub.execute_input": "2022-04-17T20:29:08.958820Z",
     "iopub.status.busy": "2022-04-17T20:29:08.957803Z",
     "iopub.status.idle": "2022-04-17T20:29:08.966085Z",
     "shell.execute_reply": "2022-04-17T20:29:08.966675Z",
     "shell.execute_reply.started": "2022-04-17T20:18:55.508163Z"
    },
    "papermill": {
     "duration": 0.05033,
     "end_time": "2022-04-17T20:29:08.966853",
     "exception": false,
     "start_time": "2022-04-17T20:29:08.916523",
     "status": "completed"
    },
    "tags": []
   },
   "outputs": [],
   "source": [
    "sam_id = metadata[metadata.instrument_type == 'sam_testbed'].index"
   ]
  },
  {
   "cell_type": "code",
   "execution_count": 7,
   "id": "5a3abb30",
   "metadata": {
    "execution": {
     "iopub.execute_input": "2022-04-17T20:29:09.046766Z",
     "iopub.status.busy": "2022-04-17T20:29:09.045769Z",
     "iopub.status.idle": "2022-04-17T20:29:09.050340Z",
     "shell.execute_reply": "2022-04-17T20:29:09.050870Z"
    },
    "papermill": {
     "duration": 0.045901,
     "end_time": "2022-04-17T20:29:09.051072",
     "exception": false,
     "start_time": "2022-04-17T20:29:09.005171",
     "status": "completed"
    },
    "tags": []
   },
   "outputs": [],
   "source": [
    "# only change the data sets here...\n",
    "train_path = '../input/train-rg-transformed/train_50.csv'\n",
    "test_path =  '../input/train-rg-transformed/test_50.csv'\n",
    "val_path = '../input/train-rg-transformed/val_50.csv'"
   ]
  },
  {
   "cell_type": "code",
   "execution_count": 8,
   "id": "1c09feeb",
   "metadata": {
    "execution": {
     "iopub.execute_input": "2022-04-17T20:29:09.131902Z",
     "iopub.status.busy": "2022-04-17T20:29:09.131202Z",
     "iopub.status.idle": "2022-04-17T20:29:09.134232Z",
     "shell.execute_reply": "2022-04-17T20:29:09.133637Z"
    },
    "papermill": {
     "duration": 0.044935,
     "end_time": "2022-04-17T20:29:09.134405",
     "exception": false,
     "start_time": "2022-04-17T20:29:09.089470",
     "status": "completed"
    },
    "tags": []
   },
   "outputs": [],
   "source": [
    "oof_train_path = 50\n",
    "oof_test_path = 50"
   ]
  },
  {
   "cell_type": "code",
   "execution_count": 9,
   "id": "a437b2cd",
   "metadata": {
    "execution": {
     "iopub.execute_input": "2022-04-17T20:29:09.218932Z",
     "iopub.status.busy": "2022-04-17T20:29:09.218156Z",
     "iopub.status.idle": "2022-04-17T20:29:12.389450Z",
     "shell.execute_reply": "2022-04-17T20:29:12.388722Z",
     "shell.execute_reply.started": "2022-04-17T20:04:40.977339Z"
    },
    "papermill": {
     "duration": 3.216013,
     "end_time": "2022-04-17T20:29:12.389600",
     "exception": false,
     "start_time": "2022-04-17T20:29:09.173587",
     "status": "completed"
    },
    "tags": []
   },
   "outputs": [
    {
     "name": "stdout",
     "output_type": "stream",
     "text": [
      "CPU times: user 2.5 s, sys: 138 ms, total: 2.64 s\n",
      "Wall time: 3.17 s\n"
     ]
    }
   ],
   "source": [
    "%%time\n",
    "test_100 = pd.read_csv(test_path,index_col=0,header=[0,1])\n",
    "train_100 = pd.read_csv(train_path,index_col=0,header=[0,1])\n",
    "val_100 = pd.read_csv(val_path,index_col=0,header=[0,1])\n",
    "\n",
    "val_100.index = metadata[metadata.split == 'val'].sample_id\n",
    "\n",
    "val_100.sort_index(inplace=True,axis=1)\n",
    "test_100.sort_index(inplace=True,axis=1)\n",
    "train_100.sort_index(inplace=True,axis=1)"
   ]
  },
  {
   "cell_type": "code",
   "execution_count": 10,
   "id": "d3d5b68c",
   "metadata": {
    "execution": {
     "iopub.execute_input": "2022-04-17T20:29:12.470852Z",
     "iopub.status.busy": "2022-04-17T20:29:12.470044Z",
     "iopub.status.idle": "2022-04-17T20:29:12.472222Z",
     "shell.execute_reply": "2022-04-17T20:29:12.472743Z",
     "shell.execute_reply.started": "2022-04-17T20:04:45.292890Z"
    },
    "papermill": {
     "duration": 0.04491,
     "end_time": "2022-04-17T20:29:12.472917",
     "exception": false,
     "start_time": "2022-04-17T20:29:12.428007",
     "status": "completed"
    },
    "tags": []
   },
   "outputs": [],
   "source": [
    "# train_100.drop(columns=[('sample_id_encoded', 'Unnamed: 1601_level_1')],axis=1,inplace=True)"
   ]
  },
  {
   "cell_type": "code",
   "execution_count": 11,
   "id": "253c84a0",
   "metadata": {
    "execution": {
     "iopub.execute_input": "2022-04-17T20:29:12.557114Z",
     "iopub.status.busy": "2022-04-17T20:29:12.556362Z",
     "iopub.status.idle": "2022-04-17T20:29:12.599704Z",
     "shell.execute_reply": "2022-04-17T20:29:12.598987Z",
     "shell.execute_reply.started": "2022-04-17T20:04:45.557946Z"
    },
    "papermill": {
     "duration": 0.08902,
     "end_time": "2022-04-17T20:29:12.599851",
     "exception": false,
     "start_time": "2022-04-17T20:29:12.510831",
     "status": "completed"
    },
    "tags": []
   },
   "outputs": [
    {
     "data": {
      "text/plain": [
       "((1059, 4200), (804, 4200))"
      ]
     },
     "execution_count": 11,
     "metadata": {},
     "output_type": "execute_result"
    }
   ],
   "source": [
    "train_set_100 = pd.concat([train_100,val_100],axis=0)\n",
    "test_set_100 = pd.concat([val_100,test_100],axis=0)\n",
    "train_set_100.shape, test_set_100.shape"
   ]
  },
  {
   "cell_type": "code",
   "execution_count": 12,
   "id": "805c0476",
   "metadata": {
    "execution": {
     "iopub.execute_input": "2022-04-17T20:29:12.682884Z",
     "iopub.status.busy": "2022-04-17T20:29:12.682070Z",
     "iopub.status.idle": "2022-04-17T20:29:12.683630Z",
     "shell.execute_reply": "2022-04-17T20:29:12.684207Z",
     "shell.execute_reply.started": "2022-04-17T20:05:02.932691Z"
    },
    "papermill": {
     "duration": 0.046723,
     "end_time": "2022-04-17T20:29:12.684420",
     "exception": false,
     "start_time": "2022-04-17T20:29:12.637697",
     "status": "completed"
    },
    "tags": []
   },
   "outputs": [],
   "source": [
    "skf = StratifiedKFold(n_splits=20,random_state=RANDOM_SEED,shuffle=True)\n",
    "log_loss_scorer = make_scorer(log_loss,needs_proba=True)"
   ]
  },
  {
   "cell_type": "code",
   "execution_count": 13,
   "id": "54aa6393",
   "metadata": {
    "execution": {
     "iopub.execute_input": "2022-04-17T20:29:12.766616Z",
     "iopub.status.busy": "2022-04-17T20:29:12.765344Z",
     "iopub.status.idle": "2022-04-17T20:29:12.776641Z",
     "shell.execute_reply": "2022-04-17T20:29:12.777155Z",
     "shell.execute_reply.started": "2022-04-17T20:05:03.332460Z"
    },
    "papermill": {
     "duration": 0.053299,
     "end_time": "2022-04-17T20:29:12.777355",
     "exception": false,
     "start_time": "2022-04-17T20:29:12.724056",
     "status": "completed"
    },
    "tags": []
   },
   "outputs": [
    {
     "data": {
      "text/plain": [
       "LogisticRegression(C=10, penalty='l1', random_state=777, solver='liblinear')"
      ]
     },
     "execution_count": 13,
     "metadata": {},
     "output_type": "execute_result"
    }
   ],
   "source": [
    "phy = 'phyllosilicate'\n",
    "bas = 'basalt'\n",
    "lr = LogisticRegression(solver='liblinear',C=10,random_state=RANDOM_SEED,penalty='l1')\n",
    "lr"
   ]
  },
  {
   "cell_type": "code",
   "execution_count": 14,
   "id": "f16c0164",
   "metadata": {
    "execution": {
     "iopub.execute_input": "2022-04-17T20:29:12.858249Z",
     "iopub.status.busy": "2022-04-17T20:29:12.857614Z",
     "iopub.status.idle": "2022-04-17T20:29:12.865653Z",
     "shell.execute_reply": "2022-04-17T20:29:12.866202Z",
     "shell.execute_reply.started": "2022-04-17T20:05:12.678976Z"
    },
    "papermill": {
     "duration": 0.050442,
     "end_time": "2022-04-17T20:29:12.866383",
     "exception": false,
     "start_time": "2022-04-17T20:29:12.815941",
     "status": "completed"
    },
    "tags": []
   },
   "outputs": [],
   "source": [
    "def get_coefs(X,y,c):\n",
    "    lr = LogisticRegression(solver='liblinear',C=c,random_state=RANDOM_SEED,penalty='l1')\n",
    "    print(cross_val_score(lr,X,y,cv=skf,scoring=log_loss_scorer).mean())\n",
    "    lr.fit(X,y)\n",
    "    # print(log_loss(y,lr.predict_proba(X)))\n",
    "    coefs =  lr.coef_\n",
    "    coefs_list  = []\n",
    "    for id,wt in enumerate(tqdm(coefs[0])):\n",
    "        if wt != 0:\n",
    "            coefs_list.append(id)\n",
    "    print(len(coefs_list))\n",
    "    return coefs_list"
   ]
  },
  {
   "cell_type": "code",
   "execution_count": 15,
   "id": "81d8daaf",
   "metadata": {
    "execution": {
     "iopub.execute_input": "2022-04-17T20:29:12.950051Z",
     "iopub.status.busy": "2022-04-17T20:29:12.949380Z",
     "iopub.status.idle": "2022-04-17T20:29:12.954455Z",
     "shell.execute_reply": "2022-04-17T20:29:12.954999Z",
     "shell.execute_reply.started": "2022-04-17T20:05:12.848008Z"
    },
    "papermill": {
     "duration": 0.049378,
     "end_time": "2022-04-17T20:29:12.955200",
     "exception": false,
     "start_time": "2022-04-17T20:29:12.905822",
     "status": "completed"
    },
    "tags": []
   },
   "outputs": [],
   "source": [
    "def get_mz(mz,df):\n",
    "    ''' returns list of columns for given mz'''\n",
    "    cols_list = []\n",
    "    for col in df.columns:\n",
    "        if col[0] == str(mz):\n",
    "            cols_list.append(col)\n",
    "    return cols_list"
   ]
  },
  {
   "cell_type": "code",
   "execution_count": 16,
   "id": "4720840a",
   "metadata": {
    "execution": {
     "iopub.execute_input": "2022-04-17T20:29:13.038858Z",
     "iopub.status.busy": "2022-04-17T20:29:13.038183Z",
     "iopub.status.idle": "2022-04-17T20:29:13.044619Z",
     "shell.execute_reply": "2022-04-17T20:29:13.045187Z",
     "shell.execute_reply.started": "2022-04-17T20:05:13.498441Z"
    },
    "papermill": {
     "duration": 0.049447,
     "end_time": "2022-04-17T20:29:13.045368",
     "exception": false,
     "start_time": "2022-04-17T20:29:12.995921",
     "status": "completed"
    },
    "tags": []
   },
   "outputs": [],
   "source": [
    "def get_total_abundance(df):\n",
    "    ''' returns total abundance for each sample'''\n",
    "    tot_abund_df = pd.DataFrame(index=df.index)\n",
    "    tot_abund_df['tot_abund'] = df.sum(axis=1)\n",
    "    for mz in tqdm(range(0,100)):\n",
    "        tot_abund_df[f\"tot_abund_{mz}\"] = df[get_mz(mz,df)].sum(axis=1)\n",
    "    print(tot_abund_df.shape)\n",
    "    return tot_abund_df"
   ]
  },
  {
   "cell_type": "code",
   "execution_count": 17,
   "id": "4bee617c",
   "metadata": {
    "execution": {
     "iopub.execute_input": "2022-04-17T20:29:13.131758Z",
     "iopub.status.busy": "2022-04-17T20:29:13.126321Z",
     "iopub.status.idle": "2022-04-17T20:29:13.133757Z",
     "shell.execute_reply": "2022-04-17T20:29:13.134317Z",
     "shell.execute_reply.started": "2022-04-17T20:05:15.108258Z"
    },
    "papermill": {
     "duration": 0.050544,
     "end_time": "2022-04-17T20:29:13.134497",
     "exception": false,
     "start_time": "2022-04-17T20:29:13.083953",
     "status": "completed"
    },
    "tags": []
   },
   "outputs": [],
   "source": [
    "def get_grads(df,bin_size=5):\n",
    "    ''' returns gradients for each mz'''\n",
    "    grad_df = pd.DataFrame(index=df.index)\n",
    "    for mz in tqdm(range(0,100)):\n",
    "        df_mz = df.loc[:,get_mz(mz,df)]\n",
    "        # df_mz_col1 = df_mz.iloc[:,0].values\n",
    "        df_mz = df_mz.diff(axis=1)\n",
    "        # df_mz.iloc[:,0] = df_mz_col1\n",
    "        df_mz.dropna(axis='columns',inplace=True)\n",
    "        # df_mz = df_mz/bin_size\n",
    "        df_mz.columns = [col[0]+ '_' + col[1] + '_' + 'grad' for col in df_mz.columns]\n",
    "        grad_df = pd.concat([grad_df,df_mz],axis=1)\n",
    "    print(grad_df.shape)\n",
    "\n",
    "    return  grad_df"
   ]
  },
  {
   "cell_type": "code",
   "execution_count": 18,
   "id": "5f2a38ee",
   "metadata": {
    "execution": {
     "iopub.execute_input": "2022-04-17T20:29:13.215725Z",
     "iopub.status.busy": "2022-04-17T20:29:13.215087Z",
     "iopub.status.idle": "2022-04-17T20:29:13.221629Z",
     "shell.execute_reply": "2022-04-17T20:29:13.222141Z",
     "shell.execute_reply.started": "2022-04-17T20:05:15.907891Z"
    },
    "papermill": {
     "duration": 0.049366,
     "end_time": "2022-04-17T20:29:13.222314",
     "exception": false,
     "start_time": "2022-04-17T20:29:13.172948",
     "status": "completed"
    },
    "tags": []
   },
   "outputs": [],
   "source": [
    "def get_mean_std(df):\n",
    "    ''' returns mean and std for each mz'''\n",
    "    mean_std_df = pd.DataFrame(index=df.index)\n",
    "    for mz in tqdm(range(0,100)):\n",
    "        df_mz = df.loc[:,get_mz(mz,df)]\n",
    "        df_mz[f'{mz}_mean'] = df_mz.mean(axis=1)\n",
    "        df_mz[f'{mz}_std'] = df_mz.std(axis=1)\n",
    "        mean_std_df = pd.concat([mean_std_df,df_mz],axis=1)\n",
    "    print(mean_std_df.shape)\n",
    "    return mean_std_df"
   ]
  },
  {
   "cell_type": "code",
   "execution_count": 19,
   "id": "e3d32cbe",
   "metadata": {
    "execution": {
     "iopub.execute_input": "2022-04-17T20:29:13.303624Z",
     "iopub.status.busy": "2022-04-17T20:29:13.302900Z",
     "iopub.status.idle": "2022-04-17T20:29:13.305951Z",
     "shell.execute_reply": "2022-04-17T20:29:13.306522Z",
     "shell.execute_reply.started": "2022-04-17T20:05:16.818380Z"
    },
    "papermill": {
     "duration": 0.045969,
     "end_time": "2022-04-17T20:29:13.306689",
     "exception": false,
     "start_time": "2022-04-17T20:29:13.260720",
     "status": "completed"
    },
    "tags": []
   },
   "outputs": [],
   "source": [
    "# def add_fts(df):\n",
    "#     tot_abund_df = get_total_abundance(df)\n",
    "#     grad_df = get_grads(df)\n",
    "#     mean_std_df = get_mean_std(df)\n",
    "#     new_df = pd.concat([tot_abund_df,grad_df,mean_std_df],axis=1)\n",
    "#     return new_df"
   ]
  },
  {
   "cell_type": "code",
   "execution_count": 20,
   "id": "78055c85",
   "metadata": {
    "execution": {
     "iopub.execute_input": "2022-04-17T20:29:13.388523Z",
     "iopub.status.busy": "2022-04-17T20:29:13.387793Z",
     "iopub.status.idle": "2022-04-17T20:29:13.394651Z",
     "shell.execute_reply": "2022-04-17T20:29:13.393982Z",
     "shell.execute_reply.started": "2022-04-17T20:05:19.717821Z"
    },
    "papermill": {
     "duration": 0.049725,
     "end_time": "2022-04-17T20:29:13.394790",
     "exception": false,
     "start_time": "2022-04-17T20:29:13.345065",
     "status": "completed"
    },
    "tags": []
   },
   "outputs": [
    {
     "data": {
      "text/plain": [
       "((1059, 4200), (804, 4200))"
      ]
     },
     "execution_count": 20,
     "metadata": {},
     "output_type": "execute_result"
    }
   ],
   "source": [
    "train_set_100.shape, test_set_100.shape"
   ]
  },
  {
   "cell_type": "code",
   "execution_count": 21,
   "id": "a17c01f8",
   "metadata": {
    "execution": {
     "iopub.execute_input": "2022-04-17T20:29:13.482093Z",
     "iopub.status.busy": "2022-04-17T20:29:13.479530Z",
     "iopub.status.idle": "2022-04-17T20:29:13.485280Z",
     "shell.execute_reply": "2022-04-17T20:29:13.484735Z",
     "shell.execute_reply.started": "2022-04-17T20:17:45.984539Z"
    },
    "papermill": {
     "duration": 0.051721,
     "end_time": "2022-04-17T20:29:13.485427",
     "exception": false,
     "start_time": "2022-04-17T20:29:13.433706",
     "status": "completed"
    },
    "tags": []
   },
   "outputs": [],
   "source": [
    "assert (train_set_100.columns == test_set_100.columns).all()"
   ]
  },
  {
   "cell_type": "code",
   "execution_count": 22,
   "id": "436e981f",
   "metadata": {
    "execution": {
     "iopub.execute_input": "2022-04-17T20:29:13.585352Z",
     "iopub.status.busy": "2022-04-17T20:29:13.584657Z",
     "iopub.status.idle": "2022-04-17T20:29:17.638487Z",
     "shell.execute_reply": "2022-04-17T20:29:17.637688Z",
     "shell.execute_reply.started": "2022-04-17T20:17:54.088738Z"
    },
    "papermill": {
     "duration": 4.114634,
     "end_time": "2022-04-17T20:29:17.638745",
     "exception": false,
     "start_time": "2022-04-17T20:29:13.524111",
     "status": "completed"
    },
    "tags": []
   },
   "outputs": [
    {
     "name": "stderr",
     "output_type": "stream",
     "text": [
      "100%|██████████| 100/100 [00:00<00:00, 166.92it/s]\n"
     ]
    },
    {
     "name": "stdout",
     "output_type": "stream",
     "text": [
      "(1059, 101)\n"
     ]
    },
    {
     "name": "stderr",
     "output_type": "stream",
     "text": [
      "100%|██████████| 100/100 [00:01<00:00, 61.04it/s]\n"
     ]
    },
    {
     "name": "stdout",
     "output_type": "stream",
     "text": [
      "(1059, 4100)\n"
     ]
    },
    {
     "name": "stderr",
     "output_type": "stream",
     "text": [
      "100%|██████████| 100/100 [00:01<00:00, 56.45it/s]"
     ]
    },
    {
     "name": "stdout",
     "output_type": "stream",
     "text": [
      "(1059, 4400)\n"
     ]
    },
    {
     "name": "stderr",
     "output_type": "stream",
     "text": [
      "\n"
     ]
    }
   ],
   "source": [
    "t_100 = get_total_abundance(train_set_100)\n",
    "g_100 = get_grads(train_set_100)\n",
    "m_100 = get_mean_std(train_set_100)"
   ]
  },
  {
   "cell_type": "code",
   "execution_count": 23,
   "id": "b4fb94e0",
   "metadata": {
    "execution": {
     "iopub.execute_input": "2022-04-17T20:29:17.767459Z",
     "iopub.status.busy": "2022-04-17T20:29:17.766696Z",
     "iopub.status.idle": "2022-04-17T20:29:21.515036Z",
     "shell.execute_reply": "2022-04-17T20:29:21.515644Z",
     "shell.execute_reply.started": "2022-04-17T20:17:56.330876Z"
    },
    "papermill": {
     "duration": 3.818013,
     "end_time": "2022-04-17T20:29:21.515859",
     "exception": false,
     "start_time": "2022-04-17T20:29:17.697846",
     "status": "completed"
    },
    "tags": []
   },
   "outputs": [
    {
     "name": "stderr",
     "output_type": "stream",
     "text": [
      "100%|██████████| 100/100 [00:00<00:00, 142.04it/s]\n"
     ]
    },
    {
     "name": "stdout",
     "output_type": "stream",
     "text": [
      "(804, 101)\n"
     ]
    },
    {
     "name": "stderr",
     "output_type": "stream",
     "text": [
      "100%|██████████| 100/100 [00:01<00:00, 63.00it/s]\n"
     ]
    },
    {
     "name": "stdout",
     "output_type": "stream",
     "text": [
      "(804, 4100)\n"
     ]
    },
    {
     "name": "stderr",
     "output_type": "stream",
     "text": [
      "100%|██████████| 100/100 [00:01<00:00, 70.69it/s]"
     ]
    },
    {
     "name": "stdout",
     "output_type": "stream",
     "text": [
      "(804, 4400)\n"
     ]
    },
    {
     "name": "stderr",
     "output_type": "stream",
     "text": [
      "\n"
     ]
    }
   ],
   "source": [
    "t_100_test = get_total_abundance(test_set_100)\n",
    "g_100_test = get_grads(test_set_100)\n",
    "m_100_test = get_mean_std(test_set_100)\n"
   ]
  },
  {
   "cell_type": "code",
   "execution_count": 24,
   "id": "8d335634",
   "metadata": {
    "execution": {
     "iopub.execute_input": "2022-04-17T20:29:21.684393Z",
     "iopub.status.busy": "2022-04-17T20:29:21.676756Z",
     "iopub.status.idle": "2022-04-17T20:29:21.769792Z",
     "shell.execute_reply": "2022-04-17T20:29:21.769202Z",
     "shell.execute_reply.started": "2022-04-17T20:17:58.471549Z"
    },
    "papermill": {
     "duration": 0.18122,
     "end_time": "2022-04-17T20:29:21.769947",
     "exception": false,
     "start_time": "2022-04-17T20:29:21.588727",
     "status": "completed"
    },
    "tags": []
   },
   "outputs": [],
   "source": [
    "t_100_test.sort_index(inplace=True,axis=1)\n",
    "t_100.sort_index(inplace=True,axis=1)\n",
    "\n",
    "m_100_test.sort_index(inplace=True,axis=1)\n",
    "m_100.sort_index(inplace=True,axis=1)\n",
    "\n",
    "g_100_test.sort_index(inplace=True,axis=1)\n",
    "g_100.sort_index(inplace=True,axis=1)"
   ]
  },
  {
   "cell_type": "code",
   "execution_count": 25,
   "id": "d2e6116a",
   "metadata": {
    "execution": {
     "iopub.execute_input": "2022-04-17T20:29:21.925618Z",
     "iopub.status.busy": "2022-04-17T20:29:21.924524Z",
     "iopub.status.idle": "2022-04-17T20:29:21.926691Z",
     "shell.execute_reply": "2022-04-17T20:29:21.927178Z",
     "shell.execute_reply.started": "2022-04-17T20:18:06.298361Z"
    },
    "papermill": {
     "duration": 0.084669,
     "end_time": "2022-04-17T20:29:21.927369",
     "exception": false,
     "start_time": "2022-04-17T20:29:21.842700",
     "status": "completed"
    },
    "tags": []
   },
   "outputs": [],
   "source": [
    "assert (t_100.columns == t_100_test.columns).all()\n",
    "assert (g_100.columns == g_100_test.columns).all()\n",
    "assert (m_100.columns == m_100_test.columns).all()"
   ]
  },
  {
   "cell_type": "code",
   "execution_count": 26,
   "id": "80d9919d",
   "metadata": {
    "execution": {
     "iopub.execute_input": "2022-04-17T20:29:22.074521Z",
     "iopub.status.busy": "2022-04-17T20:29:22.073386Z",
     "iopub.status.idle": "2022-04-17T20:29:22.077456Z",
     "shell.execute_reply": "2022-04-17T20:29:22.076562Z",
     "shell.execute_reply.started": "2022-04-17T20:18:06.998448Z"
    },
    "papermill": {
     "duration": 0.079404,
     "end_time": "2022-04-17T20:29:22.077649",
     "exception": false,
     "start_time": "2022-04-17T20:29:21.998245",
     "status": "completed"
    },
    "tags": [],
    "vscode": {
     "languageId": "perl"
    }
   },
   "outputs": [],
   "source": [
    "ntrain = 1059\n",
    "ntest = 804\n",
    "NFOLDS = 20"
   ]
  },
  {
   "cell_type": "code",
   "execution_count": 27,
   "id": "9d135f12",
   "metadata": {
    "execution": {
     "iopub.execute_input": "2022-04-17T20:29:22.231928Z",
     "iopub.status.busy": "2022-04-17T20:29:22.228980Z",
     "iopub.status.idle": "2022-04-17T20:29:22.235652Z",
     "shell.execute_reply": "2022-04-17T20:29:22.234962Z",
     "shell.execute_reply.started": "2022-04-17T20:18:09.733556Z"
    },
    "papermill": {
     "duration": 0.087094,
     "end_time": "2022-04-17T20:29:22.235796",
     "exception": false,
     "start_time": "2022-04-17T20:29:22.148702",
     "status": "completed"
    },
    "tags": [],
    "vscode": {
     "languageId": "perl"
    }
   },
   "outputs": [],
   "source": [
    "oof_train_df = pd.DataFrame(index=metadata[metadata.split != 'test'].index, columns=['sample_id',*targets.columns])\n",
    "oof_test_df = pd.DataFrame(index=metadata[metadata.split != 'train'].index, columns=['sample_id',*targets.columns])"
   ]
  },
  {
   "cell_type": "code",
   "execution_count": 28,
   "id": "0bc98182",
   "metadata": {
    "execution": {
     "iopub.execute_input": "2022-04-17T20:29:22.386466Z",
     "iopub.status.busy": "2022-04-17T20:29:22.385412Z",
     "iopub.status.idle": "2022-04-18T04:45:23.124356Z",
     "shell.execute_reply": "2022-04-18T04:45:23.120428Z"
    },
    "papermill": {
     "duration": 29760.818048,
     "end_time": "2022-04-18T04:45:23.124519",
     "exception": false,
     "start_time": "2022-04-17T20:29:22.306471",
     "status": "completed"
    },
    "tags": []
   },
   "outputs": [
    {
     "name": "stdout",
     "output_type": "stream",
     "text": [
      "TARGET  basalt\n",
      "0.3112205505177341\n"
     ]
    },
    {
     "name": "stderr",
     "output_type": "stream",
     "text": [
      "100%|██████████| 101/101 [00:00<00:00, 312177.38it/s]"
     ]
    },
    {
     "name": "stdout",
     "output_type": "stream",
     "text": [
      "13\n"
     ]
    },
    {
     "name": "stderr",
     "output_type": "stream",
     "text": [
      "\n"
     ]
    },
    {
     "name": "stdout",
     "output_type": "stream",
     "text": [
      "0.25889590246973515\n"
     ]
    },
    {
     "name": "stderr",
     "output_type": "stream",
     "text": [
      "100%|██████████| 4100/4100 [00:00<00:00, 842436.02it/s]\n"
     ]
    },
    {
     "name": "stdout",
     "output_type": "stream",
     "text": [
      "60\n",
      "0.25934269357685397\n"
     ]
    },
    {
     "name": "stderr",
     "output_type": "stream",
     "text": [
      "100%|██████████| 4400/4400 [00:00<00:00, 834046.08it/s]\n"
     ]
    },
    {
     "name": "stdout",
     "output_type": "stream",
     "text": [
      "91\n",
      "0.25778268631625306\n"
     ]
    },
    {
     "name": "stderr",
     "output_type": "stream",
     "text": [
      "100%|██████████| 4200/4200 [00:00<00:00, 790667.72it/s]\n"
     ]
    },
    {
     "name": "stdout",
     "output_type": "stream",
     "text": [
      "87\n",
      "(1059, 87) (1059, 13) (1059, 60) (1059, 91)\n",
      "(1059, 251)\n",
      "(804, 87) (804, 13) (804, 60) (804, 91)\n",
      "(804, 251)\n"
     ]
    },
    {
     "name": "stderr",
     "output_type": "stream",
     "text": [
      "0it [00:00, ?it/s]"
     ]
    },
    {
     "name": "stdout",
     "output_type": "stream",
     "text": [
      "Learning rate set to 0.002361\n",
      "0:\tlearn: 0.6906298\ttotal: 108ms\tremaining: 8m 59s\n",
      "999:\tlearn: 0.1385561\ttotal: 29.8s\tremaining: 1m 59s\n",
      "1998:\tlearn: 0.0784278\ttotal: 59.6s\tremaining: 1m 29s\n",
      "2997:\tlearn: 0.0508456\ttotal: 1m 30s\tremaining: 1m\n",
      "3996:\tlearn: 0.0332842\ttotal: 2m\tremaining: 30.3s\n",
      "4995:\tlearn: 0.0231759\ttotal: 2m 31s\tremaining: 121ms\n",
      "4999:\tlearn: 0.0231573\ttotal: 2m 31s\tremaining: 0us\n"
     ]
    },
    {
     "name": "stderr",
     "output_type": "stream",
     "text": [
      "1it [02:32, 152.30s/it]"
     ]
    },
    {
     "name": "stdout",
     "output_type": "stream",
     "text": [
      "fold Loss 0:  0.12155705507529103\n",
      "---------------------------------------------------------------------------\n",
      "Learning rate set to 0.002361\n",
      "0:\tlearn: 0.6904264\ttotal: 46.5ms\tremaining: 3m 52s\n",
      "999:\tlearn: 0.1375215\ttotal: 30.7s\tremaining: 2m 2s\n",
      "1998:\tlearn: 0.0785671\ttotal: 1m 1s\tremaining: 1m 31s\n",
      "2997:\tlearn: 0.0503834\ttotal: 1m 31s\tremaining: 1m 1s\n",
      "3996:\tlearn: 0.0344146\ttotal: 2m 2s\tremaining: 30.7s\n",
      "4995:\tlearn: 0.0237828\ttotal: 2m 33s\tremaining: 123ms\n",
      "4999:\tlearn: 0.0237469\ttotal: 2m 33s\tremaining: 0us\n"
     ]
    },
    {
     "name": "stderr",
     "output_type": "stream",
     "text": [
      "2it [05:06, 153.62s/it]"
     ]
    },
    {
     "name": "stdout",
     "output_type": "stream",
     "text": [
      "fold Loss 1:  0.18434696074050688\n",
      "---------------------------------------------------------------------------\n",
      "Learning rate set to 0.002361\n",
      "0:\tlearn: 0.6904630\ttotal: 121ms\tremaining: 10m 5s\n",
      "999:\tlearn: 0.1406118\ttotal: 32s\tremaining: 2m 7s\n",
      "1998:\tlearn: 0.0801901\ttotal: 1m 2s\tremaining: 1m 34s\n",
      "2997:\tlearn: 0.0521951\ttotal: 1m 33s\tremaining: 1m 2s\n",
      "3996:\tlearn: 0.0347958\ttotal: 2m 3s\tremaining: 31s\n",
      "4995:\tlearn: 0.0243355\ttotal: 2m 33s\tremaining: 123ms\n",
      "4999:\tlearn: 0.0243158\ttotal: 2m 33s\tremaining: 0us\n"
     ]
    },
    {
     "name": "stderr",
     "output_type": "stream",
     "text": [
      "3it [07:41, 154.12s/it]"
     ]
    },
    {
     "name": "stdout",
     "output_type": "stream",
     "text": [
      "fold Loss 2:  0.090687393809631\n",
      "---------------------------------------------------------------------------\n",
      "Learning rate set to 0.002361\n",
      "0:\tlearn: 0.6905154\ttotal: 66.5ms\tremaining: 5m 32s\n",
      "999:\tlearn: 0.1381498\ttotal: 29.7s\tremaining: 1m 58s\n",
      "1998:\tlearn: 0.0783952\ttotal: 59.9s\tremaining: 1m 29s\n",
      "2997:\tlearn: 0.0497326\ttotal: 1m 30s\tremaining: 1m\n",
      "3996:\tlearn: 0.0330964\ttotal: 2m\tremaining: 30.1s\n",
      "4995:\tlearn: 0.0233135\ttotal: 2m 29s\tremaining: 120ms\n",
      "4999:\tlearn: 0.0232849\ttotal: 2m 30s\tremaining: 0us\n"
     ]
    },
    {
     "name": "stderr",
     "output_type": "stream",
     "text": [
      "4it [10:12, 152.88s/it]"
     ]
    },
    {
     "name": "stdout",
     "output_type": "stream",
     "text": [
      "fold Loss 3:  0.07860520126193576\n",
      "---------------------------------------------------------------------------\n",
      "Learning rate set to 0.002361\n",
      "0:\tlearn: 0.6904632\ttotal: 58.2ms\tremaining: 4m 50s\n",
      "999:\tlearn: 0.1407551\ttotal: 30s\tremaining: 1m 59s\n",
      "1998:\tlearn: 0.0797680\ttotal: 1m\tremaining: 1m 30s\n",
      "2997:\tlearn: 0.0510155\ttotal: 1m 30s\tremaining: 1m\n",
      "3996:\tlearn: 0.0345483\ttotal: 2m 1s\tremaining: 30.4s\n",
      "4995:\tlearn: 0.0244290\ttotal: 2m 31s\tremaining: 121ms\n",
      "4999:\tlearn: 0.0243967\ttotal: 2m 31s\tremaining: 0us\n"
     ]
    },
    {
     "name": "stderr",
     "output_type": "stream",
     "text": [
      "5it [12:44, 152.64s/it]"
     ]
    },
    {
     "name": "stdout",
     "output_type": "stream",
     "text": [
      "fold Loss 4:  0.07041532782895048\n",
      "---------------------------------------------------------------------------\n",
      "Learning rate set to 0.002361\n",
      "0:\tlearn: 0.6903939\ttotal: 44.5ms\tremaining: 3m 42s\n",
      "999:\tlearn: 0.1375224\ttotal: 30.4s\tremaining: 2m 1s\n",
      "1998:\tlearn: 0.0783816\ttotal: 1m\tremaining: 1m 30s\n",
      "2997:\tlearn: 0.0514792\ttotal: 1m 30s\tremaining: 1m\n",
      "3996:\tlearn: 0.0363781\ttotal: 1m 59s\tremaining: 30.1s\n",
      "4995:\tlearn: 0.0264066\ttotal: 2m 29s\tremaining: 120ms\n",
      "4999:\tlearn: 0.0263957\ttotal: 2m 29s\tremaining: 0us\n"
     ]
    },
    {
     "name": "stderr",
     "output_type": "stream",
     "text": [
      "6it [15:15, 151.94s/it]"
     ]
    },
    {
     "name": "stdout",
     "output_type": "stream",
     "text": [
      "fold Loss 5:  0.12353700114018586\n",
      "---------------------------------------------------------------------------\n",
      "Learning rate set to 0.002361\n",
      "0:\tlearn: 0.6904708\ttotal: 46.5ms\tremaining: 3m 52s\n",
      "999:\tlearn: 0.1360053\ttotal: 30.3s\tremaining: 2m 1s\n",
      "1998:\tlearn: 0.0796070\ttotal: 1m 1s\tremaining: 1m 31s\n",
      "2997:\tlearn: 0.0519445\ttotal: 1m 31s\tremaining: 1m 1s\n",
      "3996:\tlearn: 0.0346560\ttotal: 2m 2s\tremaining: 30.8s\n",
      "4995:\tlearn: 0.0244621\ttotal: 2m 32s\tremaining: 122ms\n",
      "4999:\tlearn: 0.0244364\ttotal: 2m 32s\tremaining: 0us\n"
     ]
    },
    {
     "name": "stderr",
     "output_type": "stream",
     "text": [
      "7it [17:49, 152.56s/it]"
     ]
    },
    {
     "name": "stdout",
     "output_type": "stream",
     "text": [
      "fold Loss 6:  0.17666585342091373\n",
      "---------------------------------------------------------------------------\n",
      "Learning rate set to 0.002361\n",
      "0:\tlearn: 0.6904515\ttotal: 44.8ms\tremaining: 3m 44s\n",
      "999:\tlearn: 0.1415170\ttotal: 30.1s\tremaining: 2m\n",
      "1998:\tlearn: 0.0801517\ttotal: 60s\tremaining: 1m 30s\n",
      "2997:\tlearn: 0.0513039\ttotal: 1m 29s\tremaining: 1m\n",
      "3996:\tlearn: 0.0344330\ttotal: 1m 59s\tremaining: 30s\n",
      "4995:\tlearn: 0.0246895\ttotal: 2m 29s\tremaining: 120ms\n",
      "4999:\tlearn: 0.0246751\ttotal: 2m 29s\tremaining: 0us\n"
     ]
    },
    {
     "name": "stderr",
     "output_type": "stream",
     "text": [
      "8it [20:19, 151.91s/it]"
     ]
    },
    {
     "name": "stdout",
     "output_type": "stream",
     "text": [
      "fold Loss 7:  0.08187314895016025\n",
      "---------------------------------------------------------------------------\n",
      "Learning rate set to 0.002361\n",
      "0:\tlearn: 0.6907007\ttotal: 60.1ms\tremaining: 5m\n",
      "999:\tlearn: 0.1370116\ttotal: 29.8s\tremaining: 1m 59s\n",
      "1998:\tlearn: 0.0781219\ttotal: 1m\tremaining: 1m 30s\n",
      "2997:\tlearn: 0.0486916\ttotal: 1m 31s\tremaining: 1m\n",
      "3996:\tlearn: 0.0333610\ttotal: 2m 1s\tremaining: 30.5s\n",
      "4995:\tlearn: 0.0232194\ttotal: 2m 32s\tremaining: 122ms\n",
      "4999:\tlearn: 0.0231816\ttotal: 2m 32s\tremaining: 0us\n"
     ]
    },
    {
     "name": "stderr",
     "output_type": "stream",
     "text": [
      "9it [22:52, 152.29s/it]"
     ]
    },
    {
     "name": "stdout",
     "output_type": "stream",
     "text": [
      "fold Loss 8:  0.15267137012937354\n",
      "---------------------------------------------------------------------------\n",
      "Learning rate set to 0.002361\n",
      "0:\tlearn: 0.6903887\ttotal: 54ms\tremaining: 4m 30s\n",
      "999:\tlearn: 0.1405043\ttotal: 30.9s\tremaining: 2m 3s\n",
      "1998:\tlearn: 0.0795962\ttotal: 1m\tremaining: 1m 31s\n",
      "2997:\tlearn: 0.0510117\ttotal: 1m 30s\tremaining: 1m\n",
      "3996:\tlearn: 0.0339108\ttotal: 2m\tremaining: 30.2s\n",
      "4995:\tlearn: 0.0242463\ttotal: 2m 30s\tremaining: 120ms\n",
      "4999:\tlearn: 0.0242054\ttotal: 2m 30s\tremaining: 0us\n"
     ]
    },
    {
     "name": "stderr",
     "output_type": "stream",
     "text": [
      "10it [25:24, 151.97s/it]"
     ]
    },
    {
     "name": "stdout",
     "output_type": "stream",
     "text": [
      "fold Loss 9:  0.14463831464760565\n",
      "---------------------------------------------------------------------------\n",
      "Learning rate set to 0.002361\n",
      "0:\tlearn: 0.6904291\ttotal: 57.9ms\tremaining: 4m 49s\n",
      "999:\tlearn: 0.1400823\ttotal: 30.5s\tremaining: 2m 2s\n",
      "1998:\tlearn: 0.0803003\ttotal: 1m 1s\tremaining: 1m 31s\n",
      "2997:\tlearn: 0.0514118\ttotal: 1m 31s\tremaining: 1m 1s\n",
      "3996:\tlearn: 0.0347639\ttotal: 2m 2s\tremaining: 30.7s\n",
      "4995:\tlearn: 0.0246810\ttotal: 2m 32s\tremaining: 122ms\n",
      "4999:\tlearn: 0.0246523\ttotal: 2m 32s\tremaining: 0us\n"
     ]
    },
    {
     "name": "stderr",
     "output_type": "stream",
     "text": [
      "11it [27:57, 152.33s/it]"
     ]
    },
    {
     "name": "stdout",
     "output_type": "stream",
     "text": [
      "fold Loss 10:  0.13126477170315076\n",
      "---------------------------------------------------------------------------\n",
      "Learning rate set to 0.002361\n",
      "0:\tlearn: 0.6905931\ttotal: 47.5ms\tremaining: 3m 57s\n",
      "999:\tlearn: 0.1386610\ttotal: 30.5s\tremaining: 2m 2s\n",
      "1998:\tlearn: 0.0803604\ttotal: 1m\tremaining: 1m 31s\n",
      "2997:\tlearn: 0.0518423\ttotal: 1m 31s\tremaining: 1m\n",
      "3996:\tlearn: 0.0346218\ttotal: 2m 1s\tremaining: 30.5s\n",
      "4995:\tlearn: 0.0246278\ttotal: 2m 31s\tremaining: 121ms\n",
      "4999:\tlearn: 0.0245902\ttotal: 2m 31s\tremaining: 0us\n"
     ]
    },
    {
     "name": "stderr",
     "output_type": "stream",
     "text": [
      "12it [30:29, 152.34s/it]"
     ]
    },
    {
     "name": "stdout",
     "output_type": "stream",
     "text": [
      "fold Loss 11:  0.07171836767789615\n",
      "---------------------------------------------------------------------------\n",
      "Learning rate set to 0.002361\n",
      "0:\tlearn: 0.6904128\ttotal: 57.4ms\tremaining: 4m 46s\n",
      "999:\tlearn: 0.1377175\ttotal: 30.2s\tremaining: 2m\n",
      "1998:\tlearn: 0.0791256\ttotal: 1m\tremaining: 1m 30s\n",
      "2997:\tlearn: 0.0513739\ttotal: 1m 30s\tremaining: 1m\n",
      "3996:\tlearn: 0.0344934\ttotal: 2m 1s\tremaining: 30.5s\n",
      "4995:\tlearn: 0.0241207\ttotal: 2m 32s\tremaining: 122ms\n",
      "4999:\tlearn: 0.0241044\ttotal: 2m 32s\tremaining: 0us\n"
     ]
    },
    {
     "name": "stderr",
     "output_type": "stream",
     "text": [
      "13it [33:03, 152.67s/it]"
     ]
    },
    {
     "name": "stdout",
     "output_type": "stream",
     "text": [
      "fold Loss 12:  0.1609602867251847\n",
      "---------------------------------------------------------------------------\n",
      "Learning rate set to 0.002361\n",
      "0:\tlearn: 0.6908336\ttotal: 59.6ms\tremaining: 4m 58s\n",
      "999:\tlearn: 0.1399808\ttotal: 30.7s\tremaining: 2m 2s\n",
      "1998:\tlearn: 0.0795126\ttotal: 1m\tremaining: 1m 31s\n",
      "2997:\tlearn: 0.0507931\ttotal: 1m 30s\tremaining: 1m\n",
      "3996:\tlearn: 0.0342996\ttotal: 2m\tremaining: 30.2s\n",
      "4995:\tlearn: 0.0243244\ttotal: 2m 30s\tremaining: 120ms\n",
      "4999:\tlearn: 0.0243009\ttotal: 2m 30s\tremaining: 0us\n"
     ]
    },
    {
     "name": "stderr",
     "output_type": "stream",
     "text": [
      "14it [35:34, 152.30s/it]"
     ]
    },
    {
     "name": "stdout",
     "output_type": "stream",
     "text": [
      "fold Loss 13:  0.033773588805327756\n",
      "---------------------------------------------------------------------------\n",
      "Learning rate set to 0.002361\n",
      "0:\tlearn: 0.6904461\ttotal: 63.8ms\tremaining: 5m 19s\n",
      "999:\tlearn: 0.1402674\ttotal: 30s\tremaining: 2m\n",
      "1998:\tlearn: 0.0787822\ttotal: 1m\tremaining: 1m 30s\n",
      "2997:\tlearn: 0.0499557\ttotal: 1m 30s\tremaining: 1m\n",
      "3996:\tlearn: 0.0333043\ttotal: 2m\tremaining: 30.2s\n",
      "4995:\tlearn: 0.0233038\ttotal: 2m 30s\tremaining: 121ms\n",
      "4999:\tlearn: 0.0232665\ttotal: 2m 30s\tremaining: 0us\n"
     ]
    },
    {
     "name": "stderr",
     "output_type": "stream",
     "text": [
      "15it [38:06, 152.08s/it]"
     ]
    },
    {
     "name": "stdout",
     "output_type": "stream",
     "text": [
      "fold Loss 14:  0.08912743392527138\n",
      "---------------------------------------------------------------------------\n",
      "Learning rate set to 0.002361\n",
      "0:\tlearn: 0.6905613\ttotal: 65.3ms\tremaining: 5m 26s\n",
      "999:\tlearn: 0.1339576\ttotal: 31s\tremaining: 2m 3s\n",
      "1998:\tlearn: 0.0762234\ttotal: 1m 1s\tremaining: 1m 32s\n",
      "2997:\tlearn: 0.0485772\ttotal: 1m 32s\tremaining: 1m 1s\n",
      "3996:\tlearn: 0.0332014\ttotal: 2m 2s\tremaining: 30.8s\n",
      "4995:\tlearn: 0.0242631\ttotal: 2m 33s\tremaining: 123ms\n",
      "4999:\tlearn: 0.0242375\ttotal: 2m 33s\tremaining: 0us\n"
     ]
    },
    {
     "name": "stderr",
     "output_type": "stream",
     "text": [
      "16it [40:40, 152.68s/it]"
     ]
    },
    {
     "name": "stdout",
     "output_type": "stream",
     "text": [
      "fold Loss 15:  0.2725475050827002\n",
      "---------------------------------------------------------------------------\n",
      "Learning rate set to 0.002361\n",
      "0:\tlearn: 0.6908607\ttotal: 70.4ms\tremaining: 5m 51s\n",
      "999:\tlearn: 0.1369433\ttotal: 30s\tremaining: 1m 59s\n",
      "1998:\tlearn: 0.0749368\ttotal: 1m\tremaining: 1m 30s\n",
      "2997:\tlearn: 0.0455988\ttotal: 1m 30s\tremaining: 1m\n",
      "3996:\tlearn: 0.0291500\ttotal: 2m 1s\tremaining: 30.5s\n",
      "4995:\tlearn: 0.0197386\ttotal: 2m 33s\tremaining: 123ms\n",
      "4999:\tlearn: 0.0197039\ttotal: 2m 33s\tremaining: 0us\n"
     ]
    },
    {
     "name": "stderr",
     "output_type": "stream",
     "text": [
      "17it [43:14, 153.13s/it]"
     ]
    },
    {
     "name": "stdout",
     "output_type": "stream",
     "text": [
      "fold Loss 16:  0.21613361755120283\n",
      "---------------------------------------------------------------------------\n",
      "Learning rate set to 0.002361\n",
      "0:\tlearn: 0.6907828\ttotal: 59.2ms\tremaining: 4m 55s\n",
      "999:\tlearn: 0.1388170\ttotal: 30.6s\tremaining: 2m 2s\n",
      "1998:\tlearn: 0.0796039\ttotal: 1m 1s\tremaining: 1m 31s\n",
      "2997:\tlearn: 0.0511684\ttotal: 1m 31s\tremaining: 1m 1s\n",
      "3996:\tlearn: 0.0340324\ttotal: 2m 1s\tremaining: 30.6s\n",
      "4995:\tlearn: 0.0242178\ttotal: 2m 32s\tremaining: 122ms\n",
      "4999:\tlearn: 0.0241778\ttotal: 2m 32s\tremaining: 0us\n"
     ]
    },
    {
     "name": "stderr",
     "output_type": "stream",
     "text": [
      "18it [45:47, 153.19s/it]"
     ]
    },
    {
     "name": "stdout",
     "output_type": "stream",
     "text": [
      "fold Loss 17:  0.15581366207842903\n",
      "---------------------------------------------------------------------------\n",
      "Learning rate set to 0.002361\n",
      "0:\tlearn: 0.6904996\ttotal: 61.9ms\tremaining: 5m 9s\n",
      "999:\tlearn: 0.1341783\ttotal: 30.8s\tremaining: 2m 3s\n",
      "1998:\tlearn: 0.0766453\ttotal: 1m 1s\tremaining: 1m 32s\n",
      "2997:\tlearn: 0.0503117\ttotal: 1m 32s\tremaining: 1m 1s\n",
      "3996:\tlearn: 0.0348462\ttotal: 2m 2s\tremaining: 30.6s\n",
      "4995:\tlearn: 0.0247943\ttotal: 2m 32s\tremaining: 122ms\n",
      "4999:\tlearn: 0.0247764\ttotal: 2m 32s\tremaining: 0us\n"
     ]
    },
    {
     "name": "stderr",
     "output_type": "stream",
     "text": [
      "19it [48:21, 153.31s/it]"
     ]
    },
    {
     "name": "stdout",
     "output_type": "stream",
     "text": [
      "fold Loss 18:  0.24072901579700282\n",
      "---------------------------------------------------------------------------\n",
      "Learning rate set to 0.002362\n",
      "0:\tlearn: 0.6904734\ttotal: 59.9ms\tremaining: 4m 59s\n",
      "999:\tlearn: 0.1397077\ttotal: 29.9s\tremaining: 1m 59s\n",
      "1998:\tlearn: 0.0792041\ttotal: 1m\tremaining: 1m 30s\n",
      "2997:\tlearn: 0.0513779\ttotal: 1m 30s\tremaining: 1m\n",
      "3996:\tlearn: 0.0345007\ttotal: 2m\tremaining: 30.3s\n",
      "4995:\tlearn: 0.0245239\ttotal: 2m 30s\tremaining: 121ms\n",
      "4999:\tlearn: 0.0244857\ttotal: 2m 31s\tremaining: 0us\n"
     ]
    },
    {
     "name": "stderr",
     "output_type": "stream",
     "text": [
      "20it [50:53, 152.65s/it]"
     ]
    },
    {
     "name": "stdout",
     "output_type": "stream",
     "text": [
      "fold Loss 19:  0.10769697816935489\n",
      "---------------------------------------------------------------------------\n",
      "Training Loss: 0.02859297691953319\n",
      "Loss for basalt:\n",
      "0.13523814272600373 0.05996988501087707\n",
      "==================================================================================================\n",
      "TARGET  carbonate\n"
     ]
    },
    {
     "name": "stderr",
     "output_type": "stream",
     "text": [
      "\n"
     ]
    },
    {
     "name": "stdout",
     "output_type": "stream",
     "text": [
      "0.31170205147579416\n"
     ]
    },
    {
     "name": "stderr",
     "output_type": "stream",
     "text": [
      "100%|██████████| 101/101 [00:00<00:00, 400401.42it/s]"
     ]
    },
    {
     "name": "stdout",
     "output_type": "stream",
     "text": [
      "18\n"
     ]
    },
    {
     "name": "stderr",
     "output_type": "stream",
     "text": [
      "\n"
     ]
    },
    {
     "name": "stdout",
     "output_type": "stream",
     "text": [
      "0.21331141376255486\n"
     ]
    },
    {
     "name": "stderr",
     "output_type": "stream",
     "text": [
      "100%|██████████| 4100/4100 [00:00<00:00, 835437.54it/s]\n"
     ]
    },
    {
     "name": "stdout",
     "output_type": "stream",
     "text": [
      "56\n",
      "0.20721847602103693\n"
     ]
    },
    {
     "name": "stderr",
     "output_type": "stream",
     "text": [
      "100%|██████████| 4400/4400 [00:00<00:00, 731845.09it/s]\n"
     ]
    },
    {
     "name": "stdout",
     "output_type": "stream",
     "text": [
      "75\n",
      "0.2519190836804425\n"
     ]
    },
    {
     "name": "stderr",
     "output_type": "stream",
     "text": [
      "100%|██████████| 4200/4200 [00:00<00:00, 675929.58it/s]\n"
     ]
    },
    {
     "name": "stdout",
     "output_type": "stream",
     "text": [
      "81\n",
      "(1059, 81) (1059, 18) (1059, 56) (1059, 75)\n",
      "(1059, 230)\n",
      "(804, 81) (804, 18) (804, 56) (804, 75)\n",
      "(804, 230)\n"
     ]
    },
    {
     "name": "stderr",
     "output_type": "stream",
     "text": [
      "0it [00:00, ?it/s]"
     ]
    },
    {
     "name": "stdout",
     "output_type": "stream",
     "text": [
      "Learning rate set to 0.002361\n",
      "0:\tlearn: 0.6900087\ttotal: 41.4ms\tremaining: 3m 26s\n",
      "999:\tlearn: 0.1001753\ttotal: 27.6s\tremaining: 1m 50s\n",
      "1998:\tlearn: 0.0505184\ttotal: 55.1s\tremaining: 1m 22s\n",
      "2997:\tlearn: 0.0307721\ttotal: 1m 22s\tremaining: 55.4s\n",
      "3996:\tlearn: 0.0199619\ttotal: 1m 51s\tremaining: 27.9s\n",
      "4995:\tlearn: 0.0138402\ttotal: 2m 19s\tremaining: 111ms\n",
      "4999:\tlearn: 0.0138253\ttotal: 2m 19s\tremaining: 0us\n"
     ]
    },
    {
     "name": "stderr",
     "output_type": "stream",
     "text": [
      "1it [02:20, 140.16s/it]"
     ]
    },
    {
     "name": "stdout",
     "output_type": "stream",
     "text": [
      "fold Loss 0:  0.07207476256312156\n",
      "---------------------------------------------------------------------------\n",
      "Learning rate set to 0.002361\n",
      "0:\tlearn: 0.6899685\ttotal: 55.1ms\tremaining: 4m 35s\n",
      "999:\tlearn: 0.1002712\ttotal: 27.8s\tremaining: 1m 51s\n",
      "1998:\tlearn: 0.0508519\ttotal: 54.9s\tremaining: 1m 22s\n",
      "2997:\tlearn: 0.0314716\ttotal: 1m 22s\tremaining: 55s\n",
      "3996:\tlearn: 0.0205477\ttotal: 1m 50s\tremaining: 27.6s\n",
      "4995:\tlearn: 0.0139704\ttotal: 2m 17s\tremaining: 110ms\n",
      "4999:\tlearn: 0.0139570\ttotal: 2m 17s\tremaining: 0us\n"
     ]
    },
    {
     "name": "stderr",
     "output_type": "stream",
     "text": [
      "2it [04:38, 139.30s/it]"
     ]
    },
    {
     "name": "stdout",
     "output_type": "stream",
     "text": [
      "fold Loss 1:  0.0685491812435521\n",
      "---------------------------------------------------------------------------\n",
      "Learning rate set to 0.002361\n",
      "0:\tlearn: 0.6899657\ttotal: 41.4ms\tremaining: 3m 27s\n",
      "999:\tlearn: 0.0973319\ttotal: 27.5s\tremaining: 1m 49s\n",
      "1998:\tlearn: 0.0483383\ttotal: 54.9s\tremaining: 1m 22s\n",
      "2997:\tlearn: 0.0291061\ttotal: 1m 21s\tremaining: 54.7s\n",
      "3996:\tlearn: 0.0189839\ttotal: 1m 50s\tremaining: 27.6s\n",
      "4995:\tlearn: 0.0127321\ttotal: 2m 18s\tremaining: 111ms\n",
      "4999:\tlearn: 0.0127200\ttotal: 2m 18s\tremaining: 0us\n"
     ]
    },
    {
     "name": "stderr",
     "output_type": "stream",
     "text": [
      "3it [06:58, 139.33s/it]"
     ]
    },
    {
     "name": "stdout",
     "output_type": "stream",
     "text": [
      "fold Loss 2:  0.22105250149905295\n",
      "---------------------------------------------------------------------------\n",
      "Learning rate set to 0.002361\n",
      "0:\tlearn: 0.6898247\ttotal: 60.6ms\tremaining: 5m 2s\n",
      "999:\tlearn: 0.0978364\ttotal: 28.4s\tremaining: 1m 53s\n",
      "1998:\tlearn: 0.0488675\ttotal: 56.5s\tremaining: 1m 24s\n",
      "2997:\tlearn: 0.0295448\ttotal: 1m 24s\tremaining: 56.2s\n",
      "3996:\tlearn: 0.0194316\ttotal: 1m 51s\tremaining: 28.1s\n",
      "4995:\tlearn: 0.0134035\ttotal: 2m 19s\tremaining: 112ms\n",
      "4999:\tlearn: 0.0133861\ttotal: 2m 19s\tremaining: 0us\n"
     ]
    },
    {
     "name": "stderr",
     "output_type": "stream",
     "text": [
      "4it [09:19, 139.92s/it]"
     ]
    },
    {
     "name": "stdout",
     "output_type": "stream",
     "text": [
      "fold Loss 3:  0.17527801210402133\n",
      "---------------------------------------------------------------------------\n",
      "Learning rate set to 0.002361\n",
      "0:\tlearn: 0.6902350\ttotal: 43.9ms\tremaining: 3m 39s\n",
      "999:\tlearn: 0.0992425\ttotal: 28.3s\tremaining: 1m 53s\n",
      "1998:\tlearn: 0.0508385\ttotal: 56.5s\tremaining: 1m 24s\n",
      "2997:\tlearn: 0.0314433\ttotal: 1m 24s\tremaining: 56.2s\n",
      "3996:\tlearn: 0.0207545\ttotal: 1m 52s\tremaining: 28.2s\n",
      "4995:\tlearn: 0.0144319\ttotal: 2m 20s\tremaining: 112ms\n",
      "4999:\tlearn: 0.0144182\ttotal: 2m 20s\tremaining: 0us\n"
     ]
    },
    {
     "name": "stderr",
     "output_type": "stream",
     "text": [
      "5it [11:40, 140.32s/it]"
     ]
    },
    {
     "name": "stdout",
     "output_type": "stream",
     "text": [
      "fold Loss 4:  0.08885113911143631\n",
      "---------------------------------------------------------------------------\n",
      "Learning rate set to 0.002361\n",
      "0:\tlearn: 0.6900843\ttotal: 53.5ms\tremaining: 4m 27s\n",
      "999:\tlearn: 0.1000552\ttotal: 27.2s\tremaining: 1m 48s\n",
      "1998:\tlearn: 0.0513240\ttotal: 54.7s\tremaining: 1m 22s\n",
      "2997:\tlearn: 0.0318955\ttotal: 1m 22s\tremaining: 55.2s\n",
      "3996:\tlearn: 0.0210239\ttotal: 1m 50s\tremaining: 27.7s\n",
      "4995:\tlearn: 0.0145770\ttotal: 2m 18s\tremaining: 111ms\n",
      "4999:\tlearn: 0.0145550\ttotal: 2m 18s\tremaining: 0us\n"
     ]
    },
    {
     "name": "stderr",
     "output_type": "stream",
     "text": [
      "6it [13:59, 139.89s/it]"
     ]
    },
    {
     "name": "stdout",
     "output_type": "stream",
     "text": [
      "fold Loss 5:  0.0760436531436379\n",
      "---------------------------------------------------------------------------\n",
      "Learning rate set to 0.002361\n",
      "0:\tlearn: 0.6900588\ttotal: 42.3ms\tremaining: 3m 31s\n",
      "999:\tlearn: 0.1021920\ttotal: 28s\tremaining: 1m 52s\n",
      "1998:\tlearn: 0.0508519\ttotal: 55.8s\tremaining: 1m 23s\n",
      "2997:\tlearn: 0.0308526\ttotal: 1m 23s\tremaining: 55.5s\n",
      "3996:\tlearn: 0.0198280\ttotal: 1m 52s\tremaining: 28.3s\n",
      "4995:\tlearn: 0.0136612\ttotal: 2m 20s\tremaining: 113ms\n",
      "4999:\tlearn: 0.0136507\ttotal: 2m 20s\tremaining: 0us\n"
     ]
    },
    {
     "name": "stderr",
     "output_type": "stream",
     "text": [
      "7it [16:21, 140.54s/it]"
     ]
    },
    {
     "name": "stdout",
     "output_type": "stream",
     "text": [
      "fold Loss 6:  0.030102418994519518\n",
      "---------------------------------------------------------------------------\n",
      "Learning rate set to 0.002361\n",
      "0:\tlearn: 0.6899381\ttotal: 57.2ms\tremaining: 4m 46s\n",
      "999:\tlearn: 0.1019005\ttotal: 28.2s\tremaining: 1m 52s\n",
      "1998:\tlearn: 0.0519133\ttotal: 56.3s\tremaining: 1m 24s\n",
      "2997:\tlearn: 0.0310952\ttotal: 1m 24s\tremaining: 56.6s\n",
      "3996:\tlearn: 0.0202129\ttotal: 1m 52s\tremaining: 28.3s\n",
      "4995:\tlearn: 0.0140468\ttotal: 2m 20s\tremaining: 112ms\n",
      "4999:\tlearn: 0.0140291\ttotal: 2m 20s\tremaining: 0us\n"
     ]
    },
    {
     "name": "stderr",
     "output_type": "stream",
     "text": [
      "8it [18:42, 140.77s/it]"
     ]
    },
    {
     "name": "stdout",
     "output_type": "stream",
     "text": [
      "fold Loss 7:  0.03288390536967176\n",
      "---------------------------------------------------------------------------\n",
      "Learning rate set to 0.002361\n",
      "0:\tlearn: 0.6900108\ttotal: 42.3ms\tremaining: 3m 31s\n",
      "999:\tlearn: 0.1019462\ttotal: 28.3s\tremaining: 1m 53s\n",
      "1998:\tlearn: 0.0514703\ttotal: 56.3s\tremaining: 1m 24s\n",
      "2997:\tlearn: 0.0310864\ttotal: 1m 24s\tremaining: 56.3s\n",
      "3996:\tlearn: 0.0202600\ttotal: 1m 52s\tremaining: 28.2s\n",
      "4995:\tlearn: 0.0138908\ttotal: 2m 19s\tremaining: 112ms\n",
      "4999:\tlearn: 0.0138695\ttotal: 2m 20s\tremaining: 0us\n"
     ]
    },
    {
     "name": "stderr",
     "output_type": "stream",
     "text": [
      "9it [21:03, 140.83s/it]"
     ]
    },
    {
     "name": "stdout",
     "output_type": "stream",
     "text": [
      "fold Loss 8:  0.047029918033834765\n",
      "---------------------------------------------------------------------------\n",
      "Learning rate set to 0.002361\n",
      "0:\tlearn: 0.6902510\ttotal: 56.8ms\tremaining: 4m 43s\n",
      "999:\tlearn: 0.1020042\ttotal: 28.2s\tremaining: 1m 52s\n",
      "1998:\tlearn: 0.0518811\ttotal: 55.5s\tremaining: 1m 23s\n",
      "2997:\tlearn: 0.0318942\ttotal: 1m 23s\tremaining: 55.7s\n",
      "3996:\tlearn: 0.0209711\ttotal: 1m 50s\tremaining: 27.9s\n",
      "4995:\tlearn: 0.0143359\ttotal: 2m 18s\tremaining: 111ms\n",
      "4999:\tlearn: 0.0143110\ttotal: 2m 18s\tremaining: 0us\n"
     ]
    },
    {
     "name": "stderr",
     "output_type": "stream",
     "text": [
      "10it [23:22, 140.47s/it]"
     ]
    },
    {
     "name": "stdout",
     "output_type": "stream",
     "text": [
      "fold Loss 9:  0.03401743999343928\n",
      "---------------------------------------------------------------------------\n",
      "Learning rate set to 0.002361\n",
      "0:\tlearn: 0.6899715\ttotal: 43.2ms\tremaining: 3m 35s\n",
      "999:\tlearn: 0.1003047\ttotal: 27.6s\tremaining: 1m 50s\n",
      "1998:\tlearn: 0.0509953\ttotal: 55.6s\tremaining: 1m 23s\n",
      "2997:\tlearn: 0.0322694\ttotal: 1m 23s\tremaining: 55.8s\n",
      "3996:\tlearn: 0.0212595\ttotal: 1m 51s\tremaining: 28s\n",
      "4995:\tlearn: 0.0143906\ttotal: 2m 19s\tremaining: 112ms\n",
      "4999:\tlearn: 0.0143731\ttotal: 2m 19s\tremaining: 0us\n"
     ]
    },
    {
     "name": "stderr",
     "output_type": "stream",
     "text": [
      "11it [25:43, 140.43s/it]"
     ]
    },
    {
     "name": "stdout",
     "output_type": "stream",
     "text": [
      "fold Loss 10:  0.043289794108047126\n",
      "---------------------------------------------------------------------------\n",
      "Learning rate set to 0.002361\n",
      "0:\tlearn: 0.6900276\ttotal: 57.4ms\tremaining: 4m 46s\n",
      "999:\tlearn: 0.1006108\ttotal: 28.2s\tremaining: 1m 52s\n",
      "1998:\tlearn: 0.0514453\ttotal: 55.7s\tremaining: 1m 23s\n",
      "2997:\tlearn: 0.0317002\ttotal: 1m 23s\tremaining: 55.9s\n",
      "3996:\tlearn: 0.0208621\ttotal: 1m 51s\tremaining: 27.9s\n",
      "4995:\tlearn: 0.0144976\ttotal: 2m 18s\tremaining: 111ms\n",
      "4999:\tlearn: 0.0144719\ttotal: 2m 18s\tremaining: 0us\n"
     ]
    },
    {
     "name": "stderr",
     "output_type": "stream",
     "text": [
      "12it [28:02, 140.16s/it]"
     ]
    },
    {
     "name": "stdout",
     "output_type": "stream",
     "text": [
      "fold Loss 11:  0.06807559873556919\n",
      "---------------------------------------------------------------------------\n",
      "Learning rate set to 0.002361\n",
      "0:\tlearn: 0.6900061\ttotal: 43.4ms\tremaining: 3m 36s\n",
      "999:\tlearn: 0.0966707\ttotal: 28s\tremaining: 1m 52s\n",
      "1998:\tlearn: 0.0478237\ttotal: 55.9s\tremaining: 1m 23s\n",
      "2997:\tlearn: 0.0286579\ttotal: 1m 24s\tremaining: 56.1s\n",
      "3996:\tlearn: 0.0184626\ttotal: 1m 51s\tremaining: 28.1s\n",
      "4995:\tlearn: 0.0127493\ttotal: 2m 19s\tremaining: 112ms\n",
      "4999:\tlearn: 0.0127358\ttotal: 2m 19s\tremaining: 0us\n"
     ]
    },
    {
     "name": "stderr",
     "output_type": "stream",
     "text": [
      "13it [30:23, 140.23s/it]"
     ]
    },
    {
     "name": "stdout",
     "output_type": "stream",
     "text": [
      "fold Loss 12:  0.17772723497476442\n",
      "---------------------------------------------------------------------------\n",
      "Learning rate set to 0.002361\n",
      "0:\tlearn: 0.6900463\ttotal: 56.2ms\tremaining: 4m 41s\n",
      "999:\tlearn: 0.1006283\ttotal: 28.1s\tremaining: 1m 52s\n",
      "1998:\tlearn: 0.0505705\ttotal: 55.3s\tremaining: 1m 23s\n",
      "2997:\tlearn: 0.0301787\ttotal: 1m 23s\tremaining: 55.7s\n",
      "3996:\tlearn: 0.0192886\ttotal: 1m 51s\tremaining: 27.9s\n",
      "4995:\tlearn: 0.0132892\ttotal: 2m 18s\tremaining: 111ms\n",
      "4999:\tlearn: 0.0132750\ttotal: 2m 18s\tremaining: 0us\n"
     ]
    },
    {
     "name": "stderr",
     "output_type": "stream",
     "text": [
      "14it [32:42, 140.04s/it]"
     ]
    },
    {
     "name": "stdout",
     "output_type": "stream",
     "text": [
      "fold Loss 13:  0.11874142068105635\n",
      "---------------------------------------------------------------------------\n",
      "Learning rate set to 0.002361\n",
      "0:\tlearn: 0.6902618\ttotal: 44.2ms\tremaining: 3m 41s\n",
      "999:\tlearn: 0.0976636\ttotal: 28.4s\tremaining: 1m 53s\n",
      "1998:\tlearn: 0.0477772\ttotal: 56s\tremaining: 1m 24s\n",
      "2997:\tlearn: 0.0280787\ttotal: 1m 23s\tremaining: 55.9s\n",
      "3996:\tlearn: 0.0180455\ttotal: 1m 51s\tremaining: 27.9s\n",
      "4995:\tlearn: 0.0126116\ttotal: 2m 18s\tremaining: 111ms\n",
      "4999:\tlearn: 0.0125931\ttotal: 2m 18s\tremaining: 0us\n"
     ]
    },
    {
     "name": "stderr",
     "output_type": "stream",
     "text": [
      "15it [35:02, 139.96s/it]"
     ]
    },
    {
     "name": "stdout",
     "output_type": "stream",
     "text": [
      "fold Loss 14:  0.15554820456057486\n",
      "---------------------------------------------------------------------------\n",
      "Learning rate set to 0.002361\n",
      "0:\tlearn: 0.6900317\ttotal: 54.8ms\tremaining: 4m 33s\n",
      "999:\tlearn: 0.0956131\ttotal: 28.3s\tremaining: 1m 53s\n",
      "1998:\tlearn: 0.0472817\ttotal: 56s\tremaining: 1m 24s\n",
      "2997:\tlearn: 0.0291058\ttotal: 1m 23s\tremaining: 55.9s\n",
      "3996:\tlearn: 0.0187674\ttotal: 1m 51s\tremaining: 28.1s\n",
      "4995:\tlearn: 0.0123653\ttotal: 2m 19s\tremaining: 112ms\n",
      "4999:\tlearn: 0.0123545\ttotal: 2m 19s\tremaining: 0us\n"
     ]
    },
    {
     "name": "stderr",
     "output_type": "stream",
     "text": [
      "16it [37:23, 140.13s/it]"
     ]
    },
    {
     "name": "stdout",
     "output_type": "stream",
     "text": [
      "fold Loss 15:  0.2099720243147661\n",
      "---------------------------------------------------------------------------\n",
      "Learning rate set to 0.002361\n",
      "0:\tlearn: 0.6902579\ttotal: 43.6ms\tremaining: 3m 37s\n",
      "999:\tlearn: 0.1019115\ttotal: 27.8s\tremaining: 1m 51s\n",
      "1998:\tlearn: 0.0515410\ttotal: 55.3s\tremaining: 1m 22s\n",
      "2997:\tlearn: 0.0312263\ttotal: 1m 23s\tremaining: 55.9s\n",
      "3996:\tlearn: 0.0204314\ttotal: 1m 51s\tremaining: 28s\n",
      "4995:\tlearn: 0.0141535\ttotal: 2m 19s\tremaining: 112ms\n",
      "4999:\tlearn: 0.0141359\ttotal: 2m 19s\tremaining: 0us\n"
     ]
    },
    {
     "name": "stderr",
     "output_type": "stream",
     "text": [
      "17it [39:43, 140.21s/it]"
     ]
    },
    {
     "name": "stdout",
     "output_type": "stream",
     "text": [
      "fold Loss 16:  0.02695510578976049\n",
      "---------------------------------------------------------------------------\n",
      "Learning rate set to 0.002361\n",
      "0:\tlearn: 0.6901001\ttotal: 55.5ms\tremaining: 4m 37s\n",
      "999:\tlearn: 0.0980918\ttotal: 28.3s\tremaining: 1m 53s\n",
      "1998:\tlearn: 0.0484376\ttotal: 56.5s\tremaining: 1m 24s\n",
      "2997:\tlearn: 0.0291484\ttotal: 1m 24s\tremaining: 56.1s\n",
      "3996:\tlearn: 0.0188934\ttotal: 1m 51s\tremaining: 28s\n",
      "4995:\tlearn: 0.0133514\ttotal: 2m 19s\tremaining: 111ms\n",
      "4999:\tlearn: 0.0133458\ttotal: 2m 19s\tremaining: 0us\n"
     ]
    },
    {
     "name": "stderr",
     "output_type": "stream",
     "text": [
      "18it [42:03, 140.17s/it]"
     ]
    },
    {
     "name": "stdout",
     "output_type": "stream",
     "text": [
      "fold Loss 17:  0.11996293460394183\n",
      "---------------------------------------------------------------------------\n",
      "Learning rate set to 0.002361\n",
      "0:\tlearn: 0.6902177\ttotal: 41.5ms\tremaining: 3m 27s\n",
      "999:\tlearn: 0.1013239\ttotal: 28.1s\tremaining: 1m 52s\n",
      "1998:\tlearn: 0.0513806\ttotal: 56.4s\tremaining: 1m 24s\n",
      "2997:\tlearn: 0.0308745\ttotal: 1m 24s\tremaining: 56.5s\n",
      "3996:\tlearn: 0.0200824\ttotal: 1m 52s\tremaining: 28.3s\n",
      "4995:\tlearn: 0.0140542\ttotal: 2m 20s\tremaining: 113ms\n",
      "4999:\tlearn: 0.0140254\ttotal: 2m 20s\tremaining: 0us\n"
     ]
    },
    {
     "name": "stderr",
     "output_type": "stream",
     "text": [
      "19it [44:25, 140.60s/it]"
     ]
    },
    {
     "name": "stdout",
     "output_type": "stream",
     "text": [
      "fold Loss 18:  0.05811114689194196\n",
      "---------------------------------------------------------------------------\n",
      "Learning rate set to 0.002362\n",
      "0:\tlearn: 0.6900801\ttotal: 53.9ms\tremaining: 4m 29s\n",
      "999:\tlearn: 0.1019192\ttotal: 29.6s\tremaining: 1m 58s\n",
      "1998:\tlearn: 0.0519680\ttotal: 57.7s\tremaining: 1m 26s\n",
      "2997:\tlearn: 0.0316702\ttotal: 1m 26s\tremaining: 57.4s\n",
      "3996:\tlearn: 0.0209142\ttotal: 1m 54s\tremaining: 28.7s\n",
      "4995:\tlearn: 0.0142175\ttotal: 2m 22s\tremaining: 114ms\n",
      "4999:\tlearn: 0.0141904\ttotal: 2m 22s\tremaining: 0us\n"
     ]
    },
    {
     "name": "stderr",
     "output_type": "stream",
     "text": [
      "20it [46:48, 140.44s/it]"
     ]
    },
    {
     "name": "stdout",
     "output_type": "stream",
     "text": [
      "fold Loss 19:  0.03973394630632987\n",
      "---------------------------------------------------------------------------\n",
      "Training Loss: 0.01545868593422271\n",
      "Loss for carbonate:\n",
      "0.09320001715115198 0.06137622288599144\n",
      "==================================================================================================\n",
      "TARGET  chloride\n"
     ]
    },
    {
     "name": "stderr",
     "output_type": "stream",
     "text": [
      "\n"
     ]
    },
    {
     "name": "stdout",
     "output_type": "stream",
     "text": [
      "0.32568371606289903\n"
     ]
    },
    {
     "name": "stderr",
     "output_type": "stream",
     "text": [
      "100%|██████████| 101/101 [00:00<00:00, 399645.95it/s]"
     ]
    },
    {
     "name": "stdout",
     "output_type": "stream",
     "text": [
      "15\n"
     ]
    },
    {
     "name": "stderr",
     "output_type": "stream",
     "text": [
      "\n"
     ]
    },
    {
     "name": "stdout",
     "output_type": "stream",
     "text": [
      "0.2500213206792594\n"
     ]
    },
    {
     "name": "stderr",
     "output_type": "stream",
     "text": [
      "100%|██████████| 4100/4100 [00:00<00:00, 840295.45it/s]\n"
     ]
    },
    {
     "name": "stdout",
     "output_type": "stream",
     "text": [
      "69\n",
      "0.2430057147460596\n"
     ]
    },
    {
     "name": "stderr",
     "output_type": "stream",
     "text": [
      "100%|██████████| 4400/4400 [00:00<00:00, 748800.52it/s]\n"
     ]
    },
    {
     "name": "stdout",
     "output_type": "stream",
     "text": [
      "80\n",
      "0.24136908205600696\n"
     ]
    },
    {
     "name": "stderr",
     "output_type": "stream",
     "text": [
      "100%|██████████| 4200/4200 [00:00<00:00, 706168.40it/s]\n"
     ]
    },
    {
     "name": "stdout",
     "output_type": "stream",
     "text": [
      "75\n",
      "(1059, 75) (1059, 15) (1059, 69) (1059, 80)\n",
      "(1059, 239)\n",
      "(804, 75) (804, 15) (804, 69) (804, 80)\n",
      "(804, 239)\n"
     ]
    },
    {
     "name": "stderr",
     "output_type": "stream",
     "text": [
      "0it [00:00, ?it/s]"
     ]
    },
    {
     "name": "stdout",
     "output_type": "stream",
     "text": [
      "Learning rate set to 0.002361\n",
      "0:\tlearn: 0.6907518\ttotal: 44.1ms\tremaining: 3m 40s\n",
      "999:\tlearn: 0.1467641\ttotal: 29.4s\tremaining: 1m 57s\n",
      "1998:\tlearn: 0.0907175\ttotal: 58.5s\tremaining: 1m 27s\n",
      "2997:\tlearn: 0.0599506\ttotal: 1m 27s\tremaining: 58.5s\n",
      "3996:\tlearn: 0.0411736\ttotal: 1m 56s\tremaining: 29.2s\n",
      "4995:\tlearn: 0.0294773\ttotal: 2m 25s\tremaining: 117ms\n",
      "4999:\tlearn: 0.0294638\ttotal: 2m 25s\tremaining: 0us\n"
     ]
    },
    {
     "name": "stderr",
     "output_type": "stream",
     "text": [
      "1it [02:26, 146.67s/it]"
     ]
    },
    {
     "name": "stdout",
     "output_type": "stream",
     "text": [
      "fold Loss 0:  0.06682028580442163\n",
      "---------------------------------------------------------------------------\n",
      "Learning rate set to 0.002361\n",
      "0:\tlearn: 0.6907675\ttotal: 64.1ms\tremaining: 5m 20s\n",
      "999:\tlearn: 0.1326912\ttotal: 29.3s\tremaining: 1m 57s\n",
      "1998:\tlearn: 0.0746324\ttotal: 58.4s\tremaining: 1m 27s\n",
      "2997:\tlearn: 0.0486894\ttotal: 1m 27s\tremaining: 58.4s\n",
      "3996:\tlearn: 0.0324517\ttotal: 1m 56s\tremaining: 29.1s\n",
      "4995:\tlearn: 0.0220771\ttotal: 2m 25s\tremaining: 116ms\n",
      "4999:\tlearn: 0.0220472\ttotal: 2m 25s\tremaining: 0us\n"
     ]
    },
    {
     "name": "stderr",
     "output_type": "stream",
     "text": [
      "2it [04:52, 146.45s/it]"
     ]
    },
    {
     "name": "stdout",
     "output_type": "stream",
     "text": [
      "fold Loss 1:  0.43169568543592063\n",
      "---------------------------------------------------------------------------\n",
      "Learning rate set to 0.002361\n",
      "0:\tlearn: 0.6906511\ttotal: 44.8ms\tremaining: 3m 44s\n",
      "999:\tlearn: 0.1419645\ttotal: 29.4s\tremaining: 1m 57s\n",
      "1998:\tlearn: 0.0879667\ttotal: 58.2s\tremaining: 1m 27s\n",
      "2997:\tlearn: 0.0581926\ttotal: 1m 27s\tremaining: 58.2s\n",
      "3996:\tlearn: 0.0400480\ttotal: 1m 56s\tremaining: 29.1s\n",
      "4995:\tlearn: 0.0287120\ttotal: 2m 24s\tremaining: 116ms\n",
      "4999:\tlearn: 0.0286809\ttotal: 2m 24s\tremaining: 0us\n"
     ]
    },
    {
     "name": "stderr",
     "output_type": "stream",
     "text": [
      "3it [07:18, 146.10s/it]"
     ]
    },
    {
     "name": "stdout",
     "output_type": "stream",
     "text": [
      "fold Loss 2:  0.13924624690383045\n",
      "---------------------------------------------------------------------------\n",
      "Learning rate set to 0.002361\n",
      "0:\tlearn: 0.6909585\ttotal: 57.9ms\tremaining: 4m 49s\n",
      "999:\tlearn: 0.1472100\ttotal: 29.2s\tremaining: 1m 56s\n",
      "1998:\tlearn: 0.0903267\ttotal: 58.3s\tremaining: 1m 27s\n",
      "2997:\tlearn: 0.0599472\ttotal: 1m 27s\tremaining: 58.4s\n",
      "3996:\tlearn: 0.0405702\ttotal: 1m 56s\tremaining: 29.3s\n",
      "4995:\tlearn: 0.0286451\ttotal: 2m 26s\tremaining: 117ms\n",
      "4999:\tlearn: 0.0286147\ttotal: 2m 26s\tremaining: 0us\n"
     ]
    },
    {
     "name": "stderr",
     "output_type": "stream",
     "text": [
      "4it [09:46, 146.60s/it]"
     ]
    },
    {
     "name": "stdout",
     "output_type": "stream",
     "text": [
      "fold Loss 3:  0.09624331438591202\n",
      "---------------------------------------------------------------------------\n",
      "Learning rate set to 0.002361\n",
      "0:\tlearn: 0.6907775\ttotal: 46.6ms\tremaining: 3m 53s\n",
      "999:\tlearn: 0.1448895\ttotal: 29.4s\tremaining: 1m 57s\n",
      "1998:\tlearn: 0.0887177\ttotal: 58.5s\tremaining: 1m 27s\n",
      "2997:\tlearn: 0.0583106\ttotal: 1m 27s\tremaining: 58.5s\n",
      "3996:\tlearn: 0.0403847\ttotal: 1m 56s\tremaining: 29.2s\n",
      "4995:\tlearn: 0.0296235\ttotal: 2m 24s\tremaining: 116ms\n",
      "4999:\tlearn: 0.0295879\ttotal: 2m 25s\tremaining: 0us\n"
     ]
    },
    {
     "name": "stderr",
     "output_type": "stream",
     "text": [
      "5it [12:12, 146.38s/it]"
     ]
    },
    {
     "name": "stdout",
     "output_type": "stream",
     "text": [
      "fold Loss 4:  0.14524256013992806\n",
      "---------------------------------------------------------------------------\n",
      "Learning rate set to 0.002361\n",
      "0:\tlearn: 0.6908105\ttotal: 58.2ms\tremaining: 4m 50s\n",
      "999:\tlearn: 0.1444011\ttotal: 29.1s\tremaining: 1m 56s\n",
      "1998:\tlearn: 0.0896705\ttotal: 58.4s\tremaining: 1m 27s\n",
      "2997:\tlearn: 0.0596614\ttotal: 1m 27s\tremaining: 58.6s\n",
      "3996:\tlearn: 0.0404813\ttotal: 1m 56s\tremaining: 29.2s\n",
      "4995:\tlearn: 0.0292770\ttotal: 2m 25s\tremaining: 116ms\n",
      "4999:\tlearn: 0.0292373\ttotal: 2m 25s\tremaining: 0us\n"
     ]
    },
    {
     "name": "stderr",
     "output_type": "stream",
     "text": [
      "6it [14:38, 146.31s/it]"
     ]
    },
    {
     "name": "stdout",
     "output_type": "stream",
     "text": [
      "fold Loss 5:  0.1334855355177966\n",
      "---------------------------------------------------------------------------\n",
      "Learning rate set to 0.002361\n",
      "0:\tlearn: 0.6908092\ttotal: 69.8ms\tremaining: 5m 48s\n",
      "999:\tlearn: 0.1456075\ttotal: 28.6s\tremaining: 1m 54s\n",
      "1998:\tlearn: 0.0896705\ttotal: 58.1s\tremaining: 1m 27s\n",
      "2997:\tlearn: 0.0592681\ttotal: 1m 27s\tremaining: 58.3s\n",
      "3996:\tlearn: 0.0404524\ttotal: 1m 56s\tremaining: 29.3s\n",
      "4995:\tlearn: 0.0290369\ttotal: 2m 25s\tremaining: 116ms\n",
      "4999:\tlearn: 0.0290128\ttotal: 2m 25s\tremaining: 0us\n"
     ]
    },
    {
     "name": "stderr",
     "output_type": "stream",
     "text": [
      "7it [17:04, 146.36s/it]"
     ]
    },
    {
     "name": "stdout",
     "output_type": "stream",
     "text": [
      "fold Loss 6:  0.07110732203412326\n",
      "---------------------------------------------------------------------------\n",
      "Learning rate set to 0.002361\n",
      "0:\tlearn: 0.6908041\ttotal: 56.9ms\tremaining: 4m 44s\n",
      "999:\tlearn: 0.1438438\ttotal: 28.8s\tremaining: 1m 55s\n",
      "1998:\tlearn: 0.0879455\ttotal: 57.6s\tremaining: 1m 26s\n",
      "2997:\tlearn: 0.0582365\ttotal: 1m 26s\tremaining: 57.5s\n",
      "3996:\tlearn: 0.0399792\ttotal: 1m 54s\tremaining: 28.8s\n",
      "4995:\tlearn: 0.0281946\ttotal: 2m 24s\tremaining: 116ms\n",
      "4999:\tlearn: 0.0281685\ttotal: 2m 24s\tremaining: 0us\n"
     ]
    },
    {
     "name": "stderr",
     "output_type": "stream",
     "text": [
      "8it [19:30, 146.04s/it]"
     ]
    },
    {
     "name": "stdout",
     "output_type": "stream",
     "text": [
      "fold Loss 7:  0.1368367936603292\n",
      "---------------------------------------------------------------------------\n",
      "Learning rate set to 0.002361\n",
      "0:\tlearn: 0.6909253\ttotal: 45.1ms\tremaining: 3m 45s\n",
      "999:\tlearn: 0.1462333\ttotal: 29.4s\tremaining: 1m 57s\n",
      "1998:\tlearn: 0.0896733\ttotal: 58.8s\tremaining: 1m 28s\n",
      "2997:\tlearn: 0.0590553\ttotal: 1m 27s\tremaining: 58.6s\n",
      "3996:\tlearn: 0.0399445\ttotal: 1m 57s\tremaining: 29.4s\n",
      "4995:\tlearn: 0.0281861\ttotal: 2m 26s\tremaining: 117ms\n",
      "4999:\tlearn: 0.0281458\ttotal: 2m 26s\tremaining: 0us\n"
     ]
    },
    {
     "name": "stderr",
     "output_type": "stream",
     "text": [
      "9it [21:57, 146.51s/it]"
     ]
    },
    {
     "name": "stdout",
     "output_type": "stream",
     "text": [
      "fold Loss 8:  0.13756275866999693\n",
      "---------------------------------------------------------------------------\n",
      "Learning rate set to 0.002361\n",
      "0:\tlearn: 0.6907696\ttotal: 61ms\tremaining: 5m 5s\n",
      "999:\tlearn: 0.1409752\ttotal: 29s\tremaining: 1m 56s\n",
      "1998:\tlearn: 0.0856478\ttotal: 58s\tremaining: 1m 27s\n",
      "2997:\tlearn: 0.0564255\ttotal: 1m 26s\tremaining: 57.6s\n",
      "3996:\tlearn: 0.0379176\ttotal: 1m 55s\tremaining: 28.9s\n",
      "4995:\tlearn: 0.0265508\ttotal: 2m 24s\tremaining: 115ms\n",
      "4999:\tlearn: 0.0265153\ttotal: 2m 24s\tremaining: 0us\n"
     ]
    },
    {
     "name": "stderr",
     "output_type": "stream",
     "text": [
      "10it [24:22, 146.09s/it]"
     ]
    },
    {
     "name": "stdout",
     "output_type": "stream",
     "text": [
      "fold Loss 9:  0.2276314412240662\n",
      "---------------------------------------------------------------------------\n",
      "Learning rate set to 0.002361\n",
      "0:\tlearn: 0.6907972\ttotal: 47.3ms\tremaining: 3m 56s\n",
      "999:\tlearn: 0.1412254\ttotal: 29.5s\tremaining: 1m 58s\n",
      "1998:\tlearn: 0.0875645\ttotal: 58.6s\tremaining: 1m 27s\n",
      "2997:\tlearn: 0.0571739\ttotal: 1m 27s\tremaining: 58.3s\n",
      "3996:\tlearn: 0.0392906\ttotal: 1m 56s\tremaining: 29.1s\n",
      "4995:\tlearn: 0.0282482\ttotal: 2m 25s\tremaining: 117ms\n",
      "4999:\tlearn: 0.0282021\ttotal: 2m 25s\tremaining: 0us\n"
     ]
    },
    {
     "name": "stderr",
     "output_type": "stream",
     "text": [
      "11it [26:49, 146.27s/it]"
     ]
    },
    {
     "name": "stdout",
     "output_type": "stream",
     "text": [
      "fold Loss 10:  0.23274479464772024\n",
      "---------------------------------------------------------------------------\n",
      "Learning rate set to 0.002361\n",
      "0:\tlearn: 0.6904379\ttotal: 63.1ms\tremaining: 5m 15s\n",
      "999:\tlearn: 0.1431171\ttotal: 29.2s\tremaining: 1m 56s\n",
      "1998:\tlearn: 0.0889523\ttotal: 57.2s\tremaining: 1m 25s\n",
      "2997:\tlearn: 0.0589124\ttotal: 1m 26s\tremaining: 57.5s\n",
      "3996:\tlearn: 0.0404197\ttotal: 1m 54s\tremaining: 28.8s\n",
      "4995:\tlearn: 0.0290677\ttotal: 2m 23s\tremaining: 115ms\n",
      "4999:\tlearn: 0.0290429\ttotal: 2m 23s\tremaining: 0us\n"
     ]
    },
    {
     "name": "stderr",
     "output_type": "stream",
     "text": [
      "12it [29:13, 145.72s/it]"
     ]
    },
    {
     "name": "stdout",
     "output_type": "stream",
     "text": [
      "fold Loss 11:  0.12116854794810179\n",
      "---------------------------------------------------------------------------\n",
      "Learning rate set to 0.002361\n",
      "0:\tlearn: 0.6909296\ttotal: 44.5ms\tremaining: 3m 42s\n",
      "999:\tlearn: 0.1472392\ttotal: 29s\tremaining: 1m 55s\n",
      "1998:\tlearn: 0.0899610\ttotal: 57.9s\tremaining: 1m 26s\n",
      "2997:\tlearn: 0.0605033\ttotal: 1m 27s\tremaining: 58.2s\n",
      "3996:\tlearn: 0.0407367\ttotal: 1m 56s\tremaining: 29.2s\n",
      "4995:\tlearn: 0.0285664\ttotal: 2m 25s\tremaining: 116ms\n",
      "4999:\tlearn: 0.0285310\ttotal: 2m 25s\tremaining: 0us\n"
     ]
    },
    {
     "name": "stderr",
     "output_type": "stream",
     "text": [
      "13it [31:40, 145.95s/it]"
     ]
    },
    {
     "name": "stdout",
     "output_type": "stream",
     "text": [
      "fold Loss 12:  0.06339492535538357\n",
      "---------------------------------------------------------------------------\n",
      "Learning rate set to 0.002361\n",
      "0:\tlearn: 0.6907060\ttotal: 59.2ms\tremaining: 4m 56s\n",
      "999:\tlearn: 0.1447596\ttotal: 29.7s\tremaining: 1m 58s\n",
      "1998:\tlearn: 0.0906505\ttotal: 58.6s\tremaining: 1m 27s\n",
      "2997:\tlearn: 0.0600370\ttotal: 1m 27s\tremaining: 58.3s\n",
      "3996:\tlearn: 0.0407424\ttotal: 1m 56s\tremaining: 29.1s\n",
      "4995:\tlearn: 0.0285821\ttotal: 2m 24s\tremaining: 116ms\n",
      "4999:\tlearn: 0.0285340\ttotal: 2m 24s\tremaining: 0us\n"
     ]
    },
    {
     "name": "stderr",
     "output_type": "stream",
     "text": [
      "14it [34:06, 145.91s/it]"
     ]
    },
    {
     "name": "stdout",
     "output_type": "stream",
     "text": [
      "fold Loss 13:  0.09672920766458921\n",
      "---------------------------------------------------------------------------\n",
      "Learning rate set to 0.002361\n",
      "0:\tlearn: 0.6907023\ttotal: 47.9ms\tremaining: 3m 59s\n",
      "999:\tlearn: 0.1447832\ttotal: 29.4s\tremaining: 1m 57s\n",
      "1998:\tlearn: 0.0896979\ttotal: 58.2s\tremaining: 1m 27s\n",
      "2997:\tlearn: 0.0596286\ttotal: 1m 26s\tremaining: 57.8s\n",
      "3996:\tlearn: 0.0409903\ttotal: 1m 55s\tremaining: 29s\n",
      "4995:\tlearn: 0.0292542\ttotal: 2m 24s\tremaining: 116ms\n",
      "4999:\tlearn: 0.0292189\ttotal: 2m 24s\tremaining: 0us\n"
     ]
    },
    {
     "name": "stderr",
     "output_type": "stream",
     "text": [
      "15it [36:31, 145.87s/it]"
     ]
    },
    {
     "name": "stdout",
     "output_type": "stream",
     "text": [
      "fold Loss 14:  0.1427131778719684\n",
      "---------------------------------------------------------------------------\n",
      "Learning rate set to 0.002361\n",
      "0:\tlearn: 0.6906757\ttotal: 60.2ms\tremaining: 5m 1s\n",
      "999:\tlearn: 0.1468329\ttotal: 29.6s\tremaining: 1m 58s\n",
      "1998:\tlearn: 0.0907347\ttotal: 58.6s\tremaining: 1m 27s\n",
      "2997:\tlearn: 0.0603522\ttotal: 1m 27s\tremaining: 58.6s\n",
      "3996:\tlearn: 0.0411329\ttotal: 1m 56s\tremaining: 29.2s\n",
      "4995:\tlearn: 0.0298000\ttotal: 2m 25s\tremaining: 116ms\n",
      "4999:\tlearn: 0.0297529\ttotal: 2m 25s\tremaining: 0us\n"
     ]
    },
    {
     "name": "stderr",
     "output_type": "stream",
     "text": [
      "16it [38:58, 145.96s/it]"
     ]
    },
    {
     "name": "stdout",
     "output_type": "stream",
     "text": [
      "fold Loss 15:  0.07699772219433762\n",
      "---------------------------------------------------------------------------\n",
      "Learning rate set to 0.002361\n",
      "0:\tlearn: 0.6908178\ttotal: 45.3ms\tremaining: 3m 46s\n",
      "999:\tlearn: 0.1452110\ttotal: 28.8s\tremaining: 1m 55s\n",
      "1998:\tlearn: 0.0898673\ttotal: 57.2s\tremaining: 1m 25s\n",
      "2997:\tlearn: 0.0591753\ttotal: 1m 26s\tremaining: 58s\n",
      "3996:\tlearn: 0.0404380\ttotal: 1m 56s\tremaining: 29.1s\n",
      "4995:\tlearn: 0.0287866\ttotal: 2m 24s\tremaining: 116ms\n",
      "4999:\tlearn: 0.0287371\ttotal: 2m 24s\tremaining: 0us\n"
     ]
    },
    {
     "name": "stderr",
     "output_type": "stream",
     "text": [
      "17it [41:23, 145.86s/it]"
     ]
    },
    {
     "name": "stdout",
     "output_type": "stream",
     "text": [
      "fold Loss 16:  0.09101304813332498\n",
      "---------------------------------------------------------------------------\n",
      "Learning rate set to 0.002361\n",
      "0:\tlearn: 0.6907275\ttotal: 56.1ms\tremaining: 4m 40s\n",
      "999:\tlearn: 0.1376699\ttotal: 28.9s\tremaining: 1m 55s\n",
      "1998:\tlearn: 0.0841598\ttotal: 57.4s\tremaining: 1m 26s\n",
      "2997:\tlearn: 0.0554095\ttotal: 1m 25s\tremaining: 57.4s\n",
      "3996:\tlearn: 0.0380674\ttotal: 1m 55s\tremaining: 28.9s\n",
      "4995:\tlearn: 0.0276796\ttotal: 2m 23s\tremaining: 115ms\n",
      "4999:\tlearn: 0.0276512\ttotal: 2m 24s\tremaining: 0us\n"
     ]
    },
    {
     "name": "stderr",
     "output_type": "stream",
     "text": [
      "18it [43:48, 145.57s/it]"
     ]
    },
    {
     "name": "stdout",
     "output_type": "stream",
     "text": [
      "fold Loss 17:  0.2632043310568002\n",
      "---------------------------------------------------------------------------\n",
      "Learning rate set to 0.002361\n",
      "0:\tlearn: 0.6906890\ttotal: 44.1ms\tremaining: 3m 40s\n",
      "999:\tlearn: 0.1443761\ttotal: 28.6s\tremaining: 1m 54s\n",
      "1998:\tlearn: 0.0896472\ttotal: 57.7s\tremaining: 1m 26s\n",
      "2997:\tlearn: 0.0602582\ttotal: 1m 26s\tremaining: 57.7s\n",
      "3996:\tlearn: 0.0413593\ttotal: 1m 55s\tremaining: 29.1s\n",
      "4995:\tlearn: 0.0296756\ttotal: 2m 25s\tremaining: 116ms\n",
      "4999:\tlearn: 0.0296381\ttotal: 2m 25s\tremaining: 0us\n"
     ]
    },
    {
     "name": "stderr",
     "output_type": "stream",
     "text": [
      "19it [46:15, 145.82s/it]"
     ]
    },
    {
     "name": "stdout",
     "output_type": "stream",
     "text": [
      "fold Loss 18:  0.17908657341934525\n",
      "---------------------------------------------------------------------------\n",
      "Learning rate set to 0.002362\n",
      "0:\tlearn: 0.6907574\ttotal: 57.7ms\tremaining: 4m 48s\n",
      "999:\tlearn: 0.1458497\ttotal: 30s\tremaining: 1m 59s\n",
      "1998:\tlearn: 0.0918747\ttotal: 59.7s\tremaining: 1m 29s\n",
      "2997:\tlearn: 0.0614420\ttotal: 1m 28s\tremaining: 59.3s\n",
      "3996:\tlearn: 0.0412513\ttotal: 1m 57s\tremaining: 29.5s\n",
      "4995:\tlearn: 0.0285417\ttotal: 2m 26s\tremaining: 117ms\n",
      "4999:\tlearn: 0.0285134\ttotal: 2m 26s\tremaining: 0us\n"
     ]
    },
    {
     "name": "stderr",
     "output_type": "stream",
     "text": [
      "20it [48:42, 146.11s/it]"
     ]
    },
    {
     "name": "stdout",
     "output_type": "stream",
     "text": [
      "fold Loss 19:  0.05086563296590098\n",
      "---------------------------------------------------------------------------\n",
      "Training Loss: 0.029633401045482198\n",
      "Loss for chloride:\n",
      "0.14518949525168987 0.08719371343479514\n",
      "==================================================================================================\n",
      "TARGET  iron_oxide\n"
     ]
    },
    {
     "name": "stderr",
     "output_type": "stream",
     "text": [
      "\n"
     ]
    },
    {
     "name": "stdout",
     "output_type": "stream",
     "text": [
      "0.48137495226030486\n"
     ]
    },
    {
     "name": "stderr",
     "output_type": "stream",
     "text": [
      "100%|██████████| 101/101 [00:00<00:00, 422357.63it/s]\n"
     ]
    },
    {
     "name": "stdout",
     "output_type": "stream",
     "text": [
      "19\n",
      "0.3587576414525918\n"
     ]
    },
    {
     "name": "stderr",
     "output_type": "stream",
     "text": [
      "100%|██████████| 4100/4100 [00:00<00:00, 769287.21it/s]\n"
     ]
    },
    {
     "name": "stdout",
     "output_type": "stream",
     "text": [
      "70\n",
      "0.38434928138394087\n"
     ]
    },
    {
     "name": "stderr",
     "output_type": "stream",
     "text": [
      "100%|██████████| 4400/4400 [00:00<00:00, 811527.09it/s]\n"
     ]
    },
    {
     "name": "stdout",
     "output_type": "stream",
     "text": [
      "110\n",
      "0.38060317422685996\n"
     ]
    },
    {
     "name": "stderr",
     "output_type": "stream",
     "text": [
      "100%|██████████| 4200/4200 [00:00<00:00, 752020.35it/s]\n"
     ]
    },
    {
     "name": "stdout",
     "output_type": "stream",
     "text": [
      "109\n",
      "(1059, 109) (1059, 19) (1059, 70) (1059, 110)\n",
      "(1059, 308)\n",
      "(804, 109) (804, 19) (804, 70) (804, 110)\n",
      "(804, 308)\n"
     ]
    },
    {
     "name": "stderr",
     "output_type": "stream",
     "text": [
      "0it [00:00, ?it/s]"
     ]
    },
    {
     "name": "stdout",
     "output_type": "stream",
     "text": [
      "Learning rate set to 0.002361\n",
      "0:\tlearn: 0.6910212\ttotal: 55ms\tremaining: 4m 35s\n",
      "999:\tlearn: 0.2163056\ttotal: 37.4s\tremaining: 2m 29s\n",
      "1998:\tlearn: 0.1341967\ttotal: 1m 14s\tremaining: 1m 51s\n",
      "2997:\tlearn: 0.0946366\ttotal: 1m 52s\tremaining: 1m 15s\n",
      "3996:\tlearn: 0.0676442\ttotal: 2m 30s\tremaining: 37.8s\n",
      "4995:\tlearn: 0.0488644\ttotal: 3m 9s\tremaining: 151ms\n"
     ]
    },
    {
     "name": "stderr",
     "output_type": "stream",
     "text": [
      "1it [03:10, 190.24s/it]"
     ]
    },
    {
     "name": "stdout",
     "output_type": "stream",
     "text": [
      "4999:\tlearn: 0.0488101\ttotal: 3m 9s\tremaining: 0us\n",
      "fold Loss 0:  0.19361260270590014\n",
      "---------------------------------------------------------------------------\n",
      "Learning rate set to 0.002361\n",
      "0:\tlearn: 0.6910118\ttotal: 80ms\tremaining: 6m 40s\n",
      "999:\tlearn: 0.2225728\ttotal: 38.3s\tremaining: 2m 33s\n",
      "1998:\tlearn: 0.1374013\ttotal: 1m 15s\tremaining: 1m 53s\n",
      "2997:\tlearn: 0.0983369\ttotal: 1m 53s\tremaining: 1m 15s\n",
      "3996:\tlearn: 0.0699762\ttotal: 2m 30s\tremaining: 37.7s\n",
      "4995:\tlearn: 0.0500595\ttotal: 3m 7s\tremaining: 150ms\n",
      "4999:\tlearn: 0.0500218\ttotal: 3m 7s\tremaining: 0us\n"
     ]
    },
    {
     "name": "stderr",
     "output_type": "stream",
     "text": [
      "2it [06:19, 189.39s/it]"
     ]
    },
    {
     "name": "stdout",
     "output_type": "stream",
     "text": [
      "fold Loss 1:  0.09671842309025461\n",
      "---------------------------------------------------------------------------\n",
      "Learning rate set to 0.002361\n",
      "0:\tlearn: 0.6910370\ttotal: 74.3ms\tremaining: 6m 11s\n",
      "999:\tlearn: 0.2150220\ttotal: 37.5s\tremaining: 2m 30s\n",
      "1998:\tlearn: 0.1322371\ttotal: 1m 16s\tremaining: 1m 54s\n",
      "2997:\tlearn: 0.0931809\ttotal: 1m 53s\tremaining: 1m 16s\n",
      "3996:\tlearn: 0.0662356\ttotal: 2m 32s\tremaining: 38.3s\n",
      "4995:\tlearn: 0.0468889\ttotal: 3m 10s\tremaining: 152ms\n",
      "4999:\tlearn: 0.0468178\ttotal: 3m 10s\tremaining: 0us\n"
     ]
    },
    {
     "name": "stderr",
     "output_type": "stream",
     "text": [
      "3it [09:30, 190.19s/it]"
     ]
    },
    {
     "name": "stdout",
     "output_type": "stream",
     "text": [
      "fold Loss 2:  0.19962126742796946\n",
      "---------------------------------------------------------------------------\n",
      "Learning rate set to 0.002361\n",
      "0:\tlearn: 0.6910799\ttotal: 75.4ms\tremaining: 6m 17s\n",
      "999:\tlearn: 0.2170208\ttotal: 37.8s\tremaining: 2m 31s\n",
      "1998:\tlearn: 0.1311237\ttotal: 1m 15s\tremaining: 1m 53s\n",
      "2997:\tlearn: 0.0886958\ttotal: 1m 53s\tremaining: 1m 15s\n",
      "3996:\tlearn: 0.0610776\ttotal: 2m 30s\tremaining: 37.8s\n",
      "4995:\tlearn: 0.0428364\ttotal: 3m 8s\tremaining: 151ms\n",
      "4999:\tlearn: 0.0427744\ttotal: 3m 8s\tremaining: 0us\n"
     ]
    },
    {
     "name": "stderr",
     "output_type": "stream",
     "text": [
      "4it [12:39, 189.81s/it]"
     ]
    },
    {
     "name": "stdout",
     "output_type": "stream",
     "text": [
      "fold Loss 3:  0.23020290593994627\n",
      "---------------------------------------------------------------------------\n",
      "Learning rate set to 0.002361\n",
      "0:\tlearn: 0.6911216\ttotal: 72.5ms\tremaining: 6m 2s\n",
      "999:\tlearn: 0.2186844\ttotal: 37.7s\tremaining: 2m 30s\n",
      "1998:\tlearn: 0.1344141\ttotal: 1m 15s\tremaining: 1m 53s\n",
      "2997:\tlearn: 0.0943124\ttotal: 1m 53s\tremaining: 1m 15s\n",
      "3996:\tlearn: 0.0677209\ttotal: 2m 30s\tremaining: 37.9s\n",
      "4995:\tlearn: 0.0484610\ttotal: 3m 8s\tremaining: 151ms\n",
      "4999:\tlearn: 0.0484078\ttotal: 3m 8s\tremaining: 0us\n"
     ]
    },
    {
     "name": "stderr",
     "output_type": "stream",
     "text": [
      "5it [15:49, 189.81s/it]"
     ]
    },
    {
     "name": "stdout",
     "output_type": "stream",
     "text": [
      "fold Loss 4:  0.1611443363959946\n",
      "---------------------------------------------------------------------------\n",
      "Learning rate set to 0.002361\n",
      "0:\tlearn: 0.6910059\ttotal: 66.8ms\tremaining: 5m 33s\n",
      "999:\tlearn: 0.2155350\ttotal: 37.8s\tremaining: 2m 31s\n",
      "1998:\tlearn: 0.1335520\ttotal: 1m 15s\tremaining: 1m 52s\n",
      "2997:\tlearn: 0.0928962\ttotal: 1m 53s\tremaining: 1m 15s\n",
      "3996:\tlearn: 0.0659235\ttotal: 2m 31s\tremaining: 37.9s\n",
      "4995:\tlearn: 0.0471190\ttotal: 3m 8s\tremaining: 151ms\n",
      "4999:\tlearn: 0.0470111\ttotal: 3m 9s\tremaining: 0us\n"
     ]
    },
    {
     "name": "stderr",
     "output_type": "stream",
     "text": [
      "6it [18:59, 189.89s/it]"
     ]
    },
    {
     "name": "stdout",
     "output_type": "stream",
     "text": [
      "fold Loss 5:  0.2127484891684141\n",
      "---------------------------------------------------------------------------\n",
      "Learning rate set to 0.002361\n",
      "0:\tlearn: 0.6908941\ttotal: 73.1ms\tremaining: 6m 5s\n",
      "999:\tlearn: 0.2152825\ttotal: 38.2s\tremaining: 2m 32s\n",
      "1998:\tlearn: 0.1344646\ttotal: 1m 16s\tremaining: 1m 54s\n",
      "2997:\tlearn: 0.0948042\ttotal: 1m 53s\tremaining: 1m 15s\n",
      "3996:\tlearn: 0.0687044\ttotal: 2m 31s\tremaining: 37.9s\n",
      "4995:\tlearn: 0.0505805\ttotal: 3m 8s\tremaining: 151ms\n",
      "4999:\tlearn: 0.0504943\ttotal: 3m 9s\tremaining: 0us\n"
     ]
    },
    {
     "name": "stderr",
     "output_type": "stream",
     "text": [
      "7it [22:09, 189.95s/it]"
     ]
    },
    {
     "name": "stdout",
     "output_type": "stream",
     "text": [
      "fold Loss 6:  0.1580161919423147\n",
      "---------------------------------------------------------------------------\n",
      "Learning rate set to 0.002361\n",
      "0:\tlearn: 0.6910774\ttotal: 80.4ms\tremaining: 6m 42s\n",
      "999:\tlearn: 0.2175701\ttotal: 37.7s\tremaining: 2m 30s\n",
      "1998:\tlearn: 0.1340441\ttotal: 1m 15s\tremaining: 1m 53s\n",
      "2997:\tlearn: 0.0950867\ttotal: 1m 52s\tremaining: 1m 15s\n",
      "3996:\tlearn: 0.0686167\ttotal: 2m 30s\tremaining: 37.8s\n",
      "4995:\tlearn: 0.0495242\ttotal: 3m 8s\tremaining: 151ms\n",
      "4999:\tlearn: 0.0494569\ttotal: 3m 8s\tremaining: 0us\n"
     ]
    },
    {
     "name": "stderr",
     "output_type": "stream",
     "text": [
      "8it [25:18, 189.77s/it]"
     ]
    },
    {
     "name": "stdout",
     "output_type": "stream",
     "text": [
      "fold Loss 7:  0.14413501874507526\n",
      "---------------------------------------------------------------------------\n",
      "Learning rate set to 0.002361\n",
      "0:\tlearn: 0.6908854\ttotal: 75.1ms\tremaining: 6m 15s\n",
      "999:\tlearn: 0.2173413\ttotal: 37.4s\tremaining: 2m 29s\n",
      "1998:\tlearn: 0.1345511\ttotal: 1m 14s\tremaining: 1m 52s\n",
      "2997:\tlearn: 0.0941706\ttotal: 1m 52s\tremaining: 1m 15s\n",
      "3996:\tlearn: 0.0676816\ttotal: 2m 30s\tremaining: 37.7s\n",
      "4995:\tlearn: 0.0489416\ttotal: 3m 7s\tremaining: 150ms\n",
      "4999:\tlearn: 0.0488747\ttotal: 3m 7s\tremaining: 0us\n"
     ]
    },
    {
     "name": "stderr",
     "output_type": "stream",
     "text": [
      "9it [28:26, 189.29s/it]"
     ]
    },
    {
     "name": "stdout",
     "output_type": "stream",
     "text": [
      "fold Loss 8:  0.1878831855544906\n",
      "---------------------------------------------------------------------------\n",
      "Learning rate set to 0.002361\n",
      "0:\tlearn: 0.6910654\ttotal: 74.5ms\tremaining: 6m 12s\n",
      "999:\tlearn: 0.2196601\ttotal: 38.4s\tremaining: 2m 33s\n",
      "1998:\tlearn: 0.1360835\ttotal: 1m 15s\tremaining: 1m 53s\n",
      "2997:\tlearn: 0.0960044\ttotal: 1m 53s\tremaining: 1m 15s\n",
      "3996:\tlearn: 0.0689596\ttotal: 2m 30s\tremaining: 37.7s\n",
      "4995:\tlearn: 0.0492256\ttotal: 3m 7s\tremaining: 150ms\n",
      "4999:\tlearn: 0.0491631\ttotal: 3m 7s\tremaining: 0us\n"
     ]
    },
    {
     "name": "stderr",
     "output_type": "stream",
     "text": [
      "10it [31:35, 189.00s/it]"
     ]
    },
    {
     "name": "stdout",
     "output_type": "stream",
     "text": [
      "fold Loss 9:  0.13157145511731608\n",
      "---------------------------------------------------------------------------\n",
      "Learning rate set to 0.002361\n",
      "0:\tlearn: 0.6908814\ttotal: 72ms\tremaining: 5m 59s\n",
      "999:\tlearn: 0.2140383\ttotal: 37.5s\tremaining: 2m 29s\n",
      "1998:\tlearn: 0.1277060\ttotal: 1m 15s\tremaining: 1m 53s\n",
      "2997:\tlearn: 0.0856651\ttotal: 1m 53s\tremaining: 1m 15s\n",
      "3996:\tlearn: 0.0595506\ttotal: 2m 30s\tremaining: 37.9s\n",
      "4995:\tlearn: 0.0415131\ttotal: 3m 8s\tremaining: 151ms\n",
      "4999:\tlearn: 0.0414447\ttotal: 3m 8s\tremaining: 0us\n"
     ]
    },
    {
     "name": "stderr",
     "output_type": "stream",
     "text": [
      "11it [34:45, 189.22s/it]"
     ]
    },
    {
     "name": "stdout",
     "output_type": "stream",
     "text": [
      "fold Loss 10:  0.2851798307596967\n",
      "---------------------------------------------------------------------------\n",
      "Learning rate set to 0.002361\n",
      "0:\tlearn: 0.6908818\ttotal: 69.6ms\tremaining: 5m 47s\n",
      "999:\tlearn: 0.2121715\ttotal: 37.4s\tremaining: 2m 29s\n",
      "1998:\tlearn: 0.1291517\ttotal: 1m 14s\tremaining: 1m 52s\n",
      "2997:\tlearn: 0.0893210\ttotal: 1m 52s\tremaining: 1m 14s\n",
      "3996:\tlearn: 0.0616445\ttotal: 2m 28s\tremaining: 37.4s\n",
      "4995:\tlearn: 0.0413768\ttotal: 3m 6s\tremaining: 149ms\n",
      "4999:\tlearn: 0.0412752\ttotal: 3m 6s\tremaining: 0us\n"
     ]
    },
    {
     "name": "stderr",
     "output_type": "stream",
     "text": [
      "12it [37:52, 188.72s/it]"
     ]
    },
    {
     "name": "stdout",
     "output_type": "stream",
     "text": [
      "fold Loss 11:  0.2511222182308016\n",
      "---------------------------------------------------------------------------\n",
      "Learning rate set to 0.002361\n",
      "0:\tlearn: 0.6911853\ttotal: 72.9ms\tremaining: 6m 4s\n",
      "999:\tlearn: 0.2137909\ttotal: 37.7s\tremaining: 2m 30s\n",
      "1998:\tlearn: 0.1324622\ttotal: 1m 15s\tremaining: 1m 53s\n",
      "2997:\tlearn: 0.0941357\ttotal: 1m 53s\tremaining: 1m 15s\n",
      "3996:\tlearn: 0.0667608\ttotal: 2m 30s\tremaining: 37.8s\n",
      "4995:\tlearn: 0.0472108\ttotal: 3m 7s\tremaining: 150ms\n",
      "4999:\tlearn: 0.0471422\ttotal: 3m 7s\tremaining: 0us\n"
     ]
    },
    {
     "name": "stderr",
     "output_type": "stream",
     "text": [
      "13it [41:01, 188.77s/it]"
     ]
    },
    {
     "name": "stdout",
     "output_type": "stream",
     "text": [
      "fold Loss 12:  0.23910045832385896\n",
      "---------------------------------------------------------------------------\n",
      "Learning rate set to 0.002361\n",
      "0:\tlearn: 0.6909927\ttotal: 81.8ms\tremaining: 6m 48s\n",
      "999:\tlearn: 0.2180062\ttotal: 37.8s\tremaining: 2m 31s\n",
      "1998:\tlearn: 0.1343036\ttotal: 1m 15s\tremaining: 1m 53s\n",
      "2997:\tlearn: 0.0942700\ttotal: 1m 53s\tremaining: 1m 15s\n",
      "3996:\tlearn: 0.0668620\ttotal: 2m 30s\tremaining: 37.8s\n",
      "4995:\tlearn: 0.0465513\ttotal: 3m 8s\tremaining: 151ms\n",
      "4999:\tlearn: 0.0464747\ttotal: 3m 8s\tremaining: 0us\n"
     ]
    },
    {
     "name": "stderr",
     "output_type": "stream",
     "text": [
      "14it [44:10, 188.96s/it]"
     ]
    },
    {
     "name": "stdout",
     "output_type": "stream",
     "text": [
      "fold Loss 13:  0.13665664850588533\n",
      "---------------------------------------------------------------------------\n",
      "Learning rate set to 0.002361\n",
      "0:\tlearn: 0.6909431\ttotal: 77.5ms\tremaining: 6m 27s\n",
      "999:\tlearn: 0.2131031\ttotal: 37.6s\tremaining: 2m 30s\n",
      "1998:\tlearn: 0.1335463\ttotal: 1m 15s\tremaining: 1m 52s\n",
      "2997:\tlearn: 0.0941214\ttotal: 1m 52s\tremaining: 1m 14s\n",
      "3996:\tlearn: 0.0665495\ttotal: 2m 29s\tremaining: 37.6s\n",
      "4995:\tlearn: 0.0481379\ttotal: 3m 8s\tremaining: 151ms\n",
      "4999:\tlearn: 0.0480827\ttotal: 3m 8s\tremaining: 0us\n"
     ]
    },
    {
     "name": "stderr",
     "output_type": "stream",
     "text": [
      "15it [47:20, 189.08s/it]"
     ]
    },
    {
     "name": "stdout",
     "output_type": "stream",
     "text": [
      "fold Loss 14:  0.28512877062082287\n",
      "---------------------------------------------------------------------------\n",
      "Learning rate set to 0.002361\n",
      "0:\tlearn: 0.6910280\ttotal: 73.8ms\tremaining: 6m 9s\n",
      "999:\tlearn: 0.2145917\ttotal: 37.6s\tremaining: 2m 30s\n",
      "1998:\tlearn: 0.1325498\ttotal: 1m 15s\tremaining: 1m 53s\n",
      "2997:\tlearn: 0.0936804\ttotal: 1m 53s\tremaining: 1m 15s\n",
      "3996:\tlearn: 0.0670306\ttotal: 2m 30s\tremaining: 37.7s\n",
      "4995:\tlearn: 0.0476764\ttotal: 3m 8s\tremaining: 151ms\n",
      "4999:\tlearn: 0.0476171\ttotal: 3m 8s\tremaining: 0us\n"
     ]
    },
    {
     "name": "stderr",
     "output_type": "stream",
     "text": [
      "16it [50:29, 189.12s/it]"
     ]
    },
    {
     "name": "stdout",
     "output_type": "stream",
     "text": [
      "fold Loss 15:  0.17875688035161588\n",
      "---------------------------------------------------------------------------\n",
      "Learning rate set to 0.002361\n",
      "0:\tlearn: 0.6909303\ttotal: 77.3ms\tremaining: 6m 26s\n",
      "999:\tlearn: 0.2161124\ttotal: 38.5s\tremaining: 2m 33s\n",
      "1998:\tlearn: 0.1320741\ttotal: 1m 15s\tremaining: 1m 53s\n",
      "2997:\tlearn: 0.0927541\ttotal: 1m 53s\tremaining: 1m 15s\n",
      "3996:\tlearn: 0.0666577\ttotal: 2m 30s\tremaining: 37.8s\n",
      "4995:\tlearn: 0.0475463\ttotal: 3m 7s\tremaining: 150ms\n",
      "4999:\tlearn: 0.0474749\ttotal: 3m 8s\tremaining: 0us\n"
     ]
    },
    {
     "name": "stderr",
     "output_type": "stream",
     "text": [
      "17it [53:38, 189.05s/it]"
     ]
    },
    {
     "name": "stdout",
     "output_type": "stream",
     "text": [
      "fold Loss 16:  0.17765095390760535\n",
      "---------------------------------------------------------------------------\n",
      "Learning rate set to 0.002361\n",
      "0:\tlearn: 0.6909229\ttotal: 74.3ms\tremaining: 6m 11s\n",
      "999:\tlearn: 0.2164725\ttotal: 37.7s\tremaining: 2m 30s\n",
      "1998:\tlearn: 0.1338952\ttotal: 1m 16s\tremaining: 1m 54s\n",
      "2997:\tlearn: 0.0942830\ttotal: 1m 54s\tremaining: 1m 16s\n",
      "3996:\tlearn: 0.0681710\ttotal: 2m 32s\tremaining: 38.2s\n",
      "4995:\tlearn: 0.0489519\ttotal: 3m 9s\tremaining: 152ms\n",
      "4999:\tlearn: 0.0489121\ttotal: 3m 10s\tremaining: 0us\n"
     ]
    },
    {
     "name": "stderr",
     "output_type": "stream",
     "text": [
      "18it [56:49, 189.65s/it]"
     ]
    },
    {
     "name": "stdout",
     "output_type": "stream",
     "text": [
      "fold Loss 17:  0.17187507052874812\n",
      "---------------------------------------------------------------------------\n",
      "Learning rate set to 0.002361\n",
      "0:\tlearn: 0.6910594\ttotal: 75ms\tremaining: 6m 14s\n",
      "999:\tlearn: 0.2156126\ttotal: 38s\tremaining: 2m 31s\n",
      "1998:\tlearn: 0.1339314\ttotal: 1m 15s\tremaining: 1m 53s\n",
      "2997:\tlearn: 0.0941776\ttotal: 1m 52s\tremaining: 1m 15s\n",
      "3996:\tlearn: 0.0679805\ttotal: 2m 30s\tremaining: 37.7s\n",
      "4995:\tlearn: 0.0483206\ttotal: 3m 8s\tremaining: 151ms\n",
      "4999:\tlearn: 0.0482476\ttotal: 3m 8s\tremaining: 0us\n"
     ]
    },
    {
     "name": "stderr",
     "output_type": "stream",
     "text": [
      "19it [59:58, 189.51s/it]"
     ]
    },
    {
     "name": "stdout",
     "output_type": "stream",
     "text": [
      "fold Loss 18:  0.17251201779117958\n",
      "---------------------------------------------------------------------------\n",
      "Learning rate set to 0.002362\n",
      "0:\tlearn: 0.6911140\ttotal: 72.5ms\tremaining: 6m 2s\n",
      "999:\tlearn: 0.2161549\ttotal: 37.6s\tremaining: 2m 30s\n",
      "1998:\tlearn: 0.1329496\ttotal: 1m 15s\tremaining: 1m 53s\n",
      "2997:\tlearn: 0.0934894\ttotal: 1m 54s\tremaining: 1m 16s\n",
      "3996:\tlearn: 0.0670666\ttotal: 2m 32s\tremaining: 38.2s\n",
      "4995:\tlearn: 0.0472273\ttotal: 3m 10s\tremaining: 153ms\n",
      "4999:\tlearn: 0.0471530\ttotal: 3m 10s\tremaining: 0us\n"
     ]
    },
    {
     "name": "stderr",
     "output_type": "stream",
     "text": [
      "20it [1:03:10, 189.51s/it]"
     ]
    },
    {
     "name": "stdout",
     "output_type": "stream",
     "text": [
      "fold Loss 19:  0.1416756370085424\n",
      "---------------------------------------------------------------------------\n",
      "Training Loss: 0.05182737441641692\n",
      "Loss for iron_oxide:\n",
      "0.18776561810582165 0.049278822138311834\n",
      "==================================================================================================\n",
      "TARGET  oxalate\n"
     ]
    },
    {
     "name": "stderr",
     "output_type": "stream",
     "text": [
      "\n"
     ]
    },
    {
     "name": "stdout",
     "output_type": "stream",
     "text": [
      "0.044340890625043525\n"
     ]
    },
    {
     "name": "stderr",
     "output_type": "stream",
     "text": [
      "100%|██████████| 101/101 [00:00<00:00, 333825.61it/s]"
     ]
    },
    {
     "name": "stdout",
     "output_type": "stream",
     "text": [
      "7\n"
     ]
    },
    {
     "name": "stderr",
     "output_type": "stream",
     "text": [
      "\n"
     ]
    },
    {
     "name": "stdout",
     "output_type": "stream",
     "text": [
      "0.010722332077612202\n"
     ]
    },
    {
     "name": "stderr",
     "output_type": "stream",
     "text": [
      "100%|██████████| 4100/4100 [00:00<00:00, 816167.37it/s]\n"
     ]
    },
    {
     "name": "stdout",
     "output_type": "stream",
     "text": [
      "14\n",
      "0.010431278885756106\n"
     ]
    },
    {
     "name": "stderr",
     "output_type": "stream",
     "text": [
      "100%|██████████| 4400/4400 [00:00<00:00, 763199.93it/s]\n"
     ]
    },
    {
     "name": "stdout",
     "output_type": "stream",
     "text": [
      "17\n",
      "0.010435765864606343\n"
     ]
    },
    {
     "name": "stderr",
     "output_type": "stream",
     "text": [
      "100%|██████████| 4200/4200 [00:00<00:00, 829694.65it/s]\n"
     ]
    },
    {
     "name": "stdout",
     "output_type": "stream",
     "text": [
      "17\n",
      "(1059, 17) (1059, 7) (1059, 14) (1059, 17)\n",
      "(1059, 55)\n",
      "(804, 17) (804, 7) (804, 14) (804, 17)\n",
      "(804, 55)\n"
     ]
    },
    {
     "name": "stderr",
     "output_type": "stream",
     "text": [
      "0it [00:00, ?it/s]"
     ]
    },
    {
     "name": "stdout",
     "output_type": "stream",
     "text": [
      "Learning rate set to 0.002361\n",
      "0:\tlearn: 0.6871979\ttotal: 13.7ms\tremaining: 1m 8s\n",
      "999:\tlearn: 0.0051341\ttotal: 8.36s\tremaining: 33.4s\n",
      "1998:\tlearn: 0.0014970\ttotal: 16.3s\tremaining: 24.5s\n",
      "2997:\tlearn: 0.0007977\ttotal: 24.2s\tremaining: 16.2s\n",
      "3996:\tlearn: 0.0004869\ttotal: 32.3s\tremaining: 8.1s\n"
     ]
    },
    {
     "name": "stderr",
     "output_type": "stream",
     "text": [
      "1it [00:41, 41.10s/it]"
     ]
    },
    {
     "name": "stdout",
     "output_type": "stream",
     "text": [
      "4995:\tlearn: 0.0003508\ttotal: 40.2s\tremaining: 32.2ms\n",
      "4999:\tlearn: 0.0003504\ttotal: 40.3s\tremaining: 0us\n",
      "fold Loss 0:  0.00015052994698334512\n",
      "---------------------------------------------------------------------------\n",
      "Learning rate set to 0.002361\n",
      "0:\tlearn: 0.6871388\ttotal: 9.8ms\tremaining: 49s\n",
      "999:\tlearn: 0.0051899\ttotal: 7.71s\tremaining: 30.8s\n",
      "1998:\tlearn: 0.0015158\ttotal: 15.4s\tremaining: 23.1s\n",
      "2997:\tlearn: 0.0008028\ttotal: 23.3s\tremaining: 15.6s\n",
      "3996:\tlearn: 0.0004817\ttotal: 31.2s\tremaining: 7.82s\n"
     ]
    },
    {
     "name": "stderr",
     "output_type": "stream",
     "text": [
      "2it [01:20, 40.29s/it]"
     ]
    },
    {
     "name": "stdout",
     "output_type": "stream",
     "text": [
      "4995:\tlearn: 0.0003311\ttotal: 38.9s\tremaining: 31.1ms\n",
      "4999:\tlearn: 0.0003307\ttotal: 38.9s\tremaining: 0us\n",
      "fold Loss 1:  0.0002859738994770415\n",
      "---------------------------------------------------------------------------\n",
      "Learning rate set to 0.002361\n",
      "0:\tlearn: 0.6871314\ttotal: 9.23ms\tremaining: 46.2s\n",
      "999:\tlearn: 0.0051468\ttotal: 7.76s\tremaining: 31.1s\n",
      "1998:\tlearn: 0.0014878\ttotal: 15.6s\tremaining: 23.5s\n",
      "2997:\tlearn: 0.0008014\ttotal: 23.7s\tremaining: 15.8s\n",
      "3996:\tlearn: 0.0005048\ttotal: 31.3s\tremaining: 7.86s\n"
     ]
    },
    {
     "name": "stderr",
     "output_type": "stream",
     "text": [
      "3it [02:00, 40.15s/it]"
     ]
    },
    {
     "name": "stdout",
     "output_type": "stream",
     "text": [
      "4995:\tlearn: 0.0003539\ttotal: 39.1s\tremaining: 31.3ms\n",
      "4999:\tlearn: 0.0003534\ttotal: 39.1s\tremaining: 0us\n",
      "fold Loss 2:  0.0006378839383468067\n",
      "---------------------------------------------------------------------------\n",
      "Learning rate set to 0.002361\n",
      "0:\tlearn: 0.6871377\ttotal: 8.6ms\tremaining: 43s\n",
      "999:\tlearn: 0.0051617\ttotal: 7.99s\tremaining: 32s\n",
      "1998:\tlearn: 0.0014934\ttotal: 16.6s\tremaining: 24.9s\n",
      "2997:\tlearn: 0.0007953\ttotal: 24.5s\tremaining: 16.4s\n",
      "3996:\tlearn: 0.0004810\ttotal: 32.3s\tremaining: 8.1s\n"
     ]
    },
    {
     "name": "stderr",
     "output_type": "stream",
     "text": [
      "4it [02:41, 40.43s/it]"
     ]
    },
    {
     "name": "stdout",
     "output_type": "stream",
     "text": [
      "4995:\tlearn: 0.0003375\ttotal: 40s\tremaining: 32ms\n",
      "4999:\tlearn: 0.0003372\ttotal: 40s\tremaining: 0us\n",
      "fold Loss 3:  0.00029690917618594765\n",
      "---------------------------------------------------------------------------\n",
      "Learning rate set to 0.002361\n",
      "0:\tlearn: 0.6871742\ttotal: 10.4ms\tremaining: 52.1s\n",
      "999:\tlearn: 0.0051859\ttotal: 8.18s\tremaining: 32.7s\n",
      "1998:\tlearn: 0.0014978\ttotal: 15.9s\tremaining: 23.9s\n",
      "2997:\tlearn: 0.0007956\ttotal: 23.6s\tremaining: 15.7s\n",
      "3996:\tlearn: 0.0004759\ttotal: 31.6s\tremaining: 7.93s\n"
     ]
    },
    {
     "name": "stderr",
     "output_type": "stream",
     "text": [
      "5it [03:22, 40.54s/it]"
     ]
    },
    {
     "name": "stdout",
     "output_type": "stream",
     "text": [
      "4995:\tlearn: 0.0003313\ttotal: 39.9s\tremaining: 31.9ms\n",
      "4999:\tlearn: 0.0003309\ttotal: 39.9s\tremaining: 0us\n",
      "fold Loss 4:  0.00029670742994206665\n",
      "---------------------------------------------------------------------------\n",
      "Learning rate set to 0.002361\n",
      "0:\tlearn: 0.6871827\ttotal: 8.03ms\tremaining: 40.2s\n",
      "999:\tlearn: 0.0051841\ttotal: 7.95s\tremaining: 31.8s\n",
      "1998:\tlearn: 0.0015107\ttotal: 15.8s\tremaining: 23.7s\n",
      "2997:\tlearn: 0.0008109\ttotal: 23.6s\tremaining: 15.8s\n",
      "3996:\tlearn: 0.0004881\ttotal: 31.6s\tremaining: 7.92s\n"
     ]
    },
    {
     "name": "stderr",
     "output_type": "stream",
     "text": [
      "6it [04:02, 40.40s/it]"
     ]
    },
    {
     "name": "stdout",
     "output_type": "stream",
     "text": [
      "4995:\tlearn: 0.0003435\ttotal: 39.3s\tremaining: 31.4ms\n",
      "4999:\tlearn: 0.0003432\ttotal: 39.3s\tremaining: 0us\n",
      "fold Loss 5:  0.000478734826581114\n",
      "---------------------------------------------------------------------------\n",
      "Learning rate set to 0.002361\n",
      "0:\tlearn: 0.6871954\ttotal: 8.17ms\tremaining: 40.9s\n",
      "999:\tlearn: 0.0049298\ttotal: 8.11s\tremaining: 32.4s\n",
      "1998:\tlearn: 0.0014266\ttotal: 15.9s\tremaining: 23.9s\n",
      "2997:\tlearn: 0.0007706\ttotal: 24.2s\tremaining: 16.1s\n",
      "3996:\tlearn: 0.0005021\ttotal: 31.8s\tremaining: 7.97s\n"
     ]
    },
    {
     "name": "stderr",
     "output_type": "stream",
     "text": [
      "7it [04:42, 40.34s/it]"
     ]
    },
    {
     "name": "stdout",
     "output_type": "stream",
     "text": [
      "4995:\tlearn: 0.0003846\ttotal: 39.4s\tremaining: 31.5ms\n",
      "4999:\tlearn: 0.0003843\ttotal: 39.4s\tremaining: 0us\n",
      "fold Loss 6:  0.0005401377648231221\n",
      "---------------------------------------------------------------------------\n",
      "Learning rate set to 0.002361\n",
      "0:\tlearn: 0.6871950\ttotal: 9.64ms\tremaining: 48.2s\n",
      "999:\tlearn: 0.0052187\ttotal: 7.87s\tremaining: 31.5s\n",
      "1998:\tlearn: 0.0015130\ttotal: 16.1s\tremaining: 24.2s\n",
      "2997:\tlearn: 0.0008078\ttotal: 23.8s\tremaining: 15.9s\n",
      "3996:\tlearn: 0.0004828\ttotal: 31.6s\tremaining: 7.93s\n"
     ]
    },
    {
     "name": "stderr",
     "output_type": "stream",
     "text": [
      "8it [05:23, 40.38s/it]"
     ]
    },
    {
     "name": "stdout",
     "output_type": "stream",
     "text": [
      "4995:\tlearn: 0.0003353\ttotal: 39.6s\tremaining: 31.7ms\n",
      "4999:\tlearn: 0.0003349\ttotal: 39.6s\tremaining: 0us\n",
      "fold Loss 7:  0.0003089865427852303\n",
      "---------------------------------------------------------------------------\n",
      "Learning rate set to 0.002361\n",
      "0:\tlearn: 0.6871888\ttotal: 10.1ms\tremaining: 50.7s\n",
      "999:\tlearn: 0.0050149\ttotal: 8.16s\tremaining: 32.6s\n",
      "1998:\tlearn: 0.0014524\ttotal: 15.8s\tremaining: 23.7s\n",
      "2997:\tlearn: 0.0007713\ttotal: 23.6s\tremaining: 15.8s\n",
      "3996:\tlearn: 0.0005071\ttotal: 31.4s\tremaining: 7.87s\n"
     ]
    },
    {
     "name": "stderr",
     "output_type": "stream",
     "text": [
      "9it [06:03, 40.38s/it]"
     ]
    },
    {
     "name": "stdout",
     "output_type": "stream",
     "text": [
      "4995:\tlearn: 0.0003836\ttotal: 39.5s\tremaining: 31.6ms\n",
      "4999:\tlearn: 0.0003832\ttotal: 39.6s\tremaining: 0us\n",
      "fold Loss 8:  0.003804202148513557\n",
      "---------------------------------------------------------------------------\n",
      "Learning rate set to 0.002361\n",
      "0:\tlearn: 0.6871857\ttotal: 7.81ms\tremaining: 39s\n",
      "999:\tlearn: 0.0050748\ttotal: 7.75s\tremaining: 31s\n",
      "1998:\tlearn: 0.0015023\ttotal: 15.5s\tremaining: 23.3s\n",
      "2997:\tlearn: 0.0008252\ttotal: 23.2s\tremaining: 15.5s\n",
      "3996:\tlearn: 0.0005649\ttotal: 31.4s\tremaining: 7.88s\n"
     ]
    },
    {
     "name": "stderr",
     "output_type": "stream",
     "text": [
      "10it [06:43, 40.31s/it]"
     ]
    },
    {
     "name": "stdout",
     "output_type": "stream",
     "text": [
      "4995:\tlearn: 0.0004541\ttotal: 39.3s\tremaining: 31.5ms\n",
      "4999:\tlearn: 0.0004538\ttotal: 39.4s\tremaining: 0us\n",
      "fold Loss 9:  0.008839359179118\n",
      "---------------------------------------------------------------------------\n",
      "Learning rate set to 0.002361\n",
      "0:\tlearn: 0.6871934\ttotal: 8.67ms\tremaining: 43.4s\n",
      "999:\tlearn: 0.0050110\ttotal: 7.79s\tremaining: 31.2s\n",
      "1998:\tlearn: 0.0015157\ttotal: 15.6s\tremaining: 23.5s\n",
      "2997:\tlearn: 0.0008200\ttotal: 23.9s\tremaining: 16s\n",
      "3996:\tlearn: 0.0005503\ttotal: 32s\tremaining: 8.03s\n"
     ]
    },
    {
     "name": "stderr",
     "output_type": "stream",
     "text": [
      "11it [07:24, 40.45s/it]"
     ]
    },
    {
     "name": "stdout",
     "output_type": "stream",
     "text": [
      "4995:\tlearn: 0.0004246\ttotal: 39.9s\tremaining: 31.9ms\n",
      "4999:\tlearn: 0.0004242\ttotal: 39.9s\tremaining: 0us\n",
      "fold Loss 10:  0.035302993530413745\n",
      "---------------------------------------------------------------------------\n",
      "Learning rate set to 0.002361\n",
      "0:\tlearn: 0.6871995\ttotal: 8.2ms\tremaining: 41s\n",
      "999:\tlearn: 0.0049367\ttotal: 7.73s\tremaining: 30.9s\n",
      "1998:\tlearn: 0.0014296\ttotal: 15.9s\tremaining: 23.9s\n",
      "2997:\tlearn: 0.0007629\ttotal: 23.7s\tremaining: 15.8s\n",
      "3996:\tlearn: 0.0004909\ttotal: 31.6s\tremaining: 7.93s\n"
     ]
    },
    {
     "name": "stderr",
     "output_type": "stream",
     "text": [
      "12it [08:04, 40.41s/it]"
     ]
    },
    {
     "name": "stdout",
     "output_type": "stream",
     "text": [
      "4995:\tlearn: 0.0003483\ttotal: 39.4s\tremaining: 31.6ms\n",
      "4999:\tlearn: 0.0003481\ttotal: 39.5s\tremaining: 0us\n",
      "fold Loss 11:  0.001170042722680957\n",
      "---------------------------------------------------------------------------\n",
      "Learning rate set to 0.002361\n",
      "0:\tlearn: 0.6869874\ttotal: 10.8ms\tremaining: 53.9s\n",
      "999:\tlearn: 0.0049043\ttotal: 8.29s\tremaining: 33.2s\n",
      "1998:\tlearn: 0.0014364\ttotal: 16.1s\tremaining: 24.2s\n",
      "2997:\tlearn: 0.0007755\ttotal: 23.9s\tremaining: 16s\n",
      "3996:\tlearn: 0.0005024\ttotal: 31.6s\tremaining: 7.94s\n"
     ]
    },
    {
     "name": "stderr",
     "output_type": "stream",
     "text": [
      "13it [08:45, 40.49s/it]"
     ]
    },
    {
     "name": "stdout",
     "output_type": "stream",
     "text": [
      "4995:\tlearn: 0.0003839\ttotal: 39.8s\tremaining: 31.9ms\n",
      "4999:\tlearn: 0.0003835\ttotal: 39.8s\tremaining: 0us\n",
      "fold Loss 12:  0.00044972393055572467\n",
      "---------------------------------------------------------------------------\n",
      "Learning rate set to 0.002361\n",
      "0:\tlearn: 0.6872017\ttotal: 8.31ms\tremaining: 41.5s\n",
      "999:\tlearn: 0.0050890\ttotal: 7.7s\tremaining: 30.8s\n",
      "1998:\tlearn: 0.0015068\ttotal: 15.3s\tremaining: 23s\n",
      "2997:\tlearn: 0.0008149\ttotal: 23.1s\tremaining: 15.4s\n",
      "3996:\tlearn: 0.0005160\ttotal: 31s\tremaining: 7.78s\n"
     ]
    },
    {
     "name": "stderr",
     "output_type": "stream",
     "text": [
      "14it [09:25, 40.33s/it]"
     ]
    },
    {
     "name": "stdout",
     "output_type": "stream",
     "text": [
      "4995:\tlearn: 0.0003950\ttotal: 39.1s\tremaining: 31.3ms\n",
      "4999:\tlearn: 0.0003945\ttotal: 39.2s\tremaining: 0us\n",
      "fold Loss 13:  0.0009463646788699889\n",
      "---------------------------------------------------------------------------\n",
      "Learning rate set to 0.002361\n",
      "0:\tlearn: 0.6871644\ttotal: 8.11ms\tremaining: 40.5s\n",
      "999:\tlearn: 0.0052664\ttotal: 7.64s\tremaining: 30.6s\n",
      "1998:\tlearn: 0.0016469\ttotal: 15.3s\tremaining: 22.9s\n",
      "2997:\tlearn: 0.0008918\ttotal: 23.1s\tremaining: 15.4s\n",
      "3996:\tlearn: 0.0005636\ttotal: 31s\tremaining: 7.78s\n"
     ]
    },
    {
     "name": "stderr",
     "output_type": "stream",
     "text": [
      "15it [10:04, 40.09s/it]"
     ]
    },
    {
     "name": "stdout",
     "output_type": "stream",
     "text": [
      "4995:\tlearn: 0.0004173\ttotal: 38.7s\tremaining: 31ms\n",
      "4999:\tlearn: 0.0004169\ttotal: 38.7s\tremaining: 0us\n",
      "fold Loss 14:  0.005467319194530867\n",
      "---------------------------------------------------------------------------\n",
      "Learning rate set to 0.002361\n",
      "0:\tlearn: 0.6871964\ttotal: 7.41ms\tremaining: 37s\n",
      "999:\tlearn: 0.0051418\ttotal: 7.67s\tremaining: 30.7s\n",
      "1998:\tlearn: 0.0014754\ttotal: 15.5s\tremaining: 23.3s\n",
      "2997:\tlearn: 0.0008003\ttotal: 23.6s\tremaining: 15.8s\n",
      "3996:\tlearn: 0.0005185\ttotal: 31.4s\tremaining: 7.89s\n"
     ]
    },
    {
     "name": "stderr",
     "output_type": "stream",
     "text": [
      "16it [10:45, 40.12s/it]"
     ]
    },
    {
     "name": "stdout",
     "output_type": "stream",
     "text": [
      "4995:\tlearn: 0.0003911\ttotal: 39.3s\tremaining: 31.5ms\n",
      "4999:\tlearn: 0.0003907\ttotal: 39.4s\tremaining: 0us\n",
      "fold Loss 15:  0.0049463091503125665\n",
      "---------------------------------------------------------------------------\n",
      "Learning rate set to 0.002361\n",
      "0:\tlearn: 0.6871215\ttotal: 10.3ms\tremaining: 51.3s\n",
      "999:\tlearn: 0.0048231\ttotal: 8.1s\tremaining: 32.4s\n",
      "1998:\tlearn: 0.0014059\ttotal: 16.2s\tremaining: 24.4s\n",
      "2997:\tlearn: 0.0007464\ttotal: 23.9s\tremaining: 16s\n",
      "3996:\tlearn: 0.0004587\ttotal: 31.6s\tremaining: 7.92s\n"
     ]
    },
    {
     "name": "stderr",
     "output_type": "stream",
     "text": [
      "17it [11:25, 40.15s/it]"
     ]
    },
    {
     "name": "stdout",
     "output_type": "stream",
     "text": [
      "4995:\tlearn: 0.0003040\ttotal: 39.4s\tremaining: 31.5ms\n",
      "4999:\tlearn: 0.0003036\ttotal: 39.4s\tremaining: 0us\n",
      "fold Loss 16:  0.0028861346618031802\n",
      "---------------------------------------------------------------------------\n",
      "Learning rate set to 0.002361\n",
      "0:\tlearn: 0.6871927\ttotal: 8.04ms\tremaining: 40.2s\n",
      "999:\tlearn: 0.0050100\ttotal: 7.88s\tremaining: 31.5s\n",
      "1998:\tlearn: 0.0014409\ttotal: 15.5s\tremaining: 23.2s\n",
      "2997:\tlearn: 0.0007685\ttotal: 23s\tremaining: 15.4s\n",
      "3996:\tlearn: 0.0004739\ttotal: 30.7s\tremaining: 7.71s\n"
     ]
    },
    {
     "name": "stderr",
     "output_type": "stream",
     "text": [
      "18it [12:05, 40.03s/it]"
     ]
    },
    {
     "name": "stdout",
     "output_type": "stream",
     "text": [
      "4995:\tlearn: 0.0003409\ttotal: 38.9s\tremaining: 31.2ms\n",
      "4999:\tlearn: 0.0003405\ttotal: 39s\tremaining: 0us\n",
      "fold Loss 17:  0.0007679324655979147\n",
      "---------------------------------------------------------------------------\n",
      "Learning rate set to 0.002361\n",
      "0:\tlearn: 0.6871255\ttotal: 7.79ms\tremaining: 39s\n",
      "999:\tlearn: 0.0051290\ttotal: 7.69s\tremaining: 30.8s\n",
      "1998:\tlearn: 0.0014946\ttotal: 15.4s\tremaining: 23.1s\n",
      "2997:\tlearn: 0.0007992\ttotal: 23.1s\tremaining: 15.5s\n",
      "3996:\tlearn: 0.0005204\ttotal: 31.1s\tremaining: 7.81s\n"
     ]
    },
    {
     "name": "stderr",
     "output_type": "stream",
     "text": [
      "19it [12:44, 39.90s/it]"
     ]
    },
    {
     "name": "stdout",
     "output_type": "stream",
     "text": [
      "4995:\tlearn: 0.0004070\ttotal: 38.8s\tremaining: 31ms\n",
      "4999:\tlearn: 0.0004066\ttotal: 38.8s\tremaining: 0us\n",
      "fold Loss 18:  0.0012050183396381377\n",
      "---------------------------------------------------------------------------\n",
      "Learning rate set to 0.002362\n",
      "0:\tlearn: 0.6872028\ttotal: 8.15ms\tremaining: 40.7s\n",
      "999:\tlearn: 0.0052263\ttotal: 7.67s\tremaining: 30.7s\n",
      "1998:\tlearn: 0.0015075\ttotal: 15.4s\tremaining: 23.1s\n",
      "2997:\tlearn: 0.0007949\ttotal: 23s\tremaining: 15.4s\n",
      "3996:\tlearn: 0.0004971\ttotal: 31.2s\tremaining: 7.83s\n"
     ]
    },
    {
     "name": "stderr",
     "output_type": "stream",
     "text": [
      "20it [13:24, 40.22s/it]"
     ]
    },
    {
     "name": "stdout",
     "output_type": "stream",
     "text": [
      "4995:\tlearn: 0.0003585\ttotal: 38.9s\tremaining: 31.1ms\n",
      "4999:\tlearn: 0.0003581\ttotal: 38.9s\tremaining: 0us\n",
      "fold Loss 19:  0.000296357706642443\n",
      "---------------------------------------------------------------------------\n",
      "Training Loss: 0.00035685708625171305\n",
      "Loss for oxalate:\n",
      "0.003453881061690088 0.007644963786658927\n",
      "==================================================================================================\n",
      "TARGET  oxychlorine\n"
     ]
    },
    {
     "name": "stderr",
     "output_type": "stream",
     "text": [
      "\n"
     ]
    },
    {
     "name": "stdout",
     "output_type": "stream",
     "text": [
      "0.40017191002705077\n"
     ]
    },
    {
     "name": "stderr",
     "output_type": "stream",
     "text": [
      "100%|██████████| 101/101 [00:00<00:00, 316847.20it/s]"
     ]
    },
    {
     "name": "stdout",
     "output_type": "stream",
     "text": [
      "14\n"
     ]
    },
    {
     "name": "stderr",
     "output_type": "stream",
     "text": [
      "\n"
     ]
    },
    {
     "name": "stdout",
     "output_type": "stream",
     "text": [
      "0.2648323282097092\n"
     ]
    },
    {
     "name": "stderr",
     "output_type": "stream",
     "text": [
      "100%|██████████| 4100/4100 [00:00<00:00, 802569.02it/s]\n"
     ]
    },
    {
     "name": "stdout",
     "output_type": "stream",
     "text": [
      "72\n",
      "0.2602392856897369\n"
     ]
    },
    {
     "name": "stderr",
     "output_type": "stream",
     "text": [
      "100%|██████████| 4400/4400 [00:00<00:00, 725002.46it/s]\n"
     ]
    },
    {
     "name": "stdout",
     "output_type": "stream",
     "text": [
      "95\n",
      "0.2627720215489985\n"
     ]
    },
    {
     "name": "stderr",
     "output_type": "stream",
     "text": [
      "100%|██████████| 4200/4200 [00:00<00:00, 704530.35it/s]\n"
     ]
    },
    {
     "name": "stdout",
     "output_type": "stream",
     "text": [
      "94\n",
      "(1059, 94) (1059, 14) (1059, 72) (1059, 95)\n",
      "(1059, 275)\n",
      "(804, 94) (804, 14) (804, 72) (804, 95)\n",
      "(804, 275)\n"
     ]
    },
    {
     "name": "stderr",
     "output_type": "stream",
     "text": [
      "0it [00:00, ?it/s]"
     ]
    },
    {
     "name": "stdout",
     "output_type": "stream",
     "text": [
      "Learning rate set to 0.002361\n",
      "0:\tlearn: 0.6906901\ttotal: 50.8ms\tremaining: 4m 14s\n",
      "999:\tlearn: 0.1387711\ttotal: 33.8s\tremaining: 2m 15s\n",
      "1998:\tlearn: 0.0779120\ttotal: 1m 7s\tremaining: 1m 41s\n",
      "2997:\tlearn: 0.0505176\ttotal: 1m 40s\tremaining: 1m 7s\n",
      "3996:\tlearn: 0.0334594\ttotal: 2m 14s\tremaining: 33.8s\n",
      "4995:\tlearn: 0.0238786\ttotal: 2m 48s\tremaining: 135ms\n",
      "4999:\tlearn: 0.0238451\ttotal: 2m 48s\tremaining: 0us\n"
     ]
    },
    {
     "name": "stderr",
     "output_type": "stream",
     "text": [
      "1it [02:49, 169.32s/it]"
     ]
    },
    {
     "name": "stdout",
     "output_type": "stream",
     "text": [
      "fold Loss 0:  0.07552804897413522\n",
      "---------------------------------------------------------------------------\n",
      "Learning rate set to 0.002361\n",
      "0:\tlearn: 0.6908319\ttotal: 64ms\tremaining: 5m 19s\n",
      "999:\tlearn: 0.1357908\ttotal: 34s\tremaining: 2m 16s\n",
      "1998:\tlearn: 0.0751414\ttotal: 1m 7s\tremaining: 1m 41s\n",
      "2997:\tlearn: 0.0482216\ttotal: 1m 42s\tremaining: 1m 8s\n",
      "3996:\tlearn: 0.0321036\ttotal: 2m 15s\tremaining: 34s\n",
      "4995:\tlearn: 0.0220263\ttotal: 2m 48s\tremaining: 135ms\n",
      "4999:\tlearn: 0.0220001\ttotal: 2m 49s\tremaining: 0us\n"
     ]
    },
    {
     "name": "stderr",
     "output_type": "stream",
     "text": [
      "2it [05:39, 169.72s/it]"
     ]
    },
    {
     "name": "stdout",
     "output_type": "stream",
     "text": [
      "fold Loss 1:  0.14783010256645754\n",
      "---------------------------------------------------------------------------\n",
      "Learning rate set to 0.002361\n",
      "0:\tlearn: 0.6908737\ttotal: 65.4ms\tremaining: 5m 27s\n",
      "999:\tlearn: 0.1321964\ttotal: 33.2s\tremaining: 2m 12s\n",
      "1998:\tlearn: 0.0723823\ttotal: 1m 7s\tremaining: 1m 40s\n",
      "2997:\tlearn: 0.0455122\ttotal: 1m 41s\tremaining: 1m 7s\n",
      "3996:\tlearn: 0.0303398\ttotal: 2m 14s\tremaining: 33.7s\n",
      "4995:\tlearn: 0.0205705\ttotal: 2m 47s\tremaining: 134ms\n",
      "4999:\tlearn: 0.0205463\ttotal: 2m 47s\tremaining: 0us\n"
     ]
    },
    {
     "name": "stderr",
     "output_type": "stream",
     "text": [
      "3it [08:27, 169.22s/it]"
     ]
    },
    {
     "name": "stdout",
     "output_type": "stream",
     "text": [
      "fold Loss 2:  0.20665301631479027\n",
      "---------------------------------------------------------------------------\n",
      "Learning rate set to 0.002361\n",
      "0:\tlearn: 0.6907117\ttotal: 65.3ms\tremaining: 5m 26s\n",
      "999:\tlearn: 0.1311583\ttotal: 33.3s\tremaining: 2m 13s\n",
      "1998:\tlearn: 0.0723818\ttotal: 1m 7s\tremaining: 1m 40s\n",
      "2997:\tlearn: 0.0455879\ttotal: 1m 40s\tremaining: 1m 7s\n",
      "3996:\tlearn: 0.0297549\ttotal: 2m 14s\tremaining: 33.8s\n",
      "4995:\tlearn: 0.0206862\ttotal: 2m 48s\tremaining: 135ms\n",
      "4999:\tlearn: 0.0206707\ttotal: 2m 48s\tremaining: 0us\n"
     ]
    },
    {
     "name": "stderr",
     "output_type": "stream",
     "text": [
      "4it [11:17, 169.41s/it]"
     ]
    },
    {
     "name": "stdout",
     "output_type": "stream",
     "text": [
      "fold Loss 3:  0.23636176595789027\n",
      "---------------------------------------------------------------------------\n",
      "Learning rate set to 0.002361\n",
      "0:\tlearn: 0.6908427\ttotal: 68ms\tremaining: 5m 39s\n",
      "999:\tlearn: 0.1374457\ttotal: 34.1s\tremaining: 2m 16s\n",
      "1998:\tlearn: 0.0778221\ttotal: 1m 7s\tremaining: 1m 41s\n",
      "2997:\tlearn: 0.0500475\ttotal: 1m 41s\tremaining: 1m 7s\n",
      "3996:\tlearn: 0.0334192\ttotal: 2m 14s\tremaining: 33.8s\n",
      "4995:\tlearn: 0.0231478\ttotal: 2m 48s\tremaining: 135ms\n",
      "4999:\tlearn: 0.0231157\ttotal: 2m 48s\tremaining: 0us\n"
     ]
    },
    {
     "name": "stderr",
     "output_type": "stream",
     "text": [
      "5it [14:07, 169.46s/it]"
     ]
    },
    {
     "name": "stdout",
     "output_type": "stream",
     "text": [
      "fold Loss 4:  0.07967358356477924\n",
      "---------------------------------------------------------------------------\n",
      "Learning rate set to 0.002361\n",
      "0:\tlearn: 0.6908150\ttotal: 66.1ms\tremaining: 5m 30s\n",
      "999:\tlearn: 0.1277363\ttotal: 33.5s\tremaining: 2m 13s\n",
      "1998:\tlearn: 0.0679848\ttotal: 1m 6s\tremaining: 1m 40s\n",
      "2997:\tlearn: 0.0418366\ttotal: 1m 40s\tremaining: 1m 6s\n",
      "3996:\tlearn: 0.0271507\ttotal: 2m 13s\tremaining: 33.5s\n",
      "4995:\tlearn: 0.0189672\ttotal: 2m 46s\tremaining: 133ms\n",
      "4999:\tlearn: 0.0189495\ttotal: 2m 46s\tremaining: 0us\n"
     ]
    },
    {
     "name": "stderr",
     "output_type": "stream",
     "text": [
      "6it [16:54, 168.85s/it]"
     ]
    },
    {
     "name": "stdout",
     "output_type": "stream",
     "text": [
      "fold Loss 5:  0.37166046755005516\n",
      "---------------------------------------------------------------------------\n",
      "Learning rate set to 0.002361\n",
      "0:\tlearn: 0.6907818\ttotal: 65.8ms\tremaining: 5m 28s\n",
      "999:\tlearn: 0.1302312\ttotal: 33.3s\tremaining: 2m 13s\n",
      "1998:\tlearn: 0.0730136\ttotal: 1m 6s\tremaining: 1m 40s\n",
      "2997:\tlearn: 0.0475056\ttotal: 1m 40s\tremaining: 1m 7s\n",
      "3996:\tlearn: 0.0317244\ttotal: 2m 14s\tremaining: 33.8s\n",
      "4995:\tlearn: 0.0223786\ttotal: 2m 48s\tremaining: 135ms\n",
      "4999:\tlearn: 0.0223614\ttotal: 2m 49s\tremaining: 0us\n"
     ]
    },
    {
     "name": "stderr",
     "output_type": "stream",
     "text": [
      "7it [19:44, 169.24s/it]"
     ]
    },
    {
     "name": "stdout",
     "output_type": "stream",
     "text": [
      "fold Loss 6:  0.19538175217668194\n",
      "---------------------------------------------------------------------------\n",
      "Learning rate set to 0.002361\n",
      "0:\tlearn: 0.6908634\ttotal: 67.2ms\tremaining: 5m 35s\n",
      "999:\tlearn: 0.1358984\ttotal: 34.5s\tremaining: 2m 17s\n",
      "1998:\tlearn: 0.0760786\ttotal: 1m 9s\tremaining: 1m 43s\n",
      "2997:\tlearn: 0.0490567\ttotal: 1m 43s\tremaining: 1m 9s\n",
      "3996:\tlearn: 0.0323676\ttotal: 2m 17s\tremaining: 34.4s\n",
      "4995:\tlearn: 0.0225948\ttotal: 2m 50s\tremaining: 137ms\n",
      "4999:\tlearn: 0.0225814\ttotal: 2m 50s\tremaining: 0us\n"
     ]
    },
    {
     "name": "stderr",
     "output_type": "stream",
     "text": [
      "8it [22:36, 170.07s/it]"
     ]
    },
    {
     "name": "stdout",
     "output_type": "stream",
     "text": [
      "fold Loss 7:  0.1563143446503876\n",
      "---------------------------------------------------------------------------\n",
      "Learning rate set to 0.002361\n",
      "0:\tlearn: 0.6911018\ttotal: 93.8ms\tremaining: 7m 48s\n",
      "999:\tlearn: 0.1382748\ttotal: 34s\tremaining: 2m 15s\n",
      "1998:\tlearn: 0.0771718\ttotal: 1m 7s\tremaining: 1m 41s\n",
      "2997:\tlearn: 0.0496758\ttotal: 1m 41s\tremaining: 1m 7s\n",
      "3996:\tlearn: 0.0333788\ttotal: 2m 14s\tremaining: 33.8s\n",
      "4995:\tlearn: 0.0234927\ttotal: 2m 48s\tremaining: 135ms\n",
      "4999:\tlearn: 0.0234828\ttotal: 2m 48s\tremaining: 0us\n"
     ]
    },
    {
     "name": "stderr",
     "output_type": "stream",
     "text": [
      "9it [25:25, 169.78s/it]"
     ]
    },
    {
     "name": "stdout",
     "output_type": "stream",
     "text": [
      "fold Loss 8:  0.0936669894737828\n",
      "---------------------------------------------------------------------------\n",
      "Learning rate set to 0.002361\n",
      "0:\tlearn: 0.6908425\ttotal: 65.4ms\tremaining: 5m 26s\n",
      "999:\tlearn: 0.1339848\ttotal: 33.2s\tremaining: 2m 12s\n",
      "1998:\tlearn: 0.0742510\ttotal: 1m 6s\tremaining: 1m 40s\n",
      "2997:\tlearn: 0.0480030\ttotal: 1m 39s\tremaining: 1m 6s\n",
      "3996:\tlearn: 0.0328201\ttotal: 2m 13s\tremaining: 33.4s\n",
      "4995:\tlearn: 0.0231948\ttotal: 2m 46s\tremaining: 133ms\n",
      "4999:\tlearn: 0.0231697\ttotal: 2m 46s\tremaining: 0us\n"
     ]
    },
    {
     "name": "stderr",
     "output_type": "stream",
     "text": [
      "10it [28:13, 169.05s/it]"
     ]
    },
    {
     "name": "stdout",
     "output_type": "stream",
     "text": [
      "fold Loss 9:  0.14032271612189098\n",
      "---------------------------------------------------------------------------\n",
      "Learning rate set to 0.002361\n",
      "0:\tlearn: 0.6909038\ttotal: 64.3ms\tremaining: 5m 21s\n",
      "999:\tlearn: 0.1383518\ttotal: 34.8s\tremaining: 2m 19s\n",
      "1998:\tlearn: 0.0776901\ttotal: 1m 8s\tremaining: 1m 43s\n",
      "2997:\tlearn: 0.0503827\ttotal: 1m 42s\tremaining: 1m 8s\n",
      "3996:\tlearn: 0.0341881\ttotal: 2m 16s\tremaining: 34.4s\n",
      "4995:\tlearn: 0.0243435\ttotal: 2m 51s\tremaining: 137ms\n",
      "4999:\tlearn: 0.0243302\ttotal: 2m 51s\tremaining: 0us\n"
     ]
    },
    {
     "name": "stderr",
     "output_type": "stream",
     "text": [
      "11it [31:05, 169.98s/it]"
     ]
    },
    {
     "name": "stdout",
     "output_type": "stream",
     "text": [
      "fold Loss 10:  0.04391841639413469\n",
      "---------------------------------------------------------------------------\n",
      "Learning rate set to 0.002361\n",
      "0:\tlearn: 0.6908999\ttotal: 69.3ms\tremaining: 5m 46s\n",
      "999:\tlearn: 0.1371228\ttotal: 34.2s\tremaining: 2m 16s\n",
      "1998:\tlearn: 0.0762285\ttotal: 1m 8s\tremaining: 1m 42s\n",
      "2997:\tlearn: 0.0490063\ttotal: 1m 42s\tremaining: 1m 8s\n",
      "3996:\tlearn: 0.0332543\ttotal: 2m 15s\tremaining: 34.1s\n",
      "4995:\tlearn: 0.0235026\ttotal: 2m 49s\tremaining: 136ms\n",
      "4999:\tlearn: 0.0234604\ttotal: 2m 49s\tremaining: 0us\n"
     ]
    },
    {
     "name": "stderr",
     "output_type": "stream",
     "text": [
      "12it [33:55, 170.09s/it]"
     ]
    },
    {
     "name": "stdout",
     "output_type": "stream",
     "text": [
      "fold Loss 11:  0.08031526125636636\n",
      "---------------------------------------------------------------------------\n",
      "Learning rate set to 0.002361\n",
      "0:\tlearn: 0.6907352\ttotal: 65ms\tremaining: 5m 25s\n",
      "999:\tlearn: 0.1362638\ttotal: 33.3s\tremaining: 2m 13s\n",
      "1998:\tlearn: 0.0765317\ttotal: 1m 6s\tremaining: 1m 40s\n",
      "2997:\tlearn: 0.0496069\ttotal: 1m 40s\tremaining: 1m 6s\n",
      "3996:\tlearn: 0.0331667\ttotal: 2m 13s\tremaining: 33.6s\n",
      "4995:\tlearn: 0.0229461\ttotal: 2m 47s\tremaining: 134ms\n",
      "4999:\tlearn: 0.0229161\ttotal: 2m 47s\tremaining: 0us\n"
     ]
    },
    {
     "name": "stderr",
     "output_type": "stream",
     "text": [
      "13it [36:44, 169.63s/it]"
     ]
    },
    {
     "name": "stdout",
     "output_type": "stream",
     "text": [
      "fold Loss 12:  0.06844594753975175\n",
      "---------------------------------------------------------------------------\n",
      "Learning rate set to 0.002361\n",
      "0:\tlearn: 0.6908607\ttotal: 66.9ms\tremaining: 5m 34s\n",
      "999:\tlearn: 0.1316412\ttotal: 33.8s\tremaining: 2m 15s\n",
      "1998:\tlearn: 0.0733259\ttotal: 1m 7s\tremaining: 1m 41s\n",
      "2997:\tlearn: 0.0473982\ttotal: 1m 41s\tremaining: 1m 7s\n",
      "3996:\tlearn: 0.0324731\ttotal: 2m 15s\tremaining: 34s\n",
      "4995:\tlearn: 0.0231098\ttotal: 2m 48s\tremaining: 135ms\n",
      "4999:\tlearn: 0.0230946\ttotal: 2m 49s\tremaining: 0us\n"
     ]
    },
    {
     "name": "stderr",
     "output_type": "stream",
     "text": [
      "14it [39:34, 169.71s/it]"
     ]
    },
    {
     "name": "stdout",
     "output_type": "stream",
     "text": [
      "fold Loss 13:  0.1849704551704798\n",
      "---------------------------------------------------------------------------\n",
      "Learning rate set to 0.002361\n",
      "0:\tlearn: 0.6907878\ttotal: 66.1ms\tremaining: 5m 30s\n",
      "999:\tlearn: 0.1318167\ttotal: 33.7s\tremaining: 2m 14s\n",
      "1998:\tlearn: 0.0730334\ttotal: 1m 7s\tremaining: 1m 41s\n",
      "2997:\tlearn: 0.0471739\ttotal: 1m 40s\tremaining: 1m 7s\n",
      "3996:\tlearn: 0.0324986\ttotal: 2m 14s\tremaining: 33.7s\n",
      "4995:\tlearn: 0.0226666\ttotal: 2m 48s\tremaining: 135ms\n",
      "4999:\tlearn: 0.0226530\ttotal: 2m 48s\tremaining: 0us\n"
     ]
    },
    {
     "name": "stderr",
     "output_type": "stream",
     "text": [
      "15it [42:23, 169.68s/it]"
     ]
    },
    {
     "name": "stdout",
     "output_type": "stream",
     "text": [
      "fold Loss 14:  0.167719105546221\n",
      "---------------------------------------------------------------------------\n",
      "Learning rate set to 0.002361\n",
      "0:\tlearn: 0.6909028\ttotal: 68.8ms\tremaining: 5m 43s\n",
      "999:\tlearn: 0.1335136\ttotal: 33.9s\tremaining: 2m 15s\n",
      "1998:\tlearn: 0.0720210\ttotal: 1m 7s\tremaining: 1m 41s\n",
      "2997:\tlearn: 0.0460179\ttotal: 1m 41s\tremaining: 1m 7s\n",
      "3996:\tlearn: 0.0305158\ttotal: 2m 15s\tremaining: 34s\n",
      "4995:\tlearn: 0.0215748\ttotal: 2m 50s\tremaining: 136ms\n",
      "4999:\tlearn: 0.0215361\ttotal: 2m 50s\tremaining: 0us\n"
     ]
    },
    {
     "name": "stderr",
     "output_type": "stream",
     "text": [
      "16it [45:15, 170.19s/it]"
     ]
    },
    {
     "name": "stdout",
     "output_type": "stream",
     "text": [
      "fold Loss 15:  0.216502406341393\n",
      "---------------------------------------------------------------------------\n",
      "Learning rate set to 0.002361\n",
      "0:\tlearn: 0.6908717\ttotal: 65.8ms\tremaining: 5m 28s\n",
      "999:\tlearn: 0.1374869\ttotal: 34.4s\tremaining: 2m 17s\n",
      "1998:\tlearn: 0.0769944\ttotal: 1m 8s\tremaining: 1m 42s\n",
      "2997:\tlearn: 0.0494644\ttotal: 1m 41s\tremaining: 1m 7s\n",
      "3996:\tlearn: 0.0332486\ttotal: 2m 15s\tremaining: 34s\n",
      "4995:\tlearn: 0.0229984\ttotal: 2m 48s\tremaining: 135ms\n",
      "4999:\tlearn: 0.0229638\ttotal: 2m 49s\tremaining: 0us\n"
     ]
    },
    {
     "name": "stderr",
     "output_type": "stream",
     "text": [
      "17it [48:05, 170.12s/it]"
     ]
    },
    {
     "name": "stdout",
     "output_type": "stream",
     "text": [
      "fold Loss 16:  0.05081926416877152\n",
      "---------------------------------------------------------------------------\n",
      "Learning rate set to 0.002361\n",
      "0:\tlearn: 0.6908314\ttotal: 66.4ms\tremaining: 5m 31s\n",
      "999:\tlearn: 0.1366071\ttotal: 34s\tremaining: 2m 16s\n",
      "1998:\tlearn: 0.0760641\ttotal: 1m 8s\tremaining: 1m 42s\n",
      "2997:\tlearn: 0.0489240\ttotal: 1m 42s\tremaining: 1m 8s\n",
      "3996:\tlearn: 0.0328967\ttotal: 2m 16s\tremaining: 34.2s\n",
      "4995:\tlearn: 0.0235514\ttotal: 2m 50s\tremaining: 137ms\n",
      "4999:\tlearn: 0.0235290\ttotal: 2m 50s\tremaining: 0us\n"
     ]
    },
    {
     "name": "stderr",
     "output_type": "stream",
     "text": [
      "18it [50:56, 170.63s/it]"
     ]
    },
    {
     "name": "stdout",
     "output_type": "stream",
     "text": [
      "fold Loss 17:  0.16706874719075074\n",
      "---------------------------------------------------------------------------\n",
      "Learning rate set to 0.002361\n",
      "0:\tlearn: 0.6908122\ttotal: 67.7ms\tremaining: 5m 38s\n",
      "999:\tlearn: 0.1401753\ttotal: 34.4s\tremaining: 2m 17s\n",
      "1998:\tlearn: 0.0784719\ttotal: 1m 7s\tremaining: 1m 42s\n",
      "2997:\tlearn: 0.0506308\ttotal: 1m 41s\tremaining: 1m 8s\n",
      "3996:\tlearn: 0.0335004\ttotal: 2m 15s\tremaining: 34s\n",
      "4995:\tlearn: 0.0230199\ttotal: 2m 49s\tremaining: 135ms\n",
      "4999:\tlearn: 0.0230022\ttotal: 2m 49s\tremaining: 0us\n"
     ]
    },
    {
     "name": "stderr",
     "output_type": "stream",
     "text": [
      "19it [53:47, 170.47s/it]"
     ]
    },
    {
     "name": "stdout",
     "output_type": "stream",
     "text": [
      "fold Loss 18:  0.02446305682503954\n",
      "---------------------------------------------------------------------------\n",
      "Learning rate set to 0.002362\n",
      "0:\tlearn: 0.6908207\ttotal: 83.2ms\tremaining: 6m 56s\n",
      "999:\tlearn: 0.1362364\ttotal: 34s\tremaining: 2m 16s\n",
      "1998:\tlearn: 0.0756920\ttotal: 1m 8s\tremaining: 1m 42s\n",
      "2997:\tlearn: 0.0494541\ttotal: 1m 42s\tremaining: 1m 8s\n",
      "3996:\tlearn: 0.0333327\ttotal: 2m 16s\tremaining: 34.3s\n",
      "4995:\tlearn: 0.0231376\ttotal: 2m 50s\tremaining: 136ms\n",
      "4999:\tlearn: 0.0230984\ttotal: 2m 50s\tremaining: 0us\n"
     ]
    },
    {
     "name": "stderr",
     "output_type": "stream",
     "text": [
      "20it [56:38, 169.93s/it]"
     ]
    },
    {
     "name": "stdout",
     "output_type": "stream",
     "text": [
      "fold Loss 19:  0.0712020628714975\n",
      "---------------------------------------------------------------------------\n",
      "Training Loss: 0.025478670025922658\n",
      "Loss for oxychlorine:\n",
      "0.13894087553276285 0.08186415936854263\n",
      "==================================================================================================\n",
      "TARGET  phyllosilicate\n"
     ]
    },
    {
     "name": "stderr",
     "output_type": "stream",
     "text": [
      "\n"
     ]
    },
    {
     "name": "stdout",
     "output_type": "stream",
     "text": [
      "0.5401426777918445\n"
     ]
    },
    {
     "name": "stderr",
     "output_type": "stream",
     "text": [
      "100%|██████████| 101/101 [00:00<00:00, 232888.79it/s]"
     ]
    },
    {
     "name": "stdout",
     "output_type": "stream",
     "text": [
      "16\n"
     ]
    },
    {
     "name": "stderr",
     "output_type": "stream",
     "text": [
      "\n"
     ]
    },
    {
     "name": "stdout",
     "output_type": "stream",
     "text": [
      "0.4152620239762278\n"
     ]
    },
    {
     "name": "stderr",
     "output_type": "stream",
     "text": [
      "100%|██████████| 4100/4100 [00:00<00:00, 757861.99it/s]\n"
     ]
    },
    {
     "name": "stdout",
     "output_type": "stream",
     "text": [
      "79\n",
      "0.41291708407326266\n"
     ]
    },
    {
     "name": "stderr",
     "output_type": "stream",
     "text": [
      "100%|██████████| 4400/4400 [00:00<00:00, 684504.94it/s]\n"
     ]
    },
    {
     "name": "stdout",
     "output_type": "stream",
     "text": [
      "101\n",
      "0.424755676002318\n"
     ]
    },
    {
     "name": "stderr",
     "output_type": "stream",
     "text": [
      "100%|██████████| 4200/4200 [00:00<00:00, 788473.58it/s]\n"
     ]
    },
    {
     "name": "stdout",
     "output_type": "stream",
     "text": [
      "104\n",
      "(1059, 104) (1059, 16) (1059, 79) (1059, 101)\n",
      "(1059, 300)\n",
      "(804, 104) (804, 16) (804, 79) (804, 101)\n",
      "(804, 300)\n"
     ]
    },
    {
     "name": "stderr",
     "output_type": "stream",
     "text": [
      "0it [00:00, ?it/s]"
     ]
    },
    {
     "name": "stdout",
     "output_type": "stream",
     "text": [
      "Learning rate set to 0.002361\n",
      "0:\tlearn: 0.6910819\ttotal: 55.3ms\tremaining: 4m 36s\n",
      "999:\tlearn: 0.2181385\ttotal: 36.7s\tremaining: 2m 26s\n",
      "1998:\tlearn: 0.1344814\ttotal: 1m 13s\tremaining: 1m 50s\n",
      "2997:\tlearn: 0.0911237\ttotal: 1m 50s\tremaining: 1m 13s\n",
      "3996:\tlearn: 0.0611209\ttotal: 2m 26s\tremaining: 36.8s\n",
      "4995:\tlearn: 0.0420185\ttotal: 3m 3s\tremaining: 147ms\n",
      "4999:\tlearn: 0.0419465\ttotal: 3m 3s\tremaining: 0us\n"
     ]
    },
    {
     "name": "stderr",
     "output_type": "stream",
     "text": [
      "1it [03:04, 184.30s/it]"
     ]
    },
    {
     "name": "stdout",
     "output_type": "stream",
     "text": [
      "fold Loss 0:  0.12839381796640761\n",
      "---------------------------------------------------------------------------\n",
      "Learning rate set to 0.002361\n",
      "0:\tlearn: 0.6914702\ttotal: 71.6ms\tremaining: 5m 57s\n",
      "999:\tlearn: 0.2158692\ttotal: 36.3s\tremaining: 2m 25s\n",
      "1998:\tlearn: 0.1340366\ttotal: 1m 13s\tremaining: 1m 50s\n",
      "2997:\tlearn: 0.0931095\ttotal: 1m 50s\tremaining: 1m 13s\n",
      "3996:\tlearn: 0.0625471\ttotal: 2m 26s\tremaining: 36.8s\n",
      "4995:\tlearn: 0.0430382\ttotal: 3m 3s\tremaining: 147ms\n",
      "4999:\tlearn: 0.0429980\ttotal: 3m 3s\tremaining: 0us\n"
     ]
    },
    {
     "name": "stderr",
     "output_type": "stream",
     "text": [
      "2it [06:08, 184.22s/it]"
     ]
    },
    {
     "name": "stdout",
     "output_type": "stream",
     "text": [
      "fold Loss 1:  0.1588861041907797\n",
      "---------------------------------------------------------------------------\n",
      "Learning rate set to 0.002361\n",
      "0:\tlearn: 0.6913866\ttotal: 69.6ms\tremaining: 5m 48s\n",
      "999:\tlearn: 0.2187524\ttotal: 36.7s\tremaining: 2m 26s\n",
      "1998:\tlearn: 0.1337611\ttotal: 1m 13s\tremaining: 1m 50s\n",
      "2997:\tlearn: 0.0902210\ttotal: 1m 49s\tremaining: 1m 13s\n",
      "3996:\tlearn: 0.0607894\ttotal: 2m 26s\tremaining: 36.8s\n",
      "4995:\tlearn: 0.0424674\ttotal: 3m 3s\tremaining: 147ms\n",
      "4999:\tlearn: 0.0423969\ttotal: 3m 3s\tremaining: 0us\n"
     ]
    },
    {
     "name": "stderr",
     "output_type": "stream",
     "text": [
      "3it [09:12, 184.25s/it]"
     ]
    },
    {
     "name": "stdout",
     "output_type": "stream",
     "text": [
      "fold Loss 2:  0.12116153979688553\n",
      "---------------------------------------------------------------------------\n",
      "Learning rate set to 0.002361\n",
      "0:\tlearn: 0.6915099\ttotal: 70ms\tremaining: 5m 49s\n",
      "999:\tlearn: 0.2156949\ttotal: 36.3s\tremaining: 2m 25s\n",
      "1998:\tlearn: 0.1342946\ttotal: 1m 12s\tremaining: 1m 49s\n",
      "2997:\tlearn: 0.0910945\ttotal: 1m 49s\tremaining: 1m 13s\n",
      "3996:\tlearn: 0.0609545\ttotal: 2m 25s\tremaining: 36.6s\n",
      "4995:\tlearn: 0.0422246\ttotal: 3m 3s\tremaining: 147ms\n",
      "4999:\tlearn: 0.0421624\ttotal: 3m 3s\tremaining: 0us\n"
     ]
    },
    {
     "name": "stderr",
     "output_type": "stream",
     "text": [
      "4it [12:16, 184.22s/it]"
     ]
    },
    {
     "name": "stdout",
     "output_type": "stream",
     "text": [
      "fold Loss 3:  0.14081087325117714\n",
      "---------------------------------------------------------------------------\n",
      "Learning rate set to 0.002361\n",
      "0:\tlearn: 0.6913671\ttotal: 70.2ms\tremaining: 5m 50s\n",
      "999:\tlearn: 0.2167563\ttotal: 36.9s\tremaining: 2m 27s\n",
      "1998:\tlearn: 0.1322279\ttotal: 1m 13s\tremaining: 1m 50s\n",
      "2997:\tlearn: 0.0896186\ttotal: 1m 49s\tremaining: 1m 13s\n",
      "3996:\tlearn: 0.0610737\ttotal: 2m 25s\tremaining: 36.6s\n",
      "4995:\tlearn: 0.0425683\ttotal: 3m 1s\tremaining: 146ms\n",
      "4999:\tlearn: 0.0425271\ttotal: 3m 2s\tremaining: 0us\n"
     ]
    },
    {
     "name": "stderr",
     "output_type": "stream",
     "text": [
      "5it [15:19, 183.78s/it]"
     ]
    },
    {
     "name": "stdout",
     "output_type": "stream",
     "text": [
      "fold Loss 4:  0.18775284573910705\n",
      "---------------------------------------------------------------------------\n",
      "Learning rate set to 0.002361\n",
      "0:\tlearn: 0.6914530\ttotal: 73ms\tremaining: 6m 4s\n",
      "999:\tlearn: 0.2199227\ttotal: 36.4s\tremaining: 2m 25s\n",
      "1998:\tlearn: 0.1367566\ttotal: 1m 13s\tremaining: 1m 50s\n",
      "2997:\tlearn: 0.0946356\ttotal: 1m 50s\tremaining: 1m 13s\n",
      "3996:\tlearn: 0.0640299\ttotal: 2m 26s\tremaining: 36.7s\n",
      "4995:\tlearn: 0.0438361\ttotal: 3m 2s\tremaining: 146ms\n",
      "4999:\tlearn: 0.0437816\ttotal: 3m 2s\tremaining: 0us\n"
     ]
    },
    {
     "name": "stderr",
     "output_type": "stream",
     "text": [
      "6it [18:23, 183.73s/it]"
     ]
    },
    {
     "name": "stdout",
     "output_type": "stream",
     "text": [
      "fold Loss 5:  0.16195673171967073\n",
      "---------------------------------------------------------------------------\n",
      "Learning rate set to 0.002361\n",
      "0:\tlearn: 0.6913100\ttotal: 70.9ms\tremaining: 5m 54s\n",
      "999:\tlearn: 0.2135770\ttotal: 36.8s\tremaining: 2m 27s\n",
      "1998:\tlearn: 0.1310999\ttotal: 1m 13s\tremaining: 1m 50s\n",
      "2997:\tlearn: 0.0892505\ttotal: 1m 49s\tremaining: 1m 13s\n",
      "3996:\tlearn: 0.0613686\ttotal: 2m 25s\tremaining: 36.6s\n",
      "4995:\tlearn: 0.0420628\ttotal: 3m 2s\tremaining: 146ms\n",
      "4999:\tlearn: 0.0419842\ttotal: 3m 2s\tremaining: 0us\n"
     ]
    },
    {
     "name": "stderr",
     "output_type": "stream",
     "text": [
      "7it [21:27, 183.79s/it]"
     ]
    },
    {
     "name": "stdout",
     "output_type": "stream",
     "text": [
      "fold Loss 6:  0.20224977898810007\n",
      "---------------------------------------------------------------------------\n",
      "Learning rate set to 0.002361\n",
      "0:\tlearn: 0.6911440\ttotal: 80.3ms\tremaining: 6m 41s\n",
      "999:\tlearn: 0.2139414\ttotal: 37.6s\tremaining: 2m 30s\n",
      "1998:\tlearn: 0.1341042\ttotal: 1m 14s\tremaining: 1m 51s\n",
      "2997:\tlearn: 0.0919769\ttotal: 1m 51s\tremaining: 1m 14s\n",
      "3996:\tlearn: 0.0627141\ttotal: 2m 28s\tremaining: 37.3s\n",
      "4995:\tlearn: 0.0431082\ttotal: 3m 4s\tremaining: 148ms\n",
      "4999:\tlearn: 0.0430263\ttotal: 3m 5s\tremaining: 0us\n"
     ]
    },
    {
     "name": "stderr",
     "output_type": "stream",
     "text": [
      "8it [24:33, 184.49s/it]"
     ]
    },
    {
     "name": "stdout",
     "output_type": "stream",
     "text": [
      "fold Loss 7:  0.14857824319771332\n",
      "---------------------------------------------------------------------------\n",
      "Learning rate set to 0.002361\n",
      "0:\tlearn: 0.6915544\ttotal: 70.3ms\tremaining: 5m 51s\n",
      "999:\tlearn: 0.2163638\ttotal: 36.4s\tremaining: 2m 25s\n",
      "1998:\tlearn: 0.1330307\ttotal: 1m 12s\tremaining: 1m 49s\n",
      "2997:\tlearn: 0.0905000\ttotal: 1m 49s\tremaining: 1m 12s\n",
      "3996:\tlearn: 0.0610054\ttotal: 2m 25s\tremaining: 36.6s\n",
      "4995:\tlearn: 0.0421932\ttotal: 3m 2s\tremaining: 146ms\n",
      "4999:\tlearn: 0.0421111\ttotal: 3m 2s\tremaining: 0us\n"
     ]
    },
    {
     "name": "stderr",
     "output_type": "stream",
     "text": [
      "9it [27:36, 184.17s/it]"
     ]
    },
    {
     "name": "stdout",
     "output_type": "stream",
     "text": [
      "fold Loss 8:  0.21629178426927032\n",
      "---------------------------------------------------------------------------\n",
      "Learning rate set to 0.002361\n",
      "0:\tlearn: 0.6912681\ttotal: 70.4ms\tremaining: 5m 52s\n",
      "999:\tlearn: 0.2157940\ttotal: 36.3s\tremaining: 2m 25s\n",
      "1998:\tlearn: 0.1348325\ttotal: 1m 12s\tremaining: 1m 48s\n",
      "2997:\tlearn: 0.0914577\ttotal: 1m 49s\tremaining: 1m 13s\n",
      "3996:\tlearn: 0.0620414\ttotal: 2m 25s\tremaining: 36.5s\n",
      "4995:\tlearn: 0.0436735\ttotal: 3m 1s\tremaining: 145ms\n",
      "4999:\tlearn: 0.0436150\ttotal: 3m 1s\tremaining: 0us\n"
     ]
    },
    {
     "name": "stderr",
     "output_type": "stream",
     "text": [
      "10it [30:39, 183.62s/it]"
     ]
    },
    {
     "name": "stdout",
     "output_type": "stream",
     "text": [
      "fold Loss 9:  0.138271217162668\n",
      "---------------------------------------------------------------------------\n",
      "Learning rate set to 0.002361\n",
      "0:\tlearn: 0.6910495\ttotal: 70ms\tremaining: 5m 49s\n",
      "999:\tlearn: 0.2103390\ttotal: 36.7s\tremaining: 2m 26s\n",
      "1998:\tlearn: 0.1298608\ttotal: 1m 13s\tremaining: 1m 49s\n",
      "2997:\tlearn: 0.0880982\ttotal: 1m 49s\tremaining: 1m 13s\n",
      "3996:\tlearn: 0.0594205\ttotal: 2m 25s\tremaining: 36.5s\n",
      "4995:\tlearn: 0.0413018\ttotal: 3m 1s\tremaining: 145ms\n",
      "4999:\tlearn: 0.0412525\ttotal: 3m 1s\tremaining: 0us\n"
     ]
    },
    {
     "name": "stderr",
     "output_type": "stream",
     "text": [
      "11it [33:41, 183.33s/it]"
     ]
    },
    {
     "name": "stdout",
     "output_type": "stream",
     "text": [
      "fold Loss 10:  0.2626727642041319\n",
      "---------------------------------------------------------------------------\n",
      "Learning rate set to 0.002361\n",
      "0:\tlearn: 0.6913546\ttotal: 69.9ms\tremaining: 5m 49s\n",
      "999:\tlearn: 0.2097379\ttotal: 37s\tremaining: 2m 28s\n",
      "1998:\tlearn: 0.1249698\ttotal: 1m 13s\tremaining: 1m 50s\n",
      "2997:\tlearn: 0.0817480\ttotal: 1m 49s\tremaining: 1m 13s\n",
      "3996:\tlearn: 0.0521199\ttotal: 2m 26s\tremaining: 36.7s\n",
      "4995:\tlearn: 0.0340005\ttotal: 3m 2s\tremaining: 146ms\n",
      "4999:\tlearn: 0.0339262\ttotal: 3m 2s\tremaining: 0us\n"
     ]
    },
    {
     "name": "stderr",
     "output_type": "stream",
     "text": [
      "12it [36:45, 183.51s/it]"
     ]
    },
    {
     "name": "stdout",
     "output_type": "stream",
     "text": [
      "fold Loss 11:  0.37153360258000984\n",
      "---------------------------------------------------------------------------\n",
      "Learning rate set to 0.002361\n",
      "0:\tlearn: 0.6912316\ttotal: 82.4ms\tremaining: 6m 52s\n",
      "999:\tlearn: 0.2116516\ttotal: 36.8s\tremaining: 2m 27s\n",
      "1998:\tlearn: 0.1306317\ttotal: 1m 13s\tremaining: 1m 50s\n",
      "2997:\tlearn: 0.0889633\ttotal: 1m 49s\tremaining: 1m 13s\n",
      "3996:\tlearn: 0.0610543\ttotal: 2m 25s\tremaining: 36.6s\n",
      "4995:\tlearn: 0.0419706\ttotal: 3m 1s\tremaining: 146ms\n",
      "4999:\tlearn: 0.0419368\ttotal: 3m 1s\tremaining: 0us\n"
     ]
    },
    {
     "name": "stderr",
     "output_type": "stream",
     "text": [
      "13it [39:48, 183.33s/it]"
     ]
    },
    {
     "name": "stdout",
     "output_type": "stream",
     "text": [
      "fold Loss 12:  0.24864060195831067\n",
      "---------------------------------------------------------------------------\n",
      "Learning rate set to 0.002361\n",
      "0:\tlearn: 0.6913239\ttotal: 69.9ms\tremaining: 5m 49s\n",
      "999:\tlearn: 0.2115778\ttotal: 36.1s\tremaining: 2m 24s\n",
      "1998:\tlearn: 0.1289630\ttotal: 1m 12s\tremaining: 1m 48s\n",
      "2997:\tlearn: 0.0875305\ttotal: 1m 48s\tremaining: 1m 12s\n",
      "3996:\tlearn: 0.0596884\ttotal: 2m 25s\tremaining: 36.4s\n",
      "4995:\tlearn: 0.0417836\ttotal: 3m 1s\tremaining: 146ms\n",
      "4999:\tlearn: 0.0417136\ttotal: 3m 2s\tremaining: 0us\n"
     ]
    },
    {
     "name": "stderr",
     "output_type": "stream",
     "text": [
      "14it [42:51, 183.25s/it]"
     ]
    },
    {
     "name": "stdout",
     "output_type": "stream",
     "text": [
      "fold Loss 13:  0.30594194470118563\n",
      "---------------------------------------------------------------------------\n",
      "Learning rate set to 0.002361\n",
      "0:\tlearn: 0.6913438\ttotal: 75.5ms\tremaining: 6m 17s\n",
      "999:\tlearn: 0.2200591\ttotal: 36.7s\tremaining: 2m 26s\n",
      "1998:\tlearn: 0.1354690\ttotal: 1m 13s\tremaining: 1m 50s\n",
      "2997:\tlearn: 0.0918957\ttotal: 1m 49s\tremaining: 1m 13s\n",
      "3996:\tlearn: 0.0617601\ttotal: 2m 25s\tremaining: 36.6s\n",
      "4995:\tlearn: 0.0427984\ttotal: 3m 2s\tremaining: 146ms\n",
      "4999:\tlearn: 0.0427583\ttotal: 3m 2s\tremaining: 0us\n"
     ]
    },
    {
     "name": "stderr",
     "output_type": "stream",
     "text": [
      "15it [45:55, 183.22s/it]"
     ]
    },
    {
     "name": "stdout",
     "output_type": "stream",
     "text": [
      "fold Loss 14:  0.11865628762781698\n",
      "---------------------------------------------------------------------------\n",
      "Learning rate set to 0.002361\n",
      "0:\tlearn: 0.6913144\ttotal: 71.4ms\tremaining: 5m 56s\n",
      "999:\tlearn: 0.2156556\ttotal: 36.6s\tremaining: 2m 26s\n",
      "1998:\tlearn: 0.1334235\ttotal: 1m 13s\tremaining: 1m 50s\n",
      "2997:\tlearn: 0.0906430\ttotal: 1m 50s\tremaining: 1m 13s\n",
      "3996:\tlearn: 0.0612101\ttotal: 2m 26s\tremaining: 36.8s\n",
      "4995:\tlearn: 0.0430021\ttotal: 3m 3s\tremaining: 147ms\n",
      "4999:\tlearn: 0.0429579\ttotal: 3m 3s\tremaining: 0us\n"
     ]
    },
    {
     "name": "stderr",
     "output_type": "stream",
     "text": [
      "16it [48:59, 183.73s/it]"
     ]
    },
    {
     "name": "stdout",
     "output_type": "stream",
     "text": [
      "fold Loss 15:  0.162585585602552\n",
      "---------------------------------------------------------------------------\n",
      "Learning rate set to 0.002361\n",
      "0:\tlearn: 0.6912355\ttotal: 72.9ms\tremaining: 6m 4s\n",
      "999:\tlearn: 0.2131151\ttotal: 37.5s\tremaining: 2m 30s\n",
      "1998:\tlearn: 0.1299089\ttotal: 1m 14s\tremaining: 1m 51s\n",
      "2997:\tlearn: 0.0867025\ttotal: 1m 50s\tremaining: 1m 13s\n",
      "3996:\tlearn: 0.0575207\ttotal: 2m 27s\tremaining: 36.9s\n",
      "4995:\tlearn: 0.0405721\ttotal: 3m 3s\tremaining: 147ms\n",
      "4999:\tlearn: 0.0405444\ttotal: 3m 3s\tremaining: 0us\n"
     ]
    },
    {
     "name": "stderr",
     "output_type": "stream",
     "text": [
      "17it [52:04, 184.06s/it]"
     ]
    },
    {
     "name": "stdout",
     "output_type": "stream",
     "text": [
      "fold Loss 16:  0.24342566477493915\n",
      "---------------------------------------------------------------------------\n",
      "Learning rate set to 0.002361\n",
      "0:\tlearn: 0.6913203\ttotal: 72.2ms\tremaining: 6m\n",
      "999:\tlearn: 0.2115824\ttotal: 36.9s\tremaining: 2m 27s\n",
      "1998:\tlearn: 0.1294563\ttotal: 1m 13s\tremaining: 1m 49s\n",
      "2997:\tlearn: 0.0873466\ttotal: 1m 49s\tremaining: 1m 13s\n",
      "3996:\tlearn: 0.0593617\ttotal: 2m 25s\tremaining: 36.6s\n",
      "4995:\tlearn: 0.0414381\ttotal: 3m 3s\tremaining: 147ms\n",
      "4999:\tlearn: 0.0413600\ttotal: 3m 3s\tremaining: 0us\n"
     ]
    },
    {
     "name": "stderr",
     "output_type": "stream",
     "text": [
      "18it [55:09, 184.11s/it]"
     ]
    },
    {
     "name": "stdout",
     "output_type": "stream",
     "text": [
      "fold Loss 17:  0.26216314242672545\n",
      "---------------------------------------------------------------------------\n",
      "Learning rate set to 0.002361\n",
      "0:\tlearn: 0.6913638\ttotal: 74.9ms\tremaining: 6m 14s\n",
      "999:\tlearn: 0.2179758\ttotal: 37s\tremaining: 2m 28s\n",
      "1998:\tlearn: 0.1336721\ttotal: 1m 13s\tremaining: 1m 50s\n",
      "2997:\tlearn: 0.0900751\ttotal: 1m 49s\tremaining: 1m 13s\n",
      "3996:\tlearn: 0.0606005\ttotal: 2m 26s\tremaining: 36.8s\n",
      "4995:\tlearn: 0.0426100\ttotal: 3m 2s\tremaining: 146ms\n",
      "4999:\tlearn: 0.0425589\ttotal: 3m 3s\tremaining: 0us\n"
     ]
    },
    {
     "name": "stderr",
     "output_type": "stream",
     "text": [
      "19it [58:13, 184.09s/it]"
     ]
    },
    {
     "name": "stdout",
     "output_type": "stream",
     "text": [
      "fold Loss 18:  0.1724256936172585\n",
      "---------------------------------------------------------------------------\n",
      "Learning rate set to 0.002362\n",
      "0:\tlearn: 0.6914058\ttotal: 69.1ms\tremaining: 5m 45s\n",
      "999:\tlearn: 0.2177346\ttotal: 36.3s\tremaining: 2m 25s\n",
      "1998:\tlearn: 0.1338550\ttotal: 1m 12s\tremaining: 1m 49s\n",
      "2997:\tlearn: 0.0899893\ttotal: 1m 49s\tremaining: 1m 13s\n",
      "3996:\tlearn: 0.0602569\ttotal: 2m 25s\tremaining: 36.6s\n",
      "4995:\tlearn: 0.0419234\ttotal: 3m 2s\tremaining: 146ms\n",
      "4999:\tlearn: 0.0418697\ttotal: 3m 2s\tremaining: 0us\n"
     ]
    },
    {
     "name": "stderr",
     "output_type": "stream",
     "text": [
      "20it [1:01:16, 183.83s/it]"
     ]
    },
    {
     "name": "stdout",
     "output_type": "stream",
     "text": [
      "fold Loss 19:  0.09305439056722209\n",
      "---------------------------------------------------------------------------\n",
      "Training Loss: 0.044409450760847444\n",
      "Loss for phyllosilicate:\n",
      "0.19227263071709658 0.06948757420046463\n",
      "==================================================================================================\n",
      "TARGET  silicate\n"
     ]
    },
    {
     "name": "stderr",
     "output_type": "stream",
     "text": [
      "\n"
     ]
    },
    {
     "name": "stdout",
     "output_type": "stream",
     "text": [
      "0.3403921990116835\n"
     ]
    },
    {
     "name": "stderr",
     "output_type": "stream",
     "text": [
      "100%|██████████| 101/101 [00:00<00:00, 317797.98it/s]\n"
     ]
    },
    {
     "name": "stdout",
     "output_type": "stream",
     "text": [
      "16\n",
      "0.30805645321118175\n"
     ]
    },
    {
     "name": "stderr",
     "output_type": "stream",
     "text": [
      "100%|██████████| 4100/4100 [00:00<00:00, 811200.83it/s]\n"
     ]
    },
    {
     "name": "stdout",
     "output_type": "stream",
     "text": [
      "78\n",
      "0.30738521182876144\n"
     ]
    },
    {
     "name": "stderr",
     "output_type": "stream",
     "text": [
      "100%|██████████| 4400/4400 [00:00<00:00, 830331.04it/s]\n"
     ]
    },
    {
     "name": "stdout",
     "output_type": "stream",
     "text": [
      "104\n",
      "0.31188965911211486\n"
     ]
    },
    {
     "name": "stderr",
     "output_type": "stream",
     "text": [
      "100%|██████████| 4200/4200 [00:00<00:00, 758431.00it/s]\n"
     ]
    },
    {
     "name": "stdout",
     "output_type": "stream",
     "text": [
      "101\n",
      "(1059, 101) (1059, 16) (1059, 78) (1059, 104)\n",
      "(1059, 299)\n",
      "(804, 101) (804, 16) (804, 78) (804, 104)\n",
      "(804, 299)\n"
     ]
    },
    {
     "name": "stderr",
     "output_type": "stream",
     "text": [
      "0it [00:00, ?it/s]"
     ]
    },
    {
     "name": "stdout",
     "output_type": "stream",
     "text": [
      "Learning rate set to 0.002361\n",
      "0:\tlearn: 0.6904305\ttotal: 61.2ms\tremaining: 5m 5s\n",
      "999:\tlearn: 0.1677620\ttotal: 36.2s\tremaining: 2m 24s\n",
      "1998:\tlearn: 0.1036166\ttotal: 1m 12s\tremaining: 1m 48s\n",
      "2997:\tlearn: 0.0687109\ttotal: 1m 48s\tremaining: 1m 12s\n",
      "3996:\tlearn: 0.0472271\ttotal: 2m 23s\tremaining: 36.1s\n",
      "4995:\tlearn: 0.0323311\ttotal: 2m 59s\tremaining: 144ms\n",
      "4999:\tlearn: 0.0322969\ttotal: 2m 59s\tremaining: 0us\n"
     ]
    },
    {
     "name": "stderr",
     "output_type": "stream",
     "text": [
      "1it [03:00, 180.75s/it]"
     ]
    },
    {
     "name": "stdout",
     "output_type": "stream",
     "text": [
      "fold Loss 0:  0.12429108134134197\n",
      "---------------------------------------------------------------------------\n",
      "Learning rate set to 0.002361\n",
      "0:\tlearn: 0.6905349\ttotal: 71.6ms\tremaining: 5m 58s\n",
      "999:\tlearn: 0.1678489\ttotal: 35.5s\tremaining: 2m 21s\n",
      "1998:\tlearn: 0.1023442\ttotal: 1m 10s\tremaining: 1m 46s\n",
      "2997:\tlearn: 0.0679211\ttotal: 1m 46s\tremaining: 1m 10s\n",
      "3996:\tlearn: 0.0470959\ttotal: 2m 21s\tremaining: 35.5s\n",
      "4995:\tlearn: 0.0321855\ttotal: 2m 57s\tremaining: 142ms\n",
      "4999:\tlearn: 0.0321459\ttotal: 2m 58s\tremaining: 0us\n"
     ]
    },
    {
     "name": "stderr",
     "output_type": "stream",
     "text": [
      "2it [05:59, 179.70s/it]"
     ]
    },
    {
     "name": "stdout",
     "output_type": "stream",
     "text": [
      "fold Loss 1:  0.20513439824124427\n",
      "---------------------------------------------------------------------------\n",
      "Learning rate set to 0.002361\n",
      "0:\tlearn: 0.6904828\ttotal: 69.6ms\tremaining: 5m 47s\n",
      "999:\tlearn: 0.1656665\ttotal: 36.2s\tremaining: 2m 24s\n",
      "1998:\tlearn: 0.1021766\ttotal: 1m 12s\tremaining: 1m 48s\n",
      "2997:\tlearn: 0.0674042\ttotal: 1m 48s\tremaining: 1m 12s\n",
      "3996:\tlearn: 0.0451534\ttotal: 2m 23s\tremaining: 36s\n",
      "4995:\tlearn: 0.0306653\ttotal: 2m 58s\tremaining: 143ms\n",
      "4999:\tlearn: 0.0306248\ttotal: 2m 59s\tremaining: 0us\n"
     ]
    },
    {
     "name": "stderr",
     "output_type": "stream",
     "text": [
      "3it [08:59, 179.84s/it]"
     ]
    },
    {
     "name": "stdout",
     "output_type": "stream",
     "text": [
      "fold Loss 2:  0.2718849031881424\n",
      "---------------------------------------------------------------------------\n",
      "Learning rate set to 0.002361\n",
      "0:\tlearn: 0.6904969\ttotal: 73.5ms\tremaining: 6m 7s\n",
      "999:\tlearn: 0.1657726\ttotal: 35.4s\tremaining: 2m 21s\n",
      "1998:\tlearn: 0.1036282\ttotal: 1m 10s\tremaining: 1m 46s\n",
      "2997:\tlearn: 0.0695089\ttotal: 1m 46s\tremaining: 1m 11s\n",
      "3996:\tlearn: 0.0471647\ttotal: 2m 21s\tremaining: 35.6s\n",
      "4995:\tlearn: 0.0320372\ttotal: 2m 57s\tremaining: 142ms\n",
      "4999:\tlearn: 0.0319918\ttotal: 2m 57s\tremaining: 0us\n"
     ]
    },
    {
     "name": "stderr",
     "output_type": "stream",
     "text": [
      "4it [11:57, 179.14s/it]"
     ]
    },
    {
     "name": "stdout",
     "output_type": "stream",
     "text": [
      "fold Loss 3:  0.21439298214562283\n",
      "---------------------------------------------------------------------------\n",
      "Learning rate set to 0.002361\n",
      "0:\tlearn: 0.6904836\ttotal: 69.1ms\tremaining: 5m 45s\n",
      "999:\tlearn: 0.1703116\ttotal: 35.7s\tremaining: 2m 22s\n",
      "1998:\tlearn: 0.1043331\ttotal: 1m 11s\tremaining: 1m 47s\n",
      "2997:\tlearn: 0.0690586\ttotal: 1m 47s\tremaining: 1m 11s\n",
      "3996:\tlearn: 0.0471265\ttotal: 2m 22s\tremaining: 35.8s\n",
      "4995:\tlearn: 0.0319026\ttotal: 2m 58s\tremaining: 143ms\n",
      "4999:\tlearn: 0.0318687\ttotal: 2m 58s\tremaining: 0us\n"
     ]
    },
    {
     "name": "stderr",
     "output_type": "stream",
     "text": [
      "5it [14:56, 179.14s/it]"
     ]
    },
    {
     "name": "stdout",
     "output_type": "stream",
     "text": [
      "fold Loss 4:  0.1423601665697658\n",
      "---------------------------------------------------------------------------\n",
      "Learning rate set to 0.002361\n",
      "0:\tlearn: 0.6904487\ttotal: 70.9ms\tremaining: 5m 54s\n",
      "999:\tlearn: 0.1662131\ttotal: 35.5s\tremaining: 2m 21s\n",
      "1998:\tlearn: 0.1024628\ttotal: 1m 10s\tremaining: 1m 46s\n",
      "2997:\tlearn: 0.0691283\ttotal: 1m 46s\tremaining: 1m 11s\n",
      "3996:\tlearn: 0.0470587\ttotal: 2m 22s\tremaining: 35.8s\n",
      "4995:\tlearn: 0.0329006\ttotal: 2m 58s\tremaining: 143ms\n",
      "4999:\tlearn: 0.0328531\ttotal: 2m 58s\tremaining: 0us\n"
     ]
    },
    {
     "name": "stderr",
     "output_type": "stream",
     "text": [
      "6it [17:56, 179.12s/it]"
     ]
    },
    {
     "name": "stdout",
     "output_type": "stream",
     "text": [
      "fold Loss 5:  0.2238791684250577\n",
      "---------------------------------------------------------------------------\n",
      "Learning rate set to 0.002361\n",
      "0:\tlearn: 0.6905171\ttotal: 70.2ms\tremaining: 5m 50s\n",
      "999:\tlearn: 0.1663782\ttotal: 35.7s\tremaining: 2m 22s\n",
      "1998:\tlearn: 0.1023878\ttotal: 1m 11s\tremaining: 1m 46s\n",
      "2997:\tlearn: 0.0680472\ttotal: 1m 46s\tremaining: 1m 10s\n",
      "3996:\tlearn: 0.0446814\ttotal: 2m 21s\tremaining: 35.5s\n",
      "4995:\tlearn: 0.0295793\ttotal: 2m 56s\tremaining: 142ms\n",
      "4999:\tlearn: 0.0295330\ttotal: 2m 57s\tremaining: 0us\n"
     ]
    },
    {
     "name": "stderr",
     "output_type": "stream",
     "text": [
      "7it [20:53, 178.74s/it]"
     ]
    },
    {
     "name": "stdout",
     "output_type": "stream",
     "text": [
      "fold Loss 6:  0.174253828010808\n",
      "---------------------------------------------------------------------------\n",
      "Learning rate set to 0.002361\n",
      "0:\tlearn: 0.6906138\ttotal: 67.5ms\tremaining: 5m 37s\n",
      "999:\tlearn: 0.1679812\ttotal: 36.1s\tremaining: 2m 24s\n",
      "1998:\tlearn: 0.1021676\ttotal: 1m 11s\tremaining: 1m 46s\n",
      "2997:\tlearn: 0.0671741\ttotal: 1m 47s\tremaining: 1m 11s\n",
      "3996:\tlearn: 0.0448919\ttotal: 2m 23s\tremaining: 36s\n",
      "4995:\tlearn: 0.0297745\ttotal: 3m\tremaining: 144ms\n",
      "4999:\tlearn: 0.0297335\ttotal: 3m\tremaining: 0us\n"
     ]
    },
    {
     "name": "stderr",
     "output_type": "stream",
     "text": [
      "8it [23:55, 179.49s/it]"
     ]
    },
    {
     "name": "stdout",
     "output_type": "stream",
     "text": [
      "fold Loss 7:  0.15767690288906464\n",
      "---------------------------------------------------------------------------\n",
      "Learning rate set to 0.002361\n",
      "0:\tlearn: 0.6909146\ttotal: 66.7ms\tremaining: 5m 33s\n",
      "999:\tlearn: 0.1751803\ttotal: 35.8s\tremaining: 2m 23s\n",
      "1998:\tlearn: 0.1093612\ttotal: 1m 11s\tremaining: 1m 47s\n",
      "2997:\tlearn: 0.0735670\ttotal: 1m 46s\tremaining: 1m 11s\n",
      "3996:\tlearn: 0.0504944\ttotal: 2m 22s\tremaining: 35.8s\n",
      "4995:\tlearn: 0.0349790\ttotal: 2m 58s\tremaining: 143ms\n",
      "4999:\tlearn: 0.0349307\ttotal: 2m 58s\tremaining: 0us\n"
     ]
    },
    {
     "name": "stderr",
     "output_type": "stream",
     "text": [
      "9it [26:54, 179.37s/it]"
     ]
    },
    {
     "name": "stdout",
     "output_type": "stream",
     "text": [
      "fold Loss 8:  0.07072465284301066\n",
      "---------------------------------------------------------------------------\n",
      "Learning rate set to 0.002361\n",
      "0:\tlearn: 0.6905353\ttotal: 70.4ms\tremaining: 5m 51s\n",
      "999:\tlearn: 0.1702551\ttotal: 36.2s\tremaining: 2m 24s\n",
      "1998:\tlearn: 0.1039549\ttotal: 1m 12s\tremaining: 1m 49s\n",
      "2997:\tlearn: 0.0686855\ttotal: 1m 48s\tremaining: 1m 12s\n",
      "3996:\tlearn: 0.0457772\ttotal: 2m 24s\tremaining: 36.3s\n",
      "4995:\tlearn: 0.0308196\ttotal: 3m\tremaining: 145ms\n",
      "4999:\tlearn: 0.0307702\ttotal: 3m 1s\tremaining: 0us\n"
     ]
    },
    {
     "name": "stderr",
     "output_type": "stream",
     "text": [
      "10it [29:56, 180.19s/it]"
     ]
    },
    {
     "name": "stdout",
     "output_type": "stream",
     "text": [
      "fold Loss 9:  0.1700082764258009\n",
      "---------------------------------------------------------------------------\n",
      "Learning rate set to 0.002361\n",
      "0:\tlearn: 0.6907359\ttotal: 77ms\tremaining: 6m 24s\n",
      "999:\tlearn: 0.1713761\ttotal: 35.8s\tremaining: 2m 23s\n",
      "1998:\tlearn: 0.1058628\ttotal: 1m 11s\tremaining: 1m 46s\n",
      "2997:\tlearn: 0.0715757\ttotal: 1m 47s\tremaining: 1m 11s\n",
      "3996:\tlearn: 0.0501405\ttotal: 2m 23s\tremaining: 35.9s\n",
      "4995:\tlearn: 0.0339909\ttotal: 2m 58s\tremaining: 143ms\n",
      "4999:\tlearn: 0.0339361\ttotal: 2m 59s\tremaining: 0us\n"
     ]
    },
    {
     "name": "stderr",
     "output_type": "stream",
     "text": [
      "11it [32:56, 180.14s/it]"
     ]
    },
    {
     "name": "stdout",
     "output_type": "stream",
     "text": [
      "fold Loss 10:  0.09833191498176191\n",
      "---------------------------------------------------------------------------\n",
      "Learning rate set to 0.002361\n",
      "0:\tlearn: 0.6904890\ttotal: 66.9ms\tremaining: 5m 34s\n",
      "999:\tlearn: 0.1640288\ttotal: 37.5s\tremaining: 2m 29s\n",
      "1998:\tlearn: 0.1023771\ttotal: 1m 13s\tremaining: 1m 50s\n",
      "2997:\tlearn: 0.0683924\ttotal: 1m 49s\tremaining: 1m 12s\n",
      "3996:\tlearn: 0.0457508\ttotal: 2m 24s\tremaining: 36.3s\n",
      "4995:\tlearn: 0.0308541\ttotal: 2m 59s\tremaining: 144ms\n",
      "4999:\tlearn: 0.0308123\ttotal: 3m\tremaining: 0us\n"
     ]
    },
    {
     "name": "stderr",
     "output_type": "stream",
     "text": [
      "12it [35:57, 180.40s/it]"
     ]
    },
    {
     "name": "stdout",
     "output_type": "stream",
     "text": [
      "fold Loss 11:  0.2253194344815688\n",
      "---------------------------------------------------------------------------\n",
      "Learning rate set to 0.002361\n",
      "0:\tlearn: 0.6911749\ttotal: 68.5ms\tremaining: 5m 42s\n",
      "999:\tlearn: 0.1707456\ttotal: 35.7s\tremaining: 2m 22s\n",
      "1998:\tlearn: 0.1042316\ttotal: 1m 11s\tremaining: 1m 46s\n",
      "2997:\tlearn: 0.0684697\ttotal: 1m 46s\tremaining: 1m 11s\n",
      "3996:\tlearn: 0.0462462\ttotal: 2m 21s\tremaining: 35.6s\n",
      "4995:\tlearn: 0.0312886\ttotal: 2m 58s\tremaining: 143ms\n",
      "4999:\tlearn: 0.0312526\ttotal: 2m 58s\tremaining: 0us\n"
     ]
    },
    {
     "name": "stderr",
     "output_type": "stream",
     "text": [
      "13it [38:56, 180.00s/it]"
     ]
    },
    {
     "name": "stdout",
     "output_type": "stream",
     "text": [
      "fold Loss 12:  0.10792938793839874\n",
      "---------------------------------------------------------------------------\n",
      "Learning rate set to 0.002361\n",
      "0:\tlearn: 0.6904922\ttotal: 74ms\tremaining: 6m 10s\n",
      "999:\tlearn: 0.1660345\ttotal: 36s\tremaining: 2m 23s\n",
      "1998:\tlearn: 0.1012801\ttotal: 1m 12s\tremaining: 1m 48s\n",
      "2997:\tlearn: 0.0673409\ttotal: 1m 48s\tremaining: 1m 12s\n",
      "3996:\tlearn: 0.0456182\ttotal: 2m 23s\tremaining: 36.1s\n",
      "4995:\tlearn: 0.0305859\ttotal: 2m 59s\tremaining: 144ms\n",
      "4999:\tlearn: 0.0305398\ttotal: 2m 59s\tremaining: 0us\n"
     ]
    },
    {
     "name": "stderr",
     "output_type": "stream",
     "text": [
      "14it [41:56, 180.16s/it]"
     ]
    },
    {
     "name": "stdout",
     "output_type": "stream",
     "text": [
      "fold Loss 13:  0.22153261162627538\n",
      "---------------------------------------------------------------------------\n",
      "Learning rate set to 0.002361\n",
      "0:\tlearn: 0.6905196\ttotal: 69.9ms\tremaining: 5m 49s\n",
      "999:\tlearn: 0.1681619\ttotal: 35.4s\tremaining: 2m 21s\n",
      "1998:\tlearn: 0.1043363\ttotal: 1m 10s\tremaining: 1m 46s\n",
      "2997:\tlearn: 0.0694996\ttotal: 1m 46s\tremaining: 1m 10s\n",
      "3996:\tlearn: 0.0470463\ttotal: 2m 22s\tremaining: 35.7s\n",
      "4995:\tlearn: 0.0314708\ttotal: 2m 59s\tremaining: 144ms\n",
      "4999:\tlearn: 0.0314216\ttotal: 2m 59s\tremaining: 0us\n"
     ]
    },
    {
     "name": "stderr",
     "output_type": "stream",
     "text": [
      "15it [44:57, 180.28s/it]"
     ]
    },
    {
     "name": "stdout",
     "output_type": "stream",
     "text": [
      "fold Loss 14:  0.1380677698868413\n",
      "---------------------------------------------------------------------------\n",
      "Learning rate set to 0.002361\n",
      "0:\tlearn: 0.6905678\ttotal: 71.3ms\tremaining: 5m 56s\n",
      "999:\tlearn: 0.1729264\ttotal: 36.6s\tremaining: 2m 26s\n",
      "1998:\tlearn: 0.1063840\ttotal: 1m 12s\tremaining: 1m 48s\n",
      "2997:\tlearn: 0.0696977\ttotal: 1m 48s\tremaining: 1m 12s\n",
      "3996:\tlearn: 0.0463505\ttotal: 2m 24s\tremaining: 36.3s\n",
      "4995:\tlearn: 0.0311745\ttotal: 3m\tremaining: 145ms\n",
      "4999:\tlearn: 0.0311246\ttotal: 3m\tremaining: 0us\n"
     ]
    },
    {
     "name": "stderr",
     "output_type": "stream",
     "text": [
      "16it [47:59, 180.74s/it]"
     ]
    },
    {
     "name": "stdout",
     "output_type": "stream",
     "text": [
      "fold Loss 15:  0.11079126766724365\n",
      "---------------------------------------------------------------------------\n",
      "Learning rate set to 0.002361\n",
      "0:\tlearn: 0.6905322\ttotal: 70.4ms\tremaining: 5m 51s\n",
      "999:\tlearn: 0.1706389\ttotal: 36.5s\tremaining: 2m 25s\n",
      "1998:\tlearn: 0.1054414\ttotal: 1m 12s\tremaining: 1m 49s\n",
      "2997:\tlearn: 0.0700093\ttotal: 1m 48s\tremaining: 1m 12s\n",
      "3996:\tlearn: 0.0462774\ttotal: 2m 25s\tremaining: 36.4s\n",
      "4995:\tlearn: 0.0311209\ttotal: 3m 1s\tremaining: 145ms\n",
      "4999:\tlearn: 0.0310881\ttotal: 3m 1s\tremaining: 0us\n"
     ]
    },
    {
     "name": "stderr",
     "output_type": "stream",
     "text": [
      "17it [51:01, 181.16s/it]"
     ]
    },
    {
     "name": "stdout",
     "output_type": "stream",
     "text": [
      "fold Loss 16:  0.09037857899993047\n",
      "---------------------------------------------------------------------------\n",
      "Learning rate set to 0.002361\n",
      "0:\tlearn: 0.6904967\ttotal: 70.6ms\tremaining: 5m 53s\n",
      "999:\tlearn: 0.1676046\ttotal: 36.7s\tremaining: 2m 26s\n",
      "1998:\tlearn: 0.1030490\ttotal: 1m 11s\tremaining: 1m 48s\n",
      "2997:\tlearn: 0.0679313\ttotal: 1m 47s\tremaining: 1m 12s\n",
      "3996:\tlearn: 0.0461341\ttotal: 2m 23s\tremaining: 35.9s\n",
      "4995:\tlearn: 0.0309564\ttotal: 2m 58s\tremaining: 143ms\n",
      "4999:\tlearn: 0.0308978\ttotal: 2m 58s\tremaining: 0us\n"
     ]
    },
    {
     "name": "stderr",
     "output_type": "stream",
     "text": [
      "18it [54:01, 180.78s/it]"
     ]
    },
    {
     "name": "stdout",
     "output_type": "stream",
     "text": [
      "fold Loss 17:  0.21308809585454508\n",
      "---------------------------------------------------------------------------\n",
      "Learning rate set to 0.002361\n",
      "0:\tlearn: 0.6905359\ttotal: 68.5ms\tremaining: 5m 42s\n",
      "999:\tlearn: 0.1709652\ttotal: 35.4s\tremaining: 2m 21s\n",
      "1998:\tlearn: 0.1053799\ttotal: 1m 10s\tremaining: 1m 46s\n",
      "2997:\tlearn: 0.0693921\ttotal: 1m 46s\tremaining: 1m 10s\n",
      "3996:\tlearn: 0.0465926\ttotal: 2m 21s\tremaining: 35.6s\n",
      "4995:\tlearn: 0.0321398\ttotal: 2m 57s\tremaining: 142ms\n",
      "4999:\tlearn: 0.0321083\ttotal: 2m 57s\tremaining: 0us\n"
     ]
    },
    {
     "name": "stderr",
     "output_type": "stream",
     "text": [
      "19it [56:59, 180.06s/it]"
     ]
    },
    {
     "name": "stdout",
     "output_type": "stream",
     "text": [
      "fold Loss 18:  0.08470571856248064\n",
      "---------------------------------------------------------------------------\n",
      "Learning rate set to 0.002362\n",
      "0:\tlearn: 0.6903168\ttotal: 69.7ms\tremaining: 5m 48s\n",
      "999:\tlearn: 0.1641544\ttotal: 35.6s\tremaining: 2m 22s\n",
      "1998:\tlearn: 0.0982670\ttotal: 1m 10s\tremaining: 1m 46s\n",
      "2997:\tlearn: 0.0625418\ttotal: 1m 46s\tremaining: 1m 10s\n",
      "3996:\tlearn: 0.0414267\ttotal: 2m 21s\tremaining: 35.5s\n",
      "4995:\tlearn: 0.0282240\ttotal: 2m 57s\tremaining: 142ms\n",
      "4999:\tlearn: 0.0281881\ttotal: 2m 57s\tremaining: 0us\n"
     ]
    },
    {
     "name": "stderr",
     "output_type": "stream",
     "text": [
      "20it [59:58, 179.91s/it]"
     ]
    },
    {
     "name": "stdout",
     "output_type": "stream",
     "text": [
      "fold Loss 19:  0.29868618041712963\n",
      "---------------------------------------------------------------------------\n",
      "Training Loss: 0.041494105644139086\n",
      "Loss for silicate:\n",
      "0.16717186602480175 0.06343074055258813\n",
      "==================================================================================================\n",
      "TARGET  sulfate\n"
     ]
    },
    {
     "name": "stderr",
     "output_type": "stream",
     "text": [
      "\n"
     ]
    },
    {
     "name": "stdout",
     "output_type": "stream",
     "text": [
      "0.4560911248343186\n"
     ]
    },
    {
     "name": "stderr",
     "output_type": "stream",
     "text": [
      "100%|██████████| 101/101 [00:00<00:00, 395172.30it/s]"
     ]
    },
    {
     "name": "stdout",
     "output_type": "stream",
     "text": [
      "16\n"
     ]
    },
    {
     "name": "stderr",
     "output_type": "stream",
     "text": [
      "\n"
     ]
    },
    {
     "name": "stdout",
     "output_type": "stream",
     "text": [
      "0.35246157882383455\n"
     ]
    },
    {
     "name": "stderr",
     "output_type": "stream",
     "text": [
      "100%|██████████| 4100/4100 [00:00<00:00, 780920.32it/s]\n"
     ]
    },
    {
     "name": "stdout",
     "output_type": "stream",
     "text": [
      "75\n",
      "0.30313088599366017\n"
     ]
    },
    {
     "name": "stderr",
     "output_type": "stream",
     "text": [
      "100%|██████████| 4400/4400 [00:00<00:00, 817893.00it/s]\n"
     ]
    },
    {
     "name": "stdout",
     "output_type": "stream",
     "text": [
      "78\n",
      "0.3097713591202632\n"
     ]
    },
    {
     "name": "stderr",
     "output_type": "stream",
     "text": [
      "100%|██████████| 4200/4200 [00:00<00:00, 845220.07it/s]\n"
     ]
    },
    {
     "name": "stdout",
     "output_type": "stream",
     "text": [
      "77\n",
      "(1059, 77) (1059, 16) (1059, 75) (1059, 78)\n",
      "(1059, 246)\n",
      "(804, 77) (804, 16) (804, 75) (804, 78)\n",
      "(804, 246)\n"
     ]
    },
    {
     "name": "stderr",
     "output_type": "stream",
     "text": [
      "0it [00:00, ?it/s]"
     ]
    },
    {
     "name": "stdout",
     "output_type": "stream",
     "text": [
      "Learning rate set to 0.002361\n",
      "0:\tlearn: 0.6906150\ttotal: 43.1ms\tremaining: 3m 35s\n",
      "999:\tlearn: 0.1458135\ttotal: 29.8s\tremaining: 1m 59s\n",
      "1998:\tlearn: 0.0833008\ttotal: 1m\tremaining: 1m 30s\n",
      "2997:\tlearn: 0.0536286\ttotal: 1m 30s\tremaining: 1m\n",
      "3996:\tlearn: 0.0356174\ttotal: 2m\tremaining: 30.3s\n",
      "4995:\tlearn: 0.0246795\ttotal: 2m 30s\tremaining: 121ms\n",
      "4999:\tlearn: 0.0246460\ttotal: 2m 30s\tremaining: 0us\n"
     ]
    },
    {
     "name": "stderr",
     "output_type": "stream",
     "text": [
      "1it [02:31, 151.91s/it]"
     ]
    },
    {
     "name": "stdout",
     "output_type": "stream",
     "text": [
      "fold Loss 0:  0.1746765744314538\n",
      "---------------------------------------------------------------------------\n",
      "Learning rate set to 0.002361\n",
      "0:\tlearn: 0.6908210\ttotal: 59.2ms\tremaining: 4m 56s\n",
      "999:\tlearn: 0.1489533\ttotal: 30s\tremaining: 1m 59s\n",
      "1998:\tlearn: 0.0844386\ttotal: 1m\tremaining: 1m 30s\n",
      "2997:\tlearn: 0.0555345\ttotal: 1m 30s\tremaining: 1m\n",
      "3996:\tlearn: 0.0376822\ttotal: 2m\tremaining: 30.2s\n",
      "4995:\tlearn: 0.0263200\ttotal: 2m 30s\tremaining: 121ms\n",
      "4999:\tlearn: 0.0262932\ttotal: 2m 30s\tremaining: 0us\n"
     ]
    },
    {
     "name": "stderr",
     "output_type": "stream",
     "text": [
      "2it [05:03, 151.72s/it]"
     ]
    },
    {
     "name": "stdout",
     "output_type": "stream",
     "text": [
      "fold Loss 1:  0.10458361895871758\n",
      "---------------------------------------------------------------------------\n",
      "Learning rate set to 0.002361\n",
      "0:\tlearn: 0.6906924\ttotal: 47.8ms\tremaining: 3m 59s\n",
      "999:\tlearn: 0.1473086\ttotal: 30s\tremaining: 2m\n",
      "1998:\tlearn: 0.0840424\ttotal: 1m\tremaining: 1m 31s\n",
      "2997:\tlearn: 0.0542240\ttotal: 1m 31s\tremaining: 1m 1s\n",
      "3996:\tlearn: 0.0362306\ttotal: 2m 2s\tremaining: 30.7s\n",
      "4995:\tlearn: 0.0247748\ttotal: 2m 33s\tremaining: 123ms\n",
      "4999:\tlearn: 0.0247288\ttotal: 2m 33s\tremaining: 0us\n"
     ]
    },
    {
     "name": "stderr",
     "output_type": "stream",
     "text": [
      "3it [07:37, 152.82s/it]"
     ]
    },
    {
     "name": "stdout",
     "output_type": "stream",
     "text": [
      "fold Loss 2:  0.20200823621833358\n",
      "---------------------------------------------------------------------------\n",
      "Learning rate set to 0.002361\n",
      "0:\tlearn: 0.6908152\ttotal: 47.6ms\tremaining: 3m 57s\n",
      "999:\tlearn: 0.1436775\ttotal: 30.8s\tremaining: 2m 3s\n",
      "1998:\tlearn: 0.0783212\ttotal: 1m 1s\tremaining: 1m 32s\n",
      "2997:\tlearn: 0.0496270\ttotal: 1m 32s\tremaining: 1m 1s\n",
      "3996:\tlearn: 0.0330217\ttotal: 2m 2s\tremaining: 30.7s\n",
      "4995:\tlearn: 0.0236492\ttotal: 2m 32s\tremaining: 122ms\n",
      "4999:\tlearn: 0.0236011\ttotal: 2m 32s\tremaining: 0us\n"
     ]
    },
    {
     "name": "stderr",
     "output_type": "stream",
     "text": [
      "4it [10:10, 153.03s/it]"
     ]
    },
    {
     "name": "stdout",
     "output_type": "stream",
     "text": [
      "fold Loss 3:  0.3392442842551506\n",
      "---------------------------------------------------------------------------\n",
      "Learning rate set to 0.002361\n",
      "0:\tlearn: 0.6909703\ttotal: 62.7ms\tremaining: 5m 13s\n",
      "999:\tlearn: 0.1485444\ttotal: 30.6s\tremaining: 2m 2s\n",
      "1998:\tlearn: 0.0846442\ttotal: 1m\tremaining: 1m 31s\n",
      "2997:\tlearn: 0.0548442\ttotal: 1m 31s\tremaining: 1m 1s\n",
      "3996:\tlearn: 0.0359410\ttotal: 2m 1s\tremaining: 30.6s\n",
      "4995:\tlearn: 0.0242382\ttotal: 2m 32s\tremaining: 122ms\n",
      "4999:\tlearn: 0.0242131\ttotal: 2m 32s\tremaining: 0us\n"
     ]
    },
    {
     "name": "stderr",
     "output_type": "stream",
     "text": [
      "5it [12:44, 153.17s/it]"
     ]
    },
    {
     "name": "stdout",
     "output_type": "stream",
     "text": [
      "fold Loss 4:  0.23076847962917468\n",
      "---------------------------------------------------------------------------\n",
      "Learning rate set to 0.002361\n",
      "0:\tlearn: 0.6905330\ttotal: 67.4ms\tremaining: 5m 36s\n",
      "999:\tlearn: 0.1477252\ttotal: 30.9s\tremaining: 2m 3s\n",
      "1998:\tlearn: 0.0827511\ttotal: 1m 1s\tremaining: 1m 32s\n",
      "2997:\tlearn: 0.0533938\ttotal: 1m 31s\tremaining: 1m 1s\n",
      "3996:\tlearn: 0.0357752\ttotal: 2m 1s\tremaining: 30.6s\n",
      "4995:\tlearn: 0.0246429\ttotal: 2m 32s\tremaining: 122ms\n",
      "4999:\tlearn: 0.0246047\ttotal: 2m 32s\tremaining: 0us\n"
     ]
    },
    {
     "name": "stderr",
     "output_type": "stream",
     "text": [
      "6it [15:17, 153.20s/it]"
     ]
    },
    {
     "name": "stdout",
     "output_type": "stream",
     "text": [
      "fold Loss 5:  0.20258582227160893\n",
      "---------------------------------------------------------------------------\n",
      "Learning rate set to 0.002361\n",
      "0:\tlearn: 0.6909309\ttotal: 57.5ms\tremaining: 4m 47s\n",
      "999:\tlearn: 0.1467716\ttotal: 30.5s\tremaining: 2m 1s\n",
      "1998:\tlearn: 0.0816469\ttotal: 1m\tremaining: 1m 30s\n",
      "2997:\tlearn: 0.0513290\ttotal: 1m 30s\tremaining: 1m\n",
      "3996:\tlearn: 0.0337261\ttotal: 1m 59s\tremaining: 30.1s\n",
      "4995:\tlearn: 0.0228556\ttotal: 2m 29s\tremaining: 120ms\n",
      "4999:\tlearn: 0.0228269\ttotal: 2m 30s\tremaining: 0us\n"
     ]
    },
    {
     "name": "stderr",
     "output_type": "stream",
     "text": [
      "7it [17:48, 152.46s/it]"
     ]
    },
    {
     "name": "stdout",
     "output_type": "stream",
     "text": [
      "fold Loss 6:  0.21905866986324446\n",
      "---------------------------------------------------------------------------\n",
      "Learning rate set to 0.002361\n",
      "0:\tlearn: 0.6908590\ttotal: 46.7ms\tremaining: 3m 53s\n",
      "999:\tlearn: 0.1513602\ttotal: 29.9s\tremaining: 1m 59s\n",
      "1998:\tlearn: 0.0856711\ttotal: 1m\tremaining: 1m 30s\n",
      "2997:\tlearn: 0.0554259\ttotal: 1m 30s\tremaining: 1m\n",
      "3996:\tlearn: 0.0368701\ttotal: 2m 1s\tremaining: 30.4s\n",
      "4995:\tlearn: 0.0259802\ttotal: 2m 31s\tremaining: 121ms\n",
      "4999:\tlearn: 0.0259362\ttotal: 2m 31s\tremaining: 0us\n"
     ]
    },
    {
     "name": "stderr",
     "output_type": "stream",
     "text": [
      "8it [20:20, 152.38s/it]"
     ]
    },
    {
     "name": "stdout",
     "output_type": "stream",
     "text": [
      "fold Loss 7:  0.07767033712945252\n",
      "---------------------------------------------------------------------------\n",
      "Learning rate set to 0.002361\n",
      "0:\tlearn: 0.6907164\ttotal: 69.7ms\tremaining: 5m 48s\n",
      "999:\tlearn: 0.1489421\ttotal: 30.5s\tremaining: 2m 2s\n",
      "1998:\tlearn: 0.0855802\ttotal: 1m\tremaining: 1m 31s\n",
      "2997:\tlearn: 0.0547776\ttotal: 1m 30s\tremaining: 1m\n",
      "3996:\tlearn: 0.0359628\ttotal: 2m 1s\tremaining: 30.4s\n",
      "4995:\tlearn: 0.0245215\ttotal: 2m 31s\tremaining: 121ms\n",
      "4999:\tlearn: 0.0245007\ttotal: 2m 31s\tremaining: 0us\n"
     ]
    },
    {
     "name": "stderr",
     "output_type": "stream",
     "text": [
      "9it [22:53, 152.35s/it]"
     ]
    },
    {
     "name": "stdout",
     "output_type": "stream",
     "text": [
      "fold Loss 8:  0.11638948148931212\n",
      "---------------------------------------------------------------------------\n",
      "Learning rate set to 0.002361\n",
      "0:\tlearn: 0.6907651\ttotal: 62.7ms\tremaining: 5m 13s\n",
      "999:\tlearn: 0.1505298\ttotal: 30.2s\tremaining: 2m\n",
      "1998:\tlearn: 0.0854141\ttotal: 1m\tremaining: 1m 31s\n",
      "2997:\tlearn: 0.0551241\ttotal: 1m 31s\tremaining: 1m 1s\n",
      "3996:\tlearn: 0.0374842\ttotal: 2m 1s\tremaining: 30.4s\n",
      "4995:\tlearn: 0.0256467\ttotal: 2m 31s\tremaining: 121ms\n",
      "4999:\tlearn: 0.0255996\ttotal: 2m 31s\tremaining: 0us\n"
     ]
    },
    {
     "name": "stderr",
     "output_type": "stream",
     "text": [
      "10it [25:25, 152.36s/it]"
     ]
    },
    {
     "name": "stdout",
     "output_type": "stream",
     "text": [
      "fold Loss 9:  0.056840000927372895\n",
      "---------------------------------------------------------------------------\n",
      "Learning rate set to 0.002361\n",
      "0:\tlearn: 0.6909151\ttotal: 46.3ms\tremaining: 3m 51s\n",
      "999:\tlearn: 0.1511812\ttotal: 30.3s\tremaining: 2m 1s\n",
      "1998:\tlearn: 0.0860323\ttotal: 1m\tremaining: 1m 30s\n",
      "2997:\tlearn: 0.0561245\ttotal: 1m 30s\tremaining: 1m\n",
      "3996:\tlearn: 0.0377984\ttotal: 2m\tremaining: 30.2s\n",
      "4995:\tlearn: 0.0257787\ttotal: 2m 31s\tremaining: 121ms\n",
      "4999:\tlearn: 0.0257257\ttotal: 2m 31s\tremaining: 0us\n"
     ]
    },
    {
     "name": "stderr",
     "output_type": "stream",
     "text": [
      "11it [27:57, 152.26s/it]"
     ]
    },
    {
     "name": "stdout",
     "output_type": "stream",
     "text": [
      "fold Loss 10:  0.08066356823142037\n",
      "---------------------------------------------------------------------------\n",
      "Learning rate set to 0.002361\n",
      "0:\tlearn: 0.6904186\ttotal: 58.4ms\tremaining: 4m 52s\n",
      "999:\tlearn: 0.1479751\ttotal: 30.1s\tremaining: 2m\n",
      "1998:\tlearn: 0.0850916\ttotal: 1m\tremaining: 1m 30s\n",
      "2997:\tlearn: 0.0548725\ttotal: 1m 30s\tremaining: 1m\n",
      "3996:\tlearn: 0.0366994\ttotal: 2m\tremaining: 30.1s\n",
      "4995:\tlearn: 0.0250911\ttotal: 2m 30s\tremaining: 120ms\n",
      "4999:\tlearn: 0.0250596\ttotal: 2m 30s\tremaining: 0us\n"
     ]
    },
    {
     "name": "stderr",
     "output_type": "stream",
     "text": [
      "12it [30:28, 151.91s/it]"
     ]
    },
    {
     "name": "stdout",
     "output_type": "stream",
     "text": [
      "fold Loss 11:  0.1528409534706925\n",
      "---------------------------------------------------------------------------\n",
      "Learning rate set to 0.002361\n",
      "0:\tlearn: 0.6910115\ttotal: 47.5ms\tremaining: 3m 57s\n",
      "999:\tlearn: 0.1510182\ttotal: 30s\tremaining: 1m 59s\n",
      "1998:\tlearn: 0.0863647\ttotal: 1m\tremaining: 1m 30s\n",
      "2997:\tlearn: 0.0560880\ttotal: 1m 30s\tremaining: 1m\n",
      "3996:\tlearn: 0.0379861\ttotal: 2m\tremaining: 30.3s\n",
      "4995:\tlearn: 0.0259121\ttotal: 2m 30s\tremaining: 121ms\n",
      "4999:\tlearn: 0.0258732\ttotal: 2m 31s\tremaining: 0us\n"
     ]
    },
    {
     "name": "stderr",
     "output_type": "stream",
     "text": [
      "13it [33:00, 151.93s/it]"
     ]
    },
    {
     "name": "stdout",
     "output_type": "stream",
     "text": [
      "fold Loss 12:  0.0568552177103853\n",
      "---------------------------------------------------------------------------\n",
      "Learning rate set to 0.002361\n",
      "0:\tlearn: 0.6907118\ttotal: 58.5ms\tremaining: 4m 52s\n",
      "999:\tlearn: 0.1419346\ttotal: 29.9s\tremaining: 1m 59s\n",
      "1998:\tlearn: 0.0797463\ttotal: 1m\tremaining: 1m 30s\n",
      "2997:\tlearn: 0.0504329\ttotal: 1m 30s\tremaining: 1m\n",
      "3996:\tlearn: 0.0330228\ttotal: 1m 59s\tremaining: 30.1s\n",
      "4995:\tlearn: 0.0224104\ttotal: 2m 30s\tremaining: 120ms\n",
      "4999:\tlearn: 0.0223888\ttotal: 2m 30s\tremaining: 0us\n"
     ]
    },
    {
     "name": "stderr",
     "output_type": "stream",
     "text": [
      "14it [35:31, 151.75s/it]"
     ]
    },
    {
     "name": "stdout",
     "output_type": "stream",
     "text": [
      "fold Loss 13:  0.3560382135301535\n",
      "---------------------------------------------------------------------------\n",
      "Learning rate set to 0.002361\n",
      "0:\tlearn: 0.6907618\ttotal: 47.6ms\tremaining: 3m 58s\n",
      "999:\tlearn: 0.1476102\ttotal: 30.2s\tremaining: 2m\n",
      "1998:\tlearn: 0.0851212\ttotal: 1m\tremaining: 1m 30s\n",
      "2997:\tlearn: 0.0552212\ttotal: 1m 30s\tremaining: 1m\n",
      "3996:\tlearn: 0.0364463\ttotal: 1m 59s\tremaining: 30.1s\n",
      "4995:\tlearn: 0.0254374\ttotal: 2m 30s\tremaining: 120ms\n",
      "4999:\tlearn: 0.0253892\ttotal: 2m 30s\tremaining: 0us\n"
     ]
    },
    {
     "name": "stderr",
     "output_type": "stream",
     "text": [
      "15it [38:03, 151.56s/it]"
     ]
    },
    {
     "name": "stdout",
     "output_type": "stream",
     "text": [
      "fold Loss 14:  0.15184816745607693\n",
      "---------------------------------------------------------------------------\n",
      "Learning rate set to 0.002361\n",
      "0:\tlearn: 0.6903761\ttotal: 59.5ms\tremaining: 4m 57s\n",
      "999:\tlearn: 0.1462972\ttotal: 30.3s\tremaining: 2m 1s\n",
      "1998:\tlearn: 0.0825299\ttotal: 1m\tremaining: 1m 30s\n",
      "2997:\tlearn: 0.0533259\ttotal: 1m 30s\tremaining: 1m\n",
      "3996:\tlearn: 0.0360691\ttotal: 2m\tremaining: 30.2s\n",
      "4995:\tlearn: 0.0244876\ttotal: 2m 30s\tremaining: 121ms\n",
      "4999:\tlearn: 0.0244412\ttotal: 2m 30s\tremaining: 0us\n"
     ]
    },
    {
     "name": "stderr",
     "output_type": "stream",
     "text": [
      "16it [40:34, 151.66s/it]"
     ]
    },
    {
     "name": "stdout",
     "output_type": "stream",
     "text": [
      "fold Loss 15:  0.16787700199042718\n",
      "---------------------------------------------------------------------------\n",
      "Learning rate set to 0.002361\n",
      "0:\tlearn: 0.6908677\ttotal: 45.3ms\tremaining: 3m 46s\n",
      "999:\tlearn: 0.1493999\ttotal: 30.1s\tremaining: 2m\n",
      "1998:\tlearn: 0.0855879\ttotal: 1m\tremaining: 1m 30s\n",
      "2997:\tlearn: 0.0553657\ttotal: 1m 30s\tremaining: 1m\n",
      "3996:\tlearn: 0.0373481\ttotal: 2m\tremaining: 30.2s\n",
      "4995:\tlearn: 0.0263195\ttotal: 2m 30s\tremaining: 120ms\n",
      "4999:\tlearn: 0.0262949\ttotal: 2m 30s\tremaining: 0us\n"
     ]
    },
    {
     "name": "stderr",
     "output_type": "stream",
     "text": [
      "17it [43:06, 151.50s/it]"
     ]
    },
    {
     "name": "stdout",
     "output_type": "stream",
     "text": [
      "fold Loss 16:  0.10269071547177985\n",
      "---------------------------------------------------------------------------\n",
      "Learning rate set to 0.002361\n",
      "0:\tlearn: 0.6908440\ttotal: 60.9ms\tremaining: 5m 4s\n",
      "999:\tlearn: 0.1455140\ttotal: 30.7s\tremaining: 2m 2s\n",
      "1998:\tlearn: 0.0831714\ttotal: 1m 1s\tremaining: 1m 32s\n",
      "2997:\tlearn: 0.0537717\ttotal: 1m 31s\tremaining: 1m 1s\n",
      "3996:\tlearn: 0.0360745\ttotal: 2m 2s\tremaining: 30.7s\n",
      "4995:\tlearn: 0.0244776\ttotal: 2m 32s\tremaining: 122ms\n",
      "4999:\tlearn: 0.0244334\ttotal: 2m 32s\tremaining: 0us\n"
     ]
    },
    {
     "name": "stderr",
     "output_type": "stream",
     "text": [
      "18it [45:39, 152.05s/it]"
     ]
    },
    {
     "name": "stdout",
     "output_type": "stream",
     "text": [
      "fold Loss 17:  0.18754466264438352\n",
      "---------------------------------------------------------------------------\n",
      "Learning rate set to 0.002361\n",
      "0:\tlearn: 0.6909960\ttotal: 62ms\tremaining: 5m 10s\n",
      "999:\tlearn: 0.1491213\ttotal: 30.3s\tremaining: 2m 1s\n",
      "1998:\tlearn: 0.0852163\ttotal: 1m\tremaining: 1m 30s\n",
      "2997:\tlearn: 0.0548614\ttotal: 1m 30s\tremaining: 1m\n",
      "3996:\tlearn: 0.0364217\ttotal: 2m\tremaining: 30.2s\n",
      "4995:\tlearn: 0.0248377\ttotal: 2m 30s\tremaining: 121ms\n",
      "4999:\tlearn: 0.0248003\ttotal: 2m 30s\tremaining: 0us\n"
     ]
    },
    {
     "name": "stderr",
     "output_type": "stream",
     "text": [
      "19it [48:11, 151.98s/it]"
     ]
    },
    {
     "name": "stdout",
     "output_type": "stream",
     "text": [
      "fold Loss 18:  0.1156020490937738\n",
      "---------------------------------------------------------------------------\n",
      "Learning rate set to 0.002362\n",
      "0:\tlearn: 0.6907626\ttotal: 53.2ms\tremaining: 4m 25s\n",
      "999:\tlearn: 0.1520920\ttotal: 30.2s\tremaining: 2m\n",
      "1998:\tlearn: 0.0869539\ttotal: 1m 1s\tremaining: 1m 31s\n",
      "2997:\tlearn: 0.0556701\ttotal: 1m 31s\tremaining: 1m 1s\n",
      "3996:\tlearn: 0.0372434\ttotal: 2m 2s\tremaining: 30.7s\n",
      "4995:\tlearn: 0.0259760\ttotal: 2m 32s\tremaining: 122ms\n",
      "4999:\tlearn: 0.0259372\ttotal: 2m 33s\tremaining: 0us\n"
     ]
    },
    {
     "name": "stderr",
     "output_type": "stream",
     "text": [
      "20it [50:45, 152.26s/it]"
     ]
    },
    {
     "name": "stdout",
     "output_type": "stream",
     "text": [
      "fold Loss 19:  0.0831035958029003\n",
      "---------------------------------------------------------------------------\n",
      "Training Loss: 0.0287650113260199\n",
      "Loss for sulfate:\n",
      "0.15894448252879073 0.08193294161297557\n",
      "==================================================================================================\n",
      "TARGET  sulfide\n"
     ]
    },
    {
     "name": "stderr",
     "output_type": "stream",
     "text": [
      "\n"
     ]
    },
    {
     "name": "stdout",
     "output_type": "stream",
     "text": [
      "0.16790605902348493\n"
     ]
    },
    {
     "name": "stderr",
     "output_type": "stream",
     "text": [
      "100%|██████████| 101/101 [00:00<00:00, 298537.49it/s]"
     ]
    },
    {
     "name": "stdout",
     "output_type": "stream",
     "text": [
      "14\n"
     ]
    },
    {
     "name": "stderr",
     "output_type": "stream",
     "text": [
      "\n"
     ]
    },
    {
     "name": "stdout",
     "output_type": "stream",
     "text": [
      "0.12171524392593716\n"
     ]
    },
    {
     "name": "stderr",
     "output_type": "stream",
     "text": [
      "100%|██████████| 4100/4100 [00:00<00:00, 846250.01it/s]\n"
     ]
    },
    {
     "name": "stdout",
     "output_type": "stream",
     "text": [
      "48\n",
      "0.1304871793065941\n"
     ]
    },
    {
     "name": "stderr",
     "output_type": "stream",
     "text": [
      "100%|██████████| 4400/4400 [00:00<00:00, 687847.10it/s]\n"
     ]
    },
    {
     "name": "stdout",
     "output_type": "stream",
     "text": [
      "57\n",
      "0.13055460335791177\n"
     ]
    },
    {
     "name": "stderr",
     "output_type": "stream",
     "text": [
      "100%|██████████| 4200/4200 [00:00<00:00, 822873.54it/s]\n"
     ]
    },
    {
     "name": "stdout",
     "output_type": "stream",
     "text": [
      "59\n",
      "(1059, 59) (1059, 14) (1059, 48) (1059, 57)\n",
      "(1059, 178)\n",
      "(804, 59) (804, 14) (804, 48) (804, 57)\n",
      "(804, 178)\n"
     ]
    },
    {
     "name": "stderr",
     "output_type": "stream",
     "text": [
      "0it [00:00, ?it/s]"
     ]
    },
    {
     "name": "stdout",
     "output_type": "stream",
     "text": [
      "Learning rate set to 0.002361\n",
      "0:\tlearn: 0.6880755\ttotal: 44.4ms\tremaining: 3m 41s\n",
      "999:\tlearn: 0.0330426\ttotal: 22.4s\tremaining: 1m 29s\n",
      "1998:\tlearn: 0.0138577\ttotal: 44.6s\tremaining: 1m 7s\n",
      "2997:\tlearn: 0.0079396\ttotal: 1m 7s\tremaining: 44.8s\n",
      "3996:\tlearn: 0.0049466\ttotal: 1m 28s\tremaining: 22.3s\n"
     ]
    },
    {
     "name": "stderr",
     "output_type": "stream",
     "text": [
      "1it [01:52, 112.39s/it]"
     ]
    },
    {
     "name": "stdout",
     "output_type": "stream",
     "text": [
      "4995:\tlearn: 0.0033741\ttotal: 1m 51s\tremaining: 89.2ms\n",
      "4999:\tlearn: 0.0033701\ttotal: 1m 51s\tremaining: 0us\n",
      "fold Loss 0:  0.07773967959852308\n",
      "---------------------------------------------------------------------------\n",
      "Learning rate set to 0.002361\n",
      "0:\tlearn: 0.6885770\ttotal: 34.4ms\tremaining: 2m 52s\n",
      "999:\tlearn: 0.0347399\ttotal: 22.5s\tremaining: 1m 29s\n",
      "1998:\tlearn: 0.0148999\ttotal: 44.7s\tremaining: 1m 7s\n",
      "2997:\tlearn: 0.0086402\ttotal: 1m 7s\tremaining: 45.1s\n",
      "3996:\tlearn: 0.0056627\ttotal: 1m 30s\tremaining: 22.7s\n"
     ]
    },
    {
     "name": "stderr",
     "output_type": "stream",
     "text": [
      "2it [03:45, 112.96s/it]"
     ]
    },
    {
     "name": "stdout",
     "output_type": "stream",
     "text": [
      "4995:\tlearn: 0.0040848\ttotal: 1m 52s\tremaining: 90ms\n",
      "4999:\tlearn: 0.0040829\ttotal: 1m 52s\tremaining: 0us\n",
      "fold Loss 1:  0.0028744736759586534\n",
      "---------------------------------------------------------------------------\n",
      "Learning rate set to 0.002361\n",
      "0:\tlearn: 0.6882647\ttotal: 46.1ms\tremaining: 3m 50s\n",
      "999:\tlearn: 0.0323980\ttotal: 22.7s\tremaining: 1m 30s\n",
      "1998:\tlearn: 0.0136980\ttotal: 45.2s\tremaining: 1m 7s\n",
      "2997:\tlearn: 0.0077493\ttotal: 1m 7s\tremaining: 45s\n",
      "3996:\tlearn: 0.0047745\ttotal: 1m 29s\tremaining: 22.5s\n"
     ]
    },
    {
     "name": "stderr",
     "output_type": "stream",
     "text": [
      "3it [05:39, 113.14s/it]"
     ]
    },
    {
     "name": "stdout",
     "output_type": "stream",
     "text": [
      "4995:\tlearn: 0.0032856\ttotal: 1m 52s\tremaining: 90ms\n",
      "4999:\tlearn: 0.0032794\ttotal: 1m 52s\tremaining: 0us\n",
      "fold Loss 2:  0.0960611680033626\n",
      "---------------------------------------------------------------------------\n",
      "Learning rate set to 0.002361\n",
      "0:\tlearn: 0.6884964\ttotal: 36ms\tremaining: 3m\n",
      "999:\tlearn: 0.0321957\ttotal: 22.2s\tremaining: 1m 28s\n",
      "1998:\tlearn: 0.0138006\ttotal: 44.3s\tremaining: 1m 6s\n",
      "2997:\tlearn: 0.0077911\ttotal: 1m 6s\tremaining: 44.5s\n",
      "3996:\tlearn: 0.0049238\ttotal: 1m 29s\tremaining: 22.4s\n",
      "4995:\tlearn: 0.0033853\ttotal: 1m 51s\tremaining: 89.3ms\n",
      "4999:\tlearn: 0.0033815\ttotal: 1m 51s\tremaining: 0us\n",
      "fold Loss 3:  0.09052243021573698\n"
     ]
    },
    {
     "name": "stderr",
     "output_type": "stream",
     "text": [
      "4it [07:31, 112.88s/it]"
     ]
    },
    {
     "name": "stdout",
     "output_type": "stream",
     "text": [
      "---------------------------------------------------------------------------\n",
      "Learning rate set to 0.002361\n",
      "0:\tlearn: 0.6886100\ttotal: 46ms\tremaining: 3m 49s\n",
      "999:\tlearn: 0.0347014\ttotal: 22.7s\tremaining: 1m 30s\n",
      "1998:\tlearn: 0.0148493\ttotal: 45.2s\tremaining: 1m 7s\n",
      "2997:\tlearn: 0.0084240\ttotal: 1m 7s\tremaining: 45.1s\n",
      "3996:\tlearn: 0.0053697\ttotal: 1m 30s\tremaining: 22.6s\n"
     ]
    },
    {
     "name": "stderr",
     "output_type": "stream",
     "text": [
      "5it [09:25, 113.21s/it]"
     ]
    },
    {
     "name": "stdout",
     "output_type": "stream",
     "text": [
      "4995:\tlearn: 0.0038780\ttotal: 1m 52s\tremaining: 90.3ms\n",
      "4999:\tlearn: 0.0038735\ttotal: 1m 52s\tremaining: 0us\n",
      "fold Loss 4:  0.0235522924383799\n",
      "---------------------------------------------------------------------------\n",
      "Learning rate set to 0.002361\n",
      "0:\tlearn: 0.6885662\ttotal: 35.5ms\tremaining: 2m 57s\n",
      "999:\tlearn: 0.0344178\ttotal: 21.9s\tremaining: 1m 27s\n",
      "1998:\tlearn: 0.0150033\ttotal: 44.1s\tremaining: 1m 6s\n",
      "2997:\tlearn: 0.0085949\ttotal: 1m 6s\tremaining: 44.3s\n",
      "3996:\tlearn: 0.0054167\ttotal: 1m 28s\tremaining: 22.2s\n"
     ]
    },
    {
     "name": "stderr",
     "output_type": "stream",
     "text": [
      "6it [11:17, 112.70s/it]"
     ]
    },
    {
     "name": "stdout",
     "output_type": "stream",
     "text": [
      "4995:\tlearn: 0.0037223\ttotal: 1m 50s\tremaining: 88.7ms\n",
      "4999:\tlearn: 0.0037177\ttotal: 1m 50s\tremaining: 0us\n",
      "fold Loss 5:  0.05566039122793243\n",
      "---------------------------------------------------------------------------\n",
      "Learning rate set to 0.002361\n",
      "0:\tlearn: 0.6885729\ttotal: 45.3ms\tremaining: 3m 46s\n",
      "999:\tlearn: 0.0326551\ttotal: 22.8s\tremaining: 1m 31s\n",
      "1998:\tlearn: 0.0150376\ttotal: 44.6s\tremaining: 1m 6s\n",
      "2997:\tlearn: 0.0088470\ttotal: 1m 6s\tremaining: 44.6s\n",
      "3996:\tlearn: 0.0060607\ttotal: 1m 28s\tremaining: 22.3s\n"
     ]
    },
    {
     "name": "stderr",
     "output_type": "stream",
     "text": [
      "7it [13:09, 112.49s/it]"
     ]
    },
    {
     "name": "stdout",
     "output_type": "stream",
     "text": [
      "4995:\tlearn: 0.0044238\ttotal: 1m 51s\tremaining: 89ms\n",
      "4999:\tlearn: 0.0044169\ttotal: 1m 51s\tremaining: 0us\n",
      "fold Loss 6:  0.11971550748214624\n",
      "---------------------------------------------------------------------------\n",
      "Learning rate set to 0.002361\n",
      "0:\tlearn: 0.6882517\ttotal: 35.3ms\tremaining: 2m 56s\n",
      "999:\tlearn: 0.0337249\ttotal: 21.6s\tremaining: 1m 26s\n",
      "1998:\tlearn: 0.0147056\ttotal: 43.8s\tremaining: 1m 5s\n",
      "2997:\tlearn: 0.0084488\ttotal: 1m 5s\tremaining: 44s\n",
      "3996:\tlearn: 0.0053971\ttotal: 1m 27s\tremaining: 22s\n"
     ]
    },
    {
     "name": "stderr",
     "output_type": "stream",
     "text": [
      "8it [15:00, 112.14s/it]"
     ]
    },
    {
     "name": "stdout",
     "output_type": "stream",
     "text": [
      "4995:\tlearn: 0.0037714\ttotal: 1m 50s\tremaining: 88.4ms\n",
      "4999:\tlearn: 0.0037683\ttotal: 1m 50s\tremaining: 0us\n",
      "fold Loss 7:  0.06335372818384997\n",
      "---------------------------------------------------------------------------\n",
      "Learning rate set to 0.002361\n",
      "0:\tlearn: 0.6883526\ttotal: 46.6ms\tremaining: 3m 52s\n",
      "999:\tlearn: 0.0343485\ttotal: 22.7s\tremaining: 1m 30s\n",
      "1998:\tlearn: 0.0147225\ttotal: 44.2s\tremaining: 1m 6s\n",
      "2997:\tlearn: 0.0083372\ttotal: 1m 6s\tremaining: 44.3s\n",
      "3996:\tlearn: 0.0052658\ttotal: 1m 28s\tremaining: 22.2s\n"
     ]
    },
    {
     "name": "stderr",
     "output_type": "stream",
     "text": [
      "9it [16:51, 111.91s/it]"
     ]
    },
    {
     "name": "stdout",
     "output_type": "stream",
     "text": [
      "4995:\tlearn: 0.0036034\ttotal: 1m 50s\tremaining: 88.4ms\n",
      "4999:\tlearn: 0.0036007\ttotal: 1m 50s\tremaining: 0us\n",
      "fold Loss 8:  0.004913041455747119\n",
      "---------------------------------------------------------------------------\n",
      "Learning rate set to 0.002361\n",
      "0:\tlearn: 0.6883152\ttotal: 34.7ms\tremaining: 2m 53s\n",
      "999:\tlearn: 0.0315091\ttotal: 22.1s\tremaining: 1m 28s\n",
      "1998:\tlearn: 0.0128334\ttotal: 44.5s\tremaining: 1m 6s\n",
      "2997:\tlearn: 0.0071272\ttotal: 1m 6s\tremaining: 44.5s\n",
      "3996:\tlearn: 0.0043006\ttotal: 1m 28s\tremaining: 22.3s\n"
     ]
    },
    {
     "name": "stderr",
     "output_type": "stream",
     "text": [
      "10it [18:43, 111.86s/it]"
     ]
    },
    {
     "name": "stdout",
     "output_type": "stream",
     "text": [
      "4995:\tlearn: 0.0029161\ttotal: 1m 50s\tremaining: 88.7ms\n",
      "4999:\tlearn: 0.0029131\ttotal: 1m 50s\tremaining: 0us\n",
      "fold Loss 9:  0.14033420406951233\n",
      "---------------------------------------------------------------------------\n",
      "Learning rate set to 0.002361\n",
      "0:\tlearn: 0.6885390\ttotal: 44.3ms\tremaining: 3m 41s\n",
      "999:\tlearn: 0.0337101\ttotal: 22.5s\tremaining: 1m 30s\n",
      "1998:\tlearn: 0.0148060\ttotal: 44.4s\tremaining: 1m 6s\n",
      "2997:\tlearn: 0.0085105\ttotal: 1m 7s\tremaining: 44.8s\n",
      "3996:\tlearn: 0.0053861\ttotal: 1m 29s\tremaining: 22.4s\n"
     ]
    },
    {
     "name": "stderr",
     "output_type": "stream",
     "text": [
      "11it [20:36, 112.01s/it]"
     ]
    },
    {
     "name": "stdout",
     "output_type": "stream",
     "text": [
      "4995:\tlearn: 0.0037542\ttotal: 1m 51s\tremaining: 89.2ms\n",
      "4999:\tlearn: 0.0037491\ttotal: 1m 51s\tremaining: 0us\n",
      "fold Loss 10:  0.026130741075817674\n",
      "---------------------------------------------------------------------------\n",
      "Learning rate set to 0.002361\n",
      "0:\tlearn: 0.6882807\ttotal: 34.8ms\tremaining: 2m 54s\n",
      "999:\tlearn: 0.0320663\ttotal: 22.1s\tremaining: 1m 28s\n",
      "1998:\tlearn: 0.0133373\ttotal: 44.4s\tremaining: 1m 6s\n",
      "2997:\tlearn: 0.0073918\ttotal: 1m 6s\tremaining: 44.2s\n",
      "3996:\tlearn: 0.0045370\ttotal: 1m 28s\tremaining: 22.2s\n"
     ]
    },
    {
     "name": "stderr",
     "output_type": "stream",
     "text": [
      "12it [22:27, 111.80s/it]"
     ]
    },
    {
     "name": "stdout",
     "output_type": "stream",
     "text": [
      "4995:\tlearn: 0.0031322\ttotal: 1m 50s\tremaining: 88.4ms\n",
      "4999:\tlearn: 0.0031279\ttotal: 1m 50s\tremaining: 0us\n",
      "fold Loss 11:  0.14916516537250474\n",
      "---------------------------------------------------------------------------\n",
      "Learning rate set to 0.002361\n",
      "0:\tlearn: 0.6880853\ttotal: 44.8ms\tremaining: 3m 43s\n",
      "999:\tlearn: 0.0333706\ttotal: 22.8s\tremaining: 1m 31s\n",
      "1998:\tlearn: 0.0145894\ttotal: 44.5s\tremaining: 1m 6s\n",
      "2997:\tlearn: 0.0083546\ttotal: 1m 6s\tremaining: 44.6s\n",
      "3996:\tlearn: 0.0052908\ttotal: 1m 28s\tremaining: 22.3s\n"
     ]
    },
    {
     "name": "stderr",
     "output_type": "stream",
     "text": [
      "13it [24:19, 111.82s/it]"
     ]
    },
    {
     "name": "stdout",
     "output_type": "stream",
     "text": [
      "4995:\tlearn: 0.0038023\ttotal: 1m 50s\tremaining: 88.8ms\n",
      "4999:\tlearn: 0.0037997\ttotal: 1m 51s\tremaining: 0us\n",
      "fold Loss 12:  0.015125564398522232\n",
      "---------------------------------------------------------------------------\n",
      "Learning rate set to 0.002361\n",
      "0:\tlearn: 0.6882241\ttotal: 34.6ms\tremaining: 2m 52s\n",
      "999:\tlearn: 0.0352262\ttotal: 22.5s\tremaining: 1m 29s\n",
      "1998:\tlearn: 0.0149649\ttotal: 45.5s\tremaining: 1m 8s\n",
      "2997:\tlearn: 0.0084447\ttotal: 1m 7s\tremaining: 45.1s\n",
      "3996:\tlearn: 0.0052581\ttotal: 1m 30s\tremaining: 22.6s\n"
     ]
    },
    {
     "name": "stderr",
     "output_type": "stream",
     "text": [
      "14it [26:12, 112.31s/it]"
     ]
    },
    {
     "name": "stdout",
     "output_type": "stream",
     "text": [
      "4995:\tlearn: 0.0037335\ttotal: 1m 52s\tremaining: 90ms\n",
      "4999:\tlearn: 0.0037256\ttotal: 1m 52s\tremaining: 0us\n",
      "fold Loss 13:  0.00444724342785541\n",
      "---------------------------------------------------------------------------\n",
      "Learning rate set to 0.002361\n",
      "0:\tlearn: 0.6882952\ttotal: 44.8ms\tremaining: 3m 43s\n",
      "999:\tlearn: 0.0346240\ttotal: 22s\tremaining: 1m 28s\n",
      "1998:\tlearn: 0.0151350\ttotal: 44.1s\tremaining: 1m 6s\n",
      "2997:\tlearn: 0.0087424\ttotal: 1m 6s\tremaining: 44.5s\n",
      "3996:\tlearn: 0.0054633\ttotal: 1m 29s\tremaining: 22.5s\n",
      "4995:\tlearn: 0.0038072\ttotal: 1m 52s\tremaining: 90ms\n",
      "4999:\tlearn: 0.0038020\ttotal: 1m 52s\tremaining: 0us\n",
      "fold Loss 14:  0.0045265096391824845\n"
     ]
    },
    {
     "name": "stderr",
     "output_type": "stream",
     "text": [
      "15it [28:06, 112.63s/it]"
     ]
    },
    {
     "name": "stdout",
     "output_type": "stream",
     "text": [
      "---------------------------------------------------------------------------\n",
      "Learning rate set to 0.002361\n",
      "0:\tlearn: 0.6883632\ttotal: 34.9ms\tremaining: 2m 54s\n",
      "999:\tlearn: 0.0324615\ttotal: 22.4s\tremaining: 1m 29s\n",
      "1998:\tlearn: 0.0138398\ttotal: 44.9s\tremaining: 1m 7s\n",
      "2997:\tlearn: 0.0078675\ttotal: 1m 6s\tremaining: 44.4s\n",
      "3996:\tlearn: 0.0051272\ttotal: 1m 28s\tremaining: 22.3s\n"
     ]
    },
    {
     "name": "stderr",
     "output_type": "stream",
     "text": [
      "16it [29:58, 112.48s/it]"
     ]
    },
    {
     "name": "stdout",
     "output_type": "stream",
     "text": [
      "4995:\tlearn: 0.0034712\ttotal: 1m 51s\tremaining: 89ms\n",
      "4999:\tlearn: 0.0034686\ttotal: 1m 51s\tremaining: 0us\n",
      "fold Loss 15:  0.025211959035825387\n",
      "---------------------------------------------------------------------------\n",
      "Learning rate set to 0.002361\n",
      "0:\tlearn: 0.6883493\ttotal: 44.4ms\tremaining: 3m 41s\n",
      "999:\tlearn: 0.0319698\ttotal: 22.6s\tremaining: 1m 30s\n",
      "1998:\tlearn: 0.0133372\ttotal: 45.1s\tremaining: 1m 7s\n",
      "2997:\tlearn: 0.0075560\ttotal: 1m 7s\tremaining: 45.2s\n",
      "3996:\tlearn: 0.0048445\ttotal: 1m 29s\tremaining: 22.5s\n"
     ]
    },
    {
     "name": "stderr",
     "output_type": "stream",
     "text": [
      "17it [31:50, 112.58s/it]"
     ]
    },
    {
     "name": "stdout",
     "output_type": "stream",
     "text": [
      "4995:\tlearn: 0.0034617\ttotal: 1m 51s\tremaining: 89.5ms\n",
      "4999:\tlearn: 0.0034573\ttotal: 1m 51s\tremaining: 0us\n",
      "fold Loss 16:  0.16007254864411438\n",
      "---------------------------------------------------------------------------\n",
      "Learning rate set to 0.002361\n",
      "0:\tlearn: 0.6885812\ttotal: 35ms\tremaining: 2m 54s\n",
      "999:\tlearn: 0.0328429\ttotal: 22s\tremaining: 1m 28s\n",
      "1998:\tlearn: 0.0140020\ttotal: 44.2s\tremaining: 1m 6s\n",
      "2997:\tlearn: 0.0080374\ttotal: 1m 6s\tremaining: 44.1s\n",
      "3996:\tlearn: 0.0052324\ttotal: 1m 28s\tremaining: 22.1s\n"
     ]
    },
    {
     "name": "stderr",
     "output_type": "stream",
     "text": [
      "18it [33:42, 112.15s/it]"
     ]
    },
    {
     "name": "stdout",
     "output_type": "stream",
     "text": [
      "4995:\tlearn: 0.0039054\ttotal: 1m 50s\tremaining: 88.2ms\n",
      "4999:\tlearn: 0.0039026\ttotal: 1m 50s\tremaining: 0us\n",
      "fold Loss 17:  0.08394958272075288\n",
      "---------------------------------------------------------------------------\n",
      "Learning rate set to 0.002361\n",
      "0:\tlearn: 0.6882109\ttotal: 52.8ms\tremaining: 4m 24s\n",
      "999:\tlearn: 0.0331370\ttotal: 21.9s\tremaining: 1m 27s\n",
      "1998:\tlearn: 0.0137938\ttotal: 44s\tremaining: 1m 6s\n",
      "2997:\tlearn: 0.0078881\ttotal: 1m 6s\tremaining: 44.5s\n",
      "3996:\tlearn: 0.0049440\ttotal: 1m 28s\tremaining: 22.2s\n",
      "4995:\tlearn: 0.0033982\ttotal: 1m 51s\tremaining: 89ms\n",
      "4999:\tlearn: 0.0033922\ttotal: 1m 51s\tremaining: 0us\n",
      "fold Loss 18:  0.0742055933105827\n"
     ]
    },
    {
     "name": "stderr",
     "output_type": "stream",
     "text": [
      "19it [35:34, 112.16s/it]"
     ]
    },
    {
     "name": "stdout",
     "output_type": "stream",
     "text": [
      "---------------------------------------------------------------------------\n",
      "Learning rate set to 0.002362\n",
      "0:\tlearn: 0.6884790\ttotal: 35.9ms\tremaining: 2m 59s\n",
      "999:\tlearn: 0.0302906\ttotal: 22.1s\tremaining: 1m 28s\n",
      "1998:\tlearn: 0.0124227\ttotal: 43.9s\tremaining: 1m 5s\n",
      "2997:\tlearn: 0.0069461\ttotal: 1m 5s\tremaining: 44s\n",
      "3996:\tlearn: 0.0043679\ttotal: 1m 28s\tremaining: 22.1s\n"
     ]
    },
    {
     "name": "stderr",
     "output_type": "stream",
     "text": [
      "20it [37:24, 112.24s/it]"
     ]
    },
    {
     "name": "stdout",
     "output_type": "stream",
     "text": [
      "4995:\tlearn: 0.0031260\ttotal: 1m 49s\tremaining: 87.7ms\n",
      "4999:\tlearn: 0.0031203\ttotal: 1m 49s\tremaining: 0us\n",
      "fold Loss 19:  0.12189915603979418\n",
      "---------------------------------------------------------------------------\n",
      "Training Loss: 0.008957037941635786\n",
      "Loss for sulfide:\n",
      "0.06697304900080507 0.051164679990135783\n",
      "==================================================================================================\n",
      "AGG Loss: [0.13523814 0.09320002 0.1451895  0.18776562 0.00345388 0.13894088\n",
      " 0.19227263 0.16717187 0.15894448 0.06697305]\n",
      "AGG Loss mean: 0.12891500581006143\n"
     ]
    },
    {
     "name": "stderr",
     "output_type": "stream",
     "text": [
      "\n"
     ]
    }
   ],
   "source": [
    "agg_loss = []\n",
    "for target in targets.columns:\n",
    "    print('TARGET ',target)\n",
    "    imp_fts = {}\n",
    "    \n",
    "    #  get all imp coefs for the target\n",
    "    t_100_coefs = get_coefs(t_100,targets[target],1)\n",
    "    g_100_coefs = get_coefs(g_100,targets[target],5)\n",
    "    m_100_coefs = get_coefs(m_100,targets[target],10)\n",
    "    o_100_coefs = get_coefs(train_set_100,targets[target],10)\n",
    "    \n",
    "    imp_fts['o_100_coefs'] = o_100_coefs\n",
    "    imp_fts['t_100_coefs'] = t_100_coefs\n",
    "    imp_fts['g_100_coefs'] = g_100_coefs\n",
    "    imp_fts['m_100_coefs'] = m_100_coefs\n",
    "\n",
    "    # get all imp_dfs and concat them\n",
    "    train_imp_ = train_set_100.iloc[:,o_100_coefs]\n",
    "    t_100_imp_ = t_100.iloc[:,t_100_coefs]\n",
    "    g_100_imp_ = g_100.iloc[:,g_100_coefs]\n",
    "    m_100_imp_ = m_100.iloc[:,m_100_coefs]\n",
    "\n",
    "    print(train_imp_.shape,t_100_imp_.shape,g_100_imp_.shape,m_100_imp_.shape)\n",
    "    X = pd.concat([train_imp_,t_100_imp_,g_100_imp_,m_100_imp_],axis=1)\n",
    "    print(X.shape)\n",
    "\n",
    "    # same goes for test set\n",
    "    test_imp_ = test_set_100.iloc[:,o_100_coefs]\n",
    "    t_100_imp_test = t_100_test.iloc[:,t_100_coefs]\n",
    "    g_100_imp_test = g_100_test.iloc[:,g_100_coefs]\n",
    "    m_100_imp_test = m_100_test.iloc[:,m_100_coefs]\n",
    "\n",
    "    print(test_imp_.shape,t_100_imp_test.shape,g_100_imp_test.shape,m_100_imp_test.shape)\n",
    "    \n",
    "    X_test = pd.concat([test_imp_, t_100_imp_test, g_100_imp_test, m_100_imp_test],axis=1)\n",
    "    print(X_test.shape)\n",
    "    \n",
    "    #  add feature\n",
    "    X['is_sam'] = 0\n",
    "    X.loc[sam_id[:12],'is_sam'] = 1\n",
    "    X_test['is_sam'] = 0\n",
    "    X_test.loc[sam_id[12:],'is_sam'] = 1\n",
    "    \n",
    "    \n",
    "    assert (X.columns == X_test.columns).all()\n",
    "\n",
    "    oof_train = np.zeros((ntrain,))\n",
    "    oof_test = np.zeros((ntest,))\n",
    "    oof_test_skf = np.empty((NFOLDS, ntest))\n",
    "    \n",
    "    Y = targets[target]\n",
    "\n",
    "    cb_clf = CatBoostClassifier(verbose=999,random_seed=RANDOM_SEED,n_estimators=5000)\n",
    "    cv_loss = []\n",
    "    for fold, (train_id, test_id) in enumerate(tqdm(skf.split(X,Y))):\n",
    "\n",
    "        X_train, Y_train = X.iloc[train_id,], Y.iloc[train_id,]\n",
    "        X_val, Y_val = X.iloc[test_id,], Y.iloc[test_id,]\n",
    "        #  ohh man unwanted semi colon in iloc throws an error...\n",
    "        \n",
    "        # train model  and pred on oof folds\n",
    "        cb_clf.fit(X_train.values,Y_train)\n",
    "        y_preds = cb_clf.predict_proba(X_val.values)[:,1]\n",
    "        fold_loss = log_loss(Y_val,y_preds)\n",
    "        print(f'fold Loss {fold}: ',fold_loss)\n",
    "        cv_loss.append(fold_loss)\n",
    "\n",
    "        oof_train[test_id] = y_preds\n",
    "        oof_test_skf[fold,:] = cb_clf.predict_proba(X_test.values)[:,1]\n",
    "        \n",
    "        print(\"---------------------------------------------------------------------------\")\n",
    "        \n",
    "    print('Training Loss:', log_loss(Y,cb_clf.predict_proba(X.values)[:,1]))\n",
    "    \n",
    "    oof_test[:] = oof_test_skf.mean(axis=0)\n",
    "    oof_test_df[target] = oof_test\n",
    "    oof_train_df[target] = oof_train\n",
    "\n",
    "    print(f'Loss for {target}:')\n",
    "    print(np.array(cv_loss).mean(),np.array(cv_loss).std())\n",
    "    agg_loss.append(np.array(cv_loss).mean())\n",
    "    print(\"==================================================================================================\")\n",
    "\n",
    "print('AGG Loss:',np.array(agg_loss))\n",
    "print('AGG Loss mean:',np.array(agg_loss).mean())"
   ]
  },
  {
   "cell_type": "code",
   "execution_count": 29,
   "id": "fafb8afa",
   "metadata": {
    "execution": {
     "iopub.execute_input": "2022-04-18T04:45:24.444704Z",
     "iopub.status.busy": "2022-04-18T04:45:24.443971Z",
     "iopub.status.idle": "2022-04-18T04:45:24.448287Z",
     "shell.execute_reply": "2022-04-18T04:45:24.448767Z",
     "shell.execute_reply.started": "2022-04-10T12:42:32.882106Z"
    },
    "papermill": {
     "duration": 0.667408,
     "end_time": "2022-04-18T04:45:24.448945",
     "exception": false,
     "start_time": "2022-04-18T04:45:23.781537",
     "status": "completed"
    },
    "tags": []
   },
   "outputs": [
    {
     "name": "stdout",
     "output_type": "stream",
     "text": [
      "0.12891500581006143\n"
     ]
    }
   ],
   "source": [
    "print(np.array(agg_loss).mean())"
   ]
  },
  {
   "cell_type": "code",
   "execution_count": 30,
   "id": "2ef5b4e6",
   "metadata": {
    "execution": {
     "iopub.execute_input": "2022-04-18T04:45:25.767938Z",
     "iopub.status.busy": "2022-04-18T04:45:25.767089Z",
     "iopub.status.idle": "2022-04-18T04:45:25.770153Z",
     "shell.execute_reply": "2022-04-18T04:45:25.769601Z",
     "shell.execute_reply.started": "2022-04-10T12:53:38.204095Z"
    },
    "papermill": {
     "duration": 0.662395,
     "end_time": "2022-04-18T04:45:25.770327",
     "exception": false,
     "start_time": "2022-04-18T04:45:25.107932",
     "status": "completed"
    },
    "tags": []
   },
   "outputs": [],
   "source": [
    "test_preds = oof_test_df.iloc[:293]\n",
    "train_preds = oof_train_df.iloc[766:]"
   ]
  },
  {
   "cell_type": "code",
   "execution_count": 31,
   "id": "2aaa98c2",
   "metadata": {
    "execution": {
     "iopub.execute_input": "2022-04-18T04:45:27.162707Z",
     "iopub.status.busy": "2022-04-18T04:45:27.161926Z",
     "iopub.status.idle": "2022-04-18T04:45:27.206750Z",
     "shell.execute_reply": "2022-04-18T04:45:27.206012Z",
     "shell.execute_reply.started": "2022-04-10T12:53:39.859435Z"
    },
    "papermill": {
     "duration": 0.763155,
     "end_time": "2022-04-18T04:45:27.206907",
     "exception": false,
     "start_time": "2022-04-18T04:45:26.443752",
     "status": "completed"
    },
    "tags": []
   },
   "outputs": [
    {
     "data": {
      "text/html": [
       "<div>\n",
       "<style scoped>\n",
       "    .dataframe tbody tr th:only-of-type {\n",
       "        vertical-align: middle;\n",
       "    }\n",
       "\n",
       "    .dataframe tbody tr th {\n",
       "        vertical-align: top;\n",
       "    }\n",
       "\n",
       "    .dataframe thead th {\n",
       "        text-align: right;\n",
       "    }\n",
       "</style>\n",
       "<table border=\"1\" class=\"dataframe\">\n",
       "  <thead>\n",
       "    <tr style=\"text-align: right;\">\n",
       "      <th></th>\n",
       "      <th>sample_id</th>\n",
       "      <th>basalt</th>\n",
       "      <th>carbonate</th>\n",
       "      <th>chloride</th>\n",
       "      <th>iron_oxide</th>\n",
       "      <th>oxalate</th>\n",
       "      <th>oxychlorine</th>\n",
       "      <th>phyllosilicate</th>\n",
       "      <th>silicate</th>\n",
       "      <th>sulfate</th>\n",
       "      <th>sulfide</th>\n",
       "    </tr>\n",
       "  </thead>\n",
       "  <tbody>\n",
       "    <tr>\n",
       "      <th>766</th>\n",
       "      <td>NaN</td>\n",
       "      <td>0.004920</td>\n",
       "      <td>0.002571</td>\n",
       "      <td>0.010413</td>\n",
       "      <td>0.012862</td>\n",
       "      <td>0.000117</td>\n",
       "      <td>0.007314</td>\n",
       "      <td>0.008934</td>\n",
       "      <td>0.075656</td>\n",
       "      <td>0.004939</td>\n",
       "      <td>0.000899</td>\n",
       "    </tr>\n",
       "    <tr>\n",
       "      <th>767</th>\n",
       "      <td>NaN</td>\n",
       "      <td>0.029149</td>\n",
       "      <td>0.010581</td>\n",
       "      <td>0.002818</td>\n",
       "      <td>0.024433</td>\n",
       "      <td>0.000032</td>\n",
       "      <td>0.012178</td>\n",
       "      <td>0.009938</td>\n",
       "      <td>0.086139</td>\n",
       "      <td>0.024871</td>\n",
       "      <td>0.000440</td>\n",
       "    </tr>\n",
       "    <tr>\n",
       "      <th>768</th>\n",
       "      <td>NaN</td>\n",
       "      <td>0.864638</td>\n",
       "      <td>0.095192</td>\n",
       "      <td>0.001638</td>\n",
       "      <td>0.028180</td>\n",
       "      <td>0.000122</td>\n",
       "      <td>0.009072</td>\n",
       "      <td>0.803618</td>\n",
       "      <td>0.853868</td>\n",
       "      <td>0.027590</td>\n",
       "      <td>0.000679</td>\n",
       "    </tr>\n",
       "    <tr>\n",
       "      <th>769</th>\n",
       "      <td>NaN</td>\n",
       "      <td>0.009222</td>\n",
       "      <td>0.006101</td>\n",
       "      <td>0.040915</td>\n",
       "      <td>0.024280</td>\n",
       "      <td>0.000054</td>\n",
       "      <td>0.947334</td>\n",
       "      <td>0.036886</td>\n",
       "      <td>0.009516</td>\n",
       "      <td>0.972832</td>\n",
       "      <td>0.000486</td>\n",
       "    </tr>\n",
       "    <tr>\n",
       "      <th>770</th>\n",
       "      <td>NaN</td>\n",
       "      <td>0.007906</td>\n",
       "      <td>0.004947</td>\n",
       "      <td>0.018391</td>\n",
       "      <td>0.773493</td>\n",
       "      <td>0.000040</td>\n",
       "      <td>0.992211</td>\n",
       "      <td>0.932514</td>\n",
       "      <td>0.004738</td>\n",
       "      <td>0.008075</td>\n",
       "      <td>0.000250</td>\n",
       "    </tr>\n",
       "    <tr>\n",
       "      <th>...</th>\n",
       "      <td>...</td>\n",
       "      <td>...</td>\n",
       "      <td>...</td>\n",
       "      <td>...</td>\n",
       "      <td>...</td>\n",
       "      <td>...</td>\n",
       "      <td>...</td>\n",
       "      <td>...</td>\n",
       "      <td>...</td>\n",
       "      <td>...</td>\n",
       "      <td>...</td>\n",
       "    </tr>\n",
       "    <tr>\n",
       "      <th>1054</th>\n",
       "      <td>NaN</td>\n",
       "      <td>0.005651</td>\n",
       "      <td>0.002511</td>\n",
       "      <td>0.031462</td>\n",
       "      <td>0.008105</td>\n",
       "      <td>0.000059</td>\n",
       "      <td>0.005049</td>\n",
       "      <td>0.011490</td>\n",
       "      <td>0.066107</td>\n",
       "      <td>0.011144</td>\n",
       "      <td>0.000468</td>\n",
       "    </tr>\n",
       "    <tr>\n",
       "      <th>1055</th>\n",
       "      <td>NaN</td>\n",
       "      <td>0.009371</td>\n",
       "      <td>0.006297</td>\n",
       "      <td>0.011407</td>\n",
       "      <td>0.034309</td>\n",
       "      <td>0.000333</td>\n",
       "      <td>0.011191</td>\n",
       "      <td>0.011377</td>\n",
       "      <td>0.901242</td>\n",
       "      <td>0.004724</td>\n",
       "      <td>0.000667</td>\n",
       "    </tr>\n",
       "    <tr>\n",
       "      <th>1056</th>\n",
       "      <td>NaN</td>\n",
       "      <td>0.003321</td>\n",
       "      <td>0.006934</td>\n",
       "      <td>0.003141</td>\n",
       "      <td>0.011838</td>\n",
       "      <td>0.998765</td>\n",
       "      <td>0.001932</td>\n",
       "      <td>0.005337</td>\n",
       "      <td>0.002906</td>\n",
       "      <td>0.005435</td>\n",
       "      <td>0.000776</td>\n",
       "    </tr>\n",
       "    <tr>\n",
       "      <th>1057</th>\n",
       "      <td>NaN</td>\n",
       "      <td>0.007976</td>\n",
       "      <td>0.926821</td>\n",
       "      <td>0.012720</td>\n",
       "      <td>0.053598</td>\n",
       "      <td>0.000143</td>\n",
       "      <td>0.006770</td>\n",
       "      <td>0.031534</td>\n",
       "      <td>0.011801</td>\n",
       "      <td>0.009296</td>\n",
       "      <td>0.000764</td>\n",
       "    </tr>\n",
       "    <tr>\n",
       "      <th>1058</th>\n",
       "      <td>NaN</td>\n",
       "      <td>0.008925</td>\n",
       "      <td>0.002637</td>\n",
       "      <td>0.007622</td>\n",
       "      <td>0.013250</td>\n",
       "      <td>0.000031</td>\n",
       "      <td>0.006477</td>\n",
       "      <td>0.966114</td>\n",
       "      <td>0.007814</td>\n",
       "      <td>0.003744</td>\n",
       "      <td>0.000338</td>\n",
       "    </tr>\n",
       "  </tbody>\n",
       "</table>\n",
       "<p>293 rows × 11 columns</p>\n",
       "</div>"
      ],
      "text/plain": [
       "     sample_id    basalt  carbonate  chloride  iron_oxide   oxalate  \\\n",
       "766        NaN  0.004920   0.002571  0.010413    0.012862  0.000117   \n",
       "767        NaN  0.029149   0.010581  0.002818    0.024433  0.000032   \n",
       "768        NaN  0.864638   0.095192  0.001638    0.028180  0.000122   \n",
       "769        NaN  0.009222   0.006101  0.040915    0.024280  0.000054   \n",
       "770        NaN  0.007906   0.004947  0.018391    0.773493  0.000040   \n",
       "...        ...       ...        ...       ...         ...       ...   \n",
       "1054       NaN  0.005651   0.002511  0.031462    0.008105  0.000059   \n",
       "1055       NaN  0.009371   0.006297  0.011407    0.034309  0.000333   \n",
       "1056       NaN  0.003321   0.006934  0.003141    0.011838  0.998765   \n",
       "1057       NaN  0.007976   0.926821  0.012720    0.053598  0.000143   \n",
       "1058       NaN  0.008925   0.002637  0.007622    0.013250  0.000031   \n",
       "\n",
       "      oxychlorine  phyllosilicate  silicate   sulfate   sulfide  \n",
       "766      0.007314        0.008934  0.075656  0.004939  0.000899  \n",
       "767      0.012178        0.009938  0.086139  0.024871  0.000440  \n",
       "768      0.009072        0.803618  0.853868  0.027590  0.000679  \n",
       "769      0.947334        0.036886  0.009516  0.972832  0.000486  \n",
       "770      0.992211        0.932514  0.004738  0.008075  0.000250  \n",
       "...           ...             ...       ...       ...       ...  \n",
       "1054     0.005049        0.011490  0.066107  0.011144  0.000468  \n",
       "1055     0.011191        0.011377  0.901242  0.004724  0.000667  \n",
       "1056     0.001932        0.005337  0.002906  0.005435  0.000776  \n",
       "1057     0.006770        0.031534  0.011801  0.009296  0.000764  \n",
       "1058     0.006477        0.966114  0.007814  0.003744  0.000338  \n",
       "\n",
       "[293 rows x 11 columns]"
      ]
     },
     "metadata": {},
     "output_type": "display_data"
    },
    {
     "data": {
      "text/html": [
       "<div>\n",
       "<style scoped>\n",
       "    .dataframe tbody tr th:only-of-type {\n",
       "        vertical-align: middle;\n",
       "    }\n",
       "\n",
       "    .dataframe tbody tr th {\n",
       "        vertical-align: top;\n",
       "    }\n",
       "\n",
       "    .dataframe thead th {\n",
       "        text-align: right;\n",
       "    }\n",
       "</style>\n",
       "<table border=\"1\" class=\"dataframe\">\n",
       "  <thead>\n",
       "    <tr style=\"text-align: right;\">\n",
       "      <th></th>\n",
       "      <th>sample_id</th>\n",
       "      <th>basalt</th>\n",
       "      <th>carbonate</th>\n",
       "      <th>chloride</th>\n",
       "      <th>iron_oxide</th>\n",
       "      <th>oxalate</th>\n",
       "      <th>oxychlorine</th>\n",
       "      <th>phyllosilicate</th>\n",
       "      <th>silicate</th>\n",
       "      <th>sulfate</th>\n",
       "      <th>sulfide</th>\n",
       "    </tr>\n",
       "  </thead>\n",
       "  <tbody>\n",
       "    <tr>\n",
       "      <th>766</th>\n",
       "      <td>NaN</td>\n",
       "      <td>0.005163</td>\n",
       "      <td>0.002943</td>\n",
       "      <td>0.014436</td>\n",
       "      <td>0.017151</td>\n",
       "      <td>0.000123</td>\n",
       "      <td>0.008024</td>\n",
       "      <td>0.010461</td>\n",
       "      <td>0.287760</td>\n",
       "      <td>0.005197</td>\n",
       "      <td>0.001178</td>\n",
       "    </tr>\n",
       "    <tr>\n",
       "      <th>767</th>\n",
       "      <td>NaN</td>\n",
       "      <td>0.063424</td>\n",
       "      <td>0.005208</td>\n",
       "      <td>0.003448</td>\n",
       "      <td>0.045682</td>\n",
       "      <td>0.000029</td>\n",
       "      <td>0.037232</td>\n",
       "      <td>0.022854</td>\n",
       "      <td>0.374969</td>\n",
       "      <td>0.067271</td>\n",
       "      <td>0.000404</td>\n",
       "    </tr>\n",
       "    <tr>\n",
       "      <th>768</th>\n",
       "      <td>NaN</td>\n",
       "      <td>0.558726</td>\n",
       "      <td>0.673489</td>\n",
       "      <td>0.001816</td>\n",
       "      <td>0.056479</td>\n",
       "      <td>0.000164</td>\n",
       "      <td>0.010226</td>\n",
       "      <td>0.395195</td>\n",
       "      <td>0.456120</td>\n",
       "      <td>0.080964</td>\n",
       "      <td>0.000616</td>\n",
       "    </tr>\n",
       "    <tr>\n",
       "      <th>769</th>\n",
       "      <td>NaN</td>\n",
       "      <td>0.019506</td>\n",
       "      <td>0.008379</td>\n",
       "      <td>0.127465</td>\n",
       "      <td>0.027055</td>\n",
       "      <td>0.000057</td>\n",
       "      <td>0.831829</td>\n",
       "      <td>0.069445</td>\n",
       "      <td>0.009443</td>\n",
       "      <td>0.958582</td>\n",
       "      <td>0.000585</td>\n",
       "    </tr>\n",
       "    <tr>\n",
       "      <th>770</th>\n",
       "      <td>NaN</td>\n",
       "      <td>0.006901</td>\n",
       "      <td>0.006396</td>\n",
       "      <td>0.021684</td>\n",
       "      <td>0.380723</td>\n",
       "      <td>0.000043</td>\n",
       "      <td>0.992322</td>\n",
       "      <td>0.872331</td>\n",
       "      <td>0.005558</td>\n",
       "      <td>0.008566</td>\n",
       "      <td>0.000295</td>\n",
       "    </tr>\n",
       "    <tr>\n",
       "      <th>...</th>\n",
       "      <td>...</td>\n",
       "      <td>...</td>\n",
       "      <td>...</td>\n",
       "      <td>...</td>\n",
       "      <td>...</td>\n",
       "      <td>...</td>\n",
       "      <td>...</td>\n",
       "      <td>...</td>\n",
       "      <td>...</td>\n",
       "      <td>...</td>\n",
       "      <td>...</td>\n",
       "    </tr>\n",
       "    <tr>\n",
       "      <th>1054</th>\n",
       "      <td>NaN</td>\n",
       "      <td>0.008321</td>\n",
       "      <td>0.001495</td>\n",
       "      <td>0.030932</td>\n",
       "      <td>0.008376</td>\n",
       "      <td>0.000067</td>\n",
       "      <td>0.005874</td>\n",
       "      <td>0.017698</td>\n",
       "      <td>0.225176</td>\n",
       "      <td>0.014890</td>\n",
       "      <td>0.000426</td>\n",
       "    </tr>\n",
       "    <tr>\n",
       "      <th>1055</th>\n",
       "      <td>NaN</td>\n",
       "      <td>0.012861</td>\n",
       "      <td>0.007107</td>\n",
       "      <td>0.010807</td>\n",
       "      <td>0.056974</td>\n",
       "      <td>0.000293</td>\n",
       "      <td>0.014752</td>\n",
       "      <td>0.016776</td>\n",
       "      <td>0.458400</td>\n",
       "      <td>0.005234</td>\n",
       "      <td>0.000655</td>\n",
       "    </tr>\n",
       "    <tr>\n",
       "      <th>1056</th>\n",
       "      <td>NaN</td>\n",
       "      <td>0.003629</td>\n",
       "      <td>0.007813</td>\n",
       "      <td>0.003831</td>\n",
       "      <td>0.012210</td>\n",
       "      <td>0.998525</td>\n",
       "      <td>0.002380</td>\n",
       "      <td>0.004780</td>\n",
       "      <td>0.003441</td>\n",
       "      <td>0.007202</td>\n",
       "      <td>0.000730</td>\n",
       "    </tr>\n",
       "    <tr>\n",
       "      <th>1057</th>\n",
       "      <td>NaN</td>\n",
       "      <td>0.010630</td>\n",
       "      <td>0.849320</td>\n",
       "      <td>0.013723</td>\n",
       "      <td>0.090311</td>\n",
       "      <td>0.000133</td>\n",
       "      <td>0.012906</td>\n",
       "      <td>0.050086</td>\n",
       "      <td>0.015510</td>\n",
       "      <td>0.011215</td>\n",
       "      <td>0.000736</td>\n",
       "    </tr>\n",
       "    <tr>\n",
       "      <th>1058</th>\n",
       "      <td>NaN</td>\n",
       "      <td>0.010783</td>\n",
       "      <td>0.002542</td>\n",
       "      <td>0.009414</td>\n",
       "      <td>0.013957</td>\n",
       "      <td>0.000029</td>\n",
       "      <td>0.006449</td>\n",
       "      <td>0.948470</td>\n",
       "      <td>0.008578</td>\n",
       "      <td>0.004419</td>\n",
       "      <td>0.000333</td>\n",
       "    </tr>\n",
       "  </tbody>\n",
       "</table>\n",
       "<p>293 rows × 11 columns</p>\n",
       "</div>"
      ],
      "text/plain": [
       "     sample_id    basalt  carbonate  chloride  iron_oxide   oxalate  \\\n",
       "766        NaN  0.005163   0.002943  0.014436    0.017151  0.000123   \n",
       "767        NaN  0.063424   0.005208  0.003448    0.045682  0.000029   \n",
       "768        NaN  0.558726   0.673489  0.001816    0.056479  0.000164   \n",
       "769        NaN  0.019506   0.008379  0.127465    0.027055  0.000057   \n",
       "770        NaN  0.006901   0.006396  0.021684    0.380723  0.000043   \n",
       "...        ...       ...        ...       ...         ...       ...   \n",
       "1054       NaN  0.008321   0.001495  0.030932    0.008376  0.000067   \n",
       "1055       NaN  0.012861   0.007107  0.010807    0.056974  0.000293   \n",
       "1056       NaN  0.003629   0.007813  0.003831    0.012210  0.998525   \n",
       "1057       NaN  0.010630   0.849320  0.013723    0.090311  0.000133   \n",
       "1058       NaN  0.010783   0.002542  0.009414    0.013957  0.000029   \n",
       "\n",
       "      oxychlorine  phyllosilicate  silicate   sulfate   sulfide  \n",
       "766      0.008024        0.010461  0.287760  0.005197  0.001178  \n",
       "767      0.037232        0.022854  0.374969  0.067271  0.000404  \n",
       "768      0.010226        0.395195  0.456120  0.080964  0.000616  \n",
       "769      0.831829        0.069445  0.009443  0.958582  0.000585  \n",
       "770      0.992322        0.872331  0.005558  0.008566  0.000295  \n",
       "...           ...             ...       ...       ...       ...  \n",
       "1054     0.005874        0.017698  0.225176  0.014890  0.000426  \n",
       "1055     0.014752        0.016776  0.458400  0.005234  0.000655  \n",
       "1056     0.002380        0.004780  0.003441  0.007202  0.000730  \n",
       "1057     0.012906        0.050086  0.015510  0.011215  0.000736  \n",
       "1058     0.006449        0.948470  0.008578  0.004419  0.000333  \n",
       "\n",
       "[293 rows x 11 columns]"
      ]
     },
     "metadata": {},
     "output_type": "display_data"
    }
   ],
   "source": [
    "display(test_preds)\n",
    "display(train_preds)"
   ]
  },
  {
   "cell_type": "code",
   "execution_count": 32,
   "id": "22ccc4a6",
   "metadata": {
    "execution": {
     "iopub.execute_input": "2022-04-18T04:45:28.543841Z",
     "iopub.status.busy": "2022-04-18T04:45:28.541342Z",
     "iopub.status.idle": "2022-04-18T04:45:28.564134Z",
     "shell.execute_reply": "2022-04-18T04:45:28.564626Z",
     "shell.execute_reply.started": "2022-04-10T12:54:19.41027Z"
    },
    "papermill": {
     "duration": 0.690464,
     "end_time": "2022-04-18T04:45:28.564800",
     "exception": false,
     "start_time": "2022-04-18T04:45:27.874336",
     "status": "completed"
    },
    "tags": []
   },
   "outputs": [
    {
     "name": "stdout",
     "output_type": "stream",
     "text": [
      "basalt 0.13569630721695858\n",
      "carbonate 0.08448268657585337\n",
      "chloride 0.1542354673731409\n",
      "iron_oxide 0.24205443372939314\n",
      "oxalate 0.0009891664319531459\n",
      "oxychlorine 0.1287295740075028\n",
      "phyllosilicate 0.171787905903117\n",
      "silicate 0.14657444138269937\n",
      "sulfate 0.18344141847233975\n",
      "sulfide 0.06871408527070473\n",
      "0.13167054863636624\n"
     ]
    }
   ],
   "source": [
    "agg_loss_train = []\n",
    "for tar in targets.columns:\n",
    "    loss = log_loss(val_labels[tar],train_preds[tar])\n",
    "    print(tar, loss)\n",
    "    agg_loss_train.append(loss)\n",
    "print(np.array(agg_loss_train).mean())"
   ]
  },
  {
   "cell_type": "code",
   "execution_count": 33,
   "id": "7efec72a",
   "metadata": {
    "execution": {
     "iopub.execute_input": "2022-04-18T04:45:29.908383Z",
     "iopub.status.busy": "2022-04-18T04:45:29.906538Z",
     "iopub.status.idle": "2022-04-18T04:45:29.929793Z",
     "shell.execute_reply": "2022-04-18T04:45:29.930325Z",
     "shell.execute_reply.started": "2022-04-10T12:55:27.164665Z"
    },
    "papermill": {
     "duration": 0.690245,
     "end_time": "2022-04-18T04:45:29.930614",
     "exception": false,
     "start_time": "2022-04-18T04:45:29.240369",
     "status": "completed"
    },
    "tags": []
   },
   "outputs": [
    {
     "name": "stdout",
     "output_type": "stream",
     "text": [
      "basalt 0.026584023721495584\n",
      "carbonate 0.015247477307117297\n",
      "chloride 0.0326664523366399\n",
      "iron_oxide 0.05639170676640333\n",
      "oxalate 0.00036401475028529913\n",
      "oxychlorine 0.023879557563627973\n",
      "phyllosilicate 0.04544378836400112\n",
      "silicate 0.03319567960095909\n",
      "sulfate 0.029122409542294253\n",
      "sulfide 0.0048059433600600165\n",
      "0.026770105331288385\n"
     ]
    }
   ],
   "source": [
    "agg_loss_test = []\n",
    "for tar in targets.columns:\n",
    "    loss = log_loss(val_labels[tar],test_preds[tar])\n",
    "    print(tar, loss)\n",
    "    agg_loss_test.append(loss)\n",
    "print(np.array(agg_loss_test).mean())"
   ]
  },
  {
   "cell_type": "code",
   "execution_count": 34,
   "id": "2825c954",
   "metadata": {
    "execution": {
     "iopub.execute_input": "2022-04-18T04:45:31.264801Z",
     "iopub.status.busy": "2022-04-18T04:45:31.263613Z",
     "iopub.status.idle": "2022-04-18T04:45:31.268042Z",
     "shell.execute_reply": "2022-04-18T04:45:31.267524Z",
     "shell.execute_reply.started": "2022-04-10T12:55:36.984829Z"
    },
    "papermill": {
     "duration": 0.675538,
     "end_time": "2022-04-18T04:45:31.268208",
     "exception": false,
     "start_time": "2022-04-18T04:45:30.592670",
     "status": "completed"
    },
    "tags": []
   },
   "outputs": [],
   "source": [
    "oof_test_df.sample_id = metadata[metadata.split != 'train'].sample_id\n",
    "oof_train_df.sample_id = metadata[metadata.split != 'test'].sample_id"
   ]
  },
  {
   "cell_type": "code",
   "execution_count": 35,
   "id": "d17b046e",
   "metadata": {
    "execution": {
     "iopub.execute_input": "2022-04-18T04:45:32.628369Z",
     "iopub.status.busy": "2022-04-18T04:45:32.627684Z",
     "iopub.status.idle": "2022-04-18T04:45:32.680018Z",
     "shell.execute_reply": "2022-04-18T04:45:32.679318Z",
     "shell.execute_reply.started": "2022-04-10T12:55:53.300665Z"
    },
    "papermill": {
     "duration": 0.739579,
     "end_time": "2022-04-18T04:45:32.680199",
     "exception": false,
     "start_time": "2022-04-18T04:45:31.940620",
     "status": "completed"
    },
    "tags": []
   },
   "outputs": [],
   "source": [
    "oof_train_df.to_csv('oof_train_50_20fold_5kest.csv', index=False)\n",
    "oof_test_df.to_csv('oof_test_50_20fold_5kest.csv', index=False)"
   ]
  },
  {
   "cell_type": "code",
   "execution_count": null,
   "id": "45161f31",
   "metadata": {
    "papermill": {
     "duration": 0.681536,
     "end_time": "2022-04-18T04:45:34.029628",
     "exception": false,
     "start_time": "2022-04-18T04:45:33.348092",
     "status": "completed"
    },
    "tags": []
   },
   "outputs": [],
   "source": []
  }
 ],
 "metadata": {
  "kernelspec": {
   "display_name": "Python 3",
   "language": "python",
   "name": "python3"
  },
  "language_info": {
   "codemirror_mode": {
    "name": "ipython",
    "version": 3
   },
   "file_extension": ".py",
   "mimetype": "text/x-python",
   "name": "python",
   "nbconvert_exporter": "python",
   "pygments_lexer": "ipython3",
   "version": "3.7.12"
  },
  "papermill": {
   "default_parameters": {},
   "duration": 29802.258384,
   "end_time": "2022-04-18T04:45:35.968868",
   "environment_variables": {},
   "exception": null,
   "input_path": "__notebook__.ipynb",
   "output_path": "__notebook__.ipynb",
   "parameters": {},
   "start_time": "2022-04-17T20:28:53.710484",
   "version": "2.3.3"
  }
 },
 "nbformat": 4,
 "nbformat_minor": 5
}
