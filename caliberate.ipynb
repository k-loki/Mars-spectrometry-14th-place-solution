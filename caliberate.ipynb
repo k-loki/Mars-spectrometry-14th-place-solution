{
 "cells": [
  {
   "cell_type": "code",
   "execution_count": 1,
   "metadata": {},
   "outputs": [],
   "source": [
    "import pandas as pd\n",
    "import numpy as np\n",
    "import matplotlib.pyplot as plt\n",
    "import seaborn as sns\n",
    "import os\n",
    "import random\n",
    "from joblib import dump,load\n",
    "from scipy.special import expit\n",
    "from scipy.special import xlogy\n",
    "from scipy.optimize import fmin_bfgs\n",
    "from math import log\n",
    "\n",
    "from sklearn.utils.validation import indexable\n",
    "from sklearn.metrics import log_loss, make_scorer\n",
    "from sklearn.isotonic import IsotonicRegression\n",
    "from sklearn.base import RegressorMixin, BaseEstimator\n",
    "from sklearn.model_selection import cross_val_score, StratifiedKFold, RepeatedStratifiedKFold, cross_val_predict\n",
    "from sklearn.calibration import column_or_1d, calibration_curve\n",
    "from sklearn.linear_model import LogisticRegression, LinearRegression\n",
    "from sklearn.ensemble import RandomForestClassifier, RandomForestRegressor\n",
    "from sklearn.neighbors import RadiusNeighborsClassifier, RadiusNeighborsRegressor, KNeighborsClassifier, KNeighborsRegressor\n",
    "from sklearn.svm import SVC, SVR, LinearSVC, LinearSVR\n",
    "\n",
    "from catboost import CatBoostClassifier, CatBoostRegressor\n",
    "\n",
    "RANDOM_SEED = 777\n",
    "np.random.seed(RANDOM_SEED)\n",
    "random.seed(RANDOM_SEED)\n",
    "os.environ['PYTHONHASHSEED'] = str(RANDOM_SEED)\n",
    "    \n",
    "import warnings\n",
    "warnings.filterwarnings(\n",
    "    action='ignore',\n",
    ")"
   ]
  },
  {
   "cell_type": "code",
   "execution_count": 3,
   "metadata": {},
   "outputs": [],
   "source": [
    "\n",
    "class _SigmoidCalibration(RegressorMixin, BaseEstimator):\n",
    "    \"\"\"Sigmoid regression model.\n",
    "    Attributes\n",
    "    ----------\n",
    "    a_ : float\n",
    "        The slope.\n",
    "    b_ : float\n",
    "        The intercept.\n",
    "    \"\"\"\n",
    "\n",
    "    def fit(self, X, y, sample_weight=None):\n",
    "        \"\"\"Fit the model using X, y as training data.\n",
    "        Parameters\n",
    "        ----------\n",
    "        X : array-like of shape (n_samples,)\n",
    "            Training data.\n",
    "        y : array-like of shape (n_samples,)\n",
    "            Training target.\n",
    "        sample_weight : array-like of shape (n_samples,), default=None\n",
    "            Sample weights. If None, then samples are equally weighted.\n",
    "        Returns\n",
    "        -------\n",
    "        self : object\n",
    "            Returns an instance of self.\n",
    "        \"\"\"\n",
    "        X = column_or_1d(X)\n",
    "        y = column_or_1d(y)\n",
    "        X, y = indexable(X, y)\n",
    "\n",
    "        self.a_, self.b_ = _sigmoid_calibration(X, y, sample_weight)\n",
    "        return self\n",
    "\n",
    "    def predict(self, T):\n",
    "        \"\"\"Predict new data by linear interpolation.\n",
    "        Parameters\n",
    "        ----------\n",
    "        T : array-like of shape (n_samples,)\n",
    "            Data to predict from.\n",
    "        Returns\n",
    "        -------\n",
    "        T_ : ndarray of shape (n_samples,)\n",
    "            The predicted data.\n",
    "        \"\"\"\n",
    "        # T = column_or_1d(T)\n",
    "        return expit(-(self.a_ * T + self.b_))\n",
    "\n",
    "\n",
    "def _sigmoid_calibration(predictions, y, sample_weight=None):\n",
    "    \"\"\"Probability Calibration with sigmoid method (Platt 2000)\n",
    "    Parameters\n",
    "    ----------\n",
    "    predictions : ndarray of shape (n_samples,)\n",
    "        The decision function or predict proba for the samples.\n",
    "    y : ndarray of shape (n_samples,)\n",
    "        The targets.\n",
    "    sample_weight : array-like of shape (n_samples,), default=None\n",
    "        Sample weights. If None, then samples are equally weighted.\n",
    "    Returns\n",
    "    -------\n",
    "    a : float\n",
    "        The slope.\n",
    "    b : float\n",
    "        The intercept.\n",
    "    References\n",
    "    ----------\n",
    "    Platt, \"Probabilistic Outputs for Support Vector Machines\"\n",
    "    \"\"\"\n",
    "    # predictions = column_or_1d(predictions)\n",
    "    # y = column_or_1d(y)\n",
    "\n",
    "    F = predictions  # F follows Platt's notations\n",
    "\n",
    "    # Bayesian priors (see Platt end of section 2.2):\n",
    "    # It corresponds to the number of samples, taking into account the\n",
    "    # `sample_weight`.\n",
    "    mask_negative_samples = y <= 0\n",
    "    if sample_weight is not None:\n",
    "        prior0 = (sample_weight[mask_negative_samples]).sum()\n",
    "        prior1 = (sample_weight[~mask_negative_samples]).sum()\n",
    "    else:\n",
    "        prior0 = float(np.sum(mask_negative_samples))\n",
    "        prior1 = y.shape[0] - prior0\n",
    "    T = np.zeros_like(y, dtype=np.float64)\n",
    "    T[y > 0] = (prior1 + 1.0) / (prior1 + 2.0)\n",
    "    T[y <= 0] = 1.0 / (prior0 + 2.0)\n",
    "    T1 = 1.0 - T\n",
    "\n",
    "    def objective(AB):\n",
    "        # From Platt (beginning of Section 2.2)\n",
    "        P = expit(-(AB[0] * F + AB[1]))\n",
    "        loss = -(xlogy(T, P) + xlogy(T1, 1.0 - P))\n",
    "        if sample_weight is not None:\n",
    "            return (sample_weight * loss).sum()\n",
    "        else:\n",
    "            return loss.sum()\n",
    "\n",
    "    def grad(AB):\n",
    "        # gradient of the objective function\n",
    "        P = expit(-(AB[0] * F + AB[1]))\n",
    "        TEP_minus_T1P = T - P\n",
    "        if sample_weight is not None:\n",
    "            TEP_minus_T1P *= sample_weight\n",
    "        dA = np.dot(TEP_minus_T1P, F)\n",
    "        dB = np.sum(TEP_minus_T1P)\n",
    "        return np.array([dA, dB])\n",
    "\n",
    "    AB0 = np.array([0.0, log((prior0 + 1.0) / (prior1 + 1.0))])\n",
    "    AB_ = fmin_bfgs(objective, AB0, fprime=grad, disp=False)\n",
    "    return AB_[0], AB_[1]"
   ]
  },
  {
   "cell_type": "code",
   "execution_count": 4,
   "metadata": {},
   "outputs": [],
   "source": [
    "metadata = pd.read_csv('data/metadata.csv')\n",
    "sup_metadata = pd.read_csv('data/supplemental_metadata.csv')\n",
    "train_labels = pd.read_csv('data/train_labels.csv', index_col=\"sample_id\")\n",
    "val_labels = pd.read_csv('data/val_labels.csv',index_col='sample_id')\n",
    "targets = pd.read_csv('targets.csv',index_col='sample_id')\n",
    "submission_format = pd.read_csv('data/submission_format.csv')"
   ]
  },
  {
   "cell_type": "code",
   "execution_count": 5,
   "metadata": {},
   "outputs": [
    {
     "data": {
      "text/plain": [
       "((1059, 11), (804, 11))"
      ]
     },
     "execution_count": 5,
     "metadata": {},
     "output_type": "execute_result"
    }
   ],
   "source": [
    "train_50 = pd.read_csv('oof_/oof_train_50.csv')\n",
    "test_50 = pd.read_csv('oof_/oof_test_50.csv')\n",
    "train_50.shape, test_50.shape"
   ]
  },
  {
   "cell_type": "code",
   "execution_count": 6,
   "metadata": {},
   "outputs": [
    {
     "name": "stdout",
     "output_type": "stream",
     "text": [
      "0.1352641494914019\n"
     ]
    }
   ],
   "source": [
    "print(log_loss(targets['basalt'], train_50['basalt']))"
   ]
  },
  {
   "cell_type": "code",
   "execution_count": 7,
   "metadata": {},
   "outputs": [],
   "source": [
    "bas = 'basalt'\n",
    "io = \"iron_oxide\"\n",
    "phy = 'phyllosilicate'"
   ]
  },
  {
   "cell_type": "code",
   "execution_count": 8,
   "metadata": {},
   "outputs": [],
   "source": [
    "skf = StratifiedKFold(random_state=RANDOM_SEED,n_splits=20,shuffle=True)\n",
    "rskf = RepeatedStratifiedKFold(n_splits=20,n_repeats=100,random_state=RANDOM_SEED)\n",
    "log_loss_scorer = make_scorer(log_loss, greater_is_better=False, needs_proba=False)"
   ]
  },
  {
   "cell_type": "code",
   "execution_count": 9,
   "metadata": {},
   "outputs": [
    {
     "data": {
      "text/plain": [
       "_SigmoidCalibration()"
      ]
     },
     "execution_count": 9,
     "metadata": {},
     "output_type": "execute_result"
    }
   ],
   "source": [
    "calib = _SigmoidCalibration()\n",
    "calib.fit(train_50[bas],targets[bas])"
   ]
  },
  {
   "cell_type": "code",
   "execution_count": 10,
   "metadata": {},
   "outputs": [
    {
     "data": {
      "text/plain": [
       "0      0.018744\n",
       "1      0.027265\n",
       "2      0.999936\n",
       "3      0.020038\n",
       "4      0.019633\n",
       "         ...   \n",
       "799    0.036685\n",
       "800    0.025246\n",
       "801    0.018817\n",
       "802    0.020031\n",
       "803    0.095789\n",
       "Name: basalt, Length: 804, dtype: float64"
      ]
     },
     "execution_count": 10,
     "metadata": {},
     "output_type": "execute_result"
    }
   ],
   "source": [
    "calib.predict(test_50[bas])"
   ]
  },
  {
   "cell_type": "code",
   "execution_count": 11,
   "metadata": {},
   "outputs": [
    {
     "data": {
      "text/plain": [
       "(-0.11984382848220254, 0.06223535225896785)"
      ]
     },
     "execution_count": 11,
     "metadata": {},
     "output_type": "execute_result"
    }
   ],
   "source": [
    "cv = cross_val_score(calib,train_50[bas],targets[bas],cv=rskf,scoring=log_loss_scorer)\n",
    "cv.mean(), cv.std()"
   ]
  },
  {
   "cell_type": "code",
   "execution_count": 12,
   "metadata": {},
   "outputs": [
    {
     "name": "stdout",
     "output_type": "stream",
     "text": [
      "0.11962449234819525\n"
     ]
    }
   ],
   "source": [
    "tot_loss = []\n",
    "for i, (train_id,test_id) in enumerate(skf.split(train_50[bas],targets[bas])):\n",
    "    train_50_ = train_50.iloc[train_id]\n",
    "    test_50_ = train_50.iloc[test_id]\n",
    "    calib.fit(train_50_[bas],targets[bas].iloc[train_id])\n",
    "    preds = calib.predict(test_50_[bas])\n",
    "    loss = log_loss(targets[bas].iloc[test_id],preds)\n",
    "    # print(i,loss)\n",
    "    tot_loss.append(loss)\n",
    "print(np.array(tot_loss).mean())"
   ]
  },
  {
   "cell_type": "code",
   "execution_count": 13,
   "metadata": {},
   "outputs": [],
   "source": [
    "# Check log loss score for baseline dummy model\n",
    "def logloss_cross_val(clf, X, y):\n",
    "    # Generate a score for each label class\n",
    "    log_loss_cv = {}\n",
    "    for col in y.columns:\n",
    "        y_col = y[col]  # take one label at a time\n",
    "        X_col = X[col]\n",
    "        log_loss_cv[col] = np.mean(\n",
    "            cross_val_score(clf, X_col.values, y_col, cv=skf,scoring=log_loss_scorer))\n",
    "    avg_log_loss = np.mean(list(log_loss_cv.values()))\n",
    "    std_log_loss = np.std(list(log_loss_cv.values()))\n",
    "    print('Average log loss: {}'.format(avg_log_loss))\n",
    "    return log_loss_cv, avg_log_loss, std_log_loss"
   ]
  },
  {
   "cell_type": "code",
   "execution_count": 14,
   "metadata": {},
   "outputs": [
    {
     "name": "stdout",
     "output_type": "stream",
     "text": [
      "Average log loss: -0.13180907389875685\n"
     ]
    },
    {
     "data": {
      "text/plain": [
       "({'basalt': -0.11962449234819525,\n",
       "  'carbonate': -0.10698640865213513,\n",
       "  'chloride': -0.14295069535314314,\n",
       "  'iron_oxide': -0.18055743873864755,\n",
       "  'oxalate': -0.007585031776448882,\n",
       "  'oxychlorine': -0.1473750928685112,\n",
       "  'phyllosilicate': -0.19003568142311916,\n",
       "  'silicate': -0.1746920522113929,\n",
       "  'sulfate': -0.16353783070255207,\n",
       "  'sulfide': -0.08474601491342323},\n",
       " -0.13180907389875685,\n",
       " 0.05233547010451446)"
      ]
     },
     "execution_count": 14,
     "metadata": {},
     "output_type": "execute_result"
    }
   ],
   "source": [
    "logloss_cross_val(calib,train_50,targets)"
   ]
  },
  {
   "cell_type": "code",
   "execution_count": 15,
   "metadata": {},
   "outputs": [
    {
     "data": {
      "text/plain": [
       "(0.050432674433534636, 0.11962449234819525, 0.18881631026285586)"
      ]
     },
     "execution_count": 15,
     "metadata": {},
     "output_type": "execute_result"
    }
   ],
   "source": [
    "cv = cross_val_score(calib,train_50[bas],targets[bas], cv=skf, scoring=log_loss_scorer)\n",
    "-cv.mean()-cv.std(), -cv.mean(), -cv.mean()+cv.std()"
   ]
  },
  {
   "cell_type": "code",
   "execution_count": 16,
   "metadata": {},
   "outputs": [
    {
     "data": {
      "text/plain": [
       "True"
      ]
     },
     "execution_count": 16,
     "metadata": {},
     "output_type": "execute_result"
    }
   ],
   "source": [
    "0.13493157515767454 > 0.11962449234819525"
   ]
  },
  {
   "cell_type": "code",
   "execution_count": 17,
   "metadata": {},
   "outputs": [
    {
     "data": {
      "text/plain": [
       "array([0.02477712, 0.0185275 , 0.06173367, ..., 0.01717328, 0.02094265,\n",
       "       0.02168105])"
      ]
     },
     "execution_count": 17,
     "metadata": {},
     "output_type": "execute_result"
    }
   ],
   "source": [
    "cv_preds = cross_val_predict(calib,train_50[bas],targets[bas],cv=skf)\n",
    "cv_preds"
   ]
  },
  {
   "cell_type": "code",
   "execution_count": 18,
   "metadata": {},
   "outputs": [
    {
     "data": {
      "text/plain": [
       "<matplotlib.legend.Legend at 0x20209a5be80>"
      ]
     },
     "execution_count": 18,
     "metadata": {},
     "output_type": "execute_result"
    },
    {
     "data": {
      "image/png": "[encoded data removed]",
      "text/plain": [
       "<Figure size 432x288 with 1 Axes>"
      ]
     },
     "metadata": {
      "needs_background": "light"
     },
     "output_type": "display_data"
    }
   ],
   "source": [
    "prob_true, prob_pred = calibration_curve(targets[bas], train_50[bas],strategy='uniform')\n",
    "prob_true_1, prob_preds_1 = calibration_curve(targets[bas], cv_preds,strategy='uniform')\n",
    "plt.plot(prob_true,prob_pred,label = 'uncalibrated')\n",
    "plt.plot(prob_true_1,prob_preds_1,label='calibrated')\n",
    "plt.plot([0,0.7],[0,0.7],'k--')\n",
    "plt.legend()"
   ]
  },
  {
   "cell_type": "code",
   "execution_count": 19,
   "metadata": {},
   "outputs": [
    {
     "data": {
      "text/plain": [
       "0.8847969782813976"
      ]
     },
     "execution_count": 19,
     "metadata": {},
     "output_type": "execute_result"
    }
   ],
   "source": [
    "prob_1 = targets[bas].sum()/len(targets[bas])\n",
    "prob_1 = 1 - prob_1\n",
    "prob_1"
   ]
  },
  {
   "cell_type": "code",
   "execution_count": 20,
   "metadata": {},
   "outputs": [
    {
     "data": {
      "text/plain": [
       "array([0.11520302, 0.11520302, 0.11520302, ..., 0.11520302, 0.11520302,\n",
       "       0.11520302])"
      ]
     },
     "execution_count": 20,
     "metadata": {},
     "output_type": "execute_result"
    }
   ],
   "source": [
    "sample_weight = np.ones_like(targets[bas])\n",
    "sample_weight = np.where(targets[bas]==1, prob_1, 1 - prob_1)\n",
    "sample_weight"
   ]
  },
  {
   "cell_type": "code",
   "execution_count": 21,
   "metadata": {},
   "outputs": [],
   "source": [
    "iso = IsotonicRegression(y_max=0.95,y_min=0.01,out_of_bounds='clip')\n",
    "iso_cv = cross_val_score(iso,train_50[bas],targets[bas],cv=rskf,scoring=log_loss_scorer)"
   ]
  },
  {
   "cell_type": "code",
   "execution_count": 22,
   "metadata": {},
   "outputs": [
    {
     "data": {
      "text/plain": [
       "(0.1223097178359193, 0.06124368601998579)"
      ]
     },
     "execution_count": 22,
     "metadata": {},
     "output_type": "execute_result"
    }
   ],
   "source": [
    "-iso_cv.mean(), iso_cv.std()"
   ]
  },
  {
   "cell_type": "code",
   "execution_count": 23,
   "metadata": {},
   "outputs": [
    {
     "name": "stdout",
     "output_type": "stream",
     "text": [
      "Average log loss: -0.1281700674627801\n"
     ]
    },
    {
     "data": {
      "text/plain": [
       "({'basalt': -0.12172061513303603,\n",
       "  'carbonate': -0.09496921190852708,\n",
       "  'chloride': -0.13935485285448548,\n",
       "  'iron_oxide': -0.17561779220939824,\n",
       "  'oxalate': -0.019394723345030396,\n",
       "  'oxychlorine': -0.1317600018985851,\n",
       "  'phyllosilicate': -0.19747350006878342,\n",
       "  'silicate': -0.16488759865274286,\n",
       "  'sulfate': -0.1641398840052941,\n",
       "  'sulfide': -0.07238249455191795},\n",
       " -0.1281700674627801,\n",
       " 0.05091410927337648)"
      ]
     },
     "execution_count": 23,
     "metadata": {},
     "output_type": "execute_result"
    }
   ],
   "source": [
    "logloss_cross_val(iso,train_50,targets)"
   ]
  },
  {
   "cell_type": "code",
   "execution_count": 24,
   "metadata": {},
   "outputs": [],
   "source": [
    "# maybe calibrating these is a bad idea..."
   ]
  },
  {
   "cell_type": "code",
   "execution_count": 25,
   "metadata": {},
   "outputs": [],
   "source": [
    "train_50 = pd.read_csv('oof_/oof_train_50.csv')\n",
    "test_50 = pd.read_csv('oof_/oof_test_50.csv')\n",
    "\n",
    "train_time_50 = pd.read_csv('oof_/oof_train_temp_50.csv')\n",
    "test_time_50 = pd.read_csv('oof_/oof_test_temp_50.csv')\n",
    "\n",
    "train_100 = pd.read_csv('oof_/oof_train_100.csv')\n",
    "test_100 = pd.read_csv('oof_/oof_test_100.csv')\n",
    "\n",
    "train_time_100 = pd.read_csv('oof_/oof_train_temp_100.csv')\n",
    "test_time_100 = pd.read_csv('oof_/oof_test_temp_100.csv')\n",
    "\n",
    "train_200 = pd.read_csv('oof_/oof_train_200.csv')\n",
    "test_200 = pd.read_csv('oof_/oof_test_200.csv')\n",
    "\n",
    "train_time_200 = pd.read_csv('oof_/oof_train_temp_200.csv')\n",
    "test_time_200 = pd.read_csv('oof_/oof_test_temp_200.csv')\n"
   ]
  },
  {
   "cell_type": "code",
   "execution_count": 26,
   "metadata": {},
   "outputs": [],
   "source": [
    "plt.rcParams['figure.figsize'] = (12,6)"
   ]
  },
  {
   "cell_type": "code",
   "execution_count": 27,
   "metadata": {},
   "outputs": [],
   "source": [
    "train_files = [train_50,train_time_50,train_100,train_time_100,train_200,train_time_200]\n",
    "test_files = [test_50,test_time_50,test_100,test_time_100,test_200,test_time_200]\n",
    "\n",
    "train_file_names = ['train_50','train_time_50','train_100','train_time_100','train_200','train_time_200']\n",
    "test_file_names = ['test_50','test_time_50','test_100','test_time_100','test_200','test_time_200']"
   ]
  },
  {
   "cell_type": "code",
   "execution_count": 28,
   "metadata": {},
   "outputs": [
    {
     "data": {
      "text/plain": [
       "Index(['basalt', 'carbonate', 'chloride', 'iron_oxide', 'oxalate',\n",
       "       'oxychlorine', 'phyllosilicate', 'silicate', 'sulfate', 'sulfide'],\n",
       "      dtype='object')"
      ]
     },
     "execution_count": 28,
     "metadata": {},
     "output_type": "execute_result"
    }
   ],
   "source": [
    "targets.columns"
   ]
  },
  {
   "cell_type": "code",
   "execution_count": 29,
   "metadata": {},
   "outputs": [],
   "source": [
    "target = 'basalt'"
   ]
  },
  {
   "cell_type": "code",
   "execution_count": 30,
   "metadata": {},
   "outputs": [],
   "source": [
    "def get_tar_df(target):\n",
    "    tar_df = pd.DataFrame(columns = train_file_names)\n",
    "    for i,train in enumerate(train_files):\n",
    "        tar_df[train_file_names[i]] = train[target]\n",
    "    return tar_df"
   ]
  },
  {
   "cell_type": "code",
   "execution_count": 50,
   "metadata": {},
   "outputs": [],
   "source": [
    "def get_tar_df_test(target):\n",
    "    tar_df = pd.DataFrame(columns = test_file_names)\n",
    "    for i,train in enumerate(test_files):\n",
    "        tar_df[test_file_names[i]] = train[target]\n",
    "    return tar_df"
   ]
  },
  {
   "cell_type": "code",
   "execution_count": 53,
   "metadata": {},
   "outputs": [
    {
     "data": {
      "text/plain": [
       "<AxesSubplot:>"
      ]
     },
     "execution_count": 53,
     "metadata": {},
     "output_type": "execute_result"
    },
    {
     "data": {
      "image/png": "[encoded data removed]",
      "text/plain": [
       "<Figure size 864x432 with 2 Axes>"
      ]
     },
     "metadata": {
      "needs_background": "light"
     },
     "output_type": "display_data"
    }
   ],
   "source": [
    "sns.heatmap(get_tar_df_test(target).corr(),annot=True,cmap='rocket_r')"
   ]
  },
  {
   "cell_type": "code",
   "execution_count": 31,
   "metadata": {},
   "outputs": [
    {
     "data": {
      "text/plain": [
       "<AxesSubplot:>"
      ]
     },
     "execution_count": 31,
     "metadata": {},
     "output_type": "execute_result"
    },
    {
     "data": {
      "image/png": "[encoded data removed]",
      "text/plain": [
       "<Figure size 864x432 with 2 Axes>"
      ]
     },
     "metadata": {
      "needs_background": "light"
     },
     "output_type": "display_data"
    }
   ],
   "source": [
    "sns.heatmap(get_tar_df('basalt').corr(),annot=True,cmap='magma_r')"
   ]
  },
  {
   "cell_type": "code",
   "execution_count": 32,
   "metadata": {},
   "outputs": [],
   "source": [
    "clf = CatBoostClassifier(verbose=False)"
   ]
  },
  {
   "cell_type": "code",
   "execution_count": 73,
   "metadata": {},
   "outputs": [],
   "source": [
    "log_loss_scorer = make_scorer(log_loss,greater_is_better=False, needs_proba=False)"
   ]
  },
  {
   "cell_type": "code",
   "execution_count": 34,
   "metadata": {},
   "outputs": [
    {
     "name": "stdout",
     "output_type": "stream",
     "text": [
      "basalt\n",
      "0.12980351837749066 0.08827490274124304\n",
      "carbonate\n",
      "0.08341759512409103 0.07434784093756425\n",
      "chloride\n",
      "0.13630134429221058 0.10637324194218142\n",
      "iron_oxide\n",
      "0.18391150976863774 0.06730442082775667\n",
      "oxalate\n",
      "0.007781641912242234 0.020263184617718834\n",
      "oxychlorine\n",
      "0.12949837161506178 0.0886036101045427\n",
      "phyllosilicate\n",
      "0.19021371333843745 0.07726575280015728\n",
      "silicate\n",
      "0.1734391441546083 0.0887063762631961\n",
      "sulfate\n",
      "0.16677188178037966 0.09734424343509929\n",
      "sulfide\n",
      "0.0821994384172133 0.06626779330088867\n",
      "agg loss: 0.12833381587803727\n"
     ]
    }
   ],
   "source": [
    "%%time\n",
    "agg_loss = []\n",
    "for target in targets.columns:\n",
    "    print(target)\n",
    "    tar_df = get_tar_df(target)\n",
    "    calib_preds = np.zeros((tar_df.shape[0],tar_df.shape[1]))\n",
    "    for i,col in enumerate(tar_df.columns):\n",
    "        calib = _SigmoidCalibration()\n",
    "        preds = cross_val_predict(calib,tar_df[col],targets[target],cv=skf)\n",
    "        calib_preds[:,i] = preds\n",
    "    cv = cross_val_score(clf,calib_preds,targets[target],cv=skf,scoring=log_loss_scorer)\n",
    "    print(-cv.mean(),cv.std())\n",
    "    agg_loss.append(-cv.mean())\n",
    "print('agg loss:',np.array(agg_loss).mean())"
   ]
  },
  {
   "cell_type": "code",
   "execution_count": 42,
   "metadata": {},
   "outputs": [
    {
     "name": "stdout",
     "output_type": "stream",
     "text": [
      "basalt\n",
      "carbonate\n",
      "chloride\n",
      "iron_oxide\n",
      "oxalate\n",
      "oxychlorine\n",
      "phyllosilicate\n",
      "silicate\n",
      "sulfate\n",
      "sulfide\n",
      "0.07581474076370877\n",
      "Wall time: 3.72 s\n"
     ]
    }
   ],
   "source": [
    "%%time\n",
    "agg_loss = []\n",
    "for target in targets.columns:\n",
    "    print(target)\n",
    "    tar_df = get_tar_df(target)\n",
    "    calib_preds = np.zeros((tar_df.shape[0],tar_df.shape[1]))\n",
    "    for i,col in enumerate(tar_df.columns):\n",
    "        calib = _SigmoidCalibration()\n",
    "        preds = cross_val_predict(calib,tar_df[col],targets[target],cv=skf)\n",
    "        calib_preds[:,i] = preds\n",
    "\n",
    "        # print(calib_preds)\n",
    "    # cv = cross_val_score(clf,calib_preds,targets[target],cv=skf,scoring=log_loss_scorer)\n",
    "    # print(-cv.mean(),cv.std())\n",
    "    # agg_loss.append(-cv.mean())\n",
    "print(log_loss(targets[target],calib_preds.mean(axis=1)))\n",
    "# print('agg loss:',np.array(agg_loss).mean())"
   ]
  },
  {
   "cell_type": "code",
   "execution_count": 36,
   "metadata": {},
   "outputs": [
    {
     "data": {
      "text/plain": [
       "array([0.04625068, 0.0463625 , 0.04633841, 0.04623735, 0.04645336,\n",
       "       0.04640565])"
      ]
     },
     "execution_count": 36,
     "metadata": {},
     "output_type": "execute_result"
    }
   ],
   "source": [
    "for i, (train_id,test_id) in skf.split(tar_df,targets[target]):\n",
    "    print(i)\n",
    "    oof_train = np.zeros((ntrain,))\n",
    "    oof_test = np.zeros((ntest,))\n",
    "    oof_test_skf = np.empty((NFOLDS, ntest))\n",
    "\n",
    "    for col in tar_df.columns:\n",
    "        X = tar_df[col]\n",
    "        calib = _SigmoidCalibration()\n",
    "        X_train = X.iloc[train_id]\n",
    "        X_test = X.iloc[test_id]\n",
    "        y_train = targets[target].iloc[train_id]\n",
    "        y_test = targets[target].iloc[test_id]\n",
    "        calib.fit(X_train,y_train)\n",
    "        preds = calib.predict(X_test)\n",
    "\n",
    "        oof_train[test_id] = y_preds\n",
    "        oof_test_skf[fold,:] = calib.predict(X_test.values)[:,1]\n",
    "\n",
    "    calib_preds[test_id] = preds"
   ]
  },
  {
   "cell_type": "code",
   "execution_count": 38,
   "metadata": {},
   "outputs": [
    {
     "data": {
      "text/plain": [
       "array([2., 5.])"
      ]
     },
     "execution_count": 38,
     "metadata": {},
     "output_type": "execute_result"
    }
   ],
   "source": [
    "a = np.array([[1,2,3],[4,5,6]])\n",
    "a.mean(axis=1)"
   ]
  },
  {
   "cell_type": "code",
   "execution_count": 39,
   "metadata": {},
   "outputs": [
    {
     "data": {
      "text/plain": [
       "(2, 3)"
      ]
     },
     "execution_count": 39,
     "metadata": {},
     "output_type": "execute_result"
    }
   ],
   "source": [
    "a.shape"
   ]
  },
  {
   "cell_type": "code",
   "execution_count": 70,
   "metadata": {},
   "outputs": [],
   "source": [
    "# lr  0.3052962341440854\n",
    "# lr  0.3239982196626524\n",
    "# knn 0.5894523367682062/0.35634749615550243\n",
    "# knn 0.35634749615550243\n",
    "# rf 0.527098185929098/0.527098185929098\n",
    "# svc 0.23970403199340756\n",
    "# cb 0.12555419536242826"
   ]
  },
  {
   "cell_type": "code",
   "execution_count": 49,
   "metadata": {},
   "outputs": [
    {
     "name": "stdout",
     "output_type": "stream",
     "text": [
      "basalt 0.12944059009512446\n",
      "carbonate 0.08364542405130632\n",
      "chloride 0.14165062518401939\n",
      "iron_oxide 0.18852733322713666\n",
      "oxalate 0.004195500456769655\n",
      "oxychlorine 0.1300305975179676\n",
      "phyllosilicate 0.18962404078105488\n",
      "silicate 0.16533412856218363\n",
      "sulfate 0.15576284199089865\n",
      "sulfide 0.06126346725818371\n",
      "agg_loss: 0.1249474549124645\n"
     ]
    }
   ],
   "source": [
    "# average the predictions\n",
    "tot_loss = []\n",
    "for target in targets.columns:\n",
    "    tar_df_avg = get_tar_df(target).mean(axis=1)\n",
    "    loss = log_loss(targets[target],tar_df_avg)\n",
    "    print(target, loss)\n",
    "    tot_loss.append(loss)\n",
    "print('agg_loss:',np.array(tot_loss).mean())"
   ]
  },
  {
   "cell_type": "code",
   "execution_count": 62,
   "metadata": {},
   "outputs": [],
   "source": [
    "# average the predictions\n",
    "tot_loss = []\n",
    "df = pd.DataFrame(columns=targets.columns,index= train_100.index)\n",
    "for target in targets.columns:\n",
    "    tar_df_avg = get_tar_df(target).mean(axis=1)\n",
    "    df[target] = tar_df_avg\n",
    "    # loss = log_loss(targets[target],tar_df_avg_test)\n",
    "    # print(target, loss)\n",
    "    # tot_loss.append(loss)\n",
    "# print('agg_loss:',np.array(tot_loss).mean())"
   ]
  },
  {
   "cell_type": "code",
   "execution_count": 66,
   "metadata": {},
   "outputs": [],
   "source": [
    "# average the predictions\n",
    "tot_loss = []\n",
    "for target in targets.columns:\n",
    "    tar_df_avg_test = get_tar_df_test(target).mean(axis=1)\n",
    "    submission_format[target] = tar_df_avg_test\n",
    "    # loss = log_loss(targets[target],tar_df_avg_test)\n",
    "    # print(target, loss)\n",
    "    # tot_loss.append(loss)\n",
    "# print('agg_loss:',np.array(tot_loss).mean())"
   ]
  },
  {
   "cell_type": "code",
   "execution_count": 67,
   "metadata": {},
   "outputs": [
    {
     "name": "stdout",
     "output_type": "stream",
     "text": [
      "basalt\n",
      "0.025260423445174335\n",
      "carbonate\n",
      "0.014948593671174808\n",
      "chloride\n",
      "0.031817053188323514\n",
      "iron_oxide\n",
      "0.056269076985415285\n",
      "oxalate\n",
      "0.0004982270342918026\n",
      "oxychlorine\n",
      "0.0243314308609783\n",
      "phyllosilicate\n",
      "0.04636228177469431\n",
      "silicate\n",
      "0.034479506224458896\n",
      "sulfate\n",
      "0.028582462563677583\n",
      "sulfide\n",
      "0.004958678811871422\n",
      "agg_loss: 0.026750773456006023\n"
     ]
    }
   ],
   "source": [
    "tot_loss = []\n",
    "for tar in targets.columns:\n",
    "    print(tar)\n",
    "    loss = log_loss(val_labels[tar],submission_format[:293].drop('sample_id',axis=1)[tar])\n",
    "    print(loss)\n",
    "    tot_loss.append(loss)\n",
    "print('agg_loss:',np.array(tot_loss).mean())"
   ]
  },
  {
   "cell_type": "code",
   "execution_count": 69,
   "metadata": {},
   "outputs": [],
   "source": [
    "submission_format.to_csv('submissions/avg_preds.csv',index=False)"
   ]
  },
  {
   "cell_type": "code",
   "execution_count": null,
   "metadata": {},
   "outputs": [],
   "source": [
    "cb_clf = CatBoostClassifier(verbose=False,random_seed=RANDOM_SEED)"
   ]
  },
  {
   "cell_type": "code",
   "execution_count": 96,
   "metadata": {},
   "outputs": [
    {
     "name": "stdout",
     "output_type": "stream",
     "text": [
      "basalt\n"
     ]
    },
    {
     "name": "stderr",
     "output_type": "stream",
     "text": [
      "Custom logger is already specified. Specify more than one logger at same time is not thread safe."
     ]
    },
    {
     "name": "stdout",
     "output_type": "stream",
     "text": [
      "fold loss 0:  0.11889924489742884\n",
      "fold loss 1:  0.1715906085146575\n",
      "fold loss 2:  0.07299240449609418\n",
      "fold loss 3:  0.054773206772004764\n",
      "fold loss 4:  0.03197460374852056\n",
      "fold loss 5:  0.12714170694768653\n",
      "fold loss 6:  0.1563996138627068\n",
      "fold loss 7:  0.07010585495782817\n",
      "fold loss 8:  0.1915561025086712\n",
      "fold loss 9:  0.10587917729968462\n",
      "fold loss 10:  0.09298151983424494\n",
      "fold loss 11:  0.05260179184002491\n",
      "fold loss 12:  0.19615768944019873\n",
      "fold loss 13:  0.012466679518407107\n",
      "fold loss 14:  0.0500980363652995\n",
      "fold loss 15:  0.3879279649684213\n",
      "fold loss 16:  0.2024173521677505\n",
      "fold loss 17:  0.12723188119396087\n",
      "fold loss 18:  0.2853124397355027\n",
      "fold loss 19:  0.0832453147516212\n",
      "cv loss for basalt: 0.12958765969103575\n",
      "cv std for basalt: 0.08917783530034022\n",
      "-----------------------------------------------------\n",
      "=============================================================================\n",
      "carbonate\n",
      "fold loss 0:  0.014330312999402368\n",
      "fold loss 1:  0.07409627263192212\n",
      "fold loss 2:  0.20870733763196536\n",
      "fold loss 3:  0.12352240500337472\n",
      "fold loss 4:  0.03940152232504708\n",
      "fold loss 5:  0.06678600970572555\n",
      "fold loss 6:  0.027762839081974536\n",
      "fold loss 7:  0.0049958521617010756\n",
      "fold loss 8:  0.05565721212279947\n",
      "fold loss 9:  0.02673951035965081\n",
      "fold loss 10:  0.03946121323962127\n",
      "fold loss 11:  0.020324816125889954\n",
      "fold loss 12:  0.1734338358716069\n",
      "fold loss 13:  0.228822326178333\n",
      "fold loss 14:  0.16513116872718267\n",
      "fold loss 15:  0.21193622160238423\n",
      "fold loss 16:  0.009769388851379577\n",
      "fold loss 17:  0.061975433359399014\n",
      "fold loss 18:  0.03711326615096519\n",
      "fold loss 19:  0.024517983434428278\n",
      "cv loss for carbonate: 0.08072424637823766\n",
      "cv std for carbonate: 0.07325121479336252\n",
      "-----------------------------------------------------\n",
      "=============================================================================\n",
      "chloride\n",
      "fold loss 0:  0.0626717722890869\n",
      "fold loss 1:  0.4565303306392429\n",
      "fold loss 2:  0.1650965489441362\n",
      "fold loss 3:  0.10190985210173112\n",
      "fold loss 4:  0.1400796861133369\n",
      "fold loss 5:  0.0767590061421501\n",
      "fold loss 6:  0.13788356542034313\n",
      "fold loss 7:  0.13473049587225072\n",
      "fold loss 8:  0.1168070173570256\n",
      "fold loss 9:  0.21463957931846986\n",
      "fold loss 10:  0.1787579186954434\n",
      "fold loss 11:  0.05736280653215774\n",
      "fold loss 12:  0.016862498037030965\n",
      "fold loss 13:  0.06435427018359414\n",
      "fold loss 14:  0.12145263104125566\n",
      "fold loss 15:  0.033955547305291364\n",
      "fold loss 16:  0.06204118169128064\n",
      "fold loss 17:  0.3677501060263977\n",
      "fold loss 18:  0.20026204465182673\n",
      "fold loss 19:  0.03368947570445544\n",
      "cv loss for chloride: 0.13717981670332535\n",
      "cv std for chloride: 0.10768476070663753\n",
      "-----------------------------------------------------\n",
      "=============================================================================\n",
      "iron_oxide\n",
      "fold loss 0:  0.1952614114910297\n",
      "fold loss 1:  0.10140285519223738\n",
      "fold loss 2:  0.15022600323248395\n",
      "fold loss 3:  0.24852223174057814\n",
      "fold loss 4:  0.14349990005418328\n",
      "fold loss 5:  0.17632655983719164\n",
      "fold loss 6:  0.13044011743062636\n",
      "fold loss 7:  0.12802167490402738\n",
      "fold loss 8:  0.10552183244174021\n",
      "fold loss 9:  0.11167557035716687\n",
      "fold loss 10:  0.29656005037800454\n",
      "fold loss 11:  0.27065076347109446\n",
      "fold loss 12:  0.24347478641792877\n",
      "fold loss 13:  0.11447276959355089\n",
      "fold loss 14:  0.2928365794306969\n",
      "fold loss 15:  0.15027830298845446\n",
      "fold loss 16:  0.16682375975583694\n",
      "fold loss 17:  0.15378931989705036\n",
      "fold loss 18:  0.23029108811838384\n",
      "fold loss 19:  0.12474144805955929\n",
      "cv loss for iron_oxide: 0.1767408512395913\n",
      "cv std for iron_oxide: 0.0627232542950197\n",
      "-----------------------------------------------------\n",
      "=============================================================================\n",
      "oxalate\n",
      "fold loss 0:  0.00012711090066368772\n",
      "fold loss 1:  0.00011614869715547143\n",
      "fold loss 2:  0.00012260607623306395\n",
      "fold loss 3:  0.00010849817134519684\n",
      "fold loss 4:  0.0001332832617962978\n",
      "fold loss 5:  0.0001301817132165469\n",
      "fold loss 6:  0.00012616087514173404\n",
      "fold loss 7:  0.00010169529506960254\n",
      "fold loss 8:  0.011565082097936797\n",
      "fold loss 9:  0.05281558079021341\n",
      "fold loss 10:  0.08089206632664234\n",
      "fold loss 11:  0.0005543902557052009\n",
      "fold loss 12:  0.0001237525680715524\n",
      "fold loss 13:  0.00014611238091241755\n",
      "fold loss 14:  0.0016799533874036832\n",
      "fold loss 15:  0.004779744124181509\n",
      "fold loss 16:  0.0003000056085344631\n",
      "fold loss 17:  0.000149459548664624\n",
      "fold loss 18:  0.00020553556722814156\n",
      "fold loss 19:  0.00012178782909027452\n",
      "cv loss for oxalate: 0.0077149577737603\n",
      "cv std for oxalate: 0.020374801439216335\n",
      "-----------------------------------------------------\n",
      "=============================================================================\n",
      "oxychlorine\n",
      "fold loss 0:  0.07548497948152605\n",
      "fold loss 1:  0.09826778816610277\n",
      "fold loss 2:  0.28147762348418087\n",
      "fold loss 3:  0.21933184856339868\n",
      "fold loss 4:  0.05527379068288833\n",
      "fold loss 5:  0.4171234678293147\n",
      "fold loss 6:  0.20603345720579264\n",
      "fold loss 7:  0.14233166035625056\n",
      "fold loss 8:  0.07422547199480722\n",
      "fold loss 9:  0.11843437388424408\n",
      "fold loss 10:  0.04512689290998976\n",
      "fold loss 11:  0.045608814516724716\n",
      "fold loss 12:  0.06766840464404232\n",
      "fold loss 13:  0.16089761183778173\n",
      "fold loss 14:  0.14461026341806746\n",
      "fold loss 15:  0.210701015447022\n",
      "fold loss 16:  0.04851679450962169\n",
      "fold loss 17:  0.2335496748209715\n",
      "fold loss 18:  0.015776878166252586\n",
      "fold loss 19:  0.06446998861956485\n",
      "cv loss for oxychlorine: 0.1362455400269272\n",
      "cv std for oxychlorine: 0.09795928170888073\n",
      "-----------------------------------------------------\n",
      "=============================================================================\n",
      "phyllosilicate\n",
      "fold loss 0:  0.062347792568265024\n",
      "fold loss 1:  0.18115627583740962\n",
      "fold loss 2:  0.1536202937205768\n",
      "fold loss 3:  0.15066753798807658\n",
      "fold loss 4:  0.23849595508740973\n",
      "fold loss 5:  0.12075867171888223\n",
      "fold loss 6:  0.20292404745758683\n",
      "fold loss 7:  0.12391981373454966\n",
      "fold loss 8:  0.2255107415139123\n",
      "fold loss 9:  0.11828378838401765\n",
      "fold loss 10:  0.3148555450224431\n",
      "fold loss 11:  0.3522409624487123\n",
      "fold loss 12:  0.17740863447841015\n",
      "fold loss 13:  0.2880089873704789\n",
      "fold loss 14:  0.11378811182442769\n",
      "fold loss 15:  0.2021513088185297\n",
      "fold loss 16:  0.22215278255309248\n",
      "fold loss 17:  0.22105941417797068\n",
      "fold loss 18:  0.15699397441691967\n",
      "fold loss 19:  0.07271848093369827\n",
      "cv loss for phyllosilicate: 0.18495315600276843\n",
      "cv std for phyllosilicate: 0.07459643684930438\n",
      "-----------------------------------------------------\n",
      "=============================================================================\n",
      "silicate\n",
      "fold loss 0:  0.11313822628631878\n",
      "fold loss 1:  0.2403635895351742\n",
      "fold loss 2:  0.2635230488247967\n",
      "fold loss 3:  0.4121661900857794\n",
      "fold loss 4:  0.10184463782479605\n",
      "fold loss 5:  0.19613742973127596\n",
      "fold loss 6:  0.18701801192911202\n",
      "fold loss 7:  0.14955377881892065\n",
      "fold loss 8:  0.05902966766608158\n",
      "fold loss 9:  0.13896525638511306\n",
      "fold loss 10:  0.19492264374193508\n",
      "fold loss 11:  0.2438814878944846\n",
      "fold loss 12:  0.0930810539309922\n",
      "fold loss 13:  0.27028397348027566\n",
      "fold loss 14:  0.12501070182818513\n",
      "fold loss 15:  0.08900576394885092\n",
      "fold loss 16:  0.04557205526158954\n",
      "fold loss 17:  0.20883029396391692\n",
      "fold loss 18:  0.0862584788948755\n",
      "fold loss 19:  0.2682152802436829\n",
      "cv loss for silicate: 0.17434007851380787\n",
      "cv std for silicate: 0.08910618609879192\n",
      "-----------------------------------------------------\n",
      "=============================================================================\n",
      "sulfate\n",
      "fold loss 0:  0.12228758280540661\n",
      "fold loss 1:  0.1174418742186256\n",
      "fold loss 2:  0.23780993500528927\n",
      "fold loss 3:  0.42734326660335004\n",
      "fold loss 4:  0.33794333265286336\n",
      "fold loss 5:  0.200153972846572\n",
      "fold loss 6:  0.17797540408012355\n",
      "fold loss 7:  0.04316072086101466\n",
      "fold loss 8:  0.09107094605458801\n",
      "fold loss 9:  0.04480225534461929\n",
      "fold loss 10:  0.08355819577517493\n",
      "fold loss 11:  0.1837888744352394\n",
      "fold loss 12:  0.054363065284307725\n",
      "fold loss 13:  0.3742260213558315\n",
      "fold loss 14:  0.13716946161998644\n",
      "fold loss 15:  0.17859477008862235\n",
      "fold loss 16:  0.09682964888035042\n",
      "fold loss 17:  0.1673700736528929\n",
      "fold loss 18:  0.09736084769756363\n",
      "fold loss 19:  0.13698850210018448\n",
      "cv loss for sulfate: 0.16551193756813032\n",
      "cv std for sulfate: 0.10446321139419536\n",
      "-----------------------------------------------------\n",
      "=============================================================================\n",
      "sulfide\n",
      "fold loss 0:  0.03764768394554103\n",
      "fold loss 1:  0.005440164488709635\n",
      "fold loss 2:  0.07251449388840842\n",
      "fold loss 3:  0.09630213653674835\n",
      "fold loss 4:  0.04375081386692568\n",
      "fold loss 5:  0.03363983989719065\n",
      "fold loss 6:  0.14068409604718538\n",
      "fold loss 7:  0.06663380049095757\n",
      "fold loss 8:  0.008573409503290899\n",
      "fold loss 9:  0.16283283676692534\n",
      "fold loss 10:  0.012901308705196174\n",
      "fold loss 11:  0.14228936330773362\n",
      "fold loss 12:  0.054536978627261944\n",
      "fold loss 13:  0.007595559515581321\n",
      "fold loss 14:  0.007214610648798075\n",
      "fold loss 15:  0.04612428775844327\n",
      "fold loss 16:  0.14360909309765696\n",
      "fold loss 17:  0.06544590665206938\n",
      "fold loss 18:  0.09747569867850946\n",
      "fold loss 19:  0.11327158898751653\n",
      "cv loss for sulfide: 0.06792418357053248\n",
      "cv std for sulfide: 0.05021666765499867\n",
      "-----------------------------------------------------\n",
      "=============================================================================\n",
      "0.12609224274681166\n"
     ]
    }
   ],
   "source": [
    "agg_loss = []\n",
    "for target in targets.columns: \n",
    "    print(target)\n",
    "    oof_train = np.zeros((ntrain,))\n",
    "    oof_test = np.zeros((ntest,))\n",
    "    oof_test_skf = np.empty((NFOLDS, ntest))\n",
    "    tar_df = get_tar_df(target)\n",
    "    test_tar_df = get_tar_df_test(target)\n",
    "    X_test = test_tar_df\n",
    "    cv_loss = []\n",
    "    for fold, (train_id,test_id) in enumerate(skf.split(tar_df,targets[target])):\n",
    "        X = tar_df.iloc[train_id]\n",
    "        y = targets[target].iloc[train_id]\n",
    "        X_val = tar_df.iloc[test_id]\n",
    "        y_val = targets[target].iloc[test_id]\n",
    "\n",
    "        cb_clf.fit(X,y)\n",
    "        preds = cb_clf.predict_proba(X_val)[:,1]\n",
    "        pred_loss = log_loss(y_val,preds)\n",
    "        print(f'fold loss {fold}: ',pred_loss)\n",
    "        cv_loss.append(pred_loss)\n",
    "\n",
    "        oof_train[test_id] = preds\n",
    "        oof_test_skf[fold,:] = cb_clf.predict_proba(X_test.values)[:,1]\n",
    "\n",
    "        loss = np.array(cv_loss).mean()\n",
    "        std = np.array(cv_loss).std()\n",
    "    print(f'cv loss for {target}:',loss)\n",
    "    print(f'cv std for {target}:',std)\n",
    "    print('-----------------------------------------------------')\n",
    "    agg_loss.append(loss)\n",
    "\n",
    "    oof_test[:] = oof_test_skf.mean(axis=0)\n",
    "    oof_test_df[target] = oof_test\n",
    "    oof_train_df[target] = oof_train\n",
    "    print(\"=============================================================================\")\n",
    "\n",
    "print(np.array(agg_loss).mean())"
   ]
  },
  {
   "cell_type": "code",
   "execution_count": 97,
   "metadata": {},
   "outputs": [
    {
     "data": {
      "text/html": [
       "<div>\n",
       "<style scoped>\n",
       "    .dataframe tbody tr th:only-of-type {\n",
       "        vertical-align: middle;\n",
       "    }\n",
       "\n",
       "    .dataframe tbody tr th {\n",
       "        vertical-align: top;\n",
       "    }\n",
       "\n",
       "    .dataframe thead th {\n",
       "        text-align: right;\n",
       "    }\n",
       "</style>\n",
       "<table border=\"1\" class=\"dataframe\">\n",
       "  <thead>\n",
       "    <tr style=\"text-align: right;\">\n",
       "      <th></th>\n",
       "      <th>sample_id</th>\n",
       "      <th>basalt</th>\n",
       "      <th>carbonate</th>\n",
       "      <th>chloride</th>\n",
       "      <th>iron_oxide</th>\n",
       "      <th>oxalate</th>\n",
       "      <th>oxychlorine</th>\n",
       "      <th>phyllosilicate</th>\n",
       "      <th>silicate</th>\n",
       "      <th>sulfate</th>\n",
       "      <th>sulfide</th>\n",
       "    </tr>\n",
       "  </thead>\n",
       "  <tbody>\n",
       "    <tr>\n",
       "      <th>0</th>\n",
       "      <td>NaN</td>\n",
       "      <td>0.003611</td>\n",
       "      <td>0.001755</td>\n",
       "      <td>0.007722</td>\n",
       "      <td>0.024148</td>\n",
       "      <td>0.000032</td>\n",
       "      <td>0.004228</td>\n",
       "      <td>0.127824</td>\n",
       "      <td>0.050391</td>\n",
       "      <td>0.943614</td>\n",
       "      <td>0.000055</td>\n",
       "    </tr>\n",
       "    <tr>\n",
       "      <th>1</th>\n",
       "      <td>NaN</td>\n",
       "      <td>0.001864</td>\n",
       "      <td>0.981521</td>\n",
       "      <td>0.002043</td>\n",
       "      <td>0.056500</td>\n",
       "      <td>0.000149</td>\n",
       "      <td>0.005858</td>\n",
       "      <td>0.008629</td>\n",
       "      <td>0.004390</td>\n",
       "      <td>0.018624</td>\n",
       "      <td>0.000084</td>\n",
       "    </tr>\n",
       "    <tr>\n",
       "      <th>2</th>\n",
       "      <td>NaN</td>\n",
       "      <td>0.049180</td>\n",
       "      <td>0.001246</td>\n",
       "      <td>0.008525</td>\n",
       "      <td>0.001503</td>\n",
       "      <td>0.000039</td>\n",
       "      <td>0.971591</td>\n",
       "      <td>0.028617</td>\n",
       "      <td>0.004296</td>\n",
       "      <td>0.012755</td>\n",
       "      <td>0.000118</td>\n",
       "    </tr>\n",
       "    <tr>\n",
       "      <th>3</th>\n",
       "      <td>NaN</td>\n",
       "      <td>0.031535</td>\n",
       "      <td>0.048991</td>\n",
       "      <td>0.006177</td>\n",
       "      <td>0.033933</td>\n",
       "      <td>0.000065</td>\n",
       "      <td>0.005090</td>\n",
       "      <td>0.003958</td>\n",
       "      <td>0.002708</td>\n",
       "      <td>0.887684</td>\n",
       "      <td>0.006394</td>\n",
       "    </tr>\n",
       "    <tr>\n",
       "      <th>4</th>\n",
       "      <td>NaN</td>\n",
       "      <td>0.001981</td>\n",
       "      <td>0.001098</td>\n",
       "      <td>0.013286</td>\n",
       "      <td>0.975912</td>\n",
       "      <td>0.000091</td>\n",
       "      <td>0.995968</td>\n",
       "      <td>0.911565</td>\n",
       "      <td>0.000788</td>\n",
       "      <td>0.011994</td>\n",
       "      <td>0.000137</td>\n",
       "    </tr>\n",
       "    <tr>\n",
       "      <th>...</th>\n",
       "      <td>...</td>\n",
       "      <td>...</td>\n",
       "      <td>...</td>\n",
       "      <td>...</td>\n",
       "      <td>...</td>\n",
       "      <td>...</td>\n",
       "      <td>...</td>\n",
       "      <td>...</td>\n",
       "      <td>...</td>\n",
       "      <td>...</td>\n",
       "      <td>...</td>\n",
       "    </tr>\n",
       "    <tr>\n",
       "      <th>1054</th>\n",
       "      <td>NaN</td>\n",
       "      <td>0.000768</td>\n",
       "      <td>0.001208</td>\n",
       "      <td>0.007287</td>\n",
       "      <td>0.001787</td>\n",
       "      <td>0.000057</td>\n",
       "      <td>0.004180</td>\n",
       "      <td>0.010216</td>\n",
       "      <td>0.170141</td>\n",
       "      <td>0.009838</td>\n",
       "      <td>0.000075</td>\n",
       "    </tr>\n",
       "    <tr>\n",
       "      <th>1055</th>\n",
       "      <td>NaN</td>\n",
       "      <td>0.004711</td>\n",
       "      <td>0.000480</td>\n",
       "      <td>0.007147</td>\n",
       "      <td>0.028450</td>\n",
       "      <td>0.000068</td>\n",
       "      <td>0.026348</td>\n",
       "      <td>0.010358</td>\n",
       "      <td>0.718225</td>\n",
       "      <td>0.002472</td>\n",
       "      <td>0.000046</td>\n",
       "    </tr>\n",
       "    <tr>\n",
       "      <th>1056</th>\n",
       "      <td>NaN</td>\n",
       "      <td>0.002182</td>\n",
       "      <td>0.000971</td>\n",
       "      <td>0.000967</td>\n",
       "      <td>0.002073</td>\n",
       "      <td>0.998896</td>\n",
       "      <td>0.004451</td>\n",
       "      <td>0.002688</td>\n",
       "      <td>0.000660</td>\n",
       "      <td>0.004988</td>\n",
       "      <td>0.000078</td>\n",
       "    </tr>\n",
       "    <tr>\n",
       "      <th>1057</th>\n",
       "      <td>NaN</td>\n",
       "      <td>0.003698</td>\n",
       "      <td>0.976715</td>\n",
       "      <td>0.009909</td>\n",
       "      <td>0.014316</td>\n",
       "      <td>0.000031</td>\n",
       "      <td>0.007116</td>\n",
       "      <td>0.030909</td>\n",
       "      <td>0.001399</td>\n",
       "      <td>0.015269</td>\n",
       "      <td>0.000084</td>\n",
       "    </tr>\n",
       "    <tr>\n",
       "      <th>1058</th>\n",
       "      <td>NaN</td>\n",
       "      <td>0.002823</td>\n",
       "      <td>0.002337</td>\n",
       "      <td>0.007536</td>\n",
       "      <td>0.002922</td>\n",
       "      <td>0.000075</td>\n",
       "      <td>0.003402</td>\n",
       "      <td>0.992332</td>\n",
       "      <td>0.002556</td>\n",
       "      <td>0.002086</td>\n",
       "      <td>0.000047</td>\n",
       "    </tr>\n",
       "  </tbody>\n",
       "</table>\n",
       "<p>1059 rows × 11 columns</p>\n",
       "</div>"
      ],
      "text/plain": [
       "     sample_id    basalt  carbonate  chloride  iron_oxide   oxalate  \\\n",
       "0          NaN  0.003611   0.001755  0.007722    0.024148  0.000032   \n",
       "1          NaN  0.001864   0.981521  0.002043    0.056500  0.000149   \n",
       "2          NaN  0.049180   0.001246  0.008525    0.001503  0.000039   \n",
       "3          NaN  0.031535   0.048991  0.006177    0.033933  0.000065   \n",
       "4          NaN  0.001981   0.001098  0.013286    0.975912  0.000091   \n",
       "...        ...       ...        ...       ...         ...       ...   \n",
       "1054       NaN  0.000768   0.001208  0.007287    0.001787  0.000057   \n",
       "1055       NaN  0.004711   0.000480  0.007147    0.028450  0.000068   \n",
       "1056       NaN  0.002182   0.000971  0.000967    0.002073  0.998896   \n",
       "1057       NaN  0.003698   0.976715  0.009909    0.014316  0.000031   \n",
       "1058       NaN  0.002823   0.002337  0.007536    0.002922  0.000075   \n",
       "\n",
       "      oxychlorine  phyllosilicate  silicate   sulfate   sulfide  \n",
       "0        0.004228        0.127824  0.050391  0.943614  0.000055  \n",
       "1        0.005858        0.008629  0.004390  0.018624  0.000084  \n",
       "2        0.971591        0.028617  0.004296  0.012755  0.000118  \n",
       "3        0.005090        0.003958  0.002708  0.887684  0.006394  \n",
       "4        0.995968        0.911565  0.000788  0.011994  0.000137  \n",
       "...           ...             ...       ...       ...       ...  \n",
       "1054     0.004180        0.010216  0.170141  0.009838  0.000075  \n",
       "1055     0.026348        0.010358  0.718225  0.002472  0.000046  \n",
       "1056     0.004451        0.002688  0.000660  0.004988  0.000078  \n",
       "1057     0.007116        0.030909  0.001399  0.015269  0.000084  \n",
       "1058     0.003402        0.992332  0.002556  0.002086  0.000047  \n",
       "\n",
       "[1059 rows x 11 columns]"
      ]
     },
     "execution_count": 97,
     "metadata": {},
     "output_type": "execute_result"
    }
   ],
   "source": [
    "oof_train_df"
   ]
  },
  {
   "cell_type": "code",
   "execution_count": null,
   "metadata": {},
   "outputs": [],
   "source": []
  },
  {
   "cell_type": "code",
   "execution_count": 98,
   "metadata": {},
   "outputs": [],
   "source": [
    "def get_cal_tar_df(target):\n",
    "    tar_df = get_tar_df(target)\n",
    "    sig_cal = _SigmoidCalibration()\n",
    "    cal_df = pd.DataFrame(columns=tar_df.columns,index=tar_df.index)\n",
    "    for col in tar_df.columns:\n",
    "        cv_preds = cross_val_predict(sig_cal,tar_df[col],targets[target],cv=skf)\n",
    "        cal_df[col] = cv_preds\n",
    "    return cal_df"
   ]
  },
  {
   "cell_type": "code",
   "execution_count": 102,
   "metadata": {},
   "outputs": [
    {
     "data": {
      "text/plain": [
       "0       0.014049\n",
       "1       0.006449\n",
       "2       0.070275\n",
       "3       0.014067\n",
       "4       0.004511\n",
       "          ...   \n",
       "1054    0.008114\n",
       "1055    0.010747\n",
       "1056    0.004204\n",
       "1057    0.008556\n",
       "1058    0.009203\n",
       "Length: 1059, dtype: float64"
      ]
     },
     "execution_count": 102,
     "metadata": {},
     "output_type": "execute_result"
    }
   ],
   "source": [
    "get_tar_df('basalt').mean(axis=1)"
   ]
  },
  {
   "cell_type": "code",
   "execution_count": 105,
   "metadata": {},
   "outputs": [
    {
     "data": {
      "text/plain": [
       "0.11371960647741605"
      ]
     },
     "execution_count": 105,
     "metadata": {},
     "output_type": "execute_result"
    }
   ],
   "source": [
    "log_loss(targets['basalt'],get_cal_tar_df('basalt').mean(axis=1))\n",
    "# can this be trusted..........."
   ]
  },
  {
   "cell_type": "code",
   "execution_count": 107,
   "metadata": {},
   "outputs": [
    {
     "name": "stdout",
     "output_type": "stream",
     "text": [
      "basalt 0.11371960647741605\n",
      "carbonate 0.09186352875168836\n",
      "chloride 0.13854233311903216\n",
      "iron_oxide 0.17899450712264148\n",
      "oxalate 0.006679389658804797\n",
      "oxychlorine 0.13219531163383963\n",
      "phyllosilicate 0.18568571270054718\n",
      "silicate 0.16869142852479768\n",
      "sulfate 0.16109848210107122\n",
      "sulfide 0.07581474076370877\n",
      "0.12532850408535473\n"
     ]
    }
   ],
   "source": [
    "agg_loss = []\n",
    "for tar in targets.columns:\n",
    "    loss = log_loss(targets[tar],get_cal_tar_df(tar).mean(axis=1))\n",
    "    agg_loss.append(loss)\n",
    "    print(tar,loss)\n",
    "print(np.array(agg_loss).mean())"
   ]
  },
  {
   "cell_type": "code",
   "execution_count": 122,
   "metadata": {},
   "outputs": [
    {
     "name": "stdout",
     "output_type": "stream",
     "text": [
      "basalt\n",
      "carbonate\n",
      "chloride\n",
      "iron_oxide\n",
      "oxalate\n",
      "oxychlorine\n",
      "phyllosilicate\n",
      "silicate\n",
      "sulfate\n",
      "sulfide\n"
     ]
    }
   ],
   "source": [
    "cal_list = {}\n",
    "for target in targets.columns:\n",
    "    print(target)\n",
    "    tar_df = get_tar_df(target)\n",
    "    test_df = get_tar_df_test(target)\n",
    "    sig_cal = _SigmoidCalibration()\n",
    "    cal_df = pd.DataFrame(columns=tar_df.columns,index=tar_df.index)\n",
    "    cal_test_df = pd.DataFrame(columns=test_df.columns,index=test_df.index)\n",
    "    for i in range(len(tar_df.columns)):\n",
    "        cv_preds = cross_val_predict(sig_cal,tar_df.iloc[:,i],targets[target],cv=skf)\n",
    "        cal_df.iloc[:,i] = cv_preds\n",
    "        sig_cal.fit(tar_df.iloc[:,i],targets[target])\n",
    "        test_col_preds = sig_cal.predict(test_df.iloc[:,0])\n",
    "        cal_test_df.iloc[:,i] = test_col_preds\n",
    "    cal_list[target] = cal_test_df"
   ]
  },
  {
   "cell_type": "code",
   "execution_count": 135,
   "metadata": {},
   "outputs": [],
   "source": [
    "for tar in targets.columns:\n",
    "    submission_format[tar] = cal_list[tar].mean(axis=1)"
   ]
  },
  {
   "cell_type": "code",
   "execution_count": 138,
   "metadata": {},
   "outputs": [],
   "source": [
    "submission_format.to_csv('submissions/calb_avg_preds.csv',index=False)"
   ]
  },
  {
   "cell_type": "code",
   "execution_count": 131,
   "metadata": {},
   "outputs": [],
   "source": [
    "oof_test_df.sample_id = metadata[metadata.split != 'train'].sample_id\n",
    "oof_train_df.sample_id = metadata[metadata.split != 'test'].sample_id"
   ]
  },
  {
   "cell_type": "code",
   "execution_count": 134,
   "metadata": {},
   "outputs": [],
   "source": [
    "# oof_test_df['sample_id'] = submission_format['sample_id']\n",
    "oof_test_df.to_csv('submissions/cb_preds.csv',index=False)"
   ]
  },
  {
   "cell_type": "code",
   "execution_count": 126,
   "metadata": {},
   "outputs": [],
   "source": [
    "for tar in targets.columns:\n",
    "    submission_format[tar] = oof_test_df[tar]"
   ]
  },
  {
   "cell_type": "code",
   "execution_count": 127,
   "metadata": {},
   "outputs": [
    {
     "data": {
      "text/html": [
       "<div>\n",
       "<style scoped>\n",
       "    .dataframe tbody tr th:only-of-type {\n",
       "        vertical-align: middle;\n",
       "    }\n",
       "\n",
       "    .dataframe tbody tr th {\n",
       "        vertical-align: top;\n",
       "    }\n",
       "\n",
       "    .dataframe thead th {\n",
       "        text-align: right;\n",
       "    }\n",
       "</style>\n",
       "<table border=\"1\" class=\"dataframe\">\n",
       "  <thead>\n",
       "    <tr style=\"text-align: right;\">\n",
       "      <th></th>\n",
       "      <th>sample_id</th>\n",
       "      <th>basalt</th>\n",
       "      <th>carbonate</th>\n",
       "      <th>chloride</th>\n",
       "      <th>iron_oxide</th>\n",
       "      <th>oxalate</th>\n",
       "      <th>oxychlorine</th>\n",
       "      <th>phyllosilicate</th>\n",
       "      <th>silicate</th>\n",
       "      <th>sulfate</th>\n",
       "      <th>sulfide</th>\n",
       "    </tr>\n",
       "  </thead>\n",
       "  <tbody>\n",
       "    <tr>\n",
       "      <th>0</th>\n",
       "      <td>S0766</td>\n",
       "      <td>NaN</td>\n",
       "      <td>NaN</td>\n",
       "      <td>NaN</td>\n",
       "      <td>NaN</td>\n",
       "      <td>NaN</td>\n",
       "      <td>NaN</td>\n",
       "      <td>NaN</td>\n",
       "      <td>NaN</td>\n",
       "      <td>NaN</td>\n",
       "      <td>NaN</td>\n",
       "    </tr>\n",
       "    <tr>\n",
       "      <th>1</th>\n",
       "      <td>S0767</td>\n",
       "      <td>NaN</td>\n",
       "      <td>NaN</td>\n",
       "      <td>NaN</td>\n",
       "      <td>NaN</td>\n",
       "      <td>NaN</td>\n",
       "      <td>NaN</td>\n",
       "      <td>NaN</td>\n",
       "      <td>NaN</td>\n",
       "      <td>NaN</td>\n",
       "      <td>NaN</td>\n",
       "    </tr>\n",
       "    <tr>\n",
       "      <th>2</th>\n",
       "      <td>S0768</td>\n",
       "      <td>NaN</td>\n",
       "      <td>NaN</td>\n",
       "      <td>NaN</td>\n",
       "      <td>NaN</td>\n",
       "      <td>NaN</td>\n",
       "      <td>NaN</td>\n",
       "      <td>NaN</td>\n",
       "      <td>NaN</td>\n",
       "      <td>NaN</td>\n",
       "      <td>NaN</td>\n",
       "    </tr>\n",
       "    <tr>\n",
       "      <th>3</th>\n",
       "      <td>S0769</td>\n",
       "      <td>NaN</td>\n",
       "      <td>NaN</td>\n",
       "      <td>NaN</td>\n",
       "      <td>NaN</td>\n",
       "      <td>NaN</td>\n",
       "      <td>NaN</td>\n",
       "      <td>NaN</td>\n",
       "      <td>NaN</td>\n",
       "      <td>NaN</td>\n",
       "      <td>NaN</td>\n",
       "    </tr>\n",
       "    <tr>\n",
       "      <th>4</th>\n",
       "      <td>S0770</td>\n",
       "      <td>NaN</td>\n",
       "      <td>NaN</td>\n",
       "      <td>NaN</td>\n",
       "      <td>NaN</td>\n",
       "      <td>NaN</td>\n",
       "      <td>NaN</td>\n",
       "      <td>NaN</td>\n",
       "      <td>NaN</td>\n",
       "      <td>NaN</td>\n",
       "      <td>NaN</td>\n",
       "    </tr>\n",
       "    <tr>\n",
       "      <th>...</th>\n",
       "      <td>...</td>\n",
       "      <td>...</td>\n",
       "      <td>...</td>\n",
       "      <td>...</td>\n",
       "      <td>...</td>\n",
       "      <td>...</td>\n",
       "      <td>...</td>\n",
       "      <td>...</td>\n",
       "      <td>...</td>\n",
       "      <td>...</td>\n",
       "      <td>...</td>\n",
       "    </tr>\n",
       "    <tr>\n",
       "      <th>799</th>\n",
       "      <td>S1565</td>\n",
       "      <td>0.001653</td>\n",
       "      <td>0.001499</td>\n",
       "      <td>0.011389</td>\n",
       "      <td>0.051463</td>\n",
       "      <td>0.000077</td>\n",
       "      <td>0.005921</td>\n",
       "      <td>0.008052</td>\n",
       "      <td>0.091713</td>\n",
       "      <td>0.002178</td>\n",
       "      <td>0.000223</td>\n",
       "    </tr>\n",
       "    <tr>\n",
       "      <th>800</th>\n",
       "      <td>S1566</td>\n",
       "      <td>0.001710</td>\n",
       "      <td>0.002062</td>\n",
       "      <td>0.019702</td>\n",
       "      <td>0.981612</td>\n",
       "      <td>0.000040</td>\n",
       "      <td>0.985512</td>\n",
       "      <td>0.049364</td>\n",
       "      <td>0.000779</td>\n",
       "      <td>0.002610</td>\n",
       "      <td>0.000072</td>\n",
       "    </tr>\n",
       "    <tr>\n",
       "      <th>801</th>\n",
       "      <td>S1567</td>\n",
       "      <td>0.003572</td>\n",
       "      <td>0.001285</td>\n",
       "      <td>0.988541</td>\n",
       "      <td>0.997656</td>\n",
       "      <td>0.000066</td>\n",
       "      <td>0.030486</td>\n",
       "      <td>0.993354</td>\n",
       "      <td>0.002665</td>\n",
       "      <td>0.001387</td>\n",
       "      <td>0.000053</td>\n",
       "    </tr>\n",
       "    <tr>\n",
       "      <th>802</th>\n",
       "      <td>S1568</td>\n",
       "      <td>0.001498</td>\n",
       "      <td>0.000872</td>\n",
       "      <td>0.000942</td>\n",
       "      <td>0.030787</td>\n",
       "      <td>0.000035</td>\n",
       "      <td>0.004857</td>\n",
       "      <td>0.004918</td>\n",
       "      <td>0.984616</td>\n",
       "      <td>0.002707</td>\n",
       "      <td>0.000139</td>\n",
       "    </tr>\n",
       "    <tr>\n",
       "      <th>803</th>\n",
       "      <td>S1569</td>\n",
       "      <td>0.002974</td>\n",
       "      <td>0.002959</td>\n",
       "      <td>0.979513</td>\n",
       "      <td>0.002240</td>\n",
       "      <td>0.000054</td>\n",
       "      <td>0.002589</td>\n",
       "      <td>0.993119</td>\n",
       "      <td>0.000878</td>\n",
       "      <td>0.030316</td>\n",
       "      <td>0.000052</td>\n",
       "    </tr>\n",
       "  </tbody>\n",
       "</table>\n",
       "<p>804 rows × 11 columns</p>\n",
       "</div>"
      ],
      "text/plain": [
       "    sample_id    basalt  carbonate  chloride  iron_oxide   oxalate  \\\n",
       "0       S0766       NaN        NaN       NaN         NaN       NaN   \n",
       "1       S0767       NaN        NaN       NaN         NaN       NaN   \n",
       "2       S0768       NaN        NaN       NaN         NaN       NaN   \n",
       "3       S0769       NaN        NaN       NaN         NaN       NaN   \n",
       "4       S0770       NaN        NaN       NaN         NaN       NaN   \n",
       "..        ...       ...        ...       ...         ...       ...   \n",
       "799     S1565  0.001653   0.001499  0.011389    0.051463  0.000077   \n",
       "800     S1566  0.001710   0.002062  0.019702    0.981612  0.000040   \n",
       "801     S1567  0.003572   0.001285  0.988541    0.997656  0.000066   \n",
       "802     S1568  0.001498   0.000872  0.000942    0.030787  0.000035   \n",
       "803     S1569  0.002974   0.002959  0.979513    0.002240  0.000054   \n",
       "\n",
       "     oxychlorine  phyllosilicate  silicate   sulfate   sulfide  \n",
       "0            NaN             NaN       NaN       NaN       NaN  \n",
       "1            NaN             NaN       NaN       NaN       NaN  \n",
       "2            NaN             NaN       NaN       NaN       NaN  \n",
       "3            NaN             NaN       NaN       NaN       NaN  \n",
       "4            NaN             NaN       NaN       NaN       NaN  \n",
       "..           ...             ...       ...       ...       ...  \n",
       "799     0.005921        0.008052  0.091713  0.002178  0.000223  \n",
       "800     0.985512        0.049364  0.000779  0.002610  0.000072  \n",
       "801     0.030486        0.993354  0.002665  0.001387  0.000053  \n",
       "802     0.004857        0.004918  0.984616  0.002707  0.000139  \n",
       "803     0.002589        0.993119  0.000878  0.030316  0.000052  \n",
       "\n",
       "[804 rows x 11 columns]"
      ]
     },
     "execution_count": 127,
     "metadata": {},
     "output_type": "execute_result"
    }
   ],
   "source": [
    "submission_format"
   ]
  },
  {
   "cell_type": "code",
   "execution_count": null,
   "metadata": {},
   "outputs": [],
   "source": [
    "# calib_avg_preds = pd.read_csv('submissions/calb_avg_preds')  # 3rd\n",
    "# cb_preds = pd.read_csv('submissions/cb_preds.csv')   # 2nd \n",
    "# avg_preds = pd.read_csv('submissions/avg_preds.csv')   # 1st"
   ]
  }
 ],
 "metadata": {
  "interpreter": {
   "hash": "518a807dccee1bb2cf00c0cea9388abbe4210a3c385c01718c979ef7759eaf87"
  },
  "kernelspec": {
   "display_name": "Python 3.9.5 64-bit",
   "language": "python",
   "name": "python3"
  },
  "language_info": {
   "codemirror_mode": {
    "name": "ipython",
    "version": 3
   },
   "file_extension": ".py",
   "mimetype": "text/x-python",
   "name": "python",
   "nbconvert_exporter": "python",
   "pygments_lexer": "ipython3",
   "version": "3.9.5"
  },
  "orig_nbformat": 4
 },
 "nbformat": 4,
 "nbformat_minor": 2
}
