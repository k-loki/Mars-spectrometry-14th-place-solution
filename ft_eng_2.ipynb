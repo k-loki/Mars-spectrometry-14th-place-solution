{
 "cells": [
  {
   "cell_type": "markdown",
   "metadata": {},
   "source": [
    "#  import stuff"
   ]
  },
  {
   "cell_type": "code",
   "execution_count": 2,
   "metadata": {},
   "outputs": [
    {
     "name": "stderr",
     "output_type": "stream",
     "text": [
      "C:\\Users\\kurma\\AppData\\Local\\Programs\\Python\\Python39\\lib\\site-packages\\xgboost\\compat.py:36: FutureWarning: pandas.Int64Index is deprecated and will be removed from pandas in a future version. Use pandas.Index with the appropriate dtype instead.\n",
      "  from pandas import MultiIndex, Int64Index\n"
     ]
    }
   ],
   "source": [
    "import pandas as pd\n",
    "import numpy as np\n",
    "import matplotlib.pyplot as plt\n",
    "import seaborn as sns\n",
    "import itertools\n",
    "import os\n",
    "import random\n",
    "from tqdm import tqdm\n",
    "import featuretools as ft\n",
    "from joblib import dump, load\n",
    "from imblearn.combine import SMOTETomek\n",
    "\n",
    "from sklearn.preprocessing import MinMaxScaler, minmax_scale, scale, power_transform, quantile_transform, normalize \n",
    "from sklearn.linear_model import LogisticRegression\n",
    "from sklearn.metrics import make_scorer, log_loss\n",
    "from sklearn.model_selection import StratifiedKFold, cross_val_score, train_test_split\n",
    "from sklearn.multioutput import MultiOutputClassifier\n",
    "from  sklearn.decomposition import PCA\n",
    "from sklearn.manifold import TSNE\n",
    "from sklearn.svm import SVC\n",
    "from sklearn.pipeline import make_pipeline,Pipeline\n",
    "from sklearn.discriminant_analysis import LinearDiscriminantAnalysis, QuadraticDiscriminantAnalysis\n",
    "from sklearn.calibration import CalibratedClassifierCV\n",
    "\n",
    "from lightgbm import LGBMClassifier\n",
    "from xgboost import XGBClassifier\n",
    "from catboost import CatBoostClassifier\n",
    "\n",
    "from tensorflow.keras import layers,models,metrics,callbacks,losses\n",
    "from tensorflow.keras.activations import relu,sigmoid,swish,tanh,selu\n",
    "from tensorflow.keras.optimizers import SGD,Adam,RMSprop,Adadelta,Nadam\n",
    "from tensorflow.keras.models import Model, Sequential,load_model\n",
    "import tensorflow as tf\n",
    "\n",
    "RANDOM_SEED = 777\n",
    "np.random.seed(RANDOM_SEED)\n",
    "random.seed(RANDOM_SEED)\n",
    "os.environ['PYTHONHASHSEED'] = str(RANDOM_SEED)\n",
    "    \n",
    "import warnings\n",
    "warnings.filterwarnings(\n",
    "    action='ignore',\n",
    ")"
   ]
  },
  {
   "cell_type": "code",
   "execution_count": 3,
   "metadata": {},
   "outputs": [],
   "source": [
    "metadata = pd.read_csv('data/metadata.csv')\n",
    "sup_metadata = pd.read_csv('data/supplemental_metadata.csv')\n",
    "train_labels = pd.read_csv('data/train_labels.csv', index_col=\"sample_id\")\n",
    "val_labels = pd.read_csv('data/val_labels.csv',index_col='sample_id')\n",
    "targets = pd.read_csv('targets.csv',index_col='sample_id')\n",
    "submission_format = pd.read_csv('data/submission_format.csv')"
   ]
  },
  {
   "cell_type": "markdown",
   "metadata": {},
   "source": [
    "# Load data"
   ]
  },
  {
   "cell_type": "code",
   "execution_count": 4,
   "metadata": {},
   "outputs": [],
   "source": [
    "test_df = pd.read_csv('data/test_df.csv',index_col=0,header=[0,1])\n",
    "train_df = pd.read_csv('data/train_df.csv',index_col=0,header=[0,1])\n",
    "val_df = pd.read_csv('data/val_df.csv',index_col=0,header=[0,1])\n",
    "\n",
    "val_df.index = metadata[metadata.split == 'val'].sample_id\n",
    "\n",
    "val_df.sort_index(inplace=True,axis=1)\n",
    "test_df.sort_index(inplace=True,axis=1)\n",
    "train_df.sort_index(inplace=True,axis=1)"
   ]
  },
  {
   "cell_type": "code",
   "execution_count": 5,
   "metadata": {},
   "outputs": [
    {
     "name": "stdout",
     "output_type": "stream",
     "text": [
      "Wall time: 57.4 s\n"
     ]
    }
   ],
   "source": [
    "%%time\n",
    "train_df_5 = pd.read_csv('train/train_df_5.csv',index_col=0,header=[0,1])\n",
    "val_df_5 = pd.read_csv('train/val_df_5.csv',index_col=0,header=[0,1])\n",
    "test_df_5 = pd.read_csv('test/test_df_5.csv',index_col=0,header=[0,1])\n",
    "\n",
    "test_df_5.sort_index(inplace=True,axis=1)\n",
    "val_df_5.sort_index(inplace=True,axis=1)\n",
    "train_df_5.sort_index(inplace=True,axis=1)"
   ]
  },
  {
   "cell_type": "code",
   "execution_count": 6,
   "metadata": {},
   "outputs": [
    {
     "name": "stdout",
     "output_type": "stream",
     "text": [
      "Wall time: 1.76 s\n"
     ]
    }
   ],
   "source": [
    "%%time\n",
    "train_set_50 = pd.read_csv('train/train_val_50.csv',index_col=0,header=[0,1])\n",
    "test_df_50 = pd.read_csv('test/test_df_50.csv',index_col=0,header=[0,1])\n",
    "val_df_50 = train_set_50[:val_df.shape[0]]\n",
    "\n",
    "test_df_50.sort_index(inplace=True,axis=1)\n",
    "train_set_50.sort_index(inplace=True,axis=1)"
   ]
  },
  {
   "cell_type": "code",
   "execution_count": 7,
   "metadata": {},
   "outputs": [],
   "source": [
    "train_df_200 = pd.read_csv('train/train_df_200.csv',index_col=0,header=[0,1])\n",
    "val_df_200 = pd.read_csv('train/val_df_200.csv',index_col=0,header=[0,1])\n",
    "test_df_200 = pd.read_csv('test/test_df_200.csv',index_col=0,header=[0,1])\n",
    "\n",
    "test_df_200.sort_index(inplace=True,axis=1)\n",
    "val_df_200.sort_index(inplace=True,axis=1)\n",
    "train_df_200.sort_index(inplace=True,axis=1)"
   ]
  },
  {
   "cell_type": "code",
   "execution_count": 8,
   "metadata": {},
   "outputs": [],
   "source": [
    "train_df_500 = pd.read_csv('train/train_df_500.csv',index_col=0,header=[0,1])\n",
    "val_df_500 = pd.read_csv('train/val_df_500.csv',index_col=0,header=[0,1])\n",
    "test_df_500 = pd.read_csv('test/test_df_500.csv',index_col=0,header=[0,1])\n",
    "\n",
    "test_df_500.sort_index(inplace=True,axis=1)\n",
    "val_df_500.sort_index(inplace=True,axis=1)\n",
    "train_df_500.sort_index(inplace=True,axis=1)"
   ]
  },
  {
   "cell_type": "code",
   "execution_count": 9,
   "metadata": {},
   "outputs": [
    {
     "data": {
      "text/plain": [
       "((766, 400), (766, 1000), (766, 1600), (1059, 4200), (766, 42000))"
      ]
     },
     "execution_count": 9,
     "metadata": {},
     "output_type": "execute_result"
    }
   ],
   "source": [
    "train_df_500.shape,train_df_200.shape, train_df.shape, train_set_50.shape, train_df_5.shape"
   ]
  },
  {
   "cell_type": "code",
   "execution_count": 10,
   "metadata": {},
   "outputs": [],
   "source": [
    "train_set_5 = pd.concat([train_df_5,val_df_5],axis=0)\n",
    "# train_set_50 = pd.concat([train_set_50,val_df_50],axis=0)\n",
    "train_set_100 = pd.concat([train_df,val_df],axis=0)\n",
    "train_set_200 = pd.concat([train_df_200,val_df_200],axis=0)\n",
    "train_set_500 = pd.concat([train_df_500,val_df_500],axis=0)"
   ]
  },
  {
   "cell_type": "code",
   "execution_count": 11,
   "metadata": {},
   "outputs": [],
   "source": [
    "test_set_5 = pd.concat([val_df_5,test_df_5],axis=0)\n",
    "test_set_50 = pd.concat([val_df_50,test_df_50],axis=0)\n",
    "test_set_100 = pd.concat([val_df,test_df],axis=0)\n",
    "test_set_200 = pd.concat([val_df_200,test_df_200],axis=0)\n",
    "test_set_500 = pd.concat([val_df_500,test_df_500],axis=0)"
   ]
  },
  {
   "cell_type": "markdown",
   "metadata": {},
   "source": [
    "# Binning"
   ]
  },
  {
   "cell_type": "code",
   "execution_count": 8,
   "metadata": {},
   "outputs": [
    {
     "data": {
      "text/plain": [
       "Int64Index([ 754,  755,  756,  757,  758,  759,  760,  761,  762,  763,  764,\n",
       "             765, 1506, 1507, 1508, 1509, 1510, 1511, 1512, 1513, 1514, 1515,\n",
       "            1516, 1517, 1518, 1519, 1520, 1521, 1522, 1523, 1524, 1525, 1526,\n",
       "            1527, 1528, 1529, 1530, 1531, 1532, 1533, 1534, 1535, 1536, 1537,\n",
       "            1538, 1539, 1540, 1541, 1542, 1543, 1544, 1545, 1546, 1547, 1548,\n",
       "            1549, 1550, 1551, 1552, 1553, 1554, 1555, 1556, 1557, 1558, 1559,\n",
       "            1560, 1561, 1562, 1563, 1564, 1565, 1566, 1567, 1568, 1569],\n",
       "           dtype='int64')"
      ]
     },
     "execution_count": 8,
     "metadata": {},
     "output_type": "execute_result"
    }
   ],
   "source": [
    "sam_id = metadata[metadata.instrument_type == 'sam_testbed'].index\n",
    "sam_id"
   ]
  },
  {
   "cell_type": "code",
   "execution_count": 5,
   "metadata": {},
   "outputs": [
    {
     "name": "stdout",
     "output_type": "stream",
     "text": [
      "Number of training samples:  766\n",
      "Number of validation samples:  293\n",
      "Number of testing samples:  511\n"
     ]
    }
   ],
   "source": [
    "train_files = metadata[metadata[\"split\"] == \"train\"][\"features_path\"].to_dict()\n",
    "val_files = metadata[metadata[\"split\"] == \"val\"][\"features_path\"].to_dict()\n",
    "test_files = metadata[metadata[\"split\"] == \"test\"][\"features_path\"].to_dict()\n",
    "\n",
    "print(\"Number of training samples: \", len(train_files))\n",
    "print(\"Number of validation samples: \", len(val_files))\n",
    "print(\"Number of testing samples: \", len(test_files))"
   ]
  },
  {
   "cell_type": "code",
   "execution_count": 80,
   "metadata": {},
   "outputs": [],
   "source": [
    "def drop_frac_and_He(df):\n",
    "    \"\"\"\n",
    "    Drops fractional m/z values, m/z values > 100, and carrier gas m/z\n",
    "\n",
    "    Args:\n",
    "        df: a dataframe representing a single sample, containing m/z values\n",
    "\n",
    "    Returns:\n",
    "        The dataframe without fractional an carrier gas m/z\n",
    "    \"\"\"\n",
    "\n",
    "    # drop fractional m/z values\n",
    "    df = df[df[\"m/z\"].transform(round) == df[\"m/z\"]]\n",
    "    assert df[\"m/z\"].apply(float.is_integer).all(), \"not all m/z are integers\"\n",
    "\n",
    "    # drop m/z values greater than 99\n",
    "    df = df[df[\"m/z\"] < 100]\n",
    "\n",
    "    # drop carrier gas\n",
    "    df = df[df[\"m/z\"] != 4]\n",
    "    \n",
    "    return df\n",
    "\n",
    "def remove_background_abundance(df):\n",
    "    \"\"\"\n",
    "    Subtracts minimum abundance value\n",
    "\n",
    "    Args:\n",
    "        df: dataframe with 'm/z' and 'abundance' columns\n",
    "\n",
    "    Returns:\n",
    "        dataframe with minimum abundance subtracted for all observations\n",
    "    \"\"\"\n",
    "\n",
    "    df[\"abundance_minsub\"] = df.groupby([\"m/z\"])[\"abundance\"].transform(\n",
    "        lambda x: (x - x.min())\n",
    "    )\n",
    "\n",
    "    return df\n",
    "    \n",
    "def scale_abun(df):\n",
    "    \"\"\"\n",
    "    Scale abundance from 0-100 according to the min and max values across entire sample\n",
    "\n",
    "    Args:\n",
    "        df: dataframe containing abundances and m/z\n",
    "\n",
    "    Returns:\n",
    "        dataframe with additional column of scaled abundances\n",
    "    \"\"\"\n",
    "    # v1 =  naive qt transformation (uniform distribution)\n",
    "    # v2 =  min-max scaling + qt transformation\n",
    "    # v3 = qt transformation based on groupby mz\n",
    "    \n",
    "    print('original')\n",
    "    sns.kdeplot(df[\"abundance_minsub\"])\n",
    "    plt.show()\n",
    "\n",
    "    # df[\"abun_minsub_scaled\"] = quantile_transform(df[\"abundance_minsub\"].astype(float).values.reshape(-1,1),output_distribution='uniform',random_state=RANDOM_SEED)\n",
    "    print('minmax')\n",
    "    df[\"abun_minsub_scaled\"] = minmax_scale(df[\"abundance_minsub\"].astype(float))\n",
    "    for i in range(100):\n",
    "        try:\n",
    "            \n",
    "            df['abun_minsub_scaled'] = quantile_transform(\n",
    "                temp.groupby('m/z')['abundance'].get_group(i).values.reshape(-1,1),\n",
    "                output_distribution='uniform',\n",
    "                random_state=RANDOM_SEED\n",
    "                )\n",
    "        except:\n",
    "            print(f'no mz --> {i}')\n",
    "            pass\n",
    "    \n",
    "    return df"
   ]
  },
  {
   "cell_type": "code",
   "execution_count": 75,
   "metadata": {},
   "outputs": [],
   "source": [
    "def load_sample(n):\n",
    "    if n < len(train_files):\n",
    "        idx = metadata.loc[n,'sample_id']\n",
    "        print(idx)\n",
    "        df = pd.read_csv('data/train_features/'+idx+'.csv')\n",
    "    else:\n",
    "        idx = metadata.loc[n,'sample_id']\n",
    "        print(idx)\n",
    "        df = pd.read_csv('data/test_features/'+idx+'.csv')\n",
    "    return df"
   ]
  },
  {
   "cell_type": "code",
   "execution_count": 77,
   "metadata": {},
   "outputs": [
    {
     "name": "stdout",
     "output_type": "stream",
     "text": [
      "S0760\n"
     ]
    },
    {
     "data": {
      "text/html": [
       "<div>\n",
       "<style scoped>\n",
       "    .dataframe tbody tr th:only-of-type {\n",
       "        vertical-align: middle;\n",
       "    }\n",
       "\n",
       "    .dataframe tbody tr th {\n",
       "        vertical-align: top;\n",
       "    }\n",
       "\n",
       "    .dataframe thead th {\n",
       "        text-align: right;\n",
       "    }\n",
       "</style>\n",
       "<table border=\"1\" class=\"dataframe\">\n",
       "  <thead>\n",
       "    <tr style=\"text-align: right;\">\n",
       "      <th></th>\n",
       "      <th>time</th>\n",
       "      <th>temp</th>\n",
       "      <th>m/z</th>\n",
       "      <th>abundance</th>\n",
       "    </tr>\n",
       "  </thead>\n",
       "  <tbody>\n",
       "    <tr>\n",
       "      <th>0</th>\n",
       "      <td>0.00</td>\n",
       "      <td>0.000</td>\n",
       "      <td>78.0</td>\n",
       "      <td>647.1</td>\n",
       "    </tr>\n",
       "    <tr>\n",
       "      <th>1</th>\n",
       "      <td>0.02</td>\n",
       "      <td>0.000</td>\n",
       "      <td>79.0</td>\n",
       "      <td>235.3</td>\n",
       "    </tr>\n",
       "    <tr>\n",
       "      <th>2</th>\n",
       "      <td>0.04</td>\n",
       "      <td>0.000</td>\n",
       "      <td>80.0</td>\n",
       "      <td>294.1</td>\n",
       "    </tr>\n",
       "    <tr>\n",
       "      <th>3</th>\n",
       "      <td>0.06</td>\n",
       "      <td>0.000</td>\n",
       "      <td>81.0</td>\n",
       "      <td>470.6</td>\n",
       "    </tr>\n",
       "    <tr>\n",
       "      <th>4</th>\n",
       "      <td>0.26</td>\n",
       "      <td>0.000</td>\n",
       "      <td>82.0</td>\n",
       "      <td>176.5</td>\n",
       "    </tr>\n",
       "    <tr>\n",
       "      <th>...</th>\n",
       "      <td>...</td>\n",
       "      <td>...</td>\n",
       "      <td>...</td>\n",
       "      <td>...</td>\n",
       "    </tr>\n",
       "    <tr>\n",
       "      <th>89786</th>\n",
       "      <td>2494.24</td>\n",
       "      <td>1100.556</td>\n",
       "      <td>165.0</td>\n",
       "      <td>0.0</td>\n",
       "    </tr>\n",
       "    <tr>\n",
       "      <th>89787</th>\n",
       "      <td>2494.26</td>\n",
       "      <td>1100.544</td>\n",
       "      <td>166.0</td>\n",
       "      <td>0.0</td>\n",
       "    </tr>\n",
       "    <tr>\n",
       "      <th>89788</th>\n",
       "      <td>2494.28</td>\n",
       "      <td>1100.532</td>\n",
       "      <td>167.0</td>\n",
       "      <td>0.0</td>\n",
       "    </tr>\n",
       "    <tr>\n",
       "      <th>89789</th>\n",
       "      <td>2494.30</td>\n",
       "      <td>1100.520</td>\n",
       "      <td>168.0</td>\n",
       "      <td>0.0</td>\n",
       "    </tr>\n",
       "    <tr>\n",
       "      <th>89790</th>\n",
       "      <td>2494.32</td>\n",
       "      <td>1100.508</td>\n",
       "      <td>169.0</td>\n",
       "      <td>529.4</td>\n",
       "    </tr>\n",
       "  </tbody>\n",
       "</table>\n",
       "<p>89791 rows × 4 columns</p>\n",
       "</div>"
      ],
      "text/plain": [
       "          time      temp    m/z  abundance\n",
       "0         0.00     0.000   78.0      647.1\n",
       "1         0.02     0.000   79.0      235.3\n",
       "2         0.04     0.000   80.0      294.1\n",
       "3         0.06     0.000   81.0      470.6\n",
       "4         0.26     0.000   82.0      176.5\n",
       "...        ...       ...    ...        ...\n",
       "89786  2494.24  1100.556  165.0        0.0\n",
       "89787  2494.26  1100.544  166.0        0.0\n",
       "89788  2494.28  1100.532  167.0        0.0\n",
       "89789  2494.30  1100.520  168.0        0.0\n",
       "89790  2494.32  1100.508  169.0      529.4\n",
       "\n",
       "[89791 rows x 4 columns]"
      ]
     },
     "execution_count": 77,
     "metadata": {},
     "output_type": "execute_result"
    }
   ],
   "source": [
    "temp = load_sample(760)\n",
    "temp"
   ]
  },
  {
   "cell_type": "code",
   "execution_count": 79,
   "metadata": {},
   "outputs": [
    {
     "name": "stdout",
     "output_type": "stream",
     "text": [
      "S0000\n",
      "S0001\n",
      "S0002\n",
      "S0003\n",
      "S0004\n",
      "S0005\n",
      "S0006\n",
      "S0007\n",
      "S0008\n",
      "S0009\n",
      "S0010\n",
      "S0011\n",
      "S0012\n",
      "S0013\n",
      "S0014\n",
      "S0015\n",
      "S0016\n",
      "S0017\n",
      "S0018\n",
      "S0019\n",
      "S0020\n",
      "S0021\n",
      "S0022\n",
      "S0023\n",
      "S0024\n",
      "S0025\n",
      "S0026\n",
      "S0027\n",
      "S0028\n",
      "S0029\n",
      "S0030\n",
      "S0031\n",
      "S0032\n",
      "S0033\n",
      "S0034\n",
      "S0035\n",
      "S0036\n",
      "S0037\n",
      "S0038\n",
      "S0039\n"
     ]
    },
    {
     "data": {
      "image/png": "[encoded data removed]",
      "text/plain": [
       "<Figure size 432x288 with 1 Axes>"
      ]
     },
     "metadata": {
      "needs_background": "light"
     },
     "output_type": "display_data"
    }
   ],
   "source": [
    "for i in range(40):\n",
    "    temp = load_sample(i)\n",
    "    plt.plot(quantile_transform(temp.groupby('m/z')['abundance'].get_group(i).values.reshape(-1,1),output_distribution='uniform',random_state=RANDOM_SEED))"
   ]
  },
  {
   "cell_type": "code",
   "execution_count": 35,
   "metadata": {},
   "outputs": [],
   "source": [
    "# Preprocess function\n",
    "def preprocess_sample(df):\n",
    "    df = drop_frac_and_He(df)\n",
    "    df = remove_background_abundance(df)\n",
    "    df = scale_abun(df)\n",
    "    return df"
   ]
  },
  {
   "cell_type": "code",
   "execution_count": 50,
   "metadata": {},
   "outputs": [
    {
     "name": "stdout",
     "output_type": "stream",
     "text": [
      "(2100, 2)\n"
     ]
    },
    {
     "data": {
      "text/html": [
       "<div>\n",
       "<style scoped>\n",
       "    .dataframe tbody tr th:only-of-type {\n",
       "        vertical-align: middle;\n",
       "    }\n",
       "\n",
       "    .dataframe tbody tr th {\n",
       "        vertical-align: top;\n",
       "    }\n",
       "\n",
       "    .dataframe thead th {\n",
       "        text-align: right;\n",
       "    }\n",
       "</style>\n",
       "<table border=\"1\" class=\"dataframe\">\n",
       "  <thead>\n",
       "    <tr style=\"text-align: right;\">\n",
       "      <th></th>\n",
       "      <th>temp_bin</th>\n",
       "      <th>m/z</th>\n",
       "    </tr>\n",
       "  </thead>\n",
       "  <tbody>\n",
       "    <tr>\n",
       "      <th>0</th>\n",
       "      <td>(-100, 0]</td>\n",
       "      <td>0</td>\n",
       "    </tr>\n",
       "    <tr>\n",
       "      <th>1</th>\n",
       "      <td>(-100, 0]</td>\n",
       "      <td>1</td>\n",
       "    </tr>\n",
       "    <tr>\n",
       "      <th>2</th>\n",
       "      <td>(-100, 0]</td>\n",
       "      <td>2</td>\n",
       "    </tr>\n",
       "    <tr>\n",
       "      <th>3</th>\n",
       "      <td>(-100, 0]</td>\n",
       "      <td>3</td>\n",
       "    </tr>\n",
       "    <tr>\n",
       "      <th>4</th>\n",
       "      <td>(-100, 0]</td>\n",
       "      <td>4</td>\n",
       "    </tr>\n",
       "  </tbody>\n",
       "</table>\n",
       "</div>"
      ],
      "text/plain": [
       "    temp_bin  m/z\n",
       "0  (-100, 0]    0\n",
       "1  (-100, 0]    1\n",
       "2  (-100, 0]    2\n",
       "3  (-100, 0]    3\n",
       "4  (-100, 0]    4"
      ]
     },
     "execution_count": 50,
     "metadata": {},
     "output_type": "execute_result"
    }
   ],
   "source": [
    "# Create a series of temperature bins\n",
    "temprange = pd.interval_range(start=-100, end=2000, freq=100)\n",
    "temprange\n",
    "\n",
    "# Make dataframe with rows that are combinations of all temperature bins\n",
    "# and all m/z values\n",
    "allcombs = list(itertools.product(temprange, [*range(0, 100)]))\n",
    "\n",
    "allcombs_df = pd.DataFrame(allcombs, columns=[\"temp_bin\", \"m/z\"])\n",
    "print(allcombs_df.shape)\n",
    "allcombs_df.head()"
   ]
  },
  {
   "cell_type": "code",
   "execution_count": 49,
   "metadata": {},
   "outputs": [],
   "source": [
    "def abun_per_tempbin(df):\n",
    "\n",
    "    \"\"\"\n",
    "    Transforms dataset to take the preprocessed max abundance for each\n",
    "    temperature range for each m/z value\n",
    "\n",
    "    Args:\n",
    "        df: dataframe to transform\n",
    "\n",
    "    Returns:\n",
    "        transformed dataframe\n",
    "    \"\"\"\n",
    "    \n",
    "    # Bin temperatures\n",
    "    df[\"temp_bin\"] = pd.cut(df[\"temp\"], bins=temprange)\n",
    "\n",
    "    # Combine with a list of all temp bin-m/z value combinations\n",
    "    df = pd.merge(allcombs_df, df, on=[\"temp_bin\", \"m/z\"], how=\"left\")\n",
    "\n",
    "    # Aggregate to temperature bin level to find max\n",
    "    df = df.groupby([\"temp_bin\", \"m/z\"]).max(\"abun_minsub_scaled\").reset_index()\n",
    "\n",
    "    # Fill in 0 for abundance values without information\n",
    "    df = df.replace(np.nan, 0)\n",
    "\n",
    "    # Reshape so each row is a single sample\n",
    "    df = df.pivot_table(columns=[\"m/z\", \"temp_bin\"], values=[\"abun_minsub_scaled\"])\n",
    "\n",
    "    return df"
   ]
  },
  {
   "cell_type": "code",
   "execution_count": 38,
   "metadata": {},
   "outputs": [],
   "source": [
    "def sam_2_com(df):\n",
    "    df['abundance'] = df['abundance']*1.60217646 * 10**-19\n",
    "    df['time'] = minmax_scale(df['time'],feature_range=(0,1800))\n",
    "    df['temp'] = minmax_scale(df['temp'],feature_range=(0,1200))\n",
    "    return df"
   ]
  },
  {
   "cell_type": "code",
   "execution_count": 81,
   "metadata": {},
   "outputs": [
    {
     "name": "stderr",
     "output_type": "stream",
     "text": [
      "  0%|          | 0/766 [00:00<?, ?it/s]"
     ]
    },
    {
     "name": "stdout",
     "output_type": "stream",
     "text": [
      "Total number of train files:  766\n",
      "original\n"
     ]
    },
    {
     "data": {
      "image/png": "[encoded data removed]",
      "text/plain": [
       "<Figure size 432x288 with 1 Axes>"
      ]
     },
     "metadata": {
      "needs_background": "light"
     },
     "output_type": "display_data"
    },
    {
     "name": "stdout",
     "output_type": "stream",
     "text": [
      "minmax\n"
     ]
    },
    {
     "data": {
      "image/png": "[encoded data removed]",
      "text/plain": [
       "<Figure size 432x288 with 1 Axes>"
      ]
     },
     "metadata": {
      "needs_background": "light"
     },
     "output_type": "display_data"
    },
    {
     "name": "stdout",
     "output_type": "stream",
     "text": [
      "qt\n"
     ]
    },
    {
     "data": {
      "image/png": "[encoded data removed]",
      "text/plain": [
       "<Figure size 432x288 with 1 Axes>"
      ]
     },
     "metadata": {
      "needs_background": "light"
     },
     "output_type": "display_data"
    },
    {
     "name": "stdout",
     "output_type": "stream",
     "text": [
      "qt\n"
     ]
    },
    {
     "data": {
      "image/png": "[encoded data removed]",
      "text/plain": [
       "<Figure size 432x288 with 1 Axes>"
      ]
     },
     "metadata": {
      "needs_background": "light"
     },
     "output_type": "display_data"
    },
    {
     "name": "stderr",
     "output_type": "stream",
     "text": [
      "  0%|          | 0/766 [00:01<?, ?it/s]\n"
     ]
    }
   ],
   "source": [
    "# Assembling preprocessed and transformed training set\n",
    "\n",
    "train_features_dict = {}\n",
    "print(\"Total number of train files: \", len(train_files))\n",
    "\n",
    "for i, (sample_id, filepath) in enumerate(tqdm(train_files.items())):\n",
    "\n",
    "    # Load training sample\n",
    "    temp = pd.read_csv('data/' + filepath)\n",
    "\n",
    "    # map sam samples to com samples\n",
    "    if sample_id in sam_id:\n",
    "        temp = sam_2_com(temp)\n",
    "    \n",
    "    # Preprocessing training sample\n",
    "    train_sample_pp = preprocess_sample(temp)\n",
    "\n",
    "    # Feature engineering\n",
    "    train_sample_fe = abun_per_tempbin(train_sample_pp).reset_index(drop=True)\n",
    "    train_features_dict[sample_id] = train_sample_fe\n",
    "    break\n",
    "\n",
    "train_features = pd.concat(\n",
    "    train_features_dict, names=[\"sample_id\", \"dummy_index\"]\n",
    ").reset_index(level=\"dummy_index\", drop=True)"
   ]
  },
  {
   "cell_type": "code",
   "execution_count": null,
   "metadata": {},
   "outputs": [],
   "source": [
    "# Assembling preprocessed and transformed valing set\n",
    "\n",
    "val_features_dict = {}\n",
    "print(\"Total number of val files: \", len(val_files))\n",
    "\n",
    "for i, (sample_id, filepath) in enumerate(tqdm(val_files.items())):\n",
    "\n",
    "    # Load valing sample\n",
    "    temp = pd.read_csv('data/' + filepath)\n",
    "\n",
    "    # Preprocessing valing sample\n",
    "    val_sample_pp = preprocess_sample(temp)\n",
    "\n",
    "    # Feature engineering\n",
    "    val_sample_fe = abun_per_tempbin(val_sample_pp).reset_index(drop=True)\n",
    "    val_features_dict[sample_id] = val_sample_fe\n",
    "\n",
    "val_features = pd.concat(\n",
    "    val_features_dict, names=[\"sample_id\", \"dummy_index\"]\n",
    ").reset_index(level=\"dummy_index\", drop=True)"
   ]
  },
  {
   "cell_type": "code",
   "execution_count": null,
   "metadata": {},
   "outputs": [],
   "source": [
    "# Assembling preprocessed and transformed testing set\n",
    "\n",
    "test_features_dict = {}\n",
    "print(\"Total number of test files: \", len(test_files))\n",
    "\n",
    "for i, (sample_id, filepath) in enumerate(tqdm(test_files.items())):\n",
    "\n",
    "    # Load testing sample\n",
    "    temp = pd.read_csv('data/' + filepath)\n",
    "\n",
    "    # map sam samples to com samples\n",
    "    if sample_id in sam_id:\n",
    "        temp = sam_2_com(temp)\n",
    "\n",
    "    # Preprocessing testing sample\n",
    "    test_sample_pp = preprocess_sample(temp)\n",
    "\n",
    "    # Feature engineering\n",
    "    test_sample_fe = abun_per_tempbin(test_sample_pp).reset_index(drop=True)\n",
    "    test_features_dict[sample_id] = test_sample_fe\n",
    "\n",
    "test_features = pd.concat(\n",
    "    test_features_dict, names=[\"sample_id\", \"dummy_index\"]\n",
    ").reset_index(level=\"dummy_index\", drop=True)"
   ]
  },
  {
   "cell_type": "code",
   "execution_count": null,
   "metadata": {},
   "outputs": [],
   "source": []
  },
  {
   "cell_type": "code",
   "execution_count": null,
   "metadata": {},
   "outputs": [],
   "source": []
  },
  {
   "cell_type": "code",
   "execution_count": null,
   "metadata": {},
   "outputs": [],
   "source": []
  },
  {
   "cell_type": "code",
   "execution_count": null,
   "metadata": {},
   "outputs": [],
   "source": []
  },
  {
   "cell_type": "code",
   "execution_count": null,
   "metadata": {},
   "outputs": [],
   "source": []
  },
  {
   "cell_type": "code",
   "execution_count": null,
   "metadata": {},
   "outputs": [],
   "source": []
  },
  {
   "cell_type": "markdown",
   "metadata": {},
   "source": [
    "# total abundance\n",
    "- this varies coz of min max scaling..."
   ]
  },
  {
   "cell_type": "markdown",
   "metadata": {},
   "source": [
    "- get mz is here....."
   ]
  },
  {
   "cell_type": "code",
   "execution_count": 15,
   "metadata": {},
   "outputs": [],
   "source": [
    "def get_mz(mz,df):\n",
    "    ''' returns list of columns for given mz'''\n",
    "    cols_list = []\n",
    "    for col in df.columns:\n",
    "        if col[0] == str(mz):\n",
    "            cols_list.append(col)\n",
    "    return cols_list"
   ]
  },
  {
   "cell_type": "code",
   "execution_count": 19,
   "metadata": {},
   "outputs": [],
   "source": [
    "def get_total_abundance(df):\n",
    "    ''' returns total abundance for each sample'''\n",
    "    tot_abund_df = pd.DataFrame(index=df.index)\n",
    "    tot_abund_df['tot_abund'] = df.sum(axis=1)\n",
    "    for mz in tqdm(range(0,100)):\n",
    "        tot_abund_df[f\"tot_abund_{mz}\"] = df[get_mz(mz,df)].sum(axis=1)\n",
    "    \n",
    "    print('tot_abund_df.shape',tot_abund_df.shape)\n",
    "    return tot_abund_df"
   ]
  },
  {
   "cell_type": "code",
   "execution_count": 20,
   "metadata": {},
   "outputs": [
    {
     "name": "stderr",
     "output_type": "stream",
     "text": [
      "100%|██████████| 100/100 [00:00<00:00, 276.96it/s]\n",
      " 25%|██▌       | 25/100 [00:00<00:00, 245.76it/s]"
     ]
    },
    {
     "name": "stdout",
     "output_type": "stream",
     "text": [
      "tot_abund_df.shape (1059, 101)\n"
     ]
    },
    {
     "name": "stderr",
     "output_type": "stream",
     "text": [
      "100%|██████████| 100/100 [00:00<00:00, 247.55it/s]\n",
      "  0%|          | 0/100 [00:00<?, ?it/s]"
     ]
    },
    {
     "name": "stdout",
     "output_type": "stream",
     "text": [
      "tot_abund_df.shape (1059, 101)\n"
     ]
    },
    {
     "name": "stderr",
     "output_type": "stream",
     "text": [
      "100%|██████████| 100/100 [00:01<00:00, 59.21it/s]\n",
      " 32%|███▏      | 32/100 [00:00<00:00, 318.50it/s]"
     ]
    },
    {
     "name": "stdout",
     "output_type": "stream",
     "text": [
      "tot_abund_df.shape (1059, 101)\n"
     ]
    },
    {
     "name": "stderr",
     "output_type": "stream",
     "text": [
      "100%|██████████| 100/100 [00:00<00:00, 322.24it/s]\n",
      " 83%|████████▎ | 83/100 [00:00<00:00, 416.76it/s]"
     ]
    },
    {
     "name": "stdout",
     "output_type": "stream",
     "text": [
      "tot_abund_df.shape (1059, 101)\n"
     ]
    },
    {
     "name": "stderr",
     "output_type": "stream",
     "text": [
      "100%|██████████| 100/100 [00:00<00:00, 361.74it/s]"
     ]
    },
    {
     "name": "stdout",
     "output_type": "stream",
     "text": [
      "tot_abund_df.shape (1059, 101)\n"
     ]
    },
    {
     "name": "stderr",
     "output_type": "stream",
     "text": [
      "\n"
     ]
    }
   ],
   "source": [
    "tot_abund_200 = get_total_abundance(train_set_200)\n",
    "tot_abund_50 = get_total_abundance(train_set_50)\n",
    "tot_abund_5 = get_total_abundance(train_set_5)\n",
    "tot_abund_100 = get_total_abundance(train_set_100)\n",
    "tot_abund_500 = get_total_abundance(train_set_500)"
   ]
  },
  {
   "cell_type": "code",
   "execution_count": 21,
   "metadata": {},
   "outputs": [
    {
     "name": "stderr",
     "output_type": "stream",
     "text": [
      "100%|██████████| 100/100 [00:01<00:00, 61.26it/s]\n",
      " 27%|██▋       | 27/100 [00:00<00:00, 265.47it/s]"
     ]
    },
    {
     "name": "stdout",
     "output_type": "stream",
     "text": [
      "tot_abund_df.shape (804, 101)\n"
     ]
    },
    {
     "name": "stderr",
     "output_type": "stream",
     "text": [
      "100%|██████████| 100/100 [00:00<00:00, 259.84it/s]\n",
      " 34%|███▍      | 34/100 [00:00<00:00, 337.65it/s]"
     ]
    },
    {
     "name": "stdout",
     "output_type": "stream",
     "text": [
      "tot_abund_df.shape (804, 101)\n"
     ]
    },
    {
     "name": "stderr",
     "output_type": "stream",
     "text": [
      "100%|██████████| 100/100 [00:00<00:00, 321.84it/s]\n",
      " 35%|███▌      | 35/100 [00:00<00:00, 343.05it/s]"
     ]
    },
    {
     "name": "stdout",
     "output_type": "stream",
     "text": [
      "tot_abund_df.shape (804, 101)\n"
     ]
    },
    {
     "name": "stderr",
     "output_type": "stream",
     "text": [
      "100%|██████████| 100/100 [00:00<00:00, 328.50it/s]\n",
      " 83%|████████▎ | 83/100 [00:00<00:00, 411.32it/s]"
     ]
    },
    {
     "name": "stdout",
     "output_type": "stream",
     "text": [
      "tot_abund_df.shape (804, 101)\n"
     ]
    },
    {
     "name": "stderr",
     "output_type": "stream",
     "text": [
      "100%|██████████| 100/100 [00:00<00:00, 366.21it/s]"
     ]
    },
    {
     "name": "stdout",
     "output_type": "stream",
     "text": [
      "tot_abund_df.shape (804, 101)\n"
     ]
    },
    {
     "name": "stderr",
     "output_type": "stream",
     "text": [
      "\n"
     ]
    }
   ],
   "source": [
    "tot_abund_5_test = get_total_abundance(test_set_5)\n",
    "tot_abund_50_test = get_total_abundance(test_set_50)\n",
    "tot_abund_100_test = get_total_abundance(test_set_100)\n",
    "tot_abund_200_test = get_total_abundance(test_set_200)\n",
    "tot_abund_500_test = get_total_abundance(test_set_500)"
   ]
  },
  {
   "cell_type": "code",
   "execution_count": 25,
   "metadata": {},
   "outputs": [],
   "source": [
    "# def get_tempbins(mz):\n",
    "#     col_list = []\n",
    "#     for col in train_df.columns:\n",
    "#         if col[0] == str(mz):\n",
    "#             col_list.append(col)\n",
    "#     return col_list"
   ]
  },
  {
   "cell_type": "code",
   "execution_count": 26,
   "metadata": {},
   "outputs": [],
   "source": [
    "# drop if all values are zero\n",
    "def check_col(df):\n",
    "    col_with_zeros = []\n",
    "    for id,col in enumerate(tqdm(df.columns)):\n",
    "        if df[col].nunique() == 1:\n",
    "            col_with_zeros.append(id)\n",
    "    return col_with_zeros"
   ]
  },
  {
   "cell_type": "code",
   "execution_count": null,
   "metadata": {},
   "outputs": [],
   "source": []
  },
  {
   "cell_type": "markdown",
   "metadata": {},
   "source": [
    "# get gradients"
   ]
  },
  {
   "cell_type": "code",
   "execution_count": 19,
   "metadata": {},
   "outputs": [
    {
     "data": {
      "image/png": "[encoded data removed]",
      "text/plain": [
       "<Figure size 432x288 with 1 Axes>"
      ]
     },
     "metadata": {
      "needs_background": "light"
     },
     "output_type": "display_data"
    }
   ],
   "source": [
    "train_set_200.loc[:5,get_mz(0,train_set_200)].plot();"
   ]
  },
  {
   "cell_type": "code",
   "execution_count": 20,
   "metadata": {},
   "outputs": [
    {
     "data": {
      "image/png": "[encoded data removed]",
      "text/plain": [
       "<Figure size 432x288 with 1 Axes>"
      ]
     },
     "metadata": {
      "needs_background": "light"
     },
     "output_type": "display_data"
    }
   ],
   "source": [
    "train_set_500.loc[:50,get_mz(0,train_set_500)].plot();"
   ]
  },
  {
   "cell_type": "code",
   "execution_count": 21,
   "metadata": {},
   "outputs": [
    {
     "data": {
      "image/png": "[encoded data removed]",
      "text/plain": [
       "<Figure size 432x288 with 1 Axes>"
      ]
     },
     "metadata": {
      "needs_background": "light"
     },
     "output_type": "display_data"
    }
   ],
   "source": [
    "train_set_50.loc[:5,get_mz(0,train_set_50)].plot(legend=False);"
   ]
  },
  {
   "cell_type": "code",
   "execution_count": 22,
   "metadata": {},
   "outputs": [
    {
     "data": {
      "image/png": "[encoded data removed]",
      "text/plain": [
       "<Figure size 432x288 with 1 Axes>"
      ]
     },
     "metadata": {
      "needs_background": "light"
     },
     "output_type": "display_data"
    }
   ],
   "source": [
    "train_set_5.loc[:5,get_mz(0,train_set_5)].plot(legend=False);"
   ]
  },
  {
   "cell_type": "code",
   "execution_count": 22,
   "metadata": {},
   "outputs": [],
   "source": [
    "def get_grads(df,bin_size=5):\n",
    "    ''' returns gradients for each mz'''\n",
    "    grad_df = pd.DataFrame(index=df.index)\n",
    "    for mz in tqdm(range(0,100)):\n",
    "        df_mz = df.loc[:,get_mz(mz,df)]\n",
    "        # df_mz_col1 = df_mz.iloc[:,0].values\n",
    "        df_mz = df_mz.diff(axis=1)\n",
    "        # df_mz.iloc[:,0] = df_mz_col1\n",
    "        df_mz.dropna(axis='columns',inplace=True)\n",
    "        # df_mz = df_mz/bin_size\n",
    "        df_mz.columns = [col[0]+ '_' + col[1] + '_' + 'grad' for col in df_mz.columns]\n",
    "        grad_df = pd.concat([grad_df,df_mz],axis=1)\n",
    "\n",
    "    print('grad_df.shape',grad_df.shape)\n",
    "\n",
    "    return  grad_df"
   ]
  },
  {
   "cell_type": "code",
   "execution_count": 23,
   "metadata": {},
   "outputs": [
    {
     "name": "stderr",
     "output_type": "stream",
     "text": [
      "100%|██████████| 100/100 [00:00<00:00, 157.79it/s]\n",
      " 10%|█         | 10/100 [00:00<00:00, 96.52it/s]"
     ]
    },
    {
     "name": "stdout",
     "output_type": "stream",
     "text": [
      "grad_df.shape (1059, 900)\n"
     ]
    },
    {
     "name": "stderr",
     "output_type": "stream",
     "text": [
      "100%|██████████| 100/100 [00:01<00:00, 58.83it/s]\n",
      "  3%|▎         | 3/100 [00:00<00:03, 28.65it/s]"
     ]
    },
    {
     "name": "stdout",
     "output_type": "stream",
     "text": [
      "grad_df.shape (1059, 4100)\n"
     ]
    },
    {
     "name": "stderr",
     "output_type": "stream",
     "text": [
      "100%|██████████| 100/100 [00:10<00:00,  9.91it/s]\n",
      " 42%|████▏     | 42/100 [00:00<00:00, 207.38it/s]"
     ]
    },
    {
     "name": "stdout",
     "output_type": "stream",
     "text": [
      "grad_df.shape (1059, 41900)\n"
     ]
    },
    {
     "name": "stderr",
     "output_type": "stream",
     "text": [
      "100%|██████████| 100/100 [00:00<00:00, 191.83it/s]\n",
      " 18%|█▊        | 18/100 [00:00<00:00, 175.23it/s]"
     ]
    },
    {
     "name": "stdout",
     "output_type": "stream",
     "text": [
      "grad_df.shape (1059, 300)\n"
     ]
    },
    {
     "name": "stderr",
     "output_type": "stream",
     "text": [
      "100%|██████████| 100/100 [00:00<00:00, 139.33it/s]"
     ]
    },
    {
     "name": "stdout",
     "output_type": "stream",
     "text": [
      "grad_df.shape (1059, 1500)\n",
      "Wall time: 13.7 s\n"
     ]
    },
    {
     "name": "stderr",
     "output_type": "stream",
     "text": [
      "\n"
     ]
    }
   ],
   "source": [
    "%%time\n",
    "grad_200 = get_grads(train_set_200,200)\n",
    "grad_50 = get_grads(train_set_50,50)\n",
    "grad_5 = get_grads(train_set_5,5)\n",
    "grad_500 = get_grads(train_set_500,500)\n",
    "grad_100 = get_grads(train_set_100,100)"
   ]
  },
  {
   "cell_type": "code",
   "execution_count": 24,
   "metadata": {},
   "outputs": [
    {
     "name": "stderr",
     "output_type": "stream",
     "text": [
      "100%|██████████| 100/100 [00:00<00:00, 150.56it/s]\n",
      " 15%|█▌        | 15/100 [00:00<00:00, 142.26it/s]"
     ]
    },
    {
     "name": "stdout",
     "output_type": "stream",
     "text": [
      "grad_df.shape (804, 900)\n"
     ]
    },
    {
     "name": "stderr",
     "output_type": "stream",
     "text": [
      "100%|██████████| 100/100 [00:01<00:00, 86.16it/s]\n",
      "  4%|▍         | 4/100 [00:00<00:02, 38.94it/s]"
     ]
    },
    {
     "name": "stdout",
     "output_type": "stream",
     "text": [
      "grad_df.shape (804, 4100)\n"
     ]
    },
    {
     "name": "stderr",
     "output_type": "stream",
     "text": [
      "100%|██████████| 100/100 [00:08<00:00, 12.48it/s]\n",
      " 39%|███▉      | 39/100 [00:00<00:00, 192.84it/s]"
     ]
    },
    {
     "name": "stdout",
     "output_type": "stream",
     "text": [
      "grad_df.shape (804, 41900)\n"
     ]
    },
    {
     "name": "stderr",
     "output_type": "stream",
     "text": [
      "100%|██████████| 100/100 [00:00<00:00, 134.08it/s]\n",
      " 13%|█▎        | 13/100 [00:00<00:00, 128.88it/s]"
     ]
    },
    {
     "name": "stdout",
     "output_type": "stream",
     "text": [
      "grad_df.shape (804, 300)\n"
     ]
    },
    {
     "name": "stderr",
     "output_type": "stream",
     "text": [
      "100%|██████████| 100/100 [00:00<00:00, 103.72it/s]"
     ]
    },
    {
     "name": "stdout",
     "output_type": "stream",
     "text": [
      "grad_df.shape (804, 1500)\n",
      "Wall time: 11.6 s\n"
     ]
    },
    {
     "name": "stderr",
     "output_type": "stream",
     "text": [
      "\n"
     ]
    }
   ],
   "source": [
    "%%time\n",
    "grad_200_test = get_grads(test_set_200,200)\n",
    "grad_50_test = get_grads(test_set_50,50)\n",
    "grad_5_test = get_grads(test_set_5,5)\n",
    "grad_500_test = get_grads(test_set_500,500)\n",
    "grad_100_test = get_grads(test_set_100,100)"
   ]
  },
  {
   "cell_type": "markdown",
   "metadata": {},
   "source": [
    "# add metadata\n",
    "- mean,varience of all mzs\n",
    "- mean,varience of a tempbin "
   ]
  },
  {
   "cell_type": "code",
   "execution_count": 25,
   "metadata": {},
   "outputs": [],
   "source": [
    "def get_mean_std(df):\n",
    "    ''' returns mean and std for each mz'''\n",
    "    mean_std_df = pd.DataFrame(index=df.index)\n",
    "    for mz in tqdm(range(0,100)):\n",
    "        df_mz = df.loc[:,get_mz(mz,df)]\n",
    "        df_mz[f'{mz}_mean'] = df_mz.mean(axis=1)\n",
    "        df_mz[f'{mz}_std'] = df_mz.std(axis=1)\n",
    "        mean_std_df = pd.concat([mean_std_df,df_mz],axis=1)\n",
    "    print('mean_std_df.shape',mean_std_df.shape)\n",
    "    return mean_std_df"
   ]
  },
  {
   "cell_type": "code",
   "execution_count": 26,
   "metadata": {},
   "outputs": [
    {
     "name": "stderr",
     "output_type": "stream",
     "text": [
      "100%|██████████| 100/100 [00:14<00:00,  7.13it/s]\n",
      "  9%|▉         | 9/100 [00:00<00:01, 84.76it/s]"
     ]
    },
    {
     "name": "stdout",
     "output_type": "stream",
     "text": [
      "mean_std_df.shape (1059, 42200)\n"
     ]
    },
    {
     "name": "stderr",
     "output_type": "stream",
     "text": [
      "100%|██████████| 100/100 [00:02<00:00, 45.49it/s]\n",
      " 15%|█▌        | 15/100 [00:00<00:00, 138.61it/s]"
     ]
    },
    {
     "name": "stdout",
     "output_type": "stream",
     "text": [
      "mean_std_df.shape (1059, 4400)\n"
     ]
    },
    {
     "name": "stderr",
     "output_type": "stream",
     "text": [
      "100%|██████████| 100/100 [00:00<00:00, 101.91it/s]\n",
      " 18%|█▊        | 18/100 [00:00<00:00, 171.14it/s]"
     ]
    },
    {
     "name": "stdout",
     "output_type": "stream",
     "text": [
      "mean_std_df.shape (1059, 1800)\n"
     ]
    },
    {
     "name": "stderr",
     "output_type": "stream",
     "text": [
      "100%|██████████| 100/100 [00:00<00:00, 129.91it/s]\n",
      " 16%|█▌        | 16/100 [00:00<00:00, 154.31it/s]"
     ]
    },
    {
     "name": "stdout",
     "output_type": "stream",
     "text": [
      "mean_std_df.shape (1059, 1200)\n"
     ]
    },
    {
     "name": "stderr",
     "output_type": "stream",
     "text": [
      "100%|██████████| 100/100 [00:00<00:00, 139.36it/s]"
     ]
    },
    {
     "name": "stdout",
     "output_type": "stream",
     "text": [
      "mean_std_df.shape (1059, 600)\n"
     ]
    },
    {
     "name": "stderr",
     "output_type": "stream",
     "text": [
      "\n"
     ]
    }
   ],
   "source": [
    "mean_std_5 = get_mean_std(train_set_5)\n",
    "mean_std_50 = get_mean_std(train_set_50)\n",
    "mean_std_100 = get_mean_std(train_set_100)\n",
    "mean_std_200 = get_mean_std(train_set_200)\n",
    "mean_std_500 = get_mean_std(train_set_500)"
   ]
  },
  {
   "cell_type": "code",
   "execution_count": 27,
   "metadata": {},
   "outputs": [
    {
     "name": "stderr",
     "output_type": "stream",
     "text": [
      "100%|██████████| 100/100 [00:07<00:00, 12.81it/s]\n",
      " 28%|██▊       | 28/100 [00:00<00:00, 133.59it/s]"
     ]
    },
    {
     "name": "stdout",
     "output_type": "stream",
     "text": [
      "mean_std_df.shape (804, 42200)\n"
     ]
    },
    {
     "name": "stderr",
     "output_type": "stream",
     "text": [
      "100%|██████████| 100/100 [00:01<00:00, 68.70it/s]\n",
      " 26%|██▌       | 26/100 [00:00<00:00, 125.07it/s]"
     ]
    },
    {
     "name": "stdout",
     "output_type": "stream",
     "text": [
      "mean_std_df.shape (804, 4400)\n"
     ]
    },
    {
     "name": "stderr",
     "output_type": "stream",
     "text": [
      "100%|██████████| 100/100 [00:00<00:00, 124.84it/s]\n",
      " 21%|██        | 21/100 [00:00<00:00, 202.68it/s]"
     ]
    },
    {
     "name": "stdout",
     "output_type": "stream",
     "text": [
      "mean_std_df.shape (804, 1800)\n"
     ]
    },
    {
     "name": "stderr",
     "output_type": "stream",
     "text": [
      "100%|██████████| 100/100 [00:00<00:00, 152.41it/s]\n",
      " 23%|██▎       | 23/100 [00:00<00:00, 113.65it/s]"
     ]
    },
    {
     "name": "stdout",
     "output_type": "stream",
     "text": [
      "mean_std_df.shape (804, 1200)\n"
     ]
    },
    {
     "name": "stderr",
     "output_type": "stream",
     "text": [
      "100%|██████████| 100/100 [00:00<00:00, 117.71it/s]"
     ]
    },
    {
     "name": "stdout",
     "output_type": "stream",
     "text": [
      "mean_std_df.shape (804, 600)\n"
     ]
    },
    {
     "name": "stderr",
     "output_type": "stream",
     "text": [
      "\n"
     ]
    }
   ],
   "source": [
    "mean_std_5_test = get_mean_std(test_set_5)\n",
    "mean_std_50_test = get_mean_std(test_set_50)\n",
    "mean_std_100_test = get_mean_std(test_set_100)\n",
    "mean_std_200_test = get_mean_std(test_set_200)\n",
    "mean_std_500_test = get_mean_std(test_set_500)"
   ]
  },
  {
   "cell_type": "markdown",
   "metadata": {},
   "source": [
    "**next up**\n",
    "- quantile transform, guassian rank transform , feature tools and nns"
   ]
  },
  {
   "cell_type": "code",
   "execution_count": null,
   "metadata": {},
   "outputs": [],
   "source": []
  },
  {
   "cell_type": "code",
   "execution_count": null,
   "metadata": {},
   "outputs": [],
   "source": []
  },
  {
   "cell_type": "markdown",
   "metadata": {},
   "source": [
    "# cv"
   ]
  },
  {
   "cell_type": "code",
   "execution_count": 28,
   "metadata": {},
   "outputs": [],
   "source": [
    "skf = StratifiedKFold(n_splits=5, shuffle=True, random_state=RANDOM_SEED)\n",
    "log_loss_scorer = make_scorer(log_loss, needs_proba=True)\n",
    "phy = 'phyllosilicate'"
   ]
  },
  {
   "cell_type": "code",
   "execution_count": 29,
   "metadata": {},
   "outputs": [
    {
     "data": {
      "text/plain": [
       "LogisticRegression(C=1, penalty='l1', random_state=777, solver='liblinear')"
      ]
     },
     "execution_count": 29,
     "metadata": {},
     "output_type": "execute_result"
    }
   ],
   "source": [
    "logreg_clf = LogisticRegression(penalty='l1',C=1, solver='liblinear',random_state=RANDOM_SEED)\n",
    "logreg_clf"
   ]
  },
  {
   "cell_type": "code",
   "execution_count": 39,
   "metadata": {},
   "outputs": [],
   "source": [
    "def get_imp_coefs(clf,df,target_col):\n",
    "    \"\"\"\n",
    "    Returns the df with imp cols based on logreg coefs...\n",
    "    \"\"\"\n",
    "    clf.fit(df,targets[target_col])\n",
    "    coefs = clf.coef_\n",
    "    coefs = pd.Series(coefs.ravel())\n",
    "    coefs = coefs.where(coefs != 0.0).dropna().sort_values(ascending=False).index\n",
    "    # imp_fts_5[target_col] = coefs\n",
    "    \n",
    "    cv_score = cross_val_score(clf,df,targets[target_col],cv=skf,scoring=log_loss_scorer)\n",
    "    print(cv_score,cv_score.mean())\n",
    "    # print(target_col)\n",
    "    # print(coefs)\n",
    "    # print(\"------------------------------------\")\n",
    "    \n",
    "    return df.iloc[:,coefs],coefs"
   ]
  },
  {
   "cell_type": "code",
   "execution_count": 40,
   "metadata": {},
   "outputs": [],
   "source": [
    "# X_500 = pd.concat([train_set_500,grad_500,tot_abund_500,mean_std_500],axis=1)\n",
    "# X_200 = pd.concat([train_set_200,grad_200,tot_abund_200,mean_std_200],axis=1)\n",
    "# X_50 = pd.concat([train_set_50,grad_50,tot_abund_50,mean_std_50],axis=1)\n",
    "# X_5 = pd.concat([train_set_5,grad_5,tot_abund_5,mean_std_5],axis=1)\n",
    "# X_5.shape"
   ]
  },
  {
   "cell_type": "code",
   "execution_count": 41,
   "metadata": {},
   "outputs": [],
   "source": [
    "def get_imp_coefs_for_tar(clf,df_set,tar):\n",
    "    imp_fts = dict()\n",
    "    \n",
    "    imp_df_org,imp_fts['org_set'] = get_imp_coefs(clf,df_set[0],tar)\n",
    "    imp_df_tot_abund,imp_fts['tot_abund_set'] = get_imp_coefs(clf,df_set[1],tar)\n",
    "    imp_df_grad,imp_fts['grad_set'] = get_imp_coefs(clf,df_set[2],tar)\n",
    "    imp_df_mean_std,imp_fts['mean_std_set'] = get_imp_coefs(clf,df_set[3],tar)\n",
    "    \n",
    "    print(imp_df_org.shape,imp_df_tot_abund.shape,imp_df_grad.shape,imp_df_mean_std.shape)\n",
    "    imp_df = pd.concat([imp_df_org,imp_df_tot_abund,imp_df_grad,imp_df_mean_std],axis=1)\n",
    "    print(imp_df.shape)\n",
    "\n",
    "    return imp_df,imp_fts"
   ]
  },
  {
   "cell_type": "markdown",
   "metadata": {},
   "source": [
    "## trail"
   ]
  },
  {
   "cell_type": "code",
   "execution_count": 33,
   "metadata": {},
   "outputs": [
    {
     "ename": "NameError",
     "evalue": "name 'X_200' is not defined",
     "output_type": "error",
     "traceback": [
      "\u001b[1;31m---------------------------------------------------------------------------\u001b[0m",
      "\u001b[1;31mNameError\u001b[0m                                 Traceback (most recent call last)",
      "\u001b[1;32m~\\AppData\\Local\\Temp\\ipykernel_14316\\3518008206.py\u001b[0m in \u001b[0;36m<module>\u001b[1;34m\u001b[0m\n\u001b[1;32m----> 1\u001b[1;33m \u001b[0mimp_df\u001b[0m \u001b[1;33m=\u001b[0m \u001b[0mget_imp_coefs\u001b[0m\u001b[1;33m(\u001b[0m\u001b[0mlogreg_clf\u001b[0m\u001b[1;33m,\u001b[0m\u001b[0mX_200\u001b[0m\u001b[1;33m,\u001b[0m\u001b[0mphy\u001b[0m\u001b[1;33m)\u001b[0m\u001b[1;33m\u001b[0m\u001b[1;33m\u001b[0m\u001b[0m\n\u001b[0m\u001b[0;32m      2\u001b[0m \u001b[0mimp_df\u001b[0m\u001b[1;33m.\u001b[0m\u001b[0mshape\u001b[0m\u001b[1;33m\u001b[0m\u001b[1;33m\u001b[0m\u001b[0m\n",
      "\u001b[1;31mNameError\u001b[0m: name 'X_200' is not defined"
     ]
    }
   ],
   "source": [
    "imp_df = get_imp_coefs(logreg_clf,X_200,phy)\n",
    "imp_df.shape"
   ]
  },
  {
   "cell_type": "code",
   "execution_count": 64,
   "metadata": {},
   "outputs": [
    {
     "name": "stdout",
     "output_type": "stream",
     "text": [
      "[0.39902645 0.4469758  0.54718085 0.43083517 0.39331084] 0.44346581996003975\n",
      "phyllosilicate\n",
      "Int64Index([1120,  884,  458,  450, 1119,  455, 1122,  451, 1133, 1132,  423,\n",
      "            1096,  445,  448,  459,  456, 1665,  518, 1117, 1118, 1672,  919,\n",
      "            1121,  920, 1123, 1126,  428, 1125,  422,  449, 1668,   76, 1676,\n",
      "             434, 1099,  910,  914, 1002, 1106,  461],\n",
      "           dtype='int64')\n",
      "------------------------------------\n"
     ]
    },
    {
     "data": {
      "text/plain": [
       "(1059, 40)"
      ]
     },
     "execution_count": 64,
     "metadata": {},
     "output_type": "execute_result"
    }
   ],
   "source": [
    "imp_df = get_imp_coefs(logreg_clf,train_set_50,phy)\n",
    "imp_df.shape"
   ]
  },
  {
   "cell_type": "code",
   "execution_count": 66,
   "metadata": {},
   "outputs": [
    {
     "name": "stdout",
     "output_type": "stream",
     "text": [
      "[0.49192296 0.54731078 0.57861353 0.58395914 0.49831128] 0.5400235382526797\n",
      "phyllosilicate\n",
      "Int64Index([2, 33, 3, 19, 18, 36, 30, 15, 45, 29, 0, 1, 42, 21, 49, 4], dtype='int64')\n",
      "------------------------------------\n"
     ]
    },
    {
     "data": {
      "text/plain": [
       "(1059, 16)"
      ]
     },
     "execution_count": 66,
     "metadata": {},
     "output_type": "execute_result"
    }
   ],
   "source": [
    "imp_df_tot_abund = get_imp_coefs(logreg_clf,tot_abund_50,phy)\n",
    "imp_df_tot_abund.shape"
   ]
  },
  {
   "cell_type": "code",
   "execution_count": 67,
   "metadata": {},
   "outputs": [
    {
     "name": "stdout",
     "output_type": "stream",
     "text": [
      "[0.39000504 0.44701419 0.53933929 0.40139343 0.40729768] 0.43700992630546764\n",
      "phyllosilicate\n",
      "Int64Index([ 767, 1326,   55,  765,  762,  752, 1337,  763, 1338, 1336, 1834,\n",
      "            1346, 1842,  740,  764, 1162,  773, 1344,   85,  739,  769, 1343,\n",
      "             741,  770, 1832, 1179, 1341,  777, 1340, 1150, 1342, 1316,  774,\n",
      "             776,  778],\n",
      "           dtype='int64')\n",
      "------------------------------------\n"
     ]
    },
    {
     "data": {
      "text/plain": [
       "(1059, 35)"
      ]
     },
     "execution_count": 67,
     "metadata": {},
     "output_type": "execute_result"
    }
   ],
   "source": [
    "imp_df_grad = get_imp_coefs(logreg_clf,grad_50,phy)\n",
    "imp_df_grad.shape"
   ]
  },
  {
   "cell_type": "code",
   "execution_count": 68,
   "metadata": {},
   "outputs": [
    {
     "name": "stdout",
     "output_type": "stream",
     "text": [
      "[0.39905379 0.4469948  0.54719403 0.43083807 0.3933131 ] 0.44347875936491193\n",
      "phyllosilicate\n",
      "Int64Index([1436, 1234,  830,  822, 1435,  827, 1438,  823, 1449, 1448,  795,\n",
      "            1412,  817,  820,  831,  828, 1963,  102, 1433, 1434, 1970, 1269,\n",
      "            1437, 1270, 1439, 1442,  800, 1441,  794,  821, 1966,   78,  806,\n",
      "            1974, 1415, 1260, 1264,  168, 1422,  833],\n",
      "           dtype='int64')\n",
      "------------------------------------\n"
     ]
    },
    {
     "data": {
      "text/plain": [
       "(1059, 40)"
      ]
     },
     "execution_count": 68,
     "metadata": {},
     "output_type": "execute_result"
    }
   ],
   "source": [
    "imp_df_mean_std = get_imp_coefs(logreg_clf,mean_std_50,phy)\n",
    "imp_df_mean_std.shape"
   ]
  },
  {
   "cell_type": "code",
   "execution_count": 69,
   "metadata": {},
   "outputs": [
    {
     "data": {
      "text/plain": [
       "(1059, 131)"
      ]
     },
     "execution_count": 69,
     "metadata": {},
     "output_type": "execute_result"
    }
   ],
   "source": [
    "x_imp_50 = pd.concat([imp_df,imp_df_tot_abund,imp_df_grad,imp_df_mean_std],axis=1)\n",
    "x_imp_50.shape\n",
    "# x.to_csv('phy_x5_imp.csv')"
   ]
  },
  {
   "cell_type": "code",
   "execution_count": 70,
   "metadata": {},
   "outputs": [
    {
     "data": {
      "text/plain": [
       "(array([0.34849224, 0.42750634, 0.50378198, 0.40485506, 0.38616757]),\n",
       " 0.4141606368342388,\n",
       " 0.05175449242858923)"
      ]
     },
     "execution_count": 70,
     "metadata": {},
     "output_type": "execute_result"
    }
   ],
   "source": [
    "logreg_cv = cross_val_score(logreg_clf,X_50,targets[phy],cv=skf,scoring=log_loss_scorer)\n",
    "logreg_cv, logreg_cv.mean(), logreg_cv.std()"
   ]
  },
  {
   "cell_type": "code",
   "execution_count": 57,
   "metadata": {},
   "outputs": [],
   "source": [
    "cb_clf = CatBoostClassifier(random_seed=RANDOM_SEED,verbose=999,eval_metric='Logloss')"
   ]
  },
  {
   "cell_type": "code",
   "execution_count": 127,
   "metadata": {},
   "outputs": [],
   "source": [
    "xgb_clf = XGBClassifier(booster='gblinear',random_state=RANDOM_SEED,verbosity=0)"
   ]
  },
  {
   "cell_type": "code",
   "execution_count": 128,
   "metadata": {},
   "outputs": [
    {
     "data": {
      "text/plain": [
       "(array([       nan,        nan, 0.46583628,        nan,        nan]), nan)"
      ]
     },
     "execution_count": 128,
     "metadata": {},
     "output_type": "execute_result"
    }
   ],
   "source": [
    "# xgb_cv = cross_val_score(xgb_clf,imp_df.values,targets[phy],cv=skf,scoring=log_loss_scorer)\n",
    "# xgb_cv, xgb_cv.mean()"
   ]
  },
  {
   "cell_type": "code",
   "execution_count": 72,
   "metadata": {},
   "outputs": [
    {
     "name": "stdout",
     "output_type": "stream",
     "text": [
      "Learning rate set to 0.009597\n",
      "0:\tlearn: 0.6859790\ttotal: 178ms\tremaining: 2m 57s\n",
      "999:\tlearn: 0.0586682\ttotal: 21s\tremaining: 0us\n",
      "Learning rate set to 0.009597\n",
      "0:\tlearn: 0.6850536\ttotal: 21.2ms\tremaining: 21.2s\n",
      "999:\tlearn: 0.0562640\ttotal: 20.4s\tremaining: 0us\n",
      "Learning rate set to 0.009597\n",
      "0:\tlearn: 0.6851798\ttotal: 20.5ms\tremaining: 20.5s\n",
      "999:\tlearn: 0.0473869\ttotal: 23.8s\tremaining: 0us\n",
      "Learning rate set to 0.009597\n",
      "0:\tlearn: 0.6862154\ttotal: 51.2ms\tremaining: 51.1s\n",
      "999:\tlearn: 0.0481319\ttotal: 20.8s\tremaining: 0us\n",
      "Learning rate set to 0.009602\n",
      "0:\tlearn: 0.6858241\ttotal: 20ms\tremaining: 19.9s\n",
      "999:\tlearn: 0.0585132\ttotal: 19.8s\tremaining: 0us\n",
      "Wall time: 1min 47s\n"
     ]
    },
    {
     "data": {
      "text/plain": [
       "(array([0.15715623, 0.19957427, 0.30083273, 0.2696438 , 0.18046425]),\n",
       " 0.22153425492556167,\n",
       " 0.054619214043050285)"
      ]
     },
     "execution_count": 72,
     "metadata": {},
     "output_type": "execute_result"
    }
   ],
   "source": [
    "%%time\n",
    "cb_cv = cross_val_score(cb_clf,x_imp_50.values,targets[phy],cv=skf,scoring=log_loss_scorer)\n",
    "cb_cv, cb_cv.mean() ,cb_cv.std()\n",
    "# c =0.9"
   ]
  },
  {
   "cell_type": "code",
   "execution_count": null,
   "metadata": {},
   "outputs": [],
   "source": [
    "imp_fts_phy = get_imp_coefs_for_tar(logreg_clf,[train_set_500,grad_500,tot_abund_500,mean_std_500],phy)\n",
    "imp_fts_phy"
   ]
  },
  {
   "cell_type": "code",
   "execution_count": 74,
   "metadata": {},
   "outputs": [],
   "source": [
    "calb_clf = CalibratedClassifierCV(cb_clf,cv=skf)"
   ]
  },
  {
   "cell_type": "code",
   "execution_count": 76,
   "metadata": {},
   "outputs": [],
   "source": [
    "skf_10 = StratifiedKFold(n_splits=5, shuffle=True, random_state=RANDOM_SEED)"
   ]
  },
  {
   "cell_type": "code",
   "execution_count": null,
   "metadata": {},
   "outputs": [],
   "source": [
    "ccv = cross_val_score(calb_clf,x_imp_50.values,targets[phy],cv=skf_10,scoring=log_loss_scorer,n_jobs=-1,verbose=1)"
   ]
  },
  {
   "cell_type": "code",
   "execution_count": null,
   "metadata": {},
   "outputs": [],
   "source": [
    "ccv, ccv.mean(), ccv.std()\n",
    "# this is something we definitely wanted"
   ]
  },
  {
   "cell_type": "code",
   "execution_count": null,
   "metadata": {},
   "outputs": [],
   "source": []
  },
  {
   "cell_type": "code",
   "execution_count": 254,
   "metadata": {},
   "outputs": [],
   "source": [
    "#  seems like grads do improve the score...."
   ]
  },
  {
   "cell_type": "code",
   "execution_count": null,
   "metadata": {},
   "outputs": [],
   "source": [
    "#  selecting fts each on additional datasets is best strategy\n",
    "\n",
    "# c=5 l1 penality\n",
    "# .25 from cb_clf on imp fts of x_500\n",
    "# on whole x_500 directly fit on cb_clf (no imp fts) 0.26...\n",
    "\n",
    "\n",
    "# .23 from cb_clf on individual imp fts of x_500 (73 fts)\n",
    "\n",
    "# x_50 (131 fts) C =1\n",
    "# (array([0.15715623, 0.19957427, 0.30083273, 0.2696438 , 0.18046425]),\n",
    "#  0.22153425492556167,\n",
    "#  0.054619214043050285)\n",
    "# c = 5\n",
    "# (array([0.16005222, 0.20716925, 0.30667596, 0.2675076 , 0.17654597]),\n",
    "#  0.22359020020625892,\n",
    "#  0.05541094180104098)\n",
    "\n",
    "# X_5 (321) c = 5\n",
    "# (array([0.2062453 , 0.23841005, 0.33270952, 0.28029341, 0.21285483]),\n",
    "#  0.2541026221564036,\n",
    "#  0.04712316089806101)\n",
    "\n",
    "\n"
   ]
  },
  {
   "cell_type": "markdown",
   "metadata": {},
   "source": [
    "## get oof_train"
   ]
  },
  {
   "cell_type": "code",
   "execution_count": 35,
   "metadata": {},
   "outputs": [
    {
     "data": {
      "text/plain": [
       "777"
      ]
     },
     "execution_count": 35,
     "metadata": {},
     "output_type": "execute_result"
    }
   ],
   "source": [
    "NFOLDS = 5\n",
    "ntrain = 1059\n",
    "ntest = 804\n",
    "RANDOM_SEED"
   ]
  },
  {
   "cell_type": "code",
   "execution_count": 34,
   "metadata": {},
   "outputs": [],
   "source": [
    "df_set_5 = [train_set_5,tot_abund_5,grad_5,mean_std_5]\n",
    "df_set_50 = [train_set_50,tot_abund_50,grad_50,mean_std_50]\n",
    "df_set_100 = [train_set_100,tot_abund_100,grad_100,mean_std_100]\n",
    "df_set_200 = [train_set_200,tot_abund_200,grad_200,mean_std_200]\n",
    "df_set_500 = [train_set_500,tot_abund_500,grad_500,mean_std_500]"
   ]
  },
  {
   "cell_type": "code",
   "execution_count": null,
   "metadata": {},
   "outputs": [],
   "source": [
    "# df_set_5 = [train_set_5,tot_abund_5,grad_5,mean_std_5]\n",
    "# df_set_50 = [train_set_50,tot_abund_50,grad_50,mean_std_50]\n",
    "# df_set_100 = [train_set_100,tot_abund_100,grad_100,mean_std_100]\n",
    "# df_set_200 = [train_set_200,tot_abund_200,grad_200,mean_std_200]\n",
    "# df_set_500 = [train_set_500,tot_abund_500,grad_500,mean_std_500]"
   ]
  },
  {
   "cell_type": "code",
   "execution_count": 33,
   "metadata": {},
   "outputs": [],
   "source": [
    "def get_oof(clf, x_train, y_train, x_test):\n",
    "    oof_train = np.zeros((ntrain,))\n",
    "    oof_test = np.zeros((ntest,))\n",
    "    oof_test_skf = np.empty((NFOLDS, ntest))\n",
    "    cv_loss = []\n",
    "\n",
    "    for i, (train_index, test_index) in enumerate(skf.split(x_train,y_train)):\n",
    "        x_tr = x_train.iloc[train_index]\n",
    "        y_tr = y_train.iloc[train_index]\n",
    "        x_te = x_train.iloc[test_index]\n",
    "        y_te = y_train.iloc[test_index]\n",
    "\n",
    "        clf.fit(x_tr.values, y_tr)\n",
    "\n",
    "        oof_train[test_index] = clf.predict_proba(x_te.values)[:,1]\n",
    "        fold_loss = log_loss(y_te, clf.predict_proba(x_te.values)[:,1])\n",
    "        cv_loss.append(fold_loss)\n",
    "        print(f\"logloss for fold {i}: {fold_loss}\")\n",
    "\n",
    "        oof_test_skf[i, :] = clf.predict_proba(x_test.values)[:,1]\n",
    "\n",
    "    print(\"CV ccv loss \",np.array(cv_loss).mean(),\"CV ccv std\", np.array(cv_loss).std())\n",
    "    \n",
    "    oof_test[:] = oof_test_skf.mean(axis=0)\n",
    "    return oof_train.reshape(-1, 1), oof_test.reshape(-1, 1)"
   ]
  },
  {
   "cell_type": "code",
   "execution_count": 48,
   "metadata": {},
   "outputs": [],
   "source": [
    "imp_df_50_v1 = dict() # contains all imp fts dfs concatenated for each target\n",
    "imp_fts_50_v1 = dict() # contains imp fts for each df target"
   ]
  },
  {
   "cell_type": "code",
   "execution_count": 49,
   "metadata": {},
   "outputs": [],
   "source": [
    "oof_train_df = pd.DataFrame(index=metadata[metadata.split != 'test'].sample_id, columns=targets.columns)\n",
    "oof_test_df = pd.DataFrame(index=metadata[metadata.split != 'train'].sample_id, columns=targets.columns)"
   ]
  },
  {
   "cell_type": "code",
   "execution_count": 37,
   "metadata": {},
   "outputs": [],
   "source": [
    "train_set_50.sort_index(axis=1,inplace=True)\n",
    "test_set_50.sort_index(axis=1,inplace=True)"
   ]
  },
  {
   "cell_type": "code",
   "execution_count": 42,
   "metadata": {},
   "outputs": [
    {
     "name": "stdout",
     "output_type": "stream",
     "text": [
      "target: basalt\n",
      "logreg cv score:\n",
      "[0.28982238 0.33623706 0.31127075 0.27422727 0.28018212] 0.2983479139845212\n",
      "[0.2876918  0.33739336 0.30120381 0.30952967 0.31358065] 0.30987985636536014\n",
      "[0.28640171 0.33066183 0.30311909 0.28130432 0.29090339] 0.29847806687968764\n",
      "[0.29001505 0.33637952 0.31144797 0.27426195 0.28017955] 0.29845681046689415\n",
      "(1059, 34) (1059, 13) (1059, 25) (1059, 34)\n",
      "(1059, 106)\n"
     ]
    },
    {
     "ename": "NameError",
     "evalue": "name 'imp_df_50_v1' is not defined",
     "output_type": "error",
     "traceback": [
      "\u001b[1;31m---------------------------------------------------------------------------\u001b[0m",
      "\u001b[1;31mNameError\u001b[0m                                 Traceback (most recent call last)",
      "\u001b[1;32m~\\AppData\\Local\\Temp\\ipykernel_1664\\2596746213.py\u001b[0m in \u001b[0;36m<module>\u001b[1;34m\u001b[0m\n\u001b[0;32m      6\u001b[0m     \u001b[0mprint\u001b[0m\u001b[1;33m(\u001b[0m\u001b[1;34m'logreg cv score:'\u001b[0m\u001b[1;33m)\u001b[0m\u001b[1;33m\u001b[0m\u001b[1;33m\u001b[0m\u001b[0m\n\u001b[0;32m      7\u001b[0m \u001b[1;33m\u001b[0m\u001b[0m\n\u001b[1;32m----> 8\u001b[1;33m     \u001b[0mimp_df_50_v1\u001b[0m\u001b[1;33m[\u001b[0m\u001b[0mtarget\u001b[0m\u001b[1;33m]\u001b[0m\u001b[1;33m,\u001b[0m\u001b[0mimp_fts_50_v1\u001b[0m\u001b[1;33m[\u001b[0m\u001b[0mtarget\u001b[0m\u001b[1;33m]\u001b[0m \u001b[1;33m=\u001b[0m \u001b[0mget_imp_coefs_for_tar\u001b[0m\u001b[1;33m(\u001b[0m\u001b[0mlogreg_clf\u001b[0m\u001b[1;33m,\u001b[0m\u001b[0mdf_set_50\u001b[0m\u001b[1;33m,\u001b[0m\u001b[0mtarget\u001b[0m\u001b[1;33m)\u001b[0m \u001b[1;31m# cv logreg\u001b[0m\u001b[1;33m\u001b[0m\u001b[1;33m\u001b[0m\u001b[0m\n\u001b[0m\u001b[0;32m      9\u001b[0m \u001b[1;33m\u001b[0m\u001b[0m\n\u001b[0;32m     10\u001b[0m     \u001b[0mX\u001b[0m \u001b[1;33m=\u001b[0m \u001b[0mimp_df_50_v1\u001b[0m\u001b[1;33m[\u001b[0m\u001b[0mtarget\u001b[0m\u001b[1;33m]\u001b[0m\u001b[1;33m\u001b[0m\u001b[1;33m\u001b[0m\u001b[0m\n",
      "\u001b[1;31mNameError\u001b[0m: name 'imp_df_50_v1' is not defined"
     ]
    }
   ],
   "source": [
    "agg_loss = []\n",
    "for target in targets.columns:\n",
    "    print('target:',target)\n",
    "    # select the best features for each target\n",
    "    logreg_clf = LogisticRegression(penalty='l1',C=1, solver='liblinear',random_state=RANDOM_SEED)\n",
    "    print('logreg cv score:')\n",
    "    \n",
    "    imp_df_50_v1[target],imp_fts_50_v1[target] = get_imp_coefs_for_tar(logreg_clf,df_set_50,target) # cv logreg\n",
    "\n",
    "    X = imp_df_50_v1[target]\n",
    "\n",
    "    X_test = pd.concat([\n",
    "        test_set_50.iloc[:,imp_fts_50_v1[target]['org_set']],\n",
    "        tot_abund_50_test.iloc[:,imp_fts_50_v1[target]['tot_abund_set']],\n",
    "        grad_50_test.iloc[:,imp_fts_50_v1[target]['grad_set']],\n",
    "        mean_std_50_test.iloc[:,imp_fts_50_v1[target]['mean_std_set']]\n",
    "    ],axis=1)\n",
    "\n",
    "    # save df to csv\n",
    "    X.to_csv('x50_imp_v1_'+target+'.csv')\n",
    "    print(\"Caliberated catboost logloss:\")\n",
    "    cb_clf = CatBoostClassifier(random_seed=RANDOM_SEED,verbose=False,eval_metric='Logloss')\n",
    "    calb_clf = CalibratedClassifierCV(cb_clf,cv=skf,method='sigmoid')   # calibrating this way is calibrating on less data\n",
    "\n",
    "    oof_train, oof_test = get_oof(calb_clf,X,targets[target],X_test)\n",
    "\n",
    "\n",
    "    oof_train_df[target] = oof_train\n",
    "    oof_test_df[target] = oof_test\n",
    "    print('----------------------------------------------------')\n",
    "    break\n",
    "\n",
    "print('AGG Loss:',agg_loss)\n",
    "print(\"AGG Loss mean\",np.array(agg_loss).mean())\n",
    "# save oofs to csv\n",
    "oof_train_df.to_csv('oof_train_x50_calb_cb_clf_v2.csv')\n",
    "oof_test_df.to_csv('oof_test_x50_calb_cb_clf_v2.csv',index=False)\n"
   ]
  },
  {
   "cell_type": "code",
   "execution_count": 45,
   "metadata": {},
   "outputs": [
    {
     "data": {
      "text/html": [
       "<div>\n",
       "<style scoped>\n",
       "    .dataframe tbody tr th:only-of-type {\n",
       "        vertical-align: middle;\n",
       "    }\n",
       "\n",
       "    .dataframe tbody tr th {\n",
       "        vertical-align: top;\n",
       "    }\n",
       "\n",
       "    .dataframe thead th {\n",
       "        text-align: right;\n",
       "    }\n",
       "</style>\n",
       "<table border=\"1\" class=\"dataframe\">\n",
       "  <thead>\n",
       "    <tr style=\"text-align: right;\">\n",
       "      <th></th>\n",
       "      <th>tot_abund</th>\n",
       "      <th>tot_abund_0</th>\n",
       "      <th>tot_abund_1</th>\n",
       "      <th>tot_abund_2</th>\n",
       "      <th>tot_abund_3</th>\n",
       "      <th>tot_abund_4</th>\n",
       "      <th>tot_abund_5</th>\n",
       "      <th>tot_abund_6</th>\n",
       "      <th>tot_abund_7</th>\n",
       "      <th>tot_abund_8</th>\n",
       "      <th>...</th>\n",
       "      <th>tot_abund_90</th>\n",
       "      <th>tot_abund_91</th>\n",
       "      <th>tot_abund_92</th>\n",
       "      <th>tot_abund_93</th>\n",
       "      <th>tot_abund_94</th>\n",
       "      <th>tot_abund_95</th>\n",
       "      <th>tot_abund_96</th>\n",
       "      <th>tot_abund_97</th>\n",
       "      <th>tot_abund_98</th>\n",
       "      <th>tot_abund_99</th>\n",
       "    </tr>\n",
       "    <tr>\n",
       "      <th>sample_id</th>\n",
       "      <th></th>\n",
       "      <th></th>\n",
       "      <th></th>\n",
       "      <th></th>\n",
       "      <th></th>\n",
       "      <th></th>\n",
       "      <th></th>\n",
       "      <th></th>\n",
       "      <th></th>\n",
       "      <th></th>\n",
       "      <th></th>\n",
       "      <th></th>\n",
       "      <th></th>\n",
       "      <th></th>\n",
       "      <th></th>\n",
       "      <th></th>\n",
       "      <th></th>\n",
       "      <th></th>\n",
       "      <th></th>\n",
       "      <th></th>\n",
       "      <th></th>\n",
       "    </tr>\n",
       "  </thead>\n",
       "  <tbody>\n",
       "    <tr>\n",
       "      <th>0</th>\n",
       "      <td>3.512686</td>\n",
       "      <td>0.012171</td>\n",
       "      <td>0.010775</td>\n",
       "      <td>0.001742</td>\n",
       "      <td>0.001357</td>\n",
       "      <td>0.0</td>\n",
       "      <td>0.000176</td>\n",
       "      <td>0.000041</td>\n",
       "      <td>0.000032</td>\n",
       "      <td>0.000046</td>\n",
       "      <td>...</td>\n",
       "      <td>0.000024</td>\n",
       "      <td>0.000029</td>\n",
       "      <td>0.000022</td>\n",
       "      <td>0.000022</td>\n",
       "      <td>0.000028</td>\n",
       "      <td>0.000023</td>\n",
       "      <td>0.000030</td>\n",
       "      <td>0.000025</td>\n",
       "      <td>0.000023</td>\n",
       "      <td>0.000024</td>\n",
       "    </tr>\n",
       "    <tr>\n",
       "      <th>1</th>\n",
       "      <td>2.447116</td>\n",
       "      <td>0.000000</td>\n",
       "      <td>0.020585</td>\n",
       "      <td>0.169831</td>\n",
       "      <td>0.016767</td>\n",
       "      <td>0.0</td>\n",
       "      <td>0.000371</td>\n",
       "      <td>0.000326</td>\n",
       "      <td>0.000236</td>\n",
       "      <td>0.000245</td>\n",
       "      <td>...</td>\n",
       "      <td>0.000000</td>\n",
       "      <td>0.000000</td>\n",
       "      <td>0.000000</td>\n",
       "      <td>0.000000</td>\n",
       "      <td>0.000000</td>\n",
       "      <td>0.000000</td>\n",
       "      <td>0.000000</td>\n",
       "      <td>0.000000</td>\n",
       "      <td>0.000000</td>\n",
       "      <td>0.000000</td>\n",
       "    </tr>\n",
       "    <tr>\n",
       "      <th>2</th>\n",
       "      <td>6.060739</td>\n",
       "      <td>0.014823</td>\n",
       "      <td>0.023462</td>\n",
       "      <td>0.005976</td>\n",
       "      <td>0.005905</td>\n",
       "      <td>0.0</td>\n",
       "      <td>0.000429</td>\n",
       "      <td>0.000060</td>\n",
       "      <td>0.000038</td>\n",
       "      <td>0.000074</td>\n",
       "      <td>...</td>\n",
       "      <td>0.000019</td>\n",
       "      <td>0.000018</td>\n",
       "      <td>0.000019</td>\n",
       "      <td>0.000020</td>\n",
       "      <td>0.000019</td>\n",
       "      <td>0.000019</td>\n",
       "      <td>0.000020</td>\n",
       "      <td>0.000021</td>\n",
       "      <td>0.000020</td>\n",
       "      <td>0.000020</td>\n",
       "    </tr>\n",
       "    <tr>\n",
       "      <th>3</th>\n",
       "      <td>6.362475</td>\n",
       "      <td>0.016349</td>\n",
       "      <td>0.023742</td>\n",
       "      <td>0.014225</td>\n",
       "      <td>0.014009</td>\n",
       "      <td>0.0</td>\n",
       "      <td>0.001093</td>\n",
       "      <td>0.000243</td>\n",
       "      <td>0.000184</td>\n",
       "      <td>0.000291</td>\n",
       "      <td>...</td>\n",
       "      <td>0.000088</td>\n",
       "      <td>0.000092</td>\n",
       "      <td>0.000089</td>\n",
       "      <td>0.000088</td>\n",
       "      <td>0.000087</td>\n",
       "      <td>0.000101</td>\n",
       "      <td>0.000082</td>\n",
       "      <td>0.000092</td>\n",
       "      <td>0.000080</td>\n",
       "      <td>0.000087</td>\n",
       "    </tr>\n",
       "    <tr>\n",
       "      <th>4</th>\n",
       "      <td>6.916496</td>\n",
       "      <td>0.079048</td>\n",
       "      <td>0.110982</td>\n",
       "      <td>0.041565</td>\n",
       "      <td>0.037638</td>\n",
       "      <td>0.0</td>\n",
       "      <td>0.004453</td>\n",
       "      <td>0.000378</td>\n",
       "      <td>0.000145</td>\n",
       "      <td>0.000253</td>\n",
       "      <td>...</td>\n",
       "      <td>0.000085</td>\n",
       "      <td>0.000079</td>\n",
       "      <td>0.000083</td>\n",
       "      <td>0.000069</td>\n",
       "      <td>0.000085</td>\n",
       "      <td>0.000075</td>\n",
       "      <td>0.000091</td>\n",
       "      <td>0.000082</td>\n",
       "      <td>0.000089</td>\n",
       "      <td>0.000079</td>\n",
       "    </tr>\n",
       "    <tr>\n",
       "      <th>...</th>\n",
       "      <td>...</td>\n",
       "      <td>...</td>\n",
       "      <td>...</td>\n",
       "      <td>...</td>\n",
       "      <td>...</td>\n",
       "      <td>...</td>\n",
       "      <td>...</td>\n",
       "      <td>...</td>\n",
       "      <td>...</td>\n",
       "      <td>...</td>\n",
       "      <td>...</td>\n",
       "      <td>...</td>\n",
       "      <td>...</td>\n",
       "      <td>...</td>\n",
       "      <td>...</td>\n",
       "      <td>...</td>\n",
       "      <td>...</td>\n",
       "      <td>...</td>\n",
       "      <td>...</td>\n",
       "      <td>...</td>\n",
       "      <td>...</td>\n",
       "    </tr>\n",
       "    <tr>\n",
       "      <th>1054</th>\n",
       "      <td>42.669656</td>\n",
       "      <td>2.546106</td>\n",
       "      <td>3.085556</td>\n",
       "      <td>1.847891</td>\n",
       "      <td>2.099487</td>\n",
       "      <td>0.0</td>\n",
       "      <td>0.403305</td>\n",
       "      <td>0.043969</td>\n",
       "      <td>0.010030</td>\n",
       "      <td>0.023578</td>\n",
       "      <td>...</td>\n",
       "      <td>0.006560</td>\n",
       "      <td>0.007559</td>\n",
       "      <td>0.006983</td>\n",
       "      <td>0.007164</td>\n",
       "      <td>0.006506</td>\n",
       "      <td>0.006547</td>\n",
       "      <td>0.006663</td>\n",
       "      <td>0.006935</td>\n",
       "      <td>0.006263</td>\n",
       "      <td>0.006317</td>\n",
       "    </tr>\n",
       "    <tr>\n",
       "      <th>1055</th>\n",
       "      <td>23.785018</td>\n",
       "      <td>0.732379</td>\n",
       "      <td>0.957667</td>\n",
       "      <td>0.514923</td>\n",
       "      <td>0.715647</td>\n",
       "      <td>0.0</td>\n",
       "      <td>0.163587</td>\n",
       "      <td>0.017113</td>\n",
       "      <td>0.005302</td>\n",
       "      <td>0.008326</td>\n",
       "      <td>...</td>\n",
       "      <td>0.002886</td>\n",
       "      <td>0.003094</td>\n",
       "      <td>0.002803</td>\n",
       "      <td>0.002700</td>\n",
       "      <td>0.002629</td>\n",
       "      <td>0.002780</td>\n",
       "      <td>0.002575</td>\n",
       "      <td>0.002935</td>\n",
       "      <td>0.002876</td>\n",
       "      <td>0.002858</td>\n",
       "    </tr>\n",
       "    <tr>\n",
       "      <th>1056</th>\n",
       "      <td>6.851450</td>\n",
       "      <td>0.011521</td>\n",
       "      <td>0.015770</td>\n",
       "      <td>0.006859</td>\n",
       "      <td>0.005334</td>\n",
       "      <td>0.0</td>\n",
       "      <td>0.000554</td>\n",
       "      <td>0.000146</td>\n",
       "      <td>0.000080</td>\n",
       "      <td>0.000144</td>\n",
       "      <td>...</td>\n",
       "      <td>0.000043</td>\n",
       "      <td>0.000057</td>\n",
       "      <td>0.000058</td>\n",
       "      <td>0.000050</td>\n",
       "      <td>0.000043</td>\n",
       "      <td>0.000043</td>\n",
       "      <td>0.000048</td>\n",
       "      <td>0.000052</td>\n",
       "      <td>0.000045</td>\n",
       "      <td>0.000046</td>\n",
       "    </tr>\n",
       "    <tr>\n",
       "      <th>1057</th>\n",
       "      <td>6.270355</td>\n",
       "      <td>0.009567</td>\n",
       "      <td>0.013110</td>\n",
       "      <td>0.011906</td>\n",
       "      <td>0.004096</td>\n",
       "      <td>0.0</td>\n",
       "      <td>0.000427</td>\n",
       "      <td>0.000101</td>\n",
       "      <td>0.000072</td>\n",
       "      <td>0.000140</td>\n",
       "      <td>...</td>\n",
       "      <td>0.000034</td>\n",
       "      <td>0.000065</td>\n",
       "      <td>0.000046</td>\n",
       "      <td>0.000043</td>\n",
       "      <td>0.000038</td>\n",
       "      <td>0.000037</td>\n",
       "      <td>0.000037</td>\n",
       "      <td>0.000036</td>\n",
       "      <td>0.000033</td>\n",
       "      <td>0.000032</td>\n",
       "    </tr>\n",
       "    <tr>\n",
       "      <th>1058</th>\n",
       "      <td>6.403682</td>\n",
       "      <td>0.151762</td>\n",
       "      <td>0.231224</td>\n",
       "      <td>0.123294</td>\n",
       "      <td>0.080553</td>\n",
       "      <td>0.0</td>\n",
       "      <td>0.013915</td>\n",
       "      <td>0.001623</td>\n",
       "      <td>0.000385</td>\n",
       "      <td>0.000867</td>\n",
       "      <td>...</td>\n",
       "      <td>0.000254</td>\n",
       "      <td>0.000437</td>\n",
       "      <td>0.000274</td>\n",
       "      <td>0.000266</td>\n",
       "      <td>0.000266</td>\n",
       "      <td>0.000282</td>\n",
       "      <td>0.000221</td>\n",
       "      <td>0.000268</td>\n",
       "      <td>0.000274</td>\n",
       "      <td>0.000237</td>\n",
       "    </tr>\n",
       "  </tbody>\n",
       "</table>\n",
       "<p>1059 rows × 101 columns</p>\n",
       "</div>"
      ],
      "text/plain": [
       "           tot_abund  tot_abund_0  tot_abund_1  tot_abund_2  tot_abund_3  \\\n",
       "sample_id                                                                  \n",
       "0           3.512686     0.012171     0.010775     0.001742     0.001357   \n",
       "1           2.447116     0.000000     0.020585     0.169831     0.016767   \n",
       "2           6.060739     0.014823     0.023462     0.005976     0.005905   \n",
       "3           6.362475     0.016349     0.023742     0.014225     0.014009   \n",
       "4           6.916496     0.079048     0.110982     0.041565     0.037638   \n",
       "...              ...          ...          ...          ...          ...   \n",
       "1054       42.669656     2.546106     3.085556     1.847891     2.099487   \n",
       "1055       23.785018     0.732379     0.957667     0.514923     0.715647   \n",
       "1056        6.851450     0.011521     0.015770     0.006859     0.005334   \n",
       "1057        6.270355     0.009567     0.013110     0.011906     0.004096   \n",
       "1058        6.403682     0.151762     0.231224     0.123294     0.080553   \n",
       "\n",
       "           tot_abund_4  tot_abund_5  tot_abund_6  tot_abund_7  tot_abund_8  \\\n",
       "sample_id                                                                    \n",
       "0                  0.0     0.000176     0.000041     0.000032     0.000046   \n",
       "1                  0.0     0.000371     0.000326     0.000236     0.000245   \n",
       "2                  0.0     0.000429     0.000060     0.000038     0.000074   \n",
       "3                  0.0     0.001093     0.000243     0.000184     0.000291   \n",
       "4                  0.0     0.004453     0.000378     0.000145     0.000253   \n",
       "...                ...          ...          ...          ...          ...   \n",
       "1054               0.0     0.403305     0.043969     0.010030     0.023578   \n",
       "1055               0.0     0.163587     0.017113     0.005302     0.008326   \n",
       "1056               0.0     0.000554     0.000146     0.000080     0.000144   \n",
       "1057               0.0     0.000427     0.000101     0.000072     0.000140   \n",
       "1058               0.0     0.013915     0.001623     0.000385     0.000867   \n",
       "\n",
       "           ...  tot_abund_90  tot_abund_91  tot_abund_92  tot_abund_93  \\\n",
       "sample_id  ...                                                           \n",
       "0          ...      0.000024      0.000029      0.000022      0.000022   \n",
       "1          ...      0.000000      0.000000      0.000000      0.000000   \n",
       "2          ...      0.000019      0.000018      0.000019      0.000020   \n",
       "3          ...      0.000088      0.000092      0.000089      0.000088   \n",
       "4          ...      0.000085      0.000079      0.000083      0.000069   \n",
       "...        ...           ...           ...           ...           ...   \n",
       "1054       ...      0.006560      0.007559      0.006983      0.007164   \n",
       "1055       ...      0.002886      0.003094      0.002803      0.002700   \n",
       "1056       ...      0.000043      0.000057      0.000058      0.000050   \n",
       "1057       ...      0.000034      0.000065      0.000046      0.000043   \n",
       "1058       ...      0.000254      0.000437      0.000274      0.000266   \n",
       "\n",
       "           tot_abund_94  tot_abund_95  tot_abund_96  tot_abund_97  \\\n",
       "sample_id                                                           \n",
       "0              0.000028      0.000023      0.000030      0.000025   \n",
       "1              0.000000      0.000000      0.000000      0.000000   \n",
       "2              0.000019      0.000019      0.000020      0.000021   \n",
       "3              0.000087      0.000101      0.000082      0.000092   \n",
       "4              0.000085      0.000075      0.000091      0.000082   \n",
       "...                 ...           ...           ...           ...   \n",
       "1054           0.006506      0.006547      0.006663      0.006935   \n",
       "1055           0.002629      0.002780      0.002575      0.002935   \n",
       "1056           0.000043      0.000043      0.000048      0.000052   \n",
       "1057           0.000038      0.000037      0.000037      0.000036   \n",
       "1058           0.000266      0.000282      0.000221      0.000268   \n",
       "\n",
       "           tot_abund_98  tot_abund_99  \n",
       "sample_id                              \n",
       "0              0.000023      0.000024  \n",
       "1              0.000000      0.000000  \n",
       "2              0.000020      0.000020  \n",
       "3              0.000080      0.000087  \n",
       "4              0.000089      0.000079  \n",
       "...                 ...           ...  \n",
       "1054           0.006263      0.006317  \n",
       "1055           0.002876      0.002858  \n",
       "1056           0.000045      0.000046  \n",
       "1057           0.000033      0.000032  \n",
       "1058           0.000274      0.000237  \n",
       "\n",
       "[1059 rows x 101 columns]"
      ]
     },
     "execution_count": 45,
     "metadata": {},
     "output_type": "execute_result"
    }
   ],
   "source": [
    "df_set_50[1]"
   ]
  },
  {
   "cell_type": "code",
   "execution_count": 58,
   "metadata": {},
   "outputs": [
    {
     "data": {
      "text/plain": [
       "0.14925846459526557"
      ]
     },
     "execution_count": 58,
     "metadata": {},
     "output_type": "execute_result"
    }
   ],
   "source": [
    "loss= [0.08568977930924544,0.18725364626183266,0.19295663545431943,0.19295663545431943,0.1485500258847397,0.017557044164855446,0.2219487168441076,0.17024561438735059,0.11826058953609235,0.1571659586557931]\n",
    "np.array(loss).mean()\n",
    "# second run on df_50"
   ]
  },
  {
   "cell_type": "code",
   "execution_count": 53,
   "metadata": {},
   "outputs": [
    {
     "data": {
      "text/plain": [
       "0.14447899264164712"
      ]
     },
     "execution_count": 53,
     "metadata": {},
     "output_type": "execute_result"
    }
   ],
   "source": [
    "agg_loss =  np.array([ 0.15796721870217575,0.11778220324912292,0.16957356591882863,0.017403201778143515,0.14871534853419863,0.224095137993568,0.19258528888448911,0.18639302435617577,0.0857959443581221])\n",
    "agg_loss.mean()"
   ]
  },
  {
   "cell_type": "code",
   "execution_count": 56,
   "metadata": {},
   "outputs": [
    {
     "data": {
      "text/plain": [
       "['imp_df_50_v1.joblib']"
      ]
     },
     "execution_count": 56,
     "metadata": {},
     "output_type": "execute_result"
    }
   ],
   "source": [
    "dump(imp_df_50_v1,'imp_df_50_v1.joblib')\n",
    "dump(imp_fts_50_v1,'imp_fts_50_v1.joblib')"
   ]
  },
  {
   "cell_type": "code",
   "execution_count": 23,
   "metadata": {},
   "outputs": [
    {
     "data": {
      "text/html": [
       "<div>\n",
       "<style scoped>\n",
       "    .dataframe tbody tr th:only-of-type {\n",
       "        vertical-align: middle;\n",
       "    }\n",
       "\n",
       "    .dataframe tbody tr th {\n",
       "        vertical-align: top;\n",
       "    }\n",
       "\n",
       "    .dataframe thead th {\n",
       "        text-align: right;\n",
       "    }\n",
       "</style>\n",
       "<table border=\"1\" class=\"dataframe\">\n",
       "  <thead>\n",
       "    <tr style=\"text-align: right;\">\n",
       "      <th></th>\n",
       "      <th>sample_id</th>\n",
       "      <th>basalt</th>\n",
       "      <th>carbonate</th>\n",
       "      <th>chloride</th>\n",
       "      <th>iron_oxide</th>\n",
       "      <th>oxalate</th>\n",
       "      <th>oxychlorine</th>\n",
       "      <th>phyllosilicate</th>\n",
       "      <th>silicate</th>\n",
       "      <th>sulfate</th>\n",
       "      <th>sulfide</th>\n",
       "    </tr>\n",
       "  </thead>\n",
       "  <tbody>\n",
       "    <tr>\n",
       "      <th>0</th>\n",
       "      <td>S0766</td>\n",
       "      <td>0.046021</td>\n",
       "      <td>0.051149</td>\n",
       "      <td>0.040366</td>\n",
       "      <td>0.041744</td>\n",
       "      <td>0.008425</td>\n",
       "      <td>0.037048</td>\n",
       "      <td>0.041023</td>\n",
       "      <td>0.071723</td>\n",
       "      <td>0.882801</td>\n",
       "      <td>0.019296</td>\n",
       "    </tr>\n",
       "    <tr>\n",
       "      <th>1</th>\n",
       "      <td>S0767</td>\n",
       "      <td>0.040726</td>\n",
       "      <td>0.271604</td>\n",
       "      <td>0.040183</td>\n",
       "      <td>0.044695</td>\n",
       "      <td>0.008428</td>\n",
       "      <td>0.037894</td>\n",
       "      <td>0.041578</td>\n",
       "      <td>0.051584</td>\n",
       "      <td>0.221860</td>\n",
       "      <td>0.019344</td>\n",
       "    </tr>\n",
       "    <tr>\n",
       "      <th>2</th>\n",
       "      <td>S0768</td>\n",
       "      <td>0.046001</td>\n",
       "      <td>0.038898</td>\n",
       "      <td>0.036841</td>\n",
       "      <td>0.042707</td>\n",
       "      <td>0.008422</td>\n",
       "      <td>0.039486</td>\n",
       "      <td>0.042513</td>\n",
       "      <td>0.060938</td>\n",
       "      <td>0.636716</td>\n",
       "      <td>0.019290</td>\n",
       "    </tr>\n",
       "    <tr>\n",
       "      <th>3</th>\n",
       "      <td>S0769</td>\n",
       "      <td>0.045113</td>\n",
       "      <td>0.069279</td>\n",
       "      <td>0.036869</td>\n",
       "      <td>0.044737</td>\n",
       "      <td>0.008425</td>\n",
       "      <td>0.036945</td>\n",
       "      <td>0.041433</td>\n",
       "      <td>0.047845</td>\n",
       "      <td>0.510866</td>\n",
       "      <td>0.019358</td>\n",
       "    </tr>\n",
       "    <tr>\n",
       "      <th>4</th>\n",
       "      <td>S0770</td>\n",
       "      <td>0.041444</td>\n",
       "      <td>0.038590</td>\n",
       "      <td>0.040734</td>\n",
       "      <td>0.045782</td>\n",
       "      <td>0.008421</td>\n",
       "      <td>0.044046</td>\n",
       "      <td>0.042510</td>\n",
       "      <td>0.049528</td>\n",
       "      <td>0.210017</td>\n",
       "      <td>0.019300</td>\n",
       "    </tr>\n",
       "    <tr>\n",
       "      <th>...</th>\n",
       "      <td>...</td>\n",
       "      <td>...</td>\n",
       "      <td>...</td>\n",
       "      <td>...</td>\n",
       "      <td>...</td>\n",
       "      <td>...</td>\n",
       "      <td>...</td>\n",
       "      <td>...</td>\n",
       "      <td>...</td>\n",
       "      <td>...</td>\n",
       "      <td>...</td>\n",
       "    </tr>\n",
       "    <tr>\n",
       "      <th>799</th>\n",
       "      <td>S1565</td>\n",
       "      <td>0.055514</td>\n",
       "      <td>0.394514</td>\n",
       "      <td>0.040030</td>\n",
       "      <td>0.046140</td>\n",
       "      <td>0.008509</td>\n",
       "      <td>0.039658</td>\n",
       "      <td>0.044581</td>\n",
       "      <td>0.218110</td>\n",
       "      <td>0.187004</td>\n",
       "      <td>0.019493</td>\n",
       "    </tr>\n",
       "    <tr>\n",
       "      <th>800</th>\n",
       "      <td>S1566</td>\n",
       "      <td>0.041948</td>\n",
       "      <td>0.076168</td>\n",
       "      <td>0.037433</td>\n",
       "      <td>0.049264</td>\n",
       "      <td>0.008422</td>\n",
       "      <td>0.036838</td>\n",
       "      <td>0.044158</td>\n",
       "      <td>0.060370</td>\n",
       "      <td>0.267933</td>\n",
       "      <td>0.019425</td>\n",
       "    </tr>\n",
       "    <tr>\n",
       "      <th>801</th>\n",
       "      <td>S1567</td>\n",
       "      <td>0.041673</td>\n",
       "      <td>0.337179</td>\n",
       "      <td>0.042402</td>\n",
       "      <td>0.043181</td>\n",
       "      <td>0.008424</td>\n",
       "      <td>0.037141</td>\n",
       "      <td>0.049654</td>\n",
       "      <td>0.059765</td>\n",
       "      <td>0.406512</td>\n",
       "      <td>0.019403</td>\n",
       "    </tr>\n",
       "    <tr>\n",
       "      <th>802</th>\n",
       "      <td>S1568</td>\n",
       "      <td>0.040859</td>\n",
       "      <td>0.339863</td>\n",
       "      <td>0.040581</td>\n",
       "      <td>0.043569</td>\n",
       "      <td>0.008497</td>\n",
       "      <td>0.037318</td>\n",
       "      <td>0.055851</td>\n",
       "      <td>0.051528</td>\n",
       "      <td>0.272265</td>\n",
       "      <td>0.019722</td>\n",
       "    </tr>\n",
       "    <tr>\n",
       "      <th>803</th>\n",
       "      <td>S1569</td>\n",
       "      <td>0.068883</td>\n",
       "      <td>0.442015</td>\n",
       "      <td>0.043177</td>\n",
       "      <td>0.046143</td>\n",
       "      <td>0.008549</td>\n",
       "      <td>0.042985</td>\n",
       "      <td>0.044788</td>\n",
       "      <td>0.235675</td>\n",
       "      <td>0.238412</td>\n",
       "      <td>0.019522</td>\n",
       "    </tr>\n",
       "  </tbody>\n",
       "</table>\n",
       "<p>804 rows × 11 columns</p>\n",
       "</div>"
      ],
      "text/plain": [
       "    sample_id    basalt  carbonate  chloride  iron_oxide   oxalate  \\\n",
       "0       S0766  0.046021   0.051149  0.040366    0.041744  0.008425   \n",
       "1       S0767  0.040726   0.271604  0.040183    0.044695  0.008428   \n",
       "2       S0768  0.046001   0.038898  0.036841    0.042707  0.008422   \n",
       "3       S0769  0.045113   0.069279  0.036869    0.044737  0.008425   \n",
       "4       S0770  0.041444   0.038590  0.040734    0.045782  0.008421   \n",
       "..        ...       ...        ...       ...         ...       ...   \n",
       "799     S1565  0.055514   0.394514  0.040030    0.046140  0.008509   \n",
       "800     S1566  0.041948   0.076168  0.037433    0.049264  0.008422   \n",
       "801     S1567  0.041673   0.337179  0.042402    0.043181  0.008424   \n",
       "802     S1568  0.040859   0.339863  0.040581    0.043569  0.008497   \n",
       "803     S1569  0.068883   0.442015  0.043177    0.046143  0.008549   \n",
       "\n",
       "     oxychlorine  phyllosilicate  silicate   sulfate   sulfide  \n",
       "0       0.037048        0.041023  0.071723  0.882801  0.019296  \n",
       "1       0.037894        0.041578  0.051584  0.221860  0.019344  \n",
       "2       0.039486        0.042513  0.060938  0.636716  0.019290  \n",
       "3       0.036945        0.041433  0.047845  0.510866  0.019358  \n",
       "4       0.044046        0.042510  0.049528  0.210017  0.019300  \n",
       "..           ...             ...       ...       ...       ...  \n",
       "799     0.039658        0.044581  0.218110  0.187004  0.019493  \n",
       "800     0.036838        0.044158  0.060370  0.267933  0.019425  \n",
       "801     0.037141        0.049654  0.059765  0.406512  0.019403  \n",
       "802     0.037318        0.055851  0.051528  0.272265  0.019722  \n",
       "803     0.042985        0.044788  0.235675  0.238412  0.019522  \n",
       "\n",
       "[804 rows x 11 columns]"
      ]
     },
     "execution_count": 23,
     "metadata": {},
     "output_type": "execute_result"
    }
   ],
   "source": [
    "oof_test_50 = pd.read_csv('oof_test_x50_calb_cb_clf_v1.csv')\n",
    "oof_test_50"
   ]
  },
  {
   "cell_type": "code",
   "execution_count": 59,
   "metadata": {},
   "outputs": [
    {
     "data": {
      "text/html": [
       "<div>\n",
       "<style scoped>\n",
       "    .dataframe tbody tr th:only-of-type {\n",
       "        vertical-align: middle;\n",
       "    }\n",
       "\n",
       "    .dataframe tbody tr th {\n",
       "        vertical-align: top;\n",
       "    }\n",
       "\n",
       "    .dataframe thead th {\n",
       "        text-align: right;\n",
       "    }\n",
       "</style>\n",
       "<table border=\"1\" class=\"dataframe\">\n",
       "  <thead>\n",
       "    <tr style=\"text-align: right;\">\n",
       "      <th></th>\n",
       "      <th>basalt</th>\n",
       "      <th>carbonate</th>\n",
       "      <th>chloride</th>\n",
       "      <th>iron_oxide</th>\n",
       "      <th>oxalate</th>\n",
       "      <th>oxychlorine</th>\n",
       "      <th>phyllosilicate</th>\n",
       "      <th>silicate</th>\n",
       "      <th>sulfate</th>\n",
       "      <th>sulfide</th>\n",
       "    </tr>\n",
       "  </thead>\n",
       "  <tbody>\n",
       "    <tr>\n",
       "      <th>0</th>\n",
       "      <td>0.041826</td>\n",
       "      <td>0.035228</td>\n",
       "      <td>0.039655</td>\n",
       "      <td>0.041868</td>\n",
       "      <td>0.008435</td>\n",
       "      <td>0.036793</td>\n",
       "      <td>0.041465</td>\n",
       "      <td>0.054703</td>\n",
       "      <td>0.911435</td>\n",
       "      <td>0.019366</td>\n",
       "    </tr>\n",
       "    <tr>\n",
       "      <th>1</th>\n",
       "      <td>0.038260</td>\n",
       "      <td>0.564670</td>\n",
       "      <td>0.038677</td>\n",
       "      <td>0.049636</td>\n",
       "      <td>0.008446</td>\n",
       "      <td>0.037306</td>\n",
       "      <td>0.043245</td>\n",
       "      <td>0.046429</td>\n",
       "      <td>0.074672</td>\n",
       "      <td>0.019422</td>\n",
       "    </tr>\n",
       "    <tr>\n",
       "      <th>2</th>\n",
       "      <td>0.052762</td>\n",
       "      <td>0.030196</td>\n",
       "      <td>0.039787</td>\n",
       "      <td>0.043186</td>\n",
       "      <td>0.008426</td>\n",
       "      <td>0.053301</td>\n",
       "      <td>0.046294</td>\n",
       "      <td>0.050413</td>\n",
       "      <td>0.309814</td>\n",
       "      <td>0.019356</td>\n",
       "    </tr>\n",
       "    <tr>\n",
       "      <th>3</th>\n",
       "      <td>0.042086</td>\n",
       "      <td>0.068271</td>\n",
       "      <td>0.037248</td>\n",
       "      <td>0.053948</td>\n",
       "      <td>0.008447</td>\n",
       "      <td>0.036221</td>\n",
       "      <td>0.042740</td>\n",
       "      <td>0.044824</td>\n",
       "      <td>0.413024</td>\n",
       "      <td>0.019502</td>\n",
       "    </tr>\n",
       "    <tr>\n",
       "      <th>4</th>\n",
       "      <td>0.041382</td>\n",
       "      <td>0.030146</td>\n",
       "      <td>0.051489</td>\n",
       "      <td>0.077498</td>\n",
       "      <td>0.008428</td>\n",
       "      <td>0.100341</td>\n",
       "      <td>0.068726</td>\n",
       "      <td>0.047090</td>\n",
       "      <td>0.076600</td>\n",
       "      <td>0.019380</td>\n",
       "    </tr>\n",
       "    <tr>\n",
       "      <th>...</th>\n",
       "      <td>...</td>\n",
       "      <td>...</td>\n",
       "      <td>...</td>\n",
       "      <td>...</td>\n",
       "      <td>...</td>\n",
       "      <td>...</td>\n",
       "      <td>...</td>\n",
       "      <td>...</td>\n",
       "      <td>...</td>\n",
       "      <td>...</td>\n",
       "    </tr>\n",
       "    <tr>\n",
       "      <th>799</th>\n",
       "      <td>0.050517</td>\n",
       "      <td>0.454062</td>\n",
       "      <td>0.039511</td>\n",
       "      <td>0.050144</td>\n",
       "      <td>0.008985</td>\n",
       "      <td>0.042707</td>\n",
       "      <td>0.045898</td>\n",
       "      <td>0.067008</td>\n",
       "      <td>0.050607</td>\n",
       "      <td>0.019705</td>\n",
       "    </tr>\n",
       "    <tr>\n",
       "      <th>800</th>\n",
       "      <td>0.040518</td>\n",
       "      <td>0.037004</td>\n",
       "      <td>0.038390</td>\n",
       "      <td>0.055501</td>\n",
       "      <td>0.008420</td>\n",
       "      <td>0.036445</td>\n",
       "      <td>0.049802</td>\n",
       "      <td>0.046124</td>\n",
       "      <td>0.124842</td>\n",
       "      <td>0.019522</td>\n",
       "    </tr>\n",
       "    <tr>\n",
       "      <th>801</th>\n",
       "      <td>0.038913</td>\n",
       "      <td>0.241122</td>\n",
       "      <td>0.043798</td>\n",
       "      <td>0.042732</td>\n",
       "      <td>0.008433</td>\n",
       "      <td>0.036478</td>\n",
       "      <td>0.073431</td>\n",
       "      <td>0.046757</td>\n",
       "      <td>0.218515</td>\n",
       "      <td>0.019526</td>\n",
       "    </tr>\n",
       "    <tr>\n",
       "      <th>802</th>\n",
       "      <td>0.038563</td>\n",
       "      <td>0.171087</td>\n",
       "      <td>0.038036</td>\n",
       "      <td>0.044006</td>\n",
       "      <td>0.008641</td>\n",
       "      <td>0.036630</td>\n",
       "      <td>0.059932</td>\n",
       "      <td>0.043291</td>\n",
       "      <td>0.098676</td>\n",
       "      <td>0.020097</td>\n",
       "    </tr>\n",
       "    <tr>\n",
       "      <th>803</th>\n",
       "      <td>0.071801</td>\n",
       "      <td>0.566403</td>\n",
       "      <td>0.043885</td>\n",
       "      <td>0.054898</td>\n",
       "      <td>0.009460</td>\n",
       "      <td>0.054454</td>\n",
       "      <td>0.046884</td>\n",
       "      <td>0.082803</td>\n",
       "      <td>0.056435</td>\n",
       "      <td>0.020753</td>\n",
       "    </tr>\n",
       "  </tbody>\n",
       "</table>\n",
       "<p>804 rows × 10 columns</p>\n",
       "</div>"
      ],
      "text/plain": [
       "       basalt  carbonate  chloride  iron_oxide   oxalate  oxychlorine  \\\n",
       "0    0.041826   0.035228  0.039655    0.041868  0.008435     0.036793   \n",
       "1    0.038260   0.564670  0.038677    0.049636  0.008446     0.037306   \n",
       "2    0.052762   0.030196  0.039787    0.043186  0.008426     0.053301   \n",
       "3    0.042086   0.068271  0.037248    0.053948  0.008447     0.036221   \n",
       "4    0.041382   0.030146  0.051489    0.077498  0.008428     0.100341   \n",
       "..        ...        ...       ...         ...       ...          ...   \n",
       "799  0.050517   0.454062  0.039511    0.050144  0.008985     0.042707   \n",
       "800  0.040518   0.037004  0.038390    0.055501  0.008420     0.036445   \n",
       "801  0.038913   0.241122  0.043798    0.042732  0.008433     0.036478   \n",
       "802  0.038563   0.171087  0.038036    0.044006  0.008641     0.036630   \n",
       "803  0.071801   0.566403  0.043885    0.054898  0.009460     0.054454   \n",
       "\n",
       "     phyllosilicate  silicate   sulfate   sulfide  \n",
       "0          0.041465  0.054703  0.911435  0.019366  \n",
       "1          0.043245  0.046429  0.074672  0.019422  \n",
       "2          0.046294  0.050413  0.309814  0.019356  \n",
       "3          0.042740  0.044824  0.413024  0.019502  \n",
       "4          0.068726  0.047090  0.076600  0.019380  \n",
       "..              ...       ...       ...       ...  \n",
       "799        0.045898  0.067008  0.050607  0.019705  \n",
       "800        0.049802  0.046124  0.124842  0.019522  \n",
       "801        0.073431  0.046757  0.218515  0.019526  \n",
       "802        0.059932  0.043291  0.098676  0.020097  \n",
       "803        0.046884  0.082803  0.056435  0.020753  \n",
       "\n",
       "[804 rows x 10 columns]"
      ]
     },
     "execution_count": 59,
     "metadata": {},
     "output_type": "execute_result"
    }
   ],
   "source": [
    "oof_test_50_v2 = pd.read_csv('oof_test_x50_calb_cb_clf_v2.csv')\n",
    "oof_test_50_v2"
   ]
  },
  {
   "cell_type": "code",
   "execution_count": 60,
   "metadata": {},
   "outputs": [
    {
     "data": {
      "text/html": [
       "<div>\n",
       "<style scoped>\n",
       "    .dataframe tbody tr th:only-of-type {\n",
       "        vertical-align: middle;\n",
       "    }\n",
       "\n",
       "    .dataframe tbody tr th {\n",
       "        vertical-align: top;\n",
       "    }\n",
       "\n",
       "    .dataframe thead th {\n",
       "        text-align: right;\n",
       "    }\n",
       "</style>\n",
       "<table border=\"1\" class=\"dataframe\">\n",
       "  <thead>\n",
       "    <tr style=\"text-align: right;\">\n",
       "      <th></th>\n",
       "      <th>sample_id</th>\n",
       "      <th>basalt</th>\n",
       "      <th>carbonate</th>\n",
       "      <th>chloride</th>\n",
       "      <th>iron_oxide</th>\n",
       "      <th>oxalate</th>\n",
       "      <th>oxychlorine</th>\n",
       "      <th>phyllosilicate</th>\n",
       "      <th>silicate</th>\n",
       "      <th>sulfate</th>\n",
       "      <th>sulfide</th>\n",
       "    </tr>\n",
       "  </thead>\n",
       "  <tbody>\n",
       "    <tr>\n",
       "      <th>0</th>\n",
       "      <td>S0766</td>\n",
       "      <td>0.008515</td>\n",
       "      <td>0.004105</td>\n",
       "      <td>0.017981</td>\n",
       "      <td>0.009874</td>\n",
       "      <td>0.001412</td>\n",
       "      <td>0.008454</td>\n",
       "      <td>0.019390</td>\n",
       "      <td>0.271978</td>\n",
       "      <td>0.005496</td>\n",
       "      <td>0.002052</td>\n",
       "    </tr>\n",
       "    <tr>\n",
       "      <th>1</th>\n",
       "      <td>S0767</td>\n",
       "      <td>0.077800</td>\n",
       "      <td>0.035944</td>\n",
       "      <td>0.004325</td>\n",
       "      <td>0.036534</td>\n",
       "      <td>0.000102</td>\n",
       "      <td>0.034601</td>\n",
       "      <td>0.045297</td>\n",
       "      <td>0.609227</td>\n",
       "      <td>0.091435</td>\n",
       "      <td>0.001141</td>\n",
       "    </tr>\n",
       "    <tr>\n",
       "      <th>2</th>\n",
       "      <td>S0768</td>\n",
       "      <td>0.484653</td>\n",
       "      <td>0.146311</td>\n",
       "      <td>0.002644</td>\n",
       "      <td>0.081566</td>\n",
       "      <td>0.002529</td>\n",
       "      <td>0.017212</td>\n",
       "      <td>0.394838</td>\n",
       "      <td>0.623719</td>\n",
       "      <td>0.043436</td>\n",
       "      <td>0.000775</td>\n",
       "    </tr>\n",
       "    <tr>\n",
       "      <th>3</th>\n",
       "      <td>S0769</td>\n",
       "      <td>0.020934</td>\n",
       "      <td>0.012400</td>\n",
       "      <td>0.068250</td>\n",
       "      <td>0.019692</td>\n",
       "      <td>0.000095</td>\n",
       "      <td>0.879791</td>\n",
       "      <td>0.100869</td>\n",
       "      <td>0.010727</td>\n",
       "      <td>0.871765</td>\n",
       "      <td>0.002046</td>\n",
       "    </tr>\n",
       "    <tr>\n",
       "      <th>4</th>\n",
       "      <td>S0770</td>\n",
       "      <td>0.022837</td>\n",
       "      <td>0.010769</td>\n",
       "      <td>0.014176</td>\n",
       "      <td>0.226716</td>\n",
       "      <td>0.000148</td>\n",
       "      <td>0.980885</td>\n",
       "      <td>0.899091</td>\n",
       "      <td>0.009366</td>\n",
       "      <td>0.014347</td>\n",
       "      <td>0.000715</td>\n",
       "    </tr>\n",
       "    <tr>\n",
       "      <th>...</th>\n",
       "      <td>...</td>\n",
       "      <td>...</td>\n",
       "      <td>...</td>\n",
       "      <td>...</td>\n",
       "      <td>...</td>\n",
       "      <td>...</td>\n",
       "      <td>...</td>\n",
       "      <td>...</td>\n",
       "      <td>...</td>\n",
       "      <td>...</td>\n",
       "      <td>...</td>\n",
       "    </tr>\n",
       "    <tr>\n",
       "      <th>799</th>\n",
       "      <td>S1565</td>\n",
       "      <td>0.067185</td>\n",
       "      <td>0.155509</td>\n",
       "      <td>0.015313</td>\n",
       "      <td>0.142559</td>\n",
       "      <td>0.029369</td>\n",
       "      <td>0.019302</td>\n",
       "      <td>0.022436</td>\n",
       "      <td>0.014338</td>\n",
       "      <td>0.007562</td>\n",
       "      <td>0.054753</td>\n",
       "    </tr>\n",
       "    <tr>\n",
       "      <th>800</th>\n",
       "      <td>S1566</td>\n",
       "      <td>0.035084</td>\n",
       "      <td>0.020832</td>\n",
       "      <td>0.013878</td>\n",
       "      <td>0.056196</td>\n",
       "      <td>0.000100</td>\n",
       "      <td>0.019664</td>\n",
       "      <td>0.102973</td>\n",
       "      <td>0.025733</td>\n",
       "      <td>0.074486</td>\n",
       "      <td>0.001506</td>\n",
       "    </tr>\n",
       "    <tr>\n",
       "      <th>801</th>\n",
       "      <td>S1567</td>\n",
       "      <td>0.005550</td>\n",
       "      <td>0.099935</td>\n",
       "      <td>0.042125</td>\n",
       "      <td>0.012218</td>\n",
       "      <td>0.000646</td>\n",
       "      <td>0.014931</td>\n",
       "      <td>0.277126</td>\n",
       "      <td>0.014189</td>\n",
       "      <td>0.181096</td>\n",
       "      <td>0.004653</td>\n",
       "    </tr>\n",
       "    <tr>\n",
       "      <th>802</th>\n",
       "      <td>S1568</td>\n",
       "      <td>0.012997</td>\n",
       "      <td>0.088101</td>\n",
       "      <td>0.009234</td>\n",
       "      <td>0.011730</td>\n",
       "      <td>0.013429</td>\n",
       "      <td>0.021371</td>\n",
       "      <td>0.024821</td>\n",
       "      <td>0.009997</td>\n",
       "      <td>0.020158</td>\n",
       "      <td>0.020348</td>\n",
       "    </tr>\n",
       "    <tr>\n",
       "      <th>803</th>\n",
       "      <td>S1569</td>\n",
       "      <td>0.232156</td>\n",
       "      <td>0.201649</td>\n",
       "      <td>0.017136</td>\n",
       "      <td>0.170331</td>\n",
       "      <td>0.052704</td>\n",
       "      <td>0.027394</td>\n",
       "      <td>0.040634</td>\n",
       "      <td>0.033435</td>\n",
       "      <td>0.008782</td>\n",
       "      <td>0.232007</td>\n",
       "    </tr>\n",
       "  </tbody>\n",
       "</table>\n",
       "<p>804 rows × 11 columns</p>\n",
       "</div>"
      ],
      "text/plain": [
       "    sample_id    basalt  carbonate  chloride  iron_oxide   oxalate  \\\n",
       "0       S0766  0.008515   0.004105  0.017981    0.009874  0.001412   \n",
       "1       S0767  0.077800   0.035944  0.004325    0.036534  0.000102   \n",
       "2       S0768  0.484653   0.146311  0.002644    0.081566  0.002529   \n",
       "3       S0769  0.020934   0.012400  0.068250    0.019692  0.000095   \n",
       "4       S0770  0.022837   0.010769  0.014176    0.226716  0.000148   \n",
       "..        ...       ...        ...       ...         ...       ...   \n",
       "799     S1565  0.067185   0.155509  0.015313    0.142559  0.029369   \n",
       "800     S1566  0.035084   0.020832  0.013878    0.056196  0.000100   \n",
       "801     S1567  0.005550   0.099935  0.042125    0.012218  0.000646   \n",
       "802     S1568  0.012997   0.088101  0.009234    0.011730  0.013429   \n",
       "803     S1569  0.232156   0.201649  0.017136    0.170331  0.052704   \n",
       "\n",
       "     oxychlorine  phyllosilicate  silicate   sulfate   sulfide  \n",
       "0       0.008454        0.019390  0.271978  0.005496  0.002052  \n",
       "1       0.034601        0.045297  0.609227  0.091435  0.001141  \n",
       "2       0.017212        0.394838  0.623719  0.043436  0.000775  \n",
       "3       0.879791        0.100869  0.010727  0.871765  0.002046  \n",
       "4       0.980885        0.899091  0.009366  0.014347  0.000715  \n",
       "..           ...             ...       ...       ...       ...  \n",
       "799     0.019302        0.022436  0.014338  0.007562  0.054753  \n",
       "800     0.019664        0.102973  0.025733  0.074486  0.001506  \n",
       "801     0.014931        0.277126  0.014189  0.181096  0.004653  \n",
       "802     0.021371        0.024821  0.009997  0.020158  0.020348  \n",
       "803     0.027394        0.040634  0.033435  0.008782  0.232007  \n",
       "\n",
       "[804 rows x 11 columns]"
      ]
     },
     "execution_count": 60,
     "metadata": {},
     "output_type": "execute_result"
    }
   ],
   "source": [
    "cb_preds = pd.read_csv('submissions\\catboost_preds_on_test_imp_fts-2.csv')\n",
    "cb_preds"
   ]
  },
  {
   "cell_type": "code",
   "execution_count": 24,
   "metadata": {},
   "outputs": [
    {
     "data": {
      "text/html": [
       "<div>\n",
       "<style scoped>\n",
       "    .dataframe tbody tr th:only-of-type {\n",
       "        vertical-align: middle;\n",
       "    }\n",
       "\n",
       "    .dataframe tbody tr th {\n",
       "        vertical-align: top;\n",
       "    }\n",
       "\n",
       "    .dataframe thead th {\n",
       "        text-align: right;\n",
       "    }\n",
       "</style>\n",
       "<table border=\"1\" class=\"dataframe\">\n",
       "  <thead>\n",
       "    <tr style=\"text-align: right;\">\n",
       "      <th></th>\n",
       "      <th>sample_id</th>\n",
       "      <th>basalt</th>\n",
       "      <th>carbonate</th>\n",
       "      <th>chloride</th>\n",
       "      <th>iron_oxide</th>\n",
       "      <th>oxalate</th>\n",
       "      <th>oxychlorine</th>\n",
       "      <th>phyllosilicate</th>\n",
       "      <th>silicate</th>\n",
       "      <th>sulfate</th>\n",
       "      <th>sulfide</th>\n",
       "    </tr>\n",
       "  </thead>\n",
       "  <tbody>\n",
       "    <tr>\n",
       "      <th>0</th>\n",
       "      <td>S0000</td>\n",
       "      <td>0.046069</td>\n",
       "      <td>0.031305</td>\n",
       "      <td>0.036531</td>\n",
       "      <td>0.042597</td>\n",
       "      <td>0.008983</td>\n",
       "      <td>0.040069</td>\n",
       "      <td>0.039597</td>\n",
       "      <td>0.043380</td>\n",
       "      <td>0.966699</td>\n",
       "      <td>0.018704</td>\n",
       "    </tr>\n",
       "    <tr>\n",
       "      <th>1</th>\n",
       "      <td>S0001</td>\n",
       "      <td>0.038418</td>\n",
       "      <td>0.975501</td>\n",
       "      <td>0.041802</td>\n",
       "      <td>0.062605</td>\n",
       "      <td>0.009007</td>\n",
       "      <td>0.033487</td>\n",
       "      <td>0.040268</td>\n",
       "      <td>0.050186</td>\n",
       "      <td>0.041741</td>\n",
       "      <td>0.018795</td>\n",
       "    </tr>\n",
       "    <tr>\n",
       "      <th>2</th>\n",
       "      <td>S0002</td>\n",
       "      <td>0.084273</td>\n",
       "      <td>0.025317</td>\n",
       "      <td>0.055014</td>\n",
       "      <td>0.041782</td>\n",
       "      <td>0.008971</td>\n",
       "      <td>0.961506</td>\n",
       "      <td>0.044605</td>\n",
       "      <td>0.036082</td>\n",
       "      <td>0.049080</td>\n",
       "      <td>0.020378</td>\n",
       "    </tr>\n",
       "    <tr>\n",
       "      <th>3</th>\n",
       "      <td>S0003</td>\n",
       "      <td>0.041053</td>\n",
       "      <td>0.227361</td>\n",
       "      <td>0.033505</td>\n",
       "      <td>0.054467</td>\n",
       "      <td>0.008756</td>\n",
       "      <td>0.034686</td>\n",
       "      <td>0.043093</td>\n",
       "      <td>0.036110</td>\n",
       "      <td>0.447207</td>\n",
       "      <td>0.020161</td>\n",
       "    </tr>\n",
       "    <tr>\n",
       "      <th>4</th>\n",
       "      <td>S0004</td>\n",
       "      <td>0.040080</td>\n",
       "      <td>0.027870</td>\n",
       "      <td>0.042560</td>\n",
       "      <td>0.583049</td>\n",
       "      <td>0.008045</td>\n",
       "      <td>0.974037</td>\n",
       "      <td>0.902420</td>\n",
       "      <td>0.044392</td>\n",
       "      <td>0.029145</td>\n",
       "      <td>0.017490</td>\n",
       "    </tr>\n",
       "    <tr>\n",
       "      <th>...</th>\n",
       "      <td>...</td>\n",
       "      <td>...</td>\n",
       "      <td>...</td>\n",
       "      <td>...</td>\n",
       "      <td>...</td>\n",
       "      <td>...</td>\n",
       "      <td>...</td>\n",
       "      <td>...</td>\n",
       "      <td>...</td>\n",
       "      <td>...</td>\n",
       "      <td>...</td>\n",
       "    </tr>\n",
       "    <tr>\n",
       "      <th>1054</th>\n",
       "      <td>S1054</td>\n",
       "      <td>0.045401</td>\n",
       "      <td>0.023425</td>\n",
       "      <td>0.092599</td>\n",
       "      <td>0.042936</td>\n",
       "      <td>0.008085</td>\n",
       "      <td>0.033533</td>\n",
       "      <td>0.052842</td>\n",
       "      <td>0.066822</td>\n",
       "      <td>0.038885</td>\n",
       "      <td>0.018756</td>\n",
       "    </tr>\n",
       "    <tr>\n",
       "      <th>1055</th>\n",
       "      <td>S1055</td>\n",
       "      <td>0.032899</td>\n",
       "      <td>0.025028</td>\n",
       "      <td>0.043735</td>\n",
       "      <td>0.060109</td>\n",
       "      <td>0.008752</td>\n",
       "      <td>0.038740</td>\n",
       "      <td>0.041931</td>\n",
       "      <td>0.898605</td>\n",
       "      <td>0.026602</td>\n",
       "      <td>0.017609</td>\n",
       "    </tr>\n",
       "    <tr>\n",
       "      <th>1056</th>\n",
       "      <td>S1056</td>\n",
       "      <td>0.030648</td>\n",
       "      <td>0.028253</td>\n",
       "      <td>0.037729</td>\n",
       "      <td>0.041349</td>\n",
       "      <td>0.909968</td>\n",
       "      <td>0.033899</td>\n",
       "      <td>0.037275</td>\n",
       "      <td>0.032015</td>\n",
       "      <td>0.037941</td>\n",
       "      <td>0.018764</td>\n",
       "    </tr>\n",
       "    <tr>\n",
       "      <th>1057</th>\n",
       "      <td>S1057</td>\n",
       "      <td>0.037680</td>\n",
       "      <td>0.787315</td>\n",
       "      <td>0.042295</td>\n",
       "      <td>0.073169</td>\n",
       "      <td>0.008100</td>\n",
       "      <td>0.039862</td>\n",
       "      <td>0.063518</td>\n",
       "      <td>0.045303</td>\n",
       "      <td>0.029741</td>\n",
       "      <td>0.017601</td>\n",
       "    </tr>\n",
       "    <tr>\n",
       "      <th>1058</th>\n",
       "      <td>S1058</td>\n",
       "      <td>0.045029</td>\n",
       "      <td>0.028267</td>\n",
       "      <td>0.037596</td>\n",
       "      <td>0.045693</td>\n",
       "      <td>0.008042</td>\n",
       "      <td>0.033738</td>\n",
       "      <td>0.964900</td>\n",
       "      <td>0.035284</td>\n",
       "      <td>0.027143</td>\n",
       "      <td>0.020408</td>\n",
       "    </tr>\n",
       "  </tbody>\n",
       "</table>\n",
       "<p>1059 rows × 11 columns</p>\n",
       "</div>"
      ],
      "text/plain": [
       "     sample_id    basalt  carbonate  chloride  iron_oxide   oxalate  \\\n",
       "0        S0000  0.046069   0.031305  0.036531    0.042597  0.008983   \n",
       "1        S0001  0.038418   0.975501  0.041802    0.062605  0.009007   \n",
       "2        S0002  0.084273   0.025317  0.055014    0.041782  0.008971   \n",
       "3        S0003  0.041053   0.227361  0.033505    0.054467  0.008756   \n",
       "4        S0004  0.040080   0.027870  0.042560    0.583049  0.008045   \n",
       "...        ...       ...        ...       ...         ...       ...   \n",
       "1054     S1054  0.045401   0.023425  0.092599    0.042936  0.008085   \n",
       "1055     S1055  0.032899   0.025028  0.043735    0.060109  0.008752   \n",
       "1056     S1056  0.030648   0.028253  0.037729    0.041349  0.909968   \n",
       "1057     S1057  0.037680   0.787315  0.042295    0.073169  0.008100   \n",
       "1058     S1058  0.045029   0.028267  0.037596    0.045693  0.008042   \n",
       "\n",
       "      oxychlorine  phyllosilicate  silicate   sulfate   sulfide  \n",
       "0        0.040069        0.039597  0.043380  0.966699  0.018704  \n",
       "1        0.033487        0.040268  0.050186  0.041741  0.018795  \n",
       "2        0.961506        0.044605  0.036082  0.049080  0.020378  \n",
       "3        0.034686        0.043093  0.036110  0.447207  0.020161  \n",
       "4        0.974037        0.902420  0.044392  0.029145  0.017490  \n",
       "...           ...             ...       ...       ...       ...  \n",
       "1054     0.033533        0.052842  0.066822  0.038885  0.018756  \n",
       "1055     0.038740        0.041931  0.898605  0.026602  0.017609  \n",
       "1056     0.033899        0.037275  0.032015  0.037941  0.018764  \n",
       "1057     0.039862        0.063518  0.045303  0.029741  0.017601  \n",
       "1058     0.033738        0.964900  0.035284  0.027143  0.020408  \n",
       "\n",
       "[1059 rows x 11 columns]"
      ]
     },
     "execution_count": 24,
     "metadata": {},
     "output_type": "execute_result"
    }
   ],
   "source": [
    "oof_train_50 = pd.read_csv('oof_train_x50_calb_cb_clf_v1.csv')\n",
    "oof_train_50"
   ]
  },
  {
   "cell_type": "code",
   "execution_count": 26,
   "metadata": {},
   "outputs": [],
   "source": [
    "lr_clb = LogisticRegression(random_state=RANDOM_SEED,verbose=1)"
   ]
  },
  {
   "cell_type": "code",
   "execution_count": 36,
   "metadata": {},
   "outputs": [
    {
     "name": "stderr",
     "output_type": "stream",
     "text": [
      "[Parallel(n_jobs=1)]: Using backend SequentialBackend with 1 concurrent workers.\n",
      "[Parallel(n_jobs=1)]: Done   1 out of   1 | elapsed:    0.0s finished\n",
      "[Parallel(n_jobs=1)]: Using backend SequentialBackend with 1 concurrent workers.\n",
      "[Parallel(n_jobs=1)]: Done   1 out of   1 | elapsed:    0.0s finished\n",
      "[Parallel(n_jobs=1)]: Using backend SequentialBackend with 1 concurrent workers.\n",
      "[Parallel(n_jobs=1)]: Done   1 out of   1 | elapsed:    0.0s finished\n",
      "[Parallel(n_jobs=1)]: Using backend SequentialBackend with 1 concurrent workers.\n",
      "[Parallel(n_jobs=1)]: Done   1 out of   1 | elapsed:    0.0s finished\n",
      "[Parallel(n_jobs=1)]: Using backend SequentialBackend with 1 concurrent workers.\n",
      "[Parallel(n_jobs=1)]: Done   1 out of   1 | elapsed:    0.0s finished\n"
     ]
    }
   ],
   "source": [
    "clb_cv = cross_val_score(lr_clb,oof_train_50[['basalt']],targets['basalt'],cv=skf,scoring=log_loss_scorer)"
   ]
  },
  {
   "cell_type": "code",
   "execution_count": 37,
   "metadata": {},
   "outputs": [
    {
     "data": {
      "text/plain": [
       "(array([0.14385143, 0.16268594, 0.16267129, 0.19863805, 0.19790215]),\n",
       " 0.1731497707682477)"
      ]
     },
     "execution_count": 37,
     "metadata": {},
     "output_type": "execute_result"
    }
   ],
   "source": [
    "clb_cv, clb_cv.mean()"
   ]
  },
  {
   "cell_type": "code",
   "execution_count": 61,
   "metadata": {},
   "outputs": [],
   "source": [
    "calib = CalibratedClassifierCV(base_estimator=cb_clf,cv='prefit',ensemble=False)"
   ]
  },
  {
   "cell_type": "code",
   "execution_count": 62,
   "metadata": {},
   "outputs": [],
   "source": [
    "ccv_1 =  cross_val_score(calib, oof_train_50[['basalt']], targets['basalt'],cv=skf, scoring=log_loss_scorer)"
   ]
  },
  {
   "cell_type": "code",
   "execution_count": 63,
   "metadata": {},
   "outputs": [
    {
     "data": {
      "text/plain": [
       "(array([nan, nan, nan, nan, nan]), nan)"
      ]
     },
     "execution_count": 63,
     "metadata": {},
     "output_type": "execute_result"
    }
   ],
   "source": [
    "ccv_1, ccv_1.mean()"
   ]
  },
  {
   "cell_type": "code",
   "execution_count": 60,
   "metadata": {},
   "outputs": [
    {
     "name": "stdout",
     "output_type": "stream",
     "text": [
      "Learning rate set to 0.010558\n",
      "0:\tlearn: 0.6743554\ttotal: 156ms\tremaining: 2m 36s\n",
      "999:\tlearn: 0.1178114\ttotal: 1.66s\tremaining: 0us\n"
     ]
    },
    {
     "data": {
      "text/plain": [
       "<catboost.core.CatBoostClassifier at 0x2838951ce50>"
      ]
     },
     "execution_count": 60,
     "metadata": {},
     "output_type": "execute_result"
    }
   ],
   "source": [
    "cb_clf.fit(oof_train_50[['basalt']],targets['basalt'])\n",
    "cb_clf"
   ]
  },
  {
   "cell_type": "code",
   "execution_count": 99,
   "metadata": {},
   "outputs": [],
   "source": [
    "X = oof_train_50.drop(index=metadata[metadata.split == 'val'].index,axis=0)\n",
    "X = X.drop('sample_id',axis=1)\n",
    "Y = targets.drop(index=metadata[metadata.split == 'val'].sample_id,axis=0)"
   ]
  },
  {
   "cell_type": "code",
   "execution_count": 102,
   "metadata": {},
   "outputs": [
    {
     "data": {
      "text/html": [
       "<div>\n",
       "<style scoped>\n",
       "    .dataframe tbody tr th:only-of-type {\n",
       "        vertical-align: middle;\n",
       "    }\n",
       "\n",
       "    .dataframe tbody tr th {\n",
       "        vertical-align: top;\n",
       "    }\n",
       "\n",
       "    .dataframe thead th {\n",
       "        text-align: right;\n",
       "    }\n",
       "</style>\n",
       "<table border=\"1\" class=\"dataframe\">\n",
       "  <thead>\n",
       "    <tr style=\"text-align: right;\">\n",
       "      <th></th>\n",
       "      <th>basalt</th>\n",
       "      <th>carbonate</th>\n",
       "      <th>chloride</th>\n",
       "      <th>iron_oxide</th>\n",
       "      <th>oxalate</th>\n",
       "      <th>oxychlorine</th>\n",
       "      <th>phyllosilicate</th>\n",
       "      <th>silicate</th>\n",
       "      <th>sulfate</th>\n",
       "      <th>sulfide</th>\n",
       "    </tr>\n",
       "  </thead>\n",
       "  <tbody>\n",
       "    <tr>\n",
       "      <th>0</th>\n",
       "      <td>0.046069</td>\n",
       "      <td>0.031305</td>\n",
       "      <td>0.036531</td>\n",
       "      <td>0.042597</td>\n",
       "      <td>0.008983</td>\n",
       "      <td>0.040069</td>\n",
       "      <td>0.039597</td>\n",
       "      <td>0.043380</td>\n",
       "      <td>0.966699</td>\n",
       "      <td>0.018704</td>\n",
       "    </tr>\n",
       "    <tr>\n",
       "      <th>1</th>\n",
       "      <td>0.038418</td>\n",
       "      <td>0.975501</td>\n",
       "      <td>0.041802</td>\n",
       "      <td>0.062605</td>\n",
       "      <td>0.009007</td>\n",
       "      <td>0.033487</td>\n",
       "      <td>0.040268</td>\n",
       "      <td>0.050186</td>\n",
       "      <td>0.041741</td>\n",
       "      <td>0.018795</td>\n",
       "    </tr>\n",
       "    <tr>\n",
       "      <th>2</th>\n",
       "      <td>0.084273</td>\n",
       "      <td>0.025317</td>\n",
       "      <td>0.055014</td>\n",
       "      <td>0.041782</td>\n",
       "      <td>0.008971</td>\n",
       "      <td>0.961506</td>\n",
       "      <td>0.044605</td>\n",
       "      <td>0.036082</td>\n",
       "      <td>0.049080</td>\n",
       "      <td>0.020378</td>\n",
       "    </tr>\n",
       "    <tr>\n",
       "      <th>3</th>\n",
       "      <td>0.041053</td>\n",
       "      <td>0.227361</td>\n",
       "      <td>0.033505</td>\n",
       "      <td>0.054467</td>\n",
       "      <td>0.008756</td>\n",
       "      <td>0.034686</td>\n",
       "      <td>0.043093</td>\n",
       "      <td>0.036110</td>\n",
       "      <td>0.447207</td>\n",
       "      <td>0.020161</td>\n",
       "    </tr>\n",
       "    <tr>\n",
       "      <th>4</th>\n",
       "      <td>0.040080</td>\n",
       "      <td>0.027870</td>\n",
       "      <td>0.042560</td>\n",
       "      <td>0.583049</td>\n",
       "      <td>0.008045</td>\n",
       "      <td>0.974037</td>\n",
       "      <td>0.902420</td>\n",
       "      <td>0.044392</td>\n",
       "      <td>0.029145</td>\n",
       "      <td>0.017490</td>\n",
       "    </tr>\n",
       "    <tr>\n",
       "      <th>...</th>\n",
       "      <td>...</td>\n",
       "      <td>...</td>\n",
       "      <td>...</td>\n",
       "      <td>...</td>\n",
       "      <td>...</td>\n",
       "      <td>...</td>\n",
       "      <td>...</td>\n",
       "      <td>...</td>\n",
       "      <td>...</td>\n",
       "      <td>...</td>\n",
       "    </tr>\n",
       "    <tr>\n",
       "      <th>761</th>\n",
       "      <td>0.040897</td>\n",
       "      <td>0.030983</td>\n",
       "      <td>0.032553</td>\n",
       "      <td>0.052167</td>\n",
       "      <td>0.008221</td>\n",
       "      <td>0.042143</td>\n",
       "      <td>0.131683</td>\n",
       "      <td>0.033124</td>\n",
       "      <td>0.092498</td>\n",
       "      <td>0.018871</td>\n",
       "    </tr>\n",
       "    <tr>\n",
       "      <th>762</th>\n",
       "      <td>0.033147</td>\n",
       "      <td>0.486420</td>\n",
       "      <td>0.044994</td>\n",
       "      <td>0.040181</td>\n",
       "      <td>0.008093</td>\n",
       "      <td>0.034986</td>\n",
       "      <td>0.040852</td>\n",
       "      <td>0.044504</td>\n",
       "      <td>0.198451</td>\n",
       "      <td>0.020984</td>\n",
       "    </tr>\n",
       "    <tr>\n",
       "      <th>763</th>\n",
       "      <td>0.039143</td>\n",
       "      <td>0.082237</td>\n",
       "      <td>0.036185</td>\n",
       "      <td>0.050952</td>\n",
       "      <td>0.008078</td>\n",
       "      <td>0.032136</td>\n",
       "      <td>0.056739</td>\n",
       "      <td>0.033697</td>\n",
       "      <td>0.061231</td>\n",
       "      <td>0.023405</td>\n",
       "    </tr>\n",
       "    <tr>\n",
       "      <th>764</th>\n",
       "      <td>0.039292</td>\n",
       "      <td>0.114992</td>\n",
       "      <td>0.037282</td>\n",
       "      <td>0.045582</td>\n",
       "      <td>0.008113</td>\n",
       "      <td>0.033680</td>\n",
       "      <td>0.059778</td>\n",
       "      <td>0.045394</td>\n",
       "      <td>0.033325</td>\n",
       "      <td>0.023074</td>\n",
       "    </tr>\n",
       "    <tr>\n",
       "      <th>765</th>\n",
       "      <td>0.040082</td>\n",
       "      <td>0.030646</td>\n",
       "      <td>0.038503</td>\n",
       "      <td>0.060716</td>\n",
       "      <td>0.008089</td>\n",
       "      <td>0.032643</td>\n",
       "      <td>0.058103</td>\n",
       "      <td>0.045451</td>\n",
       "      <td>0.122933</td>\n",
       "      <td>0.020599</td>\n",
       "    </tr>\n",
       "  </tbody>\n",
       "</table>\n",
       "<p>766 rows × 10 columns</p>\n",
       "</div>"
      ],
      "text/plain": [
       "       basalt  carbonate  chloride  iron_oxide   oxalate  oxychlorine  \\\n",
       "0    0.046069   0.031305  0.036531    0.042597  0.008983     0.040069   \n",
       "1    0.038418   0.975501  0.041802    0.062605  0.009007     0.033487   \n",
       "2    0.084273   0.025317  0.055014    0.041782  0.008971     0.961506   \n",
       "3    0.041053   0.227361  0.033505    0.054467  0.008756     0.034686   \n",
       "4    0.040080   0.027870  0.042560    0.583049  0.008045     0.974037   \n",
       "..        ...        ...       ...         ...       ...          ...   \n",
       "761  0.040897   0.030983  0.032553    0.052167  0.008221     0.042143   \n",
       "762  0.033147   0.486420  0.044994    0.040181  0.008093     0.034986   \n",
       "763  0.039143   0.082237  0.036185    0.050952  0.008078     0.032136   \n",
       "764  0.039292   0.114992  0.037282    0.045582  0.008113     0.033680   \n",
       "765  0.040082   0.030646  0.038503    0.060716  0.008089     0.032643   \n",
       "\n",
       "     phyllosilicate  silicate   sulfate   sulfide  \n",
       "0          0.039597  0.043380  0.966699  0.018704  \n",
       "1          0.040268  0.050186  0.041741  0.018795  \n",
       "2          0.044605  0.036082  0.049080  0.020378  \n",
       "3          0.043093  0.036110  0.447207  0.020161  \n",
       "4          0.902420  0.044392  0.029145  0.017490  \n",
       "..              ...       ...       ...       ...  \n",
       "761        0.131683  0.033124  0.092498  0.018871  \n",
       "762        0.040852  0.044504  0.198451  0.020984  \n",
       "763        0.056739  0.033697  0.061231  0.023405  \n",
       "764        0.059778  0.045394  0.033325  0.023074  \n",
       "765        0.058103  0.045451  0.122933  0.020599  \n",
       "\n",
       "[766 rows x 10 columns]"
      ]
     },
     "execution_count": 102,
     "metadata": {},
     "output_type": "execute_result"
    }
   ],
   "source": [
    "X"
   ]
  },
  {
   "cell_type": "code",
   "execution_count": 125,
   "metadata": {},
   "outputs": [
    {
     "name": "stdout",
     "output_type": "stream",
     "text": [
      "[0.11647724404099095]\n",
      "[0.11647724404099095, 0.15715604682311565]\n",
      "[0.11647724404099095, 0.15715604682311565, 0.10983927782767743]\n",
      "[0.11647724404099095, 0.15715604682311565, 0.10983927782767743, 0.137331038931166]\n",
      "[0.11647724404099095, 0.15715604682311565, 0.10983927782767743, 0.137331038931166, 0.12377210449094868]\n"
     ]
    }
   ],
   "source": [
    "loss_x = []\n",
    "for i, (train_index, test_index) in enumerate(skf.split(X[['basalt']],Y['basalt'])):\n",
    "        x_tr = X[['basalt']].iloc[train_index]\n",
    "        y_tr = Y['basalt'].iloc[train_index]\n",
    "        x_te = X[['basalt']].iloc[test_index]\n",
    "        y_te = Y['basalt'].iloc[test_index]\n",
    "\n",
    "        calib.fit(x_tr.values,y_tr.values)\n",
    "        loss  = log_loss(y_te,calib.predict_proba(x_te))\n",
    "        loss_x.append(loss)\n",
    "        print(loss_x)\n",
    "\n",
    "    "
   ]
  },
  {
   "cell_type": "code",
   "execution_count": 126,
   "metadata": {},
   "outputs": [
    {
     "data": {
      "text/plain": [
       "0.12891514242277974"
      ]
     },
     "execution_count": 126,
     "metadata": {},
     "output_type": "execute_result"
    }
   ],
   "source": [
    "np.array(loss_x).mean()"
   ]
  },
  {
   "cell_type": "code",
   "execution_count": 64,
   "metadata": {},
   "outputs": [
    {
     "data": {
      "text/plain": [
       "array([0.01977934, 0.02042402, 0.09062856, ..., 0.0182138 , 0.01929143,\n",
       "       0.01967246])"
      ]
     },
     "execution_count": 64,
     "metadata": {},
     "output_type": "execute_result"
    }
   ],
   "source": [
    "calib.fit(oof_train_50[['basalt']], targets['basalt'])\n",
    "calib.predict_proba(oof_train_50[['basalt']])[:,1]"
   ]
  },
  {
   "cell_type": "code",
   "execution_count": 3,
   "metadata": {},
   "outputs": [],
   "source": [
    "del train_temp_1"
   ]
  },
  {
   "cell_type": "code",
   "execution_count": null,
   "metadata": {},
   "outputs": [],
   "source": []
  }
 ],
 "metadata": {
  "interpreter": {
   "hash": "518a807dccee1bb2cf00c0cea9388abbe4210a3c385c01718c979ef7759eaf87"
  },
  "kernelspec": {
   "display_name": "Python 3.9.5 64-bit",
   "language": "python",
   "name": "python3"
  },
  "language_info": {
   "codemirror_mode": {
    "name": "ipython",
    "version": 3
   },
   "file_extension": ".py",
   "mimetype": "text/x-python",
   "name": "python",
   "nbconvert_exporter": "python",
   "pygments_lexer": "ipython3",
   "version": "3.9.5"
  },
  "orig_nbformat": 4
 },
 "nbformat": 4,
 "nbformat_minor": 2
}
