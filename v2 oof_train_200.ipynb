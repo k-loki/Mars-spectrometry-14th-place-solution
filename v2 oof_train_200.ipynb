{
 "cells": [
  {
   "cell_type": "code",
   "execution_count": 1,
   "id": "e81b6bb9",
   "metadata": {
    "execution": {
     "iopub.execute_input": "2022-04-17T20:20:34.782684Z",
     "iopub.status.busy": "2022-04-17T20:20:34.781630Z",
     "iopub.status.idle": "2022-04-17T20:20:34.784245Z",
     "shell.execute_reply": "2022-04-17T20:20:34.784702Z"
    },
    "papermill": {
     "duration": 0.037903,
     "end_time": "2022-04-17T20:20:34.784983",
     "exception": false,
     "start_time": "2022-04-17T20:20:34.747080",
     "status": "completed"
    },
    "tags": []
   },
   "outputs": [],
   "source": [
    "#  Forked from rough_work_2\n",
    "#  this time increasing n-est to 5k with same 20skf on every t100\n",
    "#  don't forget to changge output file names...."
   ]
  },
  {
   "cell_type": "code",
   "execution_count": 2,
   "id": "b41af1bf",
   "metadata": {
    "execution": {
     "iopub.execute_input": "2022-04-17T20:20:34.845473Z",
     "iopub.status.busy": "2022-04-17T20:20:34.844883Z",
     "iopub.status.idle": "2022-04-17T20:20:34.847549Z",
     "shell.execute_reply": "2022-04-17T20:20:34.847073Z"
    },
    "papermill": {
     "duration": 0.034152,
     "end_time": "2022-04-17T20:20:34.847689",
     "exception": false,
     "start_time": "2022-04-17T20:20:34.813537",
     "status": "completed"
    },
    "tags": []
   },
   "outputs": [],
   "source": [
    "#  add is_sam feature (will it be useful.. or confuse the model ??)\n",
    "#  the mean_std-df is redundant"
   ]
  },
  {
   "cell_type": "code",
   "execution_count": 3,
   "id": "20c9da73",
   "metadata": {
    "execution": {
     "iopub.execute_input": "2022-04-17T20:20:34.916632Z",
     "iopub.status.busy": "2022-04-17T20:20:34.907198Z",
     "iopub.status.idle": "2022-04-17T20:20:38.477954Z",
     "shell.execute_reply": "2022-04-17T20:20:38.477353Z",
     "shell.execute_reply.started": "2022-04-17T20:04:33.827434Z"
    },
    "papermill": {
     "duration": 3.602147,
     "end_time": "2022-04-17T20:20:38.478088",
     "exception": false,
     "start_time": "2022-04-17T20:20:34.875941",
     "status": "completed"
    },
    "tags": []
   },
   "outputs": [
    {
     "data": {
      "text/html": [
       "<style type='text/css'>\n",
       ".datatable table.frame { margin-bottom: 0; }\n",
       ".datatable table.frame thead { border-bottom: none; }\n",
       ".datatable table.frame tr.coltypes td {  color: #FFFFFF;  line-height: 6px;  padding: 0 0.5em;}\n",
       ".datatable .bool    { background: #DDDD99; }\n",
       ".datatable .object  { background: #565656; }\n",
       ".datatable .int     { background: #5D9E5D; }\n",
       ".datatable .float   { background: #4040CC; }\n",
       ".datatable .str     { background: #CC4040; }\n",
       ".datatable .time    { background: #40CC40; }\n",
       ".datatable .row_index {  background: var(--jp-border-color3);  border-right: 1px solid var(--jp-border-color0);  color: var(--jp-ui-font-color3);  font-size: 9px;}\n",
       ".datatable .frame tbody td { text-align: left; }\n",
       ".datatable .frame tr.coltypes .row_index {  background: var(--jp-border-color0);}\n",
       ".datatable th:nth-child(2) { padding-left: 12px; }\n",
       ".datatable .hellipsis {  color: var(--jp-cell-editor-border-color);}\n",
       ".datatable .vellipsis {  background: var(--jp-layout-color0);  color: var(--jp-cell-editor-border-color);}\n",
       ".datatable .na {  color: var(--jp-cell-editor-border-color);  font-size: 80%;}\n",
       ".datatable .sp {  opacity: 0.25;}\n",
       ".datatable .footer { font-size: 9px; }\n",
       ".datatable .frame_dimensions {  background: var(--jp-border-color3);  border-top: 1px solid var(--jp-border-color0);  color: var(--jp-ui-font-color3);  display: inline-block;  opacity: 0.6;  padding: 1px 10px 1px 5px;}\n",
       "</style>\n"
      ],
      "text/plain": [
       "<IPython.core.display.HTML object>"
      ]
     },
     "metadata": {},
     "output_type": "display_data"
    }
   ],
   "source": [
    "import pandas as pd\n",
    "import pandas_profiling\n",
    "import numpy as np\n",
    "import matplotlib.pyplot as plt\n",
    "%matplotlib inline\n",
    "import seaborn as sns\n",
    "from tqdm import tqdm\n",
    "\n",
    "from sklearn.preprocessing import QuantileTransformer, PowerTransformer\n",
    "from sklearn.metrics import make_scorer, log_loss\n",
    "from sklearn.model_selection import StratifiedKFold, cross_val_score\n",
    "from sklearn.ensemble import HistGradientBoostingClassifier\n",
    "from sklearn.linear_model import LogisticRegression\n",
    "from sklearn.calibration import CalibratedClassifierCV, calibration_curve\n",
    "\n",
    "from catboost import CatBoostClassifier\n",
    "from xgboost import XGBClassifier\n",
    "from lightgbm import LGBMClassifier\n",
    "\n",
    "RANDOM_SEED = 777\n",
    "np.random.seed(RANDOM_SEED)\n",
    "np.random.SeedSequence(RANDOM_SEED)\n",
    "import warnings\n",
    "warnings.filterwarnings('ignore')\n",
    "import os\n",
    "os.environ['PYTHONHASHSEED'] = str(RANDOM_SEED)"
   ]
  },
  {
   "cell_type": "code",
   "execution_count": 4,
   "id": "42bd3abf",
   "metadata": {
    "execution": {
     "iopub.execute_input": "2022-04-17T20:20:38.541983Z",
     "iopub.status.busy": "2022-04-17T20:20:38.541002Z",
     "iopub.status.idle": "2022-04-17T20:20:38.592606Z",
     "shell.execute_reply": "2022-04-17T20:20:38.593116Z",
     "shell.execute_reply.started": "2022-04-17T20:04:38.011624Z"
    },
    "papermill": {
     "duration": 0.085053,
     "end_time": "2022-04-17T20:20:38.593280",
     "exception": false,
     "start_time": "2022-04-17T20:20:38.508227",
     "status": "completed"
    },
    "tags": []
   },
   "outputs": [],
   "source": [
    "metadata = pd.read_csv('../input/is-this-crazy/metadata.csv')\n",
    "sup_metadata = pd.read_csv('../input/is-this-crazy/supplemental_metadata.csv')\n",
    "train_labels = pd.read_csv('../input/is-this-crazy/train_labels.csv', index_col=\"sample_id\")\n",
    "val_labels = pd.read_csv('../input/is-this-crazy/val_labels.csv',index_col='sample_id')\n",
    "# targets = pd.read_csv('targets.csv',index_col='sample_id')\n",
    "submission_format = pd.read_csv('../input/is-this-crazy/submission_format.csv')"
   ]
  },
  {
   "cell_type": "code",
   "execution_count": 5,
   "id": "af7cdb98",
   "metadata": {
    "execution": {
     "iopub.execute_input": "2022-04-17T20:20:38.656316Z",
     "iopub.status.busy": "2022-04-17T20:20:38.655789Z",
     "iopub.status.idle": "2022-04-17T20:20:38.661290Z",
     "shell.execute_reply": "2022-04-17T20:20:38.661770Z",
     "shell.execute_reply.started": "2022-04-17T20:04:40.737290Z"
    },
    "papermill": {
     "duration": 0.037725,
     "end_time": "2022-04-17T20:20:38.661938",
     "exception": false,
     "start_time": "2022-04-17T20:20:38.624213",
     "status": "completed"
    },
    "tags": []
   },
   "outputs": [
    {
     "data": {
      "text/plain": [
       "(1059, 10)"
      ]
     },
     "execution_count": 5,
     "metadata": {},
     "output_type": "execute_result"
    }
   ],
   "source": [
    "targets = pd.concat([train_labels,val_labels],axis=0)\n",
    "targets.shape"
   ]
  },
  {
   "cell_type": "code",
   "execution_count": 6,
   "id": "9383c37c",
   "metadata": {
    "execution": {
     "iopub.execute_input": "2022-04-17T20:20:38.724506Z",
     "iopub.status.busy": "2022-04-17T20:20:38.723946Z",
     "iopub.status.idle": "2022-04-17T20:20:38.732501Z",
     "shell.execute_reply": "2022-04-17T20:20:38.732032Z",
     "shell.execute_reply.started": "2022-04-17T20:18:55.508163Z"
    },
    "papermill": {
     "duration": 0.040077,
     "end_time": "2022-04-17T20:20:38.732641",
     "exception": false,
     "start_time": "2022-04-17T20:20:38.692564",
     "status": "completed"
    },
    "tags": []
   },
   "outputs": [],
   "source": [
    "sam_id = metadata[metadata.instrument_type == 'sam_testbed'].index"
   ]
  },
  {
   "cell_type": "code",
   "execution_count": 7,
   "id": "dc454e6f",
   "metadata": {
    "execution": {
     "iopub.execute_input": "2022-04-17T20:20:38.797120Z",
     "iopub.status.busy": "2022-04-17T20:20:38.796417Z",
     "iopub.status.idle": "2022-04-17T20:20:39.915844Z",
     "shell.execute_reply": "2022-04-17T20:20:39.915339Z",
     "shell.execute_reply.started": "2022-04-17T20:04:40.977339Z"
    },
    "papermill": {
     "duration": 1.154296,
     "end_time": "2022-04-17T20:20:39.916005",
     "exception": false,
     "start_time": "2022-04-17T20:20:38.761709",
     "status": "completed"
    },
    "tags": []
   },
   "outputs": [
    {
     "name": "stdout",
     "output_type": "stream",
     "text": [
      "CPU times: user 769 ms, sys: 97 ms, total: 866 ms\n",
      "Wall time: 1.12 s\n"
     ]
    }
   ],
   "source": [
    "%%time\n",
    "test_100 = pd.read_csv('../input/train-rg-transformed/test_100.csv',index_col=0,header=[0,1])\n",
    "train_100 = pd.read_csv('../input/train-rg-transformed/train_100.csv',index_col=0,header=[0,1])\n",
    "val_100 = pd.read_csv('../input/train-rg-transformed/val_100.csv',index_col=0,header=[0,1])\n",
    "\n",
    "val_100.index = metadata[metadata.split == 'val'].sample_id\n",
    "\n",
    "val_100.sort_index(inplace=True,axis=1)\n",
    "test_100.sort_index(inplace=True,axis=1)\n",
    "train_100.sort_index(inplace=True,axis=1)"
   ]
  },
  {
   "cell_type": "code",
   "execution_count": 8,
   "id": "7f9532fd",
   "metadata": {
    "execution": {
     "iopub.execute_input": "2022-04-17T20:20:39.979713Z",
     "iopub.status.busy": "2022-04-17T20:20:39.979057Z",
     "iopub.status.idle": "2022-04-17T20:20:39.981966Z",
     "shell.execute_reply": "2022-04-17T20:20:39.981469Z",
     "shell.execute_reply.started": "2022-04-17T20:04:45.292890Z"
    },
    "papermill": {
     "duration": 0.036537,
     "end_time": "2022-04-17T20:20:39.982094",
     "exception": false,
     "start_time": "2022-04-17T20:20:39.945557",
     "status": "completed"
    },
    "tags": []
   },
   "outputs": [],
   "source": [
    "# train_100.drop(columns=[('sample_id_encoded', 'Unnamed: 1601_level_1')],axis=1,inplace=True)"
   ]
  },
  {
   "cell_type": "code",
   "execution_count": 9,
   "id": "a15ca1e3",
   "metadata": {
    "execution": {
     "iopub.execute_input": "2022-04-17T20:20:40.047143Z",
     "iopub.status.busy": "2022-04-17T20:20:40.046165Z",
     "iopub.status.idle": "2022-04-17T20:20:40.072346Z",
     "shell.execute_reply": "2022-04-17T20:20:40.071840Z",
     "shell.execute_reply.started": "2022-04-17T20:04:45.557946Z"
    },
    "papermill": {
     "duration": 0.060646,
     "end_time": "2022-04-17T20:20:40.072495",
     "exception": false,
     "start_time": "2022-04-17T20:20:40.011849",
     "status": "completed"
    },
    "tags": []
   },
   "outputs": [
    {
     "data": {
      "text/plain": [
       "((1059, 2100), (804, 2100))"
      ]
     },
     "execution_count": 9,
     "metadata": {},
     "output_type": "execute_result"
    }
   ],
   "source": [
    "train_set_200 = pd.concat([train_100,val_100],axis=0)\n",
    "test_set_200 = pd.concat([val_100,test_100],axis=0)\n",
    "train_set_200.shape, test_set_200.shape"
   ]
  },
  {
   "cell_type": "code",
   "execution_count": 10,
   "id": "13cc184d",
   "metadata": {
    "execution": {
     "iopub.execute_input": "2022-04-17T20:20:40.136396Z",
     "iopub.status.busy": "2022-04-17T20:20:40.135800Z",
     "iopub.status.idle": "2022-04-17T20:20:42.524915Z",
     "shell.execute_reply": "2022-04-17T20:20:42.524286Z",
     "shell.execute_reply.started": "2022-04-17T20:04:50.392701Z"
    },
    "papermill": {
     "duration": 2.422702,
     "end_time": "2022-04-17T20:20:42.525051",
     "exception": false,
     "start_time": "2022-04-17T20:20:40.102349",
     "status": "completed"
    },
    "tags": []
   },
   "outputs": [
    {
     "name": "stdout",
     "output_type": "stream",
     "text": [
      "CPU times: user 1.76 s, sys: 146 ms, total: 1.91 s\n",
      "Wall time: 2.38 s\n"
     ]
    }
   ],
   "source": [
    "%%time\n",
    "train_50 = pd.read_csv('../input/train-rg-transformed/train_50.csv',index_col=0,header=[0,1])\n",
    "test_50 = pd.read_csv('../input/train-rg-transformed/test_50.csv',index_col=0,header=[0,1])\n",
    "val_50 = pd.read_csv('../input/train-rg-transformed/val_50.csv',index_col=0,header=[0,1])\n",
    "\n",
    "test_50.sort_index(inplace=True,axis=1)\n",
    "train_50.sort_index(inplace=True,axis=1)\n",
    "val_50.sort_index(inplace=True,axis=1)"
   ]
  },
  {
   "cell_type": "code",
   "execution_count": 11,
   "id": "7fa396e4",
   "metadata": {
    "execution": {
     "iopub.execute_input": "2022-04-17T20:20:42.590566Z",
     "iopub.status.busy": "2022-04-17T20:20:42.589694Z",
     "iopub.status.idle": "2022-04-17T20:20:42.632631Z",
     "shell.execute_reply": "2022-04-17T20:20:42.632022Z",
     "shell.execute_reply.started": "2022-04-17T20:04:52.908413Z"
    },
    "papermill": {
     "duration": 0.077664,
     "end_time": "2022-04-17T20:20:42.632773",
     "exception": false,
     "start_time": "2022-04-17T20:20:42.555109",
     "status": "completed"
    },
    "tags": []
   },
   "outputs": [
    {
     "data": {
      "text/plain": [
       "((1059, 4200), (804, 4200))"
      ]
     },
     "execution_count": 11,
     "metadata": {},
     "output_type": "execute_result"
    }
   ],
   "source": [
    "train_set_50 = pd.concat([train_50,val_50],axis=0)\n",
    "test_set_50 = pd.concat([val_50,test_50],axis=0)\n",
    "train_set_50.shape, test_set_50.shape"
   ]
  },
  {
   "cell_type": "code",
   "execution_count": 12,
   "id": "d09e1d42",
   "metadata": {
    "execution": {
     "iopub.execute_input": "2022-04-17T20:20:42.697237Z",
     "iopub.status.busy": "2022-04-17T20:20:42.696646Z",
     "iopub.status.idle": "2022-04-17T20:20:43.243618Z",
     "shell.execute_reply": "2022-04-17T20:20:43.242985Z",
     "shell.execute_reply.started": "2022-04-17T20:04:56.642272Z"
    },
    "papermill": {
     "duration": 0.580485,
     "end_time": "2022-04-17T20:20:43.243755",
     "exception": false,
     "start_time": "2022-04-17T20:20:42.663270",
     "status": "completed"
    },
    "tags": []
   },
   "outputs": [],
   "source": [
    "train_200 = pd.read_csv('../input/train-rg-transformed/train_200.csv',index_col=0,header=[0,1])\n",
    "val_200 = pd.read_csv('../input/train-rg-transformed/val_200.csv',index_col=0,header=[0,1])\n",
    "test_200 = pd.read_csv('../input/train-rg-transformed/test_200.csv',index_col=0,header=[0,1])\n",
    "\n",
    "test_200.sort_index(inplace=True,axis=1)\n",
    "val_200.sort_index(inplace=True,axis=1)\n",
    "train_200.sort_index(inplace=True,axis=1)"
   ]
  },
  {
   "cell_type": "code",
   "execution_count": 13,
   "id": "9b90a812",
   "metadata": {
    "execution": {
     "iopub.execute_input": "2022-04-17T20:20:43.309840Z",
     "iopub.status.busy": "2022-04-17T20:20:43.308875Z",
     "iopub.status.idle": "2022-04-17T20:20:43.323135Z",
     "shell.execute_reply": "2022-04-17T20:20:43.323562Z",
     "shell.execute_reply.started": "2022-04-17T20:04:57.747099Z"
    },
    "papermill": {
     "duration": 0.048364,
     "end_time": "2022-04-17T20:20:43.323732",
     "exception": false,
     "start_time": "2022-04-17T20:20:43.275368",
     "status": "completed"
    },
    "tags": []
   },
   "outputs": [
    {
     "data": {
      "text/plain": [
       "((1059, 1000), (804, 1000))"
      ]
     },
     "execution_count": 13,
     "metadata": {},
     "output_type": "execute_result"
    }
   ],
   "source": [
    "train_set_200 = pd.concat([train_200,val_200],axis=0)\n",
    "test_set_200 = pd.concat([val_200,test_200],axis=0)\n",
    "train_set_200.shape, test_set_200.shape"
   ]
  },
  {
   "cell_type": "code",
   "execution_count": 14,
   "id": "4c905d7f",
   "metadata": {
    "execution": {
     "iopub.execute_input": "2022-04-17T20:20:43.391359Z",
     "iopub.status.busy": "2022-04-17T20:20:43.389468Z",
     "iopub.status.idle": "2022-04-17T20:20:43.392017Z",
     "shell.execute_reply": "2022-04-17T20:20:43.392435Z",
     "shell.execute_reply.started": "2022-04-17T20:05:02.932691Z"
    },
    "papermill": {
     "duration": 0.038371,
     "end_time": "2022-04-17T20:20:43.392623",
     "exception": false,
     "start_time": "2022-04-17T20:20:43.354252",
     "status": "completed"
    },
    "tags": []
   },
   "outputs": [],
   "source": [
    "skf = StratifiedKFold(n_splits=20,random_state=RANDOM_SEED,shuffle=True)\n",
    "log_loss_scorer = make_scorer(log_loss,needs_proba=True)"
   ]
  },
  {
   "cell_type": "code",
   "execution_count": 15,
   "id": "a61f3846",
   "metadata": {
    "execution": {
     "iopub.execute_input": "2022-04-17T20:20:43.458892Z",
     "iopub.status.busy": "2022-04-17T20:20:43.458288Z",
     "iopub.status.idle": "2022-04-17T20:20:43.464636Z",
     "shell.execute_reply": "2022-04-17T20:20:43.464026Z",
     "shell.execute_reply.started": "2022-04-17T20:05:03.332460Z"
    },
    "papermill": {
     "duration": 0.041777,
     "end_time": "2022-04-17T20:20:43.464772",
     "exception": false,
     "start_time": "2022-04-17T20:20:43.422995",
     "status": "completed"
    },
    "tags": []
   },
   "outputs": [
    {
     "data": {
      "text/plain": [
       "LogisticRegression(C=10, penalty='l1', random_state=777, solver='liblinear')"
      ]
     },
     "execution_count": 15,
     "metadata": {},
     "output_type": "execute_result"
    }
   ],
   "source": [
    "phy = 'phyllosilicate'\n",
    "bas = 'basalt'\n",
    "lr = LogisticRegression(solver='liblinear',C=10,random_state=RANDOM_SEED,penalty='l1')\n",
    "lr"
   ]
  },
  {
   "cell_type": "code",
   "execution_count": 16,
   "id": "e90b2933",
   "metadata": {
    "execution": {
     "iopub.execute_input": "2022-04-17T20:20:43.533114Z",
     "iopub.status.busy": "2022-04-17T20:20:43.532473Z",
     "iopub.status.idle": "2022-04-17T20:20:43.535316Z",
     "shell.execute_reply": "2022-04-17T20:20:43.534808Z",
     "shell.execute_reply.started": "2022-04-17T20:05:12.678976Z"
    },
    "papermill": {
     "duration": 0.039417,
     "end_time": "2022-04-17T20:20:43.535448",
     "exception": false,
     "start_time": "2022-04-17T20:20:43.496031",
     "status": "completed"
    },
    "tags": []
   },
   "outputs": [],
   "source": [
    "def get_coefs(X,y,c):\n",
    "    lr = LogisticRegression(solver='liblinear',C=c,random_state=RANDOM_SEED,penalty='l1')\n",
    "    print(cross_val_score(lr,X,y,cv=skf,scoring=log_loss_scorer).mean())\n",
    "    lr.fit(X,y)\n",
    "    # print(log_loss(y,lr.predict_proba(X)))\n",
    "    coefs =  lr.coef_\n",
    "    coefs_list  = []\n",
    "    for id,wt in enumerate(tqdm(coefs[0])):\n",
    "        if wt != 0:\n",
    "            coefs_list.append(id)\n",
    "    print(len(coefs_list))\n",
    "    return coefs_list"
   ]
  },
  {
   "cell_type": "code",
   "execution_count": 17,
   "id": "a600cb60",
   "metadata": {
    "execution": {
     "iopub.execute_input": "2022-04-17T20:20:43.602770Z",
     "iopub.status.busy": "2022-04-17T20:20:43.602112Z",
     "iopub.status.idle": "2022-04-17T20:20:43.605213Z",
     "shell.execute_reply": "2022-04-17T20:20:43.604661Z",
     "shell.execute_reply.started": "2022-04-17T20:05:12.848008Z"
    },
    "papermill": {
     "duration": 0.039096,
     "end_time": "2022-04-17T20:20:43.605359",
     "exception": false,
     "start_time": "2022-04-17T20:20:43.566263",
     "status": "completed"
    },
    "tags": []
   },
   "outputs": [],
   "source": [
    "def get_mz(mz,df):\n",
    "    ''' returns list of columns for given mz'''\n",
    "    cols_list = []\n",
    "    for col in df.columns:\n",
    "        if col[0] == str(mz):\n",
    "            cols_list.append(col)\n",
    "    return cols_list"
   ]
  },
  {
   "cell_type": "code",
   "execution_count": 18,
   "id": "242254f3",
   "metadata": {
    "execution": {
     "iopub.execute_input": "2022-04-17T20:20:43.672424Z",
     "iopub.status.busy": "2022-04-17T20:20:43.671527Z",
     "iopub.status.idle": "2022-04-17T20:20:43.676611Z",
     "shell.execute_reply": "2022-04-17T20:20:43.677151Z",
     "shell.execute_reply.started": "2022-04-17T20:05:13.498441Z"
    },
    "papermill": {
     "duration": 0.04002,
     "end_time": "2022-04-17T20:20:43.677309",
     "exception": false,
     "start_time": "2022-04-17T20:20:43.637289",
     "status": "completed"
    },
    "tags": []
   },
   "outputs": [],
   "source": [
    "def get_total_abundance(df):\n",
    "    ''' returns total abundance for each sample'''\n",
    "    tot_abund_df = pd.DataFrame(index=df.index)\n",
    "    tot_abund_df['tot_abund'] = df.sum(axis=1)\n",
    "    for mz in tqdm(range(0,100)):\n",
    "        tot_abund_df[f\"tot_abund_{mz}\"] = df[get_mz(mz,df)].sum(axis=1)\n",
    "    print(tot_abund_df.shape)\n",
    "    return tot_abund_df"
   ]
  },
  {
   "cell_type": "code",
   "execution_count": 19,
   "id": "4f0f1af4",
   "metadata": {
    "execution": {
     "iopub.execute_input": "2022-04-17T20:20:43.742938Z",
     "iopub.status.busy": "2022-04-17T20:20:43.742044Z",
     "iopub.status.idle": "2022-04-17T20:20:43.748007Z",
     "shell.execute_reply": "2022-04-17T20:20:43.748443Z",
     "shell.execute_reply.started": "2022-04-17T20:05:15.108258Z"
    },
    "papermill": {
     "duration": 0.03975,
     "end_time": "2022-04-17T20:20:43.748626",
     "exception": false,
     "start_time": "2022-04-17T20:20:43.708876",
     "status": "completed"
    },
    "tags": []
   },
   "outputs": [],
   "source": [
    "def get_grads(df,bin_size=5):\n",
    "    ''' returns gradients for each mz'''\n",
    "    grad_df = pd.DataFrame(index=df.index)\n",
    "    for mz in tqdm(range(0,100)):\n",
    "        df_mz = df.loc[:,get_mz(mz,df)]\n",
    "        # df_mz_col1 = df_mz.iloc[:,0].values\n",
    "        df_mz = df_mz.diff(axis=1)\n",
    "        # df_mz.iloc[:,0] = df_mz_col1\n",
    "        df_mz.dropna(axis='columns',inplace=True)\n",
    "        # df_mz = df_mz/bin_size\n",
    "        df_mz.columns = [col[0]+ '_' + col[1] + '_' + 'grad' for col in df_mz.columns]\n",
    "        grad_df = pd.concat([grad_df,df_mz],axis=1)\n",
    "    print(grad_df.shape)\n",
    "\n",
    "    return  grad_df"
   ]
  },
  {
   "cell_type": "code",
   "execution_count": 20,
   "id": "14081d57",
   "metadata": {
    "execution": {
     "iopub.execute_input": "2022-04-17T20:20:43.813119Z",
     "iopub.status.busy": "2022-04-17T20:20:43.812241Z",
     "iopub.status.idle": "2022-04-17T20:20:43.817561Z",
     "shell.execute_reply": "2022-04-17T20:20:43.818016Z",
     "shell.execute_reply.started": "2022-04-17T20:05:15.907891Z"
    },
    "papermill": {
     "duration": 0.0393,
     "end_time": "2022-04-17T20:20:43.818178",
     "exception": false,
     "start_time": "2022-04-17T20:20:43.778878",
     "status": "completed"
    },
    "tags": []
   },
   "outputs": [],
   "source": [
    "def get_mean_std(df):\n",
    "    ''' returns mean and std for each mz'''\n",
    "    mean_std_df = pd.DataFrame(index=df.index)\n",
    "    for mz in tqdm(range(0,100)):\n",
    "        df_mz = df.loc[:,get_mz(mz,df)]\n",
    "        df_mz[f'{mz}_mean'] = df_mz.mean(axis=1)\n",
    "        df_mz[f'{mz}_std'] = df_mz.std(axis=1)\n",
    "        mean_std_df = pd.concat([mean_std_df,df_mz],axis=1)\n",
    "    print(mean_std_df.shape)\n",
    "    return mean_std_df"
   ]
  },
  {
   "cell_type": "code",
   "execution_count": 21,
   "id": "c2e3417d",
   "metadata": {
    "execution": {
     "iopub.execute_input": "2022-04-17T20:20:43.883678Z",
     "iopub.status.busy": "2022-04-17T20:20:43.882759Z",
     "iopub.status.idle": "2022-04-17T20:20:43.885884Z",
     "shell.execute_reply": "2022-04-17T20:20:43.886310Z",
     "shell.execute_reply.started": "2022-04-17T20:05:16.818380Z"
    },
    "papermill": {
     "duration": 0.037246,
     "end_time": "2022-04-17T20:20:43.886473",
     "exception": false,
     "start_time": "2022-04-17T20:20:43.849227",
     "status": "completed"
    },
    "tags": []
   },
   "outputs": [],
   "source": [
    "# def add_fts(df):\n",
    "#     tot_abund_df = get_total_abundance(df)\n",
    "#     grad_df = get_grads(df)\n",
    "#     mean_std_df = get_mean_std(df)\n",
    "#     new_df = pd.concat([tot_abund_df,grad_df,mean_std_df],axis=1)\n",
    "#     return new_df"
   ]
  },
  {
   "cell_type": "code",
   "execution_count": 22,
   "id": "ebc4e32b",
   "metadata": {
    "execution": {
     "iopub.execute_input": "2022-04-17T20:20:43.952360Z",
     "iopub.status.busy": "2022-04-17T20:20:43.951426Z",
     "iopub.status.idle": "2022-04-17T20:20:43.956579Z",
     "shell.execute_reply": "2022-04-17T20:20:43.956990Z",
     "shell.execute_reply.started": "2022-04-17T20:05:19.717821Z"
    },
    "papermill": {
     "duration": 0.039266,
     "end_time": "2022-04-17T20:20:43.957163",
     "exception": false,
     "start_time": "2022-04-17T20:20:43.917897",
     "status": "completed"
    },
    "tags": []
   },
   "outputs": [
    {
     "data": {
      "text/plain": [
       "((1059, 1000), (804, 1000))"
      ]
     },
     "execution_count": 22,
     "metadata": {},
     "output_type": "execute_result"
    }
   ],
   "source": [
    "train_set_200.shape, test_set_200.shape"
   ]
  },
  {
   "cell_type": "code",
   "execution_count": 23,
   "id": "a88bca73",
   "metadata": {
    "execution": {
     "iopub.execute_input": "2022-04-17T20:20:44.022959Z",
     "iopub.status.busy": "2022-04-17T20:20:44.022066Z",
     "iopub.status.idle": "2022-04-17T20:20:44.026196Z",
     "shell.execute_reply": "2022-04-17T20:20:44.026613Z",
     "shell.execute_reply.started": "2022-04-17T20:17:45.984539Z"
    },
    "papermill": {
     "duration": 0.038703,
     "end_time": "2022-04-17T20:20:44.026780",
     "exception": false,
     "start_time": "2022-04-17T20:20:43.988077",
     "status": "completed"
    },
    "tags": []
   },
   "outputs": [],
   "source": [
    "assert (train_set_200.columns == test_set_200.columns).all()"
   ]
  },
  {
   "cell_type": "code",
   "execution_count": 24,
   "id": "a43e4796",
   "metadata": {
    "execution": {
     "iopub.execute_input": "2022-04-17T20:20:44.092297Z",
     "iopub.status.busy": "2022-04-17T20:20:44.091400Z",
     "iopub.status.idle": "2022-04-17T20:20:46.151136Z",
     "shell.execute_reply": "2022-04-17T20:20:46.150364Z",
     "shell.execute_reply.started": "2022-04-17T20:17:54.088738Z"
    },
    "papermill": {
     "duration": 2.093451,
     "end_time": "2022-04-17T20:20:46.151323",
     "exception": false,
     "start_time": "2022-04-17T20:20:44.057872",
     "status": "completed"
    },
    "tags": []
   },
   "outputs": [
    {
     "name": "stderr",
     "output_type": "stream",
     "text": [
      "100%|██████████| 100/100 [00:00<00:00, 276.56it/s]\n"
     ]
    },
    {
     "name": "stdout",
     "output_type": "stream",
     "text": [
      "(1059, 101)\n"
     ]
    },
    {
     "name": "stderr",
     "output_type": "stream",
     "text": [
      "100%|██████████| 100/100 [00:00<00:00, 112.46it/s]\n"
     ]
    },
    {
     "name": "stdout",
     "output_type": "stream",
     "text": [
      "(1059, 900)\n"
     ]
    },
    {
     "name": "stderr",
     "output_type": "stream",
     "text": [
      "100%|██████████| 100/100 [00:00<00:00, 128.01it/s]"
     ]
    },
    {
     "name": "stdout",
     "output_type": "stream",
     "text": [
      "(1059, 1200)\n"
     ]
    },
    {
     "name": "stderr",
     "output_type": "stream",
     "text": [
      "\n"
     ]
    }
   ],
   "source": [
    "t_100 = get_total_abundance(train_set_200)\n",
    "g_100 = get_grads(train_set_200)\n",
    "m_100 = get_mean_std(train_set_200)"
   ]
  },
  {
   "cell_type": "code",
   "execution_count": 25,
   "id": "e46da863",
   "metadata": {
    "execution": {
     "iopub.execute_input": "2022-04-17T20:20:46.264747Z",
     "iopub.status.busy": "2022-04-17T20:20:46.264087Z",
     "iopub.status.idle": "2022-04-17T20:20:48.446360Z",
     "shell.execute_reply": "2022-04-17T20:20:48.445871Z",
     "shell.execute_reply.started": "2022-04-17T20:17:56.330876Z"
    },
    "papermill": {
     "duration": 2.246512,
     "end_time": "2022-04-17T20:20:48.446514",
     "exception": false,
     "start_time": "2022-04-17T20:20:46.200002",
     "status": "completed"
    },
    "tags": []
   },
   "outputs": [
    {
     "name": "stderr",
     "output_type": "stream",
     "text": [
      "100%|██████████| 100/100 [00:00<00:00, 255.89it/s]\n"
     ]
    },
    {
     "name": "stdout",
     "output_type": "stream",
     "text": [
      "(804, 101)\n"
     ]
    },
    {
     "name": "stderr",
     "output_type": "stream",
     "text": [
      "100%|██████████| 100/100 [00:00<00:00, 106.42it/s]\n"
     ]
    },
    {
     "name": "stdout",
     "output_type": "stream",
     "text": [
      "(804, 900)\n"
     ]
    },
    {
     "name": "stderr",
     "output_type": "stream",
     "text": [
      "100%|██████████| 100/100 [00:00<00:00, 120.54it/s]"
     ]
    },
    {
     "name": "stdout",
     "output_type": "stream",
     "text": [
      "(804, 1200)\n"
     ]
    },
    {
     "name": "stderr",
     "output_type": "stream",
     "text": [
      "\n"
     ]
    }
   ],
   "source": [
    "t_100_test = get_total_abundance(test_set_200)\n",
    "g_100_test = get_grads(test_set_200)\n",
    "m_100_test = get_mean_std(test_set_200)\n"
   ]
  },
  {
   "cell_type": "code",
   "execution_count": 26,
   "id": "d96509aa",
   "metadata": {
    "execution": {
     "iopub.execute_input": "2022-04-17T20:20:48.568754Z",
     "iopub.status.busy": "2022-04-17T20:20:48.568052Z",
     "iopub.status.idle": "2022-04-17T20:20:48.593763Z",
     "shell.execute_reply": "2022-04-17T20:20:48.593173Z",
     "shell.execute_reply.started": "2022-04-17T20:17:58.471549Z"
    },
    "papermill": {
     "duration": 0.097711,
     "end_time": "2022-04-17T20:20:48.593932",
     "exception": false,
     "start_time": "2022-04-17T20:20:48.496221",
     "status": "completed"
    },
    "tags": []
   },
   "outputs": [],
   "source": [
    "t_100_test.sort_index(inplace=True,axis=1)\n",
    "t_100.sort_index(inplace=True,axis=1)\n",
    "\n",
    "m_100_test.sort_index(inplace=True,axis=1)\n",
    "m_100.sort_index(inplace=True,axis=1)\n",
    "\n",
    "g_100_test.sort_index(inplace=True,axis=1)\n",
    "g_100.sort_index(inplace=True,axis=1)"
   ]
  },
  {
   "cell_type": "code",
   "execution_count": 27,
   "id": "b0b36264",
   "metadata": {
    "execution": {
     "iopub.execute_input": "2022-04-17T20:20:48.699900Z",
     "iopub.status.busy": "2022-04-17T20:20:48.699269Z",
     "iopub.status.idle": "2022-04-17T20:20:48.701469Z",
     "shell.execute_reply": "2022-04-17T20:20:48.702032Z",
     "shell.execute_reply.started": "2022-04-17T20:18:06.298361Z"
    },
    "papermill": {
     "duration": 0.059313,
     "end_time": "2022-04-17T20:20:48.702203",
     "exception": false,
     "start_time": "2022-04-17T20:20:48.642890",
     "status": "completed"
    },
    "tags": []
   },
   "outputs": [],
   "source": [
    "assert (t_100.columns == t_100_test.columns).all()\n",
    "assert (g_100.columns == g_100_test.columns).all()\n",
    "assert (m_100.columns == m_100_test.columns).all()"
   ]
  },
  {
   "cell_type": "code",
   "execution_count": 28,
   "id": "58afb2a2",
   "metadata": {
    "execution": {
     "iopub.execute_input": "2022-04-17T20:20:48.810229Z",
     "iopub.status.busy": "2022-04-17T20:20:48.809312Z",
     "iopub.status.idle": "2022-04-17T20:20:48.812315Z",
     "shell.execute_reply": "2022-04-17T20:20:48.811846Z",
     "shell.execute_reply.started": "2022-04-17T20:18:06.998448Z"
    },
    "papermill": {
     "duration": 0.058211,
     "end_time": "2022-04-17T20:20:48.812447",
     "exception": false,
     "start_time": "2022-04-17T20:20:48.754236",
     "status": "completed"
    },
    "tags": [],
    "vscode": {
     "languageId": "perl"
    }
   },
   "outputs": [],
   "source": [
    "ntrain = 1059\n",
    "ntest = 804\n",
    "NFOLDS = 20"
   ]
  },
  {
   "cell_type": "code",
   "execution_count": 29,
   "id": "481dc576",
   "metadata": {
    "execution": {
     "iopub.execute_input": "2022-04-17T20:20:48.921958Z",
     "iopub.status.busy": "2022-04-17T20:20:48.921253Z",
     "iopub.status.idle": "2022-04-17T20:20:48.927194Z",
     "shell.execute_reply": "2022-04-17T20:20:48.927965Z",
     "shell.execute_reply.started": "2022-04-17T20:18:09.733556Z"
    },
    "papermill": {
     "duration": 0.065419,
     "end_time": "2022-04-17T20:20:48.928162",
     "exception": false,
     "start_time": "2022-04-17T20:20:48.862743",
     "status": "completed"
    },
    "tags": [],
    "vscode": {
     "languageId": "perl"
    }
   },
   "outputs": [],
   "source": [
    "oof_train_df = pd.DataFrame(index=metadata[metadata.split != 'test'].index, columns=['sample_id',*targets.columns])\n",
    "oof_test_df = pd.DataFrame(index=metadata[metadata.split != 'train'].index, columns=['sample_id',*targets.columns])"
   ]
  },
  {
   "cell_type": "code",
   "execution_count": 30,
   "id": "58607aae",
   "metadata": {
    "execution": {
     "iopub.execute_input": "2022-04-17T20:20:49.037809Z",
     "iopub.status.busy": "2022-04-17T20:20:49.036805Z",
     "iopub.status.idle": "2022-04-18T00:49:53.092267Z",
     "shell.execute_reply": "2022-04-18T00:49:53.089581Z"
    },
    "papermill": {
     "duration": 16144.113324,
     "end_time": "2022-04-18T00:49:53.092441",
     "exception": false,
     "start_time": "2022-04-17T20:20:48.979117",
     "status": "completed"
    },
    "tags": []
   },
   "outputs": [
    {
     "name": "stdout",
     "output_type": "stream",
     "text": [
      "TARGET  basalt\n",
      "0.3178355720052564\n"
     ]
    },
    {
     "name": "stderr",
     "output_type": "stream",
     "text": [
      "100%|██████████| 101/101 [00:00<00:00, 208476.72it/s]"
     ]
    },
    {
     "name": "stdout",
     "output_type": "stream",
     "text": [
      "10\n"
     ]
    },
    {
     "name": "stderr",
     "output_type": "stream",
     "text": [
      "\n"
     ]
    },
    {
     "name": "stdout",
     "output_type": "stream",
     "text": [
      "0.28539622052357394\n"
     ]
    },
    {
     "name": "stderr",
     "output_type": "stream",
     "text": [
      "100%|██████████| 900/900 [00:00<00:00, 1331055.57it/s]"
     ]
    },
    {
     "name": "stdout",
     "output_type": "stream",
     "text": [
      "40\n"
     ]
    },
    {
     "name": "stderr",
     "output_type": "stream",
     "text": [
      "\n"
     ]
    },
    {
     "name": "stdout",
     "output_type": "stream",
     "text": [
      "0.2602262928377286\n"
     ]
    },
    {
     "name": "stderr",
     "output_type": "stream",
     "text": [
      "100%|██████████| 1200/1200 [00:00<00:00, 868685.67it/s]\n"
     ]
    },
    {
     "name": "stdout",
     "output_type": "stream",
     "text": [
      "46\n",
      "0.2641390329358639\n"
     ]
    },
    {
     "name": "stderr",
     "output_type": "stream",
     "text": [
      "100%|██████████| 1000/1000 [00:00<00:00, 1401371.20it/s]\n"
     ]
    },
    {
     "name": "stdout",
     "output_type": "stream",
     "text": [
      "46\n",
      "(1059, 46) (1059, 10) (1059, 40) (1059, 46)\n",
      "(1059, 142)\n",
      "(804, 46) (804, 10) (804, 40) (804, 46)\n",
      "(804, 142)\n"
     ]
    },
    {
     "name": "stderr",
     "output_type": "stream",
     "text": [
      "0it [00:00, ?it/s]"
     ]
    },
    {
     "name": "stdout",
     "output_type": "stream",
     "text": [
      "Learning rate set to 0.002361\n",
      "0:\tlearn: 0.6904465\ttotal: 78.2ms\tremaining: 6m 30s\n",
      "999:\tlearn: 0.1311490\ttotal: 16.7s\tremaining: 1m 6s\n",
      "1998:\tlearn: 0.0716200\ttotal: 32.9s\tremaining: 49.4s\n",
      "2997:\tlearn: 0.0449801\ttotal: 49.4s\tremaining: 33s\n",
      "3996:\tlearn: 0.0300034\ttotal: 1m 5s\tremaining: 16.5s\n"
     ]
    },
    {
     "name": "stderr",
     "output_type": "stream",
     "text": [
      "1it [01:23, 83.02s/it]"
     ]
    },
    {
     "name": "stdout",
     "output_type": "stream",
     "text": [
      "4995:\tlearn: 0.0201769\ttotal: 1m 22s\tremaining: 65.8ms\n",
      "4999:\tlearn: 0.0201487\ttotal: 1m 22s\tremaining: 0us\n",
      "fold Loss 0:  0.14133851656947205\n",
      "---------------------------------------------------------------------------\n",
      "Learning rate set to 0.002361\n",
      "0:\tlearn: 0.6902297\ttotal: 25.2ms\tremaining: 2m 5s\n",
      "999:\tlearn: 0.1300191\ttotal: 16.3s\tremaining: 1m 5s\n",
      "1998:\tlearn: 0.0701861\ttotal: 32.9s\tremaining: 49.4s\n",
      "2997:\tlearn: 0.0431618\ttotal: 49.3s\tremaining: 32.9s\n",
      "3996:\tlearn: 0.0283802\ttotal: 1m 5s\tremaining: 16.5s\n"
     ]
    },
    {
     "name": "stderr",
     "output_type": "stream",
     "text": [
      "2it [02:45, 82.95s/it]"
     ]
    },
    {
     "name": "stdout",
     "output_type": "stream",
     "text": [
      "4995:\tlearn: 0.0189012\ttotal: 1m 22s\tremaining: 65.7ms\n",
      "4999:\tlearn: 0.0188773\ttotal: 1m 22s\tremaining: 0us\n",
      "fold Loss 1:  0.1671653364218447\n",
      "---------------------------------------------------------------------------\n",
      "Learning rate set to 0.002361\n",
      "0:\tlearn: 0.6904835\ttotal: 31.4ms\tremaining: 2m 36s\n",
      "999:\tlearn: 0.1334371\ttotal: 16.7s\tremaining: 1m 6s\n",
      "1998:\tlearn: 0.0722888\ttotal: 33.1s\tremaining: 49.7s\n",
      "2997:\tlearn: 0.0442881\ttotal: 49.7s\tremaining: 33.2s\n",
      "3996:\tlearn: 0.0297120\ttotal: 1m 6s\tremaining: 16.6s\n"
     ]
    },
    {
     "name": "stderr",
     "output_type": "stream",
     "text": [
      "3it [04:09, 83.19s/it]"
     ]
    },
    {
     "name": "stdout",
     "output_type": "stream",
     "text": [
      "4995:\tlearn: 0.0206571\ttotal: 1m 22s\tremaining: 66.2ms\n",
      "4999:\tlearn: 0.0206185\ttotal: 1m 22s\tremaining: 0us\n",
      "fold Loss 2:  0.10149461066782609\n",
      "---------------------------------------------------------------------------\n",
      "Learning rate set to 0.002361\n",
      "0:\tlearn: 0.6901514\ttotal: 25.3ms\tremaining: 2m 6s\n",
      "999:\tlearn: 0.1320547\ttotal: 16.3s\tremaining: 1m 5s\n",
      "1998:\tlearn: 0.0745241\ttotal: 34.7s\tremaining: 52.1s\n",
      "2997:\tlearn: 0.0491466\ttotal: 51.4s\tremaining: 34.3s\n",
      "3996:\tlearn: 0.0342999\ttotal: 1m 7s\tremaining: 17s\n"
     ]
    },
    {
     "name": "stderr",
     "output_type": "stream",
     "text": [
      "4it [05:34, 83.95s/it]"
     ]
    },
    {
     "name": "stdout",
     "output_type": "stream",
     "text": [
      "4995:\tlearn: 0.0237747\ttotal: 1m 24s\tremaining: 67.5ms\n",
      "4999:\tlearn: 0.0237457\ttotal: 1m 24s\tremaining: 0us\n",
      "fold Loss 3:  0.04270034777424871\n",
      "---------------------------------------------------------------------------\n",
      "Learning rate set to 0.002361\n",
      "0:\tlearn: 0.6902471\ttotal: 46.5ms\tremaining: 3m 52s\n",
      "999:\tlearn: 0.1339364\ttotal: 16.6s\tremaining: 1m 6s\n",
      "1998:\tlearn: 0.0735908\ttotal: 33.4s\tremaining: 50.1s\n",
      "2997:\tlearn: 0.0481712\ttotal: 49.9s\tremaining: 33.3s\n",
      "3996:\tlearn: 0.0335514\ttotal: 1m 6s\tremaining: 16.7s\n"
     ]
    },
    {
     "name": "stderr",
     "output_type": "stream",
     "text": [
      "5it [06:58, 83.91s/it]"
     ]
    },
    {
     "name": "stdout",
     "output_type": "stream",
     "text": [
      "4995:\tlearn: 0.0240608\ttotal: 1m 22s\tremaining: 66.4ms\n",
      "4999:\tlearn: 0.0240411\ttotal: 1m 23s\tremaining: 0us\n",
      "fold Loss 4:  0.07258411359376185\n",
      "---------------------------------------------------------------------------\n",
      "Learning rate set to 0.002361\n",
      "0:\tlearn: 0.6901337\ttotal: 26.9ms\tremaining: 2m 14s\n",
      "999:\tlearn: 0.1291826\ttotal: 16.9s\tremaining: 1m 7s\n",
      "1998:\tlearn: 0.0724126\ttotal: 33.4s\tremaining: 50.1s\n",
      "2997:\tlearn: 0.0463955\ttotal: 50.2s\tremaining: 33.5s\n",
      "3996:\tlearn: 0.0324174\ttotal: 1m 6s\tremaining: 16.8s\n"
     ]
    },
    {
     "name": "stderr",
     "output_type": "stream",
     "text": [
      "6it [08:22, 84.12s/it]"
     ]
    },
    {
     "name": "stdout",
     "output_type": "stream",
     "text": [
      "4995:\tlearn: 0.0227774\ttotal: 1m 23s\tremaining: 67ms\n",
      "4999:\tlearn: 0.0227503\ttotal: 1m 23s\tremaining: 0us\n",
      "fold Loss 5:  0.12197438935742932\n",
      "---------------------------------------------------------------------------\n",
      "Learning rate set to 0.002361\n",
      "0:\tlearn: 0.6902880\ttotal: 33.5ms\tremaining: 2m 47s\n",
      "999:\tlearn: 0.1283859\ttotal: 16.5s\tremaining: 1m 6s\n",
      "1998:\tlearn: 0.0707856\ttotal: 33.4s\tremaining: 50.1s\n",
      "2997:\tlearn: 0.0449056\ttotal: 49.9s\tremaining: 33.3s\n",
      "3996:\tlearn: 0.0307951\ttotal: 1m 6s\tremaining: 16.8s\n"
     ]
    },
    {
     "name": "stderr",
     "output_type": "stream",
     "text": [
      "7it [09:47, 84.13s/it]"
     ]
    },
    {
     "name": "stdout",
     "output_type": "stream",
     "text": [
      "4995:\tlearn: 0.0218246\ttotal: 1m 23s\tremaining: 66.7ms\n",
      "4999:\tlearn: 0.0218064\ttotal: 1m 23s\tremaining: 0us\n",
      "fold Loss 6:  0.16863054502940317\n",
      "---------------------------------------------------------------------------\n",
      "Learning rate set to 0.002361\n",
      "0:\tlearn: 0.6904349\ttotal: 30.5ms\tremaining: 2m 32s\n",
      "999:\tlearn: 0.1328331\ttotal: 17.1s\tremaining: 1m 8s\n",
      "1998:\tlearn: 0.0739616\ttotal: 33.6s\tremaining: 50.5s\n",
      "2997:\tlearn: 0.0467142\ttotal: 50.6s\tremaining: 33.8s\n",
      "3996:\tlearn: 0.0325524\ttotal: 1m 7s\tremaining: 16.8s\n"
     ]
    },
    {
     "name": "stderr",
     "output_type": "stream",
     "text": [
      "8it [11:11, 84.36s/it]"
     ]
    },
    {
     "name": "stdout",
     "output_type": "stream",
     "text": [
      "4995:\tlearn: 0.0226064\ttotal: 1m 23s\tremaining: 67.3ms\n",
      "4999:\tlearn: 0.0225677\ttotal: 1m 24s\tremaining: 0us\n",
      "fold Loss 7:  0.07525479175447404\n",
      "---------------------------------------------------------------------------\n",
      "Learning rate set to 0.002361\n",
      "0:\tlearn: 0.6901516\ttotal: 35.5ms\tremaining: 2m 57s\n",
      "999:\tlearn: 0.1281455\ttotal: 16.7s\tremaining: 1m 6s\n",
      "1998:\tlearn: 0.0704961\ttotal: 33.7s\tremaining: 50.6s\n",
      "2997:\tlearn: 0.0443928\ttotal: 50.3s\tremaining: 33.6s\n",
      "3996:\tlearn: 0.0305098\ttotal: 1m 7s\tremaining: 16.9s\n"
     ]
    },
    {
     "name": "stderr",
     "output_type": "stream",
     "text": [
      "9it [12:36, 84.43s/it]"
     ]
    },
    {
     "name": "stdout",
     "output_type": "stream",
     "text": [
      "4995:\tlearn: 0.0216560\ttotal: 1m 23s\tremaining: 67ms\n",
      "4999:\tlearn: 0.0216324\ttotal: 1m 23s\tremaining: 0us\n",
      "fold Loss 8:  0.1515142346752085\n",
      "---------------------------------------------------------------------------\n",
      "Learning rate set to 0.002361\n",
      "0:\tlearn: 0.6903558\ttotal: 28ms\tremaining: 2m 19s\n",
      "999:\tlearn: 0.1315902\ttotal: 16.9s\tremaining: 1m 7s\n",
      "1998:\tlearn: 0.0714536\ttotal: 33.5s\tremaining: 50.3s\n",
      "2997:\tlearn: 0.0446494\ttotal: 50.3s\tremaining: 33.6s\n",
      "3996:\tlearn: 0.0304913\ttotal: 1m 6s\tremaining: 16.8s\n"
     ]
    },
    {
     "name": "stderr",
     "output_type": "stream",
     "text": [
      "10it [14:00, 84.42s/it]"
     ]
    },
    {
     "name": "stdout",
     "output_type": "stream",
     "text": [
      "4995:\tlearn: 0.0217994\ttotal: 1m 23s\tremaining: 66.9ms\n",
      "4999:\tlearn: 0.0217627\ttotal: 1m 23s\tremaining: 0us\n",
      "fold Loss 9:  0.13884777603649537\n",
      "---------------------------------------------------------------------------\n",
      "Learning rate set to 0.002361\n",
      "0:\tlearn: 0.6901913\ttotal: 33.9ms\tremaining: 2m 49s\n",
      "999:\tlearn: 0.1315939\ttotal: 17s\tremaining: 1m 7s\n",
      "1998:\tlearn: 0.0717782\ttotal: 33.5s\tremaining: 50.3s\n",
      "2997:\tlearn: 0.0457022\ttotal: 50.6s\tremaining: 33.8s\n",
      "3996:\tlearn: 0.0311043\ttotal: 1m 7s\tremaining: 16.8s\n"
     ]
    },
    {
     "name": "stderr",
     "output_type": "stream",
     "text": [
      "11it [15:25, 84.53s/it]"
     ]
    },
    {
     "name": "stdout",
     "output_type": "stream",
     "text": [
      "4995:\tlearn: 0.0219853\ttotal: 1m 23s\tremaining: 67.2ms\n",
      "4999:\tlearn: 0.0219646\ttotal: 1m 24s\tremaining: 0us\n",
      "fold Loss 10:  0.13176034906541376\n",
      "---------------------------------------------------------------------------\n",
      "Learning rate set to 0.002361\n",
      "0:\tlearn: 0.6905160\ttotal: 25.3ms\tremaining: 2m 6s\n",
      "999:\tlearn: 0.1308990\ttotal: 16.6s\tremaining: 1m 6s\n",
      "1998:\tlearn: 0.0738950\ttotal: 33.7s\tremaining: 50.6s\n",
      "2997:\tlearn: 0.0484250\ttotal: 50.3s\tremaining: 33.6s\n",
      "3996:\tlearn: 0.0336835\ttotal: 1m 7s\tremaining: 16.8s\n"
     ]
    },
    {
     "name": "stderr",
     "output_type": "stream",
     "text": [
      "12it [16:50, 84.58s/it]"
     ]
    },
    {
     "name": "stdout",
     "output_type": "stream",
     "text": [
      "4995:\tlearn: 0.0233342\ttotal: 1m 23s\tremaining: 67.1ms\n",
      "4999:\tlearn: 0.0233193\ttotal: 1m 23s\tremaining: 0us\n",
      "fold Loss 11:  0.08909485374352426\n",
      "---------------------------------------------------------------------------\n",
      "Learning rate set to 0.002361\n",
      "0:\tlearn: 0.6904828\ttotal: 32.9ms\tremaining: 2m 44s\n",
      "999:\tlearn: 0.1320584\ttotal: 16.9s\tremaining: 1m 7s\n",
      "1998:\tlearn: 0.0735646\ttotal: 33.4s\tremaining: 50.1s\n",
      "2997:\tlearn: 0.0469085\ttotal: 50.1s\tremaining: 33.5s\n",
      "3996:\tlearn: 0.0315082\ttotal: 1m 6s\tremaining: 16.7s\n"
     ]
    },
    {
     "name": "stderr",
     "output_type": "stream",
     "text": [
      "13it [18:14, 84.51s/it]"
     ]
    },
    {
     "name": "stdout",
     "output_type": "stream",
     "text": [
      "4995:\tlearn: 0.0222864\ttotal: 1m 23s\tremaining: 66.8ms\n",
      "4999:\tlearn: 0.0222593\ttotal: 1m 23s\tremaining: 0us\n",
      "fold Loss 12:  0.13307976380162106\n",
      "---------------------------------------------------------------------------\n",
      "Learning rate set to 0.002361\n",
      "0:\tlearn: 0.6905980\ttotal: 26ms\tremaining: 2m 9s\n",
      "999:\tlearn: 0.1337788\ttotal: 16.6s\tremaining: 1m 6s\n",
      "1998:\tlearn: 0.0742224\ttotal: 33.6s\tremaining: 50.4s\n",
      "2997:\tlearn: 0.0468768\ttotal: 50.2s\tremaining: 33.5s\n",
      "3996:\tlearn: 0.0318121\ttotal: 1m 7s\tremaining: 16.8s\n"
     ]
    },
    {
     "name": "stderr",
     "output_type": "stream",
     "text": [
      "14it [19:39, 84.46s/it]"
     ]
    },
    {
     "name": "stdout",
     "output_type": "stream",
     "text": [
      "4995:\tlearn: 0.0224991\ttotal: 1m 23s\tremaining: 66.9ms\n",
      "4999:\tlearn: 0.0224745\ttotal: 1m 23s\tremaining: 0us\n",
      "fold Loss 13:  0.028094383323016357\n",
      "---------------------------------------------------------------------------\n",
      "Learning rate set to 0.002361\n",
      "0:\tlearn: 0.6899846\ttotal: 33.8ms\tremaining: 2m 48s\n",
      "999:\tlearn: 0.1336797\ttotal: 17s\tremaining: 1m 7s\n",
      "1998:\tlearn: 0.0747476\ttotal: 33.5s\tremaining: 50.3s\n",
      "2997:\tlearn: 0.0467065\ttotal: 50.5s\tremaining: 33.7s\n",
      "3996:\tlearn: 0.0312602\ttotal: 1m 6s\tremaining: 16.8s\n"
     ]
    },
    {
     "name": "stderr",
     "output_type": "stream",
     "text": [
      "15it [21:03, 84.53s/it]"
     ]
    },
    {
     "name": "stdout",
     "output_type": "stream",
     "text": [
      "4995:\tlearn: 0.0213529\ttotal: 1m 23s\tremaining: 67.1ms\n",
      "4999:\tlearn: 0.0213282\ttotal: 1m 23s\tremaining: 0us\n",
      "fold Loss 14:  0.07216183697700745\n",
      "---------------------------------------------------------------------------\n",
      "Learning rate set to 0.002361\n",
      "0:\tlearn: 0.6904812\ttotal: 26.1ms\tremaining: 2m 10s\n",
      "999:\tlearn: 0.1247312\ttotal: 16.5s\tremaining: 1m 6s\n",
      "1998:\tlearn: 0.0669026\ttotal: 33.5s\tremaining: 50.2s\n",
      "2997:\tlearn: 0.0421181\ttotal: 49.9s\tremaining: 33.3s\n",
      "3996:\tlearn: 0.0286666\ttotal: 1m 6s\tremaining: 16.8s\n"
     ]
    },
    {
     "name": "stderr",
     "output_type": "stream",
     "text": [
      "16it [22:27, 84.41s/it]"
     ]
    },
    {
     "name": "stdout",
     "output_type": "stream",
     "text": [
      "4995:\tlearn: 0.0201890\ttotal: 1m 23s\tremaining: 66.7ms\n",
      "4999:\tlearn: 0.0201581\ttotal: 1m 23s\tremaining: 0us\n",
      "fold Loss 15:  0.30130545018934435\n",
      "---------------------------------------------------------------------------\n",
      "Learning rate set to 0.002361\n",
      "0:\tlearn: 0.6901843\ttotal: 37ms\tremaining: 3m 5s\n",
      "999:\tlearn: 0.1297305\ttotal: 17s\tremaining: 1m 7s\n",
      "1998:\tlearn: 0.0710460\ttotal: 33.5s\tremaining: 50.3s\n",
      "2997:\tlearn: 0.0446378\ttotal: 50.4s\tremaining: 33.7s\n",
      "3996:\tlearn: 0.0301107\ttotal: 1m 6s\tremaining: 16.8s\n"
     ]
    },
    {
     "name": "stderr",
     "output_type": "stream",
     "text": [
      "17it [23:52, 84.43s/it]"
     ]
    },
    {
     "name": "stdout",
     "output_type": "stream",
     "text": [
      "4995:\tlearn: 0.0205119\ttotal: 1m 23s\tremaining: 67ms\n",
      "4999:\tlearn: 0.0204865\ttotal: 1m 23s\tremaining: 0us\n",
      "fold Loss 16:  0.1639728199516743\n",
      "---------------------------------------------------------------------------\n",
      "Learning rate set to 0.002361\n",
      "0:\tlearn: 0.6901708\ttotal: 24.9ms\tremaining: 2m 4s\n",
      "999:\tlearn: 0.1299816\ttotal: 16.6s\tremaining: 1m 6s\n",
      "1998:\tlearn: 0.0707288\ttotal: 33.5s\tremaining: 50.3s\n",
      "2997:\tlearn: 0.0443982\ttotal: 50.1s\tremaining: 33.4s\n",
      "3996:\tlearn: 0.0308008\ttotal: 1m 7s\tremaining: 16.8s\n"
     ]
    },
    {
     "name": "stderr",
     "output_type": "stream",
     "text": [
      "18it [25:16, 84.47s/it]"
     ]
    },
    {
     "name": "stdout",
     "output_type": "stream",
     "text": [
      "4995:\tlearn: 0.0217430\ttotal: 1m 23s\tremaining: 67ms\n",
      "4999:\tlearn: 0.0217339\ttotal: 1m 23s\tremaining: 0us\n",
      "fold Loss 17:  0.16127467278746382\n",
      "---------------------------------------------------------------------------\n",
      "Learning rate set to 0.002361\n",
      "0:\tlearn: 0.6904294\ttotal: 34ms\tremaining: 2m 49s\n",
      "999:\tlearn: 0.1275010\ttotal: 16.9s\tremaining: 1m 7s\n",
      "1998:\tlearn: 0.0698800\ttotal: 33.9s\tremaining: 50.9s\n",
      "2997:\tlearn: 0.0447040\ttotal: 50.5s\tremaining: 33.7s\n",
      "3996:\tlearn: 0.0310067\ttotal: 1m 7s\tremaining: 16.9s\n"
     ]
    },
    {
     "name": "stderr",
     "output_type": "stream",
     "text": [
      "19it [26:41, 84.54s/it]"
     ]
    },
    {
     "name": "stdout",
     "output_type": "stream",
     "text": [
      "4995:\tlearn: 0.0219962\ttotal: 1m 23s\tremaining: 67.1ms\n",
      "4999:\tlearn: 0.0219739\ttotal: 1m 23s\tremaining: 0us\n",
      "fold Loss 18:  0.2192798681596142\n",
      "---------------------------------------------------------------------------\n",
      "Learning rate set to 0.002362\n",
      "0:\tlearn: 0.6903722\ttotal: 27.2ms\tremaining: 2m 15s\n",
      "999:\tlearn: 0.1321367\ttotal: 16.9s\tremaining: 1m 7s\n",
      "1998:\tlearn: 0.0730080\ttotal: 33.5s\tremaining: 50.2s\n",
      "2997:\tlearn: 0.0461943\ttotal: 50.3s\tremaining: 33.6s\n",
      "3996:\tlearn: 0.0312280\ttotal: 1m 6s\tremaining: 16.8s\n"
     ]
    },
    {
     "name": "stderr",
     "output_type": "stream",
     "text": [
      "20it [28:06, 84.31s/it]"
     ]
    },
    {
     "name": "stdout",
     "output_type": "stream",
     "text": [
      "4995:\tlearn: 0.0218798\ttotal: 1m 23s\tremaining: 67ms\n",
      "4999:\tlearn: 0.0218339\ttotal: 1m 23s\tremaining: 0us\n",
      "fold Loss 19:  0.0852250806202445\n",
      "---------------------------------------------------------------------------\n",
      "Training Loss: 0.02496606167066368\n",
      "Loss for basalt:\n",
      "0.12833768702495438 0.061298110683166804\n",
      "==================================================================================================\n",
      "TARGET  carbonate\n"
     ]
    },
    {
     "name": "stderr",
     "output_type": "stream",
     "text": [
      "\n"
     ]
    },
    {
     "name": "stdout",
     "output_type": "stream",
     "text": [
      "0.2979753689700005\n"
     ]
    },
    {
     "name": "stderr",
     "output_type": "stream",
     "text": [
      "100%|██████████| 101/101 [00:00<00:00, 531524.10it/s]"
     ]
    },
    {
     "name": "stdout",
     "output_type": "stream",
     "text": [
      "11\n"
     ]
    },
    {
     "name": "stderr",
     "output_type": "stream",
     "text": [
      "\n"
     ]
    },
    {
     "name": "stdout",
     "output_type": "stream",
     "text": [
      "0.24767212145263007\n"
     ]
    },
    {
     "name": "stderr",
     "output_type": "stream",
     "text": [
      "100%|██████████| 900/900 [00:00<00:00, 1488514.83it/s]"
     ]
    },
    {
     "name": "stdout",
     "output_type": "stream",
     "text": [
      "37\n"
     ]
    },
    {
     "name": "stderr",
     "output_type": "stream",
     "text": [
      "\n"
     ]
    },
    {
     "name": "stdout",
     "output_type": "stream",
     "text": [
      "0.20641596330941842\n"
     ]
    },
    {
     "name": "stderr",
     "output_type": "stream",
     "text": [
      "100%|██████████| 1200/1200 [00:00<00:00, 1512369.23it/s]\n"
     ]
    },
    {
     "name": "stdout",
     "output_type": "stream",
     "text": [
      "49\n",
      "0.2504773214737026\n"
     ]
    },
    {
     "name": "stderr",
     "output_type": "stream",
     "text": [
      "100%|██████████| 1000/1000 [00:00<00:00, 1291747.46it/s]\n"
     ]
    },
    {
     "name": "stdout",
     "output_type": "stream",
     "text": [
      "52\n",
      "(1059, 52) (1059, 11) (1059, 37) (1059, 49)\n",
      "(1059, 149)\n",
      "(804, 52) (804, 11) (804, 37) (804, 49)\n",
      "(804, 149)\n"
     ]
    },
    {
     "name": "stderr",
     "output_type": "stream",
     "text": [
      "0it [00:00, ?it/s]"
     ]
    },
    {
     "name": "stdout",
     "output_type": "stream",
     "text": [
      "Learning rate set to 0.002361\n",
      "0:\tlearn: 0.6896130\ttotal: 25.6ms\tremaining: 2m 8s\n",
      "999:\tlearn: 0.0861541\ttotal: 17.2s\tremaining: 1m 8s\n",
      "1998:\tlearn: 0.0425157\ttotal: 34.2s\tremaining: 51.3s\n",
      "2997:\tlearn: 0.0255611\ttotal: 51.5s\tremaining: 34.4s\n",
      "3996:\tlearn: 0.0169426\ttotal: 1m 8s\tremaining: 17.2s\n"
     ]
    },
    {
     "name": "stderr",
     "output_type": "stream",
     "text": [
      "1it [01:26, 86.45s/it]"
     ]
    },
    {
     "name": "stdout",
     "output_type": "stream",
     "text": [
      "4995:\tlearn: 0.0121610\ttotal: 1m 25s\tremaining: 68.5ms\n",
      "4999:\tlearn: 0.0121471\ttotal: 1m 25s\tremaining: 0us\n",
      "fold Loss 0:  0.06407052524397225\n",
      "---------------------------------------------------------------------------\n",
      "Learning rate set to 0.002361\n",
      "0:\tlearn: 0.6895571\ttotal: 34.2ms\tremaining: 2m 50s\n",
      "999:\tlearn: 0.0865289\ttotal: 17.1s\tremaining: 1m 8s\n",
      "1998:\tlearn: 0.0418646\ttotal: 34.3s\tremaining: 51.5s\n",
      "2997:\tlearn: 0.0253558\ttotal: 51.2s\tremaining: 34.2s\n",
      "3996:\tlearn: 0.0171747\ttotal: 1m 8s\tremaining: 17.1s\n"
     ]
    },
    {
     "name": "stderr",
     "output_type": "stream",
     "text": [
      "2it [02:52, 86.40s/it]"
     ]
    },
    {
     "name": "stdout",
     "output_type": "stream",
     "text": [
      "4995:\tlearn: 0.0126560\ttotal: 1m 25s\tremaining: 68.5ms\n",
      "4999:\tlearn: 0.0126362\ttotal: 1m 25s\tremaining: 0us\n",
      "fold Loss 1:  0.08464288307258555\n",
      "---------------------------------------------------------------------------\n",
      "Learning rate set to 0.002361\n",
      "0:\tlearn: 0.6893251\ttotal: 25.8ms\tremaining: 2m 9s\n",
      "999:\tlearn: 0.0825783\ttotal: 17.3s\tremaining: 1m 9s\n",
      "1998:\tlearn: 0.0389585\ttotal: 34.2s\tremaining: 51.4s\n",
      "2997:\tlearn: 0.0225967\ttotal: 51.4s\tremaining: 34.3s\n",
      "3996:\tlearn: 0.0147805\ttotal: 1m 8s\tremaining: 17.1s\n"
     ]
    },
    {
     "name": "stderr",
     "output_type": "stream",
     "text": [
      "3it [04:19, 86.43s/it]"
     ]
    },
    {
     "name": "stdout",
     "output_type": "stream",
     "text": [
      "4995:\tlearn: 0.0103804\ttotal: 1m 25s\tremaining: 68.6ms\n",
      "4999:\tlearn: 0.0103687\ttotal: 1m 25s\tremaining: 0us\n",
      "fold Loss 2:  0.1842096288715788\n",
      "---------------------------------------------------------------------------\n",
      "Learning rate set to 0.002361\n",
      "0:\tlearn: 0.6901307\ttotal: 38.5ms\tremaining: 3m 12s\n",
      "999:\tlearn: 0.0867768\ttotal: 16.9s\tremaining: 1m 7s\n",
      "1998:\tlearn: 0.0416693\ttotal: 34.1s\tremaining: 51.2s\n",
      "2997:\tlearn: 0.0248465\ttotal: 50.9s\tremaining: 34s\n",
      "3996:\tlearn: 0.0164027\ttotal: 1m 8s\tremaining: 17.1s\n"
     ]
    },
    {
     "name": "stderr",
     "output_type": "stream",
     "text": [
      "4it [05:45, 86.17s/it]"
     ]
    },
    {
     "name": "stdout",
     "output_type": "stream",
     "text": [
      "4995:\tlearn: 0.0114330\ttotal: 1m 24s\tremaining: 68ms\n",
      "4999:\tlearn: 0.0114197\ttotal: 1m 25s\tremaining: 0us\n",
      "fold Loss 3:  0.12642972057805432\n",
      "---------------------------------------------------------------------------\n",
      "Learning rate set to 0.002361\n",
      "0:\tlearn: 0.6899425\ttotal: 26ms\tremaining: 2m 9s\n",
      "999:\tlearn: 0.0854425\ttotal: 17.2s\tremaining: 1m 8s\n",
      "1998:\tlearn: 0.0409705\ttotal: 34.4s\tremaining: 51.7s\n",
      "2997:\tlearn: 0.0241643\ttotal: 51.5s\tremaining: 34.4s\n",
      "3996:\tlearn: 0.0155919\ttotal: 1m 8s\tremaining: 17.3s\n"
     ]
    },
    {
     "name": "stderr",
     "output_type": "stream",
     "text": [
      "5it [07:11, 86.31s/it]"
     ]
    },
    {
     "name": "stdout",
     "output_type": "stream",
     "text": [
      "4995:\tlearn: 0.0113712\ttotal: 1m 25s\tremaining: 68.6ms\n",
      "4999:\tlearn: 0.0113588\ttotal: 1m 25s\tremaining: 0us\n",
      "fold Loss 4:  0.06193654532876608\n",
      "---------------------------------------------------------------------------\n",
      "Learning rate set to 0.002361\n",
      "0:\tlearn: 0.6899220\ttotal: 35.2ms\tremaining: 2m 55s\n",
      "999:\tlearn: 0.0872594\ttotal: 17.3s\tremaining: 1m 9s\n",
      "1998:\tlearn: 0.0429453\ttotal: 34.3s\tremaining: 51.4s\n",
      "2997:\tlearn: 0.0260979\ttotal: 51.6s\tremaining: 34.5s\n",
      "3996:\tlearn: 0.0173770\ttotal: 1m 8s\tremaining: 17.2s\n"
     ]
    },
    {
     "name": "stderr",
     "output_type": "stream",
     "text": [
      "6it [08:38, 86.42s/it]"
     ]
    },
    {
     "name": "stdout",
     "output_type": "stream",
     "text": [
      "4995:\tlearn: 0.0122957\ttotal: 1m 25s\tremaining: 68.7ms\n",
      "4999:\tlearn: 0.0122788\ttotal: 1m 25s\tremaining: 0us\n",
      "fold Loss 5:  0.07743291202060429\n",
      "---------------------------------------------------------------------------\n",
      "Learning rate set to 0.002361\n",
      "0:\tlearn: 0.6898437\ttotal: 25.7ms\tremaining: 2m 8s\n",
      "999:\tlearn: 0.0884691\ttotal: 17.1s\tremaining: 1m 8s\n",
      "1998:\tlearn: 0.0430021\ttotal: 34.4s\tremaining: 51.7s\n",
      "2997:\tlearn: 0.0254810\ttotal: 51.4s\tremaining: 34.3s\n",
      "3996:\tlearn: 0.0167618\ttotal: 1m 8s\tremaining: 17.2s\n"
     ]
    },
    {
     "name": "stderr",
     "output_type": "stream",
     "text": [
      "7it [10:04, 86.42s/it]"
     ]
    },
    {
     "name": "stdout",
     "output_type": "stream",
     "text": [
      "4995:\tlearn: 0.0120505\ttotal: 1m 25s\tremaining: 68.5ms\n",
      "4999:\tlearn: 0.0120373\ttotal: 1m 25s\tremaining: 0us\n",
      "fold Loss 6:  0.01882140938080516\n",
      "---------------------------------------------------------------------------\n",
      "Learning rate set to 0.002361\n",
      "0:\tlearn: 0.6898129\ttotal: 34.1ms\tremaining: 2m 50s\n",
      "999:\tlearn: 0.0883312\ttotal: 17.4s\tremaining: 1m 9s\n",
      "1998:\tlearn: 0.0422526\ttotal: 34.6s\tremaining: 52s\n",
      "2997:\tlearn: 0.0245808\ttotal: 51.6s\tremaining: 34.5s\n",
      "3996:\tlearn: 0.0162747\ttotal: 1m 8s\tremaining: 17.3s\n"
     ]
    },
    {
     "name": "stderr",
     "output_type": "stream",
     "text": [
      "8it [11:31, 86.48s/it]"
     ]
    },
    {
     "name": "stdout",
     "output_type": "stream",
     "text": [
      "4995:\tlearn: 0.0113435\ttotal: 1m 25s\tremaining: 68.7ms\n",
      "4999:\tlearn: 0.0113297\ttotal: 1m 25s\tremaining: 0us\n",
      "fold Loss 7:  0.02122745436768925\n",
      "---------------------------------------------------------------------------\n",
      "Learning rate set to 0.002361\n",
      "0:\tlearn: 0.6899129\ttotal: 25.9ms\tremaining: 2m 9s\n",
      "999:\tlearn: 0.0876311\ttotal: 17.3s\tremaining: 1m 9s\n",
      "1998:\tlearn: 0.0418922\ttotal: 34.2s\tremaining: 51.4s\n",
      "2997:\tlearn: 0.0249371\ttotal: 51.5s\tremaining: 34.4s\n",
      "3996:\tlearn: 0.0163736\ttotal: 1m 8s\tremaining: 17.2s\n"
     ]
    },
    {
     "name": "stderr",
     "output_type": "stream",
     "text": [
      "9it [12:58, 86.56s/it]"
     ]
    },
    {
     "name": "stdout",
     "output_type": "stream",
     "text": [
      "4995:\tlearn: 0.0115260\ttotal: 1m 25s\tremaining: 68.7ms\n",
      "4999:\tlearn: 0.0115049\ttotal: 1m 25s\tremaining: 0us\n",
      "fold Loss 8:  0.050391848897818926\n",
      "---------------------------------------------------------------------------\n",
      "Learning rate set to 0.002361\n",
      "0:\tlearn: 0.6898626\ttotal: 28.1ms\tremaining: 2m 20s\n",
      "999:\tlearn: 0.0883059\ttotal: 17s\tremaining: 1m 7s\n",
      "1998:\tlearn: 0.0430698\ttotal: 34.1s\tremaining: 51.2s\n",
      "2997:\tlearn: 0.0258761\ttotal: 51.1s\tremaining: 34.2s\n",
      "3996:\tlearn: 0.0170495\ttotal: 1m 8s\tremaining: 17.1s\n"
     ]
    },
    {
     "name": "stderr",
     "output_type": "stream",
     "text": [
      "10it [14:24, 86.44s/it]"
     ]
    },
    {
     "name": "stdout",
     "output_type": "stream",
     "text": [
      "4995:\tlearn: 0.0120620\ttotal: 1m 25s\tremaining: 68.3ms\n",
      "4999:\tlearn: 0.0120528\ttotal: 1m 25s\tremaining: 0us\n",
      "fold Loss 9:  0.03934133177058914\n",
      "---------------------------------------------------------------------------\n",
      "Learning rate set to 0.002361\n",
      "0:\tlearn: 0.6899321\ttotal: 26ms\tremaining: 2m 9s\n",
      "999:\tlearn: 0.0858072\ttotal: 17.3s\tremaining: 1m 9s\n",
      "1998:\tlearn: 0.0414361\ttotal: 34.5s\tremaining: 51.8s\n",
      "2997:\tlearn: 0.0249242\ttotal: 51.7s\tremaining: 34.5s\n",
      "3996:\tlearn: 0.0164136\ttotal: 1m 8s\tremaining: 17.3s\n"
     ]
    },
    {
     "name": "stderr",
     "output_type": "stream",
     "text": [
      "11it [15:50, 86.55s/it]"
     ]
    },
    {
     "name": "stdout",
     "output_type": "stream",
     "text": [
      "4995:\tlearn: 0.0116073\ttotal: 1m 25s\tremaining: 68.8ms\n",
      "4999:\tlearn: 0.0115954\ttotal: 1m 26s\tremaining: 0us\n",
      "fold Loss 10:  0.06609080039869324\n",
      "---------------------------------------------------------------------------\n",
      "Learning rate set to 0.002361\n",
      "0:\tlearn: 0.6898682\ttotal: 35.7ms\tremaining: 2m 58s\n",
      "999:\tlearn: 0.0855995\ttotal: 17.3s\tremaining: 1m 9s\n",
      "1998:\tlearn: 0.0400418\ttotal: 34.3s\tremaining: 51.5s\n",
      "2997:\tlearn: 0.0229925\ttotal: 51.7s\tremaining: 34.5s\n",
      "3996:\tlearn: 0.0147629\ttotal: 1m 8s\tremaining: 17.2s\n"
     ]
    },
    {
     "name": "stderr",
     "output_type": "stream",
     "text": [
      "12it [17:17, 86.69s/it]"
     ]
    },
    {
     "name": "stdout",
     "output_type": "stream",
     "text": [
      "4995:\tlearn: 0.0102805\ttotal: 1m 26s\tremaining: 69ms\n",
      "4999:\tlearn: 0.0102691\ttotal: 1m 26s\tremaining: 0us\n",
      "fold Loss 11:  0.03332943881433094\n",
      "---------------------------------------------------------------------------\n",
      "Learning rate set to 0.002361\n",
      "0:\tlearn: 0.6896267\ttotal: 26.8ms\tremaining: 2m 14s\n",
      "999:\tlearn: 0.0828701\ttotal: 16.9s\tremaining: 1m 7s\n",
      "1998:\tlearn: 0.0400129\ttotal: 34.3s\tremaining: 51.5s\n",
      "2997:\tlearn: 0.0235276\ttotal: 51.2s\tremaining: 34.2s\n",
      "3996:\tlearn: 0.0155069\ttotal: 1m 8s\tremaining: 17.2s\n"
     ]
    },
    {
     "name": "stderr",
     "output_type": "stream",
     "text": [
      "13it [18:44, 86.60s/it]"
     ]
    },
    {
     "name": "stdout",
     "output_type": "stream",
     "text": [
      "4995:\tlearn: 0.0110164\ttotal: 1m 25s\tremaining: 68.4ms\n",
      "4999:\tlearn: 0.0110051\ttotal: 1m 25s\tremaining: 0us\n",
      "fold Loss 12:  0.14929492003559233\n",
      "---------------------------------------------------------------------------\n",
      "Learning rate set to 0.002361\n",
      "0:\tlearn: 0.6899073\ttotal: 45.5ms\tremaining: 3m 47s\n",
      "999:\tlearn: 0.0854403\ttotal: 17.3s\tremaining: 1m 9s\n",
      "1998:\tlearn: 0.0404993\ttotal: 34.6s\tremaining: 52s\n",
      "2997:\tlearn: 0.0236069\ttotal: 51.6s\tremaining: 34.4s\n",
      "3996:\tlearn: 0.0157528\ttotal: 1m 8s\tremaining: 17.3s\n"
     ]
    },
    {
     "name": "stderr",
     "output_type": "stream",
     "text": [
      "14it [20:10, 86.57s/it]"
     ]
    },
    {
     "name": "stdout",
     "output_type": "stream",
     "text": [
      "4995:\tlearn: 0.0113478\ttotal: 1m 25s\tremaining: 68.6ms\n",
      "4999:\tlearn: 0.0113366\ttotal: 1m 25s\tremaining: 0us\n",
      "fold Loss 13:  0.09947731091287372\n",
      "---------------------------------------------------------------------------\n",
      "Learning rate set to 0.002361\n",
      "0:\tlearn: 0.6897937\ttotal: 27.3ms\tremaining: 2m 16s\n",
      "999:\tlearn: 0.0837501\ttotal: 17.3s\tremaining: 1m 9s\n",
      "1998:\tlearn: 0.0381669\ttotal: 34.3s\tremaining: 51.5s\n",
      "2997:\tlearn: 0.0216025\ttotal: 51.5s\tremaining: 34.4s\n",
      "3996:\tlearn: 0.0130312\ttotal: 1m 8s\tremaining: 17.2s\n"
     ]
    },
    {
     "name": "stderr",
     "output_type": "stream",
     "text": [
      "15it [21:37, 86.59s/it]"
     ]
    },
    {
     "name": "stdout",
     "output_type": "stream",
     "text": [
      "4995:\tlearn: 0.0085825\ttotal: 1m 25s\tremaining: 68.7ms\n",
      "4999:\tlearn: 0.0085687\ttotal: 1m 25s\tremaining: 0us\n",
      "fold Loss 14:  0.14270473865929484\n",
      "---------------------------------------------------------------------------\n",
      "Learning rate set to 0.002361\n",
      "0:\tlearn: 0.6899582\ttotal: 36ms\tremaining: 2m 59s\n",
      "999:\tlearn: 0.0839232\ttotal: 17s\tremaining: 1m 8s\n",
      "1998:\tlearn: 0.0383342\ttotal: 34.2s\tremaining: 51.4s\n",
      "2997:\tlearn: 0.0218074\ttotal: 51.1s\tremaining: 34.2s\n",
      "3996:\tlearn: 0.0134674\ttotal: 1m 8s\tremaining: 17.2s\n"
     ]
    },
    {
     "name": "stderr",
     "output_type": "stream",
     "text": [
      "16it [23:03, 86.55s/it]"
     ]
    },
    {
     "name": "stdout",
     "output_type": "stream",
     "text": [
      "4995:\tlearn: 0.0089914\ttotal: 1m 25s\tremaining: 68.5ms\n",
      "4999:\tlearn: 0.0089732\ttotal: 1m 25s\tremaining: 0us\n",
      "fold Loss 15:  0.16146035805077671\n",
      "---------------------------------------------------------------------------\n",
      "Learning rate set to 0.002361\n",
      "0:\tlearn: 0.6900663\ttotal: 33.5ms\tremaining: 2m 47s\n",
      "999:\tlearn: 0.0880143\ttotal: 17s\tremaining: 1m 8s\n",
      "1998:\tlearn: 0.0429809\ttotal: 34.3s\tremaining: 51.5s\n",
      "2997:\tlearn: 0.0254692\ttotal: 51.4s\tremaining: 34.3s\n",
      "3996:\tlearn: 0.0166674\ttotal: 1m 8s\tremaining: 17.2s\n"
     ]
    },
    {
     "name": "stderr",
     "output_type": "stream",
     "text": [
      "17it [24:30, 86.48s/it]"
     ]
    },
    {
     "name": "stdout",
     "output_type": "stream",
     "text": [
      "4995:\tlearn: 0.0118980\ttotal: 1m 25s\tremaining: 68.4ms\n",
      "4999:\tlearn: 0.0118874\ttotal: 1m 25s\tremaining: 0us\n",
      "fold Loss 16:  0.017905342023155055\n",
      "---------------------------------------------------------------------------\n",
      "Learning rate set to 0.002361\n",
      "0:\tlearn: 0.6897058\ttotal: 33.1ms\tremaining: 2m 45s\n",
      "999:\tlearn: 0.0867191\ttotal: 17.3s\tremaining: 1m 9s\n",
      "1998:\tlearn: 0.0396071\ttotal: 34.2s\tremaining: 51.3s\n",
      "2997:\tlearn: 0.0227095\ttotal: 51.6s\tremaining: 34.5s\n",
      "3996:\tlearn: 0.0146862\ttotal: 1m 8s\tremaining: 17.2s\n"
     ]
    },
    {
     "name": "stderr",
     "output_type": "stream",
     "text": [
      "18it [25:57, 86.57s/it]"
     ]
    },
    {
     "name": "stdout",
     "output_type": "stream",
     "text": [
      "4995:\tlearn: 0.0103089\ttotal: 1m 25s\tremaining: 68.8ms\n",
      "4999:\tlearn: 0.0102966\ttotal: 1m 26s\tremaining: 0us\n",
      "fold Loss 17:  0.06466533213601507\n",
      "---------------------------------------------------------------------------\n",
      "Learning rate set to 0.002361\n",
      "0:\tlearn: 0.6897530\ttotal: 25.1ms\tremaining: 2m 5s\n",
      "999:\tlearn: 0.0863534\ttotal: 17s\tremaining: 1m 7s\n",
      "1998:\tlearn: 0.0418167\ttotal: 34.3s\tremaining: 51.5s\n",
      "2997:\tlearn: 0.0247227\ttotal: 51.3s\tremaining: 34.3s\n",
      "3996:\tlearn: 0.0164085\ttotal: 1m 8s\tremaining: 17.2s\n"
     ]
    },
    {
     "name": "stderr",
     "output_type": "stream",
     "text": [
      "19it [27:23, 86.55s/it]"
     ]
    },
    {
     "name": "stdout",
     "output_type": "stream",
     "text": [
      "4995:\tlearn: 0.0120013\ttotal: 1m 25s\tremaining: 68.6ms\n",
      "4999:\tlearn: 0.0119926\ttotal: 1m 25s\tremaining: 0us\n",
      "fold Loss 18:  0.06578962831221198\n",
      "---------------------------------------------------------------------------\n",
      "Learning rate set to 0.002362\n",
      "0:\tlearn: 0.6902107\ttotal: 35.9ms\tremaining: 2m 59s\n",
      "999:\tlearn: 0.0873745\ttotal: 17.3s\tremaining: 1m 9s\n",
      "1998:\tlearn: 0.0405720\ttotal: 34.6s\tremaining: 51.9s\n",
      "2997:\tlearn: 0.0234513\ttotal: 51.5s\tremaining: 34.4s\n",
      "3996:\tlearn: 0.0149599\ttotal: 1m 8s\tremaining: 17.3s\n"
     ]
    },
    {
     "name": "stderr",
     "output_type": "stream",
     "text": [
      "20it [28:50, 86.52s/it]"
     ]
    },
    {
     "name": "stdout",
     "output_type": "stream",
     "text": [
      "4995:\tlearn: 0.0104108\ttotal: 1m 25s\tremaining: 68.8ms\n",
      "4999:\tlearn: 0.0103962\ttotal: 1m 26s\tremaining: 0us\n",
      "fold Loss 19:  0.03693613689009975\n",
      "---------------------------------------------------------------------------\n",
      "Training Loss: 0.01170972045817976\n",
      "Loss for carbonate:\n",
      "0.07830791328827537 0.048765177043561286\n",
      "==================================================================================================\n",
      "TARGET  chloride\n"
     ]
    },
    {
     "name": "stderr",
     "output_type": "stream",
     "text": [
      "\n"
     ]
    },
    {
     "name": "stdout",
     "output_type": "stream",
     "text": [
      "0.31869535157043083\n"
     ]
    },
    {
     "name": "stderr",
     "output_type": "stream",
     "text": [
      "100%|██████████| 101/101 [00:00<00:00, 431389.72it/s]"
     ]
    },
    {
     "name": "stdout",
     "output_type": "stream",
     "text": [
      "10\n"
     ]
    },
    {
     "name": "stderr",
     "output_type": "stream",
     "text": [
      "\n"
     ]
    },
    {
     "name": "stdout",
     "output_type": "stream",
     "text": [
      "0.26959851674752494\n"
     ]
    },
    {
     "name": "stderr",
     "output_type": "stream",
     "text": [
      "100%|██████████| 900/900 [00:00<00:00, 1230803.26it/s]"
     ]
    },
    {
     "name": "stdout",
     "output_type": "stream",
     "text": [
      "35\n"
     ]
    },
    {
     "name": "stderr",
     "output_type": "stream",
     "text": [
      "\n"
     ]
    },
    {
     "name": "stdout",
     "output_type": "stream",
     "text": [
      "0.2777947928460727\n"
     ]
    },
    {
     "name": "stderr",
     "output_type": "stream",
     "text": [
      "100%|██████████| 1200/1200 [00:00<00:00, 901354.73it/s]"
     ]
    },
    {
     "name": "stdout",
     "output_type": "stream",
     "text": [
      "44\n"
     ]
    },
    {
     "name": "stderr",
     "output_type": "stream",
     "text": [
      "\n"
     ]
    },
    {
     "name": "stdout",
     "output_type": "stream",
     "text": [
      "0.2755163529313635\n"
     ]
    },
    {
     "name": "stderr",
     "output_type": "stream",
     "text": [
      "100%|██████████| 1000/1000 [00:00<00:00, 1392531.21it/s]\n"
     ]
    },
    {
     "name": "stdout",
     "output_type": "stream",
     "text": [
      "42\n",
      "(1059, 42) (1059, 10) (1059, 35) (1059, 44)\n",
      "(1059, 131)\n",
      "(804, 42) (804, 10) (804, 35) (804, 44)\n",
      "(804, 131)\n"
     ]
    },
    {
     "name": "stderr",
     "output_type": "stream",
     "text": [
      "0it [00:00, ?it/s]"
     ]
    },
    {
     "name": "stdout",
     "output_type": "stream",
     "text": [
      "Learning rate set to 0.002361\n",
      "0:\tlearn: 0.6910052\ttotal: 29.1ms\tremaining: 2m 25s\n",
      "999:\tlearn: 0.1565539\ttotal: 15.1s\tremaining: 1m\n",
      "1998:\tlearn: 0.0978538\ttotal: 30s\tremaining: 45s\n",
      "2997:\tlearn: 0.0660620\ttotal: 45.2s\tremaining: 30.2s\n",
      "3996:\tlearn: 0.0464966\ttotal: 1m\tremaining: 15.1s\n"
     ]
    },
    {
     "name": "stderr",
     "output_type": "stream",
     "text": [
      "1it [01:16, 76.20s/it]"
     ]
    },
    {
     "name": "stdout",
     "output_type": "stream",
     "text": [
      "4995:\tlearn: 0.0334460\ttotal: 1m 15s\tremaining: 60.3ms\n",
      "4999:\tlearn: 0.0333985\ttotal: 1m 15s\tremaining: 0us\n",
      "fold Loss 0:  0.07868920068087275\n",
      "---------------------------------------------------------------------------\n",
      "Learning rate set to 0.002361\n",
      "0:\tlearn: 0.6903220\ttotal: 29.2ms\tremaining: 2m 26s\n",
      "999:\tlearn: 0.1435603\ttotal: 15s\tremaining: 60s\n",
      "1998:\tlearn: 0.0808222\ttotal: 30.3s\tremaining: 45.4s\n",
      "2997:\tlearn: 0.0517943\ttotal: 45.3s\tremaining: 30.2s\n",
      "3996:\tlearn: 0.0357323\ttotal: 1m\tremaining: 15.2s\n"
     ]
    },
    {
     "name": "stderr",
     "output_type": "stream",
     "text": [
      "2it [02:32, 76.38s/it]"
     ]
    },
    {
     "name": "stdout",
     "output_type": "stream",
     "text": [
      "4995:\tlearn: 0.0254073\ttotal: 1m 15s\tremaining: 60.6ms\n",
      "4999:\tlearn: 0.0253767\ttotal: 1m 15s\tremaining: 0us\n",
      "fold Loss 1:  0.36729876871905465\n",
      "---------------------------------------------------------------------------\n",
      "Learning rate set to 0.002361\n",
      "0:\tlearn: 0.6905785\ttotal: 26ms\tremaining: 2m 10s\n",
      "999:\tlearn: 0.1513594\ttotal: 15.4s\tremaining: 1m 1s\n",
      "1998:\tlearn: 0.0930731\ttotal: 30.4s\tremaining: 45.6s\n",
      "2997:\tlearn: 0.0625151\ttotal: 45.6s\tremaining: 30.4s\n",
      "3996:\tlearn: 0.0442383\ttotal: 1m\tremaining: 15.2s\n"
     ]
    },
    {
     "name": "stderr",
     "output_type": "stream",
     "text": [
      "3it [03:49, 76.62s/it]"
     ]
    },
    {
     "name": "stdout",
     "output_type": "stream",
     "text": [
      "4995:\tlearn: 0.0311652\ttotal: 1m 16s\tremaining: 60.9ms\n",
      "4999:\tlearn: 0.0311418\ttotal: 1m 16s\tremaining: 0us\n",
      "fold Loss 2:  0.18170212392140153\n",
      "---------------------------------------------------------------------------\n",
      "Learning rate set to 0.002361\n",
      "0:\tlearn: 0.6904744\ttotal: 44ms\tremaining: 3m 39s\n",
      "999:\tlearn: 0.1527071\ttotal: 15.1s\tremaining: 1m\n",
      "1998:\tlearn: 0.0946578\ttotal: 30.3s\tremaining: 45.5s\n",
      "2997:\tlearn: 0.0640757\ttotal: 45.4s\tremaining: 30.3s\n",
      "3996:\tlearn: 0.0458830\ttotal: 1m\tremaining: 15.2s\n"
     ]
    },
    {
     "name": "stderr",
     "output_type": "stream",
     "text": [
      "4it [05:06, 76.57s/it]"
     ]
    },
    {
     "name": "stdout",
     "output_type": "stream",
     "text": [
      "4995:\tlearn: 0.0332264\ttotal: 1m 15s\tremaining: 60.6ms\n",
      "4999:\tlearn: 0.0331762\ttotal: 1m 15s\tremaining: 0us\n",
      "fold Loss 3:  0.10874175944249827\n",
      "---------------------------------------------------------------------------\n",
      "Learning rate set to 0.002361\n",
      "0:\tlearn: 0.6910142\ttotal: 22.4ms\tremaining: 1m 51s\n",
      "999:\tlearn: 0.1536642\ttotal: 15s\tremaining: 60s\n",
      "1998:\tlearn: 0.0946321\ttotal: 30.3s\tremaining: 45.4s\n",
      "2997:\tlearn: 0.0631113\ttotal: 45.4s\tremaining: 30.3s\n",
      "3996:\tlearn: 0.0453411\ttotal: 1m\tremaining: 15.2s\n"
     ]
    },
    {
     "name": "stderr",
     "output_type": "stream",
     "text": [
      "5it [06:22, 76.54s/it]"
     ]
    },
    {
     "name": "stdout",
     "output_type": "stream",
     "text": [
      "4995:\tlearn: 0.0334366\ttotal: 1m 15s\tremaining: 60.6ms\n",
      "4999:\tlearn: 0.0334120\ttotal: 1m 15s\tremaining: 0us\n",
      "fold Loss 4:  0.15810685653961215\n",
      "---------------------------------------------------------------------------\n",
      "Learning rate set to 0.002361\n",
      "0:\tlearn: 0.6909653\ttotal: 31.1ms\tremaining: 2m 35s\n",
      "999:\tlearn: 0.1527987\ttotal: 15.5s\tremaining: 1m 1s\n",
      "1998:\tlearn: 0.0947665\ttotal: 30.4s\tremaining: 45.6s\n",
      "2997:\tlearn: 0.0637266\ttotal: 45.7s\tremaining: 30.5s\n",
      "3996:\tlearn: 0.0450106\ttotal: 1m\tremaining: 15.2s\n",
      "4995:\tlearn: 0.0334402\ttotal: 1m 17s\tremaining: 61.9ms\n",
      "4999:\tlearn: 0.0334028\ttotal: 1m 17s\tremaining: 0us\n",
      "fold Loss 5:  0.14369930489756189\n"
     ]
    },
    {
     "name": "stderr",
     "output_type": "stream",
     "text": [
      "6it [07:40, 77.10s/it]"
     ]
    },
    {
     "name": "stdout",
     "output_type": "stream",
     "text": [
      "---------------------------------------------------------------------------\n",
      "Learning rate set to 0.002361\n",
      "0:\tlearn: 0.6905201\ttotal: 22.1ms\tremaining: 1m 50s\n",
      "999:\tlearn: 0.1544632\ttotal: 15s\tremaining: 1m\n",
      "1998:\tlearn: 0.0954813\ttotal: 30.3s\tremaining: 45.4s\n",
      "2997:\tlearn: 0.0639948\ttotal: 45.2s\tremaining: 30.2s\n",
      "3996:\tlearn: 0.0456396\ttotal: 1m\tremaining: 15.2s\n"
     ]
    },
    {
     "name": "stderr",
     "output_type": "stream",
     "text": [
      "7it [08:57, 76.86s/it]"
     ]
    },
    {
     "name": "stdout",
     "output_type": "stream",
     "text": [
      "4995:\tlearn: 0.0325872\ttotal: 1m 15s\tremaining: 60.5ms\n",
      "4999:\tlearn: 0.0325514\ttotal: 1m 15s\tremaining: 0us\n",
      "fold Loss 6:  0.1200878942314317\n",
      "---------------------------------------------------------------------------\n",
      "Learning rate set to 0.002361\n",
      "0:\tlearn: 0.6904571\ttotal: 32.2ms\tremaining: 2m 40s\n",
      "999:\tlearn: 0.1548377\ttotal: 15.1s\tremaining: 1m\n",
      "1998:\tlearn: 0.0960407\ttotal: 30.3s\tremaining: 45.5s\n",
      "2997:\tlearn: 0.0646883\ttotal: 45.3s\tremaining: 30.3s\n",
      "3996:\tlearn: 0.0462721\ttotal: 1m\tremaining: 15.2s\n"
     ]
    },
    {
     "name": "stderr",
     "output_type": "stream",
     "text": [
      "8it [10:13, 76.72s/it]"
     ]
    },
    {
     "name": "stdout",
     "output_type": "stream",
     "text": [
      "4995:\tlearn: 0.0344404\ttotal: 1m 15s\tremaining: 60.5ms\n",
      "4999:\tlearn: 0.0344002\ttotal: 1m 15s\tremaining: 0us\n",
      "fold Loss 7:  0.10189702880193638\n",
      "---------------------------------------------------------------------------\n",
      "Learning rate set to 0.002361\n",
      "0:\tlearn: 0.6910281\ttotal: 22.3ms\tremaining: 1m 51s\n",
      "999:\tlearn: 0.1555138\ttotal: 15.4s\tremaining: 1m 1s\n",
      "1998:\tlearn: 0.0962865\ttotal: 30.4s\tremaining: 45.7s\n",
      "2997:\tlearn: 0.0647781\ttotal: 45.7s\tremaining: 30.5s\n",
      "3996:\tlearn: 0.0459530\ttotal: 1m\tremaining: 15.2s\n"
     ]
    },
    {
     "name": "stderr",
     "output_type": "stream",
     "text": [
      "9it [11:30, 76.71s/it]"
     ]
    },
    {
     "name": "stdout",
     "output_type": "stream",
     "text": [
      "4995:\tlearn: 0.0334813\ttotal: 1m 15s\tremaining: 60.7ms\n",
      "4999:\tlearn: 0.0334422\ttotal: 1m 15s\tremaining: 0us\n",
      "fold Loss 8:  0.13253444797963973\n",
      "---------------------------------------------------------------------------\n",
      "Learning rate set to 0.002361\n",
      "0:\tlearn: 0.6909548\ttotal: 30.3ms\tremaining: 2m 31s\n",
      "999:\tlearn: 0.1493485\ttotal: 15.1s\tremaining: 1m\n",
      "1998:\tlearn: 0.0915275\ttotal: 30.6s\tremaining: 45.9s\n",
      "2997:\tlearn: 0.0610116\ttotal: 45.8s\tremaining: 30.6s\n",
      "3996:\tlearn: 0.0422691\ttotal: 1m 1s\tremaining: 15.3s\n"
     ]
    },
    {
     "name": "stderr",
     "output_type": "stream",
     "text": [
      "10it [12:47, 76.85s/it]"
     ]
    },
    {
     "name": "stdout",
     "output_type": "stream",
     "text": [
      "4995:\tlearn: 0.0299895\ttotal: 1m 16s\tremaining: 61.1ms\n",
      "4999:\tlearn: 0.0299488\ttotal: 1m 16s\tremaining: 0us\n",
      "fold Loss 9:  0.21671252893238574\n",
      "---------------------------------------------------------------------------\n",
      "Learning rate set to 0.002361\n",
      "0:\tlearn: 0.6904132\ttotal: 23.4ms\tremaining: 1m 56s\n",
      "999:\tlearn: 0.1479738\ttotal: 15.1s\tremaining: 1m\n",
      "1998:\tlearn: 0.0923574\ttotal: 30.4s\tremaining: 45.6s\n",
      "2997:\tlearn: 0.0617536\ttotal: 45.3s\tremaining: 30.2s\n",
      "3996:\tlearn: 0.0428761\ttotal: 1m\tremaining: 15.2s\n"
     ]
    },
    {
     "name": "stderr",
     "output_type": "stream",
     "text": [
      "11it [14:03, 76.74s/it]"
     ]
    },
    {
     "name": "stdout",
     "output_type": "stream",
     "text": [
      "4995:\tlearn: 0.0313114\ttotal: 1m 15s\tremaining: 60.6ms\n",
      "4999:\tlearn: 0.0312412\ttotal: 1m 15s\tremaining: 0us\n",
      "fold Loss 10:  0.20484993855299904\n",
      "---------------------------------------------------------------------------\n",
      "Learning rate set to 0.002361\n",
      "0:\tlearn: 0.6904295\ttotal: 30.2ms\tremaining: 2m 30s\n",
      "999:\tlearn: 0.1531325\ttotal: 15.4s\tremaining: 1m 1s\n",
      "1998:\tlearn: 0.0952802\ttotal: 30.3s\tremaining: 45.5s\n",
      "2997:\tlearn: 0.0643182\ttotal: 45.7s\tremaining: 30.5s\n",
      "3996:\tlearn: 0.0460199\ttotal: 1m\tremaining: 15.2s\n"
     ]
    },
    {
     "name": "stderr",
     "output_type": "stream",
     "text": [
      "12it [15:20, 76.79s/it]"
     ]
    },
    {
     "name": "stdout",
     "output_type": "stream",
     "text": [
      "4995:\tlearn: 0.0344187\ttotal: 1m 16s\tremaining: 60.9ms\n",
      "4999:\tlearn: 0.0343929\ttotal: 1m 16s\tremaining: 0us\n",
      "fold Loss 11:  0.10567635270402269\n",
      "---------------------------------------------------------------------------\n",
      "Learning rate set to 0.002361\n",
      "0:\tlearn: 0.6904034\ttotal: 22.6ms\tremaining: 1m 52s\n",
      "999:\tlearn: 0.1553219\ttotal: 15s\tremaining: 1m\n",
      "1998:\tlearn: 0.0970661\ttotal: 30.4s\tremaining: 45.7s\n",
      "2997:\tlearn: 0.0659072\ttotal: 45.5s\tremaining: 30.4s\n",
      "3996:\tlearn: 0.0473857\ttotal: 1m\tremaining: 15.3s\n"
     ]
    },
    {
     "name": "stderr",
     "output_type": "stream",
     "text": [
      "13it [16:37, 76.75s/it]"
     ]
    },
    {
     "name": "stdout",
     "output_type": "stream",
     "text": [
      "4995:\tlearn: 0.0345493\ttotal: 1m 15s\tremaining: 60.7ms\n",
      "4999:\tlearn: 0.0345154\ttotal: 1m 15s\tremaining: 0us\n",
      "fold Loss 12:  0.07621977453714612\n",
      "---------------------------------------------------------------------------\n",
      "Learning rate set to 0.002361\n",
      "0:\tlearn: 0.6910000\ttotal: 31.6ms\tremaining: 2m 38s\n",
      "999:\tlearn: 0.1544178\ttotal: 15.5s\tremaining: 1m 1s\n",
      "1998:\tlearn: 0.0961689\ttotal: 30.4s\tremaining: 45.6s\n",
      "2997:\tlearn: 0.0650658\ttotal: 45.4s\tremaining: 30.3s\n",
      "3996:\tlearn: 0.0461220\ttotal: 1m\tremaining: 15.2s\n"
     ]
    },
    {
     "name": "stderr",
     "output_type": "stream",
     "text": [
      "14it [17:54, 76.70s/it]"
     ]
    },
    {
     "name": "stdout",
     "output_type": "stream",
     "text": [
      "4995:\tlearn: 0.0337291\ttotal: 1m 15s\tremaining: 60.6ms\n",
      "4999:\tlearn: 0.0336811\ttotal: 1m 15s\tremaining: 0us\n",
      "fold Loss 13:  0.12248605373236635\n",
      "---------------------------------------------------------------------------\n",
      "Learning rate set to 0.002361\n",
      "0:\tlearn: 0.6909654\ttotal: 22.1ms\tremaining: 1m 50s\n",
      "999:\tlearn: 0.1528924\ttotal: 15.4s\tremaining: 1m 1s\n",
      "1998:\tlearn: 0.0955251\ttotal: 30.5s\tremaining: 45.7s\n",
      "2997:\tlearn: 0.0651658\ttotal: 45.8s\tremaining: 30.6s\n",
      "3996:\tlearn: 0.0462879\ttotal: 1m\tremaining: 15.3s\n"
     ]
    },
    {
     "name": "stderr",
     "output_type": "stream",
     "text": [
      "15it [19:11, 76.80s/it]"
     ]
    },
    {
     "name": "stdout",
     "output_type": "stream",
     "text": [
      "4995:\tlearn: 0.0343235\ttotal: 1m 16s\tremaining: 61ms\n",
      "4999:\tlearn: 0.0342837\ttotal: 1m 16s\tremaining: 0us\n",
      "fold Loss 14:  0.11925733647010049\n",
      "---------------------------------------------------------------------------\n",
      "Learning rate set to 0.002361\n",
      "0:\tlearn: 0.6904490\ttotal: 31.3ms\tremaining: 2m 36s\n",
      "999:\tlearn: 0.1555808\ttotal: 15.1s\tremaining: 1m\n",
      "1998:\tlearn: 0.0966472\ttotal: 30.3s\tremaining: 45.5s\n",
      "2997:\tlearn: 0.0653650\ttotal: 45.3s\tremaining: 30.2s\n",
      "3996:\tlearn: 0.0468400\ttotal: 1m\tremaining: 15.2s\n"
     ]
    },
    {
     "name": "stderr",
     "output_type": "stream",
     "text": [
      "16it [20:27, 76.67s/it]"
     ]
    },
    {
     "name": "stdout",
     "output_type": "stream",
     "text": [
      "4995:\tlearn: 0.0345810\ttotal: 1m 15s\tremaining: 60.5ms\n",
      "4999:\tlearn: 0.0345298\ttotal: 1m 15s\tremaining: 0us\n",
      "fold Loss 15:  0.10780191654557976\n",
      "---------------------------------------------------------------------------\n",
      "Learning rate set to 0.002361\n",
      "0:\tlearn: 0.6904091\ttotal: 24ms\tremaining: 1m 59s\n",
      "999:\tlearn: 0.1529006\ttotal: 15.4s\tremaining: 1m 1s\n",
      "1998:\tlearn: 0.0933202\ttotal: 30.7s\tremaining: 46.1s\n",
      "2997:\tlearn: 0.0625456\ttotal: 45.7s\tremaining: 30.5s\n",
      "3996:\tlearn: 0.0431397\ttotal: 1m 1s\tremaining: 15.3s\n"
     ]
    },
    {
     "name": "stderr",
     "output_type": "stream",
     "text": [
      "17it [21:44, 76.80s/it]"
     ]
    },
    {
     "name": "stdout",
     "output_type": "stream",
     "text": [
      "4995:\tlearn: 0.0313233\ttotal: 1m 16s\tremaining: 61.1ms\n",
      "4999:\tlearn: 0.0312817\ttotal: 1m 16s\tremaining: 0us\n",
      "fold Loss 16:  0.0990376864897614\n",
      "---------------------------------------------------------------------------\n",
      "Learning rate set to 0.002361\n",
      "0:\tlearn: 0.6909577\ttotal: 31.1ms\tremaining: 2m 35s\n",
      "999:\tlearn: 0.1454169\ttotal: 15.4s\tremaining: 1m 1s\n",
      "1998:\tlearn: 0.0880309\ttotal: 30.3s\tremaining: 45.5s\n",
      "2997:\tlearn: 0.0581014\ttotal: 45.6s\tremaining: 30.5s\n",
      "3996:\tlearn: 0.0409593\ttotal: 1m\tremaining: 15.2s\n"
     ]
    },
    {
     "name": "stderr",
     "output_type": "stream",
     "text": [
      "18it [23:01, 76.82s/it]"
     ]
    },
    {
     "name": "stdout",
     "output_type": "stream",
     "text": [
      "4995:\tlearn: 0.0294865\ttotal: 1m 16s\tremaining: 60.9ms\n",
      "4999:\tlearn: 0.0294425\ttotal: 1m 16s\tremaining: 0us\n",
      "fold Loss 17:  0.3721015739520682\n",
      "---------------------------------------------------------------------------\n",
      "Learning rate set to 0.002361\n",
      "0:\tlearn: 0.6909959\ttotal: 24ms\tremaining: 1m 59s\n",
      "999:\tlearn: 0.1535415\ttotal: 15.1s\tremaining: 1m\n",
      "1998:\tlearn: 0.0948336\ttotal: 30.4s\tremaining: 45.6s\n",
      "2997:\tlearn: 0.0638719\ttotal: 45.4s\tremaining: 30.3s\n",
      "3996:\tlearn: 0.0456114\ttotal: 1m\tremaining: 15.3s\n"
     ]
    },
    {
     "name": "stderr",
     "output_type": "stream",
     "text": [
      "19it [24:18, 76.78s/it]"
     ]
    },
    {
     "name": "stdout",
     "output_type": "stream",
     "text": [
      "4995:\tlearn: 0.0343369\ttotal: 1m 15s\tremaining: 60.7ms\n",
      "4999:\tlearn: 0.0342926\ttotal: 1m 15s\tremaining: 0us\n",
      "fold Loss 18:  0.16207886785944875\n",
      "---------------------------------------------------------------------------\n",
      "Learning rate set to 0.002362\n",
      "0:\tlearn: 0.6904275\ttotal: 31.1ms\tremaining: 2m 35s\n",
      "999:\tlearn: 0.1530892\ttotal: 15.5s\tremaining: 1m 2s\n",
      "1998:\tlearn: 0.0966562\ttotal: 30.7s\tremaining: 46.1s\n",
      "2997:\tlearn: 0.0657672\ttotal: 45.6s\tremaining: 30.5s\n",
      "3996:\tlearn: 0.0474849\ttotal: 1m\tremaining: 15.3s\n"
     ]
    },
    {
     "name": "stderr",
     "output_type": "stream",
     "text": [
      "20it [25:35, 76.75s/it]"
     ]
    },
    {
     "name": "stdout",
     "output_type": "stream",
     "text": [
      "4995:\tlearn: 0.0348646\ttotal: 1m 16s\tremaining: 60.9ms\n",
      "4999:\tlearn: 0.0348041\ttotal: 1m 16s\tremaining: 0us\n",
      "fold Loss 19:  0.08541032162638855\n",
      "---------------------------------------------------------------------------\n",
      "Training Loss: 0.03731230081756446\n",
      "Loss for chloride:\n",
      "0.15321948683081382 0.08155275259138094\n",
      "==================================================================================================\n",
      "TARGET  iron_oxide\n"
     ]
    },
    {
     "name": "stderr",
     "output_type": "stream",
     "text": [
      "\n"
     ]
    },
    {
     "name": "stdout",
     "output_type": "stream",
     "text": [
      "0.5013588761864127\n"
     ]
    },
    {
     "name": "stderr",
     "output_type": "stream",
     "text": [
      "100%|██████████| 101/101 [00:00<00:00, 533532.37it/s]"
     ]
    },
    {
     "name": "stdout",
     "output_type": "stream",
     "text": [
      "10\n"
     ]
    },
    {
     "name": "stderr",
     "output_type": "stream",
     "text": [
      "\n"
     ]
    },
    {
     "name": "stdout",
     "output_type": "stream",
     "text": [
      "0.3884154337591582\n"
     ]
    },
    {
     "name": "stderr",
     "output_type": "stream",
     "text": [
      "100%|██████████| 900/900 [00:00<00:00, 921375.05it/s]"
     ]
    },
    {
     "name": "stdout",
     "output_type": "stream",
     "text": [
      "41\n"
     ]
    },
    {
     "name": "stderr",
     "output_type": "stream",
     "text": [
      "\n"
     ]
    },
    {
     "name": "stdout",
     "output_type": "stream",
     "text": [
      "0.3708356665506628\n"
     ]
    },
    {
     "name": "stderr",
     "output_type": "stream",
     "text": [
      "100%|██████████| 1200/1200 [00:00<00:00, 1444651.21it/s]\n"
     ]
    },
    {
     "name": "stdout",
     "output_type": "stream",
     "text": [
      "56\n",
      "0.3793931101996695\n"
     ]
    },
    {
     "name": "stderr",
     "output_type": "stream",
     "text": [
      "100%|██████████| 1000/1000 [00:00<00:00, 1502796.13it/s]\n"
     ]
    },
    {
     "name": "stdout",
     "output_type": "stream",
     "text": [
      "55\n",
      "(1059, 55) (1059, 10) (1059, 41) (1059, 56)\n",
      "(1059, 162)\n",
      "(804, 55) (804, 10) (804, 41) (804, 56)\n",
      "(804, 162)\n"
     ]
    },
    {
     "name": "stderr",
     "output_type": "stream",
     "text": [
      "0it [00:00, ?it/s]"
     ]
    },
    {
     "name": "stdout",
     "output_type": "stream",
     "text": [
      "Learning rate set to 0.002361\n",
      "0:\tlearn: 0.6913564\ttotal: 31.2ms\tremaining: 2m 35s\n",
      "999:\tlearn: 0.2132707\ttotal: 19s\tremaining: 1m 16s\n",
      "1998:\tlearn: 0.1352627\ttotal: 38.4s\tremaining: 57.6s\n",
      "2997:\tlearn: 0.0946957\ttotal: 57.7s\tremaining: 38.6s\n",
      "3996:\tlearn: 0.0666396\ttotal: 1m 16s\tremaining: 19.3s\n"
     ]
    },
    {
     "name": "stderr",
     "output_type": "stream",
     "text": [
      "1it [01:37, 97.06s/it]"
     ]
    },
    {
     "name": "stdout",
     "output_type": "stream",
     "text": [
      "4995:\tlearn: 0.0478285\ttotal: 1m 36s\tremaining: 77ms\n",
      "4999:\tlearn: 0.0477576\ttotal: 1m 36s\tremaining: 0us\n",
      "fold Loss 0:  0.24998314630087176\n",
      "---------------------------------------------------------------------------\n",
      "Learning rate set to 0.002361\n",
      "0:\tlearn: 0.6913620\ttotal: 40.3ms\tremaining: 3m 21s\n",
      "999:\tlearn: 0.2206748\ttotal: 19.4s\tremaining: 1m 17s\n",
      "1998:\tlearn: 0.1394973\ttotal: 38.9s\tremaining: 58.4s\n",
      "2997:\tlearn: 0.0967380\ttotal: 58.3s\tremaining: 38.9s\n",
      "3996:\tlearn: 0.0697985\ttotal: 1m 17s\tremaining: 19.4s\n"
     ]
    },
    {
     "name": "stderr",
     "output_type": "stream",
     "text": [
      "2it [03:14, 97.44s/it]"
     ]
    },
    {
     "name": "stdout",
     "output_type": "stream",
     "text": [
      "4995:\tlearn: 0.0496187\ttotal: 1m 36s\tremaining: 77.5ms\n",
      "4999:\tlearn: 0.0495470\ttotal: 1m 36s\tremaining: 0us\n",
      "fold Loss 1:  0.08846045077639755\n",
      "---------------------------------------------------------------------------\n",
      "Learning rate set to 0.002361\n",
      "0:\tlearn: 0.6912304\ttotal: 28.6ms\tremaining: 2m 22s\n",
      "999:\tlearn: 0.2120598\ttotal: 19.1s\tremaining: 1m 16s\n",
      "1998:\tlearn: 0.1346538\ttotal: 38.6s\tremaining: 57.9s\n",
      "2997:\tlearn: 0.0957963\ttotal: 57.5s\tremaining: 38.4s\n",
      "3996:\tlearn: 0.0695486\ttotal: 1m 16s\tremaining: 19.3s\n"
     ]
    },
    {
     "name": "stderr",
     "output_type": "stream",
     "text": [
      "3it [04:51, 97.29s/it]"
     ]
    },
    {
     "name": "stdout",
     "output_type": "stream",
     "text": [
      "4995:\tlearn: 0.0500010\ttotal: 1m 36s\tremaining: 77.1ms\n",
      "4999:\tlearn: 0.0499258\ttotal: 1m 36s\tremaining: 0us\n",
      "fold Loss 2:  0.26847776892608344\n",
      "---------------------------------------------------------------------------\n",
      "Learning rate set to 0.002361\n",
      "0:\tlearn: 0.6911034\ttotal: 39.6ms\tremaining: 3m 18s\n",
      "999:\tlearn: 0.2143169\ttotal: 19.2s\tremaining: 1m 16s\n",
      "1998:\tlearn: 0.1338262\ttotal: 38.6s\tremaining: 57.9s\n",
      "2997:\tlearn: 0.0905873\ttotal: 57.7s\tremaining: 38.5s\n",
      "3996:\tlearn: 0.0619322\ttotal: 1m 17s\tremaining: 19.3s\n"
     ]
    },
    {
     "name": "stderr",
     "output_type": "stream",
     "text": [
      "4it [06:29, 97.28s/it]"
     ]
    },
    {
     "name": "stdout",
     "output_type": "stream",
     "text": [
      "4995:\tlearn: 0.0437144\ttotal: 1m 36s\tremaining: 77.2ms\n",
      "4999:\tlearn: 0.0436627\ttotal: 1m 36s\tremaining: 0us\n",
      "fold Loss 3:  0.23031898060369477\n",
      "---------------------------------------------------------------------------\n",
      "Learning rate set to 0.002361\n",
      "0:\tlearn: 0.6910861\ttotal: 30ms\tremaining: 2m 29s\n",
      "999:\tlearn: 0.2133213\ttotal: 19s\tremaining: 1m 16s\n",
      "1998:\tlearn: 0.1363910\ttotal: 38.5s\tremaining: 57.9s\n",
      "2997:\tlearn: 0.0954036\ttotal: 57.5s\tremaining: 38.4s\n",
      "3996:\tlearn: 0.0701023\ttotal: 1m 16s\tremaining: 19.3s\n"
     ]
    },
    {
     "name": "stderr",
     "output_type": "stream",
     "text": [
      "5it [08:06, 97.23s/it]"
     ]
    },
    {
     "name": "stdout",
     "output_type": "stream",
     "text": [
      "4995:\tlearn: 0.0505201\ttotal: 1m 36s\tremaining: 77.1ms\n",
      "4999:\tlearn: 0.0504956\ttotal: 1m 36s\tremaining: 0us\n",
      "fold Loss 4:  0.15868299155712876\n",
      "---------------------------------------------------------------------------\n",
      "Learning rate set to 0.002361\n",
      "0:\tlearn: 0.6913045\ttotal: 39ms\tremaining: 3m 15s\n",
      "999:\tlearn: 0.2143628\ttotal: 19.2s\tremaining: 1m 16s\n",
      "1998:\tlearn: 0.1372175\ttotal: 38.8s\tremaining: 58.2s\n",
      "2997:\tlearn: 0.0975763\ttotal: 57.9s\tremaining: 38.7s\n",
      "3996:\tlearn: 0.0706786\ttotal: 1m 17s\tremaining: 19.4s\n",
      "4995:\tlearn: 0.0495502\ttotal: 1m 36s\tremaining: 77.2ms\n",
      "4999:\tlearn: 0.0495132\ttotal: 1m 36s\tremaining: 0us\n",
      "fold Loss 5:  0.2260095578759537\n"
     ]
    },
    {
     "name": "stderr",
     "output_type": "stream",
     "text": [
      "6it [09:43, 97.25s/it]"
     ]
    },
    {
     "name": "stdout",
     "output_type": "stream",
     "text": [
      "---------------------------------------------------------------------------\n",
      "Learning rate set to 0.002361\n",
      "0:\tlearn: 0.6913921\ttotal: 38.9ms\tremaining: 3m 14s\n",
      "999:\tlearn: 0.2123347\ttotal: 19.4s\tremaining: 1m 17s\n",
      "1998:\tlearn: 0.1364351\ttotal: 39.4s\tremaining: 59.1s\n",
      "2997:\tlearn: 0.0961191\ttotal: 59.1s\tremaining: 39.5s\n",
      "3996:\tlearn: 0.0697023\ttotal: 1m 18s\tremaining: 19.7s\n",
      "4995:\tlearn: 0.0501538\ttotal: 1m 37s\tremaining: 78.1ms\n",
      "4999:\tlearn: 0.0501246\ttotal: 1m 37s\tremaining: 0us\n"
     ]
    },
    {
     "name": "stderr",
     "output_type": "stream",
     "text": [
      "7it [11:22, 97.65s/it]"
     ]
    },
    {
     "name": "stdout",
     "output_type": "stream",
     "text": [
      "fold Loss 6:  0.1562838408872093\n",
      "---------------------------------------------------------------------------\n",
      "Learning rate set to 0.002361\n",
      "0:\tlearn: 0.6912027\ttotal: 58.4ms\tremaining: 4m 52s\n",
      "999:\tlearn: 0.2144523\ttotal: 19.5s\tremaining: 1m 18s\n",
      "1998:\tlearn: 0.1391932\ttotal: 38.9s\tremaining: 58.5s\n",
      "2997:\tlearn: 0.0991589\ttotal: 58.2s\tremaining: 38.8s\n",
      "3996:\tlearn: 0.0717307\ttotal: 1m 17s\tremaining: 19.4s\n"
     ]
    },
    {
     "name": "stderr",
     "output_type": "stream",
     "text": [
      "8it [12:59, 97.72s/it]"
     ]
    },
    {
     "name": "stdout",
     "output_type": "stream",
     "text": [
      "4995:\tlearn: 0.0515716\ttotal: 1m 36s\tremaining: 77.7ms\n",
      "4999:\tlearn: 0.0515131\ttotal: 1m 37s\tremaining: 0us\n",
      "fold Loss 7:  0.1673191075131075\n",
      "---------------------------------------------------------------------------\n",
      "Learning rate set to 0.002361\n",
      "0:\tlearn: 0.6913327\ttotal: 29.7ms\tremaining: 2m 28s\n",
      "999:\tlearn: 0.2144745\ttotal: 19s\tremaining: 1m 16s\n",
      "1998:\tlearn: 0.1372009\ttotal: 38.4s\tremaining: 57.7s\n",
      "2997:\tlearn: 0.0962752\ttotal: 57.5s\tremaining: 38.4s\n",
      "3996:\tlearn: 0.0702056\ttotal: 1m 16s\tremaining: 19.3s\n",
      "4995:\tlearn: 0.0498182\ttotal: 1m 36s\tremaining: 76.9ms\n",
      "4999:\tlearn: 0.0497439\ttotal: 1m 36s\tremaining: 0us\n"
     ]
    },
    {
     "name": "stderr",
     "output_type": "stream",
     "text": [
      "9it [14:36, 97.50s/it]"
     ]
    },
    {
     "name": "stdout",
     "output_type": "stream",
     "text": [
      "fold Loss 8:  0.1886316705516434\n",
      "---------------------------------------------------------------------------\n",
      "Learning rate set to 0.002361\n",
      "0:\tlearn: 0.6912345\ttotal: 57ms\tremaining: 4m 45s\n",
      "999:\tlearn: 0.2136594\ttotal: 19.3s\tremaining: 1m 17s\n",
      "1998:\tlearn: 0.1362616\ttotal: 38.7s\tremaining: 58.1s\n",
      "2997:\tlearn: 0.0953752\ttotal: 57.7s\tremaining: 38.6s\n",
      "3996:\tlearn: 0.0690131\ttotal: 1m 17s\tremaining: 19.3s\n"
     ]
    },
    {
     "name": "stderr",
     "output_type": "stream",
     "text": [
      "10it [16:14, 97.58s/it]"
     ]
    },
    {
     "name": "stdout",
     "output_type": "stream",
     "text": [
      "4995:\tlearn: 0.0496400\ttotal: 1m 36s\tremaining: 77.6ms\n",
      "4999:\tlearn: 0.0495920\ttotal: 1m 36s\tremaining: 0us\n",
      "fold Loss 9:  0.15550654050379564\n",
      "---------------------------------------------------------------------------\n",
      "Learning rate set to 0.002361\n",
      "0:\tlearn: 0.6912442\ttotal: 29ms\tremaining: 2m 25s\n",
      "999:\tlearn: 0.2102854\ttotal: 19.1s\tremaining: 1m 16s\n",
      "1998:\tlearn: 0.1322158\ttotal: 38.6s\tremaining: 58s\n",
      "2997:\tlearn: 0.0928230\ttotal: 57.7s\tremaining: 38.5s\n",
      "3996:\tlearn: 0.0667169\ttotal: 1m 17s\tremaining: 19.4s\n"
     ]
    },
    {
     "name": "stderr",
     "output_type": "stream",
     "text": [
      "11it [17:52, 97.56s/it]"
     ]
    },
    {
     "name": "stdout",
     "output_type": "stream",
     "text": [
      "4995:\tlearn: 0.0473013\ttotal: 1m 36s\tremaining: 77.4ms\n",
      "4999:\tlearn: 0.0472597\ttotal: 1m 36s\tremaining: 0us\n",
      "fold Loss 10:  0.2674291906341804\n",
      "---------------------------------------------------------------------------\n",
      "Learning rate set to 0.002361\n",
      "0:\tlearn: 0.6913555\ttotal: 38.1ms\tremaining: 3m 10s\n",
      "999:\tlearn: 0.2108522\ttotal: 19.2s\tremaining: 1m 16s\n",
      "1998:\tlearn: 0.1317500\ttotal: 38.6s\tremaining: 58s\n",
      "2997:\tlearn: 0.0901588\ttotal: 57.8s\tremaining: 38.6s\n",
      "3996:\tlearn: 0.0639279\ttotal: 1m 17s\tremaining: 19.4s\n"
     ]
    },
    {
     "name": "stderr",
     "output_type": "stream",
     "text": [
      "12it [19:29, 97.57s/it]"
     ]
    },
    {
     "name": "stdout",
     "output_type": "stream",
     "text": [
      "4995:\tlearn: 0.0454836\ttotal: 1m 36s\tremaining: 77.5ms\n",
      "4999:\tlearn: 0.0454093\ttotal: 1m 36s\tremaining: 0us\n",
      "fold Loss 11:  0.26869345926505306\n",
      "---------------------------------------------------------------------------\n",
      "Learning rate set to 0.002361\n",
      "0:\tlearn: 0.6911318\ttotal: 29.2ms\tremaining: 2m 25s\n",
      "999:\tlearn: 0.2132487\ttotal: 19.1s\tremaining: 1m 16s\n",
      "1998:\tlearn: 0.1355101\ttotal: 38.6s\tremaining: 58s\n",
      "2997:\tlearn: 0.0950941\ttotal: 57.6s\tremaining: 38.5s\n",
      "3996:\tlearn: 0.0678778\ttotal: 1m 17s\tremaining: 19.3s\n"
     ]
    },
    {
     "name": "stderr",
     "output_type": "stream",
     "text": [
      "13it [21:07, 97.56s/it]"
     ]
    },
    {
     "name": "stdout",
     "output_type": "stream",
     "text": [
      "4995:\tlearn: 0.0479589\ttotal: 1m 36s\tremaining: 77.4ms\n",
      "4999:\tlearn: 0.0479048\ttotal: 1m 36s\tremaining: 0us\n",
      "fold Loss 12:  0.20280897180395455\n",
      "---------------------------------------------------------------------------\n",
      "Learning rate set to 0.002361\n",
      "0:\tlearn: 0.6913747\ttotal: 40.8ms\tremaining: 3m 24s\n",
      "999:\tlearn: 0.2184356\ttotal: 19.2s\tremaining: 1m 16s\n",
      "1998:\tlearn: 0.1395839\ttotal: 38.6s\tremaining: 58s\n",
      "2997:\tlearn: 0.0983007\ttotal: 57.9s\tremaining: 38.7s\n",
      "3996:\tlearn: 0.0710056\ttotal: 1m 17s\tremaining: 19.4s\n",
      "4995:\tlearn: 0.0508250\ttotal: 1m 36s\tremaining: 77.4ms\n",
      "4999:\tlearn: 0.0507769\ttotal: 1m 36s\tremaining: 0us\n",
      "fold Loss 13:  0.13561954635334242\n"
     ]
    },
    {
     "name": "stderr",
     "output_type": "stream",
     "text": [
      "14it [22:44, 97.55s/it]"
     ]
    },
    {
     "name": "stdout",
     "output_type": "stream",
     "text": [
      "---------------------------------------------------------------------------\n",
      "Learning rate set to 0.002361\n",
      "0:\tlearn: 0.6912893\ttotal: 30.3ms\tremaining: 2m 31s\n",
      "999:\tlearn: 0.2101190\ttotal: 19.1s\tremaining: 1m 16s\n",
      "1998:\tlearn: 0.1334909\ttotal: 38.6s\tremaining: 58s\n",
      "2997:\tlearn: 0.0940943\ttotal: 58.1s\tremaining: 38.8s\n",
      "3996:\tlearn: 0.0670627\ttotal: 1m 17s\tremaining: 19.4s\n"
     ]
    },
    {
     "name": "stderr",
     "output_type": "stream",
     "text": [
      "15it [24:22, 97.55s/it]"
     ]
    },
    {
     "name": "stdout",
     "output_type": "stream",
     "text": [
      "4995:\tlearn: 0.0468291\ttotal: 1m 36s\tremaining: 77.4ms\n",
      "4999:\tlearn: 0.0467763\ttotal: 1m 36s\tremaining: 0us\n",
      "fold Loss 14:  0.3006768668920249\n",
      "---------------------------------------------------------------------------\n",
      "Learning rate set to 0.002361\n",
      "0:\tlearn: 0.6911823\ttotal: 38.7ms\tremaining: 3m 13s\n",
      "999:\tlearn: 0.2145990\ttotal: 19.2s\tremaining: 1m 16s\n",
      "1998:\tlearn: 0.1373466\ttotal: 38.6s\tremaining: 58s\n",
      "2997:\tlearn: 0.0950119\ttotal: 58.3s\tremaining: 38.9s\n",
      "3996:\tlearn: 0.0689302\ttotal: 1m 17s\tremaining: 19.4s\n"
     ]
    },
    {
     "name": "stderr",
     "output_type": "stream",
     "text": [
      "16it [26:00, 97.61s/it]"
     ]
    },
    {
     "name": "stdout",
     "output_type": "stream",
     "text": [
      "4995:\tlearn: 0.0493351\ttotal: 1m 36s\tremaining: 77.6ms\n",
      "4999:\tlearn: 0.0492865\ttotal: 1m 36s\tremaining: 0us\n",
      "fold Loss 15:  0.16686435867892951\n",
      "---------------------------------------------------------------------------\n",
      "Learning rate set to 0.002361\n",
      "0:\tlearn: 0.6911883\ttotal: 29ms\tremaining: 2m 24s\n",
      "999:\tlearn: 0.2133563\ttotal: 19.3s\tremaining: 1m 17s\n",
      "1998:\tlearn: 0.1358662\ttotal: 38.8s\tremaining: 58.2s\n",
      "2997:\tlearn: 0.0964252\ttotal: 58.2s\tremaining: 38.9s\n",
      "3996:\tlearn: 0.0705724\ttotal: 1m 17s\tremaining: 19.4s\n"
     ]
    },
    {
     "name": "stderr",
     "output_type": "stream",
     "text": [
      "17it [27:37, 97.66s/it]"
     ]
    },
    {
     "name": "stdout",
     "output_type": "stream",
     "text": [
      "4995:\tlearn: 0.0507864\ttotal: 1m 36s\tremaining: 77.6ms\n",
      "4999:\tlearn: 0.0507299\ttotal: 1m 36s\tremaining: 0us\n",
      "fold Loss 16:  0.20393502073073155\n",
      "---------------------------------------------------------------------------\n",
      "Learning rate set to 0.002361\n",
      "0:\tlearn: 0.6914029\ttotal: 38.9ms\tremaining: 3m 14s\n",
      "999:\tlearn: 0.2121532\ttotal: 19.3s\tremaining: 1m 17s\n",
      "1998:\tlearn: 0.1352427\ttotal: 38.6s\tremaining: 58s\n",
      "2997:\tlearn: 0.0953565\ttotal: 58s\tremaining: 38.7s\n",
      "3996:\tlearn: 0.0683127\ttotal: 1m 17s\tremaining: 19.4s\n"
     ]
    },
    {
     "name": "stderr",
     "output_type": "stream",
     "text": [
      "18it [29:15, 97.61s/it]"
     ]
    },
    {
     "name": "stdout",
     "output_type": "stream",
     "text": [
      "4995:\tlearn: 0.0485832\ttotal: 1m 36s\tremaining: 77.4ms\n",
      "4999:\tlearn: 0.0485424\ttotal: 1m 36s\tremaining: 0us\n",
      "fold Loss 17:  0.209944807608149\n",
      "---------------------------------------------------------------------------\n",
      "Learning rate set to 0.002361\n",
      "0:\tlearn: 0.6911796\ttotal: 29.7ms\tremaining: 2m 28s\n",
      "999:\tlearn: 0.2152738\ttotal: 19.1s\tremaining: 1m 16s\n",
      "1998:\tlearn: 0.1370216\ttotal: 38.6s\tremaining: 58s\n",
      "2997:\tlearn: 0.0966816\ttotal: 57.7s\tremaining: 38.5s\n",
      "3996:\tlearn: 0.0694947\ttotal: 1m 17s\tremaining: 19.4s\n"
     ]
    },
    {
     "name": "stderr",
     "output_type": "stream",
     "text": [
      "19it [30:52, 97.59s/it]"
     ]
    },
    {
     "name": "stdout",
     "output_type": "stream",
     "text": [
      "4995:\tlearn: 0.0493063\ttotal: 1m 36s\tremaining: 77.4ms\n",
      "4999:\tlearn: 0.0492480\ttotal: 1m 36s\tremaining: 0us\n",
      "fold Loss 18:  0.18681756071908717\n",
      "---------------------------------------------------------------------------\n",
      "Learning rate set to 0.002362\n",
      "0:\tlearn: 0.6913518\ttotal: 38.1ms\tremaining: 3m 10s\n",
      "999:\tlearn: 0.2143244\ttotal: 19.3s\tremaining: 1m 17s\n",
      "1998:\tlearn: 0.1354931\ttotal: 38.7s\tremaining: 58.1s\n",
      "2997:\tlearn: 0.0945370\ttotal: 57.9s\tremaining: 38.7s\n",
      "3996:\tlearn: 0.0699946\ttotal: 1m 17s\tremaining: 19.4s\n"
     ]
    },
    {
     "name": "stderr",
     "output_type": "stream",
     "text": [
      "20it [32:30, 97.53s/it]"
     ]
    },
    {
     "name": "stdout",
     "output_type": "stream",
     "text": [
      "4995:\tlearn: 0.0511583\ttotal: 1m 36s\tremaining: 77.4ms\n",
      "4999:\tlearn: 0.0511073\ttotal: 1m 36s\tremaining: 0us\n",
      "fold Loss 19:  0.11879845236792562\n",
      "---------------------------------------------------------------------------\n",
      "Training Loss: 0.054462096486644705\n",
      "Loss for iron_oxide:\n",
      "0.1975631145274632 0.054513566987796094\n",
      "==================================================================================================\n",
      "TARGET  oxalate\n"
     ]
    },
    {
     "name": "stderr",
     "output_type": "stream",
     "text": [
      "\n"
     ]
    },
    {
     "name": "stdout",
     "output_type": "stream",
     "text": [
      "0.04098231285444448\n"
     ]
    },
    {
     "name": "stderr",
     "output_type": "stream",
     "text": [
      "100%|██████████| 101/101 [00:00<00:00, 342738.43it/s]"
     ]
    },
    {
     "name": "stdout",
     "output_type": "stream",
     "text": [
      "6\n"
     ]
    },
    {
     "name": "stderr",
     "output_type": "stream",
     "text": [
      "\n"
     ]
    },
    {
     "name": "stdout",
     "output_type": "stream",
     "text": [
      "0.008339087265469062\n"
     ]
    },
    {
     "name": "stderr",
     "output_type": "stream",
     "text": [
      "100%|██████████| 900/900 [00:00<00:00, 685966.49it/s]"
     ]
    },
    {
     "name": "stdout",
     "output_type": "stream",
     "text": [
      "9\n"
     ]
    },
    {
     "name": "stderr",
     "output_type": "stream",
     "text": [
      "\n"
     ]
    },
    {
     "name": "stdout",
     "output_type": "stream",
     "text": [
      "0.007093259303694364\n"
     ]
    },
    {
     "name": "stderr",
     "output_type": "stream",
     "text": [
      "100%|██████████| 1200/1200 [00:00<00:00, 926065.28it/s]"
     ]
    },
    {
     "name": "stdout",
     "output_type": "stream",
     "text": [
      "11\n"
     ]
    },
    {
     "name": "stderr",
     "output_type": "stream",
     "text": [
      "\n"
     ]
    },
    {
     "name": "stdout",
     "output_type": "stream",
     "text": [
      "0.007081817567352181\n"
     ]
    },
    {
     "name": "stderr",
     "output_type": "stream",
     "text": [
      "100%|██████████| 1000/1000 [00:00<00:00, 602456.77it/s]\n"
     ]
    },
    {
     "name": "stdout",
     "output_type": "stream",
     "text": [
      "11\n",
      "(1059, 11) (1059, 6) (1059, 9) (1059, 11)\n",
      "(1059, 37)\n",
      "(804, 11) (804, 6) (804, 9) (804, 11)\n",
      "(804, 37)\n"
     ]
    },
    {
     "name": "stderr",
     "output_type": "stream",
     "text": [
      "0it [00:00, ?it/s]"
     ]
    },
    {
     "name": "stdout",
     "output_type": "stream",
     "text": [
      "Learning rate set to 0.002361\n",
      "0:\tlearn: 0.6872943\ttotal: 6ms\tremaining: 30s\n",
      "999:\tlearn: 0.0060152\ttotal: 5.08s\tremaining: 20.3s\n",
      "1998:\tlearn: 0.0019377\ttotal: 10.3s\tremaining: 15.5s\n",
      "2997:\tlearn: 0.0011318\ttotal: 15.4s\tremaining: 10.3s\n",
      "3996:\tlearn: 0.0008078\ttotal: 20.8s\tremaining: 5.21s\n"
     ]
    },
    {
     "name": "stderr",
     "output_type": "stream",
     "text": [
      "1it [00:26, 26.53s/it]"
     ]
    },
    {
     "name": "stdout",
     "output_type": "stream",
     "text": [
      "4995:\tlearn: 0.0006375\ttotal: 25.9s\tremaining: 20.7ms\n",
      "4999:\tlearn: 0.0006370\ttotal: 25.9s\tremaining: 0us\n",
      "fold Loss 0:  0.0005026184299718241\n",
      "---------------------------------------------------------------------------\n",
      "Learning rate set to 0.002361\n",
      "0:\tlearn: 0.6866557\ttotal: 5.15ms\tremaining: 25.7s\n",
      "999:\tlearn: 0.0060406\ttotal: 5.06s\tremaining: 20.3s\n",
      "1998:\tlearn: 0.0019423\ttotal: 10.2s\tremaining: 15.3s\n",
      "2997:\tlearn: 0.0011303\ttotal: 15.3s\tremaining: 10.2s\n",
      "3996:\tlearn: 0.0008121\ttotal: 20.5s\tremaining: 5.13s\n"
     ]
    },
    {
     "name": "stderr",
     "output_type": "stream",
     "text": [
      "2it [00:53, 26.54s/it]"
     ]
    },
    {
     "name": "stdout",
     "output_type": "stream",
     "text": [
      "4995:\tlearn: 0.0006410\ttotal: 25.9s\tremaining: 20.7ms\n",
      "4999:\tlearn: 0.0006405\ttotal: 25.9s\tremaining: 0us\n",
      "fold Loss 1:  0.000690750864109389\n",
      "---------------------------------------------------------------------------\n",
      "Learning rate set to 0.002361\n",
      "0:\tlearn: 0.6876505\ttotal: 5.39ms\tremaining: 27s\n",
      "999:\tlearn: 0.0059913\ttotal: 5.16s\tremaining: 20.6s\n",
      "1998:\tlearn: 0.0019148\ttotal: 10.3s\tremaining: 15.4s\n",
      "2997:\tlearn: 0.0011204\ttotal: 15.4s\tremaining: 10.3s\n",
      "3996:\tlearn: 0.0008199\ttotal: 20.6s\tremaining: 5.16s\n"
     ]
    },
    {
     "name": "stderr",
     "output_type": "stream",
     "text": [
      "3it [01:19, 26.48s/it]"
     ]
    },
    {
     "name": "stdout",
     "output_type": "stream",
     "text": [
      "4995:\tlearn: 0.0006489\ttotal: 25.7s\tremaining: 20.6ms\n",
      "4999:\tlearn: 0.0006484\ttotal: 25.7s\tremaining: 0us\n",
      "fold Loss 2:  0.0014370917109903195\n",
      "---------------------------------------------------------------------------\n",
      "Learning rate set to 0.002361\n",
      "0:\tlearn: 0.6866517\ttotal: 5.41ms\tremaining: 27.1s\n",
      "999:\tlearn: 0.0060599\ttotal: 5.1s\tremaining: 20.4s\n",
      "1998:\tlearn: 0.0019217\ttotal: 10.6s\tremaining: 15.9s\n",
      "2997:\tlearn: 0.0011235\ttotal: 15.8s\tremaining: 10.5s\n",
      "3996:\tlearn: 0.0008071\ttotal: 20.9s\tremaining: 5.24s\n"
     ]
    },
    {
     "name": "stderr",
     "output_type": "stream",
     "text": [
      "4it [01:46, 26.57s/it]"
     ]
    },
    {
     "name": "stdout",
     "output_type": "stream",
     "text": [
      "4995:\tlearn: 0.0006368\ttotal: 26s\tremaining: 20.8ms\n",
      "4999:\tlearn: 0.0006363\ttotal: 26.1s\tremaining: 0us\n",
      "fold Loss 3:  0.0005706612347939331\n",
      "---------------------------------------------------------------------------\n",
      "Learning rate set to 0.002361\n",
      "0:\tlearn: 0.6877512\ttotal: 5.33ms\tremaining: 26.6s\n",
      "999:\tlearn: 0.0060137\ttotal: 5.13s\tremaining: 20.5s\n",
      "1998:\tlearn: 0.0019377\ttotal: 10.2s\tremaining: 15.3s\n",
      "2997:\tlearn: 0.0011323\ttotal: 15.6s\tremaining: 10.4s\n",
      "3996:\tlearn: 0.0008057\ttotal: 20.8s\tremaining: 5.22s\n"
     ]
    },
    {
     "name": "stderr",
     "output_type": "stream",
     "text": [
      "5it [02:12, 26.63s/it]"
     ]
    },
    {
     "name": "stdout",
     "output_type": "stream",
     "text": [
      "4995:\tlearn: 0.0006463\ttotal: 26s\tremaining: 20.9ms\n",
      "4999:\tlearn: 0.0006456\ttotal: 26.1s\tremaining: 0us\n",
      "fold Loss 4:  0.001762012457961598\n",
      "---------------------------------------------------------------------------\n",
      "Learning rate set to 0.002361\n",
      "0:\tlearn: 0.6867549\ttotal: 6.51ms\tremaining: 32.6s\n",
      "999:\tlearn: 0.0060089\ttotal: 5.18s\tremaining: 20.7s\n",
      "1998:\tlearn: 0.0019192\ttotal: 10.3s\tremaining: 15.5s\n",
      "2997:\tlearn: 0.0011116\ttotal: 15.4s\tremaining: 10.3s\n",
      "3996:\tlearn: 0.0008002\ttotal: 20.8s\tremaining: 5.21s\n"
     ]
    },
    {
     "name": "stderr",
     "output_type": "stream",
     "text": [
      "6it [02:39, 26.60s/it]"
     ]
    },
    {
     "name": "stdout",
     "output_type": "stream",
     "text": [
      "4995:\tlearn: 0.0006327\ttotal: 25.9s\tremaining: 20.7ms\n",
      "4999:\tlearn: 0.0006321\ttotal: 25.9s\tremaining: 0us\n",
      "fold Loss 5:  0.0022306803702815737\n",
      "---------------------------------------------------------------------------\n",
      "Learning rate set to 0.002361\n",
      "0:\tlearn: 0.6876476\ttotal: 6.09ms\tremaining: 30.4s\n",
      "999:\tlearn: 0.0060075\ttotal: 5.13s\tremaining: 20.5s\n",
      "1998:\tlearn: 0.0019161\ttotal: 10.3s\tremaining: 15.4s\n",
      "2997:\tlearn: 0.0011212\ttotal: 15.4s\tremaining: 10.3s\n",
      "3996:\tlearn: 0.0008170\ttotal: 20.4s\tremaining: 5.13s\n"
     ]
    },
    {
     "name": "stderr",
     "output_type": "stream",
     "text": [
      "7it [03:05, 26.55s/it]"
     ]
    },
    {
     "name": "stdout",
     "output_type": "stream",
     "text": [
      "4995:\tlearn: 0.0006549\ttotal: 25.7s\tremaining: 20.6ms\n",
      "4999:\tlearn: 0.0006544\ttotal: 25.8s\tremaining: 0us\n",
      "fold Loss 6:  0.0007042041801750296\n",
      "---------------------------------------------------------------------------\n",
      "Learning rate set to 0.002361\n",
      "0:\tlearn: 0.6878410\ttotal: 5.25ms\tremaining: 26.3s\n",
      "999:\tlearn: 0.0059730\ttotal: 5.08s\tremaining: 20.3s\n",
      "1998:\tlearn: 0.0019533\ttotal: 10.2s\tremaining: 15.3s\n",
      "2997:\tlearn: 0.0011490\ttotal: 15.4s\tremaining: 10.3s\n",
      "3996:\tlearn: 0.0008366\ttotal: 20.5s\tremaining: 5.14s\n"
     ]
    },
    {
     "name": "stderr",
     "output_type": "stream",
     "text": [
      "8it [03:32, 26.47s/it]"
     ]
    },
    {
     "name": "stdout",
     "output_type": "stream",
     "text": [
      "4995:\tlearn: 0.0006612\ttotal: 25.6s\tremaining: 20.5ms\n",
      "4999:\tlearn: 0.0006606\ttotal: 25.6s\tremaining: 0us\n",
      "fold Loss 7:  0.0004212510123582828\n",
      "---------------------------------------------------------------------------\n",
      "Learning rate set to 0.002361\n",
      "0:\tlearn: 0.6872613\ttotal: 5.59ms\tremaining: 28s\n",
      "999:\tlearn: 0.0060588\ttotal: 5.37s\tremaining: 21.5s\n",
      "1998:\tlearn: 0.0019133\ttotal: 10.5s\tremaining: 15.7s\n",
      "2997:\tlearn: 0.0011117\ttotal: 15.6s\tremaining: 10.4s\n",
      "3996:\tlearn: 0.0008041\ttotal: 20.8s\tremaining: 5.22s\n"
     ]
    },
    {
     "name": "stderr",
     "output_type": "stream",
     "text": [
      "9it [03:58, 26.54s/it]"
     ]
    },
    {
     "name": "stdout",
     "output_type": "stream",
     "text": [
      "4995:\tlearn: 0.0006317\ttotal: 26s\tremaining: 20.8ms\n",
      "4999:\tlearn: 0.0006312\ttotal: 26s\tremaining: 0us\n",
      "fold Loss 8:  0.0015055688136216777\n",
      "---------------------------------------------------------------------------\n",
      "Learning rate set to 0.002361\n",
      "0:\tlearn: 0.6877355\ttotal: 5.43ms\tremaining: 27.2s\n",
      "999:\tlearn: 0.0054963\ttotal: 5.26s\tremaining: 21s\n",
      "1998:\tlearn: 0.0016901\ttotal: 10.6s\tremaining: 15.9s\n",
      "2997:\tlearn: 0.0009445\ttotal: 15.7s\tremaining: 10.5s\n",
      "3996:\tlearn: 0.0006472\ttotal: 20.8s\tremaining: 5.22s\n"
     ]
    },
    {
     "name": "stderr",
     "output_type": "stream",
     "text": [
      "10it [04:25, 26.62s/it]"
     ]
    },
    {
     "name": "stdout",
     "output_type": "stream",
     "text": [
      "4995:\tlearn: 0.0004944\ttotal: 26.1s\tremaining: 20.9ms\n",
      "4999:\tlearn: 0.0004939\ttotal: 26.1s\tremaining: 0us\n",
      "fold Loss 9:  0.050409818532735226\n",
      "---------------------------------------------------------------------------\n",
      "Learning rate set to 0.002361\n",
      "0:\tlearn: 0.6866294\ttotal: 5.84ms\tremaining: 29.2s\n",
      "999:\tlearn: 0.0059632\ttotal: 5.05s\tremaining: 20.2s\n",
      "1998:\tlearn: 0.0019093\ttotal: 10.2s\tremaining: 15.3s\n",
      "2997:\tlearn: 0.0011183\ttotal: 15.5s\tremaining: 10.3s\n",
      "3996:\tlearn: 0.0008036\ttotal: 20.6s\tremaining: 5.16s\n"
     ]
    },
    {
     "name": "stderr",
     "output_type": "stream",
     "text": [
      "11it [04:52, 26.54s/it]"
     ]
    },
    {
     "name": "stdout",
     "output_type": "stream",
     "text": [
      "4995:\tlearn: 0.0006323\ttotal: 25.7s\tremaining: 20.6ms\n",
      "4999:\tlearn: 0.0006317\ttotal: 25.7s\tremaining: 0us\n",
      "fold Loss 10:  0.0020369488357183103\n",
      "---------------------------------------------------------------------------\n",
      "Learning rate set to 0.002361\n",
      "0:\tlearn: 0.6877281\ttotal: 6.56ms\tremaining: 32.8s\n",
      "999:\tlearn: 0.0059020\ttotal: 5.24s\tremaining: 21s\n",
      "1998:\tlearn: 0.0018744\ttotal: 10.3s\tremaining: 15.5s\n",
      "2997:\tlearn: 0.0010566\ttotal: 15.5s\tremaining: 10.3s\n",
      "3996:\tlearn: 0.0007296\ttotal: 20.7s\tremaining: 5.19s\n"
     ]
    },
    {
     "name": "stderr",
     "output_type": "stream",
     "text": [
      "12it [05:18, 26.59s/it]"
     ]
    },
    {
     "name": "stdout",
     "output_type": "stream",
     "text": [
      "4995:\tlearn: 0.0005669\ttotal: 26s\tremaining: 20.8ms\n",
      "4999:\tlearn: 0.0005664\ttotal: 26s\tremaining: 0us\n",
      "fold Loss 11:  0.0103653004017458\n",
      "---------------------------------------------------------------------------\n",
      "Learning rate set to 0.002361\n",
      "0:\tlearn: 0.6877288\ttotal: 5.47ms\tremaining: 27.4s\n",
      "999:\tlearn: 0.0060481\ttotal: 5.14s\tremaining: 20.6s\n",
      "1998:\tlearn: 0.0019348\ttotal: 10.3s\tremaining: 15.5s\n",
      "2997:\tlearn: 0.0011265\ttotal: 15.4s\tremaining: 10.3s\n",
      "3996:\tlearn: 0.0008166\ttotal: 20.4s\tremaining: 5.12s\n"
     ]
    },
    {
     "name": "stderr",
     "output_type": "stream",
     "text": [
      "13it [05:44, 26.45s/it]"
     ]
    },
    {
     "name": "stdout",
     "output_type": "stream",
     "text": [
      "4995:\tlearn: 0.0006419\ttotal: 25.5s\tremaining: 20.4ms\n",
      "4999:\tlearn: 0.0006414\ttotal: 25.5s\tremaining: 0us\n",
      "fold Loss 12:  0.0007044286669877155\n",
      "---------------------------------------------------------------------------\n",
      "Learning rate set to 0.002361\n",
      "0:\tlearn: 0.6878025\ttotal: 9.06ms\tremaining: 45.3s\n",
      "999:\tlearn: 0.0059353\ttotal: 5.32s\tremaining: 21.3s\n",
      "1998:\tlearn: 0.0018972\ttotal: 10.4s\tremaining: 15.7s\n",
      "2997:\tlearn: 0.0011094\ttotal: 15.6s\tremaining: 10.4s\n",
      "3996:\tlearn: 0.0007967\ttotal: 20.8s\tremaining: 5.22s\n"
     ]
    },
    {
     "name": "stderr",
     "output_type": "stream",
     "text": [
      "14it [06:11, 26.49s/it]"
     ]
    },
    {
     "name": "stdout",
     "output_type": "stream",
     "text": [
      "4995:\tlearn: 0.0006307\ttotal: 25.9s\tremaining: 20.8ms\n",
      "4999:\tlearn: 0.0006302\ttotal: 25.9s\tremaining: 0us\n",
      "fold Loss 13:  0.0012524783232674007\n",
      "---------------------------------------------------------------------------\n",
      "Learning rate set to 0.002361\n",
      "0:\tlearn: 0.6867178\ttotal: 5.38ms\tremaining: 26.9s\n",
      "999:\tlearn: 0.0060804\ttotal: 5.11s\tremaining: 20.4s\n",
      "1998:\tlearn: 0.0019745\ttotal: 10.5s\tremaining: 15.7s\n",
      "2997:\tlearn: 0.0011523\ttotal: 15.6s\tremaining: 10.4s\n",
      "3996:\tlearn: 0.0008366\ttotal: 20.8s\tremaining: 5.21s\n"
     ]
    },
    {
     "name": "stderr",
     "output_type": "stream",
     "text": [
      "15it [06:38, 26.54s/it]"
     ]
    },
    {
     "name": "stdout",
     "output_type": "stream",
     "text": [
      "4995:\tlearn: 0.0006679\ttotal: 26s\tremaining: 20.8ms\n",
      "4999:\tlearn: 0.0006673\ttotal: 26s\tremaining: 0us\n",
      "fold Loss 14:  0.0011887134699817882\n",
      "---------------------------------------------------------------------------\n",
      "Learning rate set to 0.002361\n",
      "0:\tlearn: 0.6872978\ttotal: 5.51ms\tremaining: 27.5s\n",
      "999:\tlearn: 0.0059621\ttotal: 5.09s\tremaining: 20.4s\n",
      "1998:\tlearn: 0.0019032\ttotal: 10.2s\tremaining: 15.3s\n",
      "2997:\tlearn: 0.0010942\ttotal: 15.6s\tremaining: 10.4s\n",
      "3996:\tlearn: 0.0007817\ttotal: 20.7s\tremaining: 5.19s\n"
     ]
    },
    {
     "name": "stderr",
     "output_type": "stream",
     "text": [
      "16it [07:04, 26.53s/it]"
     ]
    },
    {
     "name": "stdout",
     "output_type": "stream",
     "text": [
      "4995:\tlearn: 0.0006019\ttotal: 25.8s\tremaining: 20.7ms\n",
      "4999:\tlearn: 0.0006013\ttotal: 25.8s\tremaining: 0us\n",
      "fold Loss 15:  0.012924616095977677\n",
      "---------------------------------------------------------------------------\n",
      "Learning rate set to 0.002361\n",
      "0:\tlearn: 0.6867016\ttotal: 5.26ms\tremaining: 26.3s\n",
      "999:\tlearn: 0.0059247\ttotal: 5.16s\tremaining: 20.6s\n",
      "1998:\tlearn: 0.0018746\ttotal: 10.3s\tremaining: 15.4s\n",
      "2997:\tlearn: 0.0010766\ttotal: 15.5s\tremaining: 10.3s\n",
      "3996:\tlearn: 0.0007723\ttotal: 20.9s\tremaining: 5.24s\n"
     ]
    },
    {
     "name": "stderr",
     "output_type": "stream",
     "text": [
      "17it [07:31, 26.58s/it]"
     ]
    },
    {
     "name": "stdout",
     "output_type": "stream",
     "text": [
      "4995:\tlearn: 0.0006082\ttotal: 26s\tremaining: 20.8ms\n",
      "4999:\tlearn: 0.0006077\ttotal: 26s\tremaining: 0us\n",
      "fold Loss 16:  0.022891056133427595\n",
      "---------------------------------------------------------------------------\n",
      "Learning rate set to 0.002361\n",
      "0:\tlearn: 0.6872867\ttotal: 6.76ms\tremaining: 33.8s\n",
      "999:\tlearn: 0.0060007\ttotal: 5.17s\tremaining: 20.7s\n",
      "1998:\tlearn: 0.0019440\ttotal: 10.4s\tremaining: 15.6s\n",
      "2997:\tlearn: 0.0011325\ttotal: 15.6s\tremaining: 10.4s\n",
      "3996:\tlearn: 0.0008152\ttotal: 20.7s\tremaining: 5.21s\n"
     ]
    },
    {
     "name": "stderr",
     "output_type": "stream",
     "text": [
      "18it [07:58, 26.65s/it]"
     ]
    },
    {
     "name": "stdout",
     "output_type": "stream",
     "text": [
      "4995:\tlearn: 0.0006443\ttotal: 26.1s\tremaining: 20.9ms\n",
      "4999:\tlearn: 0.0006438\ttotal: 26.1s\tremaining: 0us\n",
      "fold Loss 17:  0.0010727278334141973\n",
      "---------------------------------------------------------------------------\n",
      "Learning rate set to 0.002361\n",
      "0:\tlearn: 0.6877224\ttotal: 5.67ms\tremaining: 28.3s\n",
      "999:\tlearn: 0.0060814\ttotal: 5.15s\tremaining: 20.6s\n",
      "1998:\tlearn: 0.0019471\ttotal: 10.3s\tremaining: 15.4s\n",
      "2997:\tlearn: 0.0011310\ttotal: 15.4s\tremaining: 10.3s\n",
      "3996:\tlearn: 0.0008146\ttotal: 20.6s\tremaining: 5.16s\n"
     ]
    },
    {
     "name": "stderr",
     "output_type": "stream",
     "text": [
      "19it [08:24, 26.57s/it]"
     ]
    },
    {
     "name": "stdout",
     "output_type": "stream",
     "text": [
      "4995:\tlearn: 0.0006435\ttotal: 25.7s\tremaining: 20.6ms\n",
      "4999:\tlearn: 0.0006430\ttotal: 25.7s\tremaining: 0us\n",
      "fold Loss 18:  0.001454622863269852\n",
      "---------------------------------------------------------------------------\n",
      "Learning rate set to 0.002362\n",
      "0:\tlearn: 0.6867399\ttotal: 5.29ms\tremaining: 26.4s\n",
      "999:\tlearn: 0.0059354\ttotal: 5.4s\tremaining: 21.6s\n",
      "1998:\tlearn: 0.0019076\ttotal: 10.5s\tremaining: 15.8s\n",
      "2997:\tlearn: 0.0011099\ttotal: 15.8s\tremaining: 10.5s\n",
      "3996:\tlearn: 0.0007985\ttotal: 20.9s\tremaining: 5.25s\n"
     ]
    },
    {
     "name": "stderr",
     "output_type": "stream",
     "text": [
      "20it [08:51, 26.57s/it]"
     ]
    },
    {
     "name": "stdout",
     "output_type": "stream",
     "text": [
      "4995:\tlearn: 0.0006368\ttotal: 26.1s\tremaining: 20.9ms\n",
      "4999:\tlearn: 0.0006364\ttotal: 26.1s\tremaining: 0us\n",
      "fold Loss 19:  0.0010019959793185359\n",
      "---------------------------------------------------------------------------\n",
      "Training Loss: 0.0006565142262490046\n",
      "Loss for oxalate:\n",
      "0.005756377310505385 0.011625310683831937\n",
      "==================================================================================================\n",
      "TARGET  oxychlorine\n"
     ]
    },
    {
     "name": "stderr",
     "output_type": "stream",
     "text": [
      "\n"
     ]
    },
    {
     "name": "stdout",
     "output_type": "stream",
     "text": [
      "0.382511409463831\n"
     ]
    },
    {
     "name": "stderr",
     "output_type": "stream",
     "text": [
      "100%|██████████| 101/101 [00:00<00:00, 339171.10it/s]"
     ]
    },
    {
     "name": "stdout",
     "output_type": "stream",
     "text": [
      "10\n"
     ]
    },
    {
     "name": "stderr",
     "output_type": "stream",
     "text": [
      "\n"
     ]
    },
    {
     "name": "stdout",
     "output_type": "stream",
     "text": [
      "0.2749441915768136\n"
     ]
    },
    {
     "name": "stderr",
     "output_type": "stream",
     "text": [
      "100%|██████████| 900/900 [00:00<00:00, 737568.11it/s]\n"
     ]
    },
    {
     "name": "stdout",
     "output_type": "stream",
     "text": [
      "40\n",
      "0.2569030463379292\n"
     ]
    },
    {
     "name": "stderr",
     "output_type": "stream",
     "text": [
      "100%|██████████| 1200/1200 [00:00<00:00, 811408.16it/s]"
     ]
    },
    {
     "name": "stdout",
     "output_type": "stream",
     "text": [
      "49\n"
     ]
    },
    {
     "name": "stderr",
     "output_type": "stream",
     "text": [
      "\n"
     ]
    },
    {
     "name": "stdout",
     "output_type": "stream",
     "text": [
      "0.25765035863572877\n"
     ]
    },
    {
     "name": "stderr",
     "output_type": "stream",
     "text": [
      "100%|██████████| 1000/1000 [00:00<00:00, 770303.76it/s]"
     ]
    },
    {
     "name": "stdout",
     "output_type": "stream",
     "text": [
      "50\n",
      "(1059, 50) (1059, 10) (1059, 40) (1059, 49)\n",
      "(1059, 149)\n",
      "(804, 50) (804, 10) (804, 40) "
     ]
    },
    {
     "name": "stderr",
     "output_type": "stream",
     "text": [
      "\n"
     ]
    },
    {
     "name": "stdout",
     "output_type": "stream",
     "text": [
      "(804, 49)\n",
      "(804, 149)\n"
     ]
    },
    {
     "name": "stderr",
     "output_type": "stream",
     "text": [
      "0it [00:00, ?it/s]"
     ]
    },
    {
     "name": "stdout",
     "output_type": "stream",
     "text": [
      "Learning rate set to 0.002361\n",
      "0:\tlearn: 0.6902921\ttotal: 31.8ms\tremaining: 2m 38s\n",
      "999:\tlearn: 0.1328362\ttotal: 17.2s\tremaining: 1m 8s\n",
      "1998:\tlearn: 0.0774275\ttotal: 34.7s\tremaining: 52.2s\n",
      "2997:\tlearn: 0.0521108\ttotal: 51.9s\tremaining: 34.7s\n",
      "3996:\tlearn: 0.0360478\ttotal: 1m 9s\tremaining: 17.5s\n"
     ]
    },
    {
     "name": "stderr",
     "output_type": "stream",
     "text": [
      "1it [01:27, 87.95s/it]"
     ]
    },
    {
     "name": "stdout",
     "output_type": "stream",
     "text": [
      "4995:\tlearn: 0.0259234\ttotal: 1m 27s\tremaining: 69.7ms\n",
      "4999:\tlearn: 0.0258958\ttotal: 1m 27s\tremaining: 0us\n",
      "fold Loss 0:  0.08624957085023979\n",
      "---------------------------------------------------------------------------\n",
      "Learning rate set to 0.002361\n",
      "0:\tlearn: 0.6902122\ttotal: 35.4ms\tremaining: 2m 57s\n",
      "999:\tlearn: 0.1316335\ttotal: 17.6s\tremaining: 1m 10s\n",
      "1998:\tlearn: 0.0762695\ttotal: 34.7s\tremaining: 52.1s\n",
      "2997:\tlearn: 0.0512177\ttotal: 52.3s\tremaining: 34.9s\n",
      "3996:\tlearn: 0.0356416\ttotal: 1m 9s\tremaining: 17.4s\n"
     ]
    },
    {
     "name": "stderr",
     "output_type": "stream",
     "text": [
      "2it [02:55, 87.93s/it]"
     ]
    },
    {
     "name": "stdout",
     "output_type": "stream",
     "text": [
      "4995:\tlearn: 0.0252949\ttotal: 1m 27s\tremaining: 69.7ms\n",
      "4999:\tlearn: 0.0252683\ttotal: 1m 27s\tremaining: 0us\n",
      "fold Loss 1:  0.1637177942025786\n",
      "---------------------------------------------------------------------------\n",
      "Learning rate set to 0.002361\n",
      "0:\tlearn: 0.6900534\ttotal: 26.3ms\tremaining: 2m 11s\n",
      "999:\tlearn: 0.1261875\ttotal: 17.2s\tremaining: 1m 8s\n",
      "1998:\tlearn: 0.0714173\ttotal: 34.8s\tremaining: 52.2s\n",
      "2997:\tlearn: 0.0473668\ttotal: 52.2s\tremaining: 34.9s\n",
      "3996:\tlearn: 0.0326626\ttotal: 1m 9s\tremaining: 17.4s\n"
     ]
    },
    {
     "name": "stderr",
     "output_type": "stream",
     "text": [
      "3it [04:23, 87.88s/it]"
     ]
    },
    {
     "name": "stdout",
     "output_type": "stream",
     "text": [
      "4995:\tlearn: 0.0231587\ttotal: 1m 26s\tremaining: 69.6ms\n",
      "4999:\tlearn: 0.0231187\ttotal: 1m 27s\tremaining: 0us\n",
      "fold Loss 2:  0.22480745846495917\n",
      "---------------------------------------------------------------------------\n",
      "Learning rate set to 0.002361\n",
      "0:\tlearn: 0.6902412\ttotal: 40.2ms\tremaining: 3m 21s\n",
      "999:\tlearn: 0.1304050\ttotal: 17.5s\tremaining: 1m 10s\n",
      "1998:\tlearn: 0.0733474\ttotal: 35s\tremaining: 52.5s\n",
      "2997:\tlearn: 0.0483958\ttotal: 52.2s\tremaining: 34.9s\n",
      "3996:\tlearn: 0.0332776\ttotal: 1m 9s\tremaining: 17.5s\n"
     ]
    },
    {
     "name": "stderr",
     "output_type": "stream",
     "text": [
      "4it [05:51, 87.85s/it]"
     ]
    },
    {
     "name": "stdout",
     "output_type": "stream",
     "text": [
      "4995:\tlearn: 0.0234926\ttotal: 1m 26s\tremaining: 69.6ms\n",
      "4999:\tlearn: 0.0234541\ttotal: 1m 27s\tremaining: 0us\n",
      "fold Loss 3:  0.1577286038122449\n",
      "---------------------------------------------------------------------------\n",
      "Learning rate set to 0.002361\n",
      "0:\tlearn: 0.6901036\ttotal: 26.4ms\tremaining: 2m 12s\n",
      "999:\tlearn: 0.1322140\ttotal: 17.5s\tremaining: 1m 10s\n",
      "1998:\tlearn: 0.0755374\ttotal: 34.8s\tremaining: 52.3s\n",
      "2997:\tlearn: 0.0499279\ttotal: 52.5s\tremaining: 35s\n",
      "3996:\tlearn: 0.0349084\ttotal: 1m 9s\tremaining: 17.5s\n"
     ]
    },
    {
     "name": "stderr",
     "output_type": "stream",
     "text": [
      "5it [07:19, 87.90s/it]"
     ]
    },
    {
     "name": "stdout",
     "output_type": "stream",
     "text": [
      "4995:\tlearn: 0.0249735\ttotal: 1m 27s\tremaining: 69.8ms\n",
      "4999:\tlearn: 0.0249365\ttotal: 1m 27s\tremaining: 0us\n",
      "fold Loss 4:  0.08435151327618066\n",
      "---------------------------------------------------------------------------\n",
      "Learning rate set to 0.002361\n",
      "0:\tlearn: 0.6903320\ttotal: 34.7ms\tremaining: 2m 53s\n",
      "999:\tlearn: 0.1241362\ttotal: 17.3s\tremaining: 1m 9s\n",
      "1998:\tlearn: 0.0686787\ttotal: 34.8s\tremaining: 52.2s\n",
      "2997:\tlearn: 0.0431596\ttotal: 52.4s\tremaining: 35s\n",
      "3996:\tlearn: 0.0288457\ttotal: 1m 9s\tremaining: 17.5s\n"
     ]
    },
    {
     "name": "stderr",
     "output_type": "stream",
     "text": [
      "6it [08:47, 87.97s/it]"
     ]
    },
    {
     "name": "stdout",
     "output_type": "stream",
     "text": [
      "4995:\tlearn: 0.0203368\ttotal: 1m 27s\tremaining: 69.9ms\n",
      "4999:\tlearn: 0.0203208\ttotal: 1m 27s\tremaining: 0us\n",
      "fold Loss 5:  0.3865622125854759\n",
      "---------------------------------------------------------------------------\n",
      "Learning rate set to 0.002361\n",
      "0:\tlearn: 0.6903139\ttotal: 34.9ms\tremaining: 2m 54s\n",
      "999:\tlearn: 0.1290207\ttotal: 17.3s\tremaining: 1m 9s\n",
      "1998:\tlearn: 0.0727869\ttotal: 34.9s\tremaining: 52.4s\n",
      "2997:\tlearn: 0.0476383\ttotal: 52.1s\tremaining: 34.8s\n",
      "3996:\tlearn: 0.0325942\ttotal: 1m 9s\tremaining: 17.5s\n"
     ]
    },
    {
     "name": "stderr",
     "output_type": "stream",
     "text": [
      "7it [10:15, 87.92s/it]"
     ]
    },
    {
     "name": "stdout",
     "output_type": "stream",
     "text": [
      "4995:\tlearn: 0.0231707\ttotal: 1m 27s\tremaining: 69.7ms\n",
      "4999:\tlearn: 0.0231276\ttotal: 1m 27s\tremaining: 0us\n",
      "fold Loss 6:  0.17904271663700624\n",
      "---------------------------------------------------------------------------\n",
      "Learning rate set to 0.002361\n",
      "0:\tlearn: 0.6903671\ttotal: 35.7ms\tremaining: 2m 58s\n",
      "999:\tlearn: 0.1296127\ttotal: 17.7s\tremaining: 1m 10s\n",
      "1998:\tlearn: 0.0749744\ttotal: 34.8s\tremaining: 52.3s\n",
      "2997:\tlearn: 0.0496052\ttotal: 52.5s\tremaining: 35s\n",
      "3996:\tlearn: 0.0338932\ttotal: 1m 9s\tremaining: 17.5s\n"
     ]
    },
    {
     "name": "stderr",
     "output_type": "stream",
     "text": [
      "8it [11:43, 87.99s/it]"
     ]
    },
    {
     "name": "stdout",
     "output_type": "stream",
     "text": [
      "4995:\tlearn: 0.0237208\ttotal: 1m 27s\tremaining: 69.9ms\n",
      "4999:\tlearn: 0.0236806\ttotal: 1m 27s\tremaining: 0us\n",
      "fold Loss 7:  0.17937653695818184\n",
      "---------------------------------------------------------------------------\n",
      "Learning rate set to 0.002361\n",
      "0:\tlearn: 0.6904298\ttotal: 27ms\tremaining: 2m 15s\n",
      "999:\tlearn: 0.1335137\ttotal: 17.3s\tremaining: 1m 9s\n",
      "1998:\tlearn: 0.0777143\ttotal: 34.8s\tremaining: 52.3s\n",
      "2997:\tlearn: 0.0525985\ttotal: 52.3s\tremaining: 34.9s\n",
      "3996:\tlearn: 0.0369715\ttotal: 1m 9s\tremaining: 17.4s\n"
     ]
    },
    {
     "name": "stderr",
     "output_type": "stream",
     "text": [
      "9it [13:11, 87.95s/it]"
     ]
    },
    {
     "name": "stdout",
     "output_type": "stream",
     "text": [
      "4995:\tlearn: 0.0266131\ttotal: 1m 27s\tremaining: 69.7ms\n",
      "4999:\tlearn: 0.0265873\ttotal: 1m 27s\tremaining: 0us\n",
      "fold Loss 8:  0.0647972306866171\n",
      "---------------------------------------------------------------------------\n",
      "Learning rate set to 0.002361\n",
      "0:\tlearn: 0.6900075\ttotal: 30.4ms\tremaining: 2m 32s\n",
      "999:\tlearn: 0.1270101\ttotal: 17.4s\tremaining: 1m 9s\n",
      "1998:\tlearn: 0.0741221\ttotal: 34.8s\tremaining: 52.3s\n",
      "2997:\tlearn: 0.0499657\ttotal: 52.2s\tremaining: 34.8s\n",
      "3996:\tlearn: 0.0348807\ttotal: 1m 9s\tremaining: 17.5s\n"
     ]
    },
    {
     "name": "stderr",
     "output_type": "stream",
     "text": [
      "10it [14:39, 87.95s/it]"
     ]
    },
    {
     "name": "stdout",
     "output_type": "stream",
     "text": [
      "4995:\tlearn: 0.0250788\ttotal: 1m 27s\tremaining: 69.8ms\n",
      "4999:\tlearn: 0.0250390\ttotal: 1m 27s\tremaining: 0us\n",
      "fold Loss 9:  0.15191072304722006\n",
      "---------------------------------------------------------------------------\n",
      "Learning rate set to 0.002361\n",
      "0:\tlearn: 0.6900458\ttotal: 27.2ms\tremaining: 2m 15s\n",
      "999:\tlearn: 0.1363587\ttotal: 17.6s\tremaining: 1m 10s\n",
      "1998:\tlearn: 0.0776704\ttotal: 35s\tremaining: 52.5s\n",
      "2997:\tlearn: 0.0513129\ttotal: 52.5s\tremaining: 35s\n",
      "3996:\tlearn: 0.0355394\ttotal: 1m 9s\tremaining: 17.5s\n"
     ]
    },
    {
     "name": "stderr",
     "output_type": "stream",
     "text": [
      "11it [16:07, 88.01s/it]"
     ]
    },
    {
     "name": "stdout",
     "output_type": "stream",
     "text": [
      "4995:\tlearn: 0.0251028\ttotal: 1m 27s\tremaining: 69.9ms\n",
      "4999:\tlearn: 0.0250595\ttotal: 1m 27s\tremaining: 0us\n",
      "fold Loss 10:  0.07484181952361084\n",
      "---------------------------------------------------------------------------\n",
      "Learning rate set to 0.002361\n",
      "0:\tlearn: 0.6901025\ttotal: 35.2ms\tremaining: 2m 56s\n",
      "999:\tlearn: 0.1314079\ttotal: 17.7s\tremaining: 1m 10s\n",
      "1998:\tlearn: 0.0760010\ttotal: 34.8s\tremaining: 52.3s\n",
      "2997:\tlearn: 0.0511413\ttotal: 52.4s\tremaining: 35s\n",
      "3996:\tlearn: 0.0353439\ttotal: 1m 9s\tremaining: 17.5s\n"
     ]
    },
    {
     "name": "stderr",
     "output_type": "stream",
     "text": [
      "12it [17:35, 88.08s/it]"
     ]
    },
    {
     "name": "stdout",
     "output_type": "stream",
     "text": [
      "4995:\tlearn: 0.0249879\ttotal: 1m 27s\tremaining: 70ms\n",
      "4999:\tlearn: 0.0249570\ttotal: 1m 27s\tremaining: 0us\n",
      "fold Loss 11:  0.08411820824010492\n",
      "---------------------------------------------------------------------------\n",
      "Learning rate set to 0.002361\n",
      "0:\tlearn: 0.6903295\ttotal: 26.7ms\tremaining: 2m 13s\n",
      "999:\tlearn: 0.1335397\ttotal: 17.3s\tremaining: 1m 9s\n",
      "1998:\tlearn: 0.0776273\ttotal: 35s\tremaining: 52.5s\n",
      "2997:\tlearn: 0.0526856\ttotal: 52.4s\tremaining: 35s\n",
      "3996:\tlearn: 0.0371228\ttotal: 1m 9s\tremaining: 17.5s\n"
     ]
    },
    {
     "name": "stderr",
     "output_type": "stream",
     "text": [
      "13it [19:03, 88.03s/it]"
     ]
    },
    {
     "name": "stdout",
     "output_type": "stream",
     "text": [
      "4995:\tlearn: 0.0259561\ttotal: 1m 27s\tremaining: 69.7ms\n",
      "4999:\tlearn: 0.0259207\ttotal: 1m 27s\tremaining: 0us\n",
      "fold Loss 12:  0.05995540824056672\n",
      "---------------------------------------------------------------------------\n",
      "Learning rate set to 0.002361\n",
      "0:\tlearn: 0.6903774\ttotal: 35.2ms\tremaining: 2m 55s\n",
      "999:\tlearn: 0.1290304\ttotal: 17.8s\tremaining: 1m 11s\n",
      "1998:\tlearn: 0.0729428\ttotal: 34.9s\tremaining: 52.4s\n",
      "2997:\tlearn: 0.0476397\ttotal: 52.5s\tremaining: 35.1s\n",
      "3996:\tlearn: 0.0324441\ttotal: 1m 9s\tremaining: 17.5s\n"
     ]
    },
    {
     "name": "stderr",
     "output_type": "stream",
     "text": [
      "14it [20:32, 88.15s/it]"
     ]
    },
    {
     "name": "stdout",
     "output_type": "stream",
     "text": [
      "4995:\tlearn: 0.0230135\ttotal: 1m 27s\tremaining: 70.1ms\n",
      "4999:\tlearn: 0.0229770\ttotal: 1m 27s\tremaining: 0us\n",
      "fold Loss 13:  0.21678248793159513\n",
      "---------------------------------------------------------------------------\n",
      "Learning rate set to 0.002361\n",
      "0:\tlearn: 0.6903054\ttotal: 26.5ms\tremaining: 2m 12s\n",
      "999:\tlearn: 0.1298875\ttotal: 17.7s\tremaining: 1m 10s\n",
      "1998:\tlearn: 0.0755754\ttotal: 34.9s\tremaining: 52.4s\n",
      "2997:\tlearn: 0.0510712\ttotal: 52.4s\tremaining: 35s\n",
      "3996:\tlearn: 0.0358813\ttotal: 1m 9s\tremaining: 17.5s\n"
     ]
    },
    {
     "name": "stderr",
     "output_type": "stream",
     "text": [
      "15it [22:00, 88.12s/it]"
     ]
    },
    {
     "name": "stdout",
     "output_type": "stream",
     "text": [
      "4995:\tlearn: 0.0261311\ttotal: 1m 27s\tremaining: 69.8ms\n",
      "4999:\tlearn: 0.0261133\ttotal: 1m 27s\tremaining: 0us\n",
      "fold Loss 14:  0.16444769149099614\n",
      "---------------------------------------------------------------------------\n",
      "Learning rate set to 0.002361\n",
      "0:\tlearn: 0.6904822\ttotal: 35.3ms\tremaining: 2m 56s\n",
      "999:\tlearn: 0.1281601\ttotal: 17.5s\tremaining: 1m 9s\n",
      "1998:\tlearn: 0.0731130\ttotal: 35s\tremaining: 52.6s\n",
      "2997:\tlearn: 0.0479673\ttotal: 52.3s\tremaining: 34.9s\n",
      "3996:\tlearn: 0.0332913\ttotal: 1m 9s\tremaining: 17.5s\n"
     ]
    },
    {
     "name": "stderr",
     "output_type": "stream",
     "text": [
      "16it [23:28, 88.09s/it]"
     ]
    },
    {
     "name": "stdout",
     "output_type": "stream",
     "text": [
      "4995:\tlearn: 0.0247727\ttotal: 1m 27s\tremaining: 69.8ms\n",
      "4999:\tlearn: 0.0247500\ttotal: 1m 27s\tremaining: 0us\n",
      "fold Loss 15:  0.21497318473403865\n",
      "---------------------------------------------------------------------------\n",
      "Learning rate set to 0.002361\n",
      "0:\tlearn: 0.6900097\ttotal: 26.9ms\tremaining: 2m 14s\n",
      "999:\tlearn: 0.1340346\ttotal: 17.7s\tremaining: 1m 10s\n",
      "1998:\tlearn: 0.0782493\ttotal: 35s\tremaining: 52.5s\n",
      "2997:\tlearn: 0.0530916\ttotal: 52.6s\tremaining: 35.1s\n",
      "3996:\tlearn: 0.0376189\ttotal: 1m 10s\tremaining: 17.6s\n"
     ]
    },
    {
     "name": "stderr",
     "output_type": "stream",
     "text": [
      "17it [24:56, 88.12s/it]"
     ]
    },
    {
     "name": "stdout",
     "output_type": "stream",
     "text": [
      "4995:\tlearn: 0.0271849\ttotal: 1m 27s\tremaining: 69.9ms\n",
      "4999:\tlearn: 0.0271652\ttotal: 1m 27s\tremaining: 0us\n",
      "fold Loss 16:  0.042661398424974836\n",
      "---------------------------------------------------------------------------\n",
      "Learning rate set to 0.002361\n",
      "0:\tlearn: 0.6902495\ttotal: 34.9ms\tremaining: 2m 54s\n",
      "999:\tlearn: 0.1303062\ttotal: 17.9s\tremaining: 1m 11s\n",
      "1998:\tlearn: 0.0728673\ttotal: 35.2s\tremaining: 52.8s\n",
      "2997:\tlearn: 0.0478598\ttotal: 52.7s\tremaining: 35.2s\n",
      "3996:\tlearn: 0.0326566\ttotal: 1m 10s\tremaining: 17.6s\n"
     ]
    },
    {
     "name": "stderr",
     "output_type": "stream",
     "text": [
      "18it [26:24, 88.24s/it]"
     ]
    },
    {
     "name": "stdout",
     "output_type": "stream",
     "text": [
      "4995:\tlearn: 0.0227852\ttotal: 1m 27s\tremaining: 70.2ms\n",
      "4999:\tlearn: 0.0227562\ttotal: 1m 27s\tremaining: 0us\n",
      "fold Loss 17:  0.20959625882456598\n",
      "---------------------------------------------------------------------------\n",
      "Learning rate set to 0.002361\n",
      "0:\tlearn: 0.6902692\ttotal: 26.6ms\tremaining: 2m 12s\n",
      "999:\tlearn: 0.1347509\ttotal: 17.3s\tremaining: 1m 9s\n",
      "1998:\tlearn: 0.0786432\ttotal: 34.9s\tremaining: 52.5s\n",
      "2997:\tlearn: 0.0531672\ttotal: 52.2s\tremaining: 34.8s\n",
      "3996:\tlearn: 0.0369559\ttotal: 1m 9s\tremaining: 17.5s\n"
     ]
    },
    {
     "name": "stderr",
     "output_type": "stream",
     "text": [
      "19it [27:52, 88.11s/it]"
     ]
    },
    {
     "name": "stdout",
     "output_type": "stream",
     "text": [
      "4995:\tlearn: 0.0266061\ttotal: 1m 26s\tremaining: 69.6ms\n",
      "4999:\tlearn: 0.0265732\ttotal: 1m 27s\tremaining: 0us\n",
      "fold Loss 18:  0.028169727527687462\n",
      "---------------------------------------------------------------------------\n",
      "Learning rate set to 0.002362\n",
      "0:\tlearn: 0.6902252\ttotal: 35.2ms\tremaining: 2m 55s\n",
      "999:\tlearn: 0.1323319\ttotal: 17.7s\tremaining: 1m 10s\n",
      "1998:\tlearn: 0.0764050\ttotal: 35.2s\tremaining: 52.8s\n",
      "2997:\tlearn: 0.0503933\ttotal: 52.4s\tremaining: 35s\n",
      "3996:\tlearn: 0.0342654\ttotal: 1m 10s\tremaining: 17.6s\n"
     ]
    },
    {
     "name": "stderr",
     "output_type": "stream",
     "text": [
      "20it [29:20, 88.05s/it]"
     ]
    },
    {
     "name": "stdout",
     "output_type": "stream",
     "text": [
      "4995:\tlearn: 0.0241448\ttotal: 1m 27s\tremaining: 70ms\n",
      "4999:\tlearn: 0.0241212\ttotal: 1m 27s\tremaining: 0us\n",
      "fold Loss 19:  0.061188156337369376\n",
      "---------------------------------------------------------------------------\n",
      "Training Loss: 0.025960359335041983\n",
      "Loss for oxychlorine:\n",
      "0.14176393508981072 0.08443439609457837\n",
      "==================================================================================================\n",
      "TARGET  phyllosilicate\n"
     ]
    },
    {
     "name": "stderr",
     "output_type": "stream",
     "text": [
      "\n"
     ]
    },
    {
     "name": "stdout",
     "output_type": "stream",
     "text": [
      "0.5248676641602135\n"
     ]
    },
    {
     "name": "stderr",
     "output_type": "stream",
     "text": [
      "100%|██████████| 101/101 [00:00<00:00, 159018.28it/s]"
     ]
    },
    {
     "name": "stdout",
     "output_type": "stream",
     "text": [
      "10\n"
     ]
    },
    {
     "name": "stderr",
     "output_type": "stream",
     "text": [
      "\n"
     ]
    },
    {
     "name": "stdout",
     "output_type": "stream",
     "text": [
      "0.44169857483350794\n"
     ]
    },
    {
     "name": "stderr",
     "output_type": "stream",
     "text": [
      "100%|██████████| 900/900 [00:00<00:00, 756639.33it/s]"
     ]
    },
    {
     "name": "stdout",
     "output_type": "stream",
     "text": [
      "46\n"
     ]
    },
    {
     "name": "stderr",
     "output_type": "stream",
     "text": [
      "\n"
     ]
    },
    {
     "name": "stdout",
     "output_type": "stream",
     "text": [
      "0.4334480806487001\n"
     ]
    },
    {
     "name": "stderr",
     "output_type": "stream",
     "text": [
      "100%|██████████| 1200/1200 [00:00<00:00, 1584250.80it/s]\n"
     ]
    },
    {
     "name": "stdout",
     "output_type": "stream",
     "text": [
      "57\n",
      "0.43266894298556535\n"
     ]
    },
    {
     "name": "stderr",
     "output_type": "stream",
     "text": [
      "100%|██████████| 1000/1000 [00:00<00:00, 1362671.86it/s]\n"
     ]
    },
    {
     "name": "stdout",
     "output_type": "stream",
     "text": [
      "55\n",
      "(1059, 55) (1059, 10) (1059, 46) (1059, 57)\n",
      "(1059, 168)\n",
      "(804, 55) (804, 10) (804, 46) (804, 57)\n",
      "(804, 168)\n"
     ]
    },
    {
     "name": "stderr",
     "output_type": "stream",
     "text": [
      "0it [00:00, ?it/s]"
     ]
    },
    {
     "name": "stdout",
     "output_type": "stream",
     "text": [
      "Learning rate set to 0.002361\n",
      "0:\tlearn: 0.6912103\ttotal: 38.4ms\tremaining: 3m 11s\n",
      "999:\tlearn: 0.2292356\ttotal: 19.8s\tremaining: 1m 19s\n",
      "1998:\tlearn: 0.1459969\ttotal: 39.7s\tremaining: 59.7s\n",
      "2997:\tlearn: 0.0999759\ttotal: 59.6s\tremaining: 39.8s\n",
      "3996:\tlearn: 0.0698720\ttotal: 1m 19s\tremaining: 19.9s\n"
     ]
    },
    {
     "name": "stderr",
     "output_type": "stream",
     "text": [
      "1it [01:40, 100.02s/it]"
     ]
    },
    {
     "name": "stdout",
     "output_type": "stream",
     "text": [
      "4995:\tlearn: 0.0489449\ttotal: 1m 39s\tremaining: 79.4ms\n",
      "4999:\tlearn: 0.0488511\ttotal: 1m 39s\tremaining: 0us\n",
      "fold Loss 0:  0.12425668593954606\n",
      "---------------------------------------------------------------------------\n",
      "Learning rate set to 0.002361\n",
      "0:\tlearn: 0.6914960\ttotal: 30.4ms\tremaining: 2m 31s\n",
      "999:\tlearn: 0.2279397\ttotal: 19.5s\tremaining: 1m 18s\n",
      "1998:\tlearn: 0.1425874\ttotal: 39.5s\tremaining: 59.2s\n",
      "2997:\tlearn: 0.0963602\ttotal: 59.3s\tremaining: 39.6s\n",
      "3996:\tlearn: 0.0667806\ttotal: 1m 19s\tremaining: 19.9s\n"
     ]
    },
    {
     "name": "stderr",
     "output_type": "stream",
     "text": [
      "2it [03:19, 99.97s/it] "
     ]
    },
    {
     "name": "stdout",
     "output_type": "stream",
     "text": [
      "4995:\tlearn: 0.0464675\ttotal: 1m 39s\tremaining: 79.3ms\n",
      "4999:\tlearn: 0.0464200\ttotal: 1m 39s\tremaining: 0us\n",
      "fold Loss 1:  0.21395290528888883\n",
      "---------------------------------------------------------------------------\n",
      "Learning rate set to 0.002361\n",
      "0:\tlearn: 0.6912119\ttotal: 42.9ms\tremaining: 3m 34s\n",
      "999:\tlearn: 0.2319986\ttotal: 19.9s\tremaining: 1m 19s\n",
      "1998:\tlearn: 0.1467435\ttotal: 39.8s\tremaining: 59.7s\n",
      "2997:\tlearn: 0.0993501\ttotal: 59.8s\tremaining: 39.9s\n",
      "3996:\tlearn: 0.0692243\ttotal: 1m 19s\tremaining: 19.9s\n"
     ]
    },
    {
     "name": "stderr",
     "output_type": "stream",
     "text": [
      "3it [05:00, 100.23s/it]"
     ]
    },
    {
     "name": "stdout",
     "output_type": "stream",
     "text": [
      "4995:\tlearn: 0.0482618\ttotal: 1m 39s\tremaining: 79.8ms\n",
      "4999:\tlearn: 0.0481860\ttotal: 1m 39s\tremaining: 0us\n",
      "fold Loss 2:  0.11883276852906893\n",
      "---------------------------------------------------------------------------\n",
      "Learning rate set to 0.002361\n",
      "0:\tlearn: 0.6914003\ttotal: 30.6ms\tremaining: 2m 33s\n",
      "999:\tlearn: 0.2277956\ttotal: 19.7s\tremaining: 1m 18s\n",
      "1998:\tlearn: 0.1423706\ttotal: 39.8s\tremaining: 59.7s\n",
      "2997:\tlearn: 0.0973229\ttotal: 59.8s\tremaining: 39.9s\n",
      "3996:\tlearn: 0.0674905\ttotal: 1m 19s\tremaining: 20s\n"
     ]
    },
    {
     "name": "stderr",
     "output_type": "stream",
     "text": [
      "4it [06:41, 100.42s/it]"
     ]
    },
    {
     "name": "stdout",
     "output_type": "stream",
     "text": [
      "4995:\tlearn: 0.0471330\ttotal: 1m 39s\tremaining: 80ms\n",
      "4999:\tlearn: 0.0470671\ttotal: 1m 39s\tremaining: 0us\n",
      "fold Loss 3:  0.25244126666589967\n",
      "---------------------------------------------------------------------------\n",
      "Learning rate set to 0.002361\n",
      "0:\tlearn: 0.6915684\ttotal: 40.9ms\tremaining: 3m 24s\n",
      "999:\tlearn: 0.2268939\ttotal: 19.7s\tremaining: 1m 18s\n",
      "1998:\tlearn: 0.1407869\ttotal: 39.6s\tremaining: 59.5s\n",
      "2997:\tlearn: 0.0952403\ttotal: 59.8s\tremaining: 39.9s\n",
      "3996:\tlearn: 0.0665602\ttotal: 1m 19s\tremaining: 19.9s\n"
     ]
    },
    {
     "name": "stderr",
     "output_type": "stream",
     "text": [
      "5it [08:21, 100.35s/it]"
     ]
    },
    {
     "name": "stdout",
     "output_type": "stream",
     "text": [
      "4995:\tlearn: 0.0475122\ttotal: 1m 39s\tremaining: 79.6ms\n",
      "4999:\tlearn: 0.0474494\ttotal: 1m 39s\tremaining: 0us\n",
      "fold Loss 4:  0.22963190678323298\n",
      "---------------------------------------------------------------------------\n",
      "Learning rate set to 0.002361\n",
      "0:\tlearn: 0.6915100\ttotal: 30.1ms\tremaining: 2m 30s\n",
      "999:\tlearn: 0.2313059\ttotal: 19.8s\tremaining: 1m 19s\n",
      "1998:\tlearn: 0.1452181\ttotal: 39.6s\tremaining: 59.5s\n",
      "2997:\tlearn: 0.0982602\ttotal: 59.7s\tremaining: 39.8s\n",
      "3996:\tlearn: 0.0694461\ttotal: 1m 19s\tremaining: 20s\n"
     ]
    },
    {
     "name": "stderr",
     "output_type": "stream",
     "text": [
      "6it [10:01, 100.30s/it]"
     ]
    },
    {
     "name": "stdout",
     "output_type": "stream",
     "text": [
      "4995:\tlearn: 0.0488325\ttotal: 1m 39s\tremaining: 79.5ms\n",
      "4999:\tlearn: 0.0487401\ttotal: 1m 39s\tremaining: 0us\n",
      "fold Loss 5:  0.1329022429889283\n",
      "---------------------------------------------------------------------------\n",
      "Learning rate set to 0.002361\n",
      "0:\tlearn: 0.6915086\ttotal: 39.4ms\tremaining: 3m 16s\n",
      "999:\tlearn: 0.2256338\ttotal: 20.1s\tremaining: 1m 20s\n",
      "1998:\tlearn: 0.1422052\ttotal: 39.8s\tremaining: 59.8s\n",
      "2997:\tlearn: 0.0962112\ttotal: 59.7s\tremaining: 39.9s\n",
      "3996:\tlearn: 0.0664660\ttotal: 1m 19s\tremaining: 19.9s\n"
     ]
    },
    {
     "name": "stderr",
     "output_type": "stream",
     "text": [
      "7it [11:42, 100.34s/it]"
     ]
    },
    {
     "name": "stdout",
     "output_type": "stream",
     "text": [
      "4995:\tlearn: 0.0471276\ttotal: 1m 39s\tremaining: 79.7ms\n",
      "4999:\tlearn: 0.0470550\ttotal: 1m 39s\tremaining: 0us\n",
      "fold Loss 6:  0.24396452291288237\n",
      "---------------------------------------------------------------------------\n",
      "Learning rate set to 0.002361\n",
      "0:\tlearn: 0.6914946\ttotal: 30.6ms\tremaining: 2m 33s\n",
      "999:\tlearn: 0.2283556\ttotal: 19.9s\tremaining: 1m 19s\n",
      "1998:\tlearn: 0.1429339\ttotal: 39.5s\tremaining: 59.3s\n",
      "2997:\tlearn: 0.0999300\ttotal: 59.5s\tremaining: 39.7s\n",
      "3996:\tlearn: 0.0726068\ttotal: 1m 19s\tremaining: 19.8s\n"
     ]
    },
    {
     "name": "stderr",
     "output_type": "stream",
     "text": [
      "8it [13:21, 100.20s/it]"
     ]
    },
    {
     "name": "stdout",
     "output_type": "stream",
     "text": [
      "4995:\tlearn: 0.0510032\ttotal: 1m 39s\tremaining: 79.3ms\n",
      "4999:\tlearn: 0.0509137\ttotal: 1m 39s\tremaining: 0us\n",
      "fold Loss 7:  0.17859594022970915\n",
      "---------------------------------------------------------------------------\n",
      "Learning rate set to 0.002361\n",
      "0:\tlearn: 0.6912311\ttotal: 40.2ms\tremaining: 3m 20s\n",
      "999:\tlearn: 0.2272594\ttotal: 20.1s\tremaining: 1m 20s\n",
      "1998:\tlearn: 0.1432176\ttotal: 39.7s\tremaining: 59.5s\n",
      "2997:\tlearn: 0.0985394\ttotal: 59.6s\tremaining: 39.8s\n",
      "3996:\tlearn: 0.0691525\ttotal: 1m 19s\tremaining: 19.9s\n"
     ]
    },
    {
     "name": "stderr",
     "output_type": "stream",
     "text": [
      "9it [15:02, 100.17s/it]"
     ]
    },
    {
     "name": "stdout",
     "output_type": "stream",
     "text": [
      "4995:\tlearn: 0.0490244\ttotal: 1m 39s\tremaining: 79.5ms\n",
      "4999:\tlearn: 0.0489051\ttotal: 1m 39s\tremaining: 0us\n",
      "fold Loss 8:  0.2356354282102314\n",
      "---------------------------------------------------------------------------\n",
      "Learning rate set to 0.002361\n",
      "0:\tlearn: 0.6913709\ttotal: 29.1ms\tremaining: 2m 25s\n",
      "999:\tlearn: 0.2288379\ttotal: 20s\tremaining: 1m 20s\n",
      "1998:\tlearn: 0.1450203\ttotal: 39.8s\tremaining: 59.7s\n",
      "2997:\tlearn: 0.0996006\ttotal: 59.6s\tremaining: 39.8s\n",
      "3996:\tlearn: 0.0700627\ttotal: 1m 19s\tremaining: 20s\n"
     ]
    },
    {
     "name": "stderr",
     "output_type": "stream",
     "text": [
      "10it [16:42, 100.17s/it]"
     ]
    },
    {
     "name": "stdout",
     "output_type": "stream",
     "text": [
      "4995:\tlearn: 0.0493624\ttotal: 1m 39s\tremaining: 79.5ms\n",
      "4999:\tlearn: 0.0492762\ttotal: 1m 39s\tremaining: 0us\n",
      "fold Loss 9:  0.12863861703481225\n",
      "---------------------------------------------------------------------------\n",
      "Learning rate set to 0.002361\n",
      "0:\tlearn: 0.6914644\ttotal: 39.2ms\tremaining: 3m 16s\n",
      "999:\tlearn: 0.2224656\ttotal: 20.1s\tremaining: 1m 20s\n",
      "1998:\tlearn: 0.1391240\ttotal: 39.6s\tremaining: 59.4s\n",
      "2997:\tlearn: 0.0951410\ttotal: 59.7s\tremaining: 39.9s\n",
      "3996:\tlearn: 0.0682954\ttotal: 1m 19s\tremaining: 20s\n"
     ]
    },
    {
     "name": "stderr",
     "output_type": "stream",
     "text": [
      "11it [18:22, 100.15s/it]"
     ]
    },
    {
     "name": "stdout",
     "output_type": "stream",
     "text": [
      "4995:\tlearn: 0.0475452\ttotal: 1m 39s\tremaining: 79.5ms\n",
      "4999:\tlearn: 0.0474825\ttotal: 1m 39s\tremaining: 0us\n",
      "fold Loss 10:  0.3567162063915413\n",
      "---------------------------------------------------------------------------\n",
      "Learning rate set to 0.002361\n",
      "0:\tlearn: 0.6916296\ttotal: 30.3ms\tremaining: 2m 31s\n",
      "999:\tlearn: 0.2242827\ttotal: 20s\tremaining: 1m 20s\n",
      "1998:\tlearn: 0.1389402\ttotal: 39.8s\tremaining: 59.8s\n",
      "2997:\tlearn: 0.0929566\ttotal: 59.8s\tremaining: 39.9s\n",
      "3996:\tlearn: 0.0637257\ttotal: 1m 19s\tremaining: 20s\n"
     ]
    },
    {
     "name": "stderr",
     "output_type": "stream",
     "text": [
      "12it [20:02, 100.16s/it]"
     ]
    },
    {
     "name": "stdout",
     "output_type": "stream",
     "text": [
      "4995:\tlearn: 0.0442246\ttotal: 1m 39s\tremaining: 79.5ms\n",
      "4999:\tlearn: 0.0441625\ttotal: 1m 39s\tremaining: 0us\n",
      "fold Loss 11:  0.3551392540027836\n",
      "---------------------------------------------------------------------------\n",
      "Learning rate set to 0.002361\n",
      "0:\tlearn: 0.6914450\ttotal: 39.5ms\tremaining: 3m 17s\n",
      "999:\tlearn: 0.2267401\ttotal: 20.2s\tremaining: 1m 20s\n",
      "1998:\tlearn: 0.1425663\ttotal: 39.7s\tremaining: 59.6s\n",
      "2997:\tlearn: 0.0976035\ttotal: 59.6s\tremaining: 39.8s\n",
      "3996:\tlearn: 0.0681641\ttotal: 1m 19s\tremaining: 20s\n"
     ]
    },
    {
     "name": "stderr",
     "output_type": "stream",
     "text": [
      "13it [21:42, 100.20s/it]"
     ]
    },
    {
     "name": "stdout",
     "output_type": "stream",
     "text": [
      "4995:\tlearn: 0.0474618\ttotal: 1m 39s\tremaining: 79.6ms\n",
      "4999:\tlearn: 0.0474096\ttotal: 1m 39s\tremaining: 0us\n",
      "fold Loss 12:  0.2828988060229278\n",
      "---------------------------------------------------------------------------\n",
      "Learning rate set to 0.002361\n",
      "0:\tlearn: 0.6912444\ttotal: 29.9ms\tremaining: 2m 29s\n",
      "999:\tlearn: 0.2253206\ttotal: 19.9s\tremaining: 1m 19s\n",
      "1998:\tlearn: 0.1416986\ttotal: 39.7s\tremaining: 59.6s\n",
      "2997:\tlearn: 0.0966676\ttotal: 59.7s\tremaining: 39.8s\n",
      "3996:\tlearn: 0.0666439\ttotal: 1m 19s\tremaining: 20s\n"
     ]
    },
    {
     "name": "stderr",
     "output_type": "stream",
     "text": [
      "14it [23:22, 100.18s/it]"
     ]
    },
    {
     "name": "stdout",
     "output_type": "stream",
     "text": [
      "4995:\tlearn: 0.0458163\ttotal: 1m 39s\tremaining: 79.5ms\n",
      "4999:\tlearn: 0.0457445\ttotal: 1m 39s\tremaining: 0us\n",
      "fold Loss 13:  0.29026616598104626\n",
      "---------------------------------------------------------------------------\n",
      "Learning rate set to 0.002361\n",
      "0:\tlearn: 0.6913582\ttotal: 38.5ms\tremaining: 3m 12s\n",
      "999:\tlearn: 0.2316124\ttotal: 20.1s\tremaining: 1m 20s\n",
      "1998:\tlearn: 0.1456408\ttotal: 39.9s\tremaining: 59.9s\n",
      "2997:\tlearn: 0.1002362\ttotal: 59.5s\tremaining: 39.8s\n",
      "3996:\tlearn: 0.0702268\ttotal: 1m 19s\tremaining: 19.9s\n"
     ]
    },
    {
     "name": "stderr",
     "output_type": "stream",
     "text": [
      "15it [25:03, 100.15s/it]"
     ]
    },
    {
     "name": "stdout",
     "output_type": "stream",
     "text": [
      "4995:\tlearn: 0.0493157\ttotal: 1m 39s\tremaining: 79.4ms\n",
      "4999:\tlearn: 0.0492392\ttotal: 1m 39s\tremaining: 0us\n",
      "fold Loss 14:  0.1373502438770088\n",
      "---------------------------------------------------------------------------\n",
      "Learning rate set to 0.002361\n",
      "0:\tlearn: 0.6915144\ttotal: 29.8ms\tremaining: 2m 28s\n",
      "999:\tlearn: 0.2315034\ttotal: 20.2s\tremaining: 1m 20s\n",
      "1998:\tlearn: 0.1462614\ttotal: 40.4s\tremaining: 1m\n",
      "2997:\tlearn: 0.0995871\ttotal: 59.9s\tremaining: 40s\n",
      "3996:\tlearn: 0.0693940\ttotal: 1m 19s\tremaining: 20s\n"
     ]
    },
    {
     "name": "stderr",
     "output_type": "stream",
     "text": [
      "16it [26:43, 100.31s/it]"
     ]
    },
    {
     "name": "stdout",
     "output_type": "stream",
     "text": [
      "4995:\tlearn: 0.0484571\ttotal: 1m 39s\tremaining: 79.9ms\n",
      "4999:\tlearn: 0.0483927\ttotal: 1m 39s\tremaining: 0us\n",
      "fold Loss 15:  0.1499843522749947\n",
      "---------------------------------------------------------------------------\n",
      "Learning rate set to 0.002361\n",
      "0:\tlearn: 0.6914953\ttotal: 51.5ms\tremaining: 4m 17s\n",
      "999:\tlearn: 0.2274279\ttotal: 19.7s\tremaining: 1m 18s\n",
      "1998:\tlearn: 0.1420035\ttotal: 39.7s\tremaining: 59.5s\n",
      "2997:\tlearn: 0.0962159\ttotal: 59.4s\tremaining: 39.6s\n",
      "3996:\tlearn: 0.0664027\ttotal: 1m 19s\tremaining: 19.9s\n"
     ]
    },
    {
     "name": "stderr",
     "output_type": "stream",
     "text": [
      "17it [28:23, 100.27s/it]"
     ]
    },
    {
     "name": "stdout",
     "output_type": "stream",
     "text": [
      "4995:\tlearn: 0.0464589\ttotal: 1m 39s\tremaining: 79.5ms\n",
      "4999:\tlearn: 0.0463983\ttotal: 1m 39s\tremaining: 0us\n",
      "fold Loss 16:  0.2329197373593695\n",
      "---------------------------------------------------------------------------\n",
      "Learning rate set to 0.002361\n",
      "0:\tlearn: 0.6913642\ttotal: 31.5ms\tremaining: 2m 37s\n",
      "999:\tlearn: 0.2247357\ttotal: 19.7s\tremaining: 1m 18s\n",
      "1998:\tlearn: 0.1410724\ttotal: 39.7s\tremaining: 59.6s\n",
      "2997:\tlearn: 0.0954269\ttotal: 59.4s\tremaining: 39.6s\n",
      "3996:\tlearn: 0.0661999\ttotal: 1m 19s\tremaining: 19.9s\n"
     ]
    },
    {
     "name": "stderr",
     "output_type": "stream",
     "text": [
      "18it [30:03, 100.19s/it]"
     ]
    },
    {
     "name": "stdout",
     "output_type": "stream",
     "text": [
      "4995:\tlearn: 0.0457186\ttotal: 1m 39s\tremaining: 79.4ms\n",
      "4999:\tlearn: 0.0456400\ttotal: 1m 39s\tremaining: 0us\n",
      "fold Loss 17:  0.27994984392401245\n",
      "---------------------------------------------------------------------------\n",
      "Learning rate set to 0.002361\n",
      "0:\tlearn: 0.6913648\ttotal: 39.5ms\tremaining: 3m 17s\n",
      "999:\tlearn: 0.2286039\ttotal: 19.8s\tremaining: 1m 19s\n",
      "1998:\tlearn: 0.1434278\ttotal: 39.7s\tremaining: 59.6s\n",
      "2997:\tlearn: 0.0969076\ttotal: 59.9s\tremaining: 40s\n",
      "3996:\tlearn: 0.0673414\ttotal: 1m 19s\tremaining: 20s\n"
     ]
    },
    {
     "name": "stderr",
     "output_type": "stream",
     "text": [
      "19it [31:44, 100.31s/it]"
     ]
    },
    {
     "name": "stdout",
     "output_type": "stream",
     "text": [
      "4995:\tlearn: 0.0463033\ttotal: 1m 39s\tremaining: 79.9ms\n",
      "4999:\tlearn: 0.0462141\ttotal: 1m 39s\tremaining: 0us\n",
      "fold Loss 18:  0.20360870453510926\n",
      "---------------------------------------------------------------------------\n",
      "Learning rate set to 0.002362\n",
      "0:\tlearn: 0.6912588\ttotal: 29.9ms\tremaining: 2m 29s\n",
      "999:\tlearn: 0.2303242\ttotal: 19.9s\tremaining: 1m 19s\n",
      "1998:\tlearn: 0.1459877\ttotal: 39.7s\tremaining: 59.6s\n",
      "2997:\tlearn: 0.1005579\ttotal: 59.8s\tremaining: 39.9s\n",
      "3996:\tlearn: 0.0703690\ttotal: 1m 19s\tremaining: 19.9s\n"
     ]
    },
    {
     "name": "stderr",
     "output_type": "stream",
     "text": [
      "20it [33:24, 100.24s/it]"
     ]
    },
    {
     "name": "stdout",
     "output_type": "stream",
     "text": [
      "4995:\tlearn: 0.0493669\ttotal: 1m 39s\tremaining: 79.6ms\n",
      "4999:\tlearn: 0.0493189\ttotal: 1m 39s\tremaining: 0us\n",
      "fold Loss 19:  0.13388535665217915\n",
      "---------------------------------------------------------------------------\n",
      "Training Loss: 0.05350040333375766\n",
      "Loss for phyllosilicate:\n",
      "0.21407854778020866 0.07327144542186687\n",
      "==================================================================================================\n",
      "TARGET  silicate\n"
     ]
    },
    {
     "name": "stderr",
     "output_type": "stream",
     "text": [
      "\n"
     ]
    },
    {
     "name": "stdout",
     "output_type": "stream",
     "text": [
      "0.35260684851534513\n"
     ]
    },
    {
     "name": "stderr",
     "output_type": "stream",
     "text": [
      "100%|██████████| 101/101 [00:00<00:00, 319958.24it/s]"
     ]
    },
    {
     "name": "stdout",
     "output_type": "stream",
     "text": [
      "10\n"
     ]
    },
    {
     "name": "stderr",
     "output_type": "stream",
     "text": [
      "\n"
     ]
    },
    {
     "name": "stdout",
     "output_type": "stream",
     "text": [
      "0.33666925929232\n"
     ]
    },
    {
     "name": "stderr",
     "output_type": "stream",
     "text": [
      "100%|██████████| 900/900 [00:00<00:00, 913791.72it/s]"
     ]
    },
    {
     "name": "stdout",
     "output_type": "stream",
     "text": [
      "38\n"
     ]
    },
    {
     "name": "stderr",
     "output_type": "stream",
     "text": [
      "\n"
     ]
    },
    {
     "name": "stdout",
     "output_type": "stream",
     "text": [
      "0.32449000040303183\n"
     ]
    },
    {
     "name": "stderr",
     "output_type": "stream",
     "text": [
      "100%|██████████| 1200/1200 [00:00<00:00, 1461005.75it/s]\n"
     ]
    },
    {
     "name": "stdout",
     "output_type": "stream",
     "text": [
      "62\n",
      "0.32335781206536907\n"
     ]
    },
    {
     "name": "stderr",
     "output_type": "stream",
     "text": [
      "100%|██████████| 1000/1000 [00:00<00:00, 1318548.88it/s]\n"
     ]
    },
    {
     "name": "stdout",
     "output_type": "stream",
     "text": [
      "57\n",
      "(1059, 57) (1059, 10) (1059, 38) (1059, 62)\n",
      "(1059, 167)\n",
      "(804, 57) (804, 10) (804, 38) (804, 62)\n",
      "(804, 167)\n"
     ]
    },
    {
     "name": "stderr",
     "output_type": "stream",
     "text": [
      "0it [00:00, ?it/s]"
     ]
    },
    {
     "name": "stdout",
     "output_type": "stream",
     "text": [
      "Learning rate set to 0.002361\n",
      "0:\tlearn: 0.6906942\ttotal: 27.4ms\tremaining: 2m 16s\n",
      "999:\tlearn: 0.1702455\ttotal: 18.8s\tremaining: 1m 15s\n",
      "1998:\tlearn: 0.1051781\ttotal: 37.7s\tremaining: 56.7s\n",
      "2997:\tlearn: 0.0710884\ttotal: 56.1s\tremaining: 37.5s\n",
      "3996:\tlearn: 0.0513903\ttotal: 1m 15s\tremaining: 18.8s\n"
     ]
    },
    {
     "name": "stderr",
     "output_type": "stream",
     "text": [
      "1it [01:34, 94.49s/it]"
     ]
    },
    {
     "name": "stdout",
     "output_type": "stream",
     "text": [
      "4995:\tlearn: 0.0378325\ttotal: 1m 33s\tremaining: 75ms\n",
      "4999:\tlearn: 0.0377943\ttotal: 1m 33s\tremaining: 0us\n",
      "fold Loss 0:  0.16975700640505734\n",
      "---------------------------------------------------------------------------\n",
      "Learning rate set to 0.002361\n",
      "0:\tlearn: 0.6906309\ttotal: 36.8ms\tremaining: 3m 4s\n",
      "999:\tlearn: 0.1681419\ttotal: 19s\tremaining: 1m 16s\n",
      "1998:\tlearn: 0.1014439\ttotal: 37.5s\tremaining: 56.2s\n",
      "2997:\tlearn: 0.0667717\ttotal: 56.3s\tremaining: 37.6s\n",
      "3996:\tlearn: 0.0469197\ttotal: 1m 15s\tremaining: 18.8s\n"
     ]
    },
    {
     "name": "stderr",
     "output_type": "stream",
     "text": [
      "2it [03:08, 94.40s/it]"
     ]
    },
    {
     "name": "stdout",
     "output_type": "stream",
     "text": [
      "4995:\tlearn: 0.0328729\ttotal: 1m 33s\tremaining: 74.9ms\n",
      "4999:\tlearn: 0.0328092\ttotal: 1m 33s\tremaining: 0us\n",
      "fold Loss 1:  0.24949193468082873\n",
      "---------------------------------------------------------------------------\n",
      "Learning rate set to 0.002361\n",
      "0:\tlearn: 0.6906112\ttotal: 28.1ms\tremaining: 2m 20s\n",
      "999:\tlearn: 0.1666780\ttotal: 18.8s\tremaining: 1m 15s\n",
      "1998:\tlearn: 0.1012899\ttotal: 37.4s\tremaining: 56.1s\n",
      "2997:\tlearn: 0.0680408\ttotal: 56.1s\tremaining: 37.4s\n",
      "3996:\tlearn: 0.0498243\ttotal: 1m 14s\tremaining: 18.7s\n"
     ]
    },
    {
     "name": "stderr",
     "output_type": "stream",
     "text": [
      "3it [04:42, 94.29s/it]"
     ]
    },
    {
     "name": "stdout",
     "output_type": "stream",
     "text": [
      "4995:\tlearn: 0.0361593\ttotal: 1m 33s\tremaining: 74.7ms\n",
      "4999:\tlearn: 0.0361148\ttotal: 1m 33s\tremaining: 0us\n",
      "fold Loss 2:  0.23323395577251194\n",
      "---------------------------------------------------------------------------\n",
      "Learning rate set to 0.002361\n",
      "0:\tlearn: 0.6906745\ttotal: 38ms\tremaining: 3m 9s\n",
      "999:\tlearn: 0.1673351\ttotal: 18.9s\tremaining: 1m 15s\n",
      "1998:\tlearn: 0.1041045\ttotal: 37.6s\tremaining: 56.5s\n",
      "2997:\tlearn: 0.0705409\ttotal: 57.4s\tremaining: 38.4s\n",
      "3996:\tlearn: 0.0492871\ttotal: 1m 15s\tremaining: 19s\n"
     ]
    },
    {
     "name": "stderr",
     "output_type": "stream",
     "text": [
      "4it [06:18, 94.86s/it]"
     ]
    },
    {
     "name": "stdout",
     "output_type": "stream",
     "text": [
      "4995:\tlearn: 0.0357849\ttotal: 1m 34s\tremaining: 76ms\n",
      "4999:\tlearn: 0.0357417\ttotal: 1m 34s\tremaining: 0us\n",
      "fold Loss 3:  0.2569542000239236\n",
      "---------------------------------------------------------------------------\n",
      "Learning rate set to 0.002361\n",
      "0:\tlearn: 0.6907379\ttotal: 29.3ms\tremaining: 2m 26s\n",
      "999:\tlearn: 0.1695396\ttotal: 18.4s\tremaining: 1m 13s\n",
      "1998:\tlearn: 0.1055513\ttotal: 37.4s\tremaining: 56.1s\n",
      "2997:\tlearn: 0.0711879\ttotal: 56.1s\tremaining: 37.5s\n",
      "3996:\tlearn: 0.0522815\ttotal: 1m 14s\tremaining: 18.7s\n"
     ]
    },
    {
     "name": "stderr",
     "output_type": "stream",
     "text": [
      "5it [07:53, 94.67s/it]"
     ]
    },
    {
     "name": "stdout",
     "output_type": "stream",
     "text": [
      "4995:\tlearn: 0.0381722\ttotal: 1m 33s\tremaining: 74.9ms\n",
      "4999:\tlearn: 0.0381524\ttotal: 1m 33s\tremaining: 0us\n",
      "fold Loss 4:  0.14820223017990358\n",
      "---------------------------------------------------------------------------\n",
      "Learning rate set to 0.002361\n",
      "0:\tlearn: 0.6905382\ttotal: 37.4ms\tremaining: 3m 6s\n",
      "999:\tlearn: 0.1660987\ttotal: 18.7s\tremaining: 1m 14s\n",
      "1998:\tlearn: 0.1016413\ttotal: 37.5s\tremaining: 56.2s\n",
      "2997:\tlearn: 0.0681822\ttotal: 56.2s\tremaining: 37.5s\n",
      "3996:\tlearn: 0.0497183\ttotal: 1m 14s\tremaining: 18.8s\n"
     ]
    },
    {
     "name": "stderr",
     "output_type": "stream",
     "text": [
      "6it [09:27, 94.66s/it]"
     ]
    },
    {
     "name": "stdout",
     "output_type": "stream",
     "text": [
      "4995:\tlearn: 0.0358471\ttotal: 1m 33s\tremaining: 75.1ms\n",
      "4999:\tlearn: 0.0358160\ttotal: 1m 33s\tremaining: 0us\n",
      "fold Loss 5:  0.21574870792514653\n",
      "---------------------------------------------------------------------------\n",
      "Learning rate set to 0.002361\n",
      "0:\tlearn: 0.6906750\ttotal: 28.6ms\tremaining: 2m 23s\n",
      "999:\tlearn: 0.1663996\ttotal: 18.5s\tremaining: 1m 13s\n",
      "1998:\tlearn: 0.1032517\ttotal: 37.4s\tremaining: 56.1s\n",
      "2997:\tlearn: 0.0696959\ttotal: 55.8s\tremaining: 37.2s\n",
      "3996:\tlearn: 0.0509245\ttotal: 1m 14s\tremaining: 18.8s\n"
     ]
    },
    {
     "name": "stderr",
     "output_type": "stream",
     "text": [
      "7it [11:02, 94.64s/it]"
     ]
    },
    {
     "name": "stdout",
     "output_type": "stream",
     "text": [
      "4995:\tlearn: 0.0369777\ttotal: 1m 33s\tremaining: 75.1ms\n",
      "4999:\tlearn: 0.0369472\ttotal: 1m 33s\tremaining: 0us\n",
      "fold Loss 6:  0.1871703804835448\n",
      "---------------------------------------------------------------------------\n",
      "Learning rate set to 0.002361\n",
      "0:\tlearn: 0.6907278\ttotal: 37.9ms\tremaining: 3m 9s\n",
      "999:\tlearn: 0.1692167\ttotal: 18.7s\tremaining: 1m 14s\n",
      "1998:\tlearn: 0.1024329\ttotal: 37.5s\tremaining: 56.3s\n",
      "2997:\tlearn: 0.0676040\ttotal: 56.2s\tremaining: 37.5s\n",
      "3996:\tlearn: 0.0481041\ttotal: 1m 14s\tremaining: 18.8s\n"
     ]
    },
    {
     "name": "stderr",
     "output_type": "stream",
     "text": [
      "8it [12:36, 94.53s/it]"
     ]
    },
    {
     "name": "stdout",
     "output_type": "stream",
     "text": [
      "4995:\tlearn: 0.0351619\ttotal: 1m 33s\tremaining: 74.8ms\n",
      "4999:\tlearn: 0.0351268\ttotal: 1m 33s\tremaining: 0us\n",
      "fold Loss 7:  0.17878358836134142\n",
      "---------------------------------------------------------------------------\n",
      "Learning rate set to 0.002361\n",
      "0:\tlearn: 0.6908110\ttotal: 28.5ms\tremaining: 2m 22s\n",
      "999:\tlearn: 0.1743676\ttotal: 19s\tremaining: 1m 16s\n",
      "1998:\tlearn: 0.1076258\ttotal: 38s\tremaining: 57s\n",
      "2997:\tlearn: 0.0713254\ttotal: 56.4s\tremaining: 37.6s\n",
      "3996:\tlearn: 0.0509991\ttotal: 1m 15s\tremaining: 18.9s\n"
     ]
    },
    {
     "name": "stderr",
     "output_type": "stream",
     "text": [
      "9it [14:11, 94.61s/it]"
     ]
    },
    {
     "name": "stdout",
     "output_type": "stream",
     "text": [
      "4995:\tlearn: 0.0358867\ttotal: 1m 33s\tremaining: 75.2ms\n",
      "4999:\tlearn: 0.0358306\ttotal: 1m 34s\tremaining: 0us\n",
      "fold Loss 8:  0.07832985490988663\n",
      "---------------------------------------------------------------------------\n",
      "Learning rate set to 0.002361\n",
      "0:\tlearn: 0.6906952\ttotal: 38.2ms\tremaining: 3m 10s\n",
      "999:\tlearn: 0.1700423\ttotal: 19.1s\tremaining: 1m 16s\n",
      "1998:\tlearn: 0.1046203\ttotal: 38s\tremaining: 57s\n",
      "2997:\tlearn: 0.0694736\ttotal: 56.5s\tremaining: 37.8s\n",
      "3996:\tlearn: 0.0495273\ttotal: 1m 15s\tremaining: 18.9s\n"
     ]
    },
    {
     "name": "stderr",
     "output_type": "stream",
     "text": [
      "10it [15:46, 94.62s/it]"
     ]
    },
    {
     "name": "stdout",
     "output_type": "stream",
     "text": [
      "4995:\tlearn: 0.0349096\ttotal: 1m 33s\tremaining: 75.1ms\n",
      "4999:\tlearn: 0.0348720\ttotal: 1m 33s\tremaining: 0us\n",
      "fold Loss 9:  0.13310925678279262\n",
      "---------------------------------------------------------------------------\n",
      "Learning rate set to 0.002361\n",
      "0:\tlearn: 0.6906732\ttotal: 28.8ms\tremaining: 2m 24s\n",
      "999:\tlearn: 0.1705607\ttotal: 18.8s\tremaining: 1m 15s\n",
      "1998:\tlearn: 0.1055369\ttotal: 37.7s\tremaining: 56.6s\n",
      "2997:\tlearn: 0.0706485\ttotal: 56.1s\tremaining: 37.5s\n",
      "3996:\tlearn: 0.0498415\ttotal: 1m 14s\tremaining: 18.8s\n"
     ]
    },
    {
     "name": "stderr",
     "output_type": "stream",
     "text": [
      "11it [17:20, 94.51s/it]"
     ]
    },
    {
     "name": "stdout",
     "output_type": "stream",
     "text": [
      "4995:\tlearn: 0.0352986\ttotal: 1m 33s\tremaining: 74.8ms\n",
      "4999:\tlearn: 0.0352386\ttotal: 1m 33s\tremaining: 0us\n",
      "fold Loss 10:  0.1506513612593473\n",
      "---------------------------------------------------------------------------\n",
      "Learning rate set to 0.002361\n",
      "0:\tlearn: 0.6906254\ttotal: 39.4ms\tremaining: 3m 17s\n",
      "999:\tlearn: 0.1664642\ttotal: 19.2s\tremaining: 1m 16s\n",
      "1998:\tlearn: 0.1003978\ttotal: 37.6s\tremaining: 56.5s\n",
      "2997:\tlearn: 0.0670018\ttotal: 56.9s\tremaining: 38s\n",
      "3996:\tlearn: 0.0460081\ttotal: 1m 15s\tremaining: 19s\n"
     ]
    },
    {
     "name": "stderr",
     "output_type": "stream",
     "text": [
      "12it [18:55, 94.73s/it]"
     ]
    },
    {
     "name": "stdout",
     "output_type": "stream",
     "text": [
      "4995:\tlearn: 0.0327425\ttotal: 1m 34s\tremaining: 75.6ms\n",
      "4999:\tlearn: 0.0326973\ttotal: 1m 34s\tremaining: 0us\n",
      "fold Loss 11:  0.20106316560839302\n",
      "---------------------------------------------------------------------------\n",
      "Learning rate set to 0.002361\n",
      "0:\tlearn: 0.6906467\ttotal: 27.8ms\tremaining: 2m 18s\n",
      "999:\tlearn: 0.1704480\ttotal: 18.9s\tremaining: 1m 15s\n",
      "1998:\tlearn: 0.1044923\ttotal: 37.4s\tremaining: 56.2s\n",
      "2997:\tlearn: 0.0690061\ttotal: 56.1s\tremaining: 37.5s\n",
      "3996:\tlearn: 0.0477867\ttotal: 1m 15s\tremaining: 18.9s\n"
     ]
    },
    {
     "name": "stderr",
     "output_type": "stream",
     "text": [
      "13it [20:29, 94.63s/it]"
     ]
    },
    {
     "name": "stdout",
     "output_type": "stream",
     "text": [
      "4995:\tlearn: 0.0334113\ttotal: 1m 33s\tremaining: 74.9ms\n",
      "4999:\tlearn: 0.0333491\ttotal: 1m 33s\tremaining: 0us\n",
      "fold Loss 12:  0.11542008767769556\n",
      "---------------------------------------------------------------------------\n",
      "Learning rate set to 0.002361\n",
      "0:\tlearn: 0.6907596\ttotal: 37.8ms\tremaining: 3m 8s\n",
      "999:\tlearn: 0.1653008\ttotal: 19.2s\tremaining: 1m 16s\n",
      "1998:\tlearn: 0.1006691\ttotal: 37.6s\tremaining: 56.5s\n",
      "2997:\tlearn: 0.0692372\ttotal: 56.7s\tremaining: 37.8s\n",
      "3996:\tlearn: 0.0502101\ttotal: 1m 15s\tremaining: 18.9s\n"
     ]
    },
    {
     "name": "stderr",
     "output_type": "stream",
     "text": [
      "14it [22:04, 94.77s/it]"
     ]
    },
    {
     "name": "stdout",
     "output_type": "stream",
     "text": [
      "4995:\tlearn: 0.0363429\ttotal: 1m 34s\tremaining: 75.5ms\n",
      "4999:\tlearn: 0.0362972\ttotal: 1m 34s\tremaining: 0us\n",
      "fold Loss 13:  0.21082478301589247\n",
      "---------------------------------------------------------------------------\n",
      "Learning rate set to 0.002361\n",
      "0:\tlearn: 0.6905126\ttotal: 29ms\tremaining: 2m 25s\n",
      "999:\tlearn: 0.1682556\ttotal: 18.8s\tremaining: 1m 15s\n",
      "1998:\tlearn: 0.1053935\ttotal: 37.5s\tremaining: 56.3s\n",
      "2997:\tlearn: 0.0713092\ttotal: 56.4s\tremaining: 37.6s\n",
      "3996:\tlearn: 0.0514252\ttotal: 1m 15s\tremaining: 18.9s\n"
     ]
    },
    {
     "name": "stderr",
     "output_type": "stream",
     "text": [
      "15it [23:40, 94.86s/it]"
     ]
    },
    {
     "name": "stdout",
     "output_type": "stream",
     "text": [
      "4995:\tlearn: 0.0367346\ttotal: 1m 34s\tremaining: 75.4ms\n",
      "4999:\tlearn: 0.0366921\ttotal: 1m 34s\tremaining: 0us\n",
      "fold Loss 14:  0.1451179323049894\n",
      "---------------------------------------------------------------------------\n",
      "Learning rate set to 0.002361\n",
      "0:\tlearn: 0.6907959\ttotal: 38ms\tremaining: 3m 9s\n",
      "999:\tlearn: 0.1709885\ttotal: 19.3s\tremaining: 1m 17s\n",
      "1998:\tlearn: 0.1049296\ttotal: 38s\tremaining: 57s\n",
      "2997:\tlearn: 0.0693217\ttotal: 57s\tremaining: 38.1s\n",
      "3996:\tlearn: 0.0493361\ttotal: 1m 15s\tremaining: 19s\n"
     ]
    },
    {
     "name": "stderr",
     "output_type": "stream",
     "text": [
      "16it [25:15, 95.10s/it]"
     ]
    },
    {
     "name": "stdout",
     "output_type": "stream",
     "text": [
      "4995:\tlearn: 0.0353553\ttotal: 1m 34s\tremaining: 75.9ms\n",
      "4999:\tlearn: 0.0353136\ttotal: 1m 34s\tremaining: 0us\n",
      "fold Loss 15:  0.10856233857091836\n",
      "---------------------------------------------------------------------------\n",
      "Learning rate set to 0.002361\n",
      "0:\tlearn: 0.6904727\ttotal: 29.8ms\tremaining: 2m 29s\n",
      "999:\tlearn: 0.1695694\ttotal: 19.1s\tremaining: 1m 16s\n",
      "1998:\tlearn: 0.1041772\ttotal: 37.8s\tremaining: 56.8s\n",
      "2997:\tlearn: 0.0698675\ttotal: 56.7s\tremaining: 37.8s\n",
      "3996:\tlearn: 0.0500526\ttotal: 1m 15s\tremaining: 18.9s\n"
     ]
    },
    {
     "name": "stderr",
     "output_type": "stream",
     "text": [
      "17it [26:51, 95.15s/it]"
     ]
    },
    {
     "name": "stdout",
     "output_type": "stream",
     "text": [
      "4995:\tlearn: 0.0358954\ttotal: 1m 34s\tremaining: 75.6ms\n",
      "4999:\tlearn: 0.0358301\ttotal: 1m 34s\tremaining: 0us\n",
      "fold Loss 16:  0.09047504153410213\n",
      "---------------------------------------------------------------------------\n",
      "Learning rate set to 0.002361\n",
      "0:\tlearn: 0.6907200\ttotal: 34ms\tremaining: 2m 50s\n",
      "999:\tlearn: 0.1694205\ttotal: 19.5s\tremaining: 1m 18s\n",
      "1998:\tlearn: 0.1040520\ttotal: 38.5s\tremaining: 57.8s\n",
      "2997:\tlearn: 0.0688282\ttotal: 57.8s\tremaining: 38.6s\n",
      "3996:\tlearn: 0.0486836\ttotal: 1m 16s\tremaining: 19.2s\n"
     ]
    },
    {
     "name": "stderr",
     "output_type": "stream",
     "text": [
      "18it [28:27, 95.51s/it]"
     ]
    },
    {
     "name": "stdout",
     "output_type": "stream",
     "text": [
      "4995:\tlearn: 0.0343972\ttotal: 1m 35s\tremaining: 76.4ms\n",
      "4999:\tlearn: 0.0343589\ttotal: 1m 35s\tremaining: 0us\n",
      "fold Loss 17:  0.18004433997964012\n",
      "---------------------------------------------------------------------------\n",
      "Learning rate set to 0.002361\n",
      "0:\tlearn: 0.6906846\ttotal: 28.4ms\tremaining: 2m 21s\n",
      "999:\tlearn: 0.1691856\ttotal: 18.8s\tremaining: 1m 15s\n",
      "1998:\tlearn: 0.1042595\ttotal: 38.1s\tremaining: 57.2s\n",
      "2997:\tlearn: 0.0694616\ttotal: 57.1s\tremaining: 38.1s\n",
      "3996:\tlearn: 0.0503613\ttotal: 1m 15s\tremaining: 19s\n"
     ]
    },
    {
     "name": "stderr",
     "output_type": "stream",
     "text": [
      "19it [30:03, 95.56s/it]"
     ]
    },
    {
     "name": "stdout",
     "output_type": "stream",
     "text": [
      "4995:\tlearn: 0.0373024\ttotal: 1m 34s\tremaining: 75.9ms\n",
      "4999:\tlearn: 0.0372650\ttotal: 1m 34s\tremaining: 0us\n",
      "fold Loss 18:  0.10228203456175279\n",
      "---------------------------------------------------------------------------\n",
      "Learning rate set to 0.002362\n",
      "0:\tlearn: 0.6906971\ttotal: 37.6ms\tremaining: 3m 8s\n",
      "999:\tlearn: 0.1660661\ttotal: 18.8s\tremaining: 1m 15s\n",
      "1998:\tlearn: 0.1005006\ttotal: 37.8s\tremaining: 56.7s\n",
      "2997:\tlearn: 0.0651677\ttotal: 57.7s\tremaining: 38.6s\n",
      "3996:\tlearn: 0.0441532\ttotal: 1m 16s\tremaining: 19.3s\n"
     ]
    },
    {
     "name": "stderr",
     "output_type": "stream",
     "text": [
      "20it [31:40, 95.00s/it]"
     ]
    },
    {
     "name": "stdout",
     "output_type": "stream",
     "text": [
      "4995:\tlearn: 0.0305044\ttotal: 1m 36s\tremaining: 77ms\n",
      "4999:\tlearn: 0.0304712\ttotal: 1m 36s\tremaining: 0us\n",
      "fold Loss 19:  0.26990183877482427\n",
      "---------------------------------------------------------------------------\n",
      "Training Loss: 0.04225270112444679\n",
      "Loss for silicate:\n",
      "0.17125620194062463 0.05564227986198243\n",
      "==================================================================================================\n",
      "TARGET  sulfate\n"
     ]
    },
    {
     "name": "stderr",
     "output_type": "stream",
     "text": [
      "\n"
     ]
    },
    {
     "name": "stdout",
     "output_type": "stream",
     "text": [
      "0.44402898819502584\n"
     ]
    },
    {
     "name": "stderr",
     "output_type": "stream",
     "text": [
      "100%|██████████| 101/101 [00:00<00:00, 421936.96it/s]"
     ]
    },
    {
     "name": "stdout",
     "output_type": "stream",
     "text": [
      "9\n"
     ]
    },
    {
     "name": "stderr",
     "output_type": "stream",
     "text": [
      "\n"
     ]
    },
    {
     "name": "stdout",
     "output_type": "stream",
     "text": [
      "0.30967767758918685\n"
     ]
    },
    {
     "name": "stderr",
     "output_type": "stream",
     "text": [
      "100%|██████████| 900/900 [00:00<00:00, 1465970.33it/s]"
     ]
    },
    {
     "name": "stdout",
     "output_type": "stream",
     "text": [
      "33\n"
     ]
    },
    {
     "name": "stderr",
     "output_type": "stream",
     "text": [
      "\n"
     ]
    },
    {
     "name": "stdout",
     "output_type": "stream",
     "text": [
      "0.30215480283721274\n"
     ]
    },
    {
     "name": "stderr",
     "output_type": "stream",
     "text": [
      "100%|██████████| 1200/1200 [00:00<00:00, 1486902.45it/s]\n"
     ]
    },
    {
     "name": "stdout",
     "output_type": "stream",
     "text": [
      "43\n",
      "0.30780292973503937\n"
     ]
    },
    {
     "name": "stderr",
     "output_type": "stream",
     "text": [
      "100%|██████████| 1000/1000 [00:00<00:00, 743407.30it/s]"
     ]
    },
    {
     "name": "stdout",
     "output_type": "stream",
     "text": [
      "42\n"
     ]
    },
    {
     "name": "stderr",
     "output_type": "stream",
     "text": [
      "\n"
     ]
    },
    {
     "name": "stdout",
     "output_type": "stream",
     "text": [
      "(1059, 42) (1059, 9) (1059, 33) (1059, 43)\n",
      "(1059, 127)\n",
      "(804, 42) (804, 9) (804, 33) (804, 43)\n",
      "(804, 127)\n"
     ]
    },
    {
     "name": "stderr",
     "output_type": "stream",
     "text": [
      "0it [00:00, ?it/s]"
     ]
    },
    {
     "name": "stdout",
     "output_type": "stream",
     "text": [
      "Learning rate set to 0.002361\n",
      "0:\tlearn: 0.6907122\ttotal: 22.1ms\tremaining: 1m 50s\n",
      "999:\tlearn: 0.1422275\ttotal: 15.4s\tremaining: 1m 1s\n",
      "1998:\tlearn: 0.0834374\ttotal: 30.4s\tremaining: 45.6s\n",
      "2997:\tlearn: 0.0560732\ttotal: 46s\tremaining: 30.7s\n",
      "3996:\tlearn: 0.0388764\ttotal: 1m\tremaining: 15.3s\n"
     ]
    },
    {
     "name": "stderr",
     "output_type": "stream",
     "text": [
      "1it [01:17, 77.18s/it]"
     ]
    },
    {
     "name": "stdout",
     "output_type": "stream",
     "text": [
      "4995:\tlearn: 0.0266008\ttotal: 1m 16s\tremaining: 61.1ms\n",
      "4999:\tlearn: 0.0265689\ttotal: 1m 16s\tremaining: 0us\n",
      "fold Loss 0:  0.15126543542375162\n",
      "---------------------------------------------------------------------------\n",
      "Learning rate set to 0.002361\n",
      "0:\tlearn: 0.6907787\ttotal: 22.8ms\tremaining: 1m 54s\n",
      "999:\tlearn: 0.1434872\ttotal: 15.2s\tremaining: 1m\n",
      "1998:\tlearn: 0.0851668\ttotal: 30.7s\tremaining: 46.1s\n",
      "2997:\tlearn: 0.0573639\ttotal: 45.8s\tremaining: 30.6s\n",
      "3996:\tlearn: 0.0403349\ttotal: 1m 1s\tremaining: 15.4s\n"
     ]
    },
    {
     "name": "stderr",
     "output_type": "stream",
     "text": [
      "2it [02:34, 77.14s/it]"
     ]
    },
    {
     "name": "stdout",
     "output_type": "stream",
     "text": [
      "4995:\tlearn: 0.0280895\ttotal: 1m 16s\tremaining: 61ms\n",
      "4999:\tlearn: 0.0280519\ttotal: 1m 16s\tremaining: 0us\n",
      "fold Loss 1:  0.11810923552561152\n",
      "---------------------------------------------------------------------------\n",
      "Learning rate set to 0.002361\n",
      "0:\tlearn: 0.6906923\ttotal: 22.8ms\tremaining: 1m 53s\n",
      "999:\tlearn: 0.1423934\ttotal: 15.3s\tremaining: 1m 1s\n",
      "1998:\tlearn: 0.0836934\ttotal: 30.9s\tremaining: 46.4s\n",
      "2997:\tlearn: 0.0572474\ttotal: 46.5s\tremaining: 31.1s\n",
      "3996:\tlearn: 0.0406773\ttotal: 1m 1s\tremaining: 15.6s\n"
     ]
    },
    {
     "name": "stderr",
     "output_type": "stream",
     "text": [
      "3it [03:52, 77.57s/it]"
     ]
    },
    {
     "name": "stdout",
     "output_type": "stream",
     "text": [
      "4995:\tlearn: 0.0283106\ttotal: 1m 17s\tremaining: 61.8ms\n",
      "4999:\tlearn: 0.0282901\ttotal: 1m 17s\tremaining: 0us\n",
      "fold Loss 2:  0.25131104010572053\n",
      "---------------------------------------------------------------------------\n",
      "Learning rate set to 0.002361\n",
      "0:\tlearn: 0.6905666\ttotal: 23.9ms\tremaining: 1m 59s\n",
      "999:\tlearn: 0.1362948\ttotal: 15.4s\tremaining: 1m 1s\n",
      "1998:\tlearn: 0.0765167\ttotal: 30.5s\tremaining: 45.8s\n",
      "2997:\tlearn: 0.0504875\ttotal: 45.8s\tremaining: 30.6s\n",
      "3996:\tlearn: 0.0358410\ttotal: 1m\tremaining: 15.2s\n"
     ]
    },
    {
     "name": "stderr",
     "output_type": "stream",
     "text": [
      "4it [05:09, 77.34s/it]"
     ]
    },
    {
     "name": "stdout",
     "output_type": "stream",
     "text": [
      "4995:\tlearn: 0.0262754\ttotal: 1m 16s\tremaining: 61ms\n",
      "4999:\tlearn: 0.0262634\ttotal: 1m 16s\tremaining: 0us\n",
      "fold Loss 3:  0.3888080160552102\n",
      "---------------------------------------------------------------------------\n",
      "Learning rate set to 0.002361\n",
      "0:\tlearn: 0.6905170\ttotal: 23ms\tremaining: 1m 54s\n",
      "999:\tlearn: 0.1402327\ttotal: 15.1s\tremaining: 1m\n",
      "1998:\tlearn: 0.0816355\ttotal: 30.5s\tremaining: 45.7s\n",
      "2997:\tlearn: 0.0543069\ttotal: 45.4s\tremaining: 30.3s\n",
      "3996:\tlearn: 0.0372555\ttotal: 1m\tremaining: 15.2s\n"
     ]
    },
    {
     "name": "stderr",
     "output_type": "stream",
     "text": [
      "5it [06:25, 77.05s/it]"
     ]
    },
    {
     "name": "stdout",
     "output_type": "stream",
     "text": [
      "4995:\tlearn: 0.0261320\ttotal: 1m 15s\tremaining: 60.6ms\n",
      "4999:\tlearn: 0.0260806\ttotal: 1m 15s\tremaining: 0us\n",
      "fold Loss 4:  0.25942667981018896\n",
      "---------------------------------------------------------------------------\n",
      "Learning rate set to 0.002361\n",
      "0:\tlearn: 0.6907735\ttotal: 22.8ms\tremaining: 1m 54s\n",
      "999:\tlearn: 0.1421015\ttotal: 15.3s\tremaining: 1m 1s\n",
      "1998:\tlearn: 0.0830279\ttotal: 30.4s\tremaining: 45.6s\n",
      "2997:\tlearn: 0.0557097\ttotal: 45.8s\tremaining: 30.6s\n",
      "3996:\tlearn: 0.0393552\ttotal: 1m 1s\tremaining: 15.3s\n"
     ]
    },
    {
     "name": "stderr",
     "output_type": "stream",
     "text": [
      "6it [07:42, 77.03s/it]"
     ]
    },
    {
     "name": "stdout",
     "output_type": "stream",
     "text": [
      "4995:\tlearn: 0.0285319\ttotal: 1m 16s\tremaining: 60.9ms\n",
      "4999:\tlearn: 0.0285019\ttotal: 1m 16s\tremaining: 0us\n",
      "fold Loss 5:  0.18339136238433326\n",
      "---------------------------------------------------------------------------\n",
      "Learning rate set to 0.002361\n",
      "0:\tlearn: 0.6907486\ttotal: 24.2ms\tremaining: 2m\n",
      "999:\tlearn: 0.1397618\ttotal: 15.6s\tremaining: 1m 2s\n",
      "1998:\tlearn: 0.0802682\ttotal: 30.7s\tremaining: 46.1s\n",
      "2997:\tlearn: 0.0518931\ttotal: 46.2s\tremaining: 30.9s\n",
      "3996:\tlearn: 0.0343401\ttotal: 1m 1s\tremaining: 15.4s\n"
     ]
    },
    {
     "name": "stderr",
     "output_type": "stream",
     "text": [
      "7it [09:00, 77.35s/it]"
     ]
    },
    {
     "name": "stdout",
     "output_type": "stream",
     "text": [
      "4995:\tlearn: 0.0233995\ttotal: 1m 17s\tremaining: 61.8ms\n",
      "4999:\tlearn: 0.0233640\ttotal: 1m 17s\tremaining: 0us\n",
      "fold Loss 6:  0.24596653523878328\n",
      "---------------------------------------------------------------------------\n",
      "Learning rate set to 0.002361\n",
      "0:\tlearn: 0.6906246\ttotal: 23.2ms\tremaining: 1m 55s\n",
      "999:\tlearn: 0.1466963\ttotal: 15s\tremaining: 1m\n",
      "1998:\tlearn: 0.0859534\ttotal: 30.4s\tremaining: 45.7s\n",
      "2997:\tlearn: 0.0578873\ttotal: 45.5s\tremaining: 30.4s\n",
      "3996:\tlearn: 0.0400652\ttotal: 1m\tremaining: 15.2s\n"
     ]
    },
    {
     "name": "stderr",
     "output_type": "stream",
     "text": [
      "8it [10:17, 77.14s/it]"
     ]
    },
    {
     "name": "stdout",
     "output_type": "stream",
     "text": [
      "4995:\tlearn: 0.0278276\ttotal: 1m 15s\tremaining: 60.7ms\n",
      "4999:\tlearn: 0.0277863\ttotal: 1m 15s\tremaining: 0us\n",
      "fold Loss 7:  0.08630736626833424\n",
      "---------------------------------------------------------------------------\n",
      "Learning rate set to 0.002361\n",
      "0:\tlearn: 0.6906576\ttotal: 24.3ms\tremaining: 2m 1s\n",
      "999:\tlearn: 0.1439088\ttotal: 15.5s\tremaining: 1m 2s\n",
      "1998:\tlearn: 0.0835746\ttotal: 31.6s\tremaining: 47.5s\n",
      "2997:\tlearn: 0.0551937\ttotal: 47s\tremaining: 31.4s\n",
      "3996:\tlearn: 0.0382808\ttotal: 1m 2s\tremaining: 15.6s\n"
     ]
    },
    {
     "name": "stderr",
     "output_type": "stream",
     "text": [
      "9it [11:35, 77.47s/it]"
     ]
    },
    {
     "name": "stdout",
     "output_type": "stream",
     "text": [
      "4995:\tlearn: 0.0277651\ttotal: 1m 17s\tremaining: 61.9ms\n",
      "4999:\tlearn: 0.0277330\ttotal: 1m 17s\tremaining: 0us\n",
      "fold Loss 8:  0.11493315723346413\n",
      "---------------------------------------------------------------------------\n",
      "Learning rate set to 0.002361\n",
      "0:\tlearn: 0.6906433\ttotal: 35ms\tremaining: 2m 54s\n",
      "999:\tlearn: 0.1445558\ttotal: 15.4s\tremaining: 1m 1s\n",
      "1998:\tlearn: 0.0856201\ttotal: 30.3s\tremaining: 45.5s\n",
      "2997:\tlearn: 0.0580574\ttotal: 45.8s\tremaining: 30.6s\n",
      "3996:\tlearn: 0.0409898\ttotal: 1m\tremaining: 15.3s\n"
     ]
    },
    {
     "name": "stderr",
     "output_type": "stream",
     "text": [
      "10it [12:52, 77.36s/it]"
     ]
    },
    {
     "name": "stdout",
     "output_type": "stream",
     "text": [
      "4995:\tlearn: 0.0299474\ttotal: 1m 16s\tremaining: 61.1ms\n",
      "4999:\tlearn: 0.0299205\ttotal: 1m 16s\tremaining: 0us\n",
      "fold Loss 9:  0.08028409771379509\n",
      "---------------------------------------------------------------------------\n",
      "Learning rate set to 0.002361\n",
      "0:\tlearn: 0.6907981\ttotal: 25.2ms\tremaining: 2m 6s\n",
      "999:\tlearn: 0.1461217\ttotal: 15.4s\tremaining: 1m 1s\n",
      "1998:\tlearn: 0.0859402\ttotal: 30.8s\tremaining: 46.3s\n",
      "2997:\tlearn: 0.0583916\ttotal: 46.2s\tremaining: 30.9s\n",
      "3996:\tlearn: 0.0414928\ttotal: 1m 1s\tremaining: 15.4s\n"
     ]
    },
    {
     "name": "stderr",
     "output_type": "stream",
     "text": [
      "11it [14:10, 77.35s/it]"
     ]
    },
    {
     "name": "stdout",
     "output_type": "stream",
     "text": [
      "4995:\tlearn: 0.0299047\ttotal: 1m 16s\tremaining: 61.2ms\n",
      "4999:\tlearn: 0.0298679\ttotal: 1m 16s\tremaining: 0us\n",
      "fold Loss 10:  0.08590525916550694\n",
      "---------------------------------------------------------------------------\n",
      "Learning rate set to 0.002361\n",
      "0:\tlearn: 0.6906687\ttotal: 23.9ms\tremaining: 1m 59s\n",
      "999:\tlearn: 0.1424001\ttotal: 15.3s\tremaining: 1m 1s\n",
      "1998:\tlearn: 0.0840206\ttotal: 30.5s\tremaining: 45.8s\n",
      "2997:\tlearn: 0.0570804\ttotal: 45.8s\tremaining: 30.6s\n",
      "3996:\tlearn: 0.0404049\ttotal: 1m\tremaining: 15.2s\n",
      "4995:\tlearn: 0.0282708\ttotal: 1m 15s\tremaining: 60.7ms\n",
      "4999:\tlearn: 0.0282384\ttotal: 1m 15s\tremaining: 0us\n",
      "fold Loss 11:  0.15157005946939414\n"
     ]
    },
    {
     "name": "stderr",
     "output_type": "stream",
     "text": [
      "12it [15:26, 77.15s/it]"
     ]
    },
    {
     "name": "stdout",
     "output_type": "stream",
     "text": [
      "---------------------------------------------------------------------------\n",
      "Learning rate set to 0.002361\n",
      "0:\tlearn: 0.6906695\ttotal: 30.5ms\tremaining: 2m 32s\n",
      "999:\tlearn: 0.1463698\ttotal: 15.1s\tremaining: 1m\n",
      "1998:\tlearn: 0.0869340\ttotal: 30.2s\tremaining: 45.3s\n",
      "2997:\tlearn: 0.0581272\ttotal: 45.5s\tremaining: 30.4s\n",
      "3996:\tlearn: 0.0406830\ttotal: 1m\tremaining: 15.2s\n"
     ]
    },
    {
     "name": "stderr",
     "output_type": "stream",
     "text": [
      "13it [16:43, 77.03s/it]"
     ]
    },
    {
     "name": "stdout",
     "output_type": "stream",
     "text": [
      "4995:\tlearn: 0.0299601\ttotal: 1m 15s\tremaining: 60.8ms\n",
      "4999:\tlearn: 0.0299416\ttotal: 1m 15s\tremaining: 0us\n",
      "fold Loss 12:  0.04452405231540345\n",
      "---------------------------------------------------------------------------\n",
      "Learning rate set to 0.002361\n",
      "0:\tlearn: 0.6905624\ttotal: 22.8ms\tremaining: 1m 53s\n",
      "999:\tlearn: 0.1373531\ttotal: 15s\tremaining: 1m\n",
      "1998:\tlearn: 0.0797379\ttotal: 30.4s\tremaining: 45.6s\n",
      "2997:\tlearn: 0.0524593\ttotal: 45.7s\tremaining: 30.5s\n",
      "3996:\tlearn: 0.0359223\ttotal: 1m 1s\tremaining: 15.4s\n"
     ]
    },
    {
     "name": "stderr",
     "output_type": "stream",
     "text": [
      "14it [18:01, 77.15s/it]"
     ]
    },
    {
     "name": "stdout",
     "output_type": "stream",
     "text": [
      "4995:\tlearn: 0.0250369\ttotal: 1m 16s\tremaining: 61.3ms\n",
      "4999:\tlearn: 0.0250064\ttotal: 1m 16s\tremaining: 0us\n",
      "fold Loss 13:  0.3208335709567207\n",
      "---------------------------------------------------------------------------\n",
      "Learning rate set to 0.002361\n",
      "0:\tlearn: 0.6906292\ttotal: 24.5ms\tremaining: 2m 2s\n",
      "999:\tlearn: 0.1428535\ttotal: 15.7s\tremaining: 1m 2s\n",
      "1998:\tlearn: 0.0848390\ttotal: 30.9s\tremaining: 46.5s\n",
      "2997:\tlearn: 0.0569932\ttotal: 46.3s\tremaining: 30.9s\n",
      "3996:\tlearn: 0.0393555\ttotal: 1m 1s\tremaining: 15.4s\n"
     ]
    },
    {
     "name": "stderr",
     "output_type": "stream",
     "text": [
      "15it [19:18, 77.24s/it]"
     ]
    },
    {
     "name": "stdout",
     "output_type": "stream",
     "text": [
      "4995:\tlearn: 0.0281322\ttotal: 1m 16s\tremaining: 61.3ms\n",
      "4999:\tlearn: 0.0280826\ttotal: 1m 16s\tremaining: 0us\n",
      "fold Loss 14:  0.1274953971043479\n",
      "---------------------------------------------------------------------------\n",
      "Learning rate set to 0.002361\n",
      "0:\tlearn: 0.6905362\ttotal: 22.5ms\tremaining: 1m 52s\n",
      "999:\tlearn: 0.1415261\ttotal: 14.9s\tremaining: 59.7s\n",
      "1998:\tlearn: 0.0827602\ttotal: 30s\tremaining: 45.1s\n",
      "2997:\tlearn: 0.0553427\ttotal: 45.3s\tremaining: 30.2s\n",
      "3996:\tlearn: 0.0390653\ttotal: 1m\tremaining: 15.1s\n"
     ]
    },
    {
     "name": "stderr",
     "output_type": "stream",
     "text": [
      "16it [20:34, 76.99s/it]"
     ]
    },
    {
     "name": "stdout",
     "output_type": "stream",
     "text": [
      "4995:\tlearn: 0.0281557\ttotal: 1m 15s\tremaining: 60.5ms\n",
      "4999:\tlearn: 0.0281061\ttotal: 1m 15s\tremaining: 0us\n",
      "fold Loss 15:  0.15622902602199282\n",
      "---------------------------------------------------------------------------\n",
      "Learning rate set to 0.002361\n",
      "0:\tlearn: 0.6907360\ttotal: 23.3ms\tremaining: 1m 56s\n",
      "999:\tlearn: 0.1421749\ttotal: 15s\tremaining: 60s\n",
      "1998:\tlearn: 0.0843601\ttotal: 30.4s\tremaining: 45.7s\n",
      "2997:\tlearn: 0.0578097\ttotal: 45.3s\tremaining: 30.3s\n",
      "3996:\tlearn: 0.0403671\ttotal: 1m\tremaining: 15.2s\n"
     ]
    },
    {
     "name": "stderr",
     "output_type": "stream",
     "text": [
      "17it [21:51, 76.82s/it]"
     ]
    },
    {
     "name": "stdout",
     "output_type": "stream",
     "text": [
      "4995:\tlearn: 0.0288849\ttotal: 1m 15s\tremaining: 60.5ms\n",
      "4999:\tlearn: 0.0288149\ttotal: 1m 15s\tremaining: 0us\n",
      "fold Loss 16:  0.12018749708519\n",
      "---------------------------------------------------------------------------\n",
      "Learning rate set to 0.002361\n",
      "0:\tlearn: 0.6906960\ttotal: 23.8ms\tremaining: 1m 59s\n",
      "999:\tlearn: 0.1428233\ttotal: 15.6s\tremaining: 1m 2s\n",
      "1998:\tlearn: 0.0835525\ttotal: 30.9s\tremaining: 46.3s\n",
      "2997:\tlearn: 0.0558624\ttotal: 46.4s\tremaining: 31s\n",
      "3996:\tlearn: 0.0392169\ttotal: 1m 1s\tremaining: 15.5s\n"
     ]
    },
    {
     "name": "stderr",
     "output_type": "stream",
     "text": [
      "18it [23:09, 77.23s/it]"
     ]
    },
    {
     "name": "stdout",
     "output_type": "stream",
     "text": [
      "4995:\tlearn: 0.0286632\ttotal: 1m 17s\tremaining: 61.9ms\n",
      "4999:\tlearn: 0.0286446\ttotal: 1m 17s\tremaining: 0us\n",
      "fold Loss 17:  0.14465815750732564\n",
      "---------------------------------------------------------------------------\n",
      "Learning rate set to 0.002361\n",
      "0:\tlearn: 0.6906894\ttotal: 39.9ms\tremaining: 3m 19s\n",
      "999:\tlearn: 0.1426645\ttotal: 15.3s\tremaining: 1m 1s\n",
      "1998:\tlearn: 0.0834097\ttotal: 30.2s\tremaining: 45.4s\n",
      "2997:\tlearn: 0.0568960\ttotal: 45.7s\tremaining: 30.5s\n",
      "3996:\tlearn: 0.0398289\ttotal: 1m\tremaining: 15.3s\n"
     ]
    },
    {
     "name": "stderr",
     "output_type": "stream",
     "text": [
      "19it [24:26, 77.13s/it]"
     ]
    },
    {
     "name": "stdout",
     "output_type": "stream",
     "text": [
      "4995:\tlearn: 0.0274524\ttotal: 1m 16s\tremaining: 60.9ms\n",
      "4999:\tlearn: 0.0274123\ttotal: 1m 16s\tremaining: 0us\n",
      "fold Loss 18:  0.1258201189632701\n",
      "---------------------------------------------------------------------------\n",
      "Learning rate set to 0.002362\n",
      "0:\tlearn: 0.6906409\ttotal: 25ms\tremaining: 2m 4s\n",
      "999:\tlearn: 0.1462216\ttotal: 15s\tremaining: 59.9s\n",
      "1998:\tlearn: 0.0858878\ttotal: 30.5s\tremaining: 45.7s\n",
      "2997:\tlearn: 0.0577174\ttotal: 45.4s\tremaining: 30.3s\n",
      "3996:\tlearn: 0.0402672\ttotal: 1m\tremaining: 15.2s\n"
     ]
    },
    {
     "name": "stderr",
     "output_type": "stream",
     "text": [
      "20it [25:43, 77.16s/it]"
     ]
    },
    {
     "name": "stdout",
     "output_type": "stream",
     "text": [
      "4995:\tlearn: 0.0285861\ttotal: 1m 15s\tremaining: 60.7ms\n",
      "4999:\tlearn: 0.0285520\ttotal: 1m 15s\tremaining: 0us\n",
      "fold Loss 19:  0.07531808376758008\n",
      "---------------------------------------------------------------------------\n",
      "Training Loss: 0.030869243699771114\n",
      "Loss for sulfate:\n",
      "0.16161720740579624 0.0866321666287654\n",
      "==================================================================================================\n",
      "TARGET  sulfide\n"
     ]
    },
    {
     "name": "stderr",
     "output_type": "stream",
     "text": [
      "\n"
     ]
    },
    {
     "name": "stdout",
     "output_type": "stream",
     "text": [
      "0.1658355148613583\n"
     ]
    },
    {
     "name": "stderr",
     "output_type": "stream",
     "text": [
      "100%|██████████| 101/101 [00:00<00:00, 334352.57it/s]"
     ]
    },
    {
     "name": "stdout",
     "output_type": "stream",
     "text": [
      "7\n"
     ]
    },
    {
     "name": "stderr",
     "output_type": "stream",
     "text": [
      "\n"
     ]
    },
    {
     "name": "stdout",
     "output_type": "stream",
     "text": [
      "0.13944967191857482\n"
     ]
    },
    {
     "name": "stderr",
     "output_type": "stream",
     "text": [
      "100%|██████████| 900/900 [00:00<00:00, 1412223.57it/s]\n"
     ]
    },
    {
     "name": "stdout",
     "output_type": "stream",
     "text": [
      "32\n",
      "0.13251641046359897\n"
     ]
    },
    {
     "name": "stderr",
     "output_type": "stream",
     "text": [
      "100%|██████████| 1200/1200 [00:00<00:00, 1350822.54it/s]"
     ]
    },
    {
     "name": "stdout",
     "output_type": "stream",
     "text": [
      "35\n"
     ]
    },
    {
     "name": "stderr",
     "output_type": "stream",
     "text": [
      "\n"
     ]
    },
    {
     "name": "stdout",
     "output_type": "stream",
     "text": [
      "0.14279938535512862\n"
     ]
    },
    {
     "name": "stderr",
     "output_type": "stream",
     "text": [
      "100%|██████████| 1000/1000 [00:00<00:00, 889566.07it/s]\n"
     ]
    },
    {
     "name": "stdout",
     "output_type": "stream",
     "text": [
      "36\n",
      "(1059, 36) (1059, 7) (1059, 32) (1059, 35)\n",
      "(1059, 110)\n",
      "(804, 36) (804, 7) (804, 32) (804, 35)\n",
      "(804, 110)\n"
     ]
    },
    {
     "name": "stderr",
     "output_type": "stream",
     "text": [
      "0it [00:00, ?it/s]"
     ]
    },
    {
     "name": "stdout",
     "output_type": "stream",
     "text": [
      "Learning rate set to 0.002361\n",
      "0:\tlearn: 0.6883042\ttotal: 20.4ms\tremaining: 1m 42s\n",
      "999:\tlearn: 0.0386581\ttotal: 13.4s\tremaining: 53.6s\n",
      "1998:\tlearn: 0.0163025\ttotal: 27.3s\tremaining: 41s\n",
      "2997:\tlearn: 0.0094068\ttotal: 40.9s\tremaining: 27.3s\n",
      "3996:\tlearn: 0.0060911\ttotal: 54.5s\tremaining: 13.7s\n"
     ]
    },
    {
     "name": "stderr",
     "output_type": "stream",
     "text": [
      "1it [01:09, 69.42s/it]"
     ]
    },
    {
     "name": "stdout",
     "output_type": "stream",
     "text": [
      "4995:\tlearn: 0.0043228\ttotal: 1m 8s\tremaining: 54.9ms\n",
      "4999:\tlearn: 0.0043159\ttotal: 1m 8s\tremaining: 0us\n",
      "fold Loss 0:  0.021800382569847156\n",
      "---------------------------------------------------------------------------\n",
      "Learning rate set to 0.002361\n",
      "0:\tlearn: 0.6885056\ttotal: 19.6ms\tremaining: 1m 38s\n",
      "999:\tlearn: 0.0397212\ttotal: 13.3s\tremaining: 53.4s\n",
      "1998:\tlearn: 0.0167532\ttotal: 27s\tremaining: 40.5s\n",
      "2997:\tlearn: 0.0098397\ttotal: 40.3s\tremaining: 26.9s\n",
      "3996:\tlearn: 0.0064475\ttotal: 53.9s\tremaining: 13.5s\n"
     ]
    },
    {
     "name": "stderr",
     "output_type": "stream",
     "text": [
      "2it [02:17, 68.65s/it]"
     ]
    },
    {
     "name": "stdout",
     "output_type": "stream",
     "text": [
      "4995:\tlearn: 0.0047263\ttotal: 1m 7s\tremaining: 53.9ms\n",
      "4999:\tlearn: 0.0047191\ttotal: 1m 7s\tremaining: 0us\n",
      "fold Loss 1:  0.0043429065343154995\n",
      "---------------------------------------------------------------------------\n",
      "Learning rate set to 0.002361\n",
      "0:\tlearn: 0.6884933\ttotal: 26.5ms\tremaining: 2m 12s\n",
      "999:\tlearn: 0.0375455\ttotal: 13.5s\tremaining: 53.9s\n",
      "1998:\tlearn: 0.0154624\ttotal: 27s\tremaining: 40.6s\n",
      "2997:\tlearn: 0.0088167\ttotal: 40.4s\tremaining: 27s\n",
      "3996:\tlearn: 0.0059730\ttotal: 54.2s\tremaining: 13.6s\n"
     ]
    },
    {
     "name": "stderr",
     "output_type": "stream",
     "text": [
      "3it [03:25, 68.45s/it]"
     ]
    },
    {
     "name": "stdout",
     "output_type": "stream",
     "text": [
      "4995:\tlearn: 0.0043550\ttotal: 1m 7s\tremaining: 53.9ms\n",
      "4999:\tlearn: 0.0043503\ttotal: 1m 7s\tremaining: 0us\n",
      "fold Loss 2:  0.07091432168243401\n",
      "---------------------------------------------------------------------------\n",
      "Learning rate set to 0.002361\n",
      "0:\tlearn: 0.6887765\ttotal: 19.8ms\tremaining: 1m 39s\n",
      "999:\tlearn: 0.0360774\ttotal: 13.5s\tremaining: 54.2s\n",
      "1998:\tlearn: 0.0160336\ttotal: 27.1s\tremaining: 40.8s\n",
      "2997:\tlearn: 0.0092552\ttotal: 40.5s\tremaining: 27s\n",
      "3996:\tlearn: 0.0060258\ttotal: 54.2s\tremaining: 13.6s\n"
     ]
    },
    {
     "name": "stderr",
     "output_type": "stream",
     "text": [
      "4it [04:34, 68.47s/it]"
     ]
    },
    {
     "name": "stdout",
     "output_type": "stream",
     "text": [
      "4995:\tlearn: 0.0043006\ttotal: 1m 7s\tremaining: 54.2ms\n",
      "4999:\tlearn: 0.0042947\ttotal: 1m 7s\tremaining: 0us\n",
      "fold Loss 3:  0.0947026959248397\n",
      "---------------------------------------------------------------------------\n",
      "Learning rate set to 0.002361\n",
      "0:\tlearn: 0.6883102\ttotal: 19.2ms\tremaining: 1m 36s\n",
      "999:\tlearn: 0.0386835\ttotal: 13.9s\tremaining: 55.7s\n",
      "1998:\tlearn: 0.0164062\ttotal: 27.4s\tremaining: 41.1s\n",
      "2997:\tlearn: 0.0094820\ttotal: 41.3s\tremaining: 27.6s\n",
      "3996:\tlearn: 0.0061980\ttotal: 54.6s\tremaining: 13.7s\n"
     ]
    },
    {
     "name": "stderr",
     "output_type": "stream",
     "text": [
      "5it [05:43, 68.59s/it]"
     ]
    },
    {
     "name": "stdout",
     "output_type": "stream",
     "text": [
      "4995:\tlearn: 0.0045991\ttotal: 1m 7s\tremaining: 54.4ms\n",
      "4999:\tlearn: 0.0045939\ttotal: 1m 7s\tremaining: 0us\n",
      "fold Loss 4:  0.043750003709666196\n",
      "---------------------------------------------------------------------------\n",
      "Learning rate set to 0.002361\n",
      "0:\tlearn: 0.6883419\ttotal: 26ms\tremaining: 2m 9s\n",
      "999:\tlearn: 0.0379811\ttotal: 13.8s\tremaining: 55.3s\n",
      "1998:\tlearn: 0.0162614\ttotal: 27.4s\tremaining: 41.1s\n",
      "2997:\tlearn: 0.0094503\ttotal: 41s\tremaining: 27.4s\n",
      "3996:\tlearn: 0.0064375\ttotal: 54.5s\tremaining: 13.7s\n"
     ]
    },
    {
     "name": "stderr",
     "output_type": "stream",
     "text": [
      "6it [06:51, 68.68s/it]"
     ]
    },
    {
     "name": "stdout",
     "output_type": "stream",
     "text": [
      "4995:\tlearn: 0.0046818\ttotal: 1m 8s\tremaining: 54.5ms\n",
      "4999:\tlearn: 0.0046754\ttotal: 1m 8s\tremaining: 0us\n",
      "fold Loss 5:  0.033647138391375744\n",
      "---------------------------------------------------------------------------\n",
      "Learning rate set to 0.002361\n",
      "0:\tlearn: 0.6881409\ttotal: 21.3ms\tremaining: 1m 46s\n",
      "999:\tlearn: 0.0348935\ttotal: 13.3s\tremaining: 53.3s\n",
      "1998:\tlearn: 0.0143193\ttotal: 26.7s\tremaining: 40.1s\n",
      "2997:\tlearn: 0.0080879\ttotal: 40.2s\tremaining: 26.8s\n",
      "3996:\tlearn: 0.0055236\ttotal: 53.4s\tremaining: 13.4s\n"
     ]
    },
    {
     "name": "stderr",
     "output_type": "stream",
     "text": [
      "7it [08:00, 68.50s/it]"
     ]
    },
    {
     "name": "stdout",
     "output_type": "stream",
     "text": [
      "4995:\tlearn: 0.0040390\ttotal: 1m 7s\tremaining: 53.9ms\n",
      "4999:\tlearn: 0.0040344\ttotal: 1m 7s\tremaining: 0us\n",
      "fold Loss 6:  0.15304084141014732\n",
      "---------------------------------------------------------------------------\n",
      "Learning rate set to 0.002361\n",
      "0:\tlearn: 0.6883106\ttotal: 20.7ms\tremaining: 1m 43s\n",
      "999:\tlearn: 0.0393450\ttotal: 13.2s\tremaining: 52.7s\n",
      "1998:\tlearn: 0.0165056\ttotal: 26.5s\tremaining: 39.7s\n",
      "2997:\tlearn: 0.0094647\ttotal: 40.1s\tremaining: 26.8s\n",
      "3996:\tlearn: 0.0062810\ttotal: 53.4s\tremaining: 13.4s\n"
     ]
    },
    {
     "name": "stderr",
     "output_type": "stream",
     "text": [
      "8it [09:08, 68.39s/it]"
     ]
    },
    {
     "name": "stdout",
     "output_type": "stream",
     "text": [
      "4995:\tlearn: 0.0045013\ttotal: 1m 7s\tremaining: 53.9ms\n",
      "4999:\tlearn: 0.0044953\ttotal: 1m 7s\tremaining: 0us\n",
      "fold Loss 7:  0.04713228874142191\n",
      "---------------------------------------------------------------------------\n",
      "Learning rate set to 0.002361\n",
      "0:\tlearn: 0.6883663\ttotal: 26ms\tremaining: 2m 9s\n",
      "999:\tlearn: 0.0383807\ttotal: 13.5s\tremaining: 53.8s\n",
      "1998:\tlearn: 0.0161322\ttotal: 27.1s\tremaining: 40.7s\n",
      "2997:\tlearn: 0.0093271\ttotal: 40.6s\tremaining: 27.1s\n",
      "3996:\tlearn: 0.0061253\ttotal: 54.2s\tremaining: 13.6s\n"
     ]
    },
    {
     "name": "stderr",
     "output_type": "stream",
     "text": [
      "9it [10:16, 68.45s/it]"
     ]
    },
    {
     "name": "stdout",
     "output_type": "stream",
     "text": [
      "4995:\tlearn: 0.0044264\ttotal: 1m 7s\tremaining: 54.2ms\n",
      "4999:\tlearn: 0.0044198\ttotal: 1m 7s\tremaining: 0us\n",
      "fold Loss 8:  0.00866615780709018\n",
      "---------------------------------------------------------------------------\n",
      "Learning rate set to 0.002361\n",
      "0:\tlearn: 0.6881677\ttotal: 19.4ms\tremaining: 1m 37s\n",
      "999:\tlearn: 0.0363047\ttotal: 13.3s\tremaining: 53.3s\n",
      "1998:\tlearn: 0.0148426\ttotal: 27.1s\tremaining: 40.6s\n",
      "2997:\tlearn: 0.0083933\ttotal: 40.4s\tremaining: 27s\n",
      "3996:\tlearn: 0.0054972\ttotal: 54.8s\tremaining: 13.7s\n"
     ]
    },
    {
     "name": "stderr",
     "output_type": "stream",
     "text": [
      "10it [11:26, 68.87s/it]"
     ]
    },
    {
     "name": "stdout",
     "output_type": "stream",
     "text": [
      "4995:\tlearn: 0.0039796\ttotal: 1m 8s\tremaining: 55.2ms\n",
      "4999:\tlearn: 0.0039766\ttotal: 1m 9s\tremaining: 0us\n",
      "fold Loss 9:  0.11423701526809578\n",
      "---------------------------------------------------------------------------\n",
      "Learning rate set to 0.002361\n",
      "0:\tlearn: 0.6881037\ttotal: 19.8ms\tremaining: 1m 39s\n",
      "999:\tlearn: 0.0379080\ttotal: 13.6s\tremaining: 54.4s\n",
      "1998:\tlearn: 0.0157933\ttotal: 26.9s\tremaining: 40.3s\n",
      "2997:\tlearn: 0.0091488\ttotal: 40.3s\tremaining: 26.9s\n",
      "3996:\tlearn: 0.0058986\ttotal: 53.9s\tremaining: 13.5s\n"
     ]
    },
    {
     "name": "stderr",
     "output_type": "stream",
     "text": [
      "11it [12:34, 68.61s/it]"
     ]
    },
    {
     "name": "stdout",
     "output_type": "stream",
     "text": [
      "4995:\tlearn: 0.0044465\ttotal: 1m 7s\tremaining: 53.8ms\n",
      "4999:\tlearn: 0.0044430\ttotal: 1m 7s\tremaining: 0us\n",
      "fold Loss 10:  0.05180438346737401\n",
      "---------------------------------------------------------------------------\n",
      "Learning rate set to 0.002361\n",
      "0:\tlearn: 0.6882156\ttotal: 29.4ms\tremaining: 2m 27s\n",
      "999:\tlearn: 0.0357036\ttotal: 13.8s\tremaining: 55.2s\n",
      "1998:\tlearn: 0.0145120\ttotal: 27s\tremaining: 40.5s\n",
      "2997:\tlearn: 0.0082935\ttotal: 40.2s\tremaining: 26.8s\n",
      "3996:\tlearn: 0.0056271\ttotal: 54s\tremaining: 13.6s\n"
     ]
    },
    {
     "name": "stderr",
     "output_type": "stream",
     "text": [
      "12it [13:42, 68.47s/it]"
     ]
    },
    {
     "name": "stdout",
     "output_type": "stream",
     "text": [
      "4995:\tlearn: 0.0043369\ttotal: 1m 7s\tremaining: 53.9ms\n",
      "4999:\tlearn: 0.0043337\ttotal: 1m 7s\tremaining: 0us\n",
      "fold Loss 11:  0.08884912979478561\n",
      "---------------------------------------------------------------------------\n",
      "Learning rate set to 0.002361\n",
      "0:\tlearn: 0.6883207\ttotal: 19.4ms\tremaining: 1m 36s\n",
      "999:\tlearn: 0.0365677\ttotal: 13.7s\tremaining: 54.8s\n",
      "1998:\tlearn: 0.0163326\ttotal: 27.3s\tremaining: 41s\n",
      "2997:\tlearn: 0.0095667\ttotal: 41s\tremaining: 27.4s\n",
      "3996:\tlearn: 0.0063842\ttotal: 54.5s\tremaining: 13.7s\n"
     ]
    },
    {
     "name": "stderr",
     "output_type": "stream",
     "text": [
      "13it [14:51, 68.62s/it]"
     ]
    },
    {
     "name": "stdout",
     "output_type": "stream",
     "text": [
      "4995:\tlearn: 0.0044163\ttotal: 1m 8s\tremaining: 54.5ms\n",
      "4999:\tlearn: 0.0044094\ttotal: 1m 8s\tremaining: 0us\n",
      "fold Loss 12:  0.02709157179625684\n",
      "---------------------------------------------------------------------------\n",
      "Learning rate set to 0.002361\n",
      "0:\tlearn: 0.6883307\ttotal: 19.7ms\tremaining: 1m 38s\n",
      "999:\tlearn: 0.0395518\ttotal: 13.6s\tremaining: 54.5s\n",
      "1998:\tlearn: 0.0163365\ttotal: 26.9s\tremaining: 40.3s\n",
      "2997:\tlearn: 0.0094804\ttotal: 40.6s\tremaining: 27.1s\n",
      "3996:\tlearn: 0.0062841\ttotal: 53.8s\tremaining: 13.5s\n"
     ]
    },
    {
     "name": "stderr",
     "output_type": "stream",
     "text": [
      "14it [15:59, 68.49s/it]"
     ]
    },
    {
     "name": "stdout",
     "output_type": "stream",
     "text": [
      "4995:\tlearn: 0.0044649\ttotal: 1m 7s\tremaining: 53.9ms\n",
      "4999:\tlearn: 0.0044603\ttotal: 1m 7s\tremaining: 0us\n",
      "fold Loss 13:  0.018338336099363736\n",
      "---------------------------------------------------------------------------\n",
      "Learning rate set to 0.002361\n",
      "0:\tlearn: 0.6882788\ttotal: 25.4ms\tremaining: 2m 6s\n",
      "999:\tlearn: 0.0380652\ttotal: 13.4s\tremaining: 53.7s\n",
      "1998:\tlearn: 0.0161572\ttotal: 26.7s\tremaining: 40.1s\n",
      "2997:\tlearn: 0.0092719\ttotal: 40.2s\tremaining: 26.9s\n",
      "3996:\tlearn: 0.0062157\ttotal: 53.6s\tremaining: 13.5s\n"
     ]
    },
    {
     "name": "stderr",
     "output_type": "stream",
     "text": [
      "15it [17:07, 68.33s/it]"
     ]
    },
    {
     "name": "stdout",
     "output_type": "stream",
     "text": [
      "4995:\tlearn: 0.0044024\ttotal: 1m 7s\tremaining: 53.8ms\n",
      "4999:\tlearn: 0.0043986\ttotal: 1m 7s\tremaining: 0us\n",
      "fold Loss 14:  0.005644663216533679\n",
      "---------------------------------------------------------------------------\n",
      "Learning rate set to 0.002361\n",
      "0:\tlearn: 0.6881812\ttotal: 19.8ms\tremaining: 1m 39s\n",
      "999:\tlearn: 0.0383087\ttotal: 13.3s\tremaining: 53.3s\n",
      "1998:\tlearn: 0.0160446\ttotal: 27.1s\tremaining: 40.6s\n",
      "2997:\tlearn: 0.0093744\ttotal: 40.2s\tremaining: 26.8s\n",
      "3996:\tlearn: 0.0062716\ttotal: 53.7s\tremaining: 13.5s\n"
     ]
    },
    {
     "name": "stderr",
     "output_type": "stream",
     "text": [
      "16it [18:16, 68.35s/it]"
     ]
    },
    {
     "name": "stdout",
     "output_type": "stream",
     "text": [
      "4995:\tlearn: 0.0045492\ttotal: 1m 7s\tremaining: 54.1ms\n",
      "4999:\tlearn: 0.0045432\ttotal: 1m 7s\tremaining: 0us\n",
      "fold Loss 15:  0.014142803751135672\n",
      "---------------------------------------------------------------------------\n",
      "Learning rate set to 0.002361\n",
      "0:\tlearn: 0.6883315\ttotal: 20.4ms\tremaining: 1m 41s\n",
      "999:\tlearn: 0.0360122\ttotal: 13.5s\tremaining: 54s\n",
      "1998:\tlearn: 0.0158382\ttotal: 27.2s\tremaining: 40.9s\n",
      "2997:\tlearn: 0.0092721\ttotal: 40.8s\tremaining: 27.2s\n",
      "3996:\tlearn: 0.0063231\ttotal: 54.4s\tremaining: 13.7s\n"
     ]
    },
    {
     "name": "stderr",
     "output_type": "stream",
     "text": [
      "17it [19:24, 68.44s/it]"
     ]
    },
    {
     "name": "stdout",
     "output_type": "stream",
     "text": [
      "4995:\tlearn: 0.0045601\ttotal: 1m 7s\tremaining: 54.3ms\n",
      "4999:\tlearn: 0.0045563\ttotal: 1m 7s\tremaining: 0us\n",
      "fold Loss 16:  0.1875554908898989\n",
      "---------------------------------------------------------------------------\n",
      "Learning rate set to 0.002361\n",
      "0:\tlearn: 0.6880558\ttotal: 25.3ms\tremaining: 2m 6s\n",
      "999:\tlearn: 0.0376654\ttotal: 13.4s\tremaining: 53.5s\n",
      "1998:\tlearn: 0.0161945\ttotal: 26.9s\tremaining: 40.4s\n",
      "2997:\tlearn: 0.0094271\ttotal: 40.2s\tremaining: 26.9s\n",
      "3996:\tlearn: 0.0063560\ttotal: 54s\tremaining: 13.6s\n"
     ]
    },
    {
     "name": "stderr",
     "output_type": "stream",
     "text": [
      "18it [20:33, 68.35s/it]"
     ]
    },
    {
     "name": "stdout",
     "output_type": "stream",
     "text": [
      "4995:\tlearn: 0.0046272\ttotal: 1m 7s\tremaining: 53.9ms\n",
      "4999:\tlearn: 0.0046209\ttotal: 1m 7s\tremaining: 0us\n",
      "fold Loss 17:  0.08607570958022942\n",
      "---------------------------------------------------------------------------\n",
      "Learning rate set to 0.002361\n",
      "0:\tlearn: 0.6878804\ttotal: 19.6ms\tremaining: 1m 37s\n",
      "999:\tlearn: 0.0373258\ttotal: 13.6s\tremaining: 54.3s\n",
      "1998:\tlearn: 0.0153432\ttotal: 27s\tremaining: 40.6s\n",
      "2997:\tlearn: 0.0087306\ttotal: 40.3s\tremaining: 26.9s\n",
      "3996:\tlearn: 0.0057310\ttotal: 53.8s\tremaining: 13.5s\n"
     ]
    },
    {
     "name": "stderr",
     "output_type": "stream",
     "text": [
      "19it [21:41, 68.27s/it]"
     ]
    },
    {
     "name": "stdout",
     "output_type": "stream",
     "text": [
      "4995:\tlearn: 0.0042424\ttotal: 1m 7s\tremaining: 53.8ms\n",
      "4999:\tlearn: 0.0042378\ttotal: 1m 7s\tremaining: 0us\n",
      "fold Loss 18:  0.0657393646747153\n",
      "---------------------------------------------------------------------------\n",
      "Learning rate set to 0.002362\n",
      "0:\tlearn: 0.6888205\ttotal: 19.6ms\tremaining: 1m 37s\n",
      "999:\tlearn: 0.0356505\ttotal: 13.7s\tremaining: 54.7s\n",
      "1998:\tlearn: 0.0142865\ttotal: 27s\tremaining: 40.5s\n",
      "2997:\tlearn: 0.0081004\ttotal: 40.5s\tremaining: 27.1s\n",
      "3996:\tlearn: 0.0053895\ttotal: 53.9s\tremaining: 13.5s\n"
     ]
    },
    {
     "name": "stderr",
     "output_type": "stream",
     "text": [
      "20it [22:49, 68.46s/it]"
     ]
    },
    {
     "name": "stdout",
     "output_type": "stream",
     "text": [
      "4995:\tlearn: 0.0038481\ttotal: 1m 7s\tremaining: 53.8ms\n",
      "4999:\tlearn: 0.0038447\ttotal: 1m 7s\tremaining: 0us\n",
      "fold Loss 19:  0.12336370562098899\n",
      "---------------------------------------------------------------------------\n",
      "Training Loss: 0.009718581163399218\n",
      "Loss for sulfide:\n",
      "0.06304194554652578 0.05041156241580525\n",
      "==================================================================================================\n",
      "AGG Loss: [0.12833769 0.07830791 0.15321949 0.19756311 0.00575638 0.14176394\n",
      " 0.21407855 0.1712562  0.16161721 0.06304195]\n",
      "AGG Loss mean: 0.1314942416744978\n"
     ]
    },
    {
     "name": "stderr",
     "output_type": "stream",
     "text": [
      "\n"
     ]
    }
   ],
   "source": [
    "agg_loss = []\n",
    "for target in targets.columns:\n",
    "    print('TARGET ',target)\n",
    "    imp_fts = {}\n",
    "    \n",
    "    #  get all imp coefs for the target\n",
    "    t_100_coefs = get_coefs(t_100,targets[target],1)\n",
    "    g_100_coefs = get_coefs(g_100,targets[target],5)\n",
    "    m_100_coefs = get_coefs(m_100,targets[target],10)\n",
    "    o_100_coefs = get_coefs(train_set_200,targets[target],10)\n",
    "    \n",
    "    imp_fts['o_100_coefs'] = o_100_coefs\n",
    "    imp_fts['t_100_coefs'] = t_100_coefs\n",
    "    imp_fts['g_100_coefs'] = g_100_coefs\n",
    "    imp_fts['m_100_coefs'] = m_100_coefs\n",
    "\n",
    "    # get all imp_dfs and concat them\n",
    "    train_imp_ = train_set_200.iloc[:,o_100_coefs]\n",
    "    t_100_imp_ = t_100.iloc[:,t_100_coefs]\n",
    "    g_100_imp_ = g_100.iloc[:,g_100_coefs]\n",
    "    m_100_imp_ = m_100.iloc[:,m_100_coefs]\n",
    "\n",
    "    print(train_imp_.shape,t_100_imp_.shape,g_100_imp_.shape,m_100_imp_.shape)\n",
    "    X = pd.concat([train_imp_,t_100_imp_,g_100_imp_,m_100_imp_],axis=1)\n",
    "    print(X.shape)\n",
    "\n",
    "    # same goes for test set\n",
    "    test_imp_ = test_set_200.iloc[:,o_100_coefs]\n",
    "    t_100_imp_test = t_100_test.iloc[:,t_100_coefs]\n",
    "    g_100_imp_test = g_100_test.iloc[:,g_100_coefs]\n",
    "    m_100_imp_test = m_100_test.iloc[:,m_100_coefs]\n",
    "\n",
    "    print(test_imp_.shape,t_100_imp_test.shape,g_100_imp_test.shape,m_100_imp_test.shape)\n",
    "    \n",
    "    X_test = pd.concat([test_imp_, t_100_imp_test, g_100_imp_test, m_100_imp_test],axis=1)\n",
    "    print(X_test.shape)\n",
    "    \n",
    "    #  add feature\n",
    "    X['is_sam'] = 0\n",
    "    X.loc[sam_id[:12],'is_sam'] = 1\n",
    "    X_test['is_sam'] = 0\n",
    "    X_test.loc[sam_id[12:],'is_sam'] = 1\n",
    "    \n",
    "    \n",
    "    assert (X.columns == X_test.columns).all()\n",
    "\n",
    "    oof_train = np.zeros((ntrain,))\n",
    "    oof_test = np.zeros((ntest,))\n",
    "    oof_test_skf = np.empty((NFOLDS, ntest))\n",
    "    \n",
    "    Y = targets[target]\n",
    "\n",
    "    cb_clf = CatBoostClassifier(verbose=999,random_seed=RANDOM_SEED,n_estimators=5000)\n",
    "    cv_loss = []\n",
    "    for fold, (train_id, test_id) in enumerate(tqdm(skf.split(X,Y))):\n",
    "\n",
    "        X_train, Y_train = X.iloc[train_id,], Y.iloc[train_id,]\n",
    "        X_val, Y_val = X.iloc[test_id,], Y.iloc[test_id,]\n",
    "        #  ohh man unwanted semi colon in iloc throws an error...\n",
    "        \n",
    "        # train model  and pred on oof folds\n",
    "        cb_clf.fit(X_train.values,Y_train)\n",
    "        y_preds = cb_clf.predict_proba(X_val.values)[:,1]\n",
    "        fold_loss = log_loss(Y_val,y_preds)\n",
    "        print(f'fold Loss {fold}: ',fold_loss)\n",
    "        cv_loss.append(fold_loss)\n",
    "\n",
    "        oof_train[test_id] = y_preds\n",
    "        oof_test_skf[fold,:] = cb_clf.predict_proba(X_test.values)[:,1]\n",
    "        \n",
    "        print(\"---------------------------------------------------------------------------\")\n",
    "        \n",
    "    print('Training Loss:', log_loss(Y,cb_clf.predict_proba(X.values)[:,1]))\n",
    "    \n",
    "    oof_test[:] = oof_test_skf.mean(axis=0)\n",
    "    oof_test_df[target] = oof_test\n",
    "    oof_train_df[target] = oof_train\n",
    "\n",
    "    print(f'Loss for {target}:')\n",
    "    print(np.array(cv_loss).mean(),np.array(cv_loss).std())\n",
    "    agg_loss.append(np.array(cv_loss).mean())\n",
    "    print(\"==================================================================================================\")\n",
    "\n",
    "print('AGG Loss:',np.array(agg_loss))\n",
    "print('AGG Loss mean:',np.array(agg_loss).mean())"
   ]
  },
  {
   "cell_type": "code",
   "execution_count": 31,
   "id": "6a77c135",
   "metadata": {
    "execution": {
     "iopub.execute_input": "2022-04-18T00:49:54.114298Z",
     "iopub.status.busy": "2022-04-18T00:49:54.113643Z",
     "iopub.status.idle": "2022-04-18T00:49:54.116434Z",
     "shell.execute_reply": "2022-04-18T00:49:54.117002Z",
     "shell.execute_reply.started": "2022-04-10T12:42:32.882106Z"
    },
    "papermill": {
     "duration": 0.503429,
     "end_time": "2022-04-18T00:49:54.117183",
     "exception": false,
     "start_time": "2022-04-18T00:49:53.613754",
     "status": "completed"
    },
    "tags": []
   },
   "outputs": [
    {
     "name": "stdout",
     "output_type": "stream",
     "text": [
      "0.1314942416744978\n"
     ]
    }
   ],
   "source": [
    "print(np.array(agg_loss).mean())"
   ]
  },
  {
   "cell_type": "code",
   "execution_count": 32,
   "id": "1f978a32",
   "metadata": {
    "execution": {
     "iopub.execute_input": "2022-04-18T00:49:55.133816Z",
     "iopub.status.busy": "2022-04-18T00:49:55.133199Z",
     "iopub.status.idle": "2022-04-18T00:49:55.135907Z",
     "shell.execute_reply": "2022-04-18T00:49:55.135393Z",
     "shell.execute_reply.started": "2022-04-10T12:53:38.204095Z"
    },
    "papermill": {
     "duration": 0.503228,
     "end_time": "2022-04-18T00:49:55.136063",
     "exception": false,
     "start_time": "2022-04-18T00:49:54.632835",
     "status": "completed"
    },
    "tags": []
   },
   "outputs": [],
   "source": [
    "test_preds = oof_test_df.iloc[:293]\n",
    "train_preds = oof_train_df.iloc[766:]"
   ]
  },
  {
   "cell_type": "code",
   "execution_count": 33,
   "id": "b377c6b4",
   "metadata": {
    "execution": {
     "iopub.execute_input": "2022-04-18T00:49:56.117256Z",
     "iopub.status.busy": "2022-04-18T00:49:56.116598Z",
     "iopub.status.idle": "2022-04-18T00:49:56.166149Z",
     "shell.execute_reply": "2022-04-18T00:49:56.166653Z",
     "shell.execute_reply.started": "2022-04-10T12:53:39.859435Z"
    },
    "papermill": {
     "duration": 0.544841,
     "end_time": "2022-04-18T00:49:56.166831",
     "exception": false,
     "start_time": "2022-04-18T00:49:55.621990",
     "status": "completed"
    },
    "tags": []
   },
   "outputs": [
    {
     "data": {
      "text/html": [
       "<div>\n",
       "<style scoped>\n",
       "    .dataframe tbody tr th:only-of-type {\n",
       "        vertical-align: middle;\n",
       "    }\n",
       "\n",
       "    .dataframe tbody tr th {\n",
       "        vertical-align: top;\n",
       "    }\n",
       "\n",
       "    .dataframe thead th {\n",
       "        text-align: right;\n",
       "    }\n",
       "</style>\n",
       "<table border=\"1\" class=\"dataframe\">\n",
       "  <thead>\n",
       "    <tr style=\"text-align: right;\">\n",
       "      <th></th>\n",
       "      <th>sample_id</th>\n",
       "      <th>basalt</th>\n",
       "      <th>carbonate</th>\n",
       "      <th>chloride</th>\n",
       "      <th>iron_oxide</th>\n",
       "      <th>oxalate</th>\n",
       "      <th>oxychlorine</th>\n",
       "      <th>phyllosilicate</th>\n",
       "      <th>silicate</th>\n",
       "      <th>sulfate</th>\n",
       "      <th>sulfide</th>\n",
       "    </tr>\n",
       "  </thead>\n",
       "  <tbody>\n",
       "    <tr>\n",
       "      <th>766</th>\n",
       "      <td>NaN</td>\n",
       "      <td>0.002205</td>\n",
       "      <td>0.001679</td>\n",
       "      <td>0.010964</td>\n",
       "      <td>0.007103</td>\n",
       "      <td>0.000552</td>\n",
       "      <td>0.004424</td>\n",
       "      <td>0.012242</td>\n",
       "      <td>0.091159</td>\n",
       "      <td>0.008306</td>\n",
       "      <td>0.001484</td>\n",
       "    </tr>\n",
       "    <tr>\n",
       "      <th>767</th>\n",
       "      <td>NaN</td>\n",
       "      <td>0.030568</td>\n",
       "      <td>0.006904</td>\n",
       "      <td>0.002112</td>\n",
       "      <td>0.014314</td>\n",
       "      <td>0.000055</td>\n",
       "      <td>0.012394</td>\n",
       "      <td>0.010269</td>\n",
       "      <td>0.140084</td>\n",
       "      <td>0.021893</td>\n",
       "      <td>0.000770</td>\n",
       "    </tr>\n",
       "    <tr>\n",
       "      <th>768</th>\n",
       "      <td>NaN</td>\n",
       "      <td>0.929668</td>\n",
       "      <td>0.106316</td>\n",
       "      <td>0.001258</td>\n",
       "      <td>0.101595</td>\n",
       "      <td>0.000435</td>\n",
       "      <td>0.020045</td>\n",
       "      <td>0.817536</td>\n",
       "      <td>0.889520</td>\n",
       "      <td>0.027732</td>\n",
       "      <td>0.000870</td>\n",
       "    </tr>\n",
       "    <tr>\n",
       "      <th>769</th>\n",
       "      <td>NaN</td>\n",
       "      <td>0.008095</td>\n",
       "      <td>0.003535</td>\n",
       "      <td>0.032972</td>\n",
       "      <td>0.032851</td>\n",
       "      <td>0.000041</td>\n",
       "      <td>0.967057</td>\n",
       "      <td>0.044719</td>\n",
       "      <td>0.005771</td>\n",
       "      <td>0.962424</td>\n",
       "      <td>0.000585</td>\n",
       "    </tr>\n",
       "    <tr>\n",
       "      <th>770</th>\n",
       "      <td>NaN</td>\n",
       "      <td>0.005059</td>\n",
       "      <td>0.003026</td>\n",
       "      <td>0.026366</td>\n",
       "      <td>0.677561</td>\n",
       "      <td>0.000075</td>\n",
       "      <td>0.983361</td>\n",
       "      <td>0.972816</td>\n",
       "      <td>0.003374</td>\n",
       "      <td>0.003930</td>\n",
       "      <td>0.000303</td>\n",
       "    </tr>\n",
       "    <tr>\n",
       "      <th>...</th>\n",
       "      <td>...</td>\n",
       "      <td>...</td>\n",
       "      <td>...</td>\n",
       "      <td>...</td>\n",
       "      <td>...</td>\n",
       "      <td>...</td>\n",
       "      <td>...</td>\n",
       "      <td>...</td>\n",
       "      <td>...</td>\n",
       "      <td>...</td>\n",
       "      <td>...</td>\n",
       "    </tr>\n",
       "    <tr>\n",
       "      <th>1054</th>\n",
       "      <td>NaN</td>\n",
       "      <td>0.004921</td>\n",
       "      <td>0.003283</td>\n",
       "      <td>0.011794</td>\n",
       "      <td>0.016838</td>\n",
       "      <td>0.000150</td>\n",
       "      <td>0.006136</td>\n",
       "      <td>0.013741</td>\n",
       "      <td>0.033849</td>\n",
       "      <td>0.009203</td>\n",
       "      <td>0.000293</td>\n",
       "    </tr>\n",
       "    <tr>\n",
       "      <th>1055</th>\n",
       "      <td>NaN</td>\n",
       "      <td>0.007255</td>\n",
       "      <td>0.004034</td>\n",
       "      <td>0.011545</td>\n",
       "      <td>0.032297</td>\n",
       "      <td>0.002404</td>\n",
       "      <td>0.014885</td>\n",
       "      <td>0.012135</td>\n",
       "      <td>0.856998</td>\n",
       "      <td>0.002497</td>\n",
       "      <td>0.000631</td>\n",
       "    </tr>\n",
       "    <tr>\n",
       "      <th>1056</th>\n",
       "      <td>NaN</td>\n",
       "      <td>0.002952</td>\n",
       "      <td>0.005595</td>\n",
       "      <td>0.001866</td>\n",
       "      <td>0.011255</td>\n",
       "      <td>0.998571</td>\n",
       "      <td>0.002108</td>\n",
       "      <td>0.003464</td>\n",
       "      <td>0.003171</td>\n",
       "      <td>0.001589</td>\n",
       "      <td>0.001072</td>\n",
       "    </tr>\n",
       "    <tr>\n",
       "      <th>1057</th>\n",
       "      <td>NaN</td>\n",
       "      <td>0.004113</td>\n",
       "      <td>0.947583</td>\n",
       "      <td>0.013057</td>\n",
       "      <td>0.027860</td>\n",
       "      <td>0.000669</td>\n",
       "      <td>0.004244</td>\n",
       "      <td>0.035782</td>\n",
       "      <td>0.007563</td>\n",
       "      <td>0.003277</td>\n",
       "      <td>0.000864</td>\n",
       "    </tr>\n",
       "    <tr>\n",
       "      <th>1058</th>\n",
       "      <td>NaN</td>\n",
       "      <td>0.006732</td>\n",
       "      <td>0.001601</td>\n",
       "      <td>0.011644</td>\n",
       "      <td>0.009189</td>\n",
       "      <td>0.000049</td>\n",
       "      <td>0.002985</td>\n",
       "      <td>0.971327</td>\n",
       "      <td>0.007720</td>\n",
       "      <td>0.004365</td>\n",
       "      <td>0.000603</td>\n",
       "    </tr>\n",
       "  </tbody>\n",
       "</table>\n",
       "<p>293 rows × 11 columns</p>\n",
       "</div>"
      ],
      "text/plain": [
       "     sample_id    basalt  carbonate  chloride  iron_oxide   oxalate  \\\n",
       "766        NaN  0.002205   0.001679  0.010964    0.007103  0.000552   \n",
       "767        NaN  0.030568   0.006904  0.002112    0.014314  0.000055   \n",
       "768        NaN  0.929668   0.106316  0.001258    0.101595  0.000435   \n",
       "769        NaN  0.008095   0.003535  0.032972    0.032851  0.000041   \n",
       "770        NaN  0.005059   0.003026  0.026366    0.677561  0.000075   \n",
       "...        ...       ...        ...       ...         ...       ...   \n",
       "1054       NaN  0.004921   0.003283  0.011794    0.016838  0.000150   \n",
       "1055       NaN  0.007255   0.004034  0.011545    0.032297  0.002404   \n",
       "1056       NaN  0.002952   0.005595  0.001866    0.011255  0.998571   \n",
       "1057       NaN  0.004113   0.947583  0.013057    0.027860  0.000669   \n",
       "1058       NaN  0.006732   0.001601  0.011644    0.009189  0.000049   \n",
       "\n",
       "      oxychlorine  phyllosilicate  silicate   sulfate   sulfide  \n",
       "766      0.004424        0.012242  0.091159  0.008306  0.001484  \n",
       "767      0.012394        0.010269  0.140084  0.021893  0.000770  \n",
       "768      0.020045        0.817536  0.889520  0.027732  0.000870  \n",
       "769      0.967057        0.044719  0.005771  0.962424  0.000585  \n",
       "770      0.983361        0.972816  0.003374  0.003930  0.000303  \n",
       "...           ...             ...       ...       ...       ...  \n",
       "1054     0.006136        0.013741  0.033849  0.009203  0.000293  \n",
       "1055     0.014885        0.012135  0.856998  0.002497  0.000631  \n",
       "1056     0.002108        0.003464  0.003171  0.001589  0.001072  \n",
       "1057     0.004244        0.035782  0.007563  0.003277  0.000864  \n",
       "1058     0.002985        0.971327  0.007720  0.004365  0.000603  \n",
       "\n",
       "[293 rows x 11 columns]"
      ]
     },
     "metadata": {},
     "output_type": "display_data"
    },
    {
     "data": {
      "text/html": [
       "<div>\n",
       "<style scoped>\n",
       "    .dataframe tbody tr th:only-of-type {\n",
       "        vertical-align: middle;\n",
       "    }\n",
       "\n",
       "    .dataframe tbody tr th {\n",
       "        vertical-align: top;\n",
       "    }\n",
       "\n",
       "    .dataframe thead th {\n",
       "        text-align: right;\n",
       "    }\n",
       "</style>\n",
       "<table border=\"1\" class=\"dataframe\">\n",
       "  <thead>\n",
       "    <tr style=\"text-align: right;\">\n",
       "      <th></th>\n",
       "      <th>sample_id</th>\n",
       "      <th>basalt</th>\n",
       "      <th>carbonate</th>\n",
       "      <th>chloride</th>\n",
       "      <th>iron_oxide</th>\n",
       "      <th>oxalate</th>\n",
       "      <th>oxychlorine</th>\n",
       "      <th>phyllosilicate</th>\n",
       "      <th>silicate</th>\n",
       "      <th>sulfate</th>\n",
       "      <th>sulfide</th>\n",
       "    </tr>\n",
       "  </thead>\n",
       "  <tbody>\n",
       "    <tr>\n",
       "      <th>766</th>\n",
       "      <td>NaN</td>\n",
       "      <td>0.002398</td>\n",
       "      <td>0.001797</td>\n",
       "      <td>0.016330</td>\n",
       "      <td>0.007253</td>\n",
       "      <td>0.000612</td>\n",
       "      <td>0.004481</td>\n",
       "      <td>0.014679</td>\n",
       "      <td>0.484733</td>\n",
       "      <td>0.009494</td>\n",
       "      <td>0.001579</td>\n",
       "    </tr>\n",
       "    <tr>\n",
       "      <th>767</th>\n",
       "      <td>NaN</td>\n",
       "      <td>0.075871</td>\n",
       "      <td>0.001942</td>\n",
       "      <td>0.002133</td>\n",
       "      <td>0.021583</td>\n",
       "      <td>0.000067</td>\n",
       "      <td>0.019317</td>\n",
       "      <td>0.017426</td>\n",
       "      <td>0.596806</td>\n",
       "      <td>0.031315</td>\n",
       "      <td>0.000734</td>\n",
       "    </tr>\n",
       "    <tr>\n",
       "      <th>768</th>\n",
       "      <td>NaN</td>\n",
       "      <td>0.856404</td>\n",
       "      <td>0.857426</td>\n",
       "      <td>0.001407</td>\n",
       "      <td>0.249915</td>\n",
       "      <td>0.000417</td>\n",
       "      <td>0.030787</td>\n",
       "      <td>0.453863</td>\n",
       "      <td>0.664901</td>\n",
       "      <td>0.082379</td>\n",
       "      <td>0.000843</td>\n",
       "    </tr>\n",
       "    <tr>\n",
       "      <th>769</th>\n",
       "      <td>NaN</td>\n",
       "      <td>0.010354</td>\n",
       "      <td>0.004412</td>\n",
       "      <td>0.071149</td>\n",
       "      <td>0.042800</td>\n",
       "      <td>0.000056</td>\n",
       "      <td>0.948198</td>\n",
       "      <td>0.068691</td>\n",
       "      <td>0.006324</td>\n",
       "      <td>0.903269</td>\n",
       "      <td>0.000406</td>\n",
       "    </tr>\n",
       "    <tr>\n",
       "      <th>770</th>\n",
       "      <td>NaN</td>\n",
       "      <td>0.003816</td>\n",
       "      <td>0.003446</td>\n",
       "      <td>0.034373</td>\n",
       "      <td>0.112772</td>\n",
       "      <td>0.000083</td>\n",
       "      <td>0.979115</td>\n",
       "      <td>0.971893</td>\n",
       "      <td>0.004256</td>\n",
       "      <td>0.004456</td>\n",
       "      <td>0.000369</td>\n",
       "    </tr>\n",
       "    <tr>\n",
       "      <th>...</th>\n",
       "      <td>...</td>\n",
       "      <td>...</td>\n",
       "      <td>...</td>\n",
       "      <td>...</td>\n",
       "      <td>...</td>\n",
       "      <td>...</td>\n",
       "      <td>...</td>\n",
       "      <td>...</td>\n",
       "      <td>...</td>\n",
       "      <td>...</td>\n",
       "      <td>...</td>\n",
       "    </tr>\n",
       "    <tr>\n",
       "      <th>1054</th>\n",
       "      <td>NaN</td>\n",
       "      <td>0.004037</td>\n",
       "      <td>0.002161</td>\n",
       "      <td>0.010346</td>\n",
       "      <td>0.020913</td>\n",
       "      <td>0.000152</td>\n",
       "      <td>0.005660</td>\n",
       "      <td>0.019861</td>\n",
       "      <td>0.069877</td>\n",
       "      <td>0.016827</td>\n",
       "      <td>0.000253</td>\n",
       "    </tr>\n",
       "    <tr>\n",
       "      <th>1055</th>\n",
       "      <td>NaN</td>\n",
       "      <td>0.011191</td>\n",
       "      <td>0.003987</td>\n",
       "      <td>0.012643</td>\n",
       "      <td>0.045951</td>\n",
       "      <td>0.003435</td>\n",
       "      <td>0.023496</td>\n",
       "      <td>0.016006</td>\n",
       "      <td>0.182455</td>\n",
       "      <td>0.002378</td>\n",
       "      <td>0.000646</td>\n",
       "    </tr>\n",
       "    <tr>\n",
       "      <th>1056</th>\n",
       "      <td>NaN</td>\n",
       "      <td>0.003605</td>\n",
       "      <td>0.008111</td>\n",
       "      <td>0.001905</td>\n",
       "      <td>0.012997</td>\n",
       "      <td>0.998504</td>\n",
       "      <td>0.002137</td>\n",
       "      <td>0.003671</td>\n",
       "      <td>0.003171</td>\n",
       "      <td>0.001614</td>\n",
       "      <td>0.001342</td>\n",
       "    </tr>\n",
       "    <tr>\n",
       "      <th>1057</th>\n",
       "      <td>NaN</td>\n",
       "      <td>0.006781</td>\n",
       "      <td>0.899968</td>\n",
       "      <td>0.013264</td>\n",
       "      <td>0.048984</td>\n",
       "      <td>0.000588</td>\n",
       "      <td>0.006311</td>\n",
       "      <td>0.052713</td>\n",
       "      <td>0.009762</td>\n",
       "      <td>0.004168</td>\n",
       "      <td>0.001135</td>\n",
       "    </tr>\n",
       "    <tr>\n",
       "      <th>1058</th>\n",
       "      <td>NaN</td>\n",
       "      <td>0.007981</td>\n",
       "      <td>0.001449</td>\n",
       "      <td>0.015346</td>\n",
       "      <td>0.010344</td>\n",
       "      <td>0.000049</td>\n",
       "      <td>0.002149</td>\n",
       "      <td>0.967346</td>\n",
       "      <td>0.008253</td>\n",
       "      <td>0.005362</td>\n",
       "      <td>0.000673</td>\n",
       "    </tr>\n",
       "  </tbody>\n",
       "</table>\n",
       "<p>293 rows × 11 columns</p>\n",
       "</div>"
      ],
      "text/plain": [
       "     sample_id    basalt  carbonate  chloride  iron_oxide   oxalate  \\\n",
       "766        NaN  0.002398   0.001797  0.016330    0.007253  0.000612   \n",
       "767        NaN  0.075871   0.001942  0.002133    0.021583  0.000067   \n",
       "768        NaN  0.856404   0.857426  0.001407    0.249915  0.000417   \n",
       "769        NaN  0.010354   0.004412  0.071149    0.042800  0.000056   \n",
       "770        NaN  0.003816   0.003446  0.034373    0.112772  0.000083   \n",
       "...        ...       ...        ...       ...         ...       ...   \n",
       "1054       NaN  0.004037   0.002161  0.010346    0.020913  0.000152   \n",
       "1055       NaN  0.011191   0.003987  0.012643    0.045951  0.003435   \n",
       "1056       NaN  0.003605   0.008111  0.001905    0.012997  0.998504   \n",
       "1057       NaN  0.006781   0.899968  0.013264    0.048984  0.000588   \n",
       "1058       NaN  0.007981   0.001449  0.015346    0.010344  0.000049   \n",
       "\n",
       "      oxychlorine  phyllosilicate  silicate   sulfate   sulfide  \n",
       "766      0.004481        0.014679  0.484733  0.009494  0.001579  \n",
       "767      0.019317        0.017426  0.596806  0.031315  0.000734  \n",
       "768      0.030787        0.453863  0.664901  0.082379  0.000843  \n",
       "769      0.948198        0.068691  0.006324  0.903269  0.000406  \n",
       "770      0.979115        0.971893  0.004256  0.004456  0.000369  \n",
       "...           ...             ...       ...       ...       ...  \n",
       "1054     0.005660        0.019861  0.069877  0.016827  0.000253  \n",
       "1055     0.023496        0.016006  0.182455  0.002378  0.000646  \n",
       "1056     0.002137        0.003671  0.003171  0.001614  0.001342  \n",
       "1057     0.006311        0.052713  0.009762  0.004168  0.001135  \n",
       "1058     0.002149        0.967346  0.008253  0.005362  0.000673  \n",
       "\n",
       "[293 rows x 11 columns]"
      ]
     },
     "metadata": {},
     "output_type": "display_data"
    }
   ],
   "source": [
    "display(test_preds)\n",
    "display(train_preds)"
   ]
  },
  {
   "cell_type": "code",
   "execution_count": 34,
   "id": "ac174fc3",
   "metadata": {
    "execution": {
     "iopub.execute_input": "2022-04-18T00:49:57.165831Z",
     "iopub.status.busy": "2022-04-18T00:49:57.164762Z",
     "iopub.status.idle": "2022-04-18T00:49:57.183165Z",
     "shell.execute_reply": "2022-04-18T00:49:57.182663Z",
     "shell.execute_reply.started": "2022-04-10T12:54:19.41027Z"
    },
    "papermill": {
     "duration": 0.520273,
     "end_time": "2022-04-18T00:49:57.183311",
     "exception": false,
     "start_time": "2022-04-18T00:49:56.663038",
     "status": "completed"
    },
    "tags": []
   },
   "outputs": [
    {
     "name": "stdout",
     "output_type": "stream",
     "text": [
      "basalt 0.13241687083030249\n",
      "carbonate 0.06471385691487794\n",
      "chloride 0.16479516301717553\n",
      "iron_oxide 0.25095641131877455\n",
      "oxalate 0.0013969475995482233\n",
      "oxychlorine 0.13360848014369486\n",
      "phyllosilicate 0.20225190288945807\n",
      "silicate 0.14984780274336812\n",
      "sulfate 0.18878138067313668\n",
      "sulfide 0.06812499507970128\n",
      "0.13568938112100376\n"
     ]
    }
   ],
   "source": [
    "agg_loss_train = []\n",
    "for tar in targets.columns:\n",
    "    loss = log_loss(val_labels[tar],train_preds[tar])\n",
    "    print(tar, loss)\n",
    "    agg_loss_train.append(loss)\n",
    "print(np.array(agg_loss_train).mean())"
   ]
  },
  {
   "cell_type": "code",
   "execution_count": 35,
   "id": "a181919b",
   "metadata": {
    "execution": {
     "iopub.execute_input": "2022-04-18T00:49:58.266830Z",
     "iopub.status.busy": "2022-04-18T00:49:58.265405Z",
     "iopub.status.idle": "2022-04-18T00:49:58.286904Z",
     "shell.execute_reply": "2022-04-18T00:49:58.286332Z",
     "shell.execute_reply.started": "2022-04-10T12:55:27.164665Z"
    },
    "papermill": {
     "duration": 0.54206,
     "end_time": "2022-04-18T00:49:58.287058",
     "exception": false,
     "start_time": "2022-04-18T00:49:57.744998",
     "status": "completed"
    },
    "tags": []
   },
   "outputs": [
    {
     "name": "stdout",
     "output_type": "stream",
     "text": [
      "basalt 0.024952697193513663\n",
      "carbonate 0.012466407743214574\n",
      "chloride 0.03744553697080144\n",
      "iron_oxide 0.05749700001667488\n",
      "oxalate 0.0005754830976788787\n",
      "oxychlorine 0.027054368751779845\n",
      "phyllosilicate 0.052611319762747064\n",
      "silicate 0.03674604053785433\n",
      "sulfate 0.03209238022986162\n",
      "sulfide 0.005889940461604966\n",
      "0.028733117476573124\n"
     ]
    }
   ],
   "source": [
    "agg_loss_test = []\n",
    "for tar in targets.columns:\n",
    "    loss = log_loss(val_labels[tar],test_preds[tar])\n",
    "    print(tar, loss)\n",
    "    agg_loss_test.append(loss)\n",
    "print(np.array(agg_loss_test).mean())"
   ]
  },
  {
   "cell_type": "code",
   "execution_count": 36,
   "id": "c514837c",
   "metadata": {
    "execution": {
     "iopub.execute_input": "2022-04-18T00:49:59.307721Z",
     "iopub.status.busy": "2022-04-18T00:49:59.306990Z",
     "iopub.status.idle": "2022-04-18T00:49:59.311390Z",
     "shell.execute_reply": "2022-04-18T00:49:59.311851Z",
     "shell.execute_reply.started": "2022-04-10T12:55:36.984829Z"
    },
    "papermill": {
     "duration": 0.508594,
     "end_time": "2022-04-18T00:49:59.312030",
     "exception": false,
     "start_time": "2022-04-18T00:49:58.803436",
     "status": "completed"
    },
    "tags": []
   },
   "outputs": [],
   "source": [
    "oof_test_df.sample_id = metadata[metadata.split != 'train'].sample_id\n",
    "oof_train_df.sample_id = metadata[metadata.split != 'test'].sample_id"
   ]
  },
  {
   "cell_type": "code",
   "execution_count": 37,
   "id": "8e36cb5e",
   "metadata": {
    "execution": {
     "iopub.execute_input": "2022-04-18T00:50:00.329022Z",
     "iopub.status.busy": "2022-04-18T00:50:00.327266Z",
     "iopub.status.idle": "2022-04-18T00:50:00.369012Z",
     "shell.execute_reply": "2022-04-18T00:50:00.369567Z",
     "shell.execute_reply.started": "2022-04-10T12:55:53.300665Z"
    },
    "papermill": {
     "duration": 0.550856,
     "end_time": "2022-04-18T00:50:00.369761",
     "exception": false,
     "start_time": "2022-04-18T00:49:59.818905",
     "status": "completed"
    },
    "tags": []
   },
   "outputs": [],
   "source": [
    "oof_train_df.to_csv('oof_train_100_20fold_5kest.csv', index=False)\n",
    "oof_test_df.to_csv('oof_test_100_20fold_5kest.csv', index=False)"
   ]
  },
  {
   "cell_type": "code",
   "execution_count": null,
   "id": "299c4c8a",
   "metadata": {
    "papermill": {
     "duration": 0.50056,
     "end_time": "2022-04-18T00:50:01.370918",
     "exception": false,
     "start_time": "2022-04-18T00:50:00.870358",
     "status": "completed"
    },
    "tags": []
   },
   "outputs": [],
   "source": []
  }
 ],
 "metadata": {
  "kernelspec": {
   "display_name": "Python 3",
   "language": "python",
   "name": "python3"
  },
  "language_info": {
   "codemirror_mode": {
    "name": "ipython",
    "version": 3
   },
   "file_extension": ".py",
   "mimetype": "text/x-python",
   "name": "python",
   "nbconvert_exporter": "python",
   "pygments_lexer": "ipython3",
   "version": "3.7.12"
  },
  "papermill": {
   "default_parameters": {},
   "duration": 16177.497541,
   "end_time": "2022-04-18T00:50:03.601080",
   "environment_variables": {},
   "exception": null,
   "input_path": "__notebook__.ipynb",
   "output_path": "__notebook__.ipynb",
   "parameters": {},
   "start_time": "2022-04-17T20:20:26.103539",
   "version": "2.3.3"
  }
 },
 "nbformat": 4,
 "nbformat_minor": 5
}
