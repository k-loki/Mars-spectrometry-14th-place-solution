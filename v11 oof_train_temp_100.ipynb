{
 "cells": [
  {
   "cell_type": "code",
   "execution_count": 3,
   "id": "7e61818d",
   "metadata": {
    "execution": {
     "iopub.execute_input": "2022-04-18T03:29:34.185398Z",
     "iopub.status.busy": "2022-04-18T03:29:34.184758Z",
     "iopub.status.idle": "2022-04-18T03:29:37.851530Z",
     "shell.execute_reply": "2022-04-18T03:29:37.850522Z",
     "shell.execute_reply.started": "2022-04-17T20:04:33.827434Z"
    },
    "papermill": {
     "duration": 3.695557,
     "end_time": "2022-04-18T03:29:37.851684",
     "exception": false,
     "start_time": "2022-04-18T03:29:34.156127",
     "status": "completed"
    },
    "tags": []
   },
   "outputs": [
    {
     "data": {
      "text/html": [
       "<style type='text/css'>\n",
       ".datatable table.frame { margin-bottom: 0; }\n",
       ".datatable table.frame thead { border-bottom: none; }\n",
       ".datatable table.frame tr.coltypes td {  color: #FFFFFF;  line-height: 6px;  padding: 0 0.5em;}\n",
       ".datatable .bool    { background: #DDDD99; }\n",
       ".datatable .object  { background: #565656; }\n",
       ".datatable .int     { background: #5D9E5D; }\n",
       ".datatable .float   { background: #4040CC; }\n",
       ".datatable .str     { background: #CC4040; }\n",
       ".datatable .time    { background: #40CC40; }\n",
       ".datatable .row_index {  background: var(--jp-border-color3);  border-right: 1px solid var(--jp-border-color0);  color: var(--jp-ui-font-color3);  font-size: 9px;}\n",
       ".datatable .frame tbody td { text-align: left; }\n",
       ".datatable .frame tr.coltypes .row_index {  background: var(--jp-border-color0);}\n",
       ".datatable th:nth-child(2) { padding-left: 12px; }\n",
       ".datatable .hellipsis {  color: var(--jp-cell-editor-border-color);}\n",
       ".datatable .vellipsis {  background: var(--jp-layout-color0);  color: var(--jp-cell-editor-border-color);}\n",
       ".datatable .na {  color: var(--jp-cell-editor-border-color);  font-size: 80%;}\n",
       ".datatable .sp {  opacity: 0.25;}\n",
       ".datatable .footer { font-size: 9px; }\n",
       ".datatable .frame_dimensions {  background: var(--jp-border-color3);  border-top: 1px solid var(--jp-border-color0);  color: var(--jp-ui-font-color3);  display: inline-block;  opacity: 0.6;  padding: 1px 10px 1px 5px;}\n",
       "</style>\n"
      ],
      "text/plain": [
       "<IPython.core.display.HTML object>"
      ]
     },
     "metadata": {},
     "output_type": "display_data"
    }
   ],
   "source": [
    "import pandas as pd\n",
    "import pandas_profiling\n",
    "import numpy as np\n",
    "import matplotlib.pyplot as plt\n",
    "%matplotlib inline\n",
    "import seaborn as sns\n",
    "from tqdm import tqdm\n",
    "\n",
    "from sklearn.preprocessing import QuantileTransformer, PowerTransformer\n",
    "from sklearn.metrics import make_scorer, log_loss\n",
    "from sklearn.model_selection import StratifiedKFold, cross_val_score\n",
    "from sklearn.ensemble import HistGradientBoostingClassifier\n",
    "from sklearn.linear_model import LogisticRegression\n",
    "from sklearn.calibration import CalibratedClassifierCV, calibration_curve\n",
    "\n",
    "from catboost import CatBoostClassifier\n",
    "from xgboost import XGBClassifier\n",
    "from lightgbm import LGBMClassifier\n",
    "\n",
    "RANDOM_SEED = 777\n",
    "np.random.seed(RANDOM_SEED)\n",
    "np.random.SeedSequence(RANDOM_SEED)\n",
    "import warnings\n",
    "warnings.filterwarnings('ignore')\n",
    "import os\n",
    "os.environ['PYTHONHASHSEED'] = str(RANDOM_SEED)"
   ]
  },
  {
   "cell_type": "code",
   "execution_count": 4,
   "id": "d4fb5e88",
   "metadata": {
    "execution": {
     "iopub.execute_input": "2022-04-18T03:29:37.909089Z",
     "iopub.status.busy": "2022-04-18T03:29:37.908537Z",
     "iopub.status.idle": "2022-04-18T03:29:37.984978Z",
     "shell.execute_reply": "2022-04-18T03:29:37.984343Z",
     "shell.execute_reply.started": "2022-04-17T20:04:38.011624Z"
    },
    "papermill": {
     "duration": 0.105911,
     "end_time": "2022-04-18T03:29:37.985116",
     "exception": false,
     "start_time": "2022-04-18T03:29:37.879205",
     "status": "completed"
    },
    "tags": []
   },
   "outputs": [],
   "source": [
    "metadata = pd.read_csv('../input/is-this-crazy/metadata.csv')\n",
    "sup_metadata = pd.read_csv('../input/is-this-crazy/supplemental_metadata.csv')\n",
    "train_labels = pd.read_csv('../input/is-this-crazy/train_labels.csv', index_col=\"sample_id\")\n",
    "val_labels = pd.read_csv('../input/is-this-crazy/val_labels.csv',index_col='sample_id')\n",
    "# targets = pd.read_csv('targets.csv',index_col='sample_id')\n",
    "submission_format = pd.read_csv('../input/is-this-crazy/submission_format.csv')"
   ]
  },
  {
   "cell_type": "code",
   "execution_count": 5,
   "id": "79ee37a3",
   "metadata": {
    "execution": {
     "iopub.execute_input": "2022-04-18T03:29:38.043111Z",
     "iopub.status.busy": "2022-04-18T03:29:38.042535Z",
     "iopub.status.idle": "2022-04-18T03:29:38.047771Z",
     "shell.execute_reply": "2022-04-18T03:29:38.048297Z",
     "shell.execute_reply.started": "2022-04-17T20:04:40.73729Z"
    },
    "papermill": {
     "duration": 0.035658,
     "end_time": "2022-04-18T03:29:38.048454",
     "exception": false,
     "start_time": "2022-04-18T03:29:38.012796",
     "status": "completed"
    },
    "tags": []
   },
   "outputs": [
    {
     "data": {
      "text/plain": [
       "(1059, 10)"
      ]
     },
     "execution_count": 5,
     "metadata": {},
     "output_type": "execute_result"
    }
   ],
   "source": [
    "targets = pd.concat([train_labels,val_labels],axis=0)\n",
    "targets.shape"
   ]
  },
  {
   "cell_type": "code",
   "execution_count": 6,
   "id": "ea49cc82",
   "metadata": {
    "execution": {
     "iopub.execute_input": "2022-04-18T03:29:38.106411Z",
     "iopub.status.busy": "2022-04-18T03:29:38.105845Z",
     "iopub.status.idle": "2022-04-18T03:29:38.113302Z",
     "shell.execute_reply": "2022-04-18T03:29:38.113766Z",
     "shell.execute_reply.started": "2022-04-17T20:18:55.508163Z"
    },
    "papermill": {
     "duration": 0.038813,
     "end_time": "2022-04-18T03:29:38.113933",
     "exception": false,
     "start_time": "2022-04-18T03:29:38.075120",
     "status": "completed"
    },
    "tags": []
   },
   "outputs": [],
   "source": [
    "sam_id = metadata[metadata.instrument_type == 'sam_testbed'].index"
   ]
  },
  {
   "cell_type": "code",
   "execution_count": 7,
   "id": "1d289267",
   "metadata": {
    "execution": {
     "iopub.execute_input": "2022-04-18T03:29:38.172573Z",
     "iopub.status.busy": "2022-04-18T03:29:38.171765Z",
     "iopub.status.idle": "2022-04-18T03:29:38.174032Z",
     "shell.execute_reply": "2022-04-18T03:29:38.174469Z"
    },
    "papermill": {
     "duration": 0.033969,
     "end_time": "2022-04-18T03:29:38.174625",
     "exception": false,
     "start_time": "2022-04-18T03:29:38.140656",
     "status": "completed"
    },
    "tags": []
   },
   "outputs": [],
   "source": [
    "# only change the data sets here...\n",
    "train_path = '../input/ms-gen-train-test-data/train_temp_100.csv'\n",
    "test_path =  '../input/ms-gen-train-test-data/test_temp_100.csv'\n",
    "val_path = '../input/ms-gen-train-test-data/val_temp_100.csv'"
   ]
  },
  {
   "cell_type": "code",
   "execution_count": 8,
   "id": "4a518c67",
   "metadata": {
    "execution": {
     "iopub.execute_input": "2022-04-18T03:29:38.233110Z",
     "iopub.status.busy": "2022-04-18T03:29:38.231852Z",
     "iopub.status.idle": "2022-04-18T03:29:38.234672Z",
     "shell.execute_reply": "2022-04-18T03:29:38.235209Z"
    },
    "papermill": {
     "duration": 0.033466,
     "end_time": "2022-04-18T03:29:38.235385",
     "exception": false,
     "start_time": "2022-04-18T03:29:38.201919",
     "status": "completed"
    },
    "tags": []
   },
   "outputs": [],
   "source": [
    "oof_train_path = 'oof_train_temp_100.csv'\n",
    "oof_test_path = 'oof_test_temp_100.csv'"
   ]
  },
  {
   "cell_type": "code",
   "execution_count": 9,
   "id": "176a500b",
   "metadata": {
    "execution": {
     "iopub.execute_input": "2022-04-18T03:29:38.296012Z",
     "iopub.status.busy": "2022-04-18T03:29:38.295412Z",
     "iopub.status.idle": "2022-04-18T03:29:39.810781Z",
     "shell.execute_reply": "2022-04-18T03:29:39.811280Z",
     "shell.execute_reply.started": "2022-04-17T20:04:40.977339Z"
    },
    "papermill": {
     "duration": 1.549078,
     "end_time": "2022-04-18T03:29:39.811456",
     "exception": false,
     "start_time": "2022-04-18T03:29:38.262378",
     "status": "completed"
    },
    "tags": []
   },
   "outputs": [
    {
     "name": "stdout",
     "output_type": "stream",
     "text": [
      "CPU times: user 824 ms, sys: 135 ms, total: 959 ms\n",
      "Wall time: 1.51 s\n"
     ]
    }
   ],
   "source": [
    "%%time\n",
    "test_100 = pd.read_csv(test_path,index_col=0,header=[0,1])\n",
    "train_100 = pd.read_csv(train_path,index_col=0,header=[0,1])\n",
    "val_100 = pd.read_csv(val_path,index_col=0,header=[0,1])\n",
    "\n",
    "val_100.index = metadata[metadata.split == 'val'].sample_id\n",
    "\n",
    "val_100.sort_index(inplace=True,axis=1)\n",
    "test_100.sort_index(inplace=True,axis=1)\n",
    "train_100.sort_index(inplace=True,axis=1)"
   ]
  },
  {
   "cell_type": "code",
   "execution_count": 10,
   "id": "3e322250",
   "metadata": {
    "execution": {
     "iopub.execute_input": "2022-04-18T03:29:39.873192Z",
     "iopub.status.busy": "2022-04-18T03:29:39.871716Z",
     "iopub.status.idle": "2022-04-18T03:29:39.876024Z",
     "shell.execute_reply": "2022-04-18T03:29:39.875550Z",
     "shell.execute_reply.started": "2022-04-17T20:04:45.29289Z"
    },
    "papermill": {
     "duration": 0.036725,
     "end_time": "2022-04-18T03:29:39.876180",
     "exception": false,
     "start_time": "2022-04-18T03:29:39.839455",
     "status": "completed"
    },
    "tags": []
   },
   "outputs": [],
   "source": [
    "# train_100.drop(columns=[('sample_id_encoded', 'Unnamed: 1601_level_1')],axis=1,inplace=True)"
   ]
  },
  {
   "cell_type": "code",
   "execution_count": 11,
   "id": "ba82db00",
   "metadata": {
    "execution": {
     "iopub.execute_input": "2022-04-18T03:29:39.936935Z",
     "iopub.status.busy": "2022-04-18T03:29:39.935955Z",
     "iopub.status.idle": "2022-04-18T03:29:39.959123Z",
     "shell.execute_reply": "2022-04-18T03:29:39.958616Z",
     "shell.execute_reply.started": "2022-04-17T20:04:45.557946Z"
    },
    "papermill": {
     "duration": 0.055455,
     "end_time": "2022-04-18T03:29:39.959249",
     "exception": false,
     "start_time": "2022-04-18T03:29:39.903794",
     "status": "completed"
    },
    "tags": []
   },
   "outputs": [
    {
     "data": {
      "text/plain": [
       "((1059, 2000), (804, 2000))"
      ]
     },
     "execution_count": 11,
     "metadata": {},
     "output_type": "execute_result"
    }
   ],
   "source": [
    "train_set_100 = pd.concat([train_100,val_100],axis=0)\n",
    "test_set_100 = pd.concat([val_100,test_100],axis=0)\n",
    "train_set_100.shape, test_set_100.shape"
   ]
  },
  {
   "cell_type": "code",
   "execution_count": 12,
   "id": "6dd24954",
   "metadata": {
    "execution": {
     "iopub.execute_input": "2022-04-18T03:29:40.020146Z",
     "iopub.status.busy": "2022-04-18T03:29:40.019530Z",
     "iopub.status.idle": "2022-04-18T03:29:40.022639Z",
     "shell.execute_reply": "2022-04-18T03:29:40.022120Z",
     "shell.execute_reply.started": "2022-04-17T20:05:02.932691Z"
    },
    "papermill": {
     "duration": 0.035713,
     "end_time": "2022-04-18T03:29:40.022786",
     "exception": false,
     "start_time": "2022-04-18T03:29:39.987073",
     "status": "completed"
    },
    "tags": []
   },
   "outputs": [],
   "source": [
    "skf = StratifiedKFold(n_splits=20,random_state=RANDOM_SEED,shuffle=True)\n",
    "log_loss_scorer = make_scorer(log_loss,needs_proba=True)"
   ]
  },
  {
   "cell_type": "code",
   "execution_count": 13,
   "id": "13a1490b",
   "metadata": {
    "execution": {
     "iopub.execute_input": "2022-04-18T03:29:40.085864Z",
     "iopub.status.busy": "2022-04-18T03:29:40.084946Z",
     "iopub.status.idle": "2022-04-18T03:29:40.089908Z",
     "shell.execute_reply": "2022-04-18T03:29:40.090454Z",
     "shell.execute_reply.started": "2022-04-17T20:05:03.33246Z"
    },
    "papermill": {
     "duration": 0.039441,
     "end_time": "2022-04-18T03:29:40.090624",
     "exception": false,
     "start_time": "2022-04-18T03:29:40.051183",
     "status": "completed"
    },
    "tags": []
   },
   "outputs": [
    {
     "data": {
      "text/plain": [
       "LogisticRegression(C=10, penalty='l1', random_state=777, solver='liblinear')"
      ]
     },
     "execution_count": 13,
     "metadata": {},
     "output_type": "execute_result"
    }
   ],
   "source": [
    "phy = 'phyllosilicate'\n",
    "bas = 'basalt'\n",
    "lr = LogisticRegression(solver='liblinear',C=10,random_state=RANDOM_SEED,penalty='l1')\n",
    "lr"
   ]
  },
  {
   "cell_type": "code",
   "execution_count": 14,
   "id": "430b90f2",
   "metadata": {
    "execution": {
     "iopub.execute_input": "2022-04-18T03:29:40.150281Z",
     "iopub.status.busy": "2022-04-18T03:29:40.149665Z",
     "iopub.status.idle": "2022-04-18T03:29:40.154721Z",
     "shell.execute_reply": "2022-04-18T03:29:40.155149Z",
     "shell.execute_reply.started": "2022-04-17T20:05:12.678976Z"
    },
    "papermill": {
     "duration": 0.036123,
     "end_time": "2022-04-18T03:29:40.155321",
     "exception": false,
     "start_time": "2022-04-18T03:29:40.119198",
     "status": "completed"
    },
    "tags": []
   },
   "outputs": [],
   "source": [
    "def get_coefs(X,y,c):\n",
    "    lr = LogisticRegression(solver='liblinear',C=c,random_state=RANDOM_SEED,penalty='l1')\n",
    "    print(cross_val_score(lr,X,y,cv=skf,scoring=log_loss_scorer).mean())\n",
    "    lr.fit(X,y)\n",
    "    # print(log_loss(y,lr.predict_proba(X)))\n",
    "    coefs =  lr.coef_\n",
    "    coefs_list  = []\n",
    "    for id,wt in enumerate(tqdm(coefs[0])):\n",
    "        if wt != 0:\n",
    "            coefs_list.append(id)\n",
    "    print(len(coefs_list))\n",
    "    return coefs_list"
   ]
  },
  {
   "cell_type": "code",
   "execution_count": 15,
   "id": "f25b87f1",
   "metadata": {
    "execution": {
     "iopub.execute_input": "2022-04-18T03:29:40.214643Z",
     "iopub.status.busy": "2022-04-18T03:29:40.214016Z",
     "iopub.status.idle": "2022-04-18T03:29:40.218022Z",
     "shell.execute_reply": "2022-04-18T03:29:40.218609Z",
     "shell.execute_reply.started": "2022-04-17T20:05:12.848008Z"
    },
    "papermill": {
     "duration": 0.035227,
     "end_time": "2022-04-18T03:29:40.218772",
     "exception": false,
     "start_time": "2022-04-18T03:29:40.183545",
     "status": "completed"
    },
    "tags": []
   },
   "outputs": [],
   "source": [
    "def get_mz(mz,df):\n",
    "    ''' returns list of columns for given mz'''\n",
    "    cols_list = []\n",
    "    for col in df.columns:\n",
    "        if col[0] == str(mz):\n",
    "            cols_list.append(col)\n",
    "    return cols_list"
   ]
  },
  {
   "cell_type": "code",
   "execution_count": 16,
   "id": "25e98f09",
   "metadata": {
    "execution": {
     "iopub.execute_input": "2022-04-18T03:29:40.282225Z",
     "iopub.status.busy": "2022-04-18T03:29:40.281601Z",
     "iopub.status.idle": "2022-04-18T03:29:40.282984Z",
     "shell.execute_reply": "2022-04-18T03:29:40.283525Z",
     "shell.execute_reply.started": "2022-04-17T20:05:13.498441Z"
    },
    "papermill": {
     "duration": 0.036732,
     "end_time": "2022-04-18T03:29:40.283705",
     "exception": false,
     "start_time": "2022-04-18T03:29:40.246973",
     "status": "completed"
    },
    "tags": []
   },
   "outputs": [],
   "source": [
    "def get_total_abundance(df):\n",
    "    ''' returns total abundance for each sample'''\n",
    "    tot_abund_df = pd.DataFrame(index=df.index)\n",
    "    tot_abund_df['tot_abund'] = df.sum(axis=1)\n",
    "    for mz in tqdm(range(0,100)):\n",
    "        tot_abund_df[f\"tot_abund_{mz}\"] = df[get_mz(mz,df)].sum(axis=1)\n",
    "    print(tot_abund_df.shape)\n",
    "    return tot_abund_df"
   ]
  },
  {
   "cell_type": "code",
   "execution_count": 17,
   "id": "38d3143b",
   "metadata": {
    "execution": {
     "iopub.execute_input": "2022-04-18T03:29:40.346235Z",
     "iopub.status.busy": "2022-04-18T03:29:40.342207Z",
     "iopub.status.idle": "2022-04-18T03:29:40.347811Z",
     "shell.execute_reply": "2022-04-18T03:29:40.348341Z",
     "shell.execute_reply.started": "2022-04-17T20:05:15.108258Z"
    },
    "papermill": {
     "duration": 0.036741,
     "end_time": "2022-04-18T03:29:40.348499",
     "exception": false,
     "start_time": "2022-04-18T03:29:40.311758",
     "status": "completed"
    },
    "tags": []
   },
   "outputs": [],
   "source": [
    "def get_grads(df,bin_size=5):\n",
    "    ''' returns gradients for each mz'''\n",
    "    grad_df = pd.DataFrame(index=df.index)\n",
    "    for mz in tqdm(range(0,100)):\n",
    "        df_mz = df.loc[:,get_mz(mz,df)]\n",
    "        # df_mz_col1 = df_mz.iloc[:,0].values\n",
    "        df_mz = df_mz.diff(axis=1)\n",
    "        # df_mz.iloc[:,0] = df_mz_col1\n",
    "        df_mz.dropna(axis='columns',inplace=True)\n",
    "        # df_mz = df_mz/bin_size\n",
    "        df_mz.columns = [col[0]+ '_' + col[1] + '_' + 'grad' for col in df_mz.columns]\n",
    "        grad_df = pd.concat([grad_df,df_mz],axis=1)\n",
    "    print(grad_df.shape)\n",
    "\n",
    "    return  grad_df"
   ]
  },
  {
   "cell_type": "code",
   "execution_count": 18,
   "id": "8c0aa847",
   "metadata": {
    "execution": {
     "iopub.execute_input": "2022-04-18T03:29:40.407308Z",
     "iopub.status.busy": "2022-04-18T03:29:40.406749Z",
     "iopub.status.idle": "2022-04-18T03:29:40.411541Z",
     "shell.execute_reply": "2022-04-18T03:29:40.412060Z",
     "shell.execute_reply.started": "2022-04-17T20:05:15.907891Z"
    },
    "papermill": {
     "duration": 0.035629,
     "end_time": "2022-04-18T03:29:40.412221",
     "exception": false,
     "start_time": "2022-04-18T03:29:40.376592",
     "status": "completed"
    },
    "tags": []
   },
   "outputs": [],
   "source": [
    "def get_mean_std(df):\n",
    "    ''' returns mean and std for each mz'''\n",
    "    mean_std_df = pd.DataFrame(index=df.index)\n",
    "    for mz in tqdm(range(0,100)):\n",
    "        df_mz = df.loc[:,get_mz(mz,df)]\n",
    "        df_mz[f'{mz}_mean'] = df_mz.mean(axis=1)\n",
    "        df_mz[f'{mz}_std'] = df_mz.std(axis=1)\n",
    "        mean_std_df = pd.concat([mean_std_df,df_mz],axis=1)\n",
    "    print(mean_std_df.shape)\n",
    "    return mean_std_df"
   ]
  },
  {
   "cell_type": "code",
   "execution_count": 19,
   "id": "8d6e61f2",
   "metadata": {
    "execution": {
     "iopub.execute_input": "2022-04-18T03:29:40.471329Z",
     "iopub.status.busy": "2022-04-18T03:29:40.470785Z",
     "iopub.status.idle": "2022-04-18T03:29:40.473394Z",
     "shell.execute_reply": "2022-04-18T03:29:40.473913Z",
     "shell.execute_reply.started": "2022-04-17T20:05:16.81838Z"
    },
    "papermill": {
     "duration": 0.033776,
     "end_time": "2022-04-18T03:29:40.474064",
     "exception": false,
     "start_time": "2022-04-18T03:29:40.440288",
     "status": "completed"
    },
    "tags": []
   },
   "outputs": [],
   "source": [
    "# def add_fts(df):\n",
    "#     tot_abund_df = get_total_abundance(df)\n",
    "#     grad_df = get_grads(df)\n",
    "#     mean_std_df = get_mean_std(df)\n",
    "#     new_df = pd.concat([tot_abund_df,grad_df,mean_std_df],axis=1)\n",
    "#     return new_df"
   ]
  },
  {
   "cell_type": "code",
   "execution_count": 20,
   "id": "65b1af3f",
   "metadata": {
    "execution": {
     "iopub.execute_input": "2022-04-18T03:29:40.533068Z",
     "iopub.status.busy": "2022-04-18T03:29:40.532513Z",
     "iopub.status.idle": "2022-04-18T03:29:40.536539Z",
     "shell.execute_reply": "2022-04-18T03:29:40.537046Z",
     "shell.execute_reply.started": "2022-04-17T20:05:19.717821Z"
    },
    "papermill": {
     "duration": 0.035211,
     "end_time": "2022-04-18T03:29:40.537201",
     "exception": false,
     "start_time": "2022-04-18T03:29:40.501990",
     "status": "completed"
    },
    "tags": []
   },
   "outputs": [
    {
     "data": {
      "text/plain": [
       "((1059, 2000), (804, 2000))"
      ]
     },
     "execution_count": 20,
     "metadata": {},
     "output_type": "execute_result"
    }
   ],
   "source": [
    "train_set_100.shape, test_set_100.shape"
   ]
  },
  {
   "cell_type": "code",
   "execution_count": 21,
   "id": "7583a477",
   "metadata": {
    "execution": {
     "iopub.execute_input": "2022-04-18T03:29:40.596838Z",
     "iopub.status.busy": "2022-04-18T03:29:40.596281Z",
     "iopub.status.idle": "2022-04-18T03:29:40.600803Z",
     "shell.execute_reply": "2022-04-18T03:29:40.601355Z",
     "shell.execute_reply.started": "2022-04-17T20:17:45.984539Z"
    },
    "papermill": {
     "duration": 0.03594,
     "end_time": "2022-04-18T03:29:40.601536",
     "exception": false,
     "start_time": "2022-04-18T03:29:40.565596",
     "status": "completed"
    },
    "tags": []
   },
   "outputs": [],
   "source": [
    "assert (train_set_100.columns == test_set_100.columns).all()"
   ]
  },
  {
   "cell_type": "code",
   "execution_count": 22,
   "id": "1f73b021",
   "metadata": {
    "execution": {
     "iopub.execute_input": "2022-04-18T03:29:40.661167Z",
     "iopub.status.busy": "2022-04-18T03:29:40.660571Z",
     "iopub.status.idle": "2022-04-18T03:29:43.157215Z",
     "shell.execute_reply": "2022-04-18T03:29:43.156759Z",
     "shell.execute_reply.started": "2022-04-17T20:17:54.088738Z"
    },
    "papermill": {
     "duration": 2.527474,
     "end_time": "2022-04-18T03:29:43.157364",
     "exception": false,
     "start_time": "2022-04-18T03:29:40.629890",
     "status": "completed"
    },
    "tags": []
   },
   "outputs": [
    {
     "name": "stderr",
     "output_type": "stream",
     "text": [
      "100%|██████████| 100/100 [00:00<00:00, 250.45it/s]\n"
     ]
    },
    {
     "name": "stdout",
     "output_type": "stream",
     "text": [
      "(1059, 101)\n"
     ]
    },
    {
     "name": "stderr",
     "output_type": "stream",
     "text": [
      "100%|██████████| 100/100 [00:01<00:00, 93.63it/s]\n"
     ]
    },
    {
     "name": "stdout",
     "output_type": "stream",
     "text": [
      "(1059, 1900)\n"
     ]
    },
    {
     "name": "stderr",
     "output_type": "stream",
     "text": [
      "100%|██████████| 100/100 [00:00<00:00, 100.07it/s]"
     ]
    },
    {
     "name": "stdout",
     "output_type": "stream",
     "text": [
      "(1059, 2200)\n"
     ]
    },
    {
     "name": "stderr",
     "output_type": "stream",
     "text": [
      "\n"
     ]
    }
   ],
   "source": [
    "t_100 = get_total_abundance(train_set_100)\n",
    "g_100 = get_grads(train_set_100)\n",
    "m_100 = get_mean_std(train_set_100)"
   ]
  },
  {
   "cell_type": "code",
   "execution_count": 23,
   "id": "ae3b04b7",
   "metadata": {
    "execution": {
     "iopub.execute_input": "2022-04-18T03:29:43.241333Z",
     "iopub.status.busy": "2022-04-18T03:29:43.235741Z",
     "iopub.status.idle": "2022-04-18T03:29:45.670552Z",
     "shell.execute_reply": "2022-04-18T03:29:45.670028Z",
     "shell.execute_reply.started": "2022-04-17T20:17:56.330876Z"
    },
    "papermill": {
     "duration": 2.474945,
     "end_time": "2022-04-18T03:29:45.670701",
     "exception": false,
     "start_time": "2022-04-18T03:29:43.195756",
     "status": "completed"
    },
    "tags": []
   },
   "outputs": [
    {
     "name": "stderr",
     "output_type": "stream",
     "text": [
      "100%|██████████| 100/100 [00:00<00:00, 244.28it/s]\n"
     ]
    },
    {
     "name": "stdout",
     "output_type": "stream",
     "text": [
      "(804, 101)\n"
     ]
    },
    {
     "name": "stderr",
     "output_type": "stream",
     "text": [
      "100%|██████████| 100/100 [00:01<00:00, 97.99it/s]\n"
     ]
    },
    {
     "name": "stdout",
     "output_type": "stream",
     "text": [
      "(804, 1900)\n"
     ]
    },
    {
     "name": "stderr",
     "output_type": "stream",
     "text": [
      "100%|██████████| 100/100 [00:00<00:00, 102.25it/s]"
     ]
    },
    {
     "name": "stdout",
     "output_type": "stream",
     "text": [
      "(804, 2200)\n"
     ]
    },
    {
     "name": "stderr",
     "output_type": "stream",
     "text": [
      "\n"
     ]
    }
   ],
   "source": [
    "t_100_test = get_total_abundance(test_set_100)\n",
    "g_100_test = get_grads(test_set_100)\n",
    "m_100_test = get_mean_std(test_set_100)\n"
   ]
  },
  {
   "cell_type": "code",
   "execution_count": 24,
   "id": "4656efe6",
   "metadata": {
    "execution": {
     "iopub.execute_input": "2022-04-18T03:29:45.775878Z",
     "iopub.status.busy": "2022-04-18T03:29:45.774775Z",
     "iopub.status.idle": "2022-04-18T03:29:45.829613Z",
     "shell.execute_reply": "2022-04-18T03:29:45.830053Z",
     "shell.execute_reply.started": "2022-04-17T20:17:58.471549Z"
    },
    "papermill": {
     "duration": 0.108423,
     "end_time": "2022-04-18T03:29:45.830229",
     "exception": false,
     "start_time": "2022-04-18T03:29:45.721806",
     "status": "completed"
    },
    "tags": []
   },
   "outputs": [],
   "source": [
    "t_100_test.sort_index(inplace=True,axis=1)\n",
    "t_100.sort_index(inplace=True,axis=1)\n",
    "\n",
    "m_100_test.sort_index(inplace=True,axis=1)\n",
    "m_100.sort_index(inplace=True,axis=1)\n",
    "\n",
    "g_100_test.sort_index(inplace=True,axis=1)\n",
    "g_100.sort_index(inplace=True,axis=1)"
   ]
  },
  {
   "cell_type": "code",
   "execution_count": 25,
   "id": "e3d63500",
   "metadata": {
    "execution": {
     "iopub.execute_input": "2022-04-18T03:29:45.924402Z",
     "iopub.status.busy": "2022-04-18T03:29:45.923504Z",
     "iopub.status.idle": "2022-04-18T03:29:45.929108Z",
     "shell.execute_reply": "2022-04-18T03:29:45.929523Z",
     "shell.execute_reply.started": "2022-04-17T20:18:06.298361Z"
    },
    "papermill": {
     "duration": 0.054171,
     "end_time": "2022-04-18T03:29:45.929698",
     "exception": false,
     "start_time": "2022-04-18T03:29:45.875527",
     "status": "completed"
    },
    "tags": []
   },
   "outputs": [],
   "source": [
    "assert (t_100.columns == t_100_test.columns).all()\n",
    "assert (g_100.columns == g_100_test.columns).all()\n",
    "assert (m_100.columns == m_100_test.columns).all()"
   ]
  },
  {
   "cell_type": "code",
   "execution_count": 26,
   "id": "3fb37804",
   "metadata": {
    "execution": {
     "iopub.execute_input": "2022-04-18T03:29:46.025208Z",
     "iopub.status.busy": "2022-04-18T03:29:46.024301Z",
     "iopub.status.idle": "2022-04-18T03:29:46.027965Z",
     "shell.execute_reply": "2022-04-18T03:29:46.028392Z",
     "shell.execute_reply.started": "2022-04-17T20:18:06.998448Z"
    },
    "papermill": {
     "duration": 0.053952,
     "end_time": "2022-04-18T03:29:46.028559",
     "exception": false,
     "start_time": "2022-04-18T03:29:45.974607",
     "status": "completed"
    },
    "tags": [],
    "vscode": {
     "languageId": "perl"
    }
   },
   "outputs": [],
   "source": [
    "ntrain = 1059\n",
    "ntest = 804\n",
    "NFOLDS = 20"
   ]
  },
  {
   "cell_type": "code",
   "execution_count": 27,
   "id": "1f223616",
   "metadata": {
    "execution": {
     "iopub.execute_input": "2022-04-18T03:29:46.126138Z",
     "iopub.status.busy": "2022-04-18T03:29:46.125204Z",
     "iopub.status.idle": "2022-04-18T03:29:46.134857Z",
     "shell.execute_reply": "2022-04-18T03:29:46.135297Z",
     "shell.execute_reply.started": "2022-04-17T20:18:09.733556Z"
    },
    "papermill": {
     "duration": 0.05814,
     "end_time": "2022-04-18T03:29:46.135473",
     "exception": false,
     "start_time": "2022-04-18T03:29:46.077333",
     "status": "completed"
    },
    "tags": [],
    "vscode": {
     "languageId": "perl"
    }
   },
   "outputs": [],
   "source": [
    "oof_train_df = pd.DataFrame(index=metadata[metadata.split != 'test'].index, columns=['sample_id',*targets.columns])\n",
    "oof_test_df = pd.DataFrame(index=metadata[metadata.split != 'train'].index, columns=['sample_id',*targets.columns])"
   ]
  },
  {
   "cell_type": "code",
   "execution_count": 28,
   "id": "98fd4be8",
   "metadata": {
    "execution": {
     "iopub.execute_input": "2022-04-18T03:29:46.229038Z",
     "iopub.status.busy": "2022-04-18T03:29:46.228087Z",
     "iopub.status.idle": "2022-04-18T11:11:52.577792Z",
     "shell.execute_reply": "2022-04-18T11:11:52.578300Z"
    },
    "papermill": {
     "duration": 27726.398376,
     "end_time": "2022-04-18T11:11:52.578571",
     "exception": false,
     "start_time": "2022-04-18T03:29:46.180195",
     "status": "completed"
    },
    "tags": []
   },
   "outputs": [
    {
     "name": "stdout",
     "output_type": "stream",
     "text": [
      "TARGET  basalt\n",
      "0.29167785957179027\n"
     ]
    },
    {
     "name": "stderr",
     "output_type": "stream",
     "text": [
      "100%|██████████| 101/101 [00:00<00:00, 532861.26it/s]\n"
     ]
    },
    {
     "name": "stdout",
     "output_type": "stream",
     "text": [
      "27\n",
      "0.27294936868956277\n"
     ]
    },
    {
     "name": "stderr",
     "output_type": "stream",
     "text": [
      "100%|██████████| 1900/1900 [00:00<00:00, 1602488.96it/s]\n"
     ]
    },
    {
     "name": "stdout",
     "output_type": "stream",
     "text": [
      "53\n",
      "0.25848754126462253\n"
     ]
    },
    {
     "name": "stderr",
     "output_type": "stream",
     "text": [
      "100%|██████████| 2200/2200 [00:00<00:00, 1677111.74it/s]\n"
     ]
    },
    {
     "name": "stdout",
     "output_type": "stream",
     "text": [
      "82\n",
      "0.2589248549182987\n"
     ]
    },
    {
     "name": "stderr",
     "output_type": "stream",
     "text": [
      "100%|██████████| 2000/2000 [00:00<00:00, 1407720.76it/s]\n"
     ]
    },
    {
     "name": "stdout",
     "output_type": "stream",
     "text": [
      "78\n",
      "(1059, 78) (1059, 27) (1059, 53) (1059, 82)\n",
      "(1059, 240)\n",
      "(804, 78) (804, 27) (804, 53) (804, 82)\n",
      "(804, 240)\n"
     ]
    },
    {
     "name": "stderr",
     "output_type": "stream",
     "text": [
      "0it [00:00, ?it/s]"
     ]
    },
    {
     "name": "stdout",
     "output_type": "stream",
     "text": [
      "Learning rate set to 0.002361\n",
      "0:\tlearn: 0.6902669\ttotal: 111ms\tremaining: 9m 14s\n",
      "999:\tlearn: 0.1361046\ttotal: 29.4s\tremaining: 1m 57s\n",
      "1998:\tlearn: 0.0753957\ttotal: 58.4s\tremaining: 1m 27s\n",
      "2997:\tlearn: 0.0482877\ttotal: 1m 27s\tremaining: 58.6s\n",
      "3996:\tlearn: 0.0336612\ttotal: 1m 56s\tremaining: 29.4s\n",
      "4995:\tlearn: 0.0227024\ttotal: 2m 26s\tremaining: 117ms\n",
      "4999:\tlearn: 0.0226714\ttotal: 2m 26s\tremaining: 0us\n"
     ]
    },
    {
     "name": "stderr",
     "output_type": "stream",
     "text": [
      "1it [02:27, 147.27s/it]"
     ]
    },
    {
     "name": "stdout",
     "output_type": "stream",
     "text": [
      "fold Loss 0:  0.1461588969555514\n",
      "---------------------------------------------------------------------------\n",
      "Learning rate set to 0.002361\n",
      "0:\tlearn: 0.6901898\ttotal: 48.2ms\tremaining: 4m 1s\n",
      "999:\tlearn: 0.1366356\ttotal: 29.4s\tremaining: 1m 57s\n",
      "1998:\tlearn: 0.0745078\ttotal: 58.9s\tremaining: 1m 28s\n",
      "2997:\tlearn: 0.0469030\ttotal: 1m 28s\tremaining: 58.9s\n",
      "3996:\tlearn: 0.0306486\ttotal: 1m 59s\tremaining: 29.9s\n",
      "4995:\tlearn: 0.0205571\ttotal: 2m 28s\tremaining: 119ms\n",
      "4999:\tlearn: 0.0205158\ttotal: 2m 29s\tremaining: 0us\n"
     ]
    },
    {
     "name": "stderr",
     "output_type": "stream",
     "text": [
      "2it [04:57, 148.80s/it]"
     ]
    },
    {
     "name": "stdout",
     "output_type": "stream",
     "text": [
      "fold Loss 1:  0.17027506441890108\n",
      "---------------------------------------------------------------------------\n",
      "Learning rate set to 0.002361\n",
      "0:\tlearn: 0.6902608\ttotal: 70.6ms\tremaining: 5m 53s\n",
      "999:\tlearn: 0.1391870\ttotal: 29.1s\tremaining: 1m 56s\n",
      "1998:\tlearn: 0.0774617\ttotal: 57.7s\tremaining: 1m 26s\n",
      "2997:\tlearn: 0.0489512\ttotal: 1m 26s\tremaining: 57.9s\n",
      "3996:\tlearn: 0.0326946\ttotal: 1m 55s\tremaining: 29.1s\n",
      "4995:\tlearn: 0.0223112\ttotal: 2m 25s\tremaining: 116ms\n",
      "4999:\tlearn: 0.0222744\ttotal: 2m 25s\tremaining: 0us\n"
     ]
    },
    {
     "name": "stderr",
     "output_type": "stream",
     "text": [
      "3it [07:23, 147.49s/it]"
     ]
    },
    {
     "name": "stdout",
     "output_type": "stream",
     "text": [
      "fold Loss 2:  0.09474254492213777\n",
      "---------------------------------------------------------------------------\n",
      "Learning rate set to 0.002361\n",
      "0:\tlearn: 0.6902327\ttotal: 46.8ms\tremaining: 3m 53s\n",
      "999:\tlearn: 0.1397979\ttotal: 28.9s\tremaining: 1m 55s\n",
      "1998:\tlearn: 0.0768325\ttotal: 57.8s\tremaining: 1m 26s\n",
      "2997:\tlearn: 0.0487140\ttotal: 1m 26s\tremaining: 58s\n",
      "3996:\tlearn: 0.0324973\ttotal: 1m 55s\tremaining: 29s\n",
      "4995:\tlearn: 0.0220047\ttotal: 2m 24s\tremaining: 116ms\n",
      "4999:\tlearn: 0.0219796\ttotal: 2m 24s\tremaining: 0us\n"
     ]
    },
    {
     "name": "stderr",
     "output_type": "stream",
     "text": [
      "4it [09:48, 146.76s/it]"
     ]
    },
    {
     "name": "stdout",
     "output_type": "stream",
     "text": [
      "fold Loss 3:  0.05207349549759378\n",
      "---------------------------------------------------------------------------\n",
      "Learning rate set to 0.002361\n",
      "0:\tlearn: 0.6902943\ttotal: 43.8ms\tremaining: 3m 38s\n",
      "999:\tlearn: 0.1377618\ttotal: 28.6s\tremaining: 1m 54s\n",
      "1998:\tlearn: 0.0751250\ttotal: 57.8s\tremaining: 1m 26s\n",
      "2997:\tlearn: 0.0470706\ttotal: 1m 26s\tremaining: 58s\n",
      "3996:\tlearn: 0.0315670\ttotal: 1m 55s\tremaining: 29.1s\n",
      "4995:\tlearn: 0.0221584\ttotal: 2m 24s\tremaining: 116ms\n",
      "4999:\tlearn: 0.0221343\ttotal: 2m 25s\tremaining: 0us\n"
     ]
    },
    {
     "name": "stderr",
     "output_type": "stream",
     "text": [
      "5it [12:14, 146.44s/it]"
     ]
    },
    {
     "name": "stdout",
     "output_type": "stream",
     "text": [
      "fold Loss 4:  0.0665194741838122\n",
      "---------------------------------------------------------------------------\n",
      "Learning rate set to 0.002361\n",
      "0:\tlearn: 0.6902231\ttotal: 47.3ms\tremaining: 3m 56s\n",
      "999:\tlearn: 0.1357953\ttotal: 29s\tremaining: 1m 56s\n",
      "1998:\tlearn: 0.0737966\ttotal: 58.1s\tremaining: 1m 27s\n",
      "2997:\tlearn: 0.0465145\ttotal: 1m 27s\tremaining: 58.2s\n",
      "3996:\tlearn: 0.0306055\ttotal: 1m 56s\tremaining: 29.2s\n",
      "4995:\tlearn: 0.0209062\ttotal: 2m 25s\tremaining: 116ms\n",
      "4999:\tlearn: 0.0208675\ttotal: 2m 25s\tremaining: 0us\n"
     ]
    },
    {
     "name": "stderr",
     "output_type": "stream",
     "text": [
      "6it [14:40, 146.33s/it]"
     ]
    },
    {
     "name": "stdout",
     "output_type": "stream",
     "text": [
      "fold Loss 5:  0.12323839238340513\n",
      "---------------------------------------------------------------------------\n",
      "Learning rate set to 0.002361\n",
      "0:\tlearn: 0.6901672\ttotal: 53.8ms\tremaining: 4m 28s\n",
      "999:\tlearn: 0.1355946\ttotal: 28.9s\tremaining: 1m 55s\n",
      "1998:\tlearn: 0.0756346\ttotal: 57.9s\tremaining: 1m 26s\n",
      "2997:\tlearn: 0.0487833\ttotal: 1m 26s\tremaining: 58.1s\n",
      "3996:\tlearn: 0.0345227\ttotal: 1m 55s\tremaining: 29.1s\n",
      "4995:\tlearn: 0.0249338\ttotal: 2m 24s\tremaining: 116ms\n",
      "4999:\tlearn: 0.0248975\ttotal: 2m 24s\tremaining: 0us\n"
     ]
    },
    {
     "name": "stderr",
     "output_type": "stream",
     "text": [
      "7it [17:06, 146.10s/it]"
     ]
    },
    {
     "name": "stdout",
     "output_type": "stream",
     "text": [
      "fold Loss 6:  0.14267585623850035\n",
      "---------------------------------------------------------------------------\n",
      "Learning rate set to 0.002361\n",
      "0:\tlearn: 0.6901981\ttotal: 49.6ms\tremaining: 4m 7s\n",
      "999:\tlearn: 0.1399221\ttotal: 28.9s\tremaining: 1m 55s\n",
      "1998:\tlearn: 0.0766330\ttotal: 57.9s\tremaining: 1m 26s\n",
      "2997:\tlearn: 0.0485156\ttotal: 1m 26s\tremaining: 58s\n",
      "3996:\tlearn: 0.0333319\ttotal: 1m 55s\tremaining: 29s\n",
      "4995:\tlearn: 0.0236473\ttotal: 2m 24s\tremaining: 116ms\n",
      "4999:\tlearn: 0.0236207\ttotal: 2m 24s\tremaining: 0us\n"
     ]
    },
    {
     "name": "stderr",
     "output_type": "stream",
     "text": [
      "8it [19:31, 145.81s/it]"
     ]
    },
    {
     "name": "stdout",
     "output_type": "stream",
     "text": [
      "fold Loss 7:  0.09311407737948603\n",
      "---------------------------------------------------------------------------\n",
      "Learning rate set to 0.002361\n",
      "0:\tlearn: 0.6902339\ttotal: 54.6ms\tremaining: 4m 33s\n",
      "999:\tlearn: 0.1381477\ttotal: 29s\tremaining: 1m 55s\n",
      "1998:\tlearn: 0.0753007\ttotal: 58s\tremaining: 1m 27s\n",
      "2997:\tlearn: 0.0472118\ttotal: 1m 26s\tremaining: 58s\n",
      "3996:\tlearn: 0.0313948\ttotal: 1m 55s\tremaining: 29.1s\n",
      "4995:\tlearn: 0.0216850\ttotal: 2m 24s\tremaining: 116ms\n",
      "4999:\tlearn: 0.0216554\ttotal: 2m 24s\tremaining: 0us\n"
     ]
    },
    {
     "name": "stderr",
     "output_type": "stream",
     "text": [
      "9it [21:57, 145.79s/it]"
     ]
    },
    {
     "name": "stdout",
     "output_type": "stream",
     "text": [
      "fold Loss 8:  0.15482559396687828\n",
      "---------------------------------------------------------------------------\n",
      "Learning rate set to 0.002361\n",
      "0:\tlearn: 0.6902399\ttotal: 51.6ms\tremaining: 4m 18s\n",
      "999:\tlearn: 0.1393228\ttotal: 28.9s\tremaining: 1m 55s\n",
      "1998:\tlearn: 0.0754021\ttotal: 57.9s\tremaining: 1m 26s\n",
      "2997:\tlearn: 0.0473826\ttotal: 1m 26s\tremaining: 58s\n",
      "3996:\tlearn: 0.0306391\ttotal: 1m 55s\tremaining: 29s\n",
      "4995:\tlearn: 0.0207471\ttotal: 2m 24s\tremaining: 116ms\n",
      "4999:\tlearn: 0.0207264\ttotal: 2m 24s\tremaining: 0us\n"
     ]
    },
    {
     "name": "stderr",
     "output_type": "stream",
     "text": [
      "10it [24:22, 145.69s/it]"
     ]
    },
    {
     "name": "stdout",
     "output_type": "stream",
     "text": [
      "fold Loss 9:  0.1560965351332742\n",
      "---------------------------------------------------------------------------\n",
      "Learning rate set to 0.002361\n",
      "0:\tlearn: 0.6902450\ttotal: 44.3ms\tremaining: 3m 41s\n",
      "999:\tlearn: 0.1378716\ttotal: 29.3s\tremaining: 1m 57s\n",
      "1998:\tlearn: 0.0758602\ttotal: 58.4s\tremaining: 1m 27s\n",
      "2997:\tlearn: 0.0487529\ttotal: 1m 27s\tremaining: 58.5s\n",
      "3996:\tlearn: 0.0335788\ttotal: 1m 56s\tremaining: 29.3s\n",
      "4995:\tlearn: 0.0239333\ttotal: 2m 25s\tremaining: 117ms\n",
      "4999:\tlearn: 0.0238992\ttotal: 2m 26s\tremaining: 0us\n"
     ]
    },
    {
     "name": "stderr",
     "output_type": "stream",
     "text": [
      "11it [26:49, 146.04s/it]"
     ]
    },
    {
     "name": "stdout",
     "output_type": "stream",
     "text": [
      "fold Loss 10:  0.12003016967571732\n",
      "---------------------------------------------------------------------------\n",
      "Learning rate set to 0.002361\n",
      "0:\tlearn: 0.6905986\ttotal: 57.4ms\tremaining: 4m 46s\n",
      "999:\tlearn: 0.1392969\ttotal: 29.2s\tremaining: 1m 56s\n",
      "1998:\tlearn: 0.0778511\ttotal: 58.4s\tremaining: 1m 27s\n",
      "2997:\tlearn: 0.0496560\ttotal: 1m 27s\tremaining: 58.2s\n",
      "3996:\tlearn: 0.0337783\ttotal: 1m 56s\tremaining: 29.2s\n",
      "4995:\tlearn: 0.0241061\ttotal: 2m 25s\tremaining: 116ms\n",
      "4999:\tlearn: 0.0240825\ttotal: 2m 25s\tremaining: 0us\n"
     ]
    },
    {
     "name": "stderr",
     "output_type": "stream",
     "text": [
      "12it [29:15, 146.12s/it]"
     ]
    },
    {
     "name": "stdout",
     "output_type": "stream",
     "text": [
      "fold Loss 11:  0.07414904188593018\n",
      "---------------------------------------------------------------------------\n",
      "Learning rate set to 0.002361\n",
      "0:\tlearn: 0.6902517\ttotal: 43.1ms\tremaining: 3m 35s\n",
      "999:\tlearn: 0.1363938\ttotal: 28.9s\tremaining: 1m 55s\n",
      "1998:\tlearn: 0.0755720\ttotal: 57.9s\tremaining: 1m 26s\n",
      "2997:\tlearn: 0.0473911\ttotal: 1m 27s\tremaining: 58.2s\n",
      "3996:\tlearn: 0.0313341\ttotal: 1m 56s\tremaining: 29.1s\n",
      "4995:\tlearn: 0.0210514\ttotal: 2m 25s\tremaining: 116ms\n",
      "4999:\tlearn: 0.0210141\ttotal: 2m 25s\tremaining: 0us\n"
     ]
    },
    {
     "name": "stderr",
     "output_type": "stream",
     "text": [
      "13it [31:41, 146.05s/it]"
     ]
    },
    {
     "name": "stdout",
     "output_type": "stream",
     "text": [
      "fold Loss 12:  0.16757211927290572\n",
      "---------------------------------------------------------------------------\n",
      "Learning rate set to 0.002361\n",
      "0:\tlearn: 0.6902833\ttotal: 58ms\tremaining: 4m 49s\n",
      "999:\tlearn: 0.1421618\ttotal: 29s\tremaining: 1m 55s\n",
      "1998:\tlearn: 0.0766388\ttotal: 57.7s\tremaining: 1m 26s\n",
      "2997:\tlearn: 0.0481448\ttotal: 1m 26s\tremaining: 58.1s\n",
      "3996:\tlearn: 0.0321113\ttotal: 1m 55s\tremaining: 29.1s\n",
      "4995:\tlearn: 0.0224300\ttotal: 2m 24s\tremaining: 116ms\n",
      "4999:\tlearn: 0.0224089\ttotal: 2m 25s\tremaining: 0us\n"
     ]
    },
    {
     "name": "stderr",
     "output_type": "stream",
     "text": [
      "14it [34:07, 146.00s/it]"
     ]
    },
    {
     "name": "stdout",
     "output_type": "stream",
     "text": [
      "fold Loss 13:  0.02712162600748208\n",
      "---------------------------------------------------------------------------\n",
      "Learning rate set to 0.002361\n",
      "0:\tlearn: 0.6904626\ttotal: 43.9ms\tremaining: 3m 39s\n",
      "999:\tlearn: 0.1380711\ttotal: 29.1s\tremaining: 1m 56s\n",
      "1998:\tlearn: 0.0739656\ttotal: 58.2s\tremaining: 1m 27s\n",
      "2997:\tlearn: 0.0464896\ttotal: 1m 27s\tremaining: 58.2s\n",
      "3996:\tlearn: 0.0311415\ttotal: 1m 56s\tremaining: 29.2s\n",
      "4995:\tlearn: 0.0217807\ttotal: 2m 24s\tremaining: 116ms\n",
      "4999:\tlearn: 0.0217365\ttotal: 2m 25s\tremaining: 0us\n"
     ]
    },
    {
     "name": "stderr",
     "output_type": "stream",
     "text": [
      "15it [36:33, 145.95s/it]"
     ]
    },
    {
     "name": "stdout",
     "output_type": "stream",
     "text": [
      "fold Loss 14:  0.09437744542211408\n",
      "---------------------------------------------------------------------------\n",
      "Learning rate set to 0.002361\n",
      "0:\tlearn: 0.6902945\ttotal: 60ms\tremaining: 5m\n",
      "999:\tlearn: 0.1319111\ttotal: 29.1s\tremaining: 1m 56s\n",
      "1998:\tlearn: 0.0716579\ttotal: 58.2s\tremaining: 1m 27s\n",
      "2997:\tlearn: 0.0450698\ttotal: 1m 27s\tremaining: 58.2s\n",
      "3996:\tlearn: 0.0303552\ttotal: 1m 56s\tremaining: 29.1s\n",
      "4995:\tlearn: 0.0220464\ttotal: 2m 25s\tremaining: 116ms\n",
      "4999:\tlearn: 0.0220180\ttotal: 2m 25s\tremaining: 0us\n"
     ]
    },
    {
     "name": "stderr",
     "output_type": "stream",
     "text": [
      "16it [38:59, 146.03s/it]"
     ]
    },
    {
     "name": "stdout",
     "output_type": "stream",
     "text": [
      "fold Loss 15:  0.27893170962664454\n",
      "---------------------------------------------------------------------------\n",
      "Learning rate set to 0.002361\n",
      "0:\tlearn: 0.6902698\ttotal: 44.6ms\tremaining: 3m 42s\n",
      "999:\tlearn: 0.1355183\ttotal: 29s\tremaining: 1m 56s\n",
      "1998:\tlearn: 0.0717247\ttotal: 58.1s\tremaining: 1m 27s\n",
      "2997:\tlearn: 0.0446960\ttotal: 1m 27s\tremaining: 58.1s\n",
      "3996:\tlearn: 0.0297868\ttotal: 1m 55s\tremaining: 29s\n",
      "4995:\tlearn: 0.0207292\ttotal: 2m 24s\tremaining: 116ms\n",
      "4999:\tlearn: 0.0207084\ttotal: 2m 25s\tremaining: 0us\n"
     ]
    },
    {
     "name": "stderr",
     "output_type": "stream",
     "text": [
      "17it [41:25, 145.99s/it]"
     ]
    },
    {
     "name": "stdout",
     "output_type": "stream",
     "text": [
      "fold Loss 16:  0.21455448466480703\n",
      "---------------------------------------------------------------------------\n",
      "Learning rate set to 0.002361\n",
      "0:\tlearn: 0.6901526\ttotal: 58.9ms\tremaining: 4m 54s\n",
      "999:\tlearn: 0.1357633\ttotal: 29.1s\tremaining: 1m 56s\n",
      "1998:\tlearn: 0.0747125\ttotal: 58.4s\tremaining: 1m 27s\n",
      "2997:\tlearn: 0.0477396\ttotal: 1m 27s\tremaining: 58.5s\n",
      "3996:\tlearn: 0.0324555\ttotal: 1m 56s\tremaining: 29.3s\n",
      "4995:\tlearn: 0.0227990\ttotal: 2m 25s\tremaining: 117ms\n",
      "4999:\tlearn: 0.0227681\ttotal: 2m 25s\tremaining: 0us\n"
     ]
    },
    {
     "name": "stderr",
     "output_type": "stream",
     "text": [
      "18it [43:52, 146.22s/it]"
     ]
    },
    {
     "name": "stdout",
     "output_type": "stream",
     "text": [
      "fold Loss 17:  0.15258773972549997\n",
      "---------------------------------------------------------------------------\n",
      "Learning rate set to 0.002361\n",
      "0:\tlearn: 0.6902159\ttotal: 43.6ms\tremaining: 3m 37s\n",
      "999:\tlearn: 0.1344783\ttotal: 29.2s\tremaining: 1m 56s\n",
      "1998:\tlearn: 0.0749052\ttotal: 58.5s\tremaining: 1m 27s\n",
      "2997:\tlearn: 0.0486478\ttotal: 1m 27s\tremaining: 58.2s\n",
      "3996:\tlearn: 0.0332145\ttotal: 1m 56s\tremaining: 29.2s\n",
      "4995:\tlearn: 0.0241617\ttotal: 2m 25s\tremaining: 116ms\n",
      "4999:\tlearn: 0.0241450\ttotal: 2m 25s\tremaining: 0us\n"
     ]
    },
    {
     "name": "stderr",
     "output_type": "stream",
     "text": [
      "19it [46:18, 146.28s/it]"
     ]
    },
    {
     "name": "stdout",
     "output_type": "stream",
     "text": [
      "fold Loss 18:  0.25989910506911634\n",
      "---------------------------------------------------------------------------\n",
      "Learning rate set to 0.002362\n",
      "0:\tlearn: 0.6900703\ttotal: 53.1ms\tremaining: 4m 25s\n",
      "999:\tlearn: 0.1391301\ttotal: 29.4s\tremaining: 1m 57s\n",
      "1998:\tlearn: 0.0751021\ttotal: 58.9s\tremaining: 1m 28s\n",
      "2997:\tlearn: 0.0471291\ttotal: 1m 29s\tremaining: 59.8s\n",
      "3996:\tlearn: 0.0312943\ttotal: 1m 58s\tremaining: 29.8s\n",
      "4995:\tlearn: 0.0209099\ttotal: 2m 28s\tremaining: 119ms\n",
      "4999:\tlearn: 0.0208834\ttotal: 2m 28s\tremaining: 0us\n"
     ]
    },
    {
     "name": "stderr",
     "output_type": "stream",
     "text": [
      "20it [48:48, 146.41s/it]"
     ]
    },
    {
     "name": "stdout",
     "output_type": "stream",
     "text": [
      "fold Loss 19:  0.11009963474536148\n",
      "---------------------------------------------------------------------------\n",
      "Training Loss: 0.025282605501232118\n",
      "Loss for basalt:\n",
      "0.13495215035875596 0.06292688931043283\n",
      "==================================================================================================\n",
      "TARGET  carbonate\n"
     ]
    },
    {
     "name": "stderr",
     "output_type": "stream",
     "text": [
      "\n"
     ]
    },
    {
     "name": "stdout",
     "output_type": "stream",
     "text": [
      "0.308266804583025\n"
     ]
    },
    {
     "name": "stderr",
     "output_type": "stream",
     "text": [
      "100%|██████████| 101/101 [00:00<00:00, 219494.67it/s]"
     ]
    },
    {
     "name": "stdout",
     "output_type": "stream",
     "text": [
      "26\n"
     ]
    },
    {
     "name": "stderr",
     "output_type": "stream",
     "text": [
      "\n"
     ]
    },
    {
     "name": "stdout",
     "output_type": "stream",
     "text": [
      "0.2542970676085482\n"
     ]
    },
    {
     "name": "stderr",
     "output_type": "stream",
     "text": [
      "100%|██████████| 1900/1900 [00:00<00:00, 1687669.97it/s]\n"
     ]
    },
    {
     "name": "stdout",
     "output_type": "stream",
     "text": [
      "55\n",
      "0.2047469594634382\n"
     ]
    },
    {
     "name": "stderr",
     "output_type": "stream",
     "text": [
      "100%|██████████| 2200/2200 [00:00<00:00, 1629431.18it/s]\n"
     ]
    },
    {
     "name": "stdout",
     "output_type": "stream",
     "text": [
      "71\n",
      "0.2576040459878591\n"
     ]
    },
    {
     "name": "stderr",
     "output_type": "stream",
     "text": [
      "100%|██████████| 2000/2000 [00:00<00:00, 1647409.27it/s]\n"
     ]
    },
    {
     "name": "stdout",
     "output_type": "stream",
     "text": [
      "76\n",
      "(1059, 76) (1059, 26) (1059, 55) (1059, 71)\n",
      "(1059, 228)\n",
      "(804, 76) (804, 26) (804, 55) (804, 71)\n",
      "(804, 228)\n"
     ]
    },
    {
     "name": "stderr",
     "output_type": "stream",
     "text": [
      "0it [00:00, ?it/s]"
     ]
    },
    {
     "name": "stdout",
     "output_type": "stream",
     "text": [
      "Learning rate set to 0.002361\n",
      "0:\tlearn: 0.6906097\ttotal: 61.8ms\tremaining: 5m 8s\n",
      "999:\tlearn: 0.1023585\ttotal: 28.4s\tremaining: 1m 53s\n",
      "1998:\tlearn: 0.0511614\ttotal: 56.3s\tremaining: 1m 24s\n",
      "2997:\tlearn: 0.0315428\ttotal: 1m 24s\tremaining: 56.4s\n",
      "3996:\tlearn: 0.0198737\ttotal: 1m 52s\tremaining: 28.3s\n",
      "4995:\tlearn: 0.0135220\ttotal: 2m 20s\tremaining: 113ms\n",
      "4999:\tlearn: 0.0135024\ttotal: 2m 20s\tremaining: 0us\n"
     ]
    },
    {
     "name": "stderr",
     "output_type": "stream",
     "text": [
      "1it [02:21, 141.72s/it]"
     ]
    },
    {
     "name": "stdout",
     "output_type": "stream",
     "text": [
      "fold Loss 0:  0.05099002698561187\n",
      "---------------------------------------------------------------------------\n",
      "Learning rate set to 0.002361\n",
      "0:\tlearn: 0.6903431\ttotal: 47.3ms\tremaining: 3m 56s\n",
      "999:\tlearn: 0.0992570\ttotal: 28.1s\tremaining: 1m 52s\n",
      "1998:\tlearn: 0.0492976\ttotal: 56.2s\tremaining: 1m 24s\n",
      "2997:\tlearn: 0.0302160\ttotal: 1m 24s\tremaining: 56.2s\n",
      "3996:\tlearn: 0.0194046\ttotal: 1m 52s\tremaining: 28.2s\n",
      "4995:\tlearn: 0.0138734\ttotal: 2m 20s\tremaining: 113ms\n",
      "4999:\tlearn: 0.0138604\ttotal: 2m 20s\tremaining: 0us\n"
     ]
    },
    {
     "name": "stderr",
     "output_type": "stream",
     "text": [
      "2it [04:43, 141.66s/it]"
     ]
    },
    {
     "name": "stdout",
     "output_type": "stream",
     "text": [
      "fold Loss 1:  0.14661380394790458\n",
      "---------------------------------------------------------------------------\n",
      "Learning rate set to 0.002361\n",
      "0:\tlearn: 0.6905857\ttotal: 44.1ms\tremaining: 3m 40s\n",
      "999:\tlearn: 0.0983171\ttotal: 28.4s\tremaining: 1m 53s\n",
      "1998:\tlearn: 0.0479658\ttotal: 56.6s\tremaining: 1m 24s\n",
      "2997:\tlearn: 0.0287342\ttotal: 1m 24s\tremaining: 56.4s\n",
      "3996:\tlearn: 0.0182938\ttotal: 1m 52s\tremaining: 28.3s\n",
      "4995:\tlearn: 0.0122208\ttotal: 2m 20s\tremaining: 113ms\n",
      "4999:\tlearn: 0.0122031\ttotal: 2m 20s\tremaining: 0us\n"
     ]
    },
    {
     "name": "stderr",
     "output_type": "stream",
     "text": [
      "3it [07:04, 141.64s/it]"
     ]
    },
    {
     "name": "stdout",
     "output_type": "stream",
     "text": [
      "fold Loss 2:  0.16972823544993668\n",
      "---------------------------------------------------------------------------\n",
      "Learning rate set to 0.002361\n",
      "0:\tlearn: 0.6902827\ttotal: 54ms\tremaining: 4m 30s\n",
      "999:\tlearn: 0.1010458\ttotal: 28.2s\tremaining: 1m 52s\n",
      "1998:\tlearn: 0.0490961\ttotal: 56.4s\tremaining: 1m 24s\n",
      "2997:\tlearn: 0.0294556\ttotal: 1m 24s\tremaining: 56.2s\n",
      "3996:\tlearn: 0.0187084\ttotal: 1m 52s\tremaining: 28.1s\n",
      "4995:\tlearn: 0.0122867\ttotal: 2m 20s\tremaining: 112ms\n",
      "4999:\tlearn: 0.0122686\ttotal: 2m 20s\tremaining: 0us\n"
     ]
    },
    {
     "name": "stderr",
     "output_type": "stream",
     "text": [
      "4it [09:25, 141.39s/it]"
     ]
    },
    {
     "name": "stdout",
     "output_type": "stream",
     "text": [
      "fold Loss 3:  0.18303442505659462\n",
      "---------------------------------------------------------------------------\n",
      "Learning rate set to 0.002361\n",
      "0:\tlearn: 0.6905369\ttotal: 42.4ms\tremaining: 3m 31s\n",
      "999:\tlearn: 0.0994838\ttotal: 28.1s\tremaining: 1m 52s\n",
      "1998:\tlearn: 0.0499369\ttotal: 56.2s\tremaining: 1m 24s\n",
      "2997:\tlearn: 0.0296346\ttotal: 1m 24s\tremaining: 56.3s\n",
      "3996:\tlearn: 0.0184382\ttotal: 1m 52s\tremaining: 28.2s\n",
      "4995:\tlearn: 0.0127523\ttotal: 2m 20s\tremaining: 113ms\n",
      "4999:\tlearn: 0.0127349\ttotal: 2m 20s\tremaining: 0us\n"
     ]
    },
    {
     "name": "stderr",
     "output_type": "stream",
     "text": [
      "5it [11:47, 141.43s/it]"
     ]
    },
    {
     "name": "stdout",
     "output_type": "stream",
     "text": [
      "fold Loss 4:  0.08169008531298597\n",
      "---------------------------------------------------------------------------\n",
      "Learning rate set to 0.002361\n",
      "0:\tlearn: 0.6902632\ttotal: 57.1ms\tremaining: 4m 45s\n",
      "999:\tlearn: 0.1020787\ttotal: 28s\tremaining: 1m 51s\n",
      "1998:\tlearn: 0.0505106\ttotal: 56.1s\tremaining: 1m 24s\n",
      "2997:\tlearn: 0.0304786\ttotal: 1m 24s\tremaining: 56.3s\n",
      "3996:\tlearn: 0.0193084\ttotal: 1m 52s\tremaining: 28.2s\n",
      "4995:\tlearn: 0.0131711\ttotal: 2m 20s\tremaining: 113ms\n",
      "4999:\tlearn: 0.0131605\ttotal: 2m 20s\tremaining: 0us\n"
     ]
    },
    {
     "name": "stderr",
     "output_type": "stream",
     "text": [
      "6it [14:08, 141.43s/it]"
     ]
    },
    {
     "name": "stdout",
     "output_type": "stream",
     "text": [
      "fold Loss 5:  0.06955317870860024\n",
      "---------------------------------------------------------------------------\n",
      "Learning rate set to 0.002361\n",
      "0:\tlearn: 0.6906969\ttotal: 41.7ms\tremaining: 3m 28s\n",
      "999:\tlearn: 0.1042760\ttotal: 28.2s\tremaining: 1m 52s\n",
      "1998:\tlearn: 0.0504551\ttotal: 56.4s\tremaining: 1m 24s\n",
      "2997:\tlearn: 0.0298301\ttotal: 1m 24s\tremaining: 56.5s\n",
      "3996:\tlearn: 0.0184101\ttotal: 1m 52s\tremaining: 28.2s\n",
      "4995:\tlearn: 0.0125472\ttotal: 2m 20s\tremaining: 112ms\n",
      "4999:\tlearn: 0.0125266\ttotal: 2m 20s\tremaining: 0us\n"
     ]
    },
    {
     "name": "stderr",
     "output_type": "stream",
     "text": [
      "7it [16:30, 141.42s/it]"
     ]
    },
    {
     "name": "stdout",
     "output_type": "stream",
     "text": [
      "fold Loss 6:  0.0354149441935952\n",
      "---------------------------------------------------------------------------\n",
      "Learning rate set to 0.002361\n",
      "0:\tlearn: 0.6906181\ttotal: 61.3ms\tremaining: 5m 6s\n",
      "999:\tlearn: 0.1035872\ttotal: 28.2s\tremaining: 1m 52s\n",
      "1998:\tlearn: 0.0508915\ttotal: 56.2s\tremaining: 1m 24s\n",
      "2997:\tlearn: 0.0300772\ttotal: 1m 24s\tremaining: 56.3s\n",
      "3996:\tlearn: 0.0186717\ttotal: 1m 52s\tremaining: 28.2s\n",
      "4995:\tlearn: 0.0126343\ttotal: 2m 20s\tremaining: 113ms\n",
      "4999:\tlearn: 0.0126161\ttotal: 2m 21s\tremaining: 0us\n"
     ]
    },
    {
     "name": "stderr",
     "output_type": "stream",
     "text": [
      "8it [18:52, 141.56s/it]"
     ]
    },
    {
     "name": "stdout",
     "output_type": "stream",
     "text": [
      "fold Loss 7:  0.057413244474114944\n",
      "---------------------------------------------------------------------------\n",
      "Learning rate set to 0.002361\n",
      "0:\tlearn: 0.6902161\ttotal: 41.2ms\tremaining: 3m 25s\n",
      "999:\tlearn: 0.1026256\ttotal: 28.3s\tremaining: 1m 53s\n",
      "1998:\tlearn: 0.0500668\ttotal: 56.4s\tremaining: 1m 24s\n",
      "2997:\tlearn: 0.0297384\ttotal: 1m 24s\tremaining: 56.5s\n",
      "3996:\tlearn: 0.0186792\ttotal: 1m 52s\tremaining: 28.3s\n",
      "4995:\tlearn: 0.0128108\ttotal: 2m 21s\tremaining: 113ms\n",
      "4999:\tlearn: 0.0127925\ttotal: 2m 21s\tremaining: 0us\n"
     ]
    },
    {
     "name": "stderr",
     "output_type": "stream",
     "text": [
      "9it [21:14, 141.75s/it]"
     ]
    },
    {
     "name": "stdout",
     "output_type": "stream",
     "text": [
      "fold Loss 8:  0.07027012892802761\n",
      "---------------------------------------------------------------------------\n",
      "Learning rate set to 0.002361\n",
      "0:\tlearn: 0.6905700\ttotal: 56.3ms\tremaining: 4m 41s\n",
      "999:\tlearn: 0.1013631\ttotal: 28.2s\tremaining: 1m 52s\n",
      "1998:\tlearn: 0.0500108\ttotal: 56.4s\tremaining: 1m 24s\n",
      "2997:\tlearn: 0.0299418\ttotal: 1m 24s\tremaining: 56.4s\n",
      "3996:\tlearn: 0.0187205\ttotal: 1m 52s\tremaining: 28.2s\n",
      "4995:\tlearn: 0.0131133\ttotal: 2m 20s\tremaining: 112ms\n",
      "4999:\tlearn: 0.0130994\ttotal: 2m 20s\tremaining: 0us\n"
     ]
    },
    {
     "name": "stderr",
     "output_type": "stream",
     "text": [
      "10it [23:35, 141.52s/it]"
     ]
    },
    {
     "name": "stdout",
     "output_type": "stream",
     "text": [
      "fold Loss 9:  0.034502769574141064\n",
      "---------------------------------------------------------------------------\n",
      "Learning rate set to 0.002361\n",
      "0:\tlearn: 0.6906451\ttotal: 42.8ms\tremaining: 3m 33s\n",
      "999:\tlearn: 0.1031732\ttotal: 28.3s\tremaining: 1m 53s\n",
      "1998:\tlearn: 0.0498585\ttotal: 56.6s\tremaining: 1m 24s\n",
      "2997:\tlearn: 0.0296777\ttotal: 1m 24s\tremaining: 56.6s\n",
      "3996:\tlearn: 0.0187748\ttotal: 1m 53s\tremaining: 28.4s\n",
      "4995:\tlearn: 0.0130964\ttotal: 2m 21s\tremaining: 113ms\n",
      "4999:\tlearn: 0.0130759\ttotal: 2m 21s\tremaining: 0us\n"
     ]
    },
    {
     "name": "stderr",
     "output_type": "stream",
     "text": [
      "11it [25:57, 141.69s/it]"
     ]
    },
    {
     "name": "stdout",
     "output_type": "stream",
     "text": [
      "fold Loss 10:  0.05415539679385412\n",
      "---------------------------------------------------------------------------\n",
      "Learning rate set to 0.002361\n",
      "0:\tlearn: 0.6905501\ttotal: 58.6ms\tremaining: 4m 52s\n",
      "999:\tlearn: 0.1018081\ttotal: 28.3s\tremaining: 1m 53s\n",
      "1998:\tlearn: 0.0498352\ttotal: 56.2s\tremaining: 1m 24s\n",
      "2997:\tlearn: 0.0298801\ttotal: 1m 24s\tremaining: 56.4s\n",
      "3996:\tlearn: 0.0191172\ttotal: 1m 52s\tremaining: 28.3s\n",
      "4995:\tlearn: 0.0130477\ttotal: 2m 20s\tremaining: 113ms\n",
      "4999:\tlearn: 0.0130331\ttotal: 2m 21s\tremaining: 0us\n"
     ]
    },
    {
     "name": "stderr",
     "output_type": "stream",
     "text": [
      "12it [28:19, 141.76s/it]"
     ]
    },
    {
     "name": "stdout",
     "output_type": "stream",
     "text": [
      "fold Loss 11:  0.0483681612139429\n",
      "---------------------------------------------------------------------------\n",
      "Learning rate set to 0.002361\n",
      "0:\tlearn: 0.6901725\ttotal: 41.8ms\tremaining: 3m 28s\n",
      "999:\tlearn: 0.0975642\ttotal: 28.5s\tremaining: 1m 54s\n",
      "1998:\tlearn: 0.0471595\ttotal: 57.1s\tremaining: 1m 25s\n",
      "2997:\tlearn: 0.0273685\ttotal: 1m 25s\tremaining: 57.1s\n",
      "3996:\tlearn: 0.0168949\ttotal: 1m 54s\tremaining: 28.6s\n",
      "4995:\tlearn: 0.0112916\ttotal: 2m 22s\tremaining: 114ms\n",
      "4999:\tlearn: 0.0112775\ttotal: 2m 22s\tremaining: 0us\n"
     ]
    },
    {
     "name": "stderr",
     "output_type": "stream",
     "text": [
      "13it [30:42, 142.18s/it]"
     ]
    },
    {
     "name": "stdout",
     "output_type": "stream",
     "text": [
      "fold Loss 12:  0.18783431260929576\n",
      "---------------------------------------------------------------------------\n",
      "Learning rate set to 0.002361\n",
      "0:\tlearn: 0.6903422\ttotal: 56.3ms\tremaining: 4m 41s\n",
      "999:\tlearn: 0.1024781\ttotal: 28.4s\tremaining: 1m 53s\n",
      "1998:\tlearn: 0.0503597\ttotal: 56.7s\tremaining: 1m 25s\n",
      "2997:\tlearn: 0.0302330\ttotal: 1m 25s\tremaining: 56.9s\n",
      "3996:\tlearn: 0.0191995\ttotal: 1m 53s\tremaining: 28.4s\n",
      "4995:\tlearn: 0.0133243\ttotal: 2m 21s\tremaining: 113ms\n",
      "4999:\tlearn: 0.0133068\ttotal: 2m 21s\tremaining: 0us\n"
     ]
    },
    {
     "name": "stderr",
     "output_type": "stream",
     "text": [
      "14it [33:05, 142.28s/it]"
     ]
    },
    {
     "name": "stdout",
     "output_type": "stream",
     "text": [
      "fold Loss 13:  0.10553971283702825\n",
      "---------------------------------------------------------------------------\n",
      "Learning rate set to 0.002361\n",
      "0:\tlearn: 0.6905559\ttotal: 42.8ms\tremaining: 3m 33s\n",
      "999:\tlearn: 0.0990642\ttotal: 28.2s\tremaining: 1m 52s\n",
      "1998:\tlearn: 0.0466982\ttotal: 56.7s\tremaining: 1m 25s\n",
      "2997:\tlearn: 0.0262307\ttotal: 1m 25s\tremaining: 56.8s\n",
      "3996:\tlearn: 0.0156443\ttotal: 1m 53s\tremaining: 28.5s\n",
      "4995:\tlearn: 0.0109269\ttotal: 2m 22s\tremaining: 114ms\n",
      "4999:\tlearn: 0.0109157\ttotal: 2m 22s\tremaining: 0us\n"
     ]
    },
    {
     "name": "stderr",
     "output_type": "stream",
     "text": [
      "15it [35:28, 142.53s/it]"
     ]
    },
    {
     "name": "stdout",
     "output_type": "stream",
     "text": [
      "fold Loss 14:  0.18308152471961375\n",
      "---------------------------------------------------------------------------\n",
      "Learning rate set to 0.002361\n",
      "0:\tlearn: 0.6905183\ttotal: 61.2ms\tremaining: 5m 5s\n",
      "999:\tlearn: 0.0988238\ttotal: 28.6s\tremaining: 1m 54s\n",
      "1998:\tlearn: 0.0478996\ttotal: 56.8s\tremaining: 1m 25s\n",
      "2997:\tlearn: 0.0280369\ttotal: 1m 24s\tremaining: 56.7s\n",
      "3996:\tlearn: 0.0173432\ttotal: 1m 52s\tremaining: 28.3s\n",
      "4995:\tlearn: 0.0115214\ttotal: 2m 21s\tremaining: 113ms\n",
      "4999:\tlearn: 0.0115004\ttotal: 2m 21s\tremaining: 0us\n"
     ]
    },
    {
     "name": "stderr",
     "output_type": "stream",
     "text": [
      "16it [37:50, 142.35s/it]"
     ]
    },
    {
     "name": "stdout",
     "output_type": "stream",
     "text": [
      "fold Loss 15:  0.15526835742834094\n",
      "---------------------------------------------------------------------------\n",
      "Learning rate set to 0.002361\n",
      "0:\tlearn: 0.6905208\ttotal: 43.8ms\tremaining: 3m 39s\n",
      "999:\tlearn: 0.1008717\ttotal: 28.2s\tremaining: 1m 52s\n",
      "1998:\tlearn: 0.0498761\ttotal: 56.3s\tremaining: 1m 24s\n",
      "2997:\tlearn: 0.0294541\ttotal: 1m 24s\tremaining: 56.4s\n",
      "3996:\tlearn: 0.0183332\ttotal: 1m 52s\tremaining: 28.2s\n",
      "4995:\tlearn: 0.0124111\ttotal: 2m 20s\tremaining: 113ms\n",
      "4999:\tlearn: 0.0123950\ttotal: 2m 20s\tremaining: 0us\n"
     ]
    },
    {
     "name": "stderr",
     "output_type": "stream",
     "text": [
      "17it [40:11, 142.08s/it]"
     ]
    },
    {
     "name": "stdout",
     "output_type": "stream",
     "text": [
      "fold Loss 16:  0.03658056944094793\n",
      "---------------------------------------------------------------------------\n",
      "Learning rate set to 0.002361\n",
      "0:\tlearn: 0.6903430\ttotal: 71.4ms\tremaining: 5m 56s\n",
      "999:\tlearn: 0.1014625\ttotal: 28s\tremaining: 1m 51s\n",
      "1998:\tlearn: 0.0488929\ttotal: 56.2s\tremaining: 1m 24s\n",
      "2997:\tlearn: 0.0287553\ttotal: 1m 24s\tremaining: 56.4s\n",
      "3996:\tlearn: 0.0178135\ttotal: 1m 52s\tremaining: 28.2s\n",
      "4995:\tlearn: 0.0122927\ttotal: 2m 20s\tremaining: 112ms\n",
      "4999:\tlearn: 0.0122754\ttotal: 2m 20s\tremaining: 0us\n"
     ]
    },
    {
     "name": "stderr",
     "output_type": "stream",
     "text": [
      "18it [42:32, 141.87s/it]"
     ]
    },
    {
     "name": "stdout",
     "output_type": "stream",
     "text": [
      "fold Loss 17:  0.10438658304402774\n",
      "---------------------------------------------------------------------------\n",
      "Learning rate set to 0.002361\n",
      "0:\tlearn: 0.6902761\ttotal: 41.5ms\tremaining: 3m 27s\n",
      "999:\tlearn: 0.1019920\ttotal: 28.2s\tremaining: 1m 52s\n",
      "1998:\tlearn: 0.0492178\ttotal: 56.4s\tremaining: 1m 24s\n",
      "2997:\tlearn: 0.0293127\ttotal: 1m 25s\tremaining: 57.4s\n",
      "3996:\tlearn: 0.0184964\ttotal: 1m 53s\tremaining: 28.5s\n",
      "4995:\tlearn: 0.0125250\ttotal: 2m 21s\tremaining: 113ms\n",
      "4999:\tlearn: 0.0125025\ttotal: 2m 21s\tremaining: 0us\n"
     ]
    },
    {
     "name": "stderr",
     "output_type": "stream",
     "text": [
      "19it [44:55, 142.11s/it]"
     ]
    },
    {
     "name": "stdout",
     "output_type": "stream",
     "text": [
      "fold Loss 18:  0.07064320052543344\n",
      "---------------------------------------------------------------------------\n",
      "Learning rate set to 0.002362\n",
      "0:\tlearn: 0.6908390\ttotal: 55.9ms\tremaining: 4m 39s\n",
      "999:\tlearn: 0.1022050\ttotal: 28.5s\tremaining: 1m 53s\n",
      "1998:\tlearn: 0.0503989\ttotal: 56.7s\tremaining: 1m 25s\n",
      "2997:\tlearn: 0.0302808\ttotal: 1m 24s\tremaining: 56.7s\n",
      "3996:\tlearn: 0.0191218\ttotal: 1m 52s\tremaining: 28.4s\n",
      "4995:\tlearn: 0.0135404\ttotal: 2m 21s\tremaining: 113ms\n",
      "4999:\tlearn: 0.0135216\ttotal: 2m 21s\tremaining: 0us\n"
     ]
    },
    {
     "name": "stderr",
     "output_type": "stream",
     "text": [
      "20it [47:17, 141.88s/it]"
     ]
    },
    {
     "name": "stdout",
     "output_type": "stream",
     "text": [
      "fold Loss 19:  0.04421702108297788\n",
      "---------------------------------------------------------------------------\n",
      "Training Loss: 0.015041953856352052\n",
      "Loss for carbonate:\n",
      "0.09446428411634879 0.054140857181583533\n",
      "==================================================================================================\n",
      "TARGET  chloride\n"
     ]
    },
    {
     "name": "stderr",
     "output_type": "stream",
     "text": [
      "\n"
     ]
    },
    {
     "name": "stdout",
     "output_type": "stream",
     "text": [
      "0.3300976161992197\n"
     ]
    },
    {
     "name": "stderr",
     "output_type": "stream",
     "text": [
      "100%|██████████| 101/101 [00:00<00:00, 526896.40it/s]"
     ]
    },
    {
     "name": "stdout",
     "output_type": "stream",
     "text": [
      "21\n"
     ]
    },
    {
     "name": "stderr",
     "output_type": "stream",
     "text": [
      "\n"
     ]
    },
    {
     "name": "stdout",
     "output_type": "stream",
     "text": [
      "0.2648939705785282\n"
     ]
    },
    {
     "name": "stderr",
     "output_type": "stream",
     "text": [
      "100%|██████████| 1900/1900 [00:00<00:00, 1691610.61it/s]\n"
     ]
    },
    {
     "name": "stdout",
     "output_type": "stream",
     "text": [
      "56\n",
      "0.24869227117864057\n"
     ]
    },
    {
     "name": "stderr",
     "output_type": "stream",
     "text": [
      "100%|██████████| 2200/2200 [00:00<00:00, 1632024.90it/s]\n"
     ]
    },
    {
     "name": "stdout",
     "output_type": "stream",
     "text": [
      "65\n",
      "0.24448047677056178\n"
     ]
    },
    {
     "name": "stderr",
     "output_type": "stream",
     "text": [
      "100%|██████████| 2000/2000 [00:00<00:00, 1685813.50it/s]\n"
     ]
    },
    {
     "name": "stdout",
     "output_type": "stream",
     "text": [
      "62\n",
      "(1059, 62) (1059, 21) (1059, 56) (1059, 65)\n",
      "(1059, 204)\n",
      "(804, 62) (804, 21) (804, 56) (804, 65)\n",
      "(804, 204)\n"
     ]
    },
    {
     "name": "stderr",
     "output_type": "stream",
     "text": [
      "0it [00:00, ?it/s]"
     ]
    },
    {
     "name": "stdout",
     "output_type": "stream",
     "text": [
      "Learning rate set to 0.002361\n",
      "0:\tlearn: 0.6903139\ttotal: 37.1ms\tremaining: 3m 5s\n",
      "999:\tlearn: 0.1459741\ttotal: 25.4s\tremaining: 1m 41s\n",
      "1998:\tlearn: 0.0822228\ttotal: 50.6s\tremaining: 1m 16s\n",
      "2997:\tlearn: 0.0540047\ttotal: 1m 15s\tremaining: 50.7s\n",
      "3996:\tlearn: 0.0365204\ttotal: 1m 40s\tremaining: 25.3s\n",
      "4995:\tlearn: 0.0251541\ttotal: 2m 5s\tremaining: 101ms\n",
      "4999:\tlearn: 0.0251235\ttotal: 2m 5s\tremaining: 0us\n",
      "fold Loss 0:  0.07821311197165669\n"
     ]
    },
    {
     "name": "stderr",
     "output_type": "stream",
     "text": [
      "1it [02:06, 126.76s/it]"
     ]
    },
    {
     "name": "stdout",
     "output_type": "stream",
     "text": [
      "---------------------------------------------------------------------------\n",
      "Learning rate set to 0.002361\n",
      "0:\tlearn: 0.6903240\ttotal: 48ms\tremaining: 4m\n",
      "999:\tlearn: 0.1330174\ttotal: 25.4s\tremaining: 1m 41s\n",
      "1998:\tlearn: 0.0735475\ttotal: 50.6s\tremaining: 1m 15s\n",
      "2997:\tlearn: 0.0476989\ttotal: 1m 15s\tremaining: 50.6s\n",
      "3996:\tlearn: 0.0314271\ttotal: 1m 40s\tremaining: 25.2s\n",
      "4995:\tlearn: 0.0216592\ttotal: 2m 6s\tremaining: 101ms\n",
      "4999:\tlearn: 0.0216368\ttotal: 2m 6s\tremaining: 0us\n",
      "fold Loss 1:  0.4044646628803857\n"
     ]
    },
    {
     "name": "stderr",
     "output_type": "stream",
     "text": [
      "2it [04:13, 126.87s/it]"
     ]
    },
    {
     "name": "stdout",
     "output_type": "stream",
     "text": [
      "---------------------------------------------------------------------------\n",
      "Learning rate set to 0.002361\n",
      "0:\tlearn: 0.6903628\ttotal: 37.7ms\tremaining: 3m 8s\n",
      "999:\tlearn: 0.1400271\ttotal: 25.2s\tremaining: 1m 40s\n",
      "1998:\tlearn: 0.0791752\ttotal: 50.6s\tremaining: 1m 15s\n",
      "2997:\tlearn: 0.0518802\ttotal: 1m 15s\tremaining: 50.4s\n",
      "3996:\tlearn: 0.0345072\ttotal: 1m 40s\tremaining: 25.3s\n",
      "4995:\tlearn: 0.0236926\ttotal: 2m 5s\tremaining: 101ms\n",
      "4999:\tlearn: 0.0236540\ttotal: 2m 6s\tremaining: 0us\n",
      "fold Loss 2:  0.1461127675387479\n"
     ]
    },
    {
     "name": "stderr",
     "output_type": "stream",
     "text": [
      "3it [06:20, 126.83s/it]"
     ]
    },
    {
     "name": "stdout",
     "output_type": "stream",
     "text": [
      "---------------------------------------------------------------------------\n",
      "Learning rate set to 0.002361\n",
      "0:\tlearn: 0.6903822\ttotal: 48.9ms\tremaining: 4m 4s\n",
      "999:\tlearn: 0.1428875\ttotal: 25.5s\tremaining: 1m 42s\n",
      "1998:\tlearn: 0.0807238\ttotal: 50.8s\tremaining: 1m 16s\n",
      "2997:\tlearn: 0.0530606\ttotal: 1m 15s\tremaining: 50.6s\n",
      "3996:\tlearn: 0.0356606\ttotal: 1m 41s\tremaining: 25.4s\n",
      "4995:\tlearn: 0.0244897\ttotal: 2m 6s\tremaining: 101ms\n",
      "4999:\tlearn: 0.0244514\ttotal: 2m 6s\tremaining: 0us\n",
      "fold Loss 3:  0.12420145790235435\n"
     ]
    },
    {
     "name": "stderr",
     "output_type": "stream",
     "text": [
      "4it [08:27, 127.09s/it]"
     ]
    },
    {
     "name": "stdout",
     "output_type": "stream",
     "text": [
      "---------------------------------------------------------------------------\n",
      "Learning rate set to 0.002361\n",
      "0:\tlearn: 0.6903496\ttotal: 38.5ms\tremaining: 3m 12s\n",
      "999:\tlearn: 0.1422712\ttotal: 25.3s\tremaining: 1m 41s\n",
      "1998:\tlearn: 0.0799120\ttotal: 50.3s\tremaining: 1m 15s\n",
      "2997:\tlearn: 0.0519919\ttotal: 1m 15s\tremaining: 50.6s\n",
      "3996:\tlearn: 0.0345499\ttotal: 1m 40s\tremaining: 25.3s\n",
      "4995:\tlearn: 0.0238285\ttotal: 2m 6s\tremaining: 101ms\n",
      "4999:\tlearn: 0.0237941\ttotal: 2m 6s\tremaining: 0us\n",
      "fold Loss 4:  0.16165328275457744\n"
     ]
    },
    {
     "name": "stderr",
     "output_type": "stream",
     "text": [
      "5it [10:35, 127.12s/it]"
     ]
    },
    {
     "name": "stdout",
     "output_type": "stream",
     "text": [
      "---------------------------------------------------------------------------\n",
      "Learning rate set to 0.002361\n",
      "0:\tlearn: 0.6903984\ttotal: 49.4ms\tremaining: 4m 7s\n",
      "999:\tlearn: 0.1418446\ttotal: 25.2s\tremaining: 1m 40s\n",
      "1998:\tlearn: 0.0805643\ttotal: 50.1s\tremaining: 1m 15s\n",
      "2997:\tlearn: 0.0535164\ttotal: 1m 15s\tremaining: 50.5s\n",
      "3996:\tlearn: 0.0362023\ttotal: 1m 40s\tremaining: 25.3s\n",
      "4995:\tlearn: 0.0242581\ttotal: 2m 6s\tremaining: 101ms\n",
      "4999:\tlearn: 0.0242228\ttotal: 2m 6s\tremaining: 0us\n"
     ]
    },
    {
     "name": "stderr",
     "output_type": "stream",
     "text": [
      "6it [12:42, 127.12s/it]"
     ]
    },
    {
     "name": "stdout",
     "output_type": "stream",
     "text": [
      "fold Loss 5:  0.10821462675108225\n",
      "---------------------------------------------------------------------------\n",
      "Learning rate set to 0.002361\n",
      "0:\tlearn: 0.6904604\ttotal: 37.2ms\tremaining: 3m 6s\n",
      "999:\tlearn: 0.1447571\ttotal: 24.9s\tremaining: 1m 39s\n",
      "1998:\tlearn: 0.0823688\ttotal: 50.5s\tremaining: 1m 15s\n",
      "2997:\tlearn: 0.0545068\ttotal: 1m 15s\tremaining: 50.5s\n",
      "3996:\tlearn: 0.0368447\ttotal: 1m 40s\tremaining: 25.3s\n",
      "4995:\tlearn: 0.0251805\ttotal: 2m 6s\tremaining: 101ms\n",
      "4999:\tlearn: 0.0251596\ttotal: 2m 6s\tremaining: 0us\n"
     ]
    },
    {
     "name": "stderr",
     "output_type": "stream",
     "text": [
      "7it [14:49, 127.10s/it]"
     ]
    },
    {
     "name": "stdout",
     "output_type": "stream",
     "text": [
      "fold Loss 6:  0.1161286347429036\n",
      "---------------------------------------------------------------------------\n",
      "Learning rate set to 0.002361\n",
      "0:\tlearn: 0.6904219\ttotal: 64.3ms\tremaining: 5m 21s\n",
      "999:\tlearn: 0.1428997\ttotal: 25.2s\tremaining: 1m 40s\n",
      "1998:\tlearn: 0.0803677\ttotal: 50.4s\tremaining: 1m 15s\n",
      "2997:\tlearn: 0.0522973\ttotal: 1m 15s\tremaining: 50.7s\n",
      "3996:\tlearn: 0.0343735\ttotal: 1m 41s\tremaining: 25.4s\n",
      "4995:\tlearn: 0.0227964\ttotal: 2m 6s\tremaining: 101ms\n",
      "4999:\tlearn: 0.0227691\ttotal: 2m 6s\tremaining: 0us\n"
     ]
    },
    {
     "name": "stderr",
     "output_type": "stream",
     "text": [
      "8it [16:56, 127.12s/it]"
     ]
    },
    {
     "name": "stdout",
     "output_type": "stream",
     "text": [
      "fold Loss 7:  0.11762378098209365\n",
      "---------------------------------------------------------------------------\n",
      "Learning rate set to 0.002361\n",
      "0:\tlearn: 0.6903037\ttotal: 38.1ms\tremaining: 3m 10s\n",
      "999:\tlearn: 0.1435540\ttotal: 25.6s\tremaining: 1m 42s\n",
      "1998:\tlearn: 0.0803830\ttotal: 51.2s\tremaining: 1m 16s\n",
      "2997:\tlearn: 0.0528321\ttotal: 1m 16s\tremaining: 51.1s\n",
      "3996:\tlearn: 0.0355221\ttotal: 1m 41s\tremaining: 25.5s\n",
      "4995:\tlearn: 0.0236958\ttotal: 2m 7s\tremaining: 102ms\n",
      "4999:\tlearn: 0.0236624\ttotal: 2m 7s\tremaining: 0us\n",
      "fold Loss 8: "
     ]
    },
    {
     "name": "stderr",
     "output_type": "stream",
     "text": [
      "9it [19:04, 127.44s/it]"
     ]
    },
    {
     "name": "stdout",
     "output_type": "stream",
     "text": [
      " 0.13824387425794687\n",
      "---------------------------------------------------------------------------\n",
      "Learning rate set to 0.002361\n",
      "0:\tlearn: 0.6903835\ttotal: 52.3ms\tremaining: 4m 21s\n",
      "999:\tlearn: 0.1399160\ttotal: 25.5s\tremaining: 1m 42s\n",
      "1998:\tlearn: 0.0776133\ttotal: 50.9s\tremaining: 1m 16s\n",
      "2997:\tlearn: 0.0498988\ttotal: 1m 16s\tremaining: 50.8s\n",
      "3996:\tlearn: 0.0325664\ttotal: 1m 40s\tremaining: 25.3s\n",
      "4995:\tlearn: 0.0214405\ttotal: 2m 6s\tremaining: 101ms\n",
      "4999:\tlearn: 0.0213920\ttotal: 2m 6s\tremaining: 0us\n"
     ]
    },
    {
     "name": "stderr",
     "output_type": "stream",
     "text": [
      "10it [21:11, 127.33s/it]"
     ]
    },
    {
     "name": "stdout",
     "output_type": "stream",
     "text": [
      "fold Loss 9:  0.2206238943905029\n",
      "---------------------------------------------------------------------------\n",
      "Learning rate set to 0.002361\n",
      "0:\tlearn: 0.6902776\ttotal: 38.2ms\tremaining: 3m 11s\n",
      "999:\tlearn: 0.1379225\ttotal: 25.4s\tremaining: 1m 41s\n",
      "1998:\tlearn: 0.0768753\ttotal: 50.7s\tremaining: 1m 16s\n",
      "2997:\tlearn: 0.0494409\ttotal: 1m 15s\tremaining: 50.4s\n",
      "3996:\tlearn: 0.0332207\ttotal: 1m 40s\tremaining: 25.3s\n",
      "4995:\tlearn: 0.0222385\ttotal: 2m 5s\tremaining: 101ms\n",
      "4999:\tlearn: 0.0221984\ttotal: 2m 6s\tremaining: 0us\n",
      "fold Loss 10:  0.2023144323931919\n"
     ]
    },
    {
     "name": "stderr",
     "output_type": "stream",
     "text": [
      "11it [23:18, 127.18s/it]"
     ]
    },
    {
     "name": "stdout",
     "output_type": "stream",
     "text": [
      "---------------------------------------------------------------------------\n",
      "Learning rate set to 0.002361\n",
      "0:\tlearn: 0.6902906\ttotal: 49ms\tremaining: 4m 4s\n",
      "999:\tlearn: 0.1433073\ttotal: 25.4s\tremaining: 1m 41s\n",
      "1998:\tlearn: 0.0816204\ttotal: 50.7s\tremaining: 1m 16s\n",
      "2997:\tlearn: 0.0535259\ttotal: 1m 15s\tremaining: 50.6s\n",
      "3996:\tlearn: 0.0362526\ttotal: 1m 40s\tremaining: 25.3s\n",
      "4995:\tlearn: 0.0258816\ttotal: 2m 6s\tremaining: 101ms\n",
      "4999:\tlearn: 0.0258381\ttotal: 2m 6s\tremaining: 0us\n"
     ]
    },
    {
     "name": "stderr",
     "output_type": "stream",
     "text": [
      "12it [25:25, 127.18s/it]"
     ]
    },
    {
     "name": "stdout",
     "output_type": "stream",
     "text": [
      "fold Loss 11:  0.09916790645743263\n",
      "---------------------------------------------------------------------------\n",
      "Learning rate set to 0.002361\n",
      "0:\tlearn: 0.6904099\ttotal: 38ms\tremaining: 3m 10s\n",
      "999:\tlearn: 0.1460166\ttotal: 25.4s\tremaining: 1m 41s\n",
      "1998:\tlearn: 0.0827368\ttotal: 50.5s\tremaining: 1m 15s\n",
      "2997:\tlearn: 0.0550478\ttotal: 1m 15s\tremaining: 50.6s\n",
      "3996:\tlearn: 0.0370732\ttotal: 1m 41s\tremaining: 25.4s\n",
      "4995:\tlearn: 0.0245430\ttotal: 2m 6s\tremaining: 101ms\n",
      "4999:\tlearn: 0.0244890\ttotal: 2m 6s\tremaining: 0us\n"
     ]
    },
    {
     "name": "stderr",
     "output_type": "stream",
     "text": [
      "13it [27:33, 127.29s/it]"
     ]
    },
    {
     "name": "stdout",
     "output_type": "stream",
     "text": [
      "fold Loss 12:  0.05928832924987734\n",
      "---------------------------------------------------------------------------\n",
      "Learning rate set to 0.002361\n",
      "0:\tlearn: 0.6903568\ttotal: 55.2ms\tremaining: 4m 35s\n",
      "999:\tlearn: 0.1440181\ttotal: 25.1s\tremaining: 1m 40s\n",
      "1998:\tlearn: 0.0819925\ttotal: 50.4s\tremaining: 1m 15s\n",
      "2997:\tlearn: 0.0533398\ttotal: 1m 15s\tremaining: 50.6s\n",
      "3996:\tlearn: 0.0352132\ttotal: 1m 41s\tremaining: 25.4s\n",
      "4995:\tlearn: 0.0235081\ttotal: 2m 6s\tremaining: 101ms\n",
      "4999:\tlearn: 0.0234938\ttotal: 2m 6s\tremaining: 0us\n",
      "fold Loss 13:  0.0923646259203436\n"
     ]
    },
    {
     "name": "stderr",
     "output_type": "stream",
     "text": [
      "14it [29:40, 127.32s/it]"
     ]
    },
    {
     "name": "stdout",
     "output_type": "stream",
     "text": [
      "---------------------------------------------------------------------------\n",
      "Learning rate set to 0.002361\n",
      "0:\tlearn: 0.6901790\ttotal: 38.5ms\tremaining: 3m 12s\n",
      "999:\tlearn: 0.1438653\ttotal: 25s\tremaining: 1m 40s\n",
      "1998:\tlearn: 0.0816729\ttotal: 50.3s\tremaining: 1m 15s\n",
      "2997:\tlearn: 0.0538866\ttotal: 1m 15s\tremaining: 50.4s\n",
      "3996:\tlearn: 0.0366793\ttotal: 1m 40s\tremaining: 25.3s\n",
      "4995:\tlearn: 0.0256114\ttotal: 2m 5s\tremaining: 101ms\n",
      "4999:\tlearn: 0.0255647\ttotal: 2m 5s\tremaining: 0us\n"
     ]
    },
    {
     "name": "stderr",
     "output_type": "stream",
     "text": [
      "15it [31:47, 127.08s/it]"
     ]
    },
    {
     "name": "stdout",
     "output_type": "stream",
     "text": [
      "fold Loss 14:  0.10035343800574542\n",
      "---------------------------------------------------------------------------\n",
      "Learning rate set to 0.002361\n",
      "0:\tlearn: 0.6903880\ttotal: 50.5ms\tremaining: 4m 12s\n",
      "999:\tlearn: 0.1450768\ttotal: 25.4s\tremaining: 1m 41s\n",
      "1998:\tlearn: 0.0815918\ttotal: 50.7s\tremaining: 1m 16s\n",
      "2997:\tlearn: 0.0535194\ttotal: 1m 16s\tremaining: 50.8s\n",
      "3996:\tlearn: 0.0358346\ttotal: 1m 41s\tremaining: 25.4s\n"
     ]
    },
    {
     "name": "stderr",
     "output_type": "stream",
     "text": [
      "16it [33:54, 127.15s/it]"
     ]
    },
    {
     "name": "stdout",
     "output_type": "stream",
     "text": [
      "4995:\tlearn: 0.0240588\ttotal: 2m 6s\tremaining: 101ms\n",
      "4999:\tlearn: 0.0240282\ttotal: 2m 6s\tremaining: 0us\n",
      "fold Loss 15:  0.09864642403558574\n",
      "---------------------------------------------------------------------------\n",
      "Learning rate set to 0.002361\n",
      "0:\tlearn: 0.6903361\ttotal: 37.1ms\tremaining: 3m 5s\n",
      "999:\tlearn: 0.1425337\ttotal: 25.3s\tremaining: 1m 41s\n",
      "1998:\tlearn: 0.0812301\ttotal: 50.7s\tremaining: 1m 16s\n",
      "2997:\tlearn: 0.0532787\ttotal: 1m 15s\tremaining: 50.5s\n",
      "3996:\tlearn: 0.0355436\ttotal: 1m 40s\tremaining: 25.3s\n",
      "4995:\tlearn: 0.0244012\ttotal: 2m 6s\tremaining: 101ms\n",
      "4999:\tlearn: 0.0243771\ttotal: 2m 6s\tremaining: 0us\n"
     ]
    },
    {
     "name": "stderr",
     "output_type": "stream",
     "text": [
      "17it [36:01, 127.21s/it]"
     ]
    },
    {
     "name": "stdout",
     "output_type": "stream",
     "text": [
      "fold Loss 16:  0.09104674292162006\n",
      "---------------------------------------------------------------------------\n",
      "Learning rate set to 0.002361\n",
      "0:\tlearn: 0.6902277\ttotal: 51ms\tremaining: 4m 14s\n",
      "999:\tlearn: 0.1380736\ttotal: 25.4s\tremaining: 1m 41s\n",
      "1998:\tlearn: 0.0765234\ttotal: 50.8s\tremaining: 1m 16s\n",
      "2997:\tlearn: 0.0499773\ttotal: 1m 15s\tremaining: 50.7s\n",
      "3996:\tlearn: 0.0338328\ttotal: 1m 41s\tremaining: 25.4s\n",
      "4995:\tlearn: 0.0226786\ttotal: 2m 6s\tremaining: 101ms\n",
      "4999:\tlearn: 0.0226379\ttotal: 2m 6s\tremaining: 0us\n"
     ]
    },
    {
     "name": "stderr",
     "output_type": "stream",
     "text": [
      "18it [38:09, 127.33s/it]"
     ]
    },
    {
     "name": "stdout",
     "output_type": "stream",
     "text": [
      "fold Loss 17:  0.25173303194437097\n",
      "---------------------------------------------------------------------------\n",
      "Learning rate set to 0.002361\n",
      "0:\tlearn: 0.6903649\ttotal: 38.4ms\tremaining: 3m 12s\n",
      "999:\tlearn: 0.1417428\ttotal: 25.6s\tremaining: 1m 42s\n",
      "1998:\tlearn: 0.0806294\ttotal: 51s\tremaining: 1m 16s\n",
      "2997:\tlearn: 0.0534705\ttotal: 1m 15s\tremaining: 50.6s\n",
      "3996:\tlearn: 0.0354953\ttotal: 1m 41s\tremaining: 25.4s\n",
      "4995:\tlearn: 0.0242139\ttotal: 2m 6s\tremaining: 101ms\n",
      "4999:\tlearn: 0.0241862\ttotal: 2m 6s\tremaining: 0us\n",
      "fold Loss 18:  0.1788615479111765\n"
     ]
    },
    {
     "name": "stderr",
     "output_type": "stream",
     "text": [
      "19it [40:17, 127.43s/it]"
     ]
    },
    {
     "name": "stdout",
     "output_type": "stream",
     "text": [
      "---------------------------------------------------------------------------\n",
      "Learning rate set to 0.002362\n",
      "0:\tlearn: 0.6903592\ttotal: 49.2ms\tremaining: 4m 6s\n",
      "999:\tlearn: 0.1437933\ttotal: 25.5s\tremaining: 1m 41s\n",
      "1998:\tlearn: 0.0820379\ttotal: 50.6s\tremaining: 1m 15s\n",
      "2997:\tlearn: 0.0545900\ttotal: 1m 16s\tremaining: 50.9s\n",
      "3996:\tlearn: 0.0370395\ttotal: 1m 41s\tremaining: 25.5s\n",
      "4995:\tlearn: 0.0251436\ttotal: 2m 7s\tremaining: 102ms\n",
      "4999:\tlearn: 0.0251019\ttotal: 2m 7s\tremaining: 0us\n",
      "fold Loss 19: "
     ]
    },
    {
     "name": "stderr",
     "output_type": "stream",
     "text": [
      "20it [42:25, 127.26s/it]"
     ]
    },
    {
     "name": "stdout",
     "output_type": "stream",
     "text": [
      " 0.062300512122758556\n",
      "---------------------------------------------------------------------------\n",
      "Training Loss: 0.026949200418048845\n",
      "Loss for chloride:\n",
      "0.1425778542567177 0.07842518093649531\n",
      "==================================================================================================\n",
      "TARGET  iron_oxide\n"
     ]
    },
    {
     "name": "stderr",
     "output_type": "stream",
     "text": [
      "\n"
     ]
    },
    {
     "name": "stdout",
     "output_type": "stream",
     "text": [
      "0.4566557690532368\n"
     ]
    },
    {
     "name": "stderr",
     "output_type": "stream",
     "text": [
      "100%|██████████| 101/101 [00:00<00:00, 543108.59it/s]\n"
     ]
    },
    {
     "name": "stdout",
     "output_type": "stream",
     "text": [
      "26\n",
      "0.369573628516975\n"
     ]
    },
    {
     "name": "stderr",
     "output_type": "stream",
     "text": [
      "100%|██████████| 1900/1900 [00:00<00:00, 1512464.91it/s]\n"
     ]
    },
    {
     "name": "stdout",
     "output_type": "stream",
     "text": [
      "65\n",
      "0.37356670321131624\n"
     ]
    },
    {
     "name": "stderr",
     "output_type": "stream",
     "text": [
      "100%|██████████| 2200/2200 [00:00<00:00, 1690941.69it/s]\n"
     ]
    },
    {
     "name": "stdout",
     "output_type": "stream",
     "text": [
      "100\n",
      "0.3734625806558737\n"
     ]
    },
    {
     "name": "stderr",
     "output_type": "stream",
     "text": [
      "100%|██████████| 2000/2000 [00:00<00:00, 1616925.21it/s]\n"
     ]
    },
    {
     "name": "stdout",
     "output_type": "stream",
     "text": [
      "99\n",
      "(1059, 99) (1059, 26) (1059, 65) (1059, 100)\n",
      "(1059, 290)\n",
      "(804, 99) (804, 26) (804, 65) (804, 100)\n",
      "(804, 290)\n"
     ]
    },
    {
     "name": "stderr",
     "output_type": "stream",
     "text": [
      "0it [00:00, ?it/s]"
     ]
    },
    {
     "name": "stdout",
     "output_type": "stream",
     "text": [
      "Learning rate set to 0.002361\n",
      "0:\tlearn: 0.6913073\ttotal: 56.4ms\tremaining: 4m 42s\n",
      "999:\tlearn: 0.2280494\ttotal: 35.7s\tremaining: 2m 22s\n",
      "1998:\tlearn: 0.1431801\ttotal: 1m 11s\tremaining: 1m 47s\n",
      "2997:\tlearn: 0.0988258\ttotal: 1m 46s\tremaining: 1m 11s\n",
      "3996:\tlearn: 0.0697224\ttotal: 2m 22s\tremaining: 35.7s\n",
      "4995:\tlearn: 0.0487718\ttotal: 2m 58s\tremaining: 143ms\n",
      "4999:\tlearn: 0.0487046\ttotal: 2m 58s\tremaining: 0us\n"
     ]
    },
    {
     "name": "stderr",
     "output_type": "stream",
     "text": [
      "1it [02:59, 179.44s/it]"
     ]
    },
    {
     "name": "stdout",
     "output_type": "stream",
     "text": [
      "fold Loss 0:  0.2661525166620245\n",
      "---------------------------------------------------------------------------\n",
      "Learning rate set to 0.002361\n",
      "0:\tlearn: 0.6913542\ttotal: 69.1ms\tremaining: 5m 45s\n",
      "999:\tlearn: 0.2335646\ttotal: 35.7s\tremaining: 2m 22s\n",
      "1998:\tlearn: 0.1465904\ttotal: 1m 11s\tremaining: 1m 46s\n",
      "2997:\tlearn: 0.1012852\ttotal: 1m 46s\tremaining: 1m 11s\n",
      "3996:\tlearn: 0.0722355\ttotal: 2m 22s\tremaining: 35.7s\n",
      "4995:\tlearn: 0.0527639\ttotal: 2m 57s\tremaining: 142ms\n",
      "4999:\tlearn: 0.0527250\ttotal: 2m 57s\tremaining: 0us\n"
     ]
    },
    {
     "name": "stderr",
     "output_type": "stream",
     "text": [
      "2it [05:58, 179.04s/it]"
     ]
    },
    {
     "name": "stdout",
     "output_type": "stream",
     "text": [
      "fold Loss 1:  0.13418986575697767\n",
      "---------------------------------------------------------------------------\n",
      "Learning rate set to 0.002361\n",
      "0:\tlearn: 0.6912972\ttotal: 68.2ms\tremaining: 5m 41s\n",
      "999:\tlearn: 0.2269790\ttotal: 35.5s\tremaining: 2m 22s\n",
      "1998:\tlearn: 0.1410749\ttotal: 1m 11s\tremaining: 1m 46s\n",
      "2997:\tlearn: 0.0970168\ttotal: 1m 46s\tremaining: 1m 11s\n",
      "3996:\tlearn: 0.0686888\ttotal: 2m 21s\tremaining: 35.6s\n",
      "4995:\tlearn: 0.0479032\ttotal: 2m 57s\tremaining: 142ms\n",
      "4999:\tlearn: 0.0478690\ttotal: 2m 57s\tremaining: 0us\n"
     ]
    },
    {
     "name": "stderr",
     "output_type": "stream",
     "text": [
      "3it [08:56, 178.78s/it]"
     ]
    },
    {
     "name": "stdout",
     "output_type": "stream",
     "text": [
      "fold Loss 2:  0.25766732585524216\n",
      "---------------------------------------------------------------------------\n",
      "Learning rate set to 0.002361\n",
      "0:\tlearn: 0.6915475\ttotal: 69.8ms\tremaining: 5m 49s\n",
      "999:\tlearn: 0.2315301\ttotal: 35.8s\tremaining: 2m 23s\n",
      "1998:\tlearn: 0.1430643\ttotal: 1m 11s\tremaining: 1m 47s\n",
      "2997:\tlearn: 0.0968376\ttotal: 1m 46s\tremaining: 1m 11s\n",
      "3996:\tlearn: 0.0688734\ttotal: 2m 22s\tremaining: 35.8s\n",
      "4995:\tlearn: 0.0488099\ttotal: 2m 57s\tremaining: 142ms\n",
      "4999:\tlearn: 0.0487547\ttotal: 2m 58s\tremaining: 0us\n"
     ]
    },
    {
     "name": "stderr",
     "output_type": "stream",
     "text": [
      "4it [11:55, 178.80s/it]"
     ]
    },
    {
     "name": "stdout",
     "output_type": "stream",
     "text": [
      "fold Loss 3:  0.21063104469908553\n",
      "---------------------------------------------------------------------------\n",
      "Learning rate set to 0.002361\n",
      "0:\tlearn: 0.6913164\ttotal: 67.3ms\tremaining: 5m 36s\n",
      "999:\tlearn: 0.2323971\ttotal: 35.6s\tremaining: 2m 22s\n",
      "1998:\tlearn: 0.1456526\ttotal: 1m 11s\tremaining: 1m 46s\n",
      "2997:\tlearn: 0.0985920\ttotal: 1m 46s\tremaining: 1m 11s\n",
      "3996:\tlearn: 0.0689287\ttotal: 2m 22s\tremaining: 35.6s\n",
      "4995:\tlearn: 0.0488836\ttotal: 2m 57s\tremaining: 142ms\n",
      "4999:\tlearn: 0.0488207\ttotal: 2m 57s\tremaining: 0us\n"
     ]
    },
    {
     "name": "stderr",
     "output_type": "stream",
     "text": [
      "5it [14:54, 178.70s/it]"
     ]
    },
    {
     "name": "stdout",
     "output_type": "stream",
     "text": [
      "fold Loss 4:  0.12703301793644803\n",
      "---------------------------------------------------------------------------\n",
      "Learning rate set to 0.002361\n",
      "0:\tlearn: 0.6912986\ttotal: 68.3ms\tremaining: 5m 41s\n",
      "999:\tlearn: 0.2291038\ttotal: 35.6s\tremaining: 2m 22s\n",
      "1998:\tlearn: 0.1427611\ttotal: 1m 11s\tremaining: 1m 47s\n",
      "2997:\tlearn: 0.0977013\ttotal: 1m 47s\tremaining: 1m 11s\n",
      "3996:\tlearn: 0.0687402\ttotal: 2m 22s\tremaining: 35.8s\n",
      "4995:\tlearn: 0.0473239\ttotal: 2m 58s\tremaining: 143ms\n",
      "4999:\tlearn: 0.0472354\ttotal: 2m 58s\tremaining: 0us\n"
     ]
    },
    {
     "name": "stderr",
     "output_type": "stream",
     "text": [
      "6it [17:53, 178.97s/it]"
     ]
    },
    {
     "name": "stdout",
     "output_type": "stream",
     "text": [
      "fold Loss 5:  0.23024235114161073\n",
      "---------------------------------------------------------------------------\n",
      "Learning rate set to 0.002361\n",
      "0:\tlearn: 0.6913283\ttotal: 70.2ms\tremaining: 5m 51s\n",
      "999:\tlearn: 0.2294719\ttotal: 35.6s\tremaining: 2m 22s\n",
      "1998:\tlearn: 0.1438019\ttotal: 1m 11s\tremaining: 1m 46s\n",
      "2997:\tlearn: 0.0993163\ttotal: 1m 46s\tremaining: 1m 11s\n",
      "3996:\tlearn: 0.0711745\ttotal: 2m 22s\tremaining: 35.7s\n",
      "4995:\tlearn: 0.0497788\ttotal: 2m 57s\tremaining: 142ms\n",
      "4999:\tlearn: 0.0497214\ttotal: 2m 57s\tremaining: 0us\n"
     ]
    },
    {
     "name": "stderr",
     "output_type": "stream",
     "text": [
      "7it [20:52, 178.89s/it]"
     ]
    },
    {
     "name": "stdout",
     "output_type": "stream",
     "text": [
      "fold Loss 6:  0.1611332342365715\n",
      "---------------------------------------------------------------------------\n",
      "Learning rate set to 0.002361\n",
      "0:\tlearn: 0.6913735\ttotal: 68.2ms\tremaining: 5m 41s\n",
      "999:\tlearn: 0.2303670\ttotal: 35.6s\tremaining: 2m 22s\n",
      "1998:\tlearn: 0.1437490\ttotal: 1m 11s\tremaining: 1m 46s\n",
      "2997:\tlearn: 0.0978712\ttotal: 1m 46s\tremaining: 1m 11s\n",
      "3996:\tlearn: 0.0696235\ttotal: 2m 22s\tremaining: 35.7s\n",
      "4995:\tlearn: 0.0492032\ttotal: 2m 57s\tremaining: 142ms\n",
      "4999:\tlearn: 0.0491401\ttotal: 2m 57s\tremaining: 0us\n"
     ]
    },
    {
     "name": "stderr",
     "output_type": "stream",
     "text": [
      "8it [23:51, 178.85s/it]"
     ]
    },
    {
     "name": "stdout",
     "output_type": "stream",
     "text": [
      "fold Loss 7:  0.1675455102443005\n",
      "---------------------------------------------------------------------------\n",
      "Learning rate set to 0.002361\n",
      "0:\tlearn: 0.6913615\ttotal: 68.2ms\tremaining: 5m 40s\n",
      "999:\tlearn: 0.2298782\ttotal: 35.8s\tremaining: 2m 23s\n",
      "1998:\tlearn: 0.1438356\ttotal: 1m 11s\tremaining: 1m 47s\n",
      "2997:\tlearn: 0.0985145\ttotal: 1m 47s\tremaining: 1m 11s\n",
      "3996:\tlearn: 0.0706759\ttotal: 2m 23s\tremaining: 35.9s\n",
      "4995:\tlearn: 0.0513364\ttotal: 2m 59s\tremaining: 143ms\n",
      "4999:\tlearn: 0.0512930\ttotal: 2m 59s\tremaining: 0us\n"
     ]
    },
    {
     "name": "stderr",
     "output_type": "stream",
     "text": [
      "9it [26:51, 179.26s/it]"
     ]
    },
    {
     "name": "stdout",
     "output_type": "stream",
     "text": [
      "fold Loss 8:  0.21149020229550292\n",
      "---------------------------------------------------------------------------\n",
      "Learning rate set to 0.002361\n",
      "0:\tlearn: 0.6914212\ttotal: 65.9ms\tremaining: 5m 29s\n",
      "999:\tlearn: 0.2316245\ttotal: 35.7s\tremaining: 2m 22s\n",
      "1998:\tlearn: 0.1453018\ttotal: 1m 11s\tremaining: 1m 47s\n",
      "2997:\tlearn: 0.0991535\ttotal: 1m 47s\tremaining: 1m 11s\n",
      "3996:\tlearn: 0.0704583\ttotal: 2m 24s\tremaining: 36.3s\n",
      "4995:\tlearn: 0.0498875\ttotal: 3m\tremaining: 144ms\n",
      "4999:\tlearn: 0.0498350\ttotal: 3m\tremaining: 0us\n"
     ]
    },
    {
     "name": "stderr",
     "output_type": "stream",
     "text": [
      "10it [29:52, 179.92s/it]"
     ]
    },
    {
     "name": "stdout",
     "output_type": "stream",
     "text": [
      "fold Loss 9:  0.1257176415665635\n",
      "---------------------------------------------------------------------------\n",
      "Learning rate set to 0.002361\n",
      "0:\tlearn: 0.6914077\ttotal: 72.2ms\tremaining: 6m\n",
      "999:\tlearn: 0.2272413\ttotal: 35.8s\tremaining: 2m 23s\n",
      "1998:\tlearn: 0.1406023\ttotal: 1m 11s\tremaining: 1m 47s\n",
      "2997:\tlearn: 0.0946729\ttotal: 1m 47s\tremaining: 1m 11s\n",
      "3996:\tlearn: 0.0647232\ttotal: 2m 22s\tremaining: 35.8s\n",
      "4995:\tlearn: 0.0449906\ttotal: 2m 58s\tremaining: 143ms\n",
      "4999:\tlearn: 0.0449199\ttotal: 2m 58s\tremaining: 0us\n"
     ]
    },
    {
     "name": "stderr",
     "output_type": "stream",
     "text": [
      "11it [32:51, 179.76s/it]"
     ]
    },
    {
     "name": "stdout",
     "output_type": "stream",
     "text": [
      "fold Loss 10:  0.24413796319518116\n",
      "---------------------------------------------------------------------------\n",
      "Learning rate set to 0.002361\n",
      "0:\tlearn: 0.6916049\ttotal: 68.2ms\tremaining: 5m 41s\n",
      "999:\tlearn: 0.2265143\ttotal: 36s\tremaining: 2m 24s\n",
      "1998:\tlearn: 0.1402634\ttotal: 1m 11s\tremaining: 1m 47s\n",
      "2997:\tlearn: 0.0945510\ttotal: 1m 47s\tremaining: 1m 11s\n",
      "3996:\tlearn: 0.0662158\ttotal: 2m 22s\tremaining: 35.9s\n",
      "4995:\tlearn: 0.0464051\ttotal: 2m 58s\tremaining: 143ms\n",
      "4999:\tlearn: 0.0463453\ttotal: 2m 58s\tremaining: 0us\n"
     ]
    },
    {
     "name": "stderr",
     "output_type": "stream",
     "text": [
      "12it [35:51, 179.65s/it]"
     ]
    },
    {
     "name": "stdout",
     "output_type": "stream",
     "text": [
      "fold Loss 11:  0.25970829278371155\n",
      "---------------------------------------------------------------------------\n",
      "Learning rate set to 0.002361\n",
      "0:\tlearn: 0.6914625\ttotal: 69.4ms\tremaining: 5m 46s\n",
      "999:\tlearn: 0.2288378\ttotal: 35.6s\tremaining: 2m 22s\n",
      "1998:\tlearn: 0.1423968\ttotal: 1m 11s\tremaining: 1m 46s\n",
      "2997:\tlearn: 0.0967688\ttotal: 1m 46s\tremaining: 1m 11s\n",
      "3996:\tlearn: 0.0674417\ttotal: 2m 22s\tremaining: 35.6s\n",
      "4995:\tlearn: 0.0465298\ttotal: 2m 57s\tremaining: 142ms\n",
      "4999:\tlearn: 0.0464841\ttotal: 2m 57s\tremaining: 0us\n"
     ]
    },
    {
     "name": "stderr",
     "output_type": "stream",
     "text": [
      "13it [38:49, 179.32s/it]"
     ]
    },
    {
     "name": "stdout",
     "output_type": "stream",
     "text": [
      "fold Loss 12:  0.23278393090540103\n",
      "---------------------------------------------------------------------------\n",
      "Learning rate set to 0.002361\n",
      "0:\tlearn: 0.6915311\ttotal: 69.7ms\tremaining: 5m 48s\n",
      "999:\tlearn: 0.2329961\ttotal: 35.6s\tremaining: 2m 22s\n",
      "1998:\tlearn: 0.1465518\ttotal: 1m 11s\tremaining: 1m 46s\n",
      "2997:\tlearn: 0.1004620\ttotal: 1m 47s\tremaining: 1m 11s\n",
      "3996:\tlearn: 0.0707257\ttotal: 2m 22s\tremaining: 35.8s\n",
      "4995:\tlearn: 0.0507689\ttotal: 2m 58s\tremaining: 143ms\n",
      "4999:\tlearn: 0.0506655\ttotal: 2m 58s\tremaining: 0us\n"
     ]
    },
    {
     "name": "stderr",
     "output_type": "stream",
     "text": [
      "14it [41:49, 179.29s/it]"
     ]
    },
    {
     "name": "stdout",
     "output_type": "stream",
     "text": [
      "fold Loss 13:  0.15848502939910736\n",
      "---------------------------------------------------------------------------\n",
      "Learning rate set to 0.002361\n",
      "0:\tlearn: 0.6914164\ttotal: 70.4ms\tremaining: 5m 52s\n",
      "999:\tlearn: 0.2260836\ttotal: 35.7s\tremaining: 2m 22s\n",
      "1998:\tlearn: 0.1397926\ttotal: 1m 11s\tremaining: 1m 46s\n",
      "2997:\tlearn: 0.0965544\ttotal: 1m 46s\tremaining: 1m 11s\n",
      "3996:\tlearn: 0.0681370\ttotal: 2m 22s\tremaining: 35.7s\n",
      "4995:\tlearn: 0.0476749\ttotal: 2m 57s\tremaining: 142ms\n",
      "4999:\tlearn: 0.0476469\ttotal: 2m 57s\tremaining: 0us\n"
     ]
    },
    {
     "name": "stderr",
     "output_type": "stream",
     "text": [
      "15it [44:47, 179.14s/it]"
     ]
    },
    {
     "name": "stdout",
     "output_type": "stream",
     "text": [
      "fold Loss 14:  0.2817788593241052\n",
      "---------------------------------------------------------------------------\n",
      "Learning rate set to 0.002361\n",
      "0:\tlearn: 0.6912529\ttotal: 84.1ms\tremaining: 7m\n",
      "999:\tlearn: 0.2300695\ttotal: 35.4s\tremaining: 2m 21s\n",
      "1998:\tlearn: 0.1443694\ttotal: 1m 10s\tremaining: 1m 46s\n",
      "2997:\tlearn: 0.0992450\ttotal: 1m 46s\tremaining: 1m 10s\n",
      "3996:\tlearn: 0.0698699\ttotal: 2m 21s\tremaining: 35.6s\n",
      "4995:\tlearn: 0.0490916\ttotal: 2m 57s\tremaining: 142ms\n",
      "4999:\tlearn: 0.0490610\ttotal: 2m 57s\tremaining: 0us\n"
     ]
    },
    {
     "name": "stderr",
     "output_type": "stream",
     "text": [
      "16it [47:46, 178.90s/it]"
     ]
    },
    {
     "name": "stdout",
     "output_type": "stream",
     "text": [
      "fold Loss 15:  0.17574387515018908\n",
      "---------------------------------------------------------------------------\n",
      "Learning rate set to 0.002361\n",
      "0:\tlearn: 0.6913695\ttotal: 77.5ms\tremaining: 6m 27s\n",
      "999:\tlearn: 0.2305000\ttotal: 35.4s\tremaining: 2m 21s\n",
      "1998:\tlearn: 0.1432122\ttotal: 1m 10s\tremaining: 1m 46s\n",
      "2997:\tlearn: 0.0965546\ttotal: 1m 46s\tremaining: 1m 10s\n",
      "3996:\tlearn: 0.0671384\ttotal: 2m 21s\tremaining: 35.6s\n",
      "4995:\tlearn: 0.0471788\ttotal: 2m 57s\tremaining: 142ms\n",
      "4999:\tlearn: 0.0471097\ttotal: 2m 57s\tremaining: 0us\n"
     ]
    },
    {
     "name": "stderr",
     "output_type": "stream",
     "text": [
      "17it [50:44, 178.69s/it]"
     ]
    },
    {
     "name": "stdout",
     "output_type": "stream",
     "text": [
      "fold Loss 16:  0.2205773241142693\n",
      "---------------------------------------------------------------------------\n",
      "Learning rate set to 0.002361\n",
      "0:\tlearn: 0.6913619\ttotal: 68.6ms\tremaining: 5m 42s\n",
      "999:\tlearn: 0.2309323\ttotal: 35.3s\tremaining: 2m 21s\n",
      "1998:\tlearn: 0.1428842\ttotal: 1m 10s\tremaining: 1m 46s\n",
      "2997:\tlearn: 0.0973394\ttotal: 1m 46s\tremaining: 1m 10s\n",
      "3996:\tlearn: 0.0686928\ttotal: 2m 21s\tremaining: 35.5s\n",
      "4995:\tlearn: 0.0482994\ttotal: 2m 57s\tremaining: 142ms\n",
      "4999:\tlearn: 0.0482445\ttotal: 2m 57s\tremaining: 0us\n"
     ]
    },
    {
     "name": "stderr",
     "output_type": "stream",
     "text": [
      "18it [53:42, 178.57s/it]"
     ]
    },
    {
     "name": "stdout",
     "output_type": "stream",
     "text": [
      "fold Loss 17:  0.1866140049828731\n",
      "---------------------------------------------------------------------------\n",
      "Learning rate set to 0.002361\n",
      "0:\tlearn: 0.6914312\ttotal: 70.2ms\tremaining: 5m 50s\n",
      "999:\tlearn: 0.2301212\ttotal: 35.5s\tremaining: 2m 21s\n",
      "1998:\tlearn: 0.1436627\ttotal: 1m 11s\tremaining: 1m 46s\n",
      "2997:\tlearn: 0.0991439\ttotal: 1m 46s\tremaining: 1m 11s\n",
      "3996:\tlearn: 0.0717233\ttotal: 2m 22s\tremaining: 35.6s\n",
      "4995:\tlearn: 0.0509488\ttotal: 2m 57s\tremaining: 142ms\n",
      "4999:\tlearn: 0.0508878\ttotal: 2m 57s\tremaining: 0us\n"
     ]
    },
    {
     "name": "stderr",
     "output_type": "stream",
     "text": [
      "19it [56:41, 178.58s/it]"
     ]
    },
    {
     "name": "stdout",
     "output_type": "stream",
     "text": [
      "fold Loss 18:  0.23265323684641376\n",
      "---------------------------------------------------------------------------\n",
      "Learning rate set to 0.002362\n",
      "0:\tlearn: 0.6914216\ttotal: 69.7ms\tremaining: 5m 48s\n",
      "999:\tlearn: 0.2279987\ttotal: 35.4s\tremaining: 2m 21s\n",
      "1998:\tlearn: 0.1422122\ttotal: 1m 10s\tremaining: 1m 46s\n",
      "2997:\tlearn: 0.0974079\ttotal: 1m 46s\tremaining: 1m 10s\n",
      "3996:\tlearn: 0.0690780\ttotal: 2m 21s\tremaining: 35.6s\n",
      "4995:\tlearn: 0.0491938\ttotal: 2m 57s\tremaining: 142ms\n",
      "4999:\tlearn: 0.0491001\ttotal: 2m 57s\tremaining: 0us\n"
     ]
    },
    {
     "name": "stderr",
     "output_type": "stream",
     "text": [
      "20it [59:39, 178.98s/it]"
     ]
    },
    {
     "name": "stdout",
     "output_type": "stream",
     "text": [
      "fold Loss 19:  0.19048824126805503\n",
      "---------------------------------------------------------------------------\n",
      "Training Loss: 0.05607648330970513\n",
      "Loss for iron_oxide:\n",
      "0.2037386734181817 0.04672562858607827\n",
      "==================================================================================================\n",
      "TARGET  oxalate\n"
     ]
    },
    {
     "name": "stderr",
     "output_type": "stream",
     "text": [
      "\n"
     ]
    },
    {
     "name": "stdout",
     "output_type": "stream",
     "text": [
      "0.01945759879046289\n"
     ]
    },
    {
     "name": "stderr",
     "output_type": "stream",
     "text": [
      "100%|██████████| 101/101 [00:00<00:00, 439901.04it/s]"
     ]
    },
    {
     "name": "stdout",
     "output_type": "stream",
     "text": [
      "9\n"
     ]
    },
    {
     "name": "stderr",
     "output_type": "stream",
     "text": [
      "\n"
     ]
    },
    {
     "name": "stdout",
     "output_type": "stream",
     "text": [
      "0.03781070510091473\n"
     ]
    },
    {
     "name": "stderr",
     "output_type": "stream",
     "text": [
      "100%|██████████| 1900/1900 [00:00<00:00, 1658517.71it/s]\n"
     ]
    },
    {
     "name": "stdout",
     "output_type": "stream",
     "text": [
      "16\n",
      "0.026191607802023748\n"
     ]
    },
    {
     "name": "stderr",
     "output_type": "stream",
     "text": [
      "100%|██████████| 2200/2200 [00:00<00:00, 1656339.76it/s]\n"
     ]
    },
    {
     "name": "stdout",
     "output_type": "stream",
     "text": [
      "16\n",
      "0.027246368507814606\n"
     ]
    },
    {
     "name": "stderr",
     "output_type": "stream",
     "text": [
      "100%|██████████| 2000/2000 [00:00<00:00, 1632024.90it/s]\n"
     ]
    },
    {
     "name": "stdout",
     "output_type": "stream",
     "text": [
      "18\n",
      "(1059, 18) (1059, 9) (1059, 16) (1059, 16)\n",
      "(1059, 59)\n",
      "(804, 18) (804, 9) (804, 16) (804, 16)\n",
      "(804, 59)\n"
     ]
    },
    {
     "name": "stderr",
     "output_type": "stream",
     "text": [
      "0it [00:00, ?it/s]"
     ]
    },
    {
     "name": "stdout",
     "output_type": "stream",
     "text": [
      "Learning rate set to 0.002361\n",
      "0:\tlearn: 0.6875760\ttotal: 10.4ms\tremaining: 51.9s\n",
      "999:\tlearn: 0.0063291\ttotal: 7.79s\tremaining: 31.1s\n",
      "1998:\tlearn: 0.0019877\ttotal: 15.9s\tremaining: 23.8s\n",
      "2997:\tlearn: 0.0010339\ttotal: 23.6s\tremaining: 15.8s\n",
      "3996:\tlearn: 0.0006710\ttotal: 31.5s\tremaining: 7.89s\n"
     ]
    },
    {
     "name": "stderr",
     "output_type": "stream",
     "text": [
      "1it [00:40, 40.03s/it]"
     ]
    },
    {
     "name": "stdout",
     "output_type": "stream",
     "text": [
      "4995:\tlearn: 0.0005052\ttotal: 39.3s\tremaining: 31.4ms\n",
      "4999:\tlearn: 0.0005047\ttotal: 39.3s\tremaining: 0us\n",
      "fold Loss 0:  0.0002580771449362606\n",
      "---------------------------------------------------------------------------\n",
      "Learning rate set to 0.002361\n",
      "0:\tlearn: 0.6873051\ttotal: 10.5ms\tremaining: 52.5s\n",
      "999:\tlearn: 0.0063373\ttotal: 8.12s\tremaining: 32.5s\n",
      "1998:\tlearn: 0.0020108\ttotal: 16.1s\tremaining: 24.1s\n",
      "2997:\tlearn: 0.0010429\ttotal: 23.9s\tremaining: 16s\n",
      "3996:\tlearn: 0.0006745\ttotal: 31.7s\tremaining: 7.96s\n"
     ]
    },
    {
     "name": "stderr",
     "output_type": "stream",
     "text": [
      "2it [01:20, 40.44s/it]"
     ]
    },
    {
     "name": "stdout",
     "output_type": "stream",
     "text": [
      "4995:\tlearn: 0.0005118\ttotal: 40s\tremaining: 32ms\n",
      "4999:\tlearn: 0.0005112\ttotal: 40s\tremaining: 0us\n",
      "fold Loss 1:  0.00028238100189510674\n",
      "---------------------------------------------------------------------------\n",
      "Learning rate set to 0.002361\n",
      "0:\tlearn: 0.6875276\ttotal: 10.9ms\tremaining: 54.6s\n",
      "999:\tlearn: 0.0063930\ttotal: 7.85s\tremaining: 31.4s\n",
      "1998:\tlearn: 0.0020103\ttotal: 15.7s\tremaining: 23.5s\n",
      "2997:\tlearn: 0.0010454\ttotal: 23.4s\tremaining: 15.7s\n",
      "3996:\tlearn: 0.0006669\ttotal: 31.5s\tremaining: 7.91s\n"
     ]
    },
    {
     "name": "stderr",
     "output_type": "stream",
     "text": [
      "3it [02:01, 40.36s/it]"
     ]
    },
    {
     "name": "stdout",
     "output_type": "stream",
     "text": [
      "4995:\tlearn: 0.0004976\ttotal: 39.5s\tremaining: 31.6ms\n",
      "4999:\tlearn: 0.0004971\ttotal: 39.5s\tremaining: 0us\n",
      "fold Loss 2:  0.0006225918772136046\n",
      "---------------------------------------------------------------------------\n",
      "Learning rate set to 0.002361\n",
      "0:\tlearn: 0.6879881\ttotal: 8.31ms\tremaining: 41.6s\n",
      "999:\tlearn: 0.0064669\ttotal: 7.79s\tremaining: 31.2s\n",
      "1998:\tlearn: 0.0019847\ttotal: 15.6s\tremaining: 23.4s\n",
      "2997:\tlearn: 0.0010346\ttotal: 23.5s\tremaining: 15.7s\n",
      "3996:\tlearn: 0.0006716\ttotal: 31.6s\tremaining: 7.93s\n"
     ]
    },
    {
     "name": "stderr",
     "output_type": "stream",
     "text": [
      "4it [02:41, 40.32s/it]"
     ]
    },
    {
     "name": "stdout",
     "output_type": "stream",
     "text": [
      "4995:\tlearn: 0.0005086\ttotal: 39.5s\tremaining: 31.6ms\n",
      "4999:\tlearn: 0.0005081\ttotal: 39.5s\tremaining: 0us\n",
      "fold Loss 3:  0.0002828325391462647\n",
      "---------------------------------------------------------------------------\n",
      "Learning rate set to 0.002361\n",
      "0:\tlearn: 0.6875634\ttotal: 8.74ms\tremaining: 43.7s\n",
      "999:\tlearn: 0.0062703\ttotal: 7.79s\tremaining: 31.2s\n",
      "1998:\tlearn: 0.0019592\ttotal: 15.5s\tremaining: 23.3s\n",
      "2997:\tlearn: 0.0010264\ttotal: 23.7s\tremaining: 15.8s\n",
      "3996:\tlearn: 0.0006587\ttotal: 31.5s\tremaining: 7.9s\n"
     ]
    },
    {
     "name": "stderr",
     "output_type": "stream",
     "text": [
      "5it [03:21, 40.19s/it]"
     ]
    },
    {
     "name": "stdout",
     "output_type": "stream",
     "text": [
      "4995:\tlearn: 0.0004869\ttotal: 39.2s\tremaining: 31.4ms\n",
      "4999:\tlearn: 0.0004865\ttotal: 39.3s\tremaining: 0us\n",
      "fold Loss 4:  0.0007364514733242803\n",
      "---------------------------------------------------------------------------\n",
      "Learning rate set to 0.002361\n",
      "0:\tlearn: 0.6878994\ttotal: 11.9ms\tremaining: 59.4s\n",
      "999:\tlearn: 0.0064663\ttotal: 7.75s\tremaining: 31s\n",
      "1998:\tlearn: 0.0019914\ttotal: 15.9s\tremaining: 23.9s\n",
      "2997:\tlearn: 0.0010280\ttotal: 23.7s\tremaining: 15.8s\n",
      "3996:\tlearn: 0.0006579\ttotal: 31.3s\tremaining: 7.86s\n"
     ]
    },
    {
     "name": "stderr",
     "output_type": "stream",
     "text": [
      "6it [04:01, 40.06s/it]"
     ]
    },
    {
     "name": "stdout",
     "output_type": "stream",
     "text": [
      "4995:\tlearn: 0.0005029\ttotal: 39.1s\tremaining: 31.3ms\n",
      "4999:\tlearn: 0.0005024\ttotal: 39.1s\tremaining: 0us\n",
      "fold Loss 5:  0.0019119964342713606\n",
      "---------------------------------------------------------------------------\n",
      "Learning rate set to 0.002361\n",
      "0:\tlearn: 0.6873157\ttotal: 10.2ms\tremaining: 51.1s\n",
      "999:\tlearn: 0.0064238\ttotal: 8.14s\tremaining: 32.6s\n",
      "1998:\tlearn: 0.0020197\ttotal: 15.9s\tremaining: 23.9s\n",
      "2997:\tlearn: 0.0010569\ttotal: 23.6s\tremaining: 15.8s\n",
      "3996:\tlearn: 0.0006767\ttotal: 31.6s\tremaining: 7.92s\n"
     ]
    },
    {
     "name": "stderr",
     "output_type": "stream",
     "text": [
      "7it [04:41, 40.23s/it]"
     ]
    },
    {
     "name": "stdout",
     "output_type": "stream",
     "text": [
      "4995:\tlearn: 0.0005136\ttotal: 39.8s\tremaining: 31.9ms\n",
      "4999:\tlearn: 0.0005131\ttotal: 39.9s\tremaining: 0us\n",
      "fold Loss 6:  0.0011218955344164691\n",
      "---------------------------------------------------------------------------\n",
      "Learning rate set to 0.002361\n",
      "0:\tlearn: 0.6875947\ttotal: 8.37ms\tremaining: 41.8s\n",
      "999:\tlearn: 0.0064263\ttotal: 7.78s\tremaining: 31.1s\n",
      "1998:\tlearn: 0.0020116\ttotal: 15.5s\tremaining: 23.3s\n",
      "2997:\tlearn: 0.0010354\ttotal: 23.3s\tremaining: 15.6s\n",
      "3996:\tlearn: 0.0006671\ttotal: 31.6s\tremaining: 7.93s\n"
     ]
    },
    {
     "name": "stderr",
     "output_type": "stream",
     "text": [
      "8it [05:21, 40.19s/it]"
     ]
    },
    {
     "name": "stdout",
     "output_type": "stream",
     "text": [
      "4995:\tlearn: 0.0004955\ttotal: 39.3s\tremaining: 31.5ms\n",
      "4999:\tlearn: 0.0004950\ttotal: 39.4s\tremaining: 0us\n",
      "fold Loss 7:  0.00021018363424650153\n",
      "---------------------------------------------------------------------------\n",
      "Learning rate set to 0.002361\n",
      "0:\tlearn: 0.6875237\ttotal: 8.14ms\tremaining: 40.7s\n",
      "999:\tlearn: 0.0062522\ttotal: 7.77s\tremaining: 31.1s\n",
      "1998:\tlearn: 0.0020179\ttotal: 15.5s\tremaining: 23.3s\n",
      "2997:\tlearn: 0.0010745\ttotal: 23.6s\tremaining: 15.8s\n",
      "3996:\tlearn: 0.0007027\ttotal: 31.4s\tremaining: 7.87s\n"
     ]
    },
    {
     "name": "stderr",
     "output_type": "stream",
     "text": [
      "9it [06:01, 40.12s/it]"
     ]
    },
    {
     "name": "stdout",
     "output_type": "stream",
     "text": [
      "4995:\tlearn: 0.0005346\ttotal: 39.2s\tremaining: 31.4ms\n",
      "4999:\tlearn: 0.0005340\ttotal: 39.2s\tremaining: 0us\n",
      "fold Loss 8:  0.09054972320071329\n",
      "---------------------------------------------------------------------------\n",
      "Learning rate set to 0.002361\n",
      "0:\tlearn: 0.6874917\ttotal: 7.97ms\tremaining: 39.9s\n",
      "999:\tlearn: 0.0064684\ttotal: 7.82s\tremaining: 31.3s\n",
      "1998:\tlearn: 0.0020339\ttotal: 16s\tremaining: 23.9s\n",
      "2997:\tlearn: 0.0010970\ttotal: 23.6s\tremaining: 15.8s\n",
      "3996:\tlearn: 0.0006951\ttotal: 31.3s\tremaining: 7.86s\n"
     ]
    },
    {
     "name": "stderr",
     "output_type": "stream",
     "text": [
      "10it [06:41, 40.02s/it]"
     ]
    },
    {
     "name": "stdout",
     "output_type": "stream",
     "text": [
      "4995:\tlearn: 0.0004993\ttotal: 39s\tremaining: 31.2ms\n",
      "4999:\tlearn: 0.0004988\ttotal: 39.1s\tremaining: 0us\n",
      "fold Loss 9:  0.033425124714698086\n",
      "---------------------------------------------------------------------------\n",
      "Learning rate set to 0.002361\n",
      "0:\tlearn: 0.6879655\ttotal: 10.2ms\tremaining: 50.9s\n",
      "999:\tlearn: 0.0050743\ttotal: 8.16s\tremaining: 32.7s\n",
      "1998:\tlearn: 0.0015635\ttotal: 16s\tremaining: 24s\n",
      "2997:\tlearn: 0.0008646\ttotal: 23.8s\tremaining: 15.9s\n",
      "3996:\tlearn: 0.0005804\ttotal: 31.5s\tremaining: 7.91s\n"
     ]
    },
    {
     "name": "stderr",
     "output_type": "stream",
     "text": [
      "11it [07:21, 40.09s/it]"
     ]
    },
    {
     "name": "stdout",
     "output_type": "stream",
     "text": [
      "4995:\tlearn: 0.0004411\ttotal: 39.5s\tremaining: 31.6ms\n",
      "4999:\tlearn: 0.0004407\ttotal: 39.5s\tremaining: 0us\n",
      "fold Loss 10:  0.13316977688136997\n",
      "---------------------------------------------------------------------------\n",
      "Learning rate set to 0.002361\n",
      "0:\tlearn: 0.6872506\ttotal: 9.93ms\tremaining: 49.6s\n",
      "999:\tlearn: 0.0062133\ttotal: 7.9s\tremaining: 31.6s\n",
      "1998:\tlearn: 0.0019522\ttotal: 15.7s\tremaining: 23.6s\n",
      "2997:\tlearn: 0.0010288\ttotal: 23.5s\tremaining: 15.7s\n",
      "3996:\tlearn: 0.0006574\ttotal: 31.3s\tremaining: 7.84s\n"
     ]
    },
    {
     "name": "stderr",
     "output_type": "stream",
     "text": [
      "12it [08:01, 40.09s/it]"
     ]
    },
    {
     "name": "stdout",
     "output_type": "stream",
     "text": [
      "4995:\tlearn: 0.0004924\ttotal: 39.3s\tremaining: 31.5ms\n",
      "4999:\tlearn: 0.0004919\ttotal: 39.4s\tremaining: 0us\n",
      "fold Loss 11:  0.040245664049928076\n",
      "---------------------------------------------------------------------------\n",
      "Learning rate set to 0.002361\n",
      "0:\tlearn: 0.6877155\ttotal: 8.14ms\tremaining: 40.7s\n",
      "999:\tlearn: 0.0064184\ttotal: 7.8s\tremaining: 31.2s\n",
      "1998:\tlearn: 0.0020089\ttotal: 15.5s\tremaining: 23.3s\n",
      "2997:\tlearn: 0.0010349\ttotal: 23.4s\tremaining: 15.6s\n",
      "3996:\tlearn: 0.0006641\ttotal: 31.4s\tremaining: 7.87s\n"
     ]
    },
    {
     "name": "stderr",
     "output_type": "stream",
     "text": [
      "13it [08:41, 40.01s/it]"
     ]
    },
    {
     "name": "stdout",
     "output_type": "stream",
     "text": [
      "4995:\tlearn: 0.0004930\ttotal: 39.1s\tremaining: 31.3ms\n",
      "4999:\tlearn: 0.0004926\ttotal: 39.1s\tremaining: 0us\n",
      "fold Loss 12:  0.0007270156658193837\n",
      "---------------------------------------------------------------------------\n",
      "Learning rate set to 0.002361\n",
      "0:\tlearn: 0.6879448\ttotal: 8.09ms\tremaining: 40.4s\n",
      "999:\tlearn: 0.0063552\ttotal: 7.8s\tremaining: 31.2s\n",
      "1998:\tlearn: 0.0019911\ttotal: 15.7s\tremaining: 23.6s\n",
      "2997:\tlearn: 0.0010290\ttotal: 23.8s\tremaining: 15.9s\n",
      "3996:\tlearn: 0.0006655\ttotal: 31.6s\tremaining: 7.94s\n"
     ]
    },
    {
     "name": "stderr",
     "output_type": "stream",
     "text": [
      "14it [09:21, 40.06s/it]"
     ]
    },
    {
     "name": "stdout",
     "output_type": "stream",
     "text": [
      "4995:\tlearn: 0.0005006\ttotal: 39.4s\tremaining: 31.6ms\n",
      "4999:\tlearn: 0.0005001\ttotal: 39.4s\tremaining: 0us\n",
      "fold Loss 13:  0.0004703095752947485\n",
      "---------------------------------------------------------------------------\n",
      "Learning rate set to 0.002361\n",
      "0:\tlearn: 0.6873388\ttotal: 10.2ms\tremaining: 51.1s\n",
      "999:\tlearn: 0.0063636\ttotal: 7.9s\tremaining: 31.6s\n",
      "1998:\tlearn: 0.0019909\ttotal: 16s\tremaining: 24s\n",
      "2997:\tlearn: 0.0010321\ttotal: 23.7s\tremaining: 15.9s\n",
      "3996:\tlearn: 0.0006645\ttotal: 31.5s\tremaining: 7.91s\n"
     ]
    },
    {
     "name": "stderr",
     "output_type": "stream",
     "text": [
      "15it [10:02, 40.12s/it]"
     ]
    },
    {
     "name": "stdout",
     "output_type": "stream",
     "text": [
      "4995:\tlearn: 0.0004975\ttotal: 39.5s\tremaining: 31.6ms\n",
      "4999:\tlearn: 0.0004970\ttotal: 39.5s\tremaining: 0us\n",
      "fold Loss 14:  0.00037549730716052984\n",
      "---------------------------------------------------------------------------\n",
      "Learning rate set to 0.002361\n",
      "0:\tlearn: 0.6872999\ttotal: 8.19ms\tremaining: 41s\n",
      "999:\tlearn: 0.0060063\ttotal: 8.13s\tremaining: 32.5s\n",
      "1998:\tlearn: 0.0019207\ttotal: 15.9s\tremaining: 23.9s\n",
      "2997:\tlearn: 0.0010286\ttotal: 23.7s\tremaining: 15.8s\n",
      "3996:\tlearn: 0.0006592\ttotal: 31.7s\tremaining: 7.94s\n"
     ]
    },
    {
     "name": "stderr",
     "output_type": "stream",
     "text": [
      "16it [10:42, 40.28s/it]"
     ]
    },
    {
     "name": "stdout",
     "output_type": "stream",
     "text": [
      "4995:\tlearn: 0.0004981\ttotal: 39.9s\tremaining: 31.9ms\n",
      "4999:\tlearn: 0.0004976\ttotal: 39.9s\tremaining: 0us\n",
      "fold Loss 15:  0.009076322837111201\n",
      "---------------------------------------------------------------------------\n",
      "Learning rate set to 0.002361\n",
      "0:\tlearn: 0.6875290\ttotal: 8.48ms\tremaining: 42.4s\n",
      "999:\tlearn: 0.0065676\ttotal: 7.78s\tremaining: 31.1s\n",
      "1998:\tlearn: 0.0020839\ttotal: 15.6s\tremaining: 23.4s\n",
      "2997:\tlearn: 0.0010941\ttotal: 24.6s\tremaining: 16.4s\n",
      "3996:\tlearn: 0.0006793\ttotal: 33s\tremaining: 8.28s\n"
     ]
    },
    {
     "name": "stderr",
     "output_type": "stream",
     "text": [
      "17it [11:24, 40.65s/it]"
     ]
    },
    {
     "name": "stdout",
     "output_type": "stream",
     "text": [
      "4995:\tlearn: 0.0005093\ttotal: 40.7s\tremaining: 32.6ms\n",
      "4999:\tlearn: 0.0005088\ttotal: 40.8s\tremaining: 0us\n",
      "fold Loss 16:  0.0013423247789405102\n",
      "---------------------------------------------------------------------------\n",
      "Learning rate set to 0.002361\n",
      "0:\tlearn: 0.6873054\ttotal: 8.74ms\tremaining: 43.7s\n",
      "999:\tlearn: 0.0061825\ttotal: 7.9s\tremaining: 31.6s\n",
      "1998:\tlearn: 0.0019520\ttotal: 15.7s\tremaining: 23.6s\n",
      "2997:\tlearn: 0.0010143\ttotal: 23.8s\tremaining: 15.9s\n",
      "3996:\tlearn: 0.0006578\ttotal: 31.6s\tremaining: 7.93s\n"
     ]
    },
    {
     "name": "stderr",
     "output_type": "stream",
     "text": [
      "18it [12:04, 40.53s/it]"
     ]
    },
    {
     "name": "stdout",
     "output_type": "stream",
     "text": [
      "4995:\tlearn: 0.0005011\ttotal: 39.5s\tremaining: 31.6ms\n",
      "4999:\tlearn: 0.0005006\ttotal: 39.5s\tremaining: 0us\n",
      "fold Loss 17:  0.00502275204545484\n",
      "---------------------------------------------------------------------------\n",
      "Learning rate set to 0.002361\n",
      "0:\tlearn: 0.6875523\ttotal: 10.7ms\tremaining: 53.4s\n",
      "999:\tlearn: 0.0065489\ttotal: 7.84s\tremaining: 31.4s\n",
      "1998:\tlearn: 0.0020818\ttotal: 15.9s\tremaining: 23.9s\n",
      "2997:\tlearn: 0.0010874\ttotal: 23.7s\tremaining: 15.8s\n",
      "3996:\tlearn: 0.0006838\ttotal: 31.4s\tremaining: 7.89s\n"
     ]
    },
    {
     "name": "stderr",
     "output_type": "stream",
     "text": [
      "19it [12:44, 40.35s/it]"
     ]
    },
    {
     "name": "stdout",
     "output_type": "stream",
     "text": [
      "4995:\tlearn: 0.0005082\ttotal: 39.2s\tremaining: 31.4ms\n",
      "4999:\tlearn: 0.0005077\ttotal: 39.2s\tremaining: 0us\n",
      "fold Loss 18:  0.0010194298752703827\n",
      "---------------------------------------------------------------------------\n",
      "Learning rate set to 0.002362\n",
      "0:\tlearn: 0.6879660\ttotal: 8.64ms\tremaining: 43.2s\n",
      "999:\tlearn: 0.0062123\ttotal: 8.08s\tremaining: 32.3s\n",
      "1998:\tlearn: 0.0019059\ttotal: 15.9s\tremaining: 23.8s\n",
      "2997:\tlearn: 0.0009873\ttotal: 23.8s\tremaining: 15.9s\n",
      "3996:\tlearn: 0.0006458\ttotal: 31.7s\tremaining: 7.94s\n"
     ]
    },
    {
     "name": "stderr",
     "output_type": "stream",
     "text": [
      "20it [13:24, 40.23s/it]"
     ]
    },
    {
     "name": "stdout",
     "output_type": "stream",
     "text": [
      "4995:\tlearn: 0.0004985\ttotal: 39.4s\tremaining: 31.5ms\n",
      "4999:\tlearn: 0.0004981\ttotal: 39.4s\tremaining: 0us\n",
      "fold Loss 19:  0.0014916635702813517\n",
      "---------------------------------------------------------------------------\n",
      "Training Loss: 0.000548723544955573\n",
      "Loss for oxalate:\n",
      "0.016117100707074613 0.03434738345471155\n",
      "==================================================================================================\n",
      "TARGET  oxychlorine\n"
     ]
    },
    {
     "name": "stderr",
     "output_type": "stream",
     "text": [
      "\n"
     ]
    },
    {
     "name": "stdout",
     "output_type": "stream",
     "text": [
      "0.3943926579636722\n"
     ]
    },
    {
     "name": "stderr",
     "output_type": "stream",
     "text": [
      "100%|██████████| 101/101 [00:00<00:00, 527552.56it/s]\n"
     ]
    },
    {
     "name": "stdout",
     "output_type": "stream",
     "text": [
      "24\n",
      "0.27253280098102606\n"
     ]
    },
    {
     "name": "stderr",
     "output_type": "stream",
     "text": [
      "100%|██████████| 1900/1900 [00:00<00:00, 1662670.06it/s]\n"
     ]
    },
    {
     "name": "stdout",
     "output_type": "stream",
     "text": [
      "58\n",
      "0.23737212224539234\n"
     ]
    },
    {
     "name": "stderr",
     "output_type": "stream",
     "text": [
      "100%|██████████| 2200/2200 [00:00<00:00, 1642482.88it/s]\n"
     ]
    },
    {
     "name": "stdout",
     "output_type": "stream",
     "text": [
      "70\n",
      "0.24669169635576002\n"
     ]
    },
    {
     "name": "stderr",
     "output_type": "stream",
     "text": [
      "100%|██████████| 2000/2000 [00:00<00:00, 1628855.92it/s]\n"
     ]
    },
    {
     "name": "stdout",
     "output_type": "stream",
     "text": [
      "73\n",
      "(1059, 73) (1059, 24) (1059, 58) (1059, 70)\n",
      "(1059, 225)\n",
      "(804, 73) (804, 24) (804, 58) (804, 70)\n",
      "(804, 225)\n"
     ]
    },
    {
     "name": "stderr",
     "output_type": "stream",
     "text": [
      "0it [00:00, ?it/s]"
     ]
    },
    {
     "name": "stdout",
     "output_type": "stream",
     "text": [
      "Learning rate set to 0.002361\n",
      "0:\tlearn: 0.6904730\ttotal: 63.7ms\tremaining: 5m 18s\n",
      "999:\tlearn: 0.1228177\ttotal: 27.8s\tremaining: 1m 51s\n",
      "1998:\tlearn: 0.0665016\ttotal: 55.5s\tremaining: 1m 23s\n",
      "2997:\tlearn: 0.0413626\ttotal: 1m 23s\tremaining: 55.4s\n",
      "3996:\tlearn: 0.0263036\ttotal: 1m 50s\tremaining: 27.8s\n",
      "4995:\tlearn: 0.0179404\ttotal: 2m 18s\tremaining: 111ms\n",
      "4999:\tlearn: 0.0179160\ttotal: 2m 18s\tremaining: 0us\n"
     ]
    },
    {
     "name": "stderr",
     "output_type": "stream",
     "text": [
      "1it [02:19, 139.62s/it]"
     ]
    },
    {
     "name": "stdout",
     "output_type": "stream",
     "text": [
      "fold Loss 0:  0.07522691760638218\n",
      "---------------------------------------------------------------------------\n",
      "Learning rate set to 0.002361\n",
      "0:\tlearn: 0.6904309\ttotal: 55.4ms\tremaining: 4m 37s\n",
      "999:\tlearn: 0.1225560\ttotal: 27.8s\tremaining: 1m 51s\n",
      "1998:\tlearn: 0.0649770\ttotal: 55.6s\tremaining: 1m 23s\n",
      "2997:\tlearn: 0.0398410\ttotal: 1m 22s\tremaining: 55.4s\n",
      "3996:\tlearn: 0.0252602\ttotal: 1m 50s\tremaining: 27.7s\n",
      "4995:\tlearn: 0.0169240\ttotal: 2m 18s\tremaining: 111ms\n",
      "4999:\tlearn: 0.0168973\ttotal: 2m 18s\tremaining: 0us\n"
     ]
    },
    {
     "name": "stderr",
     "output_type": "stream",
     "text": [
      "2it [04:38, 139.39s/it]"
     ]
    },
    {
     "name": "stdout",
     "output_type": "stream",
     "text": [
      "fold Loss 1:  0.12026444999056395\n",
      "---------------------------------------------------------------------------\n",
      "Learning rate set to 0.002361\n",
      "0:\tlearn: 0.6908253\ttotal: 41.4ms\tremaining: 3m 26s\n",
      "999:\tlearn: 0.1182966\ttotal: 27.8s\tremaining: 1m 51s\n",
      "1998:\tlearn: 0.0609252\ttotal: 55.6s\tremaining: 1m 23s\n",
      "2997:\tlearn: 0.0363991\ttotal: 1m 23s\tremaining: 55.5s\n",
      "3996:\tlearn: 0.0225008\ttotal: 1m 50s\tremaining: 27.7s\n",
      "4995:\tlearn: 0.0151598\ttotal: 2m 18s\tremaining: 111ms\n",
      "4999:\tlearn: 0.0151454\ttotal: 2m 18s\tremaining: 0us\n"
     ]
    },
    {
     "name": "stderr",
     "output_type": "stream",
     "text": [
      "3it [06:58, 139.30s/it]"
     ]
    },
    {
     "name": "stdout",
     "output_type": "stream",
     "text": [
      "fold Loss 2:  0.24465362905807198\n",
      "---------------------------------------------------------------------------\n",
      "Learning rate set to 0.002361\n",
      "0:\tlearn: 0.6905138\ttotal: 53.9ms\tremaining: 4m 29s\n",
      "999:\tlearn: 0.1173734\ttotal: 27.7s\tremaining: 1m 50s\n",
      "1998:\tlearn: 0.0606116\ttotal: 55.4s\tremaining: 1m 23s\n",
      "2997:\tlearn: 0.0367050\ttotal: 1m 23s\tremaining: 55.7s\n",
      "3996:\tlearn: 0.0229241\ttotal: 1m 51s\tremaining: 27.9s\n",
      "4995:\tlearn: 0.0153330\ttotal: 2m 19s\tremaining: 111ms\n",
      "4999:\tlearn: 0.0153074\ttotal: 2m 19s\tremaining: 0us\n"
     ]
    },
    {
     "name": "stderr",
     "output_type": "stream",
     "text": [
      "4it [09:18, 139.58s/it]"
     ]
    },
    {
     "name": "stdout",
     "output_type": "stream",
     "text": [
      "fold Loss 3:  0.20517163854975298\n",
      "---------------------------------------------------------------------------\n",
      "Learning rate set to 0.002361\n",
      "0:\tlearn: 0.6903680\ttotal: 43.1ms\tremaining: 3m 35s\n",
      "999:\tlearn: 0.1238356\ttotal: 27.5s\tremaining: 1m 49s\n",
      "1998:\tlearn: 0.0663748\ttotal: 55.4s\tremaining: 1m 23s\n",
      "2997:\tlearn: 0.0411004\ttotal: 1m 23s\tremaining: 55.5s\n",
      "3996:\tlearn: 0.0255797\ttotal: 1m 51s\tremaining: 27.9s\n",
      "4995:\tlearn: 0.0171021\ttotal: 2m 18s\tremaining: 111ms\n",
      "4999:\tlearn: 0.0170732\ttotal: 2m 18s\tremaining: 0us\n"
     ]
    },
    {
     "name": "stderr",
     "output_type": "stream",
     "text": [
      "5it [11:37, 139.64s/it]"
     ]
    },
    {
     "name": "stdout",
     "output_type": "stream",
     "text": [
      "fold Loss 4:  0.05531727959154335\n",
      "---------------------------------------------------------------------------\n",
      "Learning rate set to 0.002361\n",
      "0:\tlearn: 0.6908496\ttotal: 54.3ms\tremaining: 4m 31s\n",
      "999:\tlearn: 0.1138441\ttotal: 27.8s\tremaining: 1m 51s\n",
      "1998:\tlearn: 0.0578148\ttotal: 55.6s\tremaining: 1m 23s\n",
      "2997:\tlearn: 0.0344331\ttotal: 1m 23s\tremaining: 55.5s\n",
      "3996:\tlearn: 0.0213491\ttotal: 1m 51s\tremaining: 27.9s\n",
      "4995:\tlearn: 0.0145595\ttotal: 2m 19s\tremaining: 111ms\n",
      "4999:\tlearn: 0.0145350\ttotal: 2m 19s\tremaining: 0us\n"
     ]
    },
    {
     "name": "stderr",
     "output_type": "stream",
     "text": [
      "6it [13:57, 139.77s/it]"
     ]
    },
    {
     "name": "stdout",
     "output_type": "stream",
     "text": [
      "fold Loss 5:  0.3706420486403473\n",
      "---------------------------------------------------------------------------\n",
      "Learning rate set to 0.002361\n",
      "0:\tlearn: 0.6903321\ttotal: 41.7ms\tremaining: 3m 28s\n",
      "999:\tlearn: 0.1182358\ttotal: 27.9s\tremaining: 1m 51s\n",
      "1998:\tlearn: 0.0628787\ttotal: 55.7s\tremaining: 1m 23s\n",
      "2997:\tlearn: 0.0382000\ttotal: 1m 23s\tremaining: 55.7s\n",
      "3996:\tlearn: 0.0238183\ttotal: 1m 51s\tremaining: 27.9s\n",
      "4995:\tlearn: 0.0162936\ttotal: 2m 19s\tremaining: 111ms\n",
      "4999:\tlearn: 0.0162756\ttotal: 2m 19s\tremaining: 0us\n"
     ]
    },
    {
     "name": "stderr",
     "output_type": "stream",
     "text": [
      "7it [16:17, 139.85s/it]"
     ]
    },
    {
     "name": "stdout",
     "output_type": "stream",
     "text": [
      "fold Loss 6:  0.15866864012495518\n",
      "---------------------------------------------------------------------------\n",
      "Learning rate set to 0.002361\n",
      "0:\tlearn: 0.6910110\ttotal: 56.2ms\tremaining: 4m 41s\n",
      "999:\tlearn: 0.1210272\ttotal: 27.9s\tremaining: 1m 51s\n",
      "1998:\tlearn: 0.0636052\ttotal: 55.6s\tremaining: 1m 23s\n",
      "2997:\tlearn: 0.0384349\ttotal: 1m 23s\tremaining: 55.6s\n",
      "3996:\tlearn: 0.0238998\ttotal: 1m 50s\tremaining: 27.8s\n",
      "4995:\tlearn: 0.0159678\ttotal: 2m 18s\tremaining: 111ms\n",
      "4999:\tlearn: 0.0159471\ttotal: 2m 18s\tremaining: 0us\n"
     ]
    },
    {
     "name": "stderr",
     "output_type": "stream",
     "text": [
      "8it [18:37, 139.72s/it]"
     ]
    },
    {
     "name": "stdout",
     "output_type": "stream",
     "text": [
      "fold Loss 7:  0.12240826358374945\n",
      "---------------------------------------------------------------------------\n",
      "Learning rate set to 0.002361\n",
      "0:\tlearn: 0.6906107\ttotal: 42.5ms\tremaining: 3m 32s\n",
      "999:\tlearn: 0.1230395\ttotal: 27.8s\tremaining: 1m 51s\n",
      "1998:\tlearn: 0.0659156\ttotal: 55.6s\tremaining: 1m 23s\n",
      "2997:\tlearn: 0.0406551\ttotal: 1m 23s\tremaining: 55.6s\n",
      "3996:\tlearn: 0.0262663\ttotal: 1m 51s\tremaining: 27.9s\n",
      "4995:\tlearn: 0.0180150\ttotal: 2m 18s\tremaining: 111ms\n",
      "4999:\tlearn: 0.0179873\ttotal: 2m 18s\tremaining: 0us\n"
     ]
    },
    {
     "name": "stderr",
     "output_type": "stream",
     "text": [
      "9it [20:56, 139.71s/it]"
     ]
    },
    {
     "name": "stdout",
     "output_type": "stream",
     "text": [
      "fold Loss 8:  0.08597838412603835\n",
      "---------------------------------------------------------------------------\n",
      "Learning rate set to 0.002361\n",
      "0:\tlearn: 0.6905003\ttotal: 54.8ms\tremaining: 4m 34s\n",
      "999:\tlearn: 0.1208076\ttotal: 27.6s\tremaining: 1m 50s\n",
      "1998:\tlearn: 0.0649691\ttotal: 55.3s\tremaining: 1m 23s\n",
      "2997:\tlearn: 0.0401016\ttotal: 1m 23s\tremaining: 55.5s\n",
      "3996:\tlearn: 0.0258871\ttotal: 1m 50s\tremaining: 27.8s\n",
      "4995:\tlearn: 0.0182882\ttotal: 2m 18s\tremaining: 111ms\n",
      "4999:\tlearn: 0.0182666\ttotal: 2m 18s\tremaining: 0us\n"
     ]
    },
    {
     "name": "stderr",
     "output_type": "stream",
     "text": [
      "10it [23:16, 139.71s/it]"
     ]
    },
    {
     "name": "stdout",
     "output_type": "stream",
     "text": [
      "fold Loss 9:  0.11147851469409113\n",
      "---------------------------------------------------------------------------\n",
      "Learning rate set to 0.002361\n",
      "0:\tlearn: 0.6908887\ttotal: 41.8ms\tremaining: 3m 28s\n",
      "999:\tlearn: 0.1240130\ttotal: 27.7s\tremaining: 1m 50s\n",
      "1998:\tlearn: 0.0655415\ttotal: 55.4s\tremaining: 1m 23s\n",
      "2997:\tlearn: 0.0404639\ttotal: 1m 22s\tremaining: 55.4s\n",
      "3996:\tlearn: 0.0257739\ttotal: 1m 50s\tremaining: 27.8s\n",
      "4995:\tlearn: 0.0174809\ttotal: 2m 19s\tremaining: 111ms\n",
      "4999:\tlearn: 0.0174602\ttotal: 2m 19s\tremaining: 0us\n"
     ]
    },
    {
     "name": "stderr",
     "output_type": "stream",
     "text": [
      "11it [25:36, 139.82s/it]"
     ]
    },
    {
     "name": "stdout",
     "output_type": "stream",
     "text": [
      "fold Loss 10:  0.021929709158639912\n",
      "---------------------------------------------------------------------------\n",
      "Learning rate set to 0.002361\n",
      "0:\tlearn: 0.6905258\ttotal: 55.1ms\tremaining: 4m 35s\n",
      "999:\tlearn: 0.1228471\ttotal: 28.2s\tremaining: 1m 52s\n",
      "1998:\tlearn: 0.0649997\ttotal: 56.1s\tremaining: 1m 24s\n",
      "2997:\tlearn: 0.0395114\ttotal: 1m 24s\tremaining: 56.2s\n",
      "3996:\tlearn: 0.0243662\ttotal: 1m 52s\tremaining: 28.2s\n",
      "4995:\tlearn: 0.0156317\ttotal: 2m 20s\tremaining: 112ms\n",
      "4999:\tlearn: 0.0156114\ttotal: 2m 20s\tremaining: 0us\n"
     ]
    },
    {
     "name": "stderr",
     "output_type": "stream",
     "text": [
      "12it [27:58, 140.30s/it]"
     ]
    },
    {
     "name": "stdout",
     "output_type": "stream",
     "text": [
      "fold Loss 11:  0.06836288097703513\n",
      "---------------------------------------------------------------------------\n",
      "Learning rate set to 0.002361\n",
      "0:\tlearn: 0.6906216\ttotal: 47.5ms\tremaining: 3m 57s\n",
      "999:\tlearn: 0.1227125\ttotal: 27.7s\tremaining: 1m 50s\n",
      "1998:\tlearn: 0.0660167\ttotal: 55.9s\tremaining: 1m 23s\n",
      "2997:\tlearn: 0.0406582\ttotal: 1m 23s\tremaining: 56s\n",
      "3996:\tlearn: 0.0265251\ttotal: 1m 51s\tremaining: 28.1s\n",
      "4995:\tlearn: 0.0182447\ttotal: 2m 19s\tremaining: 112ms\n",
      "4999:\tlearn: 0.0182105\ttotal: 2m 19s\tremaining: 0us\n"
     ]
    },
    {
     "name": "stderr",
     "output_type": "stream",
     "text": [
      "13it [30:18, 140.40s/it]"
     ]
    },
    {
     "name": "stdout",
     "output_type": "stream",
     "text": [
      "fold Loss 12:  0.050017532204876626\n",
      "---------------------------------------------------------------------------\n",
      "Learning rate set to 0.002361\n",
      "0:\tlearn: 0.6904163\ttotal: 55.3ms\tremaining: 4m 36s\n",
      "999:\tlearn: 0.1192322\ttotal: 28.1s\tremaining: 1m 52s\n",
      "1998:\tlearn: 0.0625590\ttotal: 56s\tremaining: 1m 24s\n",
      "2997:\tlearn: 0.0380285\ttotal: 1m 23s\tremaining: 56s\n",
      "3996:\tlearn: 0.0243445\ttotal: 1m 51s\tremaining: 28.1s\n",
      "4995:\tlearn: 0.0163841\ttotal: 2m 20s\tremaining: 112ms\n",
      "4999:\tlearn: 0.0163589\ttotal: 2m 20s\tremaining: 0us\n"
     ]
    },
    {
     "name": "stderr",
     "output_type": "stream",
     "text": [
      "14it [32:39, 140.59s/it]"
     ]
    },
    {
     "name": "stdout",
     "output_type": "stream",
     "text": [
      "fold Loss 13:  0.1364880096602234\n",
      "---------------------------------------------------------------------------\n",
      "Learning rate set to 0.002361\n",
      "0:\tlearn: 0.6906762\ttotal: 42.1ms\tremaining: 3m 30s\n",
      "999:\tlearn: 0.1201520\ttotal: 28.1s\tremaining: 1m 52s\n",
      "1998:\tlearn: 0.0637427\ttotal: 56.3s\tremaining: 1m 24s\n",
      "2997:\tlearn: 0.0389884\ttotal: 1m 24s\tremaining: 56.4s\n",
      "3996:\tlearn: 0.0243194\ttotal: 1m 52s\tremaining: 28.2s\n",
      "4995:\tlearn: 0.0163985\ttotal: 2m 20s\tremaining: 112ms\n",
      "4999:\tlearn: 0.0163735\ttotal: 2m 20s\tremaining: 0us\n"
     ]
    },
    {
     "name": "stderr",
     "output_type": "stream",
     "text": [
      "15it [35:01, 140.87s/it]"
     ]
    },
    {
     "name": "stdout",
     "output_type": "stream",
     "text": [
      "fold Loss 14:  0.16252335774183332\n",
      "---------------------------------------------------------------------------\n",
      "Learning rate set to 0.002361\n",
      "0:\tlearn: 0.6905343\ttotal: 82.8ms\tremaining: 6m 54s\n",
      "999:\tlearn: 0.1201292\ttotal: 27.9s\tremaining: 1m 51s\n",
      "1998:\tlearn: 0.0623451\ttotal: 55.8s\tremaining: 1m 23s\n",
      "2997:\tlearn: 0.0376305\ttotal: 1m 23s\tremaining: 56s\n",
      "3996:\tlearn: 0.0228807\ttotal: 1m 51s\tremaining: 28s\n",
      "4995:\tlearn: 0.0152088\ttotal: 2m 19s\tremaining: 112ms\n",
      "4999:\tlearn: 0.0151868\ttotal: 2m 19s\tremaining: 0us\n"
     ]
    },
    {
     "name": "stderr",
     "output_type": "stream",
     "text": [
      "16it [37:22, 140.82s/it]"
     ]
    },
    {
     "name": "stdout",
     "output_type": "stream",
     "text": [
      "fold Loss 15:  0.20093778371026244\n",
      "---------------------------------------------------------------------------\n",
      "Learning rate set to 0.002361\n",
      "0:\tlearn: 0.6906659\ttotal: 41.3ms\tremaining: 3m 26s\n",
      "999:\tlearn: 0.1245531\ttotal: 28.1s\tremaining: 1m 52s\n",
      "1998:\tlearn: 0.0651714\ttotal: 55.8s\tremaining: 1m 23s\n",
      "2997:\tlearn: 0.0398589\ttotal: 1m 23s\tremaining: 56s\n",
      "3996:\tlearn: 0.0255837\ttotal: 1m 51s\tremaining: 28.1s\n",
      "4995:\tlearn: 0.0173806\ttotal: 2m 19s\tremaining: 112ms\n",
      "4999:\tlearn: 0.0173547\ttotal: 2m 19s\tremaining: 0us\n"
     ]
    },
    {
     "name": "stderr",
     "output_type": "stream",
     "text": [
      "17it [39:42, 140.80s/it]"
     ]
    },
    {
     "name": "stdout",
     "output_type": "stream",
     "text": [
      "fold Loss 16:  0.0577318984947927\n",
      "---------------------------------------------------------------------------\n",
      "Learning rate set to 0.002361\n",
      "0:\tlearn: 0.6904674\ttotal: 54.2ms\tremaining: 4m 30s\n",
      "999:\tlearn: 0.1213623\ttotal: 27.8s\tremaining: 1m 51s\n",
      "1998:\tlearn: 0.0641453\ttotal: 55.6s\tremaining: 1m 23s\n",
      "2997:\tlearn: 0.0391565\ttotal: 1m 23s\tremaining: 55.7s\n",
      "3996:\tlearn: 0.0241371\ttotal: 1m 50s\tremaining: 27.8s\n",
      "4995:\tlearn: 0.0167124\ttotal: 2m 18s\tremaining: 111ms\n",
      "4999:\tlearn: 0.0166926\ttotal: 2m 19s\tremaining: 0us\n"
     ]
    },
    {
     "name": "stderr",
     "output_type": "stream",
     "text": [
      "18it [42:02, 140.51s/it]"
     ]
    },
    {
     "name": "stdout",
     "output_type": "stream",
     "text": [
      "fold Loss 17:  0.19579414243672288\n",
      "---------------------------------------------------------------------------\n",
      "Learning rate set to 0.002361\n",
      "0:\tlearn: 0.6908233\ttotal: 42.1ms\tremaining: 3m 30s\n",
      "999:\tlearn: 0.1252221\ttotal: 27.9s\tremaining: 1m 51s\n",
      "1998:\tlearn: 0.0663001\ttotal: 55.7s\tremaining: 1m 23s\n",
      "2997:\tlearn: 0.0404920\ttotal: 1m 23s\tremaining: 55.8s\n",
      "3996:\tlearn: 0.0255927\ttotal: 1m 51s\tremaining: 28s\n",
      "4995:\tlearn: 0.0175507\ttotal: 2m 19s\tremaining: 112ms\n",
      "4999:\tlearn: 0.0175277\ttotal: 2m 19s\tremaining: 0us\n"
     ]
    },
    {
     "name": "stderr",
     "output_type": "stream",
     "text": [
      "19it [44:23, 140.48s/it]"
     ]
    },
    {
     "name": "stdout",
     "output_type": "stream",
     "text": [
      "fold Loss 18:  0.017305532620675627\n",
      "---------------------------------------------------------------------------\n",
      "Learning rate set to 0.002362\n",
      "0:\tlearn: 0.6904848\ttotal: 74.1ms\tremaining: 6m 10s\n",
      "999:\tlearn: 0.1236978\ttotal: 27.6s\tremaining: 1m 50s\n",
      "1998:\tlearn: 0.0662810\ttotal: 55.4s\tremaining: 1m 23s\n",
      "2997:\tlearn: 0.0407858\ttotal: 1m 23s\tremaining: 55.9s\n",
      "3996:\tlearn: 0.0261867\ttotal: 1m 51s\tremaining: 28s\n",
      "4995:\tlearn: 0.0183170\ttotal: 2m 19s\tremaining: 112ms\n",
      "4999:\tlearn: 0.0182926\ttotal: 2m 20s\tremaining: 0us\n"
     ]
    },
    {
     "name": "stderr",
     "output_type": "stream",
     "text": [
      "20it [46:43, 140.20s/it]"
     ]
    },
    {
     "name": "stdout",
     "output_type": "stream",
     "text": [
      "fold Loss 19:  0.058895574168501934\n",
      "---------------------------------------------------------------------------\n",
      "Training Loss: 0.020302521780693687\n",
      "Loss for oxychlorine:\n",
      "0.12598980935695298 0.0847145283256523\n",
      "==================================================================================================\n",
      "TARGET  phyllosilicate\n"
     ]
    },
    {
     "name": "stderr",
     "output_type": "stream",
     "text": [
      "\n"
     ]
    },
    {
     "name": "stdout",
     "output_type": "stream",
     "text": [
      "0.5440047097679762\n"
     ]
    },
    {
     "name": "stderr",
     "output_type": "stream",
     "text": [
      "100%|██████████| 101/101 [00:00<00:00, 545205.54it/s]"
     ]
    },
    {
     "name": "stdout",
     "output_type": "stream",
     "text": [
      "29\n"
     ]
    },
    {
     "name": "stderr",
     "output_type": "stream",
     "text": [
      "\n"
     ]
    },
    {
     "name": "stdout",
     "output_type": "stream",
     "text": [
      "0.3993981210759663\n"
     ]
    },
    {
     "name": "stderr",
     "output_type": "stream",
     "text": [
      "100%|██████████| 1900/1900 [00:00<00:00, 1422559.37it/s]\n"
     ]
    },
    {
     "name": "stdout",
     "output_type": "stream",
     "text": [
      "68\n",
      "0.3883403685541281\n"
     ]
    },
    {
     "name": "stderr",
     "output_type": "stream",
     "text": [
      "100%|██████████| 2200/2200 [00:00<00:00, 1549012.72it/s]\n"
     ]
    },
    {
     "name": "stdout",
     "output_type": "stream",
     "text": [
      "95\n",
      "0.3912741901779098\n"
     ]
    },
    {
     "name": "stderr",
     "output_type": "stream",
     "text": [
      "100%|██████████| 2000/2000 [00:00<00:00, 1678392.96it/s]\n"
     ]
    },
    {
     "name": "stdout",
     "output_type": "stream",
     "text": [
      "96\n",
      "(1059, 96) (1059, 29) (1059, 68) (1059, 95)\n",
      "(1059, 288)\n",
      "(804, 96) (804, 29) (804, 68) (804, 95)\n",
      "(804, 288)\n"
     ]
    },
    {
     "name": "stderr",
     "output_type": "stream",
     "text": [
      "0it [00:00, ?it/s]"
     ]
    },
    {
     "name": "stdout",
     "output_type": "stream",
     "text": [
      "Learning rate set to 0.002361\n",
      "0:\tlearn: 0.6910715\ttotal: 53.2ms\tremaining: 4m 25s\n",
      "999:\tlearn: 0.2105410\ttotal: 35.5s\tremaining: 2m 21s\n",
      "1998:\tlearn: 0.1317439\ttotal: 1m 10s\tremaining: 1m 46s\n",
      "2997:\tlearn: 0.0909399\ttotal: 1m 46s\tremaining: 1m 10s\n",
      "3996:\tlearn: 0.0637467\ttotal: 2m 21s\tremaining: 35.4s\n",
      "4995:\tlearn: 0.0440361\ttotal: 2m 56s\tremaining: 141ms\n",
      "4999:\tlearn: 0.0439618\ttotal: 2m 56s\tremaining: 0us\n"
     ]
    },
    {
     "name": "stderr",
     "output_type": "stream",
     "text": [
      "1it [02:57, 177.46s/it]"
     ]
    },
    {
     "name": "stdout",
     "output_type": "stream",
     "text": [
      "fold Loss 0:  0.12962543238907503\n",
      "---------------------------------------------------------------------------\n",
      "Learning rate set to 0.002361\n",
      "0:\tlearn: 0.6914078\ttotal: 77.6ms\tremaining: 6m 27s\n",
      "999:\tlearn: 0.2105263\ttotal: 35.4s\tremaining: 2m 21s\n",
      "1998:\tlearn: 0.1318228\ttotal: 1m 10s\tremaining: 1m 46s\n",
      "2997:\tlearn: 0.0916474\ttotal: 1m 45s\tremaining: 1m 10s\n",
      "3996:\tlearn: 0.0636250\ttotal: 2m 21s\tremaining: 35.5s\n",
      "4995:\tlearn: 0.0440565\ttotal: 2m 56s\tremaining: 141ms\n",
      "4999:\tlearn: 0.0440007\ttotal: 2m 56s\tremaining: 0us\n"
     ]
    },
    {
     "name": "stderr",
     "output_type": "stream",
     "text": [
      "2it [05:55, 177.57s/it]"
     ]
    },
    {
     "name": "stdout",
     "output_type": "stream",
     "text": [
      "fold Loss 1:  0.15032015494795828\n",
      "---------------------------------------------------------------------------\n",
      "Learning rate set to 0.002361\n",
      "0:\tlearn: 0.6915258\ttotal: 68.6ms\tremaining: 5m 42s\n",
      "999:\tlearn: 0.2124428\ttotal: 35.8s\tremaining: 2m 23s\n",
      "1998:\tlearn: 0.1330178\ttotal: 1m 10s\tremaining: 1m 46s\n",
      "2997:\tlearn: 0.0904692\ttotal: 1m 46s\tremaining: 1m 10s\n",
      "3996:\tlearn: 0.0623392\ttotal: 2m 21s\tremaining: 35.6s\n",
      "4995:\tlearn: 0.0431591\ttotal: 2m 57s\tremaining: 142ms\n",
      "4999:\tlearn: 0.0431019\ttotal: 2m 57s\tremaining: 0us\n"
     ]
    },
    {
     "name": "stderr",
     "output_type": "stream",
     "text": [
      "3it [08:53, 177.82s/it]"
     ]
    },
    {
     "name": "stdout",
     "output_type": "stream",
     "text": [
      "fold Loss 2:  0.13845573479987605\n",
      "---------------------------------------------------------------------------\n",
      "Learning rate set to 0.002361\n",
      "0:\tlearn: 0.6912973\ttotal: 70.2ms\tremaining: 5m 51s\n",
      "999:\tlearn: 0.2084884\ttotal: 35.5s\tremaining: 2m 22s\n",
      "1998:\tlearn: 0.1303323\ttotal: 1m 10s\tremaining: 1m 46s\n",
      "2997:\tlearn: 0.0878545\ttotal: 1m 46s\tremaining: 1m 11s\n",
      "3996:\tlearn: 0.0591872\ttotal: 2m 21s\tremaining: 35.5s\n",
      "4995:\tlearn: 0.0399905\ttotal: 2m 56s\tremaining: 142ms\n",
      "4999:\tlearn: 0.0399367\ttotal: 2m 57s\tremaining: 0us\n"
     ]
    },
    {
     "name": "stderr",
     "output_type": "stream",
     "text": [
      "4it [11:51, 177.84s/it]"
     ]
    },
    {
     "name": "stdout",
     "output_type": "stream",
     "text": [
      "fold Loss 3:  0.16039314231981516\n",
      "---------------------------------------------------------------------------\n",
      "Learning rate set to 0.002361\n",
      "0:\tlearn: 0.6912262\ttotal: 68.3ms\tremaining: 5m 41s\n",
      "999:\tlearn: 0.2091153\ttotal: 35.3s\tremaining: 2m 21s\n",
      "1998:\tlearn: 0.1309355\ttotal: 1m 10s\tremaining: 1m 46s\n",
      "2997:\tlearn: 0.0898907\ttotal: 1m 46s\tremaining: 1m 10s\n",
      "3996:\tlearn: 0.0629617\ttotal: 2m 21s\tremaining: 35.5s\n",
      "4995:\tlearn: 0.0437128\ttotal: 2m 56s\tremaining: 141ms\n",
      "4999:\tlearn: 0.0436855\ttotal: 2m 56s\tremaining: 0us\n"
     ]
    },
    {
     "name": "stderr",
     "output_type": "stream",
     "text": [
      "5it [14:48, 177.72s/it]"
     ]
    },
    {
     "name": "stdout",
     "output_type": "stream",
     "text": [
      "fold Loss 4:  0.21817190681206483\n",
      "---------------------------------------------------------------------------\n",
      "Learning rate set to 0.002361\n",
      "0:\tlearn: 0.6912378\ttotal: 68ms\tremaining: 5m 39s\n",
      "999:\tlearn: 0.2130158\ttotal: 35.3s\tremaining: 2m 21s\n",
      "1998:\tlearn: 0.1348607\ttotal: 1m 10s\tremaining: 1m 45s\n",
      "2997:\tlearn: 0.0941823\ttotal: 1m 45s\tremaining: 1m 10s\n",
      "3996:\tlearn: 0.0647804\ttotal: 2m 20s\tremaining: 35.4s\n",
      "4995:\tlearn: 0.0461105\ttotal: 2m 56s\tremaining: 141ms\n",
      "4999:\tlearn: 0.0460780\ttotal: 2m 56s\tremaining: 0us\n"
     ]
    },
    {
     "name": "stderr",
     "output_type": "stream",
     "text": [
      "6it [17:45, 177.55s/it]"
     ]
    },
    {
     "name": "stdout",
     "output_type": "stream",
     "text": [
      "fold Loss 5:  0.12744578608008614\n",
      "---------------------------------------------------------------------------\n",
      "Learning rate set to 0.002361\n",
      "0:\tlearn: 0.6914264\ttotal: 64.9ms\tremaining: 5m 24s\n",
      "999:\tlearn: 0.2054521\ttotal: 35.4s\tremaining: 2m 21s\n",
      "1998:\tlearn: 0.1270316\ttotal: 1m 10s\tremaining: 1m 46s\n",
      "2997:\tlearn: 0.0856419\ttotal: 1m 46s\tremaining: 1m 11s\n",
      "3996:\tlearn: 0.0579299\ttotal: 2m 21s\tremaining: 35.6s\n",
      "4995:\tlearn: 0.0399427\ttotal: 2m 57s\tremaining: 142ms\n",
      "4999:\tlearn: 0.0399112\ttotal: 2m 58s\tremaining: 0us\n"
     ]
    },
    {
     "name": "stderr",
     "output_type": "stream",
     "text": [
      "7it [20:44, 178.01s/it]"
     ]
    },
    {
     "name": "stdout",
     "output_type": "stream",
     "text": [
      "fold Loss 6:  0.23428970134200688\n",
      "---------------------------------------------------------------------------\n",
      "Learning rate set to 0.002361\n",
      "0:\tlearn: 0.6912411\ttotal: 71.7ms\tremaining: 5m 58s\n",
      "999:\tlearn: 0.2090554\ttotal: 35.8s\tremaining: 2m 23s\n",
      "1998:\tlearn: 0.1298904\ttotal: 1m 11s\tremaining: 1m 47s\n",
      "2997:\tlearn: 0.0887344\ttotal: 1m 47s\tremaining: 1m 11s\n",
      "3996:\tlearn: 0.0620280\ttotal: 2m 23s\tremaining: 35.9s\n",
      "4995:\tlearn: 0.0435929\ttotal: 2m 58s\tremaining: 143ms\n",
      "4999:\tlearn: 0.0435531\ttotal: 2m 58s\tremaining: 0us\n"
     ]
    },
    {
     "name": "stderr",
     "output_type": "stream",
     "text": [
      "8it [23:44, 178.58s/it]"
     ]
    },
    {
     "name": "stdout",
     "output_type": "stream",
     "text": [
      "fold Loss 7:  0.2219790671440716\n",
      "---------------------------------------------------------------------------\n",
      "Learning rate set to 0.002361\n",
      "0:\tlearn: 0.6913487\ttotal: 67.8ms\tremaining: 5m 38s\n",
      "999:\tlearn: 0.2095045\ttotal: 35.6s\tremaining: 2m 22s\n",
      "1998:\tlearn: 0.1300684\ttotal: 1m 11s\tremaining: 1m 46s\n",
      "2997:\tlearn: 0.0899664\ttotal: 1m 46s\tremaining: 1m 11s\n",
      "3996:\tlearn: 0.0626532\ttotal: 2m 22s\tremaining: 35.7s\n",
      "4995:\tlearn: 0.0434389\ttotal: 2m 57s\tremaining: 142ms\n",
      "4999:\tlearn: 0.0433836\ttotal: 2m 57s\tremaining: 0us\n"
     ]
    },
    {
     "name": "stderr",
     "output_type": "stream",
     "text": [
      "9it [26:43, 178.65s/it]"
     ]
    },
    {
     "name": "stdout",
     "output_type": "stream",
     "text": [
      "fold Loss 8:  0.23778438832506243\n",
      "---------------------------------------------------------------------------\n",
      "Learning rate set to 0.002361\n",
      "0:\tlearn: 0.6913917\ttotal: 68.8ms\tremaining: 5m 44s\n",
      "999:\tlearn: 0.2101090\ttotal: 35.6s\tremaining: 2m 22s\n",
      "1998:\tlearn: 0.1318381\ttotal: 1m 11s\tremaining: 1m 46s\n",
      "2997:\tlearn: 0.0899314\ttotal: 1m 46s\tremaining: 1m 11s\n",
      "3996:\tlearn: 0.0620845\ttotal: 2m 22s\tremaining: 35.6s\n",
      "4995:\tlearn: 0.0435321\ttotal: 2m 57s\tremaining: 142ms\n",
      "4999:\tlearn: 0.0434720\ttotal: 2m 57s\tremaining: 0us\n"
     ]
    },
    {
     "name": "stderr",
     "output_type": "stream",
     "text": [
      "10it [29:42, 178.64s/it]"
     ]
    },
    {
     "name": "stdout",
     "output_type": "stream",
     "text": [
      "fold Loss 9:  0.14848830925163958\n",
      "---------------------------------------------------------------------------\n",
      "Learning rate set to 0.002361\n",
      "0:\tlearn: 0.6912675\ttotal: 69.2ms\tremaining: 5m 45s\n",
      "999:\tlearn: 0.2058424\ttotal: 36.1s\tremaining: 2m 24s\n",
      "1998:\tlearn: 0.1284868\ttotal: 1m 11s\tremaining: 1m 47s\n",
      "2997:\tlearn: 0.0877374\ttotal: 1m 46s\tremaining: 1m 11s\n",
      "3996:\tlearn: 0.0608294\ttotal: 2m 21s\tremaining: 35.6s\n",
      "4995:\tlearn: 0.0427248\ttotal: 2m 56s\tremaining: 142ms\n",
      "4999:\tlearn: 0.0426673\ttotal: 2m 57s\tremaining: 0us\n"
     ]
    },
    {
     "name": "stderr",
     "output_type": "stream",
     "text": [
      "11it [32:39, 178.43s/it]"
     ]
    },
    {
     "name": "stdout",
     "output_type": "stream",
     "text": [
      "fold Loss 10:  0.2616286747238571\n",
      "---------------------------------------------------------------------------\n",
      "Learning rate set to 0.002361\n",
      "0:\tlearn: 0.6913590\ttotal: 68.2ms\tremaining: 5m 40s\n",
      "999:\tlearn: 0.2023101\ttotal: 35.5s\tremaining: 2m 21s\n",
      "1998:\tlearn: 0.1225040\ttotal: 1m 10s\tremaining: 1m 46s\n",
      "2997:\tlearn: 0.0825362\ttotal: 1m 45s\tremaining: 1m 10s\n",
      "3996:\tlearn: 0.0566335\ttotal: 2m 21s\tremaining: 35.4s\n",
      "4995:\tlearn: 0.0391176\ttotal: 2m 56s\tremaining: 141ms\n",
      "4999:\tlearn: 0.0390806\ttotal: 2m 56s\tremaining: 0us\n"
     ]
    },
    {
     "name": "stderr",
     "output_type": "stream",
     "text": [
      "12it [35:37, 178.09s/it]"
     ]
    },
    {
     "name": "stdout",
     "output_type": "stream",
     "text": [
      "fold Loss 11:  0.34499882082601985\n",
      "---------------------------------------------------------------------------\n",
      "Learning rate set to 0.002361\n",
      "0:\tlearn: 0.6914562\ttotal: 70.8ms\tremaining: 5m 54s\n",
      "999:\tlearn: 0.2068961\ttotal: 35.1s\tremaining: 2m 20s\n",
      "1998:\tlearn: 0.1313705\ttotal: 1m 10s\tremaining: 1m 45s\n",
      "2997:\tlearn: 0.0910571\ttotal: 1m 45s\tremaining: 1m 10s\n",
      "3996:\tlearn: 0.0626215\ttotal: 2m 20s\tremaining: 35.2s\n",
      "4995:\tlearn: 0.0427569\ttotal: 2m 56s\tremaining: 141ms\n",
      "4999:\tlearn: 0.0426689\ttotal: 2m 56s\tremaining: 0us\n"
     ]
    },
    {
     "name": "stderr",
     "output_type": "stream",
     "text": [
      "13it [38:34, 177.80s/it]"
     ]
    },
    {
     "name": "stdout",
     "output_type": "stream",
     "text": [
      "fold Loss 12:  0.2296758188091546\n",
      "---------------------------------------------------------------------------\n",
      "Learning rate set to 0.002361\n",
      "0:\tlearn: 0.6912651\ttotal: 67.6ms\tremaining: 5m 38s\n",
      "999:\tlearn: 0.2059635\ttotal: 35.3s\tremaining: 2m 21s\n",
      "1998:\tlearn: 0.1277152\ttotal: 1m 10s\tremaining: 1m 45s\n",
      "2997:\tlearn: 0.0864380\ttotal: 1m 45s\tremaining: 1m 10s\n",
      "3996:\tlearn: 0.0597615\ttotal: 2m 20s\tremaining: 35.3s\n",
      "4995:\tlearn: 0.0418449\ttotal: 2m 56s\tremaining: 141ms\n",
      "4999:\tlearn: 0.0418114\ttotal: 2m 56s\tremaining: 0us\n"
     ]
    },
    {
     "name": "stderr",
     "output_type": "stream",
     "text": [
      "14it [41:31, 177.56s/it]"
     ]
    },
    {
     "name": "stdout",
     "output_type": "stream",
     "text": [
      "fold Loss 13:  0.30052820647246514\n",
      "---------------------------------------------------------------------------\n",
      "Learning rate set to 0.002361\n",
      "0:\tlearn: 0.6912842\ttotal: 67.8ms\tremaining: 5m 39s\n",
      "999:\tlearn: 0.2131219\ttotal: 35.2s\tremaining: 2m 20s\n",
      "1998:\tlearn: 0.1327578\ttotal: 1m 10s\tremaining: 1m 45s\n",
      "2997:\tlearn: 0.0907215\ttotal: 1m 45s\tremaining: 1m 10s\n",
      "3996:\tlearn: 0.0625662\ttotal: 2m 20s\tremaining: 35.3s\n",
      "4995:\tlearn: 0.0434399\ttotal: 2m 55s\tremaining: 141ms\n",
      "4999:\tlearn: 0.0433884\ttotal: 2m 55s\tremaining: 0us\n"
     ]
    },
    {
     "name": "stderr",
     "output_type": "stream",
     "text": [
      "15it [44:28, 177.34s/it]"
     ]
    },
    {
     "name": "stdout",
     "output_type": "stream",
     "text": [
      "fold Loss 14:  0.12067269190194764\n",
      "---------------------------------------------------------------------------\n",
      "Learning rate set to 0.002361\n",
      "0:\tlearn: 0.6912437\ttotal: 68.7ms\tremaining: 5m 43s\n",
      "999:\tlearn: 0.2088227\ttotal: 35.4s\tremaining: 2m 21s\n",
      "1998:\tlearn: 0.1305130\ttotal: 1m 10s\tremaining: 1m 45s\n",
      "2997:\tlearn: 0.0895930\ttotal: 1m 45s\tremaining: 1m 10s\n",
      "3996:\tlearn: 0.0624771\ttotal: 2m 21s\tremaining: 35.4s\n",
      "4995:\tlearn: 0.0439162\ttotal: 2m 56s\tremaining: 141ms\n",
      "4999:\tlearn: 0.0438695\ttotal: 2m 56s\tremaining: 0us\n"
     ]
    },
    {
     "name": "stderr",
     "output_type": "stream",
     "text": [
      "16it [47:25, 177.36s/it]"
     ]
    },
    {
     "name": "stdout",
     "output_type": "stream",
     "text": [
      "fold Loss 15:  0.20157708683342954\n",
      "---------------------------------------------------------------------------\n",
      "Learning rate set to 0.002361\n",
      "0:\tlearn: 0.6912069\ttotal: 69.1ms\tremaining: 5m 45s\n",
      "999:\tlearn: 0.2049652\ttotal: 35.2s\tremaining: 2m 20s\n",
      "1998:\tlearn: 0.1276239\ttotal: 1m 10s\tremaining: 1m 45s\n",
      "2997:\tlearn: 0.0868345\ttotal: 1m 45s\tremaining: 1m 10s\n",
      "3996:\tlearn: 0.0587594\ttotal: 2m 20s\tremaining: 35.3s\n",
      "4995:\tlearn: 0.0402524\ttotal: 2m 57s\tremaining: 142ms\n",
      "4999:\tlearn: 0.0401851\ttotal: 2m 57s\tremaining: 0us\n"
     ]
    },
    {
     "name": "stderr",
     "output_type": "stream",
     "text": [
      "17it [50:24, 177.74s/it]"
     ]
    },
    {
     "name": "stdout",
     "output_type": "stream",
     "text": [
      "fold Loss 16:  0.2353036669149803\n",
      "---------------------------------------------------------------------------\n",
      "Learning rate set to 0.002361\n",
      "0:\tlearn: 0.6912778\ttotal: 74.2ms\tremaining: 6m 10s\n",
      "999:\tlearn: 0.2063692\ttotal: 35.1s\tremaining: 2m 20s\n",
      "1998:\tlearn: 0.1284218\ttotal: 1m 10s\tremaining: 1m 45s\n",
      "2997:\tlearn: 0.0865535\ttotal: 1m 45s\tremaining: 1m 10s\n",
      "3996:\tlearn: 0.0568786\ttotal: 2m 20s\tremaining: 35.3s\n",
      "4995:\tlearn: 0.0384570\ttotal: 2m 55s\tremaining: 141ms\n",
      "4999:\tlearn: 0.0384211\ttotal: 2m 55s\tremaining: 0us\n"
     ]
    },
    {
     "name": "stderr",
     "output_type": "stream",
     "text": [
      "18it [53:20, 177.42s/it]"
     ]
    },
    {
     "name": "stdout",
     "output_type": "stream",
     "text": [
      "fold Loss 17:  0.2578618262159019\n",
      "---------------------------------------------------------------------------\n",
      "Learning rate set to 0.002361\n",
      "0:\tlearn: 0.6912230\ttotal: 68ms\tremaining: 5m 39s\n",
      "999:\tlearn: 0.2125228\ttotal: 35.6s\tremaining: 2m 22s\n",
      "1998:\tlearn: 0.1327842\ttotal: 1m 10s\tremaining: 1m 46s\n",
      "2997:\tlearn: 0.0911609\ttotal: 1m 45s\tremaining: 1m 10s\n",
      "3996:\tlearn: 0.0639949\ttotal: 2m 20s\tremaining: 35.4s\n",
      "4995:\tlearn: 0.0446984\ttotal: 2m 56s\tremaining: 141ms\n",
      "4999:\tlearn: 0.0446732\ttotal: 2m 56s\tremaining: 0us\n"
     ]
    },
    {
     "name": "stderr",
     "output_type": "stream",
     "text": [
      "19it [56:18, 177.40s/it]"
     ]
    },
    {
     "name": "stdout",
     "output_type": "stream",
     "text": [
      "fold Loss 18:  0.16924478493381723\n",
      "---------------------------------------------------------------------------\n",
      "Learning rate set to 0.002362\n",
      "0:\tlearn: 0.6912877\ttotal: 68.6ms\tremaining: 5m 42s\n",
      "999:\tlearn: 0.2119535\ttotal: 35.5s\tremaining: 2m 22s\n",
      "1998:\tlearn: 0.1333219\ttotal: 1m 10s\tremaining: 1m 46s\n",
      "2997:\tlearn: 0.0914420\ttotal: 1m 46s\tremaining: 1m 10s\n",
      "3996:\tlearn: 0.0633611\ttotal: 2m 21s\tremaining: 35.4s\n",
      "4995:\tlearn: 0.0445364\ttotal: 2m 56s\tremaining: 141ms\n",
      "4999:\tlearn: 0.0444862\ttotal: 2m 56s\tremaining: 0us\n"
     ]
    },
    {
     "name": "stderr",
     "output_type": "stream",
     "text": [
      "20it [59:15, 177.78s/it]"
     ]
    },
    {
     "name": "stdout",
     "output_type": "stream",
     "text": [
      "fold Loss 19:  0.09987706571062988\n",
      "---------------------------------------------------------------------------\n",
      "Training Loss: 0.047234631418692496\n",
      "Loss for phyllosilicate:\n",
      "0.19941611333769296 0.06394295022851387\n",
      "==================================================================================================\n",
      "TARGET  silicate\n"
     ]
    },
    {
     "name": "stderr",
     "output_type": "stream",
     "text": [
      "\n"
     ]
    },
    {
     "name": "stdout",
     "output_type": "stream",
     "text": [
      "0.341121934655079\n"
     ]
    },
    {
     "name": "stderr",
     "output_type": "stream",
     "text": [
      "100%|██████████| 101/101 [00:00<00:00, 413696.00it/s]"
     ]
    },
    {
     "name": "stdout",
     "output_type": "stream",
     "text": [
      "25\n"
     ]
    },
    {
     "name": "stderr",
     "output_type": "stream",
     "text": [
      "\n"
     ]
    },
    {
     "name": "stdout",
     "output_type": "stream",
     "text": [
      "0.3070103208243101\n"
     ]
    },
    {
     "name": "stderr",
     "output_type": "stream",
     "text": [
      "100%|██████████| 1900/1900 [00:00<00:00, 1597349.69it/s]\n"
     ]
    },
    {
     "name": "stdout",
     "output_type": "stream",
     "text": [
      "65\n",
      "0.2841205495680469\n"
     ]
    },
    {
     "name": "stderr",
     "output_type": "stream",
     "text": [
      "100%|██████████| 2200/2200 [00:00<00:00, 1662008.07it/s]\n"
     ]
    },
    {
     "name": "stdout",
     "output_type": "stream",
     "text": [
      "88\n",
      "0.2835886985581075\n"
     ]
    },
    {
     "name": "stderr",
     "output_type": "stream",
     "text": [
      "100%|██████████| 2000/2000 [00:00<00:00, 1636482.25it/s]\n"
     ]
    },
    {
     "name": "stdout",
     "output_type": "stream",
     "text": [
      "85\n",
      "(1059, 85) (1059, 25) (1059, 65) (1059, 88)\n",
      "(1059, 263)\n",
      "(804, 85) (804, 25) (804, 65) (804, 88)\n",
      "(804, 263)\n"
     ]
    },
    {
     "name": "stderr",
     "output_type": "stream",
     "text": [
      "0it [00:00, ?it/s]"
     ]
    },
    {
     "name": "stdout",
     "output_type": "stream",
     "text": [
      "Learning rate set to 0.002361\n",
      "0:\tlearn: 0.6904255\ttotal: 62.2ms\tremaining: 5m 10s\n",
      "999:\tlearn: 0.1649875\ttotal: 32.3s\tremaining: 2m 9s\n",
      "1998:\tlearn: 0.0982419\ttotal: 1m 4s\tremaining: 1m 36s\n",
      "2997:\tlearn: 0.0644163\ttotal: 1m 36s\tremaining: 1m 4s\n",
      "3996:\tlearn: 0.0445142\ttotal: 2m 8s\tremaining: 32.3s\n",
      "4995:\tlearn: 0.0313961\ttotal: 2m 40s\tremaining: 129ms\n",
      "4999:\tlearn: 0.0313408\ttotal: 2m 40s\tremaining: 0us\n"
     ]
    },
    {
     "name": "stderr",
     "output_type": "stream",
     "text": [
      "1it [02:41, 161.68s/it]"
     ]
    },
    {
     "name": "stdout",
     "output_type": "stream",
     "text": [
      "fold Loss 0:  0.12143660831607503\n",
      "---------------------------------------------------------------------------\n",
      "Learning rate set to 0.002361\n",
      "0:\tlearn: 0.6905579\ttotal: 62.7ms\tremaining: 5m 13s\n",
      "999:\tlearn: 0.1630441\ttotal: 32.2s\tremaining: 2m 8s\n",
      "1998:\tlearn: 0.0949896\ttotal: 1m 4s\tremaining: 1m 36s\n",
      "2997:\tlearn: 0.0607961\ttotal: 1m 36s\tremaining: 1m 4s\n",
      "3996:\tlearn: 0.0404252\ttotal: 2m 8s\tremaining: 32.3s\n",
      "4995:\tlearn: 0.0278923\ttotal: 2m 41s\tremaining: 129ms\n",
      "4999:\tlearn: 0.0278481\ttotal: 2m 41s\tremaining: 0us\n"
     ]
    },
    {
     "name": "stderr",
     "output_type": "stream",
     "text": [
      "2it [05:23, 161.88s/it]"
     ]
    },
    {
     "name": "stdout",
     "output_type": "stream",
     "text": [
      "fold Loss 1:  0.23260083316465083\n",
      "---------------------------------------------------------------------------\n",
      "Learning rate set to 0.002361\n",
      "0:\tlearn: 0.6906050\ttotal: 63.6ms\tremaining: 5m 18s\n",
      "999:\tlearn: 0.1617616\ttotal: 32.1s\tremaining: 2m 8s\n",
      "1998:\tlearn: 0.0940517\ttotal: 1m 4s\tremaining: 1m 36s\n",
      "2997:\tlearn: 0.0603869\ttotal: 1m 36s\tremaining: 1m 4s\n",
      "3996:\tlearn: 0.0417322\ttotal: 2m 8s\tremaining: 32.2s\n",
      "4995:\tlearn: 0.0298646\ttotal: 2m 40s\tremaining: 129ms\n",
      "4999:\tlearn: 0.0298305\ttotal: 2m 40s\tremaining: 0us\n"
     ]
    },
    {
     "name": "stderr",
     "output_type": "stream",
     "text": [
      "3it [08:05, 161.73s/it]"
     ]
    },
    {
     "name": "stdout",
     "output_type": "stream",
     "text": [
      "fold Loss 2:  0.24821832400961516\n",
      "---------------------------------------------------------------------------\n",
      "Learning rate set to 0.002361\n",
      "0:\tlearn: 0.6906009\ttotal: 61.8ms\tremaining: 5m 8s\n",
      "999:\tlearn: 0.1611939\ttotal: 32.3s\tremaining: 2m 9s\n",
      "1998:\tlearn: 0.0946388\ttotal: 1m 4s\tremaining: 1m 36s\n",
      "2997:\tlearn: 0.0631282\ttotal: 1m 36s\tremaining: 1m 4s\n",
      "3996:\tlearn: 0.0441576\ttotal: 2m 8s\tremaining: 32.3s\n",
      "4995:\tlearn: 0.0316477\ttotal: 2m 41s\tremaining: 129ms\n",
      "4999:\tlearn: 0.0315923\ttotal: 2m 41s\tremaining: 0us\n"
     ]
    },
    {
     "name": "stderr",
     "output_type": "stream",
     "text": [
      "4it [10:47, 161.84s/it]"
     ]
    },
    {
     "name": "stdout",
     "output_type": "stream",
     "text": [
      "fold Loss 3:  0.238245072842643\n",
      "---------------------------------------------------------------------------\n",
      "Learning rate set to 0.002361\n",
      "0:\tlearn: 0.6906022\ttotal: 62.6ms\tremaining: 5m 12s\n",
      "999:\tlearn: 0.1641587\ttotal: 32.1s\tremaining: 2m 8s\n",
      "1998:\tlearn: 0.0967315\ttotal: 1m 4s\tremaining: 1m 36s\n",
      "2997:\tlearn: 0.0622174\ttotal: 1m 36s\tremaining: 1m 4s\n",
      "3996:\tlearn: 0.0420487\ttotal: 2m 8s\tremaining: 32.3s\n",
      "4995:\tlearn: 0.0291881\ttotal: 2m 40s\tremaining: 129ms\n",
      "4999:\tlearn: 0.0291446\ttotal: 2m 41s\tremaining: 0us\n"
     ]
    },
    {
     "name": "stderr",
     "output_type": "stream",
     "text": [
      "5it [13:29, 161.85s/it]"
     ]
    },
    {
     "name": "stdout",
     "output_type": "stream",
     "text": [
      "fold Loss 4:  0.13945324166170958\n",
      "---------------------------------------------------------------------------\n",
      "Learning rate set to 0.002361\n",
      "0:\tlearn: 0.6905939\ttotal: 62.8ms\tremaining: 5m 13s\n",
      "999:\tlearn: 0.1617971\ttotal: 32.2s\tremaining: 2m 8s\n",
      "1998:\tlearn: 0.0960577\ttotal: 1m 4s\tremaining: 1m 36s\n",
      "2997:\tlearn: 0.0627954\ttotal: 1m 36s\tremaining: 1m 4s\n",
      "3996:\tlearn: 0.0430227\ttotal: 2m 8s\tremaining: 32.3s\n",
      "4995:\tlearn: 0.0302305\ttotal: 2m 40s\tremaining: 129ms\n",
      "4999:\tlearn: 0.0302013\ttotal: 2m 40s\tremaining: 0us\n"
     ]
    },
    {
     "name": "stderr",
     "output_type": "stream",
     "text": [
      "6it [16:10, 161.84s/it]"
     ]
    },
    {
     "name": "stdout",
     "output_type": "stream",
     "text": [
      "fold Loss 5:  0.19081612449467694\n",
      "---------------------------------------------------------------------------\n",
      "Learning rate set to 0.002361\n",
      "0:\tlearn: 0.6905474\ttotal: 60.9ms\tremaining: 5m 4s\n",
      "999:\tlearn: 0.1619043\ttotal: 32.3s\tremaining: 2m 9s\n",
      "1998:\tlearn: 0.0957555\ttotal: 1m 4s\tremaining: 1m 36s\n",
      "2997:\tlearn: 0.0627034\ttotal: 1m 36s\tremaining: 1m 4s\n",
      "3996:\tlearn: 0.0422167\ttotal: 2m 8s\tremaining: 32.2s\n",
      "4995:\tlearn: 0.0285180\ttotal: 2m 40s\tremaining: 129ms\n",
      "4999:\tlearn: 0.0284730\ttotal: 2m 40s\tremaining: 0us\n"
     ]
    },
    {
     "name": "stderr",
     "output_type": "stream",
     "text": [
      "7it [18:52, 161.78s/it]"
     ]
    },
    {
     "name": "stdout",
     "output_type": "stream",
     "text": [
      "fold Loss 6:  0.18742037523751215\n",
      "---------------------------------------------------------------------------\n",
      "Learning rate set to 0.002361\n",
      "0:\tlearn: 0.6905474\ttotal: 62.2ms\tremaining: 5m 11s\n",
      "999:\tlearn: 0.1645012\ttotal: 32.1s\tremaining: 2m 8s\n",
      "1998:\tlearn: 0.0966048\ttotal: 1m 4s\tremaining: 1m 36s\n",
      "2997:\tlearn: 0.0619225\ttotal: 1m 36s\tremaining: 1m 4s\n",
      "3996:\tlearn: 0.0412068\ttotal: 2m 8s\tremaining: 32.3s\n",
      "4995:\tlearn: 0.0275147\ttotal: 2m 40s\tremaining: 129ms\n",
      "4999:\tlearn: 0.0274834\ttotal: 2m 40s\tremaining: 0us\n"
     ]
    },
    {
     "name": "stderr",
     "output_type": "stream",
     "text": [
      "8it [21:34, 161.75s/it]"
     ]
    },
    {
     "name": "stdout",
     "output_type": "stream",
     "text": [
      "fold Loss 7:  0.18457777106727333\n",
      "---------------------------------------------------------------------------\n",
      "Learning rate set to 0.002361\n",
      "0:\tlearn: 0.6906597\ttotal: 68.1ms\tremaining: 5m 40s\n",
      "999:\tlearn: 0.1684300\ttotal: 32.2s\tremaining: 2m 8s\n",
      "1998:\tlearn: 0.0992483\ttotal: 1m 4s\tremaining: 1m 36s\n",
      "2997:\tlearn: 0.0645734\ttotal: 1m 36s\tremaining: 1m 4s\n",
      "3996:\tlearn: 0.0439338\ttotal: 2m 9s\tremaining: 32.4s\n",
      "4995:\tlearn: 0.0308683\ttotal: 2m 41s\tremaining: 129ms\n",
      "4999:\tlearn: 0.0308339\ttotal: 2m 41s\tremaining: 0us\n"
     ]
    },
    {
     "name": "stderr",
     "output_type": "stream",
     "text": [
      "9it [24:16, 161.96s/it]"
     ]
    },
    {
     "name": "stdout",
     "output_type": "stream",
     "text": [
      "fold Loss 8:  0.07795834598606766\n",
      "---------------------------------------------------------------------------\n",
      "Learning rate set to 0.002361\n",
      "0:\tlearn: 0.6905771\ttotal: 64.2ms\tremaining: 5m 20s\n",
      "999:\tlearn: 0.1647842\ttotal: 32.6s\tremaining: 2m 10s\n",
      "1998:\tlearn: 0.0965886\ttotal: 1m 4s\tremaining: 1m 37s\n",
      "2997:\tlearn: 0.0617698\ttotal: 1m 37s\tremaining: 1m 4s\n",
      "3996:\tlearn: 0.0415614\ttotal: 2m 9s\tremaining: 32.5s\n",
      "4995:\tlearn: 0.0286192\ttotal: 2m 41s\tremaining: 130ms\n",
      "4999:\tlearn: 0.0285692\ttotal: 2m 41s\tremaining: 0us\n"
     ]
    },
    {
     "name": "stderr",
     "output_type": "stream",
     "text": [
      "10it [26:59, 162.20s/it]"
     ]
    },
    {
     "name": "stdout",
     "output_type": "stream",
     "text": [
      "fold Loss 9:  0.1550502985278075\n",
      "---------------------------------------------------------------------------\n",
      "Learning rate set to 0.002361\n",
      "0:\tlearn: 0.6906324\ttotal: 64ms\tremaining: 5m 20s\n",
      "999:\tlearn: 0.1658106\ttotal: 32.2s\tremaining: 2m 8s\n",
      "1998:\tlearn: 0.0993502\ttotal: 1m 4s\tremaining: 1m 36s\n",
      "2997:\tlearn: 0.0651196\ttotal: 1m 36s\tremaining: 1m 4s\n",
      "3996:\tlearn: 0.0453178\ttotal: 2m 8s\tremaining: 32.3s\n",
      "4995:\tlearn: 0.0320512\ttotal: 2m 40s\tremaining: 129ms\n",
      "4999:\tlearn: 0.0320022\ttotal: 2m 41s\tremaining: 0us\n"
     ]
    },
    {
     "name": "stderr",
     "output_type": "stream",
     "text": [
      "11it [29:41, 162.10s/it]"
     ]
    },
    {
     "name": "stdout",
     "output_type": "stream",
     "text": [
      "fold Loss 10:  0.12305568331931925\n",
      "---------------------------------------------------------------------------\n",
      "Learning rate set to 0.002361\n",
      "0:\tlearn: 0.6905575\ttotal: 61.2ms\tremaining: 5m 6s\n",
      "999:\tlearn: 0.1613304\ttotal: 32.2s\tremaining: 2m 8s\n",
      "1998:\tlearn: 0.0939762\ttotal: 1m 4s\tremaining: 1m 36s\n",
      "2997:\tlearn: 0.0615212\ttotal: 1m 36s\tremaining: 1m 4s\n",
      "3996:\tlearn: 0.0420525\ttotal: 2m 8s\tremaining: 32.4s\n",
      "4995:\tlearn: 0.0287083\ttotal: 2m 41s\tremaining: 129ms\n",
      "4999:\tlearn: 0.0286597\ttotal: 2m 41s\tremaining: 0us\n"
     ]
    },
    {
     "name": "stderr",
     "output_type": "stream",
     "text": [
      "12it [32:23, 162.10s/it]"
     ]
    },
    {
     "name": "stdout",
     "output_type": "stream",
     "text": [
      "fold Loss 11:  0.21077080230964088\n",
      "---------------------------------------------------------------------------\n",
      "Learning rate set to 0.002361\n",
      "0:\tlearn: 0.6905780\ttotal: 68.1ms\tremaining: 5m 40s\n",
      "999:\tlearn: 0.1646632\ttotal: 32.1s\tremaining: 2m 8s\n",
      "1998:\tlearn: 0.0963706\ttotal: 1m 4s\tremaining: 1m 36s\n",
      "2997:\tlearn: 0.0621924\ttotal: 1m 36s\tremaining: 1m 4s\n",
      "3996:\tlearn: 0.0412554\ttotal: 2m 8s\tremaining: 32.3s\n",
      "4995:\tlearn: 0.0286403\ttotal: 2m 40s\tremaining: 129ms\n",
      "4999:\tlearn: 0.0285963\ttotal: 2m 40s\tremaining: 0us\n"
     ]
    },
    {
     "name": "stderr",
     "output_type": "stream",
     "text": [
      "13it [35:04, 161.93s/it]"
     ]
    },
    {
     "name": "stdout",
     "output_type": "stream",
     "text": [
      "fold Loss 12:  0.10642206712064238\n",
      "---------------------------------------------------------------------------\n",
      "Learning rate set to 0.002361\n",
      "0:\tlearn: 0.6906062\ttotal: 64ms\tremaining: 5m 19s\n",
      "999:\tlearn: 0.1612224\ttotal: 32.2s\tremaining: 2m 8s\n",
      "1998:\tlearn: 0.0944210\ttotal: 1m 4s\tremaining: 1m 37s\n",
      "2997:\tlearn: 0.0606336\ttotal: 1m 36s\tremaining: 1m 4s\n",
      "3996:\tlearn: 0.0407506\ttotal: 2m 9s\tremaining: 32.4s\n",
      "4995:\tlearn: 0.0277777\ttotal: 2m 41s\tremaining: 129ms\n",
      "4999:\tlearn: 0.0277323\ttotal: 2m 41s\tremaining: 0us\n"
     ]
    },
    {
     "name": "stderr",
     "output_type": "stream",
     "text": [
      "14it [37:47, 162.09s/it]"
     ]
    },
    {
     "name": "stdout",
     "output_type": "stream",
     "text": [
      "fold Loss 13:  0.25262034162494595\n",
      "---------------------------------------------------------------------------\n",
      "Learning rate set to 0.002361\n",
      "0:\tlearn: 0.6904635\ttotal: 61.8ms\tremaining: 5m 9s\n",
      "999:\tlearn: 0.1643241\ttotal: 32.1s\tremaining: 2m 8s\n",
      "1998:\tlearn: 0.0977017\ttotal: 1m 4s\tremaining: 1m 36s\n",
      "2997:\tlearn: 0.0638859\ttotal: 1m 36s\tremaining: 1m 4s\n",
      "3996:\tlearn: 0.0441410\ttotal: 2m 8s\tremaining: 32.2s\n",
      "4995:\tlearn: 0.0314462\ttotal: 2m 40s\tremaining: 129ms\n",
      "4999:\tlearn: 0.0313925\ttotal: 2m 40s\tremaining: 0us\n"
     ]
    },
    {
     "name": "stderr",
     "output_type": "stream",
     "text": [
      "15it [40:28, 161.90s/it]"
     ]
    },
    {
     "name": "stdout",
     "output_type": "stream",
     "text": [
      "fold Loss 14:  0.1438250873789344\n",
      "---------------------------------------------------------------------------\n",
      "Learning rate set to 0.002361\n",
      "0:\tlearn: 0.6906037\ttotal: 61.7ms\tremaining: 5m 8s\n",
      "999:\tlearn: 0.1663152\ttotal: 32.2s\tremaining: 2m 8s\n",
      "1998:\tlearn: 0.0983621\ttotal: 1m 4s\tremaining: 1m 36s\n",
      "2997:\tlearn: 0.0639480\ttotal: 1m 36s\tremaining: 1m 4s\n",
      "3996:\tlearn: 0.0436821\ttotal: 2m 8s\tremaining: 32.3s\n",
      "4995:\tlearn: 0.0308480\ttotal: 2m 40s\tremaining: 129ms\n",
      "4999:\tlearn: 0.0308198\ttotal: 2m 40s\tremaining: 0us\n"
     ]
    },
    {
     "name": "stderr",
     "output_type": "stream",
     "text": [
      "16it [43:10, 161.87s/it]"
     ]
    },
    {
     "name": "stdout",
     "output_type": "stream",
     "text": [
      "fold Loss 15:  0.11273419295858217\n",
      "---------------------------------------------------------------------------\n",
      "Learning rate set to 0.002361\n",
      "0:\tlearn: 0.6904654\ttotal: 61.3ms\tremaining: 5m 6s\n",
      "999:\tlearn: 0.1664344\ttotal: 32.4s\tremaining: 2m 9s\n",
      "1998:\tlearn: 0.0986894\ttotal: 1m 4s\tremaining: 1m 37s\n",
      "2997:\tlearn: 0.0642141\ttotal: 1m 36s\tremaining: 1m 4s\n",
      "3996:\tlearn: 0.0433994\ttotal: 2m 8s\tremaining: 32.4s\n",
      "4995:\tlearn: 0.0297579\ttotal: 2m 41s\tremaining: 129ms\n",
      "4999:\tlearn: 0.0297052\ttotal: 2m 41s\tremaining: 0us\n"
     ]
    },
    {
     "name": "stderr",
     "output_type": "stream",
     "text": [
      "17it [45:52, 161.93s/it]"
     ]
    },
    {
     "name": "stdout",
     "output_type": "stream",
     "text": [
      "fold Loss 16:  0.07889595343703569\n",
      "---------------------------------------------------------------------------\n",
      "Learning rate set to 0.002361\n",
      "0:\tlearn: 0.6906430\ttotal: 63ms\tremaining: 5m 14s\n",
      "999:\tlearn: 0.1633975\ttotal: 32.3s\tremaining: 2m 9s\n",
      "1998:\tlearn: 0.0960757\ttotal: 1m 4s\tremaining: 1m 36s\n",
      "2997:\tlearn: 0.0627482\ttotal: 1m 36s\tremaining: 1m 4s\n",
      "3996:\tlearn: 0.0419728\ttotal: 2m 8s\tremaining: 32.3s\n",
      "4995:\tlearn: 0.0276640\ttotal: 2m 40s\tremaining: 129ms\n",
      "4999:\tlearn: 0.0276117\ttotal: 2m 40s\tremaining: 0us\n"
     ]
    },
    {
     "name": "stderr",
     "output_type": "stream",
     "text": [
      "18it [48:34, 161.86s/it]"
     ]
    },
    {
     "name": "stdout",
     "output_type": "stream",
     "text": [
      "fold Loss 17:  0.19439681076875087\n",
      "---------------------------------------------------------------------------\n",
      "Learning rate set to 0.002361\n",
      "0:\tlearn: 0.6905552\ttotal: 60.5ms\tremaining: 5m 2s\n",
      "999:\tlearn: 0.1653440\ttotal: 32.1s\tremaining: 2m 8s\n",
      "1998:\tlearn: 0.0981589\ttotal: 1m 4s\tremaining: 1m 36s\n",
      "2997:\tlearn: 0.0637224\ttotal: 1m 36s\tremaining: 1m 4s\n",
      "3996:\tlearn: 0.0430659\ttotal: 2m 8s\tremaining: 32.2s\n",
      "4995:\tlearn: 0.0296682\ttotal: 2m 40s\tremaining: 128ms\n",
      "4999:\tlearn: 0.0296370\ttotal: 2m 40s\tremaining: 0us\n"
     ]
    },
    {
     "name": "stderr",
     "output_type": "stream",
     "text": [
      "19it [51:15, 161.60s/it]"
     ]
    },
    {
     "name": "stdout",
     "output_type": "stream",
     "text": [
      "fold Loss 18:  0.12175451284332996\n",
      "---------------------------------------------------------------------------\n",
      "Learning rate set to 0.002362\n",
      "0:\tlearn: 0.6905257\ttotal: 62.8ms\tremaining: 5m 13s\n",
      "999:\tlearn: 0.1609172\ttotal: 32.1s\tremaining: 2m 8s\n",
      "1998:\tlearn: 0.0929440\ttotal: 1m 4s\tremaining: 1m 36s\n",
      "2997:\tlearn: 0.0594779\ttotal: 1m 37s\tremaining: 1m 5s\n",
      "3996:\tlearn: 0.0395164\ttotal: 2m 9s\tremaining: 32.5s\n",
      "4995:\tlearn: 0.0264259\ttotal: 2m 41s\tremaining: 130ms\n",
      "4999:\tlearn: 0.0263799\ttotal: 2m 41s\tremaining: 0us\n"
     ]
    },
    {
     "name": "stderr",
     "output_type": "stream",
     "text": [
      "20it [53:58, 161.91s/it]"
     ]
    },
    {
     "name": "stdout",
     "output_type": "stream",
     "text": [
      "fold Loss 19:  0.29322732867977186\n",
      "---------------------------------------------------------------------------\n",
      "Training Loss: 0.039505335615756115\n",
      "Loss for silicate:\n",
      "0.17067398878744924 0.060302482467897156\n",
      "==================================================================================================\n",
      "TARGET  sulfate\n"
     ]
    },
    {
     "name": "stderr",
     "output_type": "stream",
     "text": [
      "\n"
     ]
    },
    {
     "name": "stdout",
     "output_type": "stream",
     "text": [
      "0.4274724600574952\n"
     ]
    },
    {
     "name": "stderr",
     "output_type": "stream",
     "text": [
      "100%|██████████| 101/101 [00:00<00:00, 585926.28it/s]\n"
     ]
    },
    {
     "name": "stdout",
     "output_type": "stream",
     "text": [
      "27\n",
      "0.3289950688686848\n"
     ]
    },
    {
     "name": "stderr",
     "output_type": "stream",
     "text": [
      "100%|██████████| 1900/1900 [00:00<00:00, 1674196.97it/s]\n"
     ]
    },
    {
     "name": "stdout",
     "output_type": "stream",
     "text": [
      "62\n",
      "0.3142712154238341\n"
     ]
    },
    {
     "name": "stderr",
     "output_type": "stream",
     "text": [
      "100%|██████████| 2200/2200 [00:00<00:00, 1661110.50it/s]\n"
     ]
    },
    {
     "name": "stdout",
     "output_type": "stream",
     "text": [
      "78\n",
      "0.32101887927401573\n"
     ]
    },
    {
     "name": "stderr",
     "output_type": "stream",
     "text": [
      "100%|██████████| 2000/2000 [00:00<00:00, 1697755.11it/s]\n"
     ]
    },
    {
     "name": "stdout",
     "output_type": "stream",
     "text": [
      "81\n",
      "(1059, 81) (1059, 27) (1059, 62) (1059, 78)\n",
      "(1059, 248)\n",
      "(804, 81) (804, 27) (804, 62) (804, 78)\n",
      "(804, 248)\n"
     ]
    },
    {
     "name": "stderr",
     "output_type": "stream",
     "text": [
      "0it [00:00, ?it/s]"
     ]
    },
    {
     "name": "stdout",
     "output_type": "stream",
     "text": [
      "Learning rate set to 0.002361\n",
      "0:\tlearn: 0.6908205\ttotal: 59ms\tremaining: 4m 55s\n",
      "999:\tlearn: 0.1446519\ttotal: 30.9s\tremaining: 2m 3s\n",
      "1998:\tlearn: 0.0809007\ttotal: 1m 1s\tremaining: 1m 32s\n",
      "2997:\tlearn: 0.0512133\ttotal: 1m 32s\tremaining: 1m 1s\n",
      "3996:\tlearn: 0.0336738\ttotal: 2m 3s\tremaining: 30.9s\n",
      "4995:\tlearn: 0.0222031\ttotal: 2m 33s\tremaining: 123ms\n",
      "4999:\tlearn: 0.0221689\ttotal: 2m 33s\tremaining: 0us\n"
     ]
    },
    {
     "name": "stderr",
     "output_type": "stream",
     "text": [
      "1it [02:34, 154.65s/it]"
     ]
    },
    {
     "name": "stdout",
     "output_type": "stream",
     "text": [
      "fold Loss 0:  0.17147758714628175\n",
      "---------------------------------------------------------------------------\n",
      "Learning rate set to 0.002361\n",
      "0:\tlearn: 0.6908151\ttotal: 59.5ms\tremaining: 4m 57s\n",
      "999:\tlearn: 0.1458586\ttotal: 31.2s\tremaining: 2m 4s\n",
      "1998:\tlearn: 0.0824868\ttotal: 1m 1s\tremaining: 1m 32s\n",
      "2997:\tlearn: 0.0531650\ttotal: 1m 32s\tremaining: 1m 1s\n",
      "3996:\tlearn: 0.0347374\ttotal: 2m 3s\tremaining: 30.9s\n",
      "4995:\tlearn: 0.0230467\ttotal: 2m 34s\tremaining: 123ms\n",
      "4999:\tlearn: 0.0230181\ttotal: 2m 34s\tremaining: 0us\n"
     ]
    },
    {
     "name": "stderr",
     "output_type": "stream",
     "text": [
      "2it [05:09, 154.84s/it]"
     ]
    },
    {
     "name": "stdout",
     "output_type": "stream",
     "text": [
      "fold Loss 1:  0.09369120924104613\n",
      "---------------------------------------------------------------------------\n",
      "Learning rate set to 0.002361\n",
      "0:\tlearn: 0.6906615\ttotal: 61.3ms\tremaining: 5m 6s\n",
      "999:\tlearn: 0.1454809\ttotal: 30.7s\tremaining: 2m 2s\n",
      "1998:\tlearn: 0.0812824\ttotal: 1m 1s\tremaining: 1m 32s\n",
      "2997:\tlearn: 0.0517131\ttotal: 1m 31s\tremaining: 1m 1s\n",
      "3996:\tlearn: 0.0329756\ttotal: 2m 2s\tremaining: 30.7s\n",
      "4995:\tlearn: 0.0217944\ttotal: 2m 32s\tremaining: 122ms\n",
      "4999:\tlearn: 0.0217563\ttotal: 2m 33s\tremaining: 0us\n"
     ]
    },
    {
     "name": "stderr",
     "output_type": "stream",
     "text": [
      "3it [07:43, 154.41s/it]"
     ]
    },
    {
     "name": "stdout",
     "output_type": "stream",
     "text": [
      "fold Loss 2:  0.20063390930807154\n",
      "---------------------------------------------------------------------------\n",
      "Learning rate set to 0.002361\n",
      "0:\tlearn: 0.6902829\ttotal: 58.7ms\tremaining: 4m 53s\n",
      "999:\tlearn: 0.1373607\ttotal: 30.7s\tremaining: 2m 2s\n",
      "1998:\tlearn: 0.0735594\ttotal: 1m 1s\tremaining: 1m 32s\n",
      "2997:\tlearn: 0.0459716\ttotal: 1m 32s\tremaining: 1m 1s\n",
      "3996:\tlearn: 0.0301813\ttotal: 2m 2s\tremaining: 30.8s\n",
      "4995:\tlearn: 0.0203203\ttotal: 2m 33s\tremaining: 123ms\n",
      "4999:\tlearn: 0.0202814\ttotal: 2m 33s\tremaining: 0us\n"
     ]
    },
    {
     "name": "stderr",
     "output_type": "stream",
     "text": [
      "4it [10:17, 154.37s/it]"
     ]
    },
    {
     "name": "stdout",
     "output_type": "stream",
     "text": [
      "fold Loss 3:  0.373743444714909\n",
      "---------------------------------------------------------------------------\n",
      "Learning rate set to 0.002361\n",
      "0:\tlearn: 0.6908707\ttotal: 59.2ms\tremaining: 4m 56s\n",
      "999:\tlearn: 0.1441547\ttotal: 30.7s\tremaining: 2m 2s\n",
      "1998:\tlearn: 0.0806457\ttotal: 1m 1s\tremaining: 1m 32s\n",
      "2997:\tlearn: 0.0513083\ttotal: 1m 32s\tremaining: 1m 1s\n",
      "3996:\tlearn: 0.0335980\ttotal: 2m 2s\tremaining: 30.8s\n",
      "4995:\tlearn: 0.0226922\ttotal: 2m 33s\tremaining: 123ms\n",
      "4999:\tlearn: 0.0226603\ttotal: 2m 33s\tremaining: 0us\n"
     ]
    },
    {
     "name": "stderr",
     "output_type": "stream",
     "text": [
      "5it [12:52, 154.47s/it]"
     ]
    },
    {
     "name": "stdout",
     "output_type": "stream",
     "text": [
      "fold Loss 4:  0.2453423253817286\n",
      "---------------------------------------------------------------------------\n",
      "Learning rate set to 0.002361\n",
      "0:\tlearn: 0.6905765\ttotal: 58.7ms\tremaining: 4m 53s\n",
      "999:\tlearn: 0.1447234\ttotal: 30.8s\tremaining: 2m 3s\n",
      "1998:\tlearn: 0.0796046\ttotal: 1m 1s\tremaining: 1m 32s\n",
      "2997:\tlearn: 0.0507196\ttotal: 1m 31s\tremaining: 1m 1s\n",
      "3996:\tlearn: 0.0338580\ttotal: 2m 2s\tremaining: 30.8s\n",
      "4995:\tlearn: 0.0231622\ttotal: 2m 34s\tremaining: 124ms\n",
      "4999:\tlearn: 0.0231208\ttotal: 2m 34s\tremaining: 0us\n"
     ]
    },
    {
     "name": "stderr",
     "output_type": "stream",
     "text": [
      "6it [15:27, 154.78s/it]"
     ]
    },
    {
     "name": "stdout",
     "output_type": "stream",
     "text": [
      "fold Loss 5:  0.19400936856206452\n",
      "---------------------------------------------------------------------------\n",
      "Learning rate set to 0.002361\n",
      "0:\tlearn: 0.6909809\ttotal: 64ms\tremaining: 5m 20s\n",
      "999:\tlearn: 0.1426759\ttotal: 30.7s\tremaining: 2m 2s\n",
      "1998:\tlearn: 0.0787287\ttotal: 1m 1s\tremaining: 1m 32s\n",
      "2997:\tlearn: 0.0487817\ttotal: 1m 31s\tremaining: 1m 1s\n",
      "3996:\tlearn: 0.0302455\ttotal: 2m 2s\tremaining: 30.8s\n",
      "4995:\tlearn: 0.0196658\ttotal: 2m 33s\tremaining: 123ms\n",
      "4999:\tlearn: 0.0196334\ttotal: 2m 33s\tremaining: 0us\n"
     ]
    },
    {
     "name": "stderr",
     "output_type": "stream",
     "text": [
      "7it [18:02, 154.63s/it]"
     ]
    },
    {
     "name": "stdout",
     "output_type": "stream",
     "text": [
      "fold Loss 6:  0.24530453503818417\n",
      "---------------------------------------------------------------------------\n",
      "Learning rate set to 0.002361\n",
      "0:\tlearn: 0.6910326\ttotal: 59.8ms\tremaining: 4m 58s\n",
      "999:\tlearn: 0.1497473\ttotal: 30.7s\tremaining: 2m 2s\n",
      "1998:\tlearn: 0.0829447\ttotal: 1m 1s\tremaining: 1m 32s\n",
      "2997:\tlearn: 0.0524359\ttotal: 1m 32s\tremaining: 1m 1s\n",
      "3996:\tlearn: 0.0344300\ttotal: 2m 2s\tremaining: 30.9s\n",
      "4995:\tlearn: 0.0228521\ttotal: 2m 33s\tremaining: 123ms\n",
      "4999:\tlearn: 0.0228093\ttotal: 2m 33s\tremaining: 0us\n"
     ]
    },
    {
     "name": "stderr",
     "output_type": "stream",
     "text": [
      "8it [20:36, 154.61s/it]"
     ]
    },
    {
     "name": "stdout",
     "output_type": "stream",
     "text": [
      "fold Loss 7:  0.071880316753331\n",
      "---------------------------------------------------------------------------\n",
      "Learning rate set to 0.002361\n",
      "0:\tlearn: 0.6908077\ttotal: 76.5ms\tremaining: 6m 22s\n",
      "999:\tlearn: 0.1453249\ttotal: 30.7s\tremaining: 2m 2s\n",
      "1998:\tlearn: 0.0816575\ttotal: 1m 1s\tremaining: 1m 32s\n",
      "2997:\tlearn: 0.0519853\ttotal: 1m 32s\tremaining: 1m 1s\n",
      "3996:\tlearn: 0.0337078\ttotal: 2m 2s\tremaining: 30.8s\n",
      "4995:\tlearn: 0.0223490\ttotal: 2m 33s\tremaining: 123ms\n",
      "4999:\tlearn: 0.0223122\ttotal: 2m 33s\tremaining: 0us\n"
     ]
    },
    {
     "name": "stderr",
     "output_type": "stream",
     "text": [
      "9it [23:10, 154.47s/it]"
     ]
    },
    {
     "name": "stdout",
     "output_type": "stream",
     "text": [
      "fold Loss 8:  0.09795246022054066\n",
      "---------------------------------------------------------------------------\n",
      "Learning rate set to 0.002361\n",
      "0:\tlearn: 0.6907655\ttotal: 46.3ms\tremaining: 3m 51s\n",
      "999:\tlearn: 0.1474229\ttotal: 30.7s\tremaining: 2m 2s\n",
      "1998:\tlearn: 0.0822339\ttotal: 1m 1s\tremaining: 1m 32s\n",
      "2997:\tlearn: 0.0526122\ttotal: 1m 32s\tremaining: 1m 1s\n",
      "3996:\tlearn: 0.0352369\ttotal: 2m 2s\tremaining: 30.7s\n",
      "4995:\tlearn: 0.0241569\ttotal: 2m 33s\tremaining: 123ms\n",
      "4999:\tlearn: 0.0241205\ttotal: 2m 33s\tremaining: 0us\n"
     ]
    },
    {
     "name": "stderr",
     "output_type": "stream",
     "text": [
      "10it [25:44, 154.35s/it]"
     ]
    },
    {
     "name": "stdout",
     "output_type": "stream",
     "text": [
      "fold Loss 9:  0.06654969757121366\n",
      "---------------------------------------------------------------------------\n",
      "Learning rate set to 0.002361\n",
      "0:\tlearn: 0.6911468\ttotal: 59.2ms\tremaining: 4m 55s\n",
      "999:\tlearn: 0.1467143\ttotal: 30.7s\tremaining: 2m 2s\n",
      "1998:\tlearn: 0.0809701\ttotal: 1m 1s\tremaining: 1m 32s\n",
      "2997:\tlearn: 0.0510811\ttotal: 1m 32s\tremaining: 1m 1s\n",
      "3996:\tlearn: 0.0326715\ttotal: 2m 3s\tremaining: 30.9s\n",
      "4995:\tlearn: 0.0214678\ttotal: 2m 33s\tremaining: 123ms\n",
      "4999:\tlearn: 0.0214419\ttotal: 2m 33s\tremaining: 0us\n"
     ]
    },
    {
     "name": "stderr",
     "output_type": "stream",
     "text": [
      "11it [28:19, 154.48s/it]"
     ]
    },
    {
     "name": "stdout",
     "output_type": "stream",
     "text": [
      "fold Loss 10:  0.10357228363331254\n",
      "---------------------------------------------------------------------------\n",
      "Learning rate set to 0.002361\n",
      "0:\tlearn: 0.6910503\ttotal: 61.5ms\tremaining: 5m 7s\n",
      "999:\tlearn: 0.1438033\ttotal: 30.8s\tremaining: 2m 3s\n",
      "1998:\tlearn: 0.0798396\ttotal: 1m 1s\tremaining: 1m 31s\n",
      "2997:\tlearn: 0.0519088\ttotal: 1m 31s\tremaining: 1m 1s\n",
      "3996:\tlearn: 0.0347921\ttotal: 2m 2s\tremaining: 30.7s\n",
      "4995:\tlearn: 0.0238610\ttotal: 2m 33s\tremaining: 123ms\n",
      "4999:\tlearn: 0.0238337\ttotal: 2m 33s\tremaining: 0us\n"
     ]
    },
    {
     "name": "stderr",
     "output_type": "stream",
     "text": [
      "12it [30:53, 154.33s/it]"
     ]
    },
    {
     "name": "stdout",
     "output_type": "stream",
     "text": [
      "fold Loss 11:  0.15462496177130364\n",
      "---------------------------------------------------------------------------\n",
      "Learning rate set to 0.002361\n",
      "0:\tlearn: 0.6910249\ttotal: 60.2ms\tremaining: 5m 1s\n",
      "999:\tlearn: 0.1483588\ttotal: 30.7s\tremaining: 2m 2s\n",
      "1998:\tlearn: 0.0832531\ttotal: 1m 1s\tremaining: 1m 32s\n",
      "2997:\tlearn: 0.0529629\ttotal: 1m 31s\tremaining: 1m 1s\n",
      "3996:\tlearn: 0.0348483\ttotal: 2m 2s\tremaining: 30.7s\n",
      "4995:\tlearn: 0.0236971\ttotal: 2m 32s\tremaining: 122ms\n",
      "4999:\tlearn: 0.0236604\ttotal: 2m 32s\tremaining: 0us\n"
     ]
    },
    {
     "name": "stderr",
     "output_type": "stream",
     "text": [
      "13it [33:27, 154.13s/it]"
     ]
    },
    {
     "name": "stdout",
     "output_type": "stream",
     "text": [
      "fold Loss 12:  0.06317399432100532\n",
      "---------------------------------------------------------------------------\n",
      "Learning rate set to 0.002361\n",
      "0:\tlearn: 0.6908663\ttotal: 62.4ms\tremaining: 5m 12s\n",
      "999:\tlearn: 0.1398789\ttotal: 30.7s\tremaining: 2m 2s\n",
      "1998:\tlearn: 0.0767703\ttotal: 1m 1s\tremaining: 1m 31s\n",
      "2997:\tlearn: 0.0473284\ttotal: 1m 32s\tremaining: 1m 1s\n",
      "3996:\tlearn: 0.0296445\ttotal: 2m 3s\tremaining: 31s\n",
      "4995:\tlearn: 0.0194993\ttotal: 2m 33s\tremaining: 123ms\n",
      "4999:\tlearn: 0.0194636\ttotal: 2m 33s\tremaining: 0us\n"
     ]
    },
    {
     "name": "stderr",
     "output_type": "stream",
     "text": [
      "14it [36:02, 154.27s/it]"
     ]
    },
    {
     "name": "stdout",
     "output_type": "stream",
     "text": [
      "fold Loss 13:  0.318020340812097\n",
      "---------------------------------------------------------------------------\n",
      "Learning rate set to 0.002361\n",
      "0:\tlearn: 0.6907594\ttotal: 45.3ms\tremaining: 3m 46s\n",
      "999:\tlearn: 0.1445839\ttotal: 30.7s\tremaining: 2m 2s\n",
      "1998:\tlearn: 0.0800543\ttotal: 1m 1s\tremaining: 1m 32s\n",
      "2997:\tlearn: 0.0507536\ttotal: 1m 32s\tremaining: 1m 1s\n",
      "3996:\tlearn: 0.0330003\ttotal: 2m 2s\tremaining: 30.8s\n",
      "4995:\tlearn: 0.0221276\ttotal: 2m 33s\tremaining: 123ms\n",
      "4999:\tlearn: 0.0220959\ttotal: 2m 33s\tremaining: 0us\n"
     ]
    },
    {
     "name": "stderr",
     "output_type": "stream",
     "text": [
      "15it [38:36, 154.22s/it]"
     ]
    },
    {
     "name": "stdout",
     "output_type": "stream",
     "text": [
      "fold Loss 14:  0.16848337687196263\n",
      "---------------------------------------------------------------------------\n",
      "Learning rate set to 0.002361\n",
      "0:\tlearn: 0.6907592\ttotal: 59.7ms\tremaining: 4m 58s\n",
      "999:\tlearn: 0.1436633\ttotal: 30.9s\tremaining: 2m 3s\n",
      "1998:\tlearn: 0.0788298\ttotal: 1m 1s\tremaining: 1m 32s\n",
      "2997:\tlearn: 0.0496710\ttotal: 1m 32s\tremaining: 1m 1s\n",
      "3996:\tlearn: 0.0326121\ttotal: 2m 2s\tremaining: 30.8s\n",
      "4995:\tlearn: 0.0221027\ttotal: 2m 33s\tremaining: 123ms\n",
      "4999:\tlearn: 0.0220670\ttotal: 2m 33s\tremaining: 0us\n"
     ]
    },
    {
     "name": "stderr",
     "output_type": "stream",
     "text": [
      "16it [41:10, 154.23s/it]"
     ]
    },
    {
     "name": "stdout",
     "output_type": "stream",
     "text": [
      "fold Loss 15:  0.1682173397970559\n",
      "---------------------------------------------------------------------------\n",
      "Learning rate set to 0.002361\n",
      "0:\tlearn: 0.6909621\ttotal: 55.5ms\tremaining: 4m 37s\n",
      "999:\tlearn: 0.1448629\ttotal: 30.8s\tremaining: 2m 3s\n",
      "1998:\tlearn: 0.0808697\ttotal: 1m 1s\tremaining: 1m 32s\n",
      "2997:\tlearn: 0.0515735\ttotal: 1m 31s\tremaining: 1m 1s\n",
      "3996:\tlearn: 0.0336296\ttotal: 2m 2s\tremaining: 30.6s\n",
      "4995:\tlearn: 0.0225100\ttotal: 2m 32s\tremaining: 122ms\n",
      "4999:\tlearn: 0.0224716\ttotal: 2m 32s\tremaining: 0us\n"
     ]
    },
    {
     "name": "stderr",
     "output_type": "stream",
     "text": [
      "17it [43:43, 154.00s/it]"
     ]
    },
    {
     "name": "stdout",
     "output_type": "stream",
     "text": [
      "fold Loss 16:  0.10958548206298806\n",
      "---------------------------------------------------------------------------\n",
      "Learning rate set to 0.002361\n",
      "0:\tlearn: 0.6910473\ttotal: 72.8ms\tremaining: 6m 3s\n",
      "999:\tlearn: 0.1451423\ttotal: 30.7s\tremaining: 2m 2s\n",
      "1998:\tlearn: 0.0815089\ttotal: 1m 1s\tremaining: 1m 32s\n",
      "2997:\tlearn: 0.0530336\ttotal: 1m 31s\tremaining: 1m 1s\n",
      "3996:\tlearn: 0.0351171\ttotal: 2m 2s\tremaining: 30.7s\n",
      "4995:\tlearn: 0.0238980\ttotal: 2m 33s\tremaining: 123ms\n",
      "4999:\tlearn: 0.0238540\ttotal: 2m 33s\tremaining: 0us\n"
     ]
    },
    {
     "name": "stderr",
     "output_type": "stream",
     "text": [
      "18it [46:17, 153.99s/it]"
     ]
    },
    {
     "name": "stdout",
     "output_type": "stream",
     "text": [
      "fold Loss 17:  0.1638104039953165\n",
      "---------------------------------------------------------------------------\n",
      "Learning rate set to 0.002361\n",
      "0:\tlearn: 0.6910549\ttotal: 45.4ms\tremaining: 3m 47s\n",
      "999:\tlearn: 0.1439037\ttotal: 30.7s\tremaining: 2m 2s\n",
      "1998:\tlearn: 0.0806623\ttotal: 1m 1s\tremaining: 1m 32s\n",
      "2997:\tlearn: 0.0522264\ttotal: 1m 32s\tremaining: 1m 1s\n",
      "3996:\tlearn: 0.0348316\ttotal: 2m 2s\tremaining: 30.7s\n",
      "4995:\tlearn: 0.0234297\ttotal: 2m 33s\tremaining: 123ms\n",
      "4999:\tlearn: 0.0233913\ttotal: 2m 33s\tremaining: 0us\n"
     ]
    },
    {
     "name": "stderr",
     "output_type": "stream",
     "text": [
      "19it [48:51, 154.02s/it]"
     ]
    },
    {
     "name": "stdout",
     "output_type": "stream",
     "text": [
      "fold Loss 18:  0.152932780193202\n",
      "---------------------------------------------------------------------------\n",
      "Learning rate set to 0.002362\n",
      "0:\tlearn: 0.6911184\ttotal: 59.3ms\tremaining: 4m 56s\n",
      "999:\tlearn: 0.1483712\ttotal: 30.8s\tremaining: 2m 3s\n",
      "1998:\tlearn: 0.0822753\ttotal: 1m 1s\tremaining: 1m 32s\n",
      "2997:\tlearn: 0.0518025\ttotal: 1m 31s\tremaining: 1m 1s\n",
      "3996:\tlearn: 0.0341604\ttotal: 2m 2s\tremaining: 30.7s\n",
      "4995:\tlearn: 0.0229750\ttotal: 2m 32s\tremaining: 122ms\n",
      "4999:\tlearn: 0.0229351\ttotal: 2m 32s\tremaining: 0us\n"
     ]
    },
    {
     "name": "stderr",
     "output_type": "stream",
     "text": [
      "20it [51:25, 154.28s/it]"
     ]
    },
    {
     "name": "stdout",
     "output_type": "stream",
     "text": [
      "fold Loss 19:  0.08126068950986731\n",
      "---------------------------------------------------------------------------\n",
      "Training Loss: 0.02581855362440513\n",
      "Loss for sulfate:\n",
      "0.16221332534527408 0.0819563539042722\n",
      "==================================================================================================\n",
      "TARGET  sulfide\n"
     ]
    },
    {
     "name": "stderr",
     "output_type": "stream",
     "text": [
      "\n"
     ]
    },
    {
     "name": "stdout",
     "output_type": "stream",
     "text": [
      "0.1514397508465584\n"
     ]
    },
    {
     "name": "stderr",
     "output_type": "stream",
     "text": [
      "100%|██████████| 101/101 [00:00<00:00, 672420.17it/s]\n"
     ]
    },
    {
     "name": "stdout",
     "output_type": "stream",
     "text": [
      "19\n",
      "0.11239079174814692\n"
     ]
    },
    {
     "name": "stderr",
     "output_type": "stream",
     "text": [
      "100%|██████████| 1900/1900 [00:00<00:00, 1650274.92it/s]\n"
     ]
    },
    {
     "name": "stdout",
     "output_type": "stream",
     "text": [
      "42\n",
      "0.1333749393674213\n"
     ]
    },
    {
     "name": "stderr",
     "output_type": "stream",
     "text": [
      "100%|██████████| 2200/2200 [00:00<00:00, 1579775.52it/s]\n"
     ]
    },
    {
     "name": "stdout",
     "output_type": "stream",
     "text": [
      "52\n",
      "0.13226413018819277\n"
     ]
    },
    {
     "name": "stderr",
     "output_type": "stream",
     "text": [
      "100%|██████████| 2000/2000 [00:00<00:00, 1683783.22it/s]\n"
     ]
    },
    {
     "name": "stdout",
     "output_type": "stream",
     "text": [
      "50\n",
      "(1059, 50) (1059, 19) (1059, 42) (1059, 52)\n",
      "(1059, 163)\n",
      "(804, 50) (804, 19) (804, 42) (804, 52)\n",
      "(804, 163)\n"
     ]
    },
    {
     "name": "stderr",
     "output_type": "stream",
     "text": [
      "0it [00:00, ?it/s]"
     ]
    },
    {
     "name": "stdout",
     "output_type": "stream",
     "text": [
      "Learning rate set to 0.002361\n",
      "0:\tlearn: 0.6888284\ttotal: 29.6ms\tremaining: 2m 28s\n",
      "999:\tlearn: 0.0322283\ttotal: 20.2s\tremaining: 1m 20s\n",
      "1998:\tlearn: 0.0123509\ttotal: 40.6s\tremaining: 1m\n",
      "2997:\tlearn: 0.0066659\ttotal: 1m\tremaining: 40.4s\n",
      "3996:\tlearn: 0.0041419\ttotal: 1m 20s\tremaining: 20.3s\n"
     ]
    },
    {
     "name": "stderr",
     "output_type": "stream",
     "text": [
      "1it [01:41, 101.47s/it]"
     ]
    },
    {
     "name": "stdout",
     "output_type": "stream",
     "text": [
      "4995:\tlearn: 0.0029084\ttotal: 1m 40s\tremaining: 80.5ms\n",
      "4999:\tlearn: 0.0029038\ttotal: 1m 40s\tremaining: 0us\n",
      "fold Loss 0:  0.03316542426797464\n",
      "---------------------------------------------------------------------------\n",
      "Learning rate set to 0.002361\n",
      "0:\tlearn: 0.6887895\ttotal: 38.1ms\tremaining: 3m 10s\n",
      "999:\tlearn: 0.0334482\ttotal: 20.5s\tremaining: 1m 21s\n",
      "1998:\tlearn: 0.0130102\ttotal: 40.8s\tremaining: 1m 1s\n",
      "2997:\tlearn: 0.0070581\ttotal: 1m\tremaining: 40.6s\n",
      "3996:\tlearn: 0.0042315\ttotal: 1m 21s\tremaining: 20.3s\n"
     ]
    },
    {
     "name": "stderr",
     "output_type": "stream",
     "text": [
      "2it [03:23, 101.86s/it]"
     ]
    },
    {
     "name": "stdout",
     "output_type": "stream",
     "text": [
      "4995:\tlearn: 0.0027871\ttotal: 1m 41s\tremaining: 81.1ms\n",
      "4999:\tlearn: 0.0027836\ttotal: 1m 41s\tremaining: 0us\n",
      "fold Loss 1:  0.0019513302414826722\n",
      "---------------------------------------------------------------------------\n",
      "Learning rate set to 0.002361\n",
      "0:\tlearn: 0.6888401\ttotal: 30.3ms\tremaining: 2m 31s\n",
      "999:\tlearn: 0.0318307\ttotal: 20.2s\tremaining: 1m 20s\n",
      "1998:\tlearn: 0.0119927\ttotal: 40.7s\tremaining: 1m 1s\n",
      "2997:\tlearn: 0.0065775\ttotal: 1m\tremaining: 40.5s\n",
      "3996:\tlearn: 0.0041366\ttotal: 1m 20s\tremaining: 20.3s\n"
     ]
    },
    {
     "name": "stderr",
     "output_type": "stream",
     "text": [
      "3it [05:05, 101.88s/it]"
     ]
    },
    {
     "name": "stdout",
     "output_type": "stream",
     "text": [
      "4995:\tlearn: 0.0029669\ttotal: 1m 41s\tremaining: 80.9ms\n",
      "4999:\tlearn: 0.0029645\ttotal: 1m 41s\tremaining: 0us\n",
      "fold Loss 2:  0.08712910013284358\n",
      "---------------------------------------------------------------------------\n",
      "Learning rate set to 0.002361\n",
      "0:\tlearn: 0.6887315\ttotal: 40ms\tremaining: 3m 20s\n",
      "999:\tlearn: 0.0314339\ttotal: 20.2s\tremaining: 1m 20s\n",
      "1998:\tlearn: 0.0136642\ttotal: 40.4s\tremaining: 1m\n",
      "2997:\tlearn: 0.0075393\ttotal: 1m\tremaining: 40.3s\n",
      "3996:\tlearn: 0.0047177\ttotal: 1m 20s\tremaining: 20.2s\n"
     ]
    },
    {
     "name": "stderr",
     "output_type": "stream",
     "text": [
      "4it [06:47, 101.82s/it]"
     ]
    },
    {
     "name": "stdout",
     "output_type": "stream",
     "text": [
      "4995:\tlearn: 0.0033255\ttotal: 1m 40s\tremaining: 80.8ms\n",
      "4999:\tlearn: 0.0033228\ttotal: 1m 40s\tremaining: 0us\n",
      "fold Loss 3:  0.10301409491668816\n",
      "---------------------------------------------------------------------------\n",
      "Learning rate set to 0.002361\n",
      "0:\tlearn: 0.6888120\ttotal: 31.9ms\tremaining: 2m 39s\n",
      "999:\tlearn: 0.0335743\ttotal: 20s\tremaining: 1m 19s\n",
      "1998:\tlearn: 0.0128752\ttotal: 40.4s\tremaining: 1m\n",
      "2997:\tlearn: 0.0071417\ttotal: 1m\tremaining: 40.2s\n",
      "3996:\tlearn: 0.0045265\ttotal: 1m 20s\tremaining: 20.2s\n"
     ]
    },
    {
     "name": "stderr",
     "output_type": "stream",
     "text": [
      "5it [08:28, 101.71s/it]"
     ]
    },
    {
     "name": "stdout",
     "output_type": "stream",
     "text": [
      "4995:\tlearn: 0.0032120\ttotal: 1m 40s\tremaining: 80.6ms\n",
      "4999:\tlearn: 0.0032079\ttotal: 1m 40s\tremaining: 0us\n",
      "fold Loss 4:  0.019316266585467024\n",
      "---------------------------------------------------------------------------\n",
      "Learning rate set to 0.002361\n",
      "0:\tlearn: 0.6887939\ttotal: 40ms\tremaining: 3m 19s\n",
      "999:\tlearn: 0.0327276\ttotal: 20.2s\tremaining: 1m 20s\n",
      "1998:\tlearn: 0.0129195\ttotal: 40.4s\tremaining: 1m\n",
      "2997:\tlearn: 0.0070778\ttotal: 1m\tremaining: 40.6s\n",
      "3996:\tlearn: 0.0044010\ttotal: 1m 20s\tremaining: 20.2s\n"
     ]
    },
    {
     "name": "stderr",
     "output_type": "stream",
     "text": [
      "6it [10:10, 101.75s/it]"
     ]
    },
    {
     "name": "stdout",
     "output_type": "stream",
     "text": [
      "4995:\tlearn: 0.0030233\ttotal: 1m 40s\tremaining: 80.8ms\n",
      "4999:\tlearn: 0.0030188\ttotal: 1m 41s\tremaining: 0us\n",
      "fold Loss 5:  0.03701387766942323\n",
      "---------------------------------------------------------------------------\n",
      "Learning rate set to 0.002361\n",
      "0:\tlearn: 0.6888189\ttotal: 29.8ms\tremaining: 2m 28s\n",
      "999:\tlearn: 0.0303692\ttotal: 19.8s\tremaining: 1m 19s\n",
      "1998:\tlearn: 0.0113321\ttotal: 40.3s\tremaining: 1m\n",
      "2997:\tlearn: 0.0060912\ttotal: 1m\tremaining: 40.3s\n",
      "3996:\tlearn: 0.0038310\ttotal: 1m 20s\tremaining: 20.2s\n"
     ]
    },
    {
     "name": "stderr",
     "output_type": "stream",
     "text": [
      "7it [11:52, 101.66s/it]"
     ]
    },
    {
     "name": "stdout",
     "output_type": "stream",
     "text": [
      "4995:\tlearn: 0.0027002\ttotal: 1m 40s\tremaining: 80.6ms\n",
      "4999:\tlearn: 0.0026976\ttotal: 1m 40s\tremaining: 0us\n",
      "fold Loss 6:  0.11216506876565686\n",
      "---------------------------------------------------------------------------\n",
      "Learning rate set to 0.002361\n",
      "0:\tlearn: 0.6888501\ttotal: 39ms\tremaining: 3m 14s\n",
      "999:\tlearn: 0.0322455\ttotal: 20.1s\tremaining: 1m 20s\n",
      "1998:\tlearn: 0.0126624\ttotal: 40.4s\tremaining: 1m\n",
      "2997:\tlearn: 0.0071416\ttotal: 1m\tremaining: 40.5s\n",
      "3996:\tlearn: 0.0048667\ttotal: 1m 20s\tremaining: 20.2s\n"
     ]
    },
    {
     "name": "stderr",
     "output_type": "stream",
     "text": [
      "8it [13:33, 101.70s/it]"
     ]
    },
    {
     "name": "stdout",
     "output_type": "stream",
     "text": [
      "4995:\tlearn: 0.0034914\ttotal: 1m 40s\tremaining: 80.8ms\n",
      "4999:\tlearn: 0.0034873\ttotal: 1m 40s\tremaining: 0us\n",
      "fold Loss 7:  0.0740686349299126\n",
      "---------------------------------------------------------------------------\n",
      "Learning rate set to 0.002361\n",
      "0:\tlearn: 0.6888309\ttotal: 30.6ms\tremaining: 2m 33s\n",
      "999:\tlearn: 0.0326811\ttotal: 20s\tremaining: 1m 20s\n",
      "1998:\tlearn: 0.0125612\ttotal: 40.4s\tremaining: 1m\n",
      "2997:\tlearn: 0.0068683\ttotal: 1m\tremaining: 40.4s\n",
      "3996:\tlearn: 0.0044012\ttotal: 1m 20s\tremaining: 20.2s\n"
     ]
    },
    {
     "name": "stderr",
     "output_type": "stream",
     "text": [
      "9it [15:15, 101.63s/it]"
     ]
    },
    {
     "name": "stdout",
     "output_type": "stream",
     "text": [
      "4995:\tlearn: 0.0032182\ttotal: 1m 40s\tremaining: 80.5ms\n",
      "4999:\tlearn: 0.0032144\ttotal: 1m 40s\tremaining: 0us\n",
      "fold Loss 8:  0.005679922835728716\n",
      "---------------------------------------------------------------------------\n",
      "Learning rate set to 0.002361\n",
      "0:\tlearn: 0.6887420\ttotal: 40.8ms\tremaining: 3m 23s\n",
      "999:\tlearn: 0.0291977\ttotal: 20.6s\tremaining: 1m 22s\n",
      "1998:\tlearn: 0.0112385\ttotal: 40.5s\tremaining: 1m\n",
      "2997:\tlearn: 0.0061248\ttotal: 1m\tremaining: 40.7s\n",
      "3996:\tlearn: 0.0039164\ttotal: 1m 20s\tremaining: 20.3s\n"
     ]
    },
    {
     "name": "stderr",
     "output_type": "stream",
     "text": [
      "10it [16:57, 101.72s/it]"
     ]
    },
    {
     "name": "stdout",
     "output_type": "stream",
     "text": [
      "4995:\tlearn: 0.0028898\ttotal: 1m 41s\tremaining: 80.9ms\n",
      "4999:\tlearn: 0.0028878\ttotal: 1m 41s\tremaining: 0us\n",
      "fold Loss 9:  0.15562940664684657\n",
      "---------------------------------------------------------------------------\n",
      "Learning rate set to 0.002361\n",
      "0:\tlearn: 0.6887537\ttotal: 31.9ms\tremaining: 2m 39s\n",
      "999:\tlearn: 0.0323655\ttotal: 20.6s\tremaining: 1m 22s\n",
      "1998:\tlearn: 0.0122039\ttotal: 40.7s\tremaining: 1m 1s\n",
      "2997:\tlearn: 0.0065813\ttotal: 1m\tremaining: 40.6s\n",
      "3996:\tlearn: 0.0040641\ttotal: 1m 20s\tremaining: 20.3s\n"
     ]
    },
    {
     "name": "stderr",
     "output_type": "stream",
     "text": [
      "11it [18:38, 101.71s/it]"
     ]
    },
    {
     "name": "stdout",
     "output_type": "stream",
     "text": [
      "4995:\tlearn: 0.0027368\ttotal: 1m 40s\tremaining: 80.7ms\n",
      "4999:\tlearn: 0.0027328\ttotal: 1m 40s\tremaining: 0us\n",
      "fold Loss 10:  0.021025891967817966\n",
      "---------------------------------------------------------------------------\n",
      "Learning rate set to 0.002361\n",
      "0:\tlearn: 0.6887172\ttotal: 40ms\tremaining: 3m 20s\n",
      "999:\tlearn: 0.0308986\ttotal: 20.3s\tremaining: 1m 21s\n",
      "1998:\tlearn: 0.0120814\ttotal: 40.1s\tremaining: 1m\n",
      "2997:\tlearn: 0.0065590\ttotal: 1m\tremaining: 40.4s\n",
      "3996:\tlearn: 0.0041267\ttotal: 1m 20s\tremaining: 20.1s\n"
     ]
    },
    {
     "name": "stderr",
     "output_type": "stream",
     "text": [
      "12it [20:20, 101.55s/it]"
     ]
    },
    {
     "name": "stdout",
     "output_type": "stream",
     "text": [
      "4995:\tlearn: 0.0028650\ttotal: 1m 40s\tremaining: 80.3ms\n",
      "4999:\tlearn: 0.0028604\ttotal: 1m 40s\tremaining: 0us\n",
      "fold Loss 11:  0.09561105537798145\n",
      "---------------------------------------------------------------------------\n",
      "Learning rate set to 0.002361\n",
      "0:\tlearn: 0.6887677\ttotal: 31.1ms\tremaining: 2m 35s\n",
      "999:\tlearn: 0.0325106\ttotal: 20.2s\tremaining: 1m 20s\n",
      "1998:\tlearn: 0.0139790\ttotal: 40.4s\tremaining: 1m\n",
      "2997:\tlearn: 0.0078199\ttotal: 1m\tremaining: 40.5s\n",
      "3996:\tlearn: 0.0050167\ttotal: 1m 20s\tremaining: 20.3s\n"
     ]
    },
    {
     "name": "stderr",
     "output_type": "stream",
     "text": [
      "13it [22:01, 101.58s/it]"
     ]
    },
    {
     "name": "stdout",
     "output_type": "stream",
     "text": [
      "4995:\tlearn: 0.0035895\ttotal: 1m 40s\tremaining: 80.7ms\n",
      "4999:\tlearn: 0.0035870\ttotal: 1m 40s\tremaining: 0us\n",
      "fold Loss 12:  0.012597179897114983\n",
      "---------------------------------------------------------------------------\n",
      "Learning rate set to 0.002361\n",
      "0:\tlearn: 0.6888278\ttotal: 39.2ms\tremaining: 3m 15s\n",
      "999:\tlearn: 0.0330616\ttotal: 20.4s\tremaining: 1m 21s\n",
      "1998:\tlearn: 0.0128357\ttotal: 40.7s\tremaining: 1m 1s\n",
      "2997:\tlearn: 0.0070559\ttotal: 1m\tremaining: 40.6s\n",
      "3996:\tlearn: 0.0044167\ttotal: 1m 21s\tremaining: 20.3s\n"
     ]
    },
    {
     "name": "stderr",
     "output_type": "stream",
     "text": [
      "14it [23:43, 101.72s/it]"
     ]
    },
    {
     "name": "stdout",
     "output_type": "stream",
     "text": [
      "4995:\tlearn: 0.0028531\ttotal: 1m 41s\tremaining: 81ms\n",
      "4999:\tlearn: 0.0028489\ttotal: 1m 41s\tremaining: 0us\n",
      "fold Loss 13:  0.006513035772882837\n",
      "---------------------------------------------------------------------------\n",
      "Learning rate set to 0.002361\n",
      "0:\tlearn: 0.6887779\ttotal: 29.9ms\tremaining: 2m 29s\n",
      "999:\tlearn: 0.0320065\ttotal: 20.2s\tremaining: 1m 20s\n",
      "1998:\tlearn: 0.0121674\ttotal: 40.7s\tremaining: 1m 1s\n",
      "2997:\tlearn: 0.0065330\ttotal: 1m\tremaining: 40.4s\n",
      "3996:\tlearn: 0.0040536\ttotal: 1m 20s\tremaining: 20.3s\n"
     ]
    },
    {
     "name": "stderr",
     "output_type": "stream",
     "text": [
      "15it [25:25, 101.59s/it]"
     ]
    },
    {
     "name": "stdout",
     "output_type": "stream",
     "text": [
      "4995:\tlearn: 0.0027387\ttotal: 1m 40s\tremaining: 80.4ms\n",
      "4999:\tlearn: 0.0027362\ttotal: 1m 40s\tremaining: 0us\n",
      "fold Loss 14:  0.010047209778646614\n",
      "---------------------------------------------------------------------------\n",
      "Learning rate set to 0.002361\n",
      "0:\tlearn: 0.6888596\ttotal: 43ms\tremaining: 3m 34s\n",
      "999:\tlearn: 0.0325474\ttotal: 20.4s\tremaining: 1m 21s\n",
      "1998:\tlearn: 0.0121955\ttotal: 40.5s\tremaining: 1m\n",
      "2997:\tlearn: 0.0065964\ttotal: 1m\tremaining: 40.5s\n",
      "3996:\tlearn: 0.0040985\ttotal: 1m 20s\tremaining: 20.3s\n"
     ]
    },
    {
     "name": "stderr",
     "output_type": "stream",
     "text": [
      "16it [27:06, 101.60s/it]"
     ]
    },
    {
     "name": "stdout",
     "output_type": "stream",
     "text": [
      "4995:\tlearn: 0.0028122\ttotal: 1m 40s\tremaining: 80.7ms\n",
      "4999:\tlearn: 0.0028085\ttotal: 1m 40s\tremaining: 0us\n",
      "fold Loss 15:  0.02547130216084968\n",
      "---------------------------------------------------------------------------\n",
      "Learning rate set to 0.002361\n",
      "0:\tlearn: 0.6888171\ttotal: 30.5ms\tremaining: 2m 32s\n",
      "999:\tlearn: 0.0324985\ttotal: 20.4s\tremaining: 1m 21s\n",
      "1998:\tlearn: 0.0128137\ttotal: 40.5s\tremaining: 1m\n",
      "2997:\tlearn: 0.0070070\ttotal: 1m\tremaining: 40.5s\n",
      "3996:\tlearn: 0.0045347\ttotal: 1m 20s\tremaining: 20.3s\n"
     ]
    },
    {
     "name": "stderr",
     "output_type": "stream",
     "text": [
      "17it [28:48, 101.60s/it]"
     ]
    },
    {
     "name": "stdout",
     "output_type": "stream",
     "text": [
      "4995:\tlearn: 0.0032501\ttotal: 1m 40s\tremaining: 80.7ms\n",
      "4999:\tlearn: 0.0032460\ttotal: 1m 40s\tremaining: 0us\n",
      "fold Loss 16:  0.14912088167200382\n",
      "---------------------------------------------------------------------------\n",
      "Learning rate set to 0.002361\n",
      "0:\tlearn: 0.6887847\ttotal: 39.1ms\tremaining: 3m 15s\n",
      "999:\tlearn: 0.0318160\ttotal: 20.6s\tremaining: 1m 22s\n",
      "1998:\tlearn: 0.0123030\ttotal: 40.7s\tremaining: 1m 1s\n",
      "2997:\tlearn: 0.0065242\ttotal: 1m\tremaining: 40.6s\n",
      "3996:\tlearn: 0.0040131\ttotal: 1m 20s\tremaining: 20.3s\n"
     ]
    },
    {
     "name": "stderr",
     "output_type": "stream",
     "text": [
      "18it [30:29, 101.61s/it]"
     ]
    },
    {
     "name": "stdout",
     "output_type": "stream",
     "text": [
      "4995:\tlearn: 0.0027297\ttotal: 1m 40s\tremaining: 80.7ms\n",
      "4999:\tlearn: 0.0027270\ttotal: 1m 40s\tremaining: 0us\n",
      "fold Loss 17:  0.07930148053068829\n",
      "---------------------------------------------------------------------------\n",
      "Learning rate set to 0.002361\n",
      "0:\tlearn: 0.6887570\ttotal: 30.6ms\tremaining: 2m 32s\n",
      "999:\tlearn: 0.0318375\ttotal: 20.3s\tremaining: 1m 21s\n",
      "1998:\tlearn: 0.0121185\ttotal: 40.9s\tremaining: 1m 1s\n",
      "2997:\tlearn: 0.0066212\ttotal: 1m\tremaining: 40.6s\n",
      "3996:\tlearn: 0.0041207\ttotal: 1m 21s\tremaining: 20.4s\n",
      "4995:\tlearn: 0.0029151\ttotal: 1m 41s\tremaining: 81.2ms\n",
      "4999:\tlearn: 0.0029115\ttotal: 1m 41s\tremaining: 0us\n"
     ]
    },
    {
     "name": "stderr",
     "output_type": "stream",
     "text": [
      "19it [32:12, 101.83s/it]"
     ]
    },
    {
     "name": "stdout",
     "output_type": "stream",
     "text": [
      "fold Loss 18:  0.10362806945490331\n",
      "---------------------------------------------------------------------------\n",
      "Learning rate set to 0.002362\n",
      "0:\tlearn: 0.6890493\ttotal: 59.2ms\tremaining: 4m 55s\n",
      "999:\tlearn: 0.0308154\ttotal: 20.2s\tremaining: 1m 20s\n",
      "1998:\tlearn: 0.0121666\ttotal: 40.4s\tremaining: 1m\n",
      "2997:\tlearn: 0.0067910\ttotal: 1m\tremaining: 40.4s\n",
      "3996:\tlearn: 0.0043644\ttotal: 1m 20s\tremaining: 20.2s\n"
     ]
    },
    {
     "name": "stderr",
     "output_type": "stream",
     "text": [
      "20it [33:54, 101.70s/it]"
     ]
    },
    {
     "name": "stdout",
     "output_type": "stream",
     "text": [
      "4995:\tlearn: 0.0028214\ttotal: 1m 40s\tremaining: 80.8ms\n",
      "4999:\tlearn: 0.0028179\ttotal: 1m 40s\tremaining: 0us\n",
      "fold Loss 19:  0.10843318369811744\n",
      "---------------------------------------------------------------------------\n",
      "Training Loss: 0.008007763765349576\n",
      "Loss for sulfide:\n",
      "0.06204412086515151 0.04895787022097398\n",
      "==================================================================================================\n",
      "AGG Loss: [0.13495215 0.09446428 0.14257785 0.20373867 0.0161171  0.12598981\n",
      " 0.19941611 0.17067399 0.16221333 0.06204412]\n",
      "AGG Loss mean: 0.13121874205495992\n"
     ]
    },
    {
     "name": "stderr",
     "output_type": "stream",
     "text": [
      "\n"
     ]
    }
   ],
   "source": [
    "agg_loss = []\n",
    "for target in targets.columns:\n",
    "    print('TARGET ',target)\n",
    "    imp_fts = {}\n",
    "    \n",
    "    #  get all imp coefs for the target\n",
    "    t_100_coefs = get_coefs(t_100,targets[target],5)\n",
    "    g_100_coefs = get_coefs(g_100,targets[target],5)\n",
    "    m_100_coefs = get_coefs(m_100,targets[target],10)\n",
    "    o_100_coefs = get_coefs(train_set_100,targets[target],10)\n",
    "    \n",
    "    imp_fts['o_100_coefs'] = o_100_coefs\n",
    "    imp_fts['t_100_coefs'] = t_100_coefs\n",
    "    imp_fts['g_100_coefs'] = g_100_coefs\n",
    "    imp_fts['m_100_coefs'] = m_100_coefs\n",
    "\n",
    "    # get all imp_dfs and concat them\n",
    "    train_imp_ = train_set_100.iloc[:,o_100_coefs]\n",
    "    t_100_imp_ = t_100.iloc[:,t_100_coefs]\n",
    "    g_100_imp_ = g_100.iloc[:,g_100_coefs]\n",
    "    m_100_imp_ = m_100.iloc[:,m_100_coefs]\n",
    "\n",
    "    print(train_imp_.shape,t_100_imp_.shape,g_100_imp_.shape,m_100_imp_.shape)\n",
    "    X = pd.concat([train_imp_,t_100_imp_,g_100_imp_,m_100_imp_],axis=1)\n",
    "    print(X.shape)\n",
    "\n",
    "    # same goes for test set\n",
    "    test_imp_ = test_set_100.iloc[:,o_100_coefs]\n",
    "    t_100_imp_test = t_100_test.iloc[:,t_100_coefs]\n",
    "    g_100_imp_test = g_100_test.iloc[:,g_100_coefs]\n",
    "    m_100_imp_test = m_100_test.iloc[:,m_100_coefs]\n",
    "\n",
    "    print(test_imp_.shape,t_100_imp_test.shape,g_100_imp_test.shape,m_100_imp_test.shape)\n",
    "    \n",
    "    X_test = pd.concat([test_imp_, t_100_imp_test, g_100_imp_test, m_100_imp_test],axis=1)\n",
    "    print(X_test.shape)\n",
    "    \n",
    "    #  add feature\n",
    "    X['is_sam'] = 0\n",
    "    X.loc[sam_id[:12],'is_sam'] = 1\n",
    "    X_test['is_sam'] = 0\n",
    "    X_test.loc[sam_id[12:],'is_sam'] = 1\n",
    "    \n",
    "    \n",
    "    assert (X.columns == X_test.columns).all()\n",
    "\n",
    "    oof_train = np.zeros((ntrain,))\n",
    "    oof_test = np.zeros((ntest,))\n",
    "    oof_test_skf = np.empty((NFOLDS, ntest))\n",
    "    \n",
    "    Y = targets[target]\n",
    "\n",
    "    cb_clf = CatBoostClassifier(verbose=999,random_seed=RANDOM_SEED,n_estimators=5000)\n",
    "    cv_loss = []\n",
    "    for fold, (train_id, test_id) in enumerate(tqdm(skf.split(X,Y))):\n",
    "\n",
    "        X_train, Y_train = X.iloc[train_id,], Y.iloc[train_id,]\n",
    "        X_val, Y_val = X.iloc[test_id,], Y.iloc[test_id,]\n",
    "        #  ohh man unwanted semi colon in iloc throws an error...\n",
    "        \n",
    "        # train model  and pred on oof folds\n",
    "        cb_clf.fit(X_train.values,Y_train)\n",
    "        y_preds = cb_clf.predict_proba(X_val.values)[:,1]\n",
    "        fold_loss = log_loss(Y_val,y_preds)\n",
    "        print(f'fold Loss {fold}: ',fold_loss)\n",
    "        cv_loss.append(fold_loss)\n",
    "\n",
    "        oof_train[test_id] = y_preds\n",
    "        oof_test_skf[fold,:] = cb_clf.predict_proba(X_test.values)[:,1]\n",
    "        \n",
    "        print(\"---------------------------------------------------------------------------\")\n",
    "        \n",
    "    print('Training Loss:', log_loss(Y,cb_clf.predict_proba(X.values)[:,1]))\n",
    "    \n",
    "    oof_test[:] = oof_test_skf.mean(axis=0)\n",
    "    oof_test_df[target] = oof_test\n",
    "    oof_train_df[target] = oof_train\n",
    "\n",
    "    print(f'Loss for {target}:')\n",
    "    print(np.array(cv_loss).mean(),np.array(cv_loss).std())\n",
    "    agg_loss.append(np.array(cv_loss).mean())\n",
    "    print(\"==================================================================================================\")\n",
    "\n",
    "print('AGG Loss:',np.array(agg_loss))\n",
    "print('AGG Loss mean:',np.array(agg_loss).mean())"
   ]
  },
  {
   "cell_type": "code",
   "execution_count": 29,
   "id": "a3c9ef4c",
   "metadata": {
    "execution": {
     "iopub.execute_input": "2022-04-18T11:11:53.559709Z",
     "iopub.status.busy": "2022-04-18T11:11:53.559020Z",
     "iopub.status.idle": "2022-04-18T11:11:53.561672Z",
     "shell.execute_reply": "2022-04-18T11:11:53.562199Z",
     "shell.execute_reply.started": "2022-04-10T12:42:32.882106Z"
    },
    "papermill": {
     "duration": 0.496883,
     "end_time": "2022-04-18T11:11:53.562388",
     "exception": false,
     "start_time": "2022-04-18T11:11:53.065505",
     "status": "completed"
    },
    "tags": []
   },
   "outputs": [
    {
     "name": "stdout",
     "output_type": "stream",
     "text": [
      "0.13121874205495992\n"
     ]
    }
   ],
   "source": [
    "print(np.array(agg_loss).mean())"
   ]
  },
  {
   "cell_type": "code",
   "execution_count": 30,
   "id": "6d2d986b",
   "metadata": {
    "execution": {
     "iopub.execute_input": "2022-04-18T11:11:54.538332Z",
     "iopub.status.busy": "2022-04-18T11:11:54.537758Z",
     "iopub.status.idle": "2022-04-18T11:11:54.542622Z",
     "shell.execute_reply": "2022-04-18T11:11:54.542173Z",
     "shell.execute_reply.started": "2022-04-10T12:53:38.204095Z"
    },
    "papermill": {
     "duration": 0.491694,
     "end_time": "2022-04-18T11:11:54.542779",
     "exception": false,
     "start_time": "2022-04-18T11:11:54.051085",
     "status": "completed"
    },
    "tags": []
   },
   "outputs": [],
   "source": [
    "test_preds = oof_test_df.iloc[:293]\n",
    "train_preds = oof_train_df.iloc[766:]"
   ]
  },
  {
   "cell_type": "code",
   "execution_count": 31,
   "id": "46e49e40",
   "metadata": {
    "execution": {
     "iopub.execute_input": "2022-04-18T11:11:55.517423Z",
     "iopub.status.busy": "2022-04-18T11:11:55.516809Z",
     "iopub.status.idle": "2022-04-18T11:11:55.562143Z",
     "shell.execute_reply": "2022-04-18T11:11:55.562606Z",
     "shell.execute_reply.started": "2022-04-10T12:53:39.859435Z"
    },
    "papermill": {
     "duration": 0.537737,
     "end_time": "2022-04-18T11:11:55.562772",
     "exception": false,
     "start_time": "2022-04-18T11:11:55.025035",
     "status": "completed"
    },
    "tags": []
   },
   "outputs": [
    {
     "data": {
      "text/html": [
       "<div>\n",
       "<style scoped>\n",
       "    .dataframe tbody tr th:only-of-type {\n",
       "        vertical-align: middle;\n",
       "    }\n",
       "\n",
       "    .dataframe tbody tr th {\n",
       "        vertical-align: top;\n",
       "    }\n",
       "\n",
       "    .dataframe thead th {\n",
       "        text-align: right;\n",
       "    }\n",
       "</style>\n",
       "<table border=\"1\" class=\"dataframe\">\n",
       "  <thead>\n",
       "    <tr style=\"text-align: right;\">\n",
       "      <th></th>\n",
       "      <th>sample_id</th>\n",
       "      <th>basalt</th>\n",
       "      <th>carbonate</th>\n",
       "      <th>chloride</th>\n",
       "      <th>iron_oxide</th>\n",
       "      <th>oxalate</th>\n",
       "      <th>oxychlorine</th>\n",
       "      <th>phyllosilicate</th>\n",
       "      <th>silicate</th>\n",
       "      <th>sulfate</th>\n",
       "      <th>sulfide</th>\n",
       "    </tr>\n",
       "  </thead>\n",
       "  <tbody>\n",
       "    <tr>\n",
       "      <th>766</th>\n",
       "      <td>NaN</td>\n",
       "      <td>0.003186</td>\n",
       "      <td>0.001625</td>\n",
       "      <td>0.015222</td>\n",
       "      <td>0.008021</td>\n",
       "      <td>0.000124</td>\n",
       "      <td>0.005014</td>\n",
       "      <td>0.015674</td>\n",
       "      <td>0.065599</td>\n",
       "      <td>0.005056</td>\n",
       "      <td>0.000514</td>\n",
       "    </tr>\n",
       "    <tr>\n",
       "      <th>767</th>\n",
       "      <td>NaN</td>\n",
       "      <td>0.037774</td>\n",
       "      <td>0.006636</td>\n",
       "      <td>0.002606</td>\n",
       "      <td>0.017867</td>\n",
       "      <td>0.000051</td>\n",
       "      <td>0.004702</td>\n",
       "      <td>0.008337</td>\n",
       "      <td>0.090751</td>\n",
       "      <td>0.017376</td>\n",
       "      <td>0.000845</td>\n",
       "    </tr>\n",
       "    <tr>\n",
       "      <th>768</th>\n",
       "      <td>NaN</td>\n",
       "      <td>0.865090</td>\n",
       "      <td>0.087814</td>\n",
       "      <td>0.001996</td>\n",
       "      <td>0.032132</td>\n",
       "      <td>0.000345</td>\n",
       "      <td>0.005858</td>\n",
       "      <td>0.832951</td>\n",
       "      <td>0.911689</td>\n",
       "      <td>0.026030</td>\n",
       "      <td>0.000539</td>\n",
       "    </tr>\n",
       "    <tr>\n",
       "      <th>769</th>\n",
       "      <td>NaN</td>\n",
       "      <td>0.012766</td>\n",
       "      <td>0.004569</td>\n",
       "      <td>0.029337</td>\n",
       "      <td>0.018317</td>\n",
       "      <td>0.000063</td>\n",
       "      <td>0.978758</td>\n",
       "      <td>0.020006</td>\n",
       "      <td>0.003073</td>\n",
       "      <td>0.964654</td>\n",
       "      <td>0.000490</td>\n",
       "    </tr>\n",
       "    <tr>\n",
       "      <th>770</th>\n",
       "      <td>NaN</td>\n",
       "      <td>0.007582</td>\n",
       "      <td>0.004777</td>\n",
       "      <td>0.014956</td>\n",
       "      <td>0.652107</td>\n",
       "      <td>0.000088</td>\n",
       "      <td>0.996643</td>\n",
       "      <td>0.908900</td>\n",
       "      <td>0.003113</td>\n",
       "      <td>0.007083</td>\n",
       "      <td>0.000210</td>\n",
       "    </tr>\n",
       "    <tr>\n",
       "      <th>...</th>\n",
       "      <td>...</td>\n",
       "      <td>...</td>\n",
       "      <td>...</td>\n",
       "      <td>...</td>\n",
       "      <td>...</td>\n",
       "      <td>...</td>\n",
       "      <td>...</td>\n",
       "      <td>...</td>\n",
       "      <td>...</td>\n",
       "      <td>...</td>\n",
       "      <td>...</td>\n",
       "    </tr>\n",
       "    <tr>\n",
       "      <th>1054</th>\n",
       "      <td>NaN</td>\n",
       "      <td>0.005788</td>\n",
       "      <td>0.001495</td>\n",
       "      <td>0.027285</td>\n",
       "      <td>0.008847</td>\n",
       "      <td>0.000053</td>\n",
       "      <td>0.002864</td>\n",
       "      <td>0.008892</td>\n",
       "      <td>0.040025</td>\n",
       "      <td>0.006405</td>\n",
       "      <td>0.000266</td>\n",
       "    </tr>\n",
       "    <tr>\n",
       "      <th>1055</th>\n",
       "      <td>NaN</td>\n",
       "      <td>0.005286</td>\n",
       "      <td>0.007400</td>\n",
       "      <td>0.010726</td>\n",
       "      <td>0.045013</td>\n",
       "      <td>0.000462</td>\n",
       "      <td>0.013761</td>\n",
       "      <td>0.009130</td>\n",
       "      <td>0.886591</td>\n",
       "      <td>0.002406</td>\n",
       "      <td>0.000673</td>\n",
       "    </tr>\n",
       "    <tr>\n",
       "      <th>1056</th>\n",
       "      <td>NaN</td>\n",
       "      <td>0.004528</td>\n",
       "      <td>0.008052</td>\n",
       "      <td>0.002721</td>\n",
       "      <td>0.014975</td>\n",
       "      <td>0.998319</td>\n",
       "      <td>0.001675</td>\n",
       "      <td>0.005471</td>\n",
       "      <td>0.002367</td>\n",
       "      <td>0.003441</td>\n",
       "      <td>0.000325</td>\n",
       "    </tr>\n",
       "    <tr>\n",
       "      <th>1057</th>\n",
       "      <td>NaN</td>\n",
       "      <td>0.006730</td>\n",
       "      <td>0.934666</td>\n",
       "      <td>0.009120</td>\n",
       "      <td>0.047257</td>\n",
       "      <td>0.000416</td>\n",
       "      <td>0.004547</td>\n",
       "      <td>0.036154</td>\n",
       "      <td>0.009892</td>\n",
       "      <td>0.003446</td>\n",
       "      <td>0.000431</td>\n",
       "    </tr>\n",
       "    <tr>\n",
       "      <th>1058</th>\n",
       "      <td>NaN</td>\n",
       "      <td>0.006636</td>\n",
       "      <td>0.005525</td>\n",
       "      <td>0.005967</td>\n",
       "      <td>0.017545</td>\n",
       "      <td>0.000060</td>\n",
       "      <td>0.002673</td>\n",
       "      <td>0.971639</td>\n",
       "      <td>0.011542</td>\n",
       "      <td>0.001812</td>\n",
       "      <td>0.000413</td>\n",
       "    </tr>\n",
       "  </tbody>\n",
       "</table>\n",
       "<p>293 rows × 11 columns</p>\n",
       "</div>"
      ],
      "text/plain": [
       "     sample_id    basalt  carbonate  chloride  iron_oxide   oxalate  \\\n",
       "766        NaN  0.003186   0.001625  0.015222    0.008021  0.000124   \n",
       "767        NaN  0.037774   0.006636  0.002606    0.017867  0.000051   \n",
       "768        NaN  0.865090   0.087814  0.001996    0.032132  0.000345   \n",
       "769        NaN  0.012766   0.004569  0.029337    0.018317  0.000063   \n",
       "770        NaN  0.007582   0.004777  0.014956    0.652107  0.000088   \n",
       "...        ...       ...        ...       ...         ...       ...   \n",
       "1054       NaN  0.005788   0.001495  0.027285    0.008847  0.000053   \n",
       "1055       NaN  0.005286   0.007400  0.010726    0.045013  0.000462   \n",
       "1056       NaN  0.004528   0.008052  0.002721    0.014975  0.998319   \n",
       "1057       NaN  0.006730   0.934666  0.009120    0.047257  0.000416   \n",
       "1058       NaN  0.006636   0.005525  0.005967    0.017545  0.000060   \n",
       "\n",
       "      oxychlorine  phyllosilicate  silicate   sulfate   sulfide  \n",
       "766      0.005014        0.015674  0.065599  0.005056  0.000514  \n",
       "767      0.004702        0.008337  0.090751  0.017376  0.000845  \n",
       "768      0.005858        0.832951  0.911689  0.026030  0.000539  \n",
       "769      0.978758        0.020006  0.003073  0.964654  0.000490  \n",
       "770      0.996643        0.908900  0.003113  0.007083  0.000210  \n",
       "...           ...             ...       ...       ...       ...  \n",
       "1054     0.002864        0.008892  0.040025  0.006405  0.000266  \n",
       "1055     0.013761        0.009130  0.886591  0.002406  0.000673  \n",
       "1056     0.001675        0.005471  0.002367  0.003441  0.000325  \n",
       "1057     0.004547        0.036154  0.009892  0.003446  0.000431  \n",
       "1058     0.002673        0.971639  0.011542  0.001812  0.000413  \n",
       "\n",
       "[293 rows x 11 columns]"
      ]
     },
     "metadata": {},
     "output_type": "display_data"
    },
    {
     "data": {
      "text/html": [
       "<div>\n",
       "<style scoped>\n",
       "    .dataframe tbody tr th:only-of-type {\n",
       "        vertical-align: middle;\n",
       "    }\n",
       "\n",
       "    .dataframe tbody tr th {\n",
       "        vertical-align: top;\n",
       "    }\n",
       "\n",
       "    .dataframe thead th {\n",
       "        text-align: right;\n",
       "    }\n",
       "</style>\n",
       "<table border=\"1\" class=\"dataframe\">\n",
       "  <thead>\n",
       "    <tr style=\"text-align: right;\">\n",
       "      <th></th>\n",
       "      <th>sample_id</th>\n",
       "      <th>basalt</th>\n",
       "      <th>carbonate</th>\n",
       "      <th>chloride</th>\n",
       "      <th>iron_oxide</th>\n",
       "      <th>oxalate</th>\n",
       "      <th>oxychlorine</th>\n",
       "      <th>phyllosilicate</th>\n",
       "      <th>silicate</th>\n",
       "      <th>sulfate</th>\n",
       "      <th>sulfide</th>\n",
       "    </tr>\n",
       "  </thead>\n",
       "  <tbody>\n",
       "    <tr>\n",
       "      <th>766</th>\n",
       "      <td>NaN</td>\n",
       "      <td>0.003895</td>\n",
       "      <td>0.001882</td>\n",
       "      <td>0.020722</td>\n",
       "      <td>0.009742</td>\n",
       "      <td>0.000130</td>\n",
       "      <td>0.006481</td>\n",
       "      <td>0.020051</td>\n",
       "      <td>0.210322</td>\n",
       "      <td>0.005038</td>\n",
       "      <td>0.000530</td>\n",
       "    </tr>\n",
       "    <tr>\n",
       "      <th>767</th>\n",
       "      <td>NaN</td>\n",
       "      <td>0.084150</td>\n",
       "      <td>0.002395</td>\n",
       "      <td>0.003134</td>\n",
       "      <td>0.021694</td>\n",
       "      <td>0.000058</td>\n",
       "      <td>0.006166</td>\n",
       "      <td>0.014417</td>\n",
       "      <td>0.404384</td>\n",
       "      <td>0.025376</td>\n",
       "      <td>0.000896</td>\n",
       "    </tr>\n",
       "    <tr>\n",
       "      <th>768</th>\n",
       "      <td>NaN</td>\n",
       "      <td>0.426356</td>\n",
       "      <td>0.679323</td>\n",
       "      <td>0.002594</td>\n",
       "      <td>0.078947</td>\n",
       "      <td>0.000428</td>\n",
       "      <td>0.007233</td>\n",
       "      <td>0.511968</td>\n",
       "      <td>0.776514</td>\n",
       "      <td>0.076091</td>\n",
       "      <td>0.000559</td>\n",
       "    </tr>\n",
       "    <tr>\n",
       "      <th>769</th>\n",
       "      <td>NaN</td>\n",
       "      <td>0.029244</td>\n",
       "      <td>0.004944</td>\n",
       "      <td>0.069207</td>\n",
       "      <td>0.023138</td>\n",
       "      <td>0.000053</td>\n",
       "      <td>0.944690</td>\n",
       "      <td>0.026789</td>\n",
       "      <td>0.003711</td>\n",
       "      <td>0.909956</td>\n",
       "      <td>0.000304</td>\n",
       "    </tr>\n",
       "    <tr>\n",
       "      <th>770</th>\n",
       "      <td>NaN</td>\n",
       "      <td>0.006368</td>\n",
       "      <td>0.006655</td>\n",
       "      <td>0.016030</td>\n",
       "      <td>0.108176</td>\n",
       "      <td>0.000069</td>\n",
       "      <td>0.996197</td>\n",
       "      <td>0.816712</td>\n",
       "      <td>0.003622</td>\n",
       "      <td>0.009334</td>\n",
       "      <td>0.000186</td>\n",
       "    </tr>\n",
       "    <tr>\n",
       "      <th>...</th>\n",
       "      <td>...</td>\n",
       "      <td>...</td>\n",
       "      <td>...</td>\n",
       "      <td>...</td>\n",
       "      <td>...</td>\n",
       "      <td>...</td>\n",
       "      <td>...</td>\n",
       "      <td>...</td>\n",
       "      <td>...</td>\n",
       "      <td>...</td>\n",
       "      <td>...</td>\n",
       "    </tr>\n",
       "    <tr>\n",
       "      <th>1054</th>\n",
       "      <td>NaN</td>\n",
       "      <td>0.009151</td>\n",
       "      <td>0.001031</td>\n",
       "      <td>0.031883</td>\n",
       "      <td>0.009630</td>\n",
       "      <td>0.000057</td>\n",
       "      <td>0.003039</td>\n",
       "      <td>0.010715</td>\n",
       "      <td>0.095364</td>\n",
       "      <td>0.009364</td>\n",
       "      <td>0.000266</td>\n",
       "    </tr>\n",
       "    <tr>\n",
       "      <th>1055</th>\n",
       "      <td>NaN</td>\n",
       "      <td>0.006603</td>\n",
       "      <td>0.009023</td>\n",
       "      <td>0.011007</td>\n",
       "      <td>0.058269</td>\n",
       "      <td>0.000334</td>\n",
       "      <td>0.032713</td>\n",
       "      <td>0.010479</td>\n",
       "      <td>0.340599</td>\n",
       "      <td>0.002523</td>\n",
       "      <td>0.000635</td>\n",
       "    </tr>\n",
       "    <tr>\n",
       "      <th>1056</th>\n",
       "      <td>NaN</td>\n",
       "      <td>0.005993</td>\n",
       "      <td>0.011765</td>\n",
       "      <td>0.003159</td>\n",
       "      <td>0.015971</td>\n",
       "      <td>0.998135</td>\n",
       "      <td>0.001861</td>\n",
       "      <td>0.005486</td>\n",
       "      <td>0.002478</td>\n",
       "      <td>0.004251</td>\n",
       "      <td>0.000361</td>\n",
       "    </tr>\n",
       "    <tr>\n",
       "      <th>1057</th>\n",
       "      <td>NaN</td>\n",
       "      <td>0.010016</td>\n",
       "      <td>0.839258</td>\n",
       "      <td>0.010415</td>\n",
       "      <td>0.092333</td>\n",
       "      <td>0.000173</td>\n",
       "      <td>0.009322</td>\n",
       "      <td>0.053916</td>\n",
       "      <td>0.010333</td>\n",
       "      <td>0.004854</td>\n",
       "      <td>0.000754</td>\n",
       "    </tr>\n",
       "    <tr>\n",
       "      <th>1058</th>\n",
       "      <td>NaN</td>\n",
       "      <td>0.007965</td>\n",
       "      <td>0.005745</td>\n",
       "      <td>0.005985</td>\n",
       "      <td>0.018651</td>\n",
       "      <td>0.000066</td>\n",
       "      <td>0.002497</td>\n",
       "      <td>0.967970</td>\n",
       "      <td>0.012373</td>\n",
       "      <td>0.001941</td>\n",
       "      <td>0.000529</td>\n",
       "    </tr>\n",
       "  </tbody>\n",
       "</table>\n",
       "<p>293 rows × 11 columns</p>\n",
       "</div>"
      ],
      "text/plain": [
       "     sample_id    basalt  carbonate  chloride  iron_oxide   oxalate  \\\n",
       "766        NaN  0.003895   0.001882  0.020722    0.009742  0.000130   \n",
       "767        NaN  0.084150   0.002395  0.003134    0.021694  0.000058   \n",
       "768        NaN  0.426356   0.679323  0.002594    0.078947  0.000428   \n",
       "769        NaN  0.029244   0.004944  0.069207    0.023138  0.000053   \n",
       "770        NaN  0.006368   0.006655  0.016030    0.108176  0.000069   \n",
       "...        ...       ...        ...       ...         ...       ...   \n",
       "1054       NaN  0.009151   0.001031  0.031883    0.009630  0.000057   \n",
       "1055       NaN  0.006603   0.009023  0.011007    0.058269  0.000334   \n",
       "1056       NaN  0.005993   0.011765  0.003159    0.015971  0.998135   \n",
       "1057       NaN  0.010016   0.839258  0.010415    0.092333  0.000173   \n",
       "1058       NaN  0.007965   0.005745  0.005985    0.018651  0.000066   \n",
       "\n",
       "      oxychlorine  phyllosilicate  silicate   sulfate   sulfide  \n",
       "766      0.006481        0.020051  0.210322  0.005038  0.000530  \n",
       "767      0.006166        0.014417  0.404384  0.025376  0.000896  \n",
       "768      0.007233        0.511968  0.776514  0.076091  0.000559  \n",
       "769      0.944690        0.026789  0.003711  0.909956  0.000304  \n",
       "770      0.996197        0.816712  0.003622  0.009334  0.000186  \n",
       "...           ...             ...       ...       ...       ...  \n",
       "1054     0.003039        0.010715  0.095364  0.009364  0.000266  \n",
       "1055     0.032713        0.010479  0.340599  0.002523  0.000635  \n",
       "1056     0.001861        0.005486  0.002478  0.004251  0.000361  \n",
       "1057     0.009322        0.053916  0.010333  0.004854  0.000754  \n",
       "1058     0.002497        0.967970  0.012373  0.001941  0.000529  \n",
       "\n",
       "[293 rows x 11 columns]"
      ]
     },
     "metadata": {},
     "output_type": "display_data"
    }
   ],
   "source": [
    "display(test_preds)\n",
    "display(train_preds)"
   ]
  },
  {
   "cell_type": "code",
   "execution_count": 32,
   "id": "d700a99e",
   "metadata": {
    "execution": {
     "iopub.execute_input": "2022-04-18T11:11:56.538914Z",
     "iopub.status.busy": "2022-04-18T11:11:56.538309Z",
     "iopub.status.idle": "2022-04-18T11:11:56.558052Z",
     "shell.execute_reply": "2022-04-18T11:11:56.558470Z",
     "shell.execute_reply.started": "2022-04-10T12:54:19.41027Z"
    },
    "papermill": {
     "duration": 0.508989,
     "end_time": "2022-04-18T11:11:56.558660",
     "exception": false,
     "start_time": "2022-04-18T11:11:56.049671",
     "status": "completed"
    },
    "tags": []
   },
   "outputs": [
    {
     "name": "stdout",
     "output_type": "stream",
     "text": [
      "basalt 0.13464996912904922\n",
      "carbonate 0.0939746088848205\n",
      "chloride 0.16129026907794142\n",
      "iron_oxide 0.24873268525319875\n",
      "oxalate 0.0018173834077362665\n",
      "oxychlorine 0.12084660355807933\n",
      "phyllosilicate 0.18583324741670673\n",
      "silicate 0.1563923826136839\n",
      "sulfate 0.1825180699474463\n",
      "sulfide 0.05936032511676919\n",
      "0.13454155444054314\n"
     ]
    }
   ],
   "source": [
    "agg_loss_train = []\n",
    "for tar in targets.columns:\n",
    "    loss = log_loss(val_labels[tar],train_preds[tar])\n",
    "    print(tar, loss)\n",
    "    agg_loss_train.append(loss)\n",
    "print(np.array(agg_loss_train).mean())"
   ]
  },
  {
   "cell_type": "code",
   "execution_count": 33,
   "id": "b520023a",
   "metadata": {
    "execution": {
     "iopub.execute_input": "2022-04-18T11:11:57.536915Z",
     "iopub.status.busy": "2022-04-18T11:11:57.536120Z",
     "iopub.status.idle": "2022-04-18T11:11:57.552171Z",
     "shell.execute_reply": "2022-04-18T11:11:57.552824Z",
     "shell.execute_reply.started": "2022-04-10T12:55:27.164665Z"
    },
    "papermill": {
     "duration": 0.506995,
     "end_time": "2022-04-18T11:11:57.553019",
     "exception": false,
     "start_time": "2022-04-18T11:11:57.046024",
     "status": "completed"
    },
    "tags": []
   },
   "outputs": [
    {
     "name": "stdout",
     "output_type": "stream",
     "text": [
      "basalt 0.024580764258541953\n",
      "carbonate 0.015507957426618818\n",
      "chloride 0.028970826373948207\n",
      "iron_oxide 0.05864606881885235\n",
      "oxalate 0.0005551691631746356\n",
      "oxychlorine 0.018628899102664305\n",
      "phyllosilicate 0.046999470365294796\n",
      "silicate 0.032027387897061\n",
      "sulfate 0.026228106651201673\n",
      "sulfide 0.004162762999363194\n",
      "0.025630741305672094\n"
     ]
    }
   ],
   "source": [
    "agg_loss_test = []\n",
    "for tar in targets.columns:\n",
    "    loss = log_loss(val_labels[tar],test_preds[tar])\n",
    "    print(tar, loss)\n",
    "    agg_loss_test.append(loss)\n",
    "print(np.array(agg_loss_test).mean())"
   ]
  },
  {
   "cell_type": "code",
   "execution_count": 34,
   "id": "fb024325",
   "metadata": {
    "execution": {
     "iopub.execute_input": "2022-04-18T11:11:58.548823Z",
     "iopub.status.busy": "2022-04-18T11:11:58.540685Z",
     "iopub.status.idle": "2022-04-18T11:11:58.551718Z",
     "shell.execute_reply": "2022-04-18T11:11:58.551072Z",
     "shell.execute_reply.started": "2022-04-10T12:55:36.984829Z"
    },
    "papermill": {
     "duration": 0.49755,
     "end_time": "2022-04-18T11:11:58.551869",
     "exception": false,
     "start_time": "2022-04-18T11:11:58.054319",
     "status": "completed"
    },
    "tags": []
   },
   "outputs": [],
   "source": [
    "oof_test_df.sample_id = metadata[metadata.split != 'train'].sample_id\n",
    "oof_train_df.sample_id = metadata[metadata.split != 'test'].sample_id"
   ]
  },
  {
   "cell_type": "code",
   "execution_count": 35,
   "id": "8aa8b437",
   "metadata": {
    "execution": {
     "iopub.execute_input": "2022-04-18T11:11:59.528000Z",
     "iopub.status.busy": "2022-04-18T11:11:59.527352Z",
     "iopub.status.idle": "2022-04-18T11:11:59.567231Z",
     "shell.execute_reply": "2022-04-18T11:11:59.567756Z",
     "shell.execute_reply.started": "2022-04-10T12:55:53.300665Z"
    },
    "papermill": {
     "duration": 0.529265,
     "end_time": "2022-04-18T11:11:59.567926",
     "exception": false,
     "start_time": "2022-04-18T11:11:59.038661",
     "status": "completed"
    },
    "tags": []
   },
   "outputs": [],
   "source": [
    "oof_train_df.to_csv(oof_train_path, index=False)\n",
    "oof_test_df.to_csv(oof_test_path, index=False)"
   ]
  },
  {
   "cell_type": "code",
   "execution_count": null,
   "id": "235ec8a1",
   "metadata": {
    "papermill": {
     "duration": 0.485617,
     "end_time": "2022-04-18T11:12:00.539749",
     "exception": false,
     "start_time": "2022-04-18T11:12:00.054132",
     "status": "completed"
    },
    "tags": []
   },
   "outputs": [],
   "source": []
  }
 ],
 "metadata": {
  "kernelspec": {
   "display_name": "Python 3",
   "language": "python",
   "name": "python3"
  },
  "language_info": {
   "codemirror_mode": {
    "name": "ipython",
    "version": 3
   },
   "file_extension": ".py",
   "mimetype": "text/x-python",
   "name": "python",
   "nbconvert_exporter": "python",
   "pygments_lexer": "ipython3",
   "version": "3.7.12"
  },
  "papermill": {
   "default_parameters": {},
   "duration": 27757.005358,
   "end_time": "2022-04-18T11:12:02.576141",
   "environment_variables": {},
   "exception": null,
   "input_path": "__notebook__.ipynb",
   "output_path": "__notebook__.ipynb",
   "parameters": {},
   "start_time": "2022-04-18T03:29:25.570783",
   "version": "2.3.3"
  }
 },
 "nbformat": 4,
 "nbformat_minor": 5
}
