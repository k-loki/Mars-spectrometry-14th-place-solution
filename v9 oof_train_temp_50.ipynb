{
 "cells": [
  {
   "cell_type": "code",
   "execution_count": 3,
   "id": "6f3e279e",
   "metadata": {
    "execution": {
     "iopub.execute_input": "2022-04-18T02:48:39.269465Z",
     "iopub.status.busy": "2022-04-18T02:48:39.268789Z",
     "iopub.status.idle": "2022-04-18T02:48:42.764360Z",
     "shell.execute_reply": "2022-04-18T02:48:42.763662Z",
     "shell.execute_reply.started": "2022-04-17T20:04:33.827434Z"
    },
    "papermill": {
     "duration": 3.533365,
     "end_time": "2022-04-18T02:48:42.764512",
     "exception": false,
     "start_time": "2022-04-18T02:48:39.231147",
     "status": "completed"
    },
    "tags": []
   },
   "outputs": [
    {
     "data": {
      "text/html": [
       "<style type='text/css'>\n",
       ".datatable table.frame { margin-bottom: 0; }\n",
       ".datatable table.frame thead { border-bottom: none; }\n",
       ".datatable table.frame tr.coltypes td {  color: #FFFFFF;  line-height: 6px;  padding: 0 0.5em;}\n",
       ".datatable .bool    { background: #DDDD99; }\n",
       ".datatable .object  { background: #565656; }\n",
       ".datatable .int     { background: #5D9E5D; }\n",
       ".datatable .float   { background: #4040CC; }\n",
       ".datatable .str     { background: #CC4040; }\n",
       ".datatable .time    { background: #40CC40; }\n",
       ".datatable .row_index {  background: var(--jp-border-color3);  border-right: 1px solid var(--jp-border-color0);  color: var(--jp-ui-font-color3);  font-size: 9px;}\n",
       ".datatable .frame tbody td { text-align: left; }\n",
       ".datatable .frame tr.coltypes .row_index {  background: var(--jp-border-color0);}\n",
       ".datatable th:nth-child(2) { padding-left: 12px; }\n",
       ".datatable .hellipsis {  color: var(--jp-cell-editor-border-color);}\n",
       ".datatable .vellipsis {  background: var(--jp-layout-color0);  color: var(--jp-cell-editor-border-color);}\n",
       ".datatable .na {  color: var(--jp-cell-editor-border-color);  font-size: 80%;}\n",
       ".datatable .sp {  opacity: 0.25;}\n",
       ".datatable .footer { font-size: 9px; }\n",
       ".datatable .frame_dimensions {  background: var(--jp-border-color3);  border-top: 1px solid var(--jp-border-color0);  color: var(--jp-ui-font-color3);  display: inline-block;  opacity: 0.6;  padding: 1px 10px 1px 5px;}\n",
       "</style>\n"
      ],
      "text/plain": [
       "<IPython.core.display.HTML object>"
      ]
     },
     "metadata": {},
     "output_type": "display_data"
    }
   ],
   "source": [
    "import pandas as pd\n",
    "import pandas_profiling\n",
    "import numpy as np\n",
    "import matplotlib.pyplot as plt\n",
    "%matplotlib inline\n",
    "import seaborn as sns\n",
    "from tqdm import tqdm\n",
    "\n",
    "from sklearn.preprocessing import QuantileTransformer, PowerTransformer\n",
    "from sklearn.metrics import make_scorer, log_loss\n",
    "from sklearn.model_selection import StratifiedKFold, cross_val_score\n",
    "from sklearn.ensemble import HistGradientBoostingClassifier\n",
    "from sklearn.linear_model import LogisticRegression\n",
    "from sklearn.calibration import CalibratedClassifierCV, calibration_curve\n",
    "\n",
    "from catboost import CatBoostClassifier\n",
    "from xgboost import XGBClassifier\n",
    "from lightgbm import LGBMClassifier\n",
    "\n",
    "RANDOM_SEED = 777\n",
    "np.random.seed(RANDOM_SEED)\n",
    "np.random.SeedSequence(RANDOM_SEED)\n",
    "import warnings\n",
    "warnings.filterwarnings('ignore')\n",
    "import os\n",
    "os.environ['PYTHONHASHSEED'] = str(RANDOM_SEED)"
   ]
  },
  {
   "cell_type": "code",
   "execution_count": 4,
   "id": "c3c43315",
   "metadata": {
    "execution": {
     "iopub.execute_input": "2022-04-18T02:48:42.844950Z",
     "iopub.status.busy": "2022-04-18T02:48:42.844207Z",
     "iopub.status.idle": "2022-04-18T02:48:42.922791Z",
     "shell.execute_reply": "2022-04-18T02:48:42.922236Z",
     "shell.execute_reply.started": "2022-04-17T20:04:38.011624Z"
    },
    "papermill": {
     "duration": 0.120699,
     "end_time": "2022-04-18T02:48:42.923013",
     "exception": false,
     "start_time": "2022-04-18T02:48:42.802314",
     "status": "completed"
    },
    "tags": []
   },
   "outputs": [],
   "source": [
    "metadata = pd.read_csv('../input/is-this-crazy/metadata.csv')\n",
    "sup_metadata = pd.read_csv('../input/is-this-crazy/supplemental_metadata.csv')\n",
    "train_labels = pd.read_csv('../input/is-this-crazy/train_labels.csv', index_col=\"sample_id\")\n",
    "val_labels = pd.read_csv('../input/is-this-crazy/val_labels.csv',index_col='sample_id')\n",
    "# targets = pd.read_csv('targets.csv',index_col='sample_id')\n",
    "submission_format = pd.read_csv('../input/is-this-crazy/submission_format.csv')"
   ]
  },
  {
   "cell_type": "code",
   "execution_count": 5,
   "id": "5fddde63",
   "metadata": {
    "execution": {
     "iopub.execute_input": "2022-04-18T02:48:42.999774Z",
     "iopub.status.busy": "2022-04-18T02:48:42.998985Z",
     "iopub.status.idle": "2022-04-18T02:48:43.005013Z",
     "shell.execute_reply": "2022-04-18T02:48:43.005550Z",
     "shell.execute_reply.started": "2022-04-17T20:04:40.73729Z"
    },
    "papermill": {
     "duration": 0.045573,
     "end_time": "2022-04-18T02:48:43.005722",
     "exception": false,
     "start_time": "2022-04-18T02:48:42.960149",
     "status": "completed"
    },
    "tags": []
   },
   "outputs": [
    {
     "data": {
      "text/plain": [
       "(1059, 10)"
      ]
     },
     "execution_count": 5,
     "metadata": {},
     "output_type": "execute_result"
    }
   ],
   "source": [
    "targets = pd.concat([train_labels,val_labels],axis=0)\n",
    "targets.shape"
   ]
  },
  {
   "cell_type": "code",
   "execution_count": 6,
   "id": "767787a0",
   "metadata": {
    "execution": {
     "iopub.execute_input": "2022-04-18T02:48:43.085735Z",
     "iopub.status.busy": "2022-04-18T02:48:43.085017Z",
     "iopub.status.idle": "2022-04-18T02:48:43.093582Z",
     "shell.execute_reply": "2022-04-18T02:48:43.093032Z",
     "shell.execute_reply.started": "2022-04-17T20:18:55.508163Z"
    },
    "papermill": {
     "duration": 0.048792,
     "end_time": "2022-04-18T02:48:43.093722",
     "exception": false,
     "start_time": "2022-04-18T02:48:43.044930",
     "status": "completed"
    },
    "tags": []
   },
   "outputs": [],
   "source": [
    "sam_id = metadata[metadata.instrument_type == 'sam_testbed'].index"
   ]
  },
  {
   "cell_type": "code",
   "execution_count": 7,
   "id": "2fefacf2",
   "metadata": {
    "execution": {
     "iopub.execute_input": "2022-04-18T02:48:43.188680Z",
     "iopub.status.busy": "2022-04-18T02:48:43.187976Z",
     "iopub.status.idle": "2022-04-18T02:48:43.190562Z",
     "shell.execute_reply": "2022-04-18T02:48:43.190056Z"
    },
    "papermill": {
     "duration": 0.053717,
     "end_time": "2022-04-18T02:48:43.190705",
     "exception": false,
     "start_time": "2022-04-18T02:48:43.136988",
     "status": "completed"
    },
    "tags": []
   },
   "outputs": [],
   "source": [
    "# only change the data sets here...\n",
    "train_path = '../input/ms-gen-train-test-data/train_temp_50.csv'\n",
    "test_path =  '../input/ms-gen-train-test-data/test_temp_50.csv'\n",
    "val_path = '../input/ms-gen-train-test-data/val_temp_50.csv'"
   ]
  },
  {
   "cell_type": "code",
   "execution_count": 8,
   "id": "a52eee14",
   "metadata": {
    "execution": {
     "iopub.execute_input": "2022-04-18T02:48:43.269615Z",
     "iopub.status.busy": "2022-04-18T02:48:43.268902Z",
     "iopub.status.idle": "2022-04-18T02:48:43.271709Z",
     "shell.execute_reply": "2022-04-18T02:48:43.271169Z"
    },
    "papermill": {
     "duration": 0.044209,
     "end_time": "2022-04-18T02:48:43.271840",
     "exception": false,
     "start_time": "2022-04-18T02:48:43.227631",
     "status": "completed"
    },
    "tags": []
   },
   "outputs": [],
   "source": [
    "oof_train_path = 'oof_train_temp_50.csv'\n",
    "oof_test_path = 'oof_test_temp_50.csv'"
   ]
  },
  {
   "cell_type": "code",
   "execution_count": 9,
   "id": "08347585",
   "metadata": {
    "execution": {
     "iopub.execute_input": "2022-04-18T02:48:43.352601Z",
     "iopub.status.busy": "2022-04-18T02:48:43.351898Z",
     "iopub.status.idle": "2022-04-18T02:48:46.814161Z",
     "shell.execute_reply": "2022-04-18T02:48:46.814678Z",
     "shell.execute_reply.started": "2022-04-17T20:04:40.977339Z"
    },
    "papermill": {
     "duration": 3.506064,
     "end_time": "2022-04-18T02:48:46.814859",
     "exception": false,
     "start_time": "2022-04-18T02:48:43.308795",
     "status": "completed"
    },
    "tags": []
   },
   "outputs": [
    {
     "name": "stdout",
     "output_type": "stream",
     "text": [
      "CPU times: user 2.24 s, sys: 182 ms, total: 2.43 s\n",
      "Wall time: 3.46 s\n"
     ]
    }
   ],
   "source": [
    "%%time\n",
    "test_100 = pd.read_csv(test_path,index_col=0,header=[0,1])\n",
    "train_100 = pd.read_csv(train_path,index_col=0,header=[0,1])\n",
    "val_100 = pd.read_csv(val_path,index_col=0,header=[0,1])\n",
    "\n",
    "val_100.index = metadata[metadata.split == 'val'].sample_id\n",
    "\n",
    "val_100.sort_index(inplace=True,axis=1)\n",
    "test_100.sort_index(inplace=True,axis=1)\n",
    "train_100.sort_index(inplace=True,axis=1)"
   ]
  },
  {
   "cell_type": "code",
   "execution_count": 10,
   "id": "a0f8c91c",
   "metadata": {
    "execution": {
     "iopub.execute_input": "2022-04-18T02:48:46.894791Z",
     "iopub.status.busy": "2022-04-18T02:48:46.894132Z",
     "iopub.status.idle": "2022-04-18T02:48:46.896930Z",
     "shell.execute_reply": "2022-04-18T02:48:46.896461Z",
     "shell.execute_reply.started": "2022-04-17T20:04:45.29289Z"
    },
    "papermill": {
     "duration": 0.043819,
     "end_time": "2022-04-18T02:48:46.897070",
     "exception": false,
     "start_time": "2022-04-18T02:48:46.853251",
     "status": "completed"
    },
    "tags": []
   },
   "outputs": [],
   "source": [
    "# train_100.drop(columns=[('sample_id_encoded', 'Unnamed: 1601_level_1')],axis=1,inplace=True)"
   ]
  },
  {
   "cell_type": "code",
   "execution_count": 11,
   "id": "87442b60",
   "metadata": {
    "execution": {
     "iopub.execute_input": "2022-04-18T02:48:46.977034Z",
     "iopub.status.busy": "2022-04-18T02:48:46.976445Z",
     "iopub.status.idle": "2022-04-18T02:48:47.016934Z",
     "shell.execute_reply": "2022-04-18T02:48:47.016365Z",
     "shell.execute_reply.started": "2022-04-17T20:04:45.557946Z"
    },
    "papermill": {
     "duration": 0.082635,
     "end_time": "2022-04-18T02:48:47.017072",
     "exception": false,
     "start_time": "2022-04-18T02:48:46.934437",
     "status": "completed"
    },
    "tags": []
   },
   "outputs": [
    {
     "data": {
      "text/plain": [
       "((1059, 4000), (804, 4000))"
      ]
     },
     "execution_count": 11,
     "metadata": {},
     "output_type": "execute_result"
    }
   ],
   "source": [
    "train_set_100 = pd.concat([train_100,val_100],axis=0)\n",
    "test_set_100 = pd.concat([val_100,test_100],axis=0)\n",
    "train_set_100.shape, test_set_100.shape"
   ]
  },
  {
   "cell_type": "code",
   "execution_count": 12,
   "id": "c1ac464c",
   "metadata": {
    "execution": {
     "iopub.execute_input": "2022-04-18T02:48:47.097289Z",
     "iopub.status.busy": "2022-04-18T02:48:47.096629Z",
     "iopub.status.idle": "2022-04-18T02:48:47.099443Z",
     "shell.execute_reply": "2022-04-18T02:48:47.098938Z",
     "shell.execute_reply.started": "2022-04-17T20:05:02.932691Z"
    },
    "papermill": {
     "duration": 0.044798,
     "end_time": "2022-04-18T02:48:47.099579",
     "exception": false,
     "start_time": "2022-04-18T02:48:47.054781",
     "status": "completed"
    },
    "tags": []
   },
   "outputs": [],
   "source": [
    "skf = StratifiedKFold(n_splits=20,random_state=RANDOM_SEED,shuffle=True)\n",
    "log_loss_scorer = make_scorer(log_loss,needs_proba=True)"
   ]
  },
  {
   "cell_type": "code",
   "execution_count": 13,
   "id": "1be35dc6",
   "metadata": {
    "execution": {
     "iopub.execute_input": "2022-04-18T02:48:47.180660Z",
     "iopub.status.busy": "2022-04-18T02:48:47.179949Z",
     "iopub.status.idle": "2022-04-18T02:48:47.184917Z",
     "shell.execute_reply": "2022-04-18T02:48:47.185397Z",
     "shell.execute_reply.started": "2022-04-17T20:05:03.33246Z"
    },
    "papermill": {
     "duration": 0.048043,
     "end_time": "2022-04-18T02:48:47.185570",
     "exception": false,
     "start_time": "2022-04-18T02:48:47.137527",
     "status": "completed"
    },
    "tags": []
   },
   "outputs": [
    {
     "data": {
      "text/plain": [
       "LogisticRegression(C=10, penalty='l1', random_state=777, solver='liblinear')"
      ]
     },
     "execution_count": 13,
     "metadata": {},
     "output_type": "execute_result"
    }
   ],
   "source": [
    "phy = 'phyllosilicate'\n",
    "bas = 'basalt'\n",
    "lr = LogisticRegression(solver='liblinear',C=10,random_state=RANDOM_SEED,penalty='l1')\n",
    "lr"
   ]
  },
  {
   "cell_type": "code",
   "execution_count": 14,
   "id": "84160508",
   "metadata": {
    "execution": {
     "iopub.execute_input": "2022-04-18T02:48:47.268422Z",
     "iopub.status.busy": "2022-04-18T02:48:47.267707Z",
     "iopub.status.idle": "2022-04-18T02:48:47.270623Z",
     "shell.execute_reply": "2022-04-18T02:48:47.270110Z",
     "shell.execute_reply.started": "2022-04-17T20:05:12.678976Z"
    },
    "papermill": {
     "duration": 0.047295,
     "end_time": "2022-04-18T02:48:47.270756",
     "exception": false,
     "start_time": "2022-04-18T02:48:47.223461",
     "status": "completed"
    },
    "tags": []
   },
   "outputs": [],
   "source": [
    "def get_coefs(X,y,c):\n",
    "    lr = LogisticRegression(solver='liblinear',C=c,random_state=RANDOM_SEED,penalty='l1')\n",
    "    print(cross_val_score(lr,X,y,cv=skf,scoring=log_loss_scorer).mean())\n",
    "    lr.fit(X,y)\n",
    "    # print(log_loss(y,lr.predict_proba(X)))\n",
    "    coefs =  lr.coef_\n",
    "    coefs_list  = []\n",
    "    for id,wt in enumerate(tqdm(coefs[0])):\n",
    "        if wt != 0:\n",
    "            coefs_list.append(id)\n",
    "    print(len(coefs_list))\n",
    "    return coefs_list"
   ]
  },
  {
   "cell_type": "code",
   "execution_count": 15,
   "id": "204c09ce",
   "metadata": {
    "execution": {
     "iopub.execute_input": "2022-04-18T02:48:47.352496Z",
     "iopub.status.busy": "2022-04-18T02:48:47.351840Z",
     "iopub.status.idle": "2022-04-18T02:48:47.354857Z",
     "shell.execute_reply": "2022-04-18T02:48:47.354319Z",
     "shell.execute_reply.started": "2022-04-17T20:05:12.848008Z"
    },
    "papermill": {
     "duration": 0.04632,
     "end_time": "2022-04-18T02:48:47.354990",
     "exception": false,
     "start_time": "2022-04-18T02:48:47.308670",
     "status": "completed"
    },
    "tags": []
   },
   "outputs": [],
   "source": [
    "def get_mz(mz,df):\n",
    "    ''' returns list of columns for given mz'''\n",
    "    cols_list = []\n",
    "    for col in df.columns:\n",
    "        if col[0] == str(mz):\n",
    "            cols_list.append(col)\n",
    "    return cols_list"
   ]
  },
  {
   "cell_type": "code",
   "execution_count": 16,
   "id": "3bc976c2",
   "metadata": {
    "execution": {
     "iopub.execute_input": "2022-04-18T02:48:47.437828Z",
     "iopub.status.busy": "2022-04-18T02:48:47.436843Z",
     "iopub.status.idle": "2022-04-18T02:48:47.439112Z",
     "shell.execute_reply": "2022-04-18T02:48:47.439623Z",
     "shell.execute_reply.started": "2022-04-17T20:05:13.498441Z"
    },
    "papermill": {
     "duration": 0.047007,
     "end_time": "2022-04-18T02:48:47.439785",
     "exception": false,
     "start_time": "2022-04-18T02:48:47.392778",
     "status": "completed"
    },
    "tags": []
   },
   "outputs": [],
   "source": [
    "def get_total_abundance(df):\n",
    "    ''' returns total abundance for each sample'''\n",
    "    tot_abund_df = pd.DataFrame(index=df.index)\n",
    "    tot_abund_df['tot_abund'] = df.sum(axis=1)\n",
    "    for mz in tqdm(range(0,100)):\n",
    "        tot_abund_df[f\"tot_abund_{mz}\"] = df[get_mz(mz,df)].sum(axis=1)\n",
    "    print(tot_abund_df.shape)\n",
    "    return tot_abund_df"
   ]
  },
  {
   "cell_type": "code",
   "execution_count": 17,
   "id": "de9ea14f",
   "metadata": {
    "execution": {
     "iopub.execute_input": "2022-04-18T02:48:47.523339Z",
     "iopub.status.busy": "2022-04-18T02:48:47.518719Z",
     "iopub.status.idle": "2022-04-18T02:48:47.525574Z",
     "shell.execute_reply": "2022-04-18T02:48:47.524932Z",
     "shell.execute_reply.started": "2022-04-17T20:05:15.108258Z"
    },
    "papermill": {
     "duration": 0.047639,
     "end_time": "2022-04-18T02:48:47.525710",
     "exception": false,
     "start_time": "2022-04-18T02:48:47.478071",
     "status": "completed"
    },
    "tags": []
   },
   "outputs": [],
   "source": [
    "def get_grads(df,bin_size=5):\n",
    "    ''' returns gradients for each mz'''\n",
    "    grad_df = pd.DataFrame(index=df.index)\n",
    "    for mz in tqdm(range(0,100)):\n",
    "        df_mz = df.loc[:,get_mz(mz,df)]\n",
    "        # df_mz_col1 = df_mz.iloc[:,0].values\n",
    "        df_mz = df_mz.diff(axis=1)\n",
    "        # df_mz.iloc[:,0] = df_mz_col1\n",
    "        df_mz.dropna(axis='columns',inplace=True)\n",
    "        # df_mz = df_mz/bin_size\n",
    "        df_mz.columns = [col[0]+ '_' + col[1] + '_' + 'grad' for col in df_mz.columns]\n",
    "        grad_df = pd.concat([grad_df,df_mz],axis=1)\n",
    "    print(grad_df.shape)\n",
    "\n",
    "    return  grad_df"
   ]
  },
  {
   "cell_type": "code",
   "execution_count": 18,
   "id": "f9c72eb7",
   "metadata": {
    "execution": {
     "iopub.execute_input": "2022-04-18T02:48:47.609430Z",
     "iopub.status.busy": "2022-04-18T02:48:47.608686Z",
     "iopub.status.idle": "2022-04-18T02:48:47.611366Z",
     "shell.execute_reply": "2022-04-18T02:48:47.610766Z",
     "shell.execute_reply.started": "2022-04-17T20:05:15.907891Z"
    },
    "papermill": {
     "duration": 0.047659,
     "end_time": "2022-04-18T02:48:47.611518",
     "exception": false,
     "start_time": "2022-04-18T02:48:47.563859",
     "status": "completed"
    },
    "tags": []
   },
   "outputs": [],
   "source": [
    "def get_mean_std(df):\n",
    "    ''' returns mean and std for each mz'''\n",
    "    mean_std_df = pd.DataFrame(index=df.index)\n",
    "    for mz in tqdm(range(0,100)):\n",
    "        df_mz = df.loc[:,get_mz(mz,df)]\n",
    "        df_mz[f'{mz}_mean'] = df_mz.mean(axis=1)\n",
    "        df_mz[f'{mz}_std'] = df_mz.std(axis=1)\n",
    "        mean_std_df = pd.concat([mean_std_df,df_mz],axis=1)\n",
    "    print(mean_std_df.shape)\n",
    "    return mean_std_df"
   ]
  },
  {
   "cell_type": "code",
   "execution_count": 19,
   "id": "8946f236",
   "metadata": {
    "execution": {
     "iopub.execute_input": "2022-04-18T02:48:47.693145Z",
     "iopub.status.busy": "2022-04-18T02:48:47.692200Z",
     "iopub.status.idle": "2022-04-18T02:48:47.694410Z",
     "shell.execute_reply": "2022-04-18T02:48:47.694850Z",
     "shell.execute_reply.started": "2022-04-17T20:05:16.81838Z"
    },
    "papermill": {
     "duration": 0.045167,
     "end_time": "2022-04-18T02:48:47.695023",
     "exception": false,
     "start_time": "2022-04-18T02:48:47.649856",
     "status": "completed"
    },
    "tags": []
   },
   "outputs": [],
   "source": [
    "# def add_fts(df):\n",
    "#     tot_abund_df = get_total_abundance(df)\n",
    "#     grad_df = get_grads(df)\n",
    "#     mean_std_df = get_mean_std(df)\n",
    "#     new_df = pd.concat([tot_abund_df,grad_df,mean_std_df],axis=1)\n",
    "#     return new_df"
   ]
  },
  {
   "cell_type": "code",
   "execution_count": 20,
   "id": "f27b62db",
   "metadata": {
    "execution": {
     "iopub.execute_input": "2022-04-18T02:48:47.777040Z",
     "iopub.status.busy": "2022-04-18T02:48:47.776115Z",
     "iopub.status.idle": "2022-04-18T02:48:47.779761Z",
     "shell.execute_reply": "2022-04-18T02:48:47.780309Z",
     "shell.execute_reply.started": "2022-04-17T20:05:19.717821Z"
    },
    "papermill": {
     "duration": 0.047087,
     "end_time": "2022-04-18T02:48:47.780465",
     "exception": false,
     "start_time": "2022-04-18T02:48:47.733378",
     "status": "completed"
    },
    "tags": []
   },
   "outputs": [
    {
     "data": {
      "text/plain": [
       "((1059, 4000), (804, 4000))"
      ]
     },
     "execution_count": 20,
     "metadata": {},
     "output_type": "execute_result"
    }
   ],
   "source": [
    "train_set_100.shape, test_set_100.shape"
   ]
  },
  {
   "cell_type": "code",
   "execution_count": 21,
   "id": "a43ad67f",
   "metadata": {
    "execution": {
     "iopub.execute_input": "2022-04-18T02:48:47.865320Z",
     "iopub.status.busy": "2022-04-18T02:48:47.864380Z",
     "iopub.status.idle": "2022-04-18T02:48:47.867401Z",
     "shell.execute_reply": "2022-04-18T02:48:47.866811Z",
     "shell.execute_reply.started": "2022-04-17T20:17:45.984539Z"
    },
    "papermill": {
     "duration": 0.048364,
     "end_time": "2022-04-18T02:48:47.867540",
     "exception": false,
     "start_time": "2022-04-18T02:48:47.819176",
     "status": "completed"
    },
    "tags": []
   },
   "outputs": [],
   "source": [
    "assert (train_set_100.columns == test_set_100.columns).all()"
   ]
  },
  {
   "cell_type": "code",
   "execution_count": 22,
   "id": "3f636970",
   "metadata": {
    "execution": {
     "iopub.execute_input": "2022-04-18T02:48:47.951248Z",
     "iopub.status.busy": "2022-04-18T02:48:47.950568Z",
     "iopub.status.idle": "2022-04-18T02:48:51.529076Z",
     "shell.execute_reply": "2022-04-18T02:48:51.528531Z",
     "shell.execute_reply.started": "2022-04-17T20:17:54.088738Z"
    },
    "papermill": {
     "duration": 3.622013,
     "end_time": "2022-04-18T02:48:51.529221",
     "exception": false,
     "start_time": "2022-04-18T02:48:47.907208",
     "status": "completed"
    },
    "tags": []
   },
   "outputs": [
    {
     "name": "stderr",
     "output_type": "stream",
     "text": [
      "100%|██████████| 100/100 [00:00<00:00, 184.74it/s]\n"
     ]
    },
    {
     "name": "stdout",
     "output_type": "stream",
     "text": [
      "(1059, 101)\n"
     ]
    },
    {
     "name": "stderr",
     "output_type": "stream",
     "text": [
      "100%|██████████| 100/100 [00:01<00:00, 64.72it/s]\n"
     ]
    },
    {
     "name": "stdout",
     "output_type": "stream",
     "text": [
      "(1059, 3900)\n"
     ]
    },
    {
     "name": "stderr",
     "output_type": "stream",
     "text": [
      "100%|██████████| 100/100 [00:01<00:00, 68.97it/s]"
     ]
    },
    {
     "name": "stdout",
     "output_type": "stream",
     "text": [
      "(1059, 4200)\n"
     ]
    },
    {
     "name": "stderr",
     "output_type": "stream",
     "text": [
      "\n"
     ]
    }
   ],
   "source": [
    "t_100 = get_total_abundance(train_set_100)\n",
    "g_100 = get_grads(train_set_100)\n",
    "m_100 = get_mean_std(train_set_100)"
   ]
  },
  {
   "cell_type": "code",
   "execution_count": 23,
   "id": "341da16f",
   "metadata": {
    "execution": {
     "iopub.execute_input": "2022-04-18T02:48:51.662444Z",
     "iopub.status.busy": "2022-04-18T02:48:51.661664Z",
     "iopub.status.idle": "2022-04-18T02:48:54.947287Z",
     "shell.execute_reply": "2022-04-18T02:48:54.946702Z",
     "shell.execute_reply.started": "2022-04-17T20:17:56.330876Z"
    },
    "papermill": {
     "duration": 3.363393,
     "end_time": "2022-04-18T02:48:54.947433",
     "exception": false,
     "start_time": "2022-04-18T02:48:51.584040",
     "status": "completed"
    },
    "tags": []
   },
   "outputs": [
    {
     "name": "stderr",
     "output_type": "stream",
     "text": [
      "100%|██████████| 100/100 [00:00<00:00, 185.64it/s]\n"
     ]
    },
    {
     "name": "stdout",
     "output_type": "stream",
     "text": [
      "(804, 101)\n"
     ]
    },
    {
     "name": "stderr",
     "output_type": "stream",
     "text": [
      "100%|██████████| 100/100 [00:01<00:00, 70.49it/s]\n"
     ]
    },
    {
     "name": "stdout",
     "output_type": "stream",
     "text": [
      "(804, 3900)\n"
     ]
    },
    {
     "name": "stderr",
     "output_type": "stream",
     "text": [
      "100%|██████████| 100/100 [00:01<00:00, 77.07it/s]"
     ]
    },
    {
     "name": "stdout",
     "output_type": "stream",
     "text": [
      "(804, 4200)\n"
     ]
    },
    {
     "name": "stderr",
     "output_type": "stream",
     "text": [
      "\n"
     ]
    }
   ],
   "source": [
    "t_100_test = get_total_abundance(test_set_100)\n",
    "g_100_test = get_grads(test_set_100)\n",
    "m_100_test = get_mean_std(test_set_100)\n"
   ]
  },
  {
   "cell_type": "code",
   "execution_count": 24,
   "id": "774cb927",
   "metadata": {
    "execution": {
     "iopub.execute_input": "2022-04-18T02:48:55.126343Z",
     "iopub.status.busy": "2022-04-18T02:48:55.104284Z",
     "iopub.status.idle": "2022-04-18T02:48:55.184960Z",
     "shell.execute_reply": "2022-04-18T02:48:55.184347Z",
     "shell.execute_reply.started": "2022-04-17T20:17:58.471549Z"
    },
    "papermill": {
     "duration": 0.168379,
     "end_time": "2022-04-18T02:48:55.185100",
     "exception": false,
     "start_time": "2022-04-18T02:48:55.016721",
     "status": "completed"
    },
    "tags": []
   },
   "outputs": [],
   "source": [
    "t_100_test.sort_index(inplace=True,axis=1)\n",
    "t_100.sort_index(inplace=True,axis=1)\n",
    "\n",
    "m_100_test.sort_index(inplace=True,axis=1)\n",
    "m_100.sort_index(inplace=True,axis=1)\n",
    "\n",
    "g_100_test.sort_index(inplace=True,axis=1)\n",
    "g_100.sort_index(inplace=True,axis=1)"
   ]
  },
  {
   "cell_type": "code",
   "execution_count": 25,
   "id": "8de05bab",
   "metadata": {
    "execution": {
     "iopub.execute_input": "2022-04-18T02:48:55.330790Z",
     "iopub.status.busy": "2022-04-18T02:48:55.330095Z",
     "iopub.status.idle": "2022-04-18T02:48:55.333038Z",
     "shell.execute_reply": "2022-04-18T02:48:55.332533Z",
     "shell.execute_reply.started": "2022-04-17T20:18:06.298361Z"
    },
    "papermill": {
     "duration": 0.077789,
     "end_time": "2022-04-18T02:48:55.333196",
     "exception": false,
     "start_time": "2022-04-18T02:48:55.255407",
     "status": "completed"
    },
    "tags": []
   },
   "outputs": [],
   "source": [
    "assert (t_100.columns == t_100_test.columns).all()\n",
    "assert (g_100.columns == g_100_test.columns).all()\n",
    "assert (m_100.columns == m_100_test.columns).all()"
   ]
  },
  {
   "cell_type": "code",
   "execution_count": 26,
   "id": "7e731335",
   "metadata": {
    "execution": {
     "iopub.execute_input": "2022-04-18T02:48:55.472973Z",
     "iopub.status.busy": "2022-04-18T02:48:55.472000Z",
     "iopub.status.idle": "2022-04-18T02:48:55.474883Z",
     "shell.execute_reply": "2022-04-18T02:48:55.474270Z",
     "shell.execute_reply.started": "2022-04-17T20:18:06.998448Z"
    },
    "papermill": {
     "duration": 0.074917,
     "end_time": "2022-04-18T02:48:55.475018",
     "exception": false,
     "start_time": "2022-04-18T02:48:55.400101",
     "status": "completed"
    },
    "tags": [],
    "vscode": {
     "languageId": "perl"
    }
   },
   "outputs": [],
   "source": [
    "ntrain = 1059\n",
    "ntest = 804\n",
    "NFOLDS = 20"
   ]
  },
  {
   "cell_type": "code",
   "execution_count": 27,
   "id": "d0446e24",
   "metadata": {
    "execution": {
     "iopub.execute_input": "2022-04-18T02:48:55.618082Z",
     "iopub.status.busy": "2022-04-18T02:48:55.617054Z",
     "iopub.status.idle": "2022-04-18T02:48:55.623096Z",
     "shell.execute_reply": "2022-04-18T02:48:55.623562Z",
     "shell.execute_reply.started": "2022-04-17T20:18:09.733556Z"
    },
    "papermill": {
     "duration": 0.081044,
     "end_time": "2022-04-18T02:48:55.623728",
     "exception": false,
     "start_time": "2022-04-18T02:48:55.542684",
     "status": "completed"
    },
    "tags": [],
    "vscode": {
     "languageId": "perl"
    }
   },
   "outputs": [],
   "source": [
    "oof_train_df = pd.DataFrame(index=metadata[metadata.split != 'test'].index, columns=['sample_id',*targets.columns])\n",
    "oof_test_df = pd.DataFrame(index=metadata[metadata.split != 'train'].index, columns=['sample_id',*targets.columns])"
   ]
  },
  {
   "cell_type": "code",
   "execution_count": 28,
   "id": "8fd19588",
   "metadata": {
    "execution": {
     "iopub.execute_input": "2022-04-18T02:48:55.762188Z",
     "iopub.status.busy": "2022-04-18T02:48:55.761517Z",
     "iopub.status.idle": "2022-04-18T12:22:03.137560Z",
     "shell.execute_reply": "2022-04-18T12:22:03.138058Z"
    },
    "papermill": {
     "duration": 34387.446964,
     "end_time": "2022-04-18T12:22:03.138499",
     "exception": false,
     "start_time": "2022-04-18T02:48:55.691535",
     "status": "completed"
    },
    "tags": []
   },
   "outputs": [
    {
     "name": "stdout",
     "output_type": "stream",
     "text": [
      "TARGET  basalt\n",
      "0.3006324473745309\n"
     ]
    },
    {
     "name": "stderr",
     "output_type": "stream",
     "text": [
      "100%|██████████| 101/101 [00:00<00:00, 442196.98it/s]\n"
     ]
    },
    {
     "name": "stdout",
     "output_type": "stream",
     "text": [
      "26\n",
      "0.2578836551987977\n"
     ]
    },
    {
     "name": "stderr",
     "output_type": "stream",
     "text": [
      "100%|██████████| 3900/3900 [00:00<00:00, 866775.41it/s]\n"
     ]
    },
    {
     "name": "stdout",
     "output_type": "stream",
     "text": [
      "67\n",
      "0.2561338693625336\n"
     ]
    },
    {
     "name": "stderr",
     "output_type": "stream",
     "text": [
      "100%|██████████| 4200/4200 [00:00<00:00, 837345.60it/s]\n"
     ]
    },
    {
     "name": "stdout",
     "output_type": "stream",
     "text": [
      "94\n",
      "0.2529601189656628\n"
     ]
    },
    {
     "name": "stderr",
     "output_type": "stream",
     "text": [
      "100%|██████████| 4000/4000 [00:00<00:00, 829446.58it/s]\n"
     ]
    },
    {
     "name": "stdout",
     "output_type": "stream",
     "text": [
      "92\n",
      "(1059, 92) (1059, 26) (1059, 67) (1059, 94)\n",
      "(1059, 279)\n",
      "(804, 92) (804, 26) (804, 67) (804, 94)\n",
      "(804, 279)\n"
     ]
    },
    {
     "name": "stderr",
     "output_type": "stream",
     "text": [
      "0it [00:00, ?it/s]"
     ]
    },
    {
     "name": "stdout",
     "output_type": "stream",
     "text": [
      "Learning rate set to 0.002361\n",
      "0:\tlearn: 0.6904265\ttotal: 105ms\tremaining: 8m 46s\n",
      "999:\tlearn: 0.1471853\ttotal: 33.6s\tremaining: 2m 14s\n",
      "1998:\tlearn: 0.0831235\ttotal: 1m 6s\tremaining: 1m 40s\n",
      "2997:\tlearn: 0.0532299\ttotal: 1m 40s\tremaining: 1m 6s\n",
      "3996:\tlearn: 0.0364688\ttotal: 2m 13s\tremaining: 33.5s\n",
      "4995:\tlearn: 0.0252397\ttotal: 2m 46s\tremaining: 133ms\n",
      "4999:\tlearn: 0.0251985\ttotal: 2m 46s\tremaining: 0us\n"
     ]
    },
    {
     "name": "stderr",
     "output_type": "stream",
     "text": [
      "1it [02:47, 167.68s/it]"
     ]
    },
    {
     "name": "stdout",
     "output_type": "stream",
     "text": [
      "fold Loss 0:  0.1382728404095852\n",
      "---------------------------------------------------------------------------\n",
      "Learning rate set to 0.002361\n",
      "0:\tlearn: 0.6903812\ttotal: 51.3ms\tremaining: 4m 16s\n",
      "999:\tlearn: 0.1476315\ttotal: 33.4s\tremaining: 2m 13s\n",
      "1998:\tlearn: 0.0815428\ttotal: 1m 6s\tremaining: 1m 40s\n",
      "2997:\tlearn: 0.0517447\ttotal: 1m 39s\tremaining: 1m 6s\n",
      "3996:\tlearn: 0.0351296\ttotal: 2m 13s\tremaining: 33.4s\n",
      "4995:\tlearn: 0.0245096\ttotal: 2m 46s\tremaining: 133ms\n",
      "4999:\tlearn: 0.0244883\ttotal: 2m 46s\tremaining: 0us\n"
     ]
    },
    {
     "name": "stderr",
     "output_type": "stream",
     "text": [
      "2it [05:34, 167.43s/it]"
     ]
    },
    {
     "name": "stdout",
     "output_type": "stream",
     "text": [
      "fold Loss 1:  0.16338547780845106\n",
      "---------------------------------------------------------------------------\n",
      "Learning rate set to 0.002361\n",
      "0:\tlearn: 0.6903797\ttotal: 58.5ms\tremaining: 4m 52s\n",
      "999:\tlearn: 0.1497274\ttotal: 33.4s\tremaining: 2m 13s\n",
      "1998:\tlearn: 0.0856193\ttotal: 1m 7s\tremaining: 1m 40s\n",
      "2997:\tlearn: 0.0550051\ttotal: 1m 40s\tremaining: 1m 7s\n",
      "3996:\tlearn: 0.0380403\ttotal: 2m 13s\tremaining: 33.6s\n",
      "4995:\tlearn: 0.0266904\ttotal: 2m 47s\tremaining: 134ms\n",
      "4999:\tlearn: 0.0266557\ttotal: 2m 47s\tremaining: 0us\n"
     ]
    },
    {
     "name": "stderr",
     "output_type": "stream",
     "text": [
      "3it [08:23, 167.79s/it]"
     ]
    },
    {
     "name": "stdout",
     "output_type": "stream",
     "text": [
      "fold Loss 2:  0.12115180450043797\n",
      "---------------------------------------------------------------------------\n",
      "Learning rate set to 0.002361\n",
      "0:\tlearn: 0.6901449\ttotal: 62.1ms\tremaining: 5m 10s\n",
      "999:\tlearn: 0.1479301\ttotal: 33.2s\tremaining: 2m 12s\n",
      "1998:\tlearn: 0.0833312\ttotal: 1m 6s\tremaining: 1m 39s\n",
      "2997:\tlearn: 0.0529455\ttotal: 1m 39s\tremaining: 1m 6s\n",
      "3996:\tlearn: 0.0352292\ttotal: 2m 13s\tremaining: 33.4s\n",
      "4995:\tlearn: 0.0241950\ttotal: 2m 46s\tremaining: 133ms\n",
      "4999:\tlearn: 0.0241631\ttotal: 2m 46s\tremaining: 0us\n"
     ]
    },
    {
     "name": "stderr",
     "output_type": "stream",
     "text": [
      "4it [11:10, 167.61s/it]"
     ]
    },
    {
     "name": "stdout",
     "output_type": "stream",
     "text": [
      "fold Loss 3:  0.10114401185604069\n",
      "---------------------------------------------------------------------------\n",
      "Learning rate set to 0.002361\n",
      "0:\tlearn: 0.6904109\ttotal: 63.4ms\tremaining: 5m 17s\n",
      "999:\tlearn: 0.1492781\ttotal: 33.3s\tremaining: 2m 13s\n",
      "1998:\tlearn: 0.0844063\ttotal: 1m 6s\tremaining: 1m 39s\n",
      "2997:\tlearn: 0.0537895\ttotal: 1m 39s\tremaining: 1m 6s\n",
      "3996:\tlearn: 0.0363764\ttotal: 2m 12s\tremaining: 33.4s\n",
      "4995:\tlearn: 0.0253193\ttotal: 2m 46s\tremaining: 133ms\n",
      "4999:\tlearn: 0.0252984\ttotal: 2m 46s\tremaining: 0us\n"
     ]
    },
    {
     "name": "stderr",
     "output_type": "stream",
     "text": [
      "5it [13:57, 167.53s/it]"
     ]
    },
    {
     "name": "stdout",
     "output_type": "stream",
     "text": [
      "fold Loss 4:  0.08769600292104891\n",
      "---------------------------------------------------------------------------\n",
      "Learning rate set to 0.002361\n",
      "0:\tlearn: 0.6903856\ttotal: 61.5ms\tremaining: 5m 7s\n",
      "999:\tlearn: 0.1457463\ttotal: 33.2s\tremaining: 2m 12s\n",
      "1998:\tlearn: 0.0823370\ttotal: 1m 6s\tremaining: 1m 40s\n",
      "2997:\tlearn: 0.0538856\ttotal: 1m 39s\tremaining: 1m 6s\n",
      "3996:\tlearn: 0.0374251\ttotal: 2m 13s\tremaining: 33.4s\n",
      "4995:\tlearn: 0.0264593\ttotal: 2m 46s\tremaining: 133ms\n",
      "4999:\tlearn: 0.0264090\ttotal: 2m 46s\tremaining: 0us\n"
     ]
    },
    {
     "name": "stderr",
     "output_type": "stream",
     "text": [
      "6it [16:45, 167.55s/it]"
     ]
    },
    {
     "name": "stdout",
     "output_type": "stream",
     "text": [
      "fold Loss 5:  0.15150509648333874\n",
      "---------------------------------------------------------------------------\n",
      "Learning rate set to 0.002361\n",
      "0:\tlearn: 0.6903346\ttotal: 60.2ms\tremaining: 5m\n",
      "999:\tlearn: 0.1461388\ttotal: 33.6s\tremaining: 2m 14s\n",
      "1998:\tlearn: 0.0844298\ttotal: 1m 6s\tremaining: 1m 40s\n",
      "2997:\tlearn: 0.0544829\ttotal: 1m 40s\tremaining: 1m 6s\n",
      "3996:\tlearn: 0.0371974\ttotal: 2m 13s\tremaining: 33.5s\n",
      "4995:\tlearn: 0.0251851\ttotal: 2m 46s\tremaining: 133ms\n",
      "4999:\tlearn: 0.0251536\ttotal: 2m 46s\tremaining: 0us\n"
     ]
    },
    {
     "name": "stderr",
     "output_type": "stream",
     "text": [
      "7it [19:33, 167.57s/it]"
     ]
    },
    {
     "name": "stdout",
     "output_type": "stream",
     "text": [
      "fold Loss 6:  0.16171931950753896\n",
      "---------------------------------------------------------------------------\n",
      "Learning rate set to 0.002361\n",
      "0:\tlearn: 0.6902800\ttotal: 63.7ms\tremaining: 5m 18s\n",
      "999:\tlearn: 0.1487875\ttotal: 33.3s\tremaining: 2m 13s\n",
      "1998:\tlearn: 0.0837215\ttotal: 1m 6s\tremaining: 1m 39s\n",
      "2997:\tlearn: 0.0532070\ttotal: 1m 39s\tremaining: 1m 6s\n",
      "3996:\tlearn: 0.0359154\ttotal: 2m 13s\tremaining: 33.4s\n",
      "4995:\tlearn: 0.0252338\ttotal: 2m 46s\tremaining: 133ms\n",
      "4999:\tlearn: 0.0252064\ttotal: 2m 46s\tremaining: 0us\n"
     ]
    },
    {
     "name": "stderr",
     "output_type": "stream",
     "text": [
      "8it [22:20, 167.52s/it]"
     ]
    },
    {
     "name": "stdout",
     "output_type": "stream",
     "text": [
      "fold Loss 7:  0.08868572782419372\n",
      "---------------------------------------------------------------------------\n",
      "Learning rate set to 0.002361\n",
      "0:\tlearn: 0.6904060\ttotal: 68.2ms\tremaining: 5m 40s\n",
      "999:\tlearn: 0.1471989\ttotal: 33.3s\tremaining: 2m 13s\n",
      "1998:\tlearn: 0.0818496\ttotal: 1m 6s\tremaining: 1m 39s\n",
      "2997:\tlearn: 0.0509871\ttotal: 1m 39s\tremaining: 1m 6s\n",
      "3996:\tlearn: 0.0337384\ttotal: 2m 12s\tremaining: 33.3s\n",
      "4995:\tlearn: 0.0227191\ttotal: 2m 46s\tremaining: 133ms\n",
      "4999:\tlearn: 0.0226740\ttotal: 2m 46s\tremaining: 0us\n"
     ]
    },
    {
     "name": "stderr",
     "output_type": "stream",
     "text": [
      "9it [25:07, 167.47s/it]"
     ]
    },
    {
     "name": "stdout",
     "output_type": "stream",
     "text": [
      "fold Loss 8:  0.15344776726056222\n",
      "---------------------------------------------------------------------------\n",
      "Learning rate set to 0.002361\n",
      "0:\tlearn: 0.6904067\ttotal: 68.4ms\tremaining: 5m 41s\n",
      "999:\tlearn: 0.1491348\ttotal: 33.6s\tremaining: 2m 14s\n",
      "1998:\tlearn: 0.0843842\ttotal: 1m 6s\tremaining: 1m 40s\n",
      "2997:\tlearn: 0.0538527\ttotal: 1m 40s\tremaining: 1m 6s\n",
      "3996:\tlearn: 0.0364940\ttotal: 2m 15s\tremaining: 34s\n",
      "4995:\tlearn: 0.0254136\ttotal: 2m 49s\tremaining: 135ms\n",
      "4999:\tlearn: 0.0253912\ttotal: 2m 49s\tremaining: 0us\n"
     ]
    },
    {
     "name": "stderr",
     "output_type": "stream",
     "text": [
      "10it [27:58, 168.31s/it]"
     ]
    },
    {
     "name": "stdout",
     "output_type": "stream",
     "text": [
      "fold Loss 9:  0.14311857956834195\n",
      "---------------------------------------------------------------------------\n",
      "Learning rate set to 0.002361\n",
      "0:\tlearn: 0.6903899\ttotal: 81.6ms\tremaining: 6m 48s\n",
      "999:\tlearn: 0.1486342\ttotal: 33.6s\tremaining: 2m 14s\n",
      "1998:\tlearn: 0.0836463\ttotal: 1m 7s\tremaining: 1m 40s\n",
      "2997:\tlearn: 0.0536172\ttotal: 1m 40s\tremaining: 1m 7s\n",
      "3996:\tlearn: 0.0364129\ttotal: 2m 14s\tremaining: 33.8s\n",
      "4995:\tlearn: 0.0251450\ttotal: 2m 48s\tremaining: 135ms\n",
      "4999:\tlearn: 0.0250987\ttotal: 2m 48s\tremaining: 0us\n"
     ]
    },
    {
     "name": "stderr",
     "output_type": "stream",
     "text": [
      "11it [30:47, 168.58s/it]"
     ]
    },
    {
     "name": "stdout",
     "output_type": "stream",
     "text": [
      "fold Loss 10:  0.1426615433817085\n",
      "---------------------------------------------------------------------------\n",
      "Learning rate set to 0.002361\n",
      "0:\tlearn: 0.6903761\ttotal: 66.2ms\tremaining: 5m 30s\n",
      "999:\tlearn: 0.1472798\ttotal: 33.6s\tremaining: 2m 14s\n",
      "1998:\tlearn: 0.0838802\ttotal: 1m 7s\tremaining: 1m 40s\n",
      "2997:\tlearn: 0.0544808\ttotal: 1m 40s\tremaining: 1m 7s\n",
      "3996:\tlearn: 0.0372923\ttotal: 2m 14s\tremaining: 33.8s\n",
      "4995:\tlearn: 0.0260825\ttotal: 2m 48s\tremaining: 135ms\n",
      "4999:\tlearn: 0.0260339\ttotal: 2m 48s\tremaining: 0us\n"
     ]
    },
    {
     "name": "stderr",
     "output_type": "stream",
     "text": [
      "12it [33:36, 168.84s/it]"
     ]
    },
    {
     "name": "stdout",
     "output_type": "stream",
     "text": [
      "fold Loss 11:  0.10497254539557412\n",
      "---------------------------------------------------------------------------\n",
      "Learning rate set to 0.002361\n",
      "0:\tlearn: 0.6903323\ttotal: 66.3ms\tremaining: 5m 31s\n",
      "999:\tlearn: 0.1471919\ttotal: 33.7s\tremaining: 2m 14s\n",
      "1998:\tlearn: 0.0829620\ttotal: 1m 7s\tremaining: 1m 40s\n",
      "2997:\tlearn: 0.0529096\ttotal: 1m 40s\tremaining: 1m 7s\n",
      "3996:\tlearn: 0.0354923\ttotal: 2m 13s\tremaining: 33.6s\n",
      "4995:\tlearn: 0.0242153\ttotal: 2m 47s\tremaining: 134ms\n",
      "4999:\tlearn: 0.0241759\ttotal: 2m 47s\tremaining: 0us\n"
     ]
    },
    {
     "name": "stderr",
     "output_type": "stream",
     "text": [
      "13it [36:24, 168.66s/it]"
     ]
    },
    {
     "name": "stdout",
     "output_type": "stream",
     "text": [
      "fold Loss 12:  0.19383141218493175\n",
      "---------------------------------------------------------------------------\n",
      "Learning rate set to 0.002361\n",
      "0:\tlearn: 0.6904446\ttotal: 66.9ms\tremaining: 5m 34s\n",
      "999:\tlearn: 0.1528944\ttotal: 33.3s\tremaining: 2m 13s\n",
      "1998:\tlearn: 0.0865791\ttotal: 1m 6s\tremaining: 1m 40s\n",
      "2997:\tlearn: 0.0546649\ttotal: 1m 40s\tremaining: 1m 6s\n",
      "3996:\tlearn: 0.0371565\ttotal: 2m 13s\tremaining: 33.4s\n",
      "4995:\tlearn: 0.0257652\ttotal: 2m 46s\tremaining: 133ms\n",
      "4999:\tlearn: 0.0257365\ttotal: 2m 46s\tremaining: 0us\n"
     ]
    },
    {
     "name": "stderr",
     "output_type": "stream",
     "text": [
      "14it [39:12, 168.26s/it]"
     ]
    },
    {
     "name": "stdout",
     "output_type": "stream",
     "text": [
      "fold Loss 13:  0.029024308187749863\n",
      "---------------------------------------------------------------------------\n",
      "Learning rate set to 0.002361\n",
      "0:\tlearn: 0.6904215\ttotal: 67.6ms\tremaining: 5m 38s\n",
      "999:\tlearn: 0.1490762\ttotal: 33.4s\tremaining: 2m 13s\n",
      "1998:\tlearn: 0.0835951\ttotal: 1m 6s\tremaining: 1m 40s\n",
      "2997:\tlearn: 0.0530574\ttotal: 1m 40s\tremaining: 1m 6s\n",
      "3996:\tlearn: 0.0350820\ttotal: 2m 13s\tremaining: 33.5s\n",
      "4995:\tlearn: 0.0239020\ttotal: 2m 47s\tremaining: 134ms\n",
      "4999:\tlearn: 0.0238702\ttotal: 2m 47s\tremaining: 0us\n"
     ]
    },
    {
     "name": "stderr",
     "output_type": "stream",
     "text": [
      "15it [42:00, 168.17s/it]"
     ]
    },
    {
     "name": "stdout",
     "output_type": "stream",
     "text": [
      "fold Loss 14:  0.05820186973836118\n",
      "---------------------------------------------------------------------------\n",
      "Learning rate set to 0.002361\n",
      "0:\tlearn: 0.6903009\ttotal: 67.1ms\tremaining: 5m 35s\n",
      "999:\tlearn: 0.1456510\ttotal: 33.4s\tremaining: 2m 13s\n",
      "1998:\tlearn: 0.0817702\ttotal: 1m 6s\tremaining: 1m 40s\n",
      "2997:\tlearn: 0.0523471\ttotal: 1m 40s\tremaining: 1m 6s\n",
      "3996:\tlearn: 0.0354172\ttotal: 2m 13s\tremaining: 33.5s\n",
      "4995:\tlearn: 0.0241935\ttotal: 2m 47s\tremaining: 134ms\n",
      "4999:\tlearn: 0.0241701\ttotal: 2m 47s\tremaining: 0us\n"
     ]
    },
    {
     "name": "stderr",
     "output_type": "stream",
     "text": [
      "16it [44:48, 168.11s/it]"
     ]
    },
    {
     "name": "stdout",
     "output_type": "stream",
     "text": [
      "fold Loss 15:  0.24562447730201292\n",
      "---------------------------------------------------------------------------\n",
      "Learning rate set to 0.002361\n",
      "0:\tlearn: 0.6903832\ttotal: 68.1ms\tremaining: 5m 40s\n",
      "999:\tlearn: 0.1466799\ttotal: 33.7s\tremaining: 2m 14s\n",
      "1998:\tlearn: 0.0815505\ttotal: 1m 7s\tremaining: 1m 40s\n",
      "2997:\tlearn: 0.0506979\ttotal: 1m 40s\tremaining: 1m 7s\n",
      "3996:\tlearn: 0.0327688\ttotal: 2m 14s\tremaining: 33.6s\n",
      "4995:\tlearn: 0.0218400\ttotal: 2m 48s\tremaining: 135ms\n",
      "4999:\tlearn: 0.0218207\ttotal: 2m 48s\tremaining: 0us\n"
     ]
    },
    {
     "name": "stderr",
     "output_type": "stream",
     "text": [
      "17it [47:37, 168.41s/it]"
     ]
    },
    {
     "name": "stdout",
     "output_type": "stream",
     "text": [
      "fold Loss 16:  0.20260709311253566\n",
      "---------------------------------------------------------------------------\n",
      "Learning rate set to 0.002361\n",
      "0:\tlearn: 0.6903950\ttotal: 67.2ms\tremaining: 5m 35s\n",
      "999:\tlearn: 0.1457798\ttotal: 33.9s\tremaining: 2m 15s\n",
      "1998:\tlearn: 0.0820891\ttotal: 1m 7s\tremaining: 1m 41s\n",
      "2997:\tlearn: 0.0529427\ttotal: 1m 41s\tremaining: 1m 7s\n",
      "3996:\tlearn: 0.0361421\ttotal: 2m 15s\tremaining: 33.9s\n",
      "4995:\tlearn: 0.0252511\ttotal: 2m 48s\tremaining: 135ms\n",
      "4999:\tlearn: 0.0252176\ttotal: 2m 48s\tremaining: 0us\n"
     ]
    },
    {
     "name": "stderr",
     "output_type": "stream",
     "text": [
      "18it [50:27, 168.83s/it]"
     ]
    },
    {
     "name": "stdout",
     "output_type": "stream",
     "text": [
      "fold Loss 17:  0.14844897389554496\n",
      "---------------------------------------------------------------------------\n",
      "Learning rate set to 0.002361\n",
      "0:\tlearn: 0.6904067\ttotal: 71.8ms\tremaining: 5m 59s\n",
      "999:\tlearn: 0.1457755\ttotal: 33.7s\tremaining: 2m 14s\n",
      "1998:\tlearn: 0.0831222\ttotal: 1m 7s\tremaining: 1m 41s\n",
      "2997:\tlearn: 0.0533718\ttotal: 1m 41s\tremaining: 1m 7s\n",
      "3996:\tlearn: 0.0369447\ttotal: 2m 15s\tremaining: 33.9s\n",
      "4995:\tlearn: 0.0259754\ttotal: 2m 49s\tremaining: 136ms\n",
      "4999:\tlearn: 0.0259379\ttotal: 2m 49s\tremaining: 0us\n"
     ]
    },
    {
     "name": "stderr",
     "output_type": "stream",
     "text": [
      "19it [53:17, 169.30s/it]"
     ]
    },
    {
     "name": "stdout",
     "output_type": "stream",
     "text": [
      "fold Loss 18:  0.211916996186017\n",
      "---------------------------------------------------------------------------\n",
      "Learning rate set to 0.002362\n",
      "0:\tlearn: 0.6901466\ttotal: 67.5ms\tremaining: 5m 37s\n",
      "999:\tlearn: 0.1489667\ttotal: 34.1s\tremaining: 2m 16s\n",
      "1998:\tlearn: 0.0840852\ttotal: 1m 8s\tremaining: 1m 42s\n",
      "2997:\tlearn: 0.0534087\ttotal: 1m 42s\tremaining: 1m 8s\n",
      "3996:\tlearn: 0.0356409\ttotal: 2m 16s\tremaining: 34.2s\n",
      "4995:\tlearn: 0.0242445\ttotal: 2m 50s\tremaining: 136ms\n",
      "4999:\tlearn: 0.0241983\ttotal: 2m 50s\tremaining: 0us\n"
     ]
    },
    {
     "name": "stderr",
     "output_type": "stream",
     "text": [
      "20it [56:08, 168.43s/it]"
     ]
    },
    {
     "name": "stdout",
     "output_type": "stream",
     "text": [
      "fold Loss 19:  0.1252838073103875\n",
      "---------------------------------------------------------------------------\n",
      "Training Loss: 0.029183238202961675\n",
      "Loss for basalt:\n",
      "0.13863498274171812 0.05109584961674109\n",
      "==================================================================================================\n",
      "TARGET  carbonate\n"
     ]
    },
    {
     "name": "stderr",
     "output_type": "stream",
     "text": [
      "\n"
     ]
    },
    {
     "name": "stdout",
     "output_type": "stream",
     "text": [
      "0.3288665926069246\n"
     ]
    },
    {
     "name": "stderr",
     "output_type": "stream",
     "text": [
      "100%|██████████| 101/101 [00:00<00:00, 452107.47it/s]"
     ]
    },
    {
     "name": "stdout",
     "output_type": "stream",
     "text": [
      "28\n"
     ]
    },
    {
     "name": "stderr",
     "output_type": "stream",
     "text": [
      "\n"
     ]
    },
    {
     "name": "stdout",
     "output_type": "stream",
     "text": [
      "0.22402075323658344\n"
     ]
    },
    {
     "name": "stderr",
     "output_type": "stream",
     "text": [
      "100%|██████████| 3900/3900 [00:00<00:00, 727594.77it/s]\n"
     ]
    },
    {
     "name": "stdout",
     "output_type": "stream",
     "text": [
      "72\n",
      "0.2134619933707512\n"
     ]
    },
    {
     "name": "stderr",
     "output_type": "stream",
     "text": [
      "100%|██████████| 4200/4200 [00:00<00:00, 850114.70it/s]\n"
     ]
    },
    {
     "name": "stdout",
     "output_type": "stream",
     "text": [
      "83\n",
      "0.2468366632311901\n"
     ]
    },
    {
     "name": "stderr",
     "output_type": "stream",
     "text": [
      "100%|██████████| 4000/4000 [00:00<00:00, 831502.01it/s]\n"
     ]
    },
    {
     "name": "stdout",
     "output_type": "stream",
     "text": [
      "90\n",
      "(1059, 90) (1059, 28) (1059, 72) (1059, 83)\n",
      "(1059, 273)\n",
      "(804, 90) (804, 28) (804, 72) (804, 83)\n",
      "(804, 273)\n"
     ]
    },
    {
     "name": "stderr",
     "output_type": "stream",
     "text": [
      "0it [00:00, ?it/s]"
     ]
    },
    {
     "name": "stdout",
     "output_type": "stream",
     "text": [
      "Learning rate set to 0.002361\n",
      "0:\tlearn: 0.6905132\ttotal: 51ms\tremaining: 4m 15s\n",
      "999:\tlearn: 0.1029169\ttotal: 33.5s\tremaining: 2m 13s\n",
      "1998:\tlearn: 0.0528183\ttotal: 1m 7s\tremaining: 1m 40s\n",
      "2997:\tlearn: 0.0325382\ttotal: 1m 40s\tremaining: 1m 7s\n",
      "3996:\tlearn: 0.0208950\ttotal: 2m 13s\tremaining: 33.5s\n",
      "4995:\tlearn: 0.0145448\ttotal: 2m 47s\tremaining: 134ms\n",
      "4999:\tlearn: 0.0145350\ttotal: 2m 47s\tremaining: 0us\n"
     ]
    },
    {
     "name": "stderr",
     "output_type": "stream",
     "text": [
      "1it [02:48, 168.10s/it]"
     ]
    },
    {
     "name": "stdout",
     "output_type": "stream",
     "text": [
      "fold Loss 0:  0.05282198724700228\n",
      "---------------------------------------------------------------------------\n",
      "Learning rate set to 0.002361\n",
      "0:\tlearn: 0.6903999\ttotal: 66.6ms\tremaining: 5m 33s\n",
      "999:\tlearn: 0.0998455\ttotal: 33.5s\tremaining: 2m 13s\n",
      "1998:\tlearn: 0.0500480\ttotal: 1m 6s\tremaining: 1m 40s\n",
      "2997:\tlearn: 0.0304154\ttotal: 1m 40s\tremaining: 1m 6s\n",
      "3996:\tlearn: 0.0193615\ttotal: 2m 13s\tremaining: 33.6s\n",
      "4995:\tlearn: 0.0130637\ttotal: 2m 47s\tremaining: 134ms\n",
      "4999:\tlearn: 0.0130474\ttotal: 2m 47s\tremaining: 0us\n"
     ]
    },
    {
     "name": "stderr",
     "output_type": "stream",
     "text": [
      "2it [05:36, 168.06s/it]"
     ]
    },
    {
     "name": "stdout",
     "output_type": "stream",
     "text": [
      "fold Loss 1:  0.1169601331497471\n",
      "---------------------------------------------------------------------------\n",
      "Learning rate set to 0.002361\n",
      "0:\tlearn: 0.6901382\ttotal: 67.5ms\tremaining: 5m 37s\n",
      "999:\tlearn: 0.0990934\ttotal: 33.4s\tremaining: 2m 13s\n",
      "1998:\tlearn: 0.0508250\ttotal: 1m 7s\tremaining: 1m 40s\n",
      "2997:\tlearn: 0.0306577\ttotal: 1m 40s\tremaining: 1m 7s\n",
      "3996:\tlearn: 0.0193455\ttotal: 2m 13s\tremaining: 33.6s\n",
      "4995:\tlearn: 0.0132317\ttotal: 2m 47s\tremaining: 134ms\n",
      "4999:\tlearn: 0.0132189\ttotal: 2m 47s\tremaining: 0us\n"
     ]
    },
    {
     "name": "stderr",
     "output_type": "stream",
     "text": [
      "3it [08:24, 168.02s/it]"
     ]
    },
    {
     "name": "stdout",
     "output_type": "stream",
     "text": [
      "fold Loss 2:  0.17707264153553284\n",
      "---------------------------------------------------------------------------\n",
      "Learning rate set to 0.002361\n",
      "0:\tlearn: 0.6900901\ttotal: 66.1ms\tremaining: 5m 30s\n",
      "999:\tlearn: 0.1027389\ttotal: 33.3s\tremaining: 2m 13s\n",
      "1998:\tlearn: 0.0518532\ttotal: 1m 6s\tremaining: 1m 39s\n",
      "2997:\tlearn: 0.0313871\ttotal: 1m 39s\tremaining: 1m 6s\n",
      "3996:\tlearn: 0.0198334\ttotal: 2m 13s\tremaining: 33.4s\n",
      "4995:\tlearn: 0.0135772\ttotal: 2m 47s\tremaining: 134ms\n",
      "4999:\tlearn: 0.0135586\ttotal: 2m 47s\tremaining: 0us\n"
     ]
    },
    {
     "name": "stderr",
     "output_type": "stream",
     "text": [
      "4it [11:12, 168.01s/it]"
     ]
    },
    {
     "name": "stdout",
     "output_type": "stream",
     "text": [
      "fold Loss 3:  0.1724970632414913\n",
      "---------------------------------------------------------------------------\n",
      "Learning rate set to 0.002361\n",
      "0:\tlearn: 0.6906658\ttotal: 65.9ms\tremaining: 5m 29s\n",
      "999:\tlearn: 0.1012241\ttotal: 33.1s\tremaining: 2m 12s\n",
      "1998:\tlearn: 0.0527107\ttotal: 1m 6s\tremaining: 1m 39s\n",
      "2997:\tlearn: 0.0328327\ttotal: 1m 39s\tremaining: 1m 6s\n",
      "3996:\tlearn: 0.0208912\ttotal: 2m 12s\tremaining: 33.2s\n",
      "4995:\tlearn: 0.0141253\ttotal: 2m 45s\tremaining: 132ms\n",
      "4999:\tlearn: 0.0141087\ttotal: 2m 45s\tremaining: 0us\n"
     ]
    },
    {
     "name": "stderr",
     "output_type": "stream",
     "text": [
      "5it [13:58, 167.41s/it]"
     ]
    },
    {
     "name": "stdout",
     "output_type": "stream",
     "text": [
      "fold Loss 4:  0.07412853624962726\n",
      "---------------------------------------------------------------------------\n",
      "Learning rate set to 0.002361\n",
      "0:\tlearn: 0.6902067\ttotal: 67ms\tremaining: 5m 34s\n",
      "999:\tlearn: 0.1038964\ttotal: 33.2s\tremaining: 2m 12s\n",
      "1998:\tlearn: 0.0529195\ttotal: 1m 6s\tremaining: 1m 39s\n",
      "2997:\tlearn: 0.0323519\ttotal: 1m 39s\tremaining: 1m 6s\n",
      "3996:\tlearn: 0.0205769\ttotal: 2m 12s\tremaining: 33.3s\n",
      "4995:\tlearn: 0.0139761\ttotal: 2m 45s\tremaining: 133ms\n",
      "4999:\tlearn: 0.0139641\ttotal: 2m 45s\tremaining: 0us\n"
     ]
    },
    {
     "name": "stderr",
     "output_type": "stream",
     "text": [
      "6it [16:45, 167.18s/it]"
     ]
    },
    {
     "name": "stdout",
     "output_type": "stream",
     "text": [
      "fold Loss 5:  0.06929876706279858\n",
      "---------------------------------------------------------------------------\n",
      "Learning rate set to 0.002361\n",
      "0:\tlearn: 0.6904315\ttotal: 67ms\tremaining: 5m 34s\n",
      "999:\tlearn: 0.1049817\ttotal: 32.9s\tremaining: 2m 11s\n",
      "1998:\tlearn: 0.0536522\ttotal: 1m 5s\tremaining: 1m 38s\n",
      "2997:\tlearn: 0.0327423\ttotal: 1m 38s\tremaining: 1m 6s\n",
      "3996:\tlearn: 0.0205434\ttotal: 2m 11s\tremaining: 33.1s\n",
      "4995:\tlearn: 0.0138606\ttotal: 2m 44s\tremaining: 132ms\n",
      "4999:\tlearn: 0.0138418\ttotal: 2m 45s\tremaining: 0us\n"
     ]
    },
    {
     "name": "stderr",
     "output_type": "stream",
     "text": [
      "7it [19:31, 166.75s/it]"
     ]
    },
    {
     "name": "stdout",
     "output_type": "stream",
     "text": [
      "fold Loss 6:  0.03037195667524915\n",
      "---------------------------------------------------------------------------\n",
      "Learning rate set to 0.002361\n",
      "0:\tlearn: 0.6904341\ttotal: 62ms\tremaining: 5m 9s\n",
      "999:\tlearn: 0.1056009\ttotal: 33.1s\tremaining: 2m 12s\n",
      "1998:\tlearn: 0.0543315\ttotal: 1m 6s\tremaining: 1m 39s\n",
      "2997:\tlearn: 0.0330276\ttotal: 1m 40s\tremaining: 1m 6s\n",
      "3996:\tlearn: 0.0207768\ttotal: 2m 13s\tremaining: 33.5s\n",
      "4995:\tlearn: 0.0136327\ttotal: 2m 46s\tremaining: 134ms\n",
      "4999:\tlearn: 0.0136142\ttotal: 2m 47s\tremaining: 0us\n"
     ]
    },
    {
     "name": "stderr",
     "output_type": "stream",
     "text": [
      "8it [22:18, 167.10s/it]"
     ]
    },
    {
     "name": "stdout",
     "output_type": "stream",
     "text": [
      "fold Loss 7:  0.039497800716382675\n",
      "---------------------------------------------------------------------------\n",
      "Learning rate set to 0.002361\n",
      "0:\tlearn: 0.6904081\ttotal: 71.3ms\tremaining: 5m 56s\n",
      "999:\tlearn: 0.1028372\ttotal: 33.6s\tremaining: 2m 14s\n",
      "1998:\tlearn: 0.0523735\ttotal: 1m 7s\tremaining: 1m 41s\n",
      "2997:\tlearn: 0.0314555\ttotal: 1m 40s\tremaining: 1m 7s\n",
      "3996:\tlearn: 0.0195673\ttotal: 2m 14s\tremaining: 33.7s\n",
      "4995:\tlearn: 0.0133085\ttotal: 2m 47s\tremaining: 134ms\n",
      "4999:\tlearn: 0.0132938\ttotal: 2m 47s\tremaining: 0us\n"
     ]
    },
    {
     "name": "stderr",
     "output_type": "stream",
     "text": [
      "9it [25:07, 167.54s/it]"
     ]
    },
    {
     "name": "stdout",
     "output_type": "stream",
     "text": [
      "fold Loss 8:  0.060989043379092125\n",
      "---------------------------------------------------------------------------\n",
      "Learning rate set to 0.002361\n",
      "0:\tlearn: 0.6905877\ttotal: 68.6ms\tremaining: 5m 43s\n",
      "999:\tlearn: 0.1036801\ttotal: 33.4s\tremaining: 2m 13s\n",
      "1998:\tlearn: 0.0545757\ttotal: 1m 6s\tremaining: 1m 40s\n",
      "2997:\tlearn: 0.0338821\ttotal: 1m 40s\tremaining: 1m 6s\n",
      "3996:\tlearn: 0.0212573\ttotal: 2m 13s\tremaining: 33.5s\n",
      "4995:\tlearn: 0.0140374\ttotal: 2m 46s\tremaining: 134ms\n",
      "4999:\tlearn: 0.0140226\ttotal: 2m 47s\tremaining: 0us\n"
     ]
    },
    {
     "name": "stderr",
     "output_type": "stream",
     "text": [
      "10it [27:55, 167.63s/it]"
     ]
    },
    {
     "name": "stdout",
     "output_type": "stream",
     "text": [
      "fold Loss 9:  0.058481135699266724\n",
      "---------------------------------------------------------------------------\n",
      "Learning rate set to 0.002361\n",
      "0:\tlearn: 0.6905788\ttotal: 69.7ms\tremaining: 5m 48s\n",
      "999:\tlearn: 0.1025729\ttotal: 33.5s\tremaining: 2m 14s\n",
      "1998:\tlearn: 0.0516157\ttotal: 1m 6s\tremaining: 1m 40s\n",
      "2997:\tlearn: 0.0320902\ttotal: 1m 40s\tremaining: 1m 6s\n",
      "3996:\tlearn: 0.0208526\ttotal: 2m 13s\tremaining: 33.5s\n",
      "4995:\tlearn: 0.0142377\ttotal: 2m 47s\tremaining: 134ms\n",
      "4999:\tlearn: 0.0142096\ttotal: 2m 47s\tremaining: 0us\n"
     ]
    },
    {
     "name": "stderr",
     "output_type": "stream",
     "text": [
      "11it [30:43, 167.75s/it]"
     ]
    },
    {
     "name": "stdout",
     "output_type": "stream",
     "text": [
      "fold Loss 10:  0.06465482468073878\n",
      "---------------------------------------------------------------------------\n",
      "Learning rate set to 0.002361\n",
      "0:\tlearn: 0.6905482\ttotal: 57.8ms\tremaining: 4m 48s\n",
      "999:\tlearn: 0.1027542\ttotal: 33.1s\tremaining: 2m 12s\n",
      "1998:\tlearn: 0.0529276\ttotal: 1m 6s\tremaining: 1m 39s\n",
      "2997:\tlearn: 0.0328229\ttotal: 1m 39s\tremaining: 1m 6s\n",
      "3996:\tlearn: 0.0210897\ttotal: 2m 12s\tremaining: 33.3s\n",
      "4995:\tlearn: 0.0140857\ttotal: 2m 46s\tremaining: 133ms\n",
      "4999:\tlearn: 0.0140708\ttotal: 2m 46s\tremaining: 0us\n"
     ]
    },
    {
     "name": "stderr",
     "output_type": "stream",
     "text": [
      "12it [33:30, 167.59s/it]"
     ]
    },
    {
     "name": "stdout",
     "output_type": "stream",
     "text": [
      "fold Loss 11:  0.04972278928362541\n",
      "---------------------------------------------------------------------------\n",
      "Learning rate set to 0.002361\n",
      "0:\tlearn: 0.6905512\ttotal: 67.9ms\tremaining: 5m 39s\n",
      "999:\tlearn: 0.0985770\ttotal: 33.3s\tremaining: 2m 13s\n",
      "1998:\tlearn: 0.0491585\ttotal: 1m 6s\tremaining: 1m 39s\n",
      "2997:\tlearn: 0.0288084\ttotal: 1m 39s\tremaining: 1m 6s\n",
      "3996:\tlearn: 0.0182792\ttotal: 2m 13s\tremaining: 33.5s\n",
      "4995:\tlearn: 0.0123798\ttotal: 2m 46s\tremaining: 133ms\n",
      "4999:\tlearn: 0.0123665\ttotal: 2m 46s\tremaining: 0us\n"
     ]
    },
    {
     "name": "stderr",
     "output_type": "stream",
     "text": [
      "13it [36:17, 167.53s/it]"
     ]
    },
    {
     "name": "stdout",
     "output_type": "stream",
     "text": [
      "fold Loss 12:  0.19360902608802827\n",
      "---------------------------------------------------------------------------\n",
      "Learning rate set to 0.002361\n",
      "0:\tlearn: 0.6903016\ttotal: 68.7ms\tremaining: 5m 43s\n",
      "999:\tlearn: 0.1029480\ttotal: 33.1s\tremaining: 2m 12s\n",
      "1998:\tlearn: 0.0521162\ttotal: 1m 6s\tremaining: 1m 39s\n",
      "2997:\tlearn: 0.0315716\ttotal: 1m 39s\tremaining: 1m 6s\n",
      "3996:\tlearn: 0.0200102\ttotal: 2m 12s\tremaining: 33.3s\n",
      "4995:\tlearn: 0.0137177\ttotal: 2m 45s\tremaining: 133ms\n",
      "4999:\tlearn: 0.0136998\ttotal: 2m 45s\tremaining: 0us\n"
     ]
    },
    {
     "name": "stderr",
     "output_type": "stream",
     "text": [
      "14it [39:04, 167.26s/it]"
     ]
    },
    {
     "name": "stdout",
     "output_type": "stream",
     "text": [
      "fold Loss 13:  0.10840865713301139\n",
      "---------------------------------------------------------------------------\n",
      "Learning rate set to 0.002361\n",
      "0:\tlearn: 0.6902766\ttotal: 68.1ms\tremaining: 5m 40s\n",
      "999:\tlearn: 0.0996027\ttotal: 33.2s\tremaining: 2m 12s\n",
      "1998:\tlearn: 0.0502782\ttotal: 1m 6s\tremaining: 1m 39s\n",
      "2997:\tlearn: 0.0295055\ttotal: 1m 39s\tremaining: 1m 6s\n",
      "3996:\tlearn: 0.0183322\ttotal: 2m 13s\tremaining: 33.4s\n",
      "4995:\tlearn: 0.0124634\ttotal: 2m 45s\tremaining: 133ms\n",
      "4999:\tlearn: 0.0124463\ttotal: 2m 46s\tremaining: 0us\n"
     ]
    },
    {
     "name": "stderr",
     "output_type": "stream",
     "text": [
      "15it [41:51, 167.15s/it]"
     ]
    },
    {
     "name": "stdout",
     "output_type": "stream",
     "text": [
      "fold Loss 14:  0.14238489349963554\n",
      "---------------------------------------------------------------------------\n",
      "Learning rate set to 0.002361\n",
      "0:\tlearn: 0.6901427\ttotal: 68ms\tremaining: 5m 39s\n",
      "999:\tlearn: 0.0984414\ttotal: 33.4s\tremaining: 2m 13s\n",
      "1998:\tlearn: 0.0495187\ttotal: 1m 6s\tremaining: 1m 40s\n",
      "2997:\tlearn: 0.0309952\ttotal: 1m 39s\tremaining: 1m 6s\n",
      "3996:\tlearn: 0.0204854\ttotal: 2m 13s\tremaining: 33.5s\n",
      "4995:\tlearn: 0.0141520\ttotal: 2m 46s\tremaining: 134ms\n",
      "4999:\tlearn: 0.0141354\ttotal: 2m 47s\tremaining: 0us\n"
     ]
    },
    {
     "name": "stderr",
     "output_type": "stream",
     "text": [
      "16it [44:39, 167.37s/it]"
     ]
    },
    {
     "name": "stdout",
     "output_type": "stream",
     "text": [
      "fold Loss 15:  0.17351225193111786\n",
      "---------------------------------------------------------------------------\n",
      "Learning rate set to 0.002361\n",
      "0:\tlearn: 0.6904334\ttotal: 65.8ms\tremaining: 5m 28s\n",
      "999:\tlearn: 0.1013636\ttotal: 33.2s\tremaining: 2m 12s\n",
      "1998:\tlearn: 0.0517757\ttotal: 1m 6s\tremaining: 1m 39s\n",
      "2997:\tlearn: 0.0312532\ttotal: 1m 39s\tremaining: 1m 6s\n",
      "3996:\tlearn: 0.0198240\ttotal: 2m 12s\tremaining: 33.3s\n",
      "4995:\tlearn: 0.0138135\ttotal: 2m 45s\tremaining: 132ms\n",
      "4999:\tlearn: 0.0137919\ttotal: 2m 45s\tremaining: 0us\n"
     ]
    },
    {
     "name": "stderr",
     "output_type": "stream",
     "text": [
      "17it [47:25, 167.09s/it]"
     ]
    },
    {
     "name": "stdout",
     "output_type": "stream",
     "text": [
      "fold Loss 16:  0.040280782085229165\n",
      "---------------------------------------------------------------------------\n",
      "Learning rate set to 0.002361\n",
      "0:\tlearn: 0.6901410\ttotal: 66.8ms\tremaining: 5m 34s\n",
      "999:\tlearn: 0.1015477\ttotal: 33s\tremaining: 2m 11s\n",
      "1998:\tlearn: 0.0513542\ttotal: 1m 6s\tremaining: 1m 39s\n",
      "2997:\tlearn: 0.0309171\ttotal: 1m 38s\tremaining: 1m 6s\n",
      "3996:\tlearn: 0.0195010\ttotal: 2m 11s\tremaining: 33.1s\n",
      "4995:\tlearn: 0.0131901\ttotal: 2m 45s\tremaining: 132ms\n",
      "4999:\tlearn: 0.0131661\ttotal: 2m 45s\tremaining: 0us\n"
     ]
    },
    {
     "name": "stderr",
     "output_type": "stream",
     "text": [
      "18it [50:11, 166.77s/it]"
     ]
    },
    {
     "name": "stdout",
     "output_type": "stream",
     "text": [
      "fold Loss 17:  0.10120546252336404\n",
      "---------------------------------------------------------------------------\n",
      "Learning rate set to 0.002361\n",
      "0:\tlearn: 0.6903114\ttotal: 66.7ms\tremaining: 5m 33s\n",
      "999:\tlearn: 0.1031075\ttotal: 33.1s\tremaining: 2m 12s\n",
      "1998:\tlearn: 0.0529940\ttotal: 1m 6s\tremaining: 1m 39s\n",
      "2997:\tlearn: 0.0317607\ttotal: 1m 39s\tremaining: 1m 6s\n",
      "3996:\tlearn: 0.0200526\ttotal: 2m 12s\tremaining: 33.3s\n",
      "4995:\tlearn: 0.0136852\ttotal: 2m 45s\tremaining: 133ms\n",
      "4999:\tlearn: 0.0136708\ttotal: 2m 46s\tremaining: 0us\n"
     ]
    },
    {
     "name": "stderr",
     "output_type": "stream",
     "text": [
      "19it [52:58, 166.82s/it]"
     ]
    },
    {
     "name": "stdout",
     "output_type": "stream",
     "text": [
      "fold Loss 18:  0.10714867978919355\n",
      "---------------------------------------------------------------------------\n",
      "Learning rate set to 0.002362\n",
      "0:\tlearn: 0.6901650\ttotal: 66.3ms\tremaining: 5m 31s\n",
      "999:\tlearn: 0.1025434\ttotal: 33.5s\tremaining: 2m 14s\n",
      "1998:\tlearn: 0.0524335\ttotal: 1m 6s\tremaining: 1m 40s\n",
      "2997:\tlearn: 0.0317432\ttotal: 1m 40s\tremaining: 1m 6s\n",
      "3996:\tlearn: 0.0200791\ttotal: 2m 13s\tremaining: 33.5s\n",
      "4995:\tlearn: 0.0134701\ttotal: 2m 46s\tremaining: 134ms\n",
      "4999:\tlearn: 0.0134587\ttotal: 2m 46s\tremaining: 0us\n"
     ]
    },
    {
     "name": "stderr",
     "output_type": "stream",
     "text": [
      "20it [55:46, 167.32s/it]"
     ]
    },
    {
     "name": "stdout",
     "output_type": "stream",
     "text": [
      "fold Loss 19:  0.04422622794283561\n",
      "---------------------------------------------------------------------------\n",
      "Training Loss: 0.014982442320316204\n",
      "Loss for carbonate:\n",
      "0.0938636329956485 0.0514116219145537\n",
      "==================================================================================================\n",
      "TARGET  chloride\n"
     ]
    },
    {
     "name": "stderr",
     "output_type": "stream",
     "text": [
      "\n"
     ]
    },
    {
     "name": "stdout",
     "output_type": "stream",
     "text": [
      "0.32676600681030404\n"
     ]
    },
    {
     "name": "stderr",
     "output_type": "stream",
     "text": [
      "100%|██████████| 101/101 [00:00<00:00, 415318.34it/s]\n"
     ]
    },
    {
     "name": "stdout",
     "output_type": "stream",
     "text": [
      "26\n",
      "0.25221637839294986\n"
     ]
    },
    {
     "name": "stderr",
     "output_type": "stream",
     "text": [
      "100%|██████████| 3900/3900 [00:00<00:00, 849269.80it/s]\n"
     ]
    },
    {
     "name": "stdout",
     "output_type": "stream",
     "text": [
      "66\n",
      "0.23074969456008665\n"
     ]
    },
    {
     "name": "stderr",
     "output_type": "stream",
     "text": [
      "100%|██████████| 4200/4200 [00:00<00:00, 858859.97it/s]\n"
     ]
    },
    {
     "name": "stdout",
     "output_type": "stream",
     "text": [
      "85\n",
      "0.228739520732891\n"
     ]
    },
    {
     "name": "stderr",
     "output_type": "stream",
     "text": [
      "100%|██████████| 4000/4000 [00:00<00:00, 873358.46it/s]\n"
     ]
    },
    {
     "name": "stdout",
     "output_type": "stream",
     "text": [
      "85\n",
      "(1059, 85) (1059, 26) (1059, 66) (1059, 85)\n",
      "(1059, 262)\n",
      "(804, 85) (804, 26) (804, 66) (804, 85)\n",
      "(804, 262)\n"
     ]
    },
    {
     "name": "stderr",
     "output_type": "stream",
     "text": [
      "0it [00:00, ?it/s]"
     ]
    },
    {
     "name": "stdout",
     "output_type": "stream",
     "text": [
      "Learning rate set to 0.002361\n",
      "0:\tlearn: 0.6907194\ttotal: 47.1ms\tremaining: 3m 55s\n",
      "999:\tlearn: 0.1410552\ttotal: 32s\tremaining: 2m 7s\n",
      "1998:\tlearn: 0.0803598\ttotal: 1m 3s\tremaining: 1m 35s\n",
      "2997:\tlearn: 0.0533976\ttotal: 1m 35s\tremaining: 1m 4s\n",
      "3996:\tlearn: 0.0361325\ttotal: 2m 7s\tremaining: 32.1s\n",
      "4995:\tlearn: 0.0242942\ttotal: 2m 39s\tremaining: 128ms\n",
      "4999:\tlearn: 0.0242655\ttotal: 2m 40s\tremaining: 0us\n"
     ]
    },
    {
     "name": "stderr",
     "output_type": "stream",
     "text": [
      "1it [02:40, 160.91s/it]"
     ]
    },
    {
     "name": "stdout",
     "output_type": "stream",
     "text": [
      "fold Loss 0:  0.06542481653105572\n",
      "---------------------------------------------------------------------------\n",
      "Learning rate set to 0.002361\n",
      "0:\tlearn: 0.6905673\ttotal: 62.1ms\tremaining: 5m 10s\n",
      "999:\tlearn: 0.1269219\ttotal: 32.1s\tremaining: 2m 8s\n",
      "1998:\tlearn: 0.0704329\ttotal: 1m 3s\tremaining: 1m 36s\n",
      "2997:\tlearn: 0.0463149\ttotal: 1m 35s\tremaining: 1m 4s\n",
      "3996:\tlearn: 0.0309332\ttotal: 2m 7s\tremaining: 32.1s\n",
      "4995:\tlearn: 0.0216681\ttotal: 2m 39s\tremaining: 128ms\n",
      "4999:\tlearn: 0.0216373\ttotal: 2m 39s\tremaining: 0us\n"
     ]
    },
    {
     "name": "stderr",
     "output_type": "stream",
     "text": [
      "2it [05:21, 160.65s/it]"
     ]
    },
    {
     "name": "stdout",
     "output_type": "stream",
     "text": [
      "fold Loss 1:  0.4444346224189639\n",
      "---------------------------------------------------------------------------\n",
      "Learning rate set to 0.002361\n",
      "0:\tlearn: 0.6904995\ttotal: 83.3ms\tremaining: 6m 56s\n",
      "999:\tlearn: 0.1370422\ttotal: 31.5s\tremaining: 2m 6s\n",
      "1998:\tlearn: 0.0776550\ttotal: 1m 3s\tremaining: 1m 35s\n",
      "2997:\tlearn: 0.0513471\ttotal: 1m 35s\tremaining: 1m 3s\n",
      "3996:\tlearn: 0.0360644\ttotal: 2m 7s\tremaining: 31.9s\n",
      "4995:\tlearn: 0.0254504\ttotal: 2m 38s\tremaining: 127ms\n",
      "4999:\tlearn: 0.0254099\ttotal: 2m 38s\tremaining: 0us\n"
     ]
    },
    {
     "name": "stderr",
     "output_type": "stream",
     "text": [
      "3it [08:01, 160.22s/it]"
     ]
    },
    {
     "name": "stdout",
     "output_type": "stream",
     "text": [
      "fold Loss 2:  0.10020494348764733\n",
      "---------------------------------------------------------------------------\n",
      "Learning rate set to 0.002361\n",
      "0:\tlearn: 0.6904751\ttotal: 60.9ms\tremaining: 5m 4s\n",
      "999:\tlearn: 0.1383070\ttotal: 31.8s\tremaining: 2m 7s\n",
      "1998:\tlearn: 0.0789571\ttotal: 1m 3s\tremaining: 1m 35s\n",
      "2997:\tlearn: 0.0522505\ttotal: 1m 35s\tremaining: 1m 3s\n",
      "3996:\tlearn: 0.0350569\ttotal: 2m 7s\tremaining: 32s\n",
      "4995:\tlearn: 0.0239773\ttotal: 2m 39s\tremaining: 128ms\n",
      "4999:\tlearn: 0.0239309\ttotal: 2m 39s\tremaining: 0us\n"
     ]
    },
    {
     "name": "stderr",
     "output_type": "stream",
     "text": [
      "4it [10:41, 160.23s/it]"
     ]
    },
    {
     "name": "stdout",
     "output_type": "stream",
     "text": [
      "fold Loss 3:  0.12171526124125177\n",
      "---------------------------------------------------------------------------\n",
      "Learning rate set to 0.002361\n",
      "0:\tlearn: 0.6903147\ttotal: 66.9ms\tremaining: 5m 34s\n",
      "999:\tlearn: 0.1365611\ttotal: 31.7s\tremaining: 2m 6s\n",
      "1998:\tlearn: 0.0761832\ttotal: 1m 3s\tremaining: 1m 35s\n",
      "2997:\tlearn: 0.0500452\ttotal: 1m 35s\tremaining: 1m 3s\n",
      "3996:\tlearn: 0.0343269\ttotal: 2m 6s\tremaining: 31.8s\n",
      "4995:\tlearn: 0.0239762\ttotal: 2m 38s\tremaining: 127ms\n",
      "4999:\tlearn: 0.0239524\ttotal: 2m 38s\tremaining: 0us\n"
     ]
    },
    {
     "name": "stderr",
     "output_type": "stream",
     "text": [
      "5it [13:20, 159.86s/it]"
     ]
    },
    {
     "name": "stdout",
     "output_type": "stream",
     "text": [
      "fold Loss 4:  0.1499056631063158\n",
      "---------------------------------------------------------------------------\n",
      "Learning rate set to 0.002361\n",
      "0:\tlearn: 0.6906997\ttotal: 62.2ms\tremaining: 5m 10s\n",
      "999:\tlearn: 0.1374341\ttotal: 32.1s\tremaining: 2m 8s\n",
      "1998:\tlearn: 0.0773448\ttotal: 1m 3s\tremaining: 1m 35s\n",
      "2997:\tlearn: 0.0507194\ttotal: 1m 35s\tremaining: 1m 3s\n",
      "3996:\tlearn: 0.0340145\ttotal: 2m 6s\tremaining: 31.8s\n",
      "4995:\tlearn: 0.0238016\ttotal: 2m 38s\tremaining: 127ms\n",
      "4999:\tlearn: 0.0237837\ttotal: 2m 38s\tremaining: 0us\n"
     ]
    },
    {
     "name": "stderr",
     "output_type": "stream",
     "text": [
      "6it [16:00, 159.83s/it]"
     ]
    },
    {
     "name": "stdout",
     "output_type": "stream",
     "text": [
      "fold Loss 5:  0.14668837616322694\n",
      "---------------------------------------------------------------------------\n",
      "Learning rate set to 0.002361\n",
      "0:\tlearn: 0.6905603\ttotal: 64.5ms\tremaining: 5m 22s\n",
      "999:\tlearn: 0.1393100\ttotal: 31.6s\tremaining: 2m 6s\n",
      "1998:\tlearn: 0.0787450\ttotal: 1m 3s\tremaining: 1m 35s\n",
      "2997:\tlearn: 0.0525590\ttotal: 1m 35s\tremaining: 1m 3s\n",
      "3996:\tlearn: 0.0358002\ttotal: 2m 7s\tremaining: 31.9s\n",
      "4995:\tlearn: 0.0255296\ttotal: 2m 39s\tremaining: 127ms\n",
      "4999:\tlearn: 0.0254951\ttotal: 2m 39s\tremaining: 0us\n"
     ]
    },
    {
     "name": "stderr",
     "output_type": "stream",
     "text": [
      "7it [18:40, 159.89s/it]"
     ]
    },
    {
     "name": "stdout",
     "output_type": "stream",
     "text": [
      "fold Loss 6:  0.0745385760748178\n",
      "---------------------------------------------------------------------------\n",
      "Learning rate set to 0.002361\n",
      "0:\tlearn: 0.6901584\ttotal: 60.8ms\tremaining: 5m 4s\n",
      "999:\tlearn: 0.1388037\ttotal: 32s\tremaining: 2m 7s\n",
      "1998:\tlearn: 0.0779659\ttotal: 1m 3s\tremaining: 1m 35s\n",
      "2997:\tlearn: 0.0507326\ttotal: 1m 35s\tremaining: 1m 3s\n",
      "3996:\tlearn: 0.0340402\ttotal: 2m 7s\tremaining: 31.9s\n",
      "4995:\tlearn: 0.0232565\ttotal: 2m 39s\tremaining: 127ms\n",
      "4999:\tlearn: 0.0232286\ttotal: 2m 39s\tremaining: 0us\n"
     ]
    },
    {
     "name": "stderr",
     "output_type": "stream",
     "text": [
      "8it [21:20, 159.94s/it]"
     ]
    },
    {
     "name": "stdout",
     "output_type": "stream",
     "text": [
      "fold Loss 7:  0.11398296373564329\n",
      "---------------------------------------------------------------------------\n",
      "Learning rate set to 0.002361\n",
      "0:\tlearn: 0.6906859\ttotal: 62.8ms\tremaining: 5m 13s\n",
      "999:\tlearn: 0.1391430\ttotal: 32.1s\tremaining: 2m 8s\n",
      "1998:\tlearn: 0.0783736\ttotal: 1m 3s\tremaining: 1m 35s\n",
      "2997:\tlearn: 0.0520951\ttotal: 1m 35s\tremaining: 1m 3s\n",
      "3996:\tlearn: 0.0364213\ttotal: 2m 6s\tremaining: 31.8s\n",
      "4995:\tlearn: 0.0256168\ttotal: 2m 38s\tremaining: 127ms\n",
      "4999:\tlearn: 0.0255905\ttotal: 2m 39s\tremaining: 0us\n"
     ]
    },
    {
     "name": "stderr",
     "output_type": "stream",
     "text": [
      "9it [24:00, 159.92s/it]"
     ]
    },
    {
     "name": "stdout",
     "output_type": "stream",
     "text": [
      "fold Loss 8:  0.13005805368914908\n",
      "---------------------------------------------------------------------------\n",
      "Learning rate set to 0.002361\n",
      "0:\tlearn: 0.6907116\ttotal: 62.1ms\tremaining: 5m 10s\n",
      "999:\tlearn: 0.1362935\ttotal: 31.9s\tremaining: 2m 7s\n",
      "1998:\tlearn: 0.0768914\ttotal: 1m 3s\tremaining: 1m 35s\n",
      "2997:\tlearn: 0.0504027\ttotal: 1m 35s\tremaining: 1m 3s\n",
      "3996:\tlearn: 0.0349778\ttotal: 2m 6s\tremaining: 31.8s\n",
      "4995:\tlearn: 0.0239474\ttotal: 2m 38s\tremaining: 127ms\n",
      "4999:\tlearn: 0.0239160\ttotal: 2m 38s\tremaining: 0us\n"
     ]
    },
    {
     "name": "stderr",
     "output_type": "stream",
     "text": [
      "10it [26:39, 159.83s/it]"
     ]
    },
    {
     "name": "stdout",
     "output_type": "stream",
     "text": [
      "fold Loss 9:  0.21538497799530493\n",
      "---------------------------------------------------------------------------\n",
      "Learning rate set to 0.002361\n",
      "0:\tlearn: 0.6901681\ttotal: 64.7ms\tremaining: 5m 23s\n",
      "999:\tlearn: 0.1348381\ttotal: 31.7s\tremaining: 2m 6s\n",
      "1998:\tlearn: 0.0763216\ttotal: 1m 3s\tremaining: 1m 35s\n",
      "2997:\tlearn: 0.0497935\ttotal: 1m 34s\tremaining: 1m 3s\n",
      "3996:\tlearn: 0.0344851\ttotal: 2m 6s\tremaining: 31.8s\n",
      "4995:\tlearn: 0.0241646\ttotal: 2m 38s\tremaining: 127ms\n",
      "4999:\tlearn: 0.0241339\ttotal: 2m 38s\tremaining: 0us\n"
     ]
    },
    {
     "name": "stderr",
     "output_type": "stream",
     "text": [
      "11it [29:19, 159.75s/it]"
     ]
    },
    {
     "name": "stdout",
     "output_type": "stream",
     "text": [
      "fold Loss 10:  0.23747533362251133\n",
      "---------------------------------------------------------------------------\n",
      "Learning rate set to 0.002361\n",
      "0:\tlearn: 0.6901809\ttotal: 65.8ms\tremaining: 5m 29s\n",
      "999:\tlearn: 0.1381539\ttotal: 31.9s\tremaining: 2m 7s\n",
      "1998:\tlearn: 0.0787985\ttotal: 1m 3s\tremaining: 1m 35s\n",
      "2997:\tlearn: 0.0526238\ttotal: 1m 35s\tremaining: 1m 3s\n",
      "3996:\tlearn: 0.0368951\ttotal: 2m 7s\tremaining: 32.1s\n",
      "4995:\tlearn: 0.0259250\ttotal: 2m 39s\tremaining: 128ms\n",
      "4999:\tlearn: 0.0258902\ttotal: 2m 39s\tremaining: 0us\n"
     ]
    },
    {
     "name": "stderr",
     "output_type": "stream",
     "text": [
      "12it [31:59, 159.96s/it]"
     ]
    },
    {
     "name": "stdout",
     "output_type": "stream",
     "text": [
      "fold Loss 11:  0.11206590480217504\n",
      "---------------------------------------------------------------------------\n",
      "Learning rate set to 0.002361\n",
      "0:\tlearn: 0.6900015\ttotal: 63.3ms\tremaining: 5m 16s\n",
      "999:\tlearn: 0.1397505\ttotal: 31.9s\tremaining: 2m 7s\n",
      "1998:\tlearn: 0.0801163\ttotal: 1m 3s\tremaining: 1m 35s\n",
      "2997:\tlearn: 0.0536798\ttotal: 1m 35s\tremaining: 1m 4s\n",
      "3996:\tlearn: 0.0369585\ttotal: 2m 7s\tremaining: 32s\n",
      "4995:\tlearn: 0.0252523\ttotal: 2m 39s\tremaining: 128ms\n",
      "4999:\tlearn: 0.0252249\ttotal: 2m 39s\tremaining: 0us\n"
     ]
    },
    {
     "name": "stderr",
     "output_type": "stream",
     "text": [
      "13it [34:40, 160.10s/it]"
     ]
    },
    {
     "name": "stdout",
     "output_type": "stream",
     "text": [
      "fold Loss 12:  0.07120697217550596\n",
      "---------------------------------------------------------------------------\n",
      "Learning rate set to 0.002361\n",
      "0:\tlearn: 0.6905695\ttotal: 62.9ms\tremaining: 5m 14s\n",
      "999:\tlearn: 0.1405050\ttotal: 31.9s\tremaining: 2m 7s\n",
      "1998:\tlearn: 0.0796786\ttotal: 1m 3s\tremaining: 1m 35s\n",
      "2997:\tlearn: 0.0525222\ttotal: 1m 35s\tremaining: 1m 3s\n",
      "3996:\tlearn: 0.0364723\ttotal: 2m 7s\tremaining: 32s\n",
      "4995:\tlearn: 0.0254095\ttotal: 2m 39s\tremaining: 128ms\n",
      "4999:\tlearn: 0.0253780\ttotal: 2m 39s\tremaining: 0us\n"
     ]
    },
    {
     "name": "stderr",
     "output_type": "stream",
     "text": [
      "14it [37:20, 160.20s/it]"
     ]
    },
    {
     "name": "stdout",
     "output_type": "stream",
     "text": [
      "fold Loss 13:  0.09846379636515644\n",
      "---------------------------------------------------------------------------\n",
      "Learning rate set to 0.002361\n",
      "0:\tlearn: 0.6906575\ttotal: 63.5ms\tremaining: 5m 17s\n",
      "999:\tlearn: 0.1382565\ttotal: 31.9s\tremaining: 2m 7s\n",
      "1998:\tlearn: 0.0781854\ttotal: 1m 3s\tremaining: 1m 35s\n",
      "2997:\tlearn: 0.0515763\ttotal: 1m 35s\tremaining: 1m 3s\n",
      "3996:\tlearn: 0.0356833\ttotal: 2m 7s\tremaining: 31.9s\n",
      "4995:\tlearn: 0.0247629\ttotal: 2m 38s\tremaining: 127ms\n",
      "4999:\tlearn: 0.0247351\ttotal: 2m 38s\tremaining: 0us\n"
     ]
    },
    {
     "name": "stderr",
     "output_type": "stream",
     "text": [
      "15it [40:00, 160.01s/it]"
     ]
    },
    {
     "name": "stdout",
     "output_type": "stream",
     "text": [
      "fold Loss 14:  0.14251924742325006\n",
      "---------------------------------------------------------------------------\n",
      "Learning rate set to 0.002361\n",
      "0:\tlearn: 0.6905507\ttotal: 63.6ms\tremaining: 5m 18s\n",
      "999:\tlearn: 0.1401959\ttotal: 31.8s\tremaining: 2m 7s\n",
      "1998:\tlearn: 0.0792758\ttotal: 1m 3s\tremaining: 1m 35s\n",
      "2997:\tlearn: 0.0523840\ttotal: 1m 35s\tremaining: 1m 3s\n",
      "3996:\tlearn: 0.0366057\ttotal: 2m 7s\tremaining: 31.9s\n",
      "4995:\tlearn: 0.0249845\ttotal: 2m 38s\tremaining: 127ms\n",
      "4999:\tlearn: 0.0249390\ttotal: 2m 39s\tremaining: 0us\n"
     ]
    },
    {
     "name": "stderr",
     "output_type": "stream",
     "text": [
      "16it [42:40, 159.97s/it]"
     ]
    },
    {
     "name": "stdout",
     "output_type": "stream",
     "text": [
      "fold Loss 15:  0.10050685900827629\n",
      "---------------------------------------------------------------------------\n",
      "Learning rate set to 0.002361\n",
      "0:\tlearn: 0.6903424\ttotal: 62.9ms\tremaining: 5m 14s\n",
      "999:\tlearn: 0.1390262\ttotal: 32.1s\tremaining: 2m 8s\n",
      "1998:\tlearn: 0.0801235\ttotal: 1m 3s\tremaining: 1m 35s\n",
      "2997:\tlearn: 0.0533116\ttotal: 1m 35s\tremaining: 1m 4s\n",
      "3996:\tlearn: 0.0371910\ttotal: 2m 7s\tremaining: 32s\n",
      "4995:\tlearn: 0.0250672\ttotal: 2m 39s\tremaining: 128ms\n",
      "4999:\tlearn: 0.0250124\ttotal: 2m 39s\tremaining: 0us\n"
     ]
    },
    {
     "name": "stderr",
     "output_type": "stream",
     "text": [
      "17it [45:20, 160.04s/it]"
     ]
    },
    {
     "name": "stdout",
     "output_type": "stream",
     "text": [
      "fold Loss 16:  0.10593891513719277\n",
      "---------------------------------------------------------------------------\n",
      "Learning rate set to 0.002361\n",
      "0:\tlearn: 0.6905255\ttotal: 70.7ms\tremaining: 5m 53s\n",
      "999:\tlearn: 0.1326972\ttotal: 31.9s\tremaining: 2m 7s\n",
      "1998:\tlearn: 0.0739682\ttotal: 1m 3s\tremaining: 1m 36s\n",
      "2997:\tlearn: 0.0480056\ttotal: 1m 35s\tremaining: 1m 3s\n",
      "3996:\tlearn: 0.0329920\ttotal: 2m 7s\tremaining: 32s\n",
      "4995:\tlearn: 0.0231955\ttotal: 2m 39s\tremaining: 128ms\n",
      "4999:\tlearn: 0.0231619\ttotal: 2m 39s\tremaining: 0us\n"
     ]
    },
    {
     "name": "stderr",
     "output_type": "stream",
     "text": [
      "18it [48:00, 160.21s/it]"
     ]
    },
    {
     "name": "stdout",
     "output_type": "stream",
     "text": [
      "fold Loss 17:  0.3067967353215929\n",
      "---------------------------------------------------------------------------\n",
      "Learning rate set to 0.002361\n",
      "0:\tlearn: 0.6905252\ttotal: 62.5ms\tremaining: 5m 12s\n",
      "999:\tlearn: 0.1378943\ttotal: 31.8s\tremaining: 2m 7s\n",
      "1998:\tlearn: 0.0780829\ttotal: 1m 3s\tremaining: 1m 35s\n",
      "2997:\tlearn: 0.0520247\ttotal: 1m 35s\tremaining: 1m 3s\n",
      "3996:\tlearn: 0.0358551\ttotal: 2m 7s\tremaining: 32s\n",
      "4995:\tlearn: 0.0248110\ttotal: 2m 39s\tremaining: 127ms\n",
      "4999:\tlearn: 0.0247859\ttotal: 2m 39s\tremaining: 0us\n"
     ]
    },
    {
     "name": "stderr",
     "output_type": "stream",
     "text": [
      "19it [50:41, 160.15s/it]"
     ]
    },
    {
     "name": "stdout",
     "output_type": "stream",
     "text": [
      "fold Loss 18:  0.18752195344250663\n",
      "---------------------------------------------------------------------------\n",
      "Learning rate set to 0.002362\n",
      "0:\tlearn: 0.6902603\ttotal: 61.6ms\tremaining: 5m 7s\n",
      "999:\tlearn: 0.1390831\ttotal: 31.7s\tremaining: 2m 6s\n",
      "1998:\tlearn: 0.0804305\ttotal: 1m 3s\tremaining: 1m 35s\n",
      "2997:\tlearn: 0.0533110\ttotal: 1m 35s\tremaining: 1m 3s\n",
      "3996:\tlearn: 0.0365528\ttotal: 2m 7s\tremaining: 32s\n",
      "4995:\tlearn: 0.0252790\ttotal: 2m 39s\tremaining: 127ms\n",
      "4999:\tlearn: 0.0252195\ttotal: 2m 39s\tremaining: 0us\n"
     ]
    },
    {
     "name": "stderr",
     "output_type": "stream",
     "text": [
      "20it [53:21, 160.05s/it]"
     ]
    },
    {
     "name": "stdout",
     "output_type": "stream",
     "text": [
      "fold Loss 19:  0.09123463182304488\n",
      "---------------------------------------------------------------------------\n",
      "Training Loss: 0.02848078045643402\n",
      "Loss for chloride:\n",
      "0.15080343017822945 0.08962017713900197\n",
      "==================================================================================================\n",
      "TARGET  iron_oxide\n"
     ]
    },
    {
     "name": "stderr",
     "output_type": "stream",
     "text": [
      "\n"
     ]
    },
    {
     "name": "stdout",
     "output_type": "stream",
     "text": [
      "0.453115934636288\n"
     ]
    },
    {
     "name": "stderr",
     "output_type": "stream",
     "text": [
      "100%|██████████| 101/101 [00:00<00:00, 392608.62it/s]\n"
     ]
    },
    {
     "name": "stdout",
     "output_type": "stream",
     "text": [
      "27\n",
      "0.36271596714732834\n"
     ]
    },
    {
     "name": "stderr",
     "output_type": "stream",
     "text": [
      "100%|██████████| 3900/3900 [00:00<00:00, 832203.17it/s]\n"
     ]
    },
    {
     "name": "stdout",
     "output_type": "stream",
     "text": [
      "91\n",
      "0.39698608229058696\n"
     ]
    },
    {
     "name": "stderr",
     "output_type": "stream",
     "text": [
      "100%|██████████| 4200/4200 [00:00<00:00, 841666.35it/s]\n"
     ]
    },
    {
     "name": "stdout",
     "output_type": "stream",
     "text": [
      "125\n",
      "0.3983264065918283\n"
     ]
    },
    {
     "name": "stderr",
     "output_type": "stream",
     "text": [
      "100%|██████████| 4000/4000 [00:00<00:00, 824554.77it/s]\n"
     ]
    },
    {
     "name": "stdout",
     "output_type": "stream",
     "text": [
      "119\n",
      "(1059, 119) (1059, 27) (1059, 91) (1059, 125)\n",
      "(1059, 362)\n",
      "(804, 119) (804, 27) (804, 91) (804, 125)\n",
      "(804, 362)\n"
     ]
    },
    {
     "name": "stderr",
     "output_type": "stream",
     "text": [
      "0it [00:00, ?it/s]"
     ]
    },
    {
     "name": "stdout",
     "output_type": "stream",
     "text": [
      "Learning rate set to 0.002361\n",
      "0:\tlearn: 0.6914631\ttotal: 68ms\tremaining: 5m 40s\n",
      "999:\tlearn: 0.2272897\ttotal: 43.7s\tremaining: 2m 54s\n",
      "1998:\tlearn: 0.1415062\ttotal: 1m 27s\tremaining: 2m 12s\n",
      "2997:\tlearn: 0.0961274\ttotal: 2m 12s\tremaining: 1m 28s\n",
      "3996:\tlearn: 0.0676170\ttotal: 2m 57s\tremaining: 44.5s\n",
      "4995:\tlearn: 0.0484063\ttotal: 3m 41s\tremaining: 177ms\n",
      "4999:\tlearn: 0.0483486\ttotal: 3m 41s\tremaining: 0us\n"
     ]
    },
    {
     "name": "stderr",
     "output_type": "stream",
     "text": [
      "1it [03:42, 222.56s/it]"
     ]
    },
    {
     "name": "stdout",
     "output_type": "stream",
     "text": [
      "fold Loss 0:  0.27783899327996164\n",
      "---------------------------------------------------------------------------\n",
      "Learning rate set to 0.002361\n",
      "0:\tlearn: 0.6915058\ttotal: 87.1ms\tremaining: 7m 15s\n",
      "999:\tlearn: 0.2310342\ttotal: 44.6s\tremaining: 2m 58s\n",
      "1998:\tlearn: 0.1461979\ttotal: 1m 30s\tremaining: 2m 15s\n",
      "2997:\tlearn: 0.1019520\ttotal: 2m 14s\tremaining: 1m 30s\n",
      "3996:\tlearn: 0.0740861\ttotal: 2m 59s\tremaining: 45s\n",
      "4995:\tlearn: 0.0534694\ttotal: 3m 43s\tremaining: 179ms\n",
      "4999:\tlearn: 0.0533918\ttotal: 3m 43s\tremaining: 0us\n"
     ]
    },
    {
     "name": "stderr",
     "output_type": "stream",
     "text": [
      "2it [07:27, 223.82s/it]"
     ]
    },
    {
     "name": "stdout",
     "output_type": "stream",
     "text": [
      "fold Loss 1:  0.12401287896980771\n",
      "---------------------------------------------------------------------------\n",
      "Learning rate set to 0.002361\n",
      "0:\tlearn: 0.6912726\ttotal: 88.5ms\tremaining: 7m 22s\n",
      "999:\tlearn: 0.2286214\ttotal: 44.7s\tremaining: 2m 58s\n",
      "1998:\tlearn: 0.1423907\ttotal: 1m 29s\tremaining: 2m 13s\n",
      "2997:\tlearn: 0.0975217\ttotal: 2m 13s\tremaining: 1m 29s\n",
      "3996:\tlearn: 0.0683448\ttotal: 2m 57s\tremaining: 44.6s\n",
      "4995:\tlearn: 0.0484721\ttotal: 3m 42s\tremaining: 178ms\n",
      "4999:\tlearn: 0.0484010\ttotal: 3m 42s\tremaining: 0us\n"
     ]
    },
    {
     "name": "stderr",
     "output_type": "stream",
     "text": [
      "3it [11:10, 223.56s/it]"
     ]
    },
    {
     "name": "stdout",
     "output_type": "stream",
     "text": [
      "fold Loss 2:  0.24506155975334026\n",
      "---------------------------------------------------------------------------\n",
      "Learning rate set to 0.002361\n",
      "0:\tlearn: 0.6912280\ttotal: 94.4ms\tremaining: 7m 52s\n",
      "999:\tlearn: 0.2292934\ttotal: 44s\tremaining: 2m 55s\n",
      "1998:\tlearn: 0.1418619\ttotal: 1m 28s\tremaining: 2m 12s\n",
      "2997:\tlearn: 0.0970862\ttotal: 2m 12s\tremaining: 1m 28s\n",
      "3996:\tlearn: 0.0685496\ttotal: 2m 56s\tremaining: 44.3s\n",
      "4995:\tlearn: 0.0474295\ttotal: 3m 40s\tremaining: 177ms\n",
      "4999:\tlearn: 0.0473512\ttotal: 3m 40s\tremaining: 0us\n"
     ]
    },
    {
     "name": "stderr",
     "output_type": "stream",
     "text": [
      "4it [14:52, 222.87s/it]"
     ]
    },
    {
     "name": "stdout",
     "output_type": "stream",
     "text": [
      "fold Loss 3:  0.21279372575420732\n",
      "---------------------------------------------------------------------------\n",
      "Learning rate set to 0.002361\n",
      "0:\tlearn: 0.6913889\ttotal: 91.1ms\tremaining: 7m 35s\n",
      "999:\tlearn: 0.2315494\ttotal: 44.2s\tremaining: 2m 56s\n",
      "1998:\tlearn: 0.1436939\ttotal: 1m 28s\tremaining: 2m 12s\n",
      "2997:\tlearn: 0.0983084\ttotal: 2m 12s\tremaining: 1m 28s\n",
      "3996:\tlearn: 0.0702211\ttotal: 2m 56s\tremaining: 44.3s\n",
      "4995:\tlearn: 0.0496981\ttotal: 3m 40s\tremaining: 177ms\n"
     ]
    },
    {
     "name": "stderr",
     "output_type": "stream",
     "text": [
      "5it [18:33, 222.41s/it]"
     ]
    },
    {
     "name": "stdout",
     "output_type": "stream",
     "text": [
      "4999:\tlearn: 0.0496467\ttotal: 3m 40s\tremaining: 0us\n",
      "fold Loss 4:  0.13384976472928437\n",
      "---------------------------------------------------------------------------\n",
      "Learning rate set to 0.002361\n",
      "0:\tlearn: 0.6915084\ttotal: 92.2ms\tremaining: 7m 41s\n",
      "999:\tlearn: 0.2275822\ttotal: 44.2s\tremaining: 2m 56s\n",
      "1998:\tlearn: 0.1430798\ttotal: 1m 27s\tremaining: 2m 12s\n",
      "2997:\tlearn: 0.0970013\ttotal: 2m 12s\tremaining: 1m 28s\n",
      "3996:\tlearn: 0.0685307\ttotal: 2m 56s\tremaining: 44.3s\n",
      "4995:\tlearn: 0.0494954\ttotal: 3m 40s\tremaining: 176ms\n",
      "4999:\tlearn: 0.0494449\ttotal: 3m 40s\tremaining: 0us\n"
     ]
    },
    {
     "name": "stderr",
     "output_type": "stream",
     "text": [
      "6it [22:15, 222.00s/it]"
     ]
    },
    {
     "name": "stdout",
     "output_type": "stream",
     "text": [
      "fold Loss 5:  0.24455326683696316\n",
      "---------------------------------------------------------------------------\n",
      "Learning rate set to 0.002361\n",
      "0:\tlearn: 0.6915160\ttotal: 86.6ms\tremaining: 7m 13s\n",
      "999:\tlearn: 0.2298147\ttotal: 44.1s\tremaining: 2m 56s\n",
      "1998:\tlearn: 0.1435465\ttotal: 1m 27s\tremaining: 2m 11s\n",
      "2997:\tlearn: 0.0976805\ttotal: 2m 11s\tremaining: 1m 27s\n",
      "3996:\tlearn: 0.0701790\ttotal: 2m 55s\tremaining: 43.9s\n",
      "4995:\tlearn: 0.0497062\ttotal: 3m 38s\tremaining: 175ms\n",
      "4999:\tlearn: 0.0496112\ttotal: 3m 38s\tremaining: 0us\n"
     ]
    },
    {
     "name": "stderr",
     "output_type": "stream",
     "text": [
      "7it [25:54, 221.19s/it]"
     ]
    },
    {
     "name": "stdout",
     "output_type": "stream",
     "text": [
      "fold Loss 6:  0.15981383511212574\n",
      "---------------------------------------------------------------------------\n",
      "Learning rate set to 0.002361\n",
      "0:\tlearn: 0.6915383\ttotal: 85.9ms\tremaining: 7m 9s\n",
      "999:\tlearn: 0.2288092\ttotal: 43.6s\tremaining: 2m 54s\n",
      "1998:\tlearn: 0.1439149\ttotal: 1m 27s\tremaining: 2m 11s\n",
      "2997:\tlearn: 0.0983227\ttotal: 2m 10s\tremaining: 1m 27s\n",
      "3996:\tlearn: 0.0711332\ttotal: 2m 54s\tremaining: 43.7s\n",
      "4995:\tlearn: 0.0514487\ttotal: 3m 37s\tremaining: 174ms\n",
      "4999:\tlearn: 0.0513808\ttotal: 3m 38s\tremaining: 0us\n"
     ]
    },
    {
     "name": "stderr",
     "output_type": "stream",
     "text": [
      "8it [29:33, 220.45s/it]"
     ]
    },
    {
     "name": "stdout",
     "output_type": "stream",
     "text": [
      "fold Loss 7:  0.17785675688767777\n",
      "---------------------------------------------------------------------------\n",
      "Learning rate set to 0.002361\n",
      "0:\tlearn: 0.6915078\ttotal: 84.1ms\tremaining: 7m\n",
      "999:\tlearn: 0.2297721\ttotal: 43.7s\tremaining: 2m 54s\n",
      "1998:\tlearn: 0.1429463\ttotal: 1m 27s\tremaining: 2m 11s\n",
      "2997:\tlearn: 0.0976309\ttotal: 2m 11s\tremaining: 1m 27s\n",
      "3996:\tlearn: 0.0697345\ttotal: 2m 54s\tremaining: 43.9s\n",
      "4995:\tlearn: 0.0492268\ttotal: 3m 38s\tremaining: 175ms\n",
      "4999:\tlearn: 0.0491876\ttotal: 3m 38s\tremaining: 0us\n"
     ]
    },
    {
     "name": "stderr",
     "output_type": "stream",
     "text": [
      "9it [33:13, 220.21s/it]"
     ]
    },
    {
     "name": "stdout",
     "output_type": "stream",
     "text": [
      "fold Loss 8:  0.1951818150825208\n",
      "---------------------------------------------------------------------------\n",
      "Learning rate set to 0.002361\n",
      "0:\tlearn: 0.6915270\ttotal: 83.9ms\tremaining: 6m 59s\n",
      "999:\tlearn: 0.2321814\ttotal: 44s\tremaining: 2m 56s\n",
      "1998:\tlearn: 0.1462007\ttotal: 1m 28s\tremaining: 2m 12s\n",
      "2997:\tlearn: 0.1000702\ttotal: 2m 12s\tremaining: 1m 28s\n",
      "3996:\tlearn: 0.0719951\ttotal: 2m 56s\tremaining: 44.3s\n",
      "4995:\tlearn: 0.0503564\ttotal: 3m 40s\tremaining: 177ms\n",
      "4999:\tlearn: 0.0502701\ttotal: 3m 41s\tremaining: 0us\n"
     ]
    },
    {
     "name": "stderr",
     "output_type": "stream",
     "text": [
      "10it [36:55, 220.75s/it]"
     ]
    },
    {
     "name": "stdout",
     "output_type": "stream",
     "text": [
      "fold Loss 9:  0.12507401756283035\n",
      "---------------------------------------------------------------------------\n",
      "Learning rate set to 0.002361\n",
      "0:\tlearn: 0.6914485\ttotal: 93.8ms\tremaining: 7m 49s\n",
      "999:\tlearn: 0.2294943\ttotal: 44.8s\tremaining: 2m 59s\n",
      "1998:\tlearn: 0.1411657\ttotal: 1m 29s\tremaining: 2m 14s\n",
      "2997:\tlearn: 0.0937171\ttotal: 2m 13s\tremaining: 1m 29s\n",
      "3996:\tlearn: 0.0638635\ttotal: 2m 58s\tremaining: 44.8s\n",
      "4995:\tlearn: 0.0446551\ttotal: 3m 42s\tremaining: 178ms\n",
      "4999:\tlearn: 0.0446223\ttotal: 3m 42s\tremaining: 0us\n"
     ]
    },
    {
     "name": "stderr",
     "output_type": "stream",
     "text": [
      "11it [40:38, 221.67s/it]"
     ]
    },
    {
     "name": "stdout",
     "output_type": "stream",
     "text": [
      "fold Loss 10:  0.2412454224355335\n",
      "---------------------------------------------------------------------------\n",
      "Learning rate set to 0.002361\n",
      "0:\tlearn: 0.6913749\ttotal: 88.2ms\tremaining: 7m 20s\n",
      "999:\tlearn: 0.2277636\ttotal: 43.9s\tremaining: 2m 55s\n",
      "1998:\tlearn: 0.1415137\ttotal: 1m 28s\tremaining: 2m 13s\n",
      "2997:\tlearn: 0.0948206\ttotal: 2m 12s\tremaining: 1m 28s\n",
      "3996:\tlearn: 0.0659237\ttotal: 2m 56s\tremaining: 44.4s\n",
      "4995:\tlearn: 0.0459412\ttotal: 3m 41s\tremaining: 177ms\n",
      "4999:\tlearn: 0.0458868\ttotal: 3m 41s\tremaining: 0us\n"
     ]
    },
    {
     "name": "stderr",
     "output_type": "stream",
     "text": [
      "12it [44:21, 221.90s/it]"
     ]
    },
    {
     "name": "stdout",
     "output_type": "stream",
     "text": [
      "fold Loss 11:  0.25478255768270974\n",
      "---------------------------------------------------------------------------\n",
      "Learning rate set to 0.002361\n",
      "0:\tlearn: 0.6912573\ttotal: 83.8ms\tremaining: 6m 58s\n",
      "999:\tlearn: 0.2248153\ttotal: 44.9s\tremaining: 2m 59s\n",
      "1998:\tlearn: 0.1390120\ttotal: 1m 30s\tremaining: 2m 15s\n",
      "2997:\tlearn: 0.0944000\ttotal: 2m 17s\tremaining: 1m 31s\n",
      "3996:\tlearn: 0.0673689\ttotal: 3m 1s\tremaining: 45.7s\n",
      "4995:\tlearn: 0.0475475\ttotal: 3m 47s\tremaining: 182ms\n",
      "4999:\tlearn: 0.0474843\ttotal: 3m 47s\tremaining: 0us\n"
     ]
    },
    {
     "name": "stderr",
     "output_type": "stream",
     "text": [
      "13it [48:09, 223.82s/it]"
     ]
    },
    {
     "name": "stdout",
     "output_type": "stream",
     "text": [
      "fold Loss 12:  0.24332533219641306\n",
      "---------------------------------------------------------------------------\n",
      "Learning rate set to 0.002361\n",
      "0:\tlearn: 0.6914993\ttotal: 88.5ms\tremaining: 7m 22s\n",
      "999:\tlearn: 0.2303535\ttotal: 45s\tremaining: 3m\n",
      "1998:\tlearn: 0.1429834\ttotal: 1m 29s\tremaining: 2m 15s\n",
      "2997:\tlearn: 0.0969682\ttotal: 2m 14s\tremaining: 1m 29s\n",
      "3996:\tlearn: 0.0684880\ttotal: 2m 59s\tremaining: 45s\n",
      "4995:\tlearn: 0.0490574\ttotal: 3m 43s\tremaining: 179ms\n",
      "4999:\tlearn: 0.0489840\ttotal: 3m 43s\tremaining: 0us\n"
     ]
    },
    {
     "name": "stderr",
     "output_type": "stream",
     "text": [
      "14it [51:54, 224.01s/it]"
     ]
    },
    {
     "name": "stdout",
     "output_type": "stream",
     "text": [
      "fold Loss 13:  0.18135111119351746\n",
      "---------------------------------------------------------------------------\n",
      "Learning rate set to 0.002361\n",
      "0:\tlearn: 0.6912995\ttotal: 88.6ms\tremaining: 7m 23s\n",
      "999:\tlearn: 0.2244659\ttotal: 43.7s\tremaining: 2m 54s\n",
      "1998:\tlearn: 0.1396105\ttotal: 1m 27s\tremaining: 2m 11s\n",
      "2997:\tlearn: 0.0959159\ttotal: 2m 11s\tremaining: 1m 27s\n",
      "3996:\tlearn: 0.0675923\ttotal: 2m 55s\tremaining: 43.9s\n",
      "4995:\tlearn: 0.0476784\ttotal: 3m 39s\tremaining: 176ms\n",
      "4999:\tlearn: 0.0476102\ttotal: 3m 39s\tremaining: 0us\n"
     ]
    },
    {
     "name": "stderr",
     "output_type": "stream",
     "text": [
      "15it [55:34, 222.98s/it]"
     ]
    },
    {
     "name": "stdout",
     "output_type": "stream",
     "text": [
      "fold Loss 14:  0.28468424891546595\n",
      "---------------------------------------------------------------------------\n",
      "Learning rate set to 0.002361\n",
      "0:\tlearn: 0.6914721\ttotal: 84.7ms\tremaining: 7m 3s\n",
      "999:\tlearn: 0.2271150\ttotal: 44s\tremaining: 2m 56s\n",
      "1998:\tlearn: 0.1415518\ttotal: 1m 28s\tremaining: 2m 12s\n",
      "2997:\tlearn: 0.0963964\ttotal: 2m 12s\tremaining: 1m 28s\n",
      "3996:\tlearn: 0.0676382\ttotal: 2m 56s\tremaining: 44.4s\n",
      "4995:\tlearn: 0.0479341\ttotal: 3m 41s\tremaining: 177ms\n",
      "4999:\tlearn: 0.0478563\ttotal: 3m 41s\tremaining: 0us\n"
     ]
    },
    {
     "name": "stderr",
     "output_type": "stream",
     "text": [
      "16it [59:16, 222.74s/it]"
     ]
    },
    {
     "name": "stdout",
     "output_type": "stream",
     "text": [
      "fold Loss 15:  0.21185744117832522\n",
      "---------------------------------------------------------------------------\n",
      "Learning rate set to 0.002361\n",
      "0:\tlearn: 0.6912668\ttotal: 87.6ms\tremaining: 7m 18s\n",
      "999:\tlearn: 0.2275829\ttotal: 44.3s\tremaining: 2m 57s\n",
      "1998:\tlearn: 0.1415716\ttotal: 1m 27s\tremaining: 2m 12s\n",
      "2997:\tlearn: 0.0967770\ttotal: 2m 11s\tremaining: 1m 27s\n",
      "3996:\tlearn: 0.0688732\ttotal: 2m 55s\tremaining: 44s\n",
      "4995:\tlearn: 0.0490156\ttotal: 3m 39s\tremaining: 176ms\n",
      "4999:\tlearn: 0.0489708\ttotal: 3m 39s\tremaining: 0us\n"
     ]
    },
    {
     "name": "stderr",
     "output_type": "stream",
     "text": [
      "17it [1:02:57, 222.03s/it]"
     ]
    },
    {
     "name": "stdout",
     "output_type": "stream",
     "text": [
      "fold Loss 16:  0.24477145275095746\n",
      "---------------------------------------------------------------------------\n",
      "Learning rate set to 0.002361\n",
      "0:\tlearn: 0.6913419\ttotal: 88.2ms\tremaining: 7m 20s\n",
      "999:\tlearn: 0.2292158\ttotal: 44.4s\tremaining: 2m 57s\n",
      "1998:\tlearn: 0.1423359\ttotal: 1m 28s\tremaining: 2m 12s\n",
      "2997:\tlearn: 0.0968568\ttotal: 2m 11s\tremaining: 1m 27s\n",
      "3996:\tlearn: 0.0687892\ttotal: 2m 55s\tremaining: 44.1s\n",
      "4995:\tlearn: 0.0485453\ttotal: 3m 39s\tremaining: 176ms\n",
      "4999:\tlearn: 0.0484913\ttotal: 3m 39s\tremaining: 0us\n"
     ]
    },
    {
     "name": "stderr",
     "output_type": "stream",
     "text": [
      "18it [1:06:37, 221.53s/it]"
     ]
    },
    {
     "name": "stdout",
     "output_type": "stream",
     "text": [
      "fold Loss 17:  0.20007735194301274\n",
      "---------------------------------------------------------------------------\n",
      "Learning rate set to 0.002361\n",
      "0:\tlearn: 0.6915012\ttotal: 91.5ms\tremaining: 7m 37s\n",
      "999:\tlearn: 0.2299154\ttotal: 44.4s\tremaining: 2m 57s\n",
      "1998:\tlearn: 0.1437357\ttotal: 1m 28s\tremaining: 2m 13s\n",
      "2997:\tlearn: 0.0991178\ttotal: 2m 12s\tremaining: 1m 28s\n",
      "3996:\tlearn: 0.0709027\ttotal: 2m 56s\tremaining: 44.4s\n",
      "4995:\tlearn: 0.0512619\ttotal: 3m 40s\tremaining: 177ms\n",
      "4999:\tlearn: 0.0512198\ttotal: 3m 40s\tremaining: 0us\n"
     ]
    },
    {
     "name": "stderr",
     "output_type": "stream",
     "text": [
      "19it [1:10:19, 221.61s/it]"
     ]
    },
    {
     "name": "stdout",
     "output_type": "stream",
     "text": [
      "fold Loss 18:  0.17648890678375015\n",
      "---------------------------------------------------------------------------\n",
      "Learning rate set to 0.002362\n",
      "0:\tlearn: 0.6914540\ttotal: 85.7ms\tremaining: 7m 8s\n",
      "999:\tlearn: 0.2273430\ttotal: 44.3s\tremaining: 2m 57s\n",
      "1998:\tlearn: 0.1419080\ttotal: 1m 29s\tremaining: 2m 14s\n",
      "2997:\tlearn: 0.0971734\ttotal: 2m 13s\tremaining: 1m 29s\n",
      "3996:\tlearn: 0.0681573\ttotal: 2m 58s\tremaining: 44.7s\n",
      "4995:\tlearn: 0.0480581\ttotal: 3m 43s\tremaining: 179ms\n",
      "4999:\tlearn: 0.0480054\ttotal: 3m 43s\tremaining: 0us\n"
     ]
    },
    {
     "name": "stderr",
     "output_type": "stream",
     "text": [
      "20it [1:14:04, 222.20s/it]"
     ]
    },
    {
     "name": "stdout",
     "output_type": "stream",
     "text": [
      "fold Loss 19:  0.18094062871159977\n",
      "---------------------------------------------------------------------------\n",
      "Training Loss: 0.05456555780428164\n",
      "Loss for iron_oxide:\n",
      "0.2057780533880002 0.04723472928939598\n",
      "==================================================================================================\n",
      "TARGET  oxalate\n"
     ]
    },
    {
     "name": "stderr",
     "output_type": "stream",
     "text": [
      "\n"
     ]
    },
    {
     "name": "stdout",
     "output_type": "stream",
     "text": [
      "0.035633556959924484\n"
     ]
    },
    {
     "name": "stderr",
     "output_type": "stream",
     "text": [
      "100%|██████████| 101/101 [00:00<00:00, 126455.14it/s]\n"
     ]
    },
    {
     "name": "stdout",
     "output_type": "stream",
     "text": [
      "10\n",
      "0.03666404434484536\n"
     ]
    },
    {
     "name": "stderr",
     "output_type": "stream",
     "text": [
      "100%|██████████| 3900/3900 [00:00<00:00, 864987.87it/s]\n"
     ]
    },
    {
     "name": "stdout",
     "output_type": "stream",
     "text": [
      "16\n",
      "0.030713642606214696\n"
     ]
    },
    {
     "name": "stderr",
     "output_type": "stream",
     "text": [
      "100%|██████████| 4200/4200 [00:00<00:00, 857104.89it/s]\n"
     ]
    },
    {
     "name": "stdout",
     "output_type": "stream",
     "text": [
      "25\n",
      "0.03176517648878776\n"
     ]
    },
    {
     "name": "stderr",
     "output_type": "stream",
     "text": [
      "100%|██████████| 4000/4000 [00:00<00:00, 778778.07it/s]\n"
     ]
    },
    {
     "name": "stdout",
     "output_type": "stream",
     "text": [
      "23\n",
      "(1059, 23) (1059, 10) (1059, 16) (1059, 25)\n",
      "(1059, 74)\n",
      "(804, 23) (804, 10) (804, 16) (804, 25)\n",
      "(804, 74)\n"
     ]
    },
    {
     "name": "stderr",
     "output_type": "stream",
     "text": [
      "0it [00:00, ?it/s]"
     ]
    },
    {
     "name": "stdout",
     "output_type": "stream",
     "text": [
      "Learning rate set to 0.002361\n",
      "0:\tlearn: 0.6874931\ttotal: 15.1ms\tremaining: 1m 15s\n",
      "999:\tlearn: 0.0066588\ttotal: 9.81s\tremaining: 39.2s\n",
      "1998:\tlearn: 0.0019877\ttotal: 20s\tremaining: 30s\n",
      "2997:\tlearn: 0.0010165\ttotal: 29.7s\tremaining: 19.9s\n",
      "3996:\tlearn: 0.0006012\ttotal: 39.5s\tremaining: 9.91s\n"
     ]
    },
    {
     "name": "stderr",
     "output_type": "stream",
     "text": [
      "1it [00:50, 50.16s/it]"
     ]
    },
    {
     "name": "stdout",
     "output_type": "stream",
     "text": [
      "4995:\tlearn: 0.0004108\ttotal: 49.3s\tremaining: 39.5ms\n",
      "4999:\tlearn: 0.0004102\ttotal: 49.4s\tremaining: 0us\n",
      "fold Loss 0:  0.00028381112586789057\n",
      "---------------------------------------------------------------------------\n",
      "Learning rate set to 0.002361\n",
      "0:\tlearn: 0.6875572\ttotal: 18.8ms\tremaining: 1m 33s\n",
      "999:\tlearn: 0.0067496\ttotal: 10.1s\tremaining: 40.3s\n",
      "1998:\tlearn: 0.0020191\ttotal: 19.8s\tremaining: 29.8s\n",
      "2997:\tlearn: 0.0010098\ttotal: 29.6s\tremaining: 19.8s\n",
      "3996:\tlearn: 0.0006049\ttotal: 39.5s\tremaining: 9.91s\n"
     ]
    },
    {
     "name": "stderr",
     "output_type": "stream",
     "text": [
      "2it [01:40, 49.99s/it]"
     ]
    },
    {
     "name": "stdout",
     "output_type": "stream",
     "text": [
      "4995:\tlearn: 0.0004301\ttotal: 49.1s\tremaining: 39.3ms\n",
      "4999:\tlearn: 0.0004296\ttotal: 49.1s\tremaining: 0us\n",
      "fold Loss 1:  0.00022678271234951737\n",
      "---------------------------------------------------------------------------\n",
      "Learning rate set to 0.002361\n",
      "0:\tlearn: 0.6877180\ttotal: 15.1ms\tremaining: 1m 15s\n",
      "999:\tlearn: 0.0068774\ttotal: 9.68s\tremaining: 38.7s\n",
      "1998:\tlearn: 0.0020533\ttotal: 19.6s\tremaining: 29.5s\n",
      "2997:\tlearn: 0.0010435\ttotal: 29.2s\tremaining: 19.5s\n",
      "3996:\tlearn: 0.0006183\ttotal: 38.9s\tremaining: 9.76s\n"
     ]
    },
    {
     "name": "stderr",
     "output_type": "stream",
     "text": [
      "3it [02:29, 49.65s/it]"
     ]
    },
    {
     "name": "stdout",
     "output_type": "stream",
     "text": [
      "4995:\tlearn: 0.0004563\ttotal: 48.5s\tremaining: 38.8ms\n",
      "4999:\tlearn: 0.0004558\ttotal: 48.5s\tremaining: 0us\n",
      "fold Loss 2:  0.0006049763840113259\n",
      "---------------------------------------------------------------------------\n",
      "Learning rate set to 0.002361\n",
      "0:\tlearn: 0.6875390\ttotal: 23.8ms\tremaining: 1m 58s\n",
      "999:\tlearn: 0.0067694\ttotal: 9.8s\tremaining: 39.2s\n",
      "1998:\tlearn: 0.0020178\ttotal: 19.2s\tremaining: 28.9s\n",
      "2997:\tlearn: 0.0010240\ttotal: 28.7s\tremaining: 19.2s\n",
      "3996:\tlearn: 0.0006101\ttotal: 38.6s\tremaining: 9.68s\n"
     ]
    },
    {
     "name": "stderr",
     "output_type": "stream",
     "text": [
      "4it [03:18, 49.42s/it]"
     ]
    },
    {
     "name": "stdout",
     "output_type": "stream",
     "text": [
      "4995:\tlearn: 0.0004298\ttotal: 48.3s\tremaining: 38.7ms\n",
      "4999:\tlearn: 0.0004292\ttotal: 48.3s\tremaining: 0us\n",
      "fold Loss 3:  0.00022962762132322303\n",
      "---------------------------------------------------------------------------\n",
      "Learning rate set to 0.002361\n",
      "0:\tlearn: 0.6874745\ttotal: 15.7ms\tremaining: 1m 18s\n",
      "999:\tlearn: 0.0066815\ttotal: 9.48s\tremaining: 37.9s\n",
      "1998:\tlearn: 0.0019964\ttotal: 19.3s\tremaining: 28.9s\n",
      "2997:\tlearn: 0.0010268\ttotal: 28.9s\tremaining: 19.3s\n",
      "3996:\tlearn: 0.0006039\ttotal: 38.5s\tremaining: 9.67s\n"
     ]
    },
    {
     "name": "stderr",
     "output_type": "stream",
     "text": [
      "5it [04:07, 49.22s/it]"
     ]
    },
    {
     "name": "stdout",
     "output_type": "stream",
     "text": [
      "4995:\tlearn: 0.0004224\ttotal: 48.1s\tremaining: 38.5ms\n",
      "4999:\tlearn: 0.0004219\ttotal: 48.1s\tremaining: 0us\n",
      "fold Loss 4:  0.0004665523171625914\n",
      "---------------------------------------------------------------------------\n",
      "Learning rate set to 0.002361\n",
      "0:\tlearn: 0.6883254\ttotal: 14.8ms\tremaining: 1m 14s\n",
      "999:\tlearn: 0.0069506\ttotal: 9.98s\tremaining: 39.9s\n",
      "1998:\tlearn: 0.0020971\ttotal: 19.7s\tremaining: 29.5s\n",
      "2997:\tlearn: 0.0010707\ttotal: 29.3s\tremaining: 19.6s\n",
      "3996:\tlearn: 0.0006643\ttotal: 39.5s\tremaining: 9.91s\n"
     ]
    },
    {
     "name": "stderr",
     "output_type": "stream",
     "text": [
      "6it [04:57, 49.43s/it]"
     ]
    },
    {
     "name": "stdout",
     "output_type": "stream",
     "text": [
      "4995:\tlearn: 0.0004702\ttotal: 49s\tremaining: 39.3ms\n",
      "4999:\tlearn: 0.0004697\ttotal: 49.1s\tremaining: 0us\n",
      "fold Loss 5:  0.0011095213787070425\n",
      "---------------------------------------------------------------------------\n",
      "Learning rate set to 0.002361\n",
      "0:\tlearn: 0.6875429\ttotal: 15ms\tremaining: 1m 14s\n",
      "999:\tlearn: 0.0064664\ttotal: 9.56s\tremaining: 38.2s\n",
      "1998:\tlearn: 0.0019193\ttotal: 19.7s\tremaining: 29.5s\n",
      "2997:\tlearn: 0.0009763\ttotal: 29.2s\tremaining: 19.5s\n",
      "3996:\tlearn: 0.0006000\ttotal: 38.6s\tremaining: 9.69s\n"
     ]
    },
    {
     "name": "stderr",
     "output_type": "stream",
     "text": [
      "7it [05:45, 49.20s/it]"
     ]
    },
    {
     "name": "stdout",
     "output_type": "stream",
     "text": [
      "4995:\tlearn: 0.0004093\ttotal: 48s\tremaining: 38.4ms\n",
      "4999:\tlearn: 0.0004088\ttotal: 48s\tremaining: 0us\n",
      "fold Loss 6:  0.016657120362452878\n",
      "---------------------------------------------------------------------------\n",
      "Learning rate set to 0.002361\n",
      "0:\tlearn: 0.6880247\ttotal: 18.6ms\tremaining: 1m 33s\n",
      "999:\tlearn: 0.0069726\ttotal: 9.84s\tremaining: 39.3s\n",
      "1998:\tlearn: 0.0020394\ttotal: 19.4s\tremaining: 29.1s\n",
      "2997:\tlearn: 0.0010276\ttotal: 28.9s\tremaining: 19.3s\n",
      "3996:\tlearn: 0.0006071\ttotal: 38.6s\tremaining: 9.68s\n"
     ]
    },
    {
     "name": "stderr",
     "output_type": "stream",
     "text": [
      "8it [06:34, 49.14s/it]"
     ]
    },
    {
     "name": "stdout",
     "output_type": "stream",
     "text": [
      "4995:\tlearn: 0.0004259\ttotal: 48.3s\tremaining: 38.6ms\n",
      "4999:\tlearn: 0.0004253\ttotal: 48.3s\tremaining: 0us\n",
      "fold Loss 7:  0.0001640619616029866\n",
      "---------------------------------------------------------------------------\n",
      "Learning rate set to 0.002361\n",
      "0:\tlearn: 0.6879688\ttotal: 15.1ms\tremaining: 1m 15s\n",
      "999:\tlearn: 0.0057819\ttotal: 9.58s\tremaining: 38.3s\n",
      "1998:\tlearn: 0.0018194\ttotal: 19.4s\tremaining: 29.1s\n",
      "2997:\tlearn: 0.0009395\ttotal: 28.9s\tremaining: 19.3s\n",
      "3996:\tlearn: 0.0005836\ttotal: 38.6s\tremaining: 9.68s\n"
     ]
    },
    {
     "name": "stderr",
     "output_type": "stream",
     "text": [
      "9it [07:23, 49.06s/it]"
     ]
    },
    {
     "name": "stdout",
     "output_type": "stream",
     "text": [
      "4995:\tlearn: 0.0004515\ttotal: 48.1s\tremaining: 38.5ms\n",
      "4999:\tlearn: 0.0004511\ttotal: 48.1s\tremaining: 0us\n",
      "fold Loss 8:  0.13117999884772866\n",
      "---------------------------------------------------------------------------\n",
      "Learning rate set to 0.002361\n",
      "0:\tlearn: 0.6874907\ttotal: 14.7ms\tremaining: 1m 13s\n",
      "999:\tlearn: 0.0068124\ttotal: 10.1s\tremaining: 40.4s\n",
      "1998:\tlearn: 0.0020427\ttotal: 20s\tremaining: 30s\n",
      "2997:\tlearn: 0.0010378\ttotal: 29.9s\tremaining: 19.9s\n",
      "3996:\tlearn: 0.0006316\ttotal: 40.3s\tremaining: 10.1s\n"
     ]
    },
    {
     "name": "stderr",
     "output_type": "stream",
     "text": [
      "10it [08:14, 49.66s/it]"
     ]
    },
    {
     "name": "stdout",
     "output_type": "stream",
     "text": [
      "4995:\tlearn: 0.0004308\ttotal: 50.2s\tremaining: 40.2ms\n",
      "4999:\tlearn: 0.0004302\ttotal: 50.2s\tremaining: 0us\n",
      "fold Loss 9:  0.0013726990574284119\n",
      "---------------------------------------------------------------------------\n",
      "Learning rate set to 0.002361\n",
      "0:\tlearn: 0.6873583\ttotal: 20.3ms\tremaining: 1m 41s\n",
      "999:\tlearn: 0.0057847\ttotal: 9.91s\tremaining: 39.7s\n",
      "1998:\tlearn: 0.0017322\ttotal: 20.1s\tremaining: 30.1s\n",
      "2997:\tlearn: 0.0008873\ttotal: 30s\tremaining: 20s\n",
      "3996:\tlearn: 0.0005512\ttotal: 39.9s\tremaining: 10s\n"
     ]
    },
    {
     "name": "stderr",
     "output_type": "stream",
     "text": [
      "11it [09:05, 49.99s/it]"
     ]
    },
    {
     "name": "stdout",
     "output_type": "stream",
     "text": [
      "4995:\tlearn: 0.0004184\ttotal: 49.9s\tremaining: 39.9ms\n",
      "4999:\tlearn: 0.0004179\ttotal: 49.9s\tremaining: 0us\n",
      "fold Loss 10:  0.14265755228505758\n",
      "---------------------------------------------------------------------------\n",
      "Learning rate set to 0.002361\n",
      "0:\tlearn: 0.6878142\ttotal: 20.3ms\tremaining: 1m 41s\n",
      "999:\tlearn: 0.0065836\ttotal: 9.97s\tremaining: 39.9s\n",
      "1998:\tlearn: 0.0019242\ttotal: 20s\tremaining: 30s\n",
      "2997:\tlearn: 0.0009660\ttotal: 30s\tremaining: 20.1s\n",
      "3996:\tlearn: 0.0005904\ttotal: 40.4s\tremaining: 10.1s\n"
     ]
    },
    {
     "name": "stderr",
     "output_type": "stream",
     "text": [
      "12it [09:56, 50.35s/it]"
     ]
    },
    {
     "name": "stdout",
     "output_type": "stream",
     "text": [
      "4995:\tlearn: 0.0004053\ttotal: 50.3s\tremaining: 40.3ms\n",
      "4999:\tlearn: 0.0004048\ttotal: 50.4s\tremaining: 0us\n",
      "fold Loss 11:  0.0015707216257538942\n",
      "---------------------------------------------------------------------------\n",
      "Learning rate set to 0.002361\n",
      "0:\tlearn: 0.6875132\ttotal: 19.7ms\tremaining: 1m 38s\n",
      "999:\tlearn: 0.0065599\ttotal: 10.1s\tremaining: 40.6s\n",
      "1998:\tlearn: 0.0019472\ttotal: 20.5s\tremaining: 30.8s\n",
      "2997:\tlearn: 0.0009927\ttotal: 30.4s\tremaining: 20.3s\n",
      "3996:\tlearn: 0.0006013\ttotal: 40.7s\tremaining: 10.2s\n"
     ]
    },
    {
     "name": "stderr",
     "output_type": "stream",
     "text": [
      "13it [10:48, 50.72s/it]"
     ]
    },
    {
     "name": "stdout",
     "output_type": "stream",
     "text": [
      "4995:\tlearn: 0.0004087\ttotal: 50.8s\tremaining: 40.6ms\n",
      "4999:\tlearn: 0.0004082\ttotal: 50.8s\tremaining: 0us\n",
      "fold Loss 12:  0.0006499264848964167\n",
      "---------------------------------------------------------------------------\n",
      "Learning rate set to 0.002361\n",
      "0:\tlearn: 0.6874880\ttotal: 15.2ms\tremaining: 1m 16s\n",
      "999:\tlearn: 0.0067998\ttotal: 9.86s\tremaining: 39.4s\n",
      "1998:\tlearn: 0.0020124\ttotal: 19.9s\tremaining: 29.8s\n",
      "2997:\tlearn: 0.0010150\ttotal: 30.1s\tremaining: 20.1s\n",
      "3996:\tlearn: 0.0005933\ttotal: 40s\tremaining: 10s\n"
     ]
    },
    {
     "name": "stderr",
     "output_type": "stream",
     "text": [
      "14it [11:38, 50.74s/it]"
     ]
    },
    {
     "name": "stdout",
     "output_type": "stream",
     "text": [
      "4995:\tlearn: 0.0004166\ttotal: 50s\tremaining: 40ms\n",
      "4999:\tlearn: 0.0004163\ttotal: 50s\tremaining: 0us\n",
      "fold Loss 13:  0.00039706372666715783\n",
      "---------------------------------------------------------------------------\n",
      "Learning rate set to 0.002361\n",
      "0:\tlearn: 0.6875667\ttotal: 15ms\tremaining: 1m 14s\n",
      "999:\tlearn: 0.0068297\ttotal: 9.79s\tremaining: 39.2s\n",
      "1998:\tlearn: 0.0020312\ttotal: 19.8s\tremaining: 29.7s\n",
      "2997:\tlearn: 0.0010289\ttotal: 29.5s\tremaining: 19.7s\n",
      "3996:\tlearn: 0.0006361\ttotal: 39.3s\tremaining: 9.87s\n"
     ]
    },
    {
     "name": "stderr",
     "output_type": "stream",
     "text": [
      "15it [12:29, 50.56s/it]"
     ]
    },
    {
     "name": "stdout",
     "output_type": "stream",
     "text": [
      "4995:\tlearn: 0.0004359\ttotal: 49.4s\tremaining: 39.5ms\n",
      "4999:\tlearn: 0.0004353\ttotal: 49.4s\tremaining: 0us\n",
      "fold Loss 14:  0.0004453018313889466\n",
      "---------------------------------------------------------------------------\n",
      "Learning rate set to 0.002361\n",
      "0:\tlearn: 0.6876680\ttotal: 15ms\tremaining: 1m 15s\n",
      "999:\tlearn: 0.0063821\ttotal: 9.75s\tremaining: 39s\n",
      "1998:\tlearn: 0.0019428\ttotal: 19.5s\tremaining: 29.2s\n",
      "2997:\tlearn: 0.0010177\ttotal: 29.7s\tremaining: 19.8s\n",
      "3996:\tlearn: 0.0006248\ttotal: 39.4s\tremaining: 9.89s\n"
     ]
    },
    {
     "name": "stderr",
     "output_type": "stream",
     "text": [
      "16it [13:19, 50.36s/it]"
     ]
    },
    {
     "name": "stdout",
     "output_type": "stream",
     "text": [
      "4995:\tlearn: 0.0004466\ttotal: 49.1s\tremaining: 39.3ms\n",
      "4999:\tlearn: 0.0004462\ttotal: 49.1s\tremaining: 0us\n",
      "fold Loss 15:  0.009510672903751667\n",
      "---------------------------------------------------------------------------\n",
      "Learning rate set to 0.002361\n",
      "0:\tlearn: 0.6875032\ttotal: 15.2ms\tremaining: 1m 15s\n",
      "999:\tlearn: 0.0067372\ttotal: 9.9s\tremaining: 39.6s\n",
      "1998:\tlearn: 0.0019938\ttotal: 20.1s\tremaining: 30.1s\n",
      "2997:\tlearn: 0.0010054\ttotal: 29.6s\tremaining: 19.8s\n",
      "3996:\tlearn: 0.0006019\ttotal: 39.3s\tremaining: 9.86s\n"
     ]
    },
    {
     "name": "stderr",
     "output_type": "stream",
     "text": [
      "17it [14:09, 50.33s/it]"
     ]
    },
    {
     "name": "stdout",
     "output_type": "stream",
     "text": [
      "4995:\tlearn: 0.0004014\ttotal: 49.5s\tremaining: 39.6ms\n",
      "4999:\tlearn: 0.0004009\ttotal: 49.5s\tremaining: 0us\n",
      "fold Loss 16:  0.001674701465936801\n",
      "---------------------------------------------------------------------------\n",
      "Learning rate set to 0.002361\n",
      "0:\tlearn: 0.6874884\ttotal: 19ms\tremaining: 1m 35s\n",
      "999:\tlearn: 0.0064753\ttotal: 9.93s\tremaining: 39.7s\n",
      "1998:\tlearn: 0.0019009\ttotal: 19.9s\tremaining: 29.8s\n",
      "2997:\tlearn: 0.0009629\ttotal: 29.9s\tremaining: 20s\n",
      "3996:\tlearn: 0.0005904\ttotal: 39.7s\tremaining: 9.96s\n"
     ]
    },
    {
     "name": "stderr",
     "output_type": "stream",
     "text": [
      "18it [14:59, 50.38s/it]"
     ]
    },
    {
     "name": "stdout",
     "output_type": "stream",
     "text": [
      "4995:\tlearn: 0.0004047\ttotal: 49.7s\tremaining: 39.8ms\n",
      "4999:\tlearn: 0.0004043\ttotal: 49.7s\tremaining: 0us\n",
      "fold Loss 17:  0.000818400109917194\n",
      "---------------------------------------------------------------------------\n",
      "Learning rate set to 0.002361\n",
      "0:\tlearn: 0.6875155\ttotal: 15.3ms\tremaining: 1m 16s\n",
      "999:\tlearn: 0.0064979\ttotal: 9.99s\tremaining: 39.9s\n",
      "1998:\tlearn: 0.0019725\ttotal: 19.9s\tremaining: 29.9s\n",
      "2997:\tlearn: 0.0010038\ttotal: 29.9s\tremaining: 20s\n",
      "3996:\tlearn: 0.0006299\ttotal: 39.7s\tremaining: 9.97s\n"
     ]
    },
    {
     "name": "stderr",
     "output_type": "stream",
     "text": [
      "19it [15:50, 50.49s/it]"
     ]
    },
    {
     "name": "stdout",
     "output_type": "stream",
     "text": [
      "4995:\tlearn: 0.0004743\ttotal: 49.9s\tremaining: 40ms\n",
      "4999:\tlearn: 0.0004737\ttotal: 50s\tremaining: 0us\n",
      "fold Loss 18:  0.0012600085860957327\n",
      "---------------------------------------------------------------------------\n",
      "Learning rate set to 0.002362\n",
      "0:\tlearn: 0.6875515\ttotal: 15.2ms\tremaining: 1m 15s\n",
      "999:\tlearn: 0.0064541\ttotal: 9.79s\tremaining: 39.1s\n",
      "1998:\tlearn: 0.0019070\ttotal: 19.5s\tremaining: 29.3s\n",
      "2997:\tlearn: 0.0009832\ttotal: 29.8s\tremaining: 19.9s\n",
      "3996:\tlearn: 0.0006244\ttotal: 39.5s\tremaining: 9.91s\n"
     ]
    },
    {
     "name": "stderr",
     "output_type": "stream",
     "text": [
      "20it [16:40, 50.02s/it]"
     ]
    },
    {
     "name": "stdout",
     "output_type": "stream",
     "text": [
      "4995:\tlearn: 0.0004484\ttotal: 49.2s\tremaining: 39.4ms\n",
      "4999:\tlearn: 0.0004481\ttotal: 49.2s\tremaining: 0us\n",
      "fold Loss 19:  0.001099110172132396\n",
      "---------------------------------------------------------------------------\n",
      "Training Loss: 0.0004818617010334239\n",
      "Loss for oxalate:\n",
      "0.015618930548011615 0.04065814080548542\n",
      "==================================================================================================\n",
      "TARGET  oxychlorine\n"
     ]
    },
    {
     "name": "stderr",
     "output_type": "stream",
     "text": [
      "\n"
     ]
    },
    {
     "name": "stdout",
     "output_type": "stream",
     "text": [
      "0.41853031726244555\n"
     ]
    },
    {
     "name": "stderr",
     "output_type": "stream",
     "text": [
      "100%|██████████| 101/101 [00:00<00:00, 400401.42it/s]\n"
     ]
    },
    {
     "name": "stdout",
     "output_type": "stream",
     "text": [
      "27\n",
      "0.2734421958133496\n"
     ]
    },
    {
     "name": "stderr",
     "output_type": "stream",
     "text": [
      "100%|██████████| 3900/3900 [00:00<00:00, 830723.97it/s]\n"
     ]
    },
    {
     "name": "stdout",
     "output_type": "stream",
     "text": [
      "73\n",
      "0.23193389887044052\n"
     ]
    },
    {
     "name": "stderr",
     "output_type": "stream",
     "text": [
      "100%|██████████| 4200/4200 [00:00<00:00, 764951.88it/s]\n"
     ]
    },
    {
     "name": "stdout",
     "output_type": "stream",
     "text": [
      "99\n",
      "0.24040177184039627\n"
     ]
    },
    {
     "name": "stderr",
     "output_type": "stream",
     "text": [
      "100%|██████████| 4000/4000 [00:00<00:00, 848190.90it/s]\n"
     ]
    },
    {
     "name": "stdout",
     "output_type": "stream",
     "text": [
      "94\n",
      "(1059, 94) (1059, 27) (1059, 73) (1059, 99)\n",
      "(1059, 293)\n",
      "(804, 94) (804, 27) (804, 73) (804, 99)\n",
      "(804, 293)\n"
     ]
    },
    {
     "name": "stderr",
     "output_type": "stream",
     "text": [
      "0it [00:00, ?it/s]"
     ]
    },
    {
     "name": "stdout",
     "output_type": "stream",
     "text": [
      "Learning rate set to 0.002361\n",
      "0:\tlearn: 0.6906848\ttotal: 55.2ms\tremaining: 4m 35s\n",
      "999:\tlearn: 0.1387577\ttotal: 36.2s\tremaining: 2m 24s\n",
      "1998:\tlearn: 0.0789499\ttotal: 1m 12s\tremaining: 1m 48s\n",
      "2997:\tlearn: 0.0530035\ttotal: 1m 48s\tremaining: 1m 12s\n",
      "3996:\tlearn: 0.0359830\ttotal: 2m 24s\tremaining: 36.4s\n",
      "4995:\tlearn: 0.0253765\ttotal: 3m 1s\tremaining: 145ms\n",
      "4999:\tlearn: 0.0253517\ttotal: 3m 1s\tremaining: 0us\n"
     ]
    },
    {
     "name": "stderr",
     "output_type": "stream",
     "text": [
      "1it [03:02, 182.46s/it]"
     ]
    },
    {
     "name": "stdout",
     "output_type": "stream",
     "text": [
      "fold Loss 0:  0.07465299260601813\n",
      "---------------------------------------------------------------------------\n",
      "Learning rate set to 0.002361\n",
      "0:\tlearn: 0.6906683\ttotal: 72.6ms\tremaining: 6m 2s\n",
      "999:\tlearn: 0.1380015\ttotal: 36s\tremaining: 2m 24s\n",
      "1998:\tlearn: 0.0795353\ttotal: 1m 12s\tremaining: 1m 48s\n",
      "2997:\tlearn: 0.0535541\ttotal: 1m 48s\tremaining: 1m 12s\n",
      "3996:\tlearn: 0.0359670\ttotal: 2m 23s\tremaining: 36.1s\n",
      "4995:\tlearn: 0.0251079\ttotal: 2m 59s\tremaining: 144ms\n",
      "4999:\tlearn: 0.0250478\ttotal: 2m 59s\tremaining: 0us\n"
     ]
    },
    {
     "name": "stderr",
     "output_type": "stream",
     "text": [
      "2it [06:02, 181.28s/it]"
     ]
    },
    {
     "name": "stdout",
     "output_type": "stream",
     "text": [
      "fold Loss 1:  0.14131260482708738\n",
      "---------------------------------------------------------------------------\n",
      "Learning rate set to 0.002361\n",
      "0:\tlearn: 0.6906527\ttotal: 72.8ms\tremaining: 6m 3s\n",
      "999:\tlearn: 0.1322493\ttotal: 36s\tremaining: 2m 24s\n",
      "1998:\tlearn: 0.0747057\ttotal: 1m 11s\tremaining: 1m 47s\n",
      "2997:\tlearn: 0.0501623\ttotal: 1m 47s\tremaining: 1m 11s\n",
      "3996:\tlearn: 0.0335807\ttotal: 2m 23s\tremaining: 36s\n",
      "4995:\tlearn: 0.0233812\ttotal: 3m\tremaining: 144ms\n",
      "4999:\tlearn: 0.0233313\ttotal: 3m\tremaining: 0us\n"
     ]
    },
    {
     "name": "stderr",
     "output_type": "stream",
     "text": [
      "3it [09:03, 181.16s/it]"
     ]
    },
    {
     "name": "stdout",
     "output_type": "stream",
     "text": [
      "fold Loss 2:  0.22310385885230372\n",
      "---------------------------------------------------------------------------\n",
      "Learning rate set to 0.002361\n",
      "0:\tlearn: 0.6909111\ttotal: 70ms\tremaining: 5m 50s\n",
      "999:\tlearn: 0.1323806\ttotal: 36.7s\tremaining: 2m 26s\n",
      "1998:\tlearn: 0.0749915\ttotal: 1m 13s\tremaining: 1m 49s\n",
      "2997:\tlearn: 0.0500105\ttotal: 1m 49s\tremaining: 1m 13s\n",
      "3996:\tlearn: 0.0337346\ttotal: 2m 26s\tremaining: 36.6s\n",
      "4995:\tlearn: 0.0237852\ttotal: 3m 2s\tremaining: 146ms\n",
      "4999:\tlearn: 0.0237509\ttotal: 3m 2s\tremaining: 0us\n"
     ]
    },
    {
     "name": "stderr",
     "output_type": "stream",
     "text": [
      "4it [12:07, 182.13s/it]"
     ]
    },
    {
     "name": "stdout",
     "output_type": "stream",
     "text": [
      "fold Loss 3:  0.17567973682510463\n",
      "---------------------------------------------------------------------------\n",
      "Learning rate set to 0.002361\n",
      "0:\tlearn: 0.6910194\ttotal: 71.8ms\tremaining: 5m 58s\n",
      "999:\tlearn: 0.1381028\ttotal: 36.8s\tremaining: 2m 27s\n",
      "1998:\tlearn: 0.0794384\ttotal: 1m 13s\tremaining: 1m 50s\n",
      "2997:\tlearn: 0.0540538\ttotal: 1m 50s\tremaining: 1m 13s\n",
      "3996:\tlearn: 0.0367660\ttotal: 2m 26s\tremaining: 36.8s\n",
      "4995:\tlearn: 0.0256312\ttotal: 3m 3s\tremaining: 147ms\n",
      "4999:\tlearn: 0.0255860\ttotal: 3m 3s\tremaining: 0us\n"
     ]
    },
    {
     "name": "stderr",
     "output_type": "stream",
     "text": [
      "5it [15:12, 183.09s/it]"
     ]
    },
    {
     "name": "stdout",
     "output_type": "stream",
     "text": [
      "fold Loss 4:  0.06661809955660043\n",
      "---------------------------------------------------------------------------\n",
      "Learning rate set to 0.002361\n",
      "0:\tlearn: 0.6908477\ttotal: 69.7ms\tremaining: 5m 48s\n",
      "999:\tlearn: 0.1268247\ttotal: 36.9s\tremaining: 2m 27s\n",
      "1998:\tlearn: 0.0695511\ttotal: 1m 13s\tremaining: 1m 50s\n",
      "2997:\tlearn: 0.0430468\ttotal: 1m 50s\tremaining: 1m 13s\n",
      "3996:\tlearn: 0.0283228\ttotal: 2m 27s\tremaining: 37s\n",
      "4995:\tlearn: 0.0194488\ttotal: 3m 4s\tremaining: 147ms\n",
      "4999:\tlearn: 0.0194233\ttotal: 3m 4s\tremaining: 0us\n"
     ]
    },
    {
     "name": "stderr",
     "output_type": "stream",
     "text": [
      "6it [18:17, 183.80s/it]"
     ]
    },
    {
     "name": "stdout",
     "output_type": "stream",
     "text": [
      "fold Loss 5:  0.40736418787074286\n",
      "---------------------------------------------------------------------------\n",
      "Learning rate set to 0.002361\n",
      "0:\tlearn: 0.6910319\ttotal: 71.6ms\tremaining: 5m 57s\n",
      "999:\tlearn: 0.1309895\ttotal: 36.7s\tremaining: 2m 26s\n",
      "1998:\tlearn: 0.0752402\ttotal: 1m 13s\tremaining: 1m 50s\n",
      "2997:\tlearn: 0.0504639\ttotal: 1m 50s\tremaining: 1m 13s\n",
      "3996:\tlearn: 0.0340583\ttotal: 2m 27s\tremaining: 36.9s\n",
      "4995:\tlearn: 0.0237177\ttotal: 3m 3s\tremaining: 147ms\n",
      "4999:\tlearn: 0.0236683\ttotal: 3m 4s\tremaining: 0us\n"
     ]
    },
    {
     "name": "stderr",
     "output_type": "stream",
     "text": [
      "7it [21:22, 184.16s/it]"
     ]
    },
    {
     "name": "stdout",
     "output_type": "stream",
     "text": [
      "fold Loss 6:  0.17955878240557516\n",
      "---------------------------------------------------------------------------\n",
      "Learning rate set to 0.002361\n",
      "0:\tlearn: 0.6907172\ttotal: 71.1ms\tremaining: 5m 55s\n",
      "999:\tlearn: 0.1343889\ttotal: 36.9s\tremaining: 2m 27s\n",
      "1998:\tlearn: 0.0784113\ttotal: 1m 13s\tremaining: 1m 50s\n",
      "2997:\tlearn: 0.0521153\ttotal: 1m 50s\tremaining: 1m 13s\n",
      "3996:\tlearn: 0.0351488\ttotal: 2m 27s\tremaining: 37s\n",
      "4995:\tlearn: 0.0240975\ttotal: 3m 4s\tremaining: 148ms\n",
      "4999:\tlearn: 0.0240786\ttotal: 3m 4s\tremaining: 0us\n"
     ]
    },
    {
     "name": "stderr",
     "output_type": "stream",
     "text": [
      "8it [24:28, 184.65s/it]"
     ]
    },
    {
     "name": "stdout",
     "output_type": "stream",
     "text": [
      "fold Loss 7:  0.164501350241152\n",
      "---------------------------------------------------------------------------\n",
      "Learning rate set to 0.002361\n",
      "0:\tlearn: 0.6906375\ttotal: 75.5ms\tremaining: 6m 17s\n",
      "999:\tlearn: 0.1371309\ttotal: 37.2s\tremaining: 2m 28s\n",
      "1998:\tlearn: 0.0793073\ttotal: 1m 14s\tremaining: 1m 51s\n",
      "2997:\tlearn: 0.0531135\ttotal: 1m 51s\tremaining: 1m 14s\n",
      "3996:\tlearn: 0.0362300\ttotal: 2m 28s\tremaining: 37.3s\n",
      "4995:\tlearn: 0.0255995\ttotal: 3m 6s\tremaining: 149ms\n",
      "4999:\tlearn: 0.0255685\ttotal: 3m 6s\tremaining: 0us\n"
     ]
    },
    {
     "name": "stderr",
     "output_type": "stream",
     "text": [
      "9it [27:35, 185.57s/it]"
     ]
    },
    {
     "name": "stdout",
     "output_type": "stream",
     "text": [
      "fold Loss 8:  0.10541518517378333\n",
      "---------------------------------------------------------------------------\n",
      "Learning rate set to 0.002361\n",
      "0:\tlearn: 0.6911704\ttotal: 74.2ms\tremaining: 6m 10s\n",
      "999:\tlearn: 0.1331073\ttotal: 38s\tremaining: 2m 32s\n",
      "1998:\tlearn: 0.0764199\ttotal: 1m 16s\tremaining: 1m 54s\n",
      "2997:\tlearn: 0.0514273\ttotal: 1m 54s\tremaining: 1m 16s\n",
      "3996:\tlearn: 0.0347592\ttotal: 2m 31s\tremaining: 38.1s\n",
      "4995:\tlearn: 0.0240828\ttotal: 3m 9s\tremaining: 152ms\n",
      "4999:\tlearn: 0.0240496\ttotal: 3m 9s\tremaining: 0us\n"
     ]
    },
    {
     "name": "stderr",
     "output_type": "stream",
     "text": [
      "10it [30:46, 187.03s/it]"
     ]
    },
    {
     "name": "stdout",
     "output_type": "stream",
     "text": [
      "fold Loss 9:  0.13163909057355871\n",
      "---------------------------------------------------------------------------\n",
      "Learning rate set to 0.002361\n",
      "0:\tlearn: 0.6912128\ttotal: 69.3ms\tremaining: 5m 46s\n",
      "999:\tlearn: 0.1394083\ttotal: 37.2s\tremaining: 2m 28s\n",
      "1998:\tlearn: 0.0820561\ttotal: 1m 15s\tremaining: 1m 53s\n",
      "2997:\tlearn: 0.0549115\ttotal: 1m 53s\tremaining: 1m 15s\n",
      "3996:\tlearn: 0.0375172\ttotal: 2m 30s\tremaining: 37.8s\n",
      "4995:\tlearn: 0.0261647\ttotal: 3m 7s\tremaining: 150ms\n",
      "4999:\tlearn: 0.0261428\ttotal: 3m 8s\tremaining: 0us\n"
     ]
    },
    {
     "name": "stderr",
     "output_type": "stream",
     "text": [
      "11it [33:54, 187.61s/it]"
     ]
    },
    {
     "name": "stdout",
     "output_type": "stream",
     "text": [
      "fold Loss 10:  0.03507358681439994\n",
      "---------------------------------------------------------------------------\n",
      "Learning rate set to 0.002361\n",
      "0:\tlearn: 0.6907162\ttotal: 73.7ms\tremaining: 6m 8s\n",
      "999:\tlearn: 0.1382536\ttotal: 37.2s\tremaining: 2m 28s\n",
      "1998:\tlearn: 0.0800983\ttotal: 1m 14s\tremaining: 1m 52s\n",
      "2997:\tlearn: 0.0533422\ttotal: 1m 52s\tremaining: 1m 15s\n",
      "3996:\tlearn: 0.0364724\ttotal: 2m 29s\tremaining: 37.5s\n",
      "4995:\tlearn: 0.0263488\ttotal: 3m 6s\tremaining: 150ms\n",
      "4999:\tlearn: 0.0263314\ttotal: 3m 7s\tremaining: 0us\n"
     ]
    },
    {
     "name": "stderr",
     "output_type": "stream",
     "text": [
      "12it [37:02, 187.71s/it]"
     ]
    },
    {
     "name": "stdout",
     "output_type": "stream",
     "text": [
      "fold Loss 11:  0.08425870772061748\n",
      "---------------------------------------------------------------------------\n",
      "Learning rate set to 0.002361\n",
      "0:\tlearn: 0.6909885\ttotal: 72.7ms\tremaining: 6m 3s\n",
      "999:\tlearn: 0.1383449\ttotal: 37.1s\tremaining: 2m 28s\n",
      "1998:\tlearn: 0.0797839\ttotal: 1m 13s\tremaining: 1m 50s\n",
      "2997:\tlearn: 0.0535249\ttotal: 1m 50s\tremaining: 1m 13s\n",
      "3996:\tlearn: 0.0366946\ttotal: 2m 27s\tremaining: 37s\n",
      "4995:\tlearn: 0.0261407\ttotal: 3m 4s\tremaining: 147ms\n",
      "4999:\tlearn: 0.0261021\ttotal: 3m 4s\tremaining: 0us\n"
     ]
    },
    {
     "name": "stderr",
     "output_type": "stream",
     "text": [
      "13it [40:08, 186.94s/it]"
     ]
    },
    {
     "name": "stdout",
     "output_type": "stream",
     "text": [
      "fold Loss 12:  0.06024464452152266\n",
      "---------------------------------------------------------------------------\n",
      "Learning rate set to 0.002361\n",
      "0:\tlearn: 0.6908832\ttotal: 79.9ms\tremaining: 6m 39s\n",
      "999:\tlearn: 0.1327973\ttotal: 36.6s\tremaining: 2m 26s\n",
      "1998:\tlearn: 0.0755173\ttotal: 1m 13s\tremaining: 1m 50s\n",
      "2997:\tlearn: 0.0506048\ttotal: 1m 49s\tremaining: 1m 13s\n",
      "3996:\tlearn: 0.0340606\ttotal: 2m 26s\tremaining: 36.7s\n",
      "4995:\tlearn: 0.0239432\ttotal: 3m 2s\tremaining: 146ms\n",
      "4999:\tlearn: 0.0239083\ttotal: 3m 2s\tremaining: 0us\n"
     ]
    },
    {
     "name": "stderr",
     "output_type": "stream",
     "text": [
      "14it [43:11, 185.97s/it]"
     ]
    },
    {
     "name": "stdout",
     "output_type": "stream",
     "text": [
      "fold Loss 13:  0.16422877307553935\n",
      "---------------------------------------------------------------------------\n",
      "Learning rate set to 0.002361\n",
      "0:\tlearn: 0.6908903\ttotal: 72.2ms\tremaining: 6m\n",
      "999:\tlearn: 0.1329692\ttotal: 37.1s\tremaining: 2m 28s\n",
      "1998:\tlearn: 0.0770180\ttotal: 1m 13s\tremaining: 1m 50s\n",
      "2997:\tlearn: 0.0514623\ttotal: 1m 50s\tremaining: 1m 13s\n",
      "3996:\tlearn: 0.0352358\ttotal: 2m 26s\tremaining: 36.8s\n",
      "4995:\tlearn: 0.0251169\ttotal: 3m 2s\tremaining: 146ms\n",
      "4999:\tlearn: 0.0250883\ttotal: 3m 2s\tremaining: 0us\n"
     ]
    },
    {
     "name": "stderr",
     "output_type": "stream",
     "text": [
      "15it [46:15, 185.33s/it]"
     ]
    },
    {
     "name": "stdout",
     "output_type": "stream",
     "text": [
      "fold Loss 14:  0.20410945274301323\n",
      "---------------------------------------------------------------------------\n",
      "Learning rate set to 0.002361\n",
      "0:\tlearn: 0.6908260\ttotal: 69.5ms\tremaining: 5m 47s\n",
      "999:\tlearn: 0.1343058\ttotal: 36.4s\tremaining: 2m 25s\n",
      "1998:\tlearn: 0.0753378\ttotal: 1m 12s\tremaining: 1m 48s\n",
      "2997:\tlearn: 0.0497668\ttotal: 1m 48s\tremaining: 1m 12s\n",
      "3996:\tlearn: 0.0333946\ttotal: 2m 24s\tremaining: 36.3s\n",
      "4995:\tlearn: 0.0230187\ttotal: 3m 3s\tremaining: 147ms\n",
      "4999:\tlearn: 0.0229927\ttotal: 3m 3s\tremaining: 0us\n"
     ]
    },
    {
     "name": "stderr",
     "output_type": "stream",
     "text": [
      "16it [49:19, 184.98s/it]"
     ]
    },
    {
     "name": "stdout",
     "output_type": "stream",
     "text": [
      "fold Loss 15:  0.2087054193625846\n",
      "---------------------------------------------------------------------------\n",
      "Learning rate set to 0.002361\n",
      "0:\tlearn: 0.6909081\ttotal: 70.9ms\tremaining: 5m 54s\n",
      "999:\tlearn: 0.1375940\ttotal: 36.5s\tremaining: 2m 25s\n",
      "1998:\tlearn: 0.0828152\ttotal: 1m 12s\tremaining: 1m 49s\n",
      "2997:\tlearn: 0.0549326\ttotal: 1m 49s\tremaining: 1m 12s\n",
      "3996:\tlearn: 0.0373070\ttotal: 2m 25s\tremaining: 36.5s\n",
      "4995:\tlearn: 0.0256996\ttotal: 3m 2s\tremaining: 146ms\n",
      "4999:\tlearn: 0.0256558\ttotal: 3m 2s\tremaining: 0us\n"
     ]
    },
    {
     "name": "stderr",
     "output_type": "stream",
     "text": [
      "17it [52:22, 184.43s/it]"
     ]
    },
    {
     "name": "stdout",
     "output_type": "stream",
     "text": [
      "fold Loss 16:  0.08040823173400773\n",
      "---------------------------------------------------------------------------\n",
      "Learning rate set to 0.002361\n",
      "0:\tlearn: 0.6912005\ttotal: 70.1ms\tremaining: 5m 50s\n",
      "999:\tlearn: 0.1366203\ttotal: 37s\tremaining: 2m 27s\n",
      "1998:\tlearn: 0.0772990\ttotal: 1m 13s\tremaining: 1m 50s\n",
      "2997:\tlearn: 0.0515200\ttotal: 1m 50s\tremaining: 1m 13s\n",
      "3996:\tlearn: 0.0348760\ttotal: 2m 27s\tremaining: 36.9s\n",
      "4995:\tlearn: 0.0242153\ttotal: 3m 3s\tremaining: 147ms\n",
      "4999:\tlearn: 0.0241907\ttotal: 3m 3s\tremaining: 0us\n"
     ]
    },
    {
     "name": "stderr",
     "output_type": "stream",
     "text": [
      "18it [55:27, 184.47s/it]"
     ]
    },
    {
     "name": "stdout",
     "output_type": "stream",
     "text": [
      "fold Loss 17:  0.1467862350913875\n",
      "---------------------------------------------------------------------------\n",
      "Learning rate set to 0.002361\n",
      "0:\tlearn: 0.6905874\ttotal: 69.9ms\tremaining: 5m 49s\n",
      "999:\tlearn: 0.1400224\ttotal: 36.7s\tremaining: 2m 26s\n",
      "1998:\tlearn: 0.0805364\ttotal: 1m 13s\tremaining: 1m 49s\n",
      "2997:\tlearn: 0.0546749\ttotal: 1m 49s\tremaining: 1m 13s\n",
      "3996:\tlearn: 0.0375645\ttotal: 2m 26s\tremaining: 36.7s\n",
      "4995:\tlearn: 0.0266978\ttotal: 3m 2s\tremaining: 146ms\n",
      "4999:\tlearn: 0.0266627\ttotal: 3m 3s\tremaining: 0us\n"
     ]
    },
    {
     "name": "stderr",
     "output_type": "stream",
     "text": [
      "19it [58:31, 184.32s/it]"
     ]
    },
    {
     "name": "stdout",
     "output_type": "stream",
     "text": [
      "fold Loss 18:  0.023793795332329025\n",
      "---------------------------------------------------------------------------\n",
      "Learning rate set to 0.002362\n",
      "0:\tlearn: 0.6908447\ttotal: 71.8ms\tremaining: 5m 59s\n",
      "999:\tlearn: 0.1369292\ttotal: 36.3s\tremaining: 2m 25s\n",
      "1998:\tlearn: 0.0779015\ttotal: 1m 13s\tremaining: 1m 50s\n",
      "2997:\tlearn: 0.0519154\ttotal: 1m 49s\tremaining: 1m 13s\n",
      "3996:\tlearn: 0.0354794\ttotal: 2m 26s\tremaining: 36.8s\n",
      "4995:\tlearn: 0.0248125\ttotal: 3m 3s\tremaining: 147ms\n",
      "4999:\tlearn: 0.0247700\ttotal: 3m 3s\tremaining: 0us\n"
     ]
    },
    {
     "name": "stderr",
     "output_type": "stream",
     "text": [
      "20it [1:01:36, 184.81s/it]"
     ]
    },
    {
     "name": "stdout",
     "output_type": "stream",
     "text": [
      "fold Loss 19:  0.08845830822434966\n",
      "---------------------------------------------------------------------------\n",
      "Training Loss: 0.027917473609666617\n",
      "Loss for oxychlorine:\n",
      "0.13829565217758386 0.08436397442081349\n",
      "==================================================================================================\n",
      "TARGET  phyllosilicate\n"
     ]
    },
    {
     "name": "stderr",
     "output_type": "stream",
     "text": [
      "\n"
     ]
    },
    {
     "name": "stdout",
     "output_type": "stream",
     "text": [
      "0.5704292956304449\n"
     ]
    },
    {
     "name": "stderr",
     "output_type": "stream",
     "text": [
      "100%|██████████| 101/101 [00:00<00:00, 411685.82it/s]\n"
     ]
    },
    {
     "name": "stdout",
     "output_type": "stream",
     "text": [
      "29\n",
      "0.41411232334173836\n"
     ]
    },
    {
     "name": "stderr",
     "output_type": "stream",
     "text": [
      "100%|██████████| 3900/3900 [00:00<00:00, 861117.37it/s]\n"
     ]
    },
    {
     "name": "stdout",
     "output_type": "stream",
     "text": [
      "101\n",
      "0.38613085921391066\n"
     ]
    },
    {
     "name": "stderr",
     "output_type": "stream",
     "text": [
      "100%|██████████| 4200/4200 [00:00<00:00, 803323.31it/s]\n"
     ]
    },
    {
     "name": "stdout",
     "output_type": "stream",
     "text": [
      "116\n",
      "0.3924085054262144\n"
     ]
    },
    {
     "name": "stderr",
     "output_type": "stream",
     "text": [
      "100%|██████████| 4000/4000 [00:00<00:00, 841680.43it/s]\n"
     ]
    },
    {
     "name": "stdout",
     "output_type": "stream",
     "text": [
      "121\n",
      "(1059, 121) (1059, 29) (1059, 101) (1059, 116)\n",
      "(1059, 367)\n",
      "(804, 121) (804, 29) (804, 101) (804, 116)\n",
      "(804, 367)\n"
     ]
    },
    {
     "name": "stderr",
     "output_type": "stream",
     "text": [
      "0it [00:00, ?it/s]"
     ]
    },
    {
     "name": "stdout",
     "output_type": "stream",
     "text": [
      "Learning rate set to 0.002361\n",
      "0:\tlearn: 0.6913592\ttotal: 70.5ms\tremaining: 5m 52s\n",
      "999:\tlearn: 0.2129265\ttotal: 45.9s\tremaining: 3m 3s\n",
      "1998:\tlearn: 0.1324202\ttotal: 1m 31s\tremaining: 2m 17s\n",
      "2997:\tlearn: 0.0898455\ttotal: 2m 17s\tremaining: 1m 31s\n",
      "3996:\tlearn: 0.0593978\ttotal: 3m 3s\tremaining: 46s\n",
      "4995:\tlearn: 0.0389175\ttotal: 3m 49s\tremaining: 184ms\n",
      "4999:\tlearn: 0.0388391\ttotal: 3m 49s\tremaining: 0us\n"
     ]
    },
    {
     "name": "stderr",
     "output_type": "stream",
     "text": [
      "1it [03:50, 230.79s/it]"
     ]
    },
    {
     "name": "stdout",
     "output_type": "stream",
     "text": [
      "fold Loss 0:  0.11677696582950646\n",
      "---------------------------------------------------------------------------\n",
      "Learning rate set to 0.002361\n",
      "0:\tlearn: 0.6914008\ttotal: 89.7ms\tremaining: 7m 28s\n",
      "999:\tlearn: 0.2105759\ttotal: 46.1s\tremaining: 3m 4s\n",
      "1998:\tlearn: 0.1308290\ttotal: 1m 32s\tremaining: 2m 18s\n",
      "2997:\tlearn: 0.0915665\ttotal: 2m 18s\tremaining: 1m 32s\n",
      "3996:\tlearn: 0.0637179\ttotal: 3m 3s\tremaining: 46.1s\n",
      "4995:\tlearn: 0.0432397\ttotal: 3m 49s\tremaining: 184ms\n",
      "4999:\tlearn: 0.0431928\ttotal: 3m 50s\tremaining: 0us\n"
     ]
    },
    {
     "name": "stderr",
     "output_type": "stream",
     "text": [
      "2it [07:41, 230.89s/it]"
     ]
    },
    {
     "name": "stdout",
     "output_type": "stream",
     "text": [
      "fold Loss 1:  0.14957093858391682\n",
      "---------------------------------------------------------------------------\n",
      "Learning rate set to 0.002361\n",
      "0:\tlearn: 0.6914295\ttotal: 89.3ms\tremaining: 7m 26s\n",
      "999:\tlearn: 0.2132309\ttotal: 45.6s\tremaining: 3m 2s\n",
      "1998:\tlearn: 0.1313557\ttotal: 1m 31s\tremaining: 2m 17s\n",
      "2997:\tlearn: 0.0893270\ttotal: 2m 16s\tremaining: 1m 31s\n",
      "3996:\tlearn: 0.0593314\ttotal: 3m 1s\tremaining: 45.6s\n",
      "4995:\tlearn: 0.0389602\ttotal: 3m 47s\tremaining: 183ms\n",
      "4999:\tlearn: 0.0388920\ttotal: 3m 48s\tremaining: 0us\n"
     ]
    },
    {
     "name": "stderr",
     "output_type": "stream",
     "text": [
      "3it [11:30, 230.05s/it]"
     ]
    },
    {
     "name": "stdout",
     "output_type": "stream",
     "text": [
      "fold Loss 2:  0.1281216438653461\n",
      "---------------------------------------------------------------------------\n",
      "Learning rate set to 0.002361\n",
      "0:\tlearn: 0.6914322\ttotal: 90.7ms\tremaining: 7m 33s\n",
      "999:\tlearn: 0.2092852\ttotal: 45.5s\tremaining: 3m 1s\n",
      "1998:\tlearn: 0.1293172\ttotal: 1m 31s\tremaining: 2m 17s\n",
      "2997:\tlearn: 0.0877910\ttotal: 2m 16s\tremaining: 1m 31s\n",
      "3996:\tlearn: 0.0583685\ttotal: 3m 2s\tremaining: 45.8s\n",
      "4995:\tlearn: 0.0386793\ttotal: 3m 48s\tremaining: 183ms\n"
     ]
    },
    {
     "name": "stderr",
     "output_type": "stream",
     "text": [
      "4it [15:19, 229.68s/it]"
     ]
    },
    {
     "name": "stdout",
     "output_type": "stream",
     "text": [
      "4999:\tlearn: 0.0386094\ttotal: 3m 48s\tremaining: 0us\n",
      "fold Loss 3:  0.17588653177209065\n",
      "---------------------------------------------------------------------------\n",
      "Learning rate set to 0.002361\n",
      "0:\tlearn: 0.6913637\ttotal: 88.1ms\tremaining: 7m 20s\n",
      "999:\tlearn: 0.2091476\ttotal: 45.5s\tremaining: 3m 2s\n",
      "1998:\tlearn: 0.1283785\ttotal: 1m 31s\tremaining: 2m 17s\n",
      "2997:\tlearn: 0.0874187\ttotal: 2m 16s\tremaining: 1m 31s\n",
      "3996:\tlearn: 0.0586215\ttotal: 3m 2s\tremaining: 45.8s\n",
      "4995:\tlearn: 0.0381270\ttotal: 3m 49s\tremaining: 184ms\n",
      "4999:\tlearn: 0.0380566\ttotal: 3m 49s\tremaining: 0us\n"
     ]
    },
    {
     "name": "stderr",
     "output_type": "stream",
     "text": [
      "5it [19:10, 230.12s/it]"
     ]
    },
    {
     "name": "stdout",
     "output_type": "stream",
     "text": [
      "fold Loss 4:  0.22598182988403143\n",
      "---------------------------------------------------------------------------\n",
      "Learning rate set to 0.002361\n",
      "0:\tlearn: 0.6913933\ttotal: 88.8ms\tremaining: 7m 24s\n",
      "999:\tlearn: 0.2127239\ttotal: 45.5s\tremaining: 3m 2s\n",
      "1998:\tlearn: 0.1311178\ttotal: 1m 31s\tremaining: 2m 17s\n",
      "2997:\tlearn: 0.0892533\ttotal: 2m 16s\tremaining: 1m 31s\n",
      "3996:\tlearn: 0.0601751\ttotal: 3m 2s\tremaining: 45.7s\n",
      "4995:\tlearn: 0.0407248\ttotal: 3m 47s\tremaining: 182ms\n",
      "4999:\tlearn: 0.0406693\ttotal: 3m 47s\tremaining: 0us\n"
     ]
    },
    {
     "name": "stderr",
     "output_type": "stream",
     "text": [
      "6it [22:59, 229.65s/it]"
     ]
    },
    {
     "name": "stdout",
     "output_type": "stream",
     "text": [
      "fold Loss 5:  0.17727298415063236\n",
      "---------------------------------------------------------------------------\n",
      "Learning rate set to 0.002361\n",
      "0:\tlearn: 0.6913562\ttotal: 85.9ms\tremaining: 7m 9s\n",
      "999:\tlearn: 0.2077418\ttotal: 45.1s\tremaining: 3m\n",
      "1998:\tlearn: 0.1269779\ttotal: 1m 30s\tremaining: 2m 15s\n",
      "2997:\tlearn: 0.0857987\ttotal: 2m 15s\tremaining: 1m 30s\n",
      "3996:\tlearn: 0.0579052\ttotal: 3m\tremaining: 45.4s\n",
      "4995:\tlearn: 0.0387128\ttotal: 3m 46s\tremaining: 181ms\n",
      "4999:\tlearn: 0.0386513\ttotal: 3m 46s\tremaining: 0us\n"
     ]
    },
    {
     "name": "stderr",
     "output_type": "stream",
     "text": [
      "7it [26:47, 228.97s/it]"
     ]
    },
    {
     "name": "stdout",
     "output_type": "stream",
     "text": [
      "fold Loss 6:  0.21821397740384432\n",
      "---------------------------------------------------------------------------\n",
      "Learning rate set to 0.002361\n",
      "0:\tlearn: 0.6913886\ttotal: 90.3ms\tremaining: 7m 31s\n",
      "999:\tlearn: 0.2086863\ttotal: 45.2s\tremaining: 3m\n",
      "1998:\tlearn: 0.1281823\ttotal: 1m 30s\tremaining: 2m 15s\n",
      "2997:\tlearn: 0.0872272\ttotal: 2m 16s\tremaining: 1m 31s\n",
      "3996:\tlearn: 0.0596947\ttotal: 3m 1s\tremaining: 45.5s\n",
      "4995:\tlearn: 0.0412844\ttotal: 3m 46s\tremaining: 182ms\n",
      "4999:\tlearn: 0.0412370\ttotal: 3m 46s\tremaining: 0us\n"
     ]
    },
    {
     "name": "stderr",
     "output_type": "stream",
     "text": [
      "8it [30:34, 228.59s/it]"
     ]
    },
    {
     "name": "stdout",
     "output_type": "stream",
     "text": [
      "fold Loss 7:  0.19730263172215523\n",
      "---------------------------------------------------------------------------\n",
      "Learning rate set to 0.002361\n",
      "0:\tlearn: 0.6914805\ttotal: 87.7ms\tremaining: 7m 18s\n",
      "999:\tlearn: 0.2081845\ttotal: 45.1s\tremaining: 3m\n",
      "1998:\tlearn: 0.1282844\ttotal: 1m 30s\tremaining: 2m 15s\n",
      "2997:\tlearn: 0.0870405\ttotal: 2m 15s\tremaining: 1m 30s\n",
      "3996:\tlearn: 0.0588199\ttotal: 3m\tremaining: 45.3s\n",
      "4995:\tlearn: 0.0399795\ttotal: 3m 46s\tremaining: 181ms\n",
      "4999:\tlearn: 0.0399293\ttotal: 3m 46s\tremaining: 0us\n"
     ]
    },
    {
     "name": "stderr",
     "output_type": "stream",
     "text": [
      "9it [34:22, 228.27s/it]"
     ]
    },
    {
     "name": "stdout",
     "output_type": "stream",
     "text": [
      "fold Loss 8:  0.22190657492601543\n",
      "---------------------------------------------------------------------------\n",
      "Learning rate set to 0.002361\n",
      "0:\tlearn: 0.6914093\ttotal: 88.3ms\tremaining: 7m 21s\n",
      "999:\tlearn: 0.2101215\ttotal: 45.2s\tremaining: 3m\n",
      "1998:\tlearn: 0.1302351\ttotal: 1m 30s\tremaining: 2m 15s\n",
      "2997:\tlearn: 0.0889069\ttotal: 2m 16s\tremaining: 1m 30s\n",
      "3996:\tlearn: 0.0601556\ttotal: 3m 1s\tremaining: 45.5s\n",
      "4995:\tlearn: 0.0408883\ttotal: 3m 47s\tremaining: 182ms\n",
      "4999:\tlearn: 0.0408027\ttotal: 3m 47s\tremaining: 0us\n"
     ]
    },
    {
     "name": "stderr",
     "output_type": "stream",
     "text": [
      "10it [38:10, 228.31s/it]"
     ]
    },
    {
     "name": "stdout",
     "output_type": "stream",
     "text": [
      "fold Loss 9:  0.1600945461839773\n",
      "---------------------------------------------------------------------------\n",
      "Learning rate set to 0.002361\n",
      "0:\tlearn: 0.6913434\ttotal: 88.7ms\tremaining: 7m 23s\n",
      "999:\tlearn: 0.2052935\ttotal: 45.4s\tremaining: 3m 1s\n",
      "1998:\tlearn: 0.1269626\ttotal: 1m 30s\tremaining: 2m 15s\n",
      "2997:\tlearn: 0.0845207\ttotal: 2m 16s\tremaining: 1m 31s\n",
      "3996:\tlearn: 0.0549828\ttotal: 3m 1s\tremaining: 45.6s\n",
      "4995:\tlearn: 0.0352139\ttotal: 3m 47s\tremaining: 182ms\n",
      "4999:\tlearn: 0.0351370\ttotal: 3m 47s\tremaining: 0us\n"
     ]
    },
    {
     "name": "stderr",
     "output_type": "stream",
     "text": [
      "11it [41:59, 228.39s/it]"
     ]
    },
    {
     "name": "stdout",
     "output_type": "stream",
     "text": [
      "fold Loss 10:  0.2886581314089288\n",
      "---------------------------------------------------------------------------\n",
      "Learning rate set to 0.002361\n",
      "0:\tlearn: 0.6913450\ttotal: 88.2ms\tremaining: 7m 20s\n",
      "999:\tlearn: 0.2041147\ttotal: 45.1s\tremaining: 3m\n",
      "1998:\tlearn: 0.1226607\ttotal: 1m 30s\tremaining: 2m 15s\n",
      "2997:\tlearn: 0.0829008\ttotal: 2m 16s\tremaining: 1m 30s\n",
      "3996:\tlearn: 0.0554380\ttotal: 3m 1s\tremaining: 45.5s\n",
      "4995:\tlearn: 0.0374462\ttotal: 3m 47s\tremaining: 182ms\n",
      "4999:\tlearn: 0.0373776\ttotal: 3m 47s\tremaining: 0us\n"
     ]
    },
    {
     "name": "stderr",
     "output_type": "stream",
     "text": [
      "12it [45:48, 228.51s/it]"
     ]
    },
    {
     "name": "stdout",
     "output_type": "stream",
     "text": [
      "fold Loss 11:  0.3665110447345952\n",
      "---------------------------------------------------------------------------\n",
      "Learning rate set to 0.002361\n",
      "0:\tlearn: 0.6914116\ttotal: 95.6ms\tremaining: 7m 57s\n",
      "999:\tlearn: 0.2079529\ttotal: 45.8s\tremaining: 3m 3s\n",
      "1998:\tlearn: 0.1289679\ttotal: 1m 31s\tremaining: 2m 17s\n",
      "2997:\tlearn: 0.0871710\ttotal: 2m 17s\tremaining: 1m 32s\n",
      "3996:\tlearn: 0.0582259\ttotal: 3m 3s\tremaining: 45.9s\n",
      "4995:\tlearn: 0.0388888\ttotal: 3m 48s\tremaining: 183ms\n",
      "4999:\tlearn: 0.0388305\ttotal: 3m 48s\tremaining: 0us\n"
     ]
    },
    {
     "name": "stderr",
     "output_type": "stream",
     "text": [
      "13it [49:38, 228.89s/it]"
     ]
    },
    {
     "name": "stdout",
     "output_type": "stream",
     "text": [
      "fold Loss 12:  0.22340484289325338\n",
      "---------------------------------------------------------------------------\n",
      "Learning rate set to 0.002361\n",
      "0:\tlearn: 0.6913244\ttotal: 120ms\tremaining: 9m 57s\n",
      "999:\tlearn: 0.2073648\ttotal: 45.4s\tremaining: 3m 1s\n",
      "1998:\tlearn: 0.1267855\ttotal: 1m 30s\tremaining: 2m 16s\n",
      "2997:\tlearn: 0.0855086\ttotal: 2m 16s\tremaining: 1m 31s\n",
      "3996:\tlearn: 0.0561490\ttotal: 3m 1s\tremaining: 45.6s\n",
      "4995:\tlearn: 0.0367461\ttotal: 3m 47s\tremaining: 182ms\n",
      "4999:\tlearn: 0.0366862\ttotal: 3m 47s\tremaining: 0us\n"
     ]
    },
    {
     "name": "stderr",
     "output_type": "stream",
     "text": [
      "14it [53:26, 228.82s/it]"
     ]
    },
    {
     "name": "stdout",
     "output_type": "stream",
     "text": [
      "fold Loss 13:  0.2981385990582796\n",
      "---------------------------------------------------------------------------\n",
      "Learning rate set to 0.002361\n",
      "0:\tlearn: 0.6912483\ttotal: 90ms\tremaining: 7m 30s\n",
      "999:\tlearn: 0.2127819\ttotal: 46.1s\tremaining: 3m 4s\n",
      "1998:\tlearn: 0.1316425\ttotal: 1m 32s\tremaining: 2m 18s\n",
      "2997:\tlearn: 0.0895027\ttotal: 2m 18s\tremaining: 1m 32s\n",
      "3996:\tlearn: 0.0607666\ttotal: 3m 4s\tremaining: 46.4s\n",
      "4995:\tlearn: 0.0405890\ttotal: 3m 51s\tremaining: 185ms\n",
      "4999:\tlearn: 0.0405083\ttotal: 3m 51s\tremaining: 0us\n"
     ]
    },
    {
     "name": "stderr",
     "output_type": "stream",
     "text": [
      "15it [57:18, 229.83s/it]"
     ]
    },
    {
     "name": "stdout",
     "output_type": "stream",
     "text": [
      "fold Loss 14:  0.11295144147083919\n",
      "---------------------------------------------------------------------------\n",
      "Learning rate set to 0.002361\n",
      "0:\tlearn: 0.6912194\ttotal: 90.9ms\tremaining: 7m 34s\n",
      "999:\tlearn: 0.2102106\ttotal: 46.8s\tremaining: 3m 7s\n",
      "1998:\tlearn: 0.1303830\ttotal: 1m 33s\tremaining: 2m 19s\n",
      "2997:\tlearn: 0.0889741\ttotal: 2m 19s\tremaining: 1m 33s\n",
      "3996:\tlearn: 0.0595222\ttotal: 3m 6s\tremaining: 46.7s\n",
      "4995:\tlearn: 0.0392220\ttotal: 3m 52s\tremaining: 186ms\n",
      "4999:\tlearn: 0.0391615\ttotal: 3m 52s\tremaining: 0us\n"
     ]
    },
    {
     "name": "stderr",
     "output_type": "stream",
     "text": [
      "16it [1:01:12, 230.92s/it]"
     ]
    },
    {
     "name": "stdout",
     "output_type": "stream",
     "text": [
      "fold Loss 15:  0.17952890462987964\n",
      "---------------------------------------------------------------------------\n",
      "Learning rate set to 0.002361\n",
      "0:\tlearn: 0.6914300\ttotal: 89.5ms\tremaining: 7m 27s\n",
      "999:\tlearn: 0.2054333\ttotal: 46.9s\tremaining: 3m 7s\n",
      "1998:\tlearn: 0.1259942\ttotal: 1m 33s\tremaining: 2m 19s\n",
      "2997:\tlearn: 0.0847587\ttotal: 2m 19s\tremaining: 1m 33s\n",
      "3996:\tlearn: 0.0560160\ttotal: 3m 5s\tremaining: 46.6s\n",
      "4995:\tlearn: 0.0371356\ttotal: 3m 53s\tremaining: 187ms\n"
     ]
    },
    {
     "name": "stderr",
     "output_type": "stream",
     "text": [
      "17it [1:05:07, 232.08s/it]"
     ]
    },
    {
     "name": "stdout",
     "output_type": "stream",
     "text": [
      "4999:\tlearn: 0.0370705\ttotal: 3m 53s\tremaining: 0us\n",
      "fold Loss 16:  0.2397721899973087\n",
      "---------------------------------------------------------------------------\n",
      "Learning rate set to 0.002361\n",
      "0:\tlearn: 0.6913216\ttotal: 89.3ms\tremaining: 7m 26s\n",
      "999:\tlearn: 0.2089151\ttotal: 46.3s\tremaining: 3m 5s\n",
      "1998:\tlearn: 0.1290453\ttotal: 1m 32s\tremaining: 2m 19s\n",
      "2997:\tlearn: 0.0870533\ttotal: 2m 19s\tremaining: 1m 32s\n",
      "3996:\tlearn: 0.0577569\ttotal: 3m 5s\tremaining: 46.5s\n",
      "4995:\tlearn: 0.0383008\ttotal: 3m 51s\tremaining: 186ms\n"
     ]
    },
    {
     "name": "stderr",
     "output_type": "stream",
     "text": [
      "18it [1:09:00, 232.36s/it]"
     ]
    },
    {
     "name": "stdout",
     "output_type": "stream",
     "text": [
      "4999:\tlearn: 0.0382439\ttotal: 3m 52s\tremaining: 0us\n",
      "fold Loss 17:  0.22663573279274116\n",
      "---------------------------------------------------------------------------\n",
      "Learning rate set to 0.002361\n",
      "0:\tlearn: 0.6912074\ttotal: 149ms\tremaining: 12m 25s\n",
      "999:\tlearn: 0.2136701\ttotal: 47.7s\tremaining: 3m 10s\n",
      "1998:\tlearn: 0.1319175\ttotal: 1m 35s\tremaining: 2m 22s\n",
      "2997:\tlearn: 0.0893104\ttotal: 2m 22s\tremaining: 1m 35s\n",
      "3996:\tlearn: 0.0600119\ttotal: 3m 10s\tremaining: 47.7s\n",
      "4995:\tlearn: 0.0403660\ttotal: 3m 57s\tremaining: 190ms\n",
      "4999:\tlearn: 0.0403038\ttotal: 3m 57s\tremaining: 0us\n"
     ]
    },
    {
     "name": "stderr",
     "output_type": "stream",
     "text": [
      "19it [1:12:58, 234.24s/it]"
     ]
    },
    {
     "name": "stdout",
     "output_type": "stream",
     "text": [
      "fold Loss 18:  0.15383248286241077\n",
      "---------------------------------------------------------------------------\n",
      "Learning rate set to 0.002362\n",
      "0:\tlearn: 0.6913720\ttotal: 90ms\tremaining: 7m 30s\n",
      "999:\tlearn: 0.2139173\ttotal: 46.5s\tremaining: 3m 5s\n",
      "1998:\tlearn: 0.1324075\ttotal: 1m 32s\tremaining: 2m 19s\n",
      "2997:\tlearn: 0.0897380\ttotal: 2m 18s\tremaining: 1m 32s\n",
      "3996:\tlearn: 0.0597435\ttotal: 3m 5s\tremaining: 46.5s\n",
      "4995:\tlearn: 0.0401508\ttotal: 3m 51s\tremaining: 186ms\n",
      "4999:\tlearn: 0.0401041\ttotal: 3m 51s\tremaining: 0us\n"
     ]
    },
    {
     "name": "stderr",
     "output_type": "stream",
     "text": [
      "20it [1:16:51, 230.57s/it]"
     ]
    },
    {
     "name": "stdout",
     "output_type": "stream",
     "text": [
      "fold Loss 19:  0.08466927905229109\n",
      "---------------------------------------------------------------------------\n",
      "Training Loss: 0.042319398949426705\n",
      "Loss for phyllosilicate:\n",
      "0.1972615636611022 0.06714002764402668\n",
      "==================================================================================================\n",
      "TARGET  silicate\n"
     ]
    },
    {
     "name": "stderr",
     "output_type": "stream",
     "text": [
      "\n"
     ]
    },
    {
     "name": "stdout",
     "output_type": "stream",
     "text": [
      "0.3446095012188936\n"
     ]
    },
    {
     "name": "stderr",
     "output_type": "stream",
     "text": [
      "100%|██████████| 101/101 [00:00<00:00, 486365.91it/s]\n"
     ]
    },
    {
     "name": "stdout",
     "output_type": "stream",
     "text": [
      "27\n",
      "0.30609512683341866\n"
     ]
    },
    {
     "name": "stderr",
     "output_type": "stream",
     "text": [
      "100%|██████████| 3900/3900 [00:00<00:00, 726431.55it/s]\n"
     ]
    },
    {
     "name": "stdout",
     "output_type": "stream",
     "text": [
      "79\n",
      "0.30074673260364915\n"
     ]
    },
    {
     "name": "stderr",
     "output_type": "stream",
     "text": [
      "100%|██████████| 4200/4200 [00:00<00:00, 830124.73it/s]\n"
     ]
    },
    {
     "name": "stdout",
     "output_type": "stream",
     "text": [
      "109\n",
      "0.2969735446475003\n"
     ]
    },
    {
     "name": "stderr",
     "output_type": "stream",
     "text": [
      "100%|██████████| 4000/4000 [00:00<00:00, 834978.15it/s]\n"
     ]
    },
    {
     "name": "stdout",
     "output_type": "stream",
     "text": [
      "110\n",
      "(1059, 110) (1059, 27) (1059, 79) (1059, 109)\n",
      "(1059, 325)\n",
      "(804, 110) (804, 27) (804, 79) (804, 109)\n",
      "(804, 325)\n"
     ]
    },
    {
     "name": "stderr",
     "output_type": "stream",
     "text": [
      "0it [00:00, ?it/s]"
     ]
    },
    {
     "name": "stdout",
     "output_type": "stream",
     "text": [
      "Learning rate set to 0.002361\n",
      "0:\tlearn: 0.6909230\ttotal: 61.3ms\tremaining: 5m 6s\n",
      "999:\tlearn: 0.1715386\ttotal: 40.6s\tremaining: 2m 42s\n",
      "1998:\tlearn: 0.1066173\ttotal: 1m 21s\tremaining: 2m 2s\n",
      "2997:\tlearn: 0.0718765\ttotal: 2m 1s\tremaining: 1m 21s\n",
      "3996:\tlearn: 0.0490234\ttotal: 2m 42s\tremaining: 40.7s\n",
      "4995:\tlearn: 0.0323333\ttotal: 3m 22s\tremaining: 162ms\n",
      "4999:\tlearn: 0.0322680\ttotal: 3m 22s\tremaining: 0us\n"
     ]
    },
    {
     "name": "stderr",
     "output_type": "stream",
     "text": [
      "1it [03:23, 203.13s/it]"
     ]
    },
    {
     "name": "stdout",
     "output_type": "stream",
     "text": [
      "fold Loss 0:  0.15366867712473276\n",
      "---------------------------------------------------------------------------\n",
      "Learning rate set to 0.002361\n",
      "0:\tlearn: 0.6909084\ttotal: 75.8ms\tremaining: 6m 18s\n",
      "999:\tlearn: 0.1705854\ttotal: 40.9s\tremaining: 2m 43s\n",
      "1998:\tlearn: 0.1062507\ttotal: 1m 21s\tremaining: 2m 3s\n",
      "2997:\tlearn: 0.0712393\ttotal: 2m 2s\tremaining: 1m 21s\n",
      "3996:\tlearn: 0.0490500\ttotal: 2m 43s\tremaining: 40.9s\n",
      "4995:\tlearn: 0.0341977\ttotal: 3m 23s\tremaining: 163ms\n",
      "4999:\tlearn: 0.0341517\ttotal: 3m 23s\tremaining: 0us\n"
     ]
    },
    {
     "name": "stderr",
     "output_type": "stream",
     "text": [
      "2it [06:47, 203.90s/it]"
     ]
    },
    {
     "name": "stdout",
     "output_type": "stream",
     "text": [
      "fold Loss 1:  0.21232818449201915\n",
      "---------------------------------------------------------------------------\n",
      "Learning rate set to 0.002361\n",
      "0:\tlearn: 0.6908535\ttotal: 83.2ms\tremaining: 6m 55s\n",
      "999:\tlearn: 0.1702333\ttotal: 40.9s\tremaining: 2m 43s\n",
      "1998:\tlearn: 0.1056661\ttotal: 1m 21s\tremaining: 2m 1s\n",
      "2997:\tlearn: 0.0716446\ttotal: 2m 1s\tremaining: 1m 20s\n",
      "3996:\tlearn: 0.0499081\ttotal: 2m 41s\tremaining: 40.5s\n",
      "4995:\tlearn: 0.0346939\ttotal: 3m 21s\tremaining: 161ms\n"
     ]
    },
    {
     "name": "stderr",
     "output_type": "stream",
     "text": [
      "3it [10:10, 203.40s/it]"
     ]
    },
    {
     "name": "stdout",
     "output_type": "stream",
     "text": [
      "4999:\tlearn: 0.0346258\ttotal: 3m 21s\tremaining: 0us\n",
      "fold Loss 2:  0.2764658770996337\n",
      "---------------------------------------------------------------------------\n",
      "Learning rate set to 0.002361\n",
      "0:\tlearn: 0.6910054\ttotal: 105ms\tremaining: 8m 47s\n",
      "999:\tlearn: 0.1679168\ttotal: 40.6s\tremaining: 2m 42s\n",
      "1998:\tlearn: 0.1040369\ttotal: 1m 20s\tremaining: 2m 1s\n",
      "2997:\tlearn: 0.0706660\ttotal: 2m\tremaining: 1m 20s\n",
      "3996:\tlearn: 0.0490767\ttotal: 2m 40s\tremaining: 40.3s\n",
      "4995:\tlearn: 0.0350183\ttotal: 3m 20s\tremaining: 161ms\n",
      "4999:\tlearn: 0.0349625\ttotal: 3m 21s\tremaining: 0us\n"
     ]
    },
    {
     "name": "stderr",
     "output_type": "stream",
     "text": [
      "4it [13:32, 202.82s/it]"
     ]
    },
    {
     "name": "stdout",
     "output_type": "stream",
     "text": [
      "fold Loss 3:  0.24086375918651562\n",
      "---------------------------------------------------------------------------\n",
      "Learning rate set to 0.002361\n",
      "0:\tlearn: 0.6909897\ttotal: 80.1ms\tremaining: 6m 40s\n",
      "999:\tlearn: 0.1733422\ttotal: 40.5s\tremaining: 2m 42s\n",
      "1998:\tlearn: 0.1084913\ttotal: 1m 20s\tremaining: 2m\n",
      "2997:\tlearn: 0.0732158\ttotal: 2m\tremaining: 1m 20s\n",
      "3996:\tlearn: 0.0511998\ttotal: 2m 40s\tremaining: 40.3s\n",
      "4995:\tlearn: 0.0352172\ttotal: 3m 21s\tremaining: 161ms\n",
      "4999:\tlearn: 0.0351734\ttotal: 3m 21s\tremaining: 0us\n"
     ]
    },
    {
     "name": "stderr",
     "output_type": "stream",
     "text": [
      "5it [16:54, 202.57s/it]"
     ]
    },
    {
     "name": "stdout",
     "output_type": "stream",
     "text": [
      "fold Loss 4:  0.15522078467082798\n",
      "---------------------------------------------------------------------------\n",
      "Learning rate set to 0.002361\n",
      "0:\tlearn: 0.6908284\ttotal: 77ms\tremaining: 6m 24s\n",
      "999:\tlearn: 0.1685237\ttotal: 40.3s\tremaining: 2m 41s\n",
      "1998:\tlearn: 0.1048241\ttotal: 1m 20s\tremaining: 2m\n",
      "2997:\tlearn: 0.0718178\ttotal: 2m\tremaining: 1m 20s\n",
      "3996:\tlearn: 0.0506025\ttotal: 2m 41s\tremaining: 40.4s\n",
      "4995:\tlearn: 0.0341820\ttotal: 3m 21s\tremaining: 161ms\n",
      "4999:\tlearn: 0.0341535\ttotal: 3m 21s\tremaining: 0us\n"
     ]
    },
    {
     "name": "stderr",
     "output_type": "stream",
     "text": [
      "6it [20:16, 202.43s/it]"
     ]
    },
    {
     "name": "stdout",
     "output_type": "stream",
     "text": [
      "fold Loss 5:  0.22954045273930093\n",
      "---------------------------------------------------------------------------\n",
      "Learning rate set to 0.002361\n",
      "0:\tlearn: 0.6906448\ttotal: 80.5ms\tremaining: 6m 42s\n",
      "999:\tlearn: 0.1699055\ttotal: 40.4s\tremaining: 2m 41s\n",
      "1998:\tlearn: 0.1075432\ttotal: 1m 20s\tremaining: 2m\n",
      "2997:\tlearn: 0.0744764\ttotal: 2m 1s\tremaining: 1m 20s\n",
      "3996:\tlearn: 0.0521535\ttotal: 2m 41s\tremaining: 40.5s\n",
      "4995:\tlearn: 0.0359838\ttotal: 3m 21s\tremaining: 161ms\n",
      "4999:\tlearn: 0.0359471\ttotal: 3m 21s\tremaining: 0us\n"
     ]
    },
    {
     "name": "stderr",
     "output_type": "stream",
     "text": [
      "7it [23:39, 202.49s/it]"
     ]
    },
    {
     "name": "stdout",
     "output_type": "stream",
     "text": [
      "fold Loss 6:  0.18300999540644872\n",
      "---------------------------------------------------------------------------\n",
      "Learning rate set to 0.002361\n",
      "0:\tlearn: 0.6906931\ttotal: 82.2ms\tremaining: 6m 50s\n",
      "999:\tlearn: 0.1716294\ttotal: 40.1s\tremaining: 2m 40s\n",
      "1998:\tlearn: 0.1066214\ttotal: 1m 20s\tremaining: 2m\n",
      "2997:\tlearn: 0.0707402\ttotal: 2m\tremaining: 1m 20s\n",
      "3996:\tlearn: 0.0491524\ttotal: 2m 40s\tremaining: 40.2s\n",
      "4995:\tlearn: 0.0345679\ttotal: 3m 20s\tremaining: 160ms\n",
      "4999:\tlearn: 0.0345277\ttotal: 3m 20s\tremaining: 0us\n"
     ]
    },
    {
     "name": "stderr",
     "output_type": "stream",
     "text": [
      "8it [27:00, 202.09s/it]"
     ]
    },
    {
     "name": "stdout",
     "output_type": "stream",
     "text": [
      "fold Loss 7:  0.17686875279265302\n",
      "---------------------------------------------------------------------------\n",
      "Learning rate set to 0.002361\n",
      "0:\tlearn: 0.6909972\ttotal: 79.4ms\tremaining: 6m 36s\n",
      "999:\tlearn: 0.1760091\ttotal: 40s\tremaining: 2m 40s\n",
      "1998:\tlearn: 0.1111253\ttotal: 1m 20s\tremaining: 2m\n",
      "2997:\tlearn: 0.0748899\ttotal: 2m\tremaining: 1m 20s\n",
      "3996:\tlearn: 0.0524693\ttotal: 2m 40s\tremaining: 40.2s\n",
      "4995:\tlearn: 0.0365828\ttotal: 3m 19s\tremaining: 160ms\n",
      "4999:\tlearn: 0.0365297\ttotal: 3m 20s\tremaining: 0us\n"
     ]
    },
    {
     "name": "stderr",
     "output_type": "stream",
     "text": [
      "9it [30:21, 201.72s/it]"
     ]
    },
    {
     "name": "stdout",
     "output_type": "stream",
     "text": [
      "fold Loss 8:  0.08300688622865848\n",
      "---------------------------------------------------------------------------\n",
      "Learning rate set to 0.002361\n",
      "0:\tlearn: 0.6908843\ttotal: 80.4ms\tremaining: 6m 42s\n",
      "999:\tlearn: 0.1740109\ttotal: 39.8s\tremaining: 2m 39s\n",
      "1998:\tlearn: 0.1079335\ttotal: 1m 19s\tremaining: 1m 59s\n",
      "2997:\tlearn: 0.0719236\ttotal: 1m 58s\tremaining: 1m 19s\n",
      "3996:\tlearn: 0.0496625\ttotal: 2m 38s\tremaining: 39.7s\n",
      "4995:\tlearn: 0.0342685\ttotal: 3m 17s\tremaining: 158ms\n",
      "4999:\tlearn: 0.0342419\ttotal: 3m 17s\tremaining: 0us\n"
     ]
    },
    {
     "name": "stderr",
     "output_type": "stream",
     "text": [
      "10it [33:40, 200.81s/it]"
     ]
    },
    {
     "name": "stdout",
     "output_type": "stream",
     "text": [
      "fold Loss 9:  0.16375237708451001\n",
      "---------------------------------------------------------------------------\n",
      "Learning rate set to 0.002361\n",
      "0:\tlearn: 0.6909472\ttotal: 77.3ms\tremaining: 6m 26s\n",
      "999:\tlearn: 0.1728421\ttotal: 40.1s\tremaining: 2m 40s\n",
      "1998:\tlearn: 0.1078206\ttotal: 1m 19s\tremaining: 1m 59s\n",
      "2997:\tlearn: 0.0728743\ttotal: 1m 59s\tremaining: 1m 19s\n",
      "3996:\tlearn: 0.0515817\ttotal: 2m 38s\tremaining: 39.8s\n",
      "4995:\tlearn: 0.0357108\ttotal: 3m 18s\tremaining: 159ms\n",
      "4999:\tlearn: 0.0356495\ttotal: 3m 18s\tremaining: 0us\n"
     ]
    },
    {
     "name": "stderr",
     "output_type": "stream",
     "text": [
      "11it [36:59, 200.27s/it]"
     ]
    },
    {
     "name": "stdout",
     "output_type": "stream",
     "text": [
      "fold Loss 10:  0.13847516169020846\n",
      "---------------------------------------------------------------------------\n",
      "Learning rate set to 0.002361\n",
      "0:\tlearn: 0.6907676\ttotal: 79.2ms\tremaining: 6m 35s\n",
      "999:\tlearn: 0.1675974\ttotal: 40.1s\tremaining: 2m 40s\n",
      "1998:\tlearn: 0.1052504\ttotal: 1m 20s\tremaining: 2m\n",
      "2997:\tlearn: 0.0720162\ttotal: 2m\tremaining: 1m 20s\n",
      "3996:\tlearn: 0.0498335\ttotal: 2m 40s\tremaining: 40.4s\n",
      "4995:\tlearn: 0.0334786\ttotal: 3m 20s\tremaining: 161ms\n",
      "4999:\tlearn: 0.0334231\ttotal: 3m 21s\tremaining: 0us\n"
     ]
    },
    {
     "name": "stderr",
     "output_type": "stream",
     "text": [
      "12it [40:21, 200.81s/it]"
     ]
    },
    {
     "name": "stdout",
     "output_type": "stream",
     "text": [
      "fold Loss 11:  0.22225922578850238\n",
      "---------------------------------------------------------------------------\n",
      "Learning rate set to 0.002361\n",
      "0:\tlearn: 0.6908921\ttotal: 79.9ms\tremaining: 6m 39s\n",
      "999:\tlearn: 0.1739678\ttotal: 40.4s\tremaining: 2m 41s\n",
      "1998:\tlearn: 0.1089364\ttotal: 1m 21s\tremaining: 2m 3s\n",
      "2997:\tlearn: 0.0728041\ttotal: 2m 2s\tremaining: 1m 21s\n",
      "3996:\tlearn: 0.0501035\ttotal: 2m 42s\tremaining: 40.7s\n",
      "4995:\tlearn: 0.0341337\ttotal: 3m 22s\tremaining: 162ms\n",
      "4999:\tlearn: 0.0340843\ttotal: 3m 22s\tremaining: 0us\n"
     ]
    },
    {
     "name": "stderr",
     "output_type": "stream",
     "text": [
      "13it [43:44, 201.59s/it]"
     ]
    },
    {
     "name": "stdout",
     "output_type": "stream",
     "text": [
      "fold Loss 12:  0.13752075283619497\n",
      "---------------------------------------------------------------------------\n",
      "Learning rate set to 0.002361\n",
      "0:\tlearn: 0.6909632\ttotal: 82ms\tremaining: 6m 50s\n",
      "999:\tlearn: 0.1689093\ttotal: 40.7s\tremaining: 2m 42s\n",
      "1998:\tlearn: 0.1050193\ttotal: 1m 21s\tremaining: 2m 1s\n",
      "2997:\tlearn: 0.0698561\ttotal: 2m 1s\tremaining: 1m 21s\n",
      "3996:\tlearn: 0.0485275\ttotal: 2m 41s\tremaining: 40.6s\n",
      "4995:\tlearn: 0.0332523\ttotal: 3m 22s\tremaining: 162ms\n",
      "4999:\tlearn: 0.0332036\ttotal: 3m 22s\tremaining: 0us\n"
     ]
    },
    {
     "name": "stderr",
     "output_type": "stream",
     "text": [
      "14it [47:07, 202.08s/it]"
     ]
    },
    {
     "name": "stdout",
     "output_type": "stream",
     "text": [
      "fold Loss 13:  0.2468997569469869\n",
      "---------------------------------------------------------------------------\n",
      "Learning rate set to 0.002361\n",
      "0:\tlearn: 0.6908151\ttotal: 75.3ms\tremaining: 6m 16s\n",
      "999:\tlearn: 0.1708073\ttotal: 40.1s\tremaining: 2m 40s\n",
      "1998:\tlearn: 0.1071557\ttotal: 1m 20s\tremaining: 2m\n",
      "2997:\tlearn: 0.0720563\ttotal: 2m\tremaining: 1m 20s\n",
      "3996:\tlearn: 0.0500201\ttotal: 2m 40s\tremaining: 40.2s\n",
      "4995:\tlearn: 0.0342986\ttotal: 3m 20s\tremaining: 160ms\n",
      "4999:\tlearn: 0.0342584\ttotal: 3m 20s\tremaining: 0us\n"
     ]
    },
    {
     "name": "stderr",
     "output_type": "stream",
     "text": [
      "15it [50:28, 201.78s/it]"
     ]
    },
    {
     "name": "stdout",
     "output_type": "stream",
     "text": [
      "fold Loss 14:  0.16313813471016303\n",
      "---------------------------------------------------------------------------\n",
      "Learning rate set to 0.002361\n",
      "0:\tlearn: 0.6907254\ttotal: 73.4ms\tremaining: 6m 6s\n",
      "999:\tlearn: 0.1743169\ttotal: 39.9s\tremaining: 2m 39s\n",
      "1998:\tlearn: 0.1093404\ttotal: 1m 19s\tremaining: 1m 59s\n",
      "2997:\tlearn: 0.0736520\ttotal: 1m 59s\tremaining: 1m 19s\n",
      "3996:\tlearn: 0.0512523\ttotal: 2m 39s\tremaining: 40.1s\n",
      "4995:\tlearn: 0.0357229\ttotal: 3m 19s\tremaining: 160ms\n",
      "4999:\tlearn: 0.0356931\ttotal: 3m 20s\tremaining: 0us\n"
     ]
    },
    {
     "name": "stderr",
     "output_type": "stream",
     "text": [
      "16it [53:49, 201.53s/it]"
     ]
    },
    {
     "name": "stdout",
     "output_type": "stream",
     "text": [
      "fold Loss 15:  0.1368743602393247\n",
      "---------------------------------------------------------------------------\n",
      "Learning rate set to 0.002361\n",
      "0:\tlearn: 0.6908117\ttotal: 78.6ms\tremaining: 6m 32s\n",
      "999:\tlearn: 0.1741174\ttotal: 39.9s\tremaining: 2m 39s\n",
      "1998:\tlearn: 0.1093376\ttotal: 1m 19s\tremaining: 1m 59s\n",
      "2997:\tlearn: 0.0735314\ttotal: 1m 58s\tremaining: 1m 19s\n",
      "3996:\tlearn: 0.0514003\ttotal: 2m 38s\tremaining: 39.8s\n",
      "4995:\tlearn: 0.0356512\ttotal: 3m 18s\tremaining: 159ms\n",
      "4999:\tlearn: 0.0355964\ttotal: 3m 18s\tremaining: 0us\n"
     ]
    },
    {
     "name": "stderr",
     "output_type": "stream",
     "text": [
      "17it [57:09, 200.81s/it]"
     ]
    },
    {
     "name": "stdout",
     "output_type": "stream",
     "text": [
      "fold Loss 16:  0.07828322244791837\n",
      "---------------------------------------------------------------------------\n",
      "Learning rate set to 0.002361\n",
      "0:\tlearn: 0.6909867\ttotal: 78.8ms\tremaining: 6m 33s\n",
      "999:\tlearn: 0.1720322\ttotal: 39.9s\tremaining: 2m 39s\n",
      "1998:\tlearn: 0.1083572\ttotal: 1m 19s\tremaining: 2m\n",
      "2997:\tlearn: 0.0729068\ttotal: 2m\tremaining: 1m 20s\n",
      "3996:\tlearn: 0.0504540\ttotal: 2m 40s\tremaining: 40.2s\n",
      "4995:\tlearn: 0.0353143\ttotal: 3m 20s\tremaining: 161ms\n",
      "4999:\tlearn: 0.0352593\ttotal: 3m 20s\tremaining: 0us\n"
     ]
    },
    {
     "name": "stderr",
     "output_type": "stream",
     "text": [
      "18it [1:00:30, 201.08s/it]"
     ]
    },
    {
     "name": "stdout",
     "output_type": "stream",
     "text": [
      "fold Loss 17:  0.19882584007713308\n",
      "---------------------------------------------------------------------------\n",
      "Learning rate set to 0.002361\n",
      "0:\tlearn: 0.6908292\ttotal: 78.4ms\tremaining: 6m 31s\n",
      "999:\tlearn: 0.1735471\ttotal: 40.4s\tremaining: 2m 41s\n",
      "1998:\tlearn: 0.1096990\ttotal: 1m 21s\tremaining: 2m 1s\n",
      "2997:\tlearn: 0.0742684\ttotal: 2m 1s\tremaining: 1m 21s\n",
      "3996:\tlearn: 0.0534404\ttotal: 2m 41s\tremaining: 40.5s\n",
      "4995:\tlearn: 0.0378011\ttotal: 3m 21s\tremaining: 162ms\n",
      "4999:\tlearn: 0.0377619\ttotal: 3m 22s\tremaining: 0us\n"
     ]
    },
    {
     "name": "stderr",
     "output_type": "stream",
     "text": [
      "19it [1:03:53, 201.63s/it]"
     ]
    },
    {
     "name": "stdout",
     "output_type": "stream",
     "text": [
      "fold Loss 18:  0.10248673484907599\n",
      "---------------------------------------------------------------------------\n",
      "Learning rate set to 0.002362\n",
      "0:\tlearn: 0.6908062\ttotal: 76.3ms\tremaining: 6m 21s\n",
      "999:\tlearn: 0.1676894\ttotal: 40.8s\tremaining: 2m 43s\n",
      "1998:\tlearn: 0.1038495\ttotal: 1m 21s\tremaining: 2m 1s\n",
      "2997:\tlearn: 0.0691486\ttotal: 2m 1s\tremaining: 1m 21s\n",
      "3996:\tlearn: 0.0481057\ttotal: 2m 41s\tremaining: 40.6s\n",
      "4995:\tlearn: 0.0325675\ttotal: 3m 22s\tremaining: 162ms\n",
      "4999:\tlearn: 0.0325305\ttotal: 3m 22s\tremaining: 0us\n"
     ]
    },
    {
     "name": "stderr",
     "output_type": "stream",
     "text": [
      "20it [1:07:16, 201.84s/it]"
     ]
    },
    {
     "name": "stdout",
     "output_type": "stream",
     "text": [
      "fold Loss 19:  0.281107324773389\n",
      "---------------------------------------------------------------------------\n",
      "Training Loss: 0.04476258069188921\n",
      "Loss for silicate:\n",
      "0.17902981305920987 0.057599714254465285\n",
      "==================================================================================================\n",
      "TARGET  sulfate\n"
     ]
    },
    {
     "name": "stderr",
     "output_type": "stream",
     "text": [
      "\n"
     ]
    },
    {
     "name": "stdout",
     "output_type": "stream",
     "text": [
      "0.4272047733017613\n"
     ]
    },
    {
     "name": "stderr",
     "output_type": "stream",
     "text": [
      "100%|██████████| 101/101 [00:00<00:00, 386518.89it/s]\n"
     ]
    },
    {
     "name": "stdout",
     "output_type": "stream",
     "text": [
      "27\n",
      "0.34179841034017705\n"
     ]
    },
    {
     "name": "stderr",
     "output_type": "stream",
     "text": [
      "100%|██████████| 3900/3900 [00:00<00:00, 847290.25it/s]\n"
     ]
    },
    {
     "name": "stdout",
     "output_type": "stream",
     "text": [
      "82\n",
      "0.3138678274844839\n"
     ]
    },
    {
     "name": "stderr",
     "output_type": "stream",
     "text": [
      "100%|██████████| 4200/4200 [00:00<00:00, 835954.86it/s]\n"
     ]
    },
    {
     "name": "stdout",
     "output_type": "stream",
     "text": [
      "96\n",
      "0.311447506224724\n"
     ]
    },
    {
     "name": "stderr",
     "output_type": "stream",
     "text": [
      "100%|██████████| 4000/4000 [00:00<00:00, 853976.18it/s]\n"
     ]
    },
    {
     "name": "stdout",
     "output_type": "stream",
     "text": [
      "86\n",
      "(1059, 86) (1059, 27) (1059, 82) (1059, 96)\n",
      "(1059, 291)\n",
      "(804, 86) (804, 27) (804, 82) (804, 96)\n",
      "(804, 291)\n"
     ]
    },
    {
     "name": "stderr",
     "output_type": "stream",
     "text": [
      "0it [00:00, ?it/s]"
     ]
    },
    {
     "name": "stdout",
     "output_type": "stream",
     "text": [
      "Learning rate set to 0.002361\n",
      "0:\tlearn: 0.6907471\ttotal: 57.2ms\tremaining: 4m 45s\n",
      "999:\tlearn: 0.1456993\ttotal: 36.2s\tremaining: 2m 24s\n",
      "1998:\tlearn: 0.0812234\ttotal: 1m 12s\tremaining: 1m 49s\n",
      "2997:\tlearn: 0.0517972\ttotal: 1m 49s\tremaining: 1m 13s\n",
      "3996:\tlearn: 0.0329407\ttotal: 2m 25s\tremaining: 36.6s\n",
      "4995:\tlearn: 0.0217763\ttotal: 3m 2s\tremaining: 146ms\n",
      "4999:\tlearn: 0.0217436\ttotal: 3m 2s\tremaining: 0us\n"
     ]
    },
    {
     "name": "stderr",
     "output_type": "stream",
     "text": [
      "1it [03:03, 183.11s/it]"
     ]
    },
    {
     "name": "stdout",
     "output_type": "stream",
     "text": [
      "fold Loss 0:  0.17574708896043745\n",
      "---------------------------------------------------------------------------\n",
      "Learning rate set to 0.002361\n",
      "0:\tlearn: 0.6903627\ttotal: 72.7ms\tremaining: 6m 3s\n",
      "999:\tlearn: 0.1477026\ttotal: 36.2s\tremaining: 2m 24s\n",
      "1998:\tlearn: 0.0820222\ttotal: 1m 12s\tremaining: 1m 49s\n",
      "2997:\tlearn: 0.0529715\ttotal: 1m 48s\tremaining: 1m 12s\n",
      "3996:\tlearn: 0.0337176\ttotal: 2m 25s\tremaining: 36.5s\n",
      "4995:\tlearn: 0.0216894\ttotal: 3m 1s\tremaining: 146ms\n",
      "4999:\tlearn: 0.0216531\ttotal: 3m 2s\tremaining: 0us\n"
     ]
    },
    {
     "name": "stderr",
     "output_type": "stream",
     "text": [
      "2it [06:06, 182.99s/it]"
     ]
    },
    {
     "name": "stdout",
     "output_type": "stream",
     "text": [
      "fold Loss 1:  0.11361322029144678\n",
      "---------------------------------------------------------------------------\n",
      "Learning rate set to 0.002361\n",
      "0:\tlearn: 0.6904899\ttotal: 74.6ms\tremaining: 6m 12s\n",
      "999:\tlearn: 0.1456696\ttotal: 36.4s\tremaining: 2m 25s\n",
      "1998:\tlearn: 0.0810920\ttotal: 1m 12s\tremaining: 1m 48s\n",
      "2997:\tlearn: 0.0516877\ttotal: 1m 48s\tremaining: 1m 12s\n",
      "3996:\tlearn: 0.0326781\ttotal: 2m 24s\tremaining: 36.4s\n",
      "4995:\tlearn: 0.0219482\ttotal: 3m\tremaining: 145ms\n",
      "4999:\tlearn: 0.0219256\ttotal: 3m\tremaining: 0us\n"
     ]
    },
    {
     "name": "stderr",
     "output_type": "stream",
     "text": [
      "3it [09:07, 182.47s/it]"
     ]
    },
    {
     "name": "stdout",
     "output_type": "stream",
     "text": [
      "fold Loss 2:  0.2222632781772725\n",
      "---------------------------------------------------------------------------\n",
      "Learning rate set to 0.002361\n",
      "0:\tlearn: 0.6907415\ttotal: 73.4ms\tremaining: 6m 6s\n",
      "999:\tlearn: 0.1397432\ttotal: 36.1s\tremaining: 2m 24s\n",
      "1998:\tlearn: 0.0754371\ttotal: 1m 12s\tremaining: 1m 48s\n",
      "2997:\tlearn: 0.0469272\ttotal: 1m 47s\tremaining: 1m 11s\n",
      "3996:\tlearn: 0.0293785\ttotal: 2m 23s\tremaining: 35.9s\n",
      "4995:\tlearn: 0.0195489\ttotal: 2m 59s\tremaining: 143ms\n",
      "4999:\tlearn: 0.0195201\ttotal: 2m 59s\tremaining: 0us\n"
     ]
    },
    {
     "name": "stderr",
     "output_type": "stream",
     "text": [
      "4it [12:08, 181.58s/it]"
     ]
    },
    {
     "name": "stdout",
     "output_type": "stream",
     "text": [
      "fold Loss 3:  0.370647141406252\n",
      "---------------------------------------------------------------------------\n",
      "Learning rate set to 0.002361\n",
      "0:\tlearn: 0.6908647\ttotal: 74ms\tremaining: 6m 10s\n",
      "999:\tlearn: 0.1473631\ttotal: 36.5s\tremaining: 2m 26s\n",
      "1998:\tlearn: 0.0818123\ttotal: 1m 12s\tremaining: 1m 48s\n",
      "2997:\tlearn: 0.0520855\ttotal: 1m 48s\tremaining: 1m 12s\n",
      "3996:\tlearn: 0.0336737\ttotal: 2m 23s\tremaining: 36s\n",
      "4995:\tlearn: 0.0228878\ttotal: 2m 58s\tremaining: 143ms\n",
      "4999:\tlearn: 0.0228591\ttotal: 2m 59s\tremaining: 0us\n"
     ]
    },
    {
     "name": "stderr",
     "output_type": "stream",
     "text": [
      "5it [15:08, 181.01s/it]"
     ]
    },
    {
     "name": "stdout",
     "output_type": "stream",
     "text": [
      "fold Loss 4:  0.23389183781048062\n",
      "---------------------------------------------------------------------------\n",
      "Learning rate set to 0.002361\n",
      "0:\tlearn: 0.6905977\ttotal: 70.2ms\tremaining: 5m 51s\n",
      "999:\tlearn: 0.1461502\ttotal: 35.4s\tremaining: 2m 21s\n",
      "1998:\tlearn: 0.0802206\ttotal: 1m 11s\tremaining: 1m 46s\n",
      "2997:\tlearn: 0.0514054\ttotal: 1m 46s\tremaining: 1m 11s\n",
      "3996:\tlearn: 0.0331197\ttotal: 2m 22s\tremaining: 35.8s\n",
      "4995:\tlearn: 0.0221162\ttotal: 2m 58s\tremaining: 143ms\n",
      "4999:\tlearn: 0.0220922\ttotal: 2m 58s\tremaining: 0us\n"
     ]
    },
    {
     "name": "stderr",
     "output_type": "stream",
     "text": [
      "6it [18:07, 180.53s/it]"
     ]
    },
    {
     "name": "stdout",
     "output_type": "stream",
     "text": [
      "fold Loss 5:  0.1948310957267224\n",
      "---------------------------------------------------------------------------\n",
      "Learning rate set to 0.002361\n",
      "0:\tlearn: 0.6906407\ttotal: 70.9ms\tremaining: 5m 54s\n",
      "999:\tlearn: 0.1451411\ttotal: 36.4s\tremaining: 2m 25s\n",
      "1998:\tlearn: 0.0806774\ttotal: 1m 12s\tremaining: 1m 48s\n",
      "2997:\tlearn: 0.0513335\ttotal: 1m 47s\tremaining: 1m 12s\n",
      "3996:\tlearn: 0.0325960\ttotal: 2m 23s\tremaining: 36.1s\n",
      "4995:\tlearn: 0.0221451\ttotal: 2m 59s\tremaining: 144ms\n",
      "4999:\tlearn: 0.0221092\ttotal: 2m 59s\tremaining: 0us\n"
     ]
    },
    {
     "name": "stderr",
     "output_type": "stream",
     "text": [
      "7it [21:08, 180.55s/it]"
     ]
    },
    {
     "name": "stdout",
     "output_type": "stream",
     "text": [
      "fold Loss 6:  0.22434483159346572\n",
      "---------------------------------------------------------------------------\n",
      "Learning rate set to 0.002361\n",
      "0:\tlearn: 0.6907763\ttotal: 70.6ms\tremaining: 5m 53s\n",
      "999:\tlearn: 0.1504906\ttotal: 35.9s\tremaining: 2m 23s\n",
      "1998:\tlearn: 0.0836194\ttotal: 1m 11s\tremaining: 1m 47s\n",
      "2997:\tlearn: 0.0529073\ttotal: 1m 47s\tremaining: 1m 11s\n",
      "3996:\tlearn: 0.0330428\ttotal: 2m 22s\tremaining: 35.8s\n",
      "4995:\tlearn: 0.0221743\ttotal: 2m 58s\tremaining: 143ms\n",
      "4999:\tlearn: 0.0221421\ttotal: 2m 58s\tremaining: 0us\n"
     ]
    },
    {
     "name": "stderr",
     "output_type": "stream",
     "text": [
      "8it [24:07, 180.27s/it]"
     ]
    },
    {
     "name": "stdout",
     "output_type": "stream",
     "text": [
      "fold Loss 7:  0.062299411220004125\n",
      "---------------------------------------------------------------------------\n",
      "Learning rate set to 0.002361\n",
      "0:\tlearn: 0.6907491\ttotal: 69.4ms\tremaining: 5m 46s\n",
      "999:\tlearn: 0.1459051\ttotal: 35.8s\tremaining: 2m 23s\n",
      "1998:\tlearn: 0.0807810\ttotal: 1m 11s\tremaining: 1m 47s\n",
      "2997:\tlearn: 0.0512823\ttotal: 1m 47s\tremaining: 1m 11s\n",
      "3996:\tlearn: 0.0330209\ttotal: 2m 22s\tremaining: 35.9s\n",
      "4995:\tlearn: 0.0221589\ttotal: 2m 58s\tremaining: 143ms\n",
      "4999:\tlearn: 0.0221218\ttotal: 2m 58s\tremaining: 0us\n"
     ]
    },
    {
     "name": "stderr",
     "output_type": "stream",
     "text": [
      "9it [27:07, 180.01s/it]"
     ]
    },
    {
     "name": "stdout",
     "output_type": "stream",
     "text": [
      "fold Loss 8:  0.12979998696402217\n",
      "---------------------------------------------------------------------------\n",
      "Learning rate set to 0.002361\n",
      "0:\tlearn: 0.6908241\ttotal: 71.7ms\tremaining: 5m 58s\n",
      "999:\tlearn: 0.1481236\ttotal: 35.6s\tremaining: 2m 22s\n",
      "1998:\tlearn: 0.0819622\ttotal: 1m 11s\tremaining: 1m 46s\n",
      "2997:\tlearn: 0.0529466\ttotal: 1m 46s\tremaining: 1m 11s\n",
      "3996:\tlearn: 0.0343755\ttotal: 2m 22s\tremaining: 35.7s\n",
      "4995:\tlearn: 0.0229894\ttotal: 2m 57s\tremaining: 142ms\n",
      "4999:\tlearn: 0.0229570\ttotal: 2m 57s\tremaining: 0us\n"
     ]
    },
    {
     "name": "stderr",
     "output_type": "stream",
     "text": [
      "10it [30:05, 179.53s/it]"
     ]
    },
    {
     "name": "stdout",
     "output_type": "stream",
     "text": [
      "fold Loss 9:  0.07470237059819211\n",
      "---------------------------------------------------------------------------\n",
      "Learning rate set to 0.002361\n",
      "0:\tlearn: 0.6908413\ttotal: 69.6ms\tremaining: 5m 48s\n",
      "999:\tlearn: 0.1482426\ttotal: 35.8s\tremaining: 2m 23s\n",
      "1998:\tlearn: 0.0824926\ttotal: 1m 11s\tremaining: 1m 46s\n",
      "2997:\tlearn: 0.0524786\ttotal: 1m 46s\tremaining: 1m 11s\n",
      "3996:\tlearn: 0.0330094\ttotal: 2m 21s\tremaining: 35.6s\n",
      "4995:\tlearn: 0.0213498\ttotal: 2m 57s\tremaining: 142ms\n",
      "4999:\tlearn: 0.0213218\ttotal: 2m 57s\tremaining: 0us\n"
     ]
    },
    {
     "name": "stderr",
     "output_type": "stream",
     "text": [
      "11it [33:04, 179.23s/it]"
     ]
    },
    {
     "name": "stdout",
     "output_type": "stream",
     "text": [
      "fold Loss 10:  0.1231076241901002\n",
      "---------------------------------------------------------------------------\n",
      "Learning rate set to 0.002361\n",
      "0:\tlearn: 0.6905006\ttotal: 73.3ms\tremaining: 6m 6s\n",
      "999:\tlearn: 0.1472641\ttotal: 36.2s\tremaining: 2m 24s\n",
      "1998:\tlearn: 0.0813032\ttotal: 1m 12s\tremaining: 1m 48s\n",
      "2997:\tlearn: 0.0517673\ttotal: 1m 48s\tremaining: 1m 12s\n",
      "3996:\tlearn: 0.0328076\ttotal: 2m 23s\tremaining: 36.1s\n",
      "4995:\tlearn: 0.0213897\ttotal: 2m 59s\tremaining: 144ms\n",
      "4999:\tlearn: 0.0213618\ttotal: 2m 59s\tremaining: 0us\n"
     ]
    },
    {
     "name": "stderr",
     "output_type": "stream",
     "text": [
      "12it [36:04, 179.65s/it]"
     ]
    },
    {
     "name": "stdout",
     "output_type": "stream",
     "text": [
      "fold Loss 11:  0.15745913863115038\n",
      "---------------------------------------------------------------------------\n",
      "Learning rate set to 0.002361\n",
      "0:\tlearn: 0.6905224\ttotal: 71.6ms\tremaining: 5m 58s\n",
      "999:\tlearn: 0.1499737\ttotal: 35.9s\tremaining: 2m 23s\n",
      "1998:\tlearn: 0.0835149\ttotal: 1m 11s\tremaining: 1m 47s\n",
      "2997:\tlearn: 0.0530763\ttotal: 1m 46s\tremaining: 1m 11s\n",
      "3996:\tlearn: 0.0339493\ttotal: 2m 22s\tremaining: 35.7s\n",
      "4995:\tlearn: 0.0229701\ttotal: 2m 58s\tremaining: 143ms\n",
      "4999:\tlearn: 0.0229390\ttotal: 2m 58s\tremaining: 0us\n"
     ]
    },
    {
     "name": "stderr",
     "output_type": "stream",
     "text": [
      "13it [39:04, 179.47s/it]"
     ]
    },
    {
     "name": "stdout",
     "output_type": "stream",
     "text": [
      "fold Loss 12:  0.06442414605544855\n",
      "---------------------------------------------------------------------------\n",
      "Learning rate set to 0.002361\n",
      "0:\tlearn: 0.6904997\ttotal: 70.1ms\tremaining: 5m 50s\n",
      "999:\tlearn: 0.1426299\ttotal: 35.6s\tremaining: 2m 22s\n",
      "1998:\tlearn: 0.0789489\ttotal: 1m 11s\tremaining: 1m 47s\n",
      "2997:\tlearn: 0.0499727\ttotal: 1m 47s\tremaining: 1m 11s\n",
      "3996:\tlearn: 0.0322208\ttotal: 2m 22s\tremaining: 35.8s\n",
      "4995:\tlearn: 0.0207736\ttotal: 2m 58s\tremaining: 143ms\n",
      "4999:\tlearn: 0.0207496\ttotal: 2m 58s\tremaining: 0us\n"
     ]
    },
    {
     "name": "stderr",
     "output_type": "stream",
     "text": [
      "14it [42:03, 179.38s/it]"
     ]
    },
    {
     "name": "stdout",
     "output_type": "stream",
     "text": [
      "fold Loss 13:  0.288900934023618\n",
      "---------------------------------------------------------------------------\n",
      "Learning rate set to 0.002361\n",
      "0:\tlearn: 0.6906924\ttotal: 71.6ms\tremaining: 5m 58s\n",
      "999:\tlearn: 0.1458351\ttotal: 35.6s\tremaining: 2m 22s\n",
      "1998:\tlearn: 0.0808001\ttotal: 1m 11s\tremaining: 1m 46s\n",
      "2997:\tlearn: 0.0513005\ttotal: 1m 46s\tremaining: 1m 11s\n",
      "3996:\tlearn: 0.0324320\ttotal: 2m 22s\tremaining: 35.8s\n",
      "4995:\tlearn: 0.0214168\ttotal: 2m 58s\tremaining: 143ms\n",
      "4999:\tlearn: 0.0213901\ttotal: 2m 58s\tremaining: 0us\n"
     ]
    },
    {
     "name": "stderr",
     "output_type": "stream",
     "text": [
      "15it [45:02, 179.32s/it]"
     ]
    },
    {
     "name": "stdout",
     "output_type": "stream",
     "text": [
      "fold Loss 14:  0.1641999012008721\n",
      "---------------------------------------------------------------------------\n",
      "Learning rate set to 0.002361\n",
      "0:\tlearn: 0.6906569\ttotal: 72.1ms\tremaining: 6m\n",
      "999:\tlearn: 0.1446366\ttotal: 36s\tremaining: 2m 23s\n",
      "1998:\tlearn: 0.0802540\ttotal: 1m 12s\tremaining: 1m 48s\n",
      "2997:\tlearn: 0.0515570\ttotal: 1m 47s\tremaining: 1m 12s\n",
      "3996:\tlearn: 0.0330583\ttotal: 2m 23s\tremaining: 36s\n",
      "4995:\tlearn: 0.0225024\ttotal: 2m 59s\tremaining: 144ms\n",
      "4999:\tlearn: 0.0224542\ttotal: 2m 59s\tremaining: 0us\n"
     ]
    },
    {
     "name": "stderr",
     "output_type": "stream",
     "text": [
      "16it [48:02, 179.62s/it]"
     ]
    },
    {
     "name": "stdout",
     "output_type": "stream",
     "text": [
      "fold Loss 15:  0.17145692587599337\n",
      "---------------------------------------------------------------------------\n",
      "Learning rate set to 0.002361\n",
      "0:\tlearn: 0.6906152\ttotal: 71.7ms\tremaining: 5m 58s\n",
      "999:\tlearn: 0.1468604\ttotal: 35.7s\tremaining: 2m 22s\n",
      "1998:\tlearn: 0.0820138\ttotal: 1m 11s\tremaining: 1m 47s\n",
      "2997:\tlearn: 0.0521057\ttotal: 1m 47s\tremaining: 1m 11s\n",
      "3996:\tlearn: 0.0333889\ttotal: 2m 23s\tremaining: 36.1s\n",
      "4995:\tlearn: 0.0225401\ttotal: 2m 59s\tremaining: 144ms\n",
      "4999:\tlearn: 0.0225213\ttotal: 2m 59s\tremaining: 0us\n"
     ]
    },
    {
     "name": "stderr",
     "output_type": "stream",
     "text": [
      "17it [51:03, 179.96s/it]"
     ]
    },
    {
     "name": "stdout",
     "output_type": "stream",
     "text": [
      "fold Loss 16:  0.10772039198823435\n",
      "---------------------------------------------------------------------------\n",
      "Learning rate set to 0.002361\n",
      "0:\tlearn: 0.6907700\ttotal: 71.6ms\tremaining: 5m 58s\n",
      "999:\tlearn: 0.1442021\ttotal: 35.9s\tremaining: 2m 23s\n",
      "1998:\tlearn: 0.0809252\ttotal: 1m 11s\tremaining: 1m 47s\n",
      "2997:\tlearn: 0.0519678\ttotal: 1m 47s\tremaining: 1m 12s\n",
      "3996:\tlearn: 0.0333468\ttotal: 2m 23s\tremaining: 36.1s\n",
      "4995:\tlearn: 0.0224275\ttotal: 2m 59s\tremaining: 144ms\n",
      "4999:\tlearn: 0.0224034\ttotal: 2m 59s\tremaining: 0us\n"
     ]
    },
    {
     "name": "stderr",
     "output_type": "stream",
     "text": [
      "18it [54:04, 180.14s/it]"
     ]
    },
    {
     "name": "stdout",
     "output_type": "stream",
     "text": [
      "fold Loss 17:  0.1640223515845955\n",
      "---------------------------------------------------------------------------\n",
      "Learning rate set to 0.002361\n",
      "0:\tlearn: 0.6908698\ttotal: 75.2ms\tremaining: 6m 15s\n",
      "999:\tlearn: 0.1450080\ttotal: 36.2s\tremaining: 2m 24s\n",
      "1998:\tlearn: 0.0813865\ttotal: 1m 11s\tremaining: 1m 48s\n",
      "2997:\tlearn: 0.0523653\ttotal: 1m 47s\tremaining: 1m 12s\n",
      "3996:\tlearn: 0.0334327\ttotal: 2m 23s\tremaining: 36.1s\n",
      "4995:\tlearn: 0.0221311\ttotal: 2m 59s\tremaining: 144ms\n",
      "4999:\tlearn: 0.0221023\ttotal: 2m 59s\tremaining: 0us\n"
     ]
    },
    {
     "name": "stderr",
     "output_type": "stream",
     "text": [
      "19it [57:04, 180.23s/it]"
     ]
    },
    {
     "name": "stdout",
     "output_type": "stream",
     "text": [
      "fold Loss 18:  0.10553593536091052\n",
      "---------------------------------------------------------------------------\n",
      "Learning rate set to 0.002362\n",
      "0:\tlearn: 0.6907509\ttotal: 70.4ms\tremaining: 5m 51s\n",
      "999:\tlearn: 0.1500478\ttotal: 35.6s\tremaining: 2m 22s\n",
      "1998:\tlearn: 0.0828452\ttotal: 1m 11s\tremaining: 1m 46s\n",
      "2997:\tlearn: 0.0518392\ttotal: 1m 46s\tremaining: 1m 11s\n",
      "3996:\tlearn: 0.0324532\ttotal: 2m 22s\tremaining: 35.7s\n",
      "4995:\tlearn: 0.0212969\ttotal: 2m 58s\tremaining: 143ms\n",
      "4999:\tlearn: 0.0212639\ttotal: 2m 58s\tremaining: 0us\n"
     ]
    },
    {
     "name": "stderr",
     "output_type": "stream",
     "text": [
      "20it [1:00:03, 180.19s/it]"
     ]
    },
    {
     "name": "stdout",
     "output_type": "stream",
     "text": [
      "fold Loss 19:  0.08643709958694981\n",
      "---------------------------------------------------------------------------\n",
      "Training Loss: 0.024482379210193844\n",
      "Loss for sulfate:\n",
      "0.16177023556230843 0.07665713628537918\n",
      "==================================================================================================\n",
      "TARGET  sulfide\n"
     ]
    },
    {
     "name": "stderr",
     "output_type": "stream",
     "text": [
      "\n"
     ]
    },
    {
     "name": "stdout",
     "output_type": "stream",
     "text": [
      "0.18952781697906326\n"
     ]
    },
    {
     "name": "stderr",
     "output_type": "stream",
     "text": [
      "100%|██████████| 101/101 [00:00<00:00, 199728.76it/s]\n"
     ]
    },
    {
     "name": "stdout",
     "output_type": "stream",
     "text": [
      "21\n",
      "0.10141938060347684\n"
     ]
    },
    {
     "name": "stderr",
     "output_type": "stream",
     "text": [
      "100%|██████████| 3900/3900 [00:00<00:00, 869817.38it/s]\n"
     ]
    },
    {
     "name": "stdout",
     "output_type": "stream",
     "text": [
      "45\n",
      "0.11912773403913215\n"
     ]
    },
    {
     "name": "stderr",
     "output_type": "stream",
     "text": [
      "100%|██████████| 4200/4200 [00:00<00:00, 833660.35it/s]\n"
     ]
    },
    {
     "name": "stdout",
     "output_type": "stream",
     "text": [
      "64\n",
      "0.11773035239426355\n"
     ]
    },
    {
     "name": "stderr",
     "output_type": "stream",
     "text": [
      "100%|██████████| 4000/4000 [00:00<00:00, 844306.58it/s]\n"
     ]
    },
    {
     "name": "stdout",
     "output_type": "stream",
     "text": [
      "62\n",
      "(1059, 62) (1059, 21) (1059, 45) (1059, 64)\n",
      "(1059, 192)\n",
      "(804, 62) (804, 21) (804, 45) (804, 64)\n",
      "(804, 192)\n"
     ]
    },
    {
     "name": "stderr",
     "output_type": "stream",
     "text": [
      "0it [00:00, ?it/s]"
     ]
    },
    {
     "name": "stdout",
     "output_type": "stream",
     "text": [
      "Learning rate set to 0.002361\n",
      "0:\tlearn: 0.6894013\ttotal: 36.2ms\tremaining: 3m\n",
      "999:\tlearn: 0.0344356\ttotal: 23.5s\tremaining: 1m 33s\n",
      "1998:\tlearn: 0.0144289\ttotal: 47s\tremaining: 1m 10s\n",
      "2997:\tlearn: 0.0082868\ttotal: 1m 10s\tremaining: 47s\n",
      "3996:\tlearn: 0.0054946\ttotal: 1m 34s\tremaining: 23.6s\n"
     ]
    },
    {
     "name": "stderr",
     "output_type": "stream",
     "text": [
      "1it [01:57, 117.95s/it]"
     ]
    },
    {
     "name": "stdout",
     "output_type": "stream",
     "text": [
      "4995:\tlearn: 0.0039781\ttotal: 1m 57s\tremaining: 93.7ms\n",
      "4999:\tlearn: 0.0039738\ttotal: 1m 57s\tremaining: 0us\n",
      "fold Loss 0:  0.04794589113274883\n",
      "---------------------------------------------------------------------------\n",
      "Learning rate set to 0.002361\n",
      "0:\tlearn: 0.6892033\ttotal: 46.1ms\tremaining: 3m 50s\n",
      "999:\tlearn: 0.0356850\ttotal: 23.8s\tremaining: 1m 35s\n",
      "1998:\tlearn: 0.0148420\ttotal: 47.3s\tremaining: 1m 11s\n",
      "2997:\tlearn: 0.0086501\ttotal: 1m 11s\tremaining: 47.5s\n",
      "3996:\tlearn: 0.0057468\ttotal: 1m 34s\tremaining: 23.6s\n"
     ]
    },
    {
     "name": "stderr",
     "output_type": "stream",
     "text": [
      "2it [03:56, 118.47s/it]"
     ]
    },
    {
     "name": "stdout",
     "output_type": "stream",
     "text": [
      "4995:\tlearn: 0.0042998\ttotal: 1m 57s\tremaining: 94.4ms\n",
      "4999:\tlearn: 0.0042962\ttotal: 1m 58s\tremaining: 0us\n",
      "fold Loss 1:  0.0025998893618864923\n",
      "---------------------------------------------------------------------------\n",
      "Learning rate set to 0.002361\n",
      "0:\tlearn: 0.6892669\ttotal: 36.2ms\tremaining: 3m\n",
      "999:\tlearn: 0.0332589\ttotal: 23.6s\tremaining: 1m 34s\n",
      "1998:\tlearn: 0.0134821\ttotal: 47.3s\tremaining: 1m 10s\n",
      "2997:\tlearn: 0.0075858\ttotal: 1m 10s\tremaining: 46.9s\n",
      "3996:\tlearn: 0.0050696\ttotal: 1m 33s\tremaining: 23.6s\n"
     ]
    },
    {
     "name": "stderr",
     "output_type": "stream",
     "text": [
      "3it [05:55, 118.39s/it]"
     ]
    },
    {
     "name": "stdout",
     "output_type": "stream",
     "text": [
      "4995:\tlearn: 0.0037478\ttotal: 1m 57s\tremaining: 94ms\n",
      "4999:\tlearn: 0.0037434\ttotal: 1m 57s\tremaining: 0us\n",
      "fold Loss 2:  0.11840952769322144\n",
      "---------------------------------------------------------------------------\n",
      "Learning rate set to 0.002361\n",
      "0:\tlearn: 0.6892449\ttotal: 45.8ms\tremaining: 3m 49s\n",
      "999:\tlearn: 0.0344141\ttotal: 23.5s\tremaining: 1m 34s\n",
      "1998:\tlearn: 0.0156815\ttotal: 46.8s\tremaining: 1m 10s\n",
      "2997:\tlearn: 0.0092820\ttotal: 1m 10s\tremaining: 46.9s\n",
      "3996:\tlearn: 0.0062806\ttotal: 1m 33s\tremaining: 23.6s\n"
     ]
    },
    {
     "name": "stderr",
     "output_type": "stream",
     "text": [
      "4it [07:53, 118.33s/it]"
     ]
    },
    {
     "name": "stdout",
     "output_type": "stream",
     "text": [
      "4995:\tlearn: 0.0046532\ttotal: 1m 57s\tremaining: 93.9ms\n",
      "4999:\tlearn: 0.0046495\ttotal: 1m 57s\tremaining: 0us\n",
      "fold Loss 3:  0.09766021821592702\n",
      "---------------------------------------------------------------------------\n",
      "Learning rate set to 0.002361\n",
      "0:\tlearn: 0.6892784\ttotal: 36.8ms\tremaining: 3m 4s\n",
      "999:\tlearn: 0.0355085\ttotal: 23.8s\tremaining: 1m 35s\n",
      "1998:\tlearn: 0.0151022\ttotal: 47.8s\tremaining: 1m 11s\n",
      "2997:\tlearn: 0.0087308\ttotal: 1m 11s\tremaining: 47.6s\n",
      "3996:\tlearn: 0.0057351\ttotal: 1m 34s\tremaining: 23.8s\n"
     ]
    },
    {
     "name": "stderr",
     "output_type": "stream",
     "text": [
      "5it [09:52, 118.78s/it]"
     ]
    },
    {
     "name": "stdout",
     "output_type": "stream",
     "text": [
      "4995:\tlearn: 0.0042925\ttotal: 1m 58s\tremaining: 95ms\n",
      "4999:\tlearn: 0.0042875\ttotal: 1m 58s\tremaining: 0us\n",
      "fold Loss 4:  0.01672363317635263\n",
      "---------------------------------------------------------------------------\n",
      "Learning rate set to 0.002361\n",
      "0:\tlearn: 0.6894418\ttotal: 49.4ms\tremaining: 4m 6s\n",
      "999:\tlearn: 0.0341660\ttotal: 24s\tremaining: 1m 35s\n",
      "1998:\tlearn: 0.0141122\ttotal: 47.4s\tremaining: 1m 11s\n",
      "2997:\tlearn: 0.0082108\ttotal: 1m 11s\tremaining: 47.5s\n",
      "3996:\tlearn: 0.0054079\ttotal: 1m 34s\tremaining: 23.8s\n"
     ]
    },
    {
     "name": "stderr",
     "output_type": "stream",
     "text": [
      "6it [11:52, 119.18s/it]"
     ]
    },
    {
     "name": "stdout",
     "output_type": "stream",
     "text": [
      "4995:\tlearn: 0.0036760\ttotal: 1m 59s\tremaining: 95.3ms\n",
      "4999:\tlearn: 0.0036719\ttotal: 1m 59s\tremaining: 0us\n",
      "fold Loss 5:  0.028131548658135032\n",
      "---------------------------------------------------------------------------\n",
      "Learning rate set to 0.002361\n",
      "0:\tlearn: 0.6892769\ttotal: 36.9ms\tremaining: 3m 4s\n",
      "999:\tlearn: 0.0335025\ttotal: 23.3s\tremaining: 1m 33s\n",
      "1998:\tlearn: 0.0142915\ttotal: 47.3s\tremaining: 1m 10s\n",
      "2997:\tlearn: 0.0081010\ttotal: 1m 10s\tremaining: 47.3s\n",
      "3996:\tlearn: 0.0054701\ttotal: 1m 34s\tremaining: 23.8s\n"
     ]
    },
    {
     "name": "stderr",
     "output_type": "stream",
     "text": [
      "7it [13:51, 119.12s/it]"
     ]
    },
    {
     "name": "stdout",
     "output_type": "stream",
     "text": [
      "4995:\tlearn: 0.0040899\ttotal: 1m 58s\tremaining: 94.5ms\n",
      "4999:\tlearn: 0.0040863\ttotal: 1m 58s\tremaining: 0us\n",
      "fold Loss 6:  0.1205250969257594\n",
      "---------------------------------------------------------------------------\n",
      "Learning rate set to 0.002361\n",
      "0:\tlearn: 0.6893223\ttotal: 48.9ms\tremaining: 4m 4s\n",
      "999:\tlearn: 0.0344448\ttotal: 23.9s\tremaining: 1m 35s\n",
      "1998:\tlearn: 0.0151281\ttotal: 47.7s\tremaining: 1m 11s\n",
      "2997:\tlearn: 0.0087251\ttotal: 1m 11s\tremaining: 47.8s\n",
      "3996:\tlearn: 0.0057325\ttotal: 1m 35s\tremaining: 23.9s\n"
     ]
    },
    {
     "name": "stderr",
     "output_type": "stream",
     "text": [
      "8it [15:52, 119.46s/it]"
     ]
    },
    {
     "name": "stdout",
     "output_type": "stream",
     "text": [
      "4995:\tlearn: 0.0041464\ttotal: 1m 59s\tremaining: 95.5ms\n",
      "4999:\tlearn: 0.0041425\ttotal: 1m 59s\tremaining: 0us\n",
      "fold Loss 7:  0.10039934273109108\n",
      "---------------------------------------------------------------------------\n",
      "Learning rate set to 0.002361\n",
      "0:\tlearn: 0.6894270\ttotal: 37.5ms\tremaining: 3m 7s\n",
      "999:\tlearn: 0.0348342\ttotal: 23.7s\tremaining: 1m 34s\n",
      "1998:\tlearn: 0.0144200\ttotal: 47.3s\tremaining: 1m 11s\n",
      "2997:\tlearn: 0.0084203\ttotal: 1m 10s\tremaining: 47.4s\n",
      "3996:\tlearn: 0.0057358\ttotal: 1m 35s\tremaining: 23.8s\n"
     ]
    },
    {
     "name": "stderr",
     "output_type": "stream",
     "text": [
      "9it [17:51, 119.40s/it]"
     ]
    },
    {
     "name": "stdout",
     "output_type": "stream",
     "text": [
      "4995:\tlearn: 0.0042925\ttotal: 1m 58s\tremaining: 94.8ms\n",
      "4999:\tlearn: 0.0042888\ttotal: 1m 58s\tremaining: 0us\n",
      "fold Loss 8:  0.005104748343934399\n",
      "---------------------------------------------------------------------------\n",
      "Learning rate set to 0.002361\n",
      "0:\tlearn: 0.6892771\ttotal: 48ms\tremaining: 4m\n",
      "999:\tlearn: 0.0309021\ttotal: 23.9s\tremaining: 1m 35s\n",
      "1998:\tlearn: 0.0124492\ttotal: 49.2s\tremaining: 1m 13s\n",
      "2997:\tlearn: 0.0068980\ttotal: 1m 12s\tremaining: 48.7s\n",
      "3996:\tlearn: 0.0042204\ttotal: 1m 35s\tremaining: 24.1s\n"
     ]
    },
    {
     "name": "stderr",
     "output_type": "stream",
     "text": [
      "10it [19:51, 119.76s/it]"
     ]
    },
    {
     "name": "stdout",
     "output_type": "stream",
     "text": [
      "4995:\tlearn: 0.0030204\ttotal: 1m 59s\tremaining: 95.8ms\n",
      "4999:\tlearn: 0.0030181\ttotal: 1m 59s\tremaining: 0us\n",
      "fold Loss 9:  0.16420690954110467\n",
      "---------------------------------------------------------------------------\n",
      "Learning rate set to 0.002361\n",
      "0:\tlearn: 0.6893314\ttotal: 36.4ms\tremaining: 3m 1s\n",
      "999:\tlearn: 0.0353802\ttotal: 23.4s\tremaining: 1m 33s\n",
      "1998:\tlearn: 0.0148481\ttotal: 46.9s\tremaining: 1m 10s\n",
      "2997:\tlearn: 0.0084408\ttotal: 1m 9s\tremaining: 46.6s\n",
      "3996:\tlearn: 0.0055371\ttotal: 1m 33s\tremaining: 23.4s\n"
     ]
    },
    {
     "name": "stderr",
     "output_type": "stream",
     "text": [
      "11it [21:49, 119.06s/it]"
     ]
    },
    {
     "name": "stdout",
     "output_type": "stream",
     "text": [
      "4995:\tlearn: 0.0042656\ttotal: 1m 56s\tremaining: 93.3ms\n",
      "4999:\tlearn: 0.0042607\ttotal: 1m 56s\tremaining: 0us\n",
      "fold Loss 10:  0.026781388752359823\n",
      "---------------------------------------------------------------------------\n",
      "Learning rate set to 0.002361\n",
      "0:\tlearn: 0.6893004\ttotal: 47.4ms\tremaining: 3m 56s\n",
      "999:\tlearn: 0.0329746\ttotal: 23.4s\tremaining: 1m 33s\n",
      "1998:\tlearn: 0.0137943\ttotal: 46.5s\tremaining: 1m 9s\n",
      "2997:\tlearn: 0.0077888\ttotal: 1m 10s\tremaining: 46.9s\n",
      "3996:\tlearn: 0.0051350\ttotal: 1m 33s\tremaining: 23.5s\n"
     ]
    },
    {
     "name": "stderr",
     "output_type": "stream",
     "text": [
      "12it [23:47, 118.72s/it]"
     ]
    },
    {
     "name": "stdout",
     "output_type": "stream",
     "text": [
      "4995:\tlearn: 0.0038136\ttotal: 1m 57s\tremaining: 93.7ms\n",
      "4999:\tlearn: 0.0038098\ttotal: 1m 57s\tremaining: 0us\n",
      "fold Loss 11:  0.13514430215433748\n",
      "---------------------------------------------------------------------------\n",
      "Learning rate set to 0.002361\n",
      "0:\tlearn: 0.6892430\ttotal: 37.2ms\tremaining: 3m 6s\n",
      "999:\tlearn: 0.0353911\ttotal: 23.5s\tremaining: 1m 34s\n",
      "1998:\tlearn: 0.0161979\ttotal: 47.4s\tremaining: 1m 11s\n",
      "2997:\tlearn: 0.0095575\ttotal: 1m 10s\tremaining: 47s\n",
      "3996:\tlearn: 0.0063992\ttotal: 1m 34s\tremaining: 23.6s\n",
      "4995:\tlearn: 0.0047475\ttotal: 1m 57s\tremaining: 94.3ms\n",
      "4999:\tlearn: 0.0047440\ttotal: 1m 57s\tremaining: 0us\n",
      "fold Loss 12:  0.012067804298207002\n",
      "---------------------------------------------------------------------------"
     ]
    },
    {
     "name": "stderr",
     "output_type": "stream",
     "text": [
      "13it [25:45, 118.72s/it]"
     ]
    },
    {
     "name": "stdout",
     "output_type": "stream",
     "text": [
      "\n",
      "Learning rate set to 0.002361\n",
      "0:\tlearn: 0.6893059\ttotal: 50.7ms\tremaining: 4m 13s\n",
      "999:\tlearn: 0.0355426\ttotal: 23.7s\tremaining: 1m 34s\n",
      "1998:\tlearn: 0.0147541\ttotal: 46.8s\tremaining: 1m 10s\n",
      "2997:\tlearn: 0.0085334\ttotal: 1m 10s\tremaining: 47.1s\n",
      "3996:\tlearn: 0.0055269\ttotal: 1m 34s\tremaining: 23.6s\n"
     ]
    },
    {
     "name": "stderr",
     "output_type": "stream",
     "text": [
      "14it [27:44, 118.57s/it]"
     ]
    },
    {
     "name": "stdout",
     "output_type": "stream",
     "text": [
      "4995:\tlearn: 0.0039614\ttotal: 1m 57s\tremaining: 93.9ms\n",
      "4999:\tlearn: 0.0039571\ttotal: 1m 57s\tremaining: 0us\n",
      "fold Loss 13:  0.006470141352545268\n",
      "---------------------------------------------------------------------------\n",
      "Learning rate set to 0.002361\n",
      "0:\tlearn: 0.6893217\ttotal: 38ms\tremaining: 3m 9s\n",
      "999:\tlearn: 0.0353742\ttotal: 23.6s\tremaining: 1m 34s\n",
      "1998:\tlearn: 0.0146214\ttotal: 47.7s\tremaining: 1m 11s\n",
      "2997:\tlearn: 0.0082777\ttotal: 1m 11s\tremaining: 47.5s\n",
      "3996:\tlearn: 0.0053984\ttotal: 1m 34s\tremaining: 23.8s\n"
     ]
    },
    {
     "name": "stderr",
     "output_type": "stream",
     "text": [
      "15it [29:43, 118.81s/it]"
     ]
    },
    {
     "name": "stdout",
     "output_type": "stream",
     "text": [
      "4995:\tlearn: 0.0040441\ttotal: 1m 58s\tremaining: 94.8ms\n",
      "4999:\tlearn: 0.0040397\ttotal: 1m 58s\tremaining: 0us\n",
      "fold Loss 14:  0.00878405266451391\n",
      "---------------------------------------------------------------------------\n",
      "Learning rate set to 0.002361\n",
      "0:\tlearn: 0.6892888\ttotal: 48.9ms\tremaining: 4m 4s\n",
      "999:\tlearn: 0.0351475\ttotal: 24s\tremaining: 1m 35s\n",
      "1998:\tlearn: 0.0146850\ttotal: 47.5s\tremaining: 1m 11s\n",
      "2997:\tlearn: 0.0084742\ttotal: 1m 11s\tremaining: 47.7s\n",
      "3996:\tlearn: 0.0055593\ttotal: 1m 35s\tremaining: 23.9s\n"
     ]
    },
    {
     "name": "stderr",
     "output_type": "stream",
     "text": [
      "16it [31:43, 119.21s/it]"
     ]
    },
    {
     "name": "stdout",
     "output_type": "stream",
     "text": [
      "4995:\tlearn: 0.0040354\ttotal: 1m 59s\tremaining: 95.5ms\n",
      "4999:\tlearn: 0.0040310\ttotal: 1m 59s\tremaining: 0us\n",
      "fold Loss 15:  0.039763588702630914\n",
      "---------------------------------------------------------------------------\n",
      "Learning rate set to 0.002361\n",
      "0:\tlearn: 0.6893358\ttotal: 36.4ms\tremaining: 3m 2s\n",
      "999:\tlearn: 0.0340327\ttotal: 23.2s\tremaining: 1m 32s\n",
      "1998:\tlearn: 0.0144467\ttotal: 47.2s\tremaining: 1m 10s\n",
      "2997:\tlearn: 0.0081463\ttotal: 1m 10s\tremaining: 47.3s\n",
      "3996:\tlearn: 0.0052035\ttotal: 1m 34s\tremaining: 23.8s\n"
     ]
    },
    {
     "name": "stderr",
     "output_type": "stream",
     "text": [
      "17it [33:42, 119.21s/it]"
     ]
    },
    {
     "name": "stdout",
     "output_type": "stream",
     "text": [
      "4995:\tlearn: 0.0036094\ttotal: 1m 58s\tremaining: 94.7ms\n",
      "4999:\tlearn: 0.0036048\ttotal: 1m 58s\tremaining: 0us\n",
      "fold Loss 16:  0.15584694628212917\n",
      "---------------------------------------------------------------------------\n",
      "Learning rate set to 0.002361\n",
      "0:\tlearn: 0.6894005\ttotal: 49.4ms\tremaining: 4m 6s\n",
      "999:\tlearn: 0.0342296\ttotal: 24.1s\tremaining: 1m 36s\n",
      "1998:\tlearn: 0.0146959\ttotal: 47.6s\tremaining: 1m 11s\n",
      "2997:\tlearn: 0.0085499\ttotal: 1m 11s\tremaining: 47.4s\n",
      "3996:\tlearn: 0.0057183\ttotal: 1m 34s\tremaining: 23.7s\n"
     ]
    },
    {
     "name": "stderr",
     "output_type": "stream",
     "text": [
      "18it [35:42, 119.28s/it]"
     ]
    },
    {
     "name": "stdout",
     "output_type": "stream",
     "text": [
      "4995:\tlearn: 0.0042607\ttotal: 1m 58s\tremaining: 94.9ms\n",
      "4999:\tlearn: 0.0042576\ttotal: 1m 58s\tremaining: 0us\n",
      "fold Loss 17:  0.09228773018948788\n",
      "---------------------------------------------------------------------------\n",
      "Learning rate set to 0.002361\n",
      "0:\tlearn: 0.6891750\ttotal: 39ms\tremaining: 3m 14s\n",
      "999:\tlearn: 0.0342986\ttotal: 23.9s\tremaining: 1m 35s\n",
      "1998:\tlearn: 0.0141045\ttotal: 47.5s\tremaining: 1m 11s\n",
      "2997:\tlearn: 0.0081159\ttotal: 1m 11s\tremaining: 47.4s\n",
      "3996:\tlearn: 0.0053336\ttotal: 1m 34s\tremaining: 23.8s\n"
     ]
    },
    {
     "name": "stderr",
     "output_type": "stream",
     "text": [
      "19it [37:41, 119.33s/it]"
     ]
    },
    {
     "name": "stdout",
     "output_type": "stream",
     "text": [
      "4995:\tlearn: 0.0040676\ttotal: 1m 58s\tremaining: 94.9ms\n",
      "4999:\tlearn: 0.0040642\ttotal: 1m 58s\tremaining: 0us\n",
      "fold Loss 18:  0.0698168406158262\n",
      "---------------------------------------------------------------------------\n",
      "Learning rate set to 0.002362\n",
      "0:\tlearn: 0.6885174\ttotal: 81.5ms\tremaining: 6m 47s\n",
      "999:\tlearn: 0.0323757\ttotal: 23.9s\tremaining: 1m 35s\n",
      "1998:\tlearn: 0.0134112\ttotal: 47.5s\tremaining: 1m 11s\n",
      "2997:\tlearn: 0.0078002\ttotal: 1m 11s\tremaining: 47.8s\n",
      "3996:\tlearn: 0.0051407\ttotal: 1m 34s\tremaining: 23.8s\n"
     ]
    },
    {
     "name": "stderr",
     "output_type": "stream",
     "text": [
      "20it [39:41, 119.09s/it]"
     ]
    },
    {
     "name": "stdout",
     "output_type": "stream",
     "text": [
      "4995:\tlearn: 0.0036371\ttotal: 1m 59s\tremaining: 95.3ms\n",
      "4999:\tlearn: 0.0036329\ttotal: 1m 59s\tremaining: 0us\n",
      "fold Loss 19:  0.11651954450646332\n",
      "---------------------------------------------------------------------------\n",
      "Training Loss: 0.009180927525886742\n",
      "Loss for sulfide:\n",
      "0.0682594572649331 0.05358530790848837\n",
      "==================================================================================================\n",
      "AGG Loss: [0.13863498 0.09386363 0.15080343 0.20577805 0.01561893 0.13829565\n",
      " 0.19726156 0.17902981 0.16177024 0.06825946]\n",
      "AGG Loss mean: 0.13493157515767454\n"
     ]
    },
    {
     "name": "stderr",
     "output_type": "stream",
     "text": [
      "\n"
     ]
    }
   ],
   "source": [
    "agg_loss = []\n",
    "for target in targets.columns:\n",
    "    print('TARGET ',target)\n",
    "    imp_fts = {}\n",
    "    \n",
    "    #  get all imp coefs for the target\n",
    "    t_100_coefs = get_coefs(t_100,targets[target],5)\n",
    "    g_100_coefs = get_coefs(g_100,targets[target],5)\n",
    "    m_100_coefs = get_coefs(m_100,targets[target],10)\n",
    "    o_100_coefs = get_coefs(train_set_100,targets[target],10)\n",
    "    \n",
    "    imp_fts['o_100_coefs'] = o_100_coefs\n",
    "    imp_fts['t_100_coefs'] = t_100_coefs\n",
    "    imp_fts['g_100_coefs'] = g_100_coefs\n",
    "    imp_fts['m_100_coefs'] = m_100_coefs\n",
    "\n",
    "    # get all imp_dfs and concat them\n",
    "    train_imp_ = train_set_100.iloc[:,o_100_coefs]\n",
    "    t_100_imp_ = t_100.iloc[:,t_100_coefs]\n",
    "    g_100_imp_ = g_100.iloc[:,g_100_coefs]\n",
    "    m_100_imp_ = m_100.iloc[:,m_100_coefs]\n",
    "\n",
    "    print(train_imp_.shape,t_100_imp_.shape,g_100_imp_.shape,m_100_imp_.shape)\n",
    "    X = pd.concat([train_imp_,t_100_imp_,g_100_imp_,m_100_imp_],axis=1)\n",
    "    print(X.shape)\n",
    "\n",
    "    # same goes for test set\n",
    "    test_imp_ = test_set_100.iloc[:,o_100_coefs]\n",
    "    t_100_imp_test = t_100_test.iloc[:,t_100_coefs]\n",
    "    g_100_imp_test = g_100_test.iloc[:,g_100_coefs]\n",
    "    m_100_imp_test = m_100_test.iloc[:,m_100_coefs]\n",
    "\n",
    "    print(test_imp_.shape,t_100_imp_test.shape,g_100_imp_test.shape,m_100_imp_test.shape)\n",
    "    \n",
    "    X_test = pd.concat([test_imp_, t_100_imp_test, g_100_imp_test, m_100_imp_test],axis=1)\n",
    "    print(X_test.shape)\n",
    "    \n",
    "    #  add feature\n",
    "    X['is_sam'] = 0\n",
    "    X.loc[sam_id[:12],'is_sam'] = 1\n",
    "    X_test['is_sam'] = 0\n",
    "    X_test.loc[sam_id[12:],'is_sam'] = 1\n",
    "    \n",
    "    \n",
    "    assert (X.columns == X_test.columns).all()\n",
    "\n",
    "    oof_train = np.zeros((ntrain,))\n",
    "    oof_test = np.zeros((ntest,))\n",
    "    oof_test_skf = np.empty((NFOLDS, ntest))\n",
    "    \n",
    "    Y = targets[target]\n",
    "\n",
    "    cb_clf = CatBoostClassifier(verbose=999,random_seed=RANDOM_SEED,n_estimators=5000)\n",
    "    cv_loss = []\n",
    "    for fold, (train_id, test_id) in enumerate(tqdm(skf.split(X,Y))):\n",
    "\n",
    "        X_train, Y_train = X.iloc[train_id,], Y.iloc[train_id,]\n",
    "        X_val, Y_val = X.iloc[test_id,], Y.iloc[test_id,]\n",
    "        #  ohh man unwanted semi colon in iloc throws an error...\n",
    "        \n",
    "        # train model  and pred on oof folds\n",
    "        cb_clf.fit(X_train.values,Y_train)\n",
    "        y_preds = cb_clf.predict_proba(X_val.values)[:,1]\n",
    "        fold_loss = log_loss(Y_val,y_preds)\n",
    "        print(f'fold Loss {fold}: ',fold_loss)\n",
    "        cv_loss.append(fold_loss)\n",
    "\n",
    "        oof_train[test_id] = y_preds\n",
    "        oof_test_skf[fold,:] = cb_clf.predict_proba(X_test.values)[:,1]\n",
    "        \n",
    "        print(\"---------------------------------------------------------------------------\")\n",
    "        \n",
    "    print('Training Loss:', log_loss(Y,cb_clf.predict_proba(X.values)[:,1]))\n",
    "    \n",
    "    oof_test[:] = oof_test_skf.mean(axis=0)\n",
    "    oof_test_df[target] = oof_test\n",
    "    oof_train_df[target] = oof_train\n",
    "\n",
    "    print(f'Loss for {target}:')\n",
    "    print(np.array(cv_loss).mean(),np.array(cv_loss).std())\n",
    "    agg_loss.append(np.array(cv_loss).mean())\n",
    "    print(\"==================================================================================================\")\n",
    "\n",
    "print('AGG Loss:',np.array(agg_loss))\n",
    "print('AGG Loss mean:',np.array(agg_loss).mean())"
   ]
  },
  {
   "cell_type": "code",
   "execution_count": 29,
   "id": "85b016cb",
   "metadata": {
    "execution": {
     "iopub.execute_input": "2022-04-18T12:22:04.449056Z",
     "iopub.status.busy": "2022-04-18T12:22:04.448200Z",
     "iopub.status.idle": "2022-04-18T12:22:04.451220Z",
     "shell.execute_reply": "2022-04-18T12:22:04.451696Z",
     "shell.execute_reply.started": "2022-04-10T12:42:32.882106Z"
    },
    "papermill": {
     "duration": 0.666407,
     "end_time": "2022-04-18T12:22:04.451855",
     "exception": false,
     "start_time": "2022-04-18T12:22:03.785448",
     "status": "completed"
    },
    "tags": []
   },
   "outputs": [
    {
     "name": "stdout",
     "output_type": "stream",
     "text": [
      "0.13493157515767454\n"
     ]
    }
   ],
   "source": [
    "print(np.array(agg_loss).mean())"
   ]
  },
  {
   "cell_type": "code",
   "execution_count": 30,
   "id": "4c20ebf4",
   "metadata": {
    "execution": {
     "iopub.execute_input": "2022-04-18T12:22:05.755276Z",
     "iopub.status.busy": "2022-04-18T12:22:05.754431Z",
     "iopub.status.idle": "2022-04-18T12:22:05.758066Z",
     "shell.execute_reply": "2022-04-18T12:22:05.757554Z",
     "shell.execute_reply.started": "2022-04-10T12:53:38.204095Z"
    },
    "papermill": {
     "duration": 0.660324,
     "end_time": "2022-04-18T12:22:05.758216",
     "exception": false,
     "start_time": "2022-04-18T12:22:05.097892",
     "status": "completed"
    },
    "tags": []
   },
   "outputs": [],
   "source": [
    "test_preds = oof_test_df.iloc[:293]\n",
    "train_preds = oof_train_df.iloc[766:]"
   ]
  },
  {
   "cell_type": "code",
   "execution_count": 31,
   "id": "838ea19c",
   "metadata": {
    "execution": {
     "iopub.execute_input": "2022-04-18T12:22:07.090768Z",
     "iopub.status.busy": "2022-04-18T12:22:07.089994Z",
     "iopub.status.idle": "2022-04-18T12:22:07.140513Z",
     "shell.execute_reply": "2022-04-18T12:22:07.141043Z",
     "shell.execute_reply.started": "2022-04-10T12:53:39.859435Z"
    },
    "papermill": {
     "duration": 0.739381,
     "end_time": "2022-04-18T12:22:07.141214",
     "exception": false,
     "start_time": "2022-04-18T12:22:06.401833",
     "status": "completed"
    },
    "tags": []
   },
   "outputs": [
    {
     "data": {
      "text/html": [
       "<div>\n",
       "<style scoped>\n",
       "    .dataframe tbody tr th:only-of-type {\n",
       "        vertical-align: middle;\n",
       "    }\n",
       "\n",
       "    .dataframe tbody tr th {\n",
       "        vertical-align: top;\n",
       "    }\n",
       "\n",
       "    .dataframe thead th {\n",
       "        text-align: right;\n",
       "    }\n",
       "</style>\n",
       "<table border=\"1\" class=\"dataframe\">\n",
       "  <thead>\n",
       "    <tr style=\"text-align: right;\">\n",
       "      <th></th>\n",
       "      <th>sample_id</th>\n",
       "      <th>basalt</th>\n",
       "      <th>carbonate</th>\n",
       "      <th>chloride</th>\n",
       "      <th>iron_oxide</th>\n",
       "      <th>oxalate</th>\n",
       "      <th>oxychlorine</th>\n",
       "      <th>phyllosilicate</th>\n",
       "      <th>silicate</th>\n",
       "      <th>sulfate</th>\n",
       "      <th>sulfide</th>\n",
       "    </tr>\n",
       "  </thead>\n",
       "  <tbody>\n",
       "    <tr>\n",
       "      <th>766</th>\n",
       "      <td>NaN</td>\n",
       "      <td>0.003087</td>\n",
       "      <td>0.002623</td>\n",
       "      <td>0.008387</td>\n",
       "      <td>0.006500</td>\n",
       "      <td>0.000106</td>\n",
       "      <td>0.007050</td>\n",
       "      <td>0.007246</td>\n",
       "      <td>0.090297</td>\n",
       "      <td>0.003326</td>\n",
       "      <td>0.000508</td>\n",
       "    </tr>\n",
       "    <tr>\n",
       "      <th>767</th>\n",
       "      <td>NaN</td>\n",
       "      <td>0.038983</td>\n",
       "      <td>0.009572</td>\n",
       "      <td>0.001873</td>\n",
       "      <td>0.016731</td>\n",
       "      <td>0.000037</td>\n",
       "      <td>0.007850</td>\n",
       "      <td>0.012565</td>\n",
       "      <td>0.087384</td>\n",
       "      <td>0.014951</td>\n",
       "      <td>0.001254</td>\n",
       "    </tr>\n",
       "    <tr>\n",
       "      <th>768</th>\n",
       "      <td>NaN</td>\n",
       "      <td>0.873906</td>\n",
       "      <td>0.085162</td>\n",
       "      <td>0.001803</td>\n",
       "      <td>0.032249</td>\n",
       "      <td>0.000226</td>\n",
       "      <td>0.011131</td>\n",
       "      <td>0.839002</td>\n",
       "      <td>0.894410</td>\n",
       "      <td>0.025066</td>\n",
       "      <td>0.000528</td>\n",
       "    </tr>\n",
       "    <tr>\n",
       "      <th>769</th>\n",
       "      <td>NaN</td>\n",
       "      <td>0.011848</td>\n",
       "      <td>0.003262</td>\n",
       "      <td>0.028379</td>\n",
       "      <td>0.022904</td>\n",
       "      <td>0.000049</td>\n",
       "      <td>0.964711</td>\n",
       "      <td>0.012030</td>\n",
       "      <td>0.005945</td>\n",
       "      <td>0.961436</td>\n",
       "      <td>0.000794</td>\n",
       "    </tr>\n",
       "    <tr>\n",
       "      <th>770</th>\n",
       "      <td>NaN</td>\n",
       "      <td>0.007110</td>\n",
       "      <td>0.004781</td>\n",
       "      <td>0.013356</td>\n",
       "      <td>0.731771</td>\n",
       "      <td>0.000057</td>\n",
       "      <td>0.994588</td>\n",
       "      <td>0.922567</td>\n",
       "      <td>0.006387</td>\n",
       "      <td>0.008056</td>\n",
       "      <td>0.000322</td>\n",
       "    </tr>\n",
       "    <tr>\n",
       "      <th>...</th>\n",
       "      <td>...</td>\n",
       "      <td>...</td>\n",
       "      <td>...</td>\n",
       "      <td>...</td>\n",
       "      <td>...</td>\n",
       "      <td>...</td>\n",
       "      <td>...</td>\n",
       "      <td>...</td>\n",
       "      <td>...</td>\n",
       "      <td>...</td>\n",
       "      <td>...</td>\n",
       "    </tr>\n",
       "    <tr>\n",
       "      <th>1054</th>\n",
       "      <td>NaN</td>\n",
       "      <td>0.006871</td>\n",
       "      <td>0.002659</td>\n",
       "      <td>0.030218</td>\n",
       "      <td>0.008685</td>\n",
       "      <td>0.000046</td>\n",
       "      <td>0.008368</td>\n",
       "      <td>0.018227</td>\n",
       "      <td>0.066457</td>\n",
       "      <td>0.013813</td>\n",
       "      <td>0.000289</td>\n",
       "    </tr>\n",
       "    <tr>\n",
       "      <th>1055</th>\n",
       "      <td>NaN</td>\n",
       "      <td>0.007367</td>\n",
       "      <td>0.011137</td>\n",
       "      <td>0.014074</td>\n",
       "      <td>0.049163</td>\n",
       "      <td>0.000195</td>\n",
       "      <td>0.014185</td>\n",
       "      <td>0.020265</td>\n",
       "      <td>0.828172</td>\n",
       "      <td>0.002057</td>\n",
       "      <td>0.000769</td>\n",
       "    </tr>\n",
       "    <tr>\n",
       "      <th>1056</th>\n",
       "      <td>NaN</td>\n",
       "      <td>0.004260</td>\n",
       "      <td>0.008478</td>\n",
       "      <td>0.002650</td>\n",
       "      <td>0.010917</td>\n",
       "      <td>0.998040</td>\n",
       "      <td>0.002441</td>\n",
       "      <td>0.005689</td>\n",
       "      <td>0.005216</td>\n",
       "      <td>0.003766</td>\n",
       "      <td>0.000438</td>\n",
       "    </tr>\n",
       "    <tr>\n",
       "      <th>1057</th>\n",
       "      <td>NaN</td>\n",
       "      <td>0.006734</td>\n",
       "      <td>0.936341</td>\n",
       "      <td>0.007942</td>\n",
       "      <td>0.060972</td>\n",
       "      <td>0.000102</td>\n",
       "      <td>0.007761</td>\n",
       "      <td>0.041495</td>\n",
       "      <td>0.010255</td>\n",
       "      <td>0.004341</td>\n",
       "      <td>0.000585</td>\n",
       "    </tr>\n",
       "    <tr>\n",
       "      <th>1058</th>\n",
       "      <td>NaN</td>\n",
       "      <td>0.008987</td>\n",
       "      <td>0.006112</td>\n",
       "      <td>0.007344</td>\n",
       "      <td>0.027432</td>\n",
       "      <td>0.000045</td>\n",
       "      <td>0.006132</td>\n",
       "      <td>0.966903</td>\n",
       "      <td>0.010474</td>\n",
       "      <td>0.002128</td>\n",
       "      <td>0.000661</td>\n",
       "    </tr>\n",
       "  </tbody>\n",
       "</table>\n",
       "<p>293 rows × 11 columns</p>\n",
       "</div>"
      ],
      "text/plain": [
       "     sample_id    basalt  carbonate  chloride  iron_oxide   oxalate  \\\n",
       "766        NaN  0.003087   0.002623  0.008387    0.006500  0.000106   \n",
       "767        NaN  0.038983   0.009572  0.001873    0.016731  0.000037   \n",
       "768        NaN  0.873906   0.085162  0.001803    0.032249  0.000226   \n",
       "769        NaN  0.011848   0.003262  0.028379    0.022904  0.000049   \n",
       "770        NaN  0.007110   0.004781  0.013356    0.731771  0.000057   \n",
       "...        ...       ...        ...       ...         ...       ...   \n",
       "1054       NaN  0.006871   0.002659  0.030218    0.008685  0.000046   \n",
       "1055       NaN  0.007367   0.011137  0.014074    0.049163  0.000195   \n",
       "1056       NaN  0.004260   0.008478  0.002650    0.010917  0.998040   \n",
       "1057       NaN  0.006734   0.936341  0.007942    0.060972  0.000102   \n",
       "1058       NaN  0.008987   0.006112  0.007344    0.027432  0.000045   \n",
       "\n",
       "      oxychlorine  phyllosilicate  silicate   sulfate   sulfide  \n",
       "766      0.007050        0.007246  0.090297  0.003326  0.000508  \n",
       "767      0.007850        0.012565  0.087384  0.014951  0.001254  \n",
       "768      0.011131        0.839002  0.894410  0.025066  0.000528  \n",
       "769      0.964711        0.012030  0.005945  0.961436  0.000794  \n",
       "770      0.994588        0.922567  0.006387  0.008056  0.000322  \n",
       "...           ...             ...       ...       ...       ...  \n",
       "1054     0.008368        0.018227  0.066457  0.013813  0.000289  \n",
       "1055     0.014185        0.020265  0.828172  0.002057  0.000769  \n",
       "1056     0.002441        0.005689  0.005216  0.003766  0.000438  \n",
       "1057     0.007761        0.041495  0.010255  0.004341  0.000585  \n",
       "1058     0.006132        0.966903  0.010474  0.002128  0.000661  \n",
       "\n",
       "[293 rows x 11 columns]"
      ]
     },
     "metadata": {},
     "output_type": "display_data"
    },
    {
     "data": {
      "text/html": [
       "<div>\n",
       "<style scoped>\n",
       "    .dataframe tbody tr th:only-of-type {\n",
       "        vertical-align: middle;\n",
       "    }\n",
       "\n",
       "    .dataframe tbody tr th {\n",
       "        vertical-align: top;\n",
       "    }\n",
       "\n",
       "    .dataframe thead th {\n",
       "        text-align: right;\n",
       "    }\n",
       "</style>\n",
       "<table border=\"1\" class=\"dataframe\">\n",
       "  <thead>\n",
       "    <tr style=\"text-align: right;\">\n",
       "      <th></th>\n",
       "      <th>sample_id</th>\n",
       "      <th>basalt</th>\n",
       "      <th>carbonate</th>\n",
       "      <th>chloride</th>\n",
       "      <th>iron_oxide</th>\n",
       "      <th>oxalate</th>\n",
       "      <th>oxychlorine</th>\n",
       "      <th>phyllosilicate</th>\n",
       "      <th>silicate</th>\n",
       "      <th>sulfate</th>\n",
       "      <th>sulfide</th>\n",
       "    </tr>\n",
       "  </thead>\n",
       "  <tbody>\n",
       "    <tr>\n",
       "      <th>766</th>\n",
       "      <td>NaN</td>\n",
       "      <td>0.003265</td>\n",
       "      <td>0.003013</td>\n",
       "      <td>0.014348</td>\n",
       "      <td>0.006007</td>\n",
       "      <td>0.000125</td>\n",
       "      <td>0.008846</td>\n",
       "      <td>0.009950</td>\n",
       "      <td>0.253597</td>\n",
       "      <td>0.003806</td>\n",
       "      <td>0.000380</td>\n",
       "    </tr>\n",
       "    <tr>\n",
       "      <th>767</th>\n",
       "      <td>NaN</td>\n",
       "      <td>0.066180</td>\n",
       "      <td>0.004321</td>\n",
       "      <td>0.001953</td>\n",
       "      <td>0.021002</td>\n",
       "      <td>0.000038</td>\n",
       "      <td>0.010305</td>\n",
       "      <td>0.024050</td>\n",
       "      <td>0.262126</td>\n",
       "      <td>0.020939</td>\n",
       "      <td>0.002674</td>\n",
       "    </tr>\n",
       "    <tr>\n",
       "      <th>768</th>\n",
       "      <td>NaN</td>\n",
       "      <td>0.429562</td>\n",
       "      <td>0.687648</td>\n",
       "      <td>0.002164</td>\n",
       "      <td>0.049875</td>\n",
       "      <td>0.000285</td>\n",
       "      <td>0.010401</td>\n",
       "      <td>0.489729</td>\n",
       "      <td>0.696324</td>\n",
       "      <td>0.074093</td>\n",
       "      <td>0.000445</td>\n",
       "    </tr>\n",
       "    <tr>\n",
       "      <th>769</th>\n",
       "      <td>NaN</td>\n",
       "      <td>0.018502</td>\n",
       "      <td>0.003060</td>\n",
       "      <td>0.068667</td>\n",
       "      <td>0.030043</td>\n",
       "      <td>0.000050</td>\n",
       "      <td>0.893590</td>\n",
       "      <td>0.013359</td>\n",
       "      <td>0.007411</td>\n",
       "      <td>0.904344</td>\n",
       "      <td>0.000805</td>\n",
       "    </tr>\n",
       "    <tr>\n",
       "      <th>770</th>\n",
       "      <td>NaN</td>\n",
       "      <td>0.008069</td>\n",
       "      <td>0.006281</td>\n",
       "      <td>0.011712</td>\n",
       "      <td>0.150796</td>\n",
       "      <td>0.000064</td>\n",
       "      <td>0.994470</td>\n",
       "      <td>0.818067</td>\n",
       "      <td>0.006612</td>\n",
       "      <td>0.010538</td>\n",
       "      <td>0.000296</td>\n",
       "    </tr>\n",
       "    <tr>\n",
       "      <th>...</th>\n",
       "      <td>...</td>\n",
       "      <td>...</td>\n",
       "      <td>...</td>\n",
       "      <td>...</td>\n",
       "      <td>...</td>\n",
       "      <td>...</td>\n",
       "      <td>...</td>\n",
       "      <td>...</td>\n",
       "      <td>...</td>\n",
       "      <td>...</td>\n",
       "      <td>...</td>\n",
       "    </tr>\n",
       "    <tr>\n",
       "      <th>1054</th>\n",
       "      <td>NaN</td>\n",
       "      <td>0.008966</td>\n",
       "      <td>0.001512</td>\n",
       "      <td>0.032048</td>\n",
       "      <td>0.011596</td>\n",
       "      <td>0.000051</td>\n",
       "      <td>0.009910</td>\n",
       "      <td>0.031019</td>\n",
       "      <td>0.145185</td>\n",
       "      <td>0.024195</td>\n",
       "      <td>0.000317</td>\n",
       "    </tr>\n",
       "    <tr>\n",
       "      <th>1055</th>\n",
       "      <td>NaN</td>\n",
       "      <td>0.010221</td>\n",
       "      <td>0.011941</td>\n",
       "      <td>0.015794</td>\n",
       "      <td>0.063976</td>\n",
       "      <td>0.000261</td>\n",
       "      <td>0.020876</td>\n",
       "      <td>0.037727</td>\n",
       "      <td>0.368779</td>\n",
       "      <td>0.002424</td>\n",
       "      <td>0.000679</td>\n",
       "    </tr>\n",
       "    <tr>\n",
       "      <th>1056</th>\n",
       "      <td>NaN</td>\n",
       "      <td>0.004745</td>\n",
       "      <td>0.013683</td>\n",
       "      <td>0.002780</td>\n",
       "      <td>0.011580</td>\n",
       "      <td>0.997237</td>\n",
       "      <td>0.002587</td>\n",
       "      <td>0.005992</td>\n",
       "      <td>0.005848</td>\n",
       "      <td>0.004506</td>\n",
       "      <td>0.000473</td>\n",
       "    </tr>\n",
       "    <tr>\n",
       "      <th>1057</th>\n",
       "      <td>NaN</td>\n",
       "      <td>0.008121</td>\n",
       "      <td>0.835721</td>\n",
       "      <td>0.008161</td>\n",
       "      <td>0.117901</td>\n",
       "      <td>0.000137</td>\n",
       "      <td>0.012380</td>\n",
       "      <td>0.078760</td>\n",
       "      <td>0.011798</td>\n",
       "      <td>0.006567</td>\n",
       "      <td>0.000663</td>\n",
       "    </tr>\n",
       "    <tr>\n",
       "      <th>1058</th>\n",
       "      <td>NaN</td>\n",
       "      <td>0.010798</td>\n",
       "      <td>0.005374</td>\n",
       "      <td>0.008129</td>\n",
       "      <td>0.027783</td>\n",
       "      <td>0.000042</td>\n",
       "      <td>0.007159</td>\n",
       "      <td>0.956121</td>\n",
       "      <td>0.013031</td>\n",
       "      <td>0.002843</td>\n",
       "      <td>0.000874</td>\n",
       "    </tr>\n",
       "  </tbody>\n",
       "</table>\n",
       "<p>293 rows × 11 columns</p>\n",
       "</div>"
      ],
      "text/plain": [
       "     sample_id    basalt  carbonate  chloride  iron_oxide   oxalate  \\\n",
       "766        NaN  0.003265   0.003013  0.014348    0.006007  0.000125   \n",
       "767        NaN  0.066180   0.004321  0.001953    0.021002  0.000038   \n",
       "768        NaN  0.429562   0.687648  0.002164    0.049875  0.000285   \n",
       "769        NaN  0.018502   0.003060  0.068667    0.030043  0.000050   \n",
       "770        NaN  0.008069   0.006281  0.011712    0.150796  0.000064   \n",
       "...        ...       ...        ...       ...         ...       ...   \n",
       "1054       NaN  0.008966   0.001512  0.032048    0.011596  0.000051   \n",
       "1055       NaN  0.010221   0.011941  0.015794    0.063976  0.000261   \n",
       "1056       NaN  0.004745   0.013683  0.002780    0.011580  0.997237   \n",
       "1057       NaN  0.008121   0.835721  0.008161    0.117901  0.000137   \n",
       "1058       NaN  0.010798   0.005374  0.008129    0.027783  0.000042   \n",
       "\n",
       "      oxychlorine  phyllosilicate  silicate   sulfate   sulfide  \n",
       "766      0.008846        0.009950  0.253597  0.003806  0.000380  \n",
       "767      0.010305        0.024050  0.262126  0.020939  0.002674  \n",
       "768      0.010401        0.489729  0.696324  0.074093  0.000445  \n",
       "769      0.893590        0.013359  0.007411  0.904344  0.000805  \n",
       "770      0.994470        0.818067  0.006612  0.010538  0.000296  \n",
       "...           ...             ...       ...       ...       ...  \n",
       "1054     0.009910        0.031019  0.145185  0.024195  0.000317  \n",
       "1055     0.020876        0.037727  0.368779  0.002424  0.000679  \n",
       "1056     0.002587        0.005992  0.005848  0.004506  0.000473  \n",
       "1057     0.012380        0.078760  0.011798  0.006567  0.000663  \n",
       "1058     0.007159        0.956121  0.013031  0.002843  0.000874  \n",
       "\n",
       "[293 rows x 11 columns]"
      ]
     },
     "metadata": {},
     "output_type": "display_data"
    }
   ],
   "source": [
    "display(test_preds)\n",
    "display(train_preds)"
   ]
  },
  {
   "cell_type": "code",
   "execution_count": 32,
   "id": "73210a3f",
   "metadata": {
    "execution": {
     "iopub.execute_input": "2022-04-18T12:22:08.451228Z",
     "iopub.status.busy": "2022-04-18T12:22:08.450504Z",
     "iopub.status.idle": "2022-04-18T12:22:08.476187Z",
     "shell.execute_reply": "2022-04-18T12:22:08.475501Z",
     "shell.execute_reply.started": "2022-04-10T12:54:19.41027Z"
    },
    "papermill": {
     "duration": 0.687027,
     "end_time": "2022-04-18T12:22:08.476373",
     "exception": false,
     "start_time": "2022-04-18T12:22:07.789346",
     "status": "completed"
    },
    "tags": []
   },
   "outputs": [
    {
     "name": "stdout",
     "output_type": "stream",
     "text": [
      "basalt 0.14449489986316724\n",
      "carbonate 0.08418013184828872\n",
      "chloride 0.1667769269696335\n",
      "iron_oxide 0.24588512671700838\n",
      "oxalate 0.0008297396081711584\n",
      "oxychlorine 0.13437332481189435\n",
      "phyllosilicate 0.17696919781158027\n",
      "silicate 0.15742172400152138\n",
      "sulfate 0.18366673539758843\n",
      "sulfide 0.05790219780984483\n",
      "0.13525000048386984\n"
     ]
    }
   ],
   "source": [
    "agg_loss_train = []\n",
    "for tar in targets.columns:\n",
    "    loss = log_loss(val_labels[tar],train_preds[tar])\n",
    "    print(tar, loss)\n",
    "    agg_loss_train.append(loss)\n",
    "print(np.array(agg_loss_train).mean())"
   ]
  },
  {
   "cell_type": "code",
   "execution_count": 33,
   "id": "e50253d7",
   "metadata": {
    "execution": {
     "iopub.execute_input": "2022-04-18T12:22:09.789879Z",
     "iopub.status.busy": "2022-04-18T12:22:09.789244Z",
     "iopub.status.idle": "2022-04-18T12:22:09.808788Z",
     "shell.execute_reply": "2022-04-18T12:22:09.809373Z",
     "shell.execute_reply.started": "2022-04-10T12:55:27.164665Z"
    },
    "papermill": {
     "duration": 0.678073,
     "end_time": "2022-04-18T12:22:09.809556",
     "exception": false,
     "start_time": "2022-04-18T12:22:09.131483",
     "status": "completed"
    },
    "tags": []
   },
   "outputs": [
    {
     "name": "stdout",
     "output_type": "stream",
     "text": [
      "basalt 0.027110592816784594\n",
      "carbonate 0.015878631081548456\n",
      "chloride 0.029103966080426136\n",
      "iron_oxide 0.05811756211872979\n",
      "oxalate 0.000444174440591192\n",
      "oxychlorine 0.026348857501253188\n",
      "phyllosilicate 0.04256489411299977\n",
      "silicate 0.037714939791791996\n",
      "sulfate 0.025998058857335582\n",
      "sulfide 0.004889064357077933\n",
      "0.02681707411585386\n"
     ]
    }
   ],
   "source": [
    "agg_loss_test = []\n",
    "for tar in targets.columns:\n",
    "    loss = log_loss(val_labels[tar],test_preds[tar])\n",
    "    print(tar, loss)\n",
    "    agg_loss_test.append(loss)\n",
    "print(np.array(agg_loss_test).mean())"
   ]
  },
  {
   "cell_type": "code",
   "execution_count": 34,
   "id": "12d25dae",
   "metadata": {
    "execution": {
     "iopub.execute_input": "2022-04-18T12:22:11.116128Z",
     "iopub.status.busy": "2022-04-18T12:22:11.115110Z",
     "iopub.status.idle": "2022-04-18T12:22:11.122774Z",
     "shell.execute_reply": "2022-04-18T12:22:11.123287Z",
     "shell.execute_reply.started": "2022-04-10T12:55:36.984829Z"
    },
    "papermill": {
     "duration": 0.663079,
     "end_time": "2022-04-18T12:22:11.123447",
     "exception": false,
     "start_time": "2022-04-18T12:22:10.460368",
     "status": "completed"
    },
    "tags": []
   },
   "outputs": [],
   "source": [
    "oof_test_df.sample_id = metadata[metadata.split != 'train'].sample_id\n",
    "oof_train_df.sample_id = metadata[metadata.split != 'test'].sample_id"
   ]
  },
  {
   "cell_type": "code",
   "execution_count": 35,
   "id": "98735fc6",
   "metadata": {
    "execution": {
     "iopub.execute_input": "2022-04-18T12:22:12.431723Z",
     "iopub.status.busy": "2022-04-18T12:22:12.430756Z",
     "iopub.status.idle": "2022-04-18T12:22:12.486317Z",
     "shell.execute_reply": "2022-04-18T12:22:12.485593Z",
     "shell.execute_reply.started": "2022-04-10T12:55:53.300665Z"
    },
    "papermill": {
     "duration": 0.710581,
     "end_time": "2022-04-18T12:22:12.486524",
     "exception": false,
     "start_time": "2022-04-18T12:22:11.775943",
     "status": "completed"
    },
    "tags": []
   },
   "outputs": [],
   "source": [
    "oof_train_df.to_csv(oof_train_path, index=False)\n",
    "oof_test_df.to_csv(oof_test_path, index=False)"
   ]
  },
  {
   "cell_type": "code",
   "execution_count": null,
   "id": "93ab177b",
   "metadata": {
    "papermill": {
     "duration": 0.65078,
     "end_time": "2022-04-18T12:22:13.788110",
     "exception": false,
     "start_time": "2022-04-18T12:22:13.137330",
     "status": "completed"
    },
    "tags": []
   },
   "outputs": [],
   "source": []
  }
 ],
 "metadata": {
  "kernelspec": {
   "display_name": "Python 3",
   "language": "python",
   "name": "python3"
  },
  "language_info": {
   "codemirror_mode": {
    "name": "ipython",
    "version": 3
   },
   "file_extension": ".py",
   "mimetype": "text/x-python",
   "name": "python",
   "nbconvert_exporter": "python",
   "pygments_lexer": "ipython3",
   "version": "3.7.12"
  },
  "papermill": {
   "default_parameters": {},
   "duration": 34426.687227,
   "end_time": "2022-04-18T12:22:16.129247",
   "environment_variables": {},
   "exception": null,
   "input_path": "__notebook__.ipynb",
   "output_path": "__notebook__.ipynb",
   "parameters": {},
   "start_time": "2022-04-18T02:48:29.442020",
   "version": "2.3.3"
  }
 },
 "nbformat": 4,
 "nbformat_minor": 5
}
